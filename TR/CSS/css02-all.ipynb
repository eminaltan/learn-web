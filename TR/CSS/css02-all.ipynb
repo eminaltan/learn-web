{
 "cells": [
  {
   "cell_type": "markdown",
   "metadata": {},
   "source": [
    "## CSS `all` Property\n",
    "\n",
    "Merhaba arkadaşlar bu kısa yazıda CSS3 specification'larından olan `all` property'sinine değineceğim.\n",
    "\n",
    "Bazen istediğimiz HTML elementlerinin tüm veya belirli property değerlerini başlangıç veya **_user agent_**[^1] gibi bir takım değerlere geri döndürmek isteyebiliriz. Bu durumda `all` property'si imdadımıza yetişir.\n",
    "\n",
    "⚠️ `all` property'sinin kullanmadan önce CSS keyword'lerini anlamakta fayda olacaktır. Çünkü `all` property'sinde keyword'ler kullanılır.\n",
    "\n",
    "Kısaca değinirsek bunlar:\n",
    "\n",
    "1. `initial`: Bir property değerini **_CSS specification_**'da[^2] başlangıç değerine geri döndürür. Eğer property'nin CSS specification tablosunda değeri yoksa property değeri user agent style sheet değerine döndürülür. Bu durumda `initial` keyword `revert` görevi görür.\n",
    "\n",
    "2. `revert`: Bir property değerinin user agent style sheet içerisindeki tanımlanmış değere geri döndürür.\n",
    "\n",
    "3. `inherit`: **_Inheritable property'ler_**[^3] için bir property değerinin parent elementten **zorla inherit** edilmesi sağlanır.\n",
    "\n",
    "4. `unset`: Duruma göre iki tür sonuç üretir. Bir property'nin hem parent hem de child HTML elementinde tanımlandığını ve child elementte `unset` keyword'u kullanıldığını düşünelim. Bu durumda `unset` keyword'u `inherit` keyword'u gibi çalışır ve child element, parent elementten ilgili property değerini miras alır. Şayet parent elementte property tanımlı değilse bu durumda child elementteki `unset` keyword `initial` gibi çalışır.\n",
    "\n",
    "💡 Peki `all` keyword'unu nerelerde kullanırız? Bazen yazdığımız CSS stilleri gerek cascade gerek inheritance veya specificity sebebi ile karmaşık bir hale gelebilir. Bir property değerinin nereden miras alındığını bulmak veya debug işlemi yapmak zor hale gelebilir bu gibi durumlarda `all` property'sinden faydalanırız ve ilgili property değerini ilk baş başlangıç değerine sonrada istediğimiz değere set edip kullanabiliriz.\n",
    "\n",
    "Buna ek olarak web sayfasını cross browser hale getirmek için user agent stillerini reset'lemek veya normalize etmek gerekir. Bir çok yöntem olmakla birlikte `all` property'si bu işlemleri daha kolay hale getirmek için kullanılabilir.\n",
    "\n",
    "⚠️ `all` property'si `unicode-bidi` ve `direction` property'leri için kullanılamaz.\n"
   ]
  },
  {
   "cell_type": "markdown",
   "metadata": {},
   "source": [
    "`all` property karakteristik özelliklerini incelersek:\n",
    "\n",
    "| **Özellik**             | **Açıklama**                                                |\n",
    "| ----------------------- | ----------------------------------------------------------- |\n",
    "| Varsayılan değer:       | Belirsiz.                                                   |\n",
    "| Inherit özeiiği:        | Hayır, parent elementten property değerleri miras alınamaz. |\n",
    "| CSS animasyon özelliği: | Hayır, CSS animasyon property'lerini desteklemez.           |\n",
    "| CSS versiyonu:          | CSS3                                                        |\n",
    "| JavaScript syntax:      | **_object.style.all_**                                      |\n"
   ]
  },
  {
   "cell_type": "markdown",
   "metadata": {},
   "source": [
    "**Örnek**\n",
    "\n",
    "```css\n",
    "div {\n",
    "  color: blue;\n",
    "  background-color: orange;\n",
    "  padding: 30px;\n",
    "  font-size: 48px;\n",
    "  font-family: sans-erif;\n",
    "\n",
    "  /* all property değerini silin ve değişiklikleri gözlemleyin. */\n",
    "  all: initial;\n",
    "}\n",
    "```\n",
    "\n",
    "```html\n",
    "<div>div elementi</div>\n",
    "```\n",
    "\n",
    "Umarım faydası olmuştur.\n"
   ]
  },
  {
   "cell_type": "markdown",
   "metadata": {},
   "source": [
    "[^1]: Her browser CSS yorumlamak için varsayılan olarak kullandığı bir stil dosyası vardır buna user agent style sheet adı verilir.\n",
    "\n",
    "[^2]: CSS official dokümanını ifade eder. Bu doküman property'ler hakkında bilgileri barındırır.\n",
    "\n",
    "[^3]: CSS'de bazı property değerleri inherit edilemezler. Hangi property'nin inherit edilip/edilemeyeceğine dair listeye https://www.codecademy.com/resources/docs/css/inheritance adresinden ulaşabilirsiniz."
   ]
  }
 ],
 "metadata": {
  "language_info": {
   "name": "python"
  }
 },
 "nbformat": 4,
 "nbformat_minor": 2
}
