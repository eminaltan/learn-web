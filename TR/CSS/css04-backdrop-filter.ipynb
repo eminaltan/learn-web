{
 "cells": [
  {
   "cell_type": "markdown",
   "metadata": {},
   "source": [
    "## CSS `backdrop-filter` property\n",
    "\n",
    "Merhaba arkadaşlar bazen sayfamızda bir takım içerikleri öne plana çıkartarak ziyaretçinin ilgisini istediğimiz bölümlere yönlendirmek isteriz. Dikkatinizi çektiyse özellikle e-ticaret sitelerinde sıkça yapılır ve böylece potansiyel müşteri kazanılmak istenir.\n",
    "\n",
    "Bir sayfada içerikleri ön plana çıkarmanın değişik yöntemleri vardır. Mesela kontrasttan, metin özellikli içeriklerde tipografi farklılıklardan veya animasyon unsurlarından faydalanılabilir.\n",
    "\n",
    "Bugün başka bir yöntemden daha bahsedeceğim Yazıda CSS3 specification'larından olan `backdrop-filter` property'sinine değineceğim.\n",
    "\n",
    "Bir element arka planI (rengi veya imajı vs.) varsa ve arka plana sahip başka bir element üzerine yerleştirilmişse arka plan maniple edilerek elementin içeriği ön plana çıkartılabilir.\n",
    "\n",
    "Daha iyi anlamak için aşağıdaki imaja bakalım.\n",
    "\n",
    "![graphic-content](https://i.imgur.com/7yRfBne.png, \"backdrop-filter örneği\")\n",
    "\n",
    "Mesele örnekte arka plan flu hale getirilmiş. Tahmin edeceğiniz üzere özellikle bir **_header_** componenti içerisinde bulunan buton özellikli elementlerde kullanıcı ile etkileşime geçmekte ziyadesiyle bu yöntemden faydalanılır. Yine örnekte \"Show Me\" butonu tıklandığında blur efekti kaldırılacak ve içerik görülecektir.\n",
    "\n",
    "**💡 Aynı işlemi `filter` property'si ile de gerçekleştirebiliriz. Benzer işlemi yapsalar da birbirlerinden ayrılırlar. Bu konuya değineceğim.**\n",
    "\n",
    "Temelde `backdrop-filter` property CSS metotlarını kullanır:\n",
    "\n",
    "1. blur(): Elementin arka planı flu hale gelir.\n",
    "\n",
    "2. brightness(): Elementin arka planının brightness seviyesini ayarlayabiliriz.\n",
    "\n",
    "3. contrast(): Elementin arka planının contrast seviyesini ayarlayabiliriz.\n",
    "\n",
    "4. drop-shadow(): Elementin arka planına shadow efekti verebiliriz.\n",
    "\n",
    "5. grayscale(): Elementin arka planı gray scale tonda oluşturulur.\n",
    "\n",
    "6. hue-rotate(): Elementin arka plan rengini renk tekerine göre döndürebiliriz. (Çarkı felek gibi düşünün.)\n",
    "\n",
    "7. invert(): Elementin arka plan rengi ters çevrilir.\n",
    "\n",
    "8. opacity(): Elementin arka planının opacity seviyesini ayarlayabiliriz.\n",
    "\n",
    "9. sepia(): Elementin arka planına sepia özelliği ekleyebiliriz.\n",
    "\n",
    "10. saturate(): Elementin arka planına saturasyon özelliği ekleyebiliriz.\n",
    "\n",
    "**➖ `backdrop-filter` ile `filter` Property Arasındaki Fark**\n",
    "\n",
    "`backdrop-filter` property **elementin arka planına** uygulanırken, `filter` property **elementin içeriğine** uygulanır. Bu sebeple `filter` property genelde `<img>` özellikli HTML elementlerinde kullanılır.\n",
    "\n",
    "Daha iyi anlamak için örneğe bakalım.\n",
    "\n",
    "![backdrop-filter-vs-filter-property](https://i.stack.imgur.com/UkZqR.png, \"backdrop-filter ile filter property arasındaki fark\")\n",
    "\n",
    "Sağ taraftaki imaja `filter` property'si uygulanmışken, sol taraftaki imaja `backdrop-filter` property'si uygulanmıştır.\n",
    "\n"
   ]
  },
  {
   "cell_type": "markdown",
   "metadata": {},
   "source": [
    "`backdrop-filter` property karakteristik özelliklerini incelersek:\n",
    "\n",
    "| **Özellik**             | **Açıklama**                                                |\n",
    "|-------------------------|-------------------------------------------------------------|\n",
    "| Varsayılan değer:       | none                                                        |\n",
    "| Inherit özeiiği:        | Hayır, parent elementten property değerleri miras alınamaz. |\n",
    "| CSS animasyon özelliği: | Hayır, CSS animasyon property'lerini desteklemez.           |\n",
    "| CSS versiyonu:          | CSS3                                                        |\n",
    "| JavaScript syntax:      | **_object.style.backdropFilter=\"grayscale(100%)\"_**         |"
   ]
  },
  {
   "cell_type": "markdown",
   "metadata": {},
   "source": [
    "🖱️ Örnek çalışmaya [linke](https://codepen.io/eminaltan/pen/XWOpbeR) tıklayarak ulaşabilirsiniz arkadaşlar."
   ]
  },
  {
   "cell_type": "markdown",
   "metadata": {},
   "source": [
    "Umarım faydası olmuştur.\n"
   ]
  }
 ],
 "metadata": {
  "kernelspec": {
   "display_name": "Python 3",
   "language": "python",
   "name": "python3"
  },
  "language_info": {
   "codemirror_mode": {
    "name": "ipython",
    "version": 3
   },
   "file_extension": ".py",
   "mimetype": "text/x-python",
   "name": "python",
   "nbconvert_exporter": "python",
   "pygments_lexer": "ipython3",
   "version": "3.10.12"
  }
 },
 "nbformat": 4,
 "nbformat_minor": 2
}
