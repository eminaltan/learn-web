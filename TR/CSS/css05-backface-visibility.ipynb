{
 "cells": [
  {
   "cell_type": "markdown",
   "metadata": {},
   "source": [
    "## CSS `backface-visibility` Property\n",
    "\n",
    "Merhaba arkadaşlar bugün CSS3 property'lerinden olan `backface-visibility` property'sine değineceğim.\n",
    "\n",
    "`backface-visibility` property elementin arka tarafı döndürüldüğü sırada elementin arka kısmının ziyaretçi tarafından görünüp/görünmeyeceğini belirlemek için kullanılan bir \n",
    "property'dir.  Bu nedenle `backface-visibility` genellikle 2D veya 3D CSS veya JavaScript animasyonlarında kullanılır.\n",
    "\n",
    "**⚠️ Property'nin varsayılan değeri `visible` olması sebebi ile CSS veya JavaScript ile oluşturduğumuz 2D/3D animasyonlarında elementin arka tarafı görülecektir. Elementin arka kısmı, ön kısmında bulunan içeriğin aynalaması  şeklinde ile oluşturulur.**\n",
    "\n",
    "Majör tarayıcılar 2022 yılının 1.çeyreğinden itibaren `backface-visibility` property'i desteklemektedirler."
   ]
  },
  {
   "cell_type": "markdown",
   "metadata": {},
   "source": [
    "`backface-visibility` property karakteristik özelliklerini incelersek:\n",
    "\n",
    "| **Özellik**             | **Açıklama**                                                |\n",
    "| ----------------------- | ----------------------------------------------------------- |\n",
    "| Varsayılan değer:       | visible                                                     |\n",
    "| Inherit özeiiği:        | Hayır, parent elementten property değerleri miras alınamaz. |\n",
    "| CSS animasyon özelliği: | Hayır, CSS animasyon property'lerini desteklemez.           |\n",
    "| CSS versiyonu:          | CSS3                                                        |\n",
    "| JavaScript syntax:      | **_object.style.backfaceVisibility=\"hidden\"_**              |\n"
   ]
  },
  {
   "cell_type": "markdown",
   "metadata": {},
   "source": [
    "🖱️ Örnek çalışmaya [linke](https://codepen.io/eminaltan/pen/yLZPpVN) tıklayarak ulaşabilirsiniz arkadaşlar.\n"
   ]
  },
  {
   "cell_type": "markdown",
   "metadata": {},
   "source": [
    "Umarım faydası olmuştur.\n"
   ]
  }
 ],
 "metadata": {
  "kernelspec": {
   "display_name": "Python 3",
   "language": "python",
   "name": "python3"
  },
  "language_info": {
   "codemirror_mode": {
    "name": "ipython",
    "version": 3
   },
   "file_extension": ".py",
   "mimetype": "text/x-python",
   "name": "python",
   "nbconvert_exporter": "python",
   "pygments_lexer": "ipython3",
   "version": "3.10.12"
  }
 },
 "nbformat": 4,
 "nbformat_minor": 2
}
