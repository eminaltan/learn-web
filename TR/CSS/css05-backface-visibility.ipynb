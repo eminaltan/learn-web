{
 "cells": [
  {
   "cell_type": "markdown",
   "metadata": {},
   "source": [
    "## CSS `backface-visibility` Property\n",
    "\n",
    "Merhaba arkadaşlar bugün CSS3 property'lerinden olan `backface-visibility` property'sine değineceğim `backface-visibility` property'nin genellikle 2D veya 3D CSS veya JavaScript animasyonlarında kullanılacağını düşünüyorum. \n",
    "\n",
    "`backface-visibility` property'si elementin arka tarafı döndürüldüğü sırada elementin arka kısmının ziyaretçi tarafından görünüp/görünmeyeceğini belirlemek için kullanılan bir property'dir.\n",
    "\n",
    "**⚠️ Property'nin varsayılan değeri `visible` olması sebebi ile CSS veya JavaScript ile oluşturduğumuz 2D/3D animasyonlarında elementin arka tarafı görülecektir. Elementin arka kısmı aynalama yöntemi ile oluşturulur.**\n",
    "\n",
    "\n",
    "\n",
    "```\n",
    "\n",
    "**➖ `backdrop-filter` ile `filter` Property Arasındaki Fark**\n",
    "\n",
    "`backdrop-filter` property **elementin arka planına** uygulanırken, `filter` property **elementin içeriğine** uygulanır. Bu sebeple `filter` property genelde `<img>` özellikli HTML elementlerinde kullanılır.\n",
    "\n",
    "Daha iyi anlamak için örneğe bakalım.\n",
    "\n",
    "![backdrop-filter-vs-filter-property](https://i.stack.imgur.com/UkZqR.png, \"backdrop-filter ile filter property arasındaki fark\")\n",
    "\n",
    "Sol taraftaki imaja `filter` property'si uygulanmışken, sağ taraftaki imaja `backdrop-filter` property'si uygulanmıştır.\n",
    "\n",
    "`backdrop-filter` property majör tarayıcılarda 2022 yılının 3. çeyreğinden itibaren tam anlamıyla desteklenmesine rağmen **Chrome ve Firefox tarayıcılarında bir takım bug'lara neden olduğu rapor edilmiştir.**\n"
   ]
  },
  {
   "cell_type": "markdown",
   "metadata": {},
   "source": [
    "`backdrop-filter` property karakteristik özelliklerini incelersek:\n",
    "\n",
    "| **Özellik**             | **Açıklama**                                                |\n",
    "| ----------------------- | ----------------------------------------------------------- |\n",
    "| Varsayılan değer:       | none                                                        |\n",
    "| Inherit özeiiği:        | Hayır, parent elementten property değerleri miras alınamaz. |\n",
    "| CSS animasyon özelliği: | Hayır, CSS animasyon property'lerini desteklemez.           |\n",
    "| CSS versiyonu:          | CSS3                                                        |\n",
    "| JavaScript syntax:      | **_object.style.backdropFilter=\"grayscale(100%)\"_**         |\n"
   ]
  },
  {
   "cell_type": "markdown",
   "metadata": {},
   "source": [
    "🖱️ Örnek çalışmaya [linke](https://codepen.io/eminaltan/pen/XWOpbeR) tıklayarak ulaşabilirsiniz arkadaşlar.\n"
   ]
  },
  {
   "cell_type": "markdown",
   "metadata": {},
   "source": [
    "Umarım faydası olmuştur.\n"
   ]
  }
 ],
 "metadata": {
  "kernelspec": {
   "display_name": "Python 3",
   "language": "python",
   "name": "python3"
  },
  "language_info": {
   "codemirror_mode": {
    "name": "ipython",
    "version": 3
   },
   "file_extension": ".py",
   "mimetype": "text/x-python",
   "name": "python",
   "nbconvert_exporter": "python",
   "pygments_lexer": "ipython3",
   "version": "3.10.12"
  }
 },
 "nbformat": 4,
 "nbformat_minor": 2
}
