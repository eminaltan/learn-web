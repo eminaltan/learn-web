{
 "cells": [
  {
   "cell_type": "markdown",
   "metadata": {},
   "source": [
    "## CSS `block-size` Property\n",
    "\n",
    "Merhaba arkadaşlar bugün CSS3 property'lerinden olan `block-size` property'sine değineceğim.\n",
    "\n",
    "Giriş yapmadan önce **_block direction_** terimini anlamamız gerekiyor.\n",
    "\n",
    "Metin içeriği olan her HTML elementinin yazım yönü vardır. Yazım yönü İngilizce gibi dillerde yukarıdan aşağıya ve sağdan sola şeklinde oluşturulur. Aslında bu bizim gündelik hayatta kağıda yazı yazarken kullandığımız pattern'dir de. Bir paragrafı soldan sağa ve yukarıdan aşağıya doğru yazarız. Yukarıdan aşağıya ifadesi burada block direction terimini ifade eder. Yeri gelmişken soldan sağa ise **_inline direction_** terimini ifade eder. \n",
    "\n",
    "block direction terimini açıkladıktan sonra artık `block-size` property'sinin ne işe yaradığına değinebiliriz. \n",
    "\n",
    "HTML elementinin block direction'daki boyutunu `block-size` property'si ile belirleyebiliriz. Bir element için `block-size` property'sini kullandığımızda boyutu yukarından aşağı doğru olacaktır yani elementin yüksekliğine etki edecektir. \n",
    "\n",
    "\"Elementin boyutunu `height` property'si ile değiştiriyorduk. `block-size` property'sininin `height` property'sinden farkı ne?\" şeklinde aklınıza bir soru gelebilir.\n",
    "\n",
    "**➖ `block-size` ile `height` Arasındaki Fark\n",
    "\n",
    "**`block-size` property'si `writing-direction` property'sinin kullanımına bağlı olarak farklı etki gösterir arkadaşlar. `block-size` property'si normalde elementin yüksekliğine etki ederken `writing-direction:vertical-tb` şeklinde yapılan bir deklarasyonda `block-size` property'si elementin genişliğine etki eder.**\n",
    "\n",
    "**💡 Peki bu property'i nerede kullanabiliriz şeklinde bir soru aklınıza gelebilir arkadaşlar. Şahsen `block-size` property'yi genişliği veya yüksekliği yazım yönüne bağlı olmasını istediğimiz elementler için kullanabiliriz. Örneğin İngilizce ve Çince dillerini destekleyen site hazırlamışızdır ve article'ın boyutu yukarıdan aşağıya doğru 200px olmasını istemişizdir. Sonra  \n",
    "\n",
    "\n"
   ]
  },
  {
   "cell_type": "markdown",
   "metadata": {},
   "source": [
    "`backface-visibility` property karakteristik özelliklerini incelersek:\n",
    "\n",
    "| **Özellik**             | **Açıklama**                                                |\n",
    "| ----------------------- | ----------------------------------------------------------- |\n",
    "| Varsayılan değer:       | visible                                                     |\n",
    "| Inherit özeiiği:        | Hayır, parent elementten property değerleri miras alınamaz. |\n",
    "| CSS animasyon özelliği: | Hayır, CSS animasyon property'lerini desteklemez.           |\n",
    "| CSS versiyonu:          | CSS3                                                        |\n",
    "| JavaScript syntax:      | **_object.style.backfaceVisibility=\"hidden\"_**              |\n"
   ]
  },
  {
   "cell_type": "markdown",
   "metadata": {},
   "source": [
    "🖱️ Örnek çalışmaya [linke](https://codepen.io/eminaltan/pen/yLZPpVN) tıklayarak ulaşabilirsiniz arkadaşlar.\n"
   ]
  },
  {
   "cell_type": "markdown",
   "metadata": {},
   "source": [
    "Umarım faydası olmuştur.\n"
   ]
  }
 ],
 "metadata": {
  "kernelspec": {
   "display_name": "Python 3",
   "language": "python",
   "name": "python3"
  },
  "language_info": {
   "codemirror_mode": {
    "name": "ipython",
    "version": 3
   },
   "file_extension": ".py",
   "mimetype": "text/x-python",
   "name": "python",
   "nbconvert_exporter": "python",
   "pygments_lexer": "ipython3",
   "version": "3.10.12"
  }
 },
 "nbformat": 4,
 "nbformat_minor": 2
}
