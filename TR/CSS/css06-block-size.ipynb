{
 "cells": [
  {
   "cell_type": "markdown",
   "metadata": {},
   "source": [
    "## CSS `block-size` Property\n",
    "\n",
    "Merhaba arkadaşlar bugün CSS3 property'lerinden olan `block-size` property'sine değineceğim.\n",
    "\n",
    "Giriş yapmadan önce **_block direction_** terimini anlamamız gerekiyor.\n",
    "\n",
    "Metinsel içeriği olan her HTML elementinin yazım yönü vardır. Yazım yönü İngilizce gibi dillerde yukarıdan aşağıya ve sağdan sola şeklinde oluşturulur. Aslında bu bizim gündelik hayatta kağıda yazı yazarken kullandığımız pattern'dir de. Bir paragrafı soldan sağa ve yukarıdan aşağıya doğru yazarız. Yukarıdan aşağıya ifadesi burada block direction terimini ifade eder. Yeri gelmişken soldan sağa ise **_inline direction_** terimini ifade eder. \n",
    "\n",
    "block direction terimini açıkladıktan sonra artık `block-size` property'sinin ne işe yaradığına değinebiliriz. \n",
    "\n",
    "Bir HTML elementinin block direction'daki boyutunu `block-size` property'si ile belirleyebiliriz. Bir element için `block-size` property'sini kullandığımızda boyutu yukarından aşağı doğru olacaktır yani elementin yüksekliğine etki edecektir. Ancak bu durum `writing-mode` property'sinin kullanım durumuna göre değişkenlik gösterir. Çünkü `writing-mode` property'si elementin yazım yönünü değiştirir. Bu durumda \n"
   ]
  },
  {
   "cell_type": "markdown",
   "metadata": {},
   "source": [
    "`backface-visibility` property karakteristik özelliklerini incelersek:\n",
    "\n",
    "| **Özellik**             | **Açıklama**                                                |\n",
    "| ----------------------- | ----------------------------------------------------------- |\n",
    "| Varsayılan değer:       | visible                                                     |\n",
    "| Inherit özeiiği:        | Hayır, parent elementten property değerleri miras alınamaz. |\n",
    "| CSS animasyon özelliği: | Hayır, CSS animasyon property'lerini desteklemez.           |\n",
    "| CSS versiyonu:          | CSS3                                                        |\n",
    "| JavaScript syntax:      | **_object.style.backfaceVisibility=\"hidden\"_**              |\n"
   ]
  },
  {
   "cell_type": "markdown",
   "metadata": {},
   "source": [
    "🖱️ Örnek çalışmaya [linke](https://codepen.io/eminaltan/pen/yLZPpVN) tıklayarak ulaşabilirsiniz arkadaşlar.\n"
   ]
  },
  {
   "cell_type": "markdown",
   "metadata": {},
   "source": [
    "Umarım faydası olmuştur.\n"
   ]
  }
 ],
 "metadata": {
  "kernelspec": {
   "display_name": "Python 3",
   "language": "python",
   "name": "python3"
  },
  "language_info": {
   "codemirror_mode": {
    "name": "ipython",
    "version": 3
   },
   "file_extension": ".py",
   "mimetype": "text/x-python",
   "name": "python",
   "nbconvert_exporter": "python",
   "pygments_lexer": "ipython3",
   "version": "3.10.12"
  }
 },
 "nbformat": 4,
 "nbformat_minor": 2
}
