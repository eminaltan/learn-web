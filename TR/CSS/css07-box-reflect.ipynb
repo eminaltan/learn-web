{
 "cells": [
  {
   "cell_type": "markdown",
   "metadata": {},
   "source": [
    "## CSS `box-reflect` Property\n",
    "\n",
    "Merhaba arkadaşlar bugün CSS3 property'lerinden olan `box-reflect` property'sine değineceğim.\n",
    "\n",
    "Eskiden Photoshop'da tasarlanan web arayüzündeki imajların yansımalarını HTML'de oluşturmak için öncelikle yansımaları Photoshop'da slice tool vb. araçlar kullanılarak export ediliyor sonrasında JS kütüphaneleri veya CSS media query'leri ile birlikte HTML'de oluşturuyorduk. Responsive arayüz oluşturmak için aynı imajın farklı boyutlarındaki yansımaları için bu işlemi tekrarlardık. Tahmin edeceğiniz gibi bu işlem çok zaman alıyordu bir de buna iş bitmişken müşterinin imajları değiştirmek istemesi deyim yerindeyse pişmiş aşa su katıyor ve tüm işlemlere yeniden başlamak zorunda kalıyorduk. Bu da işi sıkıcı hale getiriyordu. Bu noktada Photoshop action'ları her ne kadar işimizi kolaylaştırsa da sistem kaynaklarını çok fazla tüketiyor zaman zaman PC'nin kilitlenmesine neden oluyordu.\n",
    "\n",
    "Şimdilerde `box-reflect` property'si ile bu sorunu aşabilir durumdayız. Bu sayede bir imaja veya HTML elementine ait yansımayı dinamik olarak oluşturabiliriz. Böylece her imajın boyutu için  tek tek çalışma yapmamıza gerek kalmaz ve zamandan kazanırız. Müşteri sonradan imajları değiştirmek mi istedi? Sorun değil `box-reflect` dinamik olarak yansımaları oluşturacağı için sadece imajı değiştirmemiz yeterli olacaktır. \n",
    "\n",
    "**⚠️ `box-reflect` property'si yazıyı oluşturduğum tarihte henüz standart halini almadığı için _webkit_ prefix'ile kullanmamız gerekiyor.**\n",
    "\n",
    "`box-reflect` property'si genelde tekli notasyon biçiminde kullanılır. Buna rağmen 3'lü notasyona da sahip olabilir. Şimdi de kullanım şekillerine göz atalım.\n",
    "\n",
    "### `box-reflect` Property'sinde Notasyon Kullanımı."
   ]
  },
  {
   "cell_type": "markdown",
   "metadata": {},
   "source": [
    "### Tekli Notasyon Kullanımı\n",
    "\n",
    "`box-reflect` property'sinde tek notasyon kullanılmışsa yansımınanın hangi yönde oluşacağını ifade eder.Notasyon 5 değerden birine sahip olabilir. Bunlar `none`, `above`, `below`, `right` veya `left` değerlerinden biridir. `box-reflect` property'sinin varsayılan değeri `none`'dur bu durumdaki bir HTML elementi için yasıma oluşturulmaz. \n",
    "\n",
    "**Ör.:**\n",
    "\n",
    "```css\n",
    "div{\n",
    "    /* <div> elementi için yasıma aşağı yönde oluşturulacaktır. */\n",
    "    -webkit-box-reflect: below;\n",
    "}\n",
    "```\n"
   ]
  },
  {
   "cell_type": "markdown",
   "metadata": {},
   "source": [
    "### İkili Notasyon Kullanımı\n",
    "\n",
    "Şayet `box-reflect` property'si 2.notasyona sahip ise bu durumda 2.notasyon yansıma ile imaj arasındaki boşluğu ifade eder.\n",
    "\n",
    "Boşluğu belirlemek için CSS unit'lerinden herhangi biri kullanılabilir.\n",
    "\n",
    "**Ör.:**\n",
    "\n",
    "```css\n",
    "div{\n",
    "    /* <div> elementi ile yansıması arasında 15px'lik bir mesafe olacaktır. */\n",
    "    -webkit-box-reflect: below 15px;\n",
    "}\n",
    "```"
   ]
  },
  {
   "cell_type": "markdown",
   "metadata": {},
   "source": [
    "### Üçlü Notasyon Kullanımı\n",
    "\n",
    "`box-reflect` property'si içerisinde CSS gradient fonksiyonlarını kullanabiliriz. Böylece yansıma içerisinde geçişlerin yumuşak ve sert olmasını sağlayabiliriz. Şayet `box-reflect` property'si 3.notasyona sahip ise bu durumda 3.notasyon gradient fonksiyonunu ifade eder.\n",
    "\n",
    "**Ör.:**\n",
    "\n",
    "```css\n",
    "div{\n",
    "    /* <div> elementinin yansıması yukarından aşağı ve opacity miktarı 0'dan 40% şeklinde oluşturulacaktır. */\n",
    "    -webkit-box-reflect: below 15px linear-gradient(to bottom, rgba(0,0,0,0.0), rgba(0,0,0,0.4));\n",
    "}\n",
    "```"
   ]
  },
  {
   "cell_type": "markdown",
   "metadata": {},
   "source": [
    "`box-reflect` property'si Firefox hariç tüm majör tarayıcılar tarafından 2020 yılının 1.çeyreğinden itibaren desteklenmektedir."
   ]
  },
  {
   "cell_type": "markdown",
   "metadata": {},
   "source": [
    "`box-reflect` property karakteristik özelliklerini incelersek:\n",
    "\n",
    "| **Özellik**             | **Açıklama**                                                |\n",
    "|-------------------------|-------------------------------------------------------------|\n",
    "| Varsayılan değer:       | none                                                        |\n",
    "| Inherit özelliği:       | Hayır, parent elementten property değerleri miras alınamaz. |\n",
    "| CSS animasyon özelliği: | Hayır, CSS animasyon property'lerini desteklemez.           |\n",
    "| CSS versiyonu:          | CSS3                                                        |\n",
    "| JavaScript syntax:      | **_object.style.webkitBoxReflect=\"below\"_**                 |"
   ]
  },
  {
   "cell_type": "markdown",
   "metadata": {},
   "source": [
    "🖱️ Örnek çalışmaya [linke](https://codepen.io/eminaltan/details/jOdpdgR) tıklayarak ulaşabilirsiniz arkadaşlar.\n"
   ]
  },
  {
   "cell_type": "markdown",
   "metadata": {},
   "source": [
    "Umarım faydası olmuştur.\n"
   ]
  }
 ],
 "metadata": {
  "kernelspec": {
   "display_name": "Python 3",
   "language": "python",
   "name": "python3"
  },
  "language_info": {
   "codemirror_mode": {
    "name": "ipython",
    "version": 3
   },
   "file_extension": ".py",
   "mimetype": "text/x-python",
   "name": "python",
   "nbconvert_exporter": "python",
   "pygments_lexer": "ipython3",
   "version": "3.10.12"
  }
 },
 "nbformat": 4,
 "nbformat_minor": 2
}
