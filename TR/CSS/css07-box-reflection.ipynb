{
 "cells": [
  {
   "cell_type": "markdown",
   "metadata": {},
   "source": [
    "## CSS `box-reflection` Property\n",
    "\n",
    "Merhaba arkadaşlar bugün CSS3 property'lerinden olan `box-reflection` property'sine değineceğim.\n",
    "\n",
    "Giriş yapmadan önce **_block direction_** terimini anlamamız gerekiyor.\n",
    "\n",
    "Metin içeriği olan her HTML elementinin yazım yönü vardır. Yazım yönü İngilizce gibi dillerde yukarıdan aşağıya ve sağdan sola şeklinde oluşturulur. Aslında bu bizim gündelik hayatta kağıda yazı yazarken kullandığımız pattern'dir de. Bir paragrafı soldan sağa ve yukarıdan aşağıya doğru yazarız. Yukarıdan aşağıya ifadesi burada block direction terimini ifade eder. Yeri gelmişken soldan sağa ise **_inline direction_** terimini ifade eder. \n",
    "\n",
    "block direction terimini açıkladıktan sonra artık `block-size` property'sinin ne işe yaradığına değinebiliriz. \n",
    "\n",
    "Bir HTML elementinin block direction'daki boyutunu `block-size` property'si ile belirleyebiliriz. Bir element için `block-size` property'sini kullandığımızda boyutu yukarından aşağı doğru olacaktır yani elementin yüksekliğine etki edecektir. \n",
    "\n",
    "\"Elementin boyutunu `height` property'si ile değiştiriyorduk. `block-size` property'sininin `height` property'sinden farkı ne?\" şeklinde aklınıza bir soru gelebilir.\n",
    "\n",
    "**➖ `block-size` ile `height` Arasındaki Fark**\n",
    "\n",
    "**`block-size` property'si `writing-mode` property'sinin kullanımına bağlı olarak farklı etki gösterir arkadaşlar. `block-size` property'si normalde elementin yüksekliğine etki ederken `writing-mode:vertical-tb` şeklinde yapılan bir deklarasyonda `block-size` property'si elementin genişliğine etki eder.**\n",
    "\n",
    "Aklınıza `writing-mode` property'sinin ne işe yaradığına dair soru gelebilir. Kısaca buna da değinelim. \n",
    "\n",
    "`writing-mode` property ile bir elementin yazım yönünü ayarlarız. Varsayılan olarak değeri `horizontal-tb`'dir.Yani varsayılan durumda bir elementin içeriği yatay eksende ve yukarıdan aşağı şeklinde oluşturulur. Söz gelimi `writing-mode` property'sinin değeri `vertical-tb` olduğunda elementin içeriği dikey eksende yukarıdan aşağı şeklinde oluşturulur. Örneğin İngilizce ve Çince içerikli bir sitemiz var. Çince'yi seçtiğimizde metin içerikli ögelerin dikey eksende oluşturulması gerekir. Bu durumda `writing-mode` property'sini kullanabiliriz.\n",
    "\n",
    "Aşağıdaki imajlarda `writing-mode` property'sinin kullanım durumuna `block-size` property'sinin ne şekilde etkilendiğini görebiliriz.\n",
    "\n",
    "![horizontal mode](https://developer.mozilla.org/en-US/docs/Web/CSS/CSS_flow_layout/Block_and_inline_layout_in_normal_flow/mdn-horizontal.png)\n",
    "\n",
    "`writing-mode:horizontal-tb`\n",
    "\n",
    "![vertical mode](https://developer.mozilla.org/en-US/docs/Web/CSS/CSS_flow_layout/Block_and_inline_layout_in_normal_flow/mdn-vertical.png)\n",
    "\n",
    "`writing-mode:vertical-lr`\n",
    "\n",
    "**💡 Peki bu property'i nerede kullanabiliriz şeklinde bir soru aklınıza gelebilir arkadaşlar. `block-size` property'yi genişliği veya yüksekliği yazım yönüne bağlı olmasını istediğimiz elementler için kullanabiliriz diye düşünüyorum.** \n",
    "\n",
    "**⚠️ `width` veya `height` property'lerini kullanmamız durumunda `block-size` property'si geçersiz hale gelir.**\n",
    "\n",
    "\n"
   ]
  },
  {
   "cell_type": "markdown",
   "metadata": {},
   "source": [
    "`block-size` property karakteristik özelliklerini incelersek:\n",
    "\n",
    "| **Özellik**             | **Açıklama**                                                |\n",
    "|-------------------------|-------------------------------------------------------------|\n",
    "| Varsayılan değer:       | auto                                                        |\n",
    "| Inherit özeiiği:        | Hayır, parent elementten property değerleri miras alınamaz. |\n",
    "| CSS animasyon özelliği: | Evet, CSS animasyon property'lerini destekler.              |\n",
    "| CSS versiyonu:          | CSS3                                                        |\n",
    "| JavaScript syntax:      | **_object.style.blockSize=\"100px\"_**                        |\n"
   ]
  },
  {
   "cell_type": "markdown",
   "metadata": {},
   "source": [
    "🖱️ Örnek çalışmaya [linke](https://codepen.io/eminaltan/pen/mdvxgLM) tıklayarak ulaşabilirsiniz arkadaşlar.\n"
   ]
  },
  {
   "cell_type": "markdown",
   "metadata": {},
   "source": [
    "Umarım faydası olmuştur.\n"
   ]
  }
 ],
 "metadata": {
  "kernelspec": {
   "display_name": "Python 3",
   "language": "python",
   "name": "python3"
  },
  "language_info": {
   "codemirror_mode": {
    "name": "ipython",
    "version": 3
   },
   "file_extension": ".py",
   "mimetype": "text/x-python",
   "name": "python",
   "nbconvert_exporter": "python",
   "pygments_lexer": "ipython3",
   "version": "3.10.12"
  }
 },
 "nbformat": 4,
 "nbformat_minor": 2
}
