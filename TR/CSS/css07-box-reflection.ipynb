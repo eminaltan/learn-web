{
 "cells": [
  {
   "cell_type": "markdown",
   "metadata": {},
   "source": [
    "## CSS `box-reflection` Property\n",
    "\n",
    "Merhaba arkadaşlar bugün CSS3 property'lerinden olan `box-reflection` property'sine değineceğim.\n",
    "\n",
    "Bazen bir imajın \n",
    "\n"
   ]
  },
  {
   "cell_type": "markdown",
   "metadata": {},
   "source": [
    "`block-size` property karakteristik özelliklerini incelersek:\n",
    "\n",
    "| **Özellik**             | **Açıklama**                                                |\n",
    "|-------------------------|-------------------------------------------------------------|\n",
    "| Varsayılan değer:       | auto                                                        |\n",
    "| Inherit özeiiği:        | Hayır, parent elementten property değerleri miras alınamaz. |\n",
    "| CSS animasyon özelliği: | Evet, CSS animasyon property'lerini destekler.              |\n",
    "| CSS versiyonu:          | CSS3                                                        |\n",
    "| JavaScript syntax:      | **_object.style.blockSize=\"100px\"_**                        |\n"
   ]
  },
  {
   "cell_type": "markdown",
   "metadata": {},
   "source": [
    "🖱️ Örnek çalışmaya [linke](https://codepen.io/eminaltan/pen/mdvxgLM) tıklayarak ulaşabilirsiniz arkadaşlar.\n"
   ]
  },
  {
   "cell_type": "markdown",
   "metadata": {},
   "source": [
    "Umarım faydası olmuştur.\n"
   ]
  }
 ],
 "metadata": {
  "kernelspec": {
   "display_name": "Python 3",
   "language": "python",
   "name": "python3"
  },
  "language_info": {
   "codemirror_mode": {
    "name": "ipython",
    "version": 3
   },
   "file_extension": ".py",
   "mimetype": "text/x-python",
   "name": "python",
   "nbconvert_exporter": "python",
   "pygments_lexer": "ipython3",
   "version": "3.10.12"
  }
 },
 "nbformat": 4,
 "nbformat_minor": 2
}
