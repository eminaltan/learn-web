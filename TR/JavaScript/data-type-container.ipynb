{
  "cells": [
    {
      "cell_type": "markdown",
      "metadata": {},
      "source": [
        "## JavaScript Object Data Type\n",
        "\n",
        "Javascript'de object veri tipleri `{}` işaretleri arasına yazılır.\n",
        "\n",
        "Obje içerisindeki değerler `anahtar:değer` eşleşmesi ile oluşturulur. Bu eşleşmeye tümüne **_property_** adı verilir. Property'ler birbirlerinden `,` işareti ile ayrılırlar.\n",
        "\n",
        "Aşağıdaki örnekte bir object türünde oluşturulmuş bir variable'ın yapısı görülüyor.\n",
        "\n",
        "![structure-of-object](https://encrypted-tbn0.gstatic.com/images?q=tbn:ANd9GcTzRzRY0HKjTJYr0AcdOcMsP2cohuVLvEtLsA&usqp=CAU, \"Object türde bir variable'ın yapısı.\")\n",
        "\n",
        "**Örnek**\n"
      ]
    },
    {
      "cell_type": "code",
      "execution_count": 1,
      "metadata": {
        "vscode": {
          "languageId": "javascript"
        }
      },
      "outputs": [],
      "source": [
        "\n",
        "// Örnekte person object variable'ın 3 adet property'si vardır. Bunlar firstName, lastName ve age'dir.\n",
        "const person = { firstName: \"John\", lastName: \"Doe\", age: 50 };"
      ]
    }
  ],
  "metadata": {
    "kernelspec": {
      "display_name": "Python 3 (ipykernel)",
      "language": "python",
      "name": "python3"
    },
    "language_info": {
      "codemirror_mode": {
        "name": "ipython",
        "version": 3
      },
      "file_extension": ".py",
      "mimetype": "text/x-python",
      "name": "python",
      "nbconvert_exporter": "python",
      "pygments_lexer": "ipython3",
      "version": "3.10.12"
    }
  },
  "nbformat": 4,
  "nbformat_minor": 2
}
