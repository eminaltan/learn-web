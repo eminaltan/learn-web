{
 "cells": [
  {
   "cell_type": "markdown",
   "metadata": {},
   "source": [
    "# JavaScript'e Giriş\n",
    "\n",
    "Bu kılavuz JavaScript öğrenmek isteyen arkadaşlar için hazırlanmıştır. JavaScript'in ne zaman veya hangi amaçla ortaya çıktığı gibi bilgileri es geçiyorum. Muhtemelen bunları araştırmışsınızdır. Bana kalırsa işin felsefesini öğrenmekte fayda var benzer bilgilere kılavuzda yer vermeyeceğim.\n",
    "\n",
    "Kılavuz temel HTML bilgisi gerektirir.\n"
   ]
  },
  {
   "cell_type": "markdown",
   "metadata": {},
   "source": [
    "## `<script>` Elementi\n",
    "\n",
    "JavaScript kodları `<script></script>` elementleri arasına yerleştirilir.\n",
    "\n",
    "💡 Eski tarayıcıların JavaScript kodlarını yorumlaması için `type` attribute'un tanımlı olması gerekir. Bu bağlamda `<script type=\"text/javascript\">` gibi bir ifade ile karşılaştığınızda web sayfasının eski tarayıcılar için hazırlandığını anlayabilirsiniz. Modern tarayıcılarda `type` attribute'un tanımlı olmasına gerek yoktur.\n",
    "\n",
    "JavaScript kodları `<head></head>` veya `<body></body>` elementleri arasına yerleştirilir.\n",
    "\n",
    "**Örnek**\n",
    "\n",
    "```html\n",
    "<!DOCTYPE html>\n",
    "<html>\n",
    "  <head>\n",
    "    <script>\n",
    "      /* Örnekte JavaScript kodları <head></head> elementleri arasına yerleştirilmiş */\n",
    "      console.log(\"test\");\n",
    "    </script>\n",
    "  </head>\n",
    "  <body>\n",
    "    <h2>JavaScript Örneği</h2>\n",
    "  </body>\n",
    "</html>\n",
    "\n",
    "<!DOCTYPE html>\n",
    "<html>\n",
    "  <head>\n",
    "    <body>\n",
    "      <script>\n",
    "        /* Örnekte JavaScript kodları <body></body> elementleri arasına yerleştirilmiş */\n",
    "        console.log(\"test\");\n",
    "      </script>\n",
    "      <h2>JavaScript Örneği</h2>\n",
    "    </body>\n",
    "  </head>\n",
    "</html>\n",
    "```\n",
    "\n",
    "💡 JavaScript kodlarının `</body>` tag'ına yakın olması kodların daha hızlı yorumlanması ve çalışmasını sağlar.\n",
    "\n",
    "**Örnek**\n",
    "\n",
    "```html\n",
    "<!DOCTYPE html>\n",
    "<html>\n",
    "  <head>\n",
    "    <body>\n",
    "      <h2>JavaScript Örneği</h2>\n",
    "      <script>\n",
    "        /* JavaScript kodları </body> tag'ına yakın olması sebebi ile daha hızlı çalışacaktır. */\n",
    "        console.log(\"test\");\n",
    "      </script>\n",
    "    </body>\n",
    "  </head>\n",
    "</html>\n",
    "```\n"
   ]
  },
  {
   "cell_type": "markdown",
   "metadata": {},
   "source": [
    "## JavaScript Kullanım Şekilleri\n",
    "\n",
    "JavaScript kodlarını `<script></script>` elementleri arasında kullanabileceğimiz gibi harici bir dosyadaki JavaScript kodlarını da kullanabiliriz.\n",
    "\n",
    "Harici JavaScript kodlarını kullanmak bize bir takım avantajlar sağlar:\n",
    "\n",
    "1. HTML ve JavaScript kodları birbirinden ayrılacağı için dokümanın okunması, anlaşılması ve yönetilmesi kolaylaşır.\n",
    "\n",
    "2. Aynı kodları başka sayfalarda da kullanabiliriz. Böylece aynı kodları tekrar tekrar yazmamış oluruz. Buna **_DRY_**[^1] prensibi adı verilir.\n",
    "\n",
    "3. JavaScript kodları cache'leneceği için sayfanın hızlı şekilde yüklenilmesi sağlanır.\n",
    "\n",
    "Aşağıdaki örnekte harici JavaScript dosyalarının web sayfasına yüklenilmesi görülüyor.\n",
    "\n",
    "**Örnek**\n",
    "\n",
    "```javascript\n",
    "<script src=\"script1.js\"></script>\n",
    "<script src=\"script2.js\"></script>\n",
    "```\n"
   ]
  },
  {
   "cell_type": "markdown",
   "metadata": {},
   "source": [
    "## JavaScript Çıktıları\n",
    "\n",
    "JavaScript'de çıktı almak için 4 yöntem kullanılır:\n",
    "\n",
    "1. HTML elementinin içerisine çıktı almak için `innerHTML` property.\n",
    "\n",
    "2. HTML dokümanı içerisinde çıktı almak için `document.write()` metodu.\n",
    "\n",
    "3. Mesaj çıktısı alabilmek için `window.alert()` metodu.\n",
    "\n",
    "4. Konsolda kullanabilmek için `console.log()` metodu.\n",
    "\n",
    "Bunlara yüzeysel bakalım, süreç içerisinde detaylara yer vereceğim.\n"
   ]
  },
  {
   "cell_type": "markdown",
   "metadata": {},
   "source": [
    "### `innerHTML` Property\n",
    "\n",
    "Bazen yaptığımız bir işlemin sonucunu HTML elementinin içerisinde çıktı olarak kullanmak isteyebiliriz. Böyle durumlarda genel olarak `innerHTML` property'sini kullanırız.\n",
    "\n",
    "**Örnek**\n",
    "\n",
    "```html\n",
    "<!DOCTYPE html>\n",
    "<html>\n",
    "  <body>\n",
    "    <p id=\"content\"></p>\n",
    "    <script>\n",
    "      /* Örnekte #content id'sini barındıran HTML elementi bulunacak ve içerisine \"test\" ifadesi yazdırılacaktır. */\n",
    "      document.getElementById(\"content\").innerHTML = \"test\";\n",
    "    </script>\n",
    "  </body>\n",
    "</html>\n",
    "```\n"
   ]
  },
  {
   "cell_type": "markdown",
   "metadata": {},
   "source": [
    "### `document.write()` Metodunun Kullanımı\n",
    "\n",
    "`document.write()` metodu genelde test amaçlı kullanılır.\n",
    "\n",
    "❗ HTML sayfasının yüklenilmesinin ardından `document.write()` metodunun başka bir metot ile çağrılması durumunda sayfa içeriği silinir.\n",
    "\n",
    "Aşağıdaki örnekte HTML sayfasının içeriği **silinir ve \"Test\" string'i doküman içerisinde kullanılır.**\n",
    "\n",
    "**Örnek**\n",
    "\n",
    "```html\n",
    "<!DOCTYPE html>\n",
    "<html>\n",
    "  <body>\n",
    "    <p>onClick HTML event handler ile document.write() metodu çağrılıyor.</p>\n",
    "\n",
    "    <!-- Buton tıklanıldığında document.write() metodu çalışacaktır.   -->\n",
    "    <button type=\"button\" onclick=\"document.write(`Test`)\">Tıkla</button>\n",
    "  </body>\n",
    "</html>\n",
    "```\n",
    "\n",
    "Aşağıdaki örnekte HTML sayfasının içeriği silinmez.\n",
    "\n",
    "**Örnek**\n",
    "\n",
    "```html\n",
    "<!DOCTYPE html>\n",
    "<html>\n",
    "  <body>\n",
    "    <p>\n",
    "      Doküman içeriği silinmeyecektir çünkü document.write() metodu çağrılmıyor.\n",
    "    </p>\n",
    "    <script>\n",
    "      document.write(\"Test\");\n",
    "    </script>\n",
    "  </body>\n",
    "</html>\n",
    "```\n"
   ]
  },
  {
   "cell_type": "markdown",
   "metadata": {},
   "source": [
    "### `window.alert()` Metodu\n",
    "\n",
    "Bazen Windows'daki gibi mesaj kutuları oluşturmak isteyebiliriz. Bu durumda `window.alert()` metodundan faydalanılır.\n",
    "\n",
    "⚠️ JavaScript'de `window` keyword'u **_global_** scope nesnesini ifade eder. Bunun anlamı JavaScript'de tanımlanan tüm variable'lar, property'ler ve metotlar varsayılan olarak `window` nesnesidir. `window` keyword'u opsiyondur. Yani kullanımda es geçilebilir.\n",
    "\n",
    "**Örnek**\n"
   ]
  },
  {
   "cell_type": "code",
   "execution_count": null,
   "metadata": {
    "tags": [
     "hide_output"
    ],
    "vscode": {
     "languageId": "javascript"
    }
   },
   "outputs": [],
   "source": [
    "%%javascript\n",
    "/* Her iki statement da aynı anlama gelir. */\n",
    "window.alert(\"Test\");\n",
    "\n",
    "alert(\"Test\");"
   ]
  },
  {
   "cell_type": "markdown",
   "metadata": {},
   "source": [
    "### `console.log()` Metodu\n",
    "\n",
    "`console.log()` metodu genelde debug işlemlerinde kullanılır. JavaScript konsolunda çıktı almak için bu metodu kullanılırız. Konsola erişmek için tarayıcının inspector'unu kullanabiliriz.\n",
    "\n",
    "![Console](https://wd.imgix.net/image/admin/ET1JJFtUIXvaoPCGQ94C.png?auto=format, \"Şeklide tarayıcı konsolu görünüyor.\")\n",
    "\n",
    "**Örnek**\n"
   ]
  },
  {
   "cell_type": "code",
   "execution_count": null,
   "metadata": {
    "vscode": {
     "languageId": "javascript"
    }
   },
   "outputs": [],
   "source": [
    "%%javascript\n",
    "/* Kod, konsola \"Test\" string'ini yazdıracaktır. */\n",
    "console.log(\"Test\");"
   ]
  },
  {
   "cell_type": "markdown",
   "metadata": {},
   "source": [
    "### JavaScript'de Print Özelliği\n",
    "\n",
    "JavaScript'de sadece `window.print()` metodu bulunmaktadır. Bu sayede tarayıcı ekranındaki içerik hard copy veya soft copy olarak çıktı alınır.\n",
    "\n",
    "**Örnek**\n",
    "\n",
    "```html\n",
    "<!DOCTYPE html>\n",
    "<html>\n",
    "  <body>\n",
    "    <!-- Tarayıcıdan içeriğini çıktı olarak almamıza yardımcı olur.-->\n",
    "    <button onclick=\"window.print()\">Ekranı yazdır</button>\n",
    "  </body>\n",
    "</html>\n",
    "```\n"
   ]
  },
  {
   "cell_type": "markdown",
   "metadata": {},
   "source": [
    "[^1]: DRY Don't Repeat Yourself'in kısaltması olup aynı kodları tekrar tekrar yazmamayı amaçlayan bir yaklaşımdır.\n"
   ]
  }
 ],
 "metadata": {
  "kernelspec": {
   "display_name": "Python 3",
   "language": "python",
   "name": "python3"
  },
  "language_info": {
   "codemirror_mode": {
    "name": "ipython",
    "version": 3
   },
   "file_extension": ".py",
   "mimetype": "text/x-python",
   "name": "python",
   "nbconvert_exporter": "python",
   "pygments_lexer": "ipython3",
   "version": "3.10.12"
  }
 },
 "nbformat": 4,
 "nbformat_minor": 2
}
