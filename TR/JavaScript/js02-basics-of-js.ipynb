{
 "cells": [
  {
   "cell_type": "markdown",
   "metadata": {},
   "source": [
    "# JavaScript'in Temelleri\n",
    "\n",
    "Merhaba arkadaşlar bu yazıda JavaScript'in temellerine bakış atacağız.\n",
    "\n",
    "Yazıda:\n",
    "- Statement kavramına.\n",
    "- White space karakter kullanımına.\n",
    "- Kod bloklarına.\n",
    "- Keyword'lere.\n",
    "- Syntax kavramına.\n",
    "- Immutable ve mutable kavramlarına.\n",
    "- Veri Türlerine ve veri tiplerine.\n",
    "- Temel matematiksel operatörlere.\n",
    "- Expression kavramına.\n",
    "- Identifiers oluşturmaya.\n",
    "\n",
    "Kısaca değineceğim. ilerleyen süreç içerisinde başlıkları detaylandıracağım.\n",
    "\n",
    "İyi okumalar dilerim.\n"
   ]
  },
  {
   "cell_type": "markdown",
   "metadata": {},
   "source": [
    "## JavaScript Statement Kavramı\n",
    "\n",
    "Bir bilgisayar programı, bilgisayar tarafından çalıştırılacak ifadeleri oluşturur. Programlama dilinde buna **_statement_** adı verilir. Bir JavaScript uygulaması statement listesinden oluşmaktadır.\n",
    "\n",
    "JavaScript'de statement'lar; değişkenler, değerler,operatörler, expressions, keywords ve comment'lerden oluşabilir.\n",
    "\n",
    "**Örnek**\n"
   ]
  },
  {
   "cell_type": "code",
   "execution_count": 26,
   "metadata": {
    "vscode": {
     "languageId": "javascript"
    }
   },
   "outputs": [],
   "source": [
    "%%javascript\n",
    "/* Aşağıdaki satır statement özelliği taşır. */\n",
    "var x;"
   ]
  },
  {
   "cell_type": "markdown",
   "metadata": {},
   "source": [
    "Javascript statement'ları yazılış sırasına göre çalışırlar.\n",
    "\n",
    "**Örnek**\n"
   ]
  },
  {
   "cell_type": "code",
   "execution_count": 25,
   "metadata": {
    "vscode": {
     "languageId": "javascript"
    }
   },
   "outputs": [
    {
     "name": "stdout",
     "output_type": "stream",
     "text": [
      "İlk burası çalışacak.\n",
      "Sonra burası çalışacak.\n",
      "En son burası çalışacak.\n"
     ]
    }
   ],
   "source": [
    "%%javascript\n",
    "console.log(\"İlk burası çalışacak.\");\n",
    "console.log(\"Sonra burası çalışacak.\");\n",
    "console.log(\"En son burası çalışacak.\");"
   ]
  },
  {
   "cell_type": "markdown",
   "metadata": {},
   "source": [
    "Statement'ları birbirinden ayırmak için `;` işaretinden faydalanılır. Tek satır birden fazla statement'ı içerebilir.\n",
    "\n",
    "**Örnek**\n"
   ]
  },
  {
   "cell_type": "code",
   "execution_count": 27,
   "metadata": {
    "vscode": {
     "languageId": "javascript"
    }
   },
   "outputs": [
    {
     "name": "stdout",
     "output_type": "stream",
     "text": [
      "1.Statement\n",
      "2.Statement\n",
      "3.Statement\n"
     ]
    }
   ],
   "source": [
    "%%javascript\n",
    "/* Aşağıda 3 statement'in tek bir satırda oluşturulduğu görülüyor.*/\n",
    "console.log(\"1.Statement\"); console.log(\"2.Statement\"); console.log(\"3.Statement\");"
   ]
  },
  {
   "cell_type": "markdown",
   "metadata": {},
   "source": [
    "## JavaScript White Space Kullanımı\n",
    "\n",
    "JavaScript white space karakterleri yok sayar. Yani tek bir satırda yazılan statement'lar ile birden fazla satırda oluşturulan statement'lar aynı anlamı taşır.\n",
    "\n",
    "💡 Kodların okunabilir olmasını sağlamak için her statement'in ayrı satırda yazılması tavsiye edilir. Her satırın ortalama 80 karakter olması okunabilirliği artıracaktır.\n",
    "\n",
    "**Örnek**\n"
   ]
  },
  {
   "cell_type": "code",
   "execution_count": null,
   "metadata": {
    "vscode": {
     "languageId": "javascript"
    }
   },
   "outputs": [],
   "source": [
    "%%javascript\n",
    "let x = 3; let y = 4;\n",
    "\n",
    "/* Yukarıdaki ifade aşağıdaki gibi de yazılabilir. */\n",
    "let x = 3;\n",
    "let y = 4;"
   ]
  },
  {
   "cell_type": "markdown",
   "metadata": {},
   "source": [
    "## JavaScript Kod Blokları\n",
    "\n",
    "JavaScript'de kodları gruplandırmak için `{}` işaretinden faydalanılır. Gruplandırılan kod blokları **_metot_** veya **_fonksiyon_** olarak ifade edilirler.\n",
    "\n",
    "**Örnek**\n"
   ]
  },
  {
   "cell_type": "code",
   "execution_count": 29,
   "metadata": {
    "vscode": {
     "languageId": "javascript"
    }
   },
   "outputs": [
    {
     "name": "stdout",
     "output_type": "stream",
     "text": [
      "Sürelim George\n"
     ]
    }
   ],
   "source": [
    "%%javascript\n",
    "function drive() {\n",
    "  console.log(\"Sürelim George\");\n",
    "}\n",
    "\n",
    "// Konsola \"Sürelim George\" ifadesi yazdırılır.\n",
    "drive();"
   ]
  },
  {
   "cell_type": "markdown",
   "metadata": {},
   "source": [
    "## JavaScript Keyword Kullanımı\n",
    "\n",
    "JavaScript ifadeleri sıklıkla bir keyword ile başlar.\n",
    "\n",
    "**❗ Keyword isimleri değişken veya metot ismi tanımlanmasında kullanılamaz. Çünkü bu keyword'ler JavaScript'te rezerve edilmişlerdir.**\n",
    "\n",
    "**Örnek**\n"
   ]
  },
  {
   "cell_type": "code",
   "execution_count": 2,
   "metadata": {
    "vscode": {
     "languageId": "javascript"
    }
   },
   "outputs": [
    {
     "name": "stderr",
     "output_type": "stream",
     "text": [
      "[stdin]:2\n",
      "let var = 5;\n",
      "    ^^^\n",
      "\n",
      "SyntaxError: Unexpected token 'var'\n",
      "    at new Script (vm.js:88:7)\n",
      "    at createScript (vm.js:261:10)\n",
      "    at Object.runInThisContext (vm.js:309:10)\n",
      "    at Object.<anonymous> ([stdin]-wrapper:10:26)\n",
      "    at Module._compile (internal/modules/cjs/loader.js:999:30)\n",
      "    at evalScript (internal/process/execution.js:94:25)\n",
      "    at internal/main/eval_stdin.js:29:5\n",
      "    at Socket.<anonymous> (internal/process/execution.js:207:5)\n",
      "    at Socket.emit (events.js:326:22)\n",
      "    at endReadableNT (_stream_readable.js:1241:12)\n"
     ]
    },
    {
     "ename": "CalledProcessError",
     "evalue": "Command 'b'/* A\\xc5\\x9fa\\xc4\\x9f\\xc4\\xb1daki de\\xc4\\x9fi\\xc5\\x9fken tan\\xc4\\xb1mlamas\\xc4\\xb1 yanl\\xc4\\xb1\\xc5\\x9ft\\xc4\\xb1r. */\\nlet var = 5;\\n\\n// \"SyntaxError: Unexpected token \\'var\\'\" ifadesi konsola yazd\\xc4\\xb1r\\xc4\\xb1lacakt\\xc4\\xb1r.\\nconsole.log(var);\\n'' returned non-zero exit status 1.",
     "output_type": "error",
     "traceback": [
      "\u001b[0;31m---------------------------------------------------------------------------\u001b[0m",
      "\u001b[0;31mCalledProcessError\u001b[0m                        Traceback (most recent call last)",
      "\u001b[1;32m/TR/JavaScript/js02-basics-of-js.ipynb Cell 13\u001b[0m line \u001b[0;36m1\n\u001b[0;32m----> <a href='vscode-notebook-cell:/TR/JavaScript/js02-basics-of-js.ipynb?repo%3Deminaltan%2Flearn-web#X15scmVwbw%3D%3D?line=0'>1</a>\u001b[0m get_ipython()\u001b[39m.\u001b[39;49mrun_cell_magic(\u001b[39m'\u001b[39;49m\u001b[39mscript\u001b[39;49m\u001b[39m'\u001b[39;49m, \u001b[39m'\u001b[39;49m\u001b[39mnode\u001b[39;49m\u001b[39m'\u001b[39;49m, \u001b[39m'\u001b[39;49m\u001b[39m/* Aşağıdaki değişken tanımlaması yanlıştır. */\u001b[39;49m\u001b[39m\\n\u001b[39;49;00m\u001b[39mlet var = 5;\u001b[39;49m\u001b[39m\\n\u001b[39;49;00m\u001b[39m\\n\u001b[39;49;00m\u001b[39m// \u001b[39;49m\u001b[39m\"\u001b[39;49m\u001b[39mSyntaxError: Unexpected token \u001b[39;49m\u001b[39m\\'\u001b[39;49;00m\u001b[39mvar\u001b[39;49m\u001b[39m\\'\u001b[39;49;00m\u001b[39m\"\u001b[39;49m\u001b[39m ifadesi konsola yazdırılacaktır.\u001b[39;49m\u001b[39m\\n\u001b[39;49;00m\u001b[39mconsole.log(var);\u001b[39;49m\u001b[39m\\n\u001b[39;49;00m\u001b[39m'\u001b[39;49m)\n",
      "File \u001b[0;32m~/.local/lib/python3.10/site-packages/IPython/core/interactiveshell.py:2515\u001b[0m, in \u001b[0;36mInteractiveShell.run_cell_magic\u001b[0;34m(self, magic_name, line, cell)\u001b[0m\n\u001b[1;32m   2513\u001b[0m \u001b[39mwith\u001b[39;00m \u001b[39mself\u001b[39m\u001b[39m.\u001b[39mbuiltin_trap:\n\u001b[1;32m   2514\u001b[0m     args \u001b[39m=\u001b[39m (magic_arg_s, cell)\n\u001b[0;32m-> 2515\u001b[0m     result \u001b[39m=\u001b[39m fn(\u001b[39m*\u001b[39;49margs, \u001b[39m*\u001b[39;49m\u001b[39m*\u001b[39;49mkwargs)\n\u001b[1;32m   2517\u001b[0m \u001b[39m# The code below prevents the output from being displayed\u001b[39;00m\n\u001b[1;32m   2518\u001b[0m \u001b[39m# when using magics with decorator @output_can_be_silenced\u001b[39;00m\n\u001b[1;32m   2519\u001b[0m \u001b[39m# when the last Python token in the expression is a ';'.\u001b[39;00m\n\u001b[1;32m   2520\u001b[0m \u001b[39mif\u001b[39;00m \u001b[39mgetattr\u001b[39m(fn, magic\u001b[39m.\u001b[39mMAGIC_OUTPUT_CAN_BE_SILENCED, \u001b[39mFalse\u001b[39;00m):\n",
      "File \u001b[0;32m~/.local/lib/python3.10/site-packages/IPython/core/magics/script.py:314\u001b[0m, in \u001b[0;36mScriptMagics.shebang\u001b[0;34m(self, line, cell)\u001b[0m\n\u001b[1;32m    309\u001b[0m \u001b[39mif\u001b[39;00m args\u001b[39m.\u001b[39mraise_error \u001b[39mand\u001b[39;00m p\u001b[39m.\u001b[39mreturncode \u001b[39m!=\u001b[39m \u001b[39m0\u001b[39m:\n\u001b[1;32m    310\u001b[0m     \u001b[39m# If we get here and p.returncode is still None, we must have\u001b[39;00m\n\u001b[1;32m    311\u001b[0m     \u001b[39m# killed it but not yet seen its return code. We don't wait for it,\u001b[39;00m\n\u001b[1;32m    312\u001b[0m     \u001b[39m# in case it's stuck in uninterruptible sleep. -9 = SIGKILL\u001b[39;00m\n\u001b[1;32m    313\u001b[0m     rc \u001b[39m=\u001b[39m p\u001b[39m.\u001b[39mreturncode \u001b[39mor\u001b[39;00m \u001b[39m-\u001b[39m\u001b[39m9\u001b[39m\n\u001b[0;32m--> 314\u001b[0m     \u001b[39mraise\u001b[39;00m CalledProcessError(rc, cell)\n",
      "\u001b[0;31mCalledProcessError\u001b[0m: Command 'b'/* A\\xc5\\x9fa\\xc4\\x9f\\xc4\\xb1daki de\\xc4\\x9fi\\xc5\\x9fken tan\\xc4\\xb1mlamas\\xc4\\xb1 yanl\\xc4\\xb1\\xc5\\x9ft\\xc4\\xb1r. */\\nlet var = 5;\\n\\n// \"SyntaxError: Unexpected token \\'var\\'\" ifadesi konsola yazd\\xc4\\xb1r\\xc4\\xb1lacakt\\xc4\\xb1r.\\nconsole.log(var);\\n'' returned non-zero exit status 1."
     ]
    }
   ],
   "source": [
    "%%script node\n",
    "/* Aşağıdaki değişken tanımlaması yanlıştır. */\n",
    "let var = 5;\n",
    "\n",
    "// \"SyntaxError: Unexpected token 'var'\" ifadesi konsola yazdırılacaktır.\n",
    "console.log(var);"
   ]
  },
  {
   "cell_type": "markdown",
   "metadata": {},
   "source": [
    "Sık kullanılan keyword'ler aşağıda listelenmiştir.\n",
    "\n",
    "| **Keyword** | **Açıklama**                            |\n",
    "| ----------- | --------------------------------------- |\n",
    "| `var`       | Değişken oluşturur.                     |\n",
    "| `let`       | Block türünde değişken oluşturur.       |\n",
    "| `const`     | Block türünde sabit değişken oluşturur. |\n",
    "\n",
    "Yeri geldikçe terimlere ve kullanım türlerine değineceğim arkadaşlar, `var`, `const`, `let` gibi keyword'lerin ne işe yaradıklarını ve farklılıklarını süreç içerisinde anlatacağım.\n"
   ]
  },
  {
   "cell_type": "markdown",
   "metadata": {},
   "source": [
    "## JavaScript Syntax Kavramı\n",
    "\n",
    "Syntax'lar JavaScript'de kodların söz dizimini belirler. Bu kuralları bir dilin yazım kılavuzu yani grameri olarak düşünebiliriz.\n",
    "\n",
    "**⚠️ Yanlış söz dizimleri olması halinde program veya kod blokları çalışmayacaktır.**\n",
    "\n",
    "**Örnek**\n"
   ]
  },
  {
   "cell_type": "code",
   "execution_count": null,
   "metadata": {
    "vscode": {
     "languageId": "javascript"
    }
   },
   "outputs": [],
   "source": [
    "%%javascript\n",
    "//  Örnekte değişken oluşturmak için kullanılacak söz dizimini görüyoruz.\n",
    "var x;\n",
    "var y;\n",
    "\n",
    "\"Osman\"=let z;\n",
    "\n",
    "// z değişkeninin söz dizimi yanlıştır. Konsola \"SyntaxError: Invalid left-hand side in assignment\" ifadesi yazdırılır.\n",
    "console.log (z);"
   ]
  },
  {
   "cell_type": "markdown",
   "metadata": {},
   "source": [
    "## JavaScript Immutable ve Mutable Kavramları\n",
    "\n",
    "JavaScript'de değişkenler veri türlerine göre göre iki gruba ayrılırlar:\n",
    "\n",
    "1. Immutable (Sabit değerler)\n",
    "\n",
    "2. Mutable (Değişken değerler)\n",
    "\n",
    "Sabit değerler aynı zamanda **_Literals_** olarak isimlendirilirler. Atanan her değer bellekte (RAM'de) yeni bir adrese sahip olur ve atanan değerin içeriği bellekte değiştirilemez.\n",
    "\n",
    "**💡 Sabit değerleri genelde orijinal verinin korunmasını istediğimiz yerlerde kullanırız. Örneğin orijinal veri birden fazla yerde kullanıyor olabilir. Değeri korunmayan veriler program içerisinde istenmeyen sonuçlara neden olabilir.**\n",
    "\n",
    "**⚠️ Sabit değerli bir değişkene her yeni değer atanması durumunda bellekte verinin depolanması için yeni bir yer ayrılır. Bu da bellek ile ilgili sorunlara neden olacaktır. Bu sebeple performans öncelliğimiz ise sabitleri daha az kullanmalıyız.**\n",
    "\n",
    "Değişken değerler aynı zamanda **_variables_** olarak isimlendirilirler. Atanan değer bellekte bir adrese sahip olur ve atanan verinin içeriği değiştirilebilir. **Bu sebeple referans olma özelliğine sahiptirler. Değişken değerli bir değişkene her veri atamasında bellekte yeni bir alan kullanılmaz. O verinin depolandığı ilgili referans adres bulunur ve eski veri overwrite edilerek yeni veri referans adrese kayıt edilir.**\n",
    "\n",
    "**💡 Değişken özellikli değerler veriler için referans adresleri kullanmaları sebebi ile bellekte sabitler gibi yer kaplamazlar. Dolayısıyla performans önceliğimiz ise bu veri türünü kullanabiliriz.**\n",
    "\n",
    "**Örnek**\n",
    "\n",
    "Aşağıda immutable özelliği görülüyor"
   ]
  },
  {
   "cell_type": "code",
   "execution_count": 31,
   "metadata": {
    "vscode": {
     "languageId": "javascript"
    }
   },
   "outputs": [
    {
     "name": "stdout",
     "output_type": "stream",
     "text": [
      "studentName değişkenin içeriği Emin dir.\n",
      "Buraya dikkat edelim. personName değişkenin depoladığı değer Emin'dir.\n",
      "Hasan\n"
     ]
    }
   ],
   "source": [
    "%%javascript\n",
    "\n",
    "// studentName değişkeni immutable özelliklidir.\n",
    "let studentName = \"Emin\";\n",
    "\n",
    "console.log(\"studentName değişkenin içeriği \"+ studentName +\" dir.\") \n",
    "\n",
    "// personName değişkenimizin içeriğine studentName değişkeninin içeriğini depoluyoruz.\n",
    "let personName = studentName;\n",
    "\n",
    "// studentName değişkenimizin içeriğine yeni bir değer depoluyoruz. Bu durumda Hasan için RAM'de yeni bir adres açılacaktır.\n",
    "studentName = \"Hasan\";\n",
    "\n",
    "console.log(\"Buraya dikkat edelim. personName değişkenin depoladığı değer \"+ personName+ \"'dir.\");\n",
    "console.log(studentName);"
   ]
  },
  {
   "cell_type": "markdown",
   "metadata": {},
   "source": [
    "Aşağıda mutable özelliği görülüyor.\n",
    "\n",
    "**Örnek**\n"
   ]
  },
  {
   "cell_type": "code",
   "execution_count": 32,
   "metadata": {
    "vscode": {
     "languageId": "javascript"
    }
   },
   "outputs": [
    {
     "name": "stdout",
     "output_type": "stream",
     "text": [
      "car ifadesi konsola yazdırılır.\n",
      "Konsola long bus ifadesi yazdırılır.\n",
      "long bus\n"
     ]
    }
   ],
   "source": [
    "%%javascript\n",
    "\n",
    "// vehicle değişkenimiz mutable özelliklidir.\n",
    "let vehicle = { type: \"car\", color: \"orange\" };\n",
    "\n",
    "console.log(vehicle[\"type\"]+ \" ifadesi konsola yazdırılır.\");\n",
    "\n",
    "// bus adında bir değişken oluşturuyoruz ve depoladığı değeri vehicle değişkeni referans gösterecek şekilde belirliyoruz.\n",
    "let bus = vehicle;\n",
    "\n",
    "// bus değişkenin type key'ıne ulaşıp yeni bir veri depoluyoruz.\n",
    "bus[\"type\"] = \"long bus\";\n",
    "\n",
    "\n",
    "console.log(\"Konsola \"+bus[\"type\"]+ \" ifadesi yazdırılır.\")\n",
    "\n",
    "/** \n",
    " * Buraya dikkat edelim. vehicle[type]'ın  depoladığı değer \"long bus\" ile overwrite\n",
    " * edilecek ve konsola \"long bus\" ifadesi yazdırılacaktır.\n",
    " * \n",
    " * Çünkü bus değişkeninin içeriğini değiştirdiğimizde aynı zamanda bellekte veriyi tutan referans \n",
    " * adresindeki içeriği de değiştirdik. \n",
    " */\n",
    "console.log(vehicle[\"type\"]);\n"
   ]
  },
  {
   "cell_type": "markdown",
   "metadata": {},
   "source": [
    "## JavaScript'de Veri Türleri ve Veri Tipleri\n",
    "\n",
    "JavaScript'de iki veri türü vardır:\n",
    "\n",
    "1. Primitive (İlkel veri türleri)\n",
    "\n",
    "2. Object (Referans veri türleri)\n",
    "\n",
    "Primitive veri türleri **_number, string, boolean, undefined, null, Symbol_ ve BigInt** veri türlerinden oluşur. **Null** veri türü hariç Bunlar aynı zamanda **immutable** özelliğine sahiptirler.\n",
    "\n",
    "Object veri türleri **_object(nene), array, date, function_** veri türlerinden oluşur. Bunlar aynı zamanda **mutable** özelliğe sahiptirler.\n"
   ]
  },
  {
   "cell_type": "markdown",
   "metadata": {},
   "source": [
    "## JavaScript Değişkenler\n",
    "\n",
    "Programlama dilinde değişkenler veri depolamak için kullanılırlar. Javascript'de değişken tanımlanması `var`, `const` veya `let` keyword'leri ile gerçekleşir.\n",
    "\n",
    "**Örnek**\n"
   ]
  },
  {
   "cell_type": "code",
   "execution_count": 34,
   "metadata": {
    "vscode": {
     "languageId": "javascript"
    }
   },
   "outputs": [
    {
     "name": "stdout",
     "output_type": "stream",
     "text": [
      "4\n",
      "Hasan\n",
      "3.14\n"
     ]
    }
   ],
   "source": [
    "%%javascript\n",
    "// x değişkenine 4 rakamını depoladık.\n",
    "var x = 4;\n",
    "\n",
    "// y değişkenine \"Hasan\" ifadesini depoladık\n",
    "let y = \"Hasan\"\n",
    "\n",
    "// pi değişkenine 3.14 rakamını depoladık\n",
    "const pi=3.14\n",
    "\n",
    "console.log(x);\n",
    "console.log(y);\n",
    "console.log(pi);"
   ]
  },
  {
   "cell_type": "markdown",
   "metadata": {},
   "source": [
    "### JavaScript'de Değişkenler Dinamik Özelliklidir\n",
    "\n",
    "Javascript'de değişkenler dinamik özelliğe sahiptir. Bunun anlamı bir değişken farklı veri tiplerini tutmak için kullanılabilir.\n",
    "\n",
    "**Örnek**\n"
   ]
  },
  {
   "cell_type": "code",
   "execution_count": 35,
   "metadata": {
    "vscode": {
     "languageId": "javascript"
    }
   },
   "outputs": [
    {
     "name": "stdout",
     "output_type": "stream",
     "text": [
      "Sebile\n"
     ]
    }
   ],
   "source": [
    "%%javascript\n",
    "// x değişkeninin  veri tipi undefined'dır..\n",
    "let x;\n",
    "\n",
    "// x değişkeninin veri tipi number'dır..\n",
    "x = 5;\n",
    "\n",
    "// x değişkeninin veri tipi string'dir.\n",
    "x = \"Sebile\";\n",
    "\n",
    "console.log(x);"
   ]
  },
  {
   "cell_type": "markdown",
   "metadata": {},
   "source": [
    "## JavaScript Operatörleri\n",
    "\n",
    "Temelde gündelik hayatta kullandığımız matematiksel ifadeleri JavaScript içerisinde kullanabiliriz. Bunlar `( + - * / )` ifadeleridir ve **_aritmetiksel operatörler_** olarak ifade edilirler.\n",
    "\n",
    "**⚠️ JavaScript'de `=` işareti atama operatörü olarak görev yapar yani matematiksel anlamda eşittir anlamına gelmez. Bunun için `==` veya `===` operatörleri kullanılır.**\n",
    "\n",
    "**Örnek**\n"
   ]
  },
  {
   "cell_type": "code",
   "execution_count": 36,
   "metadata": {
    "vscode": {
     "languageId": "javascript"
    }
   },
   "outputs": [
    {
     "name": "stdout",
     "output_type": "stream",
     "text": [
      "4\n"
     ]
    }
   ],
   "source": [
    "%%javascript\n",
    "// x değişkeni 4 değerini atadık. x referansı 4 değerini depolamış bulunuyor.\n",
    "let x = 4;\n",
    "\n",
    "console.log(x);"
   ]
  },
  {
   "cell_type": "markdown",
   "metadata": {},
   "source": [
    "JavaScript'de bir çok operatör vardır. Yeri geldikçe değineceğim.\n"
   ]
  },
  {
   "cell_type": "markdown",
   "metadata": {},
   "source": [
    "## JavaScript Expression Kavramı\n",
    "\n",
    "JavaScript'de bir satırdaki işlemin hesaplanmasına **_expression_** adı verilir. Bir expression değişkenlerden, değerlerden ve operatörlerden oluşur.\n",
    "\n",
    "**Örnek**\n"
   ]
  },
  {
   "cell_type": "code",
   "execution_count": null,
   "metadata": {
    "vscode": {
     "languageId": "javascript"
    }
   },
   "outputs": [],
   "source": [
    "%%javascript\n",
    "var x = 4;\n",
    "var y = 3;\n",
    "\n",
    "// Expression\n",
    "var z = 4 * 3;"
   ]
  },
  {
   "cell_type": "markdown",
   "metadata": {},
   "source": [
    "## JavaScript Identifiers Kavramı\n",
    "\n",
    "Identifiers'lar bir değişkene veya fonksiyona isim vermede kullanılırlar.\n",
    "\n",
    "JavaScript'de değişkene isim vermede aşağıdaki maddelere dikkat etmemiz gerekir.\n",
    "\n",
    "1. JavaScript'de identifier büyük veya küçük harf; `$` veya `_` işaretleri ile başlayabilir.\n",
    "\n",
    "2. JavaScript identifier'ları **unique** özelliğe sahiptirler. Yani aynı isim başka bir değişken veya metot için kullanılamaz.\n",
    "\n",
    "3. JavaScript case-sensitive özelliğe sahiptir. Yani `x` ile `X` farklı değişkenleri ifade eder.\n",
    "\n",
    "4. Identifier tanımlanırken sayısal değerler ilk karakteri oluşturamaz fakat Identifier'ın başka bölümlerinde kullanılabilirler.\n",
    "\n",
    "5. JavaScript'de rezerve edilmiş keyword'ler identifier olarak kullanılamazlar.\n",
    "\n",
    "**Örnek**\n"
   ]
  },
  {
   "cell_type": "code",
   "execution_count": null,
   "metadata": {
    "vscode": {
     "languageId": "javascript"
    }
   },
   "outputs": [],
   "source": [
    "%%javascript\n",
    "// Doğru isim tanımlamaları, ⚠️ ilk iki satırdaki değişken isimleri aynı  olmasına rağmen farklı değişkenleri tanımlar.\n",
    "var deneme;\n",
    "var Deneme;\n",
    "var DENEME01\n",
    "var $deneme;\n",
    "var _deneme;\n",
    "\n",
    "// Yanlış isim tanımlamaları\n",
    "var 1deneme\n",
    "\n",
    "// let keyword'u değişken ismi olarak kullanılamaz.\n",
    "var let;"
   ]
  },
  {
   "cell_type": "markdown",
   "metadata": {},
   "source": [
    "## JavaScript Büyük Harf/Küçük Harf Ayrımı\n",
    "\n",
    "JavaScript case-sensitive özelliğe sahiptir. Yani büyük harf küçük harf ayrımı yapar. `firstname` ile `firstName` aynı anlama gelmez.\n",
    "\n",
    "⚠️ `-` karakteri JavaScript'de rezerve olması sebebi ile kullanılamaz.\n"
   ]
  }
 ],
 "metadata": {
  "kernelspec": {
   "display_name": "Python 3",
   "language": "python",
   "name": "python3"
  },
  "language_info": {
   "codemirror_mode": {
    "name": "ipython",
    "version": 3
   },
   "file_extension": ".py",
   "mimetype": "text/x-python",
   "name": "python",
   "nbconvert_exporter": "python",
   "pygments_lexer": "ipython3",
   "version": "3.10.12"
  }
 },
 "nbformat": 4,
 "nbformat_minor": 2
}
