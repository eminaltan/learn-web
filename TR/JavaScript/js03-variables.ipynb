{
  "cells": [
    {
      "cell_type": "markdown",
      "metadata": {},
      "source": [
        "# JavaScript'de Değişkenler\n",
        "\n",
        "Merhaba arkadaşlar bu yazıda JavaScript'de değişkenlere değineceğiz.\n",
        "\n",
        "Yazıda:\n",
        "\n",
        "- Değişken tanımlama yöntemlerine.\n",
        "- Veri tiplerine.\n",
        "- Değişken tanımlanmasına.\n",
        "- Aynı değişkenin tekrar tanımlanması yani re-declaring işlemine.\n",
        "- `$` ve `_` işaretlerinin kullanımına.\n",
        "- Block scope kavramına.\n",
        "- Hoist kavramına.\n",
        "\n",
        "Değineceğim.\n",
        "\n",
        "İyi okumalar dilerim.\n"
      ]
    },
    {
      "cell_type": "markdown",
      "metadata": {},
      "source": [
        "## JavaScript Değişken Tanımlama Yöntemleri\n",
        "\n",
        "Değişkenler veri depolamak için kullanılır . Bu kısımda değişken tanımlama yöntemlerini inceleyeceğiz.\n",
        "\n",
        "JavaScript'de bir değişken 4 yöntemle tanımlanabilir:\n",
        "\n",
        "1. Otomatik olarak.\n",
        "\n",
        "2. `var` keyword'u kullanarak.\n",
        "\n",
        "3. `let` keyword'u kullanarak.\n",
        "\n",
        "4. `const` keyword'u kullanarak.\n",
        "\n",
        "Otomatik olarak tanımlanan değişkenlerin başında bir **keyword bulunmaz.** Dolayısıyla bir değişkenin otomatik olarak tanımlandığını bu şekilde anlarız. Otomatik olarak tanımlanan değişkenler matematiksel işlemlerde de kullanılabilirler.\n",
        "\n",
        "**Örnek**\n"
      ]
    },
    {
      "cell_type": "code",
      "execution_count": 11,
      "metadata": {
        "vscode": {
          "languageId": "javascript"
        }
      },
      "outputs": [
        {
          "name": "stdout",
          "output_type": "stream",
          "text": [
            "9\n"
          ]
        }
      ],
      "source": [
        "%%script node\n",
        "    x = 4;\n",
        "    y = 5;\n",
        "    c = x + y;\n",
        "\n",
        "    // Konsola 9 rakamı yazdırılır.\n",
        "    console.log(c);"
      ]
    },
    {
      "cell_type": "markdown",
      "metadata": {},
      "source": [
        "**💡 Değişkenleri daima JavaScript dokümanının veya bulunduğu **_scope_**'un[^1] başında tanımlamak olası problemlerin önüne geçecektir. Buna [JavaScript Hoist](#javascript-hoist) başlığı altında değineceğim.**\n",
        "\n",
        "**💡 1995-2015 arasında değişken tanımlamak için `var` keyword'u kullanılırdı, 2015'de değişken tanımlamak için JavaScript'e ek olarak `let` ve `const` keyword'leri de eklenmiştir. Böylece bir dokümanın içeriğine bakarak modern veya eski tarayıcılar için hazırlandığını anlayabiliriz.**\n"
      ]
    },
    {
      "cell_type": "markdown",
      "metadata": {},
      "source": [
        "### `var`, `let` ve `const` Keyword Kullanım Sıralaması\n",
        "\n",
        "Değişkenler dokümanın veya bulunduğu scope'un başında tanımlanmalıdır. Genel olarak değişken oluştururken aşağıdaki sıralamanın izlenmesi tavsiye edilir:\n",
        "\n",
        "1. Otomatik değişken kullanılmaması tavsiye edilir.\n",
        "\n",
        "2. Eğer bir değişkenin içeriği sabitse yani değişmeyecekse daima `const` keyword'u kullanılarak tanımlanması tavsiye edilir.\n",
        "\n",
        "3. Array ve object türündeki değişkenlerin içeriği sabitse yani değişmeyecekse daima `const` keyword'u kullanılarak tanımlanması tavsiye edilir.\n",
        "\n",
        "4. `const` keyword'nun kullanılamadığı durumlarda `let` keyword'u kullanılarak değişken tanımlanması tavsiye edilir.\n",
        "\n",
        "5. Şayet eski browser'lar için script yazacak isek `var` keyword'unun kullanılması tavsiye edilir.\n"
      ]
    },
    {
      "cell_type": "markdown",
      "metadata": {},
      "source": [
        "## JavaScript Veri Türleri\n",
        "\n",
        "Diğer programlama dillerinde olduğu gibi JavaScript'de de bir çok veri türü bulunmaktadır. Veri türlerine örnek verirsek string'ler ve numerik değerler JavaScript içerisinde en fazla kullanılan veri türleridir. Şimdilik ihtiyacımız kadarına değiniyorum.\n",
        "\n",
        "**⚠️ String veri türleri `\"\"` veya `''` işaretleri arasında kullanılırlar. Bir sayısal ifade `\"\"` veya `''` işaretleri arasında kullanılıyorsa bu onun _*numerik string*_ olarak ifade edildiğini gösterir.**\n",
        "\n",
        "**Örnek**\n"
      ]
    },
    {
      "cell_type": "code",
      "execution_count": 12,
      "metadata": {
        "vscode": {
          "languageId": "javascript"
        }
      },
      "outputs": [],
      "source": [
        "%%script node\n",
        "// str1 string türünde bir değişkendir.\n",
        "var str1 = \"Test\";\n",
        "\n",
        "// str2 numerik string türünde bir değişkendir.\n",
        "var str2 = \"4\";\n",
        "\n",
        "// str3 numerik string türünde bir değişkendir.\n",
        "var str3 = `3`;\n",
        "\n",
        "// str3 numerik türünde bir değişkendir.\n",
        "var str4 = 4;\n",
        "\n",
        "// str4 string türünde bir değişkendir.\n",
        "var str4 = `Text`;"
      ]
    },
    {
      "cell_type": "markdown",
      "metadata": {},
      "source": [
        "**⚠️ Sayısal string dışındaki diğer string türleri matematiksel işlemlerde sonuca katkıda bulunmazlar. Şayet bir string matematiksel ifade içerisinde kullanılırsa işlem sonucunun veri tipi string olacaktır. Bu durum string'in bulunduğu yere göre sonucu etkiler. Sayısal özellikli string'ler için durum biraz daha farklıdır. Daha detaylı bilgi almak için [JavaScript Numeric String Veri Tipleri](js07-numeric-data-type.ipynb#javascript-numeric-string-veri-tipleri) başlığına bakabilirsiniz.**\n",
        "[#1](https://github.com/eminaltan/learn-web/issues/1)\n",
        "\n",
        "**JavaScript'de expression'lar (ifadeler) soldan sağa şekilde değerlendirilir. Yani Javascript ifadenin nerede string olacağını bu pattern'e göre belirler.**\n",
        "\n",
        "**Örnek**\n"
      ]
    },
    {
      "cell_type": "code",
      "execution_count": 13,
      "metadata": {
        "vscode": {
          "languageId": "javascript"
        }
      },
      "outputs": [
        {
          "name": "stdout",
          "output_type": "stream",
          "text": [
            "Konsola 71 yazdırılacaktır.\n",
            "Konsola 143 yazdırılacaktır.\n",
            "Konsola 8 yazdırılacaktır.\n"
          ]
        }
      ],
      "source": [
        "%%script node\n",
        "\n",
        "var x = 4 + 3 + \"1\";\n",
        "\n",
        "// Konsola 71 yazdırılacaktır.\n",
        "console.log(\"Konsola \"+ x + \" yazdırılacaktır.\")\n",
        "\n",
        "var y = \"1\" + 4 + 3;\n",
        "\n",
        "// Konsola 143 yazdırılacaktır.\n",
        "console.log(\"Konsola \"+ y + \" yazdırılacaktır.\")\n",
        "\n",
        "// Konsola 8 yazdırılacaktır.\n",
        "y = \"9\" - 4 + 3;\n",
        "console.log(\"Konsola \"+ y + \" yazdırılacaktır.\")"
      ]
    },
    {
      "cell_type": "markdown",
      "metadata": {},
      "source": [
        "Matematiksel operatörlerden `+` işareti string veri tiplerinde kullanılabilir. Bu durumda string'ler birbirine eklenir. String veri tipleri için `+` işareti **_ekleme operatörü_** olarak isimlendirilir.\n",
        "\n",
        "**Örnek**\n"
      ]
    },
    {
      "cell_type": "code",
      "execution_count": 14,
      "metadata": {
        "vscode": {
          "languageId": "javascript"
        }
      },
      "outputs": [
        {
          "name": "stdout",
          "output_type": "stream",
          "text": [
            "Konsola Emin Altan yazdırılacaktır.\n"
          ]
        }
      ],
      "source": [
        "%%script node\n",
        "let x = \"Emin\" + \" \" + \"Altan\";\n",
        "\n",
        "// Konsola Emin Altan yazdırılacaktır.\n",
        "console.log(\"Konsola \" + x + \" yazdırılacaktır.\");"
      ]
    },
    {
      "cell_type": "markdown",
      "metadata": {},
      "source": [
        "## JavaScript'de Değişken Tanımlama\n",
        "\n",
        "Bir değişken oluşturulma işlemine JavaScript'de **_declaration_** adı verilir. Değişken deklarasyonu yapılırken en çok `const` ve `let` keyword'lerinden faydalanılır.\n",
        "\n",
        "Bir değişken içeriğine değer atanmadan deklarasyonu yapılabilir. Bu durumdaki değişkenin içeriği `undefined` olarak belirlenir. **Bu durum `const` ile tanımlanan değişken için geçerli değildir. `const` keyword'u kullanılarak deklarasyonu yapılacak olan değişkene aynı satırda değer atanması şarttır.**\n",
        "\n",
        "**💡 `undefined` aynı zamanda bir keyword olup özellikle _*conditional statement*_'lar[^2] oluştururken bazen faydalı olabilir.**\n",
        "\n",
        "**Örnek**\n"
      ]
    },
    {
      "cell_type": "code",
      "execution_count": null,
      "metadata": {
        "vscode": {
          "languageId": "javascript"
        }
      },
      "outputs": [],
      "source": [
        "%%script node\n",
        "// x değişkenine değer atamadan oluşturduk bu durumdaki değişken içeriği undefined olarak belirlenir.\n",
        "var x;\n",
        "\n",
        "// ❌ const keyword'u kullanılarak tanımlanan değişkenin bu şeklide kullanımı uygun değildir.\n",
        "const firstName;\n",
        "firstName =\"Murat\";\n",
        "\n",
        "// ✔️ const keyword'u ile gerçekleştirilen deklarasyon tek satırda tanımlanmış olmalıdır.\n",
        "const firstName2=\"Sinan\";"
      ]
    },
    {
      "cell_type": "markdown",
      "metadata": {},
      "source": [
        "**💡 Aynı tipteki değişkenleri tek bir satırda tanımlayabiliriz, bu bize zamandan kazandırır. Bu durumda değişkenler arasına `,` işareti yerleştirilir.**\n",
        "\n",
        "**Örnek**\n"
      ]
    },
    {
      "cell_type": "code",
      "execution_count": 16,
      "metadata": {
        "vscode": {
          "languageId": "javascript"
        }
      },
      "outputs": [
        {
          "name": "stdout",
          "output_type": "stream",
          "text": [
            "Emin\n"
          ]
        }
      ],
      "source": [
        "%%script node\n",
        "let name = \"Emin\", surname = \"Altan\", id = 500;\n",
        "// Konsola Emin\n",
        "console.log (name)"
      ]
    },
    {
      "cell_type": "markdown",
      "metadata": {},
      "source": [
        "**❗ JavaScript'de değişken isimleri aslında referans işlevi görür. Yani bir değerin ifade edilmesi için referans olarak kullanılırlar. `const` keyword'unu bu perspektiften incelediğimizde aslında sabit bir değişken tanımlamak için değil sabit bir değer için referans oluşturmak amacıyla kullanılır. Bu ayrımın anlaşılması object ve array türündeki verilerin `const` keyword'u ile birlikte kullanılması açısından önemlidir. Bunu bir örnek ile inceleyelim. Yazımın ilerleyen dönemlerinde array ve object türlerine değineceğim.**\n",
        "\n",
        "**Örnek**\n"
      ]
    },
    {
      "cell_type": "code",
      "execution_count": null,
      "metadata": {
        "vscode": {
          "languageId": "javascript"
        }
      },
      "outputs": [
        {
          "data": {
            "application/javascript": "// Array türünde değerlerimizi  const ile tanımlanmış cities adında değişkene depoluyoruz.\nconst cities = [\"Bursa\", \"İzmir\", \"Ankara\"];\n\n// cities array türündeki verinin ilk elementini (yani Bursa) değerini konsola yazdırıyoruz.\nconsole.log(cities[0]);\n\n// cities array türündeki verinin ilk elementini (yani Bursa) yeni bir değer ile yer değiştiriyoruz.\ncities[0] = \"İstanbul\";\n\n// cities referansının ilk değerini konsola yazdırıyoruz. Bu durumda ilk değer Bursa değil, İstanbul olacaktır.\nconsole.log(cities[0]);\n\n// ❌ cities referansına yeni bir değer atayamayız.\ncities = [\"Tekirdağ\", \"Samsun\", \"Sinop\"];\n",
            "text/plain": [
              "<IPython.core.display.Javascript object>"
            ]
          },
          "metadata": {},
          "output_type": "display_data"
        }
      ],
      "source": [
        "%%script node\n",
        "// Array türünde değerlerimizi  const ile tanımlanmış cities adında değişkene depoluyoruz.\n",
        "const cities = [\"Bursa\", \"İzmir\", \"Ankara\"];\n",
        "\n",
        "// cities array türündeki verinin ilk elementini (yani Bursa) değerini konsola yazdırıyoruz.\n",
        "console.log(cities[0]);\n",
        "\n",
        "// cities array türündeki verinin ilk elementini (yani Bursa) yeni bir değer ile yer değiştiriyoruz.\n",
        "cities[0] = \"İstanbul\";\n",
        "\n",
        "// cities referansının ilk değerini konsola yazdırıyoruz. Bu durumda ilk değer Bursa değil, İstanbul olacaktır.\n",
        "console.log(cities[0]);\n",
        "\n",
        "// ❌ cities referansına yeni bir değer atayamayız.\n",
        "cities = [\"Tekirdağ\", \"Samsun\", \"Sinop\"];\n"
      ]
    },
    {
      "cell_type": "markdown",
      "metadata": {},
      "source": [
        "## JavaScript Aynı Değişkenin Tekrar Tanımlanması\n",
        "\n",
        "JavaScript'de bir değişken `var` keyword'u ile tekrar tanımlanabilir. Bu işleme **_re-declaring_** adı verilir. Bu durumdaki değişkene yeni veri atanmadığı sürece depolanmış verisini korur.\n",
        "\n",
        "**Örnek**\n"
      ]
    },
    {
      "cell_type": "code",
      "execution_count": null,
      "metadata": {
        "vscode": {
          "languageId": "javascript"
        }
      },
      "outputs": [
        {
          "data": {
            "application/javascript": "var firstName = \"Emin\";\n\n/**\n *  firstName  değişken  deklarasyonu tekrarlanmış. firstName değişkenine yeni bir değer atanmadığı sürece \n * depoladığı bilgiyi koruyacaktır.\n */\nvar firstName;\n\nconsole.log(\"Konsola \"+ firstName + \" ifadesi yazdırılır.\");\n\nfirstName = \"Murat\";\n\nconsole.log(\"firstName değişkeninin yeni değeri Murat olacak ve konsola \" + firstName + \"ifadesi yazdırılacaktır.\");\n",
            "text/plain": [
              "<IPython.core.display.Javascript object>"
            ]
          },
          "metadata": {},
          "output_type": "display_data"
        }
      ],
      "source": [
        "%%script node\n",
        "var firstName = \"Emin\";\n",
        "\n",
        "/**\n",
        " *  firstName  değişken  deklarasyonu tekrarlanmış. firstName değişkenine yeni bir değer atanmadığı sürece \n",
        " * depoladığı bilgiyi koruyacaktır.\n",
        " */\n",
        "var firstName;\n",
        "\n",
        "console.log(\"Konsola \"+ firstName + \" ifadesi yazdırılır.\");\n",
        "\n",
        "firstName = \"Murat\";\n",
        "\n",
        "console.log(\"firstName değişkeninin yeni değeri Murat olacak ve konsola \" + firstName + \"ifadesi yazdırılacaktır.\");"
      ]
    },
    {
      "cell_type": "markdown",
      "metadata": {},
      "source": [
        "**⚠️ `let` ve `const` ile tanımlanmış bir değişken tekrar tanımlanamaz. Bir değişkenin tekrar tanımlanabilme özelliği sadece `var` keyword'u için geçerlidir.**\n"
      ]
    },
    {
      "cell_type": "markdown",
      "metadata": {},
      "source": [
        "## JavaScript `$` Simgesinin Kullanılması\n",
        "\n",
        "**💡 Genelde `$` simgesi değişken tanımlamak için kullanılmaz. Bir javascript kütüphanesi içerisindeki metoda _*alias*_[^3] vermek için kullanılır. Mesela `$` işareti JQuery kütüphanesindeki tüm `<a>` elementlerini seçmek için kullanılabilir. `$(\"a\")` gibi.**\n"
      ]
    },
    {
      "cell_type": "markdown",
      "metadata": {},
      "source": [
        "## JavaScript `_` Simgesinin Kullanılması\n",
        "\n",
        "**💡 Genelde JavaScript'de `_`(underscore) işareti bir değişkenin private olduğunu ifade etmek için kullanılır.**\n"
      ]
    },
    {
      "cell_type": "markdown",
      "metadata": {},
      "source": [
        "## Block Scope Kavramı\n",
        "\n",
        "2015'den (ES6) önce JavaScript'de 2 tür scope kavramı bulunmaktaydı bunlar **_global scope_**[^4] ve **_function scope_**[^5] kavramları idi. ES6 ile `let` ve `const` keyword'leri JavaScript'e entegre olmuştur. **Bu keyword'ler kullanılarak oluşturulan bir değişken bulunduğu scope dışından erişilemez ve kullanılamaz.** Bu ifade **_block scope_** kavramını oluşturur.\n",
        "\n",
        "**⚠️ `var` keyword'una bulunduğu scope dışından erişilebilir ve kullanılabilir.**\n",
        "\n",
        "**Örnek**\n"
      ]
    },
    {
      "cell_type": "code",
      "execution_count": null,
      "metadata": {
        "vscode": {
          "languageId": "javascript"
        }
      },
      "outputs": [
        {
          "data": {
            "application/javascript": "{\n  let x = 5;\n  var y = 10;\n}\n\n// ❌ x değişkenine erişilemez ve kullanılamaz. Konsola \"ReferenceError: x is not defined\" ifadesi yazdırılır.\nconsole.log(x);\n\n// y değişkenine erişilebilir ve kullanılabilir. Konsola 10 rakamı yazdırılır.\nconsole.log(y);\n",
            "text/plain": [
              "<IPython.core.display.Javascript object>"
            ]
          },
          "metadata": {},
          "output_type": "display_data"
        }
      ],
      "source": [
        "%%script node\n",
        "{\n",
        "  let x = 5;\n",
        "  var y = 10;\n",
        "}\n",
        "\n",
        "// ❌ x değişkenine erişilemez ve kullanılamaz. Konsola \"ReferenceError: x is not defined\" ifadesi yazdırılır.\n",
        "console.log(x);\n",
        "\n",
        "// y değişkenine erişilebilir ve kullanılabilir. Konsola 10 rakamı yazdırılır.\n",
        "console.log(y);"
      ]
    },
    {
      "cell_type": "markdown",
      "metadata": {},
      "source": [
        "## JavaScript Hoist\n",
        "\n",
        "Bazen bir değişkene değer atar sonrasında tanımlarız. Bu durumda JavaScript değişkeni bulunduğu scope içerisinde en üst satıra taşıyacak ve kodları çalıştıracaktır. Kısaca buna hoist adı verilir. Hoist (kaldırma) kelimesinin anlamından ne işe yaradığını aklınızda tutabilirsiniz.\n",
        "\n",
        "**⚠️ Hoist kavramı `var` keyword'u ile tanımlanan değişkenler için tam anlamıyla çalışır. `let` ve `const` ile tanımlanan bir değişken hoist edilir fakat initialize edilemezler. Bunun anlamı `let` veya `const` ile tanımlanan bir değişken scope içerisinde en üst satıra taşınır fakat deklarasyonu yapılamadan kullanılamazlar. Şayet hoist özelliğini kullanırsak `ReferenceError` hatası ile karşılaşırız. değişken _*temporal dead zone*_'a[^6] düşer. Bu durumdaki değişkenler deklarasyonu yapılıp veri depolandıktan sonra kullanılabilir.**\n",
        "\n",
        "**❗ JavaScript'de hoist özelliğini şahsen kullanılmamasını tavsiye ederim. Çünkü bu bazen hangi verinin nereden geldiğinin zor anlaşılmasına neden olur. İdeal olan bir değişkeni ile depolayacağı veriyi aynı satırda deklarasyonunu yapmak olacaktır.**\n"
      ]
    },
    {
      "cell_type": "code",
      "execution_count": null,
      "metadata": {
        "vscode": {
          "languageId": "javascript"
        }
      },
      "outputs": [
        {
          "data": {
            "application/javascript": "// Örnekte önce değişkeni kullanıyoruz ikinci satırda tanımlamasını yapıyoruz. Buna hoist adı verilir.\ncarName = \"Lada\";\nvar carName;\n\n// Konsola \"Lada\" ifadesi yazılır.\nconsole.log(carName);\n\n// ❌ let veya const ile tanımlanan değişkenlerde hoist özelliğini kullanılması durumunda ReferenceError hatası ile karşılaşırız.\nmodel = \"Niva\";\nlet model;\n",
            "text/plain": [
              "<IPython.core.display.Javascript object>"
            ]
          },
          "metadata": {},
          "output_type": "display_data"
        }
      ],
      "source": [
        "%%script node\n",
        "// Örnekte önce değişkeni kullanıyoruz ikinci satırda tanımlamasını yapıyoruz. Buna hoist adı verilir.\n",
        "carName = \"Lada\";\n",
        "var carName;\n",
        "\n",
        "// Konsola \"Lada\" ifadesi yazılır.\n",
        "console.log(carName);\n",
        "\n",
        "// ❌ let veya const ile tanımlanan değişkenlerde hoist özelliğini kullanılması durumunda ReferenceError hatası ile karşılaşırız.\n",
        "model = \"Niva\";\n",
        "let model;\n"
      ]
    },
    {
      "cell_type": "markdown",
      "metadata": {},
      "source": [
        "[^1]: Scope bir değişkenin erişebilir olduğu alanı ifade etmek için kullanılan terimdir.\n",
        "[^2]: Conditional statement JavaScript'de bir takım çıktılara göre programın akışını değiştirmek isteyebiliriz bu durumda `if else else if` gibi ifadelerden faydalanırız. Bunlara conditional statement adı verilir.\n",
        "[^3]: JavaScript'de bir değişkeninin içeriği başka bir değişkene kopyalanabilir. Genel olarak bu tanım alias kavramını oluşturur. Alias'lar anlaşılabilir ve semantic kodlar yazmamızı sağlarlar. Örneğin `let x=5; var aliasVariable=x;` şeklindeki bir ifade de `x` ile `aliasVariable` aynı değeri paylaşırlar. `x` referans olarak ifade edilirken, `aliasVariable` alias olarak ifade edilir.\n",
        "[^4]: Bunu bir metafor üzerinden açıklayacağım. Matematikte evrensel küme kavramını biliriz. Evrensel küme diğer kümeleri kapsaması gibi JavaScript'de global scope içerisinde tanımlanmış değişken veya metotları (fonksiyonları) kapsar ve script'in her yerinden erişilebilir kılar. Yani global scope burada evrensel küme olarak ifade edilebilir. Bu anlamda geneldirler.\n",
        "[^5]: Bir metot (fonksiyon) içerisindeki tanımlanan değişkenleri veya başka metotları ifade eder. Function scope içerisindeki değişkenler dışarıdan erişilip kullanılamaz sadece tanımlandığı scope içerisinde kullanılabilir. Bu anlamda özeldirler.\n",
        "[^6]: Hoisting için kullanılan bu kavram, bir değişkenin ulaşılamaz ve kullanılamaz olduğunu ifade etmek için kullanılır. Ta ki değişkeni tanımlandıktan sonra kullanılana kadar.\n"
      ]
    }
  ],
  "metadata": {
    "kernelspec": {
      "display_name": "Python 3",
      "language": "python",
      "name": "python3"
    },
    "language_info": {
      "codemirror_mode": {
        "name": "ipython",
        "version": 3
      },
      "file_extension": ".py",
      "mimetype": "text/x-python",
      "name": "python",
      "nbconvert_exporter": "python",
      "pygments_lexer": "ipython3",
      "version": "3.10.12"
    }
  },
  "nbformat": 4,
  "nbformat_minor": 2
}
