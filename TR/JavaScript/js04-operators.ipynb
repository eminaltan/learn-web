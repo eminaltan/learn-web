{
  "cells": [
    {
      "cell_type": "markdown",
      "metadata": {},
      "source": [
        "# JavaScript Operatörleri\n",
        "\n",
        "Merhaba arkadaşlar bu yazıda JavaScript'de operatörlere ve en çok kullanılan operatör türlerine değineceğiz.\n",
        "\n",
        "Yazıda:\n",
        "\n",
        "- Operatör ve operand kavramına.\n",
        "- JavaScript operatörlerine.\n",
        "- Aritmetiksel (Arithmetic) operatörlere.\n",
        "- Atama (Assignment) operatörlerine.\n",
        "- Kıyaslama (Comparison) operatörlerine.\n",
        "- String operatörlere.\n",
        "- Mantıksal (Logical) operatörlere.\n",
        "- Bit türündeki (Bitwise) operatörlere.\n",
        "- Type operatörlerine.\n",
        "- Operatör öncelliğine.\n",
        "\n",
        "Değineceğim.\n",
        "\n",
        "İyi okumalar dilerim.\n"
      ]
    },
    {
      "cell_type": "markdown",
      "metadata": {},
      "source": [
        "## Operator ve Operand Kavramları\n",
        "\n",
        "Bir JavaScript expression'da değerlere **_operand_** ve operand'lar arasında işlemler yapmamızı sağlayan işaretlere **_operator_** adı verilir.\n",
        "\n",
        "![Operand ve operatör örneği](https://www.oreilly.com/api/v2/epubs/0596101104/files/httpatomoreillycomsourceoreillyimages108816.png \"Operand ve operatörler\")\n"
      ]
    },
    {
      "cell_type": "markdown",
      "metadata": {},
      "source": [
        "## JavaScript Operatörleri\n",
        "\n",
        "Operatörleri matematiksel işlemlerden bir script'in çalışma akışını değiştirmeye kadar çeşitli işlemlerde kullanırız. Diğer programlama dillerinde olduğu gibi JavaScript içerisinde bir çok operatör vardır.\n",
        "\n",
        "JavaScript'de operatörler aşağıdaki gibi listelenebilir:\n",
        "\n",
        "1. Aritmetik (Arithmetic) operatörleri.\n",
        "\n",
        "2. Atama (Assignment) operatörleri.\n",
        "\n",
        "3. Kıyaslama (Comparison) operatörleri.\n",
        "\n",
        "4. String operatörler.\n",
        "\n",
        "5. Mantıksal (Logical) operatörler.\n",
        "\n",
        "6. Bit türündeki (Bitwise) operatörler.\n",
        "\n",
        "7. Type operatörler.\n",
        "\n",
        "Şimdi bunları tek tek inceleyelim arkadaşlar.\n"
      ]
    },
    {
      "cell_type": "markdown",
      "metadata": {},
      "source": [
        "## JavaScript Aritmetik Operatörleri\n",
        "\n",
        "Daha önce değindiğim gibi gündelik hayatta matematiksel işlemler için kullandığımız operatörleri JavaScript'de de kullanabiliriz.\n",
        "\n",
        "Operatörlere ait işaretler ve anlamları aşağıdaki tablodaki gibidir:\n",
        "\n",
        "| **Operator** | **Açıklama**                                                              |\n",
        "| ------------ | ------------------------------------------------------------------------- |\n",
        "| `+`          | Toplama işlemi yapmak için kullanılır.                                    |\n",
        "| `-`          | Çıkarma işlemi için kullanılır.                                           |\n",
        "| `* `         | Çarpma işlemi için kullanılır.                                            |\n",
        "| `**`         | Üs alma operatörüdür. Üs alma işlemi için kullanılır.                     |\n",
        "| `/ `         | Bölme işlemi için kullanılır.                                             |\n",
        "| `%`          | Modul operatörü bölme işleminde kalanı almak için kullanılır.             |\n",
        "| `++`         | Artırma işlemi için kullanılır. Bir değişkeni +1 olacak şekilde artırır. |\n",
        "| `--`         | Çıkarma işlemi için kullanılır. Bir değişkeni -1 olacak şekilde azaltır. |\n",
        "\n",
        "Aritmetiksel operatörlerde literal türündeki değerler de kullanılabilir.\n",
        "\n",
        "**Örnek**\n"
      ]
    },
    {
      "cell_type": "code",
      "execution_count": 1,
      "metadata": {
        "vscode": {
          "languageId": "javascript"
        }
      },
      "outputs": [
        {
          "name": "stdout",
          "output_type": "stream",
          "text": [
            "Konsola 225 yazdırılacaktır.\n"
          ]
        }
      ],
      "source": [
        "%%script node\n",
        "// x değişkeni  sabit türündeki değerlerin toplamını depoluyor.\n",
        "let x = 200 + 25;\n",
        "\n",
        "\n",
        "console.log(\"Konsola \"+ x + \" yazdırılacaktır.\");\n"
      ]
    },
    {
      "cell_type": "markdown",
      "metadata": {},
      "source": [
        "Şimdi de bazı aritmetiksel operatörlere değinelim. Örneklerde sıkça görebileceğiniz için toplama ve çıkarma gibi operatörleri es geçiyorum.\n"
      ]
    },
    {
      "cell_type": "markdown",
      "metadata": {},
      "source": [
        "### `**` Üs Alma Operatörü\n",
        "\n",
        "Bir sayının üssünü almak için kullanılır.\n",
        "\n",
        "**Örnek**\n"
      ]
    },
    {
      "cell_type": "code",
      "execution_count": null,
      "metadata": {
        "vscode": {
          "languageId": "javascript"
        }
      },
      "outputs": [],
      "source": [
        "%%script node\n",
        "const x = 5;\n",
        "\n",
        "// 5 rakamının karesini alacaktır.\n",
        "let result = x ** 2;\n",
        "\n",
        "console.log(\"Konsola \"+ result+ \" değerini yazdıracaktır.\");\n",
        "\n",
        "// 5 rakamının küpünü alacaktır.\n",
        "let result2 = x ** 3;\n",
        "\n",
        "// Konsola 125 değerini yazdıracaktır.\n",
        "console.log(\"Konsola \"+ result2+ \" değerini yazdıracaktır.\");\n"
      ]
    },
    {
      "cell_type": "markdown",
      "metadata": {},
      "source": [
        "### `%` Modul Operatörü\n",
        "\n",
        "Bazen bir bölme işleminin sonucunda kalan değeri tam sayı olarak almak isteyebiliriz bu durumda modul operatörü kullanılır.\n",
        "\n",
        "**Örnek**\n"
      ]
    },
    {
      "cell_type": "code",
      "execution_count": null,
      "metadata": {
        "vscode": {
          "languageId": "javascript"
        }
      },
      "outputs": [],
      "source": [
        "%%script node\n",
        "// 9'un 4'e bölümünden kalan değer konsola yazdırılır. Kalan değer 1'dir.\n",
        "console.log(9 % 4);\n"
      ]
    },
    {
      "cell_type": "markdown",
      "metadata": {},
      "source": [
        "### `++` Operatörü\n",
        "\n",
        "JavaScript' de bir değişkenin değerini +1 olarak artırma yöntemi olarak `++` operatörünü alternatif olarak kullanabiliriz.\n",
        "\n",
        "**Örnek**\n"
      ]
    },
    {
      "cell_type": "code",
      "execution_count": null,
      "metadata": {
        "vscode": {
          "languageId": "javascript"
        }
      },
      "outputs": [],
      "source": [
        "%%script node\n",
        "let x = 5;\n",
        "\n",
        "x++;\n",
        "\n",
        "// x değişkeni yeni değer olarak 6 rakamını depolayacaktır.\n",
        "console.log(x);\n"
      ]
    },
    {
      "cell_type": "markdown",
      "metadata": {},
      "source": [
        "### `--` Operatörü\n",
        "\n",
        "JavaScript' de bir değişkenin değerini -1 olarak azaltma yöntemi olarak `--` operatörünü alternatif olarak kullanabiliriz.\n",
        "\n",
        "**Örnek**\n"
      ]
    },
    {
      "cell_type": "code",
      "execution_count": null,
      "metadata": {
        "vscode": {
          "languageId": "javascript"
        }
      },
      "outputs": [],
      "source": [
        "%%script node\n",
        "let x = 10;\n",
        "x--;\n",
        "\n",
        "// x değişkeni yeni değer olarak 9 rakamını depolayacaktır.\n",
        "console.log(x);\n"
      ]
    },
    {
      "cell_type": "markdown",
      "metadata": {},
      "source": [
        "### Operatör Öncelliği\n",
        "\n",
        "JavaScript'de işlem öncelliği matematikte olduğu gibidir. **Bazen işlem önceliğini kendimiz ayarlamak isteriz bu durumda öncelik vermek istediğimiz expression'ları parantez içerisine alırız.**\n",
        "\n",
        "**Örnek**\n"
      ]
    },
    {
      "cell_type": "code",
      "execution_count": null,
      "metadata": {
        "vscode": {
          "languageId": "javascript"
        }
      },
      "outputs": [],
      "source": [
        "%%script node\n",
        "// Normalde işlemin sonucu 80 olacaktır.\n",
        "console.log(20 + 30 * 2);\n",
        "\n",
        "/**\n",
        " * Bu durumda işlemin sonucu 100 olacaktır. Çünkü 20 ve 30 değerlerini parantez içinde tanımladık.\n",
        " * İşlem öncelliği buraya verilecektir.\n",
        " */\n",
        "console.log((20 + 30) * 2);\n"
      ]
    },
    {
      "cell_type": "markdown",
      "metadata": {},
      "source": [
        "**⚠️ Bir expression'da aynı seviyeden operatörler bulunması halinde işlem önceliği soldan sağa şeklinde olacak ve sonuç bu pattern'e göre oluşturulacaktır. Aynı zamanda bu JavaScript'in varsayılan davranışıdır.**\n",
        "\n",
        "**Örnek**\n"
      ]
    },
    {
      "cell_type": "code",
      "execution_count": null,
      "metadata": {
        "vscode": {
          "languageId": "javascript"
        }
      },
      "outputs": [],
      "source": [
        "%%script node\n",
        "let x = 20 - 3 + 2;\n",
        "\n",
        "// Sonuç 19 olacaktır.\n",
        "console.log(x);\n"
      ]
    },
    {
      "cell_type": "markdown",
      "metadata": {},
      "source": [
        "## JavaScript Atama Operatörleri\n",
        "\n",
        "Atama operatörleri bir değişkene veri atamak için kullanılır.\n",
        "\n",
        "**⚠️ JavaScript'de temelde atama operatörü olarak `=` işareti kullanılır. Eşittir işareti olarak `==` veya `===` ifadelerinden faydalanırız. Bu ifadelerde [Javascript Kıyaslama Operatörleri](#javascript-kıyaslama-operatörleri) başlığı altında değineceğim çünkü bu operatörler kıyaslama işlemleri için kullanılırlar.**\n",
        "\n",
        "JavaScript'deki atama operatörlerini listeleyecek olursak:\n",
        "\n",
        "| **Operator** | **Örnek** | **Matematiksel Karşılığı** |\n",
        "| ------------ | --------- | -------------------------- |\n",
        "| `=`          | x = y     | x = y                      |\n",
        "| `+=`         | x += y    | x = x + y                  |\n",
        "| `-= `        | x -= y    | x = x - y                  |\n",
        "| `*=`         | x \\*= y   | x = x \\* y                 |\n",
        "| `= `         | x /= y    | x = x / y                  |\n",
        "| `%=`         | x %= y    | x = x % y                  |\n",
        "| `**=`        | x \\*\\*= y | x = x \\*\\* y               |\n",
        "\n",
        "Bir örnekle nasıl kullanıldığını görelim. Diğer operatörler de benzer mantıkla çalışır.\n",
        "\n",
        "**Örnek**\n"
      ]
    },
    {
      "cell_type": "code",
      "execution_count": null,
      "metadata": {
        "vscode": {
          "languageId": "javascript"
        }
      },
      "outputs": [],
      "source": [
        "%%script node\n",
        "let x = 10;\n",
        "\n",
        "let y = 5;\n",
        "\n",
        "// Sonuç 18 olacaktır. x=x+8 yani x=10+8 ifadesinin matematiksel karşılığıdır.\n",
        "console.log((x += 8));\n",
        "\n",
        "// Sonuç 125 olacaktır y=y**3 yani y=5x5x5 ifadesinin karşılığıdır.\n",
        "console.log((y **= 3));\n",
        "\n",
        "let z;\n",
        "z = \"Selam\" + \" \" + \"Dostum\";\n",
        "\n",
        "// \"Selam Dostum\" string'i konsola yazılacaktır.\n",
        "console.log(z);\n"
      ]
    },
    {
      "cell_type": "markdown",
      "metadata": {},
      "source": [
        "## JavaScript Kıyaslama Operatörleri\n",
        "\n",
        "Kıyaslama operatörleri iki veya daha fazla değişkeni kıyaslamak için kullanılır. Özellikle conditional statement'ler ile birlikte iki veya daha fazla değişkenin birbiriyle durumunu sorgulayarak ve program akışını değiştirmek için kullanılır.\n",
        "\n",
        "**⚠️ Kıyaslama operatörleri bir kıyaslama işleminin sonucu doğru ise `true`, yanlış ise `false` değerini döndürür.**\n",
        "\n",
        "Kıyaslama operatörlerini listelersek:\n",
        "\n",
        "| **Operator** | **Açıklama**                                 |\n",
        "| ------------ | -------------------------------------------- |\n",
        "| `==`         | Eşittir.                                     |\n",
        "| `===`        | Değişken veri tipi ve içeriği eşittir.       |\n",
        "| `!=`         | Eşit değildir.                               |\n",
        "| `!==`        | Değişken veri tipi ve içeriği eşit değildir. |\n",
        "| `>`          | Büyüktür.                                    |\n",
        "| `<`          | Küçüktür.                                    |\n",
        "| `>=`         | Büyük eşittir.                               |\n",
        "| `<==`        | Küçük eşittir.                               |\n",
        "| `?`          | Ternary operatör.                            |\n",
        "\n",
        "Burada önemli olduğunu düşündüğüm operatörlere değineceğim. Diğer operatörleri örnekleri gördükçe ne işe yaradığını hemen anlayabilirsiniz.\n"
      ]
    },
    {
      "cell_type": "markdown",
      "metadata": {},
      "source": [
        "**❗ Nasıl armut ile elmayı kıyaslayamıyorsak JavaScript'de de kıyaslanacak değişkenlerin aynı türde olması gerekir. Aksi taktirde kıyaslama sonucunda anlam veremediğimiz sorunlar ile karşılaşabiliriz. değişkenleri birbirine dönüştürmek için JavaScript bir takım metotları içerisinde barındırır fakat konu kapsamında olmadığından ötürü bu metotlara değinmiyorum.**\n",
        "\n",
        "**İstisna olarak sayısal özelliğe sahip veri tipi string olan bir değişken ile number veri tipine sahip bir değişken kıyaslandığında JavaScript otomatik olarak string veri tipine sahip değişkeni sayısal değere çevirir ve kıyaslama işlemini gerçekleştirir.**\n",
        "\n",
        "**Örnek**\n"
      ]
    },
    {
      "cell_type": "code",
      "execution_count": null,
      "metadata": {
        "vscode": {
          "languageId": "javascript"
        }
      },
      "outputs": [],
      "source": [
        "%%script node\n",
        "const x = 5;\n",
        "const y = \"5\";\n",
        "\n",
        "// Konsola \"true\" ifadesi yazdırılacaktır.\n",
        "console.log(x == y);\n"
      ]
    },
    {
      "cell_type": "markdown",
      "metadata": {},
      "source": [
        "**⚠️ String değerler alfabetik olarak kıyaslanır. İki sayısal string kıyaslandığında bazen sonuç istediğimiz gibi üretilmez. Örnek üzerinden açıklayalım.**\n",
        "\n",
        "**Örnek**\n"
      ]
    },
    {
      "cell_type": "code",
      "execution_count": null,
      "metadata": {
        "vscode": {
          "languageId": "javascript"
        }
      },
      "outputs": [],
      "source": [
        "%%script node\n",
        "/**\n",
        " * Konsola \"false\" ifadesi yazdırılacaktır.\n",
        " *\n",
        " * JavaScript string türde sayısal değer içeren iki değişkeni kıyaslarken 32 rakamının ilk rakamına\n",
        " * bakarak alfabetik şekilde değerlendirme yapacaktır.\n",
        " * 3 rakamı 4 rakamından küçük olduğu için sonuç false olacaktır.\n",
        " * \n",
        " * Konsola \"false\" ifadesi yazdırılır.\n",
        " */\n",
        "console.log(\"4\" < \"32\");\n"
      ]
    },
    {
      "cell_type": "markdown",
      "metadata": {},
      "source": [
        "### `==` Operatörü\n",
        "\n",
        "iki veya daha fazla değişkenin depoladığı verileri **içeriği** bakımından kıyaslar. **Kıyaslama sonucu doğru ise `true`, değilse `false` olacak şekilde değer döndürür.**\n",
        "\n",
        "**Örnek**\n"
      ]
    },
    {
      "cell_type": "code",
      "execution_count": null,
      "metadata": {
        "vscode": {
          "languageId": "javascript"
        }
      },
      "outputs": [],
      "source": [
        "%%script node\n",
        "const x = 5;\n",
        "const y = 5;\n",
        "\n",
        "// x ile y değişkeni kıyaslanacak aynı veriyi depoladığı için konsola \"true\" ifadesi yazdırılacaktır.\n",
        "console.log(x == y);\n",
        "\n",
        "const m = 8;\n",
        "const n = 7;\n",
        "\n",
        "// m ile n değişkeni kıyaslanacak aynı veriyi depolamadığı için konsola \"false\" ifadesi yazdırılacaktır.\n",
        "console.log(m == n);\n"
      ]
    },
    {
      "cell_type": "markdown",
      "metadata": {},
      "source": [
        "### `===` Operatörü\n",
        "\n",
        "iki veya daha fazla değişkenin depoladığı verileri **içeriği ve veri tipi** bakımından kıyaslar. **Kıyaslama sonucu doğru ise `true`, değilse `false` olacak şekilde değer döndürür.**\n",
        "\n",
        "**Örnek**\n"
      ]
    },
    {
      "cell_type": "code",
      "execution_count": null,
      "metadata": {
        "vscode": {
          "languageId": "javascript"
        }
      },
      "outputs": [],
      "source": [
        "%%script node\n",
        "const x = 5;\n",
        "const y = 5;\n",
        "\n",
        "// x ile y değişkeni kıyaslanacak aynı veriyi ve veri tipini depoladığı için konsola \"true\" ifadesi yazdırılacaktır.\n",
        "console.log(x === y);\n",
        "\n",
        "const m = 8;\n",
        "\n",
        "// ⚠️ n değişkeni string 8 değerini depoluyor.\n",
        "const n = \"8\";\n",
        "\n",
        "/**\n",
        " * m ile n değişkeni kıyaslanacak aynı veriyi depolamasına rağmen farklı  \n",
        " * veri tipine sahip oldukları için konsola \"false\" ifadesi yazdırılacaktır.\n",
        " */\n",
        "console.log(m === n);\n"
      ]
    },
    {
      "cell_type": "markdown",
      "metadata": {},
      "source": [
        "### `!=` Operatörü\n",
        "\n",
        "iki veya daha fazla değişkenin depoladığı verileri **içeriği** bakımından kıyaslar. **Kıyaslama sonucu doğru ise `false`, değilse `true` olacak şekilde değer döndürür.**\n",
        "\n",
        "**💡 Bunu şu şekilde aklınızda tutabilirsiniz. Sonucu `true` olan bir expression'ı `false`, sonucu `false` olsan bir expression'ı `true` olarak değerlendirir.**\n",
        "\n",
        "**Örnek**\n"
      ]
    },
    {
      "cell_type": "code",
      "execution_count": null,
      "metadata": {
        "vscode": {
          "languageId": "javascript"
        }
      },
      "outputs": [],
      "source": [
        "%%script node\n",
        "const x = 5;\n",
        "const y = 5;\n",
        "\n",
        "// x ile y değişkenleri kıyaslanacak aynı veriyi depoladığı için konsola \"false\" ifadesi yazdırılacaktır.\n",
        "console.log(x != y);\n",
        "\n",
        "const m = 8;\n",
        "const n = 7;\n",
        "\n",
        "// m ile n değişkenleri kıyaslanacak aynı veriyi depolamadığı için konsola \"true\" ifadesi yazdırılacaktır.\n",
        "console.log(m != n);\n"
      ]
    },
    {
      "cell_type": "markdown",
      "metadata": {},
      "source": [
        "### `!==` Operatörü\n",
        "\n",
        "iki veya daha fazla değişkenin depoladığı verileri **içeriği ve veri tipi** bakımından kıyaslar. **Kıyaslama sonucu doğru ise `false`, değilse `true` olacak şekilde değer döndürür.**\n",
        "\n",
        "**💡 Bunu şu şekilde aklınızda tutabilirsiniz. Sonucu `true` olan bir expression'ı `false`, sonucu `false` olan bir expression'ı `true` olarak değerlendirir. `!=` operatörü ile arasındaki fark expression'ı içerik ve veri tipi olacak şekilde değerlendirir.**\n",
        "\n",
        "**Örnek**\n"
      ]
    },
    {
      "cell_type": "code",
      "execution_count": null,
      "metadata": {
        "vscode": {
          "languageId": "javascript"
        }
      },
      "outputs": [],
      "source": [
        "%%script node\n",
        "const x = 5;\n",
        "const y = 5;\n",
        "\n",
        "// x ile y değişkenleri kıyaslanacak aynı veriyi ve veri tipine depoladığı için konsola \"false\" ifadesi yazdırılacaktır.\n",
        "console.log(x !== y);\n",
        "\n",
        "const m = 8;\n",
        "\n",
        "// ⚠️ n değişkeni string 8 değerini depoluyor.\n",
        "const n = \"8\";\n",
        "\n",
        "/**\n",
        " * m ile n değişkenleri kıyaslanacak aynı veriyi depolamasına rağmen farklı veri tipini depoladığı için\n",
        " * konsola \"true\" ifadesi yazdırılacaktır. \n",
        " */\n",
        "console.log(m !== n);\n"
      ]
    },
    {
      "cell_type": "markdown",
      "metadata": {},
      "source": [
        "### `?` Operatörü\n",
        "\n",
        "JavaScript'de `?` işareti **_ternary_** operatör olarak isimlendirilir.\n",
        "\n",
        "Ternary operatörü bir conditional operatördür. Yani bir condition'a göre işlemleri gerçekleştirir ve programın akışını değiştirir.\n",
        "\n",
        "**➖ Ternary Conditional Operatörü ile `If` Conditional Statement Arasındaki Fark**\n",
        "\n",
        "**Ternary ile oluşturulan kıyaslama işlemleri genelde tek satırdan oluşur ve iki değişkeni kıyaslamak için kullanılır. İkiden fazla durumunun kıyaslama yapılması halinde `if` keyword'u ile yapılan kıyaslama işlemleri tercih edilir. Bu sayede kodun daha kolay okunup yönetilmesi amaçlanır.**\n",
        "\n",
        "**Örnek**\n"
      ]
    },
    {
      "cell_type": "code",
      "execution_count": null,
      "metadata": {
        "vscode": {
          "languageId": "javascript"
        }
      },
      "outputs": [],
      "source": [
        "%%script node\n",
        "const a = 4;\n",
        "const b = 4;\n",
        "\n",
        "// a ile b değişkenlerinin değerlerini kıyaslıyoruz ve sonucu result değişkenine depoluyoruz.\n",
        "const result = a == b;\n",
        "\n",
        "/**\n",
        " * Eğer result'ın depoladığı kıyaslama sonucu true ise \"Evet...\" ile başlayan metin\n",
        " * değilse \"Hayır..\" ile başlayan metin konsola yazdırılacaktır.\n",
        " * Değerleri değiştirin ve sonucu gözlemleyin.\n",
        " */\n",
        "result\n",
        "  ? console.log(\"Evet iki değişkenin depoladığı veri birbirine eşittir.\")\n",
        "  : console.log(\n",
        "      \"Hayır iki değişkenin depoladığı veri birbirine eşit değildir.\"\n",
        "    );\n"
      ]
    },
    {
      "cell_type": "markdown",
      "metadata": {},
      "source": [
        "## JavaScript String Operatörleri\n",
        "\n",
        "JavaScript'de temelde 2 adet string operatör vardır bunlar:\n",
        "\n",
        "| **Operator** | **Açıklama**                                                                                                       |\n",
        "| ------------ | ------------------------------------------------------------------------------------------------------------------ |\n",
        "| `+ `         | Ekleme operatörü. Bir string ifadeyi başka bir string değere ekler.                                                |\n",
        "| `+= `        | Ekleme ve atama operatörü. Bir string ifadeyi başka bir string ifadeye ekler ve sonucu bir değişken içine depolar. |\n",
        "\n",
        "Şimdi bunları inceleyelim arkadaşlar.\n"
      ]
    },
    {
      "cell_type": "markdown",
      "metadata": {},
      "source": [
        "### `+` Ekleme Operatörü\n",
        "\n",
        "String değişkenlerde `+` operatörü **ekleme operatörü olarak ifade edilir.** Yani iki sting değişken toplanmaz, birbirine eklenir.\n",
        "\n",
        "**Örnek**\n"
      ]
    },
    {
      "cell_type": "code",
      "execution_count": null,
      "metadata": {
        "vscode": {
          "languageId": "javascript"
        }
      },
      "outputs": [],
      "source": [
        "%%script node\n",
        "// String veri tipindeki 5 değerini value1 isimi değişkene depoluyoruz.\n",
        "const value1 = \"5\";\n",
        "\n",
        "// String veri tipindeki 15 değerini value2 isimi değişkene depoluyoruz.\n",
        "const value2 = \"15\";\n",
        "\n",
        "//❗ Konsola \"515\" ifadesi yazdırıldığına dikkat edin.\n",
        "console.log(value1 + value2);\n"
      ]
    },
    {
      "cell_type": "markdown",
      "metadata": {},
      "source": [
        "### `+=` Ekleme ve Atama Operatörü\n",
        "\n",
        "Bir string ifadeye başka bir string ifadeyi ekledikten sonra elde edilen sonucu değişken içerisinde depolayabiliriz.\n"
      ]
    },
    {
      "cell_type": "code",
      "execution_count": null,
      "metadata": {
        "vscode": {
          "languageId": "javascript"
        }
      },
      "outputs": [],
      "source": [
        "%%script node\n",
        "let value1 = \"Kemal\";\n",
        "let value2 = \"Atatürk\";\n",
        "\n",
        "// Ekleme ve atama operatörü, örnekte value1=value1+value2 ifadesini denktir.\n",
        "value1 += value2;\n",
        "\n",
        "// Konsola \"KemalAtatürk \"yazdırılacaktır.\n",
        "console.log(value1);\n"
      ]
    },
    {
      "cell_type": "markdown",
      "metadata": {},
      "source": [
        "**⚠️ Sayısal string dışındaki diğer string veri türleri matematiksel işlemlerde sonuca katkıda bulunmazlar. Şayet bir string matematiksel ifade içerisinde kullanılırsa işlem sonucunun veri tipi string olacaktır. Bu durum string'in bulunduğu yere göre sonucu etkiler. Sayısal özellikli string'ler için durum biraz daha farklıdır. Daha detaylı bilgi almak için [JavaScript Numeric String Veri Tipleri](js07-numeric-data-type.ipynb#javascript-numeric-string-veri-tipleri) başlığına bakabilirsiniz.**\n",
        "[#1](https://github.com/eminaltan/learn-web/issues/1)\n",
        "\n",
        "**JavaScript'de expression'lar (ifadeler) soldan sağa şekilde değerlendirilir. Yani Javascript ifadenin nerede string olacağını bu pattern'e göre belirler.**\n",
        "\n",
        "**Örnek**\n"
      ]
    },
    {
      "cell_type": "code",
      "execution_count": null,
      "metadata": {
        "vscode": {
          "languageId": "javascript"
        }
      },
      "outputs": [],
      "source": [
        "%%script node\n",
        "var x = 4 + 3 + \"1\";\n",
        "\n",
        "// Konsola \"71\" yazdırılacaktır.\n",
        "console.log(x);\n",
        "\n",
        "var y = \"1\" + 4 + 3;\n",
        "\n",
        "// Konsola \"143\" yazdırılacaktır.\n",
        "console.log(y);\n"
      ]
    },
    {
      "cell_type": "markdown",
      "metadata": {},
      "source": [
        "## JavaScript Mantıksal Operatörler\n",
        "\n",
        "Mantıksal operatörler JavaScript'de özellikle kıyaslama işlemlerinde sıklıkla kullanılan operatör grubudur. Bu bakımdan anlaşılması önem taşır.\n",
        "\n",
        "Mantıksal operatörleri listeleyecek olursak:\n",
        "\n",
        "| **Operator** | **Açıklama**  |\n",
        "| ------------ | ------------- |\n",
        "| `&&`         | Mantıksal AND |\n",
        "| `\\|\\|`       | Mantıksal OR  |\n",
        "| `!`          | Mantıksal NOT |\n"
      ]
    },
    {
      "cell_type": "markdown",
      "metadata": {},
      "source": [
        "### `&&` Mantıksal **_AND_** Operatörü\n",
        "\n",
        "Expression içerisindeki ifadeleri kıyaslar **her ifadenin doğru olması durumunda tüm sonuç `true` olacaktır.**\n",
        "\n",
        "**Herhangi bir ifadenin sonucunun `false` olması durumunda tüm sonuç `false` olacaktır.**\n"
      ]
    },
    {
      "cell_type": "code",
      "execution_count": null,
      "metadata": {
        "vscode": {
          "languageId": "javascript"
        }
      },
      "outputs": [],
      "source": [
        "%%script node\n",
        "let x = 10;\n",
        "let y = 5;\n",
        "\n",
        "/**\n",
        " * y 'nin 3'den büyük olması ve x'in 20'den küçük olduğunu biliyoruz.\n",
        " * Bu durumda ifadenin sonucu true olur.\n",
        " */\n",
        "const result = 3 < y && x < 20;\n",
        "\n",
        "// Konsola \"true\" ifadesi yazılacaktır.\n",
        "console.log(result);\n",
        "\n",
        "// x'e yeni değer depolayalım.\n",
        "x = 30;\n",
        "\n",
        "// Expression'un sonucunu result2 adında değişkene depolayalım.\n",
        "const result2 = 3 < y && x < 20;\n",
        "\n",
        "/**\n",
        " * Konsola \"false\" ifadesi yazılacaktır. Çünkü 30<20 ifadesi doğru değildir ve false değer döndürür\n",
        " * bu da tüm sonucu false yapar.\n",
        " */\n",
        "console.log(result2);\n"
      ]
    },
    {
      "cell_type": "markdown",
      "metadata": {},
      "source": [
        "### `||` Mantıksal **_OR_** Operatörü\n",
        "\n",
        "Expression içerisindeki ifadeleri kıyaslar **herhangi bir ifadenin doğru olması durumunda tüm sonuç `true` olacaktır.**\n",
        "\n",
        "**Şayet tüm ifadelerin sonucu `false` olursa tüm sonuç `false` olacaktır.**\n",
        "\n",
        "**Örnek**\n"
      ]
    },
    {
      "cell_type": "code",
      "execution_count": null,
      "metadata": {
        "vscode": {
          "languageId": "javascript"
        }
      },
      "outputs": [],
      "source": [
        "%%script node\n",
        "// Tek satırda aynı tür değişkenleri tanımlayabildiğimizi hatırlayalım bu arada.\n",
        "let x = 30, y = 5, z = 2;\n",
        "\n",
        "/**\n",
        " * Son iki ifadenin sonucu false'dır.\n",
        " * Fakat ilk ifadenin sonucu true olması sebebi ile tüm sonuç true olarak değerlendirilir.\n",
        " */\n",
        "const result = 3 < y || x < 20 || z == 0;\n",
        "\n",
        "// Konsola \"true\" ifadesi yazdırılacaktır.\n",
        "console.log(result);\n",
        "\n",
        "// Tüm ifadelerin sonucu false olması sebebi ile tüm sonuç false olarak değerlendirilir.\n",
        "result2 = 10 < y || x < 20 || z == 0;\n",
        "\n",
        "// Konsola \"false\" ifade yazılır.\n",
        "console.log(result2);\n"
      ]
    },
    {
      "cell_type": "markdown",
      "metadata": {},
      "source": [
        "### `!` Mantıksal **_NOT_** Operatörü\n",
        "\n",
        "Bir expression sonucunun tersini alır. Yani ifade `true` ise `false`, `false` ise `true` sonuçlanır.\n"
      ]
    },
    {
      "cell_type": "code",
      "execution_count": null,
      "metadata": {
        "vscode": {
          "languageId": "javascript"
        }
      },
      "outputs": [],
      "source": [
        "%%script node\n",
        "// x'e bir değer depolandığı için mantıksal olarak true özelliği taşır.\n",
        "let x = 20;\n",
        "\n",
        "/**\n",
        " * Normalde konsola true ifadesi yazılırdı. Fakat burada NOT operatörü kullanıldığı için true olan\n",
        " * sonucun tersi alınacaktır. Yani sonuç false olacak ve konsola \"false\" yazdırılacaktır.\n",
        " */\n",
        "console.log(!(x < 50));\n",
        "\n",
        "// y değişkeni undefined veri tipine sahiptir. Mantıksal olarak false değerine sahiptir.\n",
        "let y;\n",
        "\n",
        "// Konsola \"false\" ifadesi yazdırılacak.\n",
        "console.log(y)\n",
        "\n",
        "// y değişkenin depoladığı değerin tersini aldı. Yani false değerini true yaptı. Konsola \"true\" ifadesi yazılır.\n",
        "console.log(!y);"
      ]
    },
    {
      "cell_type": "markdown",
      "metadata": {},
      "source": [
        "**❗ Mantıksal atama operatörlerinin, mantıksal operatörler ile ilişkisi olmakla birlikte aynı anlama gelmemektedir. Mantıksal atama operatörleri ES (2020) ile JavaScript'e dahil olmuştur. Bu bakımdan 2020 yılından önce release edilen tarayıcılarda çalışmayabilir.**\n",
        "\n",
        "Mantıksal atama operatörlerini listelersek:\n",
        "\n",
        "| **Operator** | **Örnek** | **Karşılığı**      |\n",
        "| ------------ | --------- | ------------------ |\n",
        "| `&&= `       | x &&= y   | x = x && (x = y)   |\n",
        "| `\\|\\|=`      | x \\|\\|= y | x = x \\|\\| (x = y) |\n",
        "| `??=`        | x ??= y   | x = x ?? (x = y)   |\n",
        "\n",
        "Şimdi bu operatörleri tek tek inceleyelim.\n"
      ]
    },
    {
      "cell_type": "markdown",
      "metadata": {},
      "source": [
        "### `&&=` Mantıksal **_AND_** Atama Operatörü\n",
        "\n",
        "**Bir expression veya statement'ın sonucunun `true` olması durumunda ikinci değer değişkene atanır.**\n",
        "\n",
        "**Örnek**\n"
      ]
    },
    {
      "cell_type": "code",
      "execution_count": null,
      "metadata": {
        "vscode": {
          "languageId": "javascript"
        }
      },
      "outputs": [],
      "source": [
        "%%script node\n",
        "let x = 35;\n",
        "\n",
        "/**\n",
        " * x değişkeni kullanıcı tanımlı değer depoladığı için true mantıksal değerine sahiptir.\n",
        " * Bu durumda x değişkenine yeni bir değer (8) rakamı depolanır.\n",
        " */\n",
        "x &&= 8;\n",
        "\n",
        "// 8 rakamı konsola yazdırılacaktır.\n",
        "console.log(x);\n",
        "\n",
        "/**\n",
        " * y değişkeni kullanıcı tanımı bir depolamıyor. Varsayılan olarak değeri undefined'dir.\n",
        " * Bu da mantıksal anlamda false ifadesine denk gelir.\n",
        " */\n",
        "let y;\n",
        "\n",
        "// y değişkeni kullanıcı tanımlı bir değer depolamadığı için yeni değer sahip olmayacaktır.\n",
        "y &&= 20;\n",
        "\n",
        "// Konsola \"undefined\" mesajı yazılır.\n",
        "console.log(y);\n"
      ]
    },
    {
      "cell_type": "markdown",
      "metadata": {},
      "source": [
        "### `||=` Mantıksal **_OR_** Atama Operatörü\n",
        "\n",
        "**Bir expression veya statement'ın sonucunun `false` olması durumunda ikinci değer değişkene atanır.**\n",
        "\n",
        "**💡 `||=` operatörü ile `&&=` operatörü birbirine zıttır. Bu bağlamda birinin mantığını kavrarsanız diğerininkini de kavrayabilirsiniz.**\n",
        "\n",
        "**Örnek**\n"
      ]
    },
    {
      "cell_type": "code",
      "execution_count": null,
      "metadata": {
        "vscode": {
          "languageId": "javascript"
        }
      },
      "outputs": [],
      "source": [
        "%%script node\n",
        "/**\n",
        " * y değişkeni kullanıcı tanımı bir değer depolamıyor. Varsayılan olarak değeri undefined'dir.\n",
        " * Bu da mantıksal anlamda false ifadesine denk gelir.\n",
        " */\n",
        "let y;\n",
        "\n",
        "// y değişkeni kullanıcı tanımlı bir değer depolamadığı için yeni değeri 20 olarak tanımlanacaktır.\n",
        "y ||= 20;\n",
        "\n",
        "// Konsola 20 rakamı yazılır.\n",
        "console.log(y);\n",
        "\n",
        "let x = 35;\n",
        "\n",
        "/**\n",
        " * x değişkeni kullanıcı tanımlı değer depoladığı için true mantıksal değerine sahiptir.\n",
        " * Bu durumda x değişkenine yeni bir değer depolanmayacaktır.\n",
        " */\n",
        "x ||= 8;\n",
        "\n",
        "// 35 rakamı konsola yazdırılacaktır.\n",
        "console.log(x);\n"
      ]
    },
    {
      "cell_type": "markdown",
      "metadata": {},
      "source": [
        "### `??=` **_Nullish Coalescing Assignment_** Operatörü\n",
        "\n",
        "**Bir değişkenin depoladığı verinin **_undefined_** veya **_null_** olması durumunda ikinci değer değişkene atanır.**\n",
        "\n",
        "**Örnek**\n"
      ]
    },
    {
      "cell_type": "code",
      "execution_count": null,
      "metadata": {
        "vscode": {
          "languageId": "javascript"
        }
      },
      "outputs": [],
      "source": [
        "%%script node\n",
        "// x değişkeninin default değeri undefined'dır.\n",
        "let x;\n",
        "\n",
        "// x değişkeninin default değer undefined olması sebebi ile x'e 80 rakamı depolanacaktır.\n",
        "x ??= \"80\";\n",
        "\n",
        "// 80 rakamı konsola yazdırılır.\n",
        "console.log(x);\n"
      ]
    },
    {
      "cell_type": "markdown",
      "metadata": {},
      "source": [
        "## JavaScript Bitwise Operatörler\n",
        "\n",
        "**_Bit_**[^1] seviyesinde kıyaslama işlemleri için kullanılır. işlemler **_binary_**[^2] sayısal düzeninde gerçekleşir ve sonuç **_decimal_**[^3] olarak depolanır.\n",
        "\n",
        "Önemli bir takım bitwise operatörleri listelersek:\n",
        "\n",
        "| **Operator** | **Açıklama**                |\n",
        "| ------------ | --------------------------- |\n",
        "| `&`          | Bit düzeyinde mantıksal AND |\n",
        "| `\\|`         | Bit düzeyinde mantıksal OR  |\n",
        "| `~`          | Bit düzeyinde mantıksal NOT |\n",
        "| `^`          | Bit düzeyinde mantıksal XOR |\n",
        "\n",
        "Şimdi bunları inceleyelim arkadaşlar.\n"
      ]
    },
    {
      "cell_type": "markdown",
      "metadata": {},
      "source": [
        "### `&` **_Bitwise AND_** Operatörü\n",
        "\n",
        "Bit düzeyinde mantıksal **_AND_** işlemi gerçekleştirmek için kullanılır. Decimal değeri binary sayısal düzenine çevirir sonrasında bit'leri kıyaslar ve elde edilen sonucu tekrar decimal sayı sistemine çevirir.\n",
        "\n",
        "İşlem aşağıdaki tablo mantığına göre gerçekleşir:\n",
        "\n",
        "| **x'in Bit Değeri** | **y'nin Bit Değeri** | **x & y Sonucu** |\n",
        "| ------------------- | -------------------- | ---------------- |\n",
        "| 0                   | 0                    | 0                |\n",
        "| 0                   | 1                    | 0                |\n",
        "| 1                   | 0                    | 0                |\n",
        "| 1                   | 1                    | 1                |\n",
        "\n",
        "**Örnek**\n"
      ]
    },
    {
      "cell_type": "code",
      "execution_count": null,
      "metadata": {
        "vscode": {
          "languageId": "javascript"
        }
      },
      "outputs": [],
      "source": [
        "%%script node\n",
        "// x değişkenin binary değeri 101'dir.\n",
        "let x = 5;\n",
        "\n",
        "// x değişkenin binary değeri 011'dir.\n",
        "let y = 3;\n",
        "\n",
        "/**\n",
        " *  x = x & y ifadesinin dengidir. Bit seviyesinde AND işlemi gerçekleştiriliyor.\n",
        " *  Sonuç 001 olacak ve değer x değişkenine aktarılacaktır.\n",
        " */\n",
        "x &= y;\n",
        "\n",
        "// 001 decimal  karşılığı 1'dir ve konsola 1 rakamı yazdırılacaktır.\n",
        "console.log(x);\n"
      ]
    },
    {
      "cell_type": "markdown",
      "metadata": {},
      "source": [
        "### `|` **_Bitwise OR_** Operatörü\n",
        "\n",
        "Bit düzeyinde mantıksal **_OR_** işlemi gerçekleştirmek için kullanılır. Decimal değeri binary sayısal düzenine çevirir sonrasında bit'leri kıyaslar ve elde edilen sonucu tekrar decimal sayı sistemine çevirir.\n",
        "\n",
        "**İşlem her bit için ayrı ayrı gerçekleştirilir.**\n",
        "\n",
        "İşlem aşağıdaki tablo mantığına göre gerçekleşir:\n",
        "\n",
        "| **x'in Bit Değeri** | **\\|x Sonucu** |\n",
        "| ------------------- | -------------- |\n",
        "| 0                   | 0              |\n",
        "| 0                   | 1              |\n",
        "| 1                   | 1              |\n",
        "| 1                   | 1              |\n",
        "\n",
        "**Örnek**\n"
      ]
    },
    {
      "cell_type": "code",
      "execution_count": null,
      "metadata": {
        "vscode": {
          "languageId": "javascript"
        }
      },
      "outputs": [],
      "source": [
        "%%script node\n",
        "// 38 rakamının karşılığı 100110'dir.\n",
        "let x = 38;\n",
        "\n",
        "// 45 rakamının karşılığı 101101'dir.\n",
        "let y = 45;\n",
        "\n",
        "// 101111 decimal  karşılığı 47'dir ve konsola 47 rakamı yazdırılacaktır.\n",
        "x |= y;\n",
        "console.log(x);\n"
      ]
    },
    {
      "cell_type": "markdown",
      "metadata": {},
      "source": [
        "### `~` **_Bitwise NOT_** Operatörü\n",
        "\n",
        "Bit düzeyinde mantıksal **_NOT_** işlemi gerçekleştirmek için kullanılır. Decimal değeri binary sayısal düzenine çevirir sonrasında bit'leri kıyaslar ve elde edilen sonucu tekrar decimal sayı sistemine çevirir.\n",
        "\n",
        "**İşlem her bit için ayrı ayrı gerçekleştirilir.**\n",
        "\n",
        "İşlem aşağıdaki tablo mantığına göre gerçekleşir:\n",
        "\n",
        "| **x'in Bit Değeri** | **~x Sonucu** |\n",
        "| ------------------- | ------------- |\n",
        "| 0                   | 1             |\n",
        "| 1                   | 0             |\n",
        "\n",
        "Kısaca bit değerlerini ters çevirir.\n",
        "\n",
        "**Örnek**\n"
      ]
    },
    {
      "cell_type": "code",
      "execution_count": null,
      "metadata": {
        "vscode": {
          "languageId": "javascript"
        }
      },
      "outputs": [],
      "source": [
        "%%script node\n",
        "// 5 rakamının karşılığı 0101'dir.\n",
        "let x = 5;\n",
        "\n",
        "// 1010'un decimal karşılığı 10'dur ve konsola 10 rakamı yazdırılacaktır.\n",
        "console.log(~x);\n"
      ]
    },
    {
      "cell_type": "markdown",
      "metadata": {},
      "source": [
        "### `^` **_Bitwise XOR_** Operatörü\n",
        "\n",
        "Bit düzeyinde mantıksal **_XOR_** işlemi gerçekleştirmek için kullanılır. Decimal değeri binary sayısal düzenine çevirir sonrasında bit'leri kıyaslar ve elde edilen sonucu tekrar decimal sayı sistemine çevirir.\n",
        "\n",
        "İşlem aşağıdaki tablo mantığına göre gerçekleşir:\n",
        "\n",
        "| **x'in Bit Değeri** | **y'nin Bit Değeri** | **x ^ y Sonucu** |\n",
        "| ------------------- | -------------------- | ---------------- |\n",
        "| 0                   | 0                    | 0                |\n",
        "| 0                   | 1                    | 1                |\n",
        "| 1                   | 0                    | 1                |\n",
        "| 1                   | 1                    | 0                |\n",
        "\n",
        "**Örnek**\n"
      ]
    },
    {
      "cell_type": "code",
      "execution_count": null,
      "metadata": {
        "vscode": {
          "languageId": "javascript"
        }
      },
      "outputs": [],
      "source": [
        "%%script node\n",
        "// 20 rakamının binary karşılığı 10100'dır.\n",
        "let x = 20;\n",
        "\n",
        "// 28 rakamının binary karşılığı 11100'dır.\n",
        "let y = 28;\n",
        "\n",
        "// x=x^y ifadesine denktir.\n",
        "x ^= y;\n",
        "\n",
        "// 1000 binary değerinin decimal karşılığı 8'dir.\n",
        "console.log(x);\n"
      ]
    },
    {
      "cell_type": "markdown",
      "metadata": {},
      "source": [
        "## JavaScript Type Operatörleri\n",
        "\n",
        "JavaScript'de bir çok type operatörü vardır. Type operatörleri bir değişkeni başka bir değişkene dönüştürmek için veya değişkenin türünü ve veri tipini öğrenme gibi işlemler için kullanılır.\n",
        "\n",
        "En çok kullanılan type operatörlerini listelersek:\n",
        "\n",
        "1. `typeof()`\n",
        "\n",
        "2. `instanceof `\n",
        "\n",
        "Diğer type operatörlerine ayrı bir başlık altında değineceğim. Çünkü asıl konumuz operatörleridir. Type operatörleri aynı zamanda metot (fonksiyon) olma özelliği taşır.\n"
      ]
    },
    {
      "cell_type": "markdown",
      "metadata": {},
      "source": [
        "### `typeOf` Operatörü/Metodu\n",
        "\n",
        "Bir değişkenin depoladığı değere göre veri türünü öğrenmemizi sağlar.\n",
        "\n",
        "**Örnek**\n"
      ]
    },
    {
      "cell_type": "code",
      "execution_count": null,
      "metadata": {
        "vscode": {
          "languageId": "javascript"
        }
      },
      "outputs": [],
      "source": [
        "%%script node\n",
        "const x = 4;\n",
        "\n",
        "// \"number\" ifadesi konsola yazılır. x değişkeninin veri tipi sayısal özelliklidir.\n",
        "console.log(typeof x);\n",
        "\n",
        "const y = \"deneme\";\n",
        "\n",
        "// \"string\" ifadesi konsola yazılır. y değişkeninin veri tipi string özelliklidir.\n",
        "console.log(typeof y);\n",
        "\n",
        "const z = false;\n",
        "// \"boolean\" ifadesini konsola yazdırır. z değişkenin veri tipi boolean özelliklidir.\n",
        "console.log (typeof z)\n"
      ]
    },
    {
      "cell_type": "markdown",
      "metadata": {},
      "source": [
        "### `instanceof` Operatörü/Metodu\n",
        "\n",
        "Object veri türü özelliğine sahip değişkenlerde birden fazla kullanım yöntemi olmakla birlikte değişkenin veri türünü belirlemede, bir özelliğin nesne ile ilişkisini anlamada veya katılım izleme işlemlerini gerçekleştirmek için kullanılır.\n",
        "\n",
        "**💡 Özellikle object veri türü özellikli değişkenlerde debug işlemleri için kullanışlı olabilir.**\n",
        "\n",
        "**Örnekler**\n"
      ]
    },
    {
      "cell_type": "code",
      "execution_count": null,
      "metadata": {
        "vscode": {
          "languageId": "javascript"
        }
      },
      "outputs": [],
      "source": [
        "%%script node\n",
        "\n",
        "const student = { name: \"Betül\", surname: \"Şavluk\" };\n",
        "\n",
        "/**\n",
        " * student  değişkeni nesne özellikli olup/olmadığı ternary operatör ile sınanıyor\n",
        " * sonuç result'a aktarılıyor.\n",
        " */\n",
        "const result =\n",
        "  student instanceof Object\n",
        "    ? \"Evet student nesne özellikli bir değişkendir.\"\n",
        "    : \"Hayır student nesne özellikli bir değişken değişkendir.\";\n",
        "\n",
        "// Konsola \"Evet...\" ile başlayan mesaj yazdırılacaktır.\n",
        "console.log(result);\n",
        "\n",
        "// Konsola \"student değişkeninin veri tipi object'dir.\" mesajı yazılacaktır.\n",
        "console.log(\"student değişkeninin veri tipi\" + \" \" + typeof student + \"'dir.\");\n"
      ]
    },
    {
      "cell_type": "code",
      "execution_count": null,
      "metadata": {
        "vscode": {
          "languageId": "javascript"
        }
      },
      "outputs": [],
      "source": [
        "%%script node\n",
        "// Örnekte student değişkeni için object özellikleri sorgulanıyor.\n",
        "\n",
        "function Student(studentName) {\n",
        "  this.name = studentName;\n",
        "}\n",
        "\n",
        "const student = new Student();\n",
        "\n",
        "// true değeri döndürür. Çünkü student değişkeni Student constructor'un örneğidir.\n",
        "console.log(student instanceof Student);\n",
        "\n",
        "// true değeri döndürür. Çünkü student değişkeni aynı zamanda Object örneğidir.\n",
        "console.log(student instanceof Object);\n",
        "\n",
        "// false değeri döndürür. Çünkü student değişkeni Array örneği değildir.\n",
        "console.log(student instanceof Array);\n"
      ]
    },
    {
      "cell_type": "markdown",
      "metadata": {},
      "source": [
        "[^1]: \"Bit,\" kısaltılmış haliyle \"binary digit\" kelimesinin baş harflerinden oluşan bir terimdir ve bilgisayar bilimlerinde temel bir kavramdır. Bit, en küçük veri birimi olarak bilinir ve yalnızca iki değere sahip olabilen bir elektronik veya dijital bilgi parçasını temsil eder. Bu iki değer 0 ve 1'dir.\n",
        "[^2]: \"Binary\" terimi, bilgisayar bilimlerinde ve elektronikte oldukça yaygın olarak kullanılan bir terimdir ve ikili (2 temel değer) sayı sistemini ifade eder. İkili sistem, yalnızca iki sembol veya değer içeren bir sayı sistemidir. Bu iki sembol genellikle \"0\" ve \"1\" olarak temsil edilir.\n",
        "[^3]: \"Decimal,\" yaygın olarak ondalık sayı sistemini ifade eden bir terimdir. Ondalık sayı sistemi, 10 rakamdan oluşur ve her bir rakamın temsil ettiği değer 0 ila 9 arasında değişir. Ondalık sistemi kullanarak herhangi bir sayıyı ifade edebilirsiniz. Bu sistemde her haneli bir sayı, 10'un üssüne dayalı bir değer temsil eder.\n"
      ]
    }
  ],
  "metadata": {
    "kernelspec": {
      "display_name": "Python 3",
      "language": "python",
      "name": "python3"
    },
    "language_info": {
      "codemirror_mode": {
        "name": "ipython",
        "version": 3
      },
      "file_extension": ".py",
      "mimetype": "text/x-python",
      "name": "python",
      "nbconvert_exporter": "python",
      "pygments_lexer": "ipython3",
      "version": "3.10.12"
    }
  },
  "nbformat": 4,
  "nbformat_minor": 2
}
