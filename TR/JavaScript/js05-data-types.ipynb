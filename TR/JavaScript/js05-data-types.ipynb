{
 "cells": [
  {
   "cell_type": "markdown",
   "metadata": {},
   "source": [
    "# JavaScript Data Types\n",
    "\n",
    "Merhaba arkadaşlar bu yazıda JavaScript'de veri türlerine değineceğiz. Veri türlerinin neden önemli olduğu, şayet bir variable için doğru veri tipini kullanmadığımızda ne gibi sorunlar ile karşılaşacağımıza değineceğiz. **Yazının sonraki bölümlerinde her bir data type'ı (veri tipi) grubunu ayrı ayrı inceleyeceğiz.**\n",
    "\n",
    "Yazıda:\n",
    "\n",
    "- Data type kavramına\n",
    "- Data type dinamik kavramına\n",
    "- JavaScript data type türlerine\n",
    "\n",
    "Değineceğim.\n",
    "\n",
    "İyi okumalar dilerim.\n"
   ]
  },
  {
   "cell_type": "markdown",
   "metadata": {},
   "source": [
    "## JavaScript Immutable ve Mutable Kavramları\n",
    "\n",
    "JavaScript'de iki değişkenler veri türlerine göre göre iki gruba ayrılırlar:\n",
    "\n",
    "1. Immutable (Sabit değerler).\n",
    "\n",
    "2. Mutable (Değişken değerler).\n",
    "\n",
    "Sabit değerler aynı zamanda **_Literals_** olarak isimlendirilirler. Atanan her değer bellekte (RAM'de) yeni bir adrese sahip olur ve atanan değerin içeriği bellekte değiştirilemez.\n",
    "\n",
    "**💡 Sabit değerleri genelde orijinal verinin korunmasını istediğimiz yerlerde kullanırız. Örneğin orijinal veri birden fazla yerde kullanıyor olabilir. Değeri korunmayan veriler program içerisinde istenmeyen sonuçlara neden olabilir.**\n",
    "\n",
    "**⚠️ Sabit değerli bir değişkene her yeni değer atanması durumunda bellekte verinin depolanması için yeni bir yer ayrılır. Bu da bellek ile ilgili sorunlara neden olacaktır. Bu sebeple performans öncelliğimiz ise sabitleri daha az kullanmalıyız.**\n",
    "\n",
    "Değişken değerler aynı zamanda **_variables_** olarak isimlendirilirler. Atanan değer bellekte bir adrese sahip olur ve atanan verinin içeriği değiştirilebilir. **Bu sebeple referans olma özelliğine sahiptirler. Değişken değerli bir değişkene her veri atamasında bellekte yeni bir alan kullanılmaz. O verinin depolandığı ilgili referans adres bulunur ve eski veri overwrite edilerek yeni veri referans adrese kayıt edilir.**\n",
    "\n",
    "**💡 Değişken özellikli değerler veriler için referans adresleri kullanmaları sebebi ile bellekte sabitler gibi yer kaplamazlar. Dolayısıyla performans önceliğimiz ise bu veri türünü kullanabiliriz.**\n",
    "\n",
    "**Örnek**\n",
    "\n",
    "Aşağıda immutable özelliği görülüyor.\n"
   ]
  },
  {
   "cell_type": "code",
   "execution_count": null,
   "metadata": {},
   "outputs": [],
   "source": [
    "%%javascript\n",
    "\n",
    "// studentName değişkenimiz immutable özelliklidir.\n",
    "let studentName = \"Emin\";\n",
    "\n",
    "// studentName değişkenin içeriğini  konsola yazdıralım Konsola \"Emin\" ifadesi yazdırılır.\n",
    "console.log(studentName)\n",
    "\n",
    "// personName değişkenimizin içeriğine studentName değişkeninin içeriğini depoluyoruz.\n",
    "let personName = studentName;\n",
    "\n",
    "// studentName değişkenimizin içeriğine yeni bir değer depoluyoruz. Bu durumda Hasan için RAM'de yeni bir adres açılacaktır.\n",
    "studentName = \"Hasan\";\n",
    "\n",
    "// Buraya dikkat edelim. personName değişkenin depoladığı değer \"Emin\"'dir. Konsola \"Emin\" ifadesi yazdırılır.\n",
    "console.log(personName);\n",
    "console.log(studentName);"
   ]
  },
  {
   "cell_type": "markdown",
   "metadata": {},
   "source": [
    "Aşağıda mutable özelliği görülüyor.\n",
    "\n",
    "**Örnek**\n"
   ]
  },
  {
   "cell_type": "code",
   "execution_count": null,
   "metadata": {},
   "outputs": [],
   "source": [
    "%%javascript\n",
    "\n",
    "// vehicle değişkenimiz mutable özelliklidir.\n",
    "let vehicle = { type: \"car\", color: \"orange\" };\n",
    "\n",
    "// \"car\" ifadesi konsola yazdırılacaktır.\n",
    "console.log(vehicle[\"type\"]);\n",
    "\n",
    "// bus adında bir değişken oluşturup içeriğini vehicle değişkeni referans olacak şekilde belirliyoruz.\n",
    "let bus = vehicle;\n",
    "\n",
    "bus[\"type\"] = \"long bus\";\n",
    "\n",
    "// Konsola \"long bus\" ifadesi yazdırılacaktır.\n",
    "console.log(bus[\"type\"])\n",
    "\n",
    "/** \n",
    " * Buraya dikkat edelim. vehicle[type]'ın  depoladığı değer \"long bus\" ile overwrite\n",
    " * edilecek ve konsola \"long bus\" ifadesi yazdırılacaktır.\n",
    " * \n",
    " * Çünkü bus değişkeninin içeriğini değiştirdiğimizde aynı zamanda bellekte veriyi tutan referans \n",
    " * adresindeki içeriği de değiştirdik. \n",
    " */\n",
    "console.log(vehicle[\"type\"]);\n"
   ]
  },
  {
   "cell_type": "markdown",
   "metadata": {},
   "source": [
    "## JavaScript'de Veri Türü ve Veri Tipi Kavramı\n",
    "\n",
    "JavaScript'de veri türleri ve veri tipleri önemli kavramlardır. Değişkenler ile çalışabilmemiz için veri türlerini ve tiplerini bilmemiz gerekir.\n",
    "\n",
    "Veri türünü veya tipini bilmeksizin bir bilgisayar programı denklemi tam anlamıyla çözemez yanlış sonuçlar geri döndürür.\n",
    "\n",
    "**Örnek**\n"
   ]
  },
  {
   "cell_type": "code",
   "execution_count": null,
   "metadata": {},
   "outputs": [],
   "source": [
    "%%javascript\n",
    "let x = 20 + \"Otobüs\";\n",
    "\n",
    "// Konsola \"20Otobüs\" ifadesi yazdırılacaktır.\n",
    "console.log(x);\n"
   ]
  },
  {
   "cell_type": "markdown",
   "metadata": {},
   "source": [
    "Yukarıdaki işlemi matematiksel anlamda düşünürsek mantıklı değildir. Çünkü 20 rakamı ile \"Otobüs\" değerinin toplamı sonuç olarak bir şey ifade etmez.\n",
    "\n",
    "**⚠️ Doğru sonuçlar elde edebilmemiz için değişkenlerin aynı veri tipine sahip olması gerekir.**\n",
    "\n",
    "**Örnek**\n"
   ]
  },
  {
   "cell_type": "code",
   "execution_count": null,
   "metadata": {},
   "outputs": [],
   "source": [
    "%%javascript\n",
    "let x = 20 + \"8\";\n",
    "\n",
    "/**\n",
    " * Konsola \"208\" string'i  yazdırılacaktır.\n",
    " * Eğer 28 rakamını elde etmek istiyorsak \"8\" numerik özellikli string değerinin veri tipini number'a dönüştürmemiz gerekir.\n",
    " */\n",
    "console.log(x);\n"
   ]
  },
  {
   "cell_type": "markdown",
   "metadata": {},
   "source": [
    "### JavaScript'de Veri Türleri\n",
    "\n",
    "JavaScript'de iki veri türü vardır:\n",
    "\n",
    "1. Primitive (İlkel veri türleri)\n",
    "\n",
    "2. Object (Referans veri türleri)\n",
    "\n",
    "Şimdide bunları sınıflandıralım arkadaşlar.\n"
   ]
  },
  {
   "cell_type": "markdown",
   "metadata": {},
   "source": [
    "#### Primative Veri Türleri\n",
    "\n",
    "JavaScript'de primitive (ilkel) veri türleri, karmaşık yapılardan oluşmayan ve doğrudan değerleri temsil eden temel veri türleridir. JavaScript'in altı ilkel veri türü bulunmaktadır:\n",
    "\n",
    "1. Number\n",
    "\n",
    "2. String\n",
    "\n",
    "3. Boolean\n",
    "\n",
    "4. Undefined\n",
    "\n",
    "5. Null\n",
    "\n",
    "6. Symbol\n"
   ]
  },
  {
   "cell_type": "markdown",
   "metadata": {},
   "source": [
    "Bu ilkel veri türleri, diğer karmaşık veri yapıları olan nesneleri ve dizileri oluşturmak için temel yapı taşlarıdır. İlkel veri türleri, değerlerin doğrudan belleğe kaydedildiği ve değiştirilemeyen yapılardır. Yani **immutable** özelliğe sahiptirler.\n",
    "\n",
    "**Örnek**"
   ]
  },
  {
   "cell_type": "code",
   "execution_count": null,
   "metadata": {},
   "outputs": [],
   "source": [
    "// Aşağıdaki deği tipleri string özelliklidir.\n",
    "let str1 = \"Samet\";\n",
    "let str2 = \"Dönmez\";\n",
    "let str3 = \"4\";\n",
    "\n",
    "// Aşağıdaki deği tipleri number özelliklidir.\n",
    "let number1 = 10;\n",
    "let number2 = 85.7;\n",
    "\n",
    "/**\n",
    " * Aşağıdaki deği tipleri bigint özelliklidir. Bir deği'ı bigint özelliği kazandırmak için\n",
    " * BigInt() metodu veya sayısal değerin sonuna `n` harfi eklenerek yapılır.\n",
    " */\n",
    "let bigint1 = BigInt(1234567890123456789012345);\n",
    "let bigint2 = 1234567890123456789012345n;\n",
    "\n",
    "// Aşağıdaki deği tipleri boolean özelliklidir.\n",
    "let boolean1 = true;\n",
    "let boolean2 = false;\n",
    "\n",
    "// Aşağıdaki deği tipi undefined özelliklidir.\n",
    "let undefined1;\n",
    "let x = undefined;\n",
    "\n",
    "// Aşağıdaki deği tipi null özelliklidir.\n",
    "let null1 = null;\n",
    "\n",
    "// Aşağıdaki deği tipi symbol özelliklidir.\n",
    "let symbol1 = Symbol(\"mySymbol\");\n",
    "\n",
    "// Aşağıdaki deği tipleri object özelliklidir.\n",
    "let object1 = { name: \"Hasan\", lastName: \"Kaş\" };\n",
    "let object2 = [\"Bursa\", \"Ankara\", \"İzmir\"];\n",
    "let object3 = new Date(\"2023-10-26\");\n"
   ]
  },
  {
   "cell_type": "markdown",
   "metadata": {},
   "source": [
    "## JavaScript Data Types\n",
    "\n",
    "JavaScript'de 8 tür veri tipi bulunur:\n",
    "\n",
    "1. String\n",
    "\n",
    "2. Number\n",
    "\n",
    "3. Bigint\n",
    "\n",
    "4. Boolean\n",
    "\n",
    "5. Undefined\n",
    "\n",
    "6. Null\n",
    "\n",
    "7. Symbol\n",
    "\n",
    "8. Object\n",
    "\n",
    "### Object Data Types\n",
    "\n",
    "Object data type (8.madde) kendi içerisinde 3 kategoriye ayrılır. **Yani aşağıda tanımlanan tiplerde oluşturulan variable'ların hepsi object temellidir.**\n",
    "\n",
    "1. Object (nesne) temelli\n",
    "\n",
    "2. Array (dizi) temelli\n",
    "\n",
    "3. Date (tarih) temelli\n",
    "\n",
    "**Örnekler**\n"
   ]
  },
  {
   "cell_type": "markdown",
   "metadata": {},
   "source": [
    "**Yazının sonraki bölümlerinde her bir data type'ı (veri tipini) ayrı ayrı inceleyeceğiz.**\n"
   ]
  }
 ],
 "metadata": {
  "kernelspec": {
   "display_name": "JavaScript (Node.js)",
   "language": "javascript",
   "name": "javascript"
  },
  "language_info": {
   "file_extension": ".js",
   "mimetype": "application/javascript",
   "name": "javascript",
   "version": "20.8.0"
  }
 },
 "nbformat": 4,
 "nbformat_minor": 2
}
