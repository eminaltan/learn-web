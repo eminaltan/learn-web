{
 "cells": [
  {
   "cell_type": "markdown",
   "metadata": {},
   "source": [
    "# JavaScript Data Types\n",
    "\n",
    "Merhaba arkadaşlar bu yazıda JavaScript'de veri türlerine değineceğiz. Veri türlerinin neden önemli olduğu, şayet bir variable için doğru veri tipini kullanmadığımızda ne gibi sorunlar ile karşılaşacağımıza değineceğiz. **Yazının sonraki bölümlerinde her bir data type'ı (veri tipi) grubunu ayrı ayrı inceleyeceğiz.**\n",
    "\n",
    "Yazıda:\n",
    "\n",
    "- Data type kavramına\n",
    "- Data type dinamik kavramına\n",
    "- JavaScript data type türlerine\n",
    "\n",
    "Değineceğim.\n",
    "\n",
    "İyi okumalar dilerim.\n"
   ]
  },
  {
   "cell_type": "markdown",
   "metadata": {},
   "source": [
    "## Data Type Kavramı\n",
    "\n",
    "Programlamada data types (veri türleri) önemli bir kavramdır. Variable'lar ile çalışabilmemiz için veri türlerini bilmemiz gerekir.\n",
    "\n",
    "Veri türünü bilmeksizin bir bilgisayar programı denklemi tam anlamıyla çözemez yanlış sonuçlar geri döndürür.\n",
    "\n",
    "**Örnek**\n"
   ]
  },
  {
   "cell_type": "code",
   "execution_count": null,
   "metadata": {},
   "outputs": [],
   "source": [
    "let x = 20 + \"Otobüs\";\n",
    "\n",
    "// Konsola 20Otobüs ifadesi yazdırılacaktır.\n",
    "console.log(x);\n"
   ]
  },
  {
   "cell_type": "markdown",
   "metadata": {},
   "source": [
    "Yukarıdaki işlemi matematiksel anlamda düşünürsek mantıklı değildir. Çünkü 20 rakamı ile \"Otobüs\" değerinin toplamı sonuç olarak bir şey ifade etmez.\n",
    "\n",
    "⚠️ **Doğru sonuçlar elde edebilmemiz için variable'ların aynı türde olması gerekir.**\n",
    "\n",
    "**Örnek**\n"
   ]
  },
  {
   "cell_type": "code",
   "execution_count": null,
   "metadata": {},
   "outputs": [],
   "source": [
    "let x = 20 + \"8\";\n",
    "\n",
    "/**\n",
    " * Konsola 208 rakamı yazdırılacaktır.\n",
    " * Eğer 28 rakamını elde etmek istiyorsak string variable'ı numerik variable'a dönüştürmemiz gerekirdi.\n",
    " */\n",
    "console.log(x);\n"
   ]
  },
  {
   "cell_type": "markdown",
   "metadata": {},
   "source": [
    "## JavaScript'de Data Type Dinamik Özelliklidir\n",
    "\n",
    "Javascript'de veri türleri dinamik özelliğe sahiptir. Bunun anlamı bir variable farklı veri tiplerini tutmak için kullanılabilir.\n",
    "\n",
    "**Örnek**\n"
   ]
  },
  {
   "cell_type": "code",
   "execution_count": null,
   "metadata": {},
   "outputs": [],
   "source": [
    "// x variable'ı undefined değerini tutar.\n",
    "let x;\n",
    "\n",
    "// x variable'a numerik bir veri türü depolanmış.\n",
    "x = 5;\n",
    "\n",
    "// x variable'a string bir veri türü depolanmış.\n",
    "x = \"Sebile\";\n"
   ]
  },
  {
   "cell_type": "markdown",
   "metadata": {},
   "source": [
    "## JavaScript Data Types\n",
    "\n",
    "JavaScript'de 8 tür veri tipi bulunur:\n",
    "\n",
    "1. String\n",
    "\n",
    "2. Number\n",
    "\n",
    "3. Bigint\n",
    "\n",
    "4. Boolean\n",
    "\n",
    "5. Undefined\n",
    "\n",
    "6. Null\n",
    "\n",
    "7. Symbol\n",
    "\n",
    "8. Object\n",
    "\n",
    "### Object Data Types\n",
    "\n",
    "Object data type (8.madde) kendi içerisinde 3 kategoriye ayrılır. **Yani aşağıda tanımlanan tiplerde oluşturulan variable'ların hepsi object temellidir.**\n",
    "\n",
    "1. Object (nesne) temelli\n",
    "\n",
    "2. Array (dizi) temelli\n",
    "\n",
    "3. Date (tarih) temelli\n",
    "\n",
    "**Örnekler**\n"
   ]
  },
  {
   "cell_type": "code",
   "execution_count": null,
   "metadata": {},
   "outputs": [],
   "source": [
    "// Aşağıdaki variable tipleri string özelliklidir.\n",
    "let str1 = \"Samet\";\n",
    "let str2 = \"Dönmez\";\n",
    "let str3 = \"4\";\n",
    "\n",
    "// Aşağıdaki variable tipleri number özelliklidir.\n",
    "let number1 = 10;\n",
    "let number2 = 85.7;\n",
    "\n",
    "/**\n",
    " * Aşağıdaki variable tipleri bigint özelliklidir. Bir variable'ı bigint özelliği kazandırmak için\n",
    " * BigInt() metodu veya sayısal değerin sonuna `n` harfi eklenerek yapılır.\n",
    " */\n",
    "let bigint1 = BigInt(1234567890123456789012345);\n",
    "let bigint2 = 1234567890123456789012345n;\n",
    "\n",
    "// Aşağıdaki variable tipleri boolean özelliklidir.\n",
    "let boolean1 = true;\n",
    "let boolean2 = false;\n",
    "\n",
    "// Aşağıdaki variable tipi undefined özelliklidir.\n",
    "let undefined1;\n",
    "let x = undefined;\n",
    "\n",
    "// Aşağıdaki variable tipi null özelliklidir.\n",
    "let null1 = null;\n",
    "\n",
    "// Aşağıdaki variable tipi symbol özelliklidir.\n",
    "let symbol1 = Symbol(\"mySymbol\");\n",
    "\n",
    "// Aşağıdaki variable tipleri object özelliklidir.\n",
    "let object1 = { name: \"Hasan\", lastName: \"Kaş\" };\n",
    "let object2 = [\"Bursa\", \"Ankara\", \"İzmir\"];\n",
    "let object3 = new Date(\"2023-10-26\");\n"
   ]
  },
  {
   "cell_type": "markdown",
   "metadata": {},
   "source": [
    "**Yazının sonraki bölümlerinde her bir data type'ı (veri tipini) ayrı ayrı inceleyeceğiz.**\n"
   ]
  }
 ],
 "metadata": {
  "kernelspec": {
   "display_name": "JavaScript (Node.js)",
   "language": "javascript",
   "name": "javascript"
  },
  "language_info": {
   "file_extension": ".js",
   "mimetype": "application/javascript",
   "name": "javascript",
   "version": "20.8.0"
  }
 },
 "nbformat": 4,
 "nbformat_minor": 2
}
