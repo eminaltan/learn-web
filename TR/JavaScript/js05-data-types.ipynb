{
 "cells": [
  {
   "cell_type": "markdown",
   "metadata": {},
   "source": [
    "# JavaScript Veri Türleri ve Tipleri\n",
    "\n",
    "Merhaba arkadaşlar bu yazıda JavaScript'de veri türlerine ve veri tiplerine değineceğiz. Veri türlerinin ve veri tiplerinin neden önemli olduğu, şayet bir değişken için doğru veri türü veya veri tipini kullanmadığımızda ne gibi sorunlar ile karşılaşacağımıza değineceğiz. **Yazının sonraki bölümlerinde her bir veri türünü ve veri tipini ayrı ayrı inceleyeceğiz.**\n",
    "\n",
    "Yazıda:\n",
    "\n",
    "- Immutable ve Mutable kavramına\n",
    "- Veri türü ve veri tipi kavramına\n",
    "- Primitive ve Object veri türlerine\n",
    "\n",
    "Değineceğim.\n",
    "\n",
    "İyi okumalar dilerim.\n"
   ]
  },
  {
   "cell_type": "markdown",
   "metadata": {},
   "source": [
    "## JavaScript Immutable ve Mutable Kavramları\n",
    "\n",
    "JavaScript'de değişkenler veri türlerine göre göre iki gruba ayrılırlar:\n",
    "\n",
    "1. Immutable (Sabit değerler)\n",
    "\n",
    "2. Mutable (Değişken değerler)\n",
    "\n",
    "Sabit değerler aynı zamanda **_Literals_** olarak isimlendirilirler. Atanan her değer bellekte (RAM'de) yeni bir adrese sahip olur ve atanan değerin içeriği bellekte değiştirilemez.\n",
    "\n",
    "**💡 Sabit değerleri genelde orijinal verinin korunmasını istediğimiz yerlerde kullanırız. Örneğin orijinal veri birden fazla yerde kullanıyor olabilir. Değeri korunmayan veriler program içerisinde istenmeyen sonuçlara neden olabilir.**\n",
    "\n",
    "**⚠️ Sabit değerli bir değişkene her yeni değer atanması durumunda bellekte verinin depolanması için yeni bir yer ayrılır. Bu da bellek ile ilgili sorunlara neden olacaktır. Bu sebeple performans öncelliğimiz ise sabitleri daha az kullanmalıyız.**\n",
    "\n",
    "Değişken değerler aynı zamanda **_variables_** olarak isimlendirilirler. Atanan değer bellekte bir adrese sahip olur ve atanan verinin içeriği değiştirilebilir. **Bu sebeple referans olma özelliğine sahiptirler. Değişken değerli bir değişkene her veri atamasında bellekte yeni bir alan kullanılmaz. O verinin depolandığı ilgili referans adres bulunur ve eski veri overwrite edilerek yeni veri referans adrese kayıt edilir.**\n",
    "\n",
    "**💡 Değişken özellikli değerler veriler için referans adresleri kullanmaları sebebi ile bellekte sabitler gibi yer kaplamazlar. Dolayısıyla performans önceliğimiz ise bu veri türünü kullanabiliriz.**\n",
    "\n",
    "**Örnek**\n",
    "\n",
    "Aşağıda immutable özelliği görülüyor"
   ]
  },
  {
   "cell_type": "code",
   "execution_count": 10,
   "metadata": {
    "vscode": {
     "languageId": "javascript"
    }
   },
   "outputs": [
    {
     "name": "stdout",
     "output_type": "stream",
     "text": [
      "studentName değişkenin içeriği Emin dir.\n",
      "Buraya dikkat edelim. personName değişkenin depoladığı değer Emin'dir.\n",
      "Hasan\n"
     ]
    }
   ],
   "source": [
    "%%javascript\n",
    "\n",
    "// studentName değişkeni immutable özelliklidir.\n",
    "let studentName = \"Emin\";\n",
    "\n",
    "console.log(\"studentName değişkenin içeriği \"+ studentName +\" dir.\") \n",
    "\n",
    "// personName değişkenimizin içeriğine studentName değişkeninin içeriğini depoluyoruz.\n",
    "let personName = studentName;\n",
    "\n",
    "// studentName değişkenimizin içeriğine yeni bir değer depoluyoruz. Bu durumda Hasan için RAM'de yeni bir adres açılacaktır.\n",
    "studentName = \"Hasan\";\n",
    "\n",
    "console.log(\"Buraya dikkat edelim. personName değişkenin depoladığı değer \"+ personName+ \"'dir.\");\n",
    "console.log(studentName);"
   ]
  },
  {
   "cell_type": "markdown",
   "metadata": {},
   "source": [
    "Aşağıda mutable özelliği görülüyor.\n",
    "\n",
    "**Örnek**\n"
   ]
  },
  {
   "cell_type": "code",
   "execution_count": 11,
   "metadata": {
    "vscode": {
     "languageId": "javascript"
    }
   },
   "outputs": [
    {
     "name": "stdout",
     "output_type": "stream",
     "text": [
      "car ifadesi konsola yazdırılır.\n",
      "Konsola long bus ifadesi yazdırılır.\n",
      "long bus\n"
     ]
    }
   ],
   "source": [
    "%% javascript\n",
    "\n",
    "// vehicle değişkenimiz mutable özelliklidir.\n",
    "let vehicle = { type: \"car\", color: \"orange\" };\n",
    "\n",
    "console.log(vehicle[\"type\"]+ \" ifadesi konsola yazdırılır.\");\n",
    "\n",
    "// bus adında bir değişken oluşturuyoruz ve depoladığı değeri vehicle değişkeni referans gösterecek şekilde belirliyoruz.\n",
    "let bus = vehicle;\n",
    "\n",
    "// bus değişkenin type key'ıne ulaşıp yeni bir veri depoluyoruz.\n",
    "bus[\"type\"] = \"long bus\";\n",
    "\n",
    "\n",
    "console.log(\"Konsola \"+bus[\"type\"]+ \" ifadesi yazdırılır.\")\n",
    "\n",
    "/** \n",
    " * ⚠️ Buraya dikkat edelim. vehicle[type]'ın  depoladığı değer \"long bus\" ile overwrite\n",
    " * edilecek ve konsola \"long bus\" ifadesi yazdırılacaktır.\n",
    " * \n",
    " * Çünkü bus değişkeninin içeriğini değiştirdiğimizde aynı zamanda bellekte veriyi tutan referans \n",
    " * adresindeki içeriği de değiştirdik. \n",
    " */\n",
    "console.log(vehicle[\"type\"]);\n"
   ]
  },
  {
   "cell_type": "markdown",
   "metadata": {},
   "source": [
    "## JavaScript'de Veri Türü ve Veri Tipi Kavramı\n",
    "\n",
    "JavaScript'de veri türleri ve veri tipleri önemli kavramlardır. Değişkenler ile çalışabilmemiz için veri türlerini ve tiplerini bilmemiz gerekir.\n",
    "\n",
    "Veri türünü veya tipini bilmeksizin bir bilgisayar programı denklemi tam anlamıyla çözemez yanlış sonuçlar geri döndürür.\n",
    "\n",
    "**Örnek**\n"
   ]
  },
  {
   "cell_type": "code",
   "execution_count": 12,
   "metadata": {
    "vscode": {
     "languageId": "javascript"
    }
   },
   "outputs": [
    {
     "name": "stdout",
     "output_type": "stream",
     "text": [
      "Konsola 20Otobüs ifadesi yazdırılır.\n"
     ]
    }
   ],
   "source": [
    "%%javascript\n",
    "let x = 20 + \"Otobüs\";\n",
    "\n",
    "console.log(\"Konsola \" + x+ \" ifadesi yazdırılır.\");\n"
   ]
  },
  {
   "cell_type": "markdown",
   "metadata": {},
   "source": [
    "Yukarıdaki işlemi matematiksel anlamda düşünürsek mantıklı değildir. Çünkü 20 rakamı ile \"Otobüs\" değerinin toplamı sonuç olarak bir şey ifade etmez.\n",
    "\n",
    "**⚠️ Doğru sonuçlar elde edebilmemiz için değişkenlerin aynı veri tipine sahip olması gerekir.**\n",
    "\n",
    "**Örnek**\n"
   ]
  },
  {
   "cell_type": "code",
   "execution_count": 13,
   "metadata": {
    "vscode": {
     "languageId": "javascript"
    }
   },
   "outputs": [
    {
     "name": "stdout",
     "output_type": "stream",
     "text": [
      "Konsola 208string'i yazdırılacaktır. Eğer 28 rakamını elde etmek istiyorsak '8' numerik özellikli string değerinin veri tipini number'a dönüştürmemiz gerekir.\n"
     ]
    }
   ],
   "source": [
    "%%javascript\n",
    "let x = 20 + \"8\";\n",
    "\n",
    "console.log(\"Konsola \" + x+ \"string'i yazdırılacaktır. Eğer 28 rakamını elde etmek istiyorsak '8' numerik özellikli string değerinin veri tipini number'a dönüştürmemiz gerekir.\");\n"
   ]
  },
  {
   "cell_type": "markdown",
   "metadata": {},
   "source": [
    "### JavaScript'de Veri Türleri\n",
    "\n",
    "JavaScript'de iki veri türü vardır:\n",
    "\n",
    "1. Primitive (İlkel veri türleri)\n",
    "\n",
    "2. Object (Referans veri türleri)\n",
    "\n",
    "Şimdide bunları sınıflandıralım arkadaşlar.\n"
   ]
  },
  {
   "cell_type": "markdown",
   "metadata": {},
   "source": [
    "#### Primative Veri Türleri\n",
    "\n",
    "JavaScript'de primitive (ilkel) veri türleri, karmaşık yapılardan oluşmayan ve doğrudan değerleri temsil eden temel veri türleridir.\n",
    "\n",
    "JavaScript'teki ilkel veri türleri, temel veri işlemleri ve değerlerin temsilinde kullanılır ve programların temel yapı taşlarını oluştururlar. İlkel veri türleri, karmaşık nesnelerin ve veri yapılarının temelini oluşturan yapı taşlarıdır.\n",
    "\n",
    "Özellikleri:\n",
    "\n",
    "- **İmmutability (Değiştirilemezlik):** İlkel veri türleri, bir kez oluşturulduktan sonra değiştirilemezler. Yani, bir ilkel veri türünün değeri atandıktan sonra, o değer değiştirilemez. Bu, verilerin güvenliğini artırabilir ve beklenmeyen yan etkilere karşı koruma sağlar.\n",
    "\n",
    "- **Değer Tipi (Value Type):** İlkel veri türleri, değerlerin kendilerini temsil eder, yani değerler doğrudan bellekte saklanır. İlkel veri türleri, diğer değişkenlere atanırken kopyalanır, bu nedenle bir değişkenin değeri değişse bile diğer değişkenler üzerinde herhangi bir etkisi olmaz.\n",
    "\n",
    "- **Hafızada Sabit Boyut:** İlkel veri türleri, sabit bir bellek boyutuna sahiptir. Örneğin, bir sayı her zaman aynı boyutta bellekte saklanır. Bu, bellek yönetimi açısından daha etkili olmalarını sağlar.\n",
    "\n",
    "- **Kolay Kullanım:** İlkel veri türleri, basit ve hızlı bir şekilde kullanılabilir. İşlemler ve karşılaştırmalar ilkel veri türleri üzerinde hızlı ve verimli bir şekilde gerçekleştirilir.\n",
    "\n",
    "- **Belirli Değer Aralıkları:** Her ilkel veri türü belirli bir değer aralığını temsil eder. Örneğin, **_Number_** veri türü, JavaScript'in en yaygın kullanılan ilkel veri türü olup tam sayılar ve ondalık sayıları temsil eder.\n",
    "\n",
    "- **Özel Metotlara Sahip Değil:** İlkel veri türleri, nesnelerin ve fonksiyonların aksine özel metotlara (methods) veya özelliklere (properties) sahip değildir. İlkel veri türlerinin üzerinde doğrudan işlem yapılabilir, ancak bunlarla ilgili özel işlemler için kullanılabilen global fonksiyonlar (örneğin, `parseInt, parseFloat, String`) vardır.\n",
    "\n",
    "JavaScript'in altı ilkel veri türü bulunmaktadır:\n",
    "\n",
    "1. Number String\n",
    "\n",
    "2. String Number\n",
    "\n",
    "3. Boolean BigInt\n",
    "\n",
    "4. Undefined\n",
    "\n",
    "5. Null\n",
    "\n",
    "6. Symbol\n",
    "\n",
    "7. BİgInt\n",
    "\n",
    "**⚠️ BigInt veri türü bellekte yer değiştirilemez olması sebebi ile JavaScript'te bir ilkel (primitive) veri türüdür.**\n",
    "\n",
    "**Örnek**\n"
   ]
  },
  {
   "cell_type": "code",
   "execution_count": 14,
   "metadata": {
    "vscode": {
     "languageId": "javascript"
    }
   },
   "outputs": [],
   "source": [
    "%%javascript\n",
    "// Aşağıdaki değişken türleri string özelliklidir.\n",
    "let str1 = \"Samet\";\n",
    "let str2 = \"4\";\n",
    "\n",
    "// Aşağıdaki değişken türleri number özelliklidir.\n",
    "let number1 = 10;\n",
    "let number2 = 85.7;\n",
    "\n",
    "// Aşağıdaki değişken türleri boolean özelliklidir.\n",
    "let boolean1 = true;\n",
    "let boolean2 = false;\n",
    "\n",
    "// Aşağıdaki değişken türü undefined özelliklidir.\n",
    "let undefined1;\n",
    "let x = undefined;\n",
    "\n",
    "// Aşağıdaki değişken türü null özelliklidir.\n",
    "let null1 = null;\n",
    "\n",
    "// Aşağıdaki değişken türü symbol özelliklidir.\n",
    "let symbol1 = Symbol(\"mySymbol\");\n",
    "\n",
    "// Aşağıdaki değişken türleri bigint özelliklidir.\n",
    "let bigint1 = 1234567890123456789012345n;\n",
    "let bigint2 = BigInt(1234567890123456789012345);"
   ]
  },
  {
   "cell_type": "markdown",
   "metadata": {},
   "source": [
    "#### Object Veri Türleri\n",
    "\n",
    "JavaScript'de nesne (object) veri türü, karmaşık ve esnek veri yapılarını temsil etmek için kullanılan bir yapıdır. Nesneler, anahtar-değer (key-value) çiftlerini içeren veri yapılarıdır ve JavaScript programlamasında önemli bir rol oynarlar. Nesneler, `{}` süslü parantezler arasına yerleştirilen özelliklerin (properties) ve bu özelliklere atanan değerlerin bir koleksiyonunu temsil eder. Bir nesne `[]` işaretleri arasında da oluşturulabilir, bu durumdaki nesne array özelliği taşır.\n",
    "\n",
    "Özellikleri:\n",
    "\n",
    "- **Mutable (Değiştirilebilir)**: Nesne özellikli değişkenin bellekte adrese erişilebilir ve içeriği güncellenebilir. Örneğin nesne özellikli bir değişkene yeni değer atandığında yeni değer için bellekte bir adres oluşturulmaz yeni değer eski değerin üzerine yazılır.\n",
    "\n",
    "- **Anahtar-Değer Çiftleri:** JavaScript nesneleri, anahtar-değer çiftlerini temsil eder. Bu çiftler, nesnenin özelliklerini ve değerlerini tanımlar. Özellikler (anahtarlar) dizge (string) türünde olmalıdır ve değerler herhangi bir veri türü olabilir.\n",
    "\n",
    "- **Dinamik ve Genişletilebilir:** JavaScript nesneleri dinamiktir, yani nesne oluşturulduktan sonra özellikler (anahtarlar) ekleyebilir, değiştirebilir veya silebilirsiniz. Bu, nesneleri esnek kılar.\n",
    "\n",
    "- **Özelliklere ve Metotlara Sahip:** JavaScript nesneleri hem özellikleri (anahtar-değer çiftleri) hem de metotları (fonksiyonları) içerebilir. Bu nedenle nesneler hem veri hem de işlevselliği temsil edebilirler.\n",
    "\n",
    "- **Referans Tipi:** Nesneler referans tipli verilerdir. Yani, bir nesneyi başka bir değişkene atadığınızda, aslında referansın bir kopyasını oluşturursunuz ve her ikisi de aynı nesneyi paylaşır.\n",
    "\n",
    "- **JSON (JavaScript Object Notation) ile Uyumlu:** JavaScript nesneleri, JSON formatında veri temsilini destekler. Bu, verileri paylaşmak ve veriyi dışarı aktarmak için yaygın olarak kullanılır.\n",
    "\n",
    "- **Örnek Tabanlı:** JavaScript'de nesneler sınıf veya prototip tabanlıdır ve yeni nesneler oluşturmak için sınıf tanımlamaları veya prototipler kullanabilirsiniz.\n",
    "\n",
    "Object özellikli veri türleri aşağıdaki gibidir:\n",
    "\n",
    "1. Object (Nesne)\n",
    "\n",
    "2. Function (Fonksiyon)\n",
    "\n",
    "3. Array (Dizi)\n",
    "\n",
    "4. Date (Tarih)\n",
    "\n",
    "**Örnek**\n"
   ]
  },
  {
   "cell_type": "code",
   "execution_count": 15,
   "metadata": {
    "vscode": {
     "languageId": "javascript"
    }
   },
   "outputs": [],
   "source": [
    "%%javascript\n",
    "function Test() { return \"Function test\"; }\n",
    "\n",
    "// Aşağıdaki değişken türleri object özelliklidir.\n",
    "\n",
    "// Nesne\n",
    "let variable1 = { name: \"Hasan\", lastName: \"Kaş\" };\n",
    "\n",
    "// Function\n",
    "\n",
    "let variable2 = new Test();\n",
    "\n",
    "// Array\n",
    "let variable3 = [\"Bursa\", \"Ankara\", \"İzmir\"];\n",
    "\n",
    "// Date\n",
    "let variable4= new Date(\"2023-10-26\");\n"
   ]
  },
  {
   "cell_type": "markdown",
   "metadata": {},
   "source": [
    "### Javascript'de Veri Tipleri\n",
    "\n",
    "JavaScript'de veri türlerine değindikten sonra şimdi de veri tiplerinde değinelim.\n",
    "\n",
    "Özetle primitive veri türleri için her veri türü kendi isminde veri tipine sahiptir.\n",
    "\n",
    "**Örnek**\n"
   ]
  },
  {
   "cell_type": "code",
   "execution_count": 16,
   "metadata": {
    "vscode": {
     "languageId": "javascript"
    }
   },
   "outputs": [
    {
     "name": "stdout",
     "output_type": "stream",
     "text": [
      "str1 değişkenin veri tipi string 'dir.\n",
      "str2 değişkenin veri tipi string 'dir.\n",
      "number1 değişkenin veri tipi number 'dır.\n",
      "number2 değişkenin veri tipi number 'dır.\n",
      "boolean1 değişkenin veri tipi boolean 'dır.\n",
      "boolean2 değişkenin veri tipi boolean 'dır.\n",
      "undefined1 değişkenin veri tipi undefined 'dır.\n",
      "symbol1 değişkenin veri tipi symbol 'dir.\n",
      "bigint1  değişkenin veri tipi bigint 'dir.\n",
      "bigint2  değişkenin veri tipi bigint 'dir.\n"
     ]
    }
   ],
   "source": [
    "%%javascript\n",
    "\n",
    "// Aşağıdaki değişkenlerin veri tipi string özelliklidir.\n",
    "let str1 = \"Samet\";\n",
    "let str2 = \"4\";\n",
    "\n",
    "// Aşağıdaki değişkenlerin veri tipi number özelliklidir.\n",
    "let number1 = 10;\n",
    "let number2 = 85.7;\n",
    "\n",
    "// Aşağıdaki değişkenlerin veri tipi boolean özelliklidir.\n",
    "let boolean1 = true;\n",
    "let boolean2 = false;\n",
    "\n",
    "// Aşağıdaki değişkenin veri tipi undefined özelliklidir.\n",
    "let undefined1;\n",
    "let x = undefined;\n",
    "\n",
    "// Aşağıdaki değişkenin veri tipi symbol özelliklidir.\n",
    "let symbol1 = Symbol(\"mySymbol\");\n",
    "\n",
    "// Aşağıdaki değişkenlerin veri tipleri bigint özelliklidir.\n",
    "let bigint1 = 1234567890123456789012345n;\n",
    "let bigint2 = BigInt(1234567890123456789012345);\n",
    "\n",
    "console.log(\"str1 değişkenin veri tipi \" + typeof (str1) + \" 'dir.\")\n",
    "console.log(\"str2 değişkenin veri tipi \" + typeof (str2) + \" 'dir.\")\n",
    "console.log(\"number1 değişkenin veri tipi \" + typeof (number1) + \" 'dır.\")\n",
    "console.log(\"number2 değişkenin veri tipi \" + typeof (number2) + \" 'dır.\")\n",
    "console.log(\"boolean1 değişkenin veri tipi \" + typeof (boolean1) + \" 'dır.\")\n",
    "console.log(\"boolean2 değişkenin veri tipi \" + typeof (boolean2) + \" 'dır.\")\n",
    "console.log(\"undefined1 değişkenin veri tipi \" + typeof (undefined1) + \" 'dır.\")\n",
    "console.log(\"symbol1 değişkenin veri tipi \" + typeof (symbol1) + \" 'dir.\")\n",
    "console.log(\"bigint1  değişkenin veri tipi \" + typeof (bigint1) + \" 'dir.\")\n",
    "console.log(\"bigint2  değişkenin veri tipi \" + typeof (bigint2 ) + \" 'dir.\")"
   ]
  },
  {
   "cell_type": "markdown",
   "metadata": {},
   "source": [
    "**⚠️ Bu durum _*Null*_ veri türü için geçerli değildir. Çünkü _*Null*_ veri türünün veri tipi object özelliği taşır.**\n",
    "\n",
    "**Örnek**\n"
   ]
  },
  {
   "cell_type": "code",
   "execution_count": 17,
   "metadata": {
    "vscode": {
     "languageId": "javascript"
    }
   },
   "outputs": [
    {
     "name": "stdout",
     "output_type": "stream",
     "text": [
      "variable değişkenin veri tipi object 'dir.\n"
     ]
    }
   ],
   "source": [
    "%%javascript\n",
    "\n",
    "let variable = null;\n",
    "\n",
    "console.log(\"variable değişkenin veri tipi \"+ typeof(variable)+\" 'dir.\")"
   ]
  },
  {
   "cell_type": "markdown",
   "metadata": {},
   "source": [
    "Nesneler veri türleri için veri tipi yine object şeklinde oluşturulur.\n",
    "\n",
    "**Örnek**\n"
   ]
  },
  {
   "cell_type": "code",
   "execution_count": 18,
   "metadata": {
    "vscode": {
     "languageId": "javascript"
    }
   },
   "outputs": [
    {
     "name": "stdout",
     "output_type": "stream",
     "text": [
      "variable1 değişkeninin veri tipi object özelliklidir.\n",
      "variable2 değişkeninin veri tipi object özelliklidir.\n",
      "variable3 değişkeninin veri tipi object özelliklidir.\n",
      "variable4 değişkeninin veri tipi object özelliklidir.\n"
     ]
    }
   ],
   "source": [
    "%%javascript\n",
    "function Test() { return \"Function test\"; }\n",
    "\n",
    "// Aşağıdaki değişkenlerin veri tipleri object özelliklidir.\n",
    "\n",
    "let variable1 = { name: \"Hasan\", lastName: \"Kaş\" };\n",
    "\n",
    "let variable2 = new Test();\n",
    "\n",
    "let variable3 = [\"Bursa\", \"Ankara\", \"İzmir\"];\n",
    "\n",
    "let variable4= new Date(\"2023-10-26\");\n",
    "\n",
    "console.log(\"variable1 değişkeninin veri tipi \"+typeof variable1+\" özelliklidir.\")\n",
    "console.log(\"variable2 değişkeninin veri tipi \" + typeof variable2 + \" özelliklidir.\")\n",
    "console.log(\"variable3 değişkeninin veri tipi \" + typeof variable3 + \" özelliklidir.\")\n",
    "console.log(\"variable4 değişkeninin veri tipi \"+typeof variable4+\" özelliklidir.\")\n"
   ]
  },
  {
   "cell_type": "markdown",
   "metadata": {},
   "source": [
    "**Yazının sonraki bölümlerinde her bir veri türünü ve veri tipini ayrı ayrı inceleyeceğiz.**\n"
   ]
  }
 ],
 "metadata": {
  "kernelspec": {
   "display_name": "Python 3",
   "language": "python",
   "name": "python3"
  },
  "language_info": {
   "codemirror_mode": {
    "name": "ipython",
    "version": 3
   },
   "file_extension": ".py",
   "mimetype": "text/x-python",
   "name": "python",
   "nbconvert_exporter": "python",
   "pygments_lexer": "ipython3",
   "version": "3.11.5"
  }
 },
 "nbformat": 4,
 "nbformat_minor": 2
}
