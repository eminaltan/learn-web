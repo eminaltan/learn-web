{
 "cells": [
  {
   "cell_type": "markdown",
   "metadata": {},
   "source": [
    "# JavaScript String Veri Türü ve Tipi\n",
    "\n",
    "Merhaba arkadaşlar serinin bu bölümünde JavaScript'de string veri türlerini ve veri tiplerini inceleyeceğiz.\n",
    "\n",
    "Yazıda:\n",
    "\n",
    "- String veri türüne ve veri tipine\n",
    "\n",
    "- Numerik özellikli string değerlere\n",
    "\n",
    "- String veri türünün matematiksel işlemlerde kullanılmasına.\n",
    "\n",
    "- (`\\`) Escape karakterinin kullanılmasına.\n",
    "\n",
    "- Object tipindeki string türlerine.\n",
    "\n",
    "Değineceğim.\n",
    "\n",
    "İyi okumalar dilerim.\n"
   ]
  },
  {
   "cell_type": "markdown",
   "metadata": {},
   "source": [
    "## JavaScript String Veri Türü\n",
    "\n",
    "Karakterlerden veya dizi karakterlerinden oluşan veri türlerine string adı verilir. String veri tipleri tırnak işaretleri arasında kullanılırlar. Tırnak işareti çift veya tek tırnak şeklinde olabilir.\n",
    "\n",
    "**Örnek**\n"
   ]
  },
  {
   "cell_type": "code",
   "execution_count": 31,
   "metadata": {
    "vscode": {
     "languageId": "javascript"
    }
   },
   "outputs": [
    {
     "name": "stdout",
     "output_type": "stream",
     "text": [
      "Lada\n",
      "Opel\n",
      "Doktor  `gel` dedi.\n",
      "Doktor \"gel\" dedi.\n"
     ]
    }
   ],
   "source": [
    "%%javascript\n",
    "\n",
    "// Çift tırnak işareti ile kullanımı\n",
    "const car1 = \"Lada\";\n",
    "\n",
    "// Tek tırnak işareti ile kullanımı\n",
    "const car2 = `Opel`;\n",
    "\n",
    "// Çift ve tek tırnak işaretleri birlikte kullanılabilirler.\n",
    "let text1 = \"Doktor  `gel` dedi.\";\n",
    "let text2 = `Doktor \"gel\" dedi.`;\n",
    "\n",
    "console.log(car1)\n",
    "console.log(car2)\n",
    "console.log(text1)\n",
    "console.log(text2)"
   ]
  },
  {
   "cell_type": "markdown",
   "metadata": {},
   "source": [
    "String veri türleri **_immutable_** yani değiştirilemez özelliğe sahiptirler.\n",
    "\n",
    "**Örnek**\n"
   ]
  },
  {
   "cell_type": "code",
   "execution_count": 32,
   "metadata": {
    "vscode": {
     "languageId": "javascript"
    }
   },
   "outputs": [
    {
     "name": "stdout",
     "output_type": "stream",
     "text": [
      "Konsola Hasan ifadesi yazdırılacak\n",
      "Konsola Murat ifadesi yazdırılır.\n"
     ]
    }
   ],
   "source": [
    "%%javascript\n",
    "\n",
    "let student = \"Hasan\";\n",
    "\n",
    " /** \n",
    "  * person değişkeni için RAM'de yeni bir adres açılacaktır ve student değişkeninin\n",
    "  * değeri person değişkenine kopyalanacaktır.\n",
    "  */ \n",
    "let person = student;\n",
    "\n",
    "// Konsola Hasan ifadesi yazdırılacak.\n",
    "console.log(\"Konsola \" + person + \" ifadesi yazdırılacak\")\n",
    "\n",
    "// student değişkeninin depoladığı veriyi değiştirdiğimizde  yeni değer için bellekte yeni bir adres  oluşturulacaktır.\n",
    "student = \"Murat\"\n",
    "\n",
    "// Konsola Murat ifadesi yazdırılır.\n",
    "console.log(\"Konsola \"+ student +\" ifadesi yazdırılır.\");\n",
    "\n"
   ]
  },
  {
   "cell_type": "markdown",
   "metadata": {},
   "source": [
    "Hatırlarsak object veri tipine sahip değişkenlerde bellekteki adres bulunup depoladığı değer güncelleniyordu.\n",
    "\n",
    "Aynı örneği şimdi object veri tipine sahip veri türleri için yapalım.\n",
    "\n",
    "**Örnek**\n"
   ]
  },
  {
   "cell_type": "code",
   "execution_count": 33,
   "metadata": {
    "vscode": {
     "languageId": "javascript"
    }
   },
   "outputs": [
    {
     "name": "stdout",
     "output_type": "stream",
     "text": [
      "Murat\n",
      "Murat\n"
     ]
    }
   ],
   "source": [
    "%%javascript\n",
    "\n",
    "let student = { firstName: \"Hasan\", surName: \"Taş\" };\n",
    "\n",
    "let person = student;\n",
    "\n",
    "// person değişkeninin firstName key'i ile depolanan değere ulaşıp veriyi değiştiriyoruz.\n",
    "person[\"firstName\"] = \"Murat\";\n",
    "\n",
    "// Konsola Murat ifadesi yazdırılacaktır.\n",
    "console.log(person[\"firstName\"]);\n",
    "\n",
    "// ⚠️ student değişkenin de güncellendiğini ve konsola Murat ifadesi yazdırıldığına dikkat edin.\n",
    "console.log(student.firstName)\n"
   ]
  },
  {
   "cell_type": "markdown",
   "metadata": {},
   "source": [
    "### JavaScript Numerik Özellikli String Değerler\n",
    "\n",
    "String veri türleri rakamlardan oluşabilir. Bu durumdaki string'ler **_numerik özellikli_** string değerler olarak ifade edilir.\n",
    "\n",
    "**⚠️ Numerik özellikli string değerler dışındaki diğer string değerleri matematiksel işlemlerde sonuca katkıda bulunmazlar. Şayet bir string matematiksel ifade içerisinde kullanılırsa işlem sonucunun veri tipi string olacaktır. Bu durum string'in bulunduğu yere göre sonucu etkiler. Numerik özellikli string değerler için durum biraz daha farklıdır. Daha detaylı bilgi almak için [JavaScript Numeric String Veri Tipleri](js07-numeric-data-type.ipynb#javascript-numeric-string-veri-tipleri) başlığına bakabilirsiniz.**\n",
    "[#1](https://github.com/eminaltan/learn-web/issues/1)\n",
    "\n",
    "**JavaScript'de expression'lar (ifadeler) soldan sağa şekilde değerlendirilir. Yani Javascript ifadenin nerede string olacağını bu pattern'e göre belirler.**\n",
    "\n",
    "**Örnek**\n"
   ]
  },
  {
   "cell_type": "code",
   "execution_count": null,
   "metadata": {
    "vscode": {
     "languageId": "javascript"
    }
   },
   "outputs": [
    {
     "name": "stdout",
     "output_type": "stream",
     "text": [
      "71\n",
      "143\n",
      "\u001b[33m8\u001b[39m\n",
      "Emin Altan\n"
     ]
    }
   ],
   "source": [
    "%%javascript\n",
    "// + işareti ile string'ler birbirine ekleniyor.\n",
    "\n",
    "// Konsola 71 yazdırılacaktır.\n",
    "var x = 4 + 3 + \"1\";\n",
    "console.log(x);\n",
    "\n",
    "// Konsola 143 yazdırılacaktır.\n",
    "var y = \"1\" + 4 + 3;\n",
    "console.log(y);\n",
    "\n",
    "// Konsola 8 yazdırılacaktır. ⚠️ Expression değerlendirilirken soldan sağa işlemin gerçekleştiğine dikkat edin.\n",
    "var z = \"9\" - 4 + 3;\n",
    "console.log(z);\n",
    "\n",
    "let m = \"Emin\" + \" \" + \"Altan\";\n",
    "\n",
    "// Çıktı Emin Altan olacaktır.\n",
    "console.log(m);\n"
   ]
  },
  {
   "cell_type": "markdown",
   "metadata": {},
   "source": [
    "## JavaScript String Veri Tipi\n",
    "String veri türü özellikli değişkenlerin veri tipleri de string olacaktır.\n",
    "\n",
    "**Örnek**\n"
   ]
  },
  {
   "cell_type": "code",
   "execution_count": 34,
   "metadata": {
    "vscode": {
     "languageId": "javascript"
    }
   },
   "outputs": [
    {
     "name": "stdout",
     "output_type": "stream",
     "text": [
      "x'in veri tipi string 'dir.\n",
      "y'nin veri tipi string 'dir.\n"
     ]
    }
   ],
   "source": [
    "%%javascript\n",
    "\n",
    "let x = \"Hasan\";\n",
    "\n",
    "let y = \"5\";\n",
    "\n",
    "// Konsola değişkenleri veri tipleri yazılır.\n",
    "console.log(\"x'in veri tipi \" + typeof x+ \" 'dir.\")\n",
    "console.log(\"y'nin veri tipi \"+ typeof y+ \" 'dir.\")"
   ]
  },
  {
   "cell_type": "markdown",
   "metadata": {},
   "source": [
    "## `\\` Escape Karakterinin Kullanımı\n",
    "\n",
    "**⚠️ String ifadeyi oluştururken kullandığımız tırnak işareti ile string ifade içerisinde alıntı yapmak için kullandığımız tırnak işaretinin benzer olması halinde sorunlar ortaya çıkar.**\n",
    "\n",
    "**Örnek**\n"
   ]
  },
  {
   "cell_type": "code",
   "execution_count": 36,
   "metadata": {
    "vscode": {
     "languageId": "javascript"
    }
   },
   "outputs": [
    {
     "data": {
      "application/javascript": "/** \n * Javascript string'in nerede başladığını ve bittiğini bilemediği için problemlere neden olacaktır. \n * SyntaxError: Unexpected identifier 'Moğollar' ifadesi konsola yazdırılır.\n */\nlet text = \"Biz onları \"Moğollar\" olarak çağırırdık.\"\n",
      "text/plain": [
       "<IPython.core.display.Javascript object>"
      ]
     },
     "metadata": {},
     "output_type": "display_data"
    }
   ],
   "source": [
    "%%javascript\n",
    "/** \n",
    " * Javascript string'in nerede başladığını ve bittiğini bilemediği için problemlere neden olacaktır. \n",
    " * SyntaxError: Unexpected identifier 'Moğollar' ifadesi konsola yazdırılır.\n",
    " */\n",
    "let text = \"Biz onları \"Moğollar\" olarak çağırırdık.\""
   ]
  },
  {
   "cell_type": "markdown",
   "metadata": {},
   "source": [
    "Bu tarz sorunların önüne geçmek için **_backslash escape character_**[^1] kullanılır.\n",
    "\n",
    "Backslash escape character'leri listelersek:\n",
    "\n",
    "| **Kod** | **Sonuç** | **Açıklama**        |\n",
    "| ------- | --------- | ------------------- |\n",
    "| `\\'`    | '         | Tek tırnak işareti  |\n",
    "| `\\\"`    | \"         | Çift tırnak işareti |\n",
    "| `\\\\`    | \\         | Slash işareti       |\n",
    "\n",
    "**Örnek**\n"
   ]
  },
  {
   "cell_type": "code",
   "execution_count": 37,
   "metadata": {
    "vscode": {
     "languageId": "javascript"
    }
   },
   "outputs": [
    {
     "name": "stdout",
     "output_type": "stream",
     "text": [
      "Biz onları `Moğollar` olarak çağırırdık.\n",
      "Biz onları \"Moğollar\" olarak çağırırdık.\n",
      "\\ Karakteri backslash olarak tanımlanır.\n"
     ]
    }
   ],
   "source": [
    "%%javascript\n",
    "// Yukarıdaki örnek için backslash kullandığımızda sorun çözülür.\n",
    "\n",
    "let text1 = \"Biz onları \\`Moğollar\\` olarak çağırırdık.\";\n",
    "\n",
    "// Biz onları `Moğollar` olarak çağırırdık. ifadesi konsola yazılır.\n",
    "console.log(text1);\n",
    "\n",
    "let text2 = 'Biz onları \\\"Moğollar\\\" olarak çağırırdık.';\n",
    "\n",
    "// Biz onları \"Moğollar\" olarak çağırırdık. ifadesi konsola yazılır.\n",
    "console.log(text2);\n",
    "\n",
    "// Bir string'e backslash karakteri eklemek istersek `\\\\` karakterlerinden faydalanırız.\n",
    "text2 = \"\\\\ Karakteri backslash olarak tanımlanır.\";\n",
    "\n",
    "// \\ Karakteri backslash olarak tanımlanır. ifadesi konsola yazılır.\n",
    "console.log(text2);\n"
   ]
  },
  {
   "cell_type": "markdown",
   "metadata": {},
   "source": [
    "Bunların dışında bir kaç tür daha backslash escape character mevcuttur fakat bunlara değinmeye gerek görmüyorum arkadaşlar.\n"
   ]
  },
  {
   "cell_type": "markdown",
   "metadata": {},
   "source": [
    "## JavaScript Object Veri Tipinde String Veri Türleri\n",
    "\n",
    "Bildiğimiz üzere JavaScript'de string değişkenler normalde **_immutable_**, ilkel ve string veri tipine sahip veri türleridir.\n",
    "\n",
    "Ancak `new` keyword'u kullanılarak object veri tipinde string veri türleri oluşturulabilir.\n",
    "\n",
    "**Örnek**\n"
   ]
  },
  {
   "cell_type": "code",
   "execution_count": 38,
   "metadata": {
    "vscode": {
     "languageId": "javascript"
    }
   },
   "outputs": [
    {
     "name": "stdout",
     "output_type": "stream",
     "text": [
      "student= Candan\n",
      "student değişkeninin veri tipi object' dir.\n",
      "student2= Murat\n",
      "student2 değişkeninin veri tipi string' dir.\n"
     ]
    }
   ],
   "source": [
    "%%javascript\n",
    "\n",
    "// student değişkeni nesne özellikli string veri türü olup veri tipi object'dir.\n",
    "let student = new String(\"Candan\")\n",
    "\n",
    "console.log(\"student= \"+student)\n",
    "console.log(\"student değişkeninin veri tipi \"+typeof student+ \"' dir.\")\n",
    "\n",
    "let student2 = \"Murat\";\n",
    "\n",
    "console.log(\"student2= \"+student2)\n",
    "console.log(\"student2 değişkeninin veri tipi \" + typeof student2 + \"' dir.\")"
   ]
  },
  {
   "cell_type": "markdown",
   "metadata": {},
   "source": [
    "**❗ Object tipinde string veri tiplerinin kullanılması tavsiye edilmez. Özellikle mantıksal operatörlerin kullanıldığı expression'larda beklenmedik sonuçlar ile karşılaşabiliriz.**\n",
    "\n",
    "**Ek olarak kodları komplike hale getireceği için kod bloklarının yavaş çalışmasına neden olacaktır.**\n",
    "\n",
    "**Object veri tipindeki iki değişkenin kıyaslanması durumunda sonuç daima `false` olarak geri döner.**\n",
    "\n",
    "**Örnek**"
   ]
  },
  {
   "cell_type": "code",
   "execution_count": 39,
   "metadata": {
    "vscode": {
     "languageId": "javascript"
    }
   },
   "outputs": [
    {
     "name": "stdout",
     "output_type": "stream",
     "text": [
      "\u001b[33mfalse\u001b[39m\n"
     ]
    }
   ],
   "source": [
    "%%javascript\n",
    "\n",
    "const student = new String(\"Candan\");\n",
    "const student2 = new String(\"Murat\");\n",
    "\n",
    "/** \n",
    " * Her iki değişken türü object veri tipine sahip olsa da tür bakımından kıyaslandıklarında birbirine eşit değildirler. \n",
    " * Çünkü object veri tipine sahip değişkenler unique olma özelliği taşır.\n",
    " */\n",
    "console.log(student===student2)"
   ]
  },
  {
   "cell_type": "markdown",
   "metadata": {},
   "source": [
    "[^1]: JavaScript'de ters eğik çizgi (backslash) karakteri (\\), özellikle metin (string) dizileri içerisinde özel karakterleri veya kontrol dizilerini temsil etmek için kullanılır. Ters eğik çizgi, ardışık karakterlerin veya özel anlamları olan karakterlerin kaçış (escape) dizilerini oluşturur.\n"
   ]
  }
 ],
 "metadata": {
  "kernelspec": {
   "display_name": "Python 3",
   "language": "python",
   "name": "python3"
  },
  "language_info": {
   "codemirror_mode": {
    "name": "ipython",
    "version": 3
   },
   "file_extension": ".py",
   "mimetype": "text/x-python",
   "name": "python",
   "nbconvert_exporter": "python",
   "pygments_lexer": "ipython3",
   "version": "3.11.5"
  }
 },
 "nbformat": 4,
 "nbformat_minor": 2
}
