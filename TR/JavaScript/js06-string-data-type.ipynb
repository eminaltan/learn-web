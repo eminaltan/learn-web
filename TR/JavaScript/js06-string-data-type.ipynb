{
 "cells": [
  {
   "cell_type": "markdown",
   "metadata": {},
   "source": [
    "# JavaScript String Veri Türü ve Tipi\n",
    "\n",
    "Merhaba arkadaşlar serinin bu bölümünde JavaScript'de **_string_** veri türlerini ve veri tiplerini inceleyeceğiz.\n",
    "\n",
    "Yazıda:\n",
    "\n",
    "- String veri türüne ve veri tipine.\n",
    "\n",
    "- Numerik özellikli string değerlere.\n",
    "\n",
    "- String veri türünün matematiksel işlemlerde kullanılmasına.\n",
    "\n",
    "- (`\\`) Escape karakterinin kullanılmasına.\n",
    "\n",
    "- Object tipindeki string türlerine.\n",
    "\n",
    "Değineceğim.\n",
    "\n",
    "İyi okumalar dilerim.\n"
   ]
  },
  {
   "cell_type": "markdown",
   "metadata": {},
   "source": [
    "## JavaScript String Veri Türü\n",
    "\n",
    "Karakterlerden veya dizi karakterlerinden oluşan veri türlerine string adı verilir. String veri tipleri tırnak işaretleri arasında kullanılırlar. Tırnak işareti çift veya tek tırnak şeklinde olabilir.\n",
    "\n",
    "**Örnek**\n"
   ]
  },
  {
   "cell_type": "code",
   "execution_count": 1,
   "metadata": {
    "vscode": {
     "languageId": "javascript"
    }
   },
   "outputs": [
    {
     "name": "stdout",
     "output_type": "stream",
     "text": [
      "Lada\n",
      "Opel\n",
      "Doktor  `gel` dedi.\n",
      "Doktor \"gel\" dedi.\n"
     ]
    }
   ],
   "source": [
    "%%script node\n",
    "\n",
    "// Çift tırnak işareti ile kullanımı\n",
    "const car1 = \"Lada\";\n",
    "\n",
    "// Tek tırnak işareti ile kullanımı\n",
    "const car2 = `Opel`;\n",
    "\n",
    "// Çift ve tek tırnak işaretleri birlikte kullanılabilirler.\n",
    "let text1 = \"Doktor  `gel` dedi.\";\n",
    "let text2 = `Doktor \"gel\" dedi.`;\n",
    "\n",
    "console.log(car1)\n",
    "console.log(car2)\n",
    "console.log(text1)\n",
    "console.log(text2)"
   ]
  },
  {
   "cell_type": "markdown",
   "metadata": {},
   "source": [
    "String veri türleri primitive özelliklidir ve **_immutable_** yapıdadırlar yani değiştirilemezler.\n",
    "\n",
    "**Örnek**\n"
   ]
  },
  {
   "cell_type": "code",
   "execution_count": 2,
   "metadata": {
    "vscode": {
     "languageId": "javascript"
    }
   },
   "outputs": [
    {
     "name": "stdout",
     "output_type": "stream",
     "text": [
      "Konsola Hasan ifadesi yazdırılacak\n",
      "Konsola Murat ifadesi yazdırılır.\n"
     ]
    }
   ],
   "source": [
    "%%script node\n",
    "\n",
    "let student = \"Hasan\";\n",
    "\n",
    " /** \n",
    "  * person değişkeni için RAM'de yeni bir adres açılacaktır ve student değişkeninin\n",
    "  * değeri person değişkenine kopyalanacaktır.\n",
    "  */ \n",
    "let person = student;\n",
    "\n",
    "// Konsola Hasan ifadesi yazdırılacak.\n",
    "console.log(\"Konsola \" + person + \" ifadesi yazdırılacak\")\n",
    "\n",
    "// student değişkeninin depoladığı veriyi değiştirdiğimizde  yeni değer için bellekte yeni bir adres  oluşturulacaktır.\n",
    "student = \"Murat\"\n",
    "\n",
    "// Konsola Murat ifadesi yazdırılır.\n",
    "console.log(\"Konsola \"+ student +\" ifadesi yazdırılır.\");\n",
    "\n"
   ]
  },
  {
   "cell_type": "markdown",
   "metadata": {},
   "source": [
    "Hatırlarsak object veri tipine sahip değişkenlerde bellekteki adres bulunup depoladığı değer güncelleniyordu.\n",
    "\n",
    "Aynı örneği şimdi object veri tipine sahip veri türleri için yapalım.\n",
    "\n",
    "**Örnek**\n"
   ]
  },
  {
   "cell_type": "code",
   "execution_count": 3,
   "metadata": {
    "vscode": {
     "languageId": "javascript"
    }
   },
   "outputs": [
    {
     "name": "stdout",
     "output_type": "stream",
     "text": [
      "Murat\n",
      "Murat\n"
     ]
    }
   ],
   "source": [
    "%%script node\n",
    "\n",
    "let student = { firstName: \"Hasan\", surName: \"Taş\" };\n",
    "\n",
    "let person = student;\n",
    "\n",
    "// person değişkeninin firstName key'i ile depolanan değere ulaşıp veriyi değiştiriyoruz.\n",
    "person[\"firstName\"] = \"Murat\";\n",
    "\n",
    "// Konsola Murat ifadesi yazdırılacaktır.\n",
    "console.log(person[\"firstName\"]);\n",
    "\n",
    "// ⚠️ student değişkenin de güncellendiğini ve konsola Murat ifadesi yazdırıldığına dikkat edin.\n",
    "console.log(student.firstName)\n"
   ]
  },
  {
   "cell_type": "markdown",
   "metadata": {},
   "source": [
    "### JavaScript Sayısal Özellikli String Değerler\n",
    "\n",
    "String veri türleri rakamlardan oluşabilir. Bu durumdaki string'ler **_numerik özellikli_** string değerler olarak ifade edilir.\n",
    "\n",
    "**⚠️ Numerik özellikli string değerler dışındaki diğer string değerleri matematiksel işlemlerde sonuca katkıda bulunmazlar. Şayet bir string matematiksel ifade içerisinde kullanılırsa işlem sonucunun veri tipi string olacaktır. Bu durum string'in bulunduğu yere göre sonucu etkiler. Numerik özellikli string değerler için durum biraz daha farklıdır. Daha detaylı bilgi almak için [JavaScript Numerik Özellikli String Değerler](js07-numeric-data-type.ipynb#javascript-numerik-özellikli-string-değerler) başlığına bakabilirsiniz.**\n",
    "\n",
    "<!-- [#1](https://github.com/eminaltan/learn-web/issues/1) -->\n",
    "\n",
    "**JavaScript'de expression'lar (ifadeler) soldan sağa şekilde değerlendirilir. Yani Javascript ifadenin nerede string olacağını bu pattern'e göre belirler.**\n",
    "\n",
    "**Örnek**\n"
   ]
  },
  {
   "cell_type": "code",
   "execution_count": 4,
   "metadata": {
    "vscode": {
     "languageId": "javascript"
    }
   },
   "outputs": [
    {
     "name": "stdout",
     "output_type": "stream",
     "text": [
      "71\n",
      "143\n",
      "\u001b[33m8\u001b[39m\n",
      "Emin Altan\n"
     ]
    }
   ],
   "source": [
    "%%script node\n",
    "// + işareti ile string'ler birbirine ekleniyor.\n",
    "\n",
    "// Konsola 71 yazdırılacaktır.\n",
    "var x = 4 + 3 + \"1\";\n",
    "console.log(x);\n",
    "\n",
    "// Konsola 143 yazdırılacaktır.\n",
    "var y = \"1\" + 4 + 3;\n",
    "console.log(y);\n",
    "\n",
    "// Konsola 8 yazdırılacaktır. ⚠️ Expression değerlendirilirken soldan sağa işlemin gerçekleştiğine dikkat edin.\n",
    "var z = \"9\" - 4 + 3;\n",
    "console.log(z);\n",
    "\n",
    "let m = \"Emin\" + \" \" + \"Altan\";\n",
    "\n",
    "// Çıktı Emin Altan olacaktır.\n",
    "console.log(m);\n"
   ]
  },
  {
   "cell_type": "markdown",
   "metadata": {},
   "source": [
    "### `\\` Escape Karakterinin Kullanımı\n",
    "\n",
    "**⚠️ String ifadeyi oluştururken kullandığımız tırnak işareti ile string ifade içerisinde alıntı yapmak için kullandığımız tırnak işaretinin benzer olması halinde sorunlar ortaya çıkar.**\n",
    "\n",
    "**Örnek**\n"
   ]
  },
  {
   "cell_type": "code",
   "execution_count": 5,
   "metadata": {
    "vscode": {
     "languageId": "javascript"
    }
   },
   "outputs": [
    {
     "name": "stderr",
     "output_type": "stream",
     "text": [
      "[stdin]:5\n",
      "let text = \"Biz onları \"Moğollar\" olarak çağırırdık.\"\n",
      "                        ^^^^^^^^\n",
      "\n",
      "SyntaxError: Unexpected identifier 'Moğollar'\n",
      "\u001b[90m    at new Script (node:vm:93:7)\u001b[39m\n",
      "\u001b[90m    at createScript (node:vm:248:10)\u001b[39m\n",
      "\u001b[90m    at Object.runInThisContext (node:vm:296:10)\u001b[39m\n",
      "\u001b[90m    at node:internal/process/execution:83:21\u001b[39m\n",
      "    at [stdin]-wrapper:6:24\n",
      "\u001b[90m    at runScript (node:internal/process/execution:82:62)\u001b[39m\n",
      "\u001b[90m    at evalScript (node:internal/process/execution:104:10)\u001b[39m\n",
      "\u001b[90m    at node:internal/main/eval_stdin:31:5\u001b[39m\n",
      "\u001b[90m    at Socket.<anonymous> (node:internal/process/execution:205:5)\u001b[39m\n",
      "\u001b[90m    at Socket.emit (node:events:526:35)\u001b[39m\n",
      "\n",
      "Node.js v20.8.0\n"
     ]
    },
    {
     "ename": "CalledProcessError",
     "evalue": "Command 'b'/** \\n * Javascript string\\'in nerede ba\\xc5\\x9flad\\xc4\\xb1\\xc4\\x9f\\xc4\\xb1n\\xc4\\xb1 ve bitti\\xc4\\x9fini bilemedi\\xc4\\x9fi i\\xc3\\xa7in problemlere neden olacakt\\xc4\\xb1r. \\n * SyntaxError: Unexpected identifier \\'Mo\\xc4\\x9follar\\' ifadesi konsola yazd\\xc4\\xb1r\\xc4\\xb1l\\xc4\\xb1r.\\n */\\nlet text = \"Biz onlar\\xc4\\xb1 \"Mo\\xc4\\x9follar\" olarak \\xc3\\xa7a\\xc4\\x9f\\xc4\\xb1r\\xc4\\xb1rd\\xc4\\xb1k.\"\\n'' returned non-zero exit status 1.",
     "output_type": "error",
     "traceback": [
      "\u001b[0;31m---------------------------------------------------------------------------\u001b[0m",
      "\u001b[0;31mCalledProcessError\u001b[0m                        Traceback (most recent call last)",
      "\u001b[1;32m/TR/JavaScript/js06-string-data-type.ipynb Cell 11\u001b[0m line \u001b[0;36m1\n\u001b[0;32m----> <a href='vscode-notebook-cell:/TR/JavaScript/js06-string-data-type.ipynb?repo%3Deminaltan%2Flearn-web#X13scmVwbw%3D%3D?line=0'>1</a>\u001b[0m get_ipython()\u001b[39m.\u001b[39;49mrun_cell_magic(\u001b[39m'\u001b[39;49m\u001b[39mscript\u001b[39;49m\u001b[39m'\u001b[39;49m, \u001b[39m'\u001b[39;49m\u001b[39mnode\u001b[39;49m\u001b[39m'\u001b[39;49m, \u001b[39m'\u001b[39;49m\u001b[39m/** \u001b[39;49m\u001b[39m\\n\u001b[39;49;00m\u001b[39m * Javascript string\u001b[39;49m\u001b[39m\\'\u001b[39;49;00m\u001b[39min nerede başladığını ve bittiğini bilemediği için problemlere neden olacaktır. \u001b[39;49m\u001b[39m\\n\u001b[39;49;00m\u001b[39m * SyntaxError: Unexpected identifier \u001b[39;49m\u001b[39m\\'\u001b[39;49;00m\u001b[39mMoğollar\u001b[39;49m\u001b[39m\\'\u001b[39;49;00m\u001b[39m ifadesi konsola yazdırılır.\u001b[39;49m\u001b[39m\\n\u001b[39;49;00m\u001b[39m */\u001b[39;49m\u001b[39m\\n\u001b[39;49;00m\u001b[39mlet text = \u001b[39;49m\u001b[39m\"\u001b[39;49m\u001b[39mBiz onları \u001b[39;49m\u001b[39m\"\u001b[39;49m\u001b[39mMoğollar\u001b[39;49m\u001b[39m\"\u001b[39;49m\u001b[39m olarak çağırırdık.\u001b[39;49m\u001b[39m\"\u001b[39;49m\u001b[39m\\n\u001b[39;49;00m\u001b[39m'\u001b[39;49m)\n",
      "File \u001b[0;32m/usr/lib/python3.11/site-packages/IPython/core/interactiveshell.py:2493\u001b[0m, in \u001b[0;36mInteractiveShell.run_cell_magic\u001b[0;34m(self, magic_name, line, cell)\u001b[0m\n\u001b[1;32m   2491\u001b[0m \u001b[39mwith\u001b[39;00m \u001b[39mself\u001b[39m\u001b[39m.\u001b[39mbuiltin_trap:\n\u001b[1;32m   2492\u001b[0m     args \u001b[39m=\u001b[39m (magic_arg_s, cell)\n\u001b[0;32m-> 2493\u001b[0m     result \u001b[39m=\u001b[39m fn(\u001b[39m*\u001b[39;49margs, \u001b[39m*\u001b[39;49m\u001b[39m*\u001b[39;49mkwargs)\n\u001b[1;32m   2495\u001b[0m \u001b[39m# The code below prevents the output from being displayed\u001b[39;00m\n\u001b[1;32m   2496\u001b[0m \u001b[39m# when using magics with decorator @output_can_be_silenced\u001b[39;00m\n\u001b[1;32m   2497\u001b[0m \u001b[39m# when the last Python token in the expression is a ';'.\u001b[39;00m\n\u001b[1;32m   2498\u001b[0m \u001b[39mif\u001b[39;00m \u001b[39mgetattr\u001b[39m(fn, magic\u001b[39m.\u001b[39mMAGIC_OUTPUT_CAN_BE_SILENCED, \u001b[39mFalse\u001b[39;00m):\n",
      "File \u001b[0;32m/usr/lib/python3.11/site-packages/IPython/core/magics/script.py:314\u001b[0m, in \u001b[0;36mScriptMagics.shebang\u001b[0;34m(self, line, cell)\u001b[0m\n\u001b[1;32m    309\u001b[0m \u001b[39mif\u001b[39;00m args\u001b[39m.\u001b[39mraise_error \u001b[39mand\u001b[39;00m p\u001b[39m.\u001b[39mreturncode \u001b[39m!=\u001b[39m \u001b[39m0\u001b[39m:\n\u001b[1;32m    310\u001b[0m     \u001b[39m# If we get here and p.returncode is still None, we must have\u001b[39;00m\n\u001b[1;32m    311\u001b[0m     \u001b[39m# killed it but not yet seen its return code. We don't wait for it,\u001b[39;00m\n\u001b[1;32m    312\u001b[0m     \u001b[39m# in case it's stuck in uninterruptible sleep. -9 = SIGKILL\u001b[39;00m\n\u001b[1;32m    313\u001b[0m     rc \u001b[39m=\u001b[39m p\u001b[39m.\u001b[39mreturncode \u001b[39mor\u001b[39;00m \u001b[39m-\u001b[39m\u001b[39m9\u001b[39m\n\u001b[0;32m--> 314\u001b[0m     \u001b[39mraise\u001b[39;00m CalledProcessError(rc, cell)\n",
      "\u001b[0;31mCalledProcessError\u001b[0m: Command 'b'/** \\n * Javascript string\\'in nerede ba\\xc5\\x9flad\\xc4\\xb1\\xc4\\x9f\\xc4\\xb1n\\xc4\\xb1 ve bitti\\xc4\\x9fini bilemedi\\xc4\\x9fi i\\xc3\\xa7in problemlere neden olacakt\\xc4\\xb1r. \\n * SyntaxError: Unexpected identifier \\'Mo\\xc4\\x9follar\\' ifadesi konsola yazd\\xc4\\xb1r\\xc4\\xb1l\\xc4\\xb1r.\\n */\\nlet text = \"Biz onlar\\xc4\\xb1 \"Mo\\xc4\\x9follar\" olarak \\xc3\\xa7a\\xc4\\x9f\\xc4\\xb1r\\xc4\\xb1rd\\xc4\\xb1k.\"\\n'' returned non-zero exit status 1."
     ]
    }
   ],
   "source": [
    "%%script node\n",
    "/** \n",
    " * Javascript string'in nerede başladığını ve bittiğini bilemediği için problemlere neden olacaktır. \n",
    " * SyntaxError: Unexpected identifier 'Moğollar' ifadesi konsola yazdırılır.\n",
    " */\n",
    "let text = \"Biz onları \"Moğollar\" olarak çağırırdık.\""
   ]
  },
  {
   "cell_type": "markdown",
   "metadata": {},
   "source": [
    "Bu tarz sorunların önüne geçmek için **_backslash escape character_**[^1] kullanılır.\n",
    "\n",
    "Backslash escape character'leri listelersek:\n",
    "\n",
    "| **Kod** | **Sonuç** | **Açıklama**        |\n",
    "| ------- | --------- | ------------------- |\n",
    "| `\\'`    | '         | Tek tırnak işareti  |\n",
    "| `\\\"`    | \"         | Çift tırnak işareti |\n",
    "| `\\\\`    | \\         | Slash işareti       |\n",
    "\n",
    "**Örnek**\n"
   ]
  },
  {
   "cell_type": "code",
   "execution_count": null,
   "metadata": {
    "vscode": {
     "languageId": "javascript"
    }
   },
   "outputs": [],
   "source": [
    "%%script node\n",
    "// Yukarıdaki örnek için backslash kullandığımızda sorun çözülür.\n",
    "\n",
    "let text1 = \"Biz onları \\`Moğollar\\` olarak çağırırdık.\";\n",
    "\n",
    "// Biz onları `Moğollar` olarak çağırırdık. ifadesi konsola yazılır.\n",
    "console.log(text1);\n",
    "\n",
    "let text2 = 'Biz onları \\\"Moğollar\\\" olarak çağırırdık.';\n",
    "\n",
    "// Biz onları \"Moğollar\" olarak çağırırdık. ifadesi konsola yazılır.\n",
    "console.log(text2);\n",
    "\n",
    "// Bir string'e backslash karakteri eklemek istersek `\\\\` karakterlerinden faydalanırız.\n",
    "text2 = \"\\\\ Karakteri backslash olarak tanımlanır.\";\n",
    "\n",
    "// \\ Karakteri backslash olarak tanımlanır. ifadesi konsola yazılır.\n",
    "console.log(text2);\n"
   ]
  },
  {
   "cell_type": "markdown",
   "metadata": {},
   "source": [
    "Bunların dışında bir kaç tür daha backslash escape character mevcuttur fakat bunlara değinmeye gerek görmüyorum arkadaşlar.\n"
   ]
  },
  {
   "cell_type": "markdown",
   "metadata": {},
   "source": [
    "## JavaScript String Veri Tipi\n",
    "\n",
    "String veri türü özellikli değişkenlerin veri tipleri de string olacaktır.\n",
    "\n",
    "**Örnek**\n"
   ]
  },
  {
   "cell_type": "code",
   "execution_count": null,
   "metadata": {
    "vscode": {
     "languageId": "javascript"
    }
   },
   "outputs": [],
   "source": [
    "%%script node\n",
    "\n",
    "let x = \"Hasan\";\n",
    "\n",
    "let y = \"5\";\n",
    "\n",
    "// Konsola değişkenleri veri tipleri yazılır.\n",
    "console.log(\"x'in veri tipi \" + typeof x+ \" 'dir.\")\n",
    "console.log(\"y'nin veri tipi \"+ typeof y+ \" 'dir.\")"
   ]
  },
  {
   "cell_type": "markdown",
   "metadata": {},
   "source": [
    "## JavaScript Object Veri Tipinde String Veri Türleri\n",
    "\n",
    "Bildiğimiz üzere JavaScript'de string özellikli değişkenler normalde **_immutable_**, ilkel ve string veri tipine sahip veri türleridir.\n",
    "\n",
    "Ancak `new` keyword'u kullanılarak object veri tipinde string veri türleri oluşturulabilir.\n",
    "\n",
    "**⚠️ Object veri tipinde oluşturulan string özellikli bir değişken ile normal yöntem kullanılarak oluşturulan string özellikli değişkenin veri tipi birbirinden farklıdır.**\n",
    "\n",
    "**Örnek**\n"
   ]
  },
  {
   "cell_type": "code",
   "execution_count": null,
   "metadata": {
    "vscode": {
     "languageId": "javascript"
    }
   },
   "outputs": [],
   "source": [
    "%%script node\n",
    "\n",
    "// student değişkeni nesne özellikli olup veri tipi object'dir.\n",
    "let student = new String(\"Candan\")\n",
    "\n",
    "console.log(\"student= \"+student)\n",
    "console.log(\"student değişkeninin veri tipi \"+typeof student+ \"' dir.\")\n",
    "\n",
    "let student2 = \"Murat\";\n",
    "\n",
    "console.log(\"student2= \"+student2)\n",
    "console.log(\"student2 değişkeninin veri tipi \" + typeof student2 + \"' dir.\")"
   ]
  },
  {
   "cell_type": "markdown",
   "metadata": {},
   "source": [
    "**❗ Object tipinde string veri tiplerinin kullanılması tavsiye edilmez. Özellikle mantıksal operatörlerin kullanıldığı expression'larda beklenmedik sonuçlar ile karşılaşabiliriz.**\n",
    "\n",
    "**Ek olarak kodları komplike hale getireceği için kod bloklarının yavaş çalışmasına neden olacaktır.**\n",
    "\n",
    "**Object veri tipindeki iki değişkenin kıyaslanması durumunda sonuç daima `false` olarak geri döner.**\n",
    "\n",
    "**Örnek**\n"
   ]
  },
  {
   "cell_type": "code",
   "execution_count": null,
   "metadata": {
    "vscode": {
     "languageId": "javascript"
    }
   },
   "outputs": [],
   "source": [
    "%%script node\n",
    "\n",
    "const student = new String(\"Candan\");\n",
    "const student2 = new String(\"Murat\");\n",
    "\n",
    "/** \n",
    " * Her iki değişken türü object veri tipine sahip olsa da tür bakımından kıyaslandıklarında birbirine eşit değildirler. \n",
    " * Çünkü object veri tipine sahip değişkenler unique olma özelliği taşır.\n",
    " */\n",
    "console.log(student===student2)"
   ]
  },
  {
   "cell_type": "markdown",
   "metadata": {},
   "source": [
    "[^1]: JavaScript'de ters eğik çizgi (backslash) karakteri (\\), özellikle metin (string) dizileri içerisinde özel karakterleri veya kontrol dizilerini temsil etmek için kullanılır. Ters eğik çizgi, ardışık karakterlerin veya özel anlamları olan karakterlerin kaçış (escape) dizilerini oluşturur.\n"
   ]
  }
 ],
 "metadata": {
  "kernelspec": {
   "display_name": "Python 3",
   "language": "python",
   "name": "python3"
  },
  "language_info": {
   "codemirror_mode": {
    "name": "ipython",
    "version": 3
   },
   "file_extension": ".py",
   "mimetype": "text/x-python",
   "name": "python",
   "nbconvert_exporter": "python",
   "pygments_lexer": "ipython3",
   "version": "3.11.5"
  }
 },
 "nbformat": 4,
 "nbformat_minor": 2
}
