{
 "cells": [
  {
   "cell_type": "markdown",
   "metadata": {},
   "source": [
    "# JavaScript'de String Veri Türleri ve Tipleri\n",
    "\n",
    "Merhaba arkadaşlar serinin bu bölümünde JavaScript'de string veri türlerini ve veri tiplerini inceleyeceğiz.\n",
    "\n",
    "Yazıda:\n",
    "\n",
    "- String veri tipi tanımı ve içeriğine\n",
    "\n",
    "- String'lerin matematiksel işlemlerde kullanılmasına\n",
    "\n",
    "- (`\\`) Escape karakterinin kullanılmasına\n",
    "\n",
    "- Object tipindeki string türlerine\n",
    "\n",
    "Değineceğim.\n",
    "\n",
    "İyi okumalar dilerim.\n"
   ]
  },
  {
   "cell_type": "markdown",
   "metadata": {},
   "source": [
    "## JavaScript String Veri Türü\n",
    "\n",
    "Karakterlerden veya dizi karakterlerinden oluşan veri türlerine string adı verilir. String veri tipleri tırnak işaretleri arasına alınırlar. Tırnak işareti çift veya tek tırnak şeklinde olabilir.\n",
    "\n",
    "**Örnek**"
   ]
  },
  {
   "cell_type": "code",
   "execution_count": 2,
   "metadata": {
    "vscode": {
     "languageId": "javascript"
    }
   },
   "outputs": [
    {
     "name": "stdout",
     "output_type": "stream",
     "text": [
      "Lada\n",
      "Opel\n",
      "Doktor  `gel` dedi.\n",
      "Doktor \"gel\" dedi.\n"
     ]
    }
   ],
   "source": [
    "%%script node\n",
    "\n",
    "// Çift tırnak işareti ile kullanımı\n",
    "const car1 = \"Lada\";\n",
    "\n",
    "// Tek tırnak işareti ile kullanımı\n",
    "const car2 = `Opel`;\n",
    "\n",
    "// Çift ve tek tırnak işaretleri birlikte kullanılabilirler.\n",
    "let text1 = \"Doktor  `gel` dedi.\";\n",
    "let text2 = `Doktor \"gel\" dedi.`;\n",
    "\n",
    "console.log(car1)\n",
    "console.log(car2)\n",
    "console.log(text1)\n",
    "console.log(text2)"
   ]
  },
  {
   "cell_type": "markdown",
   "metadata": {},
   "source": [
    "String veri türleri **_immutable_** yani değiştirilemez özelliğe sahiptirler.\n",
    "\n",
    "**Örnek**"
   ]
  },
  {
   "cell_type": "code",
   "execution_count": 22,
   "metadata": {
    "vscode": {
     "languageId": "javascript"
    }
   },
   "outputs": [
    {
     "name": "stdout",
     "output_type": "stream",
     "text": [
      "Konsola Hasan ifadesi yazdırılacak\n",
      "Konsola Murat ifadesi yazdırılır.\n"
     ]
    }
   ],
   "source": [
    "%%script node\n",
    "\n",
    "let student = \"Hasan\";\n",
    "\n",
    " /** \n",
    "  * person değişkeni için RAM'de yeni bir adres açılacaktır ve student değişkeninin\n",
    "  * değeri person değişkenine kopyalanacaktır.\n",
    "  */ \n",
    "let person = student;\n",
    "\n",
    "student = \"Murat\"\n",
    "\n",
    "// Konsola Hasan ifadesi yazdırılacak.\n",
    "console.log(\"Konsola \" + person + \" ifadesi yazdırılacak\")\n",
    "\n",
    "/** \n",
    " * student değişkenini güncelediğimizde  yeni değer için bellekte yeni bir adres \n",
    " * oluşturulacaktır.\n",
    " * \n",
    " *  Konsola Murat ifadesi yazdırılır.\n",
    " */\n",
    "\n",
    "console.log(\"Konsola \"+ student +\" ifadesi yazdırılır.\");\n",
    "\n"
   ]
  },
  {
   "cell_type": "markdown",
   "metadata": {},
   "source": [
    "Hatırlarsak object veri tipine sahip değişkenlerde değişkenin bellekteki adresi bulunup depoladığı değer güncelleniyordu.\n",
    "\n",
    "Aynı örneği şimdi object veri tipine sahip veri türleri için yapalım.\n",
    "\n",
    "**Örnek**"
   ]
  },
  {
   "cell_type": "code",
   "execution_count": 26,
   "metadata": {
    "vscode": {
     "languageId": "javascript"
    }
   },
   "outputs": [
    {
     "name": "stderr",
     "output_type": "stream",
     "text": [
      "[stdin]:9\n",
      "let person[\"firstName\"]=student.firstName;\n",
      "          ^\n",
      "\n",
      "SyntaxError: Unexpected token '['\n",
      "\u001b[90m    at new Script (node:vm:93:7)\u001b[39m\n",
      "\u001b[90m    at createScript (node:vm:248:10)\u001b[39m\n",
      "\u001b[90m    at Object.runInThisContext (node:vm:296:10)\u001b[39m\n",
      "\u001b[90m    at node:internal/process/execution:83:21\u001b[39m\n",
      "    at [stdin]-wrapper:6:24\n",
      "\u001b[90m    at runScript (node:internal/process/execution:82:62)\u001b[39m\n",
      "\u001b[90m    at evalScript (node:internal/process/execution:104:10)\u001b[39m\n",
      "\u001b[90m    at node:internal/main/eval_stdin:31:5\u001b[39m\n",
      "\u001b[90m    at Socket.<anonymous> (node:internal/process/execution:205:5)\u001b[39m\n",
      "\u001b[90m    at Socket.emit (node:events:526:35)\u001b[39m\n",
      "\n",
      "Node.js v20.8.0\n"
     ]
    },
    {
     "ename": "CalledProcessError",
     "evalue": "Command 'b'\\n// student ad\\xc4\\xb1nda nesne \\xc3\\xb6zellikli veri t\\xc3\\xbcr\\xc3\\xbc olu\\xc5\\x9fturuyoruz.\\nlet student = { firstName: \"Hasan\", surName:\"Tan\" };\\n\\n/**\\n * person ad\\xc4\\xb1nda array \\xc3\\xb6zellikli veri t\\xc3\\xbcr\\xc3\\xbc olu\\xc5\\x9fturuyoruz. \\n * person de\\xc4\\x9fi\\xc5\\x9fkeninin firstName elementinin i\\xc3\\xa7eri\\xc4\\x9fi student.firstName \\xc3\\xb6zelli\\xc4\\x9fini referans al\\xc4\\xb1yor.\\n */\\nlet person[\"firstName\"]=student.firstName;\\n\\nconsole.log person[firstName]\\n\\n'' returned non-zero exit status 1.",
     "output_type": "error",
     "traceback": [
      "\u001b[0;31m---------------------------------------------------------------------------\u001b[0m",
      "\u001b[0;31mCalledProcessError\u001b[0m                        Traceback (most recent call last)",
      "\u001b[1;32m/TR/JavaScript/js06-string-data-type.ipynb Cell 7\u001b[0m line \u001b[0;36m1\n\u001b[0;32m----> <a href='vscode-notebook-cell:/TR/JavaScript/js06-string-data-type.ipynb?repo%3Deminaltan%2Flearn-web#X50scmVwbw%3D%3D?line=0'>1</a>\u001b[0m get_ipython()\u001b[39m.\u001b[39;49mrun_cell_magic(\u001b[39m'\u001b[39;49m\u001b[39mscript\u001b[39;49m\u001b[39m'\u001b[39;49m, \u001b[39m'\u001b[39;49m\u001b[39mnode\u001b[39;49m\u001b[39m'\u001b[39;49m, \u001b[39m'\u001b[39;49m\u001b[39m\\n\u001b[39;49;00m\u001b[39m// student adında nesne özellikli veri türü oluşturuyoruz.\u001b[39;49m\u001b[39m\\n\u001b[39;49;00m\u001b[39mlet student = \u001b[39;49m\u001b[39m{\u001b[39;49m\u001b[39m firstName: \u001b[39;49m\u001b[39m\"\u001b[39;49m\u001b[39mHasan\u001b[39;49m\u001b[39m\"\u001b[39;49m\u001b[39m, surName:\u001b[39;49m\u001b[39m\"\u001b[39;49m\u001b[39mTan\u001b[39;49m\u001b[39m\"\u001b[39;49m\u001b[39m };\u001b[39;49m\u001b[39m\\n\u001b[39;49;00m\u001b[39m\\n\u001b[39;49;00m\u001b[39m/**\u001b[39;49m\u001b[39m\\n\u001b[39;49;00m\u001b[39m * person adında array özellikli veri türü oluşturuyoruz. \u001b[39;49m\u001b[39m\\n\u001b[39;49;00m\u001b[39m * person değişkeninin firstName elementinin içeriği student.firstName özelliğini referans alıyor.\u001b[39;49m\u001b[39m\\n\u001b[39;49;00m\u001b[39m */\u001b[39;49m\u001b[39m\\n\u001b[39;49;00m\u001b[39mlet person[\u001b[39;49m\u001b[39m\"\u001b[39;49m\u001b[39mfirstName\u001b[39;49m\u001b[39m\"\u001b[39;49m\u001b[39m]=student.firstName;\u001b[39;49m\u001b[39m\\n\u001b[39;49;00m\u001b[39m\\n\u001b[39;49;00m\u001b[39mconsole.log person[firstName]\u001b[39;49m\u001b[39m\\n\u001b[39;49;00m\u001b[39m\\n\u001b[39;49;00m\u001b[39m'\u001b[39;49m)\n",
      "File \u001b[0;32m/usr/lib/python3.11/site-packages/IPython/core/interactiveshell.py:2493\u001b[0m, in \u001b[0;36mInteractiveShell.run_cell_magic\u001b[0;34m(self, magic_name, line, cell)\u001b[0m\n\u001b[1;32m   2491\u001b[0m \u001b[39mwith\u001b[39;00m \u001b[39mself\u001b[39m\u001b[39m.\u001b[39mbuiltin_trap:\n\u001b[1;32m   2492\u001b[0m     args \u001b[39m=\u001b[39m (magic_arg_s, cell)\n\u001b[0;32m-> 2493\u001b[0m     result \u001b[39m=\u001b[39m fn(\u001b[39m*\u001b[39;49margs, \u001b[39m*\u001b[39;49m\u001b[39m*\u001b[39;49mkwargs)\n\u001b[1;32m   2495\u001b[0m \u001b[39m# The code below prevents the output from being displayed\u001b[39;00m\n\u001b[1;32m   2496\u001b[0m \u001b[39m# when using magics with decorator @output_can_be_silenced\u001b[39;00m\n\u001b[1;32m   2497\u001b[0m \u001b[39m# when the last Python token in the expression is a ';'.\u001b[39;00m\n\u001b[1;32m   2498\u001b[0m \u001b[39mif\u001b[39;00m \u001b[39mgetattr\u001b[39m(fn, magic\u001b[39m.\u001b[39mMAGIC_OUTPUT_CAN_BE_SILENCED, \u001b[39mFalse\u001b[39;00m):\n",
      "File \u001b[0;32m/usr/lib/python3.11/site-packages/IPython/core/magics/script.py:314\u001b[0m, in \u001b[0;36mScriptMagics.shebang\u001b[0;34m(self, line, cell)\u001b[0m\n\u001b[1;32m    309\u001b[0m \u001b[39mif\u001b[39;00m args\u001b[39m.\u001b[39mraise_error \u001b[39mand\u001b[39;00m p\u001b[39m.\u001b[39mreturncode \u001b[39m!=\u001b[39m \u001b[39m0\u001b[39m:\n\u001b[1;32m    310\u001b[0m     \u001b[39m# If we get here and p.returncode is still None, we must have\u001b[39;00m\n\u001b[1;32m    311\u001b[0m     \u001b[39m# killed it but not yet seen its return code. We don't wait for it,\u001b[39;00m\n\u001b[1;32m    312\u001b[0m     \u001b[39m# in case it's stuck in uninterruptible sleep. -9 = SIGKILL\u001b[39;00m\n\u001b[1;32m    313\u001b[0m     rc \u001b[39m=\u001b[39m p\u001b[39m.\u001b[39mreturncode \u001b[39mor\u001b[39;00m \u001b[39m-\u001b[39m\u001b[39m9\u001b[39m\n\u001b[0;32m--> 314\u001b[0m     \u001b[39mraise\u001b[39;00m CalledProcessError(rc, cell)\n",
      "\u001b[0;31mCalledProcessError\u001b[0m: Command 'b'\\n// student ad\\xc4\\xb1nda nesne \\xc3\\xb6zellikli veri t\\xc3\\xbcr\\xc3\\xbc olu\\xc5\\x9fturuyoruz.\\nlet student = { firstName: \"Hasan\", surName:\"Tan\" };\\n\\n/**\\n * person ad\\xc4\\xb1nda array \\xc3\\xb6zellikli veri t\\xc3\\xbcr\\xc3\\xbc olu\\xc5\\x9fturuyoruz. \\n * person de\\xc4\\x9fi\\xc5\\x9fkeninin firstName elementinin i\\xc3\\xa7eri\\xc4\\x9fi student.firstName \\xc3\\xb6zelli\\xc4\\x9fini referans al\\xc4\\xb1yor.\\n */\\nlet person[\"firstName\"]=student.firstName;\\n\\nconsole.log person[firstName]\\n\\n'' returned non-zero exit status 1."
     ]
    }
   ],
   "source": [
    "%%script node\n",
    "\n",
    "// student adında nesne özellikli veri türü oluşturuyoruz.\n",
    "let student = { firstName: \"Hasan\", surName:\"Tan\" };\n",
    "\n",
    "/**\n",
    " * person adında array özellikli veri türü oluşturuyoruz. \n",
    " * person değişkeninin firstName elementinin içeriği student.firstName özelliğini referans alıyor.\n",
    " */\n",
    "let person[firstName\"]=student.firstName;\n",
    "\n",
    "console.log person[firstName]\n",
    "\n"
   ]
  },
  {
   "cell_type": "markdown",
   "metadata": {},
   "source": [
    "**⚠️ Sayısal string dışındaki diğer string türleri matematiksel işlemlerde sonuca katkıda bulunmazlar. Şayet bir string matematiksel ifade içerisinde kullanılırsa işlem sonucunun veri tipi string olacaktır. Bu durum string'in bulunduğu yere göre sonucu etkiler. Sayısal özellikli string'ler için durum biraz daha farklıdır. Daha detaylı bilgi almak için [JavaScript Numeric String Veri Tipleri](js07-numeric-data-type.ipynb#javascript-numeric-string-veri-tipleri) başlığına bakabilirsiniz.**\n",
    "[#1](https://github.com/eminaltan/learn-web/issues/1)\n",
    "\n",
    "**JavaScript'de expression'lar (ifadeler) soldan sağa şekilde değerlendirilir. Yani Javascript ifadenin nerede string olacağını bu pattern'e göre belirler.**\n",
    "\n",
    "**Örnek**"
   ]
  },
  {
   "cell_type": "code",
   "execution_count": 3,
   "metadata": {
    "vscode": {
     "languageId": "javascript"
    }
   },
   "outputs": [
    {
     "name": "stdout",
     "output_type": "stream",
     "text": [
      "71\n",
      "143\n",
      "\u001b[33m8\u001b[39m\n",
      "Emin Altan\n"
     ]
    }
   ],
   "source": [
    "%%script node\n",
    "// + işareti ile string'ler birbirine ekleniyor.\n",
    "\n",
    "// Konsola 71 yazdırılacaktır.\n",
    "var x = 4 + 3 + \"1\";\n",
    "console.log(x);\n",
    "\n",
    "// Konsola 143 yazdırılacaktır.\n",
    "var y = \"1\" + 4 + 3;\n",
    "console.log(y);\n",
    "\n",
    "// Konsola 8 yazdırılacaktır. ⚠️ Expression değerlendirilirken soldan sağa işlemin gerçekleştiğine dikkat edin.\n",
    "z = \"9\" - 4 + 3;\n",
    "console.log(z);\n",
    "\n",
    "let m = \"Emin\" + \" \" + \"Altan\";\n",
    "\n",
    "// Çıktı Emin Altan olacaktır.\n",
    "console.log(m);\n"
   ]
  },
  {
   "cell_type": "markdown",
   "metadata": {},
   "source": [
    "### `\\` Escape Karakterinin Kullanımı\n",
    "\n",
    "**⚠️ String ifadeyi oluştururken kullandığımız tırnak işareti ile string ifade içerisinde alıntı yapmak için kullandığımız tırnak işaretinin benzer olması halinde sorunlar ortaya çıkar.**\n",
    "\n",
    "**Örnek**\n",
    "\n",
    "```javascript\n",
    "// Javascript string'in nerede başladığını ve bittiğini bilemediği için problemlere neden olacaktır.\n",
    "let text = \"Biz onları \"Moğollar\" olarak çağırırdık.\"\n",
    "```\n",
    "\n",
    "Bu tarz sorunların önüne geçmek için **_backslash escape character_**[^1] kullanılır.\n",
    "\n",
    "Backslash escape character'leri listelersek:\n",
    "\n",
    "| **Kod** | **Sonuç** | **Açıklama**        |\n",
    "| ------- | --------- | ------------------- |\n",
    "| `\\'`     | '         | Tek tırnak işareti  |\n",
    "| `\\\"`     | \"         | Çift tırnak işareti |\n",
    "| `\\\\`     | \\         | Slash işareti       |\n",
    "\n",
    "**Örnek**\n"
   ]
  },
  {
   "cell_type": "code",
   "execution_count": 16,
   "metadata": {
    "vscode": {
     "languageId": "javascript"
    }
   },
   "outputs": [
    {
     "name": "stdout",
     "output_type": "stream",
     "text": [
      "Biz onları `Moğollar` olarak çağırırdık.\n",
      "Biz onları \"Moğollar\" olarak çağırırdık.\n",
      "\\ Karakteri backslash olarak tanımlanır.\n"
     ]
    }
   ],
   "source": [
    "%%script node\n",
    "// Yukarıdaki örnek için backslash kullandığımızda sorun çözülür.\n",
    "\n",
    "let text1 = \"Biz onları \\`Moğollar\\` olarak çağırırdık.\";\n",
    "\n",
    "// Biz onları `Moğollar` olarak çağırırdık. ifadesi konsola yazılır.\n",
    "console.log(text1);\n",
    "\n",
    "let text2 = 'Biz onları \\\"Moğollar\\\" olarak çağırırdık.';\n",
    "\n",
    "// Biz onları \"Moğollar\" olarak çağırırdık. ifadesi konsola yazılır.\n",
    "console.log(text2);\n",
    "\n",
    "// Bir string'e backslash karakteri eklemek istersek `\\\\` karakterlerinden faydalanırız.\n",
    "text2 = \"\\\\ Karakteri backslash olarak tanımlanır.\";\n",
    "\n",
    "// \\ Karakteri backslash olarak tanımlanır. ifadesi konsola yazılır.\n",
    "console.log(text2);\n"
   ]
  },
  {
   "cell_type": "markdown",
   "metadata": {},
   "source": [
    "Bunların dışında bir kaç tür daha backslash escape character mevcuttur fakat bunlara değinmeye gerek görmüyorum arkadaşlar.\n"
   ]
  },
  {
   "cell_type": "markdown",
   "metadata": {},
   "source": [
    "### JavaScript Object Tipinde String'ler\n",
    "\n",
    "JavaScript'de string'ler normalde ilkel veri tipleridir ve literaller tarafından oluşturulurlar.\n",
    "\n",
    "Ancak `new` keyword'u kullanılarak object tipinde string'ler tanımlanabilirler.\n",
    "\n",
    "**Örnek**\n"
   ]
  },
  {
   "cell_type": "code",
   "execution_count": null,
   "metadata": {
    "vscode": {
     "languageId": "javascript"
    }
   },
   "outputs": [],
   "source": [
    "// Object tipinde string oluşturuluyor ve string değeri (Hasan) x variable'ına depolanıyor.\n",
    "let x = new String(\"Hasan\");\n",
    "\n",
    "// [String: 'Hasan'] ifadesi konsola yazdırılır.\n",
    "console.log(x);\n"
   ]
  },
  {
   "cell_type": "markdown",
   "metadata": {},
   "source": [
    "⚠️ Object tipinde oluşturulan string ile bir literal kullanılarak oluşturulan string variable veri tipi olarak birbirlerinden farklıdırlar.\n"
   ]
  },
  {
   "cell_type": "code",
   "execution_count": null,
   "metadata": {
    "vscode": {
     "languageId": "javascript"
    }
   },
   "outputs": [],
   "source": [
    "// x variable'ı Deniz string değerini depoluyor.\n",
    "let x = \"Deniz\";\n",
    "\n",
    "// y variable'ı object veri tipide olup içeriğini Deniz şeklinde tanımlıyoruz.\n",
    "let y = new String(\"Deniz\");\n",
    "\n",
    "// string ifadesi konsola yazdırılacaktır. x variable string özelliklidir.\n",
    "console.log(typeof x);\n",
    "\n",
    "// object ifadesi konsola yazdırılacaktır. y variable object özelliklidir.\n",
    "console.log(typeof y);\n"
   ]
  },
  {
   "cell_type": "markdown",
   "metadata": {},
   "source": [
    "❗ Object tipinde string'lerin kullanılması tavsiye edilmez. Özellikle mantıksal operatörlerin kullanıldığı expression'larda beklenmedik sonuçlar ile karşılaşabiliriz.\n",
    "\n",
    "Ek olarak kodları komplike hale getireceği için kod bloklarının yavaş çalışmasına neden olacaktır.\n",
    "\n",
    "**Object tipindeki iki variable'ın kıyaslanması durumunda sonuç daima `false` olarak geri döner.**\n",
    "\n",
    "**Örnek**\n"
   ]
  },
  {
   "cell_type": "code",
   "execution_count": null,
   "metadata": {
    "vscode": {
     "languageId": "javascript"
    }
   },
   "outputs": [],
   "source": [
    "let x = \"Defter\";\n",
    "let y = new String(\"Defter\");\n",
    "\n",
    "// x ve y variable'ı aynı veriyi depolamaları sebebi ile geri dönen değer true olacaktır.\n",
    "console.log(x == y);\n",
    "\n",
    "/**\n",
    " * x ve y variable'ı aynı veriyi depolamalarına rağmen farklı veri tipine sahip olduklarından\n",
    " * geri dönen değer false olacaktır.\n",
    " */\n",
    "console.log(x === y);\n",
    "\n",
    "let m = new String(\"Deniz\");\n",
    "let n = new String(\"Deniz\");\n",
    "\n",
    "/**\n",
    " * m ve n her ikisi de aynı türde veri ve aynı değeri tutmasına rağmen konsola false değeri yazdırılacaktır.\n",
    " * Çünkü object tipindeki variable'lar arasında kıyaslama yapılamaz.\n",
    " */\n",
    "console.log(m === n);\n"
   ]
  },
  {
   "cell_type": "markdown",
   "metadata": {},
   "source": [
    "[^1]: JavaScript'de ters eğik çizgi (backslash) karakteri (\\), özellikle metin (string) dizileri içerisinde özel karakterleri veya kontrol dizilerini temsil etmek için kullanılır. Ters eğik çizgi, ardışık karakterlerin veya özel anlamları olan karakterlerin kaçış (escape) dizilerini oluşturur.\n"
   ]
  }
 ],
 "metadata": {
  "kernelspec": {
   "display_name": "Python 3",
   "language": "python",
   "name": "python3"
  },
  "language_info": {
   "codemirror_mode": {
    "name": "ipython",
    "version": 3
   },
   "file_extension": ".py",
   "mimetype": "text/x-python",
   "name": "python",
   "nbconvert_exporter": "python",
   "pygments_lexer": "ipython3",
   "version": "3.11.5"
  }
 },
 "nbformat": 4,
 "nbformat_minor": 2
}
