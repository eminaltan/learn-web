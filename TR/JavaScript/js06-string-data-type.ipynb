{
 "cells": [
  {
   "cell_type": "markdown",
   "metadata": {},
   "source": [
    "# JavaScript String Veri Türü ve Tipi\n",
    "\n",
    "Merhaba arkadaşlar serinin bu bölümünde JavaScript'de **_string_** veri türlerini ve veri tiplerini inceleyeceğiz.\n",
    "\n",
    "Yazıda:\n",
    "\n",
    "- String veri türüne ve veri tipine.\n",
    "\n",
    "- Numerik özellikli string değerlere.\n",
    "\n",
    "- String veri türünün matematiksel işlemlerde kullanılmasına.\n",
    "\n",
    "- (`\\`) Escape karakterinin kullanılmasına.\n",
    "\n",
    "- Object tipindeki string türlerine.\n",
    "\n",
    "- Sıkça kullanılan string metotlarına.\n",
    "\n",
    "Değineceğim.\n",
    "\n",
    "İyi okumalar dilerim.\n"
   ]
  },
  {
   "cell_type": "markdown",
   "metadata": {},
   "source": [
    "## JavaScript String Veri Türü\n",
    "\n",
    "Karakterlerden veya dizi karakterlerinden oluşan veri türlerine string adı verilir. String veri tipleri tırnak işaretleri arasında kullanılırlar. Tırnak işareti çift veya tek tırnak şeklinde olabilir.\n",
    "\n",
    "**Örnek**\n"
   ]
  },
  {
   "cell_type": "code",
   "execution_count": 1,
   "metadata": {
    "vscode": {
     "languageId": "javascript"
    }
   },
   "outputs": [
    {
     "name": "stdout",
     "output_type": "stream",
     "text": [
      "Lada\n",
      "Opel\n",
      "Doktor  `gel` dedi.\n",
      "Doktor \"gel\" dedi.\n"
     ]
    }
   ],
   "source": [
    "%%javascript\n",
    "\n",
    "// Çift tırnak işareti ile kullanımı\n",
    "const car1 = \"Lada\";\n",
    "\n",
    "// Tek tırnak işareti ile kullanımı\n",
    "const car2 = `Opel`;\n",
    "\n",
    "// Çift ve tek tırnak işaretleri birlikte kullanılabilirler.\n",
    "let text1 = \"Doktor  `gel` dedi.\";\n",
    "let text2 = `Doktor \"gel\" dedi.`;\n",
    "\n",
    "console.log(car1)\n",
    "console.log(car2)\n",
    "console.log(text1)\n",
    "console.log(text2)"
   ]
  },
  {
   "cell_type": "markdown",
   "metadata": {},
   "source": [
    "String veri türleri primitive özelliklidir ve **_immutable_** yapıdadırlar yani değiştirilemezler.\n",
    "\n",
    "**Örnek**\n"
   ]
  },
  {
   "cell_type": "code",
   "execution_count": 2,
   "metadata": {
    "vscode": {
     "languageId": "javascript"
    }
   },
   "outputs": [
    {
     "name": "stdout",
     "output_type": "stream",
     "text": [
      "Konsola Hasan ifadesi yazdırılacak\n",
      "Konsola Murat ifadesi yazdırılır.\n"
     ]
    }
   ],
   "source": [
    "%%javascript\n",
    "\n",
    "let student = \"Hasan\";\n",
    "\n",
    " /** \n",
    "  * person değişkeni için RAM'de yeni bir adres açılacaktır ve student değişkeninin\n",
    "  * değeri person değişkenine kopyalanacaktır.\n",
    "  */ \n",
    "let person = student;\n",
    "\n",
    "// Konsola Hasan ifadesi yazdırılacak.\n",
    "console.log(\"Konsola \" + person + \" ifadesi yazdırılacak\")\n",
    "\n",
    "// student değişkeninin depoladığı veriyi değiştirdiğimizde  yeni değer için bellekte yeni bir adres  oluşturulacaktır.\n",
    "student = \"Murat\"\n",
    "\n",
    "// Konsola Murat ifadesi yazdırılır.\n",
    "console.log(\"Konsola \"+ student +\" ifadesi yazdırılır.\");\n",
    "\n"
   ]
  },
  {
   "cell_type": "markdown",
   "metadata": {},
   "source": [
    "Hatırlarsak object veri tipine sahip değişkenlerde bellekteki adres bulunup depoladığı değer güncelleniyordu.\n",
    "\n",
    "Aynı örneği şimdi object veri tipine sahip veri türleri için yapalım.\n",
    "\n",
    "**Örnek**\n"
   ]
  },
  {
   "cell_type": "code",
   "execution_count": 3,
   "metadata": {
    "vscode": {
     "languageId": "javascript"
    }
   },
   "outputs": [
    {
     "name": "stdout",
     "output_type": "stream",
     "text": [
      "Murat\n",
      "Murat\n"
     ]
    }
   ],
   "source": [
    "%%javascript\n",
    "\n",
    "let student = { firstName: \"Hasan\", surName: \"Taş\" };\n",
    "\n",
    "let person = student;\n",
    "\n",
    "// person değişkeninin firstName key'i ile depolanan değere ulaşıp veriyi değiştiriyoruz.\n",
    "person[\"firstName\"] = \"Murat\";\n",
    "\n",
    "// Konsola Murat ifadesi yazdırılacaktır.\n",
    "console.log(person[\"firstName\"]);\n",
    "\n",
    "// ⚠️ student değişkenin de güncellendiğini ve konsola Murat ifadesi yazdırıldığına dikkat edin.\n",
    "console.log(student.firstName)\n"
   ]
  },
  {
   "cell_type": "markdown",
   "metadata": {},
   "source": [
    "### JavaScript Sayısal Özellikli String Değerler\n",
    "\n",
    "String veri türleri rakamlardan oluşabilir. Bu durumdaki string'ler **_numerik özellikli_** string değerler olarak ifade edilir.\n",
    "\n",
    "**⚠️ Numerik özellikli string değerler dışındaki diğer string değerleri matematiksel işlemlerde sonuca katkıda bulunmazlar. Şayet bir string matematiksel ifade içerisinde kullanılırsa işlem sonucunun veri tipi string olacaktır. Bu durum string'in bulunduğu yere göre sonucu etkiler. Numerik özellikli string değerler için durum biraz daha farklıdır. Daha detaylı bilgi almak için [JavaScript Numerik Özellikli String Değerler](js07-numeric-data-type.ipynb#javascript-numerik-özellikli-string-değerler) başlığına bakabilirsiniz.**\n",
    "\n",
    "<!-- [#1](https://github.com/eminaltan/learn-web/issues/1) -->\n",
    "\n",
    "**JavaScript'de expression'lar (ifadeler) soldan sağa şekilde değerlendirilir. Yani Javascript ifadenin nerede string olacağını bu pattern'e göre belirler.**\n",
    "\n",
    "**Örnek**\n"
   ]
  },
  {
   "cell_type": "code",
   "execution_count": 4,
   "metadata": {
    "vscode": {
     "languageId": "javascript"
    }
   },
   "outputs": [
    {
     "name": "stdout",
     "output_type": "stream",
     "text": [
      "71\n",
      "143\n",
      "\u001b[33m8\u001b[39m\n",
      "Emin Altan\n"
     ]
    }
   ],
   "source": [
    "%%javascript\n",
    "// + işareti ile string'ler birbirine ekleniyor.\n",
    "\n",
    "// Konsola 71 yazdırılacaktır.\n",
    "var x = 4 + 3 + \"1\";\n",
    "console.log(x);\n",
    "\n",
    "// Konsola 143 yazdırılacaktır.\n",
    "var y = \"1\" + 4 + 3;\n",
    "console.log(y);\n",
    "\n",
    "// Konsola 8 yazdırılacaktır. ⚠️ Expression değerlendirilirken soldan sağa işlemin gerçekleştiğine dikkat edin.\n",
    "var z = \"9\" - 4 + 3;\n",
    "console.log(z);\n",
    "\n",
    "let m = \"Emin\" + \" \" + \"Altan\";\n",
    "\n",
    "// Çıktı Emin Altan olacaktır.\n",
    "console.log(m);\n"
   ]
  },
  {
   "cell_type": "markdown",
   "metadata": {},
   "source": [
    "### `\\` Escape Karakterinin Kullanımı\n",
    "\n",
    "**⚠️ String ifadeyi oluştururken kullandığımız tırnak işareti ile string ifade içerisinde alıntı yapmak için kullandığımız tırnak işaretinin benzer olması halinde sorunlar ortaya çıkar.**\n",
    "\n",
    "**Örnek**\n"
   ]
  },
  {
   "cell_type": "code",
   "execution_count": 5,
   "metadata": {
    "vscode": {
     "languageId": "javascript"
    }
   },
   "outputs": [
    {
     "data": {
      "application/javascript": "/** \n * Javascript string'in nerede başladığını ve bittiğini bilemediği için problemlere neden olacaktır. \n * SyntaxError: Unexpected identifier 'Moğollar' ifadesi konsola yazdırılır.\n */\nlet text = \"Biz onları \"Moğollar\" olarak çağırırdık.\"\n",
      "text/plain": [
       "<IPython.core.display.Javascript object>"
      ]
     },
     "metadata": {},
     "output_type": "display_data"
    }
   ],
   "source": [
    "%%javascript\n",
    "/** \n",
    " * Javascript string'in nerede başladığını ve bittiğini bilemediği için problemlere neden olacaktır. \n",
    " * SyntaxError: Unexpected identifier 'Moğollar' ifadesi konsola yazdırılır.\n",
    " */\n",
    "let text = \"Biz onları \"Moğollar\" olarak çağırırdık.\""
   ]
  },
  {
   "cell_type": "markdown",
   "metadata": {},
   "source": [
    "Bu tarz sorunların önüne geçmek için **_backslash escape character_**[^1] kullanılır.\n",
    "\n",
    "**❗ `\\` karakterinin kullanılması tavsiye edilmez. Çünkü bazı browser'lar `\\` karakterini desteklemez.**\n",
    "\n",
    "Backslash escape character'leri listelersek:\n",
    "\n",
    "| **Kod** | **Sonuç** | **Açıklama**        |\n",
    "| ------- | --------- | ------------------- |\n",
    "| `\\'`    | '         | Tek tırnak işareti  |\n",
    "| `\\\"`    | \"         | Çift tırnak işareti |\n",
    "| `\\\\`    | \\         | Slash işareti       |\n",
    "\n",
    "**Örnek**\n"
   ]
  },
  {
   "cell_type": "code",
   "execution_count": 6,
   "metadata": {
    "vscode": {
     "languageId": "javascript"
    }
   },
   "outputs": [
    {
     "name": "stdout",
     "output_type": "stream",
     "text": [
      "Biz onları `Moğollar` olarak çağırırdık.\n",
      "Biz onları \"Moğollar\" olarak çağırırdık.\n",
      "\\ Karakteri backslash olarak tanımlanır.\n"
     ]
    }
   ],
   "source": [
    "%%javascript\n",
    "// Yukarıdaki örnek için backslash kullandığımızda sorun çözülür.\n",
    "\n",
    "let text1 = \"Biz onları \\`Moğollar\\` olarak çağırırdık.\";\n",
    "\n",
    "// Biz onları `Moğollar` olarak çağırırdık. ifadesi konsola yazılır.\n",
    "console.log(text1);\n",
    "\n",
    "let text2 = 'Biz onları \\\"Moğollar\\\" olarak çağırırdık.';\n",
    "\n",
    "// Biz onları \"Moğollar\" olarak çağırırdık. ifadesi konsola yazılır.\n",
    "console.log(text2);\n",
    "\n",
    "// Bir string'e backslash karakteri eklemek istersek `\\\\` karakterlerinden faydalanırız.\n",
    "text2 = \"\\\\ Karakteri backslash olarak tanımlanır.\";\n",
    "\n",
    "// \\ Karakteri backslash olarak tanımlanır. ifadesi konsola yazılır.\n",
    "console.log(text2);\n"
   ]
  },
  {
   "cell_type": "markdown",
   "metadata": {},
   "source": [
    "Bunların dışında bir kaç tür daha backslash escape character mevcuttur fakat bunlara değinmeye gerek görmüyorum arkadaşlar.\n"
   ]
  },
  {
   "cell_type": "markdown",
   "metadata": {},
   "source": [
    "## JavaScript String Veri Tipi\n",
    "\n",
    "String veri türü özellikli değişkenlerin veri tipleri de string olacaktır.\n",
    "\n",
    "**Örnek**\n"
   ]
  },
  {
   "cell_type": "code",
   "execution_count": 7,
   "metadata": {
    "vscode": {
     "languageId": "javascript"
    }
   },
   "outputs": [
    {
     "name": "stdout",
     "output_type": "stream",
     "text": [
      "x'in veri tipi string 'dir.\n",
      "y'nin veri tipi string 'dir.\n"
     ]
    }
   ],
   "source": [
    "%%javascript\n",
    "\n",
    "let x = \"Hasan\";\n",
    "\n",
    "let y = \"5\";\n",
    "\n",
    "// Konsola değişkenleri veri tipleri yazılır.\n",
    "console.log(\"x'in veri tipi \" + typeof x+ \" 'dir.\")\n",
    "console.log(\"y'nin veri tipi \"+ typeof y+ \" 'dir.\")"
   ]
  },
  {
   "cell_type": "markdown",
   "metadata": {},
   "source": [
    "## JavaScript Object Veri Tipinde String Veri Türleri\n",
    "\n",
    "Bildiğimiz üzere JavaScript'de string özellikli değişkenler normalde **_immutable_**, ilkel ve string veri tipine sahip veri türleridir.\n",
    "\n",
    "Ancak `new` keyword'u kullanılarak object veri tipinde string veri türleri oluşturulabilir.\n",
    "\n",
    "**⚠️ Object veri tipinde oluşturulan string özellikli bir değişken ile normal yöntem kullanılarak oluşturulan string özellikli değişkenin veri tipi birbirinden farklıdır.**\n",
    "\n",
    "**Örnek**\n"
   ]
  },
  {
   "cell_type": "code",
   "execution_count": 8,
   "metadata": {
    "vscode": {
     "languageId": "javascript"
    }
   },
   "outputs": [
    {
     "name": "stdout",
     "output_type": "stream",
     "text": [
      "student= Candan\n",
      "student değişkeninin veri tipi object' dir.\n",
      "student2= Murat\n",
      "student2 değişkeninin veri tipi string' dir.\n"
     ]
    }
   ],
   "source": [
    "%%javascript\n",
    "\n",
    "// student değişkeni nesne özellikli olup veri tipi object'dir.\n",
    "let student = new String(\"Candan\")\n",
    "\n",
    "console.log(\"student= \"+student)\n",
    "console.log(\"student değişkeninin veri tipi \"+typeof student+ \"' dir.\")\n",
    "\n",
    "let student2 = \"Murat\";\n",
    "\n",
    "console.log(\"student2= \"+student2)\n",
    "console.log(\"student2 değişkeninin veri tipi \" + typeof student2 + \"' dir.\")"
   ]
  },
  {
   "cell_type": "markdown",
   "metadata": {},
   "source": [
    "**❗ Object tipinde string veri tiplerinin kullanılması tavsiye edilmez. Özellikle mantıksal operatörlerin kullanıldığı expression'larda beklenmedik sonuçlar ile karşılaşabiliriz.**\n",
    "\n",
    "**Ek olarak kodları komplike hale getireceği için kod bloklarının yavaş çalışmasına neden olacaktır.**\n",
    "\n",
    "**Object veri tipindeki iki değişkenin kıyaslanması durumunda sonuç daima `false` olarak geri döner.**\n",
    "\n",
    "**Örnek**\n"
   ]
  },
  {
   "cell_type": "code",
   "execution_count": 9,
   "metadata": {
    "vscode": {
     "languageId": "javascript"
    }
   },
   "outputs": [
    {
     "name": "stdout",
     "output_type": "stream",
     "text": [
      "\u001b[33mfalse\u001b[39m\n"
     ]
    }
   ],
   "source": [
    "%%javascript\n",
    "\n",
    "const student = new String(\"Candan\");\n",
    "const student2 = new String(\"Murat\");\n",
    "\n",
    "/** \n",
    " * Her iki değişken türü object veri tipine sahip olsa da tür bakımından kıyaslandıklarında birbirine eşit değildirler. \n",
    " * Çünkü object veri tipine sahip değişkenler unique olma özelliği taşır.\n",
    " */\n",
    "console.log(student===student2)"
   ]
  },
  {
   "cell_type": "markdown",
   "metadata": {},
   "source": [
    "## JavaScript Template Literals\n",
    "\n",
    "JavaScript'de ` `` ` karakterleri template literals veya back-ticks olarak ifade edilir. Template literals'ler özellikle **_interpolation_**[^3] işlemlerinde sıkça kullanılır. Bir template literals ile string veri türüne sahip bir değişken tanımlanabilir. Fakat yöntem nadiren kullanılır.\n",
    "\n",
    "**Örnek**"
   ]
  },
  {
   "cell_type": "code",
   "execution_count": 39,
   "metadata": {
    "vscode": {
     "languageId": "javascript"
    }
   },
   "outputs": [
    {
     "name": "stdout",
     "output_type": "stream",
     "text": [
      "Bu Hasan'nın bisikleti. Hasan bisikletine \"Canavar\" lakabını takmış.\n"
     ]
    }
   ],
   "source": [
    "%%script node\n",
    "\n",
    "const text =`Bu Hasan'nın bisikleti. Hasan bisikletine \"Canavar\" lakabını takmış.`\n",
    "\n",
    "console.log(text)"
   ]
  },
  {
   "cell_type": "markdown",
   "metadata": {},
   "source": [
    "Template literal ifadeler birden fazla satırdan oluşabilir. back-ticks içerisindeki string ifade olduğu gibi kullanılır.\n",
    "\n",
    "**Örnek**"
   ]
  },
  {
   "cell_type": "markdown",
   "metadata": {},
   "source": [
    "Interpolation işlemi ${}"
   ]
  },
  {
   "cell_type": "code",
   "execution_count": 40,
   "metadata": {
    "vscode": {
     "languageId": "javascript"
    }
   },
   "outputs": [
    {
     "name": "stdout",
     "output_type": "stream",
     "text": [
      "\n",
      "Bu Hasan'nın bisikleti. \n",
      "Hasan bisikletine \"Canavar\" lakabını \n",
      "takmış.\n"
     ]
    }
   ],
   "source": [
    "%%script node\n",
    "\n",
    "const text = `\n",
    "Bu Hasan'nın bisikleti. \n",
    "Hasan bisikletine \"Canavar\" lakabını \n",
    "takmış.`\n",
    "console.log(text)"
   ]
  },
  {
   "cell_type": "markdown",
   "metadata": {},
   "source": [
    "## JavaScript String Metotları\n",
    "\n",
    "Bazen bir string değeri belli kriterlere göre parçalamak, birleştirmek veya bazı durumlarda string değeri oluşturan karakterleri küçük harfe çevirmek isteyebiliriz. JavaScript bize benzeri işlemleri yapmamızı sağlayan ön tanımlı metotlar sunar. Bu bölümde string değerler üzerinde işlemlerimizi kolaylaştıran sıkça kullanılan bir takım metotlara değineceğiz."
   ]
  },
  {
   "cell_type": "markdown",
   "metadata": {},
   "source": [
    "### `length` Metodu\n",
    "\n",
    "Bir string ifadedeki karakter sayısını öğrenmemize yardımcı olur.\n",
    "\n",
    "**Örnek**"
   ]
  },
  {
   "cell_type": "code",
   "execution_count": 2,
   "metadata": {
    "vscode": {
     "languageId": "javascript"
    }
   },
   "outputs": [
    {
     "name": "stdout",
     "output_type": "stream",
     "text": [
      "\u001b[33m7\u001b[39m\n"
     ]
    }
   ],
   "source": [
    "%%javascript\n",
    "\n",
    "const uluTurk = \"Atatürk\";\n",
    "\n",
    "// Atatürk ifadesindeki karakter sayısı konsola yazdırılır.\n",
    "console.log(uluTurk.length)"
   ]
  },
  {
   "cell_type": "markdown",
   "metadata": {},
   "source": [
    "### String İfadelerin Parçalara Ayrılması\n",
    "\n",
    "String ifadeler 3 metot kullanarak parçalara ayrılabilir:\n",
    "\n",
    "1. `slice()` metoduyla\n",
    "\n",
    "2. `substring()` metoduyla\n",
    "\n",
    "3. `substr()` metoduyla\n",
    "\n",
    "Şimdi bunları tek tek inceleyelim."
   ]
  },
  {
   "cell_type": "markdown",
   "metadata": {},
   "source": [
    "#### `slice()` Metodu\n",
    "\n",
    "`slice()` metodu bir string ifadeyi parçalarına ayırır. Ayrılan parça yeni bir string değer olarak geri döndürülür.\n",
    "\n",
    "Metodun kullanımında iki parametre vardır. Bunlar başlangıç ve bitiş parametreleridir. Bu parametreler birbirlerinden `,` işareti ile ayrılırlar. Bitiş parametresinin kullanılması isteğe bağlıdır. Kullanılması halinde başlangıç parametresi ile bitiş parametresi arasındaki kısım string ifadeden ayrılır. Kullanılmadığı durumlarda başlangıç için belirtilen parametreden string ifadenin sonuna kadar işlem gerçekleştirilir.\n",
    "\n",
    "**⚠️ String ifade içerisindeki ilk karakterin index değeri 0 olarak hesaplanır.** \n",
    "\n",
    "**Örnek**\n"
   ]
  },
  {
   "cell_type": "code",
   "execution_count": 67,
   "metadata": {
    "vscode": {
     "languageId": "javascript"
    }
   },
   "outputs": [
    {
     "name": "stdout",
     "output_type": "stream",
     "text": [
      "Emin Altan\n",
      "Emin\n"
     ]
    }
   ],
   "source": [
    "%%javascript\n",
    "\n",
    "const text = \"Mehmet Emin Altan\"\n",
    "\n",
    "// İlk 7 karakter string ifadeden atılır ve kalan string ifade geri döndürülür.\n",
    "const part = text.slice(7)\n",
    "\n",
    "console.log(part)\n",
    "\n",
    "// 7 ile 11 arasındaki karakterleri konsola yazar.\n",
    "const part2=text.slice(7,11)\n",
    "\n",
    "console.log(part2)\n"
   ]
  },
  {
   "cell_type": "markdown",
   "metadata": {},
   "source": [
    "**💡 Parametrelerde negatif değerler kullanılabilir. Bu durumda string ifadenin sonundan işlem yapılmaya başlanır.**\n",
    "\n",
    "**Örnek**"
   ]
  },
  {
   "cell_type": "code",
   "execution_count": 48,
   "metadata": {
    "vscode": {
     "languageId": "javascript"
    }
   },
   "outputs": [
    {
     "name": "stdout",
     "output_type": "stream",
     "text": [
      "Emin Altan\n",
      "Emin \n"
     ]
    }
   ],
   "source": [
    "%%javascript\n",
    "\n",
    "const text = \"Mehmet Emin Altan\"\n",
    "// Ayırma işlemine sondan başlanacak ve 10 karakter geri döndürülecektir.\n",
    "const part = text.slice(-10)\n",
    "\n",
    "console.log(part)\n",
    "\n",
    "// Sondan başlayarak 5 ile 10 arasındaki karakterleri konsola yazar.\n",
    "part2 = text.slice(-10, -5)\n",
    "\n",
    "console.log(part2)"
   ]
  },
  {
   "cell_type": "markdown",
   "metadata": {},
   "source": [
    "####  `substring()` Metodu\n",
    "\n",
    "Kullanımı `slice()` metoduna benzerdir. Aradaki fark parametreler için negatif değer kullanıldığında `substring()` metodu bu parametreleri 0 rakamı olarak yorumlar.\n",
    "\n",
    "**Örnek**"
   ]
  },
  {
   "cell_type": "code",
   "execution_count": 55,
   "metadata": {
    "vscode": {
     "languageId": "javascript"
    }
   },
   "outputs": [
    {
     "name": "stdout",
     "output_type": "stream",
     "text": [
      "Mehmet Emin Altan\n"
     ]
    }
   ],
   "source": [
    "%%javascript\n",
    "\n",
    "const text = \"Mehmet Emin Altan\"\n",
    "/** \n",
    " * -10 rakamı negatif olması sebebiyle substring() metodu tarafından 0 olarak yorumlanacak \n",
    " * ve string ifade baştan sona kadar konsola yazdırılacaktır. \n",
    " */\n",
    "const part = text.substring(-10)\n",
    "\n",
    "console.log(part)\n"
   ]
  },
  {
   "cell_type": "markdown",
   "metadata": {},
   "source": [
    "####  `substr()` Metodu\n",
    "Kullanımı `slice()` metoduna benzerdir. Aradaki fark ikinci parametrenin kullanım şeklidir. \n",
    "\n",
    "`substr()` metodunun iki parametreli kullanılması durumunda ilk parametrenin string değerde kaçıncı karaktere denk geldiği bulunur sonrasında bu karakter referans alınarak ikinci parametrenin kaçıncı karaktere denk geldiği hesaplanır.\n",
    "\n",
    "Hatırlarsak `slice()` metodunda belirtilen iki parametre **arasında** işlem yapılıyordu. \n",
    "\n",
    "**Örnek**"
   ]
  },
  {
   "cell_type": "code",
   "execution_count": 62,
   "metadata": {
    "vscode": {
     "languageId": "javascript"
    }
   },
   "outputs": [
    {
     "name": "stdout",
     "output_type": "stream",
     "text": [
      " Emin\n"
     ]
    }
   ],
   "source": [
    "%%javascript\n",
    "\n",
    "const text = \"Mehmet Emin Altan\"\n",
    "/** \n",
    " * 6. karakterin denk geldiği harf bulunacak ve bu karakter referans alacak ardından \n",
    " * üzerine 5 rakamını sayılıp elde edilen sonucu konsola yazdıracaktır.\n",
    " */\n",
    "const part = text.substr(6,5)\n",
    "\n",
    "console.log(part)\n"
   ]
  },
  {
   "cell_type": "markdown",
   "metadata": {},
   "source": [
    "Şayet ikinci parametre kullanılmaz ise ilk parametre sayısı kadar string değerden karakter eksiltilerek elde edilen sonuç kullanılır.\n",
    "\n",
    "**Örnek**"
   ]
  },
  {
   "cell_type": "code",
   "execution_count": 63,
   "metadata": {
    "vscode": {
     "languageId": "javascript"
    }
   },
   "outputs": [
    {
     "name": "stdout",
     "output_type": "stream",
     "text": [
      " Emin Altan\n"
     ]
    }
   ],
   "source": [
    "%%javascript\n",
    "\n",
    "const text = \"Mehmet Emin Altan\"\n",
    "/** \n",
    " * İlk 6 karakter string değerden eksiltilecek ve elde edilen sonuç konsola yazdırılacaktır.\n",
    " */\n",
    "const part = text.substr(6)\n",
    "\n",
    "console.log(part)\n"
   ]
  },
  {
   "cell_type": "markdown",
   "metadata": {},
   "source": [
    "**❗`substr()` metodu gelecekte web standardından çıkarılması düşünüldüğünden bu metodun kullanılmaması tavsiye olunur.**"
   ]
  },
  {
   "cell_type": "markdown",
   "metadata": {},
   "source": [
    "`substr()` metodunda negatif değerler kullanılabilir. Eğer ilk parametrede negatif değer kullanılırsa işlemler sondan başa doğru gerçekleştirilir.\n",
    "\n",
    "**Örnek**"
   ]
  },
  {
   "cell_type": "code",
   "execution_count": 66,
   "metadata": {
    "vscode": {
     "languageId": "javascript"
    }
   },
   "outputs": [
    {
     "name": "stdout",
     "output_type": "stream",
     "text": [
      "Altan\n"
     ]
    }
   ],
   "source": [
    "%%javascript\n",
    "\n",
    "const text = \"Mehmet Emin Altan\"\n",
    "\n",
    "// Sondan 5 karakter  konsola yazdırılacaktır.\n",
    "const part = text.substr(-5)\n",
    "\n",
    "console.log(part)\n"
   ]
  },
  {
   "cell_type": "markdown",
   "metadata": {},
   "source": [
    "### `replace()` Metodu\n",
    "\n",
    "`replace()` metodu ile string ifadenin bir kısmını başka bir string ifade ile değiştirebiliriz. İşlem yapılan string ifadenin yapısı bozulmaz. Elde edilen ifade yeni bir string şeklinde oluşturulur. Bunun sebebi string veri türünün immutable olmasından kaynaklıdır.\n",
    "\n",
    "`replace()` metodunda iki parametre kullanılır. ilk parametre değiştirilmek istenen string ifadeyi belirlerken ikinci parametre ise değiştirilecek ifadeyi belirler.\n",
    "\n",
    "**Örnek**"
   ]
  },
  {
   "cell_type": "code",
   "execution_count": 69,
   "metadata": {
    "vscode": {
     "languageId": "javascript"
    }
   },
   "outputs": [
    {
     "name": "stdout",
     "output_type": "stream",
     "text": [
      "Bugün hava çok yağmurlu.\n"
     ]
    }
   ],
   "source": [
    "%%javascript\n",
    "\n",
    "const text = \"Bugün hava çok güneşli.\"\n",
    "\n",
    "// text değişkeni içerisindeki güneşli kısmı yağmurlu olacak şekilde değiştirilecektir.\n",
    "console.log(text.replace(\"güneşli\",\"yağmurlu\"))"
   ]
  },
  {
   "cell_type": "markdown",
   "metadata": {},
   "source": [
    "**⚠️ `replace()` metodu case-sensitive özelliğe sahiptir. Bir önceki örnek üzerinden konuşursak `GÜNEŞLİ` işe `güneşli` aynı anlama gelmez.**\n",
    "\n",
    "**Örnek**"
   ]
  },
  {
   "cell_type": "code",
   "execution_count": 70,
   "metadata": {
    "vscode": {
     "languageId": "javascript"
    }
   },
   "outputs": [
    {
     "name": "stdout",
     "output_type": "stream",
     "text": [
      "Bugün hava çok güneşli.\n"
     ]
    }
   ],
   "source": [
    "%%javascript\n",
    "\n",
    "const text = \"Bugün hava çok güneşli.\"\n",
    "\n",
    "// replace() metodu case-sensitive olması nedeniyle herhangi bir değişikli yapmadan sonucu geri döndürecektir.\n",
    "console.log(text.replace(\"GÜNEŞLİ\",\"yağmurlu\"))"
   ]
  },
  {
   "cell_type": "markdown",
   "metadata": {},
   "source": [
    "**⚠️ String ifade içerisinde değiştirilmek istenen kısımlar birden fazla olabilir. Varsayılan kullanımda `replace()` metodu ilk uyuşan kısımda işlevini yerini getirir. Diğer kısımlardaki içerik değiştirilmez. Bunu gerçekleştirmek için `replace()` metodunun *_regular expression_*'lar[^2] ile birlikte kullanmamız gerekir.**\n",
    "\n",
    "**Örnek**"
   ]
  },
  {
   "cell_type": "code",
   "execution_count": 71,
   "metadata": {
    "vscode": {
     "languageId": "javascript"
    }
   },
   "outputs": [
    {
     "name": "stdout",
     "output_type": "stream",
     "text": [
      "Gözde yolda gidiyordu. Gözde yolda para buldu. Gözde sonrasında parayı  sahibine iade etti. \n"
     ]
    }
   ],
   "source": [
    "%%javascript\n",
    "\n",
    "const text =\"Ahmet yolda gidiyordu. Ahmet yolda para buldu. Ahmet sonrasında parayı  sahibine iade etti. \"\n",
    "\n",
    "// String ifade içerisindeki Ahmet kısmı, Gözde ile değiştirilecektir.\n",
    "console.log(text.replace(/Ahmet/g, \"Gözde\"));"
   ]
  },
  {
   "cell_type": "markdown",
   "metadata": {},
   "source": [
    "Örnekte `g` parametresi global olarak tanımlanır. Yani `Ahmet` kısmı string ifadenin **tümünde** aranacak ve bulunduğu yerde `Gözde` string ifadesi ile yer değiştirecektir."
   ]
  },
  {
   "cell_type": "markdown",
   "metadata": {},
   "source": [
    "### `replaceAll()` Metodu\n",
    "\n",
    " String ifade içerisinde değiştirilmek istenen kısımlar birden fazla olabilir. Bu durumda `replaceAll()` metodu kullanılabilir.\n",
    " \n",
    "**⚠️ `replaceAll()` metodu 2021 yılında JavaScript'e dahil olmuştur ve Internet Explorer bu metodu desteklemez.**\n",
    "\n",
    "**Örnek**\n"
   ]
  },
  {
   "cell_type": "code",
   "execution_count": 72,
   "metadata": {
    "vscode": {
     "languageId": "javascript"
    }
   },
   "outputs": [
    {
     "name": "stdout",
     "output_type": "stream",
     "text": [
      "Gözde yolda gidiyordu. Gözde yolda para buldu. Gözde sonrasında parayı  sahibine iade etti. \n"
     ]
    }
   ],
   "source": [
    "%%javascript\n",
    "\n",
    "const text =\"Ahmet yolda gidiyordu. Ahmet yolda para buldu. Ahmet sonrasında parayı  sahibine iade etti. \"\n",
    "\n",
    "// replaceAll() metodu ile regular expression kullanmamıza gerek kalmadı.\n",
    "console.log(text.replaceAll(\"Ahmet\", \"Gözde\"));"
   ]
  },
  {
   "cell_type": "markdown",
   "metadata": {},
   "source": [
    "### `toUpperCase()` Metodu\n",
    "\n",
    "`toUpperCase()` metodu ile bir string ifadenin karakterleri büyük harflere çevrilebilir.\n",
    "**Örnek**"
   ]
  },
  {
   "cell_type": "code",
   "execution_count": 74,
   "metadata": {
    "vscode": {
     "languageId": "javascript"
    }
   },
   "outputs": [
    {
     "name": "stdout",
     "output_type": "stream",
     "text": [
      "ÖMER ALTAN\n"
     ]
    }
   ],
   "source": [
    "%%javascript\n",
    "\n",
    "const text =\"ömer altan\"\n",
    "\n",
    "console.log(text.toUpperCase())"
   ]
  },
  {
   "cell_type": "markdown",
   "metadata": {},
   "source": [
    "### `toLowerCase()` Metodu\n",
    "\n",
    "`toLowerCase()` metodu ile bir string ifadenin karakterleri küçük harflere çevrilebilir.\n",
    "\n",
    "**Örnek**"
   ]
  },
  {
   "cell_type": "code",
   "execution_count": 76,
   "metadata": {
    "vscode": {
     "languageId": "javascript"
    }
   },
   "outputs": [
    {
     "name": "stdout",
     "output_type": "stream",
     "text": [
      "ömer altan\n"
     ]
    }
   ],
   "source": [
    "%%script node\n",
    "\n",
    "const text =\"Ömer Altan\"\n",
    "\n",
    "console.log(text.toLowerCase())"
   ]
  },
  {
   "cell_type": "markdown",
   "metadata": {},
   "source": [
    "### `concat()` Metodu\n",
    "\n",
    "`concat()` metodu ile birden fazla string ifade birbirine eklenebilir. `concat()` metodu string veri türlerinde `+` operatörü ile aynı işlevi görür.\n",
    "\n",
    "**Örnek**"
   ]
  },
  {
   "cell_type": "code",
   "execution_count": 78,
   "metadata": {
    "vscode": {
     "languageId": "javascript"
    }
   },
   "outputs": [
    {
     "name": "stdout",
     "output_type": "stream",
     "text": [
      "Bahçede bir kedi gördüm\n"
     ]
    }
   ],
   "source": [
    "%%javascript\n",
    "\n",
    "const text = \"Bahçede\"\n",
    "\n",
    "const text1 = \"kedi gördüm\"\n",
    "\n",
    "console.log(text.concat(\" bir \",text1))"
   ]
  },
  {
   "cell_type": "markdown",
   "metadata": {},
   "source": [
    "### `trim()` Metodu\n",
    "\n",
    "`trim()` metodu ile bir string ifadenin başındaki ve sonundaki white space karakterleri kaldırabiliriz.\n",
    "\n",
    "**Örnek**"
   ]
  },
  {
   "cell_type": "code",
   "execution_count": 82,
   "metadata": {
    "vscode": {
     "languageId": "javascript"
    }
   },
   "outputs": [
    {
     "name": "stdout",
     "output_type": "stream",
     "text": [
      "\u001b[33m20\u001b[39m\n",
      "\u001b[33m7\u001b[39m\n"
     ]
    }
   ],
   "source": [
    "%%javascript\n",
    "\n",
    "const text = \"      Bahçede       \" \n",
    "\n",
    "// text değişkeni white space karakterler ile birlikte 20 karakterden oluşuyor.\n",
    "console.log(text.length)\n",
    "\n",
    "// trim() metodu ile white space karakterleri temizliyoruz böylece karakter sayısı 7'ye inmiş oluyor.\n",
    "console.log(text.trim().length)"
   ]
  },
  {
   "cell_type": "markdown",
   "metadata": {},
   "source": [
    "### `trimStart()` Metodu\n",
    "\n",
    "Bazen bir string ifadenin başındaki white space karakterleri kaldırmak isteyebiliriz. Bu durumda `trimStart()` metodunu kullanabiliriz.\n",
    "\n",
    "**⚠️ `trimStart()` metodu 2019 yılında JavaScript'e dahil olmuştur. Modern tarayıcılar 2020 yılından itibaren bu metodu desteklemektedirler.**\n",
    "\n",
    "**Örnek**"
   ]
  },
  {
   "cell_type": "code",
   "execution_count": 85,
   "metadata": {
    "vscode": {
     "languageId": "javascript"
    }
   },
   "outputs": [
    {
     "name": "stdout",
     "output_type": "stream",
     "text": [
      "\u001b[33m20\u001b[39m\n",
      "\u001b[33m14\u001b[39m\n"
     ]
    }
   ],
   "source": [
    "%%javascript\n",
    "\n",
    "const text = \"      Bahçede       \" \n",
    "\n",
    "// text değişkeni white space karakterleri ile birlikte 20 karakterden oluşuyor.\n",
    "console.log(text.length)\n",
    "\n",
    "// trimStart() metodu ile baştaki white space karakterleri temizliyoruz böylece karakter sayısı 14'e inmiş oluyor.\n",
    "console.log(text.trimStart().length)"
   ]
  },
  {
   "cell_type": "markdown",
   "metadata": {},
   "source": [
    "### `trimEnd()` Metodu\n",
    "\n",
    "Bazen bir string ifadenin sonundaki white space karakterleri kaldırmak isteyebiliriz. Bu durumda `trimEnd()` metodunu kullanabiliriz.\n",
    "\n",
    "**⚠️ `trimEnd()` metodu 2019 yılında JavaScript'e dahil olmuştur. Modern tarayıcılar 2020 yılından itibaren bu metodu desteklemektedirler.**\n",
    "\n",
    "**Örnek**"
   ]
  },
  {
   "cell_type": "code",
   "execution_count": 93,
   "metadata": {
    "vscode": {
     "languageId": "javascript"
    }
   },
   "outputs": [
    {
     "name": "stdout",
     "output_type": "stream",
     "text": [
      "\u001b[33m20\u001b[39m\n",
      "\u001b[33m13\u001b[39m\n"
     ]
    }
   ],
   "source": [
    "%%javascript\n",
    "\n",
    "const text = \"      Bahçede       \" \n",
    "\n",
    "// text değişkeni white space karakterler ile birlikte 20 karakterden oluşuyor.\n",
    "console.log(text.length)\n",
    "\n",
    "// trimEnd() metodu ile sondaki white space karakterleri temizliyoruz böylece karakter sayısı 13'e inmiş oluyor.\n",
    "console.log(text.trimEnd().length)"
   ]
  },
  {
   "cell_type": "markdown",
   "metadata": {},
   "source": [
    "### `padStart()` Metodu\n",
    "\n",
    "`padStart()` metodu ile string ifadenin karakter sayısı belirlediğimiz değere ulaşıncaya kadar bir string ifadeye başka bir string ifadeyi tekrar tekrar ekler.\n",
    "\n",
    "Ekleme işlemi string ifadenin başından başlayarak yapılır.\n",
    "\n",
    "İki parametre alır. İlk parametre tekrar sayısını belirler. İkinci parametre ise eklenecek string ifadeyi temsil eder.\n",
    "\n",
    "**💡 Telefon veya kredi kartı numarası gibi gizliliğini korumak istediğimiz verilerde kullanılabilir.**\n",
    "\n",
    "**Örnek**"
   ]
  },
  {
   "cell_type": "code",
   "execution_count": 97,
   "metadata": {
    "vscode": {
     "languageId": "javascript"
    }
   },
   "outputs": [
    {
     "name": "stdout",
     "output_type": "stream",
     "text": [
      "******4123\n"
     ]
    }
   ],
   "source": [
    "%%javascript\n",
    "\n",
    "const cardNumber=\"21587458974123\"\n",
    "\n",
    "// slice() metodu ile string ifadenin son 4 karakteri kullanıma ayrılıyor.\n",
    "const slicedText = cardNumber.slice(-4)\n",
    "\n",
    "// slicedText değişkeninin başına 10 karakter olacak şekilde * işaretini ekler.\n",
    "const pattern = slicedText.padStart(10, \"*\")\n",
    "\n",
    "console.log(pattern)"
   ]
  },
  {
   "cell_type": "markdown",
   "metadata": {},
   "source": [
    "**⚠️ `padStart()` metodu 2017 yılında JavaScript'e dahil olmuştur.**"
   ]
  },
  {
   "cell_type": "markdown",
   "metadata": {},
   "source": [
    "**⚠️ `padStart()` bir string metodudur. Bu nedenle işlem yapılacak değer şayet string veri türü değilse ilk baş string veri türüne dönüştürülmesi gerekir.  `padStart()` metodunu Internet Explorer desteklemez.**\n",
    "\n",
    "**Örnek**"
   ]
  },
  {
   "cell_type": "code",
   "execution_count": 101,
   "metadata": {
    "vscode": {
     "languageId": "javascript"
    }
   },
   "outputs": [
    {
     "name": "stdout",
     "output_type": "stream",
     "text": [
      "005\n"
     ]
    }
   ],
   "source": [
    "%%javascript\n",
    "\n",
    "// num değişkeni number veri türündedir.\n",
    "const num = 5;\n",
    "\n",
    "// toString() metodu ile num değişkeni string veri türüne dönüştürülüyor.\n",
    "const text = num.toString()\n",
    "\n",
    "// text değişkeninin depoladığı değer 3 karakter uzunluğa erişene kadar 0 rakamını depolanan değerin başına ekleyecektir.\n",
    "console.log (text.padStart(3,\"0\"))"
   ]
  },
  {
   "cell_type": "markdown",
   "metadata": {},
   "source": [
    "### `padEnd()` Metodu\n",
    "\n",
    "`padStart()` mantığıyla çalışır. Aradaki fark string ifade sona eklenir.\n",
    "\n",
    "**Örnek**"
   ]
  },
  {
   "cell_type": "code",
   "execution_count": 103,
   "metadata": {
    "vscode": {
     "languageId": "javascript"
    }
   },
   "outputs": [
    {
     "name": "stdout",
     "output_type": "stream",
     "text": [
      "50000000\n"
     ]
    }
   ],
   "source": [
    "%%javascript\n",
    "\n",
    "const text = \"5\"\n",
    "\n",
    "// text değişkeninin depoladığı değer 8 karakter uzunluğa erişene kadar 0 rakamını depolanan değerin sonuna ekleyecektir.\n",
    "console.log(text.padEnd(\"8\",\"0\"))"
   ]
  },
  {
   "cell_type": "markdown",
   "metadata": {},
   "source": [
    "### String İfade Üzerinde Karakter Bazlı İşlemler\n",
    "\n",
    "Bazen string bir ifadeyi oluşturan karakterler üzerinde işlemler yapmak isteyebiliriz Bu durumda iki metottan faydalanırız:\n",
    "\n",
    "1. `charAt()`metoduyla\n",
    "\n",
    "2. `charCodeAt()` metoduyla\n",
    "\n",
    "Şimdi de bunlara değinelim."
   ]
  },
  {
   "cell_type": "markdown",
   "metadata": {},
   "source": [
    "#### `charAt()` Metodu\n",
    "\n",
    "Metot içerisinde belirlenen index değerinin string ifade içerisindeki karakter karşılığını verir.\n",
    "\n",
    "**Örnek**"
   ]
  },
  {
   "cell_type": "code",
   "execution_count": 104,
   "metadata": {
    "vscode": {
     "languageId": "javascript"
    }
   },
   "outputs": [
    {
     "name": "stdout",
     "output_type": "stream",
     "text": [
      "n\n"
     ]
    }
   ],
   "source": [
    "%%javascript\n",
    "\n",
    "const text = \"Deneme\"\n",
    "\n",
    "// String ifadenin 2. karakteri konsola yazdırılır.\n",
    "console.log(text.charAt(2))"
   ]
  },
  {
   "cell_type": "markdown",
   "metadata": {},
   "source": [
    "**❗Dikkat ettiyseniz 2. karakter `n` harfine denk geldi. Çünkü string metotlarının tümünde ilk karakterin index değeri daima 0'dır.**"
   ]
  },
  {
   "cell_type": "markdown",
   "metadata": {},
   "source": [
    "##### Property Access Yöntemi ile Karaktere Erişim\n",
    "\n",
    "2009 yılından itibaren index değeri `[]` işaretlerinin kullanılmasına izin verilmiştir.\n",
    "\n",
    "**Örnek**"
   ]
  },
  {
   "cell_type": "code",
   "execution_count": null,
   "metadata": {
    "vscode": {
     "languageId": "javascript"
    }
   },
   "outputs": [
    {
     "name": "stdout",
     "output_type": "stream",
     "text": [
      "D\n"
     ]
    }
   ],
   "source": [
    "%%javascript\n",
    "\n",
    "const text = \"Deneme\"\n",
    "\n",
    "console.log(text[0])\n"
   ]
  },
  {
   "cell_type": "markdown",
   "metadata": {},
   "source": [
    "**⚠️ Property access yöntemi ile karaktere erişim yapılmaması tavsiye edilir. Nedenlerine değinirsek:**\n",
    "\n",
    "1. Kullanım şekli sebebi ile array veri türüne erişimi anımsatır. \n",
    "\n",
    "2. Eğer `[]` arasındaki index değeri string ifade içerisinde bulunmazsa geri döndürülecek değer `undefined` olacaktır. `charAt()` metodunda geriye boş string döndürülür.\n",
    "\n",
    "3. `[]` işaretinin içerisindeki index değeri ile string ifadenin karakterine yeni bir değer atanamaz. Şayet atama yapılırsa hata mesajı alınmaz fakat statement çalışmayacaktır.\n",
    "\n",
    "**Örnek**"
   ]
  },
  {
   "cell_type": "code",
   "execution_count": 112,
   "metadata": {
    "vscode": {
     "languageId": "javascript"
    }
   },
   "outputs": [
    {
     "name": "stdout",
     "output_type": "stream",
     "text": [
      "\u001b[90mundefined\u001b[39m\n",
      "\n",
      "Deneme\n"
     ]
    }
   ],
   "source": [
    "%%javascript\n",
    "\n",
    "const text = \"Deneme\"\n",
    "\n",
    "// String ifade 10 karakterden oluşmadığı için 10. karaktere ait bir veri de olmayacaktır.  undefined olarak sonuç geri döner.\n",
    "console.log(text[10])\n",
    "\n",
    "// Boş string değer döndürülür.\n",
    "console.log(text.charAt(10))\n",
    "\n",
    "// text değişkeninin depoladığı Deneme ifadesindeki D karakterini A olarak değiştirmeye çalışıyoruz.\n",
    "text[0] = \"A\"\n",
    "\n",
    "// Fakat Deneme ifadesindeki ilk karakter değişmeyecektir. Bunun sebebi string veri türlerinin immutable olmasıdır.\n",
    "console.log(text)\n"
   ]
  },
  {
   "cell_type": "markdown",
   "metadata": {},
   "source": [
    "#### `charCodeAt()` Metodu\n",
    "\n",
    "Metot içerisinde belirlenen index değerinin string ifadedeki karakter karşılığı UTF-16 karakter setine göre verilir.\n",
    "\n",
    "**Örnek**"
   ]
  },
  {
   "cell_type": "code",
   "execution_count": 106,
   "metadata": {
    "vscode": {
     "languageId": "javascript"
    }
   },
   "outputs": [
    {
     "name": "stdout",
     "output_type": "stream",
     "text": [
      "\u001b[33m68\u001b[39m\n"
     ]
    }
   ],
   "source": [
    "%%javascript\n",
    "\n",
    "const text = \"Deneme\"\n",
    "\n",
    "// String ifadenin 1 karakteri olan e harfinin UTF-16 karakter setindeki karşılığını konsola yazılacaktır.\n",
    "console.log(text.charCodeAt(0))"
   ]
  },
  {
   "cell_type": "markdown",
   "metadata": {},
   "source": [
    "### `split()` Metodu\n",
    "\n",
    "Bazen bir string ifadeyi belirleyeceğimiz bir parametreye göre parçalara ayırıp her bir parça üzerinde işlem yapmak isteyebiliriz. Bu durumda `split()` metodunu kullanılır ve her bir parça array veri türünü çevrilir.\n",
    "\n",
    "**Örnek**\n",
    "\n",
    "Bir string ifadenin hem kullanıcı adından hem de şifresinden oluştuğunu varsayalım. String ifadenin kullanıcı adı ve şifre kısmına erişmek istiyoruz diyelim. Bunu en kolay `split()` metoduyla gerçekleştirebiliriz.\n"
   ]
  },
  {
   "cell_type": "code",
   "execution_count": 114,
   "metadata": {
    "vscode": {
     "languageId": "javascript"
    }
   },
   "outputs": [
    {
     "name": "stdout",
     "output_type": "stream",
     "text": [
      "Ömer\n",
      "123456\n"
     ]
    }
   ],
   "source": [
    "%%javascript\n",
    "\n",
    "const user = \"Ömer Altan 123456\";\n",
    "\n",
    "// String ifadenin parçalanması için white space karakteri kullandık.\n",
    "const splittedUser = user.split(\" \");\n",
    "\n",
    "// 0 index değeri konsola yazdırılır.\n",
    "console.log(splittedUser[0])\n",
    "\n",
    "// 2. index değeri konsola yazdırılır.\n",
    "console.log(splittedUser[2])"
   ]
  },
  {
   "cell_type": "markdown",
   "metadata": {},
   "source": [
    "### String Arama Metotları\n",
    "\n",
    "Bazen bir string ifade içerisinde başka bir string ifadeyi aramak isteyebiliriz. Bu gibi durumlarda string arama metotları kullanılır.\n",
    "\n",
    "Başlıca string arama metotlarını listelersek:\n",
    "\n",
    "1. `IndexOf()` metodu\n",
    "\n",
    "2. `lastIndexOf()` metodu\n",
    "\n",
    "3. `search()` metodu\n",
    "\n",
    "4. `match()` metodu\n",
    "\n",
    "5. `matchAll()` metodu\n",
    "\n",
    "6. `includes()` metodu\n",
    "\n",
    "7. `startsWith()` metodu\n",
    "\n",
    "8. `endWith()` metodu.\n",
    "\n",
    "Şimdi de bunlara değinelim arkadaşlar."
   ]
  },
  {
   "cell_type": "markdown",
   "metadata": {},
   "source": [
    "#### `indexOf()` Metodu\n",
    "\n",
    "String ifade içerisinde başka bir string ifadeyi arar ve bulması halinde string ifadenin index değerini geri döndürür. **Arama işlemi aranan değerin bulunması durumunda sonlanacak ve string ifadenin geri kalanına bakılmayacaktır.**\n",
    "\n",
    "**Örnek**"
   ]
  },
  {
   "cell_type": "code",
   "execution_count": 3,
   "metadata": {
    "vscode": {
     "languageId": "javascript"
    }
   },
   "outputs": [
    {
     "name": "stdout",
     "output_type": "stream",
     "text": [
      "\u001b[33m15\u001b[39m\n"
     ]
    }
   ],
   "source": [
    "%%script node\n",
    "\n",
    "const text = \"Lütfen ödemeyi kasaya yapınız ve kasadan fiş isteyiniz.\"\n",
    "\n",
    "/** \n",
    " * kasa kelimesi string ifadede 15. karaktere denk geliyor. Yani kasa kelimesinin index değeri 15'dir. \n",
    " * Kelime bulunduktan sonra arama işlemi son bulacaktır.\n",
    " */\n",
    "console.log(text.indexOf(\"kasa\"))"
   ]
  },
  {
   "cell_type": "markdown",
   "metadata": {},
   "source": [
    "#### `lastIndexOf()` Metodu\n",
    "\n",
    "`indexOf()` metodu gibi çalışır. Aradaki fark string ifade içerisinde uyuşan en son kısmın index değerini geri döndürecektir.\n",
    "\n",
    "**Örnek**"
   ]
  },
  {
   "cell_type": "code",
   "execution_count": 4,
   "metadata": {
    "vscode": {
     "languageId": "javascript"
    }
   },
   "outputs": [
    {
     "name": "stdout",
     "output_type": "stream",
     "text": [
      "\u001b[33m33\u001b[39m\n"
     ]
    }
   ],
   "source": [
    "%%script node\n",
    "\n",
    "const text = \"Lütfen ödemeyi kasaya yapınız ve kasadan fiş isteyiniz.\"\n",
    "\n",
    "/** \n",
    " * String ifadenin sonunda bulunan kasa kelimesinin index değeri 33'dür. \n",
    " */\n",
    "console.log(text.lastIndexOf(\"kasa\"))"
   ]
  },
  {
   "cell_type": "markdown",
   "metadata": {},
   "source": [
    "Şayet parametre içerisindeki değer string ifade içerisinde bulunamaz ise sonuç olarak `-1` rakamı geri döndürülür. Bu durum `indexOf()` metodu için de geçerlidir.\n",
    "\n",
    "**Örnek**"
   ]
  },
  {
   "cell_type": "code",
   "execution_count": 5,
   "metadata": {
    "vscode": {
     "languageId": "javascript"
    }
   },
   "outputs": [
    {
     "name": "stdout",
     "output_type": "stream",
     "text": [
      "\u001b[33m-1\u001b[39m\n"
     ]
    }
   ],
   "source": [
    "%%script node\n",
    "\n",
    "const text = \"Lütfen ödemeyi kasaya yapınız ve kasadan fiş isteyiniz.\"\n",
    "\n",
    "// Saadet kelimesi string ifade içerisinde olmadığında -1 değeri geri döndürülür.\n",
    "console.log(text.lastIndexOf(\"Saadet\"))"
   ]
  },
  {
   "cell_type": "markdown",
   "metadata": {},
   "source": [
    "`lastIndexOf()` metodunda 2.parametre kullanılabilir. Bu durumda arama işleminin kaçıncı karakterden itibaren yapılacağı belirtilmiş olunur. Bu durum `indexOf()` metodu için de geçerlidir.\n",
    "\n",
    "**⚠️ `indexOf()` metodu ile arama işlemi string ifadenin başından yapılırken, `lastIndexOf()` metodu ile arama işlemi string ifadenin sonundan başlayarak yapılır.**\n",
    "\n",
    "**Örnek**"
   ]
  },
  {
   "cell_type": "code",
   "execution_count": 14,
   "metadata": {
    "vscode": {
     "languageId": "javascript"
    }
   },
   "outputs": [
    {
     "name": "stdout",
     "output_type": "stream",
     "text": [
      "\u001b[33m33\u001b[39m\n",
      "\u001b[33m15\u001b[39m\n"
     ]
    }
   ],
   "source": [
    "%%script node\n",
    "\n",
    "const text = \"Lütfen ödemeyi kasaya yapınız ve kasadan fiş isteyiniz.\"\n",
    "\n",
    "// Arama işlemi baştan 18. karakterden sonra başlayacaktır.\n",
    "console.log(text.indexOf(\"kasa\", 18))\n",
    "\n",
    "\n",
    "// Arama işlemi sonran 21. karakterden sonra başlayacaktır.\n",
    "console.log(text.lastIndexOf(\"kasa\", 21))"
   ]
  },
  {
   "cell_type": "markdown",
   "metadata": {},
   "source": [
    "#### `search()` Metodu\n",
    "\n",
    "\n",
    "`indexOf()` metodu gibi çalışır aradaki fark `indexOf()` metodunda 2. parametre kullanılabilirken `search()` metodunda 2. parametre kullanılamaz. Bu duruma ek olarak `search()` metodu regular expression'ları destekler iken `indexOf()` metodu regular expression'ları desteklemez.\n",
    "\n",
    "**❗ Regular expression'ları desteklemesi sebebi ile `search()` metodu string ifadeleri aramada oldukça etkili bir metottur.**\n",
    "\n",
    "**Örnek**"
   ]
  },
  {
   "cell_type": "code",
   "execution_count": 19,
   "metadata": {
    "vscode": {
     "languageId": "javascript"
    }
   },
   "outputs": [
    {
     "name": "stdout",
     "output_type": "stream",
     "text": [
      "\u001b[33m15\u001b[39m\n"
     ]
    }
   ],
   "source": [
    "%%script node\n",
    "\n",
    "const text = \"Lütfen ödemeyi kasaya yapınız ve kasadan fiş isteyiniz.\"\n",
    "\n",
    "// String ifade içerisinde kasa kelimesi ile ilk uyuşan kısma ait index değeri geri döndürülür.\n",
    "console.log(text.search(/kasa/))"
   ]
  },
  {
   "cell_type": "markdown",
   "metadata": {},
   "source": [
    "#### `match()` Metodu\n",
    "\n",
    "String ifade içerisinde başka bir string ifadeyi arar ve bulması durumunda işlem sonlanır, string ifadenin geri kalan kısmına bakılmaz ve sonuç array veri türü şeklinde geri döndürülür.\n",
    "\n",
    "`match()` metodu regular expression'lar ile birlikte kullanılabilir.  `g` flag'ı ile birlikte kullanılması durumunda string ifadenin tümüne bakılır.\n",
    "\n",
    "**Örnek**"
   ]
  },
  {
   "cell_type": "code",
   "execution_count": 23,
   "metadata": {
    "vscode": {
     "languageId": "javascript"
    }
   },
   "outputs": [
    {
     "name": "stdout",
     "output_type": "stream",
     "text": [
      "[\n",
      "  \u001b[32m'Hasan'\u001b[39m,\n",
      "  index: \u001b[33m19\u001b[39m,\n",
      "  input: \u001b[32m'Merhaba benim adım Hasan'\u001b[39m,\n",
      "  groups: \u001b[90mundefined\u001b[39m\n",
      "]\n"
     ]
    }
   ],
   "source": [
    "%%script node\n",
    "\n",
    "const text = \"Merhaba benim adım Hasan\";\n",
    "\n",
    "\n",
    "const result = text.match(\"Hasan\");\n",
    "\n",
    "// Hasan ifadesi string ifade içerisinde aranacak bulunması halinde array veri türü şeklinde özet bilgileri konsola yazdırılacak.\n",
    "console.log(result);\n"
   ]
  },
  {
   "cell_type": "markdown",
   "metadata": {},
   "source": [
    "Aşağıdaki örnekte `g` flag'ı ile birlikte kullanımı görülüyor.\n",
    "\n",
    "**Örnek**"
   ]
  },
  {
   "cell_type": "code",
   "execution_count": 24,
   "metadata": {
    "vscode": {
     "languageId": "javascript"
    }
   },
   "outputs": [
    {
     "name": "stdout",
     "output_type": "stream",
     "text": [
      "[ \u001b[32m'güneşli'\u001b[39m, \u001b[32m'güneşli'\u001b[39m ]\n"
     ]
    }
   ],
   "source": [
    "%%script node\n",
    "\n",
    "const text = \"Bugün hava güneşli ve ben güneşli havalardan hoşlanırım.\"\n",
    "\n",
    "const result = text.match(/güneşli/g);\n",
    "\n",
    "/** \n",
    " * güneşli ifadesi string ifade içerisinde aranacak bulunması halinde array veri türü şeklinde özet bilgileri konsola yazdırılacak. \n",
    " * Arama işlemi string ifadenin sonuna kadar yapılacak. \n",
    " */\n",
    "console.log(result);\n"
   ]
  },
  {
   "cell_type": "markdown",
   "metadata": {},
   "source": [
    "#### `matchAll()` Metodu\n",
    "\n",
    "`match()` metodu gibi çalışır aradaki fark `match()` metodu sadece ilk eşleşmeyi döndürürken,`matchAll()` metodu tüm eşleşmeleri döndürür.\n",
    "\n",
    "**⚠️ `matchAll()` metodu 2020 yılında JavaScript'e dahil olmuştur ve Internet Explorer'da çalışmamaktadır.**\n",
    "\n",
    "**Örnek**"
   ]
  },
  {
   "cell_type": "code",
   "execution_count": 31,
   "metadata": {
    "vscode": {
     "languageId": "javascript"
    }
   },
   "outputs": [
    {
     "name": "stdout",
     "output_type": "stream",
     "text": [
      "[\n",
      "  [\n",
      "    \u001b[32m'güneşli'\u001b[39m,\n",
      "    index: \u001b[33m11\u001b[39m,\n",
      "    input: \u001b[32m'Bugün hava güneşli ve ben güneşli havalardan hoşlanırım.'\u001b[39m,\n",
      "    groups: \u001b[90mundefined\u001b[39m\n",
      "  ],\n",
      "  [\n",
      "    \u001b[32m'güneşli'\u001b[39m,\n",
      "    index: \u001b[33m26\u001b[39m,\n",
      "    input: \u001b[32m'Bugün hava güneşli ve ben güneşli havalardan hoşlanırım.'\u001b[39m,\n",
      "    groups: \u001b[90mundefined\u001b[39m\n",
      "  ]\n",
      "]\n"
     ]
    }
   ],
   "source": [
    "%%script node\n",
    "\n",
    "const text = \"Bugün hava güneşli ve ben güneşli havalardan hoşlanırım.\"\n",
    "\n",
    "const result = text.matchAll(\"güneşli\");\n",
    "\n",
    "/** \n",
    " * güneşli ifadesi string ifade içerisinde aranacak bulunması halinde array veri türü şeklinde özet bilgileri konsola yazdırılacak. \n",
    " * Arama işleminden elde edilen tüm sonuçlar konsola yazdırılacak.\n",
    " */\n",
    "console.log(Array.from(result));\n"
   ]
  },
  {
   "cell_type": "markdown",
   "metadata": {},
   "source": [
    "#### `includes()` Metodu\n",
    "\n",
    "Bazen bir string ifade içerisinde başka bir string ifadenin olup/olmadığını öğrenmek isteriz. Bu durumda `includes()` metodundan faydalanırız. Şayet aradığımız içerik string ifade içerisinde varsa sonuç `true` yoksa `false` olarak geri döndürülür.\n",
    "\n",
    "**⚠️ `includes()` metodu case-sensitive özelliğe sahiptir. ES6 ile birlikte JavaScript'e dahil olmuştur. Interne Explorer bu metodu desteklemez.**\n",
    "\n",
    "**Örnek**"
   ]
  },
  {
   "cell_type": "code",
   "execution_count": 33,
   "metadata": {
    "vscode": {
     "languageId": "javascript"
    }
   },
   "outputs": [
    {
     "name": "stdout",
     "output_type": "stream",
     "text": [
      "\u001b[33mtrue\u001b[39m\n",
      "\u001b[33mfalse\u001b[39m\n"
     ]
    }
   ],
   "source": [
    "%%script node\n",
    "\n",
    "const text = \"Hasan bugün okula gidecek mi?\"\n",
    "\n",
    "// Hasan string ifadesi string ifade içerisinde bulunması sebebi ile sonuç true olarak geri döndürülecektir.\n",
    "console.log(text.includes(\"Hasan\"))\n",
    "\n",
    "// Samed string ifadesi string ifade içerisinde bulunmaması sebebi ile sonuç false olarak geri döndürülecektir.\n",
    "console.log(text.includes(\"Samed\"))"
   ]
  },
  {
   "cell_type": "markdown",
   "metadata": {},
   "source": [
    "#### `endsWith()` Metodu\n",
    "\n",
    "Bazen bir string ifadenin sonunu istediğimiz içerikle bitip/bitmediğini öğrenmek isteriz. Bu durumda `endsWith()` metodu kullanılır. Eğer string ifadenin sonu belirlediğimiz parametre ile bitiyorsa sonuç `true` olarak geri döndürülür. Aksi durumda sonuç `false` olarak geri döndürülecektir.\n",
    "\n",
    "**Örnek**"
   ]
  },
  {
   "cell_type": "code",
   "execution_count": 36,
   "metadata": {
    "vscode": {
     "languageId": "javascript"
    }
   },
   "outputs": [
    {
     "name": "stdout",
     "output_type": "stream",
     "text": [
      "\u001b[33mtrue\u001b[39m\n",
      "\u001b[33mfalse\u001b[39m\n"
     ]
    }
   ],
   "source": [
    "%%script node\n",
    "\n",
    "const text = \"Hasan bugün okula gidecek mi?\"\n",
    "\n",
    "// String ifadenin sonu mi? ile bittiğinden sonuç true olarak geri döndürülür.\n",
    "console.log(text.endsWith(\"mi?\"))\n",
    "\n",
    "// String ifadenin sonu Hasan ile bitmediğinden sonuç false olarak geri döndürülür.\n",
    "console.log(text.endsWith(\"Hasan\"))\n"
   ]
  },
  {
   "cell_type": "markdown",
   "metadata": {},
   "source": [
    "#### `startsWith()` Metodu\n",
    "\n",
    "`endsWith()` metodu ile aynı mantıkta çalışır. Aradaki fark işlemin string ifadenin başından başlayarak yapılmasıdır.\n",
    "\n",
    "**Örnek**"
   ]
  },
  {
   "cell_type": "code",
   "execution_count": 38,
   "metadata": {
    "vscode": {
     "languageId": "javascript"
    }
   },
   "outputs": [
    {
     "name": "stdout",
     "output_type": "stream",
     "text": [
      "\u001b[33mfalse\u001b[39m\n",
      "\u001b[33mtrue\u001b[39m\n"
     ]
    }
   ],
   "source": [
    "%%script node\n",
    "\n",
    "const text = \"Hasan bugün okula gidecek mi?\"\n",
    "\n",
    "// String ifadenin başı mi? ile bitmediğinden sonuç false olarak geri döndürülür.\n",
    "console.log(text.startsWith(\"mi?\"))\n",
    "\n",
    "// String ifadenin başı Hasan ile bittiğinden sonuç true olarak geri döndürülür.\n",
    "console.log(text.startsWith(\"Hasan\"))\n"
   ]
  },
  {
   "cell_type": "markdown",
   "metadata": {},
   "source": [
    "**⚠️ `startsWith()` ve `endsWith()` metotları ES6 ile birlikte JavaScript'e dahil olmuştur. Her iki metot case-sensitive özelliğe sahip olup Internet Explorer tarafından desteklenmez.**"
   ]
  },
  {
   "cell_type": "markdown",
   "metadata": {},
   "source": [
    "[^1]: JavaScript'de ters eğik çizgi (backslash) karakteri (\\), özellikle metin (string) dizileri içerisinde özel karakterleri veya kontrol dizilerini temsil etmek için kullanılır. Ters eğik çizgi, ardışık karakterlerin veya özel anlamları olan karakterlerin kaçış (escape) dizilerini oluşturur.\n",
    "\n",
    "[^2]: Düzenli ifadeler (Regular Expressions veya Regex), metinle ilgili desenleri tanımlamak için kullanılan bir dildir. Bu desenler, metin içinde belirli karakterleri bulma, değiştirme, eşleştirme veya çıkarma gibi işlemleri gerçekleştirmek için kullanılır. Regex, metin madde analizi, veri madenciliği, metin ve dizge işleme gibi birçok uygulama alanında yaygın olarak kullanılır.\n",
    "\n",
    "[^3]: Interpolation tanımı."
   ]
  }
 ],
 "metadata": {
  "kernelspec": {
   "display_name": "Python 3",
   "language": "python",
   "name": "python3"
  },
  "language_info": {
   "codemirror_mode": {
    "name": "ipython",
    "version": 3
   },
   "file_extension": ".py",
   "mimetype": "text/x-python",
   "name": "python",
   "nbconvert_exporter": "python",
   "pygments_lexer": "ipython3",
   "version": "3.10.12"
  }
 },
 "nbformat": 4,
 "nbformat_minor": 2
}
