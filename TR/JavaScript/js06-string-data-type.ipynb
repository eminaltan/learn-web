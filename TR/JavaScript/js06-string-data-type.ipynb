{
 "cells": [
  {
   "cell_type": "markdown",
   "metadata": {},
   "source": [
    "# JavaScript'de String Veri Türleri ve Tipleri\n",
    "\n",
    "Merhaba arkadaşlar serinin bu bölümünde JavaScript'de string veri türlerini ve veri tiplerini inceleyeceğiz.\n",
    "\n",
    "Yazıda:\n",
    "\n",
    "- String veri tipi tanımı ve içeriğine\n",
    "\n",
    "- String'lerin matematiksel işlemlerde kullanılmasına\n",
    "\n",
    "- (`\\`) Escape karakterinin kullanılmasına\n",
    "\n",
    "- Object tipindeki string türlerine\n",
    "\n",
    "Değineceğim.\n",
    "\n",
    "İyi okumalar dilerim.\n"
   ]
  },
  {
   "cell_type": "markdown",
   "metadata": {},
   "source": [
    "## JavaScript String Veri Türü\n",
    "\n",
    "Karakterlerden veya dizi karakterlerinden oluşan veri türlerine string adı verilir. String veri tipleri tırnak işaretleri arasına alınırlar. Tırnak işareti çift veya tek tırnak şeklinde olabilir.\n",
    "\n",
    "**Örnek**"
   ]
  },
  {
   "cell_type": "code",
   "execution_count": 2,
   "metadata": {
    "vscode": {
     "languageId": "javascript"
    }
   },
   "outputs": [
    {
     "name": "stdout",
     "output_type": "stream",
     "text": [
      "Lada\n",
      "Opel\n",
      "Doktor  `gel` dedi.\n",
      "Doktor \"gel\" dedi.\n"
     ]
    }
   ],
   "source": [
    "%%script node\n",
    "\n",
    "// Çift tırnak işareti ile kullanımı\n",
    "const car1 = \"Lada\";\n",
    "\n",
    "// Tek tırnak işareti ile kullanımı\n",
    "const car2 = `Opel`;\n",
    "\n",
    "// Çift ve tek tırnak işaretleri birlikte kullanılabilirler.\n",
    "let text1 = \"Doktor  `gel` dedi.\";\n",
    "let text2 = `Doktor \"gel\" dedi.`;\n",
    "\n",
    "console.log(car1)\n",
    "console.log(car2)\n",
    "console.log(text1)\n",
    "console.log(text2)"
   ]
  },
  {
   "cell_type": "markdown",
   "metadata": {},
   "source": [
    "String veri türleri **_immutable_** yani değiştirilemez özelliğe sahiptirler.\n",
    "\n",
    "**Örnek**"
   ]
  },
  {
   "cell_type": "code",
   "execution_count": 19,
   "metadata": {
    "vscode": {
     "languageId": "javascript"
    }
   },
   "outputs": [
    {
     "name": "stdout",
     "output_type": "stream",
     "text": [
      "Konsola str1'in değerini değiştirmemize rağmen  Murat ifadesi yazdırılacak\n"
     ]
    }
   ],
   "source": [
    "%%script node\n",
    "\n",
    "let str1 = \"Hasan\";\n",
    "\n",
    "let str2 = str1;\n",
    "\n",
    "str1 = \"Murat\"\n",
    "\n",
    "console.log(\"Konsola str1'in değerini değiştirmemize rağmen  \" + str1 + \" ifadesi yazdırılacak\")"
   ]
  },
  {
   "cell_type": "markdown",
   "metadata": {},
   "source": [
    "**⚠️ Sayısal string dışındaki diğer string türleri matematiksel işlemlerde sonuca katkıda bulunmazlar. Şayet bir string matematiksel ifade içerisinde kullanılırsa işlem sonucunun veri tipi string olacaktır. Bu durum string'in bulunduğu yere göre sonucu etkiler. Sayısal özellikli string'ler için durum biraz daha farklıdır. Daha detaylı bilgi almak için [JavaScript Numeric String Veri Tipleri](js07-numeric-data-type.ipynb#javascript-numeric-string-veri-tipleri) başlığına bakabilirsiniz.**\n",
    "[#1](https://github.com/eminaltan/learn-web/issues/1)\n",
    "\n",
    "**JavaScript'de expression'lar (ifadeler) soldan sağa şekilde değerlendirilir. Yani Javascript ifadenin nerede string olacağını bu pattern'e göre belirler.**\n",
    "\n",
    "**Örnek**"
   ]
  },
  {
   "cell_type": "code",
   "execution_count": 3,
   "metadata": {
    "vscode": {
     "languageId": "javascript"
    }
   },
   "outputs": [
    {
     "name": "stdout",
     "output_type": "stream",
     "text": [
      "71\n",
      "143\n",
      "\u001b[33m8\u001b[39m\n",
      "Emin Altan\n"
     ]
    }
   ],
   "source": [
    "%%script node\n",
    "// + işareti ile string'ler birbirine ekleniyor.\n",
    "\n",
    "// Konsola 71 yazdırılacaktır.\n",
    "var x = 4 + 3 + \"1\";\n",
    "console.log(x);\n",
    "\n",
    "// Konsola 143 yazdırılacaktır.\n",
    "var y = \"1\" + 4 + 3;\n",
    "console.log(y);\n",
    "\n",
    "// Konsola 8 yazdırılacaktır. ⚠️ Expression değerlendirilirken soldan sağa işlemin gerçekleştiğine dikkat edin.\n",
    "z = \"9\" - 4 + 3;\n",
    "console.log(z);\n",
    "\n",
    "let m = \"Emin\" + \" \" + \"Altan\";\n",
    "\n",
    "// Çıktı Emin Altan olacaktır.\n",
    "console.log(m);\n"
   ]
  },
  {
   "cell_type": "markdown",
   "metadata": {},
   "source": [
    "### `\\` Escape Karakterinin Kullanımı\n",
    "\n",
    "**⚠️ String ifadeyi oluştururken kullandığımız tırnak işareti ile string ifade içerisinde alıntı yapmak için kullandığımız tırnak işaretinin benzer olması halinde sorunlar ortaya çıkar.**\n",
    "\n",
    "**Örnek**\n",
    "\n",
    "```javascript\n",
    "// Javascript string'in nerede başladığını ve bittiğini bilemediği için problemlere neden olacaktır.\n",
    "let text = \"Biz onları \"Moğollar\" olarak çağırırdık.\"\n",
    "```\n",
    "\n",
    "Bu tarz sorunların önüne geçmek için **_backslash escape character_**[^1] kullanılır.\n",
    "\n",
    "Backslash escape character'leri listelersek:\n",
    "\n",
    "| **Kod** | **Sonuç** | **Açıklama**        |\n",
    "| ------- | --------- | ------------------- |\n",
    "| `\\'`     | '         | Tek tırnak işareti  |\n",
    "| `\\\"`     | \"         | Çift tırnak işareti |\n",
    "| `\\\\`     | \\         | Slash işareti       |\n",
    "\n",
    "**Örnek**\n"
   ]
  },
  {
   "cell_type": "code",
   "execution_count": 16,
   "metadata": {
    "vscode": {
     "languageId": "javascript"
    }
   },
   "outputs": [
    {
     "name": "stdout",
     "output_type": "stream",
     "text": [
      "Biz onları `Moğollar` olarak çağırırdık.\n",
      "Biz onları \"Moğollar\" olarak çağırırdık.\n",
      "\\ Karakteri backslash olarak tanımlanır.\n"
     ]
    }
   ],
   "source": [
    "%%script node\n",
    "// Yukarıdaki örnek için backslash kullandığımızda sorun çözülür.\n",
    "\n",
    "let text1 = \"Biz onları \\`Moğollar\\` olarak çağırırdık.\";\n",
    "\n",
    "// Biz onları `Moğollar` olarak çağırırdık. ifadesi konsola yazılır.\n",
    "console.log(text1);\n",
    "\n",
    "let text2 = 'Biz onları \\\"Moğollar\\\" olarak çağırırdık.';\n",
    "\n",
    "// Biz onları \"Moğollar\" olarak çağırırdık. ifadesi konsola yazılır.\n",
    "console.log(text2);\n",
    "\n",
    "// Bir string'e backslash karakteri eklemek istersek `\\\\` karakterlerinden faydalanırız.\n",
    "text2 = \"\\\\ Karakteri backslash olarak tanımlanır.\";\n",
    "\n",
    "// \\ Karakteri backslash olarak tanımlanır. ifadesi konsola yazılır.\n",
    "console.log(text2);\n"
   ]
  },
  {
   "cell_type": "markdown",
   "metadata": {},
   "source": [
    "Bunların dışında bir kaç tür daha backslash escape character mevcuttur fakat bunlara değinmeye gerek görmüyorum arkadaşlar.\n"
   ]
  },
  {
   "cell_type": "markdown",
   "metadata": {},
   "source": [
    "### JavaScript Object Tipinde String'ler\n",
    "\n",
    "JavaScript'de string'ler normalde ilkel veri tipleridir ve literaller tarafından oluşturulurlar.\n",
    "\n",
    "Ancak `new` keyword'u kullanılarak object tipinde string'ler tanımlanabilirler.\n",
    "\n",
    "**Örnek**\n"
   ]
  },
  {
   "cell_type": "code",
   "execution_count": null,
   "metadata": {
    "vscode": {
     "languageId": "javascript"
    }
   },
   "outputs": [],
   "source": [
    "// Object tipinde string oluşturuluyor ve string değeri (Hasan) x variable'ına depolanıyor.\n",
    "let x = new String(\"Hasan\");\n",
    "\n",
    "// [String: 'Hasan'] ifadesi konsola yazdırılır.\n",
    "console.log(x);\n"
   ]
  },
  {
   "cell_type": "markdown",
   "metadata": {},
   "source": [
    "⚠️ Object tipinde oluşturulan string ile bir literal kullanılarak oluşturulan string variable veri tipi olarak birbirlerinden farklıdırlar.\n"
   ]
  },
  {
   "cell_type": "code",
   "execution_count": null,
   "metadata": {
    "vscode": {
     "languageId": "javascript"
    }
   },
   "outputs": [],
   "source": [
    "// x variable'ı Deniz string değerini depoluyor.\n",
    "let x = \"Deniz\";\n",
    "\n",
    "// y variable'ı object veri tipide olup içeriğini Deniz şeklinde tanımlıyoruz.\n",
    "let y = new String(\"Deniz\");\n",
    "\n",
    "// string ifadesi konsola yazdırılacaktır. x variable string özelliklidir.\n",
    "console.log(typeof x);\n",
    "\n",
    "// object ifadesi konsola yazdırılacaktır. y variable object özelliklidir.\n",
    "console.log(typeof y);\n"
   ]
  },
  {
   "cell_type": "markdown",
   "metadata": {},
   "source": [
    "❗ Object tipinde string'lerin kullanılması tavsiye edilmez. Özellikle mantıksal operatörlerin kullanıldığı expression'larda beklenmedik sonuçlar ile karşılaşabiliriz.\n",
    "\n",
    "Ek olarak kodları komplike hale getireceği için kod bloklarının yavaş çalışmasına neden olacaktır.\n",
    "\n",
    "**Object tipindeki iki variable'ın kıyaslanması durumunda sonuç daima `false` olarak geri döner.**\n",
    "\n",
    "**Örnek**\n"
   ]
  },
  {
   "cell_type": "code",
   "execution_count": null,
   "metadata": {
    "vscode": {
     "languageId": "javascript"
    }
   },
   "outputs": [],
   "source": [
    "let x = \"Defter\";\n",
    "let y = new String(\"Defter\");\n",
    "\n",
    "// x ve y variable'ı aynı veriyi depolamaları sebebi ile geri dönen değer true olacaktır.\n",
    "console.log(x == y);\n",
    "\n",
    "/**\n",
    " * x ve y variable'ı aynı veriyi depolamalarına rağmen farklı veri tipine sahip olduklarından\n",
    " * geri dönen değer false olacaktır.\n",
    " */\n",
    "console.log(x === y);\n",
    "\n",
    "let m = new String(\"Deniz\");\n",
    "let n = new String(\"Deniz\");\n",
    "\n",
    "/**\n",
    " * m ve n her ikisi de aynı türde veri ve aynı değeri tutmasına rağmen konsola false değeri yazdırılacaktır.\n",
    " * Çünkü object tipindeki variable'lar arasında kıyaslama yapılamaz.\n",
    " */\n",
    "console.log(m === n);\n"
   ]
  },
  {
   "cell_type": "markdown",
   "metadata": {},
   "source": [
    "[^1]: JavaScript'de ters eğik çizgi (backslash) karakteri (\\), özellikle metin (string) dizileri içerisinde özel karakterleri veya kontrol dizilerini temsil etmek için kullanılır. Ters eğik çizgi, ardışık karakterlerin veya özel anlamları olan karakterlerin kaçış (escape) dizilerini oluşturur.\n"
   ]
  }
 ],
 "metadata": {
  "kernelspec": {
   "display_name": "Python 3",
   "language": "python",
   "name": "python3"
  },
  "language_info": {
   "codemirror_mode": {
    "name": "ipython",
    "version": 3
   },
   "file_extension": ".py",
   "mimetype": "text/x-python",
   "name": "python",
   "nbconvert_exporter": "python",
   "pygments_lexer": "ipython3",
   "version": "3.11.5"
  }
 },
 "nbformat": 4,
 "nbformat_minor": 2
}
