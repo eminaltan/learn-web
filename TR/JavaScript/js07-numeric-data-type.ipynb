{
  "cells": [
    {
      "cell_type": "markdown",
      "metadata": {},
      "source": [
        "# JavaScript Number Veri Türü ve Veri Tipi\n",
        "\n",
        "Merhaba arkadaşlar serinin bu bölümünde JavaScript'de **_number_** veri türlerini ve veri tiplerini inceleyeceğiz.\n",
        "\n",
        "Yazıda:\n",
        "\n",
        "- Number veri türüne ve veri tipine.\n",
        "- Exponential notation kavramına.\n",
        "- Precision kavramı ve türlerine.\n",
        "- Numerik özellikli string değerlere.\n",
        "- `NaN` kavramına.\n",
        "- Infinity kavramına.\n",
        "- Hexadecimal değerlere ve aritmetiksel işlemlere.\n",
        "- Object tipindeki number türlerine.\n",
        "\n",
        "Değineceğim.\n",
        "\n",
        "İyi okumalar dilerim.\n"
      ]
    },
    {
      "cell_type": "markdown",
      "metadata": {},
      "source": [
        "## JavaScript Number Veri Türü\n",
        "\n",
        "JavaScript'de iki sayısal veri türü vardır. Bunlardan biri **_BigInt_** diğeri ise **_Number_** veri türüdür. Bu kısımda number veri türünü inceleyeceğiz.\n",
        "\n",
        "Number veri türü primitive özelliklidir ve **_immutable_** yapıdadırlar yani değiştirilemezler.\n",
        "\n",
        "JavaScript'de number veri tipine sahip değerler ondalıklı veya tam sayı olarak ifade edilebilirler.\n",
        "\n",
        "**Örnek**\n"
      ]
    },
    {
      "cell_type": "code",
      "execution_count": 35,
      "metadata": {
        "vscode": {
          "languageId": "javascript"
        }
      },
      "outputs": [
        {
          "name": "stdout",
          "output_type": "stream",
          "text": [
            "\u001b[33mtrue\u001b[39m\n"
          ]
        }
      ],
      "source": [
        "%%javascript\n",
        "\n",
        "// Her iki değişkenin depoladığı değer ve veri tipi bakımından aynıdır.\n",
        "let x = 20.0;\n",
        "let y = 20;\n",
        "\n",
        "// Konsola true ifadesi yazdırılacaktır.\n",
        "console.log(x === y);\n"
      ]
    },
    {
      "cell_type": "markdown",
      "metadata": {},
      "source": [
        "**⚠️ Bir çok programlama dilinde sayısal değerler byte (8-bit), short (16-bit), int (32-bit), long (64-bit) olarak kategorize edilir.**\n",
        "\n",
        "**JavaScript'de sayısal değerler daima double (64-bit floating point) özelliktedirler.**\n"
      ]
    },
    {
      "cell_type": "markdown",
      "metadata": {},
      "source": [
        "### Exponential Notation\n",
        "\n",
        "Çok büyük sayısal değerler bilimsel olarak ifade edilebilir.\n",
        "\n",
        "**Örnek**\n"
      ]
    },
    {
      "cell_type": "code",
      "execution_count": 36,
      "metadata": {
        "vscode": {
          "languageId": "javascript"
        }
      },
      "outputs": [
        {
          "name": "stdout",
          "output_type": "stream",
          "text": [
            "\u001b[33m12300000\u001b[39m\n",
            "\u001b[33m0.00123\u001b[39m\n"
          ]
        }
      ],
      "source": [
        "%%javascript\n",
        "\n",
        "let y = 123e5;\n",
        "\n",
        "// 12300000 değeri konsola yazdırılır.\n",
        "console.log(y);\n",
        "\n",
        "let z = 123e-5; // 0.00123\n",
        "\n",
        "// 0.00123 değeri konsola yazdırılır.\n",
        "console.log(z);\n"
      ]
    },
    {
      "cell_type": "markdown",
      "metadata": {},
      "source": [
        "**⚠️ Matematiksel bir expression'a (ifadeye) numerik özellikli string değer dahil olduğunda sonuç veri tipinin string türünde oluşacağını unutmayın.**\n",
        "\n",
        "**Bu durum sayısal string değerlerin kullanım yerlerine ve operatör türüne göre değişiklik gösterir. Detaylı bilgi almak için [JavaScript Numerik Özellikli String Değerler](#javascript-numerik-özellikli-string-değerler) başlığını ziyaret edebilirsiniz.**\n",
        "\n",
        "**Örnek**\n"
      ]
    },
    {
      "cell_type": "code",
      "execution_count": 37,
      "metadata": {
        "vscode": {
          "languageId": "javascript"
        }
      },
      "outputs": [
        {
          "name": "stdout",
          "output_type": "stream",
          "text": [
            "Sonuç: 1020\n"
          ]
        }
      ],
      "source": [
        "%%javascript\n",
        "\n",
        "let x = 10;\n",
        "let y = 20;\n",
        "let z = \"Sonuç: \" + x + y;\n",
        "\n",
        "// Sonuç 1020 şeklinde ifade konsola yazdırılacaktır.\n",
        "console.log(z);\n"
      ]
    },
    {
      "cell_type": "markdown",
      "metadata": {},
      "source": [
        "### JavaScript Precision Kavramı ve Türleri\n",
        "\n",
        "JavaScript'de **_precision_**, sayıların ondalık basamaklarındaki hassasiyeti veya kesirli sayıların kaç basamakla temsil edildiğini belirtmek için kullanılan bir terimdir. Bu terim, özellikle hassasiyet gerektiren sayılarla yapılan matematiksel işlemlerde önemlidir.\n",
        "\n",
        "JavaScript'de 2 tür precision vardır:\n",
        "\n",
        "1. Integer\n",
        "\n",
        "2. Floating\n",
        "\n",
        "Şimdi bunları inceleyelim.\n"
      ]
    },
    {
      "cell_type": "markdown",
      "metadata": {},
      "source": [
        "#### Integer Precision\n",
        "\n",
        "Integer veri türleri ondalıklı veya bilimsel değer ile ifade edilmedikleri sürece 15 haneye kadar sayısal doğruluğa sahiptirler.\n",
        "\n",
        "**Örnek**\n"
      ]
    },
    {
      "cell_type": "code",
      "execution_count": 38,
      "metadata": {
        "vscode": {
          "languageId": "javascript"
        }
      },
      "outputs": [
        {
          "name": "stdout",
          "output_type": "stream",
          "text": [
            "\u001b[33m999999999999999\u001b[39m\n",
            "\u001b[33m10000000000000000\u001b[39m\n"
          ]
        }
      ],
      "source": [
        "%%javascript\n",
        "\n",
        "let x = 999999999999999;\n",
        "\n",
        "// Konsola 999999999999999 değeri yazdırılır.\n",
        "console.log(x);\n",
        "\n",
        "let y = 9999999999999999;\n",
        "\n",
        "// Konsola 10000000000000000 değeri yazdırılır.\n",
        "console.log(y);\n"
      ]
    },
    {
      "cell_type": "markdown",
      "metadata": {},
      "source": [
        "Decimal değerlerinde maksimum ulaşabileceği hane sayısı 17'dir.\n"
      ]
    },
    {
      "cell_type": "markdown",
      "metadata": {},
      "source": [
        "#### Float Precision\n",
        "\n",
        "Ondalıklı değerler için kullanılır.\n",
        "\n",
        "**❗ Ondalık sayılarla yapılan aritmetiksel işlemlerin sonucu %100 doğru olmayabilir.**\n",
        "\n",
        "**Örnek**\n"
      ]
    },
    {
      "cell_type": "code",
      "execution_count": 39,
      "metadata": {
        "vscode": {
          "languageId": "javascript"
        }
      },
      "outputs": [
        {
          "name": "stdout",
          "output_type": "stream",
          "text": [
            "\u001b[33m0.30000000000000004\u001b[39m\n",
            "\u001b[33m0.3\u001b[39m\n"
          ]
        }
      ],
      "source": [
        "%%javascript\n",
        "\n",
        "let x = 0.2 + 0.1;\n",
        "\n",
        "// 0.30000000000000004 değer konsola yazdırılacaktır.\n",
        "console.log(x);\n",
        "\n",
        "/**\n",
        " * Bu sorunu çözmek için ondalıklı sayı tam sayıya çevrilir\n",
        " * aritmetiksel işlem gerçekleştirilir ve son olarak elde edilen değer\n",
        " * hangi sayısal sistemde kullanılacaksa o sayıya bölünür.\n",
        " */\n",
        "\n",
        "// Ondalık sayılar 10'luk sisteme çevriliyor.\n",
        "let y = (0.2 * 10 + 0.1 * 10) / 10;\n",
        "\n",
        "// 0.3 değeri konsola yazdırılacaktır.\n",
        "console.log(y);\n"
      ]
    },
    {
      "cell_type": "markdown",
      "metadata": {},
      "source": [
        "### JavaScript Numerik Özellikli String Değerler\n",
        "\n",
        "String veri türleri rakamlardan oluşabilir. Bu durumdaki string değerler **_numerik özellikli string_** olarak ifade edilir.\n",
        "\n",
        "**❗ Numerik özellikli string değerler number veri tipine dönüştürülür ve aritmetiksel operatörler kullanılarak matematiksel işlemler gerçekleştirilebilir. Sonucun veri tipi number olacaktır.**\n",
        "\n",
        "**Bu durum `+` operatörü için geçerli değildir. `+` operatörünün string değerler için ekleme fonksiyonunu gerçekleştirdiğini hatırlayınız.**\n",
        "\n",
        "**Örnek**\n"
      ]
    },
    {
      "cell_type": "code",
      "execution_count": 40,
      "metadata": {
        "vscode": {
          "languageId": "javascript"
        }
      },
      "outputs": [
        {
          "name": "stdout",
          "output_type": "stream",
          "text": [
            "Sonuç= 10 işlem sonucunun veri tipi number 'dır.\n",
            "Sonuç= 1000 işlem sonucunun veri tipi number 'dır.\n",
            "Sonuç= 90 işlem sonucunun veri tipi number 'dır.\n",
            "Sonuç= 10010 işlem sonucunun veri tipi string 'dir.\n"
          ]
        }
      ],
      "source": [
        "%%javascript\n",
        "\n",
        "let x = \"100\";\n",
        "let y = \"10\";\n",
        "\n",
        "// 10 rakamı konsola yazdırılacaktır.\n",
        "console.log(\"Sonuç= \"+ (x / y)+ \" işlem sonucunun veri tipi \"+typeof (x/y)+\" 'dır.\" );\n",
        "\n",
        "// 1000 rakamı konsola yazdırılacaktır.\n",
        "console.log(\"Sonuç= \"+ (x * y)+ \" işlem sonucunun veri tipi \"+typeof (x*y)+\" 'dır.\" );\n",
        "\n",
        "// 90 rakamı konsola yazdırılacaktır.\n",
        "console.log(\"Sonuç= \"+ (x - y)+ \" işlem sonucunun veri tipi \"+typeof (x-y)+\" 'dır.\" );\n",
        "\n",
        "// ⚠️ 10010 rakamı konsola yazdırılacaktır. İşlem sonucunun veri tipinin string olduğuna dikkat edelim.\n",
        "console.log(\"Sonuç= \"+ (x + y)+ \" işlem sonucunun veri tipi \"+typeof (x+y)+\" 'dir.\" );\n"
      ]
    },
    {
      "cell_type": "markdown",
      "metadata": {},
      "source": [
        "### JavaScript `NaN` Not a Number Terimi\n",
        "\n",
        "`NaN` değeri JavaScript'de rezerv edilmiş bir keyword olup author tanımı işlemlerde kullanılamaz. (Örneğin bir değişken ismi `NaN` ile başlayamaz.)\n",
        "\n",
        "`NaN` değeri aritmetiksel işlem sonucunun sayısal veya rakamsal bir sonuç üretmediğini ifade etmek için kullanılır.\n",
        "\n",
        "**Örnek**\n"
      ]
    },
    {
      "cell_type": "code",
      "execution_count": 41,
      "metadata": {
        "vscode": {
          "languageId": "javascript"
        }
      },
      "outputs": [
        {
          "name": "stdout",
          "output_type": "stream",
          "text": [
            "\u001b[33mNaN\u001b[39m\n"
          ]
        }
      ],
      "source": [
        "%%javascript\n",
        "\n",
        "/**\n",
        " * NaN ifadesi konsola yazdırılacaktır.\n",
        " * Çünkü 10/Kamyon expression'un sonucu sayısal veya rakamsal bir değer değildir.\n",
        " */\n",
        "console.log(10 / \"Kamyon\");\n"
      ]
    },
    {
      "cell_type": "markdown",
      "metadata": {},
      "source": [
        "**⚠️ Bu durum string değerin numerik özellikli olması durumunda değişir ve işlem sonuç verir.**\n",
        "\n",
        "**Örnek**\n"
      ]
    },
    {
      "cell_type": "code",
      "execution_count": 42,
      "metadata": {
        "vscode": {
          "languageId": "javascript"
        }
      },
      "outputs": [
        {
          "name": "stdout",
          "output_type": "stream",
          "text": [
            "\u001b[33m5\u001b[39m\n"
          ]
        }
      ],
      "source": [
        "%%javascript\n",
        "\n",
        "// 5 rakamı konsola yazdırılır.\n",
        "console.log(100 / \"20\");\n"
      ]
    },
    {
      "cell_type": "markdown",
      "metadata": {},
      "source": [
        "Sonucu `NaN` olan bir ifade ile aritmetiksel işlem yaptığımızda sonuç yine `NaN` olacaktır.\n",
        "\n",
        "**Örnek**\n"
      ]
    },
    {
      "cell_type": "code",
      "execution_count": 43,
      "metadata": {
        "vscode": {
          "languageId": "javascript"
        }
      },
      "outputs": [
        {
          "name": "stdout",
          "output_type": "stream",
          "text": [
            "\u001b[33mNaN\u001b[39m\n"
          ]
        }
      ],
      "source": [
        "%%javascript\n",
        "\n",
        "let x = NaN;\n",
        "\n",
        "let y = 10;\n",
        "\n",
        "let z = x + y;\n",
        "\n",
        "// Konsola NaN ifadesi yazdırılacaktır.\n",
        "console.log(z);\n"
      ]
    },
    {
      "cell_type": "markdown",
      "metadata": {},
      "source": [
        "`NaN` ifadesinin tipi number'dır. Eğer `typeOf()` metodunu `NaN` için kullanırsak konsola \"number\" ifadesi yazılır.\n",
        "\n",
        "**Örnek**\n"
      ]
    },
    {
      "cell_type": "code",
      "execution_count": 44,
      "metadata": {
        "vscode": {
          "languageId": "javascript"
        }
      },
      "outputs": [
        {
          "name": "stdout",
          "output_type": "stream",
          "text": [
            "number\n"
          ]
        }
      ],
      "source": [
        "%%javascript\n",
        "\n",
        "// Konsola number ifadesi yazdırılacaktır.\n",
        "console.log(typeof NaN)\n"
      ]
    },
    {
      "cell_type": "markdown",
      "metadata": {},
      "source": [
        "Bir expression'un sonucunun `NaN` olup/olmadığını `isNaN()` metodu ile sorgulayabiliriz.\n",
        "\n",
        "Expression sonucu `NaN` değerini depolamışsa `isNaN()` fonksiyonu `true` aksi durumda `false` değerini geri dönderir.\n",
        "\n",
        "**Örnek**\n"
      ]
    },
    {
      "cell_type": "code",
      "execution_count": 45,
      "metadata": {
        "vscode": {
          "languageId": "javascript"
        }
      },
      "outputs": [
        {
          "name": "stdout",
          "output_type": "stream",
          "text": [
            "\u001b[33mtrue\u001b[39m\n",
            "\u001b[33mfalse\u001b[39m\n"
          ]
        }
      ],
      "source": [
        "%%javascript\n",
        "\n",
        "// İşlemin sonucu NaN olarak sonuçlanacak ve NaN değer z değişkeninin içerisine depolanacaktır.\n",
        "let z = 20 / \"Kalem\";\n",
        "\n",
        "/**\n",
        " * z değişkeninin NaN özellikli olup/olmadığını isNaN() metodu ile sorgularız.\n",
        " * z değişkeni NaN özellik olması sebebi ile sonuç true olarak konsola yazdırılacaktır.\n",
        " */\n",
        "console.log(isNaN(z));\n",
        "\n",
        "let m = \"10\" / 5;\n",
        "\n",
        "// Konsola false ifadesi yazdırılacaktır. Çünkü işlemin sonucu bir değer üretiyor.\n",
        "console.log(isNaN(m));\n"
      ]
    },
    {
      "cell_type": "markdown",
      "metadata": {},
      "source": [
        "### JavaScript Infinity\n",
        "\n",
        "Bir değerin maksimum veya minimum alabileceği değeri ifade etmek için kullanılır.\n",
        "\n",
        "`infinity` keyword'u özellikle çıkış koşulunu tam olarak belirleyemediğimiz `while` döngülerinde faydalı olabilir.\n",
        "\n",
        "**Örnek**\n"
      ]
    },
    {
      "cell_type": "code",
      "execution_count": 46,
      "metadata": {
        "vscode": {
          "languageId": "javascript"
        }
      },
      "outputs": [
        {
          "name": "stdout",
          "output_type": "stream",
          "text": [
            "\u001b[33m4\u001b[39m\n",
            "\u001b[33m16\u001b[39m\n",
            "\u001b[33m256\u001b[39m\n",
            "\u001b[33m65536\u001b[39m\n",
            "\u001b[33m4294967296\u001b[39m\n",
            "\u001b[33m18446744073709552000\u001b[39m\n",
            "\u001b[33m3.402823669209385e+38\u001b[39m\n",
            "\u001b[33m1.157920892373162e+77\u001b[39m\n",
            "\u001b[33m1.3407807929942597e+154\u001b[39m\n",
            "\u001b[33mInfinity\u001b[39m\n"
          ]
        }
      ],
      "source": [
        "%%javascript\n",
        "\n",
        "let myNumber = 2;\n",
        "\n",
        "/**\n",
        " * Sonuç infinity yani sonsuz değer olana kadar döngü çalışır.\n",
        " * Sonuç infinity olduğunda döngü sonlanır.\n",
        " */\n",
        "\n",
        "while (myNumber != Infinity) {\n",
        "  myNumber = myNumber * myNumber;\n",
        "  console.log(myNumber);\n",
        "}\n"
      ]
    },
    {
      "cell_type": "markdown",
      "metadata": {},
      "source": [
        "### JavaScript Hexadecimal Değerler\n",
        "\n",
        "**_Hexadecimal_**[^1] değerler JavaScript'de number özellikli veri türlerindendir.\n",
        "\n",
        "Hexadecimal değer otomatik olarak sayısal değere dönüştürülmeye çalışılır.\n",
        "\n",
        "**Örnek**\n"
      ]
    },
    {
      "cell_type": "code",
      "execution_count": 47,
      "metadata": {
        "vscode": {
          "languageId": "javascript"
        }
      },
      "outputs": [
        {
          "name": "stdout",
          "output_type": "stream",
          "text": [
            "\u001b[33m255\u001b[39m\n"
          ]
        }
      ],
      "source": [
        "%%javascript\n",
        "\n",
        "// 255 rakamı konsola yazdırılır.\n",
        "console.log(0xff);\n"
      ]
    },
    {
      "cell_type": "markdown",
      "metadata": {},
      "source": [
        "**💡 Hexadecimal değerler arasında aritmetik operatörler kullanılabilir.**\n",
        "\n",
        "**Örnek**\n"
      ]
    },
    {
      "cell_type": "code",
      "execution_count": 48,
      "metadata": {
        "vscode": {
          "languageId": "javascript"
        }
      },
      "outputs": [
        {
          "name": "stdout",
          "output_type": "stream",
          "text": [
            "\u001b[33m204\u001b[39m\n",
            "\u001b[33m188\u001b[39m\n",
            "\u001b[33m16\u001b[39m\n",
            "\u001b[33m392\u001b[39m\n",
            "\u001b[33m38352\u001b[39m\n",
            "\u001b[33m1.0851063829787233\u001b[39m\n"
          ]
        }
      ],
      "source": [
        "%%javascript\n",
        "\n",
        "// 204 rakamının karşılığı\n",
        "let x = 0xcc;\n",
        "console.log(parseInt(x, 10))\n",
        "\n",
        "// 188 rakamının karşılığı\n",
        "let y = 0xbc;\n",
        "console.log(parseInt(y, 10))\n",
        "\n",
        "// Konsola 16 rakamı yazılır.\n",
        "console.log(x - y);\n",
        "\n",
        "\n",
        "// Konsola 392 rakamı yazılır.\n",
        "console.log(x + y);\n",
        "\n",
        "// Konsola 38352 rakamı yazılır.\n",
        "console.log(x * y);\n",
        "\n",
        "// Konsola 1.0851063829787233 rakamı yazılır.\n",
        "console.log(x / y);\n"
      ]
    },
    {
      "cell_type": "markdown",
      "metadata": {},
      "source": [
        "**⚠️ Hexadecimal değerleri kullanırken `0` rakamından sonra sayısal bir değer kullanılmaması tavsiye edilir. (`07` gibi) Çünkü bazı JavaScript yorumlayıcıları bu durumda ifadeyi hexadecimal format olarak değil de **_octal_**[^2] format olarak yorumlar.**\n"
      ]
    },
    {
      "cell_type": "markdown",
      "metadata": {},
      "source": [
        "## JavaScript Number Veri Tipi\n",
        "\n",
        "Number veri türü özellikli değişkenlerin veri tipleri de number olacaktır.\n",
        "\n",
        "**Örnek**\n"
      ]
    },
    {
      "cell_type": "code",
      "execution_count": 49,
      "metadata": {
        "vscode": {
          "languageId": "javascript"
        }
      },
      "outputs": [
        {
          "name": "stdout",
          "output_type": "stream",
          "text": [
            "x'in veri tipi number 'dır.\n",
            "y'nin veri tipi string 'dir.\n"
          ]
        }
      ],
      "source": [
        "%%javascript\n",
        "\n",
        "const x = 5;\n",
        "\n",
        "console.log(\"x'in veri tipi \" + typeof x + \" 'dır.\");\n",
        "\n",
        "const y = \"5\";\n",
        "\n",
        "// ⚠️ y'nin veri tipine dikkat edelim.\n",
        "console.log(\"y'nin veri tipi \" + typeof y + \" 'dir.\");"
      ]
    },
    {
      "cell_type": "markdown",
      "metadata": {},
      "source": [
        "## JavaScript Object Veri Tipinde Number Veri Türleri\n",
        "\n",
        "Bildiğimiz üzere JavaScript'de number özellikli değişkenler normalde **_immutable_**, ilkel ve string veri tipine sahip veri türleridir.\n",
        "\n",
        "Ancak `new` keyword'u kullanılarak object veri tipinde number veri türleri oluşturulabilir.\n",
        "\n",
        "**⚠️ Object veri tipinde oluşturulan number özellikli bir değişken ile normal yöntem kullanılarak oluşturulan number özellikli değişkenin veri tipi birbirinden farklıdır.**\n",
        "\n",
        "**Örnek**\n"
      ]
    },
    {
      "cell_type": "code",
      "execution_count": 50,
      "metadata": {
        "vscode": {
          "languageId": "javascript"
        }
      },
      "outputs": [
        {
          "name": "stdout",
          "output_type": "stream",
          "text": [
            "number = 20\n",
            "number değişkeninin veri tipi object' dir.\n",
            "number2= 20\n",
            "number2 değişkeninin veri tipi number' dir.\n"
          ]
        }
      ],
      "source": [
        "%%javascript\n",
        "\n",
        "// number değişkeni nesne özellikli olup veri tipi object'dir.\n",
        "let number = new Number(20)\n",
        "\n",
        "console.log(\"number = \"+number)\n",
        "console.log(\"number değişkeninin veri tipi \"+typeof number+ \"' dir.\")\n",
        "\n",
        "let number2 = 20;\n",
        "\n",
        "console.log(\"number2= \"+number2)\n",
        "console.log(\"number2 değişkeninin veri tipi \" + typeof number2 + \"' dir.\")"
      ]
    },
    {
      "cell_type": "markdown",
      "metadata": {},
      "source": [
        "**❗ Object veri tipinde number kullanılması tavsiye edilmez. Özellikle mantıksal operatörlerin kullanıldığı expression'larda beklenmedik sonuçlar ile karşılaşabiliriz.**\n",
        "\n",
        "**Ek olarak kodları komplike hale getireceği için kod bloklarının yavaş çalışmasına neden olacaktır.**\n",
        "\n",
        "**Object veri tipindeki iki değişkenin kıyaslanması durumunda sonuç daima `false` olarak geri döner.**\n",
        "\n",
        "**Örnek**\n"
      ]
    },
    {
      "cell_type": "code",
      "execution_count": 51,
      "metadata": {
        "vscode": {
          "languageId": "javascript"
        }
      },
      "outputs": [
        {
          "name": "stdout",
          "output_type": "stream",
          "text": [
            "\u001b[33mfalse\u001b[39m\n"
          ]
        }
      ],
      "source": [
        "%%javascript\n",
        "\n",
        "const number = new String(\"Candan\");\n",
        "const number2 = new String(\"Murat\");\n",
        "\n",
        "/** \n",
        " * Her iki değişken türü object veri tipine sahip olsa da tür bakımından kıyaslandıklarında birbirine eşit değildirler. \n",
        " * Çünkü object veri tipine sahip değişkenler unique olma özelliği taşır.\n",
        " */\n",
        "console.log(number===number2)\n"
      ]
    },
    {
      "cell_type": "markdown",
      "metadata": {},
      "source": [
        "## JavaScript Number Metotları\n",
        "\n",
        "Bazen bir number değeri string ifadeye dönüştürmek, ... isteyebiliriz. JavaScript bize benzeri işlemleri yapmamızı sağlayan ön tanımlı metotlar sunar. Bu bölümde number değerler üzerinde işlemlerimizi kolaylaştıran sıkça kullanılan bir takım metotlara değineceğiz."
      ]
    },
    {
      "cell_type": "markdown",
      "metadata": {},
      "source": [
        "### `toString()` Metodu\n",
        "\n",
        "Number veri türündeki bir değeri string veri türüne çevirir.\n",
        "\n",
        "**Örnek**"
      ]
    },
    {
      "cell_type": "code",
      "execution_count": 3,
      "metadata": {
        "vscode": {
          "languageId": "javascript"
        }
      },
      "outputs": [
        {
          "name": "stdout",
          "output_type": "stream",
          "text": [
            "string\n"
          ]
        }
      ],
      "source": [
        "%%script node\n",
        "\n",
        "const num = 5;\n",
        "\n",
        "// num değişkeni string veri türüne çevrilecek ve veri tipi konsola yazdırılacaktır.\n",
        "console.log(typeof(num.toString()))"
      ]
    },
    {
      "cell_type": "markdown",
      "metadata": {},
      "source": [
        "### `toExponential()` Metodu\n",
        "\n",
        "Bir sayıyı üstel göstermek için kullanılır. Bu durumdaki bilimsel notasyonda temsil edilir. Sayı taban ve üst olmak üzere iki kısımdan oluşur.\n",
        "\n",
        "**Örnek**"
      ]
    },
    {
      "cell_type": "code",
      "execution_count": 9,
      "metadata": {
        "vscode": {
          "languageId": "javascript"
        }
      },
      "outputs": [
        {
          "name": "stdout",
          "output_type": "stream",
          "text": [
            "1.23456e+5\n"
          ]
        }
      ],
      "source": [
        "%%script node\n",
        "\n",
        "let num = 123456;\n",
        "\n",
        "// Bilimsel notasyonda sayı 10 üzeri 5'i temsil eder. (1.23456 x 10^5) \n",
        "let bilimselNot = num.toExponential();\n",
        "console.log(bilimselNot);"
      ]
    },
    {
      "cell_type": "markdown",
      "metadata": {},
      "source": [
        "`toExponential()`"
      ]
    },
    {
      "cell_type": "markdown",
      "metadata": {},
      "source": [
        "[^1]: 16'lık sayı sistemine verilen isimdir.\n",
        "[^2]: 8'lik sayı sistemine verilen isimdir.\n"
      ]
    }
  ],
  "metadata": {
    "kernelspec": {
      "display_name": "Python 3",
      "language": "python",
      "name": "python3"
    },
    "language_info": {
      "codemirror_mode": {
        "name": "ipython",
        "version": 3
      },
      "file_extension": ".py",
      "mimetype": "text/x-python",
      "name": "python",
      "nbconvert_exporter": "python",
      "pygments_lexer": "ipython3",
      "version": "3.10.12"
    }
  },
  "nbformat": 4,
  "nbformat_minor": 2
}
