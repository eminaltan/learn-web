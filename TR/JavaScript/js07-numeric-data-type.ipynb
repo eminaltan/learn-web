{
  "cells": [
    {
      "cell_type": "markdown",
      "metadata": {},
      "source": [
        "# JavaScript Number Veri Türü ve Veri Tİpi\n",
        "\n",
        "Merhaba arkadaşlar serinin bu bölümünde JavaScript'de **_number_** veri türlerini ve veri tiplerini inceleyeceğiz.\n",
        "\n",
        "Yazıda:\n",
        "\n",
        "- JavaScript'de number data type türünün kullanımına\n",
        "- Exponential notation kavramına\n",
        "- Numeric özellikli string veri tiplerine\n",
        "- Precision kavramı ve türlerine\n",
        "- `NaN` kavramına ve `isNan()` metodu kullanımına\n",
        "- Infinity keyword kullanımına\n",
        "- Hexadecimal değerlere\n",
        "- Object tipinde number türlerine\n",
        "\n",
        "Değineceğim.\n",
        "\n",
        "İyi okumalar dilerim.\n"
      ]
    },
    {
      "cell_type": "markdown",
      "metadata": {},
      "source": [
        "## JavaScript Number Veri Türleri\n",
        "\n",
        "JavaScript'de iki sayısal veri türü vardır. Bunlardan biri **_BigInt_** diğeri ise Number veri türüdür. Bu kısımda number veri türlerini inceleyeceğiz.\n",
        "\n",
        "JavaScript'de sayısal değerler ondalıklı veya tam sayı olarak ifade edilebilirler.\n",
        "\n",
        "**Örnek**\n"
      ]
    },
    {
      "cell_type": "code",
      "execution_count": 1,
      "metadata": {
        "vscode": {
          "languageId": "javascript"
        }
      },
      "outputs": [
        {
          "name": "stdout",
          "output_type": "stream",
          "text": [
            "\u001b[33mtrue\u001b[39m\n"
          ]
        }
      ],
      "source": [
        "%%script node\n",
        "// Her iki değişkenin depoladığı değer ve veri tipi bakımından aynıdır.\n",
        "let x = 20.0;\n",
        "let y = 20;\n",
        "\n",
        "// Konsola true ifadesi yazdırılacaktır.\n",
        "console.log(x === y);\n"
      ]
    },
    {
      "cell_type": "markdown",
      "metadata": {},
      "source": [
        "⚠️ Bir çok programlama dilinde sayısal değerler byte (8-bit), short (16-bit), int (32-bit), long (64-bit) olarak kategorize edilir.\n",
        "\n",
        "**JavaScript'de sayısal değerler daima double (64-bit floating point) özelliktedirler.**\n"
      ]
    },
    {
      "cell_type": "markdown",
      "metadata": {},
      "source": [
        "### Exponential Notation\n",
        "\n",
        "Çok büyük sayısal değerler bilimsel olarak ifade edilebilir.\n",
        "\n",
        "**Örnek**\n"
      ]
    },
    {
      "cell_type": "code",
      "execution_count": 2,
      "metadata": {
        "vscode": {
          "languageId": "javascript"
        }
      },
      "outputs": [
        {
          "name": "stdout",
          "output_type": "stream",
          "text": [
            "\u001b[33m12300000\u001b[39m\n",
            "\u001b[33m0.00123\u001b[39m\n"
          ]
        }
      ],
      "source": [
        "%%script node\n",
        "let y = 123e5;\n",
        "\n",
        "// 12300000 değeri konsola yazdırılır.\n",
        "console.log(y);\n",
        "\n",
        "let z = 123e-5; // 0.00123\n",
        "\n",
        "// 0.00123 değeri konsola yazdırılır.\n",
        "console.log(z);\n"
      ]
    },
    {
      "cell_type": "markdown",
      "metadata": {},
      "source": [
        "**⚠️ Matematiksel bir expression'a (ifadeye) string türünden bir veri türü dahil olduğunda sonucun string türünde oluşacağını unutmayın. Hatırlamak için [Javascript String Data Type](js06-string-data-type.ipynb#javascript-string-data-type) başlığına bakabilirsiniz.**\n",
        "\n",
        "**Bu durum sayısal string değerlerin kullanım yerlerine ve operatör türüne göre değişiklik gösterir. Detaylı bilgi almak için [JavaScript Numeric String Veri Tipleri](#javascript-numeric-string-veri-tipleri) başlığını ziyaret edebilirsiniz.**\n",
        "\n",
        "**Örnek**\n"
      ]
    },
    {
      "cell_type": "code",
      "execution_count": 3,
      "metadata": {
        "vscode": {
          "languageId": "javascript"
        }
      },
      "outputs": [
        {
          "name": "stdout",
          "output_type": "stream",
          "text": [
            "Sonuç: 1020\n"
          ]
        }
      ],
      "source": [
        "%%script node\n",
        "let x = 10;\n",
        "let y = 20;\n",
        "let z = \"Sonuç: \" + x + y;\n",
        "\n",
        "// Sonuç 1020 şeklinde ifade konsola yazdırılacaktır.\n",
        "console.log(z);\n"
      ]
    },
    {
      "cell_type": "markdown",
      "metadata": {},
      "source": [
        "### JavaScript Precision Kavramı ve Türleri\n",
        "\n",
        "JavaScript'de **_precision_**, sayıların ondalık basamaklarındaki hassasiyeti veya kesirli sayıların kaç basamakla temsil edildiğini belirtmek için kullanılan bir terimdir. Bu terim, özellikle hassasiyet gerektiren sayılarla yapılan matematiksel işlemlerde önemlidir.\n",
        "\n",
        "JavaScript'de 2 tür precision vardır:\n",
        "\n",
        "1. Integer\n",
        "\n",
        "2. Floating\n",
        "\n",
        "Şimdi bunları inceleyelim.\n"
      ]
    },
    {
      "cell_type": "markdown",
      "metadata": {},
      "source": [
        "#### Integer Precision\n",
        "\n",
        "Integer veri türleri ondalıklı veya bilimsel değer ile ifade edilmedikleri sürece 15 haneye kadar sayısal doğruluğa sahiptirler.\n",
        "\n",
        "**Örnek**\n"
      ]
    },
    {
      "cell_type": "code",
      "execution_count": 4,
      "metadata": {
        "vscode": {
          "languageId": "javascript"
        }
      },
      "outputs": [
        {
          "name": "stdout",
          "output_type": "stream",
          "text": [
            "\u001b[33m999999999999999\u001b[39m\n",
            "\u001b[33m10000000000000000\u001b[39m\n"
          ]
        }
      ],
      "source": [
        "%%script node\n",
        "let x = 999999999999999;\n",
        "\n",
        "// Konsola 999999999999999 değeri yazdırılır.\n",
        "console.log(x);\n",
        "\n",
        "let y = 9999999999999999;\n",
        "\n",
        "// Konsola 10000000000000000 değeri yazdırılır.\n",
        "console.log(y);\n"
      ]
    },
    {
      "cell_type": "markdown",
      "metadata": {},
      "source": [
        "Decimal değerlerinde maksimum ulaşabileceği hane sayısı 17'dir.\n"
      ]
    },
    {
      "cell_type": "markdown",
      "metadata": {},
      "source": [
        "#### Float Precision\n",
        "\n",
        "Ondalıklı değerler için kullanılır.\n",
        "\n",
        "**❗ Ondalık sayılarla yapılan aritmetiksel işlemlerin sonucu %100 doğru olmayabilir.**\n",
        "\n",
        "**Örnek**\n"
      ]
    },
    {
      "cell_type": "code",
      "execution_count": 5,
      "metadata": {
        "vscode": {
          "languageId": "javascript"
        }
      },
      "outputs": [
        {
          "name": "stdout",
          "output_type": "stream",
          "text": [
            "\u001b[33m0.30000000000000004\u001b[39m\n",
            "\u001b[33m0.3\u001b[39m\n"
          ]
        }
      ],
      "source": [
        "%%script node\n",
        "let x = 0.2 + 0.1;\n",
        "\n",
        "// 0.30000000000000004 değer konsola yazdırılacaktır.\n",
        "console.log(x);\n",
        "\n",
        "/**\n",
        " * Bu sorunu çözmek için ondalıklı sayı tam sayıya çevrilir\n",
        " * aritmetiksel işlem gerçekleştirilir ve son olarak elde edilen değer\n",
        " * ondalık değere dönüştürülmek için hangi sayısal sistemde kullanılacaksa o sayıya bölünür.\n",
        " */\n",
        "\n",
        "// Ondalık sayılar 10'luk sisteme çevriliyor.\n",
        "let y = (0.2 * 10 + 0.1 * 10) / 10;\n",
        "\n",
        "// 0.3 değeri konsola yazdırılacaktır.\n",
        "console.log(y);\n"
      ]
    },
    {
      "cell_type": "markdown",
      "metadata": {},
      "source": [
        "### JavaScript Numerik Özellikli String Değerler\n",
        "\n",
        "String veri türleri rakamlardan oluşabilir. Bu durumdaki string'ler **_numerik özellikli_** string değerler olarak ifade edilir.\n",
        "\n",
        "**❗ Numerik özellikli string değerler number veri tipine dönüştürülür ve aritmetiksel operatörler kullanılarak matematiksel işlemler gerçekleştirilebilir.**\n",
        "\n",
        "**Bu durum `+`  operatörü için geçerli değildir. `+` operatörünün string değerler için ekleme fonksiyonunu gerçekleştirdiğini hatırlayınız.**\n",
        "\n",
        "**Örnek**"
      ]
    },
    {
      "cell_type": "code",
      "execution_count": 1,
      "metadata": {
        "vscode": {
          "languageId": "javascript"
        }
      },
      "outputs": [
        {
          "name": "stdout",
          "output_type": "stream",
          "text": [
            "\u001b[33m10\u001b[39m\n",
            "\u001b[33m1000\u001b[39m\n",
            "\u001b[33m90\u001b[39m\n",
            "10010\n"
          ]
        }
      ],
      "source": [
        "%%script node\n",
        "let x = \"100\";\n",
        "let y = \"10\";\n",
        "\n",
        "// 10 rakamı konsola yazdırılacaktır.\n",
        "console.log(x / y);\n",
        "\n",
        "// 1000 rakamı konsola yazdırılacaktır.\n",
        "console.log(x * y);\n",
        "\n",
        "// 90 rakamı konsola yazdırılacaktır.\n",
        "console.log(x - y);\n",
        "\n",
        "// ⚠️ 10010 rakamı konsola yazdırılacaktır.\n",
        "console.log(x + y);\n"
      ]
    },
    {
      "cell_type": "markdown",
      "metadata": {},
      "source": [
        "### JavaScript `NaN` Not a Number Terimi\n",
        "\n",
        "`NaN` değeri JavaScript'de rezerv edilmiş bir keyword olup author tanımı işlemlerde kullanılamaz. (Örneğin bir değişken ismi `NaN` ile başlayamaz.)\n",
        "\n",
        "`NaN` değeri aritmetiksel işlem sonucunun sayısal veya rakamsal bir sonuç üretmediğini ifade etmek için kullanılır.\n",
        "\n",
        "**Örnek**\n"
      ]
    },
    {
      "cell_type": "code",
      "execution_count": 2,
      "metadata": {
        "vscode": {
          "languageId": "javascript"
        }
      },
      "outputs": [
        {
          "name": "stdout",
          "output_type": "stream",
          "text": [
            "\u001b[33mNaN\u001b[39m\n"
          ]
        }
      ],
      "source": [
        "%%script node\n",
        "/**\n",
        " * NaN ifadesi konsola yazdırılacaktır.\n",
        " * Çünkü 10/Kamyon expression'un sonucu sayısal veya rakamsal bir değer değildir.\n",
        " */\n",
        "console.log(10 / \"Kamyon\");\n"
      ]
    },
    {
      "cell_type": "markdown",
      "metadata": {},
      "source": [
        "**⚠️ Bu durum string değerin numerik özellikli olması durumunda değişir ve işlem sonuç verir.**\n",
        "\n",
        "**Örnek**\n"
      ]
    },
    {
      "cell_type": "code",
      "execution_count": 3,
      "metadata": {
        "vscode": {
          "languageId": "javascript"
        }
      },
      "outputs": [
        {
          "name": "stdout",
          "output_type": "stream",
          "text": [
            "\u001b[33m5\u001b[39m\n"
          ]
        }
      ],
      "source": [
        "%%script node\n",
        "// 5 rakamı konsola yazdırılır.\n",
        "console.log(100 / \"20\");\n"
      ]
    },
    {
      "cell_type": "markdown",
      "metadata": {},
      "source": [
        "Sonucu `NaN` olan bir ifade ile aritmetiksel işlem yaptığımızda sonuç yine `NaN` olacaktır.\n",
        "\n",
        "**Örnek**\n"
      ]
    },
    {
      "cell_type": "code",
      "execution_count": 4,
      "metadata": {
        "vscode": {
          "languageId": "javascript"
        }
      },
      "outputs": [
        {
          "name": "stdout",
          "output_type": "stream",
          "text": [
            "\u001b[33mNaN\u001b[39m\n"
          ]
        }
      ],
      "source": [
        "%%script node\n",
        "let x = NaN;\n",
        "\n",
        "let y = 10;\n",
        "\n",
        "let z = x + y;\n",
        "\n",
        "// Konsola NaN ifadesi yazdırılacaktır.\n",
        "console.log(z);\n"
      ]
    },
    {
      "cell_type": "markdown",
      "metadata": {},
      "source": [
        "`NaN` ifadesinin tipi number'dır. Eğer `typeOf()` metodunu `NaN` için kullanırsak konsola \"number\" ifadesi yazılır.\n",
        "\n",
        "**Örnek**\n"
      ]
    },
    {
      "cell_type": "code",
      "execution_count": 7,
      "metadata": {
        "vscode": {
          "languageId": "javascript"
        }
      },
      "outputs": [
        {
          "name": "stdout",
          "output_type": "stream",
          "text": [
            "number\n"
          ]
        }
      ],
      "source": [
        "%%script node\n",
        "// Konsola number ifadesi yazdırılacaktır.\n",
        "console.log(typeof NaN)\n"
      ]
    },
    {
      "cell_type": "markdown",
      "metadata": {},
      "source": [
        "Bir expression'un sonucunun `NaN` olup/olmadığını `isNaN()` metodu ile sorgulayabiliriz.\n",
        "\n",
        "Expression sonucu `NaN` değerini depolamışsa `isNaN()` fonksiyonu `true` aksi durumda `false` değerini geri dönderir.\n",
        "\n",
        "**Örnek**\n"
      ]
    },
    {
      "cell_type": "code",
      "execution_count": 8,
      "metadata": {
        "vscode": {
          "languageId": "javascript"
        }
      },
      "outputs": [
        {
          "name": "stdout",
          "output_type": "stream",
          "text": [
            "\u001b[33mtrue\u001b[39m\n",
            "\u001b[33mfalse\u001b[39m\n"
          ]
        }
      ],
      "source": [
        "%%script node\n",
        "// İşlemin sonucu NaN olarak sonuçlanacak ve NaN değer z değişkeninin içerisine depolanacaktır.\n",
        "let z = 20 / \"Kalem\";\n",
        "\n",
        "/**\n",
        " * z değişkeninin NaN özellikli olup/olmadığını isNaN() metodu ile sorgularız.\n",
        " * z değişkeni NaN özellik olması sebebi ile sonuç true olarak konsola yazdırılacaktır.\n",
        " */\n",
        "console.log(isNaN(z));\n",
        "\n",
        "let m = \"10\" / 5;\n",
        "\n",
        "// Konsola false ifadesi yazdırılacaktır. Çünkü işlemin sonucu bir değer üretiyor.\n",
        "console.log(isNaN(m));\n"
      ]
    },
    {
      "cell_type": "markdown",
      "metadata": {},
      "source": [
        "### JavaScript Infinity\n",
        "\n",
        "Bir değerin maksimum veya minimum alabileceği değeri ifade etmek için kullanılır.\n",
        "\n",
        "`infinity` keyword'u özellikle çıkış koşulunu tam olarak belirleyemediğimiz `while` döngülerinde faydalı olabilir.\n",
        "\n",
        "**Örnek**\n"
      ]
    },
    {
      "cell_type": "code",
      "execution_count": 9,
      "metadata": {
        "vscode": {
          "languageId": "javascript"
        }
      },
      "outputs": [
        {
          "name": "stdout",
          "output_type": "stream",
          "text": [
            "\u001b[33m4\u001b[39m\n",
            "\u001b[33m16\u001b[39m\n",
            "\u001b[33m256\u001b[39m\n",
            "\u001b[33m65536\u001b[39m\n",
            "\u001b[33m4294967296\u001b[39m\n",
            "\u001b[33m18446744073709552000\u001b[39m\n",
            "\u001b[33m3.402823669209385e+38\u001b[39m\n",
            "\u001b[33m1.157920892373162e+77\u001b[39m\n",
            "\u001b[33m1.3407807929942597e+154\u001b[39m\n",
            "\u001b[33mInfinity\u001b[39m\n"
          ]
        }
      ],
      "source": [
        "%%script node\n",
        "let myNumber = 2;\n",
        "\n",
        "/**\n",
        " * Sonuç infinity yani sonsuz değer olana kadar döngü çalışır.\n",
        " * Sonuç infinity olduğunda döngü sonlanır.\n",
        " */\n",
        "\n",
        "while (myNumber != Infinity) {\n",
        "  myNumber = myNumber * myNumber;\n",
        "  console.log(myNumber);\n",
        "}\n"
      ]
    },
    {
      "cell_type": "markdown",
      "metadata": {},
      "source": [
        "### JavaScript Hexadecimal\n",
        "\n",
        "**_Hexadecimal_**[^1] değerler JavaScript'de number özellikli veri türlerindendir.\n",
        "\n",
        "Hexadecimal değer otomatik olarak sayısal değere dönüştürülmeye çalışılır.\n",
        "\n",
        "**Örnek**\n"
      ]
    },
    {
      "cell_type": "code",
      "execution_count": 10,
      "metadata": {
        "vscode": {
          "languageId": "javascript"
        }
      },
      "outputs": [
        {
          "name": "stdout",
          "output_type": "stream",
          "text": [
            "\u001b[33m255\u001b[39m\n"
          ]
        }
      ],
      "source": [
        "%%script node\n",
        "// 255 rakamı konsola yazdırılır.\n",
        "console.log(0xff);\n"
      ]
    },
    {
      "cell_type": "markdown",
      "metadata": {},
      "source": [
        "**💡 Hexadecimal değerler arasında aritmetik operatörler kullanılabilir.**\n",
        "\n",
        "**Örnek**\n"
      ]
    },
    {
      "cell_type": "code",
      "execution_count": 13,
      "metadata": {
        "vscode": {
          "languageId": "javascript"
        }
      },
      "outputs": [
        {
          "name": "stderr",
          "output_type": "stream",
          "text": [
            "[stdin]:3\n",
            "console.log(parseInt(x 16))\n",
            "                     ^\n",
            "\n",
            "SyntaxError: missing ) after argument list\n",
            "\u001b[90m    at new Script (node:vm:93:7)\u001b[39m\n",
            "\u001b[90m    at createScript (node:vm:248:10)\u001b[39m\n",
            "\u001b[90m    at Object.runInThisContext (node:vm:296:10)\u001b[39m\n",
            "\u001b[90m    at node:internal/process/execution:83:21\u001b[39m\n",
            "    at [stdin]-wrapper:6:24\n",
            "\u001b[90m    at runScript (node:internal/process/execution:82:62)\u001b[39m\n",
            "\u001b[90m    at evalScript (node:internal/process/execution:104:10)\u001b[39m\n",
            "\u001b[90m    at node:internal/main/eval_stdin:31:5\u001b[39m\n",
            "\u001b[90m    at Socket.<anonymous> (node:internal/process/execution:205:5)\u001b[39m\n",
            "\u001b[90m    at Socket.emit (node:events:526:35)\u001b[39m\n",
            "\n",
            "Node.js v20.8.0\n"
          ]
        },
        {
          "ename": "CalledProcessError",
          "evalue": "Command 'b'// 204 rakam\\xc4\\xb1n\\xc4\\xb1n kar\\xc5\\x9f\\xc4\\xb1l\\xc4\\xb1\\xc4\\x9f\\xc4\\xb1\\nlet x = 0xcc;\\nconsole.log(parseInt(x 16))\\n\\n// 188 rakam\\xc4\\xb1n\\xc4\\xb1n kar\\xc5\\x9f\\xc4\\xb1l\\xc4\\xb1\\xc4\\x9f\\xc4\\xb1\\nlet y = 0xbc;\\n\\n// Konsola 16 rakam\\xc4\\xb1 yaz\\xc4\\xb1l\\xc4\\xb1r.\\nconsole.log(x - y);\\n\\n// Konsola 392 rakam\\xc4\\xb1 yaz\\xc4\\xb1l\\xc4\\xb1r.\\nconsole.log(x + y);\\n\\n// Konsola 38352 rakam\\xc4\\xb1 yaz\\xc4\\xb1l\\xc4\\xb1r.\\nconsole.log(x * y);\\n\\n// Konsola 1.0851063829787233 rakam\\xc4\\xb1 yaz\\xc4\\xb1l\\xc4\\xb1r.\\nconsole.log(x / y);\\n'' returned non-zero exit status 1.",
          "output_type": "error",
          "traceback": [
            "\u001b[0;31m---------------------------------------------------------------------------\u001b[0m",
            "\u001b[0;31mCalledProcessError\u001b[0m                        Traceback (most recent call last)",
            "\u001b[1;32m/TR/JavaScript/js07-numeric-data-type.ipynb Cell 32\u001b[0m line \u001b[0;36m1\n\u001b[0;32m----> <a href='vscode-notebook-cell:/TR/JavaScript/js07-numeric-data-type.ipynb?repo%3Deminaltan%2Flearn-web#X43scmVwbw%3D%3D?line=0'>1</a>\u001b[0m get_ipython()\u001b[39m.\u001b[39;49mrun_cell_magic(\u001b[39m'\u001b[39;49m\u001b[39mscript\u001b[39;49m\u001b[39m'\u001b[39;49m, \u001b[39m'\u001b[39;49m\u001b[39mnode\u001b[39;49m\u001b[39m'\u001b[39;49m, \u001b[39m'\u001b[39;49m\u001b[39m// 204 rakamının karşılığı\u001b[39;49m\u001b[39m\\n\u001b[39;49;00m\u001b[39mlet x = 0xcc;\u001b[39;49m\u001b[39m\\n\u001b[39;49;00m\u001b[39mconsole.log(parseInt(x 16))\u001b[39;49m\u001b[39m\\n\u001b[39;49;00m\u001b[39m\\n\u001b[39;49;00m\u001b[39m// 188 rakamının karşılığı\u001b[39;49m\u001b[39m\\n\u001b[39;49;00m\u001b[39mlet y = 0xbc;\u001b[39;49m\u001b[39m\\n\u001b[39;49;00m\u001b[39m\\n\u001b[39;49;00m\u001b[39m// Konsola 16 rakamı yazılır.\u001b[39;49m\u001b[39m\\n\u001b[39;49;00m\u001b[39mconsole.log(x - y);\u001b[39;49m\u001b[39m\\n\u001b[39;49;00m\u001b[39m\\n\u001b[39;49;00m\u001b[39m// Konsola 392 rakamı yazılır.\u001b[39;49m\u001b[39m\\n\u001b[39;49;00m\u001b[39mconsole.log(x + y);\u001b[39;49m\u001b[39m\\n\u001b[39;49;00m\u001b[39m\\n\u001b[39;49;00m\u001b[39m// Konsola 38352 rakamı yazılır.\u001b[39;49m\u001b[39m\\n\u001b[39;49;00m\u001b[39mconsole.log(x * y);\u001b[39;49m\u001b[39m\\n\u001b[39;49;00m\u001b[39m\\n\u001b[39;49;00m\u001b[39m// Konsola 1.0851063829787233 rakamı yazılır.\u001b[39;49m\u001b[39m\\n\u001b[39;49;00m\u001b[39mconsole.log(x / y);\u001b[39;49m\u001b[39m\\n\u001b[39;49;00m\u001b[39m'\u001b[39;49m)\n",
            "File \u001b[0;32m/usr/lib/python3.11/site-packages/IPython/core/interactiveshell.py:2493\u001b[0m, in \u001b[0;36mInteractiveShell.run_cell_magic\u001b[0;34m(self, magic_name, line, cell)\u001b[0m\n\u001b[1;32m   2491\u001b[0m \u001b[39mwith\u001b[39;00m \u001b[39mself\u001b[39m\u001b[39m.\u001b[39mbuiltin_trap:\n\u001b[1;32m   2492\u001b[0m     args \u001b[39m=\u001b[39m (magic_arg_s, cell)\n\u001b[0;32m-> 2493\u001b[0m     result \u001b[39m=\u001b[39m fn(\u001b[39m*\u001b[39;49margs, \u001b[39m*\u001b[39;49m\u001b[39m*\u001b[39;49mkwargs)\n\u001b[1;32m   2495\u001b[0m \u001b[39m# The code below prevents the output from being displayed\u001b[39;00m\n\u001b[1;32m   2496\u001b[0m \u001b[39m# when using magics with decorator @output_can_be_silenced\u001b[39;00m\n\u001b[1;32m   2497\u001b[0m \u001b[39m# when the last Python token in the expression is a ';'.\u001b[39;00m\n\u001b[1;32m   2498\u001b[0m \u001b[39mif\u001b[39;00m \u001b[39mgetattr\u001b[39m(fn, magic\u001b[39m.\u001b[39mMAGIC_OUTPUT_CAN_BE_SILENCED, \u001b[39mFalse\u001b[39;00m):\n",
            "File \u001b[0;32m/usr/lib/python3.11/site-packages/IPython/core/magics/script.py:314\u001b[0m, in \u001b[0;36mScriptMagics.shebang\u001b[0;34m(self, line, cell)\u001b[0m\n\u001b[1;32m    309\u001b[0m \u001b[39mif\u001b[39;00m args\u001b[39m.\u001b[39mraise_error \u001b[39mand\u001b[39;00m p\u001b[39m.\u001b[39mreturncode \u001b[39m!=\u001b[39m \u001b[39m0\u001b[39m:\n\u001b[1;32m    310\u001b[0m     \u001b[39m# If we get here and p.returncode is still None, we must have\u001b[39;00m\n\u001b[1;32m    311\u001b[0m     \u001b[39m# killed it but not yet seen its return code. We don't wait for it,\u001b[39;00m\n\u001b[1;32m    312\u001b[0m     \u001b[39m# in case it's stuck in uninterruptible sleep. -9 = SIGKILL\u001b[39;00m\n\u001b[1;32m    313\u001b[0m     rc \u001b[39m=\u001b[39m p\u001b[39m.\u001b[39mreturncode \u001b[39mor\u001b[39;00m \u001b[39m-\u001b[39m\u001b[39m9\u001b[39m\n\u001b[0;32m--> 314\u001b[0m     \u001b[39mraise\u001b[39;00m CalledProcessError(rc, cell)\n",
            "\u001b[0;31mCalledProcessError\u001b[0m: Command 'b'// 204 rakam\\xc4\\xb1n\\xc4\\xb1n kar\\xc5\\x9f\\xc4\\xb1l\\xc4\\xb1\\xc4\\x9f\\xc4\\xb1\\nlet x = 0xcc;\\nconsole.log(parseInt(x 16))\\n\\n// 188 rakam\\xc4\\xb1n\\xc4\\xb1n kar\\xc5\\x9f\\xc4\\xb1l\\xc4\\xb1\\xc4\\x9f\\xc4\\xb1\\nlet y = 0xbc;\\n\\n// Konsola 16 rakam\\xc4\\xb1 yaz\\xc4\\xb1l\\xc4\\xb1r.\\nconsole.log(x - y);\\n\\n// Konsola 392 rakam\\xc4\\xb1 yaz\\xc4\\xb1l\\xc4\\xb1r.\\nconsole.log(x + y);\\n\\n// Konsola 38352 rakam\\xc4\\xb1 yaz\\xc4\\xb1l\\xc4\\xb1r.\\nconsole.log(x * y);\\n\\n// Konsola 1.0851063829787233 rakam\\xc4\\xb1 yaz\\xc4\\xb1l\\xc4\\xb1r.\\nconsole.log(x / y);\\n'' returned non-zero exit status 1."
          ]
        }
      ],
      "source": [
        "%%script node\n",
        "// 204 rakamının karşılığı\n",
        "let x = 0xcc;\n",
        "console.log(parseInt(x 16))\n",
        "\n",
        "// 188 rakamının karşılığı\n",
        "let y = 0xbc;\n",
        "\n",
        "// Konsola 16 rakamı yazılır.\n",
        "console.log(x - y);\n",
        "\n",
        "// Konsola 392 rakamı yazılır.\n",
        "console.log(x + y);\n",
        "\n",
        "// Konsola 38352 rakamı yazılır.\n",
        "console.log(x * y);\n",
        "\n",
        "// Konsola 1.0851063829787233 rakamı yazılır.\n",
        "console.log(x / y);\n"
      ]
    },
    {
      "cell_type": "markdown",
      "metadata": {},
      "source": [
        "⚠️ Hexadecimal değerleri kullanırken `0` rakamından sonra sayısal bir değer kullanılmaması tavsiye edilir. (`07` gibi) Çünkü bazı JavaScript yorumlayıcıları bu durumda ifadeyi hexadecimal format olarak değil de **_octal_**[^2] format olarak yorumlar.\n"
      ]
    },
    {
      "cell_type": "markdown",
      "metadata": {},
      "source": [
        "### JavaScript Object Tipinde Number'lar\n",
        "\n",
        "JavaScript'de number variable'lar normalde ilkel veri tipleridir ve literaller tarafından oluşturulurlar.\n",
        "\n",
        "Ancak `new` keyword'u kullanılarak object tipinde number variable'lar tanımlanabilir.\n",
        "\n",
        "⚠️ Object tipinde oluşturulan number ile bir literal kullanılarak oluşturulan number variable'lar veri tipi olarak birbirlerinden farklıdırlar.\n",
        "\n",
        "**Örnek**\n"
      ]
    },
    {
      "cell_type": "code",
      "execution_count": null,
      "metadata": {
        "vscode": {
          "languageId": "javascript"
        }
      },
      "outputs": [],
      "source": [
        "// x variable'ı 355 rakamını depoluyor.\n",
        "let x = 535;\n",
        "\n",
        "// y variable'ı object veri tipide olup içeriğini 535 şeklinde tanımlıyoruz.\n",
        "let y = new Number(535);\n",
        "\n",
        "// number ifadesi konsola yazdırılacaktır. x variable number özelliklidir.\n",
        "console.log(typeof x);\n",
        "\n",
        "// object ifadesi konsola yazdırılacaktır. y variable object özelliklidir.\n",
        "console.log(typeof y);\n"
      ]
    },
    {
      "cell_type": "markdown",
      "metadata": {},
      "source": [
        "❗ Object tipinde number'ların kullanılması tavsiye edilmez. Özellikle mantıksal operatörlerin kullanıldığı expression'larda beklenmedik sonuçlar ile karşılaşabiliriz.\n",
        "\n",
        "Ek olarak kodları komplike hale getireceği için kod bloklarının yavaş çalışmasına neden olacaktır.\n",
        "\n",
        "**Object tipindeki iki variable'ın kıyaslanması durumunda sonuç daima `false` olarak geri döner.**\n",
        "\n",
        "**Örnek**\n"
      ]
    },
    {
      "cell_type": "code",
      "execution_count": null,
      "metadata": {
        "vscode": {
          "languageId": "javascript"
        }
      },
      "outputs": [],
      "source": [
        "let x = 500;\n",
        "let y = new Number(500);\n",
        "\n",
        "// x ve y variable'ı aynı veriyi depolamaları sebebi ile geri dönen değer true olacaktır.\n",
        "console.log(x == y);\n",
        "\n",
        "/**\n",
        " * x ve y variable'ı aynı veriyi depolamalarına rağmen farklı veri tipine sahip olduklarından\n",
        " * geri dönen değer false olacaktır.\n",
        " */\n",
        "console.log(x === y);\n",
        "\n",
        "let m = new String(800);\n",
        "let n = new String(800);\n",
        "\n",
        "/**\n",
        " * m ve n her ikisi de aynı türde veri ve aynı değeri tutmasına rağmen konsola false değeri yazdırılacaktır.\n",
        " * Çünkü object tipindeki variable'lar arasında kıyaslama yapılamaz.\n",
        " */\n",
        "console.log(m === n);\n"
      ]
    },
    {
      "cell_type": "markdown",
      "metadata": {},
      "source": [
        "[^1]: 16'lık sayı sistemine verilen isimdir.\n",
        "\n",
        "[^2]: 8'lik sayı sistemine verilen isimdir.\n"
      ]
    }
  ],
  "metadata": {
    "kernelspec": {
      "display_name": "Python 3",
      "language": "python",
      "name": "python3"
    },
    "language_info": {
      "codemirror_mode": {
        "name": "ipython",
        "version": 3
      },
      "file_extension": ".py",
      "mimetype": "text/x-python",
      "name": "python",
      "nbconvert_exporter": "python",
      "pygments_lexer": "ipython3",
      "version": "3.11.5"
    }
  },
  "nbformat": 4,
  "nbformat_minor": 2
}
