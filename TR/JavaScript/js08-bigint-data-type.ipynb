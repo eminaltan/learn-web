{
  "cells": [
    {
      "cell_type": "markdown",
      "metadata": {},
      "source": [
        "# JavaScript'de BigInt'ler\n",
        "\n",
        "Merhaba arkadaşlar serinin bu bölümünde JavaScript'de BigInt data type'ları inceleyeceğiz.\n",
        "\n",
        "Yazıda:\n",
        "\n",
        "- JavaScript'de BigInt data type türünün kullanımına\n",
        "- Aritmetiksel operatörleri BigInt data type'ı ile birlikte kullanılmasına\n",
        "- BigInt data type'ın matematiksel işlemlerde kullanımına\n",
        "- BigInt'lerin hexadecimal, binary veya octal gibi sayısal düzenlerde ifade edilişlerine\n",
        "\n",
        "Değineceğim.\n",
        "\n",
        "İyi okumalar dilerim.\n"
      ]
    },
    {
      "cell_type": "markdown",
      "metadata": {},
      "source": [
        "## JavaScript BigInt Veri Türü\n",
        "\n",
        "JavaScript'de iki sayısal veri türü vardır. Bunlardan biri **_BigInt_** diğeri ise **_Number_** veri türüdür. Bu kısımda BigInt veri türünü inceleyeceğiz.\n",
        "\n",
        "BıgInt veri türü primitive özelliklidir ve **_immutable_** yapıdadırlar yani değiştirilemezler.\n",
        "\n",
        "JavaScript'de BıgInt değerler ondalıklı olarak ifade **edilemezler.**\n",
        "\n",
        "JavaScript BigInt türündeki değişkenler büyük tam sayı türündeki değerleri depolamaya yarar. JavaScript'de tam sayı değerlerin hassasiyeti 15 haneye kadardır.\n",
        "\n",
        "BigInt veri tipi ES2020 JavaScript'e dahil olmuştur. Bu sebeple 2020 öncesi release edilen tarayıcılarda çalışmayabilir.\n",
        "\n",
        "BigInt türünde bir değer oluşturmak için `BigInt()` metodu veya variable değerinin sonuna `n` ifadesi yerleştirilir.\n",
        "\n",
        "\n",
        "\n",
        "\n",
        "\n",
        "**Örnek**\n",
        "\n",
        "\n",
        "**Örnek**\n"
      ]
    },
    {
      "cell_type": "code",
      "execution_count": null,
      "metadata": {
        "vscode": {
          "languageId": "javascript"
        }
      },
      "outputs": [],
      "source": [
        "// x variable'ı integer tipinde bir number özelliği taşır.\n",
        "let x = 9999999999999999;\n",
        "\n",
        "// y variable'ı BigInt tipinde bir number özelliği taşır.\n",
        "let y = 9999999999999999n;\n",
        "\n",
        "// Veya BigInt() metodunu kullanarak da BigInt türünde deklarasyon yapabiliriz.\n",
        "let z = BigInt(1234567890123456789012345);\n",
        "\n",
        "// Konsola bigint ifadesi yazdırılır. z variable'ın veri tipi bigint'dir.\n",
        "console.log(typeof z);\n"
      ]
    },
    {
      "cell_type": "markdown",
      "metadata": {},
      "source": [
        "JavaScript'de 2 tür numerik veri tipi vardır bunlardan biri [Number'lar](js05-data-types.ipynb) diğeri ise BigInt'lerdir.\n",
        "\n",
        "⚠️ `/` operatörü dışında diğer aritmetiksel operatörler BigInt türündeki variable'lar için kullanılabilirler. `/` operatörünün kullanılamamasının nedeni BigInt veri tipi ondalıklı sayıları desteklememesidir.\n",
        "\n",
        "Şayet BigInt özellikli bir variable için `/` operatörü kullanılacaksa variable number özellikli veri tipine dönüştürülür sonra işlem yapılır.\n",
        "\n",
        "**Örnekler**\n"
      ]
    },
    {
      "cell_type": "code",
      "execution_count": null,
      "metadata": {
        "vscode": {
          "languageId": "javascript"
        }
      },
      "outputs": [],
      "source": [
        "// Aşağıdaki örnekte iki bigint özellikli variable için çarpma işlemi yapılıyor.\n",
        "\n",
        "let x = 9007199254740995n;\n",
        "let y = 9007199254740995n;\n",
        "let z = x * y;\n",
        "\n",
        "// 81129638414606735738984533590025n ifadesi konsola yazılır.\n",
        "console.log(z);\n"
      ]
    },
    {
      "cell_type": "code",
      "execution_count": null,
      "metadata": {
        "vscode": {
          "languageId": "javascript"
        }
      },
      "outputs": [],
      "source": [
        "// Aşağıdaki örnekte iki bigint özellikli variable için bölme işlemi yapılıyor.\n",
        "\n",
        "let x = 5n;\n",
        "let y = x / 2;\n",
        "\n",
        "// TypeError: Cannot mix BigInt and other types, use explicit conversions hatası ile karşılaşırız.\n",
        "console.log(y);\n",
        "\n",
        "/**\n",
        " * BigInt veri tipine sahip x variable'ı ilk baş number özellikli bir veri türüne dönüştürülüyor\n",
        " * sonra işlem yapılıyor ve elde edilen değer z variable'ına depolanıyor.\n",
        " */\n",
        "let z = Number(x) / 2;\n",
        "\n",
        "console.log(z);\n"
      ]
    },
    {
      "cell_type": "markdown",
      "metadata": {},
      "source": [
        "⚠️ BigInt türündeki bir variable number özellikli variable convert edildiğinde (dönüştürüldüğünde) veri kayıpları söz konusu olacaktır.\n",
        "\n",
        "BigInt veri türleri hexadecimal, octal veya binary notasyonu ile ifade edilebilirler.\n",
        "\n",
        "**Örnek**\n"
      ]
    },
    {
      "cell_type": "code",
      "execution_count": null,
      "metadata": {
        "vscode": {
          "languageId": "javascript"
        }
      },
      "outputs": [],
      "source": [
        "// Hexadecimal kullanımı\n",
        "let hexadecimal = 0x20000000000006n;\n",
        "\n",
        "// Octal kullanımı\n",
        "let octal = 0o400000000000000006n;\n",
        "\n",
        "// Binary kullanımı\n",
        "let binary = 0b100000000000000000000000000000000000000000000000000011n;\n"
      ]
    }
  ],
  "metadata": {
    "kernelspec": {
      "display_name": "Python 3",
      "language": "python",
      "name": "python3"
    },
    "language_info": {
      "codemirror_mode": {
        "name": "ipython",
        "version": 3
      },
      "file_extension": ".py",
      "mimetype": "text/x-python",
      "name": "python",
      "nbconvert_exporter": "python",
      "pygments_lexer": "ipython3",
      "version": "3.10.12"
    }
  },
  "nbformat": 4,
  "nbformat_minor": 2
}
