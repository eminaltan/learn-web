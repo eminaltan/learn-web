{
  "cells": [
    {
      "cell_type": "markdown",
      "metadata": {},
      "source": [
        "# JavaScript'de BigInt'ler\n",
        "\n",
        "Merhaba arkadaşlar serinin bu bölümünde JavaScript'de BigInt data type'ları inceleyeceğiz.\n",
        "\n",
        "Yazıda:\n",
        "\n",
        "- JavaScript'de BigInt data type türünün kullanımına\n",
        "- Aritmetiksel operatörleri BigInt data type'ı ile birlikte kullanılmasına\n",
        "- BigInt data type'ın matematiksel işlemlerde kullanımına\n",
        "- BigInt'lerin hexadecimal, binary veya octal gibi sayısal düzenlerde ifade edilişlerine\n",
        "\n",
        "Değineceğim.\n",
        "\n",
        "İyi okumalar dilerim.\n"
      ]
    },
    {
      "cell_type": "markdown",
      "metadata": {},
      "source": [
        "## JavaScript BigInt Veri Türü\n",
        "\n",
        "JavaScript'de iki sayısal veri türü vardır. Bunlardan biri **_BigInt_** diğeri ise **_Number_** veri türüdür. Bu kısımda BigInt veri türünü inceleyeceğiz.\n",
        "\n",
        "BıgInt veri türü primitive özelliklidir ve **_immutable_** yapıdadırlar yani değiştirilemezler.\n",
        "\n",
        "JavaScript'de BıgInt değerler ondalıklı olarak ifade **edilemezler.**\n",
        "\n",
        "JavaScript BigInt türündeki değişkenler büyük tam sayı türündeki değerleri depolamaya yarar. JavaScript'de tam sayı değerlerin hassasiyeti 15 haneye kadardır.\n",
        "\n",
        "BigInt veri tipi ES2020 JavaScript'e dahil olmuştur. Bu sebeple 2020 öncesi release edilen tarayıcılarda çalışmayabilir.\n",
        "\n",
        "BigInt türünde bir değer oluşturmak için `BigInt()` metodu veya değerinin sonuna `n` ifadesi yerleştirilir.\n",
        "\n",
        "**Örnek**\n"
      ]
    },
    {
      "cell_type": "code",
      "execution_count": 3,
      "metadata": {
        "vscode": {
          "languageId": "javascript"
        }
      },
      "outputs": [],
      "source": [
        "%%script node\n",
        "// bigint1 değişkeninin veri türü BigInt'dir.\n",
        "let bigint1 = 9999999999999999n;\n",
        "\n",
        "//  BigInt() metodunu kullanarak da BigInt veri türünde değer tanımlayabiliriz.\n",
        "let bigint2 = BigInt(1234567890123456789012345);\n"
      ]
    },
    {
      "cell_type": "markdown",
      "metadata": {},
      "source": [
        "**⚠️ `/` operatörü dışında diğer aritmetiksel operatörler BigInt veri türünde kullanılabilir.  `/` operatörünün kullanılmamasının nedeni BigInt veri türünün ondalıklı sayıları desteklememesidir.**\n",
        "\n",
        "**Şayet BigInt özellikli bir değişken için `/` operatörü kullanılacaksa değişken number özellikli veri türüne dönüştürülür sonra işlem yapılır.**\n",
        "\n",
        "**Örnek**\n",
        "\n",
        " Aşağıdaki örnekte iki bigint özellikli değişken için çarpma işlemi yapılıyor."
      ]
    },
    {
      "cell_type": "code",
      "execution_count": 4,
      "metadata": {
        "vscode": {
          "languageId": "javascript"
        }
      },
      "outputs": [
        {
          "name": "stdout",
          "output_type": "stream",
          "text": [
            "\u001b[33m81129638414606735738984533590025n\u001b[39m\n"
          ]
        }
      ],
      "source": [
        "%%script node\n",
        "\n",
        "let x = 9007199254740995n;\n",
        "let y = 9007199254740995n;\n",
        "let z = x * y;\n",
        "\n",
        "// 81129638414606735738984533590025n ifadesi konsola yazılır.\n",
        "console.log(z);\n"
      ]
    },
    {
      "cell_type": "code",
      "execution_count": 17,
      "metadata": {
        "vscode": {
          "languageId": "javascript"
        }
      },
      "outputs": [
        {
          "name": "stderr",
          "output_type": "stream",
          "text": [
            "[stdin]:4\n",
            "let y = x / 2;\n",
            "          ^\n",
            "\n",
            "TypeError: Cannot mix BigInt and other types, use explicit conversions\n",
            "    at [stdin]:4:11\n",
            "\u001b[90m    at Script.runInThisContext (node:vm:122:12)\u001b[39m\n",
            "\u001b[90m    at Object.runInThisContext (node:vm:296:38)\u001b[39m\n",
            "\u001b[90m    at node:internal/process/execution:83:21\u001b[39m\n",
            "    at [stdin]-wrapper:6:24\n",
            "\u001b[90m    at runScript (node:internal/process/execution:82:62)\u001b[39m\n",
            "\u001b[90m    at evalScript (node:internal/process/execution:104:10)\u001b[39m\n",
            "\u001b[90m    at node:internal/main/eval_stdin:31:5\u001b[39m\n",
            "\u001b[90m    at Socket.<anonymous> (node:internal/process/execution:205:5)\u001b[39m\n",
            "\u001b[90m    at Socket.emit (node:events:526:35)\u001b[39m\n",
            "\n",
            "Node.js v20.8.0\n"
          ]
        },
        {
          "ename": "CalledProcessError",
          "evalue": "Command 'b'\\nlet x = 5n;\\n\\nlet y = x / 2;\\n\\n// TypeError: Cannot mix BigInt and other types, use explicit conversions hatas\\xc4\\xb1 ile kar\\xc5\\x9f\\xc4\\xb1la\\xc5\\x9f\\xc4\\xb1r\\xc4\\xb1z.\\nconsole.log(y);\\n'' returned non-zero exit status 1.",
          "output_type": "error",
          "traceback": [
            "\u001b[0;31m---------------------------------------------------------------------------\u001b[0m",
            "\u001b[0;31mCalledProcessError\u001b[0m                        Traceback (most recent call last)",
            "\u001b[1;32m/TR/JavaScript/js08-bigint-data-type.ipynb Cell 6\u001b[0m line \u001b[0;36m1\n\u001b[0;32m----> <a href='vscode-notebook-cell:/TR/JavaScript/js08-bigint-data-type.ipynb?repo%3Deminaltan%2Flearn-web#W5scmVwbw%3D%3D?line=0'>1</a>\u001b[0m get_ipython()\u001b[39m.\u001b[39;49mrun_cell_magic(\u001b[39m'\u001b[39;49m\u001b[39mscript\u001b[39;49m\u001b[39m'\u001b[39;49m, \u001b[39m'\u001b[39;49m\u001b[39mnode\u001b[39;49m\u001b[39m'\u001b[39;49m, \u001b[39m'\u001b[39;49m\u001b[39m\\n\u001b[39;49;00m\u001b[39mlet x = 5n;\u001b[39;49m\u001b[39m\\n\u001b[39;49;00m\u001b[39m\\n\u001b[39;49;00m\u001b[39mlet y = x / 2;\u001b[39;49m\u001b[39m\\n\u001b[39;49;00m\u001b[39m\\n\u001b[39;49;00m\u001b[39m// TypeError: Cannot mix BigInt and other types, use explicit conversions hatası ile karşılaşırız.\u001b[39;49m\u001b[39m\\n\u001b[39;49;00m\u001b[39mconsole.log(y);\u001b[39;49m\u001b[39m\\n\u001b[39;49;00m\u001b[39m'\u001b[39;49m)\n",
            "File \u001b[0;32m/usr/lib/python3.11/site-packages/IPython/core/interactiveshell.py:2493\u001b[0m, in \u001b[0;36mInteractiveShell.run_cell_magic\u001b[0;34m(self, magic_name, line, cell)\u001b[0m\n\u001b[1;32m   2491\u001b[0m \u001b[39mwith\u001b[39;00m \u001b[39mself\u001b[39m\u001b[39m.\u001b[39mbuiltin_trap:\n\u001b[1;32m   2492\u001b[0m     args \u001b[39m=\u001b[39m (magic_arg_s, cell)\n\u001b[0;32m-> 2493\u001b[0m     result \u001b[39m=\u001b[39m fn(\u001b[39m*\u001b[39;49margs, \u001b[39m*\u001b[39;49m\u001b[39m*\u001b[39;49mkwargs)\n\u001b[1;32m   2495\u001b[0m \u001b[39m# The code below prevents the output from being displayed\u001b[39;00m\n\u001b[1;32m   2496\u001b[0m \u001b[39m# when using magics with decorator @output_can_be_silenced\u001b[39;00m\n\u001b[1;32m   2497\u001b[0m \u001b[39m# when the last Python token in the expression is a ';'.\u001b[39;00m\n\u001b[1;32m   2498\u001b[0m \u001b[39mif\u001b[39;00m \u001b[39mgetattr\u001b[39m(fn, magic\u001b[39m.\u001b[39mMAGIC_OUTPUT_CAN_BE_SILENCED, \u001b[39mFalse\u001b[39;00m):\n",
            "File \u001b[0;32m/usr/lib/python3.11/site-packages/IPython/core/magics/script.py:314\u001b[0m, in \u001b[0;36mScriptMagics.shebang\u001b[0;34m(self, line, cell)\u001b[0m\n\u001b[1;32m    309\u001b[0m \u001b[39mif\u001b[39;00m args\u001b[39m.\u001b[39mraise_error \u001b[39mand\u001b[39;00m p\u001b[39m.\u001b[39mreturncode \u001b[39m!=\u001b[39m \u001b[39m0\u001b[39m:\n\u001b[1;32m    310\u001b[0m     \u001b[39m# If we get here and p.returncode is still None, we must have\u001b[39;00m\n\u001b[1;32m    311\u001b[0m     \u001b[39m# killed it but not yet seen its return code. We don't wait for it,\u001b[39;00m\n\u001b[1;32m    312\u001b[0m     \u001b[39m# in case it's stuck in uninterruptible sleep. -9 = SIGKILL\u001b[39;00m\n\u001b[1;32m    313\u001b[0m     rc \u001b[39m=\u001b[39m p\u001b[39m.\u001b[39mreturncode \u001b[39mor\u001b[39;00m \u001b[39m-\u001b[39m\u001b[39m9\u001b[39m\n\u001b[0;32m--> 314\u001b[0m     \u001b[39mraise\u001b[39;00m CalledProcessError(rc, cell)\n",
            "\u001b[0;31mCalledProcessError\u001b[0m: Command 'b'\\nlet x = 5n;\\n\\nlet y = x / 2;\\n\\n// TypeError: Cannot mix BigInt and other types, use explicit conversions hatas\\xc4\\xb1 ile kar\\xc5\\x9f\\xc4\\xb1la\\xc5\\x9f\\xc4\\xb1r\\xc4\\xb1z.\\nconsole.log(y);\\n'' returned non-zero exit status 1."
          ]
        }
      ],
      "source": [
        "%%script node\n",
        "\n",
        "let x = 5n;\n",
        "\n",
        "let y = x / 2;\n",
        "\n",
        "// TypeError: Cannot mix BigInt and other types, use explicit conversions hatası ile karşılaşırız.\n",
        "console.log(y);"
      ]
    },
    {
      "cell_type": "code",
      "execution_count": 5,
      "metadata": {
        "vscode": {
          "languageId": "javascript"
        }
      },
      "outputs": [
        {
          "name": "stdout",
          "output_type": "stream",
          "text": [
            "\u001b[33m2.5\u001b[39m\n",
            "number\n"
          ]
        }
      ],
      "source": [
        "%%script node\n",
        "\n",
        "let x = 5n;\n",
        "\n",
        "/**\n",
        " * BigInt veri tipine sahip x değişkeni ilk baş number veri türüne dönüştürülüyor\n",
        " * sonra işlem yapılıyor ve elde edilen sonuç y değişkenine depolanıyor.\n",
        " * \n",
        " * ⚠️ y değişkenin veri tipi number olduğuna dikkat edelim.\n",
        " */\n",
        "let y = Number(x) / 2;\n",
        "\n",
        "console.log(y);\n",
        "console.log(typeof y)"
      ]
    },
    {
      "cell_type": "markdown",
      "metadata": {},
      "source": [
        "**⚠️ BigInt türündeki bir değişken number türündeki bir değişkene convert edildiğinde (dönüştürüldüğünde) veri kayıpları söz konusu olacaktır.**\n",
        "\n",
        "BigInt veri türleri hexadecimal, octal veya binary notasyonu ile ifade edilebilirler.\n",
        "\n",
        "**Örnek**\n"
      ]
    },
    {
      "cell_type": "code",
      "execution_count": 14,
      "metadata": {
        "vscode": {
          "languageId": "javascript"
        }
      },
      "outputs": [
        {
          "name": "stdout",
          "output_type": "stream",
          "text": [
            "Hexadecimal değerin BigInt karşlığı = 9007199254740998\n",
            "octal değerin BigInt karşlığı = 9007199254740998\n",
            "binary değerin BigInt karşlığı = 9007199254740995\n"
          ]
        }
      ],
      "source": [
        "%%script node\n",
        "\n",
        "// Hexadecimal kullanımı\n",
        "let hexadecimal = 0x20000000000006n;\n",
        "\n",
        "// Octal kullanımı\n",
        "let octal = 0o400000000000000006n;\n",
        "\n",
        "// Binary kullanımı\n",
        "let binary = 0b100000000000000000000000000000000000000000000000000011n;\n",
        "\n",
        "console.log(\"Hexadecimal değerin BigInt karşlığı = \"+ hexadecimal)\n",
        "console.log(\"octal değerin BigInt karşlığı = \"+ octal)\n",
        "console.log(\"binary değerin BigInt karşlığı = \"+ binary)"
      ]
    },
    {
      "cell_type": "markdown",
      "metadata": {},
      "source": [
        "## JavaScript BıgInt Veri Tipi\n",
        "\n",
        "BıgInt veri türü özellikli değişkenlerin veri tipleri de bigint olacaktır.\n",
        "\n",
        "**Örnek**"
      ]
    },
    {
      "cell_type": "code",
      "execution_count": 16,
      "metadata": {
        "vscode": {
          "languageId": "javascript"
        }
      },
      "outputs": [
        {
          "name": "stdout",
          "output_type": "stream",
          "text": [
            "value'un veri tipi bigint dir.\n",
            "value2'nin veri tipi bigint dir.\n"
          ]
        }
      ],
      "source": [
        "%%script node\n",
        "// bigint1 değişkeninin veri türü BigInt'dir.\n",
        "let value = 9999999999999999n;\n",
        "\n",
        "//  BigInt() metodunu kullanarak da BigInt veri türünde değer tanımlayabiliriz.\n",
        "let value2 = BigInt(1234567890123456789012345);\n",
        "\n",
        "\n",
        "console.log(\"value'un veri tipi \" + typeof value + \" dir.\")\n",
        "console.log (\"value2'nin veri tipi \"+ typeof value2+ \" dir.\")"
      ]
    }
  ],
  "metadata": {
    "kernelspec": {
      "display_name": "Python 3",
      "language": "python",
      "name": "python3"
    },
    "language_info": {
      "codemirror_mode": {
        "name": "ipython",
        "version": 3
      },
      "file_extension": ".py",
      "mimetype": "text/x-python",
      "name": "python",
      "nbconvert_exporter": "python",
      "pygments_lexer": "ipython3",
      "version": "3.11.5"
    }
  },
  "nbformat": 4,
  "nbformat_minor": 2
}
