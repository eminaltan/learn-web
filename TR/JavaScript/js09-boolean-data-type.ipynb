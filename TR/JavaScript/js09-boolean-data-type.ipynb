{
  "cells": [
    {
      "cell_type": "markdown",
      "metadata": {},
      "source": [
        "# JavaScript Boolean Veri Türü ve Tipi\n",
        "\n",
        "Merhaba arkadaşlar serinin bu bölümünde JavaScript'de **_boolean_** veri türünü ve veri tipini inceleyeceğiz.\n",
        "\n",
        "Yazıda:\n",
        "\n",
        "- Boolean veri türüne ve veri tipine.\n",
        "- Sonucu `false` olan ifadelere.\n",
        "- Object tipindeki boolean türlerine.\n",
        "\n",
        "Değineceğim.\n",
        "\n",
        "İyi okumalar dilerim.\n"
      ]
    },
    {
      "cell_type": "markdown",
      "metadata": {},
      "source": [
        "## JavaScript Boolean Veri Türü\n",
        "\n",
        "Genelde mantıksal expression'larda kullanılır.\n",
        "\n",
        "Expression sonucuna göre programın akışını yönlendirir.\n",
        "\n",
        "Boolean ifadeler expression'un sonucuna göre değer döndürür. Expression sonucu doğruysa döndürülecek değer `true` yanlışsa `false` olacaktır.\n",
        "\n",
        "**Örnek**\n"
      ]
    },
    {
      "cell_type": "code",
      "execution_count": 24,
      "metadata": {
        "vscode": {
          "languageId": "javascript"
        }
      },
      "outputs": [
        {
          "name": "stdout",
          "output_type": "stream",
          "text": [
            "x'in değeri = false\n",
            "y'in değeri = true\n"
          ]
        }
      ],
      "source": [
        "%%javascript\n",
        "let x = false;\n",
        "let y = true;\n",
        "\n",
        "console.log(\"x'in değeri = \"+x);\n",
        "console.log(\"y'in değeri = \"+y);\n"
      ]
    },
    {
      "cell_type": "markdown",
      "metadata": {},
      "source": [
        "**💡 Bazen bir statement'in boolean sonucunu merak edebiliriz. Bunun için `Boolean()` metodundan faydalanabiliriz.**\n",
        "\n",
        "Bu özellikle debug işlemlerinde veya sonucunu tahmin edemediğimiz kompleks condition'lar yazarken faydalı olur.\n",
        "\n",
        "**Örnek**\n"
      ]
    },
    {
      "cell_type": "code",
      "execution_count": 25,
      "metadata": {
        "vscode": {
          "languageId": "javascript"
        }
      },
      "outputs": [
        {
          "name": "stdout",
          "output_type": "stream",
          "text": [
            "\u001b[33mtrue\u001b[39m\n",
            "\u001b[33mtrue\u001b[39m\n"
          ]
        }
      ],
      "source": [
        "%%javascript\n",
        "// Konsola true ifade yazdırılır.\n",
        "console.log(Boolean(8 > 4));\n",
        "\n",
        "// Sadeleştirebiliriz yine konsola true ifadesi yazdırılacaktır.\n",
        "console.log(8 > 4);\n"
      ]
    },
    {
      "cell_type": "markdown",
      "metadata": {},
      "source": [
        "### Sonucu Daima `false` Olan İfadeler\n",
        "\n",
        "Aşağıdaki ifadelerin hepsi boolean veri tipi göz önüne alınarak düşünüldüğünde `false` değerini üretir:\n",
        "\n",
        "1. Değişkenin depoladığı değer `0` rakamı olduğunda.\n",
        "\n",
        "2. Değişkenin depoladığı değer `-0` rakamı olduğunda. Çünkü `-0`'ın karşılığı yoktur.\n",
        "\n",
        "3. Değişkenin depoladığı değer empty string olduğunda. Yani `\"\"` arasında bir değere yer verilmediğinde.\n",
        "\n",
        "4. Değişkene değer atanmadığında varsayılan olarak depolayacağı değer `undefined` olacaktır. Bu durumdaki değişkenin boolean değeri `false` olur.\n",
        "\n",
        "5. Değişkenin değeri `null` olduğunda.\n",
        "\n",
        "6. Değişkene `false` değeri depolandığında.\n",
        "\n",
        "7. Aritmetiksel bir işlemin sonucu `NaN` olduğunda.\n",
        "\n",
        "**Örnekler**\n"
      ]
    },
    {
      "cell_type": "code",
      "execution_count": 26,
      "metadata": {
        "vscode": {
          "languageId": "javascript"
        }
      },
      "outputs": [
        {
          "name": "stdout",
          "output_type": "stream",
          "text": [
            "x değerinin depoladığı değer false 'dır.\n",
            "x2 değerinin depoladığı değer false 'dır.\n",
            "x3 değerinin depoladığı değer false 'dır.\n",
            "x4 değerinin depoladığı değer false 'dır.\n",
            "x5 değerinin depoladığı değer false 'dır.\n",
            "x6 değerinin depoladığı değer false 'dır.\n",
            "x7 değerinin depoladığı değer false 'dır.\n"
          ]
        }
      ],
      "source": [
        "%%javascript\n",
        "let x = 0;\n",
        "\n",
        "console.log(\"x değerinin depoladığı değer \"+Boolean(x)+\" 'dır.\");\n",
        "\n",
        "let x2 = -0;\n",
        "\n",
        "console.log(\"x2 değerinin depoladığı değer \"+Boolean(x2)+\" 'dır.\");\n",
        "\n",
        "let x3 = \"\";\n",
        "\n",
        "console.log(\"x3 değerinin depoladığı değer \"+Boolean(x3)+\" 'dır.\");\n",
        "\n",
        "let x4;\n",
        "\n",
        "console.log(\"x4 değerinin depoladığı değer \"+Boolean(x4)+\" 'dır.\");\n",
        "\n",
        "let x5 = null;\n",
        "\n",
        "console.log(\"x5 değerinin depoladığı değer \"+Boolean(x5)+\" 'dır.\");\n",
        "\n",
        "let x6 = false;\n",
        "\n",
        "console.log(\"x6 değerinin depoladığı değer \"+Boolean(x6)+\" 'dır.\");\n",
        "\n",
        "let x7 = 10 / \"Kalem\";\n",
        "\n",
        "console.log(\"x7 değerinin depoladığı değer \"+Boolean(x7)+\" 'dır.\");"
      ]
    },
    {
      "cell_type": "markdown",
      "metadata": {},
      "source": [
        "## JavaScript Boolean Veri Tipi\n",
        "\n",
        "Boolean veri türü özellikli değişkenlerin veri tipleri de string olacaktır.\n",
        "\n",
        "**Örnek**\n"
      ]
    },
    {
      "cell_type": "code",
      "execution_count": 27,
      "metadata": {
        "vscode": {
          "languageId": "javascript"
        }
      },
      "outputs": [
        {
          "name": "stdout",
          "output_type": "stream",
          "text": [
            "boolean\n"
          ]
        }
      ],
      "source": [
        "%%javascript\n",
        "let booleanData = false;\n",
        "console.log (typeof booleanData)\n"
      ]
    },
    {
      "cell_type": "markdown",
      "metadata": {},
      "source": [
        "## JavaScript Object Veri Tipinde Boolean Veri Türü\n",
        "\n",
        "JavaScript'de boolean özellikli değişkenler normalde **_immutable_**, ilkel ve string veri tipine sahip veri türleridir.\n",
        "\n",
        "Ancak `new` keyword'u kullanılarak object veri tipinde boolean veri türleri oluşturulabilir.\n",
        "\n",
        "**⚠️ Object veri tipinde oluşturulan boolean özellikli bir değişken ile normal yöntem kullanılarak oluşturulan boolean özellikli değişkenin veri tipi birbirinden farklıdır.**\n",
        "\n",
        "**Örnek**\n"
      ]
    },
    {
      "cell_type": "code",
      "execution_count": 28,
      "metadata": {
        "vscode": {
          "languageId": "javascript"
        }
      },
      "outputs": [
        {
          "name": "stdout",
          "output_type": "stream",
          "text": [
            "booleanData= true\n",
            "booleanData değişkeninin veri tipi object' dir.\n",
            "booleanData2= false\n",
            "booleanData2 değişkeninin veri tipi boolean' dır.\n"
          ]
        }
      ],
      "source": [
        "%%javascript\n",
        "// booleanData değişkeni nesne özellikli olup veri tipi object'dir.\n",
        "let booleanData = new Boolean(\"true\")\n",
        "\n",
        "console.log(\"booleanData= \"+booleanData)\n",
        "console.log(\"booleanData değişkeninin veri tipi \"+typeof booleanData+ \"' dir.\")\n",
        "\n",
        "let booleanData2 = false;\n",
        "\n",
        "console.log(\"booleanData2= \"+booleanData2)\n",
        "console.log(\"booleanData2 değişkeninin veri tipi \" + typeof booleanData2 + \"' dır.\")"
      ]
    },
    {
      "cell_type": "markdown",
      "metadata": {},
      "source": [
        "**❗ Object tipinde boolean veri tiplerinin kullanılması tavsiye edilmez. Özellikle mantıksal operatörlerin kullanıldığı expression'larda beklenmedik sonuçlar ile karşılaşabiliriz.**\n",
        "\n",
        "**Ek olarak kodları komplike hale getireceği için kod bloklarının yavaş çalışmasına neden olacaktır.**\n",
        "\n",
        "**Object veri tipindeki iki değişkenin kıyaslanması durumunda sonuç daima `false` olarak geri döner.**\n",
        "\n",
        "**Örnek**\n"
      ]
    },
    {
      "cell_type": "code",
      "execution_count": 29,
      "metadata": {
        "vscode": {
          "languageId": "javascript"
        }
      },
      "outputs": [
        {
          "name": "stdout",
          "output_type": "stream",
          "text": [
            "\u001b[33mtrue\u001b[39m\n",
            "\u001b[33mfalse\u001b[39m\n",
            "\u001b[33mfalse\u001b[39m\n"
          ]
        }
      ],
      "source": [
        "%%javascript\n",
        "\n",
        "let x = false;\n",
        "let y = new Boolean(false);\n",
        "\n",
        "// x ve y değişkeni aynı veriyi depolamaları sebebi ile geri dönen değer true olacaktır.\n",
        "console.log(x == y);\n",
        "\n",
        "/**\n",
        " * x ve y değişkeni aynı veriyi depolamalarına  rağmen farklı veri tipine sahip olduklarından\n",
        " * geri dönen değer false olacaktır.\n",
        " */\n",
        "console.log(x === y);\n",
        "\n",
        "let m = new Boolean(false);\n",
        "let n = new Boolean(false);\n",
        "\n",
        "/**\n",
        " * m ve n her ikisi de aynı türde değeri ve aynı veri tipini tutmasına rağmen konsola false değeri yazdırılacaktır.\n",
        " * Çünkü object tipindeki değişkenler unique olma özelliği taşır.\n",
        " */\n",
        "console.log(m === n);\n"
      ]
    }
  ],
  "metadata": {
    "kernelspec": {
      "display_name": "Python 3",
      "language": "python",
      "name": "python3"
    },
    "language_info": {
      "codemirror_mode": {
        "name": "ipython",
        "version": 3
      },
      "file_extension": ".py",
      "mimetype": "text/x-python",
      "name": "python",
      "nbconvert_exporter": "python",
      "pygments_lexer": "ipython3",
      "version": "3.11.5"
    }
  },
  "nbformat": 4,
  "nbformat_minor": 2
}
