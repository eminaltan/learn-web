{
  "cells": [
    {
      "cell_type": "markdown",
      "metadata": {},
      "source": [
        "# JavaScript'de Boolean'lar\n",
        "\n",
        "Merhaba arkadaşlar serinin bu bölümünde JavaScript'de Boolean data type'ları inceleyeceğiz.\n",
        "\n",
        "Yazıda:\n",
        "\n",
        "- JavaScript'de Boolean data type türünün kullanımına\n",
        "- Sonucu daima `false` olarak dönen expreesion'lara\n",
        "- Object türünde boolean variable'lara\n",
        "\n",
        "Değineceğim.\n",
        "\n",
        "İyi okumalar dilerim.\n"
      ]
    },
    {
      "cell_type": "markdown",
      "metadata": {},
      "source": [
        "## JavaScript Boolean Data Type\n",
        "\n",
        "Genelde mantıksal expression'larda kullanılır.\n",
        "\n",
        "Expression sonucuna göre programın akışını yönlendirir.\n",
        "\n",
        "Boolean ifadeler expression'un sonucuna göre değer döndürür. Expression sonucu doğruysa döndürülecek değer `true` yanlışsa `false` olacaktır.\n",
        "\n",
        "**Örnek**\n"
      ]
    },
    {
      "cell_type": "code",
      "execution_count": null,
      "metadata": {
        "vscode": {
          "languageId": "javascript"
        }
      },
      "outputs": [],
      "source": [
        "%%javascript\n",
        "// Örnekte boolean özellikli veri tipi kullanarak deklarasyon işlemi yapılmıştır.\n",
        "let x = false;\n",
        "let y = true;\n",
        "\n",
        "// false ifadesi konsola yazdırılır.\n",
        "console.log(x);\n",
        "\n",
        "// true ifadesi konsola yazdırılır.\n",
        "console.log(y);\n"
      ]
    },
    {
      "cell_type": "markdown",
      "metadata": {},
      "source": [
        "💡 Bazen bir expression'un boolean sonucu merak edebiliriz. Bunun için `Boolean()` metodundan faydalanabiliriz.\n",
        "\n",
        "Bu özellikle debug işlemlerinde veya sonucunu tahmin edemediğimiz kompleks condition'lar yazarken faydalı olur.\n",
        "\n",
        "<!-- TODO: Diğer veri tipleri için de verinin türünün sınanmasını sağlayan fonksiyonları ekle. -->\n",
        "\n",
        "**Örnek**\n"
      ]
    },
    {
      "cell_type": "code",
      "execution_count": null,
      "metadata": {
        "vscode": {
          "languageId": "javascript"
        }
      },
      "outputs": [],
      "source": [
        "%%javascript\n",
        "// Konsola true ifade yazdırılır.\n",
        "console.log(Boolean(8 > 4));\n",
        "\n",
        "// Sadeleştirebiliriz yine konsola true ifadesi yazdırılacaktır.\n",
        "console.log(8 > 4);\n"
      ]
    },
    {
      "cell_type": "markdown",
      "metadata": {},
      "source": [
        "### Sonucu Daima `false` Olan İfadeler\n",
        "\n",
        "Aşağıdaki ifadelerin hepsi boolean veri tipi göz önüne alınarak düşünüldüğünde `false` değerini üretir:\n",
        "\n",
        "1. Variable'ın depoladığı değer `0` rakamı olduğunda.\n",
        "\n",
        "2. Variable'ın depoladığı değer `-0` rakamı olduğunda. Çünkü `-0`'ın karşılığı yoktur.\n",
        "\n",
        "3. Variable'ın depoladığı değer empty string olduğunda. Yani `\"\"` arasında bir string ifadeye yer verilmediğinde.\n",
        "\n",
        "4. Variable'a değer atanmadığında varsayılan olarak depolayacağı değer `undefined` olacaktır. Bu durumdaki variable'ın boolean değeri `false` olur.\n",
        "\n",
        "5. Variable'ın değeri `null` olduğunda.\n",
        "\n",
        "6. Variable'a `false` değeri depolandığında.\n",
        "\n",
        "7. Variable `NaN` değeri depoladığına.\n",
        "\n",
        "**Örnekler**\n"
      ]
    },
    {
      "cell_type": "code",
      "execution_count": null,
      "metadata": {
        "vscode": {
          "languageId": "javascript"
        }
      },
      "outputs": [],
      "source": [
        "%%javascript\n",
        "let x = 0;\n",
        "// false ifadesi konsola yazdırılır.\n",
        "console.log(Boolean(x));\n",
        "\n",
        "let x1 = -0;\n",
        "// false ifadesi konsola yazdırılır.\n",
        "console.log(Boolean(x1));\n",
        "\n",
        "let x3 = \"\";\n",
        "// false ifadesi konsola yazdırılır.\n",
        "console.log(Boolean(x3));\n",
        "\n",
        "let x4;\n",
        "// false ifadesi konsola yazdırılır.\n",
        "console.log(Boolean(x4));\n",
        "\n",
        "let x5 = null;\n",
        "// false ifadesi konsola yazdırılır.\n",
        "console.log(Boolean(x5));\n",
        "\n",
        "let x6 = false;\n",
        "// false ifadesi konsola yazdırılır.\n",
        "console.log(Boolean(x6));\n",
        "\n",
        "let x7 = 10 / \"Kalem\";\n",
        "// false ifadesi konsola yazdırılır.\n",
        "console.log(Boolean(x7));\n"
      ]
    },
    {
      "cell_type": "markdown",
      "metadata": {},
      "source": [
        "### JavaScript Object Tipinde Boolean'lar\n",
        "\n",
        "JavaScript'de boolean variable'lar normalde ilkel veri tipleridir ve literaller tarafından oluşturulurlar.\n",
        "\n",
        "Ancak `new` keyword'u kullanılarak object tipinde boolean variable'lar tanımlanabilir.\n",
        "\n",
        "⚠️ Object tipinde oluşturulan boolean ile literal kullanılarak oluşturulan boolean variable'ın veri tipi birbirinden farklıdır.\n",
        "\n",
        "**Örnek**\n"
      ]
    },
    {
      "cell_type": "code",
      "execution_count": null,
      "metadata": {
        "vscode": {
          "languageId": "javascript"
        }
      },
      "outputs": [],
      "source": [
        "%%javascript\n",
        "// x variable'ı false değerini depoluyor.\n",
        "let x = false;\n",
        "\n",
        "// y variable'ı object veri tipide olup içeriğini false şeklinde tanımlıyoruz.\n",
        "let y = new Boolean(false);\n",
        "\n",
        "// boolean ifadesi konsola yazdırılacaktır. x variable boolean özelliklidir.\n",
        "console.log(typeof x);\n",
        "\n",
        "// object ifadesi konsola yazdırılacaktır. y variable object özelliklidir.\n",
        "console.log(typeof y);\n"
      ]
    },
    {
      "cell_type": "markdown",
      "metadata": {},
      "source": [
        "❗ Object tipinde boolean variable'ların kullanılması tavsiye edilmez. Özellikle mantıksal operatörlerin kullanıldığı expression'larda beklenmedik sonuçlar ile karşılaşabiliriz.\n",
        "\n",
        "Ek olarak kodları komplike hale getireceği için kod bloklarının yavaş çalışmasına neden olacaktır.\n",
        "\n",
        "**Object tipindeki iki variable'ın kıyaslanması durumunda sonuç daima `false` olarak geri döner.**\n",
        "\n",
        "**Örnek**\n"
      ]
    },
    {
      "cell_type": "code",
      "execution_count": null,
      "metadata": {
        "vscode": {
          "languageId": "javascript"
        }
      },
      "outputs": [],
      "source": [
        "%%javascript\n",
        "\n",
        "let x = false;\n",
        "let y = new Boolean(false);\n",
        "\n",
        "// x ve y variable'ı aynı veriyi depolamaları sebebi ile geri dönen değer true olacaktır.\n",
        "console.log(x == y);\n",
        "\n",
        "/**\n",
        " * x ve y variable'ı aynı veriyi depolamalarına rağmen farklı veri tipine sahip olduklarından\n",
        " * geri dönen değer false olacaktır.\n",
        " */\n",
        "console.log(x === y);\n",
        "\n",
        "let m = new Boolean(false);\n",
        "let n = new Boolean(false);\n",
        "\n",
        "/**\n",
        " * m ve n her ikisi de aynı türde veri ve aynı değeri tutmasına rağmen konsola false değeri yazdırılacaktır.\n",
        " * Çünkü object tipindeki variable'lar arasında kıyaslama yapılamaz.\n",
        " */\n",
        "console.log(m === n);\n"
      ]
    }
  ],
  "metadata": {
    "kernelspec": {
      "display_name": "Python 3",
      "language": "python",
      "name": "python3"
    },
    "language_info": {
      "codemirror_mode": {
        "name": "ipython",
        "version": 3
      },
      "file_extension": ".py",
      "mimetype": "text/x-python",
      "name": "python",
      "nbconvert_exporter": "python",
      "pygments_lexer": "ipython3",
      "version": "3.10.12"
    }
  },
  "nbformat": 4,
  "nbformat_minor": 2
}
