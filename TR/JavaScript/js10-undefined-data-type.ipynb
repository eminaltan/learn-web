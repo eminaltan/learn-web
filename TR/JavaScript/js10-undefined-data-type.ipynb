{
  "cells": [
    {
      "cell_type": "markdown",
      "metadata": {},
      "source": [
        "# JavaScript'de Undefined Veri Tipi\n",
        "\n",
        "Merhaba arkadaşlar serinin bu bölümünde JavaScript'de **_undefined_** veri türünü ve veri tipini inceleyeceğiz.\n",
        "\n",
        "Yazıda:\n",
        "\n",
        "- Undefined veri türüne ve veri tipine.\n",
        "- Boolean olarak değerlendirdiğimizde undefined özellikli bir değişkenin alacağı değere.\n",
        "- Matematiksel işlemlerde sonuca etkisine.\n",
        "- Undefined değer döndüren fonksiyon örneğine.\n",
        "- Empty, null ve undefined arasındaki farklara.\n",
        "\n",
        "Değineceğim.\n",
        "\n",
        "İyi okumalar dilerim.\n"
      ]
    },
    {
      "cell_type": "markdown",
      "metadata": {},
      "source": [
        "## JavaScript Undefined Veri Türü\n",
        "\n",
        "JavaScript'de **_undefined_** veri türü bir değişkenin tanımlanmamış olduğunu veya değişkene bir değerin atanmamış olduğunu ifade eder. \n",
        "\n",
        "Undefined veri türü primitive özelliklidir ve **_immutable_** yapıdadırlar yani değiştirilemezler.\n",
        "\n",
        "JavaScript'de bir değişken deklarasyonu yapılırken içeriğine değer depolanmıyorsa varsayılan olarak undefined verisini depolayacaktır.\n",
        "\n",
        "`undefined` keyword'u kullanılarak da undefined veri tipine sahip bir değişken oluşturulabilir.\n",
        "\n",
        "Undefined literal özellikli ilkel bir veri tipidir.\n",
        "\n",
        "**Örnek**\n"
      ]
    },
    {
      "cell_type": "code",
      "execution_count": 1,
      "metadata": {
        "vscode": {
          "languageId": "javascript"
        }
      },
      "outputs": [
        {
          "data": {
            "application/javascript": "\n// x variable'ı varsayılan olarak undefined değerini depolar.\nlet x;\n\n// Aynı zamanda undefined keyword'u kullanarak da undefined veri tipine sahip variable oluşturabiliriz.\nlet y=undefined;\n\n// Her iki variable için de \"undefined\" ifadesi konsola yazdırılır.\nconsole.log (x);\nconsole.log (y);\n",
            "text/plain": [
              "<IPython.core.display.Javascript object>"
            ]
          },
          "metadata": {},
          "output_type": "display_data"
        }
      ],
      "source": [
        "%%javascript\n",
        "\n",
        "// x variable'ı varsayılan olarak undefined değerini depolar.\n",
        "let x;\n",
        "\n",
        "// Aynı zamanda undefined keyword'u kullanarak da undefined veri tipine sahip variable oluşturabiliriz.\n",
        "let y=undefined;\n",
        "\n",
        "// Her iki variable için de \"undefined\" ifadesi konsola yazdırılır.\n",
        "console.log (x);\n",
        "console.log (y);"
      ]
    },
    {
      "cell_type": "markdown",
      "metadata": {},
      "source": [
        "❗ Undefined identifier (variable ismi) olarak kullanılabilir fakat bu durumda kodları anlamak veya debug işlemlerinde sorunlar ortaya çıkar.\n",
        "\n",
        "**Örnek**\n"
      ]
    },
    {
      "cell_type": "code",
      "execution_count": 2,
      "metadata": {
        "vscode": {
          "languageId": "javascript"
        }
      },
      "outputs": [
        {
          "data": {
            "application/javascript": "\n// Global scope içerisinde iki tane fonksiyonumuz var.\n\n// İlk fonksiyonumuzun parametresi yok.\n(() => {\n\n  // undefined isminde bir variable tanımlanıyor ve içeriğine \"foo\" string'i depolanıyor.\n  const undefined = \"foo\";\n\n  // undefined variable'ın depoladığı veri tipi string olacak ve konsola \"foo, string\" ifadesi yazdırılacaktır.\n  console.log(undefined, typeof undefined); \n})\n\n// İlk fonksiyonumuz çağrılıyor.\n();\n\n\n// İkinci fonksiyonumuzun undefined isminde bir parametresi var.\n((undefined) => {\n\n  // Konsola undefined parametresinin depoladığı veri ve veri tipi yazdırılacaktır.\n  console.log(undefined, typeof undefined); \n})\n\n// İkinci fonksiyona \"EA\" adında bir string gönderdik.\n(\"EA\");\n\n/** \n * Yani kodların çıktısı aşağıdaki gibi olacaktır.\n * foo string\n * EA\n*/\n",
            "text/plain": [
              "<IPython.core.display.Javascript object>"
            ]
          },
          "metadata": {},
          "output_type": "display_data"
        }
      ],
      "source": [
        "%%javascript\n",
        "\n",
        "// Global scope içerisinde iki tane fonksiyonumuz var.\n",
        "\n",
        "// İlk fonksiyonumuzun parametresi yok.\n",
        "(() => {\n",
        "\n",
        "  // undefined isminde bir variable tanımlanıyor ve içeriğine \"foo\" string'i depolanıyor.\n",
        "  const undefined = \"foo\";\n",
        "\n",
        "  // undefined variable'ın depoladığı veri tipi string olacak ve konsola \"foo, string\" ifadesi yazdırılacaktır.\n",
        "  console.log(undefined, typeof undefined); \n",
        "})\n",
        "\n",
        "// İlk fonksiyonumuz çağrılıyor.\n",
        "();\n",
        "\n",
        "\n",
        "// İkinci fonksiyonumuzun undefined isminde bir parametresi var.\n",
        "((undefined) => {\n",
        "\n",
        "  // Konsola undefined parametresinin depoladığı veri ve veri tipi yazdırılacaktır.\n",
        "  console.log(undefined, typeof undefined); \n",
        "})\n",
        "\n",
        "// İkinci fonksiyona \"EA\" adında bir string gönderdik.\n",
        "(\"EA\");\n",
        "\n",
        "/** \n",
        " * Yani kodların çıktısı aşağıdaki gibi olacaktır.\n",
        " * foo string\n",
        " * EA\n",
        "*/"
      ]
    },
    {
      "cell_type": "markdown",
      "metadata": {},
      "source": [
        "Undefined veri tipine sahip bir variable'ın boolean değeri `false` olacaktır. Detaylı bilgi almak için [Sonucu Daima false Olan İfadeler](js09-boolean-data-type.ipynb#sonucu-daima-false-olan-i̇fadeler) başlığınız ziyaret edebilirsiniz.\n",
        "\n",
        "**Örnek**\n"
      ]
    },
    {
      "cell_type": "code",
      "execution_count": 3,
      "metadata": {
        "vscode": {
          "languageId": "javascript"
        }
      },
      "outputs": [
        {
          "data": {
            "application/javascript": "\nlet x;\n\n/** \n * Boolean() fonksiyonu kullanarak bir variable'ın boolean veri tipini öğrenebiliriz.\n * Konsola \"false\" yazdırılacaktır.\n */\nconsole.log(Boolean(x));\n\n",
            "text/plain": [
              "<IPython.core.display.Javascript object>"
            ]
          },
          "metadata": {},
          "output_type": "display_data"
        }
      ],
      "source": [
        "%%javascript\n",
        "\n",
        "let x;\n",
        "\n",
        "/** \n",
        " * Boolean() fonksiyonu kullanarak bir variable'ın boolean veri tipini öğrenebiliriz.\n",
        " * Konsola \"false\" yazdırılacaktır.\n",
        " */\n",
        "console.log(Boolean(x));\n",
        "\n"
      ]
    },
    {
      "cell_type": "markdown",
      "metadata": {},
      "source": [
        "Undefined veri tipine sahip bir variable aritmetiksel işlemlerde kullanıldığında expression'un sonucu `NaN` (Not a Number) olacaktır. Çünkü işlem sonucunda sayısal veya rakamsal bir değer üretilmeyecektir. **_NaN_** teriminin kullanımı için [JavaScript `NaN` Not a Number Terimi](js07-numeric-data-type.ipynb#javascript-nan-not-a-number-terimi) balığına bakabilirsiniz.\n"
      ]
    },
    {
      "cell_type": "code",
      "execution_count": 4,
      "metadata": {
        "vscode": {
          "languageId": "javascript"
        }
      },
      "outputs": [
        {
          "data": {
            "application/javascript": "\nlet x;\n\nlet y =x+1;\n\n// Konsola \"NaN\" ifadesi yazdırılır. Çünkü x+undefined'ın matematiksel bir karşılığı yoktur.\nconsole.log(y);\n\n// Buna rağmen sonucun veri tipi number'dır. Konsola \"number\" yazdırılır.\nconsole.log(typeof(y))\n",
            "text/plain": [
              "<IPython.core.display.Javascript object>"
            ]
          },
          "metadata": {},
          "output_type": "display_data"
        }
      ],
      "source": [
        "%%javascript\n",
        "\n",
        "let x;\n",
        "\n",
        "let y =x+1;\n",
        "\n",
        "// Konsola \"NaN\" ifadesi yazdırılır. Çünkü x+undefined'ın matematiksel bir karşılığı yoktur.\n",
        "console.log(y);\n",
        "\n",
        "// Buna rağmen sonucun veri tipi number'dır. Konsola \"number\" yazdırılır.\n",
        "console.log(typeof(y))"
      ]
    },
    {
      "cell_type": "markdown",
      "metadata": {},
      "source": [
        "Bir metotta (fonksiyonda) `return` keyword'u açıkça ifade edilmemişse metot varsayılan olarak undefined ifadesini geri döndürür.\n"
      ]
    },
    {
      "cell_type": "code",
      "execution_count": 5,
      "metadata": {
        "vscode": {
          "languageId": "javascript"
        }
      },
      "outputs": [
        {
          "data": {
            "application/javascript": "\nfunction drive(){\n    // Metot bir statement döndürmüyor.\n}\n\n// Konsola \"undefined\" yazdırılacaktır.\nconsole.log(drive())\n\n\nfunction swim(){\n    return \"swim performed\"\n}\n// Konsola \"swim performed\" yazdırılacaktır.\nconsole.log(swim())\n",
            "text/plain": [
              "<IPython.core.display.Javascript object>"
            ]
          },
          "metadata": {},
          "output_type": "display_data"
        }
      ],
      "source": [
        "%%javascript\n",
        "\n",
        "function drive(){\n",
        "    // Metot bir statement döndürmüyor.\n",
        "}\n",
        "\n",
        "// Konsola \"undefined\" yazdırılacaktır.\n",
        "console.log(drive())\n",
        "\n",
        "\n",
        "function swim(){\n",
        "    return \"swim performed\"\n",
        "}\n",
        "// Konsola \"swim performed\" yazdırılacaktır.\n",
        "console.log(swim())"
      ]
    },
    {
      "cell_type": "markdown",
      "metadata": {},
      "source": [
        "➖ Undefined ile Null Arasındaki Fark\n",
        "\n",
        "1.  Undefined özellikli variable'ın varsayılan olarak depoladığı değer yine undefined'dır. Null değeri depolayan variable herhangi bir değere sahip değildir. Bu bakımdan null ile undefined birbirlerinden ayrılırlar.\n",
        "\n",
        "2.  Undefined özelliğine sahip variable'ın veri tipi undefined'dır, null özellikli bir variable'ın veri tipi object'dir.\n",
        "\n",
        "**Örnek**\n"
      ]
    },
    {
      "cell_type": "code",
      "execution_count": 6,
      "metadata": {
        "vscode": {
          "languageId": "javascript"
        }
      },
      "outputs": [
        {
          "data": {
            "application/javascript": "// x'in varsayılan değeri undefined olacaktır.\nlet x;\n\n// y variable'ı herhangi bir değere sahip değildir.\nlet y = null;\n\n// x' in depoladığı değer undefined'dır. Konsola \"undefined\" yazdırılır.\nconsole.log(x);\n\n// y 'nin depoladığı herhangi bir değer yoktur. Bunu belirtmek için konsola \"null\" ifadesi yazdırılır.\nconsole.log(y);\n\n// \"undefined\" iletisi konsola yazdırılır, x'in veri tipi undefined'dır.\nconsole.log(typeof x);\n\n// \"object\" iletisi konsola yazdırılır, null özellikli variable'ın veri tipi object'dir.\nconsole.log(typeof y);\n",
            "text/plain": [
              "<IPython.core.display.Javascript object>"
            ]
          },
          "metadata": {},
          "output_type": "display_data"
        }
      ],
      "source": [
        "%%javascript\n",
        "// x'in varsayılan değeri undefined olacaktır.\n",
        "let x;\n",
        "\n",
        "// y variable'ı herhangi bir değere sahip değildir.\n",
        "let y = null;\n",
        "\n",
        "// x' in depoladığı değer undefined'dır. Konsola \"undefined\" yazdırılır.\n",
        "console.log(x);\n",
        "\n",
        "// y 'nin depoladığı herhangi bir değer yoktur. Bunu belirtmek için konsola \"null\" ifadesi yazdırılır.\n",
        "console.log(y);\n",
        "\n",
        "// \"undefined\" iletisi konsola yazdırılır, x'in veri tipi undefined'dır.\n",
        "console.log(typeof x);\n",
        "\n",
        "// \"object\" iletisi konsola yazdırılır, null özellikli variable'ın veri tipi object'dir.\n",
        "console.log(typeof y);\n"
      ]
    },
    {
      "cell_type": "markdown",
      "metadata": {},
      "source": [
        "➖ Undefined ile Empty Arasındaki Fark\n",
        "\n",
        "Empty özellikli bir variable'ın veri tipi string'tir. undefined özellikli bir variable'ın veri tipi ise object'tir.\n",
        "\n",
        "**Örnek**\n"
      ]
    },
    {
      "cell_type": "code",
      "execution_count": 7,
      "metadata": {
        "vscode": {
          "languageId": "javascript"
        }
      },
      "outputs": [
        {
          "data": {
            "application/javascript": "\nlet x;\n\nlet y=\"\";\n\n// x variable'ı undefined, y variable'ı ise string veri tipine sahiptir. Konsola sırasıyla \"undefined\" ve \"string\" ifadesi yazdırılacaktır.\nconsole.log(typeof(x))\nconsole.log(typeof(y))\n\n// x ve y variable'ları depoladığı değer bakımından da farklıdır. Konsola \"false\" ifadesi yazdırılır.\nconsole.log(x==y);\n",
            "text/plain": [
              "<IPython.core.display.Javascript object>"
            ]
          },
          "metadata": {},
          "output_type": "display_data"
        }
      ],
      "source": [
        "%%javascript\n",
        "\n",
        "let x;\n",
        "\n",
        "let y=\"\";\n",
        "\n",
        "// x variable'ı undefined, y variable'ı ise string veri tipine sahiptir. Konsola sırasıyla \"undefined\" ve \"string\" ifadesi yazdırılacaktır.\n",
        "console.log(typeof(x))\n",
        "console.log(typeof(y))\n",
        "\n",
        "// x ve y variable'ları depoladığı değer bakımından da farklıdır. Konsola \"false\" ifadesi yazdırılır.\n",
        "console.log(x==y);\n"
      ]
    }
  ],
  "metadata": {
    "kernelspec": {
      "display_name": "Python 3 (ipykernel)",
      "language": "python",
      "name": "python3"
    },
    "language_info": {
      "codemirror_mode": {
        "name": "ipython",
        "version": 3
      },
      "file_extension": ".py",
      "mimetype": "text/x-python",
      "name": "python",
      "nbconvert_exporter": "python",
      "pygments_lexer": "ipython3",
      "version": "3.11.5"
    }
  },
  "nbformat": 4,
  "nbformat_minor": 2
}
