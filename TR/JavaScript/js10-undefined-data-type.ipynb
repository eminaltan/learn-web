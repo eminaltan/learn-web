{
  "cells": [
    {
      "cell_type": "markdown",
      "metadata": {},
      "source": [
        "# JavaScript'de Undefined Veri Tipi\n",
        "\n",
        "Merhaba arkadaşlar serinin bu bölümünde JavaScript'de **_undefined_** veri türünü ve veri tipini inceleyeceğiz.\n",
        "\n",
        "Yazıda:\n",
        "\n",
        "- Undefined veri türüne ve veri tipine.\n",
        "- Boolean olarak değerlendirdiğimizde undefined özellikli bir değişkenin alacağı değere.\n",
        "- Matematiksel işlemlerde sonuca etkisine.\n",
        "- Undefined değer döndüren fonksiyon örneğine.\n",
        "- Empty, null ve undefined arasındaki farklara.\n",
        "\n",
        "Değineceğim.\n",
        "\n",
        "İyi okumalar dilerim.\n"
      ]
    },
    {
      "cell_type": "markdown",
      "metadata": {},
      "source": [
        "## JavaScript Undefined Veri Türü\n",
        "\n",
        "JavaScript'de **_undefined_** veri türü bir değişkenin tanımlanmamış olduğunu veya değişkene bir değerin atanmamış olduğunu ifade eder.\n",
        "\n",
        "Undefined veri türü primitive özelliklidir ve **_immutable_** yapıdadırlar yani değiştirilemezler.\n",
        "\n",
        "JavaScript'de bir değişken deklarasyonu yapılırken içeriğine değer depolanmıyorsa varsayılan olarak undefined verisini depolayacaktır.\n",
        "\n",
        "`undefined` keyword'u kullanılarak da undefined veri tipine sahip bir değişken oluşturulabilir.\n",
        "\n",
        "**Örnek**\n"
      ]
    },
    {
      "cell_type": "code",
      "execution_count": 1,
      "metadata": {
        "vscode": {
          "languageId": "javascript"
        }
      },
      "outputs": [
        {
          "name": "stdout",
          "output_type": "stream",
          "text": [
            "\u001b[90mundefined\u001b[39m\n",
            "\u001b[90mundefined\u001b[39m\n"
          ]
        }
      ],
      "source": [
        "%%script node\n",
        "\n",
        "// x değişkeni varsayılan olarak undefined değerine sahip olacaktır.\n",
        "let x;\n",
        "\n",
        "// Aynı zamanda undefined keyword'u kullanarak da undefined veri türüne sahip değişken  oluşturabiliriz.\n",
        "let y=undefined;\n",
        "\n",
        "// Her iki değişken için de \"undefined\" ifadesi konsola yazdırılır.\n",
        "console.log (x);\n",
        "console.log (y);"
      ]
    },
    {
      "cell_type": "markdown",
      "metadata": {},
      "source": [
        "**❗ Undefined identifier (değişken ismi) olarak kullanılabilir fakat bu durumda kodları anlamak veya debug işlemlerinde sorunlar ortaya çıkar.**\n",
        "\n",
        "**Örnek**\n"
      ]
    },
    {
      "cell_type": "code",
      "execution_count": 2,
      "metadata": {
        "vscode": {
          "languageId": "javascript"
        }
      },
      "outputs": [
        {
          "name": "stdout",
          "output_type": "stream",
          "text": [
            "foo string\n",
            "EA string\n"
          ]
        }
      ],
      "source": [
        "%%script node\n",
        "\n",
        "// Global scope içerisinde iki tane fonksiyonumuz var.\n",
        "\n",
        "// İlk fonksiyonumuzun parametresi yok.\n",
        "(() => {\n",
        "\n",
        "  // undefined isminde bir değişken tanımlanıyor ve içeriğine \"foo\" string'i depolanıyor.\n",
        "  const undefined = \"foo\";\n",
        "\n",
        "  // undefined değişkeninin depoladığı veri tipi string olacak ve konsola \"foo, string\" ifadesi yazdırılacaktır.\n",
        "  console.log(undefined, typeof undefined); \n",
        "})\n",
        "\n",
        "// İlk fonksiyonumuz çağrılıyor.\n",
        "();\n",
        "\n",
        "\n",
        "// İkinci fonksiyonumuzun undefined isminde bir parametresi var.\n",
        "((undefined) => {\n",
        "\n",
        "  // Konsola undefined parametresinin depoladığı veri ve veri tipi yazdırılacaktır.\n",
        "  console.log(undefined, typeof undefined); \n",
        "})\n",
        "\n",
        "// İkinci fonksiyona \"EA\" adında bir string gönderdik.\n",
        "(\"EA\");\n"
      ]
    },
    {
      "cell_type": "markdown",
      "metadata": {},
      "source": [
        "Yukarıda görüldüğü gibi kodları analiz etmek zorlaştı.\n",
        "\n",
        "Undefined veri türüne sahip bir değişkenin boolean değeri `false` olacaktır. Detaylı bilgi almak için [Sonucu Daima false Olan İfadeler](js09-boolean-data-type.ipynb#sonucu-daima-false-olan-i̇fadeler) başlığınız ziyaret edebilirsiniz.\n",
        "\n",
        "**Örnek**\n"
      ]
    },
    {
      "cell_type": "code",
      "execution_count": 2,
      "metadata": {
        "vscode": {
          "languageId": "javascript"
        }
      },
      "outputs": [
        {
          "name": "stdout",
          "output_type": "stream",
          "text": [
            "\u001b[33mfalse\u001b[39m\n"
          ]
        }
      ],
      "source": [
        "%%script node\n",
        "\n",
        "let x;\n",
        "\n",
        "/** \n",
        " * Boolean() fonksiyonu kullanarak bir değişkenin boolean olarak tuttuğu değeri öğrenebiliriz.\n",
        " * Konsola \"false\" yazdırılacaktır.\n",
        " */\n",
        "console.log(Boolean(x));\n",
        "\n"
      ]
    },
    {
      "cell_type": "markdown",
      "metadata": {},
      "source": [
        "Undefined veri tipine sahip bir değişken aritmetiksel işlemlerde kullanıldığında expression'un sonucu `NaN` (Not a Number) olacaktır. Çünkü işlem sonucu sayısal veya rakamsal bir değerden oluşmayacaktır. **_NaN_** teriminin kullanımı için [JavaScript `NaN` Not a Number Terimi](js07-numeric-data-type.ipynb#javascript-nan-not-a-number-terimi) başlığına bakabilirsiniz."
      ]
    },
    {
      "cell_type": "code",
      "execution_count": 3,
      "metadata": {
        "vscode": {
          "languageId": "javascript"
        }
      },
      "outputs": [
        {
          "name": "stdout",
          "output_type": "stream",
          "text": [
            "\u001b[33mNaN\u001b[39m\n",
            "number\n"
          ]
        }
      ],
      "source": [
        "%%script node\n",
        "\n",
        "let x;\n",
        "\n",
        "let y =x+1;\n",
        "\n",
        "// Konsola \"NaN\" ifadesi yazdırılır. Çünkü x+undefined'ın matematiksel bir karşılığı yoktur.\n",
        "console.log(y);\n",
        "\n",
        "// Buna rağmen sonucun veri tipi number'dır. Konsola \"number\" yazdırılır.\n",
        "console.log(typeof(y))"
      ]
    },
    {
      "cell_type": "markdown",
      "metadata": {},
      "source": [
        "Bir metotta (fonksiyonda) `return` keyword'u açıkça ifade edilmemişse metot varsayılan olarak undefined ifadesini geri döndürür.\n"
      ]
    },
    {
      "cell_type": "code",
      "execution_count": 4,
      "metadata": {
        "vscode": {
          "languageId": "javascript"
        }
      },
      "outputs": [
        {
          "name": "stdout",
          "output_type": "stream",
          "text": [
            "\u001b[90mundefined\u001b[39m\n",
            "swim performed\n"
          ]
        }
      ],
      "source": [
        "%%script node\n",
        "\n",
        "function drive(){\n",
        "    // Metot bir statement döndürmüyor.\n",
        "}\n",
        "\n",
        "// Konsola \"undefined\" yazdırılacaktır.\n",
        "console.log(drive())\n",
        "\n",
        "\n",
        "function swim(){\n",
        "    return \"swim performed\"\n",
        "}\n",
        "// Konsola \"swim performed\" yazdırılacaktır.\n",
        "console.log(swim())"
      ]
    },
    {
      "cell_type": "markdown",
      "metadata": {},
      "source": [
        "**➖ Undefined ile Null Arasındaki Fark**\n",
        "\n",
        "1.  Undefined özellikli değişkenin varsayılan olarak depoladığı değer yine undefined'dır. Null değeri depolayan değişken herhangi bir değere sahip değildir. Bu bakımdan null ile undefined birbirlerinden ayrılırlar.\n",
        "\n",
        "2.  Undefined özelliğine sahip değişkenin veri tipi undefined'dır, null özellikli bir değişkenin veri tipi object'dir.\n",
        "\n",
        "**Örnek**\n"
      ]
    },
    {
      "cell_type": "code",
      "execution_count": 6,
      "metadata": {
        "vscode": {
          "languageId": "javascript"
        }
      },
      "outputs": [
        {
          "name": "stdout",
          "output_type": "stream",
          "text": [
            "\u001b[90mundefined\u001b[39m\n",
            "\u001b[1mnull\u001b[22m\n",
            "undefined\n",
            "object\n"
          ]
        }
      ],
      "source": [
        "%%script node\n",
        "// x'in varsayılan değeri undefined olacaktır.\n",
        "let x;\n",
        "\n",
        "// x' in depoladığı değer undefined'dır. Konsola \"undefined\" yazdırılır.\n",
        "console.log(x);\n",
        "\n",
        "// y değişkeni herhangi bir değere sahip değildir.\n",
        "let y = null;\n",
        "\n",
        "// y 'nin depoladığı herhangi bir değer yoktur. Bunu belirtmek için konsola \"null\" ifadesi yazdırılır.\n",
        "console.log(y);\n",
        "\n",
        "// \"undefined\" iletisi konsola yazdırılır, x'in veri tipi undefined'dır.\n",
        "console.log(typeof x);\n",
        "\n",
        "// \"object\" iletisi konsola yazdırılır, null özellikli variable'ın veri tipi object'dir.\n",
        "console.log(typeof y);\n"
      ]
    },
    {
      "cell_type": "markdown",
      "metadata": {},
      "source": [
        "**➖ Undefined ile Empty Arasındaki Fark**\n",
        "\n",
        "Empty özellikli bir değişkenin veri tipi string özelliklidir.. undefined özellikli bir değişkenin veri tipi ise object özelliklidir.\n",
        "\n",
        "**Örnek**\n"
      ]
    },
    {
      "cell_type": "code",
      "execution_count": 7,
      "metadata": {
        "vscode": {
          "languageId": "javascript"
        }
      },
      "outputs": [
        {
          "data": {
            "application/javascript": "\nlet x;\n\nlet y=\"\";\n\n// x variable'ı undefined, y variable'ı ise string veri tipine sahiptir. Konsola sırasıyla \"undefined\" ve \"string\" ifadesi yazdırılacaktır.\nconsole.log(typeof(x))\nconsole.log(typeof(y))\n\n// x ve y variable'ları depoladığı değer bakımından da farklıdır. Konsola \"false\" ifadesi yazdırılır.\nconsole.log(x==y);\n",
            "text/plain": [
              "<IPython.core.display.Javascript object>"
            ]
          },
          "metadata": {},
          "output_type": "display_data"
        }
      ],
      "source": [
        "%%script node\n",
        "\n",
        "let x;\n",
        "\n",
        "let y=\"\";\n",
        "\n",
        "// x değişkeni undefined, y variable'ı ise string veri tipine sahiptir. Konsola sırasıyla \"undefined\" ve \"string\" ifadesi yazdırılacaktır.\n",
        "console.log(typeof(x))\n",
        "console.log(typeof(y))\n",
        "\n",
        "// x ve y variable'ları depoladığı değer bakımından da farklıdır. Konsola \"false\" ifadesi yazdırılır.\n",
        "console.log(x==y);\n"
      ]
    }
  ],
  "metadata": {
    "kernelspec": {
      "display_name": "Python 3 (ipykernel)",
      "language": "python",
      "name": "python3"
    },
    "language_info": {
      "codemirror_mode": {
        "name": "ipython",
        "version": 3
      },
      "file_extension": ".py",
      "mimetype": "text/x-python",
      "name": "python",
      "nbconvert_exporter": "python",
      "pygments_lexer": "ipython3",
      "version": "3.11.5"
    }
  },
  "nbformat": 4,
  "nbformat_minor": 2
}
