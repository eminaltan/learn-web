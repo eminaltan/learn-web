{
 "cells": [
  {
   "cell_type": "markdown",
   "metadata": {},
   "source": [
    "# JavaScript Null Türü\n",
    "\n",
    "Merhaba arkadaşlar serinin bu bölümünde JavaScript'de **_null_** veri türünü inceleyeceğiz.\n",
    "\n",
    "Yazıda:\n",
    "\n",
    "- Null veri türüne.\n",
    "- JavaScript'de Null veri türünün kullanımına.\n",
    "- Null veri türüne sahip bir değişkenin boolean olarak sahip olduğu değere.\n",
    "- Matematiksel işlemlerde null özellikli bir değişkenin sonuca etkisine.\n",
    "- Null ile empty ve undefined arasındaki farklara.\n",
    "\n",
    "Değineceğim.\n",
    "\n",
    "İyi okumalar dilerim.\n"
   ]
  },
  {
   "cell_type": "markdown",
   "metadata": {},
   "source": [
    "## JavaScript Null Veri Türü\n",
    "\n",
    "JavaScript'de null veri türü değişkende değer olmadığını ancak gelecekte bir değer atanabileceğini gösterir.\n",
    "\n",
    "null veri türüne sahip bir değişken tanımlamak için `null` keyword'u kullanılır.\n",
    "\n",
    "`null` keyword'u depolayan bir değişken expression içerisinde kullanıldığında JavaScript değişkenin değerini 0 rakamına dönüştürür.\n",
    "\n",
    "`null` keyword'u JavaScript'in kullanımı için rezerv edilmiştir. Yani bir değişken veya metot ismi `null` ile başlayamaz.\n",
    "\n",
    "Undefined veri türü primitive özelliklidir ve **_immutable_** yapıdadırlar yani değiştirilemezler. **Buna rağmen veri tipi object özelliğine sahiptir.**\n",
    "\n",
    "\n",
    "\n",
    "**Örnek**\n"
   ]
  },
  {
   "cell_type": "code",
   "execution_count": 7,
   "metadata": {
    "vscode": {
     "languageId": "javascript"
    }
   },
   "outputs": [
    {
     "name": "stdout",
     "output_type": "stream",
     "text": [
      "object\n",
      "\u001b[33m1\u001b[39m\n"
     ]
    }
   ],
   "source": [
    "%%script node\n",
    "\n",
    "let x =null;\n",
    "\n",
    "// Konsola \"object\" ifadesi yazdırılacaktır.\n",
    "console.log(typeof(x));\n",
    "\n",
    "// x variable 0 rakamına dönüştürülecektir. \n",
    "let y=x+1;\n",
    "\n",
    "// Konsola 1 rakamı yazdırılacaktır.\n",
    "console.log(y);\n"
   ]
  },
  {
   "cell_type": "markdown",
   "metadata": {},
   "source": [
    "`null` keyword'u kullanılmış bir değişkenin boolean değeri `false` olacaktır. Detaylı bilgi almak için [Sonucu Daima false Olan İfadeler](js09-boolean-data-type.ipynb#sonucu-daima-false-olan-i̇fadeler) başlığınız ziyaret edebilirsiniz.\n",
    "\n",
    "**Örnek**\n"
   ]
  },
  {
   "cell_type": "code",
   "execution_count": 8,
   "metadata": {
    "vscode": {
     "languageId": "javascript"
    }
   },
   "outputs": [
    {
     "name": "stdout",
     "output_type": "stream",
     "text": [
      "\u001b[33mfalse\u001b[39m\n"
     ]
    }
   ],
   "source": [
    "%%script node\n",
    "\n",
    "let x =null;\n",
    "\n",
    "// Konsola \"false\" ifadesi yazdırılır. Boolean() fonksiyonu ile bir değişkenin boolean olarak türünü öğrenebiliriz.\n",
    "console.log(Boolean(x))\n"
   ]
  },
  {
   "cell_type": "markdown",
   "metadata": {},
   "source": [
    "**➖ Null ile Undefined Arasındaki Farklar**\n",
    "\n",
    "1. Null değeri depolayan değişken herhangi bir değere sahip değildir. Hatırlarsanız undefined özellikli değişkenin varsayılan olarak taşıdığı değer yine undefined'di. Bu bakımdan null ile undefined birbirlerinden ayrılırlar.\n",
    "\n",
    "2. Null özellikli bir değişkenin veri tipi object'dir, undefined özelliğine sahip değişkenin veri tipi undefined'dir.\n",
    "\n",
    "**Örnek**\n"
   ]
  },
  {
   "cell_type": "code",
   "execution_count": 9,
   "metadata": {
    "vscode": {
     "languageId": "javascript"
    }
   },
   "outputs": [
    {
     "name": "stdout",
     "output_type": "stream",
     "text": [
      "\u001b[90mundefined\u001b[39m\n",
      "\u001b[1mnull\u001b[22m\n",
      "undefined\n",
      "object\n"
     ]
    }
   ],
   "source": [
    "%%script node\n",
    "// x'in varsayılan değeri undefined olacaktır.\n",
    "let x;\n",
    "\n",
    "// x' in depoladığı değer undefined'dır. Konsola \"undefined\" yazdırılır.\n",
    "console.log(x);\n",
    "\n",
    "// y değişkeni herhangi bir değere sahip değildir.\n",
    "let y = null;\n",
    "\n",
    "// y 'nin depoladığı herhangi bir değer yoktur. Bunu belirtmek için konsola \"null\" ifadesi yazdırılır.\n",
    "console.log(y);\n",
    "\n",
    "// \"undefined\" iletisi konsola yazdırılır, x'in veri tipi undefined'dır.\n",
    "console.log(typeof x);\n",
    "\n",
    "// \"object\" iletisi konsola yazdırılır, null özellikli değişkenin veri tipi object'dir.\n",
    "console.log(typeof y);\n"
   ]
  },
  {
   "cell_type": "markdown",
   "metadata": {},
   "source": [
    "**➖ Null ile Empty Arasındaki Fark**\n",
    "\n",
    "Empty özellikli bir değişkenin veri tipi string özelliklidir. null özellikli bir değişkenin veri tipi ise object özelliklidir.\n"
   ]
  },
  {
   "cell_type": "code",
   "execution_count": 10,
   "metadata": {
    "vscode": {
     "languageId": "javascript"
    }
   },
   "outputs": [
    {
     "name": "stdout",
     "output_type": "stream",
     "text": [
      "\u001b[33mfalse\u001b[39m\n",
      "object\n",
      "string\n"
     ]
    }
   ],
   "source": [
    "%%script node\n",
    "let x = null;\n",
    "\n",
    "let y =\"1\";\n",
    "\n",
    "// Konsola \"false\" ifadesi yazdırılacaktır. Çünkü x'in veri tipi object, y'nin veri tipi ise string'dir.\n",
    "console.log(x===y);\n",
    "\n",
    "// \"object\" ifadesi konsola yazdırılır.\n",
    "console.log (typeof(x))\n",
    "\n",
    "// \"string\" ifadesi konsola yazdırılır.\n",
    "console.log (typeof(y))"
   ]
  }
 ],
 "metadata": {
  "kernelspec": {
   "display_name": "Python 3",
   "language": "python",
   "name": "python3"
  },
  "language_info": {
   "codemirror_mode": {
    "name": "ipython",
    "version": 3
   },
   "file_extension": ".py",
   "mimetype": "text/x-python",
   "name": "python",
   "nbconvert_exporter": "python",
   "pygments_lexer": "ipython3",
   "version": "3.11.5"
  }
 },
 "nbformat": 4,
 "nbformat_minor": 2
}
