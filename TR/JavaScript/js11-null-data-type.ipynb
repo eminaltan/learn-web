{
 "cells": [
  {
   "cell_type": "markdown",
   "metadata": {},
   "source": [
    "# JavaScript Undefined Null Türü ve Veri Tipi\n",
    "Merhaba arkadaşlar serinin bu bölümünde JavaScript'de **_null_** veri türünü inceleyeceğiz.\n",
    "\n",
    "Yazıda:\n",
    "\n",
    "- Undefined veri türüne.\n",
    "- JavaScript'de Null data type türünün kullanımına\n",
    "- Boolean olarak değerlendirdiğimizde null özellikli bir variable'ın alacağı değere\n",
    "- Matematiksel işlemlerde null özellikli bir variable'ın sonuca etkisine\n",
    "- Empty, null ve undefined arasındaki farka\n",
    "\n",
    "Değineceğim.\n",
    "\n",
    "İyi okumalar dilerim.\n"
   ]
  },
  {
   "cell_type": "markdown",
   "metadata": {},
   "source": [
    "## JavaScript Null Veri Türü\n",
    "\n",
    "JavaScript'de null veri türü değişkende değer olmadığını ancak gelecekte bir değer atanabileceğini gösterir.\n",
    "\n",
    "null veri türüne sahip bir değişken tanımlamak için `null` keyword'u kullanılır.\n",
    "\n",
    "`null` keyword'u JavaScript'in kullanımı için rezerv edilmiştir. Yani bir değişken veya metot ismi `null` ile başlayamaz.\n",
    "\n",
    "Undefined veri türü primitive özelliklidir ve **_immutable_** yapıdadırlar yani değiştirilemezler. **Buna rağmen veri tipi object özelliğine sahiptir.**\n",
    "\n",
    "`null` keyword'u depolayan bir değişken expression içerisinde kullanıldığında JavaScript değişkenin değerini 0 rakamına dönüştürür.\n",
    "\n",
    "**Örnek**\n"
   ]
  },
  {
   "cell_type": "code",
   "execution_count": 2,
   "metadata": {
    "vscode": {
     "languageId": "javascript"
    }
   },
   "outputs": [
    {
     "name": "stdout",
     "output_type": "stream",
     "text": [
      "object\n",
      "\u001b[33m1\u001b[39m\n"
     ]
    }
   ],
   "source": [
    "%%script node\n",
    "\n",
    "let x =null;\n",
    "\n",
    "// Konsola \"object\" ifadesi yazdırılacaktır.\n",
    "console.log(typeof(x));\n",
    "\n",
    "// x variable 0 rakamına dönüştürülecektir. \n",
    "let y=x+1;\n",
    "\n",
    "// Konsola 1 rakamı yazdırılacaktır.\n",
    "console.log(y);\n"
   ]
  },
  {
   "cell_type": "markdown",
   "metadata": {},
   "source": [
    "`null` keyword'u kullanılmış bir değişkende boolean değeri `false` olacaktır. Detaylı bilgi almak için [Sonucu Daima false Olan İfadeler](js09-boolean-data-type.ipynb#sonucu-daima-false-olan-i̇fadeler) başlığınız ziyaret edebilirsiniz.\n",
    "\n",
    "**Örnek**"
   ]
  },
  {
   "cell_type": "code",
   "execution_count": null,
   "metadata": {
    "vscode": {
     "languageId": "javascript"
    }
   },
   "outputs": [],
   "source": [
    "%%script node\n",
    "\n",
    "let x =null;\n",
    "\n",
    "// Konsola \"false\" ifadesi yazdırılır. Boolean() fonksiyonu ile bir variable'ın boolean olarak türünü öğrenebiliriz.\n",
    "console.log(Boolean(x))\n"
   ]
  },
  {
   "cell_type": "markdown",
   "metadata": {},
   "source": [
    "➖ Null ile Undefined Arasındaki Fark\n",
    "\n",
    "1. Null değeri depolayan variable herhangi bir değere sahip değildir. Hatırlarsanız undefined özellikli variable'ın varsayılan olarak taşıdığı değer vardı. Bu bakımdan null ile undefined birbirlerinden ayrılırlar.\n",
    "\n",
    "2. Null özellikli bir variable'ın veri tipi object'dir, undefined özelliğine sahip variable'ın veri tipi undefined'dır.\n",
    "\n",
    "**Örnek**\n"
   ]
  },
  {
   "cell_type": "code",
   "execution_count": null,
   "metadata": {
    "vscode": {
     "languageId": "javascript"
    }
   },
   "outputs": [],
   "source": [
    "%%script node\n",
    "// x'in varsayılan değeri undefined olacaktır.\n",
    "let x;\n",
    "\n",
    "// y variable'ı herhangi bir değere sahip değildir.\n",
    "let y = null;\n",
    "\n",
    "// x' in depoladığı değer undefined'dır. Konsola \"undefined\" yazdırılır.\n",
    "console.log(x);\n",
    "\n",
    "// y 'nin depoladığı herhangi bir değer yoktur. Bunu belirtmek için konsola \"null\" ifadesi yazdırılır.\n",
    "console.log(y);\n",
    "\n",
    "// \"undefined\" iletisi konsola yazdırılır, x'in veri tipi undefined'dır.\n",
    "console.log(typeof x);\n",
    "\n",
    "// \"object\" iletisi konsola yazdırılır, null özellikli variable'ın veri tipi object'dir.\n",
    "console.log(typeof y);\n"
   ]
  },
  {
   "cell_type": "markdown",
   "metadata": {},
   "source": [
    "➖ Null ile Empty Arasındaki Fark\n",
    "\n",
    "Empty özellikli bir variable'ın veri tipi string'tir. null özellikli bir variable'ın veri tipi ise object'tir.\n"
   ]
  },
  {
   "cell_type": "code",
   "execution_count": null,
   "metadata": {
    "vscode": {
     "languageId": "javascript"
    }
   },
   "outputs": [],
   "source": [
    "%%script node\n",
    "let x = null;\n",
    "\n",
    "let y =\"1\";\n",
    "\n",
    "// Konsola \"false\" ifadesi yazdırılacaktır. Çünkü x'in veri tipi object, y'nin veri tipi ise string'dir.\n",
    "console.log(x===y);\n",
    "\n",
    "// \"object\" ifadesi konsola yazdırılır.\n",
    "console.log (typeof(x))\n",
    "\n",
    "// \"string\" ifadesi konsola yazdırılır.\n",
    "console.log (typeof(y))"
   ]
  }
 ],
 "metadata": {
  "kernelspec": {
   "display_name": "Python 3",
   "language": "python",
   "name": "python3"
  },
  "language_info": {
   "codemirror_mode": {
    "name": "ipython",
    "version": 3
   },
   "file_extension": ".py",
   "mimetype": "text/x-python",
   "name": "python",
   "nbconvert_exporter": "python",
   "pygments_lexer": "ipython3",
   "version": "3.11.5"
  }
 },
 "nbformat": 4,
 "nbformat_minor": 2
}
