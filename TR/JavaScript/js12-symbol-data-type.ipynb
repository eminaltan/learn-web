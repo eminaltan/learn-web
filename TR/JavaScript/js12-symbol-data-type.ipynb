{
 "cells": [
  {
   "cell_type": "markdown",
   "metadata": {},
   "source": [
    "## JavaScript Symbol Veri Türü\n",
    "\n",
    "Symbol veri türü primitive özelliklidir ve **_immutable_** yapıdadırlar yani değiştirilemezler.\n",
    "\n",
    "Symbol veri türleri **unique** özelliğe sahiptirler. Bu sebeple  nesne tanımlı değişken içerisinde **_key_**[^1] olarak kullanılır ve değerlere erişim sağlanır. \n",
    "\n",
    "Yine unique olması sebebi ile program içerisinde **_API_**[^2] gibi sabit değerler için değişken  oluşturmada sıklıkla symbol veri türlerinden faydalanılır.\n",
    "\n",
    "Symbol veri türleri aynı zamanda bir verinin encapsulation ilkesine göre gizliliğini ve güvenliğini sağlar.\n",
    "\n",
    "Symbol veri türü ES6 ile JavaScript'de dahil olmuştur.\n",
    "\n",
    "Symbol veri türünde bir değişken oluşturmak için ` Symbol(\"Description\")` metodundan faydalanılır. Buradaki `Description` terimi genelde symbol veri türünün hangi amaçla oluşturulduğunu ifade eder. Kullanılması isteğe bağlı opsiyoneldir.\n",
    "\n",
    "**💡`Description` teriminin kullanılması tavsiye edilir. Böylece symbol'un ne amaçla oluşturulduğu bilinecektir. Kullanılması özellikle bug/debug işlemlerinde faydalı olacaktır.**\n",
    "\n",
    "**Örnek**"
   ]
  },
  {
   "cell_type": "code",
   "execution_count": 5,
   "metadata": {
    "vscode": {
     "languageId": "javascript"
    }
   },
   "outputs": [
    {
     "name": "stdout",
     "output_type": "stream",
     "text": [
      "\u001b[32mSymbol(Personel ismini tanımlar.)\u001b[39m\n",
      "\u001b[32mSymbol()\u001b[39m\n",
      "\u001b[33mtrue\u001b[39m\n",
      "\u001b[33mtrue\u001b[39m\n"
     ]
    }
   ],
   "source": [
    "%%script node\n",
    "\n",
    "// Örnekte symbol veri türünün tanımlanması görülmektedir.\n",
    "const pName = Symbol(\"Personel ismini tanımlar.\");\n",
    "const sName = Symbol();\n",
    "\n",
    "/** \n",
    " * Symbol(Personel ismini tanımlar.) Description tanımlanmış olması bir debug işleminde \n",
    " * değişkenin hangi amaçla oluşturulduğunu belirlemede yardımcı olacaktır.\n",
    " */\n",
    "console.log(pName)\n",
    "\n",
    "// Symbol() ifadesi konsola yazdırılır.\n",
    "console.log(sName)"
   ]
  },
  {
   "cell_type": "markdown",
   "metadata": {},
   "source": [
    "Symbol veri türü özellikli bir değişken boolean olarak daima `true` değerini tutar."
   ]
  },
  {
   "cell_type": "code",
   "execution_count": 6,
   "metadata": {
    "vscode": {
     "languageId": "javascript"
    }
   },
   "outputs": [
    {
     "name": "stdout",
     "output_type": "stream",
     "text": [
      "\u001b[33mtrue\u001b[39m\n",
      "\u001b[33mtrue\u001b[39m\n"
     ]
    }
   ],
   "source": [
    "%%script node\n",
    "\n",
    "const pName = Symbol(\"Personel ismini tanımlar.\");\n",
    "const sName = Symbol();\n",
    "\n",
    "// Boolean() metodu ile değişkenleri boolean olarak tuttuğu veri türünü öğreniyoruz.\n",
    "console.log(Boolean(pName))\n",
    "console.log(Boolean(pName))"
   ]
  },
  {
   "cell_type": "markdown",
   "metadata": {},
   "source": [
    "## JavaScript Symbol Veri Tipi\n",
    "\n",
    "Symbol veri türü özellikli değişkenlerin veri tipleri de symbol olacaktır.\n",
    "\n",
    "**Örnek**\n"
   ]
  },
  {
   "cell_type": "code",
   "execution_count": 9,
   "metadata": {
    "vscode": {
     "languageId": "javascript"
    }
   },
   "outputs": [
    {
     "name": "stdout",
     "output_type": "stream",
     "text": [
      "sym değişkeninin veri tipi symbol 'dur.\n"
     ]
    }
   ],
   "source": [
    "%%script node\n",
    "\n",
    "const sym = Symbol(\"Bir symbol veri türü örneği.\")\n",
    "\n",
    "console.log(\"sym değişkeninin veri tipi \"+typeof sym+\" 'dur.\")"
   ]
  },
  {
   "cell_type": "markdown",
   "metadata": {},
   "source": [
    "Symbol veri türleri unique özelliklidir. aynı description'a sahip değişkenlerin türü ve veri tipi olarak birbirlerinden farklıdırlar.\n",
    "\n",
    "Bunun nedeni primitive özellikli veri türleri için değişken tanımlama işleminde bellekte yeni bir adres ayrılmasıdır."
   ]
  },
  {
   "cell_type": "code",
   "execution_count": 14,
   "metadata": {
    "vscode": {
     "languageId": "javascript"
    }
   },
   "outputs": [
    {
     "name": "stdout",
     "output_type": "stream",
     "text": [
      "\u001b[33mfalse\u001b[39m\n",
      "\u001b[33mfalse\u001b[39m\n"
     ]
    }
   ],
   "source": [
    "%%script node\n",
    "\n",
    "const sym = Symbol(\"Symbol değeri\")\n",
    "const sym2 = Symbol(\"Symbol değeri\");\n",
    "\n",
    "// Hem veri türü hem de veri tipi olarak birbirinden farklıdırlar. Konsola false ifadesi yazılacaktır.\n",
    "console.log(sym == sym2);\n",
    "console.log(sym === sym2);"
   ]
  },
  {
   "cell_type": "markdown",
   "metadata": {},
   "source": [
    "## JavaScript Symbol Veri Türünün Nesne Özellikli Değişkenler içerisinde Kullanımı"
   ]
  },
  {
   "cell_type": "markdown",
   "metadata": {},
   "source": [
    "Girişte bahsettiğimiz gibi symbol veri türüne sahip olan değişkenler sıklıkla nesne içerisinde depolanan veriye ulaşmak için key olarak kullanılırlar.\n",
    "\n",
    "Diyelim ki bir kod parçası farklı yerlerde veya programlarda kullanılsın. Bu durumda aynı key ismini kodun farklı bölümlerinde kullanabilir bu sayede kodun duplicate edilmesiyle oluşabilecek sorunların önüne geçebiliriz.\n",
    "\n",
    "Bunu bir örnek ile açıklayalım.\n",
    "\n",
    "**Örnek**"
   ]
  },
  {
   "cell_type": "code",
   "execution_count": 7,
   "metadata": {
    "vscode": {
     "languageId": "javascript"
    }
   },
   "outputs": [
    {
     "name": "stdout",
     "output_type": "stream",
     "text": [
      "\u001b[33m276\u001b[39m\n"
     ]
    }
   ],
   "source": [
    "%%script node\n",
    "let student = { firstName: \"Emin\" };\n",
    "let id = Symbol(\"Öğrenci numarası\");\n",
    "\n",
    "student[id] = 276;\n",
    "\n",
    "console.log(student[id]);"
   ]
  },
  {
   "cell_type": "markdown",
   "metadata": {},
   "source": [
    "`student` nesnesini başka bir program içerisinde kullandığımızı düşünelim. Program içerisinden  orijinal  kodlara erişip yeni bir **_property_**[^3] eklemek veya var olan property'i güncellemek mümkün değildir. \n",
    "\n",
    "Bu durumda symbol özellikli veri türlerini kullanılarak orijinal kodları başka bir program için özelleştirebiliriz. Anlaşılacağı üzere bu bize kodlar üzerinde esneklik kazandırır. Farklı programlarda aynı key ismini kullanabilir ve depolanan değerleri değiştirebiliriz. Böylece depolanan değerin duplicate edilmesinden kaynaklanabilecek sorunların önüne geçebiliriz.\n",
    "\n",
    "Örnekte id key'in tuttuğu değer başka bir program için özelleştirilmiş.\n",
    "**Örnek**\n"
   ]
  },
  {
   "cell_type": "code",
   "execution_count": 8,
   "metadata": {
    "vscode": {
     "languageId": "javascript"
    }
   },
   "outputs": [
    {
     "name": "stdout",
     "output_type": "stream",
     "text": [
      "\u001b[33m500\u001b[39m\n"
     ]
    }
   ],
   "source": [
    "%%script node\n",
    "let student = { firstName: \"Emin\" };\n",
    "let id = Symbol(\"Öğrenci numarası\");\n",
    "\n",
    "// Başka bir program içerisinde id key'ine ulaşıp 500 değerini depoluyoruz. \n",
    "\n",
    "student[id] = 500;\n",
    "\n",
    "console.log(student[id]);"
   ]
  },
  {
   "cell_type": "markdown",
   "metadata": {},
   "source": [
    "Yukarıdaki program başka bir yerde kullanıldığında `id` key'in depoladığı değer overwrite edilebilir. Bu durumda `id` key'in depoladığı değer değişecektir.\n",
    "\n",
    "**Örnek**"
   ]
  },
  {
   "cell_type": "code",
   "execution_count": 13,
   "metadata": {
    "vscode": {
     "languageId": "javascript"
    }
   },
   "outputs": [
    {
     "name": "stderr",
     "output_type": "stream",
     "text": [
      "[stdin]:5\n",
      "student[id] = 500;\n",
      "        ^\n",
      "\n",
      "ReferenceError: id is not defined\n",
      "    at [stdin]:5:9\n",
      "\u001b[90m    at Script.runInThisContext (node:vm:122:12)\u001b[39m\n",
      "\u001b[90m    at Object.runInThisContext (node:vm:296:38)\u001b[39m\n",
      "\u001b[90m    at node:internal/process/execution:83:21\u001b[39m\n",
      "    at [stdin]-wrapper:6:24\n",
      "\u001b[90m    at runScript (node:internal/process/execution:82:62)\u001b[39m\n",
      "\u001b[90m    at evalScript (node:internal/process/execution:104:10)\u001b[39m\n",
      "\u001b[90m    at node:internal/main/eval_stdin:31:5\u001b[39m\n",
      "\u001b[90m    at Socket.<anonymous> (node:internal/process/execution:205:5)\u001b[39m\n",
      "\u001b[90m    at Socket.emit (node:events:526:35)\u001b[39m\n",
      "\n",
      "Node.js v20.9.0\n"
     ]
    },
    {
     "ename": "CalledProcessError",
     "evalue": "Command 'b'\\nlet student = { firstName: \"Emin\" };\\n\\n// using string as key\\nstudent[id] = 500;\\nconsole.log(student.id); \\n\\n// Ba\\xc5\\x9fka bir program taraf\\xc4\\xb1ndan id\\'ye ait de\\xc4\\x9fer overwrite ediliyor.\\nstudent.id = \"800\";\\n\\n// student.id property\\'sinin yeni de\\xc4\\x9feri 800 olacakt\\xc4\\xb1r.\\nconsole.log(student.id); \\n'' returned non-zero exit status 1.",
     "output_type": "error",
     "traceback": [
      "\u001b[0;31m---------------------------------------------------------------------------\u001b[0m",
      "\u001b[0;31mCalledProcessError\u001b[0m                        Traceback (most recent call last)",
      "\u001b[1;32m/TR/JavaScript/js12-symbol-data-type.ipynb Cell 15\u001b[0m line \u001b[0;36m1\n\u001b[0;32m----> <a href='vscode-notebook-cell:/TR/JavaScript/js12-symbol-data-type.ipynb?repo%3Deminaltan%2Flearn-web#X23scmVwbw%3D%3D?line=0'>1</a>\u001b[0m get_ipython()\u001b[39m.\u001b[39;49mrun_cell_magic(\u001b[39m'\u001b[39;49m\u001b[39mscript\u001b[39;49m\u001b[39m'\u001b[39;49m, \u001b[39m'\u001b[39;49m\u001b[39mnode\u001b[39;49m\u001b[39m'\u001b[39;49m, \u001b[39m'\u001b[39;49m\u001b[39m\\n\u001b[39;49;00m\u001b[39mlet student = \u001b[39;49m\u001b[39m{\u001b[39;49m\u001b[39m firstName: \u001b[39;49m\u001b[39m\"\u001b[39;49m\u001b[39mEmin\u001b[39;49m\u001b[39m\"\u001b[39;49m\u001b[39m };\u001b[39;49m\u001b[39m\\n\u001b[39;49;00m\u001b[39m\\n\u001b[39;49;00m\u001b[39m// using string as key\u001b[39;49m\u001b[39m\\n\u001b[39;49;00m\u001b[39mstudent[id] = 500;\u001b[39;49m\u001b[39m\\n\u001b[39;49;00m\u001b[39mconsole.log(student.id); \u001b[39;49m\u001b[39m\\n\u001b[39;49;00m\u001b[39m\\n\u001b[39;49;00m\u001b[39m// Başka bir program tarafından id\u001b[39;49m\u001b[39m\\'\u001b[39;49;00m\u001b[39mye ait değer overwrite ediliyor.\u001b[39;49m\u001b[39m\\n\u001b[39;49;00m\u001b[39mstudent.id = \u001b[39;49m\u001b[39m\"\u001b[39;49m\u001b[39m800\u001b[39;49m\u001b[39m\"\u001b[39;49m\u001b[39m;\u001b[39;49m\u001b[39m\\n\u001b[39;49;00m\u001b[39m\\n\u001b[39;49;00m\u001b[39m// student.id property\u001b[39;49m\u001b[39m\\'\u001b[39;49;00m\u001b[39msinin yeni değeri 800 olacaktır.\u001b[39;49m\u001b[39m\\n\u001b[39;49;00m\u001b[39mconsole.log(student.id); \u001b[39;49m\u001b[39m\\n\u001b[39;49;00m\u001b[39m'\u001b[39;49m)\n",
      "File \u001b[0;32m/usr/lib/python3.11/site-packages/IPython/core/interactiveshell.py:2493\u001b[0m, in \u001b[0;36mInteractiveShell.run_cell_magic\u001b[0;34m(self, magic_name, line, cell)\u001b[0m\n\u001b[1;32m   2491\u001b[0m \u001b[39mwith\u001b[39;00m \u001b[39mself\u001b[39m\u001b[39m.\u001b[39mbuiltin_trap:\n\u001b[1;32m   2492\u001b[0m     args \u001b[39m=\u001b[39m (magic_arg_s, cell)\n\u001b[0;32m-> 2493\u001b[0m     result \u001b[39m=\u001b[39m fn(\u001b[39m*\u001b[39;49margs, \u001b[39m*\u001b[39;49m\u001b[39m*\u001b[39;49mkwargs)\n\u001b[1;32m   2495\u001b[0m \u001b[39m# The code below prevents the output from being displayed\u001b[39;00m\n\u001b[1;32m   2496\u001b[0m \u001b[39m# when using magics with decorator @output_can_be_silenced\u001b[39;00m\n\u001b[1;32m   2497\u001b[0m \u001b[39m# when the last Python token in the expression is a ';'.\u001b[39;00m\n\u001b[1;32m   2498\u001b[0m \u001b[39mif\u001b[39;00m \u001b[39mgetattr\u001b[39m(fn, magic\u001b[39m.\u001b[39mMAGIC_OUTPUT_CAN_BE_SILENCED, \u001b[39mFalse\u001b[39;00m):\n",
      "File \u001b[0;32m/usr/lib/python3.11/site-packages/IPython/core/magics/script.py:314\u001b[0m, in \u001b[0;36mScriptMagics.shebang\u001b[0;34m(self, line, cell)\u001b[0m\n\u001b[1;32m    309\u001b[0m \u001b[39mif\u001b[39;00m args\u001b[39m.\u001b[39mraise_error \u001b[39mand\u001b[39;00m p\u001b[39m.\u001b[39mreturncode \u001b[39m!=\u001b[39m \u001b[39m0\u001b[39m:\n\u001b[1;32m    310\u001b[0m     \u001b[39m# If we get here and p.returncode is still None, we must have\u001b[39;00m\n\u001b[1;32m    311\u001b[0m     \u001b[39m# killed it but not yet seen its return code. We don't wait for it,\u001b[39;00m\n\u001b[1;32m    312\u001b[0m     \u001b[39m# in case it's stuck in uninterruptible sleep. -9 = SIGKILL\u001b[39;00m\n\u001b[1;32m    313\u001b[0m     rc \u001b[39m=\u001b[39m p\u001b[39m.\u001b[39mreturncode \u001b[39mor\u001b[39;00m \u001b[39m-\u001b[39m\u001b[39m9\u001b[39m\n\u001b[0;32m--> 314\u001b[0m     \u001b[39mraise\u001b[39;00m CalledProcessError(rc, cell)\n",
      "\u001b[0;31mCalledProcessError\u001b[0m: Command 'b'\\nlet student = { firstName: \"Emin\" };\\n\\n// using string as key\\nstudent[id] = 500;\\nconsole.log(student.id); \\n\\n// Ba\\xc5\\x9fka bir program taraf\\xc4\\xb1ndan id\\'ye ait de\\xc4\\x9fer overwrite ediliyor.\\nstudent.id = \"800\";\\n\\n// student.id property\\'sinin yeni de\\xc4\\x9feri 800 olacakt\\xc4\\xb1r.\\nconsole.log(student.id); \\n'' returned non-zero exit status 1."
     ]
    }
   ],
   "source": [
    "%%script node\n",
    "\n",
    "let student = { firstName: \"Emin\" };\n",
    "\n",
    "// using string as key\n",
    "person.id = 500;\n",
    "console.log(person.id); \n",
    "\n",
    "// Başka bir program tarafından id'ye ait değer overwrite ediliyor.\n",
    "person.id = \"800\";\n",
    "\n",
    "// person.id property'sinin yeni değeri 800 olacaktır.\n",
    "console.log(person.id); \n"
   ]
  },
  {
   "cell_type": "markdown",
   "metadata": {},
   "source": [
    "Benefit of Using Symbols in Object\n",
    "If the same code snippet is used in various programs, then it is better to use Symbols in the object key. It's because you can use the same key name in different codes and avoid duplication issues. For example,\n",
    "\n",
    "let person = {\n",
    "    name: \"Jack\"\n",
    "};\n",
    "\n",
    "// creating Symbol\n",
    "let id = Symbol(\"id\");\n",
    "\n",
    "// adding symbol as a key\n",
    "person[id] = 12;\n",
    "In the above program, if the person object is also used by another program, then you wouldn't want to add a property that can be accessed or changed by another program. Hence by using Symbol, you create a unique property that you can use.\n",
    "\n",
    "Now, if the other program also needs to use a property named id, just add a Symbol named id and there won't be duplication issues. For example,\n",
    "\n",
    "let person = {\n",
    "    name: \"Jack\"\n",
    "};\n",
    "\n",
    "let id = Symbol(\"id\");\n",
    "\n",
    "person[id] = \"Another value\";\n",
    "In the above program, even if the same name is used to store values, the Symbol data type will have a unique value.\n",
    "\n",
    "In the above program, if the string key was used, then the later program would have changed the value of the property. For example,\n",
    "\n",
    "let person = {\n",
    "    name: \"Jack\"\n",
    "};\n",
    "\n",
    "// using string as key\n",
    "person.id = 12;\n",
    "console.log(person.id); // 12\n",
    "\n",
    "// Another program overwrites value\n",
    "person.id = 'Another value';\n",
    "console.log(person.id); // Another value\n",
    "In the above program, the second user.id overwrites the previous value.\n",
    "\n"
   ]
  },
  {
   "cell_type": "markdown",
   "metadata": {},
   "source": [
    "Footnotes\n",
    "\n",
    "[^1] key tanımı\n",
    "[^2] API tanımı\n",
    "[^3] property tanımı"
   ]
  }
 ],
 "metadata": {
  "kernelspec": {
   "display_name": "Python 3",
   "language": "python",
   "name": "python3"
  },
  "language_info": {
   "codemirror_mode": {
    "name": "ipython",
    "version": 3
   },
   "file_extension": ".py",
   "mimetype": "text/x-python",
   "name": "python",
   "nbconvert_exporter": "python",
   "pygments_lexer": "ipython3",
   "version": "3.11.5"
  }
 },
 "nbformat": 4,
 "nbformat_minor": 2
}
