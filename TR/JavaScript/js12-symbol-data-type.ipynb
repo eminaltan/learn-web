{
 "cells": [
  {
   "cell_type": "code",
   "execution_count": 4,
   "metadata": {
    "vscode": {
     "languageId": "javascript"
    }
   },
   "outputs": [
    {
     "name": "stdout",
     "output_type": "stream",
     "text": [
      "symbol\n",
      "\u001b[33mfalse\u001b[39m\n",
      "\u001b[33mfalse\u001b[39m\n",
      "Hasan\n"
     ]
    }
   ],
   "source": [
    "%%script node\n",
    "\n",
    "let x = Symbol(\"Test\");\n",
    "\n",
    "console.log (typeof x)\n",
    "\n",
    "\n",
    "let y = Symbol(\"Test\");\n",
    "\n",
    "console.log(y == x)\n",
    "console.log(y === x)\n",
    "\n",
    "let student = { firstName: \"Emin\", lastName: \"Altan\" };\n",
    "\n",
    "student.firstName = \"Hasan\";\n",
    "\n",
    "console.log(student)\n",
    "\n",
    "let person ={[fis]}"
   ]
  }
 ],
 "metadata": {
  "kernelspec": {
   "display_name": "Python 3",
   "language": "python",
   "name": "python3"
  },
  "language_info": {
   "codemirror_mode": {
    "name": "ipython",
    "version": 3
   },
   "file_extension": ".py",
   "mimetype": "text/x-python",
   "name": "python",
   "nbconvert_exporter": "python",
   "pygments_lexer": "ipython3",
   "version": "3.11.5"
  }
 },
 "nbformat": 4,
 "nbformat_minor": 2
}
