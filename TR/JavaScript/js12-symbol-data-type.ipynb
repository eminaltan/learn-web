{
 "cells": [
  {
   "cell_type": "markdown",
   "metadata": {},
   "source": [
    "# JavaScript Symbol Veri Türü ve Tipi\n",
    "\n",
    "Merhaba arkadaşlar serinin bu bölümünde JavaScript'de **_symbol_** veri türlerini ve veri tiplerini inceleyeceğiz.\n",
    "\n",
    "Yazıda:\n",
    "\n",
    "- Symbol veri türüne ve veri tipine.\n",
    "- Boolean olarak depoladığı değere.\n",
    "- Bir nesne içerisinde **_key_**[^1] olarak kullanılmasına.\n",
    "- Benzersiz sabit olarak kullanımına.\n",
    "- Global hale getirilmesine.\n",
    "- Veri güvenliğini için kullanımına.\n",
    "- Object tipindeki symbol veri türüne.\n",
    "\n",
    "Değineceğim.\n",
    "\n",
    "İyi okumalar dilerim.\n"
   ]
  },
  {
   "cell_type": "markdown",
   "metadata": {},
   "source": [
    "## JavaScript Symbol Veri Türü\n",
    "\n",
    "Symbol veri türü primitive özelliklidir ve **_immutable_** yapıdadırlar yani değiştirilemezler.\n",
    "\n",
    "Symbol veri türleri **unique** özelliğe sahiptirler. Bu sebeple nesne tanımlı değişken içerisinde **_key_**[^1] olarak kullanılır ve değerlere erişim sağlanır.\n",
    "\n",
    "Yine unique olması sebebi ile program içerisinde **_API_**[^2] gibi sabit değerler için değişken oluşturmada sıklıkla symbol veri türlerinden faydalanılır.\n",
    "\n",
    "Symbol veri türleri aynı zamanda bir verinin encapsulation ilkesine göre gizliliğini ve güvenliğini sağlar.\n",
    "\n",
    "Symbol veri türü ES6 ile JavaScript'de dahil olmuştur.\n",
    "\n",
    "Symbol veri türünde bir değişken oluşturmak için ` Symbol(\"Description\")` metodundan faydalanılır. Buradaki `Description` terimi genelde symbol veri türünün hangi amaçla oluşturulduğunu ifade eder. Kullanılması isteğe bağlı opsiyoneldir.\n",
    "\n",
    "**💡`Description` teriminin kullanılması tavsiye edilir. Böylece symbol'un ne amaçla oluşturulduğu bilinecektir. Kullanılması özellikle bug/debug işlemlerinde faydalı olacaktır.**\n",
    "\n",
    "**Örnek**\n"
   ]
  },
  {
   "cell_type": "code",
   "execution_count": 23,
   "metadata": {
    "vscode": {
     "languageId": "javascript"
    }
   },
   "outputs": [
    {
     "name": "stdout",
     "output_type": "stream",
     "text": [
      "\u001b[32mSymbol(Personel ismini tanımlar.)\u001b[39m\n",
      "\u001b[32mSymbol()\u001b[39m\n"
     ]
    }
   ],
   "source": [
    "%%javascript\n",
    "// Örnekte symbol veri türünün tanımlanması görülmektedir.\n",
    "const pName = Symbol(\"Personel ismini tanımlar.\");\n",
    "const sName = Symbol();\n",
    "\n",
    "/** \n",
    " * Description tanımlanmış olması bir debug işleminde \n",
    " * değişkenin hangi amaçla oluşturulduğunu belirlemede yardımcı olacaktır.\n",
    " */\n",
    "console.log(pName)\n",
    "\n",
    "// Symbol() ifadesi konsola yazdırılır.\n",
    "console.log(sName)"
   ]
  },
  {
   "cell_type": "markdown",
   "metadata": {},
   "source": [
    "Symbol veri türü özellikli bir değişken boolean olarak daima `true` değerini tutar.\n"
   ]
  },
  {
   "cell_type": "code",
   "execution_count": 24,
   "metadata": {
    "vscode": {
     "languageId": "javascript"
    }
   },
   "outputs": [
    {
     "name": "stdout",
     "output_type": "stream",
     "text": [
      "\u001b[33mtrue\u001b[39m\n",
      "\u001b[33mtrue\u001b[39m\n"
     ]
    }
   ],
   "source": [
    "%%javascript\n",
    "\n",
    "const pName = Symbol(\"Personel ismini tanımlar.\");\n",
    "const sName = Symbol();\n",
    "\n",
    "// Boolean() metodu ile değişkenleri boolean olarak tuttuğu veri türünü öğreniyoruz.\n",
    "console.log(Boolean(pName))\n",
    "console.log(Boolean(pName))"
   ]
  },
  {
   "cell_type": "markdown",
   "metadata": {},
   "source": [
    "## JavaScript Symbol Veri Tipi\n",
    "\n",
    "Symbol veri türü özellikli değişkenlerin veri tipleri de symbol olacaktır.\n",
    "\n",
    "**Örnek**\n"
   ]
  },
  {
   "cell_type": "code",
   "execution_count": 25,
   "metadata": {
    "vscode": {
     "languageId": "javascript"
    }
   },
   "outputs": [
    {
     "name": "stdout",
     "output_type": "stream",
     "text": [
      "sym değişkeninin veri tipi symbol 'dur.\n"
     ]
    }
   ],
   "source": [
    "%%javascript\n",
    "\n",
    "const sym = Symbol(\"Bir symbol veri türü örneği.\")\n",
    "\n",
    "console.log(\"sym değişkeninin veri tipi \"+typeof sym+\" 'dur.\")"
   ]
  },
  {
   "cell_type": "markdown",
   "metadata": {},
   "source": [
    "Symbol veri türleri unique özelliklidir. aynı description'a sahip değişkenlerin türü ve veri tipi olarak birbirinden farklıdır.\n",
    "\n",
    "Bunun nedeni primitive özellikli veri türleri için değişken tanımlama işleminde bellekte yeni bir adres ayrılmasıdır.\n"
   ]
  },
  {
   "cell_type": "code",
   "execution_count": 26,
   "metadata": {
    "vscode": {
     "languageId": "javascript"
    }
   },
   "outputs": [
    {
     "name": "stdout",
     "output_type": "stream",
     "text": [
      "\u001b[33mfalse\u001b[39m\n",
      "\u001b[33mfalse\u001b[39m\n"
     ]
    }
   ],
   "source": [
    "%%javascript\n",
    "\n",
    "const sym = Symbol(\"Symbol değeri\")\n",
    "const sym2 = Symbol(\"Symbol değeri\");\n",
    "\n",
    "// Hem veri türü hem de veri tipi olarak birbirinden farklıdırlar. Konsola false ifadesi yazılacaktır.\n",
    "console.log(sym == sym2);\n",
    "console.log(sym === sym2);"
   ]
  },
  {
   "cell_type": "markdown",
   "metadata": {},
   "source": [
    "## JavaScript Symbol Veri Türünün Nesne içerisinde Kullanımı\n"
   ]
  },
  {
   "cell_type": "markdown",
   "metadata": {},
   "source": [
    "Symbol veri türüne sahip olan değişkenler sıklıkla nesne içerisinde depolanan veriye ulaşmak için key olarak kullanılırlar.\n",
    "\n",
    "Diyelim ki bir kod parçası farklı yerlerde veya programlarda kullanılsın. Bu durumda aynı key ismini kodun farklı bölümlerinde kullanabilir bu sayede kodun duplicate edilmesiyle oluşabilecek sorunların önüne geçebiliriz.\n",
    "\n",
    "Bunu bir örnek ile açıklayalım.\n",
    "\n",
    "**Örnek**\n"
   ]
  },
  {
   "cell_type": "code",
   "execution_count": 27,
   "metadata": {
    "vscode": {
     "languageId": "javascript"
    }
   },
   "outputs": [
    {
     "name": "stdout",
     "output_type": "stream",
     "text": [
      "\u001b[33m276\u001b[39m\n"
     ]
    }
   ],
   "source": [
    "%%javascript\n",
    "\n",
    "// Aşağıda student değişkeni nesne özelliklidir ve id key'ine 276 değeri depolanmış.\n",
    "\n",
    "let student = { firstName: \"Emin\" };\n",
    "let id = Symbol(\"Öğrenci numarası\");\n",
    "\n",
    "student[id] = 276;\n",
    "\n",
    "console.log(student[id]);"
   ]
  },
  {
   "cell_type": "markdown",
   "metadata": {},
   "source": [
    "`student` nesnesini başka bir programda kullandığımızı düşünelim. Program içerisinden orijinal kodlara erişip yeni bir **_property_**[^3] eklemek veya var olan property'i güncellemek mümkün değildir.\n",
    "\n",
    "Bu durumda symbol özellikli veri türlerini kullanılarak orijinal kodları başka bir program için özelleştirebiliriz. Anlaşılacağı üzere bu bize kodlar üzerinde esneklik kazandırır. Farklı programlarda aynı key ismini kullanabilir ve depolanan değerleri değiştirebiliriz. Böylece depolanan değerin duplicate edilmesinden kaynaklanabilecek sorunların önüne geçebiliriz.\n",
    "\n",
    "**Örnek**\n",
    "\n",
    "Örnekte id key'in tuttuğu değer başka bir program için özelleştirilmiş.\n"
   ]
  },
  {
   "cell_type": "code",
   "execution_count": 28,
   "metadata": {
    "vscode": {
     "languageId": "javascript"
    }
   },
   "outputs": [
    {
     "name": "stdout",
     "output_type": "stream",
     "text": [
      "\u001b[33m500\u001b[39m\n"
     ]
    }
   ],
   "source": [
    "%%javascript\n",
    "let student = { firstName: \"Emin\" };\n",
    "let id = Symbol(\"Öğrenci numarası\");\n",
    "\n",
    "// Başka bir program içerisinde id key'ine ulaşıp 500 değerini depoluyoruz. \n",
    "student[id] = 500;\n",
    "\n",
    "console.log(student[id]);"
   ]
  },
  {
   "cell_type": "markdown",
   "metadata": {},
   "source": [
    "Yukarıdaki program başka bir yerde kullanıldığında `id` key'in depoladığı değer overwrite edilebilir. Bu durumda `id` key'in depoladığı değer değişecektir.\n",
    "\n",
    "**Örnek**\n"
   ]
  },
  {
   "cell_type": "code",
   "execution_count": 29,
   "metadata": {
    "vscode": {
     "languageId": "javascript"
    }
   },
   "outputs": [
    {
     "name": "stdout",
     "output_type": "stream",
     "text": [
      "Bir önceki programda student değişkeninin değeri = 500\n",
      "Yeni programda student değişkeninin değeri = 800\n"
     ]
    }
   ],
   "source": [
    "%%javascript\n",
    "\n",
    "let student = { firstName: \"Emin\" };\n",
    "\n",
    "// Bir önceki programdan alınan değer.\n",
    "student.id = 500;\n",
    "console.log(\"Bir önceki programda student değişkeninin değeri = \"+student.id); \n",
    "\n",
    "// Başka bir program tarafından id'ye ait değer overwrite ediliyor.\n",
    "student.id = \"800\";\n",
    "\n",
    "// student.id property'sinin yeni değeri 800 olacaktır.\n",
    "console.log(\"Yeni programda student değişkeninin değeri = \"+student.id); \n"
   ]
  },
  {
   "cell_type": "markdown",
   "metadata": {},
   "source": [
    "## JavaScript Symbol Veri Türünün Benzersiz Sabit Olarak Kullanılması\n",
    "\n",
    "Symbol veri türünün unique olmasının getirdiği bir avantaj olarak program içerisinde **benzersiz sabit değerler** oluşturabiliriz. Özellikle bu yöntem **_API_** oluşturmada sıklıkla kullanılır.\n",
    "\n",
    "**Örnek**\n",
    "\n",
    "Aşağıdaki `Symbol()` metodu içerisinde nesne oluşturuluyor ve `const:true` property'si ile symbol'un constant olduğu ifade ediliyor.\n"
   ]
  },
  {
   "cell_type": "code",
   "execution_count": 30,
   "metadata": {
    "vscode": {
     "languageId": "javascript"
    }
   },
   "outputs": [
    {
     "name": "stdout",
     "output_type": "stream",
     "text": [
      "\u001b[32mSymbol(Unique özellikli bir sabit.)\u001b[39m\n"
     ]
    }
   ],
   "source": [
    "%%javascript\n",
    "\n",
    "// Symbol içerisinde nesne oluşturulduğuna dikkat edelim.\n",
    "const sym = Symbol(\"Unique özellikli bir sabit.\", { const: true })\n",
    "\n",
    "console.log(sym)"
   ]
  },
  {
   "cell_type": "markdown",
   "metadata": {},
   "source": [
    "## JavaScript Symbol Veri Türünün Global Hale Getirilmesi\n",
    "\n",
    "Bazen bir symbol veri türü özellikli değişkeni programın her yerinden ulaşıp kullanmak isteriz. Bu durumda `global:true` property'sini kullanırız.\n",
    "\n",
    "**Örnek**\n",
    "\n",
    "Aşağıdaki `Symbol()` metodu içerisinde nesne oluşturuluyor ve `global:true` property'si ile symbol'un global olduğu ifade ediliyor.\n"
   ]
  },
  {
   "cell_type": "code",
   "execution_count": 31,
   "metadata": {
    "vscode": {
     "languageId": "javascript"
    }
   },
   "outputs": [
    {
     "name": "stdout",
     "output_type": "stream",
     "text": [
      "\u001b[32mSymbol(Unique özellikli bir sabit.)\u001b[39m\n"
     ]
    }
   ],
   "source": [
    "%%javascript\n",
    "\n",
    "// Symbol içerisinde nesne oluşturulduğuna dikkat edelim.\n",
    "let sym = Symbol(\"Unique özellikli bir sabit.\", { global: true })\n",
    "\n",
    "console.log(sym)"
   ]
  },
  {
   "cell_type": "markdown",
   "metadata": {},
   "source": [
    "## JavaScript Symbol Veri Türü ile Verinin Güvenliğinin Sağlanması\n",
    "\n",
    "Bazen private değişkenler veya metotlar oluşturmak isteriz. Böylece verilerin dışarıdan erişilmesini engeller ve güvenliğini sağlarız. Böyle bir durumda symbol veri türü oldukça sık kullanılır. (Encapsulation İlkesi)\n",
    "\n",
    "**Örnek**\n"
   ]
  },
  {
   "cell_type": "code",
   "execution_count": 32,
   "metadata": {
    "vscode": {
     "languageId": "javascript"
    }
   },
   "outputs": [
    {
     "name": "stdout",
     "output_type": "stream",
     "text": [
      "firstName\n",
      "age\n"
     ]
    }
   ],
   "source": [
    "%%javascript\n",
    "\n",
    "const id = Symbol(\"Personel id'si\");\n",
    "\n",
    "const person = { firstName: \"Ömer\", age: 25, [id]: 14533 };\n",
    "\n",
    "// Konsol çıktısında id key'ine ait değer yazdırılmaz.\n",
    "for (const key in person) {\n",
    "  console.log(key)\n",
    "}"
   ]
  },
  {
   "cell_type": "markdown",
   "metadata": {},
   "source": [
    "## JavaScript Object Veri Tipinde Symbol Veri Türleri\n",
    "\n",
    "Bildiğimiz üzere JavaScript'de symbol özellikli değişkenler normalde **_immutable_**, ilkel ve symbol veri tipine sahip veri türleridir.\n",
    "\n",
    "**Ancak `Object()` metodu kullanılarak object veri tipinde symbol veri türleri oluşturulabilir.**\n",
    "\n",
    "**⚠️ Object veri tipinde oluşturulan symbol özellikli bir değişken ile normal yöntem kullanılarak oluşturulan symbol özellikli değişkenin veri tipi birbirinden farklıdır.**\n",
    "\n",
    "**Örnek**\n"
   ]
  },
  {
   "cell_type": "code",
   "execution_count": 33,
   "metadata": {
    "vscode": {
     "languageId": "javascript"
    }
   },
   "outputs": [
    {
     "name": "stdout",
     "output_type": "stream",
     "text": [
      "objectPersonalId değişkeninin veri tipi object 'dir.\n"
     ]
    }
   ],
   "source": [
    "%%javascript\n",
    "\n",
    "const personId = Symbol(\"Personel ID\");\n",
    "\n",
    "// personId değişkeninin veri tipini object veri tipine çevirmek için Object() metodundan faydalandık.\n",
    "const objectPersonalId= Object(personId)\n",
    "\n",
    "\n",
    "console.log(\"objectPersonalId değişkeninin veri tipi \" + typeof (objectPersonalId) + \" 'dir.\");\n"
   ]
  },
  {
   "cell_type": "markdown",
   "metadata": {},
   "source": [
    "Footnotes\n",
    "\n",
    "[^1] JavaScript nesnelerinde key (anahtar) kullanılmasının temel amacı, verileri organize etmek, erişmek ve işlemek için bir yapı sağlamaktır. \n",
    "[^2] JavaScript'te \"API\" (Application Programming Interface), genellikle başka bir yazılım veya hizmet ile iletişim kurmak, veri alışverişi yapmak veya belirli işlevselliğe erişmek için kullanılan bir arayüzü ifade eder. \n",
    "[^3] JavaScript'te bir nesnenin özelliklerini tanımlamak için kullanılan terim \"property\"dir. Nesneler, key-value çiftleri şeklinde özellikleri saklarlar ve bu özellikler \"property\" olarak adlandırılır. Bir nesnenin her bir property'si, nesnenin özelliklerini temsil eder ve bir key (anahtar) ile ilişkilendirilmiş bir değeri içerir.\n"
   ]
  }
 ],
 "metadata": {
  "kernelspec": {
   "display_name": "Python 3",
   "language": "python",
   "name": "python3"
  },
  "language_info": {
   "codemirror_mode": {
    "name": "ipython",
    "version": 3
   },
   "file_extension": ".py",
   "mimetype": "text/x-python",
   "name": "python",
   "nbconvert_exporter": "python",
   "pygments_lexer": "ipython3",
   "version": "3.10.12"
  }
 },
 "nbformat": 4,
 "nbformat_minor": 2
}
