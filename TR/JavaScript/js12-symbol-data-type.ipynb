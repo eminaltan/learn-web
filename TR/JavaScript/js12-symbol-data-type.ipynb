{
 "cells": [
  {
   "cell_type": "markdown",
   "metadata": {},
   "source": [
    "Benefit of Using Symbols in Object\n",
    "If the same code snippet is used in various programs, then it is better to use Symbols in the object key. It's because you can use the same key name in different codes and avoid duplication issues. For example,\n",
    "\n",
    "let person = {\n",
    "    name: \"Jack\"\n",
    "};\n",
    "\n",
    "// creating Symbol\n",
    "let id = Symbol(\"id\");\n",
    "\n",
    "// adding symbol as a key\n",
    "person[id] = 12;\n",
    "In the above program, if the person object is also used by another program, then you wouldn't want to add a property that can be accessed or changed by another program. Hence by using Symbol, you create a unique property that you can use.\n",
    "\n",
    "Now, if the other program also needs to use a property named id, just add a Symbol named id and there won't be duplication issues. For example,\n",
    "\n",
    "let person = {\n",
    "    name: \"Jack\"\n",
    "};\n",
    "\n",
    "let id = Symbol(\"id\");\n",
    "\n",
    "person[id] = \"Another value\";\n",
    "In the above program, even if the same name is used to store values, the Symbol data type will have a unique value.\n",
    "\n",
    "In the above program, if the string key was used, then the later program would have changed the value of the property. For example,\n",
    "\n",
    "let person = {\n",
    "    name: \"Jack\"\n",
    "};\n",
    "\n",
    "// using string as key\n",
    "person.id = 12;\n",
    "console.log(person.id); // 12\n",
    "\n",
    "// Another program overwrites value\n",
    "person.id = 'Another value';\n",
    "console.log(person.id); // Another value\n",
    "In the above program, the second user.id overwrites the previous value.\n",
    "\n"
   ]
  },
  {
   "cell_type": "markdown",
   "metadata": {},
   "source": [
    "## JavaScript Symbol Veri Türü\n",
    "\n",
    "Symbol veri türü primitive özelliklidir ve **_immutable_** yapıdadırlar yani değiştirilemezler.\n",
    "\n",
    "Symbol veri türleri **unique** özelliğe sahiptirler. Bu sebeple  nesne tanımlı değişken içerisinde **_key_**[^1] olarak kullanılır ve değerlere erişim sağlanır. \n",
    "\n",
    "Yine unique olması sebebi ile program içerisinde sabit değerler için sabit özellikli değişkenler oluşturmak için faydalıdır. Özellikle program içerisinde **_API_** oluşturulurken sıklıkla symbol veri türlerinden faydalanılır.\n",
    "\n",
    "Symbol veri türleri aynı zamanda bir verinin encapsulation ilkesine göre gizliliğini ve güvenliğini sağlar.\n",
    "\n",
    "Symbol veri türünde bir değişken oluşturmak için ` Symbol(\"Description\")` metodundan faydalanılır. Buradaki `Description` terimi genelde symbol veri türünün hangi amaçla oluşturulduğunu ifade etmek için kullanılır. Kullanılması isteğe bağlı opsiyoneldir.\n",
    "\n",
    "**💡`Description` teriminin kullanılması tavsiye edilir. Özellikle bug/debug işlemlerinde kullanılması faydalı olacaktır.**\n",
    "\n",
    "**Örnek**"
   ]
  },
  {
   "cell_type": "code",
   "execution_count": 5,
   "metadata": {
    "vscode": {
     "languageId": "javascript"
    }
   },
   "outputs": [
    {
     "name": "stdout",
     "output_type": "stream",
     "text": [
      "pName değişkenini [object Undefined] tanımlar.\n"
     ]
    },
    {
     "name": "stderr",
     "output_type": "stream",
     "text": [
      "[stdin]:6\n",
      "console.log(\"pName değişkenini \"+pName)\n",
      "                                ^\n",
      "\n",
      "TypeError: Cannot convert a Symbol value to a string\n",
      "    at [stdin]:6:33\n",
      "\u001b[90m    at Script.runInThisContext (node:vm:122:12)\u001b[39m\n",
      "\u001b[90m    at Object.runInThisContext (node:vm:296:38)\u001b[39m\n",
      "\u001b[90m    at node:internal/process/execution:83:21\u001b[39m\n",
      "    at [stdin]-wrapper:6:24\n",
      "\u001b[90m    at runScript (node:internal/process/execution:82:62)\u001b[39m\n",
      "\u001b[90m    at evalScript (node:internal/process/execution:104:10)\u001b[39m\n",
      "\u001b[90m    at node:internal/main/eval_stdin:31:5\u001b[39m\n",
      "\u001b[90m    at Socket.<anonymous> (node:internal/process/execution:205:5)\u001b[39m\n",
      "\u001b[90m    at Socket.emit (node:events:526:35)\u001b[39m\n",
      "\n",
      "Node.js v20.9.0\n"
     ]
    },
    {
     "ename": "CalledProcessError",
     "evalue": "Command 'b'\\n// \\xc3\\x96rnekte symbol veri t\\xc3\\xbcr\\xc3\\xbcn\\xc3\\xbcn tan\\xc4\\xb1mlanmas\\xc4\\xb1 g\\xc3\\xb6r\\xc3\\xbclmektedir.\\nconst pName = Symbol(\"Ident\\xc4\\xb1fy to personal name\");\\n\\nconsole.log(\"pName de\\xc4\\x9fi\\xc5\\x9fkenini \" + toString(pName) + \" tan\\xc4\\xb1mlar.\")\\nconsole.log(\"pName de\\xc4\\x9fi\\xc5\\x9fkenini \"+pName)\\n'' returned non-zero exit status 1.",
     "output_type": "error",
     "traceback": [
      "\u001b[0;31m---------------------------------------------------------------------------\u001b[0m",
      "\u001b[0;31mCalledProcessError\u001b[0m                        Traceback (most recent call last)",
      "\u001b[1;32m/TR/JavaScript/js12-symbol-data-type.ipynb Cell 3\u001b[0m line \u001b[0;36m1\n\u001b[0;32m----> <a href='vscode-notebook-cell:/TR/JavaScript/js12-symbol-data-type.ipynb?repo%3Deminaltan%2Flearn-web#W4scmVwbw%3D%3D?line=0'>1</a>\u001b[0m get_ipython()\u001b[39m.\u001b[39;49mrun_cell_magic(\u001b[39m'\u001b[39;49m\u001b[39mscript\u001b[39;49m\u001b[39m'\u001b[39;49m, \u001b[39m'\u001b[39;49m\u001b[39mnode\u001b[39;49m\u001b[39m'\u001b[39;49m, \u001b[39m'\u001b[39;49m\u001b[39m\\n\u001b[39;49;00m\u001b[39m// Örnekte symbol veri türünün tanımlanması görülmektedir.\u001b[39;49m\u001b[39m\\n\u001b[39;49;00m\u001b[39mconst pName = Symbol(\u001b[39;49m\u001b[39m\"\u001b[39;49m\u001b[39mIdentıfy to personal name\u001b[39;49m\u001b[39m\"\u001b[39;49m\u001b[39m);\u001b[39;49m\u001b[39m\\n\u001b[39;49;00m\u001b[39m\\n\u001b[39;49;00m\u001b[39mconsole.log(\u001b[39;49m\u001b[39m\"\u001b[39;49m\u001b[39mpName değişkenini \u001b[39;49m\u001b[39m\"\u001b[39;49m\u001b[39m + toString(pName) + \u001b[39;49m\u001b[39m\"\u001b[39;49m\u001b[39m tanımlar.\u001b[39;49m\u001b[39m\"\u001b[39;49m\u001b[39m)\u001b[39;49m\u001b[39m\\n\u001b[39;49;00m\u001b[39mconsole.log(\u001b[39;49m\u001b[39m\"\u001b[39;49m\u001b[39mpName değişkenini \u001b[39;49m\u001b[39m\"\u001b[39;49m\u001b[39m+pName)\u001b[39;49m\u001b[39m\\n\u001b[39;49;00m\u001b[39m'\u001b[39;49m)\n",
      "File \u001b[0;32m/usr/lib/python3.11/site-packages/IPython/core/interactiveshell.py:2493\u001b[0m, in \u001b[0;36mInteractiveShell.run_cell_magic\u001b[0;34m(self, magic_name, line, cell)\u001b[0m\n\u001b[1;32m   2491\u001b[0m \u001b[39mwith\u001b[39;00m \u001b[39mself\u001b[39m\u001b[39m.\u001b[39mbuiltin_trap:\n\u001b[1;32m   2492\u001b[0m     args \u001b[39m=\u001b[39m (magic_arg_s, cell)\n\u001b[0;32m-> 2493\u001b[0m     result \u001b[39m=\u001b[39m fn(\u001b[39m*\u001b[39;49margs, \u001b[39m*\u001b[39;49m\u001b[39m*\u001b[39;49mkwargs)\n\u001b[1;32m   2495\u001b[0m \u001b[39m# The code below prevents the output from being displayed\u001b[39;00m\n\u001b[1;32m   2496\u001b[0m \u001b[39m# when using magics with decorator @output_can_be_silenced\u001b[39;00m\n\u001b[1;32m   2497\u001b[0m \u001b[39m# when the last Python token in the expression is a ';'.\u001b[39;00m\n\u001b[1;32m   2498\u001b[0m \u001b[39mif\u001b[39;00m \u001b[39mgetattr\u001b[39m(fn, magic\u001b[39m.\u001b[39mMAGIC_OUTPUT_CAN_BE_SILENCED, \u001b[39mFalse\u001b[39;00m):\n",
      "File \u001b[0;32m/usr/lib/python3.11/site-packages/IPython/core/magics/script.py:314\u001b[0m, in \u001b[0;36mScriptMagics.shebang\u001b[0;34m(self, line, cell)\u001b[0m\n\u001b[1;32m    309\u001b[0m \u001b[39mif\u001b[39;00m args\u001b[39m.\u001b[39mraise_error \u001b[39mand\u001b[39;00m p\u001b[39m.\u001b[39mreturncode \u001b[39m!=\u001b[39m \u001b[39m0\u001b[39m:\n\u001b[1;32m    310\u001b[0m     \u001b[39m# If we get here and p.returncode is still None, we must have\u001b[39;00m\n\u001b[1;32m    311\u001b[0m     \u001b[39m# killed it but not yet seen its return code. We don't wait for it,\u001b[39;00m\n\u001b[1;32m    312\u001b[0m     \u001b[39m# in case it's stuck in uninterruptible sleep. -9 = SIGKILL\u001b[39;00m\n\u001b[1;32m    313\u001b[0m     rc \u001b[39m=\u001b[39m p\u001b[39m.\u001b[39mreturncode \u001b[39mor\u001b[39;00m \u001b[39m-\u001b[39m\u001b[39m9\u001b[39m\n\u001b[0;32m--> 314\u001b[0m     \u001b[39mraise\u001b[39;00m CalledProcessError(rc, cell)\n",
      "\u001b[0;31mCalledProcessError\u001b[0m: Command 'b'\\n// \\xc3\\x96rnekte symbol veri t\\xc3\\xbcr\\xc3\\xbcn\\xc3\\xbcn tan\\xc4\\xb1mlanmas\\xc4\\xb1 g\\xc3\\xb6r\\xc3\\xbclmektedir.\\nconst pName = Symbol(\"Ident\\xc4\\xb1fy to personal name\");\\n\\nconsole.log(\"pName de\\xc4\\x9fi\\xc5\\x9fkenini \" + toString(pName) + \" tan\\xc4\\xb1mlar.\")\\nconsole.log(\"pName de\\xc4\\x9fi\\xc5\\x9fkenini \"+pName)\\n'' returned non-zero exit status 1."
     ]
    }
   ],
   "source": [
    "%%script node\n",
    "\n",
    "// Örnekte symbol veri türünün tanımlanması görülmektedir.\n",
    "const pName = Symbol(\"Identıfy to personal name\");\n",
    "\n",
    "console.log(pName)"
   ]
  },
  {
   "cell_type": "markdown",
   "metadata": {},
   "source": [
    "Footnotes\n",
    "\n",
    "[^1] key tanımı"
   ]
  }
 ],
 "metadata": {
  "kernelspec": {
   "display_name": "Python 3",
   "language": "python",
   "name": "python3"
  },
  "language_info": {
   "codemirror_mode": {
    "name": "ipython",
    "version": 3
   },
   "file_extension": ".py",
   "mimetype": "text/x-python",
   "name": "python",
   "nbconvert_exporter": "python",
   "pygments_lexer": "ipython3",
   "version": "3.11.5"
  }
 },
 "nbformat": 4,
 "nbformat_minor": 2
}
