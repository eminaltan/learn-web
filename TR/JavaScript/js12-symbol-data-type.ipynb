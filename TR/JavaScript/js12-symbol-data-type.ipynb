{
 "cells": [
  {
   "cell_type": "code",
   "execution_count": 10,
   "metadata": {
    "vscode": {
     "languageId": "javascript"
    }
   },
   "outputs": [
    {
     "name": "stdout",
     "output_type": "stream",
     "text": [
      "symbol\n",
      "\u001b[33mfalse\u001b[39m\n",
      "\u001b[33mfalse\u001b[39m\n"
     ]
    }
   ],
   "source": [
    "%%script node\n",
    "let value = Symbol(\"Test\");\n",
    "\n",
    "console.log (typeof value)\n",
    "\n",
    "\n",
    "let value2 = Symbol(\"Test\");\n",
    "\n",
    "console.log(value==value2)\n",
    "console.log(value===value2)\n",
    "\n",
    "\n"
   ]
  },
  {
   "cell_type": "code",
   "execution_count": 13,
   "metadata": {
    "vscode": {
     "languageId": "javascript"
    }
   },
   "outputs": [
    {
     "name": "stderr",
     "output_type": "stream",
     "text": [
      "[stdin]:10\n",
      "newPerson.forEach(element => {\n",
      "          ^\n",
      "\n",
      "TypeError: newPerson.forEach is not a function\n",
      "    at [stdin]:10:11\n",
      "\u001b[90m    at Script.runInThisContext (node:vm:122:12)\u001b[39m\n",
      "\u001b[90m    at Object.runInThisContext (node:vm:296:38)\u001b[39m\n",
      "\u001b[90m    at node:internal/process/execution:83:21\u001b[39m\n",
      "    at [stdin]-wrapper:6:24\n",
      "\u001b[90m    at runScript (node:internal/process/execution:82:62)\u001b[39m\n",
      "\u001b[90m    at evalScript (node:internal/process/execution:104:10)\u001b[39m\n",
      "\u001b[90m    at node:internal/main/eval_stdin:31:5\u001b[39m\n",
      "\u001b[90m    at Socket.<anonymous> (node:internal/process/execution:205:5)\u001b[39m\n",
      "\u001b[90m    at Socket.emit (node:events:526:35)\u001b[39m\n",
      "\n",
      "Node.js v20.9.0\n"
     ]
    },
    {
     "ename": "CalledProcessError",
     "evalue": "Command 'b'\\nlet personName = (\"Person Name\");\\n\\nconst newPerson = { firstName: personName, lastName: \"Altan\" }\\n\\nnewPerson.personName = \"Emin\";\\nnewPerson.personName = \"Hasan\";\\n\\n\\nnewPerson.forEach(element => {\\n    console.log(element[firstName])\\n    \\n});\\n\\n\\n\\n'' returned non-zero exit status 1.",
     "output_type": "error",
     "traceback": [
      "\u001b[0;31m---------------------------------------------------------------------------\u001b[0m",
      "\u001b[0;31mCalledProcessError\u001b[0m                        Traceback (most recent call last)",
      "\u001b[1;32m/TR/JavaScript/js12-symbol-data-type.ipynb Cell 2\u001b[0m line \u001b[0;36m1\n\u001b[0;32m----> <a href='vscode-notebook-cell:/TR/JavaScript/js12-symbol-data-type.ipynb?repo%3Deminaltan%2Flearn-web#W2scmVwbw%3D%3D?line=0'>1</a>\u001b[0m get_ipython()\u001b[39m.\u001b[39;49mrun_cell_magic(\u001b[39m'\u001b[39;49m\u001b[39mscript\u001b[39;49m\u001b[39m'\u001b[39;49m, \u001b[39m'\u001b[39;49m\u001b[39mnode\u001b[39;49m\u001b[39m'\u001b[39;49m, \u001b[39m'\u001b[39;49m\u001b[39m\\n\u001b[39;49;00m\u001b[39mlet personName = (\u001b[39;49m\u001b[39m\"\u001b[39;49m\u001b[39mPerson Name\u001b[39;49m\u001b[39m\"\u001b[39;49m\u001b[39m);\u001b[39;49m\u001b[39m\\n\u001b[39;49;00m\u001b[39m\\n\u001b[39;49;00m\u001b[39mconst newPerson = \u001b[39;49m\u001b[39m{\u001b[39;49m\u001b[39m firstName: personName, lastName: \u001b[39;49m\u001b[39m\"\u001b[39;49m\u001b[39mAltan\u001b[39;49m\u001b[39m\"\u001b[39;49m\u001b[39m }\u001b[39;49m\u001b[39m\\n\u001b[39;49;00m\u001b[39m\\n\u001b[39;49;00m\u001b[39mnewPerson.personName = \u001b[39;49m\u001b[39m\"\u001b[39;49m\u001b[39mEmin\u001b[39;49m\u001b[39m\"\u001b[39;49m\u001b[39m;\u001b[39;49m\u001b[39m\\n\u001b[39;49;00m\u001b[39mnewPerson.personName = \u001b[39;49m\u001b[39m\"\u001b[39;49m\u001b[39mHasan\u001b[39;49m\u001b[39m\"\u001b[39;49m\u001b[39m;\u001b[39;49m\u001b[39m\\n\u001b[39;49;00m\u001b[39m\\n\u001b[39;49;00m\u001b[39m\\n\u001b[39;49;00m\u001b[39mnewPerson.forEach(element => \u001b[39;49m\u001b[39m{\u001b[39;49m\u001b[39m\\n\u001b[39;49;00m\u001b[39m    console.log(element[firstName])\u001b[39;49m\u001b[39m\\n\u001b[39;49;00m\u001b[39m    \u001b[39;49m\u001b[39m\\n\u001b[39;49;00m\u001b[39m});\u001b[39;49m\u001b[39m\\n\u001b[39;49;00m\u001b[39m\\n\u001b[39;49;00m\u001b[39m\\n\u001b[39;49;00m\u001b[39m\\n\u001b[39;49;00m\u001b[39m'\u001b[39;49m)\n",
      "File \u001b[0;32m/usr/lib/python3.11/site-packages/IPython/core/interactiveshell.py:2493\u001b[0m, in \u001b[0;36mInteractiveShell.run_cell_magic\u001b[0;34m(self, magic_name, line, cell)\u001b[0m\n\u001b[1;32m   2491\u001b[0m \u001b[39mwith\u001b[39;00m \u001b[39mself\u001b[39m\u001b[39m.\u001b[39mbuiltin_trap:\n\u001b[1;32m   2492\u001b[0m     args \u001b[39m=\u001b[39m (magic_arg_s, cell)\n\u001b[0;32m-> 2493\u001b[0m     result \u001b[39m=\u001b[39m fn(\u001b[39m*\u001b[39;49margs, \u001b[39m*\u001b[39;49m\u001b[39m*\u001b[39;49mkwargs)\n\u001b[1;32m   2495\u001b[0m \u001b[39m# The code below prevents the output from being displayed\u001b[39;00m\n\u001b[1;32m   2496\u001b[0m \u001b[39m# when using magics with decorator @output_can_be_silenced\u001b[39;00m\n\u001b[1;32m   2497\u001b[0m \u001b[39m# when the last Python token in the expression is a ';'.\u001b[39;00m\n\u001b[1;32m   2498\u001b[0m \u001b[39mif\u001b[39;00m \u001b[39mgetattr\u001b[39m(fn, magic\u001b[39m.\u001b[39mMAGIC_OUTPUT_CAN_BE_SILENCED, \u001b[39mFalse\u001b[39;00m):\n",
      "File \u001b[0;32m/usr/lib/python3.11/site-packages/IPython/core/magics/script.py:314\u001b[0m, in \u001b[0;36mScriptMagics.shebang\u001b[0;34m(self, line, cell)\u001b[0m\n\u001b[1;32m    309\u001b[0m \u001b[39mif\u001b[39;00m args\u001b[39m.\u001b[39mraise_error \u001b[39mand\u001b[39;00m p\u001b[39m.\u001b[39mreturncode \u001b[39m!=\u001b[39m \u001b[39m0\u001b[39m:\n\u001b[1;32m    310\u001b[0m     \u001b[39m# If we get here and p.returncode is still None, we must have\u001b[39;00m\n\u001b[1;32m    311\u001b[0m     \u001b[39m# killed it but not yet seen its return code. We don't wait for it,\u001b[39;00m\n\u001b[1;32m    312\u001b[0m     \u001b[39m# in case it's stuck in uninterruptible sleep. -9 = SIGKILL\u001b[39;00m\n\u001b[1;32m    313\u001b[0m     rc \u001b[39m=\u001b[39m p\u001b[39m.\u001b[39mreturncode \u001b[39mor\u001b[39;00m \u001b[39m-\u001b[39m\u001b[39m9\u001b[39m\n\u001b[0;32m--> 314\u001b[0m     \u001b[39mraise\u001b[39;00m CalledProcessError(rc, cell)\n",
      "\u001b[0;31mCalledProcessError\u001b[0m: Command 'b'\\nlet personName = (\"Person Name\");\\n\\nconst newPerson = { firstName: personName, lastName: \"Altan\" }\\n\\nnewPerson.personName = \"Emin\";\\nnewPerson.personName = \"Hasan\";\\n\\n\\nnewPerson.forEach(element => {\\n    console.log(element[firstName])\\n    \\n});\\n\\n\\n\\n'' returned non-zero exit status 1."
     ]
    }
   ],
   "source": [
    "%%script node\n",
    "\n",
    "let personName = (\"Person Name\");\n",
    "\n",
    "const newPerson = { firstName: personName, lastName: \"Altan\" }\n",
    "\n",
    "newPerson.personName = \"Emin\";\n",
    "newPerson.personName = \"Hasan\";\n",
    "\n",
    "\n",
    "array.forEach(element => {\n",
    "    \n",
    "});\n",
    "\n",
    "\n",
    "\n"
   ]
  }
 ],
 "metadata": {
  "kernelspec": {
   "display_name": "Python 3",
   "language": "python",
   "name": "python3"
  },
  "language_info": {
   "codemirror_mode": {
    "name": "ipython",
    "version": 3
   },
   "file_extension": ".py",
   "mimetype": "text/x-python",
   "name": "python",
   "nbconvert_exporter": "python",
   "pygments_lexer": "ipython3",
   "version": "3.11.5"
  }
 },
 "nbformat": 4,
 "nbformat_minor": 2
}
