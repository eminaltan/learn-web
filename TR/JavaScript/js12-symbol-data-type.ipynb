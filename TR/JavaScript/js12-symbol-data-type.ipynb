{
 "cells": [
  {
   "cell_type": "markdown",
   "metadata": {},
   "source": [
    "## JavaScript Symbol Veri Türü\n",
    "\n",
    "Symbol veri türü primitive özelliklidir ve **_immutable_** yapıdadırlar yani değiştirilemezler.\n",
    "\n",
    "Symbol veri türleri **unique** özelliğe sahiptirler. Bu sebeple  nesne tanımlı değişken içerisinde **_key_**[^1] olarak kullanılır ve değerlere erişim sağlanır. \n",
    "\n",
    "Yine unique olması sebebi ile program içerisinde **_API_**[^2] gibi sabit değerler için değişken  oluşturmada sıklıkla symbol veri türlerinden faydalanılır.\n",
    "\n",
    "Symbol veri türleri aynı zamanda bir verinin encapsulation ilkesine göre gizliliğini ve güvenliğini sağlar.\n",
    "\n",
    "Symbol veri türü ES6 ile JavaScript'de dahil olmuştur.\n",
    "\n",
    "Symbol veri türünde bir değişken oluşturmak için ` Symbol(\"Description\")` metodundan faydalanılır. Buradaki `Description` terimi genelde symbol veri türünün hangi amaçla oluşturulduğunu ifade eder. Kullanılması isteğe bağlı opsiyoneldir.\n",
    "\n",
    "**💡`Description` teriminin kullanılması tavsiye edilir. Böylece symbol'un ne amaçla oluşturulduğu bilinecektir. Kullanılması özellikle bug/debug işlemlerinde faydalı olacaktır.**\n",
    "\n",
    "**Örnek**"
   ]
  },
  {
   "cell_type": "code",
   "execution_count": 5,
   "metadata": {
    "vscode": {
     "languageId": "javascript"
    }
   },
   "outputs": [
    {
     "name": "stdout",
     "output_type": "stream",
     "text": [
      "\u001b[32mSymbol(Personel ismini tanımlar.)\u001b[39m\n",
      "\u001b[32mSymbol()\u001b[39m\n",
      "\u001b[33mtrue\u001b[39m\n",
      "\u001b[33mtrue\u001b[39m\n"
     ]
    }
   ],
   "source": [
    "%%script node\n",
    "\n",
    "// Örnekte symbol veri türünün tanımlanması görülmektedir.\n",
    "const pName = Symbol(\"Personel ismini tanımlar.\");\n",
    "const sName = Symbol();\n",
    "\n",
    "/** \n",
    " * Symbol(Personel ismini tanımlar.) Description tanımlanmış olması bir debug işleminde \n",
    " * değişkenin hangi amaçla oluşturulduğunu belirlemede yardımcı olacaktır.\n",
    " */\n",
    "console.log(pName)\n",
    "\n",
    "// Symbol() ifadesi konsola yazdırılır.\n",
    "console.log(sName)"
   ]
  },
  {
   "cell_type": "markdown",
   "metadata": {},
   "source": [
    "Symbol veri türü özellikli bir değişken boolean olarak daima `true` değerini tutar."
   ]
  },
  {
   "cell_type": "code",
   "execution_count": 6,
   "metadata": {
    "vscode": {
     "languageId": "javascript"
    }
   },
   "outputs": [
    {
     "name": "stdout",
     "output_type": "stream",
     "text": [
      "\u001b[33mtrue\u001b[39m\n",
      "\u001b[33mtrue\u001b[39m\n"
     ]
    }
   ],
   "source": [
    "%%script node\n",
    "\n",
    "const pName = Symbol(\"Personel ismini tanımlar.\");\n",
    "const sName = Symbol();\n",
    "\n",
    "// Boolean() metodu ile değişkenleri boolean olarak tuttuğu veri türünü öğreniyoruz.\n",
    "console.log(Boolean(pName))\n",
    "console.log(Boolean(pName))"
   ]
  },
  {
   "cell_type": "markdown",
   "metadata": {},
   "source": [
    "## JavaScript Symbol Veri Tipi\n",
    "\n",
    "Symbol veri türü özellikli değişkenlerin veri tipleri de symbol olacaktır.\n",
    "\n",
    "**Örnek**\n"
   ]
  },
  {
   "cell_type": "code",
   "execution_count": 9,
   "metadata": {
    "vscode": {
     "languageId": "javascript"
    }
   },
   "outputs": [
    {
     "name": "stdout",
     "output_type": "stream",
     "text": [
      "sym değişkeninin veri tipi symbol 'dur.\n"
     ]
    }
   ],
   "source": [
    "%%script node\n",
    "\n",
    "const sym = Symbol(\"Bir symbol veri türü örneği.\")\n",
    "\n",
    "console.log(\"sym değişkeninin veri tipi \"+typeof sym+\" 'dur.\")"
   ]
  },
  {
   "cell_type": "markdown",
   "metadata": {},
   "source": [
    "Symbol veri türleri unique özelliklidir. aynı description'a sahip değişkenlerin türü ve veri tipi olarak birbirlerinden farklıdırlar.\n",
    "\n",
    "Bunun nedeni primitive özellikli veri türleri için değişken tanımlama işleminde bellekte yeni bir adres ayrılmasıdır."
   ]
  },
  {
   "cell_type": "code",
   "execution_count": 14,
   "metadata": {
    "vscode": {
     "languageId": "javascript"
    }
   },
   "outputs": [
    {
     "name": "stdout",
     "output_type": "stream",
     "text": [
      "\u001b[33mfalse\u001b[39m\n",
      "\u001b[33mfalse\u001b[39m\n"
     ]
    }
   ],
   "source": [
    "%%script node\n",
    "\n",
    "const sym = Symbol(\"Symbol değeri\")\n",
    "const sym2 = Symbol(\"Symbol değeri\");\n",
    "\n",
    "// Hem veri türü hem de veri tipi olarak birbirinden farklıdırlar. Konsola false ifadesi yazılacaktır.\n",
    "console.log(sym == sym2);\n",
    "console.log(sym === sym2);"
   ]
  },
  {
   "cell_type": "markdown",
   "metadata": {},
   "source": [
    "## JavaScript Symbol Veri Türünün Nesne Özellikli Değişkenler içerisinde Kullanımı"
   ]
  },
  {
   "cell_type": "markdown",
   "metadata": {},
   "source": [
    "Girişte bahsettiğimiz gibi symbol veri türüne sahip olan değişkenler sıklıkla nesne içerisinde depolanan veriye ulaşmak için key olarak kullanılırlar.\n",
    "\n",
    "Diyelim ki bir kod parçası farklı yerlerde veya programlarda kullanılsın. Bu durumda aynı key ismini kodun farklı bölümlerinde kullanabilir bu sayede kodun duplicate edilmesiyle oluşabilecek sorunların önüne geçebiliriz.\n",
    "\n",
    "Bunu bir örnek ile açıklayalım.\n",
    "\n",
    "**Örnek**"
   ]
  },
  {
   "cell_type": "code",
   "execution_count": null,
   "metadata": {
    "vscode": {
     "languageId": "javascript"
    }
   },
   "outputs": [],
   "source": [
    "%%script node\n",
    "let student = { firstName: \"Emin\" };\n",
    "led id =Symbol(s)"
   ]
  },
  {
   "cell_type": "markdown",
   "metadata": {},
   "source": [
    "Benefit of Using Symbols in Object\n",
    "If the same code snippet is used in various programs, then it is better to use Symbols in the object key. It's because you can use the same key name in different codes and avoid duplication issues. For example,\n",
    "\n",
    "let person = {\n",
    "    name: \"Jack\"\n",
    "};\n",
    "\n",
    "// creating Symbol\n",
    "let id = Symbol(\"id\");\n",
    "\n",
    "// adding symbol as a key\n",
    "person[id] = 12;\n",
    "In the above program, if the person object is also used by another program, then you wouldn't want to add a property that can be accessed or changed by another program. Hence by using Symbol, you create a unique property that you can use.\n",
    "\n",
    "Now, if the other program also needs to use a property named id, just add a Symbol named id and there won't be duplication issues. For example,\n",
    "\n",
    "let person = {\n",
    "    name: \"Jack\"\n",
    "};\n",
    "\n",
    "let id = Symbol(\"id\");\n",
    "\n",
    "person[id] = \"Another value\";\n",
    "In the above program, even if the same name is used to store values, the Symbol data type will have a unique value.\n",
    "\n",
    "In the above program, if the string key was used, then the later program would have changed the value of the property. For example,\n",
    "\n",
    "let person = {\n",
    "    name: \"Jack\"\n",
    "};\n",
    "\n",
    "// using string as key\n",
    "person.id = 12;\n",
    "console.log(person.id); // 12\n",
    "\n",
    "// Another program overwrites value\n",
    "person.id = 'Another value';\n",
    "console.log(person.id); // Another value\n",
    "In the above program, the second user.id overwrites the previous value.\n",
    "\n"
   ]
  },
  {
   "cell_type": "markdown",
   "metadata": {},
   "source": [
    "Footnotes\n",
    "\n",
    "[^1] key tanımı\n",
    "[^2] API tanımı"
   ]
  }
 ],
 "metadata": {
  "kernelspec": {
   "display_name": "Python 3",
   "language": "python",
   "name": "python3"
  },
  "language_info": {
   "codemirror_mode": {
    "name": "ipython",
    "version": 3
   },
   "file_extension": ".py",
   "mimetype": "text/x-python",
   "name": "python",
   "nbconvert_exporter": "python",
   "pygments_lexer": "ipython3",
   "version": "3.11.5"
  }
 },
 "nbformat": 4,
 "nbformat_minor": 2
}
