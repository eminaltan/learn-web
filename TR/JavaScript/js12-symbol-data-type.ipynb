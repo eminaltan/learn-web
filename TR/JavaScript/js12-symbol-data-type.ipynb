{
 "cells": [
  {
   "cell_type": "code",
   "execution_count": null,
   "metadata": {
    "vscode": {
     "languageId": "javascript"
    }
   },
   "outputs": [],
   "source": [
    "%% script node\n",
    "\n",
    "let x = Symbol(\"Test\");\n",
    "\n",
    "console.log (typeof x)\n"
   ]
  }
 ],
 "metadata": {
  "language_info": {
   "name": "python"
  }
 },
 "nbformat": 4,
 "nbformat_minor": 2
}
