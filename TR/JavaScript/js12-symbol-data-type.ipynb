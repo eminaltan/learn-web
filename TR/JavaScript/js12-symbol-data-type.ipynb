{
 "cells": [
  {
   "cell_type": "markdown",
   "metadata": {},
   "source": [
    "Benefit of Using Symbols in Object\n",
    "If the same code snippet is used in various programs, then it is better to use Symbols in the object key. It's because you can use the same key name in different codes and avoid duplication issues. For example,\n",
    "\n",
    "let person = {\n",
    "    name: \"Jack\"\n",
    "};\n",
    "\n",
    "// creating Symbol\n",
    "let id = Symbol(\"id\");\n",
    "\n",
    "// adding symbol as a key\n",
    "person[id] = 12;\n",
    "In the above program, if the person object is also used by another program, then you wouldn't want to add a property that can be accessed or changed by another program. Hence by using Symbol, you create a unique property that you can use.\n",
    "\n",
    "Now, if the other program also needs to use a property named id, just add a Symbol named id and there won't be duplication issues. For example,\n",
    "\n",
    "let person = {\n",
    "    name: \"Jack\"\n",
    "};\n",
    "\n",
    "let id = Symbol(\"id\");\n",
    "\n",
    "person[id] = \"Another value\";\n",
    "In the above program, even if the same name is used to store values, the Symbol data type will have a unique value.\n",
    "\n",
    "In the above program, if the string key was used, then the later program would have changed the value of the property. For example,\n",
    "\n",
    "let person = {\n",
    "    name: \"Jack\"\n",
    "};\n",
    "\n",
    "// using string as key\n",
    "person.id = 12;\n",
    "console.log(person.id); // 12\n",
    "\n",
    "// Another program overwrites value\n",
    "person.id = 'Another value';\n",
    "console.log(person.id); // Another value\n",
    "In the above program, the second user.id overwrites the previous value.\n",
    "\n"
   ]
  }
 ],
 "metadata": {
  "kernelspec": {
   "display_name": "Python 3",
   "language": "python",
   "name": "python3"
  },
  "language_info": {
   "codemirror_mode": {
    "name": "ipython",
    "version": 3
   },
   "file_extension": ".py",
   "mimetype": "text/x-python",
   "name": "python",
   "nbconvert_exporter": "python",
   "pygments_lexer": "ipython3",
   "version": "3.11.5"
  }
 },
 "nbformat": 4,
 "nbformat_minor": 2
}
