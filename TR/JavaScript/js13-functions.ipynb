{
 "cells": [
  {
   "cell_type": "markdown",
   "metadata": {},
   "source": [
    "# JavaScript Fonksiyonlar\n",
    "\n",
    "Merhaba arkadaşlar serinin bu bölümünde JavaScript'de **_fonksiyonları (metotları)_** inceleyeceğiz.\n",
    "\n",
    "Yazıda:\n",
    "\n",
    "- Fonksiyonların faydalarına.\n",
    "- Fonksiyonun bölümlerine.\n",
    "- `return` ve `()` işaretinin kullanımına.\n",
    "- Local ve global değişkenlere.\n",
    "- Değişken özellikli fonksiyonlara.\n",
    "\n",
    "Değineceğim.\n",
    "\n",
    "İyi okumalar dilerim.\n"
   ]
  },
  {
   "cell_type": "markdown",
   "metadata": {
    "vscode": {
     "languageId": "plaintext"
    }
   },
   "source": [
    "## JavaScript'de Fonksiyonun Özellikleri\n",
    "\n",
    "Fonksiyonlar kod bloklarından oluşurlar ve bu kod blokları arasındaki belirli görevleri yerine getirirler.\n",
    "\n",
    "Değişken isimi oluşturmada kullanılan kurallar fonksiyon ismi oluşturmada kullanılan isim için de geçerlidir. Hatırlamak için [JavaScript Identifiers Kavramı](js02-basics-of-js.ipynb#javascript-identifiers-kavramı) başlığını ziyaret edebilirsiniz.\n",
    "\n",
    "Fonksiyonlar temelde bize aşağıdaki faydaları sağlar.\n",
    "\n",
    "1. Tekrar kullanılabilir kod blokları oluşturabiliriz. Böylece programın farklı bölümlerinde aynı işlevi gerçekleştirmek için fonksiyonu çağırmak yeterli olur, kodları yeniden yazmamış oluruz. Bu ilkeye **_DRY_**[^1] adı verilir.\n",
    "\n",
    "2. Fonksiyon içerisindeki farklı argümanları kullanarak farklı sonuçlar elde edebiliriz.\n",
    "\n",
    "Fonksiyonların yapıları object özelliklidir.\n",
    "\n",
    "**Örnek**\n"
   ]
  },
  {
   "cell_type": "code",
   "execution_count": 78,
   "metadata": {
    "vscode": {
     "languageId": "javascript"
    }
   },
   "outputs": [
    {
     "name": "stdout",
     "output_type": "stream",
     "text": [
      "\u001b[33mtrue\u001b[39m\n"
     ]
    }
   ],
   "source": [
    "%%javascript\n",
    "\n",
    "function myFunction() {\n",
    "    return \"Bu bir fonksiyondur.\"\n",
    "}\n",
    "\n",
    "// instanceof operatörünü bir değişken ile object arasındaki ilişkiyi anlamada kullanıyoruz. \n",
    "console.log (myFunction instanceof Object )\n"
   ]
  },
  {
   "cell_type": "markdown",
   "metadata": {},
   "source": [
    "## JavaScript Fonksiyonun Bölümleri\n",
    "\n",
    "Şimdi de bir fonksiyonun bölümlerini inceleyelim.\n",
    "\n",
    "![part-of-function](https://savvy.co.il/wp-content/uploads/2022/03/javascript-function.webp, \"fonksiyonun kısımları\")\n",
    "\n",
    "Bir fonksiyon oluşturmak için `function` keyword'unden faydalanırız. `function` keyword'unu sırasıyla fonksiyon ismi, `()` ve `{}` işareti takip eder.\n",
    "\n",
    "Fonksiyonda kullanılabilecek değişkenler`()` işaretleri arasında da oluşturulabilir. Buna fonksiyonun parametresi veya argümanları adı verilir. Parametreler birbirlerinden `,` işareti ile ayrılırlar.\n",
    "\n",
    "`{}` işaretleri arasına çalıştırılacak kodlar yazılır. Bu kodlara **_function statement_** adı verilir.\n",
    "\n",
    "Kodlar çalıştıktan sonra üretilen değer `return` keyword'u ile geri döndürülür. `return` keyword'unun yeri `{}` işaretleri arasındadır.\n",
    "\n",
    "Bir fonksiyon `return` keyword'una ulaştıktan sonra çalışmayı sonlandırır ve sonrasındaki kodları çalıştırılmaz. Fonksiyon çağrıldığı yere sonuç döndürülür.\n",
    "\n",
    "**Örnek**\n"
   ]
  },
  {
   "cell_type": "code",
   "execution_count": 79,
   "metadata": {
    "vscode": {
     "languageId": "javascript"
    }
   },
   "outputs": [
    {
     "name": "stdout",
     "output_type": "stream",
     "text": [
      "Fonksiyonun sonucu 7 'dir.\n"
     ]
    }
   ],
   "source": [
    "%%javascript\n",
    "\n",
    "/** \n",
    " * Fonksiyon ismi myFunction\n",
    " * \n",
    " * Fonksiyonun argumanları parameter1 ve parameter2'dir.\n",
    " */\n",
    "function myFunction (parameter1,parameter2){\n",
    "\n",
    "  let result = parameter1 + parameter2\n",
    "  \n",
    "  /** \n",
    "  * return keyword'una ulaşıldığında fonksiyon çalışmayı \n",
    "  * durduracak ve aşağıdaki result değişkenine ait değeri \n",
    "  * geri döndürecektir.\n",
    "  */\n",
    "  return result;\n",
    "\n",
    "// Aşağıdaki kod parçası çalışmayacaktır.\n",
    "let result2 =parameter1/parameter2\n",
    "}\n",
    "\n",
    "// parameter1=2 ve parameter2=5 olacaktır.\n",
    "console.log(\"Fonksiyonun sonucu \" + myFunction(2, 5) + \" 'dir.\")"
   ]
  },
  {
   "cell_type": "markdown",
   "metadata": {},
   "source": [
    "## JavaScript `return` Keyword'u ve `()` İşaretlerinin Kullanımı\n",
    "\n",
    "Aşağıdaki örnekte `return` keyword'u kullanılmamış bir fonksiyon görülüyor. Bu durumdaki fonksiyon çağrıldığında **_undefined_** değerini geri döndürür.\n",
    "\n",
    "**Örnek**\n"
   ]
  },
  {
   "cell_type": "code",
   "execution_count": 80,
   "metadata": {
    "vscode": {
     "languageId": "javascript"
    }
   },
   "outputs": [
    {
     "name": "stdout",
     "output_type": "stream",
     "text": [
      "\u001b[90mundefined\u001b[39m\n"
     ]
    }
   ],
   "source": [
    "%%javascript\n",
    "\n",
    "function myFunction() {\n",
    "    let a, b = 2;\n",
    "    a + b;\n",
    "}\n",
    "\n",
    "console.log(myFunction())"
   ]
  },
  {
   "cell_type": "markdown",
   "metadata": {},
   "source": [
    "Fonksiyonu çağırırken `()` işaretleri kullanmazsak fonksiyonun içeriği ekrana yazdırılır.\n",
    "\n",
    "**💡 Bu özellikle bug/debug işlemleri için faydalı olabilir.**\n",
    "\n",
    "**Örnek**\n"
   ]
  },
  {
   "cell_type": "code",
   "execution_count": 81,
   "metadata": {
    "vscode": {
     "languageId": "javascript"
    }
   },
   "outputs": [
    {
     "name": "stderr",
     "output_type": "stream",
     "text": [
      "UsageError: Cell magic `%%` not found.\n"
     ]
    }
   ],
   "source": [
    "%%javascript\n",
    "\n",
    "function myFunction(){\n",
    "    let result = 10 + 20;\n",
    "    return result;\n",
    "}\n",
    "\n",
    "// Konsola function myFunction(){let result = 10+20; return result;} ifadesi yazdırılır.\n",
    "console.log(myFunction);"
   ]
  },
  {
   "cell_type": "markdown",
   "metadata": {},
   "source": [
    "## JavaScript Fonksiyonlar İçerisindeki Local ve Global Değişkenler\n",
    "\n",
    "Bir fonksiyon içerisinde tanımlanan değişkenler **_local değişkenler_** olarak ifade edilir. Bu değişkenlere fonksiyonun dışarısından ulaşılamaz.\n",
    "\n",
    "**❗ `var` keyword'u kullanılarak oluşturulan bir değişken için bu durum geçerli değildir. `var` ile oluşturulan bir değişken global özelliğe sahiptir. Program içerisinde her yerden erişilebilir.**\n"
   ]
  },
  {
   "cell_type": "code",
   "execution_count": 82,
   "metadata": {
    "vscode": {
     "languageId": "javascript"
    }
   },
   "outputs": [
    {
     "data": {
      "application/javascript": "\nfunction myFunction(parameter1, parameter2) {\n    let value = 5;\n    const value2 = 10;\n    var value3 = 20;\n}\n\n/** \n * ReferenceError: value is not defined ifadesi konsola yazdırılır.\n *  const ve le ile oluşturulan bir değişken bulunduğu scope'un dışında kullanılamaz.\n */\nconsole.log(value)\nconsole.log(value2)\n\n/** \n * value3 değişkeni var keyword'u kullanarak tanımlandığı için global özelliğe sahip oldu.\n *  Yani tanımlandığı scope dışarısından erişilip kullanılabilir. Konsola 20 rakamı yazdırılır.\n */\nconsole.log(value3)\n",
      "text/plain": [
       "<IPython.core.display.Javascript object>"
      ]
     },
     "metadata": {},
     "output_type": "display_data"
    }
   ],
   "source": [
    "%%javascript\n",
    "\n",
    "function myFunction(parameter1, parameter2) {\n",
    "    let value = 5;\n",
    "    const value2 = 10;\n",
    "    var value3 = 20;\n",
    "}\n",
    "\n",
    "/** \n",
    " * ReferenceError: value is not defined ifadesi konsola yazdırılır.\n",
    " *  const ve le ile oluşturulan bir değişken bulunduğu scope'un dışında kullanılamaz.\n",
    " */\n",
    "console.log(value)\n",
    "console.log(value2)\n",
    "\n",
    "/** \n",
    " * value3 değişkeni var keyword'u kullanarak tanımlandığı için global özelliğe sahip oldu.\n",
    " *  Yani tanımlandığı scope dışarısından erişilip kullanılabilir. Konsola 20 rakamı yazdırılır.\n",
    " */\n",
    "console.log(value3)"
   ]
  },
  {
   "cell_type": "markdown",
   "metadata": {},
   "source": [
    "## JavaScript Değişken Özellikli Fonksiyonlar\n",
    "\n",
    "Bir değişkenin depoladığı değer fonksiyon olabilir. Bu durumdaki değişkenin içeriği konsola yazdırıldığına aslında konsola fonksiyona ait içerik yazdırılır.\n",
    "\n",
    "Ek olarak değişken özellikli fonksiyonlar matematiksel işlemlere sokulabilir.\n",
    "\n",
    "**Örnek**\n"
   ]
  },
  {
   "cell_type": "code",
   "execution_count": 83,
   "metadata": {
    "vscode": {
     "languageId": "javascript"
    }
   },
   "outputs": [
    {
     "name": "stdout",
     "output_type": "stream",
     "text": [
      "myFunction() fonksiyonun sonucu 30 'dur\n",
      "myFunction() fonksiyonu matematiksel işlemlere sokulabilir. Örnekte ifadesinin sonucu olan  40 değeri konsola yazdırılır.\n"
     ]
    }
   ],
   "source": [
    "%%javascript\n",
    "\n",
    "function myFunction() {\n",
    "    return 10 + 20;\n",
    "}\n",
    "\n",
    "let result = myFunction();\n",
    "\n",
    "// result değişkeni myFunction() referans gösteriyor.\n",
    "console.log(\"myFunction() fonksiyonun sonucu \" + result + \" 'dur\");\n",
    "\n",
    "console.log (\"myFunction() fonksiyonu matematiksel işlemlere sokulabilir. Örnekte ifadesinin sonucu olan  \"+ (result+10)+\" değeri konsola yazdırılır.\")"
   ]
  },
  {
   "cell_type": "markdown",
   "metadata": {},
   "source": [
    "Footnotes\n",
    "\n",
    "[^1]: \"DRY\" JavaScript kod yazma prensibi, \"Kendini Tekrarlama Yapma\" olarak adlandırılır. Bu prensip, kodunuzu tekrarlanan veya aynı işlevi yerine getiren kod parçalarını minimize ederek ve kodun yeniden kullanılabilirliğini teşvik ederek yazmanızı teşvik eder.\n"
   ]
  }
 ],
 "metadata": {
  "kernelspec": {
   "display_name": "Python 3",
   "language": "python",
   "name": "python3"
  },
  "language_info": {
   "codemirror_mode": {
    "name": "ipython",
    "version": 3
   },
   "file_extension": ".py",
   "mimetype": "text/x-python",
   "name": "python",
   "nbconvert_exporter": "python",
   "pygments_lexer": "ipython3",
   "version": "3.10.12"
  }
 },
 "nbformat": 4,
 "nbformat_minor": 2
}
