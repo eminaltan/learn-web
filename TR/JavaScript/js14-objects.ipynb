{
 "cells": [
  {
   "cell_type": "markdown",
   "metadata": {},
   "source": [
    "## JavaScript'de Nesneler\n",
    "\n",
    "JavaScript'de nesnelere incelemeden önce programlamada nesne kavramının üzerinde durmak isterim. Böylece "
   ]
  }
 ],
 "metadata": {
  "language_info": {
   "name": "python"
  }
 },
 "nbformat": 4,
 "nbformat_minor": 2
}
