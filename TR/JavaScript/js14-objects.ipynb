{
 "cells": [
  {
   "cell_type": "markdown",
   "metadata": {},
   "source": [
    "## JavaScript'de Nesneler\n",
    "\n",
    "JavaScript'de nesnelere incelemeden önce programlamada nesne kavramının üzerinde durmak isterim. Böylece JavaScript'de nesneleri anlamak kolay olacaktır.\n",
    "\n",
    "Programlamadaki nesneleri dünyamızdaki nesnelere benzetebiliriz. Mesela bir otomobili ele alalım. \n",
    "\n",
    "Otomobil dünyamızda tabi olarak bir nesnedir. Bir otomobilin markası, modeli, ağırlığı ve rengi gibi özellikleri vardır.  Ek olarak otomobilin çalışmasını, fren yapmasını veya durmasını sağlayan bir takım olaylar da vardır. \n",
    "\n",
    "Programlamadaki nesne mantığı da aynı şekildedir. Nesne türündeki bir değişkenin özellikleri ve bir takım görevleri çalıştırması için metotları (fonksiyonları) vardır. \n",
    "\n",
    "Bu zamana kadar bir değişkenin sadece bir değeri tutuğunu gördük. Nesne türündeki değişkenler "
   ]
  }
 ],
 "metadata": {
  "language_info": {
   "name": "python"
  }
 },
 "nbformat": 4,
 "nbformat_minor": 2
}
