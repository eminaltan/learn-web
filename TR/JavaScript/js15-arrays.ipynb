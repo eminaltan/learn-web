{
  "cells": [
    {
      "cell_type": "markdown",
      "metadata": {},
      "source": [
        "# JavaScript'de Array'lar\n",
        "\n",
        "Merhaba arkadaşlar serinin bu bölümünde JavaScript'de **_array_** veri türünü inceleyeceğiz.\n",
        "\n",
        "Yazıda:\n",
        "\n",
        "- JavaScript'de array veri türünün kullanımına.\n",
        "- **_element_**, **_numbered index_**, **_associative array_** ve **_named index_** kavramlarına.\n",
        "- `Array.isArray()` ve `Instanceof` metot ve operatörüne.\n",
        "- Object türündeki array değişkenlere.\n",
        "- Array özellikli bir değişken ile object özellikli bir değişken arasındaki farka.\n",
        "\n",
        "Değineceğim.\n",
        "\n",
        "İyi okumalar dilerim.\n"
      ]
    },
    {
      "cell_type": "markdown",
      "metadata": {},
      "source": [
        "## JavaScript Array Veri Türü\n",
        "\n",
        "Veri türü array olan bir değişken koleksiyon şeklinde verileri gruplandırarak depolar. Bu bağlamda depolanan değerlerin organize edilerek kullanılmasını sağlayan veri türlerinden biridir. Özellikle veri koleksiyonu içerisinde gezinmemizi ve işlemler yapmamızı kolaylaştırır.\n",
        "\n",
        "Aklımıza oturması için muspet bir örnek verelim. JavaScript'de değişken olarak tanımlanmış bir kaç tane araba markası olduğunu ve bu araba markalarını bir dosyaya kayıt etmek istediğimiz düşünelim. Her bir araba markası için ayrı ayrı işlem yapmak durumundayız. 3 veya 4 tane araba için bu durum belki sorun olmaz. Fakat 400 tane araba için aynı işlemi yapmak hep zaman hem de emek ister. Bu durumda array veri türü yardımımıza yetişir. Array veri türlerini JavaScript döngüleri ile birlikte kullanarak bu tarz işlemleri kolaylıkla çözebiliriz.\n",
        "\n",
        "Konuyu detaylandırmadan önce aşağıdaki örnek üzerinden bir takım temel kavramlara yer verelim.\n",
        "\n",
        "**Örnek**\n",
        "\n",
        "```javascript\n",
        "const cars = [\"Lada\", \"Opel\", \"BMW\"];\n",
        "```\n",
        "\n",
        "Bir array oluşturmak için genelde `[]` işaretini kullanırız. Değerler `[]` işaretleri arasına depolanır. Bu değerlere **_element_** adı verilir. Yukarıdaki örnek üzerinden gidersek `Lada` değeri bir element özelliği taşır. Elementler birbirlerinden `,` işareti ile ayrılırlar.\n",
        "\n",
        "**❗ Array elementlerine genelde index değeri ile ulaşır ve işlem yaparız. Bir array içerisinde index değeri daima 0'dan başlar. Örneğin `cars` değişkeni içerisindeki `Opel` elementine ulaşmak istiyorsak `cars[1]` şeklinde syntax kullanmamız gerekir.**\n",
        "\n",
        "**Örnek**\n"
      ]
    },
    {
      "cell_type": "code",
      "execution_count": 8,
      "metadata": {
        "vscode": {
          "languageId": "javascript"
        }
      },
      "outputs": [
        {
          "name": "stdout",
          "output_type": "stream",
          "text": [
            "Opel\n"
          ]
        }
      ],
      "source": [
        "%%script node\n",
        "const cars = [\"Lada\", \"Opel\", \"BMW\"];\n",
        "\n",
        "// cars array'ın içerisindeki 1 numaralı index değerine sahip elemente ulaşıyoruz. Lada 0 numaralı index değerine sahiptir.\n",
        "console.log(cars[1]);\n"
      ]
    },
    {
      "cell_type": "markdown",
      "metadata": {},
      "source": [
        "Array veri türü özel nitelikli object veri tipine sahiptir. Bunun anlamı array özellikli bir değişken farklı veri türlerini bir arada barındırabilir.\n",
        "\n",
        "**Örnek**\n"
      ]
    },
    {
      "cell_type": "code",
      "execution_count": 9,
      "metadata": {
        "vscode": {
          "languageId": "javascript"
        }
      },
      "outputs": [
        {
          "name": "stdout",
          "output_type": "stream",
          "text": [
            "\u001b[33m1700699441937\u001b[39m\n",
            "{ cardNumber: \u001b[33m10\u001b[39m, phoneNumber: \u001b[33m115\u001b[39m }\n",
            "Mustafa\n",
            "object\n"
          ]
        }
      ],
      "source": [
        "%%script node\n",
        "\n",
        "// Örnekte gördüğümüz gibi array özellikli personal değişkeni zaman, nesne ve bir değer şeklinde farklı türlerde veri tipini barındırır.\n",
        "const personal = [Date.now(), privateInformation = { cardNumber: 10, phoneNumber:115}, \"Mustafa\"];\n",
        "\n",
        "// Date nesnesinin now() fonksiyonu çağırdık ve elde ettiğimiz zaman değerini mili saniye olarak konsola yazdırdık.\n",
        "console.log(personal[0])\n",
        "\n",
        "// privateInformation adında bir nesnenin içeriğini konsola yazdırıyoruz.\n",
        "console.log(personal[1])\n",
        "\n",
        "// Array içerisindeki Mustafa değerine ulaşıyoruz.\n",
        "console.log(personal[2])\n",
        "\n",
        "// personal değişkeninin veri türü object'dir.\n",
        "console.log(typeof personal)\n"
      ]
    },
    {
      "cell_type": "markdown",
      "metadata": {},
      "source": [
        "## JavaScript Array Türündeki Değişkene Yeni Elementler Eklenmesi\n",
        "\n",
        "Array özellikli bir değişkene 2 yöntemden birini kullanarak yeni bir element ekleyebiliriz:\n",
        "\n",
        "1. `push()` metodunu kullanarak.\n",
        "\n",
        "2. Index değerini kullanarak.\n",
        "\n",
        "**Örnek**"
      ]
    },
    {
      "cell_type": "code",
      "execution_count": 10,
      "metadata": {
        "vscode": {
          "languageId": "javascript"
        }
      },
      "outputs": [
        {
          "name": "stdout",
          "output_type": "stream",
          "text": [
            "Elma suyu\n"
          ]
        }
      ],
      "source": [
        "%%script node\n",
        "\n",
        "const drinks = [\"Çay\", \"Kahve\", \"Portal suyu\"]\n",
        "\n",
        "/** \n",
        " * drinks array özellikli değişkene yeni bir element ekliyoruz. \n",
        " * Element array içerisinde en sona yerleştirilir.\n",
        " * Bu durumda Portakal suyundan sonra Elma suyu gelecektir.\n",
        " */ \n",
        "drinks.push(\"Elma suyu\");\n",
        "\n",
        "// 3.index değeri 4.elemente  yani Elma suyuna denk gelir.\n",
        "console.log(drinks[3]);"
      ]
    },
    {
      "cell_type": "markdown",
      "metadata": {},
      "source": [
        "Aşağıda ise index numarasını kullanarak array özellikli değişkenin içerisine element ekliyoruz.\n",
        "\n",
        "Aynı zamanda array veri türüne sahip bir değişkeni aşağıdaki gibi boş tanımlayabiliriz. Genelde bu yöntem sonradan içeriği doldurulması düşünülen durumlarda kullanılır.\n",
        "\n",
        "**Örnek**\n"
      ]
    },
    {
      "cell_type": "code",
      "execution_count": 11,
      "metadata": {
        "vscode": {
          "languageId": "javascript"
        }
      },
      "outputs": [
        {
          "name": "stdout",
          "output_type": "stream",
          "text": [
            "Lada\n"
          ]
        }
      ],
      "source": [
        "%%script node\n",
        "\n",
        "// Array özellikli bir değişkenin elementleri olmayabilir.\n",
        "const cars = [];\n",
        "\n",
        "// cars değişkeni içerisine 0.indeks numarası ile 1.elementine Lada string değerini depoluyoruz.\n",
        "cars[0] = \"Lada\";\n",
        "\n",
        "// Konsola Lada string'i yazdırılacaktır.\n",
        "console.log(cars[0]);\n"
      ]
    },
    {
      "cell_type": "markdown",
      "metadata": {},
      "source": [
        "**❗ Yeni bir değer depolama işleminde element sayısı göz önünde bulundurulmadan verilen index değeri array içerisinde boşluklara neden olacaktır.**\n",
        "\n",
        "**Bu sebeple yeni değer depolanırken değişken içerisindeki depolanmış element sayısına göre index değeri belirlenmesi tavsiye edilir.**\n",
        "\n",
        "**Örnek**\n"
      ]
    },
    {
      "cell_type": "code",
      "execution_count": 12,
      "metadata": {
        "vscode": {
          "languageId": "javascript"
        }
      },
      "outputs": [
        {
          "name": "stdout",
          "output_type": "stream",
          "text": [
            "[ \u001b[32m'BMW'\u001b[39m, \u001b[32m'Saab'\u001b[39m, \u001b[32m'Fiat'\u001b[39m, \u001b[90m<7 empty items>\u001b[39m, \u001b[32m'Ford'\u001b[39m ]\n"
          ]
        }
      ],
      "source": [
        "%%script node\n",
        "\n",
        "const cars = [\"BMW\", \"Saab\", \"Fiat\"];\n",
        "\n",
        "// cars referansının 10.indeksine ulaşıyor ve Ford değerini depoluyoruz.\n",
        "cars[10] = \"Ford\";\n",
        "\n",
        "/**\n",
        " * Konsola [ 'BMW', 'Saab', 'Fiat', <7 empty items>, 'Ford' ] ifadesi yazdırılacaktır.\n",
        " * Yani arada 6 tane boş index ve element oluşturmuş olduk.\n",
        " */\n",
        "console.log(cars);\n"
      ]
    },
    {
      "cell_type": "markdown",
      "metadata": {},
      "source": [
        "## JavaScript Array Veri Türünde Değişken Oluşturma Yöntemleri\n",
        "\n",
        "Array veri türünde bir değişken oluşturmak için 2 yöntemden biri kullanılır:\n",
        "\n",
        "1. Literal yöntemi ile.\n",
        "\n",
        "2. Nesne türünde tanımlayarak.\n",
        "\n",
        "Konuya giriş yaparken 1.yönteme yani Literal yoluyla array özellikli bir değişken oluşturmaya değinmiş olduk Şimdi de nesne şeklinde array veri türü özellikli bir değişken oluşturmaya değinelim.\n"
      ]
    },
    {
      "cell_type": "markdown",
      "metadata": {},
      "source": [
        "### Nesne Türündeki Array Veri Türleri\n",
        "\n",
        "`new Array()` metodunu kullanılarak nesne şeklinde array veri türü özellikli bir değişken oluşturabiliriz.\n",
        "\n",
        "**⚠️ `new Array()` metodu kullanılarak oluşturulan değişken ile literal yöntem kullanılarak oluşturulan değişkeninin veri tipi aynıdır. İkisi de object veri tipine sahiptir.**\n",
        "\n",
        "**Örnek**\n"
      ]
    },
    {
      "cell_type": "code",
      "execution_count": 13,
      "metadata": {
        "vscode": {
          "languageId": "javascript"
        }
      },
      "outputs": [
        {
          "name": "stdout",
          "output_type": "stream",
          "text": [
            "object\n",
            "object\n"
          ]
        }
      ],
      "source": [
        "%%script node\n",
        "\n",
        "/**\n",
        " * new Array() metodu kullanılarak object veri tipinde array oluşturulur.\n",
        " * Bu arada new Array() metodu constructor olarak ifade edilir.\n",
        " */\n",
        "const cars = new Array(\"Lada\", \"Tata\", \"Fiat\");\n",
        "const cars2 = [];\n",
        "\n",
        "// Konsola object ifadesi yazdırılacaktır. Her iki değişkenin veri tipi de aynıdır.\n",
        "console.log(typeof cars);\n",
        "console.log(typeof cars2);\n"
      ]
    },
    {
      "cell_type": "markdown",
      "metadata": {},
      "source": [
        "Yukarıdaki örnekte göreceğimiz gibi `cars` array veri türündeki değişkenin içeriği `Lada`, `Tata` ve `Fiat` string değerlerinden oluşuyor.\n",
        "\n",
        "\n",
        "**💡 Aklınıza \"Hangi durumda literal hangi durumda nesne şeklinde array veri türü özellikli bir değişken tanımlamalıyım?\" şeklinde bir soru gelebilir. Bu durumda Değişkene ait elementler string değerlerden oluşuyorsa nesne türündeki yaklaşımı, şayet değişkenin elementleri sayısal değerlerden oluşuyorsa literal yaklaşımını kullanarak array veri türünde değişken tanımlayabiliriz.**"
      ]
    },
    {
      "cell_type": "markdown",
      "metadata": {},
      "source": [
        "## JavaScript'da Associative Özelliği\n",
        "\n",
        "Normalde javascript'de associative özelliği bulunmaz arkadaşlar. Bunun anlamı normal şartlarda array özellikli değişken içerisinde depolanan bir değere ulaşmak için index numarası yerine string bir ifade kullanamayız. Array özellikli bir değişkenin depoladığı değerlere **index** numarası ile ulaşırız. \n",
        "\n",
        "Ancak nesne türünde tanımlanmış bir değişkende associative özelliğini kullanabilir. \n",
        "\n",
        "**Örnek**\n"
      ]
    },
    {
      "cell_type": "code",
      "execution_count": 15,
      "metadata": {
        "vscode": {
          "languageId": "javascript"
        }
      },
      "outputs": [
        {
          "name": "stdout",
          "output_type": "stream",
          "text": [
            "John\n"
          ]
        }
      ],
      "source": [
        "%%script node\n",
        "\n",
        "const person= new Array()\n",
        "\n",
        "// Associative index örneği. firstName, isimlendirilmiş index olarak ifade edilir.\n",
        "person[\"firstName\"] = \"John\";\n",
        "console.log(person[\"firstName\"]);\n"
      ]
    },
    {
      "cell_type": "markdown",
      "metadata": {},
      "source": [
        "**❗Şayet index numarası yerine bir string ifade kullanırsak JavaScript bu değişkeni nesne türünde array özellikli bir değişken olarak yorumlar.**"
      ]
    },
    {
      "cell_type": "code",
      "execution_count": 16,
      "metadata": {
        "vscode": {
          "languageId": "javascript"
        }
      },
      "outputs": [
        {
          "name": "stdout",
          "output_type": "stream",
          "text": [
            "John\n"
          ]
        }
      ],
      "source": [
        "%%script node\n",
        "\n",
        "const person = [];\n",
        "\n",
        "/**\n",
        " *  Bu durumda person değişkeni nesne özellikli array veri türü halini alır.\n",
        " * firstName, isimlendirilmiş index olarak ifade edilir.\n",
        "*/\n",
        "person[\"firstName\"] = \"John\";\n",
        "console.log(person[\"firstName\"]);\n"
      ]
    },
    {
      "cell_type": "markdown",
      "metadata": {},
      "source": [
        "\n",
        "**❗ Yeri gelmişken `new Array()` metodunu kullanarak oluşturduğumuz nesne türündeki array özellikli değişkenler kod bloklarının yavaş çalışmasına neden olacağı için kullanılması tavsiye edilmez. Basitlik, okunabilirlik ve kod bloklarının hızlı çalışmasını için literal yöntemle oluşturulan array özellikli değişkenlerin kullanılması tavsiye edilir.**\n",
        "\n",
        "**Ayrıca `new Array()` metodu kullanılarak oluşturulan nesne türündeki array özellikli değişkenler bir takım sorunlara neden olabilir.Şayet nesne türünde bir array veri özellikli bir değişken tanımlayacaksak isimlendirilmiş index yöntemi ile değişkeni tanımlamak mantıklı olacaktır.**\n",
        "\n",
        "**Örnek**\n"
      ]
    },
    {
      "cell_type": "code",
      "execution_count": 23,
      "metadata": {
        "vscode": {
          "languageId": "javascript"
        }
      },
      "outputs": [
        {
          "name": "stdout",
          "output_type": "stream",
          "text": [
            "[ \u001b[33m40\u001b[39m ]\n",
            "[ \u001b[90m<40 empty items>\u001b[39m ]\n",
            "[ firstItem: \u001b[32m'80'\u001b[39m ]\n"
          ]
        }
      ],
      "source": [
        "%%script node\n",
        "\n",
        "const numbers = [40];\n",
        "const numbers2 = new Array(40);\n",
        "\n",
        "// numbers 40 değerini tutarken new Array() metodu ile oluşturduğumuz array 40 tane \",\" işareti üretecektir.\n",
        "console.log(numbers);\n",
        "console.log(numbers2);\n",
        "\n",
        "const numbers3 = [];\n",
        "\n",
        "numbers3[\"firstItem\"] = \"80\";\n",
        "\n",
        "// İsimlendirilmiş index yöntemi ile oluşturulan nesne \n",
        "console.log(numbers3)\n",
        "\n"
      ]
    },
    {
      "cell_type": "markdown",
      "metadata": {},
      "source": [
        "➖ Görüleceği üzere literal yöntemle oluşturulan array değişkenlerde elementlere erişim index numaraları ile yapılırken nesne özellikli array değişkenlerinde isimlendirilmiş bir indeks ile sağlanmaktadır. Bu kullanım yöntemi iki tür arasındaki en büyük farkı oluşturur."
      ]
    },
    {
      "cell_type": "markdown",
      "metadata": {},
      "source": [
        "**❗Bir nesnede isimlendirmiş index yöntemini key olarak kullanıp key'e denk gelen değere ulaşabiliriz.** \n",
        "\n",
        "**Örnek**"
      ]
    },
    {
      "cell_type": "code",
      "execution_count": 17,
      "metadata": {
        "vscode": {
          "languageId": "javascript"
        }
      },
      "outputs": [
        {
          "name": "stdout",
          "output_type": "stream",
          "text": [
            "Emin\n"
          ]
        }
      ],
      "source": [
        "%%script node\n",
        "\n",
        "const person = { firstName: \"Emin\", lastName: \"Altan\" }\n",
        "\n",
        "/** \n",
        " * Array içerisinde firstName isimlendirilmiş index'i \n",
        " *  * kullanarak person nesnesindeki firstName key'ine ait değere ulaşmış olduk.\n",
        "\n",
        " * */ \n",
        "console.log(person[\"firstName\"]);"
      ]
    },
    {
      "cell_type": "markdown",
      "metadata": {},
      "source": [
        "Burada şöyle bir soru aklımıza gelebilir. \"İsimlendirilmiş index'i hem array veri türüne sahip değişkenlerde hem de nesne veri türüne sahip değişkenlerde birlikte kullanabiliyoruz. Bu durumda bir değişkenin array mı yoksa nesne mi olup/olmadığını nasıl anlayacağız?\"\n",
        "\n",
        "İsimlendilmiş index kullanan bir değişkenin array veya nesne olup/olmadığını sınamanın en etkin yolu `Array.isArray()` metodudur arkadaşlar."
      ]
    },
    {
      "cell_type": "markdown",
      "metadata": {},
      "source": [
        "### `Array.isArray` Metodu\n",
        "\n",
        "Bir derğişkenin array veri türünde olup/olmadığını öğrenmek için kullanılan bir metottur. Eğer değişken array veri türünde ise sonuç olarak `true`, değilse `false` değerini geri döndürür.\n",
        "\n",
        "`Array.isArray()` metodu ECMAScript 5 (JavaScript 2009) ile JavaScript'e dahil edilmiştir.\n",
        "\n",
        "**Örnek**\n"
      ]
    },
    {
      "cell_type": "code",
      "execution_count": 18,
      "metadata": {
        "vscode": {
          "languageId": "javascript"
        }
      },
      "outputs": [
        {
          "name": "stdout",
          "output_type": "stream",
          "text": [
            "Murat\n",
            "Emin\n",
            "\u001b[33mtrue\u001b[39m\n",
            "\u001b[33mfalse\u001b[39m\n"
          ]
        }
      ],
      "source": [
        "%%script node\n",
        "\n",
        "const student = [];\n",
        "const person = { firstName: \"Emin\", lastName: \"Altan\" }\n",
        "\n",
        "// \n",
        "student[\"firstName\"] = \"Murat\";\n",
        "\n",
        "/** \n",
        " * Görüldüğü üzere array özellikli student değişkeninde ve person değişkeninde \n",
        " * isimlendirilmiş index kullanıyoruz. Düşünelim ki yoğun bir code base\n",
        " * içerisinde çalıyoruz ve student ve person değişkenlerinin veri türünü öğrenmek istiyoruz.\n",
        " * Bu durumda Array.isArray() metodunu kullandığımızda array veri türüne sahip değişkeni tespit edebiliriz.\n",
        " */\n",
        "console.log(student[\"firstName\"]);\n",
        "console.log(person[\"firstName\"]);\n",
        "\n",
        "/** \n",
        " * Görüleceği üzere student değişkeninden dönen değer true olduğu için student \n",
        " * değişkeni array veri türü özelliğindedir.\n",
        " * \n",
        " * person değişkeninden dönen değer false olduğu için bu değişkenin array veri türü özellikli olmadığını\n",
        " * nesne türünden bir değişken olduğunu anlayabiliriz. \n",
        " */\n",
        "console.log(Array.isArray(student))\n",
        "console.log(Array.isArray(person))"
      ]
    },
    {
      "cell_type": "markdown",
      "metadata": {},
      "source": [
        "### `Instanceof` Operatörü\n",
        "\n",
        "Object özellikli veri tiplerinde birden fazla kullanım yöntemi olmakla birlikte variable'ın türünü belirlemede, bir özelliğin object ile ilişkisini anlamada veya katılım izleme işlemlerini gerçekleştirmek için kullanılır.\n",
        "\n",
        "💡 Özellikle object özellikli variable'larda debug işlemleri için kullanışlı olabilir.,\n"
      ]
    },
    {
      "cell_type": "code",
      "execution_count": 19,
      "metadata": {
        "vscode": {
          "languageId": "javascript"
        }
      },
      "outputs": [
        {
          "data": {
            "application/javascript": "const fruits = [\"Banana\", \"Orange\", \"Apple\"];\n\n// true değerini geri döndürecektir. Çünkü fruits array özellikli bir object'dir.\nconsole.log(fruits instanceof Array);\n",
            "text/plain": [
              "<IPython.core.display.Javascript object>"
            ]
          },
          "metadata": {},
          "output_type": "display_data"
        }
      ],
      "source": [
        "%%javascript\n",
        "const fruits = [\"Banana\", \"Orange\", \"Apple\"];\n",
        "\n",
        "// true değerini geri döndürecektir. Çünkü fruits array özellikli bir object'dir.\n",
        "console.log(fruits instanceof Array);\n"
      ]
    },
    {
      "cell_type": "markdown",
      "metadata": {},
      "source": [
        "[^1]: İndex numarası, bir dizinin her bir öğesine erişmek için kullanılan sayısal bir değeri temsil eder. İndex numarası, dizinin öğelerini sıralar ve her bir öğeye benzersiz bir konum atar.\n",
        "\n",
        "JavaScript dizileri sıfırdan başlayarak indekslenir, yani ilk öğe indeks numarası 0 ile temsil edilir. Daha sonraki öğeler sırayla artan pozitif tam sayı indeks numaralarına sahiptir.\n",
        "\n",
        "[^2]: JavaScript'te \"associative array\" terimi yaygın olarak \"object\" (nesne) veya \"hash\" olarak bilinen veri yapısını ifade eder. JavaScript nesneleri, key-value (anahtar-değer) çiftlerini içeren bir veri yapısıdır ve \"associative array\" olarak adlandırılabilirler. Bu çiftler, nesne içinde anahtarların benzersiz olduğu ve bu anahtarların, nesne içindeki değerlere erişmek için kullanıldığı bir yapıya sahiptir.\n",
        "\n",
        "JavaScript nesneleri, verileri düzenlemek, işlemek ve çeşitli türde bilgilere erişmek için kullanılır. Anahtarlar (keys) genellikle dize (string) veya sembol (symbol) veri türleridir ve değerler (values), JavaScript'in tüm veri türlerini içerebilir. Bu nedenle, JavaScript nesneleri çeşitli verileri temsil etmek için kullanılabilir.\n",
        "\n",
        "[^3]: JavaScript dizileri genellikle sayısal indekslerle (0'dan başlayan sıra numaraları) erişilir. Ancak bazen, bir dizinin öğelerine daha anlamlı isimler atamak isteyebilirsiniz. Bu durumda object tipinde array'lar oluşturarak named index özelliğini kullanabilirsiniz.\n",
        "[^4]: \"key\" terimi, JavaScript nesnelerindeki (objects) anahtarlar için kullanılır. JavaScript nesneleri, anahtar-değer çiftlerini içeren veri yapısıdır. Anahtarlar, nesne içinde değerlere erişmek için kullanılan özel isimlerdir.\n"
      ]
    }
  ],
  "metadata": {
    "kernelspec": {
      "display_name": "Python 3 (ipykernel)",
      "language": "python",
      "name": "python3"
    },
    "language_info": {
      "codemirror_mode": {
        "name": "ipython",
        "version": 3
      },
      "file_extension": ".py",
      "mimetype": "text/x-python",
      "name": "python",
      "nbconvert_exporter": "python",
      "pygments_lexer": "ipython3",
      "version": "3.10.12"
    }
  },
  "nbformat": 4,
  "nbformat_minor": 2
}
