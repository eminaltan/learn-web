{
  "cells": [
    {
      "cell_type": "markdown",
      "metadata": {},
      "source": [
        "# JavaScript'de Array'lar\n",
        "\n",
        "Merhaba arkadaşlar serinin bu bölümünde JavaScript'de **_array_** veri türünü inceleyeceğiz.\n",
        "\n",
        "Yazıda:\n",
        "\n",
        "- JavaScript'de array veri türünün kullanımına.\n",
        "- **_element_**, **_numbered index_**, **_associative array_** ve **_named index_** kavramlarına.\n",
        "- `Array.isArray()` ve `Instanceof` metot ve operatörüne.\n",
        "- Object türündeki array değişkenlere.\n",
        "- Array özellikli bir değişken ile object özellikli bir değişken arasındaki farka.\n",
        "\n",
        "Değineceğim.\n",
        "\n",
        "İyi okumalar dilerim.\n"
      ]
    },
    {
      "cell_type": "markdown",
      "metadata": {},
      "source": [
        "## JavaScript Array Veri Türü\n",
        "\n",
        "Veri türü array olan bir değişken koleksiyon şeklinde verileri gruplandırarak depolar. Bu bağlamda depolanan değerlerin organize edilerek kullanılmasını sağlayan veri türlerinden biridir. Özellikle veri koleksiyonu içerisinde gezinmemizi ve işlemler yapmamızı kolaylaştırır.\n",
        "\n",
        "Aklımıza oturması için muspet bir örnek verelim. JavaScript'de değişken olarak tanımlanmış bir kaç tane araba markası olduğunu ve bu araba markalarını bir dosyaya kayıt etmek istediğimiz düşünelim. Her bir araba markası için ayrı ayrı işlem yapmak durumundayız. 3 veya 4 tane araba için bu durum belki sorun olmaz. Fakat 400 tane araba için aynı işlemi yapmak hep zaman hem de emek ister. Bu durumda array veri türü yardımımıza yetişir. Array veri türlerini JavaScript döngüleri ile birlikte kullanarak bu tarz işlemleri kolaylıkla çözebiliriz.\n",
        "\n",
        "Konuyu detaylandırmadan önce aşağıdaki örnek üzerinden bir takım temel kavramlara yer verelim.\n",
        "\n",
        "**Örnek**\n",
        "\n",
        "```javascript\n",
        "const cars = [\"Lada\", \"Opel\", \"BMW\"];\n",
        "```\n",
        "\n",
        "Bir array oluşturmak için genelde `[]` işaretini kullanırız. Değerler `[]` işaretleri arasına depolanır. Bu değerlere **_element_** adı verilir. Yukarıdaki örnek üzerinden gidersek `Lada` değeri bir element özelliği taşır. Elementler birbirlerinden `,` işareti ile ayrılırlar.\n",
        "\n",
        "**❗ Array elementlerine genelde index değeri ile ulaşır ve işlem yaparız. Bir array içerisinde index değeri daima 0'dan başlar. Örneğin `cars` değişkeni içerisindeki `Opel` elementine ulaşmak istiyorsak `cars[1]` şeklinde syntax kullanmamız gerekir.**\n",
        "\n",
        "**Örnek**\n"
      ]
    },
    {
      "cell_type": "code",
      "execution_count": 1,
      "metadata": {
        "vscode": {
          "languageId": "javascript"
        }
      },
      "outputs": [
        {
          "name": "stdout",
          "output_type": "stream",
          "text": [
            "Opel\n"
          ]
        }
      ],
      "source": [
        "%%script node\n",
        "const cars = [\"Lada\", \"Opel\", \"BMW\"];\n",
        "\n",
        "// cars array'ın içerisindeki 1 numaralı index değerine sahip elemente ulaşıyoruz. Lada 0 numaralı index değerine sahiptir.\n",
        "console.log(cars[1]);\n"
      ]
    },
    {
      "cell_type": "markdown",
      "metadata": {},
      "source": [
        "Array veri türünün veri tipi ise özel nitelikli object veri tipidir. Bunun anlamı array özellikli bir değişken farklı veri türlerini bir arada barındırabilir.\n",
        "\n",
        "**Örnek**\n"
      ]
    },
    {
      "cell_type": "code",
      "execution_count": 11,
      "metadata": {
        "vscode": {
          "languageId": "javascript"
        }
      },
      "outputs": [
        {
          "name": "stdout",
          "output_type": "stream",
          "text": [
            "\u001b[33m1700668086636\u001b[39m\n",
            "{ cardNumber: \u001b[33m10\u001b[39m, phoneNumber: \u001b[33m115\u001b[39m }\n",
            "Mustafa\n",
            "object\n"
          ]
        }
      ],
      "source": [
        "%%script node\n",
        "\n",
        "// Örnekte gördüğümüz gibi array özellikli personal değişkeni zaman, nesne ve bir değer şeklinde farklı türlerde veri tipini barındırır.\n",
        "const personal = [Date.now(), privateInformation = { cardNumber: 10, phoneNumber:115}, \"Mustafa\"];\n",
        "\n",
        "// Date nesnesinin now() fonksiyonu çağırdık ve şu an için elde ettiğimiz zaman değerini mili saniye olarak konsola yazdırdık.\n",
        "console.log(personal[0])\n",
        "\n",
        "// privateInformation adında bir nesnenin içeriğini konsola yazdırıyoruz.\n",
        "console.log(personal[1])\n",
        "\n",
        "// Array içerisindeki Mustafa değerine ulaşıyoruz.\n",
        "console.log(personal[2])\n",
        "\n",
        "// personal değişkeninin veri türü object'dir.\n",
        "console.log(typeof personal)\n"
      ]
    },
    {
      "cell_type": "markdown",
      "metadata": {},
      "source": [
        "Array veri türünde bir değişken oluşturmak için 2 yoldan biri kullanılır:\n",
        "\n",
        "1. Literal kullanarak.\n",
        "\n",
        "2. Object veri tipinde array oluşturarak.\n",
        "\n",
        "Konuya giriş yaparken 1.yönteme yani Literal yoluyla array özellikli bir değişken oluşturmaya değinmiş olduk Şimdi de object veri tipinde array veri türü özellikli bir değişken oluşturmaya değinelim.\n"
      ]
    },
    {
      "cell_type": "markdown",
      "metadata": {},
      "source": [
        "## JavaScript Object Veri Tipinde Array Veri Türleri\n",
        "\n",
        "`new` keyword'u kullanılarak object veri tipinde array veri türleri ve değişkenleri oluşturulabilir.\n",
        "\n",
        "**⚠️ `new` keyword'u kullanılarak oluşturulan array ile literal kullanılarak oluşturulan array'ın veri tipi aynıdır. İkisi de object veri tipine sahiptir.**\n",
        "\n",
        "**Örnek**\n"
      ]
    },
    {
      "cell_type": "code",
      "execution_count": 14,
      "metadata": {
        "vscode": {
          "languageId": "javascript"
        }
      },
      "outputs": [
        {
          "name": "stdout",
          "output_type": "stream",
          "text": [
            "object\n",
            "object\n"
          ]
        }
      ],
      "source": [
        "%%script node\n",
        "\n",
        "/**\n",
        " * new keyword'u kullanılarak object veri tipinde array oluşturulur.\n",
        " * Bu arada new Array () metodu constructor olarak ifade edilir.\n",
        " */\n",
        "const cars = new Array(\"Lada\", \"Tata\", \"Fiat\");\n",
        "const cars2 = [];\n",
        "\n",
        "// Konsola object ifadesi yazdırılacaktır. Her iki variable'ın veri tipi aynıdır.\n",
        "console.log(typeof cars);\n",
        "console.log(typeof cars2);\n"
      ]
    },
    {
      "cell_type": "markdown",
      "metadata": {},
      "source": [
        "Doğal olarak bir variable'ın array mı yoksa object olarak tanımlandığını nasıl bilebiliriz sorusu karşımıza çıkacaktır.\n",
        "\n",
        "Bunun için kullanılan 2 yöntem vardır:\n",
        "\n",
        "1. `Array.isArray()` metodu kullanmak.\n",
        "\n",
        "2. `Instanceof` operatörü kullanmak.\n"
      ]
    },
    {
      "cell_type": "markdown",
      "metadata": {},
      "source": [
        "### `Array.isArray` Metodu\n",
        "\n",
        "Bir variable'ın array olup/olmadığını öğrenmek için kullanılan bir metottur. Eğer variable array özellikli ise sonuç olarak `true`, değilse `false` değerini geri döndürür.\n",
        "\n",
        "`Array.isArray()` Metodu ECMAScript 5 (JavaScript 2009) ile JavaScript'e dahil olmuştur.\n",
        "\n",
        "**Örnek**\n"
      ]
    },
    {
      "cell_type": "code",
      "execution_count": null,
      "metadata": {
        "vscode": {
          "languageId": "javascript"
        }
      },
      "outputs": [],
      "source": [
        "%%javascript\n",
        "const student = [\"Hasan\", \"Ceylan\", 280];\n",
        "\n",
        "// Konsola true ifadesi yazdırılacaktır. Çünkü student array türünde bir variable'dır.\n",
        "console.log(Array.isArray(student));\n"
      ]
    },
    {
      "cell_type": "markdown",
      "metadata": {},
      "source": [
        "### `Instanceof` Operatörü\n",
        "\n",
        "Object özellikli veri tiplerinde birden fazla kullanım yöntemi olmakla birlikte variable'ın türünü belirlemede, bir özelliğin object ile ilişkisini anlamada veya katılım izleme işlemlerini gerçekleştirmek için kullanılır.\n",
        "\n",
        "💡 Özellikle object özellikli variable'larda debug işlemleri için kullanışlı olabilir.,\n"
      ]
    },
    {
      "cell_type": "code",
      "execution_count": null,
      "metadata": {
        "vscode": {
          "languageId": "javascript"
        }
      },
      "outputs": [],
      "source": [
        "%%javascript\n",
        "const fruits = [\"Banana\", \"Orange\", \"Apple\"];\n",
        "\n",
        "// true değerini geri döndürecektir. Çünkü fruits array özellikli bir object'dir.\n",
        "console.log(fruits instanceof Array);\n"
      ]
    },
    {
      "cell_type": "markdown",
      "metadata": {},
      "source": [
        "⚠️ Array özellikli bir variable'a veri atarken `variable[index number] = \"depolanacak bilgi\"` şeklinde formatı kullanırız. Buradaki `index number` değeri array içindeki elementin sırasını ifade eder. **Array veri tipinde `index number` değeri 0 ile başlar yani 0. indeks değeri array içerisinde 1. elemente karşılık gelir.**\n",
        "\n",
        "**Örnek**\n"
      ]
    },
    {
      "cell_type": "code",
      "execution_count": null,
      "metadata": {
        "vscode": {
          "languageId": "javascript"
        }
      },
      "outputs": [],
      "source": [
        "%%javascript\n",
        "const cars = [\"Lada\", \"Tata\", \"Fiat\"];\n",
        "\n",
        "/**\n",
        " * 0.indeks değeri array içerisinde 1. elemente yani Lada'ya denk gelir.\n",
        " * Konsola Lada yazdırılacaktır.\n",
        " */\n",
        "console.log(cars[0]);\n"
      ]
    },
    {
      "cell_type": "markdown",
      "metadata": {},
      "source": [
        "Bir array'ı aşağıdaki gibi de oluşturabiliriz.\n",
        "\n",
        "**Örnek**\n"
      ]
    },
    {
      "cell_type": "code",
      "execution_count": null,
      "metadata": {
        "vscode": {
          "languageId": "javascript"
        }
      },
      "outputs": [],
      "source": [
        "%%javascript\n",
        "// cars variable'ı array özelliklidir ve içeriği boştur.\n",
        "const cars = [];\n",
        "\n",
        "// cars variable'ın 0.indeks ile ulaşıyoruz ve 1.elementine Lada string değerini depoluyoruz.\n",
        "cars[0] = \"Lada\";\n",
        "\n",
        "// Konsola Lada string'i yazdırılacaktır.\n",
        "console.log(cars[0]);\n"
      ]
    },
    {
      "cell_type": "markdown",
      "metadata": {},
      "source": [
        "❗ Yeni bir veri depolama işleminde array'ın element sayısı göz önünde bulundurulmadan verilen index number değeri array içerisinde boşluklara neden olacaktır.\n",
        "\n",
        "Bu sebeple yeni veri depolanırken array içerisindeki depolanmış element sayısına göre index number değeri belirlenmesi tavsiye edilir.\n",
        "\n",
        "**Örnek**\n"
      ]
    },
    {
      "cell_type": "code",
      "execution_count": null,
      "metadata": {
        "vscode": {
          "languageId": "javascript"
        }
      },
      "outputs": [],
      "source": [
        "%%javascript\n",
        "const cars = [\"BMW\", \"Saab\", \"Fiat\"];\n",
        "\n",
        "// cars referansının 10. indeksine Ford değerini depoluyoruz.\n",
        "cars[10] = \"Ford\";\n",
        "\n",
        "/**\n",
        " * Konsola [ 'BMW', 'Saab', 'Fiat', <7 empty items>, 'Ford' ] ifadesi yazdırılacaktır.\n",
        " * Yani 6 tane boş element oluşturmuş olduk.\n",
        " */\n",
        "console.log(cars);\n"
      ]
    },
    {
      "cell_type": "markdown",
      "metadata": {},
      "source": [
        "❗JavaScript'de array'lar **_numbered index_**[^1] özelliğini kullanır ve array elementlerine erişim **_index number_**'lar sayesinde sağlanır. JavaScript **_associative_**[^2] özelliğini desteklenmez. Dolayısıyla array içerisindeki elementlere **_named index_**[^3] özelliği kullanarak ulaşılamaz. Fakat `new` keyword'u kullanarak bir array'ı object tipinde oluşturabiliriz böylece associative özelliğini kullanıp named index'ler sayesinde elementlere ulaşabiliriz.\n",
        "\n",
        "**Örnek**\n"
      ]
    },
    {
      "cell_type": "code",
      "execution_count": null,
      "metadata": {
        "vscode": {
          "languageId": "javascript"
        }
      },
      "outputs": [],
      "source": [
        "%%javascript\n",
        "const cars = new Array(\"Lada\", \"Tata\", \"Fiat\");\n",
        "\n",
        "// 0 rakamı indexed number olarak ifade edilir.\n",
        "console.log(cars[0]);\n",
        "\n",
        "const person = [];\n",
        "\n",
        "// Associative index örneği. firstName, named index olarak ifade edilir.\n",
        "person[\"firstName\"] = \"John\";\n",
        "console.log(person[\"firstName\"]);\n"
      ]
    },
    {
      "cell_type": "markdown",
      "metadata": {},
      "source": [
        "### Ne Zaman Array Ne Zaman Object Kullanmalıyız?\n",
        "\n",
        "Eğer bir array'a ait elementler string'lerden oluşuyorsa object türünden, şayet elementler sayısal değerlerden oluşuyorsa array türünden variable oluşturmalıyız. Object türünden oluştruduğumuz array'larda indeks değeri olarak `named index` kullandığımızı unutmayınız.\n",
        "\n",
        "**Örnek**\n"
      ]
    },
    {
      "cell_type": "code",
      "execution_count": 13,
      "metadata": {
        "vscode": {
          "languageId": "javascript"
        }
      },
      "outputs": [
        {
          "data": {
            "application/javascript": "// numbers variable sayısal türden elementlere sahip bu sebeple array türünden variable oluşturduk.\nconst numbers = [1, 2, 3, 4];\n\nconst names = [];\n\n// Element isimleri string olması sebebi lle object türünden array oluşturduk.\nnames[\"firstName\"] = \"Emin\";\nnames[\"lastName\"] = \"Altan\";\n\n// Konsola Emin ifadesi yazdırılacaktır.\nconsole.log(names[\"firstName\"]);\n",
            "text/plain": [
              "<IPython.core.display.Javascript object>"
            ]
          },
          "metadata": {},
          "output_type": "display_data"
        }
      ],
      "source": [
        "%%javascript\n",
        "// numbers variable sayısal türden elementlere sahip bu sebeple array türünden variable oluşturduk.\n",
        "const numbers = [1, 2, 3, 4];\n",
        "\n",
        "const names = [];\n",
        "\n",
        "// Element isimleri string olması sebebi lle object türünden array oluşturduk.\n",
        "names[\"firstName\"] = \"Emin\";\n",
        "names[\"lastName\"] = \"Altan\";\n",
        "\n",
        "// Konsola Emin ifadesi yazdırılacaktır.\n",
        "console.log(names[\"firstName\"]);\n"
      ]
    },
    {
      "cell_type": "markdown",
      "metadata": {},
      "source": [
        "❗ Object tipinde array türleri kod bloklarının yavaş çalışmasına neden olacağı için kullanılması tavsiye edilmez.\n",
        "\n",
        "Ayrıca object tipinde tanımlanan array'lar bir takım sorunlara neden olabilir.\n",
        "\n",
        "**Örnek**\n"
      ]
    },
    {
      "cell_type": "code",
      "execution_count": null,
      "metadata": {
        "vscode": {
          "languageId": "javascript"
        }
      },
      "outputs": [],
      "source": [
        "%%javascript\n",
        "// numbers[0] 40 değerini tutarken new keyword'u ile oluşturduğumuz array 40 tane , işareti üretecektir.\n",
        "\n",
        "const numbers = [40];\n",
        "const numbers2 = new Array(40);\n",
        "\n",
        "console.log(numbers2);\n"
      ]
    },
    {
      "cell_type": "markdown",
      "metadata": {},
      "source": [
        "➖ Array Özellikli Variable ile Object Türündeki Array Variable Arasındaki Fark\n",
        "\n",
        "Array veri tipine sahip bir variable `index number` (Numbered Index) özelliğini kullanır. Array elementlerine erişim `[variable[indexNumber]]` şeklinde sağlanır.\n",
        "\n",
        "Object veri tipine sahip bir variable `named index` (Associative Arrays) özelliğini kullanır. Object key'lerine[^4] erişim `variable.namedIndex` veya `variable[\"namedIndex\"]` şeklinde sağlanır.\n",
        "\n",
        "**Örnek**\n"
      ]
    },
    {
      "cell_type": "code",
      "execution_count": null,
      "metadata": {
        "vscode": {
          "languageId": "javascript"
        }
      },
      "outputs": [],
      "source": [
        "%%script node\n",
        "// student array özellikli variable'dır.\n",
        "const student = [\"Ayla\", \"Ak\"];\n",
        "\n",
        "// person object özellikli variable'dır.\n",
        "const person = { firstName: \"Ayla\", surName: \"Ak\" };\n",
        "\n",
        "// Variable'ların ilk indeks değerlerini konsola yazdıralım. ve erişim şekillerine dikkat edelim.\n",
        "console.log(student[0]);\n",
        "console.log(person.firstName);\n",
        "\n",
        "const retiredPerson =[];\n",
        "\n",
        "// retiredPerson variable'de firstName adında bir variable oluşturup içeriğine string veri depoluyoruz.\n",
        "retiredPerson[\"firstName\"]=\"Emin\";\n",
        "\n",
        "/** \n",
        " * Object türündeki retiredPerson variable içerisindeki firsName key'ine erişme dikkat edelim.\n",
        " * Konsola Emin string'i yazdırılacaktır.\n",
        " */\n",
        "\n",
        "console.log(retiredPerson[\"firstName\"]);\n"
      ]
    },
    {
      "cell_type": "markdown",
      "metadata": {},
      "source": [
        "[^1]: İndex numarası, bir dizinin her bir öğesine erişmek için kullanılan sayısal bir değeri temsil eder. İndex numarası, dizinin öğelerini sıralar ve her bir öğeye benzersiz bir konum atar.\n",
        "\n",
        "JavaScript dizileri sıfırdan başlayarak indekslenir, yani ilk öğe indeks numarası 0 ile temsil edilir. Daha sonraki öğeler sırayla artan pozitif tam sayı indeks numaralarına sahiptir.\n",
        "\n",
        "[^2]: JavaScript'te \"associative array\" terimi yaygın olarak \"object\" (nesne) veya \"hash\" olarak bilinen veri yapısını ifade eder. JavaScript nesneleri, key-value (anahtar-değer) çiftlerini içeren bir veri yapısıdır ve \"associative array\" olarak adlandırılabilirler. Bu çiftler, nesne içinde anahtarların benzersiz olduğu ve bu anahtarların, nesne içindeki değerlere erişmek için kullanıldığı bir yapıya sahiptir.\n",
        "\n",
        "JavaScript nesneleri, verileri düzenlemek, işlemek ve çeşitli türde bilgilere erişmek için kullanılır. Anahtarlar (keys) genellikle dize (string) veya sembol (symbol) veri türleridir ve değerler (values), JavaScript'in tüm veri türlerini içerebilir. Bu nedenle, JavaScript nesneleri çeşitli verileri temsil etmek için kullanılabilir.\n",
        "\n",
        "[^3]: JavaScript dizileri genellikle sayısal indekslerle (0'dan başlayan sıra numaraları) erişilir. Ancak bazen, bir dizinin öğelerine daha anlamlı isimler atamak isteyebilirsiniz. Bu durumda object tipinde array'lar oluşturarak named index özelliğini kullanabilirsiniz.\n",
        "[^4]: \"key\" terimi, JavaScript nesnelerindeki (objects) anahtarlar için kullanılır. JavaScript nesneleri, anahtar-değer çiftlerini içeren veri yapısıdır. Anahtarlar, nesne içinde değerlere erişmek için kullanılan özel isimlerdir.\n"
      ]
    }
  ],
  "metadata": {
    "kernelspec": {
      "display_name": "Python 3 (ipykernel)",
      "language": "python",
      "name": "python3"
    },
    "language_info": {
      "codemirror_mode": {
        "name": "ipython",
        "version": 3
      },
      "file_extension": ".py",
      "mimetype": "text/x-python",
      "name": "python",
      "nbconvert_exporter": "python",
      "pygments_lexer": "ipython3",
      "version": "3.10.12"
    }
  },
  "nbformat": 4,
  "nbformat_minor": 2
}
