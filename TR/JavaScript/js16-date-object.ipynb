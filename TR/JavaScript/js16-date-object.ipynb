{
 "cells": [
  {
   "cell_type": "markdown",
   "metadata": {},
   "source": [
    "# JavaScript'de Tarih Nesnesi\n",
    "\n",
    "Merhaba arkadaşlar serinin bu bölümünde JavaScript'de tarih özellikli nesneleri inceleyeceğiz.\n",
    "\n",
    "Yazıda:\n",
    "\n",
    "- Tarih özellikli nesne oluşturmaya yöntemlerine\n",
    "\n",
    "- Tarih standartlarına\n",
    "\n",
    "- Tarih metotlarına\n",
    "\n",
    "- Tarihlerin kıyaslanmasına\n",
    "\n",
    "- Tarih nesnesi oluştururken bazı ipuçlarına\n",
    "\n",
    "Değineceğim.\n",
    "\n",
    "İyi okumalar dilerim.\n"
   ]
  },
  {
   "cell_type": "markdown",
   "metadata": {},
   "source": [
    "## JavaScript Tarih Nesnesi Oluşturma\n",
    "\n",
    "JavaScript'de tarih türünde nesneler oluşturabiliriz. Tarih türünde bir nesne oluşturmak için `new Date()` constructor metodunu kullanırız.\n",
    "\n",
    "Varsayılan olarak tarih nesnesi browser'ın time zone bilgisini kullanacak ve string bir değer şeklinde sonucu gösterecektir.\n",
    "\n",
    "**Örnek**\n"
   ]
  },
  {
   "cell_type": "code",
   "execution_count": 199,
   "metadata": {
    "vscode": {
     "languageId": "javascript"
    }
   },
   "outputs": [
    {
     "name": "stdout",
     "output_type": "stream",
     "text": [
      "\u001b[35m2023-12-10T18:15:53.104Z\u001b[39m\n"
     ]
    }
   ],
   "source": [
    "%%javascript\n",
    "\n",
    "const whatIsTheDate = new Date();\n",
    "\n",
    "// Varsayılan olarak browser'ın time zone bilgisini kullanarak bir tarih nesnesi oluşturmuş olduk.\n",
    "console.log(whatIsTheDate);"
   ]
  },
  {
   "cell_type": "markdown",
   "metadata": {},
   "source": [
    "Tarih nesnesini 4 yöntemden biriyle oluşturabiliriz:\n",
    "\n",
    "- `new Date()`\n",
    "\n",
    "- `new Date(tarih string)`\n",
    "\n",
    "- `new Date(yıl, ay, gün, saat, dakika, saniye, mili saniye)`\n",
    "\n",
    "- `new Date(mili saniye)`\n",
    "\n",
    "Şimdi bu yöntemlere değinelim.\n"
   ]
  },
  {
   "cell_type": "markdown",
   "metadata": {},
   "source": [
    "### `new Date()` Yöntemi ile Tarih Oluşturma\n",
    "\n",
    "Parametre kullanmadan `new Date()` constructor metodunu kullandığımızda varsayılan olarak bulunduğumuz zaman ve tarih için tarih türünde nesne oluşturulur.\n",
    "\n",
    "Tarih bilgisi yıl, ay, gün, saat, dakika, saniye ve mili saniye bilgileri kullanarak oluşturulur.\n",
    "\n",
    "**Örnek**\n"
   ]
  },
  {
   "cell_type": "code",
   "execution_count": 202,
   "metadata": {
    "vscode": {
     "languageId": "javascript"
    }
   },
   "outputs": [
    {
     "name": "stdout",
     "output_type": "stream",
     "text": [
      "Sun Dec 10 2023 21:16:35 GMT+0300 (GMT+03:00)\n"
     ]
    }
   ],
   "source": [
    "%%javascript\n",
    "\n",
    "const whatIsTheDate = new Date();\n",
    "\n",
    "// Şu anki tarihi ve zamanı konsola yazdırıyoruz.\n",
    "console.log(whatIsTheDate.toString());\n"
   ]
  },
  {
   "cell_type": "markdown",
   "metadata": {},
   "source": [
    "### `new Date(tarih string)` Yöntemi ile Tarih Oluşturma\n",
    "\n",
    "Oluşturmak istediğimiz tarihi string şekilde `new Date()` constructor metodu içerisinde kullanabiliriz.\n",
    "\n",
    "**Örnek**\n"
   ]
  },
  {
   "cell_type": "code",
   "execution_count": 211,
   "metadata": {
    "vscode": {
     "languageId": "javascript"
    }
   },
   "outputs": [
    {
     "name": "stdout",
     "output_type": "stream",
     "text": [
      "Mon Oct 13 2014 11:13:00 GMT+0300 (GMT+03:00)\n"
     ]
    }
   ],
   "source": [
    "%%javascript\n",
    "\n",
    "const stringDate = new Date(\"October 13, 2014 11:13:00\");\n",
    "\n",
    "// Belirlediğimiz tarihi konsola yazdırıyoruz.\n",
    "console.log(stringDate.toString());"
   ]
  },
  {
   "cell_type": "markdown",
   "metadata": {},
   "source": [
    "### `new Date(yıl, ay, gün, saat, dakika, saniye, mili saniye)` Yöntemi ile Tarih Oluşturma\n",
    "\n",
    "Bir tarihi ve zamanı belirlediğimiz parametrelere göre oluşturabiliriz. Bu durumda `new Date()` constructor metodunda 7 parametreden ihtiyacımıza uygun olanı kullanabiliriz.\n",
    "\n",
    "**Örnek**\n"
   ]
  },
  {
   "cell_type": "code",
   "execution_count": 207,
   "metadata": {
    "vscode": {
     "languageId": "javascript"
    }
   },
   "outputs": [
    {
     "name": "stdout",
     "output_type": "stream",
     "text": [
      "Tue May 01 2018 00:00:00 GMT+0300 (GMT+03:00)\n",
      "Mon Jan 06 2020 03:20:58 GMT+0300 (GMT+03:00)\n"
     ]
    }
   ],
   "source": [
    "%%javascript\n",
    "\n",
    "// Yıl ve ay parametreleri ile tarih türünden bir nesne oluşturuluyor.\n",
    "const date = new Date(2018, 4);\n",
    "\n",
    "// Yıl, ay, gün, saat, dakika ve saniye parametreleri ile tarih türünden bir nesne oluşturuluyor.\n",
    "const date2 = new Date(2020, 0, 6, 3, 20, 58);\n",
    "\n",
    "console.log(date.toString());\n",
    "\n",
    "console.log(date2.toString());"
   ]
  },
  {
   "cell_type": "markdown",
   "metadata": {},
   "source": [
    "**⚠️ JavaScript ay aralığını 0 ile 11 rakamları arasında değerlendirir. 0 rakamı Ocak ayına denk gelirken 11 rakamı Aralık ayına denk gelir.**\n",
    "\n",
    "**Örnek**\n"
   ]
  },
  {
   "cell_type": "code",
   "execution_count": 212,
   "metadata": {
    "vscode": {
     "languageId": "javascript"
    }
   },
   "outputs": [
    {
     "name": "stdout",
     "output_type": "stream",
     "text": [
      "Mon Jan 01 2018\n",
      "Sat Dec 01 2018\n"
     ]
    }
   ],
   "source": [
    "%%javascript\n",
    "\n",
    "const date = new Date(2018, 0);\n",
    "const date2 = new Date(2018, 11);\n",
    "\n",
    "// Dikkat ederseniz ay kısmı Ocak olarak belirlendi.\n",
    "console.log(date.toDateString());\n",
    "\n",
    "// Dikkat ederseniz ay kısmı Aralık olarak belirlendi.\n",
    "console.log(date2.toDateString());"
   ]
  },
  {
   "cell_type": "markdown",
   "metadata": {},
   "source": [
    "**⚠️ Ay değerinin 11'den fazla olması durumunda JavaScript herhangi bir hata mesajı döndürmez fakat 11'den fazla olan kısım yıl değerine devredilir ve değerlendirilir.**\n",
    "\n",
    "**Bu durum gün için de geçerlidir. Şayet gün değeri 31'den fazla ise artan kısım ay değerine değerine devredilir ve değerlendirilir.**\n",
    "\n",
    "**Örnek**\n"
   ]
  },
  {
   "cell_type": "code",
   "execution_count": 214,
   "metadata": {
    "vscode": {
     "languageId": "javascript"
    }
   },
   "outputs": [
    {
     "name": "stdout",
     "output_type": "stream",
     "text": [
      "Tue Jan 01 2019\n",
      "Sun Dec 02 2018\n"
     ]
    }
   ],
   "source": [
    "%%javascript\n",
    "\n",
    "const date = new Date(2018, 12);\n",
    "const date2 = new Date(2018, 10,32);\n",
    "\n",
    "// Dikkat ederseniz yıl kısmı 2019 olarak belirlendi.\n",
    "console.log(date.toDateString());\n",
    "\n",
    "// Dikkat ederseniz ay kısmı Aralık olarak belirlendi. Halbuki Kasım olarak değerlendirilmesini beklerdik.\n",
    "console.log(date2.toDateString());\n"
   ]
  },
  {
   "cell_type": "markdown",
   "metadata": {},
   "source": [
    "**⚠️ JavaScript Ocak 1 1970 tarihinden bu yana geçen zamanı mili saniye olarak değerlendirir. Bir gün 86 400 000 mili saniyeden oluşur.**\n",
    "\n",
    "**Bir tarih nesnesi sadece yıl parametresinden oluşuyorsa bu durumda JavaScript bu değeri de mili saniye olarak değerlendirir.**\n",
    "\n",
    "**Örnek**\n"
   ]
  },
  {
   "cell_type": "code",
   "execution_count": 226,
   "metadata": {
    "vscode": {
     "languageId": "javascript"
    }
   },
   "outputs": [
    {
     "name": "stdout",
     "output_type": "stream",
     "text": [
      "\u001b[33m20\u001b[39m\n"
     ]
    }
   ],
   "source": [
    "%%javascript\n",
    "\n",
    "const date = new Date(2020);\n",
    "\n",
    "console.log(date.toString());"
   ]
  },
  {
   "cell_type": "markdown",
   "metadata": {},
   "source": [
    "#### Tek veya İkili Notasyon Kullanımı\n",
    "\n",
    "Yıl için tek veya ikili notasyon kullanıldığında JavaScript yıl değerini **_19xx_** formatında değerlendirir.\n",
    "\n",
    "**Örnek**\n"
   ]
  },
  {
   "cell_type": "code",
   "execution_count": 228,
   "metadata": {
    "vscode": {
     "languageId": "javascript"
    }
   },
   "outputs": [
    {
     "name": "stdout",
     "output_type": "stream",
     "text": [
      "\u001b[33m1998\u001b[39m\n",
      "\u001b[33m1908\u001b[39m\n"
     ]
    }
   ],
   "source": [
    "%%javascript\n",
    "\n",
    "const date = new Date(98, 11, 5);\n",
    "const date2 = new Date(8, 11, 5);\n",
    "\n",
    "// Yıl bölümü 1998 şeklinde oluşturuldu.\n",
    "console.log(date.getFullYear());\n",
    "\n",
    "// Yıl bölümü 1908 şeklinde oluşturuldu.\n",
    "console.log(date2.getFullYear());"
   ]
  },
  {
   "cell_type": "markdown",
   "metadata": {},
   "source": [
    "**⚠️ Kısa tarih veya ISO standart formatı kullanılarak tarih nesnesi oluşturulacaksa ay ve gün kısımları için ikili notasyon kullanılması tavsiye edilir. Şayet kullanılmazsa bazı tarayıcılar tarih nesnesini doğru yorumlayamaz ve hatalı sonuç üretir.**\n",
    "\n",
    "**Örnek**\n",
    "\n",
    "```javascript\n",
    "// Dikkat ederseniz ay için tekli notasyon kullandık. ISO standardına bağlı kalarak oluşturulmuş date nesnesi bazı browser'larda hatalı sonuç döndürülmesine neden olacaktır.\n",
    "const date = new Date(\"2015-3-25\");\n",
    "```\n"
   ]
  },
  {
   "cell_type": "markdown",
   "metadata": {},
   "source": [
    "### `new Date(mili saniye)` Yöntemi ile Tarih Oluşturma\n",
    "\n",
    "`new Date()` constructor metodunda parametre olarak number veri türü özellikli bir değer kullandığımızda JavaScript bu değeri mili saniye olarak yorumlar ve mili saniye değerini tarihe çevirir.\n",
    "\n",
    "**⚠️ Mili saniye olarak değer kullandığımızda JavaScript başlangıç tarihi olarak Ocak 01, 1970 00:00:00 UTC değerini referans alır.**\n",
    "\n",
    "**Örnek**\n"
   ]
  },
  {
   "cell_type": "code",
   "execution_count": 229,
   "metadata": {
    "vscode": {
     "languageId": "javascript"
    }
   },
   "outputs": [
    {
     "name": "stdout",
     "output_type": "stream",
     "text": [
      "Mon May 03 1976\n",
      "Sat Aug 31 1963\n"
     ]
    }
   ],
   "source": [
    "%%javascript\n",
    "\n",
    "// Number veri türü özellikli değer tarih değerine çevrilecek.\n",
    "const date = new Date(200000000000);\n",
    "\n",
    "// Negatif mili saniye değerleri kullanabiliriz.\n",
    "const date2 = new Date(-200000000000);\n",
    "\n",
    "\n",
    "console.log(date.toDateString());\n",
    "console.log(date2.toDateString());"
   ]
  },
  {
   "cell_type": "markdown",
   "metadata": {},
   "source": [
    "## Tarih Standartları\n",
    "\n",
    "JavaScript'de 3 tür tarih standardı vardır:\n",
    "\n",
    "- ISO tarih standardı\n",
    "\n",
    "- Kısa tarih standardı\n",
    "\n",
    "- Uzun tarih standardı\n",
    "\n",
    "Şimdi bunlara değinelim.\n"
   ]
  },
  {
   "cell_type": "markdown",
   "metadata": {},
   "source": [
    "### ISO Tarih Standardı\n",
    "\n",
    "JavaScript'in varsayılan olarak kullandığı tarih standardıdır. ISO standardı tüm tarayıcılar tarafından aynı şekilde yorumlandığından bir tarih nesnesi tüm tarayıcılara aynı şekilde oluşturulur ve görüntülenir.\n",
    "\n",
    "**⚠️ Diğer standartlar tarayıcılar tarafından farklı şekillerde yorumlanabilir ve tarih nesnesini farklı şekillerde oluşturup gösterebilir. Bu bakımdan ISO tarih standardına bağlı kalınarak tarih nesnesi oluşturulması tavsiye edilir.**\n",
    "\n",
    "Tarih ve zaman değerleri **_T_** harfi ile birbirlerinden ayrılırlar. **_Z_** harfi ise UTC değerini ifade eder.\n",
    "\n",
    "**_UTC (Universal Time Coordinated)_** kavramı ile **_GMT (Greenwich Mean Time)_** kavramı eş değerdir. Her ikisi de aynı anlama gelir.\n",
    "\n",
    "ISO standardında bir tarih nesnesi varsayılan olarak **_YYYY-MM-DD_** pattern'i kullanarak oluşturulur.\n",
    "\n",
    "**Örnek**\n"
   ]
  },
  {
   "cell_type": "code",
   "execution_count": 112,
   "metadata": {
    "vscode": {
     "languageId": "javascript"
    }
   },
   "outputs": [
    {
     "name": "stdout",
     "output_type": "stream",
     "text": [
      "\u001b[35m2015-03-20T00:00:00.000Z\u001b[39m\n",
      "\u001b[35m2015-04-19T21:00:00.000Z\u001b[39m\n"
     ]
    }
   ],
   "source": [
    "%%javascript\n",
    "\n",
    "// date tarih nesnesi YYYY-MM-DD pattern'ine göre oluşturuluyor.\n",
    "const date = new Date(\"2015-03-20\");\n",
    "const date2 = new Date(2015, 3, 20);\n",
    "\n",
    "console.log(date);\n",
    "console.log(date2);\n"
   ]
  },
  {
   "cell_type": "markdown",
   "metadata": {},
   "source": [
    "İsteğe bağlı olarak farklı pattern türleri kullanılabilir. Aşağıdaki örnekte **_YYYY-MM_** pattern'i ile bir tarih nesnesi oluşturulmuş.\n",
    "\n",
    "**Örnek**\n"
   ]
  },
  {
   "cell_type": "code",
   "execution_count": 113,
   "metadata": {
    "vscode": {
     "languageId": "javascript"
    }
   },
   "outputs": [
    {
     "name": "stdout",
     "output_type": "stream",
     "text": [
      "Sun Mar 01 2015\n"
     ]
    }
   ],
   "source": [
    "%%javascript\n",
    "\n",
    "// date tarih nesnesi YYYY-MM pattern'ine göre oluşturuluyor.\n",
    "const date = new Date(\"2015-03\");\n",
    "\n",
    "console.log(date.toDateString());"
   ]
  },
  {
   "cell_type": "markdown",
   "metadata": {},
   "source": [
    "### Kısa Tarih Standardı\n",
    "\n",
    "Bir tarih nesnesi **_MM/DD/YYYY_** pattern'i kullanılarak belirlenmişse kısa tarih standardına uygun olarak oluşturulmuştur.\n",
    "\n",
    "**Örnek**\n"
   ]
  },
  {
   "cell_type": "code",
   "execution_count": 114,
   "metadata": {
    "vscode": {
     "languageId": "javascript"
    }
   },
   "outputs": [
    {
     "name": "stdout",
     "output_type": "stream",
     "text": [
      "Wed Mar 25 2015 00:00:00 GMT+0200 (GMT+03:00)\n"
     ]
    }
   ],
   "source": [
    "%%javascript\n",
    "\n",
    "// date nesnesini kısa tarih standardına göre oluşturduk.\n",
    "const date = new Date(\"03/25/2015\");\n",
    "\n",
    "console.log(date.toString());"
   ]
  },
  {
   "cell_type": "markdown",
   "metadata": {},
   "source": [
    "### Uzun Tarih Standardı\n",
    "\n",
    "Bir tarih nesnesi **_MMM DD YYYY_** pattern'i kullanılarak belirlenmişse uzun tarih standardına uygun olarak oluşturulmuştur.\n",
    "\n",
    "**Örnek**\n"
   ]
  },
  {
   "cell_type": "code",
   "execution_count": 115,
   "metadata": {
    "vscode": {
     "languageId": "javascript"
    }
   },
   "outputs": [
    {
     "name": "stdout",
     "output_type": "stream",
     "text": [
      "Wed Mar 25 2015 00:00:00 GMT+0200 (GMT+03:00)\n"
     ]
    }
   ],
   "source": [
    "%%javascript\n",
    "\n",
    "// date nesnesini uzun tarih standardına göre oluşturduk.\n",
    "const date = new Date(\"Mar 25 2015\");\n",
    "\n",
    "console.log(date.toString());"
   ]
  },
  {
   "cell_type": "markdown",
   "metadata": {},
   "source": [
    "## Tarih Metotları\n",
    "\n",
    "Tarih özellikli bir nesne oluşturduktan sonra tarih metotlarını kullanabiliriz.\n"
   ]
  },
  {
   "cell_type": "markdown",
   "metadata": {},
   "source": [
    "### `toDateString()` Metodu\n",
    "\n",
    "Varsayılan olarak tarih türünde bir nesne oluşturduğumuzda JavaScript `toString()` metodunu kullanarak nesneyi string formata dönüştürür. Bu durumdaki tarih özellikli nesnede varsayılan olarak saat, dakika, saniye GMT bilgisi ve mili saniye değerleri yer alır.\n",
    "\n",
    "Tarih nesnesini daha okunabilir ve anlaşılabilir hale getirmek için `toDateString()` metodu kullanılır. `toDateString()` metodu yıl, ay ve gün şeklinde değer döndürür.\n",
    "\n",
    "**Örnek**\n"
   ]
  },
  {
   "cell_type": "code",
   "execution_count": 116,
   "metadata": {
    "vscode": {
     "languageId": "javascript"
    }
   },
   "outputs": [
    {
     "name": "stdout",
     "output_type": "stream",
     "text": [
      "Sat Dec 05 1998 00:00:00 GMT+0200 (GMT+03:00)\n",
      "Sat Dec 05 1998\n"
     ]
    }
   ],
   "source": [
    "%%javascript\n",
    "\n",
    "// İkili notasyon kullanarak tarih nesnesi oluşturuyoruz.\n",
    "const date = new Date(98, 11, 5);\n",
    "\n",
    "console.log(date.toString());\n",
    "\n",
    "// toDateString() metodu ile date değişkenini daha okunabilir hale getirdik. \n",
    "console.log(date.toDateString());"
   ]
  },
  {
   "cell_type": "markdown",
   "metadata": {},
   "source": [
    "### `toUTCString()` Metodu\n",
    "\n",
    "Tarih nesnesini UTC standardına göre biçimlendirir. Bu türdeki bir tarih nesnesinde Yıl, ay, gün,saat, dakika, saniye bilgileri ile birlikte UTC standardına da yer verilir.\n",
    "\n",
    "**Örnek**\n"
   ]
  },
  {
   "cell_type": "code",
   "execution_count": 117,
   "metadata": {
    "vscode": {
     "languageId": "javascript"
    }
   },
   "outputs": [
    {
     "name": "stdout",
     "output_type": "stream",
     "text": [
      "Sun, 10 Dec 2023 09:35:16 GMT\n"
     ]
    }
   ],
   "source": [
    "%%javascript\n",
    "\n",
    "const date = new Date();\n",
    "\n",
    "// toDateString() metodu ile date değişkeninde UTC standardına de yer verdik.\n",
    "console.log(date.toUTCString());"
   ]
  },
  {
   "cell_type": "markdown",
   "metadata": {},
   "source": [
    "### `toISOString()`\n",
    "\n",
    "Tarih nesnesini ISO standardına dönüştürür.\n",
    "\n",
    "**Örnek**\n"
   ]
  },
  {
   "cell_type": "code",
   "execution_count": 118,
   "metadata": {
    "vscode": {
     "languageId": "javascript"
    }
   },
   "outputs": [
    {
     "name": "stdout",
     "output_type": "stream",
     "text": [
      "2023-12-10T09:35:16.964Z\n"
     ]
    }
   ],
   "source": [
    "%%javascript\n",
    "\n",
    "const date = new Date();\n",
    "\n",
    "// toDateString() metodu ile date değişkeni ISO standardına dönüşür.\n",
    "console.log(date.toISOString());"
   ]
  },
  {
   "cell_type": "markdown",
   "metadata": {},
   "source": [
    "### `getFullYear()` Metodu\n",
    "\n",
    "Bir tarih nesnesinin yıl kısmını sonuç olarak döndürür.\n",
    "\n",
    "**Örnek**\n"
   ]
  },
  {
   "cell_type": "code",
   "execution_count": 122,
   "metadata": {
    "vscode": {
     "languageId": "javascript"
    }
   },
   "outputs": [
    {
     "name": "stdout",
     "output_type": "stream",
     "text": [
      "\u001b[33m2023\u001b[39m\n"
     ]
    }
   ],
   "source": [
    "%%javascript\n",
    "\n",
    "// Şu an ki tarih ve zaman değerini kullanıyoruz.\n",
    "const date = new Date();\n",
    "\n",
    "// date nesnesinin yıl kısmını sonuç olarak döndürür.\n",
    "console.log(date.getFullYear());\n"
   ]
  },
  {
   "cell_type": "markdown",
   "metadata": {},
   "source": [
    "**❗ `getYear()` Metodu ile de aynı sonuç elde edilebilir. Fakat `getYear()` metodunun deprecated olması sebebi ile kullanılmaması tavsiye edilir.**\n"
   ]
  },
  {
   "cell_type": "markdown",
   "metadata": {},
   "source": [
    "### `getMoth()` Metodu\n",
    "\n",
    "Bir tarih nesnesinin ay kısmını sonuç olarak döndürür. Döndürülen değer 0 ile 11 rakamları arasında olacaktır. 0 rakamı Ocak ayını ifade ederken 11 rakamı Aralık ayını ifade eder.\n",
    "\n",
    "**Örnek**\n"
   ]
  },
  {
   "cell_type": "code",
   "execution_count": 128,
   "metadata": {
    "vscode": {
     "languageId": "javascript"
    }
   },
   "outputs": [
    {
     "name": "stdout",
     "output_type": "stream",
     "text": [
      "\u001b[33m11\u001b[39m\n"
     ]
    }
   ],
   "source": [
    "%%javascript\n",
    "\n",
    "// Şu an ki tarih ve zaman değerini kullanıyoruz.\n",
    "const date = new Date();\n",
    "\n",
    "// date nesnesinin ay kısmını sonuç olarak döndürür. 11 rakamı Aralık ayına denk gelir.\n",
    "console.log(date.getMonth());\n"
   ]
  },
  {
   "cell_type": "markdown",
   "metadata": {},
   "source": [
    "**💡 Ay değerlerini array içerisinde tanımlayabilir ve kullanabiliriz.**\n",
    "\n",
    "**Örnek**\n"
   ]
  },
  {
   "cell_type": "code",
   "execution_count": 136,
   "metadata": {
    "vscode": {
     "languageId": "javascript"
    }
   },
   "outputs": [
    {
     "name": "stdout",
     "output_type": "stream",
     "text": [
      "Sun Dec 10 2023\n"
     ]
    }
   ],
   "source": [
    "%%javascript\n",
    "\n",
    "const months = [\"January\", \"February\", \"March\", \"April\", \"May\", \"June\", \"July\", \"August\", \"September\", \"October\", \"November\", \"December\"];\n",
    "\n",
    "const date = new Date();\n",
    "let month = months[date.getMonth()];\n",
    "\n",
    "console.log(date.toDateString());"
   ]
  },
  {
   "cell_type": "markdown",
   "metadata": {},
   "source": [
    "### `getDate()` Metodu\n",
    "\n",
    "Bir tarih nesnesindeki aya ait günleri sonuç olarak döndürür. Döndürülen değer 1 ile 31 rakamları arasında olacaktır.\n",
    "\n",
    "**Örnek**\n"
   ]
  },
  {
   "cell_type": "code",
   "execution_count": 139,
   "metadata": {
    "vscode": {
     "languageId": "javascript"
    }
   },
   "outputs": [
    {
     "name": "stdout",
     "output_type": "stream",
     "text": [
      "\u001b[33m10\u001b[39m\n"
     ]
    }
   ],
   "source": [
    "%%javascript\n",
    "\n",
    "const date = new Date();\n",
    "\n",
    "// Bugünü sayısal olarak konsola yazdırdık.\n",
    "console.log(date.getDate());"
   ]
  },
  {
   "cell_type": "markdown",
   "metadata": {},
   "source": [
    "### `getHours()` Metodu\n",
    "\n",
    "Bir tarih nesnesindeki saat kısmını sonuç olarak döndürür. Döndürülen değer 0 ile 23 rakamları arasında olacaktır.\n",
    "\n",
    "**Örnek**\n"
   ]
  },
  {
   "cell_type": "code",
   "execution_count": 142,
   "metadata": {
    "vscode": {
     "languageId": "javascript"
    }
   },
   "outputs": [
    {
     "name": "stdout",
     "output_type": "stream",
     "text": [
      "\u001b[33m19\u001b[39m\n"
     ]
    }
   ],
   "source": [
    "%%javascript\n",
    "\n",
    "const date = new Date();\n",
    "\n",
    "// Şu an ki saat sayısal olarak konsola yazdırdık.\n",
    "console.log(date.getHours());"
   ]
  },
  {
   "cell_type": "markdown",
   "metadata": {},
   "source": [
    "### `getMinutes()` Metodu\n",
    "\n",
    "Bir tarih nesnesindeki dakika kısmını sonuç olarak döndürür. Döndürülen değer 0 ile 59 rakamları arasında olacaktır.\n",
    "\n",
    "**Örnek**\n"
   ]
  },
  {
   "cell_type": "code",
   "execution_count": 145,
   "metadata": {
    "vscode": {
     "languageId": "javascript"
    }
   },
   "outputs": [
    {
     "name": "stdout",
     "output_type": "stream",
     "text": [
      "\u001b[33m2\u001b[39m\n"
     ]
    }
   ],
   "source": [
    "%%javascript\n",
    "\n",
    "const date = new Date();\n",
    "\n",
    "// Şu an ki dakikayı sayısal olarak konsola yazdırdık.\n",
    "console.log(date.getMinutes());"
   ]
  },
  {
   "cell_type": "markdown",
   "metadata": {},
   "source": [
    "### `getSeconds()` Metodu\n",
    "\n",
    "Bir tarih nesnesindeki saniye kısmını sonuç olarak döndürür. Döndürülen değer 0 ile 59 rakamları arasında olacaktır.\n",
    "\n",
    "**Örnek**\n"
   ]
  },
  {
   "cell_type": "code",
   "execution_count": 147,
   "metadata": {
    "vscode": {
     "languageId": "javascript"
    }
   },
   "outputs": [
    {
     "name": "stdout",
     "output_type": "stream",
     "text": [
      "\u001b[33m22\u001b[39m\n"
     ]
    }
   ],
   "source": [
    "%%javascript\n",
    "\n",
    "const date = new Date();\n",
    "\n",
    "// Şu an ki saniyeyi sayısal olarak konsola yazdırdık.\n",
    "console.log(date.getSeconds());"
   ]
  },
  {
   "cell_type": "markdown",
   "metadata": {},
   "source": [
    "### `getMilliseconds()` Metodu\n",
    "\n",
    "Bir tarih nesnesindeki salise kısmını sonuç olarak döndürür. Döndürülen değer 0 ile 999 rakamları arasında olacaktır.\n",
    "\n",
    "**Örnek**\n"
   ]
  },
  {
   "cell_type": "code",
   "execution_count": 155,
   "metadata": {
    "vscode": {
     "languageId": "javascript"
    }
   },
   "outputs": [
    {
     "name": "stdout",
     "output_type": "stream",
     "text": [
      "\u001b[33m786\u001b[39m\n"
     ]
    }
   ],
   "source": [
    "%%javascript\n",
    "\n",
    "const date = new Date();\n",
    "\n",
    "// Şu an ki saliseyi sayısal olarak konsola yazdırdık.\n",
    "console.log(date.getMilliseconds());"
   ]
  },
  {
   "cell_type": "markdown",
   "metadata": {},
   "source": [
    "### `getDay()` Metodu\n",
    "\n",
    "Bir tarih nesnesindeki haftanın çalışma gününü sonuç olarak döndürür. Döndürülen değer 0 ile 6 rakamları arasında olacaktır.\n",
    "\n",
    "**❗ JavaScript'de varsayılan olarak çalışma günü 0'dan başlar bu da Pazar gününe denk gelir.**\n",
    "\n",
    "**Örnek**\n"
   ]
  },
  {
   "cell_type": "code",
   "execution_count": 163,
   "metadata": {
    "vscode": {
     "languageId": "javascript"
    }
   },
   "outputs": [
    {
     "name": "stdout",
     "output_type": "stream",
     "text": [
      "\u001b[33m0\u001b[39m\n"
     ]
    }
   ],
   "source": [
    "%%javascript\n",
    "\n",
    "const date = new Date();\n",
    "\n",
    "/** \n",
    " * Bugün Pazar olması sebebi ile 0 değeri konsola yazdıracaktır. Pazar olduğunu gösterir. JavaScript'de Pazar \n",
    " * günü varsayılan olarak haftanın ilk çalışma günüdür.\n",
    " */\n",
    "console.log(date.getDay());"
   ]
  },
  {
   "cell_type": "markdown",
   "metadata": {},
   "source": [
    "**💡 Haftanın günlerini array olarak oluşturabiliriz. Bu durumda `getDay()` metodu ile çalışma gününe ait sayısal değeri string şeklinde geri döndürebiliriz.**\n",
    "\n",
    "**Örnek**\n"
   ]
  },
  {
   "cell_type": "code",
   "execution_count": 166,
   "metadata": {
    "vscode": {
     "languageId": "javascript"
    }
   },
   "outputs": [
    {
     "name": "stdout",
     "output_type": "stream",
     "text": [
      "Pazartesi\n"
     ]
    }
   ],
   "source": [
    "%%javascript\n",
    "\n",
    "// Çalışma günlerinden bir array oluşturuyoruz.\n",
    "const worOfTheDays = [\"Pazartesi\", \"Salı\", \"Çarşamba\", \"Perşembe\", \"Cuma\", \"Pazar\"];\n",
    "\n",
    "const date = new Date();\n",
    "\n",
    "/** \n",
    " * workOfTheDays değişkeni içerisinde şu an ki çalışma gününe ait sayısal değerin karşılığı aranır ve bulunan \n",
    " * string değer konsola yazdırılır.\n",
    " */\n",
    "console.log(worOfTheDays[date.getDay()]);"
   ]
  },
  {
   "cell_type": "markdown",
   "metadata": {},
   "source": [
    "### `getTime()` Metodu\n",
    "\n",
    "`newDate()` constructor metodu içerisinde parametre kullanılmışsa Ocak 1 1970 tarihinden bu yana geçen zamanı mili saniye olarak döndürür.\n",
    "\n",
    "**Örnek**\n"
   ]
  },
  {
   "cell_type": "code",
   "execution_count": 172,
   "metadata": {
    "vscode": {
     "languageId": "javascript"
    }
   },
   "outputs": [
    {
     "name": "stdout",
     "output_type": "stream",
     "text": [
      "\u001b[33m592444800000\u001b[39m\n"
     ]
    }
   ],
   "source": [
    "%%javascript\n",
    "\n",
    "const date = new Date(\"1988-10-10\");\n",
    "\n",
    "// getTime() metodu ile date değişkeni mili saniye olarak geri döndürülecektir.\n",
    "console.log(date.getTime());\n"
   ]
  },
  {
   "cell_type": "markdown",
   "metadata": {},
   "source": [
    "### `setFullYear()` Metodu\n",
    "\n",
    "Boş bir tarih nesnesi oluşturulduktan sonra `setFullYear()` metodu ile tarih nesnesine ait yıl değeri ayarlanabilir.\n",
    "\n",
    "**Örnek**\n"
   ]
  },
  {
   "cell_type": "code",
   "execution_count": 180,
   "metadata": {
    "vscode": {
     "languageId": "javascript"
    }
   },
   "outputs": [
    {
     "name": "stdout",
     "output_type": "stream",
     "text": [
      "\u001b[33m2020\u001b[39m\n"
     ]
    }
   ],
   "source": [
    "%%javascript\n",
    "\n",
    "const date = new Date();\n",
    "\n",
    "// setFullYear() metodu ile date değişkeni içerisinde yıl tanımlıyoruz.\n",
    "date.setFullYear(2020);\n",
    "\n",
    "console.log(date.getFullYear());\n"
   ]
  },
  {
   "cell_type": "markdown",
   "metadata": {},
   "source": [
    "**💡 `setFullYear()` metodunda opsiyonel olarak ay ve gün bilgileri kullanılabilir.**\n",
    "\n",
    "**Örnek**\n"
   ]
  },
  {
   "cell_type": "code",
   "execution_count": 181,
   "metadata": {
    "vscode": {
     "languageId": "javascript"
    }
   },
   "outputs": [
    {
     "name": "stdout",
     "output_type": "stream",
     "text": [
      "Thu Dec 03 2020\n"
     ]
    }
   ],
   "source": [
    "%%javascript\n",
    "\n",
    "const date = new Date();\n",
    "\n",
    "// setFullYear() metodu içerisinde ay ve gün değerlerine de yer verdik.\n",
    "date.setFullYear(2020,11,3);\n",
    "\n",
    "console.log(date.toDateString());\n"
   ]
  },
  {
   "cell_type": "markdown",
   "metadata": {},
   "source": [
    "### `setMonth()` Metodu\n",
    "\n",
    "Boş bir tarih nesnesi oluşturulduktan sonra `setMonth()` metodu ile tarih nesnesine ait ay değeri ayarlanabilir. Değer 0 ile 11 arasında bir rakam olmalıdır.\n",
    "\n",
    "**Örnek**\n"
   ]
  },
  {
   "cell_type": "code",
   "execution_count": 182,
   "metadata": {
    "vscode": {
     "languageId": "javascript"
    }
   },
   "outputs": [
    {
     "name": "stdout",
     "output_type": "stream",
     "text": [
      "\u001b[33m10\u001b[39m\n"
     ]
    }
   ],
   "source": [
    "%%javascript\n",
    "\n",
    "const date = new Date();\n",
    "\n",
    "// setMonth() metodu ile date değişkeni içerisinde ay tanımlıyoruz.\n",
    "date.setMonth(10);\n",
    "\n",
    "console.log(date.getMonth());\n"
   ]
  },
  {
   "cell_type": "markdown",
   "metadata": {},
   "source": [
    "### `setDate()` Metodu\n",
    "\n",
    "Boş bir tarih nesnesi oluşturulduktan sonra `setDate()` metodu ile tarih nesnesine ait gün değeri ayarlanabilir. Değer 0 ile 31 arasında bir rakam olmalıdır.\n",
    "\n",
    "**Örnek**\n"
   ]
  },
  {
   "cell_type": "code",
   "execution_count": 231,
   "metadata": {
    "vscode": {
     "languageId": "javascript"
    }
   },
   "outputs": [
    {
     "name": "stdout",
     "output_type": "stream",
     "text": [
      "\u001b[33m31\u001b[39m\n"
     ]
    }
   ],
   "source": [
    "%%javascript\n",
    "\n",
    "const date = new Date();\n",
    "\n",
    "// setDate() metodu ile date değişkeni içerisinde gün tanımlıyoruz.\n",
    "date.setDate(31);\n",
    "\n",
    "console.log(date.getDate());\n"
   ]
  },
  {
   "cell_type": "markdown",
   "metadata": {},
   "source": [
    "**💡 `setDate()` metodu ile bir tarih nesnesine gün ekleyerek tarihi değiştirebiliriz.**\n",
    "\n",
    "**Örnek**\n"
   ]
  },
  {
   "cell_type": "code",
   "execution_count": 189,
   "metadata": {
    "vscode": {
     "languageId": "javascript"
    }
   },
   "outputs": [
    {
     "name": "stdout",
     "output_type": "stream",
     "text": [
      "Sat Feb 03 2024\n"
     ]
    }
   ],
   "source": [
    "%%javascript\n",
    "\n",
    "const date = new Date(\"2023-11-5\");\n",
    "\n",
    "/** \n",
    " * date değişkeni içerisinden tarihi alıyor ve 90 gün ekliyoruz. Bunu var olan tarihe 3 ay eklemek şeklinde \n",
    " * düşünebiliriz.\n",
    " */\n",
    "date.setDate(date.getDate()+90);\n",
    "\n",
    "console.log(date.toDateString());\n"
   ]
  },
  {
   "cell_type": "markdown",
   "metadata": {},
   "source": [
    "### `setHours()` Metodu\n",
    "\n",
    "Boş bir tarih nesnesi oluşturulduktan sonra `setHours()` metodu ile tarih nesnesine ait saat değeri ayarlanabilir. Değer 0 ile 23 arasında bir rakam olmalıdır.\n",
    "\n",
    "**Örnek**\n"
   ]
  },
  {
   "cell_type": "code",
   "execution_count": 233,
   "metadata": {
    "vscode": {
     "languageId": "javascript"
    }
   },
   "outputs": [
    {
     "name": "stdout",
     "output_type": "stream",
     "text": [
      "\u001b[33m5\u001b[39m\n"
     ]
    }
   ],
   "source": [
    "%%javascript\n",
    "\n",
    "const date = new Date();\n",
    "\n",
    "// setHours() metodu ile date değişkeni içerisinde saat tanımlıyoruz.\n",
    "date.setHours(5);\n",
    "\n",
    "console.log(date.getHours());\n"
   ]
  },
  {
   "cell_type": "markdown",
   "metadata": {},
   "source": [
    "### `setMinutes()` Metodu\n",
    "\n",
    "Boş bir tarih nesnesi oluşturulduktan sonra `setMinutes()` metodu ile tarih nesnesine ait dakika değeri ayarlanabilir. Değer 0 ile 59 arasında bir rakam olmalıdır.\n",
    "\n",
    "**Örnek**\n"
   ]
  },
  {
   "cell_type": "code",
   "execution_count": 232,
   "metadata": {
    "vscode": {
     "languageId": "javascript"
    }
   },
   "outputs": [
    {
     "name": "stdout",
     "output_type": "stream",
     "text": [
      "\u001b[33m58\u001b[39m\n"
     ]
    }
   ],
   "source": [
    "%%javascript\n",
    "\n",
    "const date = new Date();\n",
    "\n",
    "// setMinutes() metodu ile date değişkeni içerisinde dakika tanımlıyoruz.\n",
    "date.setMinutes(58);\n",
    "\n",
    "console.log(date.getMinutes());\n"
   ]
  },
  {
   "cell_type": "markdown",
   "metadata": {},
   "source": [
    "### `setSeconds()` Metodu\n",
    "\n",
    "Boş bir tarih nesnesi oluşturulduktan sonra `setSeconds()` metodu ile tarih nesnesine ait saniye değeri ayarlanabilir. Değer 0 ile 59 arasında bir rakam olmalıdır.\n",
    "\n",
    "**Örnek**\n"
   ]
  },
  {
   "cell_type": "code",
   "execution_count": 234,
   "metadata": {
    "vscode": {
     "languageId": "javascript"
    }
   },
   "outputs": [
    {
     "name": "stdout",
     "output_type": "stream",
     "text": [
      "\u001b[33m30\u001b[39m\n"
     ]
    }
   ],
   "source": [
    "%%javascript\n",
    "\n",
    "const date = new Date();\n",
    "\n",
    "// setMinutes() metodu ile date değişkeni içerisinde dakika tanımlıyoruz.\n",
    "date.setSeconds(30);\n",
    "\n",
    "console.log(date.getSeconds());\n"
   ]
  },
  {
   "cell_type": "markdown",
   "metadata": {},
   "source": [
    "## JavaScript'de Tarihlerin Kıyaslanması\n",
    "\n",
    "Tarih özellikli iki nesne birbirleri ile kıyaslanabilir.\n",
    "\n",
    "**Örnek**\n"
   ]
  },
  {
   "cell_type": "code",
   "execution_count": 198,
   "metadata": {
    "vscode": {
     "languageId": "javascript"
    }
   },
   "outputs": [
    {
     "name": "stdout",
     "output_type": "stream",
     "text": [
      "future değişkeni büyüktür.\n"
     ]
    }
   ],
   "source": [
    "%%javascript\n",
    "\n",
    "const now = new Date();\n",
    "const future = new Date();\n",
    "\n",
    "// future tarih değişkenine yıl, ay ve gün şeklinde yeni değer atıyoruz.\n",
    "future.setFullYear(2025, 11, 10);\n",
    "\n",
    "/** \n",
    " * Ternary (?) operatörü if...else anlamına gelir. Eğer future tarih nesnesi now tarih nesnesinden büyük olursa \n",
    " * ilk ifade tersi durumda : işaretinden sonraki ifade çalışır.\n",
    " */\n",
    "future > now ? console.log(\"future değişkeni büyüktür.\") : console.log(\"future değişkeni küçüktür.\");\n",
    "\n"
   ]
  }
 ],
 "metadata": {
  "kernelspec": {
   "display_name": "Python 3",
   "language": "python",
   "name": "python3"
  },
  "language_info": {
   "codemirror_mode": {
    "name": "ipython",
    "version": 3
   },
   "file_extension": ".py",
   "mimetype": "text/x-python",
   "name": "python",
   "nbconvert_exporter": "python",
   "pygments_lexer": "ipython3",
   "version": "3.10.12"
  }
 },
 "nbformat": 4,
 "nbformat_minor": 2
}
