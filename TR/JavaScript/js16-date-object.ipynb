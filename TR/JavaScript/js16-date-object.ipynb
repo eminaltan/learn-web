{
 "cells": [
  {
   "cell_type": "markdown",
   "metadata": {},
   "source": [
    "## JavaScript Date Nesnesi\n",
    "\n",
    "JavaScript'de tarih türünde nesneler oluşturabiliriz. Tarih türünde bir nesne oluşturmak için `new Date()` metodunu kullanırız.\n"
   ]
  },
  {
   "cell_type": "code",
   "execution_count": null,
   "metadata": {
    "vscode": {
     "languageId": "javascript"
    }
   },
   "outputs": [],
   "source": []
  }
 ],
 "metadata": {
  "language_info": {
   "name": "python"
  }
 },
 "nbformat": 4,
 "nbformat_minor": 2
}
