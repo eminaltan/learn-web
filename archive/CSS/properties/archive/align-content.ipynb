{
 "cells": [
  {
   "cell_type": "markdown",
   "metadata": {},
   "source": [
    "#### `align-content` property\n",
    "\n",
    "`align-content` property hem `grid` hem de `flex` container'lar için kullanılır.\n",
    "\n",
    "`align-content` child elementleri dikey eksende hizalar.\n",
    "\n",
    "❗`display:grid` deklarasyonuna sahip bir elementte child elementlerin yüksekliği container elementlerden büyük ise `align-content` property çalışmayacaktır."
   ]
  }
 ],
 "metadata": {
  "language_info": {
   "name": "python"
  },
  "orig_nbformat": 4
 },
 "nbformat": 4,
 "nbformat_minor": 2
}
