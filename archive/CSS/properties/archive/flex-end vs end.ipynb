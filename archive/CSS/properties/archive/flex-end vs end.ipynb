{
 "cells": [
  {
   "cell_type": "markdown",
   "metadata": {},
   "source": [
    "#### ➖`flex-end` (veya `flex-start`) ile `end` (veya `start`) value arasındaki fark.\n",
    "\n",
    "`flex-end` property sadece flex layout kullanımı için amaçlanmıi bir property özelliği taşır. Halbuki `end` property'nin kullanım scope daha geniş kapsamlıdır. grid, table, flex, block layout türlerinde kullanımı kapsar. Şöyle düşünebilirsin. `flex-end`'in kullanımı özeldir, `end` ise kullanımı geneldir."
   ]
  }
 ],
 "metadata": {
  "language_info": {
   "name": "python"
  },
  "orig_nbformat": 4
 },
 "nbformat": 4,
 "nbformat_minor": 2
}
