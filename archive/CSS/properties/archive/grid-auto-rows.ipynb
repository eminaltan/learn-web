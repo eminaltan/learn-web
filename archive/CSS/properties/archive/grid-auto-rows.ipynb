{
 "cells": [
  {
   "cell_type": "markdown",
   "metadata": {},
   "source": [
    "#### CSS `grid-auto-rows` Property\n",
    "\n",
    "Belirlenen bir değer ile grid container içindeki satırların yüksekliğini ayarlamak için kullanılır.\n",
    "\n",
    "➖ `grid-auto-rows` vs. `grid-template-rows`\n",
    "\n",
    "`grid-auto-rows` ile tüm satırların yüksekliği belirlenir.\n",
    "\n",
    "`grid-template-rows`'da ise her bir satır yüksekliği ayrı ayrı veya column genişlikleri aynı olacak şekilde `repeat()` function kullanılarak **column sayısına** bağlı olarak belirlenir.\n",
    "\n",
    "**`grid-auto-rows`** size'ı **`grid-template-rows` ise row sayısını ve size'ı belirler.**\n",
    "\n",
    "**Ex.**\n",
    "\n",
    "```css\n",
    ".grid-container {\n",
    "  display: grid;\n",
    "\n",
    "  /* Her bir satır için yükseklik 150px olarak ayarlanmış. Manual olarak ayarlamaya gerek yok. Row sayısı otomatik olarak belirlenir. */\n",
    "  grid-auto-rows: 150px;\n",
    "  grid-gap: 10px;\n",
    "  background-color: #2196f3;\n",
    "  padding: 10px;\n",
    "}\n",
    "\n",
    ".grid-container2 {\n",
    "  display: grid;\n",
    "  grid-template-columns: auto auto auto auto;\n",
    "\n",
    "  /* grid-template-rows ile her bir col için ayrı ayrı yükseklik tanımlaması yapılması gerekiyor. Row sayısı 4 olarak belirlenmiş. */\n",
    "  grid-template-rows: 100px 300px 50px 60px;\n",
    "  grid-gap: 10px;\n",
    "  background-color: #2196f3;\n",
    "  padding: 10px;\n",
    "}\n",
    "```"
   ]
  }
 ],
 "metadata": {
  "language_info": {
   "name": "python"
  },
  "orig_nbformat": 4
 },
 "nbformat": 4,
 "nbformat_minor": 2
}
