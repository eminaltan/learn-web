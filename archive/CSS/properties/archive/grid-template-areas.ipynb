{
 "cells": [
  {
   "cell_type": "markdown",
   "metadata": {},
   "source": [
    "#### `grid-template-areas`\n",
    "\n",
    "[Kaynak](https://css-tricks.com/almanac/properties/g/grid-template-areas/)\n",
    "\n",
    "Her row için çift tırnak işaretinden faydalanılır.\n",
    "\n",
    "**Ex.**\n",
    "\n",
    "```scss\n",
    "grid-template-areas: \n",
    "\n",
    "/* 1.row, header 3xcol'den oluşur.*/\n",
    "  \"header header header\"\n",
    "  /* 2.row, aside 1xcol; main 2xcol'den oluşur. */\n",
    "  \"aside main main\";\n",
    "```\n",
    "\n",
    "`grid-template-columns` property ile birlikte kullanılabilir.\n",
    "\n",
    "**Ex.**\n",
    "\n",
    "```scss\n",
    "gird-template-columns: 1fr 2fr;\n",
    "\n",
    "/* header 1fr, content 2fr boyutunda olacaktır. */\n",
    "grid-template-areas: \"header content\";\n",
    "```\n"
   ]
  }
 ],
 "metadata": {
  "language_info": {
   "name": "python"
  },
  "orig_nbformat": 4
 },
 "nbformat": 4,
 "nbformat_minor": 2
}
