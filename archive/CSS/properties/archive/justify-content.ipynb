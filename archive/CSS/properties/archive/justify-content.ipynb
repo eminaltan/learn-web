{
 "cells": [
  {
   "cell_type": "markdown",
   "metadata": {},
   "source": [
    "#### `justify-content` property\n",
    "\n",
    "`justify-content` property hem `grid` hem de `flex` container'lar için kullanılır.\n",
    "\n",
    "`justify-content` child elementleri yatay eksende hizalar.\n",
    "\n",
    "❗`display:grid` deklarasyonuna sahip bir elementte child elementlerin genişliği container elementlerden büyük ise `justify-content` property çalışmayacaktır."
   ]
  }
 ],
 "metadata": {
  "language_info": {
   "name": "python"
  },
  "orig_nbformat": 4
 },
 "nbformat": 4,
 "nbformat_minor": 2
}
