{
 "cells": [
  {
   "cell_type": "markdown",
   "metadata": {},
   "source": [
    "#### Content and sizing\n",
    "\n",
    "[Kaynak](https://web.dev/learn/css/box-model/)\n",
    "\n",
    "Bir elementin içeriğine göre otomatik olarak boyutunun ayarlanmasını (Intrinsic deniyor.) isteyebiliriz. Bu gibi durumlar `mix-content` ve `max-content` KW'lerinden faydalanılabilir. Bu KW'ler aynı zamanda `max-width` ve `min-width` property'lerinde de kullanılabilir.\n",
    "\n",
    "`min-content`: İçeriğin boyutuna uygun olarak elementin alabileceği en küçük genişiği elemente uyarlar. \n",
    "\n",
    "\n",
    "`max-content`: İçeriğin boyutuna uygun olarak elementin alabileceği en büyük genişiği elemente uyarlar."
   ]
  }
 ],
 "metadata": {
  "language_info": {
   "name": "python"
  },
  "orig_nbformat": 4
 },
 "nbformat": 4,
 "nbformat_minor": 2
}
