{
 "cells": [
  {
   "cell_type": "markdown",
   "metadata": {},
   "source": [
    "#### Using a Mixin\n",
    "\n",
    "Bir mixin başka mixin'leri içerebilir.\n",
    "\n",
    "**Ex.**\n",
    "\n",
    "```scss\n",
    "@mixin special-text {\n",
    "  @include important-text;\n",
    "  @include link;\n",
    "  @include special-border;\n",
    "}\n",
    "```\n"
   ]
  }
 ],
 "metadata": {
  "language_info": {
   "name": "python"
  },
  "orig_nbformat": 4
 },
 "nbformat": 4,
 "nbformat_minor": 2
}
