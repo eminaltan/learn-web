{
 "cells": [
  {
   "cell_type": "markdown",
   "metadata": {},
   "source": [
    "#### Using a Mixin\n",
    "\n",
    "Bir mixin başka mixin'leri içerebilir.\n",
    "\n",
    "**Ex.**\n",
    "\n",
    "```scss\n",
    "@mixin special-text {\n",
    "  @include important-text;\n",
    "  @include link;\n",
    "  @include special-border;\n",
    "}\n",
    "```\n"
   ]
  }
 ],
 "metadata": {
  "kernelspec": {
   "display_name": "Python 3 (ipykernel)",
   "language": "python",
   "name": "python3"
  },
  "language_info": {
   "codemirror_mode": {
    "name": "ipython",
    "version": 3
   },
   "file_extension": ".py",
   "mimetype": "text/x-python",
   "name": "python",
   "nbconvert_exporter": "python",
   "pygments_lexer": "ipython3",
   "version": "3.11.5"
  }
 },
 "nbformat": 4,
 "nbformat_minor": 4
}
