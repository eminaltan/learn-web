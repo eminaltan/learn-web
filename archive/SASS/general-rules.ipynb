{
 "cells": [
  {
   "cell_type": "markdown",
   "metadata": {},
   "source": [
    "#### General Rules\n",
    "\n",
    "1) SASS'da hyphen `-` işareti ile underscore `_` işareti aynı anlama gelir."
   ]
  }
 ],
 "metadata": {
  "language_info": {
   "name": "python"
  },
  "orig_nbformat": 4
 },
 "nbformat": 4,
 "nbformat_minor": 2
}
