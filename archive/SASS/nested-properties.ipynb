{
 "cells": [
  {
   "cell_type": "markdown",
   "metadata": {},
   "source": [
    "#### Sass Nested Properties\n",
    "\n",
    "💡SASS'da prefix'i aynı isimle başlayan property'ler aşağıdaki gibi gruplandırılarak kullanılabilirler.\n",
    "\n",
    "**Ex.**\n",
    "\n",
    "```scss\n",
    "font: {\n",
    "  family: Helvetica, sans-serif;\n",
    "  size: 18px;\n",
    "  weight: bold;\n",
    "}\n",
    "```\n",
    "\n",
    "Yukarıdaki scss kodun çıktısı aşağıdaki gibi olacaktır.\n",
    "\n",
    "```css\n",
    "font-family: Helvetica, sans-serif;\n",
    "font-size: 18px;\n",
    "font-weight: bold;\n",
    "```"
   ]
  }
 ],
 "metadata": {
  "language_info": {
   "name": "python"
  },
  "orig_nbformat": 4
 },
 "nbformat": 4,
 "nbformat_minor": 2
}
