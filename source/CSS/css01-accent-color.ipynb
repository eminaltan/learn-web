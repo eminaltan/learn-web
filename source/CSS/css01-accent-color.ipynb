{
 "cells": [
  {
   "cell_type": "markdown",
   "metadata": {},
   "source": [
    "## CSS `accent-color` Property\n",
    "\n",
    "Merhaba arkadaşlar bu kısa yazıda CSS4 specification'larından olan `accent-color` property'sinine değineceğim.\n",
    "\n",
    "Bazen **_HTML form elementlerini_**[^1] web sayfamıza göre biçimlendirmek isteyebiliriz. Bu durumda `accent-color` property bu işlemi gerçekleştirmek için alternatif bir yöntem olabilir. Bu yazıyı yazdığım sırada `accent-color` property Global olarak tarayıcılar tarafından 2022 yılının 3.çeyreğinden beri %91 oranında desteklenmektedir.\n",
    "\n",
    "⚠️ `accent-color` property şimdilik aşağıdaki türdeki HTML form elementlerinde kullanılabilir:\n",
    "\n",
    "1. `<input type=\"checkbox\">`\n",
    "\n",
    "2. `<input type=\"radio\">`\n",
    "\n",
    "3. `<input type=\"range\">`\n",
    "\n",
    "4. `<progress>`\n"
   ]
  },
  {
   "cell_type": "markdown",
   "metadata": {},
   "source": [
    "`accent-color` property karakteristik özelliklerini incelersek:\n",
    "\n",
    "| **Özellik**             | **Açıklama**                                                 |\n",
    "| ----------------------- | ------------------------------------------------------------ |\n",
    "| Varsayılan değer:       | `auto`                                                       |\n",
    "| Inherit özelliği:       | Evet, parent elementten property değerleri miras alınabilir. |\n",
    "| CSS animasyon özelliği: | Hayır, CSS animasyon property'lerini desteklemez.            |\n",
    "| CSS versiyonu:          | CSS4                                                         |\n",
    "| JavaScript syntax:      | **_object.style.accentColor_**                               |\n"
   ]
  },
  {
   "cell_type": "markdown",
   "metadata": {},
   "source": [
    "**Örnek**\n",
    "\n",
    "```css\n",
    "/* Tipi checkbox olan <input> elementinin rengini turuncu yapacaktır. */\n",
    "input[type=\"checkbox\"] {\n",
    "  accent-color: orange;\n",
    "}\n",
    "```\n",
    "\n",
    "```html\n",
    "<label>\n",
    "  <input type=\"checkbox\" />\n",
    "  Checkbox'u seçtiğinizde kutunun içerisi turuncu olacaktır.\n",
    "</label>\n",
    "```\n",
    "Bence web sayfamızdaki form elementlerinin ziyaretçinin temasını biçimlendirmek için kullanabiliriz. \n",
    "\n",
    "🖱️ [Aklınıza daha iyi oturması için isterseniz linki inceleyebilirsiniz.](https://codepen.io/eminaltan/pen/dywdKMX)  \n",
    "\n",
    "Umarım faydası olmuştur.\n"
   ]
  },
  {
   "cell_type": "markdown",
   "metadata": {},
   "source": [
    "[^1]: HTML form elementleri `<input>, <select>, <option>, <label>` gibi yani kısaca form içerisinde kullandığımız HTML elementlerinin gruplandırılmasından oluşur."
   ]
  }
 ],
 "metadata": {
  "language_info": {
   "name": "python"
  }
 },
 "nbformat": 4,
 "nbformat_minor": 2
}
