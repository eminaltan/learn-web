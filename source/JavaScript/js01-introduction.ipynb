{
 "cells": [
  {
   "cell_type": "markdown",
   "metadata": {},
   "source": [
    "# Introduction to JavaScript<a id='toc0_'></a>\n",
    "\n",
    "This guide is prepared for those who want to learn JavaScript. I am skipping information about when or for what purpose JavaScript emerged. You've probably researched these details. In my opinion, it's beneficial to learn the philosophy of the job; I won't include similar information in the guide.\n",
    "\n",
    "The guide requires basic HTML knowledge.\n",
    "\n",
    "In the article:\n",
    "\n",
    "- [The `<script>` Element](#toc1_1_)\n",
    "- [JavaScript Usage Cases](#toc1_2_)\n",
    "- [JavaScript Outputs](#toc1_3_)\n",
    "  - [`innerHTML` Property](#toc1_3_1_)\n",
    "  - [Usage of the `document.write()` Method](#toc1_3_2_)\n",
    "  - [`window.alert()` Method](#toc1_3_3_)\n",
    "  - [`console.log()` Method](#toc1_3_4_)\n",
    "  - [Print Feature in JavaScript](#toc1_3_5_)\n",
    "\n",
    "I will touch upon.\n",
    "\n",
    "I hope you enjoy reading.\n",
    "\n",
    "Yazının Türkçe versiyonu için [linke](tr-js01-introduction.ipynb) tıklayabilirsiniz.\n",
    "\n",
    "<!-- vscode-jupyter-toc-config\n",
    "\tnumbering=false\n",
    "\tanchor=true\n",
    "\tflat=false\n",
    "\tminLevel=1\n",
    "\tmaxLevel=6\n",
    "\t/vscode-jupyter-toc-config -->\n",
    "<!-- THIS CELL WILL BE REPLACED ON TOC UPDATE. DO NOT WRITE YOUR TEXT IN THIS CELL -->\n"
   ]
  },
  {
   "cell_type": "markdown",
   "metadata": {},
   "source": [
    "## <a id='toc1_1_'></a>[The `<script>` Element](#toc0_)\n",
    "\n",
    "JavaScript code is placed between `<script></script>` elements.\n",
    "\n",
    "**💡 For older browsers to interpret JavaScript code, the type attribute must be defined. In this context, when you encounter an expression like `<script type=\"text/javascript\">`, you can understand that the web page is prepared for older browsers. In modern browsers, the type attribute doesn't need to be defined.**\n",
    "\n",
    "JavaScript code can be placed between the `<head></head>` or `<body></body>` elements.\n",
    "\n",
    "**Example**\n",
    "\n",
    "```html\n",
    "<!DOCTYPE html>\n",
    "<html>\n",
    "  <head>\n",
    "    <script>\n",
    "      /* In this example, JavaScript code is placed between the <head></head> elements */\n",
    "      console.log(\"test\");\n",
    "    </script>\n",
    "  </head>\n",
    "  <body>\n",
    "    <h2>JavaScript Example</h2>\n",
    "  </body>\n",
    "</html>\n",
    "\n",
    "<!DOCTYPE html>\n",
    "<html>\n",
    "  <head>\n",
    "    <body>\n",
    "      <script>\n",
    "        /* In this example, JavaScript code is placed between the <body></body> elements */\n",
    "        console.log(\"test\");\n",
    "      </script>\n",
    "      <h2>JavaScript Example</h2>\n",
    "    </body>\n",
    "  </head>\n",
    "</html>\n",
    "```\n",
    "\n",
    "**💡 Placing JavaScript code near the `</body>` tag ensures faster interpretation and execution of the code.**\n",
    "\n",
    "**Example**\n",
    "\n",
    "```html\n",
    "<!DOCTYPE html>\n",
    "<html>\n",
    "  <head>\n",
    "    <body>\n",
    "      <h2>JavaScript Example</h2>\n",
    "      <script>\n",
    "        /* Placing JavaScript code near the </body> tag will make it run faster. */\n",
    "        console.log(\"test\");\n",
    "      </script>\n",
    "    </body>\n",
    "  </head>\n",
    "</html>\n",
    "```\n"
   ]
  },
  {
   "cell_type": "markdown",
   "metadata": {},
   "source": [
    "## <a id='toc1_2_'></a>[JavaScript Usage Cases](#toc0_)\n",
    "\n",
    "We can use JavaScript code between `<script></script>` elements or include JavaScript code from an external file.\n",
    "\n",
    "Using external JavaScript code provides us with several advantages:\n",
    "\n",
    "- Separation of HTML and JavaScript code makes the document easier to read, understand, and manage.\n",
    "\n",
    "- The same code can be reused on other pages, avoiding the need to rewrite it, following the **_DRY1_[^1]** principle.\n",
    "\n",
    "- JavaScript code can be cached, leading to faster page loading.\n",
    "\n",
    "In the example below, the import of external JavaScript files onto a web page is demonstrated.\n",
    "\n",
    "**Example**\n",
    "\n",
    "```javascript\n",
    "<script src=\"script1.js\"></script>\n",
    "<script src=\"script2.js\"></script>\n",
    "```\n"
   ]
  },
  {
   "cell_type": "markdown",
   "metadata": {},
   "source": [
    "## <a id='toc1_3_'></a>[JavaScript Outputs](#toc0_)\n",
    "\n",
    "There are four methods commonly used to obtain output in JavaScript:\n",
    "\n",
    "- To output content into an HTML element, you can use the `innerHTML` property.\n",
    "\n",
    "- To output content within an HTML document, you can use the `document.write()` method.\n",
    "\n",
    "- For displaying alert messages, you can use the `window.alert()` method.\n",
    "\n",
    "- For logging messages to the console, you can use the `console.log()` method.\n",
    "\n",
    "Let's briefly overview these methods; I will delve into details throughout the process.\n"
   ]
  },
  {
   "cell_type": "markdown",
   "metadata": {},
   "source": [
    "### <a id='toc1_3_1_'></a>[`innerHTML` Property](#toc0_)\n",
    "\n",
    "Sometimes, we may want to use the result of an operation as output within an HTML element. In such cases, we generally use the `innerHTML` property.\n",
    "\n",
    "**Example**\n",
    "\n",
    "```html\n",
    "<!DOCTYPE html>\n",
    "<html>\n",
    "  <body>\n",
    "    <p id=\"content\"></p>\n",
    "    <script>\n",
    "      /* In the example, the HTML element with the #content id will be located, and the text \"test\" will be inserted into it. */\n",
    "      document.getElementById(\"content\").innerHTML = \"test\";\n",
    "    </script>\n",
    "  </body>\n",
    "</html>\n",
    "```\n"
   ]
  },
  {
   "cell_type": "markdown",
   "metadata": {},
   "source": [
    "### <a id='toc1_3_2_'></a>[Usage of the `document.write()` Method](#toc0_)\n",
    "\n",
    "The `document.write()` method is generally used for testing purposes.\n",
    "\n",
    "**❗ If the `document.write()` method is called after the HTML page has loaded, the content of the page will be overwritten.**\n",
    "\n",
    "In the example below, the content of the HTML page **gets cleared, and the string \"Test\" is used** within the document when the button is clicked.\n",
    "\n",
    "**Example**\n",
    "\n",
    "```html\n",
    "<!DOCTYPE html>\n",
    "<html>\n",
    "  <body>\n",
    "    <p>document.write() method is called with onClick HTML event handler.</p>\n",
    "\n",
    "    <!-- When the button is clicked, the document.write() method will execute. -->\n",
    "    <button\n",
    "      type=\"button\"\n",
    "      onclick=\"document.write(`Test`)\"\n",
    "    >\n",
    "      Click\n",
    "    </button>\n",
    "  </body>\n",
    "</html>\n",
    "```\n",
    "\n",
    "In the example below, the content of the HTML page will not be cleared.\n",
    "\n",
    "**Example**\n",
    "\n",
    "```html\n",
    "<!DOCTYPE html>\n",
    "<html>\n",
    "  <body>\n",
    "    <p>\n",
    "      The document content will not be cleared because the document.write()\n",
    "      method is not called.\n",
    "    </p>\n",
    "    <script>\n",
    "      document.write(\"Test\");\n",
    "    </script>\n",
    "  </body>\n",
    "</html>\n",
    "```\n"
   ]
  },
  {
   "cell_type": "markdown",
   "metadata": {},
   "source": [
    "### <a id='toc1_3_3_'></a>[`window.alert()` Method](#toc0_)\n",
    "\n",
    "Sometimes, we may want to create message boxes, similar to those in Windows. In such cases, the `window.alert()` method is used.\n",
    "\n",
    "**⚠️ In JavaScript, the `window` keyword represents the _global_ scope object. This means that all variables, properties, and methods defined in JavaScript are, by default, part of the `window` object. The use of the `window` keyword is optional; it can be omitted.**\n",
    "\n",
    "**Example**\n",
    "\n",
    "```javascript\n",
    "/* Both statements have the same meaning. */\n",
    "window.alert(\"Test\");\n",
    "\n",
    "alert(\"Test\");\n",
    "\n",
    "```"
   ]
  },
  {
   "cell_type": "markdown",
   "metadata": {},
   "source": [
    "### <a id='toc1_3_4_'></a>[`console.log()` Method](#toc0_)\n",
    "\n",
    "The `console.log()` method is commonly used in debugging processes. It is used to output information to the JavaScript console. To access the console, we can use the browser's inspector. Typically, you can open it by right-clicking and selecting 'Inspect' or by pressing the F12 key. Then, navigate to the 'Console' tab, where you can use `console.log()` to output various information for debugging purposes.\"\n",
    "\n",
    "![Console](https://wd.imgix.net/image/admin/ET1JJFtUIXvaoPCGQ94C.png?auto=format, \"The console of the browser is visible in the figure.\")\n",
    "\n",
    "**Example**\n"
   ]
  },
  {
   "cell_type": "code",
   "execution_count": 1,
   "metadata": {
    "vscode": {
     "languageId": "javascript"
    }
   },
   "outputs": [
    {
     "name": "stdout",
     "output_type": "stream",
     "text": [
      "Test\n"
     ]
    }
   ],
   "source": [
    "%%script node\n",
    "\n",
    "/* The code will print the string \"Test\" to the console. */\n",
    "console.log(\"Test\");"
   ]
  },
  {
   "cell_type": "markdown",
   "metadata": {},
   "source": [
    "### <a id='toc1_3_5_'></a>[Print Feature in JavaScript](#toc0_)\n",
    "\n",
    "In JavaScript, there is only the `window.print()` method. This allows obtaining a hard copy or soft copy of the content on the browser screen.\n",
    "\n",
    "**Example**\n",
    "\n",
    "```html\n",
    "<!DOCTYPE html>\n",
    "<html>\n",
    "  <body>\n",
    "    <!-- Helps us to print the content from the browser.-->\n",
    "    <button onclick=\"window.print()\">Print Screen</button>\n",
    "  </body>\n",
    "</html>\n",
    "```\n"
   ]
  },
  {
   "cell_type": "markdown",
   "metadata": {},
   "source": [
    "[^1]: DRY an acronym for \"Don't Repeat Yourself,\" is an approach that aims to avoid repeating the same code.\n"
   ]
  }
 ],
 "metadata": {
  "kernelspec": {
   "display_name": "Python 3",
   "language": "python",
   "name": "python3"
  },
  "language_info": {
   "codemirror_mode": {
    "name": "ipython",
    "version": 3
   },
   "file_extension": ".py",
   "mimetype": "text/x-python",
   "name": "python",
   "nbconvert_exporter": "python",
   "pygments_lexer": "ipython3",
   "version": "3.10.12"
  }
 },
 "nbformat": 4,
 "nbformat_minor": 2
}
