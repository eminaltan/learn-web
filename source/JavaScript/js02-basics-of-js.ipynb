{
 "cells": [
  {
   "cell_type": "markdown",
   "metadata": {},
   "source": [
    "# Fundamentals of JavaScript<a id='toc0_'></a>\n",
    "\n",
    "Hello, friends! In this article, we will take a brief look at the fundamentals of JavaScript.\n",
    "\n",
    "In the article:\n",
    "\n",
    "- [JavaScript Statement Concept](#toc1_1_)\n",
    "- [JavaScript White Space Usage](#toc1_2_)\n",
    "- [JavaScript Code Blocks](#toc1_3_)\n",
    "- [Usage of JavaScript Keywords](#toc1_4_)\n",
    "- [JavaScript Syntax Concept](#toc1_5_)\n",
    "- [JavaScript Immutable and Mutable Concepts](#toc1_6_)\n",
    "- [Data Types in JavaScript](#toc1_7_)\n",
    "- [JavaScript Variables](#toc1_8_)\n",
    "  - [Variables in JavaScript are Dynamically Typed](#toc1_8_1_)\n",
    "- [JavaScript Operators](#toc1_9_)\n",
    "- [Concept of JavaScript Expressions](#toc1_10_)\n",
    "- [Concept of JavaScript Identifiers](#toc1_11_)\n",
    "- [JavaScript Case Sensitivity](#toc1_12_)\n",
    "\n",
    "I will briefly touch on them, and in the coming days, I will elaborate on the topics.\n",
    "\n",
    "I hope you enjoy reading.\n",
    "\n",
    "Yazının Türkçe versiyonu için [linke](tr-js02-basics-of-js.ipynb) tıklayabilirsiniz.\n",
    "\n",
    "<!-- vscode-jupyter-toc-config\n",
    "\tnumbering=false\n",
    "\tanchor=true\n",
    "\tflat=false\n",
    "\tminLevel=1\n",
    "\tmaxLevel=6\n",
    "\t/vscode-jupyter-toc-config -->\n",
    "<!-- THIS CELL WILL BE REPLACED ON TOC UPDATE. DO NOT WRITE YOUR TEXT IN THIS CELL -->\n"
   ]
  },
  {
   "cell_type": "markdown",
   "metadata": {},
   "source": [
    "## <a id='toc1_1_'></a>[JavaScript Statement Concept](#toc0_)\n",
    "\n",
    "A computer program creates expressions that will be executed by the computer. In programming languages, these are called **_statements_**. A JavaScript application consists of a list of statements.\n",
    "\n",
    "In JavaScript, statements can consist of variables, values, operators, expressions, keywords, and comments.\n",
    "\n",
    "**Example**\n",
    "\n",
    "```javascript\n",
    "/* The line below carries the statement feature. */\n",
    "var x;\n",
    "```\n"
   ]
  },
  {
   "cell_type": "markdown",
   "metadata": {},
   "source": [
    "JavaScript statements are executed in the order they are written.\n",
    "\n",
    "**Example**\n"
   ]
  },
  {
   "cell_type": "code",
   "execution_count": 1,
   "metadata": {
    "vscode": {
     "languageId": "javascript"
    }
   },
   "outputs": [
    {
     "name": "stdout",
     "output_type": "stream",
     "text": [
      "This will run first.\n",
      "Then this will run.\n",
      "Finally, this will run.\n"
     ]
    }
   ],
   "source": [
    "%%script node\n",
    "\n",
    "console.log(\"This will run first.\");\n",
    "console.log(\"Then this will run.\");\n",
    "console.log(\"Finally, this will run.\");"
   ]
  },
  {
   "cell_type": "markdown",
   "metadata": {},
   "source": [
    "The `;` symbol is used to separate statements from each other. A single line can contain more than one statement.\n",
    "\n",
    "**Example**\n"
   ]
  },
  {
   "cell_type": "code",
   "execution_count": 2,
   "metadata": {
    "vscode": {
     "languageId": "javascript"
    }
   },
   "outputs": [
    {
     "name": "stdout",
     "output_type": "stream",
     "text": [
      "1.Statement\n",
      "2.Statement\n",
      "3.Statement\n"
     ]
    }
   ],
   "source": [
    "%%script node\n",
    "\n",
    "/* The example below shows three statements created in a single line. */\n",
    "console.log(\"1.Statement\"); console.log(\"2.Statement\"); console.log(\"3.Statement\");"
   ]
  },
  {
   "cell_type": "markdown",
   "metadata": {},
   "source": [
    "## <a id='toc1_2_'></a>[JavaScript White Space Usage](#toc0_)\n",
    "\n",
    "JavaScript ignores white space characters. This means that statements written on a single line have the same meaning as statements created on multiple lines.\n",
    "\n",
    "**💡 To ensure code readability, it is recommended to write each statement on a separate line. Keeping each line to around 80 characters on average can enhance readability.**\n",
    "\n",
    "**Example**\n",
    "\n",
    "```javascript\n",
    "let x = 3;\n",
    "let y = 4;\n",
    "\n",
    "/* The above expression can also be written as follows. */\n",
    "let x = 3;\n",
    "let y = 4;\n",
    "```\n"
   ]
  },
  {
   "cell_type": "markdown",
   "metadata": {},
   "source": [
    "## <a id='toc1_3_'></a>[JavaScript Code Blocks](#toc0_)\n",
    "\n",
    "In JavaScript, `{}` braces are used to group code. Grouped code blocks are referred to as **_methods_** or **_functions_**.\n",
    "\n",
    "**Example**\n"
   ]
  },
  {
   "cell_type": "code",
   "execution_count": 3,
   "metadata": {
    "vscode": {
     "languageId": "javascript"
    }
   },
   "outputs": [
    {
     "name": "stdout",
     "output_type": "stream",
     "text": [
      "Let's ride George\n"
     ]
    }
   ],
   "source": [
    "%%script node\n",
    "\n",
    "function drive() {\n",
    "  console.log(\"Let's ride George\");\n",
    "}\n",
    "\n",
    "// The expression \"Let's ride George\" is printed to the console.\n",
    "drive();"
   ]
  },
  {
   "cell_type": "markdown",
   "metadata": {},
   "source": [
    "## <a id='toc1_4_'></a>[Usage of JavaScript Keywords](#toc0_)\n",
    "\n",
    "JavaScript expressions often begin with a keyword.\n",
    "\n",
    "**❗ Keyword names cannot be used when defining variable or method names because these keywords are reserved in JavaScript.**\n",
    "\n",
    "**Example**\n",
    "\n",
    "```javascript\n",
    "/* ❌ The variable declaration below is incorrect. */\n",
    "let var = 5;\n",
    "\n",
    "// The statement \"SyntaxError: Unexpected token 'var'\" will be printed to the console.\n",
    "console.log(var);\n",
    "```\n"
   ]
  },
  {
   "cell_type": "markdown",
   "metadata": {},
   "source": [
    "The commonly used keywords are listed below.\n",
    "\n",
    "| **Keyword** | **Description**                           |\n",
    "| ----------- | ----------------------------------------- |\n",
    "| `var`       | Creates a variable.                       |\n",
    "| `let`       | Creates a block-scoped variable.          |\n",
    "| `const`     | Creates a block-scoped constant variable. |\n",
    "\n",
    "I will touch upon terms and usage types as we go along, friends. I will explain the purposes of keywords like `var`, `const`, `let`, and their differences in the process.\n"
   ]
  },
  {
   "cell_type": "markdown",
   "metadata": {},
   "source": [
    "## <a id='toc1_5_'></a>[JavaScript Syntax Concept](#toc0_)\n",
    "\n",
    "Syntax in JavaScript determines the arrangement of code. We can think of these rules as the writing guide or grammar of a language.\n",
    "\n",
    "**⚠️ If there are incorrect syntaxes, the program or code blocks will not work.**\n",
    "\n",
    "**Example**\n",
    "\n",
    "```javascript\n",
    "// We see the syntax used to create a variable in the example.\n",
    "var x;\n",
    "var y;\n",
    "\n",
    "\"Osman\"=let z;\n",
    "\n",
    "/**\n",
    " * ❌ The syntax of the z variable is incorrect. The statement \"SyntaxError: Invalid\n",
    " * left-hand side in assignment\" will be printed to the console.\n",
    " */\n",
    "console.log (z);\n",
    "```\n"
   ]
  },
  {
   "cell_type": "markdown",
   "metadata": {},
   "source": [
    "## <a id='toc1_6_'></a>[JavaScript Immutable and Mutable Concepts](#toc0_)\n",
    "\n",
    "In JavaScript, variables are divided into two groups based on data types:\n",
    "\n",
    "- Immutable (Constant values)\n",
    "\n",
    "- Mutable (Variable values)\n",
    "\n",
    "Constant values are also called **_Literals_**. Each assigned value has a new address in memory (RAM), and the content of the assigned value cannot be changed in memory.\n",
    "\n",
    "**💡 We generally use constant values in places where we want to preserve the original data. For example, the original data may be used in multiple places. Data that is not preserved can lead to undesired results in the program.**\n",
    "\n",
    "**⚠️ When a new value is assigned to a constant-valued variable, a new space is allocated in memory to store the data. This can lead to memory-related issues. Therefore, if performance is a priority, we should use constants less frequently.**\n",
    "\n",
    "Variable values are also referred to as **_variables_**. The assigned value has an address in memory, and the content of the assigned data can be changed. **Therefore, they have the property of being references. When a new data is assigned to a variable-valued variable, a new space is not used in memory. The relevant reference address where the data is stored is found, and the old data is overwritten, saving the new data to the reference address.**\n",
    "\n",
    "**💡 Variable-valued values do not take up space in memory like constants, as they use reference addresses for data. Therefore, if performance is a priority, we can use this data type.**\n",
    "\n",
    "**Example**\n",
    "\n",
    "Below is an example of the immutable property:\n"
   ]
  },
  {
   "cell_type": "code",
   "execution_count": 4,
   "metadata": {
    "vscode": {
     "languageId": "javascript"
    }
   },
   "outputs": [
    {
     "name": "stdout",
     "output_type": "stream",
     "text": [
      "The content of the studentName variable is: Emin\n",
      "Pay attention here. The value stored in the personName variable is: Emin\n",
      "The content of the studentName variable is: Hasan\n"
     ]
    }
   ],
   "source": [
    "%%script node\n",
    "\n",
    "// The studentName variable has the immutable property.\n",
    "let studentName = \"Emin\";\n",
    "\n",
    "console.log(`The content of the studentName variable is: ${studentName}`);\n",
    "\n",
    "// We store the content of the studentName variable in the personName variable.\n",
    "let personName = studentName;\n",
    "\n",
    "/** \n",
    " * We store a new value in the studentName variable. In this case, a new address will be allocated in RAM for \n",
    " * Hasan.\n",
    " */\n",
    "studentName = \"Hasan\";\n",
    "\n",
    "console.log(`Pay attention here. The value stored in the personName variable is: ${personName}`);\n",
    "console.log(`The content of the studentName variable is: ${studentName}`);\n"
   ]
  },
  {
   "cell_type": "markdown",
   "metadata": {},
   "source": [
    "Below is an example of the mutable property:\n",
    "\n",
    "**Example**\n"
   ]
  },
  {
   "cell_type": "code",
   "execution_count": 5,
   "metadata": {
    "vscode": {
     "languageId": "javascript"
    }
   },
   "outputs": [
    {
     "name": "stdout",
     "output_type": "stream",
     "text": [
      "The expression car is printed to the console.\n",
      "The expression long bus is printed to the console.\n",
      "The expression long bus is printed to the console.\n"
     ]
    }
   ],
   "source": [
    "%%script node\n",
    "\n",
    "// Our variable 'vehicle' has mutable properties.\n",
    "let vehicle = { type: \"car\", color: \"orange\" };\n",
    "\n",
    "console.log(`The expression ${vehicle[\"type\"]} is printed to the console.`);\n",
    "\n",
    "// We create a variable named 'bus' and set its value to be referenced by the 'vehicle' variable.\n",
    "let bus = vehicle;\n",
    "\n",
    "// We access the 'type' key of the 'bus' variable and store a new value.\n",
    "bus[\"type\"] = \"long bus\";\n",
    "\n",
    "console.log(`The expression ${bus[\"type\"]} is printed to the console.`);\n",
    "\n",
    "/** \n",
    " * ⚠️ Pay attention here. The value stored in 'vehicle[type]' will be overwritten with \"long bus,\"\n",
    " * and the console will print the expression \"long bus.\"\n",
    " * \n",
    " * This is because when we change the content of the 'bus' variable, we simultaneously change the\n",
    " * content at the reference address in memory that holds the data.\n",
    " */\n",
    "console.log(`The expression ${vehicle[\"type\"]} is printed to the console.`);"
   ]
  },
  {
   "cell_type": "markdown",
   "metadata": {},
   "source": [
    "## <a id='toc1_7_'></a>[Data Types in JavaScript](#toc0_)\n",
    "\n",
    "In JavaScript, there are two main types of data:\n",
    "\n",
    "- Primitive Data Types\n",
    "\n",
    "- Object Data Types\n",
    "\n",
    "Primitive data types consist of **_number, string, boolean, undefined, null, symbol_**, and **_bigint_**. Except for the **_null_** data type, these are also characterized by their **immutable** nature.\n",
    "\n",
    "Object data types consist of **_object, array, date_** and **_function_**. These data types, on the other hand, exhibit the **mutable** property.\n",
    "\n",
    "It's important to understand that primitive data types are immutable, meaning their values cannot be changed once they are assigned. In contrast, object data types are mutable, allowing their values to be modified. This distinction plays a crucial role in understanding how data is handled and manipulated in JavaScript.\n"
   ]
  },
  {
   "cell_type": "markdown",
   "metadata": {},
   "source": [
    "## <a id='toc1_8_'></a>[JavaScript Variables](#toc0_)\n",
    "\n",
    "Variables in programming languages are used to store data. In JavaScript, variables can be declared using the `var`, `const`, or `let` keywords.\n",
    "\n",
    "**Example**\n"
   ]
  },
  {
   "cell_type": "code",
   "execution_count": 6,
   "metadata": {
    "vscode": {
     "languageId": "javascript"
    }
   },
   "outputs": [
    {
     "name": "stdout",
     "output_type": "stream",
     "text": [
      "\u001b[33m4\u001b[39m\n",
      "Hasan\n",
      "\u001b[33m3.14\u001b[39m\n"
     ]
    }
   ],
   "source": [
    "%%script node\n",
    "\n",
    "// We stored the number 4 in the variable x.\n",
    "var x = 4;\n",
    "\n",
    "// We stored the expression \"Hasan\" in the variable y.\n",
    "let y = \"Hasan\";\n",
    "\n",
    "// We stored the number 3.14 in the constant variable pi.\n",
    "const pi = 3.14;\n",
    "\n",
    "console.log(x);\n",
    "console.log(y);\n",
    "console.log(pi);"
   ]
  },
  {
   "cell_type": "markdown",
   "metadata": {},
   "source": [
    "### <a id='toc1_8_1_'></a>[Variables in JavaScript are Dynamically Typed](#toc0_)\n",
    "\n",
    "In JavaScript, variables have dynamic type, meaning a variable can be used to hold values of different data types.\n",
    "\n",
    "**Example**\n"
   ]
  },
  {
   "cell_type": "code",
   "execution_count": 7,
   "metadata": {
    "vscode": {
     "languageId": "javascript"
    }
   },
   "outputs": [
    {
     "name": "stdout",
     "output_type": "stream",
     "text": [
      "Sebile\n"
     ]
    }
   ],
   "source": [
    "%%script node\n",
    "\n",
    "// The data type of the variable x is undefined.\n",
    "let x;\n",
    "\n",
    "// The data type of the variable x is number.\n",
    "x = 5;\n",
    "\n",
    "// The data type of the variable x is string.\n",
    "x = \"Sebile\";\n",
    "\n",
    "console.log(x);\n"
   ]
  },
  {
   "cell_type": "markdown",
   "metadata": {},
   "source": [
    "## <a id='toc1_9_'></a>[JavaScript Operators](#toc0_)\n",
    "\n",
    "Essentially, we can use mathematical expressions that we use in everyday life within JavaScript. These are expressions such as `( + - * / )` and are referred to as **_arithmetic operators_**.\n",
    "\n",
    "**⚠️ In JavaScript, the `=` sign functions as an assignment operator, meaning it does not imply mathematical equality. For this the operators `==` or `===` are used. Data type of these operators will be boolean.**\n",
    "\n",
    "**Example**\n"
   ]
  },
  {
   "cell_type": "code",
   "execution_count": 8,
   "metadata": {
    "vscode": {
     "languageId": "javascript"
    }
   },
   "outputs": [
    {
     "name": "stdout",
     "output_type": "stream",
     "text": [
      "\u001b[33m4\u001b[39m\n"
     ]
    }
   ],
   "source": [
    "%%script node\n",
    "\n",
    "// We assigned the value 4 to the variable x. The reference x is now storing the value 4.\n",
    "let x = 4;\n",
    "\n",
    "console.log(x);"
   ]
  },
  {
   "cell_type": "markdown",
   "metadata": {},
   "source": [
    "In JavaScript, there are many operators. I will touch upon them as needed.\n"
   ]
  },
  {
   "cell_type": "markdown",
   "metadata": {},
   "source": [
    "## <a id='toc1_10_'></a>[Concept of JavaScript Expressions](#toc0_)\n",
    "\n",
    "In JavaScript, the calculation of an operation in a single line is referred to as an **_expression_**. An expression consists of variables, values, and operators.\n",
    "\n",
    "**Example**\n",
    "\n",
    "```javascript\n",
    "var x = 4;\n",
    "var y = 3;\n",
    "\n",
    "// Expression\n",
    "var z = 4 * 3;\n",
    "```\n"
   ]
  },
  {
   "cell_type": "markdown",
   "metadata": {},
   "source": [
    "## <a id='toc1_11_'></a>[Concept of JavaScript Identifiers](#toc0_)\n",
    "\n",
    "Identifiers are used to name variables or functions in programming.\n",
    "\n",
    "When naming variables in JavaScript, the following points should be noted:\n",
    "\n",
    "- In JavaScript, an identifier can start with an uppercase or lowercase letter, `$`, or `_`.\n",
    "\n",
    "- JavaScript identifiers are **unique**, meaning the same name cannot be used for another variable or method.\n",
    "\n",
    "- JavaScript is case-sensitive, so `x` and `X` represent different variables.\n",
    "\n",
    "- Numeric values cannot be the initial character when defining an identifier, but they can be used in other parts of the identifier.\n",
    "\n",
    "- Reserved keywords in JavaScript cannot be used as identifiers.\n",
    "\n",
    "**Example**\n",
    "\n",
    "```javascript\n",
    "/**\n",
    " * ✔️ Proper naming conventions. ⚠️ Even though the variable names in the first two lines are the same,\n",
    " * they define different variables.\n",
    " */\n",
    "var deneme;\n",
    "var Deneme;\n",
    "var DENEME01;\n",
    "var $deneme;\n",
    "var _deneme;\n",
    "\n",
    "// ❌ Incorrect naming conventions\n",
    "var 1deneme;\n",
    "\n",
    "// The 'let' keyword cannot be used as a variable name.\n",
    "var let;\n",
    "```\n"
   ]
  },
  {
   "cell_type": "markdown",
   "metadata": {},
   "source": [
    "## <a id='toc1_12_'></a>[JavaScript Case Sensitivity](#toc0_)\n",
    "\n",
    "JavaScript is case-sensitive, meaning it distinguishes between uppercase and lowercase letters. `firstname` and `firstName` do not have the same meaning.\n",
    "\n",
    "**⚠️ The `-` character cannot be used in JavaScript due to it being reserved.**\n"
   ]
  }
 ],
 "metadata": {
  "kernelspec": {
   "display_name": "Python 3",
   "language": "python",
   "name": "python3"
  },
  "language_info": {
   "codemirror_mode": {
    "name": "ipython",
    "version": 3
   },
   "file_extension": ".py",
   "mimetype": "text/x-python",
   "name": "python",
   "nbconvert_exporter": "python",
   "pygments_lexer": "ipython3",
   "version": "3.10.12"
  }
 },
 "nbformat": 4,
 "nbformat_minor": 2
}
