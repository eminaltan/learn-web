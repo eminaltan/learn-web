{
  "cells": [
    {
      "cell_type": "markdown",
      "metadata": {},
      "source": [
        "## JavaScript Variable Concept and Variable Declaration Methods\n",
        "\n",
        "If we explain variables through a metaphor, we can liken them to a container filled with liquid. Just as we can change the liquids we put into the container, we can also change the data stored within variables.\n",
        "\n",
        "**In JavaScript, a variable can be defined using one of the four methods:**\n",
        "\n",
        "- Automatically\n",
        "\n",
        "- Using the `var` keyword\n",
        "\n",
        "- Using the `let` keyword\n",
        "\n",
        "- Using the `const` keyword\n",
        "\n",
        "Automatically declared variables **do not have a keyword at the beginning.** Therefore, we understand that a variable is automatically declared in this way. Automatically declared variables can also be used in mathematical operations.\n",
        "\n",
        "**Example**\n"
      ]
    },
    {
      "cell_type": "code",
      "execution_count": 2,
      "metadata": {
        "vscode": {
          "languageId": "javascript"
        }
      },
      "outputs": [
        {
          "name": "stdout",
          "output_type": "stream",
          "text": [
            "Result: 9\n"
          ]
        }
      ],
      "source": [
        "%%script node\n",
        "    \n",
        "x = 4;\n",
        "y = 5;\n",
        "result = x + y;\n",
        "\n",
        "// This code prints the number 9 to the console in JavaScript.\n",
        "console.log(`Result: ${result}`);"
      ]
    },
    {
      "cell_type": "markdown",
      "metadata": {},
      "source": [
        "**💡 Always defining variables at the beginning of the JavaScript document or the _scope_[^1] it belongs to will prevent potential issues. I will address this under the title [JavaScript Hoisting](#javascript-hoisting).**\n",
        "\n",
        "**💡 Between 1995 and 2015, the `var` keyword was used to declare variables. In 2015, the `let` and `const` keywords were introduced to JavaScript for variable declaration. This allows us to determine whether a document is prepared for modern or old browsers by looking at its content.**\n"
      ]
    },
    {
      "cell_type": "markdown",
      "metadata": {},
      "source": [
        "### Usage Order of `var`, `let`, and `const` Keywords\n",
        "\n",
        "**Variables should be declared at the beginning of the document or scope they belong to. Generally, the following order is recommended when creating variables:**\n",
        "\n",
        "1. It is advisable not to use automatic variables.\n",
        "\n",
        "2. If the content of a variable is constant, i.e., it will not change, it is recommended to always declare it using the `const` keyword.\n",
        "\n",
        "3. If the content of variables of type array or object is constant, i.e., it will not change, it is recommended to always declare them using the `const` keyword.\n",
        "\n",
        "4. In cases where the `const` keyword cannot be used, it is recommended to declare the variable using the `let` keyword.\n",
        "\n",
        "5. If you are writing a script for older browsers, it is advisable to use the `var` keyword.\n"
      ]
    },
    {
      "cell_type": "markdown",
      "metadata": {},
      "source": [
        "## JavaScript Data Types\n",
        "\n",
        "Just like in other programming languages, JavaScript has various data types. Examples of data types include strings and numeric values, which are among the most commonly used data types in JavaScript. For now, I'll cover what we need.\n",
        "\n",
        "**⚠️ String data types are used between `\"\"` or `''` signs. If a numerical expression is used between `\"\"` or `''` signs, it is referred to as a _numeric string_.**\n",
        "\n",
        "**Example**\n",
        "\n",
        "```javascript\n",
        "// str1 is a variable of string type.\n",
        "var str1 = \"Test\";\n",
        "\n",
        "// str2 is a variable of numeric string type.\n",
        "var str2 = \"4\";\n",
        "\n",
        "// str3 is a variable of numeric string type.\n",
        "var str3 = '3';\n",
        "\n",
        "// str4 is a variable of numeric type.\n",
        "var str4 = 4;\n",
        "\n",
        "// str5 is a variable of string type.\n",
        "var str5 = 'Text';\n",
        "```\n"
      ]
    },
    {
      "cell_type": "markdown",
      "metadata": {},
      "source": [
        "**Additionally, we can use backticks or template literals ` `` ` to create string content in JavaScript. Typically, within backticks, we combine both a variable and a string expression, allowing us to create dynamic content.**\n",
        "\n",
        "**Example**"
      ]
    },
    {
      "cell_type": "code",
      "execution_count": 3,
      "metadata": {
        "vscode": {
          "languageId": "javascript"
        }
      },
      "outputs": [
        {
          "name": "stdout",
          "output_type": "stream",
          "text": [
            "Content of the str5 variable: 8\n"
          ]
        }
      ],
      "source": [
        "%%script node\n",
        "\n",
        "var str5 = 8;\n",
        "\n",
        "// Utilizing backticks (template literals) to create a string that includes a variable\n",
        "console.log(`Content of the str5 variable: ${str5}`);"
      ]
    },
    {
      "cell_type": "markdown",
      "metadata": {},
      "source": [
        "**⚠️ Other string values except for numeric-like string values do not contribute to the result in mathematical operations. If a string is used in a mathematical expression, the result will be of string data type. This affects the result based on where the string is used. The situation is somewhat different for numeric-like string values. For more detailed information, you can refer to the section on [JavaScript Numeric-like String Values](js07-numeric-data-type.ipynb#javascript-numeric-string-values).**\n",
        "\n",
        "<!-- [#1](https://github.com/eminaltan/learn-web/issues/1) -->\n",
        "\n",
        "**In JavaScript, expressions are evaluated from left to right. That is, JavaScript determines where the expression will be a string based on this pattern.**\n",
        "\n",
        "**Example**\n"
      ]
    },
    {
      "cell_type": "code",
      "execution_count": 12,
      "metadata": {
        "vscode": {
          "languageId": "javascript"
        }
      },
      "outputs": [
        {
          "name": "stdout",
          "output_type": "stream",
          "text": [
            "The console will print 71.\n",
            "The console will print 143.\n",
            "The console will print 8.\n"
          ]
        }
      ],
      "source": [
        "%%script node\n",
        "\n",
        "var x = 4 + 3 + \"1\";\n",
        "\n",
        "// \"71\" will be printed to the console.\n",
        "console.log(`The console will print ${x}.`);\n",
        "\n",
        "var y = \"1\" + 4 + 3;\n",
        "\n",
        "// \"143\" will be printed to the console.\n",
        "console.log(`The console will print ${y}.`);\n",
        "\n",
        "// \"8\" will be printed to the console.\n",
        "y = \"9\" - 4 + 3;\n",
        "console.log(`The console will print ${y}.`);\n"
      ]
    },
    {
      "cell_type": "markdown",
      "metadata": {},
      "source": [
        "The `+` operator from mathematical operators can be used with string data types. In this case, strings are concatenated. The `+` operator for string data types is named the **_concatenation operator_**.\n",
        "\n",
        "**Example**\n"
      ]
    },
    {
      "cell_type": "code",
      "execution_count": 13,
      "metadata": {
        "vscode": {
          "languageId": "javascript"
        }
      },
      "outputs": [
        {
          "name": "stdout",
          "output_type": "stream",
          "text": [
            "The console will print Emin Altan.\n"
          ]
        }
      ],
      "source": [
        "%%script node\n",
        "\n",
        "let x = \"Emin\" + \" \" + \"Altan\";\n",
        "\n",
        "/** \n",
        " * \"Emin\" and \" Altan\" will be concatenated, and \"Emin Altan\" will be printed to the \n",
        " * console.\n",
        " */\n",
        "console.log(`The console will print ${x}.`);\n"
      ]
    },
    {
      "cell_type": "markdown",
      "metadata": {},
      "source": [
        "## Variable Declaration in JavaScript\n",
        "\n",
        "The process of creating a variable in JavaScript is called **_declaration_**. When declaring a variable, the `const` and `let` keywords are commonly used.\n",
        "\n",
        "A variable can be declared without assigning a value to it. In this case, the content of the variable is determined as `undefined`. **This does not apply to variables declared with `const`. For a variable declared with the `const` keyword, it is mandatory to assign a value on the same line as the declaration.**\n",
        "\n",
        "**💡 `undefined` is also a keyword and can be useful, especially when creating _conditional statements_[^2].**\n",
        "\n",
        "**Example**\n",
        "\n",
        "```javascript\n",
        "/**\n",
        " * We created the variable x without assigning a value. In this case, the content of the variable is determined \n",
        " * as undefined.\n",
        " */\n",
        "var x;\n",
        "\n",
        "// ❌ It is not appropriate to use the const keyword in this way for a variable declaration.\n",
        "const firstName;\n",
        "firstName = \"Murat\";\n",
        "\n",
        "// ✔️ Declaration with the const keyword should be done in a single line.\n",
        "const firstName2 = \"Sinan\";\n",
        "```\n"
      ]
    },
    {
      "cell_type": "markdown",
      "metadata": {},
      "source": [
        "**💡 We can declare variables of the same type in a single line, saving us time. In this case, `,` are placed between variables.**\n",
        "\n",
        "**Example**\n"
      ]
    },
    {
      "cell_type": "code",
      "execution_count": 14,
      "metadata": {
        "vscode": {
          "languageId": "javascript"
        }
      },
      "outputs": [
        {
          "name": "stdout",
          "output_type": "stream",
          "text": [
            "Emin\n"
          ]
        }
      ],
      "source": [
        "%%script node\n",
        "\n",
        "let firstName = \"Emin\", surname = \"Altan\", id = 500;\n",
        "\n",
        "// \"Emin\" will be printed to the console.\n",
        "console.log (firstName);\n"
      ]
    },
    {
      "cell_type": "markdown",
      "metadata": {},
      "source": [
        "**❗ In JavaScript, variable names actually serve as references. That is, they are used as references to represent a value. When we look at the `const` keyword from this perspective, it is used not to declare a constant variable but to create a reference for a constant value. Understanding this distinction is important when using the `const` keyword with data types like objects and arrays. I will delve into arrays and objects in the later parts of this writing.**\n",
        "\n",
        "**Example**\n",
        "\n",
        "```javascript\n",
        "// We store our values of array type in a variable named cities declared with const.\n",
        "const cities = [\"Bursa\", \"İzmir\", \"Ankara\"];\n",
        "\n",
        "// We print the first element of the cities array type data (i.e., Bursa) to the console.\n",
        "console.log(cities[0]);\n",
        "\n",
        "// We replace the first element of the cities array type data (i.e., Bursa) with a new value.\n",
        "cities[0] = \"İstanbul\";\n",
        "\n",
        "/**\n",
        " * We print the first value of the cities reference to the console. In this case, the first value will be \n",
        " * İstanbul, not Bursa.\n",
        " */\n",
        "console.log(cities[0]);\n",
        "\n",
        "// ❌ We cannot assign a new value to the cities reference.\n",
        "cities = [\"Tekirdağ\", \"Samsun\", \"Sinop\"];\n",
        "```\n"
      ]
    },
    {
      "cell_type": "markdown",
      "metadata": {},
      "source": [
        "## Re-Declaration of the Same Variable in JavaScript\n",
        "\n",
        "In JavaScript, a variable can be re-declared using the `var` keyword. This process is called **_re-declaring_**. In this case, the variable retains its stored data unless new data is assigned to it.\n",
        "\n",
        "**Example**\n"
      ]
    },
    {
      "cell_type": "code",
      "execution_count": 15,
      "metadata": {
        "vscode": {
          "languageId": "javascript"
        }
      },
      "outputs": [
        {
          "name": "stdout",
          "output_type": "stream",
          "text": [
            "The console will print the expression Emin.\n",
            "The new value of the firstName variable will be Murat, and the console will print the expression Murat.\n"
          ]
        }
      ],
      "source": [
        "%%script node\n",
        "\n",
        "var firstName = \"Emin\";\n",
        "\n",
        "/**\n",
        " * The declaration of the firstName variable is repeated. It will retain the stored information unless a new \n",
        " * value is assigned to the firstName variable.\n",
        " */\n",
        "var firstName;\n",
        "\n",
        "// \"Emin\" expression will be printed to the console.\n",
        "console.log(`The console will print the expression ${firstName}.`);\n",
        "\n",
        "firstName = \"Murat\";\n",
        "\n",
        "/** \n",
        " * The new value of the firstName variable will be Murat, and the expression \"Murat\" will be printed to the \n",
        " * console.\n",
        " */\n",
        "console.log(`The new value of the firstName variable will be Murat, and the console will print the expression ${firstName}.`);\n"
      ]
    },
    {
      "cell_type": "markdown",
      "metadata": {},
      "source": [
        "**⚠️ A variable declared with `let` and `const` cannot be re-declared. The ability to re-declare a variable is only applicable to the `var` keyword.**\n",
        "\n",
        "**Example**\n",
        "\n",
        "```javascript\n",
        "let i = 5;\n",
        "let i = 3;\n",
        "\n",
        "// ❌ SyntaxError: Identifier 'i' has already been declared error message will return.\n",
        "console.log(i);\n",
        "```\n"
      ]
    },
    {
      "cell_type": "markdown",
      "metadata": {},
      "source": [
        "## Using the `$` Symbol in JavaScript\n",
        "\n",
        "**💡 Generally, the `$` symbol is not used to declare variables. It is used to give an _alias_[^3] to a method within a JavaScript library. For example, the `$` sign can be used to select all `<a>` elements in the jQuery library, like `$(\"a\")`.**\n"
      ]
    },
    {
      "cell_type": "markdown",
      "metadata": {},
      "source": [
        "## Using the `_` Symbol in JavaScript\n",
        "\n",
        "**💡 Generally, the `_` (underscore) symbol is used in JavaScript to indicate that a variable is private.**\n"
      ]
    },
    {
      "cell_type": "markdown",
      "metadata": {},
      "source": [
        "## Block Scope Concept\n",
        "\n",
        "Before 2015 (ES6), there were two types of scope concepts in JavaScript these are **_ global scope_**[^4] and **_function scope_**[^5]. With ES6, the `let` and `const` keywords have been integrated into JavaScript. **A variable created using these keywords cannot be accessed or used outside of its scope.** This concept forms the **_block scope._**\n",
        "\n",
        "**Example**\n",
        "\n",
        "```javascript\n",
        "{\n",
        "  let x = 5;\n",
        "\n",
        "  /** \n",
        "   * ⚠️ Variables created with the `var` keyword can be accessed and used outside of their scope (except function \n",
        "   * scope).\n",
        "   */\n",
        "  var y = 10;\n",
        "}\n",
        "\n",
        "/**\n",
        " * ❌ x variable cannot be accessed or used. The console will print the expression \"ReferenceError: x is not \n",
        " * defined.\"\n",
        " */\n",
        "console.log(x);\n",
        "\n",
        "// y variable can be accessed and used. The console will print the number 10.\n",
        "console.log(y);\n",
        "```\n",
        "\n",
        "**💡 For more information about concept of scope please visit [JavaScript Scope](js23-scope-concept.ipynb) headline.**\n"
      ]
    },
    {
      "cell_type": "markdown",
      "metadata": {},
      "source": [
        "## JavaScript Hoisting\n",
        "\n",
        "Sometimes we assign a value to a variable and then declare it. In this case, JavaScript will move the variable to the top of its scope and execute the code. This is called hoisting. You can keep in mind what the word hoist means from its literal meaning.\n",
        "\n",
        "**⚠️ The hoisting concept works fully for variables declared with the `var` keyword. A variable declared with `let` or `const` is hoisted but cannot be initialized. This means a variable declared with `let` or `const` is moved to the top of its scope, but it cannot be used before its declaration. If we try to use a variable in the _temporal dead zone_[^6], we encounter a `ReferenceError`. Such variables can be used after their declaration and data storage.**\n",
        "\n",
        "**❗ I recommend defining a variable at the top of the scope where it will be used. Otherwise, at times, it may be difficult to understand where a particular piece of data originated from.**\n",
        "\n",
        "**Example**\n",
        "\n",
        "```javascript\n",
        "// In the example, we first use the variable and then declare it in the second line. This is called hoisting.\n",
        "carName = \"Lada\";\n",
        "var carName;\n",
        "\n",
        "// \"Lada\" is logged to the console.\n",
        "console.log(carName);\n",
        "\n",
        "// ❌ When using the hoisting feature with variables declared with let or const, we encounter a ReferenceError.\n",
        "model = \"Niva\";\n",
        "let model;\n",
        "```"
      ]
    },
    {
      "cell_type": "markdown",
      "metadata": {},
      "source": [
        "## Summary\n",
        "\n",
        "In this section, we covered fundamental topics related to variables in JavaScript. Variables are used for storing data, and there are different ways to declare them. Variables can be declared using the `var`, `let`, and `const` keywords. In modern JavaScript applications, `let` and `const` are generally preferred, but `var` can still be used for older browsers.\n",
        "\n",
        "Among the data types, strings and numeric values play a significant role. String expressions are defined within `\"\"` or `''` and numeric-string values can be used in mathematical operations.\n",
        "\n",
        "Sometimes, we may want to use a string expression along with a value. In such cases, we can use backticks ` `` ` known as template literals in JavaScript.\n",
        "\n",
        "The concept of block scope emerged with ES6 and the introduction of `let` and `const` keywords. This concept ensures that variables are only accessible within the block where they are defined. Particularly, variables declared with `const` cannot be reassigned.\n",
        "\n",
        "In JavaScript, hoisting refers to the movement of `var` declarations to the top of the code. However, for `let` and `const`, hoisting only moves the declaration to the top without initialization.\n",
        "\n",
        "Understanding these fundamental concepts is crucial for developing more complex applications in JavaScript. Knowledge of data types, variable declaration methods, and scope concepts contributes to writing more effective and comprehensible code.\n"
      ]
    },
    {
      "cell_type": "markdown",
      "metadata": {},
      "source": [
        "[^1]: The term \"scope\" is used to denote the area where a variable is accessible and useable.\n",
        "[^2]: In JavaScript, a conditional statement allows us to change the flow of a program based on certain conditions or criteria. In such cases, we make use of expressions like `if`, `else`, or `else if`. These are referred to as conditional statements.\n",
        "[^3]: In JavaScript, the content of a variable can be copied to another variable. Generally, this concept forms the basis for the term \"alias.\" Aliases enable us to write understandable and semantic code. For example, in an expression like `let x = 5`; `var aliasVariable = x`;, `x` and `aliasVariable` share the same value. While `x` is referred to as a reference, `aliasVariable` is expressed as an alias.\n",
        "[^4]: I will explain this through a metaphor. In mathematics, we are familiar with the concept of a universal set. Similar to how the universal set encompasses other sets, in JavaScript, the global scope encompasses variables or methods (functions) defined within it and makes them accessible from anywhere in the script. Thus, the global scope can be likened to the universal set in this context. In this sense, they are universal.\n",
        "[^5]: It refers to the variables or other methods (functions) defined within a method (function). Variables inside the function scope cannot be accessed or used from outside; they can only be used within the scope in which they are defined. In this sense, they are considered private or local to that specific scope.\n",
        "[^6]: The concept used for Hoisting is used to express that a variable is unreachable and unusable until it is defined. It remains so until the variable is declared for use.\n"
      ]
    }
  ],
  "metadata": {
    "kernelspec": {
      "display_name": "Python 3",
      "language": "python",
      "name": "python3"
    },
    "language_info": {
      "codemirror_mode": {
        "name": "ipython",
        "version": 3
      },
      "file_extension": ".py",
      "mimetype": "text/x-python",
      "name": "python",
      "nbconvert_exporter": "python",
      "pygments_lexer": "ipython3",
      "version": "3.10.12"
    }
  },
  "nbformat": 4,
  "nbformat_minor": 2
}
