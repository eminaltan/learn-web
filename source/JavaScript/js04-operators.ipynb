{
  "cells": [
    {
      "cell_type": "markdown",
      "metadata": {},
      "source": [
        "# JavaScript Operators<a id='toc0_'></a>\n",
        "\n",
        "Hello, everyone! In this article, we will explore operators in JavaScript and discuss the most commonly used types of operators.\n",
        "\n",
        "In this article, we'll cover:\n",
        "\n",
        "- [Concepts of Operator and Operand](#toc1_1_)\n",
        "- [JavaScript Operators](#toc1_2_)\n",
        "- [JavaScript Arithmetic Operators](#toc1_3_)\n",
        "  - [`**` Exponentiation Operator](#toc1_3_1_)\n",
        "  - [`%` Modulus Operator](#toc1_3_2_)\n",
        "  - [`++` Operator](#toc1_3_3_)\n",
        "  - [`--` Operator](#toc1_3_4_)\n",
        "  - [Operator Precedence](#toc1_3_5_)\n",
        "- [JavaScript Assignment Operators](#toc1_4_)\n",
        "- [JavaScript Comparison Operators](#toc1_5_)\n",
        "  - [`==` Operator](#toc1_5_1_)\n",
        "  - [`===` Operator](#toc1_5_2_)\n",
        "  - [`!=` Operator](#toc1_5_3_)\n",
        "  - [`!==` Operator](#toc1_5_4_)\n",
        "  - [`?` Operator](#toc1_5_5_)\n",
        "- [JavaScript String Operators](#toc1_6_)\n",
        "  - [`+` Concatenation Operator](#toc1_6_1_)\n",
        "  - [`+=` Concatenation and Assignment Operator](#toc1_6_2_)\n",
        "- [JavaScript Logical Operators](#toc1_7_)\n",
        "  - [`??` Nullish Coalescing Operator](#toc1_7_1_)\n",
        "  - [`?.` Optional Chaining Operator](#toc1_7_2_)\n",
        "  - [`&&` Logical AND Operator](#toc1_7_3_)\n",
        "  - [`||` Logical OR Operator](#toc1_7_4_)\n",
        "  - [`!` Logical NOT Operator](#toc1_7_5_)\n",
        "  - [`&&=` Logical AND Assignment Operator](#toc1_7_6_)\n",
        "  - [`||=` Logical OR Assignment Operator](#toc1_7_7_)\n",
        "  - [`??=` Nullish Coalescing Assignment Operator](#toc1_7_8_)\n",
        "- [JavaScript Bitwise Operators](#toc1_8_)\n",
        "  - [`&` Bitwise AND Operator](#toc1_8_1_)\n",
        "  - [`|` Bitwise OR Operator](#toc1_8_2_)\n",
        "  - [`~` Bitwise NOT Operator](#toc1_8_3_)\n",
        "  - [`^` Bitwise XOR Operator](#toc1_8_4_)\n",
        "- [JavaScript Type Operators](#toc1_9_)\n",
        "  - [`typeof` Operator/Method](#toc1_9_1_)\n",
        "  - [`instanceof` Operator/Method](#toc1_9_2_)\n",
        "- [Summary](#toc1_10_)\n",
        "\n",
        "I hope you enjoy reading.\n",
        "\n",
        "Yazının Türkçe versiyonu için [linke](tr-js04-operators.ipynb) tıklayabilirsiniz.\n",
        "\n",
        "<!-- vscode-jupyter-toc-config\n",
        "\tnumbering=false\n",
        "\tanchor=true\n",
        "\tflat=false\n",
        "\tminLevel=1\n",
        "\tmaxLevel=6\n",
        "\t/vscode-jupyter-toc-config -->\n",
        "<!-- THIS CELL WILL BE REPLACED ON TOC UPDATE. DO NOT WRITE YOUR TEXT IN THIS CELL -->\n"
      ]
    },
    {
      "cell_type": "markdown",
      "metadata": {},
      "source": [
        "## <a id='toc1_1_'></a>[Concepts of Operator and Operand](#toc0_)\n",
        "\n",
        "In a JavaScript expression, the values are referred to as **_operands_**, and the symbols that allow us to perform operations between operands are called **_operators_**.\n",
        "\n",
        "![Operand and Operator Example](https://www.oreilly.com/api/v2/epubs/0596101104/files/httpatomoreillycomsourceoreillyimages108816.png \"Operand and Operators\")\n"
      ]
    },
    {
      "cell_type": "markdown",
      "metadata": {},
      "source": [
        "## <a id='toc1_2_'></a>[JavaScript Operators](#toc0_)\n",
        "\n",
        "We use operators in JavaScript for various operations, ranging from mathematical calculations to altering the flow of a script. Like in other programming languages, JavaScript also has a variety of operators.\n",
        "\n",
        "**In JavaScript, operators can be categorized as follows:**\n",
        "\n",
        "- Arithmetic Operators\n",
        "\n",
        "- Assignment Operators\n",
        "\n",
        "- Comparison Operators\n",
        "\n",
        "- String Operators\n",
        "\n",
        "- Logical Operators\n",
        "\n",
        "- Bitwise Operators\n",
        "\n",
        "- Type Operators\n",
        "\n",
        "Now, let's examine each of these one by one, friends.\n"
      ]
    },
    {
      "cell_type": "markdown",
      "metadata": {},
      "source": [
        "## <a id='toc1_3_'></a>[JavaScript Arithmetic Operators](#toc0_)\n",
        "\n",
        "We can use operators in JavaScript for everyday mathematical operations.\n",
        "\n",
        "**The symbols and meanings of these operators are as follows:**\n",
        "\n",
        "| **Operator** | **Description**                                            |\n",
        "| ------------ | ---------------------------------------------------------- |\n",
        "| `+`          | Used for addition.                                         |\n",
        "| `-`          | Used for subtraction.                                      |\n",
        "| `*`          | Used for multiplication.                                   |\n",
        "| `**`         | Exponentiation operator, used for exponentiation.          |\n",
        "| `/`          | Used for division.                                         |\n",
        "| `%`          | Modulus operator, used to get the remainder of a division. |\n",
        "| `++`         | Increment operator, used to increase a variable by 1.      |\n",
        "| `--`         | Decrement operator, used to decrease a variable by 1.      |\n",
        "\n",
        "In arithmetic operators, literal values can also be used.\n",
        "\n",
        "**Example**\n"
      ]
    },
    {
      "cell_type": "code",
      "execution_count": 33,
      "metadata": {
        "vscode": {
          "languageId": "javascript"
        }
      },
      "outputs": [
        {
          "name": "stdout",
          "output_type": "stream",
          "text": [
            "Total result: 225\n"
          ]
        }
      ],
      "source": [
        "%%script node\n",
        "\n",
        "// The variable x stores the sum of constant values.\n",
        "let x = 200 + 25;\n",
        "\n",
        "console.log(`Total result: ${x}`);\n"
      ]
    },
    {
      "cell_type": "markdown",
      "metadata": {},
      "source": [
        "Now, let's define some arithmetic operators. I'll skip addition and subtraction operators since they are commonly encountered in examples.\n"
      ]
    },
    {
      "cell_type": "markdown",
      "metadata": {},
      "source": [
        "### <a id='toc1_3_1_'></a>[`**` Exponentiation Operator](#toc0_)\n",
        "\n",
        "Used to calculate the power of a number.\n",
        "\n",
        "**Example**\n"
      ]
    },
    {
      "cell_type": "code",
      "execution_count": 34,
      "metadata": {
        "vscode": {
          "languageId": "javascript"
        }
      },
      "outputs": [
        {
          "name": "stdout",
          "output_type": "stream",
          "text": [
            "Square of the variable x: 25\n",
            "Cube of the variable x: 125\n"
          ]
        }
      ],
      "source": [
        "%%script node\n",
        "\n",
        "const x = 5;\n",
        "\n",
        "// Will calculate the square of the number 5.\n",
        "let result = x ** 2;\n",
        "\n",
        "console.log(`Square of the variable x: ${result}`);\n",
        "\n",
        "// Will calculate the cube of the number 5.\n",
        "let result2 = x ** 3;\n",
        "\n",
        "console.log(`Cube of the variable x: ${result2}`);\n"
      ]
    },
    {
      "cell_type": "markdown",
      "metadata": {},
      "source": [
        "### <a id='toc1_3_2_'></a>[`%` Modulus Operator](#toc0_)\n",
        "\n",
        "Sometimes, we may want to obtain the remainder of a division as an integer. In such cases, the modulus operator is used.\n",
        "\n",
        "**Example**\n"
      ]
    },
    {
      "cell_type": "code",
      "execution_count": 35,
      "metadata": {
        "vscode": {
          "languageId": "javascript"
        }
      },
      "outputs": [
        {
          "name": "stdout",
          "output_type": "stream",
          "text": [
            "Remainder of dividing 9 by 4: 1\n"
          ]
        }
      ],
      "source": [
        "%%script node\n",
        "\n",
        "console.log(`Remainder of dividing 9 by 4: ${9 % 4}`);\n"
      ]
    },
    {
      "cell_type": "markdown",
      "metadata": {},
      "source": [
        "### <a id='toc1_3_3_'></a>[`++` Operator](#toc0_)\n",
        "\n",
        "In JavaScript, we can use the `++` operator as an alternative to increase the value of a variable by 1.\n",
        "\n",
        "**It has two forms of usage:**\n",
        "\n",
        "- Prefix increment operator\n",
        "\n",
        "- Postfix increment operator\n",
        "\n",
        "Let's examine these methods with examples.\n"
      ]
    },
    {
      "cell_type": "markdown",
      "metadata": {},
      "source": [
        "In the example below, the prefix increment method is demonstrated. The variable `x` will be increased by 1 first, and then it will be involved in mathematical operations.\n",
        "\n",
        "**Example**\n"
      ]
    },
    {
      "cell_type": "code",
      "execution_count": 36,
      "metadata": {
        "vscode": {
          "languageId": "javascript"
        }
      },
      "outputs": [
        {
          "name": "stdout",
          "output_type": "stream",
          "text": [
            "Result of the operation: 13\n"
          ]
        }
      ],
      "source": [
        "%%script node\n",
        "\n",
        "let x = 5;\n",
        "\n",
        "/** \n",
        " * The value of x will be increased by 1 first and then involved in mathematical operations. In this case, the \n",
        " * value of x is 6.\n",
        " */\n",
        "console.log(`Result of the operation: ${7 + ++x}`);\n"
      ]
    },
    {
      "cell_type": "markdown",
      "metadata": {},
      "source": [
        "In the example below, the postfix increment method is demonstrated. The variable `x` will be first **used** and then increased by 1.\n",
        "\n",
        "Note that the variable `x` remains the same until it is used in the next line after the postfix increment operation.\n",
        "\n",
        "**Example**\n"
      ]
    },
    {
      "cell_type": "code",
      "execution_count": 37,
      "metadata": {
        "vscode": {
          "languageId": "javascript"
        }
      },
      "outputs": [
        {
          "name": "stdout",
          "output_type": "stream",
          "text": [
            "Result of the operation: 12\n",
            "When x is called again, its value will be: 6\n"
          ]
        }
      ],
      "source": [
        "%%script node\n",
        "\n",
        "let x = 5;\n",
        "\n",
        "// The value of x will be first used and then increased by 1. In the next line, the value of x is 5.\n",
        "console.log(`Result of the operation: ${7 + x++}`);\n",
        "\n",
        "console.log(`When x is called again, its value will be: ${x}`);\n"
      ]
    },
    {
      "cell_type": "markdown",
      "metadata": {},
      "source": [
        "### <a id='toc1_3_4_'></a>[`--` Operator](#toc0_)\n",
        "\n",
        "In JavaScript, we can use the `--` operator as an alternative to decrease the value of a variable by 1.\n",
        "\n",
        "**It has two forms of usage:**\n",
        "\n",
        "- Prefix decrement operator\n",
        "\n",
        "- Postfix decrement operator\n",
        "\n",
        "Let's examine these methods with examples.\n"
      ]
    },
    {
      "cell_type": "markdown",
      "metadata": {},
      "source": [
        "In the example below, the prefix decrement method is demonstrated. The variable `x` will be decreased by 1 first, and then it will be involved in mathematical operations.\n",
        "\n",
        "**Example**\n"
      ]
    },
    {
      "cell_type": "code",
      "execution_count": 38,
      "metadata": {
        "vscode": {
          "languageId": "javascript"
        }
      },
      "outputs": [
        {
          "name": "stdout",
          "output_type": "stream",
          "text": [
            "Result of the operation: 11\n"
          ]
        }
      ],
      "source": [
        "%%script node\n",
        "\n",
        "let x = 5;\n",
        "\n",
        "/** \n",
        " * The value of x will be decreased by 1 first and then involved in mathematical operations. In this case, the \n",
        " * value of x is 4.\n",
        " */\n",
        "console.log(`Result of the operation: ${7 + --x}`);\n"
      ]
    },
    {
      "cell_type": "markdown",
      "metadata": {},
      "source": [
        "In the example below, the postfix decrement method is demonstrated. The variable `x` will be first **used** and then decreased by 1.\n",
        "\n",
        "Note that the variable `x` remains the same until it is used in the next line after the postfix decrement operation.\n",
        "\n",
        "**Example**\n"
      ]
    },
    {
      "cell_type": "code",
      "execution_count": 39,
      "metadata": {
        "vscode": {
          "languageId": "javascript"
        }
      },
      "outputs": [
        {
          "name": "stdout",
          "output_type": "stream",
          "text": [
            "Result of the operation: 12\n",
            "When x is called again, its value will be: 4\n"
          ]
        }
      ],
      "source": [
        "%%script node\n",
        "\n",
        "let x = 5;\n",
        "\n",
        "// The value of x will be first used and then decreased by 1. In the next line, the value of x is 5.\n",
        " \n",
        "console.log(`Result of the operation: ${7 + x--}`);\n",
        "\n",
        "console.log(`When x is called again, its value will be: ${x}`);\n"
      ]
    },
    {
      "cell_type": "markdown",
      "metadata": {},
      "source": [
        "### <a id='toc1_3_5_'></a>[Operator Precedence](#toc0_)\n",
        "\n",
        "In JavaScript, the precedence of operations is as in mathematics. **Sometimes, we may want to adjust the precedence ourselves. In such cases, we enclose expressions that we want to give priority in parentheses.**\n",
        "\n",
        "**Example**\n"
      ]
    },
    {
      "cell_type": "code",
      "execution_count": 40,
      "metadata": {
        "vscode": {
          "languageId": "javascript"
        }
      },
      "outputs": [
        {
          "name": "stdout",
          "output_type": "stream",
          "text": [
            "Result of the operation 20 + 30 * 2: 80\n",
            "Result of the operation (20 + 30) * 2: 100\n"
          ]
        }
      ],
      "source": [
        "%%script node\n",
        "\n",
        "console.log(`Result of the operation 20 + 30 * 2: ${20 + 30 * 2}`);\n",
        "\n",
        "/**\n",
        " * In this case, the result of the operation will be 100 because we enclosed the values 20 and 30 in parentheses, \n",
        " * giving precedence to this part of the expression.\n",
        " */\n",
        "console.log(`Result of the operation (20 + 30) * 2: ${(20 + 30) * 2}`);\n"
      ]
    },
    {
      "cell_type": "markdown",
      "metadata": {},
      "source": [
        "**⚠️ If operators of the same level are present in an expression, the precedence will be from left to right, and the result will be generated according to this pattern. This is also the default behavior in JavaScript.**\n",
        "\n",
        "**Example**\n"
      ]
    },
    {
      "cell_type": "code",
      "execution_count": 41,
      "metadata": {
        "vscode": {
          "languageId": "javascript"
        }
      },
      "outputs": [
        {
          "name": "stdout",
          "output_type": "stream",
          "text": [
            "Result of the operation: 19\n"
          ]
        }
      ],
      "source": [
        "%%script node\n",
        "\n",
        "let x = 20 - 3 + 2;\n",
        "\n",
        "console.log(`Result of the operation: ${x}`);\n"
      ]
    },
    {
      "cell_type": "markdown",
      "metadata": {},
      "source": [
        "## <a id='toc1_4_'></a>[JavaScript Assignment Operators](#toc0_)\n",
        "\n",
        "Assignment operators are used to assign a value to a variable.\n",
        "\n",
        "**⚠️ In JavaScript, the basic assignment operator is the `=` sign. For equality, we use the `==` or `===` expressions. I will cover these expressions under the title [JavaScript Comparison Operators](#javascript-comparison-operators) as they are used for comparison operations.**\n",
        "\n",
        "**If we list the assignment operators in JavaScript:**\n",
        "\n",
        "| **Operator** | **Example** | **Mathematical Equivalent** |\n",
        "| ------------ | ----------- | --------------------------- |\n",
        "| `=`          | x = y       | x = y                       |\n",
        "| `+=`         | x += y      | x = x + y                   |\n",
        "| `-=`         | x -= y      | x = x - y                   |\n",
        "| `*=`         | x \\*= y     | x = x \\* y                  |\n",
        "| `/=`         | x /= y      | x = x / y                   |\n",
        "| `%=`         | x %= y      | x = x % y                   |\n",
        "| `**=`        | x \\*\\*= y   | x = x \\*\\* y                |\n",
        "\n",
        "Let's see how they are used with an example. Other operators work similarly.\n",
        "\n",
        "**Example**\n"
      ]
    },
    {
      "cell_type": "code",
      "execution_count": 42,
      "metadata": {
        "vscode": {
          "languageId": "javascript"
        }
      },
      "outputs": [
        {
          "name": "stdout",
          "output_type": "stream",
          "text": [
            "Equivalent of x = x + 8: 18\n",
            "Equivalent of y = y ** 3: 125\n",
            "Content of the variable z: Hello Friend\n"
          ]
        }
      ],
      "source": [
        "%%script node\n",
        "\n",
        "let x = 10;\n",
        "\n",
        "let y = 5;\n",
        "\n",
        "// Equivalent to x = 10 + 8 in mathematical terms.\n",
        "console.log(`Equivalent of x = x + 8: ${x += 8}`);\n",
        "\n",
        "// Equivalent to y = 5 ** 3 in mathematical terms.\n",
        "console.log(`Equivalent of y = y ** 3: ${y **= 3}`);\n",
        "\n",
        "let z;\n",
        "\n",
        "z = \"Hello\" + \" \" + \"Friend\";\n",
        "\n",
        "console.log(`Content of the variable z: ${z}`);\n",
        "\n"
      ]
    },
    {
      "cell_type": "markdown",
      "metadata": {},
      "source": [
        "## <a id='toc1_5_'></a>[JavaScript Comparison Operators](#toc0_)\n",
        "\n",
        "Comparison operators are used to compare two or more variables. They are particularly useful with conditional statements to inquire about the relationship between two or more variables and alter the program flow accordingly.\n",
        "\n",
        "**⚠️ Comparison operators return `true` if the comparison is true and `false` if it is false.**\n",
        "\n",
        "**If we list the comparison operators:**\n",
        "\n",
        "| **Operator** | **Description**             |\n",
        "| ------------ | --------------------------- |\n",
        "| `==`         | Equal.                      |\n",
        "| `===`        | Equal in value and type.    |\n",
        "| `!=`         | Not equal.                  |\n",
        "| `!==`        | Not equal in value or type. |\n",
        "| `>`          | Greater than.               |\n",
        "| `<`          | Less than.                  |\n",
        "| `>=`         | Greater than or equal to.   |\n",
        "| `<==`        | Less than or equal to.      |\n",
        "| `?`          | Ternary operator.           |\n",
        "\n",
        "I will focus on the operators that I find important here. You can easily understand the purpose of the other operators as you see examples.\n"
      ]
    },
    {
      "cell_type": "markdown",
      "metadata": {},
      "source": [
        "**❗ Just as we cannot compare apples with pears, in JavaScript, variables to be compared must be of the same type. Otherwise, we may encounter problems with comparison results that are difficult to understand. JavaScript provides methods to convert variables to each other, but I won't cover these methods as they are beyond the scope of this topic.**\n",
        "\n",
        "**An exception is when a variable with a numerical property (such as a string containing numeric characters) is compared with a variable of type number. In such cases, JavaScript automatically converts the variable with a string data type to a numerical value and performs the comparison.**\n",
        "\n",
        "**Example**\n"
      ]
    },
    {
      "cell_type": "code",
      "execution_count": 43,
      "metadata": {
        "vscode": {
          "languageId": "javascript"
        }
      },
      "outputs": [
        {
          "name": "stdout",
          "output_type": "stream",
          "text": [
            "Can x be compared to y?: Yes, they can be compared.\n"
          ]
        }
      ],
      "source": [
        "%%script node\n",
        "\n",
        "const x = 5;\n",
        "const y = \"5\";\n",
        "\n",
        "// The statement \"Yes, they can be compared.\" will be printed to the console.\n",
        "console.log(`Can x be compared to y?: ${x == y ? \"Yes, they can be compared.\" : \"No, they cannot be compared.\"}`);\n",
        "\n"
      ]
    },
    {
      "cell_type": "markdown",
      "metadata": {},
      "source": [
        "**⚠️ String values are compared alphabetically. When two numeric strings are compared, the result may not always be as expected. Let's explain through an example.**\n",
        "\n",
        "**Example**\n"
      ]
    },
    {
      "cell_type": "code",
      "execution_count": 44,
      "metadata": {
        "vscode": {
          "languageId": "javascript"
        }
      },
      "outputs": [
        {
          "name": "stdout",
          "output_type": "stream",
          "text": [
            "Result of the comparison: false\n"
          ]
        }
      ],
      "source": [
        "%%script node\n",
        "\n",
        "/**\n",
        " * The console will print the expression false.\n",
        " *\n",
        " * When comparing two variables with numeric values in string type, JavaScript evaluates them in an alphabetical \n",
        " * manner based on the first digit. Since the digit 3 is less than the digit 4, the result will be false.\n",
        " * \n",
        " * The console will print false.\n",
        " */\n",
        "console.log(`Result of the comparison: ${\"4\" < \"32\"}`);\n"
      ]
    },
    {
      "cell_type": "markdown",
      "metadata": {},
      "source": [
        "### <a id='toc1_5_1_'></a>[`==` Operator](#toc0_)\n",
        "\n",
        "Compares the data stored in two or more variables based on their **content**. Returns `true` if the comparison is true and `false` otherwise.\n",
        "\n",
        "**Example**\n"
      ]
    },
    {
      "cell_type": "code",
      "execution_count": 45,
      "metadata": {
        "vscode": {
          "languageId": "javascript"
        }
      },
      "outputs": [
        {
          "name": "stdout",
          "output_type": "stream",
          "text": [
            "Can x be compared to y?: Yes, they can be compared.\n",
            "Can m be compared to n?: No, they cannot be compared.\n"
          ]
        }
      ],
      "source": [
        "%%script node\n",
        "\n",
        "const x = 5;\n",
        "const y = 5;\n",
        "\n",
        "/**\n",
        " * Since x and y variables store the same data, the statement \"Yes, they can be compared.\" will be printed to the \n",
        " * console.\n",
        " */\n",
        "console.log(`Can x be compared to y?: ${x == y ? \"Yes, they can be compared.\" : \"No, they cannot be compared.\"}`);\n",
        "\n",
        "const m = 8;\n",
        "const n = 7;\n",
        "\n",
        "/** \n",
        " * Since m and n variables do not store the same data, the statement \"No, they cannot be compared.\" will be \n",
        " * printed to the console.\n",
        " */\n",
        "console.log(`Can m be compared to n?: ${m == n ? \"Yes, they can be compared.\" : \"No, they cannot be compared.\"}`);\n"
      ]
    },
    {
      "cell_type": "markdown",
      "metadata": {},
      "source": [
        "### <a id='toc1_5_2_'></a>[`===` Operator](#toc0_)\n",
        "\n",
        "Compares the data stored in two or more variables based on their **content and data type**. Returns `true` if the comparison is true and `false` otherwise.\n",
        "\n",
        "**Example**\n"
      ]
    },
    {
      "cell_type": "code",
      "execution_count": 46,
      "metadata": {
        "vscode": {
          "languageId": "javascript"
        }
      },
      "outputs": [
        {
          "name": "stdout",
          "output_type": "stream",
          "text": [
            "Can x be compared to y?: Yes, they can be compared.\n",
            "Can m be compared to n?: No, they cannot be compared.\n"
          ]
        }
      ],
      "source": [
        "%%script node\n",
        "\n",
        "const x = 5;\n",
        "const y = 5;\n",
        "\n",
        "/** \n",
        " * Since x and y variables store the same data and data type, the statement \"Yes, they can be compared.\" will be \n",
        " * printed to the console.\n",
        " */\n",
        "console.log(`Can x be compared to y?: ${x === y ? \"Yes, they can be compared.\" : \"No, they cannot be compared.\"}`);\n",
        "\n",
        "const m = 8;\n",
        "\n",
        "// ⚠️ The variable n stores the string value \"8\".\n",
        "const n = \"8\";\n",
        "\n",
        "/**\n",
        " * Since m and n variables store the same data but have different data types, the statement \"No, they cannot be \n",
        " * compared.\" will be printed to the console.\n",
        " */\n",
        "console.log(`Can m be compared to n?: ${m === n ? \"Yes, they can be compared.\" : \"No, they cannot be compared.\"}`);\n"
      ]
    },
    {
      "cell_type": "markdown",
      "metadata": {},
      "source": [
        "### <a id='toc1_5_3_'></a>[`!=` Operator](#toc0_)\n",
        "\n",
        "Compares the data stored in two or more variables based on their **content**. Returns `false` if the comparison is true and `true` otherwise.\n",
        "\n",
        "**💡 You can keep this in mind as follows: It evaluates an expression with a result of `true` as `false`, and an expression with a result of `false` as `true`.**\n",
        "\n",
        "**Example**\n"
      ]
    },
    {
      "cell_type": "code",
      "execution_count": 47,
      "metadata": {
        "vscode": {
          "languageId": "javascript"
        }
      },
      "outputs": [
        {
          "name": "stdout",
          "output_type": "stream",
          "text": [
            "Can x be compared to y?: No, they cannot be compared.\n",
            "Can m be compared to n?: Yes, they can be compared.\n"
          ]
        }
      ],
      "source": [
        "%%script node\n",
        "\n",
        "const x = 5;\n",
        "const y = 5;\n",
        "\n",
        "/** \n",
        " * Since x and y variables store the same data, the statement \"No, they cannot be compared.\" will be printed to \n",
        " * the console.\n",
        " */\n",
        "console.log(`Can x be compared to y?: ${x != y ? \"Yes, they can be compared.\" : \"No, they cannot be compared.\"}`);\n",
        "\n",
        "const m = 8;\n",
        "const n = 7;\n",
        "\n",
        "/** \n",
        " * Since m and n variables do not store the same data, the statement \"Yes, they can be compared.\" will be printed \n",
        " * to the console.\n",
        " */\n",
        "console.log(`Can m be compared to n?: ${m != n ? \"Yes, they can be compared.\" : \"No, they cannot be compared.\"}`);\n"
      ]
    },
    {
      "cell_type": "markdown",
      "metadata": {},
      "source": [
        "### <a id='toc1_5_4_'></a>[`!==` Operator](#toc0_)\n",
        "\n",
        "Compares the data stored in two or more variables based on their **content and data type**. Returns `false` if the comparison is true and `true` otherwise.\n",
        "\n",
        "**💡 You can keep this in mind as follows: It evaluates an expression with a result of `true` as `false`, and an expression with a result of `false` as `true`. It differs from the `!=` operator in that it evaluates the expression based on both content and data type.**\n",
        "\n",
        "**Example**\n"
      ]
    },
    {
      "cell_type": "code",
      "execution_count": 48,
      "metadata": {
        "vscode": {
          "languageId": "javascript"
        }
      },
      "outputs": [
        {
          "name": "stdout",
          "output_type": "stream",
          "text": [
            "Can x be compared to y?: No, they cannot be compared.\n",
            "Can m be compared to n?: Yes, they can be compared.\n"
          ]
        }
      ],
      "source": [
        "%%script node\n",
        "\n",
        "const x = 5;\n",
        "const y = 5;\n",
        "\n",
        "/** \n",
        " * Since x and y variables store the same data and data type, the statement \"No, they cannot be compared.\" will \n",
        " * be printed to the console.\n",
        " */\n",
        "console.log(`Can x be compared to y?: ${x !== y ? \"Yes, they can be compared.\" : \"No, they cannot be compared.\"}`);\n",
        "\n",
        "const m = 8;\n",
        "\n",
        "// ⚠️ The variable n stores the string value \"8\".\n",
        "const n = \"8\";\n",
        "\n",
        "/**\n",
        " * Since m and n variables store the same data but have different data types, the statement \"Yes, they can be \n",
        " * compared.\" will be printed to the console.\n",
        " */\n",
        "console.log(`Can m be compared to n?: ${m !== n ? \"Yes, they can be compared.\" : \"No, they cannot be compared.\"}`);\n"
      ]
    },
    {
      "cell_type": "markdown",
      "metadata": {},
      "source": [
        "### <a id='toc1_5_5_'></a>[`?` Operator](#toc0_)\n",
        "\n",
        "In JavaScript, the `?` symbol is referred to as the **_ternary_** operator.\n",
        "\n",
        "The ternary operator is a conditional operator. It performs operations based on a condition and alters the flow of the program.\n",
        "\n",
        "It is commonly used to assign a value to a variable based on a condition.\n",
        "\n",
        "**💡 The ternary operator is designed to simplify the comparison process. Comparisons created with the ternary operator are usually single lines and are used to compare two variables. If there are more than two conditions to compare, comparison operations using the `if` keyword are preferred. This is intended to make the code more readable and manageable.**\n",
        "\n",
        "**Example**\n"
      ]
    },
    {
      "cell_type": "code",
      "execution_count": 49,
      "metadata": {
        "vscode": {
          "languageId": "javascript"
        }
      },
      "outputs": [
        {
          "name": "stdout",
          "output_type": "stream",
          "text": [
            "Yes, the data stored in the two variables is equal.\n"
          ]
        }
      ],
      "source": [
        "%%script node\n",
        "\n",
        "const a = 4;\n",
        "const b = 4;\n",
        "\n",
        "// We compare the values of variables a and b and store the result in the result variable.\n",
        "const result = a == b;\n",
        "\n",
        "/**\n",
        " * If the comparison result stored in result is true, the text starting with \"Yes...\" will be printed to the \n",
        " * console, otherwise the text starting with \"No...\" will be printed. Change the values and observe the result.\n",
        " */\n",
        "console.log(`${result ? \"Yes, the data stored in the two variables is equal.\" : \"No, the data stored in the two variables is not equal.\"}`);\n"
      ]
    },
    {
      "cell_type": "markdown",
      "metadata": {},
      "source": [
        "## <a id='toc1_6_'></a>[JavaScript String Operators](#toc0_)\n",
        "\n",
        "**In JavaScript, there are basically 2 string operators:**\n",
        "\n",
        "| **Operator** | **Description**                                                                                                      |\n",
        "| ------------ | -------------------------------------------------------------------------------------------------------------------- |\n",
        "| `+`          | Concatenation operator. Appends one string expression to another.                                                    |\n",
        "| `+=`         | Concatenation and assignment operator. Appends one string expression to another and stores the result in a variable. |\n",
        "\n",
        "Now let's look at them, friends.\n"
      ]
    },
    {
      "cell_type": "markdown",
      "metadata": {},
      "source": [
        "### <a id='toc1_6_1_'></a>[`+` Concatenation Operator](#toc0_)\n",
        "\n",
        "In string variables, the `+` operator is expressed as the **concatenation operator.** This means two string variables are not added; they are concatenated.\n",
        "\n",
        "**Example**\n"
      ]
    },
    {
      "cell_type": "code",
      "execution_count": 1,
      "metadata": {
        "vscode": {
          "languageId": "javascript"
        }
      },
      "outputs": [
        {
          "name": "stdout",
          "output_type": "stream",
          "text": [
            "Concatenation result: 515. Data type of the concatenation result: string\n"
          ]
        }
      ],
      "source": [
        "%%script node\n",
        "\n",
        "// Storing the value 5 of type string in the variable named value1.\n",
        "const value1 = \"5\";\n",
        "\n",
        "// Storing the value 15 of type string in the variable named value2.\n",
        "const value2 = \"15\";\n",
        "\n",
        "//❗ Note that the expression 515 is printed to the console.\n",
        "console.log(`Concatenation result: ${value1 + value2}. Data type of the concatenation result: ${typeof (value1 + value2)}`);\n"
      ]
    },
    {
      "cell_type": "markdown",
      "metadata": {},
      "source": [
        "### <a id='toc1_6_2_'></a>[`+=` Concatenation and Assignment Operator](#toc0_)\n",
        "\n",
        "After concatenating one string expression with another, we can store the resulting value in a variable.\n"
      ]
    },
    {
      "cell_type": "code",
      "execution_count": 51,
      "metadata": {
        "vscode": {
          "languageId": "javascript"
        }
      },
      "outputs": [
        {
          "name": "stdout",
          "output_type": "stream",
          "text": [
            "Result: KemalAtatürk\n"
          ]
        }
      ],
      "source": [
        "%%script node\n",
        "\n",
        "let value1 = \"Kemal\";\n",
        "let value2 = \"Atatürk\";\n",
        "\n",
        "// The concatenation and assignment operator, equivalent to the expression value1 = value1 + value2 in this example.\n",
        "value1 += value2;\n",
        "\n",
        "// \"KemalAtatürk\" will be printed to the console.\n",
        "console.log(`Result: ${value1}`);\n"
      ]
    },
    {
      "cell_type": "markdown",
      "metadata": {},
      "source": [
        "**⚠️ Non-numeric string values, other than those with numeric characteristics, do not contribute to the result in mathematical operations. If a string is used in a mathematical expression, the result will be of string type. This affects the outcome based on where the string is used. The situation is somewhat different for string values with numeric characteristics. For more detailed information, refer to [JavaScript Numeric Data Types](js07-numeric-data-type.ipynb#javascript-numerik-özellikli-string-değerler).**\n",
        "\n",
        "<!-- [#1](https://github.com/eminaltan/learn-web/issues/1) -->\n",
        "\n",
        "**In JavaScript, expressions are evaluated from left to right. JavaScript determines where the expression will be a string based on this pattern.**\n",
        "\n",
        "**Example**\n"
      ]
    },
    {
      "cell_type": "code",
      "execution_count": 52,
      "metadata": {
        "vscode": {
          "languageId": "javascript"
        }
      },
      "outputs": [
        {
          "name": "stdout",
          "output_type": "stream",
          "text": [
            "Result of 4 + 3 + \"1\" operation: 71\n",
            "Result of \"1\" + 4 + 3 operation: 143\n"
          ]
        }
      ],
      "source": [
        "%%script node\n",
        "\n",
        "var x = 4 + 3 + \"1\";\n",
        "\n",
        "console.log(`Result of 4 + 3 + \"1\" operation: ${x}`);\n",
        "\n",
        "var y = \"1\" + 4 + 3;\n",
        "\n",
        "console.log(`Result of \"1\" + 4 + 3 operation: ${y}`);"
      ]
    },
    {
      "cell_type": "markdown",
      "metadata": {},
      "source": [
        "## <a id='toc1_7_'></a>[JavaScript Logical Operators](#toc0_)\n",
        "\n",
        "Logical operators are a group of operators commonly used in comparison operations in JavaScript. Understanding them is crucial in this context.\n",
        "\n",
        "**Here is a list of logical operators:**\n",
        "\n",
        "| **Operator** | **Description**             |\n",
        "| ------------ | --------------------------- |\n",
        "| `??`         | Nullish Coalescing Operator |\n",
        "| `?.`         | Optional Chaining Operator  |\n",
        "| `&&`         | Logical AND                 |\n",
        "| `\\|\\|`       | Logical OR                  |\n",
        "| `!`          | Logical NOT                 |\n"
      ]
    },
    {
      "cell_type": "markdown",
      "metadata": {},
      "source": [
        "### <a id='toc1_7_1_'></a>[`??` Nullish Coalescing Operator](#toc0_)\n",
        "\n",
        "Compares the contents of expressions used in the expression to be **`null` or `undefined`.**\n",
        "\n",
        "If any of the expressions in the expression has a value of **`null` or `undefined`**, the value of the other expression is returned as the result.\n",
        "\n",
        "**💡 The fundamental purpose of the `??` operator is based on `null` or `undefined` data types. The same result can be achieved using other operators, but the `??` operator is designed to simplify this process.**\n",
        "\n",
        "**Through the `??` operator, we can streamline the operation to be performed. For example, if a variable has a value of `null` or `undefined`, we can perform a specific operation. In this sense, the `??` operator makes our job easier.**\n",
        "\n",
        "**Example**\n"
      ]
    },
    {
      "cell_type": "code",
      "execution_count": 53,
      "metadata": {
        "vscode": {
          "languageId": "javascript"
        }
      },
      "outputs": [
        {
          "name": "stdout",
          "output_type": "stream",
          "text": [
            "Result of the comparison operation: 10\n"
          ]
        }
      ],
      "source": [
        "%%script node\n",
        "\n",
        "const a = null;\n",
        "const b = 10;\n",
        "\n",
        "// Since the value of variable a is null, the value of variable b will be returned as the result.\n",
        "console.log(`Result of the comparison operation: ${b ?? a}`);\n"
      ]
    },
    {
      "cell_type": "markdown",
      "metadata": {},
      "source": [
        "### <a id='toc1_7_2_'></a>[`?.` Optional Chaining Operator](#toc0_)\n",
        "\n",
        "The `?.` operator allows us to access nested properties in an object variable and test property values for `null` or `undefined`. If the nested property value has any of the `null` or `undefined` values, JavaScript stops execution and returns `undefined` as the result.\n",
        "\n",
        "**Example**\n"
      ]
    },
    {
      "cell_type": "code",
      "execution_count": 54,
      "metadata": {
        "vscode": {
          "languageId": "javascript"
        }
      },
      "outputs": [
        {
          "name": "stdout",
          "output_type": "stream",
          "text": [
            "Result: white\n",
            "Result: undefined\n"
          ]
        }
      ],
      "source": [
        "%%script node\n",
        "\n",
        "const car = {\n",
        "    id: 1,\n",
        "    type: \"station wagon\",\n",
        "    carProperties: {\n",
        "        color: \"white\",\n",
        "        engine: 1.4,\n",
        "    }\n",
        "};\n",
        "\n",
        "// Accessing the color nested property and printing the result to the console.\n",
        "console.log(`Result: ${car?.carProperties?.color}`);\n",
        "\n",
        "// Since there is no nested property named wheelSize, the result will be undefined.\n",
        "console.log(`Result: ${car?.carProperties?.wheelSize}`);\n"
      ]
    },
    {
      "cell_type": "markdown",
      "metadata": {},
      "source": [
        "### <a id='toc1_7_3_'></a>[`&&` Logical AND Operator](#toc0_)\n",
        "\n",
        "Compares expressions within the expression **if all expressions are true, the overall result will be `true`.**\n",
        "\n",
        "**If the result of any expression is `false`, the overall result will be `false`.**\n"
      ]
    },
    {
      "cell_type": "code",
      "execution_count": 55,
      "metadata": {
        "vscode": {
          "languageId": "javascript"
        }
      },
      "outputs": [
        {
          "name": "stdout",
          "output_type": "stream",
          "text": [
            "Result of 3 < y && x < 20 expression: true\n",
            "Result of 3 < y && x < 20 expression: false\n"
          ]
        }
      ],
      "source": [
        "%%script node\n",
        "\n",
        "let x = 10;\n",
        "let y = 5;\n",
        "\n",
        "// Knowing that y is greater than 3 and x is less than 20, the result of the expression will be true.\n",
        "const result = 3 < y && x < 20;\n",
        "\n",
        "// \"true\" will be printed to the console.\n",
        "console.log(`Result of 3 < y && x < 20 expression: ${result}`);\n",
        "\n",
        "// Let's store a new value in x.\n",
        "x = 30;\n",
        "\n",
        "// Store the result of the expression in a variable named result2.\n",
        "const result2 = 3 < y && x < 20;\n",
        "\n",
        "/**\n",
        " * \"false\" will be printed to the console because the expression 30 < 20 is not true and returns false, making\n",
        " * the overall result false.\n",
        " */\n",
        "console.log(`Result of 3 < y && x < 20 expression: ${result2}`);\n"
      ]
    },
    {
      "cell_type": "markdown",
      "metadata": {},
      "source": [
        "### <a id='toc1_7_4_'></a>[`||` Logical OR Operator](#toc0_)\n",
        "\n",
        "Compares expressions within the expression **if any expression is true, the overall result will be `true`.**\n",
        "\n",
        "**If the result of all expressions is `false`, the overall result will be `false`.**\n",
        "\n",
        "**Example**\n"
      ]
    },
    {
      "cell_type": "code",
      "execution_count": 56,
      "metadata": {
        "vscode": {
          "languageId": "javascript"
        }
      },
      "outputs": [
        {
          "name": "stdout",
          "output_type": "stream",
          "text": [
            "Result of 3 < y || x < 20 || z == 0 expression: true\n",
            "Result of 10 < y || x < 20 || z == 0 expression: false\n"
          ]
        }
      ],
      "source": [
        "%%script node\n",
        "\n",
        "// Remember that we can define variables of the same type in a single line.\n",
        "let x = 30, y = 5, z = 2;\n",
        "\n",
        "/**\n",
        " * The last two expressions are false. However, since the first expression is true, the overall result is \n",
        " * evaluated as true.\n",
        " */\n",
        "const result = 3 < y || x < 20 || z == 0;\n",
        "\n",
        "// \"true\" will be printed to the console.\n",
        "console.log(`Result of 3 < y || x < 20 || z == 0 expression: ${result}`);\n",
        "\n",
        "// Since all expressions result in false, the overall result is evaluated as false.\n",
        "result2 = 10 < y || x < 20 || z == 0;\n",
        "\n",
        "// \"false\" will be printed to the console.\n",
        "console.log(`Result of 10 < y || x < 20 || z == 0 expression: ${result2}`);\n"
      ]
    },
    {
      "cell_type": "markdown",
      "metadata": {},
      "source": [
        "### <a id='toc1_7_5_'></a>[`!` Logical NOT Operator](#toc0_)\n",
        "\n",
        "Takes the opposite of the result of an expression. That is, if the expression is `true`, it evaluates to `false`, and if the expression is `false`, it evaluates to `true`.\n",
        "\n",
        "**Example**\n"
      ]
    },
    {
      "cell_type": "code",
      "execution_count": 57,
      "metadata": {
        "vscode": {
          "languageId": "javascript"
        }
      },
      "outputs": [
        {
          "name": "stdout",
          "output_type": "stream",
          "text": [
            "Result of !(x < 50): false\n",
            "Boolean value of variable y: false\n",
            "Result of !y: true\n"
          ]
        }
      ],
      "source": [
        "%%script node\n",
        "\n",
        "// A value is stored in x, so it is logically true.\n",
        "let x = 20;\n",
        "\n",
        "/**\n",
        " * Normally, \"true\" would be printed to the console. However, since the NOT operator is used here, the opposite of\n",
        " * the true result will be taken. So the result will be false, and \"false\" will be printed to the console.\n",
        " */\n",
        "console.log(`Result of !(x < 50): ${!(x < 50)}`);\n",
        "\n",
        "// Variable y has the undefined data type. It is logically false.\n",
        "let y;\n",
        "\n",
        "/** \n",
        " * \"false\" will be printed to the console. We can use the Boolean() method to find the boolean value of the \n",
        " * variable.\n",
        " */\n",
        "console.log(`Boolean value of variable y: ${Boolean(y)}`);\n",
        "\n",
        "/**\n",
        " * The opposite of the value stored in variable y is taken. That is, it turned false into true. \"true\" will be \n",
        " * printed to the console.\n",
        " */\n",
        "console.log(`Result of !y: ${!y}`);\n"
      ]
    },
    {
      "cell_type": "markdown",
      "metadata": {},
      "source": [
        "**❗ Although logical assignment operators are related to logical operators, they do not mean the same thing. Logical assignment operators were introduced to JavaScript with ES (2020). Therefore, they may not work in browsers released before the year 2020.**\n",
        "\n",
        "**If we list the logical assignment operators:**\n",
        "\n",
        "| **Operator** | **Example** | **Equivalent**     |\n",
        "| ------------ | ----------- | ------------------ |\n",
        "| `&&=`        | x &&= y     | x = x && (x = y)   |\n",
        "| `\\|\\|=`      | x \\|\\|= y   | x = x \\|\\| (x = y) |\n",
        "| `??=`        | x ??= y     | x = x ?? (x = y)   |\n",
        "\n",
        "Now let's examine each of these operators.\n"
      ]
    },
    {
      "cell_type": "markdown",
      "metadata": {},
      "source": [
        "### <a id='toc1_7_6_'></a>[`&&=` Logical AND Assignment Operator](#toc0_)\n",
        "\n",
        "If the result of an expression or statement is `true`, the second value is assigned to the variable.\n",
        "\n",
        "**Example**\n"
      ]
    },
    {
      "cell_type": "code",
      "execution_count": 58,
      "metadata": {
        "vscode": {
          "languageId": "javascript"
        }
      },
      "outputs": [
        {
          "name": "stdout",
          "output_type": "stream",
          "text": [
            "Value of x: 8\n",
            "Value of y: undefined\n"
          ]
        }
      ],
      "source": [
        "%%script node\n",
        "\n",
        "let x = 35;\n",
        "\n",
        "/**\n",
        " * Since x variable stores a user-defined value, it has a true logical value. In this case, a new value (8) is \n",
        " * assigned to x.\n",
        " */\n",
        "x &&= 8;\n",
        "\n",
        "// \"8\" will be printed to the console.\n",
        "console.log(`Value of x: ${x}`);\n",
        "\n",
        "/**\n",
        " * Variable y does not store a user-defined value. Its default value is undefined. This corresponds to false in \n",
        " * logical terms.\n",
        " */\n",
        "let y;\n",
        "\n",
        "// Since y variable cannot store a user-defined value, it will not have a new value.\n",
        "y &&= 20;\n",
        "\n",
        "// \"undefined\" will be printed to the console.\n",
        "console.log(`Value of y: ${y}`);\n"
      ]
    },
    {
      "cell_type": "markdown",
      "metadata": {},
      "source": [
        "### <a id='toc1_7_7_'></a>[`||=` Logical OR Assignment Operator](#toc0_)\n",
        "\n",
        "If the result of an expression or statement is `false`, the second value is assigned to the variable.\n",
        "\n",
        "**💡 The `||=` operator is the opposite of the `&&=` operator. Understanding the logic of one helps understand the logic of the other.**\n",
        "\n",
        "**Example**\n"
      ]
    },
    {
      "cell_type": "code",
      "execution_count": 59,
      "metadata": {
        "vscode": {
          "languageId": "javascript"
        }
      },
      "outputs": [
        {
          "name": "stdout",
          "output_type": "stream",
          "text": [
            "Value of y: 20\n",
            "Value of x: 35\n"
          ]
        }
      ],
      "source": [
        "%%script node\n",
        "\n",
        "/**\n",
        " * Variable y does not store a user-defined value. Its default value is undefined. This corresponds to false in \n",
        " * logical terms.\n",
        " */\n",
        "let y;\n",
        "\n",
        "// Since y variable cannot store a user-defined value, its new value will be defined as 20.\n",
        "y ||= 20;\n",
        "\n",
        "// \"20\" will be printed to the console.\n",
        "console.log(`Value of y: ${y}`);\n",
        "\n",
        "let x = 35;\n",
        "\n",
        "/**\n",
        " * Since x variable stores a user-defined value, it has a true logical value. In this case, a new value will not \n",
        " * be assigned to x.\n",
        " */\n",
        "x ||= 8;\n",
        "\n",
        "// \"35\" will be printed to the console.\n",
        "console.log(`Value of x: ${x}`);\n"
      ]
    },
    {
      "cell_type": "markdown",
      "metadata": {},
      "source": [
        "### <a id='toc1_7_8_'></a>[`??=` Nullish Coalescing Assignment Operator](#toc0_)\n",
        "\n",
        "If the value stored in a variable is _undefined_ or _null_, the second value is assigned to the variable.\n",
        "\n",
        "**Example**\n"
      ]
    },
    {
      "cell_type": "code",
      "execution_count": 60,
      "metadata": {
        "vscode": {
          "languageId": "javascript"
        }
      },
      "outputs": [
        {
          "name": "stdout",
          "output_type": "stream",
          "text": [
            "Value of x: 80\n"
          ]
        }
      ],
      "source": [
        "%%script node\n",
        "\n",
        "// The default value of variable x is undefined.\n",
        "let x;\n",
        "\n",
        "// Since the default value of variable x is undefined, the value 80 will be stored in x.\n",
        "x ??= \"80\";\n",
        "\n",
        "// \"80\" will be printed to the console.\n",
        "console.log(`Value of x: ${x}`);\n"
      ]
    },
    {
      "cell_type": "markdown",
      "metadata": {},
      "source": [
        "Let's create the same example by storing a `null` value in the variable `x`.\n",
        "\n",
        "**Example**\n"
      ]
    },
    {
      "cell_type": "code",
      "execution_count": 61,
      "metadata": {
        "vscode": {
          "languageId": "javascript"
        }
      },
      "outputs": [
        {
          "name": "stdout",
          "output_type": "stream",
          "text": [
            "Value of x: 80\n"
          ]
        }
      ],
      "source": [
        "%%script node\n",
        "\n",
        "// The default value of variable x is null.\n",
        "let x = null;\n",
        "\n",
        "// Since the default value of variable x is null, the value \"80\" will be stored in x.\n",
        "x ??= \"80\";\n",
        "\n",
        "// \"80\" will be printed to the console.\n",
        "console.log(`Value of x: ${x}`);\n"
      ]
    },
    {
      "cell_type": "markdown",
      "metadata": {},
      "source": [
        "If we had provided a value other than `undefined` or `null` to the variable `x` in the same example, the assignment would not have taken place.\n",
        "\n",
        "**Example**\n"
      ]
    },
    {
      "cell_type": "code",
      "execution_count": 62,
      "metadata": {
        "vscode": {
          "languageId": "javascript"
        }
      },
      "outputs": [
        {
          "name": "stdout",
          "output_type": "stream",
          "text": [
            "Value of x: 5\n"
          ]
        }
      ],
      "source": [
        "%%script node\n",
        "\n",
        "// The default value of variable x is 5.\n",
        "let x = 5;\n",
        "\n",
        "// Since the default value of variable x is 5, no new value will be assigned to x.\n",
        "x ??= \"80\";\n",
        "\n",
        "// \"5\" will be printed to the console.\n",
        "console.log(`Value of x: ${x}`);\n",
        "\n"
      ]
    },
    {
      "cell_type": "markdown",
      "metadata": {},
      "source": [
        "## <a id='toc1_8_'></a>[JavaScript Bitwise Operators](#toc0_)\n",
        "\n",
        "Bitwise operations are used at the **_bit_**[^1] level for comparison. Operations take place in the **_binary_**[^2] numerical system, and the result is stored in **_decimal_**[^3] form.\n",
        "\n",
        "**If we list some important bitwise operators:**\n",
        "\n",
        "| **Operator** | **Description** |\n",
        "| ------------ | --------------- |\n",
        "| `&`          | Bitwise AND     |\n",
        "| `\\|`         | Bitwise OR      |\n",
        "| `~`          | Bitwise NOT     |\n",
        "| `^`          | Bitwise XOR     |\n",
        "\n",
        "Now, let's take a look at them.\n"
      ]
    },
    {
      "cell_type": "markdown",
      "metadata": {},
      "source": [
        "### <a id='toc1_8_1_'></a>[`&` Bitwise AND Operator](#toc0_)\n",
        "\n",
        "It is used to perform bitwise **_AND_** operation at the bit level. It converts the decimal value to binary, then compares the bits and converts the result back to the decimal number system.\n",
        "\n",
        "**The operation is performed based on the logic table below:**\n",
        "\n",
        "| **Bit Value of x** | **Bit Value of y** | **Result of x & y** |\n",
        "| ------------------ | ------------------ | ------------------- |\n",
        "| 0                  | 0                  | 0                   |\n",
        "| 0                  | 1                  | 0                   |\n",
        "| 1                  | 0                  | 0                   |\n",
        "| 1                  | 1                  | 1                   |\n",
        "\n",
        "**Example**\n"
      ]
    },
    {
      "cell_type": "code",
      "execution_count": 63,
      "metadata": {
        "vscode": {
          "languageId": "javascript"
        }
      },
      "outputs": [
        {
          "name": "stdout",
          "output_type": "stream",
          "text": [
            "Result of Bitwise AND: 1\n"
          ]
        }
      ],
      "source": [
        "%%script node\n",
        "\n",
        "// The binary value of variable x is 101.\n",
        "let x = 5;\n",
        "\n",
        "// The binary value of variable y is 011.\n",
        "let y = 3;\n",
        "\n",
        "/**\n",
        " * Equivalent to x = x & y. Bitwise AND operation is performed. The result will be 001, and the value will be \n",
        " * assigned to the x variable.\n",
        " */\n",
        "x &= y;\n",
        "\n",
        "// The decimal equivalent of 001 is 1, and \"1\" will be printed to the console.\n",
        "console.log(`Result of Bitwise AND: ${x}`);\n"
      ]
    },
    {
      "cell_type": "markdown",
      "metadata": {},
      "source": [
        "### <a id='toc1_8_2_'></a>[`|` Bitwise OR Operator](#toc0_)\n",
        "\n",
        "It is used to perform bitwise **_OR_** operation at the bit level. It converts the decimal value to binary, then compares the bits and converts the result back to the decimal number system.\n",
        "\n",
        "**The operation is performed separately for each bit.**\n",
        "\n",
        "**The operation is performed based on the logic table below:**\n",
        "\n",
        "| **Bit Value of x** | **Result of \\|x** |\n",
        "| ------------------ | ----------------- |\n",
        "| 0                  | 0                 |\n",
        "| 1                  | 1                 |\n",
        "\n",
        "**Example**\n"
      ]
    },
    {
      "cell_type": "code",
      "execution_count": 64,
      "metadata": {
        "vscode": {
          "languageId": "javascript"
        }
      },
      "outputs": [
        {
          "name": "stdout",
          "output_type": "stream",
          "text": [
            "Result of Bitwise OR: 47\n"
          ]
        }
      ],
      "source": [
        "%%script node\n",
        "\n",
        "// The binary representation of the number 38 is 100110.\n",
        "let x = 38;\n",
        "\n",
        "// The binary representation of the number 45 is 101101.\n",
        "let y = 45;\n",
        "\n",
        "// The decimal equivalent of 101111 is 47, and \"47\" will be printed to the console.\n",
        "x |= y;\n",
        "console.log(`Result of Bitwise OR: ${x}`);\n"
      ]
    },
    {
      "cell_type": "markdown",
      "metadata": {},
      "source": [
        "### <a id='toc1_8_3_'></a>[`~` Bitwise NOT Operator](#toc0_)\n",
        "\n",
        "It is used to perform bitwise **_NOT_** operation at the bit level. It converts the decimal value to binary, then compares the bits and converts the result back to the decimal number system.\n",
        "\n",
        "**The operation is performed separately for each bit.**\n",
        "\n",
        "**The operation is performed based on the logic table below:**\n",
        "\n",
        "| **Bit Value of x** | **Result of ~x** |\n",
        "| ------------------ | ---------------- |\n",
        "| 0                  | 1                |\n",
        "| 1                  | 0                |\n",
        "\n",
        "In short, it inverts the bit values.\n",
        "\n",
        "**Example**\n"
      ]
    },
    {
      "cell_type": "code",
      "execution_count": 70,
      "metadata": {
        "vscode": {
          "languageId": "javascript"
        }
      },
      "outputs": [
        {
          "name": "stdout",
          "output_type": "stream",
          "text": [
            "Result of Bitwise NOT: 10\n"
          ]
        }
      ],
      "source": [
        "%%script node\n",
        "\n",
        "// The binary representation of the number 5 is 0101.\n",
        "let x = 5;\n",
        "\n",
        "// The decimal equivalent of 1010 is 10, and \"10\" will be printed to the console.\n",
        "console.log(`Result of Bitwise NOT: ${~x}`);\n"
      ]
    },
    {
      "cell_type": "markdown",
      "metadata": {},
      "source": [
        "### <a id='toc1_8_4_'></a>[`^` Bitwise XOR Operator](#toc0_)\n",
        "\n",
        "It is used to perform bitwise **_XOR_** operation at the bit level. It converts the decimal value to binary, then compares the bits and converts the result back to the decimal number system.\n",
        "\n",
        "**The operation is performed based on the logic table below:**\n",
        "\n",
        "| **Bit Value of x** | **Bit Value of y** | **Result of x ^ y** |\n",
        "| ------------------ | ------------------ | ------------------- |\n",
        "| 0                  | 0                  | 0                   |\n",
        "| 0                  | 1                  | 1                   |\n",
        "| 1                  | 0                  | 1                   |\n",
        "| 1                  | 1                  | 0                   |\n",
        "\n",
        "**Example**\n"
      ]
    },
    {
      "cell_type": "code",
      "execution_count": 66,
      "metadata": {
        "vscode": {
          "languageId": "javascript"
        }
      },
      "outputs": [
        {
          "name": "stdout",
          "output_type": "stream",
          "text": [
            "Result of Bitwise XOR: 8\n"
          ]
        }
      ],
      "source": [
        "%%script node\n",
        "\n",
        "// The binary representation of the number 20 is 10100.\n",
        "let x = 20;\n",
        "\n",
        "// The binary representation of the number 28 is 11100.\n",
        "let y = 28;\n",
        "\n",
        "// Equivalent to x = x ^ y. Bitwise XOR operation is performed.\n",
        "x ^= y;\n",
        "\n",
        "// The decimal equivalent of 1000 is 8, and \"8\" will be printed to the console.\n",
        "console.log(`Result of Bitwise XOR: ${x}`);\n"
      ]
    },
    {
      "cell_type": "markdown",
      "metadata": {},
      "source": [
        "## <a id='toc1_9_'></a>[JavaScript Type Operators](#toc0_)\n",
        "\n",
        "There are several type operators in JavaScript. Type operators are used for operations such as converting a variable to another variable or learning the type and data type of a variable.\n",
        "\n",
        "**Some of the most commonly used type operators are:**\n",
        "\n",
        "- `typeof()`\n",
        "\n",
        "- `instanceof`\n",
        "\n",
        "I will cover other type operators under a separate heading because our main focus is on operators. Type operators also have the property of being functions (methods).\n"
      ]
    },
    {
      "cell_type": "markdown",
      "metadata": {},
      "source": [
        "### <a id='toc1_9_1_'></a>[`typeof` Operator/Method](#toc0_)\n",
        "\n",
        "Allows us to determine the data type based on the value stored in a variable.\n",
        "\n",
        "**Example**\n"
      ]
    },
    {
      "cell_type": "code",
      "execution_count": 67,
      "metadata": {
        "vscode": {
          "languageId": "javascript"
        }
      },
      "outputs": [
        {
          "name": "stdout",
          "output_type": "stream",
          "text": [
            "Data type of x: number\n",
            "Data type of y: string\n",
            "Data type of z: boolean\n"
          ]
        }
      ],
      "source": [
        "%%script node\n",
        "\n",
        "const x = 4;\n",
        "\n",
        "// The \"number\" expression will be printed to the console. The data type of the x variable is numeric.\n",
        "console.log(`Data type of x: ${typeof x}`);\n",
        "\n",
        "const y = \"deneme\";\n",
        "\n",
        "// The \"string\" expression will be printed to the console. The data type of the y variable is string.\n",
        "console.log(`Data type of y: ${typeof y}`);\n",
        "\n",
        "const z = false;\n",
        "// The \"boolean\" expression will be printed to the console. The data type of the z variable is boolean.\n",
        "console.log(`Data type of z: ${typeof z}`);\n"
      ]
    },
    {
      "cell_type": "markdown",
      "metadata": {},
      "source": [
        "### <a id='toc1_9_2_'></a>[`instanceof` Operator/Method](#toc0_)\n",
        "\n",
        "Although there are multiple usage methods for variables with the Object data type property, it is used to determine the data type of a variable, understand the relationship of a property with an object, or perform participation tracking operations.\n",
        "\n",
        "**💡 It can be especially useful for debugging processes with variables that have the object data type property.**\n",
        "\n",
        "**Example**\n"
      ]
    },
    {
      "cell_type": "code",
      "execution_count": 68,
      "metadata": {
        "vscode": {
          "languageId": "javascript"
        }
      },
      "outputs": [
        {
          "name": "stdout",
          "output_type": "stream",
          "text": [
            "Result: Yes, student is an object-typed variable.\n",
            "Data type of the student variable: object\n"
          ]
        }
      ],
      "source": [
        "%%script node\n",
        "\n",
        "const student = { name: \"Betül\", surname: \"Şavluk\" };\n",
        "\n",
        "/** \n",
        " * The student variable, whether it is object-typed or not, is tested with the ternary operator and the result is \n",
        " * assigned to the result variable.\n",
        " */\n",
        "\n",
        "const result =\n",
        "  student instanceof Object\n",
        "    ? \"Yes, student is an object-typed variable.\"\n",
        "    : \"No, student is not an object-typed variable.\";\n",
        "\n",
        "// The message starting with \"Yes...\" will be printed to the console.\n",
        "console.log(`Result: ${result}`);\n",
        "\n",
        "// The data type of the student variable is printed to the console.\n",
        "console.log(`Data type of the student variable: ${typeof student}`);\n"
      ]
    },
    {
      "cell_type": "markdown",
      "metadata": {},
      "source": [
        "In the example below, the object properties for the `student` variable are queried.\n",
        "\n",
        "**Example**\n"
      ]
    },
    {
      "cell_type": "code",
      "execution_count": 69,
      "metadata": {
        "vscode": {
          "languageId": "javascript"
        }
      },
      "outputs": [
        {
          "name": "stdout",
          "output_type": "stream",
          "text": [
            "student instanceof Student: true\n",
            "student instanceof Object: true\n",
            "student instanceof Array: false\n"
          ]
        }
      ],
      "source": [
        "%%script node\n",
        "\n",
        "function Student(studentName) {\n",
        "  this.name = studentName;\n",
        "}\n",
        "\n",
        "const student = new Student();\n",
        "\n",
        "// Returns true because the student variable is an instance of the Student constructor.\n",
        "console.log(`student instanceof Student: ${student instanceof Student}`);\n",
        "\n",
        "// Returns true because the student variable is also an instance of Object.\n",
        "console.log(`student instanceof Object: ${student instanceof Object}`);\n",
        "\n",
        "// Returns false because the student variable is not an instance of Array.\n",
        "console.log(`student instanceof Array: ${student instanceof Array}`);"
      ]
    },
    {
      "cell_type": "markdown",
      "metadata": {},
      "source": [
        "## <a id='toc1_10_'></a>[Summary](#toc0_)\n",
        "\n",
        "In this section, we focused on operands, operators, operator precedence and types of operators. The use of incorrect operators can negatively impact the performance of the written code and even prevent the program from running entirely. Therefore, it is crucial to understand comparison and assignment operators, especially.\n",
        "\n",
        "Additionally, the `?` ternary operator can be used in expressions with a single condition. This eliminates the need for `if...else` statements, making the code more readable.\n",
        "\n",
        "The `??` nullish coalescing operator allows us to perform a specified second operation when a variable is `undefined` or `null`. It can be particularly useful as a shortcut in cases where a variable may be `undefined` or `null`.\n",
        "\n",
        "The `?.` logical optional chaining operator enables us to perform a specified operation if the value of a property of an object is `undefined` or `null`. This operator can help simplify operations."
      ]
    },
    {
      "cell_type": "markdown",
      "metadata": {},
      "source": [
        "[^1]: \"Bit\" is a term derived from the abbreviation of the phrase \"binary digit\" and is a fundamental concept in computer science. A bit is known as the smallest unit of data and represents an electronic or digital piece of information with only two possible values. These two values are 0 and 1.\n",
        "[^2]: The term \"Binary\" is widely used in computer science and electronics, representing the binary (2 basic values) number system. The binary system is a number system that contains only two symbols or values. These two symbols are typically represented as \"0\" and \"1.\"\n",
        "[^3]: \"Decimal\" is a term commonly used to refer to the decimal number system. The decimal number system consists of 10 digits, and each digit represents a value ranging from 0 to 9. Using the decimal system, you can express any number. In this system, each digit of a number represents a value based on powers of 10.\n"
      ]
    }
  ],
  "metadata": {
    "kernelspec": {
      "display_name": "Python 3",
      "language": "python",
      "name": "python3"
    },
    "language_info": {
      "codemirror_mode": {
        "name": "ipython",
        "version": 3
      },
      "file_extension": ".py",
      "mimetype": "text/x-python",
      "name": "python",
      "nbconvert_exporter": "python",
      "pygments_lexer": "ipython3",
      "version": "3.10.12"
    }
  },
  "nbformat": 4,
  "nbformat_minor": 2
}
