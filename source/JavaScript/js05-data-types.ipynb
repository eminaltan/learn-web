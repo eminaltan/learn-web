{
 "cells": [
  {
   "cell_type": "markdown",
   "metadata": {},
   "source": [
    "# JavaScript Data Types<a id='toc0_'></a>\n",
    "\n",
    "Hello friends, in this article, we will delve into data types and types in JavaScript. We will explore why data types and types are important and discuss the problems we may encounter if we don't use the correct data type or type for a variable. **In the following sections of the article, we will examine each data type and type separately.**\n",
    "\n",
    "In this article, we'll cover:\n",
    "\n",
    "- [Immutable and Mutable Concepts in JavaScript](#toc1_1_)\n",
    "- [Data Type Concept in JavaScript](#toc1_2_)\n",
    "  - [Data Types in JavaScript](#toc1_2_1_)\n",
    "    - [Primitive Data Types](#toc1_2_1_1_)\n",
    "    - [Object Data Types](#toc1_2_1_2_)\n",
    "- [Summary](#toc1_3_)\n",
    "\n",
    "I hope you enjoy reading.\n",
    "\n",
    "Yazının Türkçe versiyonu için [linke](tr-js05-data-types.ipynb) tıklayabilirsiniz\n",
    "\n",
    "<!-- vscode-jupyter-toc-config\n",
    "\tnumbering=false\n",
    "\tanchor=true\n",
    "\tflat=false\n",
    "\tminLevel=1\n",
    "\tmaxLevel=6\n",
    "\t/vscode-jupyter-toc-config -->\n",
    "<!-- THIS CELL WILL BE REPLACED ON TOC UPDATE. DO NOT WRITE YOUR TEXT IN THIS CELL -->\n"
   ]
  },
  {
   "cell_type": "markdown",
   "metadata": {},
   "source": [
    "## <a id='toc1_1_'></a>[Immutable and Mutable Concepts in JavaScript](#toc0_)\n",
    "\n",
    "**In JavaScript, variables are divided into two groups based on data types:**\n",
    "\n",
    "- Immutable (Constant values)\n",
    "\n",
    "- Mutable (Variable values)\n",
    "\n",
    "Constant values are also referred to as **_Literals_**. Each assigned value has a new address in memory (RAM), and the content of the assigned value cannot be changed in memory.\n",
    "\n",
    "**💡 We typically use constant values in places where we want to preserve the original data. For example, the original data may be used in multiple places. Unpreserved data can lead to undesired results within the program.**\n",
    "\n",
    "**⚠️ Each time a new value is assigned to a constant variable, a new space is allocated in memory to store the data. This can lead to memory-related issues. Therefore, if performance is a priority, we should use constants less frequently.**\n",
    "\n",
    "Variable values are also known as **_variables_**. The assigned value has an address in memory, and the content of the assigned value can be changed. **Therefore, they have the property of being references. In the case of a variable, a new space is not allocated in memory with each data assignment. The relevant reference address where the data is stored is found, and the old data is overwritten with the new data in the reference address.**\n",
    "\n",
    "**💡 Variable values, with their use of reference addresses for data, do not occupy space in memory like constants. Therefore, if performance is a priority, we can use this data type.**\n",
    "\n",
    "**Example**\n",
    "\n",
    "Below is an illustration of the immutable property.\n"
   ]
  },
  {
   "cell_type": "code",
   "execution_count": 15,
   "metadata": {
    "vscode": {
     "languageId": "javascript"
    }
   },
   "outputs": [
    {
     "name": "stdout",
     "output_type": "stream",
     "text": [
      "Content of the studentName variable: Emin\n",
      "Content of the studentName variable after assigning a new value: Hasan\n",
      "Pay attention here. Value stored in the personName variable: Emin\n"
     ]
    }
   ],
   "source": [
    "%%script node\n",
    "\n",
    "// studentName variable is immutable.\n",
    "let studentName = \"Emin\";\n",
    "\n",
    "console.log(`Content of the studentName variable: ${studentName}`);\n",
    "\n",
    "// Storing the content of studentName variable into the personName variable.\n",
    "let personName = studentName;\n",
    "\n",
    "/** \n",
    " * Storing a new value in the studentName variable. In this case, a new address in RAM will be allocated for \n",
    " * Hasan.\n",
    " */\n",
    "studentName = \"Hasan\";\n",
    "\n",
    "console.log(`Content of the studentName variable after assigning a new value: ${studentName}`);\n",
    "console.log(`Pay attention here. Value stored in the personName variable: ${personName}`);\n"
   ]
  },
  {
   "cell_type": "markdown",
   "metadata": {},
   "source": [
    "Let's create the same example using objects. Object properties have mutable characteristics.\n",
    "\n",
    "**Example**\n"
   ]
  },
  {
   "cell_type": "code",
   "execution_count": 16,
   "metadata": {
    "vscode": {
     "languageId": "javascript"
    }
   },
   "outputs": [
    {
     "name": "stdout",
     "output_type": "stream",
     "text": [
      "Content of the studentName variable: Emin\n",
      "Content of the studentName variable after assigning a new value: Hasan\n",
      "Pay attention here. Value stored in the personName variable: Hasan\n"
     ]
    }
   ],
   "source": [
    "%%script node\n",
    "\n",
    "// The studentName variable has mutable properties.\n",
    "let studentName = { firstName: \"Emin\" };\n",
    "\n",
    "console.log(`Content of the studentName variable: ${studentName[\"firstName\"]}`);\n",
    "\n",
    "// Storing the memory address of the studentName variable into the personName variable.\n",
    "let personName = studentName;\n",
    "\n",
    "/** \n",
    " * Storing a new value in the studentName variable. In this case, a new address in RAM will not be allocated; the \n",
    " * existing value will be overwritten with the new value.\n",
    " */\n",
    "studentName[\"firstName\"] = \"Hasan\";\n",
    "\n",
    "console.log(`Content of the studentName variable after assigning a new value: ${studentName[\"firstName\"]}`);\n",
    "console.log(`Pay attention here. Value stored in the personName variable: ${personName[\"firstName\"]}`);\n"
   ]
  },
  {
   "cell_type": "markdown",
   "metadata": {},
   "source": [
    "## <a id='toc1_2_'></a>[Data Type Concept in JavaScript](#toc0_)\n",
    "\n",
    "Data types and data type concepts are crucial in JavaScript. To work with variables effectively, understanding data types and their concepts is essential.\n",
    "\n",
    "A computer program cannot fully solve equations without knowing the data type or its concept, leading to incorrect results.\n",
    "\n",
    "**Example**\n"
   ]
  },
  {
   "cell_type": "code",
   "execution_count": 1,
   "metadata": {
    "vscode": {
     "languageId": "javascript"
    }
   },
   "outputs": [
    {
     "name": "stdout",
     "output_type": "stream",
     "text": [
      "Prints the expression to the console: 202020\n",
      "Data type of the value 20: number\n",
      "Data type of the value \"2020\": string\n"
     ]
    }
   ],
   "source": [
    "%%script node\n",
    "\n",
    "let x = 20 + \"2020\";\n",
    "\n",
    "console.log(`Prints the expression to the console: ${x}`);\n",
    "\n",
    "console.log(`Data type of the value 20: ${typeof 20}`);\n",
    "console.log(`Data type of the value \"2020\": ${typeof \"2020\"}`);"
   ]
  },
  {
   "cell_type": "markdown",
   "metadata": {},
   "source": [
    "If we consider the above operation in mathematical terms, it is not logical. This is because the sum of the number 20 and the string \"2020\" would result in \"202020\". The reason for this is that the data types of the values are different; the number 20 is of the number data type, while the value \"2020\" is of the string data type.\n",
    "\n",
    "**⚠️ To obtain correct results, variables must have the same data type.**\n",
    "\n",
    "In the example above, let's convert the value \"2020\" to a number type and try again.\n",
    "\n",
    "**Example**"
   ]
  },
  {
   "cell_type": "code",
   "execution_count": 3,
   "metadata": {
    "vscode": {
     "languageId": "javascript"
    }
   },
   "outputs": [
    {
     "name": "stdout",
     "output_type": "stream",
     "text": [
      "Prints the expression to the console: 2040\n",
      "Data type of the value 20: number\n",
      "Data type of the value \"2020\": number\n"
     ]
    }
   ],
   "source": [
    "%%script node\n",
    "\n",
    "let x = 20 + Number(2020);\n",
    "\n",
    "console.log(`Prints the expression to the console: ${x}`);\n",
    "\n",
    "console.log(`Data type of the value 20: ${typeof 20}`);\n",
    "console.log(`Data type of the value \"2020\": ${typeof 2020}`);"
   ]
  },
  {
   "cell_type": "markdown",
   "metadata": {},
   "source": [
    "As can be seen, the data type of both values is number. Therefore, the mathematical expression has yielded a logical result."
   ]
  },
  {
   "cell_type": "markdown",
   "metadata": {},
   "source": [
    "### <a id='toc1_2_1_'></a>[Data Types in JavaScript](#toc0_)\n",
    "\n",
    "**JavaScript has two main data types:**\n",
    "\n",
    "- Primitive (Primitive data types)\n",
    "\n",
    "- Object (Reference data types)\n",
    "\n",
    "Now let's classify them, my friends.\n"
   ]
  },
  {
   "cell_type": "markdown",
   "metadata": {},
   "source": [
    "#### <a id='toc1_2_1_1_'></a>[Primitive Data Types](#toc0_)\n",
    "\n",
    "In JavaScript, primitive data types are fundamental data structures that do not consist of complex structures and directly represent values.\n",
    "\n",
    "Primitive data types in JavaScript are used in basic data operations and in representing values, forming the foundational building blocks of programs. They serve as the building blocks for complex objects and data structures.\n",
    "\n",
    "**Features:**\n",
    "\n",
    "- **Immutability:** Primitive data types are immutable once created. That is, once a primitive data type's value is assigned, it cannot be changed. This enhances data security and provides protection against unexpected side effects.\n",
    "\n",
    "- **Value Type:** Primitive data types represent the values themselves, meaning values are stored directly in memory. When assigned to other variables, primitive data types are copied, so changes to one variable do not affect others.\n",
    "\n",
    "- **Fixed Size in Memory:** Primitive data types have a fixed memory size. For example, a number is always stored in the same size of memory. This makes them more effective in terms of memory management.\n",
    "\n",
    "- **Ease of Use:** Primitive data types are simple and can be used quickly. Operations and comparisons on primitive data types are performed quickly and efficiently.\n",
    "\n",
    "- **Specific Value Ranges:** Each primitive data type represents a specific range of values. For instance, the **_number_** data type, being the most commonly used primitive data type in JavaScript, represents integers and floating-point numbers.\n",
    "\n",
    "- **No Special Methods:** Primitive data types do not have special methods (functions) or properties, unlike objects and functions. Operations can be directly performed on primitive data types, and there are global functions (e.g., `parseInt`, `parseFloat`, `String`) that can be used for specific operations related to them.\n",
    "\n",
    "**JavaScript has 6 primitive data types:**\n",
    "\n",
    "1. String\n",
    "\n",
    "2. Number\n",
    "\n",
    "3. BigInt\n",
    "\n",
    "4. Boolean\n",
    "\n",
    "5. Undefined\n",
    "\n",
    "6. Null\n",
    "\n",
    "7. Symbol\n",
    "\n",
    "**⚠️ The BigInt data type is a primitive data type in JavaScript due to its immutability in memory.**\n",
    "\n",
    "**Example**\n",
    "\n",
    "```javascript\n",
    "// The following variable types have string characteristics.\n",
    "let str1 = \"Samet\";\n",
    "let str2 = \"4\";\n",
    "\n",
    "// The following variable types have number characteristics.\n",
    "let number1 = 10;\n",
    "let number2 = 85.7;\n",
    "\n",
    "// The following variable types have boolean characteristics.\n",
    "let boolean1 = true;\n",
    "let boolean2 = false;\n",
    "\n",
    "// The following variable type has undefined characteristics.\n",
    "let undefined1;\n",
    "let x = undefined;\n",
    "\n",
    "// The following variable type has null characteristics.\n",
    "let null1 = null;\n",
    "\n",
    "// The following variable type has symbol characteristics.\n",
    "let symbol1 = Symbol(\"mySymbol\");\n",
    "\n",
    "// The following variable types have bigint characteristics.\n",
    "let bigint1 = 1234567890123456789012345n;\n",
    "let bigint2 = BigInt(1234567890123456789012345);\n",
    "```\n"
   ]
  },
  {
   "cell_type": "markdown",
   "metadata": {},
   "source": [
    "#### <a id='toc1_2_1_2_'></a>[Object Data Types](#toc0_)\n",
    "\n",
    "In JavaScript, the object data type is a structure used to represent complex and flexible data structures. Objects are data structures containing key-value pairs and play a significant role in JavaScript programming. Objects represent a collection of properties and their assigned values enclosed in curly braces `{}`. **An object can also be created within square brackets `[]`, in which case, the object carries array-like properties.**\n",
    "\n",
    "**Features:**\n",
    "\n",
    "- **Mutable:** Object-typed variables with properties can be accessed in memory, and their contents can be updated. For example, when assigning a new value to an object-typed variable, a new address is not created in memory; instead, the new value overwrites the old one.\n",
    "\n",
    "- **Key-Value Pairs:** JavaScript objects represent key-value pairs. These pairs define the properties and values of the object. Properties (keys) should be of string type, and values can be of any data type.\n",
    "\n",
    "- **Dynamic and Extendable:** JavaScript objects are dynamic, meaning you can add, modify, or delete properties (keys) after the object is created. This makes objects flexible.\n",
    "\n",
    "- **Properties and Methods:** JavaScript objects can contain both properties (key-value pairs) and methods (functions). Hence, objects can represent both data and functionality.\n",
    "\n",
    "- **Reference Type:** Objects are reference-type data. When you assign an object to another variable, you're actually creating a copy of the reference, and both variables share the same object.\n",
    "\n",
    "- **JSON (JavaScript Object Notation) Compatible:** JavaScript objects support data representation in JSON format. This is commonly used for sharing and exporting data.\n",
    "\n",
    "- **Example-Based:** In JavaScript, objects are either class or prototype-based, and you can use class definitions or prototypes to create new objects.\n",
    "\n",
    "**Object-typed data includes the following:**\n",
    "\n",
    "- Object\n",
    "\n",
    "- Function\n",
    "\n",
    "- Array\n",
    "\n",
    "- Date\n",
    "\n",
    "**Example**\n",
    "\n",
    "```javascript\n",
    "function Test() {\n",
    "  return \"Function test\";\n",
    "}\n",
    "\n",
    "// The following variable types have object characteristics.\n",
    "\n",
    "// Object\n",
    "let variable1 = { name: \"Hasan\", lastName: \"Kaş\" };\n",
    "\n",
    "// Function\n",
    "let variable2 = new Test();\n",
    "\n",
    "// Array\n",
    "let variable3 = [\"Bursa\", \"Ankara\", \"İzmir\"];\n",
    "\n",
    "// Date\n",
    "let variable4 = new Date(\"2023-10-26\");\n",
    "```\n"
   ]
  },
  {
   "cell_type": "markdown",
   "metadata": {},
   "source": [
    "After discussing data types in JavaScript, let's now delve into the specifics of each data type.\n",
    "\n",
    "In summary, each primitive data type in JavaScript has its own name for the data type.\n",
    "\n",
    "**Example**\n"
   ]
  },
  {
   "cell_type": "code",
   "execution_count": 19,
   "metadata": {
    "vscode": {
     "languageId": "javascript"
    }
   },
   "outputs": [
    {
     "name": "stdout",
     "output_type": "stream",
     "text": [
      "The data type of str1 variable is: string\n",
      "The data type of str2 variable is: string\n",
      "The data type of number1 variable is: number\n",
      "The data type of number2 variable is: number\n",
      "The data type of boolean1 variable is: boolean\n",
      "The data type of boolean2 variable is: boolean\n",
      "The data type of undefined1 variable is: undefined\n",
      "The data type of x variable is: undefined\n",
      "The data type of symbol1 variable is: symbol\n",
      "The data type of bigint1 variable is: bigint\n",
      "The data type of bigint2 variable is: bigint\n"
     ]
    }
   ],
   "source": [
    "%%script node\n",
    "\n",
    "// The following variables have a data type of string.\n",
    "let str1 = \"Samet\";\n",
    "let str2 = \"4\";\n",
    "\n",
    "// The following variables have a data type of number.\n",
    "let number1 = 10;\n",
    "let number2 = 85.7;\n",
    "\n",
    "// The following variables have a data type of boolean.\n",
    "let boolean1 = true;\n",
    "let boolean2 = false;\n",
    "\n",
    "// The following variable has a data type of undefined.\n",
    "let undefined1;\n",
    "let x = undefined;\n",
    "\n",
    "// The following variable has a data type of symbol.\n",
    "let symbol1 = Symbol(\"mySymbol\");\n",
    "\n",
    "// The following variables have a data type of bigint.\n",
    "let bigint1 = 1234567890123456789012345n;\n",
    "let bigint2 = BigInt(1234567890123456789012345);\n",
    "\n",
    "console.log(`The data type of str1 variable is: ${typeof str1}`);\n",
    "console.log(`The data type of str2 variable is: ${typeof str2}`);\n",
    "\n",
    "console.log(`The data type of number1 variable is: ${typeof number1}`);\n",
    "console.log(`The data type of number2 variable is: ${typeof number2}`);\n",
    "\n",
    "console.log(`The data type of boolean1 variable is: ${typeof boolean1}`);\n",
    "console.log(`The data type of boolean2 variable is: ${typeof boolean2}`);\n",
    "\n",
    "console.log(`The data type of undefined1 variable is: ${typeof undefined1}`);\n",
    "console.log(`The data type of x variable is: ${typeof x}`);\n",
    "\n",
    "console.log(`The data type of symbol1 variable is: ${typeof symbol1}`);\n",
    "\n",
    "console.log(`The data type of bigint1 variable is: ${typeof bigint1}`);\n",
    "console.log(`The data type of bigint2 variable is: ${typeof bigint2}`);\n"
   ]
  },
  {
   "cell_type": "markdown",
   "metadata": {},
   "source": [
    "**⚠️ This situation does not apply to the _null_ data type. This is because the data type of the _null_ value is of type object.**\n",
    "\n",
    "**Example**\n"
   ]
  },
  {
   "cell_type": "code",
   "execution_count": 20,
   "metadata": {
    "vscode": {
     "languageId": "javascript"
    }
   },
   "outputs": [
    {
     "name": "stdout",
     "output_type": "stream",
     "text": [
      "The data type of the variable variable is: object\n"
     ]
    }
   ],
   "source": [
    "%%script node\n",
    "\n",
    "let variable = null;\n",
    "\n",
    "console.log(`The data type of the variable variable is: ${typeof variable}`);\n"
   ]
  },
  {
   "cell_type": "markdown",
   "metadata": {},
   "source": [
    "Objects are also created with the data type of object for data types.\n",
    "\n",
    "**Example**\n"
   ]
  },
  {
   "cell_type": "code",
   "execution_count": 21,
   "metadata": {
    "vscode": {
     "languageId": "javascript"
    }
   },
   "outputs": [
    {
     "name": "stdout",
     "output_type": "stream",
     "text": [
      "The data type of variable1 is: object\n",
      "The data type of variable2 is: object\n",
      "The data type of variable3 is: object\n",
      "The data type of variable4 is: object\n"
     ]
    }
   ],
   "source": [
    "%%script node\n",
    "\n",
    "function Test() { return \"Function test\"; }\n",
    "\n",
    "// The data types of the following variables are of type object.\n",
    "\n",
    "let variable1 = { name: \"Hasan\", lastName: \"Kaş\" };\n",
    "\n",
    "let variable2 = new Test();\n",
    "\n",
    "let variable3 = [\"Bursa\", \"Ankara\", \"İzmir\"];\n",
    "\n",
    "let variable4 = new Date(\"2023-10-26\");\n",
    "\n",
    "console.log(`The data type of variable1 is: ${typeof variable1}`);\n",
    "console.log(`The data type of variable2 is: ${typeof variable2}`);\n",
    "console.log(`The data type of variable3 is: ${typeof variable3}`);\n",
    "console.log(`The data type of variable4 is: ${typeof variable4}`);\n"
   ]
  },
  {
   "cell_type": "markdown",
   "metadata": {},
   "source": [
    "## <a id='toc1_3_'></a>[Summary](#toc0_)\n",
    "\n",
    "In this article, we focused on the data types and types in JavaScript. Variables are examined in two groups: **Immutable** and **Mutable**. Immutable values have a new address in memory, while mutable values point to the same address and their content can be changed.\n",
    "\n",
    "There are six primitive types among data types: `String`, `Number`, `BigInt`, `Boolean`, `Undefined`, `Null`, and `Symbol`. Additionally, the `Object` type represents complex data structures.\n",
    "\n",
    "In this article, we examined each data type with examples and emphasized the importance of working with data types correctly. In future articles, we will delve deeper into each type.\n"
   ]
  }
 ],
 "metadata": {
  "kernelspec": {
   "display_name": "Python 3",
   "language": "python",
   "name": "python3"
  },
  "language_info": {
   "codemirror_mode": {
    "name": "ipython",
    "version": 3
   },
   "file_extension": ".py",
   "mimetype": "text/x-python",
   "name": "python",
   "nbconvert_exporter": "python",
   "pygments_lexer": "ipython3",
   "version": "3.10.12"
  }
 },
 "nbformat": 4,
 "nbformat_minor": 2
}
