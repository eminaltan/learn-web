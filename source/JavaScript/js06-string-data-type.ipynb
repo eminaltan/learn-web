{
 "cells": [
  {
   "cell_type": "markdown",
   "metadata": {},
   "source": [
    "# JavaScript String Data Type Concept<a id='toc0_'></a>    \n",
    "\n",
    "Hello friends, in this section of the series, we will examine the **_string_** data types and data types in JavaScript.\n",
    "\n",
    "In this article, we'll cover:\n",
    "\n",
    "- [JavaScript String Data Type](#toc1_1_)    \n",
    "  - [JavaScript Numeric String Values](#toc1_1_1_)    \n",
    "  - [Usage of the `\\` Escape Character](#toc1_1_2_)    \n",
    "- [JavaScript Object Data Type with String Data Types](#toc1_2_)    \n",
    "- [JavaScript Template Literals](#toc1_3_)    \n",
    "- [JavaScript String Methods](#toc1_4_)    \n",
    "  - [`length` Method](#toc1_4_1_)    \n",
    "  - [Splitting String Expressions into Parts](#toc1_4_2_)    \n",
    "    - [`slice()` Method](#toc1_4_2_1_)    \n",
    "    - [`substring()` Method](#toc1_4_2_2_)    \n",
    "    - [`substr()` Method](#toc1_4_2_3_)    \n",
    "  - [`replace()` Method](#toc1_4_3_)    \n",
    "  - [`replaceAll()` Method](#toc1_4_4_)    \n",
    "  - [`toUpperCase()` Method](#toc1_4_5_)    \n",
    "  - [`toLowerCase()` Method](#toc1_4_6_)    \n",
    "  - [`concat()` Method](#toc1_4_7_)    \n",
    "  - [`trim()` Method](#toc1_4_8_)    \n",
    "  - [`trimStart()` Method](#toc1_4_9_)    \n",
    "  - [`trimEnd()` Method](#toc1_4_10_)    \n",
    "  - [`padStart()` Method](#toc1_4_11_)    \n",
    "  - [`padEnd()` Method](#toc1_4_12_)    \n",
    "- [Character-Based Operations on String Expressions](#toc1_5_)    \n",
    "    - [`charAt()` Method](#toc1_5_1_1_)    \n",
    "      - [Character Access Using Property Access Method](#toc1_5_1_1_1_)    \n",
    "    - [`charCodeAt()` Method](#toc1_5_1_2_)    \n",
    "  - [`split()` Method](#toc1_5_2_)    \n",
    "  - [String Search Methods](#toc1_5_3_)    \n",
    "    - [`indexOf()` Method](#toc1_5_3_1_)    \n",
    "    - [`lastIndexOf()` Method](#toc1_5_3_2_)    \n",
    "    - [`search()` Method](#toc1_5_3_3_)    \n",
    "    - [`match()` Method](#toc1_5_3_4_)    \n",
    "    - [`matchAll()` Method](#toc1_5_3_5_)    \n",
    "    - [`includes()` Method](#toc1_5_3_6_)    \n",
    "    - [`endsWith()` Method](#toc1_5_3_7_)    \n",
    "    - [`startsWith()` Method](#toc1_5_3_8_)    \n",
    "- [Summary](#toc1_6_)    \n",
    "\n",
    "I hope you enjoy reading.\n",
    "\n",
    "Yazının Türkçe versiyonu için [linke](tr-js06-string-data-type.ipynb) tıklayabilirsiniz\n",
    "<!-- vscode-jupyter-toc-config\n",
    "\tnumbering=false\n",
    "\tanchor=true\n",
    "\tflat=false\n",
    "\tminLevel=1\n",
    "\tmaxLevel=6\n",
    "\t/vscode-jupyter-toc-config -->\n",
    "<!-- THIS CELL WILL BE REPLACED ON TOC UPDATE. DO NOT WRITE YOUR TEXT IN THIS CELL -->"
   ]
  },
  {
   "cell_type": "markdown",
   "metadata": {},
   "source": [
    "## <a id='toc1_1_'></a>[JavaScript String Data Type](#toc0_)\n",
    "\n",
    "A data type called a string is composed of characters or arrays of characters. String data types are used between quotation marks. Quotation marks can be either double (`\"\"`) or single (`''`). Additionally, a string expression can also be used within template literals. (` `` `)\n",
    "\n",
    "**Example**\n"
   ]
  },
  {
   "cell_type": "code",
   "execution_count": 147,
   "metadata": {
    "vscode": {
     "languageId": "javascript"
    }
   },
   "outputs": [
    {
     "name": "stdout",
     "output_type": "stream",
     "text": [
      "Lada\n",
      "Opel\n",
      "Tata\n",
      "The doctor said \"come\" 'please'\n",
      "The doctor said 'come'.\n",
      "The doctor said \"come\".\n"
     ]
    }
   ],
   "source": [
    "%%script node\n",
    "\n",
    "// Usage with double quotes\n",
    "const car1 = \"Lada\";\n",
    "\n",
    "// Usage with single quotes\n",
    "const car2 = 'Opel';\n",
    "\n",
    "// Usage with template literals\n",
    "const car3 = `Tata`;\n",
    "\n",
    "// Using single quotes within double quotes\n",
    "let text2 = \"The doctor said 'come'.\";\n",
    "\n",
    "// Using double quotes within single quotes\n",
    "let text3 = 'The doctor said \"come\".'\n",
    "\n",
    "// Template literals allow mixing both double and single quotes\n",
    "let text1 = `The doctor said \"come\" 'please'`;\n",
    "\n",
    "// Print to the console\n",
    "console.log(car1);\n",
    "console.log(car2);\n",
    "console.log(car3);\n",
    "console.log(text1);\n",
    "console.log(text2);\n",
    "console.log(text3);\n"
   ]
  },
  {
   "cell_type": "markdown",
   "metadata": {},
   "source": [
    "String data types are primitive and have an **_immutable_** nature, meaning they cannot be changed once created.\n",
    "\n",
    "**Example**\n"
   ]
  },
  {
   "cell_type": "code",
   "execution_count": 148,
   "metadata": {
    "vscode": {
     "languageId": "javascript"
    }
   },
   "outputs": [
    {
     "name": "stdout",
     "output_type": "stream",
     "text": [
      "Print Hasan to the console\n",
      "Print Murat to the console\n"
     ]
    }
   ],
   "source": [
    "%%script node\n",
    "\n",
    "let student = \"Hasan\";\n",
    "\n",
    "/** \n",
    " * A new address will be created in the RAM for the 'person' variable, and the value of the 'student' variable \n",
    " * will be copied to the 'person' variable.\n",
    " */\n",
    "let person = student;\n",
    "\n",
    "// Hasan expression will be printed to the console.\n",
    "console.log(`Print ${person} to the console`);\n",
    "\n",
    "/** \n",
    " * When we change the data stored in the 'student' variable, a new address in memory will be created for the new \n",
    " * value.\n",
    " */\n",
    "student = \"Murat\";\n",
    "\n",
    "// Murat expression will be printed to the console.\n",
    "console.log(`Print ${student} to the console`);\n"
   ]
  },
  {
   "cell_type": "markdown",
   "metadata": {},
   "source": [
    "If we remember, variables with the object data type were finding the address in memory, and the stored value was being updated. Let's now create a similar example for a data type with the object data type.\n",
    "\n",
    "**Example**\n"
   ]
  },
  {
   "cell_type": "code",
   "execution_count": 149,
   "metadata": {
    "vscode": {
     "languageId": "javascript"
    }
   },
   "outputs": [
    {
     "name": "stdout",
     "output_type": "stream",
     "text": [
      "The value stored with the firstName key in the person variable: Murat\n",
      "The value stored with the firstName key in the student variable: Murat\n"
     ]
    }
   ],
   "source": [
    "%%script node\n",
    "\n",
    "let student = { firstName: \"Hasan\", surName: \"Taş\" };\n",
    "\n",
    "let person = student;\n",
    "\n",
    "// We access the value stored with the firstName key in the person variable and update the data.\n",
    "person[\"firstName\"] = \"Murat\";\n",
    "\n",
    "/** \n",
    " * Murat expression will be printed to the console for the value stored with the firstName key in the person \n",
    " * variable.\n",
    " */\n",
    "console.log(`The value stored with the firstName key in the person variable: ${person[\"firstName\"]}`);\n",
    "\n",
    "// ⚠️ Note that the student variable is also updated, and Murat expression is printed to the console.\n",
    "console.log(`The value stored with the firstName key in the student variable: ${student.firstName}`);\n"
   ]
  },
  {
   "cell_type": "markdown",
   "metadata": {},
   "source": [
    "### <a id='toc1_1_1_'></a>[JavaScript Numeric String Values](#toc0_)\n",
    "\n",
    "String data types can consist of numbers. In such cases, these strings are expressed as **_numeric-string values_**.\n",
    "\n",
    "**⚠️ Other string values, excluding numeric-string values, do not contribute to the result in mathematical operations. If a string is used in a mathematical expression, the result's data type will be a string. This affects the result based on where the string is used. The situation is somewhat different for numeric-string values. For more detailed information, you can refer to [JavaScript Numeric String Values](js07-numeric-data-type.ipynb#javascript-numeric-string-values).**\n",
    "\n",
    "<!-- [#1](https://github.com/eminaltan/learn-web/issues/1) -->\n",
    "\n",
    "**In JavaScript, expressions are evaluated from left to right. Thus, JavaScript determines where the expression will be a string based on this pattern.**\n",
    "\n",
    "**Example**\n"
   ]
  },
  {
   "cell_type": "code",
   "execution_count": 150,
   "metadata": {
    "vscode": {
     "languageId": "javascript"
    }
   },
   "outputs": [
    {
     "name": "stdout",
     "output_type": "stream",
     "text": [
      "The value of x: 71\n",
      "The value of y: 143\n",
      "The value of z: 8\n",
      "The value of m: Emin Altan\n"
     ]
    }
   ],
   "source": [
    "%%script node\n",
    "\n",
    "// The + operator for string expressions is equivalent to the concat() method. String values are concatenated.\n",
    "\n",
    "// Will print 71 to the console.\n",
    "var x = 4 + 3 + \"1\";\n",
    "console.log(`The value of x: ${x}`);\n",
    "\n",
    "// Will print 143 to the console.\n",
    "var y = \"1\" + 4 + 3;\n",
    "console.log(`The value of y: ${y}`);\n",
    "\n",
    "// Will print 8 to the console. ⚠️ Note that the evaluation of expressions occurs from left to right.\n",
    "var z = \"9\" - 4 + 3;\n",
    "console.log(`The value of z: ${z}`);\n",
    "\n",
    "let m = \"Emin\" + \" \" + \"Altan\";\n",
    "// Output will be Emin Altan.\n",
    "console.log(`The value of m: ${m}`);"
   ]
  },
  {
   "cell_type": "markdown",
   "metadata": {},
   "source": [
    "### <a id='toc1_1_2_'></a>[Usage of the `\\` Escape Character](#toc0_)\n",
    "\n",
    "**⚠️ Using the same type of quotation mark for creating a string and quoting within a string can lead to issues.**\n",
    "\n",
    "**Example**\n",
    "\n",
    "```javascript\n",
    "/**\n",
    " * It will cause problems because JavaScript cannot determine where the string starts and ends.\n",
    " * SyntaxError: Unexpected identifier 'Moğollar' will be printed to the console.\n",
    " */\n",
    "let text = \"We can name theirs \\\"Moğollar\\\".\";\n",
    "console.log(text);\n",
    "```\n",
    "\n",
    "To avoid issues with similar quotation marks, the **_backslash escape character_**[^1] is used.\n",
    "\n",
    "**❗ It is not recommended to use the `\\` character as some browsers do not support it.**\n",
    "\n",
    "**Here is a list of backslash escape characters:**\n",
    "\n",
    "| **Code** | **Result** | **Description**         |\n",
    "| -------- | ---------- | ----------------------- |\n",
    "| `\\'`     | '          | Single quotation mark  |\n",
    "| `\\\"`     | \"          | Double quotation mark  |\n",
    "| `\\\\`     | \\          | Backslash               |\n",
    "\n",
    "**Example**\n"
   ]
  },
  {
   "cell_type": "code",
   "execution_count": 151,
   "metadata": {
    "vscode": {
     "languageId": "javascript"
    }
   },
   "outputs": [
    {
     "name": "stdout",
     "output_type": "stream",
     "text": [
      "We used to call them `Moğollars`.\n",
      "We used to call them \"Moğollars\".\n",
      "The backslash character is defined as double backslash.\n"
     ]
    }
   ],
   "source": [
    "%%script node\n",
    "\n",
    "// The issue is resolved when we use backslashes in the example above.\n",
    "\n",
    "let text1 = \"We used to call them \\`Moğollars\\`.\";\n",
    "\n",
    "// Prints the expression \"We used to call them `Moğollars`.\" to the console.\n",
    "console.log(text1);\n",
    "\n",
    "let text2 = 'We used to call them \\\"Moğollars\\\".';\n",
    "\n",
    "// Prints the expression \"We used to call them \\\"Moğollars\\\".\" to the console.\n",
    "console.log(text2);\n",
    "\n",
    "// If we want to add a backslash character to a string, we use the `\\\\` characters.\n",
    "text2 = \"The backslash character is defined as double backslash.\";\n",
    "\n",
    "// Prints the expression \"The backslash character is defined as double backslash.\" to the console.\n",
    "console.log(text2);\n"
   ]
  },
  {
   "cell_type": "markdown",
   "metadata": {},
   "source": [
    "In addition to these, there are several other escape characters with backslashes, but I won't go into them, my friends.\n",
    "\n",
    "The data type of variables also be string.\n",
    "\n",
    "**Example**\n"
   ]
  },
  {
   "cell_type": "code",
   "execution_count": 152,
   "metadata": {
    "vscode": {
     "languageId": "javascript"
    }
   },
   "outputs": [
    {
     "name": "stdout",
     "output_type": "stream",
     "text": [
      "Data type of x: string\n",
      "Data type of y: string\n"
     ]
    }
   ],
   "source": [
    "%%script node\n",
    "\n",
    "let x = \"Hasan\";\n",
    "\n",
    "let y = \"5\";\n",
    "\n",
    "// Print variable data types to the console.\n",
    "console.log(`Data type of x: ${typeof x}`);\n",
    "console.log(`Data type of y: ${typeof y}`);\n"
   ]
  },
  {
   "cell_type": "markdown",
   "metadata": {},
   "source": [
    "## <a id='toc1_2_'></a>[JavaScript Object Data Type with String Data Types](#toc0_)\n",
    "\n",
    "As we know, string variables in JavaScript are normally **_immutable_**, has primitive feature and data type of variables also be string.\n",
    "\n",
    "However, string data types in the form of objects can be created using the `new` keyword.\n",
    "\n",
    "**⚠️ The data type of a variable with a string feature created in the object data type is different from that of a variable created using the normal method.**\n",
    "\n",
    "**Example**\n"
   ]
  },
  {
   "cell_type": "code",
   "execution_count": 153,
   "metadata": {
    "vscode": {
     "languageId": "javascript"
    }
   },
   "outputs": [
    {
     "name": "stdout",
     "output_type": "stream",
     "text": [
      "Value stored in the student variable: Candan\n",
      "Data type of the student variable: object\n",
      "Value stored in the student2 variable: Murat\n",
      "Data type of the student2 variable: string\n"
     ]
    }
   ],
   "source": [
    "%%script node\n",
    "\n",
    "// The student variable is object-typed, and its data type is object.\n",
    "let student = new String(\"Candan\");\n",
    "\n",
    "console.log(`Value stored in the student variable: ${student}`);\n",
    "console.log(`Data type of the student variable: ${typeof student}`);\n",
    "\n",
    "// The student2 variable is string-typed, and its data type is string.\n",
    "let student2 = \"Murat\";\n",
    "\n",
    "console.log(`Value stored in the student2 variable: ${student2}`);\n",
    "console.log(`Data type of the student2 variable: ${typeof student2}`);\n"
   ]
  },
  {
   "cell_type": "markdown",
   "metadata": {},
   "source": [
    "**❗ It is not recommended to use string data types in the form of objects. Especially in expressions involving logical operators, unexpected results may occur.**\n",
    "\n",
    "**Additionally, it will slow down the execution of code blocks due to making the code more complex.**\n",
    "\n",
    "**When comparing two variables in the object data type, the result will always be `false`.**\n",
    "\n",
    "**Example**\n"
   ]
  },
  {
   "cell_type": "code",
   "execution_count": 154,
   "metadata": {
    "vscode": {
     "languageId": "javascript"
    }
   },
   "outputs": [
    {
     "name": "stdout",
     "output_type": "stream",
     "text": [
      "Are the values of student and student2 equal in both data type and content?: false\n"
     ]
    }
   ],
   "source": [
    "%%script node\n",
    "\n",
    "const student = new String(\"Candan\");\n",
    "const student2 = new String(\"Candan\");\n",
    "\n",
    "// Although both variables have the same type and content, they are not equal in terms of type when compared.\n",
    "console.log(`Are the values of student and student2 equal in both data type and content?: ${student === student2}`);\n"
   ]
  },
  {
   "cell_type": "markdown",
   "metadata": {},
   "source": [
    "As seen above, although both variables have the object data type, they are not equal in terms of type and content when compared. This is because variables with the object data type have the uniqueness property. In other words, unless the same **reference** is pointed, both variables are stored at separate addresses in the memory."
   ]
  },
  {
   "cell_type": "markdown",
   "metadata": {},
   "source": [
    "## <a id='toc1_3_'></a>[JavaScript Template Literals](#toc0_)\n",
    "\n",
    "In JavaScript, the characters ` `` ` are referred to as template literals or backticks. Template literals are commonly used, especially in **_interpolation_** operations[^2].\n",
    "\n",
    "**⚠️ Template literals are not supported by Internet Explorer.**\n",
    "\n",
    "**Example**"
   ]
  },
  {
   "cell_type": "code",
   "execution_count": 155,
   "metadata": {
    "vscode": {
     "languageId": "javascript"
    }
   },
   "outputs": [
    {
     "name": "stdout",
     "output_type": "stream",
     "text": [
      "This is Hasan's bicycle. Hasan has nicknamed his bicycle \"Monster.\"\n"
     ]
    }
   ],
   "source": [
    "%%script node\n",
    "\n",
    "const text = `This is Hasan's bicycle. Hasan has nicknamed his bicycle \"Monster.\"`;\n",
    "\n",
    "console.log(text);\n"
   ]
  },
  {
   "cell_type": "markdown",
   "metadata": {},
   "source": [
    "Template literals defined as strings can consist of multiple lines. The string expression within backticks is used exactly as it is.\n",
    "\n",
    "**Example**"
   ]
  },
  {
   "cell_type": "code",
   "execution_count": 156,
   "metadata": {
    "vscode": {
     "languageId": "javascript"
    }
   },
   "outputs": [
    {
     "name": "stdout",
     "output_type": "stream",
     "text": [
      "\n",
      "This is Hasan's bicycle. \n",
      "Hasan has nicknamed his bicycle \"Monster.\"\n"
     ]
    }
   ],
   "source": [
    "%%script node\n",
    "\n",
    "const text = `\n",
    "This is Hasan's bicycle. \n",
    "Hasan has nicknamed his bicycle \"Monster.\"`;\n",
    "\n",
    "console.log(text);"
   ]
  },
  {
   "cell_type": "markdown",
   "metadata": {},
   "source": [
    "In the example below, the use of template literals with interpolation is demonstrated. To perform interpolation, `${}` characters are used.\n",
    "\n",
    "**Example**\n"
   ]
  },
  {
   "cell_type": "code",
   "execution_count": 157,
   "metadata": {
    "vscode": {
     "languageId": "javascript"
    }
   },
   "outputs": [
    {
     "name": "stdout",
     "output_type": "stream",
     "text": [
      "The student's name is Emin. His surname is Altan.\n"
     ]
    }
   ],
   "source": [
    "%%script node\n",
    "\n",
    "const student = { studentName: \"Emin\", studentSurName: \"Altan\" };\n",
    "\n",
    "console.log(`The student's name is ${student[\"studentName\"]}. His surname is ${student.studentSurName}.`);\n"
   ]
  },
  {
   "cell_type": "markdown",
   "metadata": {},
   "source": [
    "In the example below, the interpolation method for HTML elements is used within a loop.\n",
    "\n",
    "**Example**"
   ]
  },
  {
   "cell_type": "code",
   "execution_count": 158,
   "metadata": {
    "vscode": {
     "languageId": "javascript"
    }
   },
   "outputs": [
    {
     "name": "stdout",
     "output_type": "stream",
     "text": [
      "<h2>Template Literal Example</h2><ul><li>template</li><li>literal</li><li>javascript</li><li>es6</li></ul>\n"
     ]
    }
   ],
   "source": [
    "%%script node\n",
    "\n",
    "const header = \"Template Literal Example\";\n",
    "\n",
    "const words = [\"template\", \"literal\", \"javascript\", \"es6\"];\n",
    "\n",
    "let html = `<h2>${header}</h2><ul>`;\n",
    "\n",
    "for (const word of words) {\n",
    "    html += `<li>${word}</li>`;\n",
    "}\n",
    "\n",
    "html += `</ul>`;\n",
    "\n",
    "console.log(html);\n"
   ]
  },
  {
   "cell_type": "markdown",
   "metadata": {},
   "source": [
    "## <a id='toc1_4_'></a>[JavaScript String Methods](#toc0_)\n",
    "\n",
    "Sometimes, we may want to split, concatenate or convert certain characters in a string value to lowercase based on specific criteria. JavaScript provides predefined methods that allow us to perform similar operations. In this section, we will explore some commonly used methods that facilitate our operations on string values.\n"
   ]
  },
  {
   "cell_type": "markdown",
   "metadata": {},
   "source": [
    "### <a id='toc1_4_1_'></a>[`length` Method](#toc0_)\n",
    "\n",
    "Helps us determine the number of characters in a string expression.\n",
    "\n",
    "**Example**"
   ]
  },
  {
   "cell_type": "code",
   "execution_count": 159,
   "metadata": {
    "vscode": {
     "languageId": "javascript"
    }
   },
   "outputs": [
    {
     "name": "stdout",
     "output_type": "stream",
     "text": [
      "Number of characters in the word \"Atatürk\": 7\n"
     ]
    }
   ],
   "source": [
    "%%script node\n",
    "\n",
    "const greatTurk = \"Atatürk\";\n",
    "\n",
    "// The number of characters in the expression \"Atatürk\" is printed to the console.\n",
    "console.log(`Number of characters in the word \"Atatürk\": ${greatTurk.length}`);\n"
   ]
  },
  {
   "cell_type": "markdown",
   "metadata": {},
   "source": [
    "### <a id='toc1_4_2_'></a>[Splitting String Expressions into Parts](#toc0_)\n",
    "\n",
    "**String expressions can be divided into parts using 3 methods:**\n",
    "\n",
    "- Using the `slice()` method\n",
    "\n",
    "- Using the `substring()` method\n",
    "\n",
    "- Using the `substr()` method\n",
    "\n",
    "Let's examine each of these methods one by one."
   ]
  },
  {
   "cell_type": "markdown",
   "metadata": {},
   "source": [
    "#### <a id='toc1_4_2_1_'></a>[`slice()` Method](#toc0_)\n",
    "\n",
    "`slice()` method divides a string expression into its parts. The separated part is returned as a new string value.\n",
    "\n",
    "The method has two arguments: start and end. These arguments are separated by a `,` the use of the end argument is optional. If used, the part between the start and end arguments is separated from the string expression. In cases where it is not used, the operation is performed from the start argument to the end of the string expression.\n",
    "\n",
    "**⚠️ The index value of the first character in the string expression is calculated as 0.**\n",
    "\n",
    "**Example**\n"
   ]
  },
  {
   "cell_type": "code",
   "execution_count": 160,
   "metadata": {
    "vscode": {
     "languageId": "javascript"
    }
   },
   "outputs": [
    {
     "name": "stdout",
     "output_type": "stream",
     "text": [
      "Returned part: Emin Altan\n",
      "Returned part: Emin\n"
     ]
    }
   ],
   "source": [
    "%%script node\n",
    "\n",
    "const text = \"Mehmet Emin Altan\";\n",
    "\n",
    "// The first 7 characters are removed from the string expression, and the remaining string expression is returned.\n",
    "console.log(`Returned part: ${text.slice(7)}`);\n",
    "\n",
    "// Prints the characters between 7 and 11 to the console.\n",
    "console.log(`Returned part: ${text.slice(7, 11)}`);\n"
   ]
  },
  {
   "cell_type": "markdown",
   "metadata": {},
   "source": [
    "**💡 Negative values can be used in arguments. In this case, the operation starts from the end of the string expression.**\n",
    "\n",
    "**Example**\n"
   ]
  },
  {
   "cell_type": "code",
   "execution_count": 161,
   "metadata": {
    "vscode": {
     "languageId": "javascript"
    }
   },
   "outputs": [
    {
     "name": "stdout",
     "output_type": "stream",
     "text": [
      "Returned part: Emin Altan\n",
      "Returned part: Emin \n"
     ]
    }
   ],
   "source": [
    "%%script node\n",
    "\n",
    "const text = \"Mehmet Emin Altan\";\n",
    "\n",
    "// The separation will start from the end, and the last 10 characters will be returned.\n",
    "console.log(`Returned part: ${text.slice(-10)}`);\n",
    "\n",
    "// Prints the characters between 5 and 10 from the end to the console.\n",
    "console.log(`Returned part: ${text.slice(-10, -5)}`);\n"
   ]
  },
  {
   "cell_type": "markdown",
   "metadata": {},
   "source": [
    "#### <a id='toc1_4_2_2_'></a>[`substring()` Method](#toc0_)\n",
    "\n",
    "Its usage is similar to the `slice()` method. The difference is that when negative values are used for arguments, the `substring()` method interprets these parameters as 0.\n",
    "\n",
    "**Example**\n"
   ]
  },
  {
   "cell_type": "code",
   "execution_count": 162,
   "metadata": {
    "vscode": {
     "languageId": "javascript"
    }
   },
   "outputs": [
    {
     "name": "stdout",
     "output_type": "stream",
     "text": [
      "Returned part: Mehmet Emin Altan\n"
     ]
    }
   ],
   "source": [
    "%%script node\n",
    "\n",
    "const text = \"Mehmet Emin Altan\";\n",
    "/** \n",
    " * Since -10 is negative, the substring() method will interpret it as 0, and the string expression will be \n",
    " * printed to the console from the beginning to the end.\n",
    " */\n",
    "console.log(`Returned part: ${text.substring(-10)}`);\n"
   ]
  },
  {
   "cell_type": "markdown",
   "metadata": {},
   "source": [
    "#### <a id='toc1_4_2_3_'></a>[`substr()` Method](#toc0_)\n",
    "\n",
    "Its usage is similar to the `slice()` method. The difference lies in the way the second argument is used.\n",
    "\n",
    "When `substr()` method is used with two arguments, the position of the first argument in the string value is determined, and then, based on this character reference, the position of the second argument is calculated.\n",
    "\n",
    "Recall that in the `slice()` method, the operation was performed **between** the two specified arguments.\n",
    "\n",
    "**Example**\n"
   ]
  },
  {
   "cell_type": "code",
   "execution_count": 163,
   "metadata": {
    "vscode": {
     "languageId": "javascript"
    }
   },
   "outputs": [
    {
     "name": "stdout",
     "output_type": "stream",
     "text": [
      "Returned part:  Emin\n"
     ]
    }
   ],
   "source": [
    "%%script node\n",
    "\n",
    "const text = \"Mehmet Emin Altan\"\n",
    "/** \n",
    " * It will find the letter corresponding to the 6th character and use this character as a reference. \n",
    " * Then it will count up to 5 and print the result to the console.\n",
    " */\n",
    "console.log(`Returned part: ${text.substr(6, 5)}`);\n"
   ]
  },
  {
   "cell_type": "markdown",
   "metadata": {},
   "source": [
    "If the second argument is not used, the result obtained by subtracting characters from the string value, based on the number of the first argument, is used.\n",
    "\n",
    "**Example**\n"
   ]
  },
  {
   "cell_type": "code",
   "execution_count": 164,
   "metadata": {
    "vscode": {
     "languageId": "javascript"
    }
   },
   "outputs": [
    {
     "name": "stdout",
     "output_type": "stream",
     "text": [
      "Returned part:  Emin Altan\n"
     ]
    }
   ],
   "source": [
    "%%script node\n",
    "\n",
    "const text = \"Mehmet Emin Altan\";\n",
    "\n",
    "// The first 6 characters will be subtracted from the string value, and the result will be printed to the console.\n",
    "console.log(`Returned part: ${text.substr(6)}`);\n",
    "\n"
   ]
  },
  {
   "cell_type": "markdown",
   "metadata": {},
   "source": [
    "**❗ Since the `substr()` method is considered for removal from future web standards, it is recommended not to use this method.**\n",
    "\n",
    "In the `substr()` method, negative values can be used. If a negative value is used as the first argument, the operations are performed from the end to the beginning.\n",
    "\n",
    "**Example**\n",
    "\n"
   ]
  },
  {
   "cell_type": "code",
   "execution_count": 165,
   "metadata": {
    "vscode": {
     "languageId": "javascript"
    }
   },
   "outputs": [
    {
     "name": "stdout",
     "output_type": "stream",
     "text": [
      "Returned part: Altan\n"
     ]
    }
   ],
   "source": [
    "%%script node\n",
    "\n",
    "const text = \"Mehmet Emin Altan\";\n",
    "\n",
    "// The last 5 characters will be printed to the console.\n",
    "console.log(`Returned part: ${text.substr(-5)}`);\n"
   ]
  },
  {
   "cell_type": "markdown",
   "metadata": {},
   "source": [
    "### <a id='toc1_4_3_'></a>[`replace()` Method](#toc0_)\n",
    "\n",
    "With the `replace()` method, we can replace a part of a string expression with another string expression. The structure of the original string expression remains intact, and the resulting expression is created in a new string form. This is because the string data type is immutable.\n",
    "\n",
    "The `replace()` method uses two arguments. The first argument specifies the string expression to be replaced, while the second argument specifies the expression to replace it with.\n",
    "\n",
    "**Example**\n"
   ]
  },
  {
   "cell_type": "code",
   "execution_count": 166,
   "metadata": {
    "vscode": {
     "languageId": "javascript"
    }
   },
   "outputs": [
    {
     "name": "stdout",
     "output_type": "stream",
     "text": [
      "Today weather is very rainy.\n"
     ]
    }
   ],
   "source": [
    "%%script node\n",
    "\n",
    "const text = \"Today weather is very sunny.\";\n",
    "\n",
    "// The part \"sunny\" in the text variable will be replaced with \"rainy\".\n",
    "console.log(text.replace(\"sunny\", \"rainy\"));\n"
   ]
  },
  {
   "cell_type": "markdown",
   "metadata": {},
   "source": [
    "**⚠️ The `replace()` method is case-sensitive. In the previous example, `SUNNY` is not equivalent to `sunny`.**\n",
    "\n",
    "**Example**\n"
   ]
  },
  {
   "cell_type": "code",
   "execution_count": 167,
   "metadata": {
    "vscode": {
     "languageId": "javascript"
    }
   },
   "outputs": [
    {
     "name": "stdout",
     "output_type": "stream",
     "text": [
      "Today weather is very sunny.\n"
     ]
    }
   ],
   "source": [
    "%%script node\n",
    "\n",
    "const text = \"Today weather is very sunny.\";\n",
    "\n",
    "// Since the `replace()` method is case-sensitive, it will return the result without making any changes.\n",
    "console.log(text.replace(\"SUNNY\", \"rainy\"));"
   ]
  },
  {
   "cell_type": "markdown",
   "metadata": {},
   "source": [
    "**⚠️ There can be more than one part in a string expression that needs to be replaced. In the default usage, the `replace()` method performs its function in the first matching part, and the content in other parts is not changed. To achieve this, we need to use the `replace()` method with _regular expressions_[^3].**\n",
    "\n",
    "**Example**\n"
   ]
  },
  {
   "cell_type": "code",
   "execution_count": 168,
   "metadata": {
    "vscode": {
     "languageId": "javascript"
    }
   },
   "outputs": [
    {
     "name": "stdout",
     "output_type": "stream",
     "text": [
      "Gözde was walking on the road. Gözde found money on the road. Later, Gözde returned the money to its owner.\n"
     ]
    }
   ],
   "source": [
    "%%script node\n",
    "\n",
    "const text = \"Ahmet was walking on the road. Ahmet found money on the road. Later, Ahmet returned the money to its owner.\";\n",
    "\n",
    "// All parts starting with Ahmet in the text variable will be replaced with Gözde.\n",
    "console.log(text.replace(/Ahmet/g, \"Gözde\"));\n"
   ]
  },
  {
   "cell_type": "markdown",
   "metadata": {},
   "source": [
    "In the example, the `g` parameter is defined globally. That is, the `Ahmet` part will be searched **throughout** the string expression, and wherever it is found, it will be replaced with the string expression `Gözde`."
   ]
  },
  {
   "cell_type": "markdown",
   "metadata": {},
   "source": [
    "### <a id='toc1_4_4_'></a>[`replaceAll()` Method](#toc0_)\n",
    "\n",
    "There can be more than one part in a string expression that needs to be replaced. In this case, the `replaceAll()` method can be used.\n",
    "\n",
    "**⚠️ The `replaceAll()` method was introduced to JavaScript in 2021, and Internet Explorer does not support this method.**\n",
    "\n",
    "**Example**\n"
   ]
  },
  {
   "cell_type": "code",
   "execution_count": 169,
   "metadata": {
    "vscode": {
     "languageId": "javascript"
    }
   },
   "outputs": [
    {
     "name": "stdout",
     "output_type": "stream",
     "text": [
      "Gözde was walking on the road. Gözde found money on the road. Later, Gözde returned the money to its owner.\n"
     ]
    }
   ],
   "source": [
    "%%script node\n",
    "\n",
    "const text = \"Ahmet was walking on the road. Ahmet found money on the road. Later, Ahmet returned the money to its owner.\";\n",
    "\n",
    "// replaceAll() method eliminates the need for using regular expressions.\n",
    "console.log(text.replaceAll(\"Ahmet\", \"Gözde\"));\n"
   ]
  },
  {
   "cell_type": "markdown",
   "metadata": {},
   "source": [
    "### <a id='toc1_4_5_'></a>[`toUpperCase()` Method](#toc0_)\n",
    "\n",
    "With the `toUpperCase()` method, the characters of a string expression can be converted to uppercase.\n",
    "\n",
    "**Example**\n"
   ]
  },
  {
   "cell_type": "code",
   "execution_count": 170,
   "metadata": {
    "vscode": {
     "languageId": "javascript"
    }
   },
   "outputs": [
    {
     "name": "stdout",
     "output_type": "stream",
     "text": [
      "ÖMER ALTAN\n"
     ]
    }
   ],
   "source": [
    "%%script node\n",
    "\n",
    "const text = \"ömer altan\";\n",
    "\n",
    "console.log(text.toUpperCase());\n"
   ]
  },
  {
   "cell_type": "markdown",
   "metadata": {},
   "source": [
    "### <a id='toc1_4_6_'></a>[`toLowerCase()` Method](#toc0_)\n",
    "\n",
    "With the `toLowerCase()` method, the characters of a string expression can be converted to lowercase.\n",
    "\n",
    "**Example**\n"
   ]
  },
  {
   "cell_type": "code",
   "execution_count": 171,
   "metadata": {
    "vscode": {
     "languageId": "javascript"
    }
   },
   "outputs": [
    {
     "name": "stdout",
     "output_type": "stream",
     "text": [
      "ömer altan\n"
     ]
    }
   ],
   "source": [
    "%%script node\n",
    "\n",
    "const text = \"Ömer Altan\";\n",
    "\n",
    "console.log(text.toLowerCase());"
   ]
  },
  {
   "cell_type": "markdown",
   "metadata": {},
   "source": [
    "### <a id='toc1_4_7_'></a>[`concat()` Method](#toc0_)\n",
    "\n",
    "With the `concat()` method, multiple string expressions can be concatenated. The `concat()` method performs the same function as the `+` operator for string data types.\n",
    "\n",
    "**Example**\n"
   ]
  },
  {
   "cell_type": "code",
   "execution_count": 172,
   "metadata": {
    "vscode": {
     "languageId": "javascript"
    }
   },
   "outputs": [
    {
     "name": "stdout",
     "output_type": "stream",
     "text": [
      "I saw a cat in the backyard\n"
     ]
    }
   ],
   "source": [
    "%%script node\n",
    "\n",
    "const text = \"I saw\";\n",
    "\n",
    "const text1 = \"cat in the backyard\";\n",
    "\n",
    "console.log(text.concat(\" a \", text1));\n"
   ]
  },
  {
   "cell_type": "markdown",
   "metadata": {},
   "source": [
    "### <a id='toc1_4_8_'></a>[`trim()` Method](#toc0_)\n",
    "\n",
    "With the `trim()` method, we can remove leading and trailing white space characters from a string expression.\n",
    "\n",
    "**Example**\n"
   ]
  },
  {
   "cell_type": "code",
   "execution_count": 173,
   "metadata": {
    "vscode": {
     "languageId": "javascript"
    }
   },
   "outputs": [
    {
     "name": "stdout",
     "output_type": "stream",
     "text": [
      "Original text:       Backyard      \n",
      "Number of string characters before removing spaces: 20\n",
      "Text created by removing spaces: Backyard\n",
      "Number of string characters after removing spaces: 8\n"
     ]
    }
   ],
   "source": [
    "%%script node\n",
    "\n",
    "const text = \"      Backyard      \";\n",
    "\n",
    "console.log(`Original text: ${text}`);\n",
    "// The value of the text variable consists of 20 characters, including white space characters.\n",
    "console.log(`Number of string characters before removing spaces: ${text.length}`);\n",
    "\n",
    "console.log(`Text created by removing spaces: ${text.trim()}`);\n",
    "// Using the trim() method, we remove white space characters, reducing the number of characters to 8.\n",
    "console.log(`Number of string characters after removing spaces: ${text.trim().length}`);\n"
   ]
  },
  {
   "cell_type": "markdown",
   "metadata": {},
   "source": [
    "### <a id='toc1_4_9_'></a>[`trimStart()` Method](#toc0_)\n",
    "\n",
    "Sometimes, we may want to remove leading white space characters from a string expression. In this case, we can use the `trimStart()` method.\n",
    "\n",
    "**⚠️ The `trimStart()` method was introduced to JavaScript in 2019. Modern browsers have been supporting this method since 2020.**\n",
    "\n",
    "**Example**\n"
   ]
  },
  {
   "cell_type": "code",
   "execution_count": 174,
   "metadata": {
    "vscode": {
     "languageId": "javascript"
    }
   },
   "outputs": [
    {
     "name": "stdout",
     "output_type": "stream",
     "text": [
      "Original text:       Backyard      \n",
      "Number of string characters before removing spaces: 20\n",
      "Text created by removing leading spaces: Backyard      \n",
      "Number of string characters after removing leading spaces: 14\n"
     ]
    }
   ],
   "source": [
    "%%script node\n",
    "\n",
    "const text = \"      Backyard      \";\n",
    "\n",
    "console.log(`Original text: ${text}`);\n",
    "// The value of the text variable consists of 20 characters, including white space characters.\n",
    "console.log(`Number of string characters before removing spaces: ${text.length}`);\n",
    "\n",
    "console.log(`Text created by removing leading spaces: ${text.trimStart()}`);\n",
    "// Using the trimStart() method, we remove leading white space characters, reducing the number of characters to 14.\n",
    "console.log(`Number of string characters after removing leading spaces: ${text.trimStart().length}`);\n",
    "\n"
   ]
  },
  {
   "cell_type": "markdown",
   "metadata": {},
   "source": [
    "### <a id='toc1_4_10_'></a>[`trimEnd()` Method](#toc0_)\n",
    "\n",
    "Sometimes, we may want to remove trailing white space characters from a string expression. In this case, we can use the `trimEnd()` method.\n",
    "\n",
    "**⚠️ The `trimEnd()` method was introduced to JavaScript in 2019. Modern browsers have been supporting this method since 2020.**\n",
    "\n",
    "**Example**\n"
   ]
  },
  {
   "cell_type": "code",
   "execution_count": 175,
   "metadata": {
    "vscode": {
     "languageId": "javascript"
    }
   },
   "outputs": [
    {
     "name": "stdout",
     "output_type": "stream",
     "text": [
      "Original text:       Backyard      \n",
      "Number of string characters before removing spaces: 20\n",
      "Text created by removing trailing spaces:       Backyard\n",
      "Number of string characters after removing trailing spaces: 14\n"
     ]
    }
   ],
   "source": [
    "%%script node\n",
    "\n",
    "const text = \"      Backyard      \";\n",
    "\n",
    "console.log(`Original text: ${text}`);\n",
    "// The value of the text variable consists of 20 characters, including white space characters.\n",
    "console.log(`Number of string characters before removing spaces: ${text.length}`);\n",
    "\n",
    "console.log(`Text created by removing trailing spaces: ${text.trimEnd()}`);\n",
    "// Using the trimEnd() method, we remove trailing white space characters, reducing the number of characters to 14.\n",
    "console.log(`Number of string characters after removing trailing spaces: ${text.trimEnd().length}`);\n"
   ]
  },
  {
   "cell_type": "markdown",
   "metadata": {},
   "source": [
    "### <a id='toc1_4_11_'></a>[`padStart()` Method](#toc0_)\n",
    "\n",
    "The `padStart()` method allows us to repeatedly append another string value to the original string value until the character count reaches the specified value.\n",
    "\n",
    "The addition is done starting from the beginning of the string expression.\n",
    "\n",
    "It takes two arguments. The first argument determines the number of repetitions. The second argument represents the string expression to be added.\n",
    "\n",
    "**💡 It can be used in data where we want to protect privacy, such as phone or credit card numbers.**\n",
    "\n",
    "**Example**\n"
   ]
  },
  {
   "cell_type": "code",
   "execution_count": 176,
   "metadata": {
    "vscode": {
     "languageId": "javascript"
    }
   },
   "outputs": [
    {
     "name": "stdout",
     "output_type": "stream",
     "text": [
      "Created pattern: ******4123\n"
     ]
    }
   ],
   "source": [
    "%%script node\n",
    "\n",
    "const cardNumber = \"21587458974123\";\n",
    "\n",
    "// The last 4 characters of the string expression are extracted using the slice() method.\n",
    "const slicedText = cardNumber.slice(-4);\n",
    "\n",
    "// Adds the * symbol to the beginning of the slicedText variable, making it a total of 10 characters.\n",
    "console.log(`Created pattern: ${slicedText.padStart(10, \"*\")}`);\n"
   ]
  },
  {
   "cell_type": "markdown",
   "metadata": {},
   "source": [
    "**⚠️ The `padStart()` method was introduced to JavaScript in 2017. `padStart()` is a string method. Therefore, if the value to be processed is not a string data type, it must be converted to a string data type first. The `padStart()` method is not supported by Internet Explorer.**\n",
    "\n",
    "**Example**\n"
   ]
  },
  {
   "cell_type": "code",
   "execution_count": 177,
   "metadata": {
    "vscode": {
     "languageId": "javascript"
    }
   },
   "outputs": [
    {
     "name": "stdout",
     "output_type": "stream",
     "text": [
      "Result: 005\n"
     ]
    }
   ],
   "source": [
    "%%script node\n",
    "\n",
    "// The num variable is of type number.\n",
    "const num = 5;\n",
    "\n",
    "// The toString() method converts the num variable to the string data type.\n",
    "const text = num.toString();\n",
    "\n",
    "/** \n",
    " * The padStart() method will add the 0 digit to the beginning of the original value until the character count of \n",
    " * the text variable reaches 3.\n",
    " */\n",
    "console.log(`Result: ${text.padStart(3, '0')}`);\n",
    "\n"
   ]
  },
  {
   "cell_type": "markdown",
   "metadata": {},
   "source": [
    "### <a id='toc1_4_12_'></a>[`padEnd()` Method](#toc0_)\n",
    "\n",
    "The `padEnd()` method works similarly to `padStart()`. The difference is that the string expression is added to the end.\n",
    "\n",
    "**Example**"
   ]
  },
  {
   "cell_type": "code",
   "execution_count": 178,
   "metadata": {
    "vscode": {
     "languageId": "javascript"
    }
   },
   "outputs": [
    {
     "name": "stdout",
     "output_type": "stream",
     "text": [
      "Result: 50000000\n"
     ]
    }
   ],
   "source": [
    "%%script node\n",
    "\n",
    "const text = \"5\";\n",
    "\n",
    "/** \n",
    " * The padEnd() method will add the 0 digit to the end of the original value until the character count of the \n",
    " * text variable reaches 8.\n",
    " */\n",
    "console.log(`Result: ${text.padEnd(8, \"0\")}`);\n"
   ]
  },
  {
   "cell_type": "markdown",
   "metadata": {},
   "source": [
    "## <a id='toc1_5_'></a>[Character-Based Operations on String Expressions](#toc0_)\n",
    "\n",
    "**Sometimes we may want to perform operations on the characters that make up a string expression. In this case, we use two methods:**\n",
    "\n",
    "- `charAt()` method\n",
    "\n",
    "- `charCodeAt()` method\n",
    "\n",
    "Now let's take a look at them."
   ]
  },
  {
   "cell_type": "markdown",
   "metadata": {},
   "source": [
    "#### <a id='toc1_5_1_1_'></a>[`charAt()` Method](#toc0_)\n",
    "\n",
    "The method returns the character corresponding to the specified index value within the string expression.\n",
    "\n",
    "**Example**\n",
    "\n"
   ]
  },
  {
   "cell_type": "code",
   "execution_count": 179,
   "metadata": {
    "vscode": {
     "languageId": "javascript"
    }
   },
   "outputs": [
    {
     "name": "stdout",
     "output_type": "stream",
     "text": [
      "The 2nd character of the string expression: s\n"
     ]
    }
   ],
   "source": [
    "%%script node\n",
    "\n",
    "const text = \"Test\";\n",
    "\n",
    "// Returns the 2nd character of the string expression to the console.\n",
    "console.log(`The 2nd character of the string expression: ${text.charAt(2)}`);\n"
   ]
  },
  {
   "cell_type": "markdown",
   "metadata": {},
   "source": [
    "**❗Notice that the 2nd character corresponds to the letter `s`. This is because in all string methods, the index value of the first character is always 0.**\n"
   ]
  },
  {
   "cell_type": "markdown",
   "metadata": {},
   "source": [
    "##### <a id='toc1_5_1_1_1_'></a>[Character Access Using Property Access Method](#toc0_)\n",
    "\n",
    "Since 2009, the use of square brackets `[]` has been allowed for index values.\n",
    "\n",
    "**Example**\n"
   ]
  },
  {
   "cell_type": "code",
   "execution_count": 180,
   "metadata": {
    "vscode": {
     "languageId": "javascript"
    }
   },
   "outputs": [
    {
     "name": "stdout",
     "output_type": "stream",
     "text": [
      "First character of string expression: T\n"
     ]
    }
   ],
   "source": [
    "%%script node\n",
    "\n",
    "const text = \"Test\";\n",
    "\n",
    "console.log(`First character of string expression: ${text[0]}`);\n"
   ]
  },
  {
   "cell_type": "markdown",
   "metadata": {},
   "source": [
    "**⚠️ It is not recommended to access characters using the property access method. Here are the reasons:**\n",
    "\n",
    "- Due to its usage, it resembles accessing an array data type.\n",
    "\n",
    "- If the index value between `[]` is not found within the string expression, the returned value will be `undefined`. In the `charAt()` method, an empty string is returned.\n",
    "\n",
    "- The character of the string expression cannot be assigned a new value with the index value inside `[]`. If an assignment is made, no error message will be received, but the statement will not execute.\n",
    "\n",
    "**Example**\n"
   ]
  },
  {
   "cell_type": "code",
   "execution_count": 181,
   "metadata": {
    "vscode": {
     "languageId": "javascript"
    }
   },
   "outputs": [
    {
     "name": "stdout",
     "output_type": "stream",
     "text": [
      "10th character of the string: undefined\n",
      "10th character of the string: \n",
      "Result: Test\n"
     ]
    }
   ],
   "source": [
    "%%script node\n",
    "\n",
    "const text = \"Test\";\n",
    "\n",
    "/**\n",
    " * Since the string expression does not consist of 10 characters, there won't be any data for the 10th character.\n",
    " * The result will be undefined.\n",
    " */\n",
    "console.log(`10th character of the string: ${text[10]}`);\n",
    "\n",
    "// An empty string will be returned.\n",
    "console.log(`10th character of the string: ${text.charAt(10)}`);\n",
    "\n",
    "/** \n",
    " * Trying to change the first character of the text variable, which stores the expression \"Deneme\", from 'D' to \n",
    " * 'A'.\n",
    " */\n",
    "text[0] = \"A\";\n",
    "\n",
    "/**\n",
    " * However, the first character in the expression \"Deneme\" will not change. The reason is that string data types \n",
    " * are immutable.\n",
    " */\n",
    "console.log(`Result: ${text}`);\n"
   ]
  },
  {
   "cell_type": "markdown",
   "metadata": {},
   "source": [
    "#### <a id='toc1_5_1_2_'></a>[`charCodeAt()` Method](#toc0_)\n",
    "\n",
    "The method returns the UTF-16 character set representation of the character at the specified index within the string.\n",
    "\n",
    "**Example**\n"
   ]
  },
  {
   "cell_type": "code",
   "execution_count": 182,
   "metadata": {
    "vscode": {
     "languageId": "javascript"
    }
   },
   "outputs": [
    {
     "name": "stdout",
     "output_type": "stream",
     "text": [
      "UTF-16 representation of the character 'D': 68\n"
     ]
    }
   ],
   "source": [
    "%%script node\n",
    "\n",
    "const text = \"Deneme\";\n",
    "\n",
    "/** \n",
    " * The UTF-16 representation of the character 'D', which is the 1st character of the string expression, will be \n",
    " * printed to the console.\n",
    " */\n",
    "console.log(`UTF-16 representation of the character 'D': ${text.charCodeAt(0)}`);\n",
    " "
   ]
  },
  {
   "cell_type": "markdown",
   "metadata": {},
   "source": [
    "### <a id='toc1_5_2_'></a>[`split()` Method](#toc0_)\n",
    "\n",
    "Sometimes, we may want to split a string expression into parts based on a specified parameter and perform operations on each part. In such cases, the `split()` method is used, and each part is converted into an array data type.\n",
    "\n",
    "Let's assume that a string expression consists of both a username and a password. Suppose we want to access the username and password parts of the string expression. This can be easily achieved with the `split()` method.\n",
    "\n",
    "**Example**"
   ]
  },
  {
   "cell_type": "code",
   "execution_count": 183,
   "metadata": {
    "vscode": {
     "languageId": "javascript"
    }
   },
   "outputs": [
    {
     "name": "stdout",
     "output_type": "stream",
     "text": [
      "1st element of the array: Ömer\n",
      "2nd element of the array: 123456\n"
     ]
    }
   ],
   "source": [
    "%%script node\n",
    "\n",
    "const user = \"Ömer Altan 123456\";\n",
    "\n",
    "// We used the white space character to split the string expression.\n",
    "const splittedUser = user.split(\" \");\n",
    "\n",
    "// Print the 1st element of the array to the console.\n",
    "console.log(`1st element of the array: ${splittedUser[0]}`);\n",
    "\n",
    "// Print the 2nd element of the array to the console.\n",
    "console.log(`2nd element of the array: ${splittedUser[2]}`);\n"
   ]
  },
  {
   "cell_type": "markdown",
   "metadata": {},
   "source": [
    "### <a id='toc1_5_3_'></a>[String Search Methods](#toc0_)\n",
    "\n",
    "Sometimes, we may want to search for another string within a string expression. In such cases, string search methods are used.\n",
    "\n",
    "**The main string search methods include:**\n",
    "\n",
    "- `indexOf()` method\n",
    "\n",
    "- `lastIndexOf()` method\n",
    "\n",
    "- `search()` method\n",
    "\n",
    "- `match()` method\n",
    "\n",
    "- `matchAll()` method\n",
    "\n",
    "- `includes()` method\n",
    "\n",
    "- `startsWith()` method\n",
    "\n",
    "- `endsWith()` method.\n",
    "\n",
    "Now, let's delve into each of these, friends."
   ]
  },
  {
   "cell_type": "markdown",
   "metadata": {},
   "source": [
    "#### <a id='toc1_5_3_1_'></a>[`indexOf()` Method](#toc0_)\n",
    "\n",
    "Searches for another string within a string expression and returns the index value if found. **In case there are multiple occurrences of the same value within the string, the result of the first occurrence is returned, and the search process is terminated.**\n",
    "\n",
    "**Example**\n"
   ]
  },
  {
   "cell_type": "code",
   "execution_count": 184,
   "metadata": {
    "vscode": {
     "languageId": "javascript"
    }
   },
   "outputs": [
    {
     "name": "stdout",
     "output_type": "stream",
     "text": [
      "Result: 31\n"
     ]
    }
   ],
   "source": [
    "%%script node\n",
    "\n",
    "const text = \"Please make the payment at the cashier and ask for a receipt at the cash register.\";\n",
    "\n",
    "/** \n",
    " * The word \"cash\" corresponds to the 31th character in the string expression. In other words, the index value \n",
    " * of the word \"cash\" is 31. The search process will end after finding the word.\n",
    " */\n",
    "console.log(`Result: ${text.indexOf(\"cash\")}`);\n"
   ]
  },
  {
   "cell_type": "markdown",
   "metadata": {},
   "source": [
    "#### <a id='toc1_5_3_2_'></a>[`lastIndexOf()` Method](#toc0_)\n",
    "\n",
    "Works similarly to the `indexOf()` method. The difference is that it will return the index value of the last matching part within the string expression.\n",
    "\n",
    "**Example**\n"
   ]
  },
  {
   "cell_type": "code",
   "execution_count": 185,
   "metadata": {
    "vscode": {
     "languageId": "javascript"
    }
   },
   "outputs": [
    {
     "name": "stdout",
     "output_type": "stream",
     "text": [
      "Result: 68\n"
     ]
    }
   ],
   "source": [
    "%%script node\n",
    "\n",
    "const text = \"Please make the payment at the cashier and ask for a receipt at the cash register.\";\n",
    "\n",
    "// The index value of the word \"cash\" found at the end of the string expression is 68.\n",
    "console.log(`Result: ${text.lastIndexOf(\"cash\")}`);\n"
   ]
  },
  {
   "cell_type": "markdown",
   "metadata": {},
   "source": [
    "**⚠️ If the value in the argument cannot be found within the string expression, the result will be `-1`. This situation is also valid for the `indexOf()` method.**\n",
    "\n",
    "**Example**\n"
   ]
  },
  {
   "cell_type": "code",
   "execution_count": 186,
   "metadata": {
    "vscode": {
     "languageId": "javascript"
    }
   },
   "outputs": [
    {
     "name": "stdout",
     "output_type": "stream",
     "text": [
      "Result: -1\n"
     ]
    }
   ],
   "source": [
    "%%script node\n",
    "\n",
    "const text = \"Please make the payment at the cashier and ask for a receipt at the cash register.\";\n",
    "\n",
    "// Since the word \"Test\" is not present in the text variable, the result will be -1.\n",
    "console.log(`Result: ${text.lastIndexOf(\"Test\")}`);\n"
   ]
  },
  {
   "cell_type": "markdown",
   "metadata": {},
   "source": [
    "`lastIndexOf()` method can have a second argument. In this case, the search process starting from which character will be specified with the second argument. This situation is also valid for the `indexOf()` method.\n",
    "\n",
    "**⚠️ While the `indexOf()` method searches from the beginning of the string expression, the `lastIndexOf()` method searches starting from the end of the string expression.**\n",
    "\n",
    "**Example**\n"
   ]
  },
  {
   "cell_type": "code",
   "execution_count": 187,
   "metadata": {
    "vscode": {
     "languageId": "javascript"
    }
   },
   "outputs": [
    {
     "name": "stdout",
     "output_type": "stream",
     "text": [
      "Result: 31\n",
      "Result: -1\n"
     ]
    }
   ],
   "source": [
    "%%script node\n",
    "\n",
    "const text = \"Please make the payment at the cashier and ask for a receipt at the cash register.\";\n",
    "\n",
    "// The search process will start after the 18th character.\n",
    "console.log(`Result: ${text.indexOf(\"cash\", 18)}`);\n",
    "\n",
    "// The search process will start after the 21st character.\n",
    "console.log(`Result: ${text.lastIndexOf(\"cash\", 21)}`);\n"
   ]
  },
  {
   "cell_type": "markdown",
   "metadata": {},
   "source": [
    "#### <a id='toc1_5_3_3_'></a>[`search()` Method](#toc0_)\n",
    "\n",
    "Works similarly to the `indexOf()` method with the difference that the `indexOf()` method allows a second argument, whereas the `search()` method does not. Additionally, the `search()` method supports regular expressions, while the `indexOf()` method does not.\n",
    "\n",
    "**❗ Due to its support for regular expressions, the `search()` method is highly effective in searching string expressions.**\n",
    "\n",
    "**Example**\n"
   ]
  },
  {
   "cell_type": "code",
   "execution_count": 188,
   "metadata": {
    "vscode": {
     "languageId": "javascript"
    }
   },
   "outputs": [
    {
     "name": "stdout",
     "output_type": "stream",
     "text": [
      "Result: 31\n"
     ]
    }
   ],
   "source": [
    "%%script node\n",
    "\n",
    "const text = \"Please make the payment at the cashier and ask for a receipt at the cash register.\";\n",
    "\n",
    "// Returns the index value of the first match with the word \"cash\" within the string expression.\n",
    "console.log(`Result: ${text.search(/cash/)}`);\n"
   ]
  },
  {
   "cell_type": "markdown",
   "metadata": {},
   "source": [
    "#### <a id='toc1_5_3_4_'></a>[`match()` Method](#toc0_)\n",
    "\n",
    "Searches for another string within a string expression. If found, the process ends, and the result is returned in the form of an array data type.\n",
    "\n",
    "The `match()` method can be used with regular expressions. When used with the `g` flag, it looks at the entire string expression.\n",
    "\n",
    "**Example**\n"
   ]
  },
  {
   "cell_type": "code",
   "execution_count": 189,
   "metadata": {
    "vscode": {
     "languageId": "javascript"
    }
   },
   "outputs": [
    {
     "name": "stdout",
     "output_type": "stream",
     "text": [
      "Result: Hasan\n"
     ]
    }
   ],
   "source": [
    "%%script node\n",
    "\n",
    "const text = \"Hi my names Hasan\";\n",
    "\n",
    "/**\n",
    " * The word \"Hasan\" will be searched within the string expression, and if found, a summary information in the \n",
    " * form of an array data type will be printed to the console.\n",
    " */\n",
    "console.log(`Result: ${text.match(\"Hasan\")}`);\n",
    "\n"
   ]
  },
  {
   "cell_type": "markdown",
   "metadata": {},
   "source": [
    "In the example below, the usage of the `g` flag is demonstrated.\n",
    "\n",
    "**Example**\n"
   ]
  },
  {
   "cell_type": "code",
   "execution_count": 190,
   "metadata": {
    "vscode": {
     "languageId": "javascript"
    }
   },
   "outputs": [
    {
     "name": "stdout",
     "output_type": "stream",
     "text": [
      "Result: sunny,sunny\n"
     ]
    }
   ],
   "source": [
    "%%script node\n",
    "\n",
    "\n",
    "const text = \"Today weather is sunny and I liked sunny days.\";\n",
    "\n",
    "/** \n",
    " * The word \"sunny\" will be searched within the string expression, and if found, a summary information in the \n",
    " * form of an array data type will be printed to the console. The search process will continue until the end of \n",
    " * the string.\n",
    " */\n",
    "console.log(`Result: ${text.match(/sunny/g)}`);\n"
   ]
  },
  {
   "cell_type": "markdown",
   "metadata": {},
   "source": [
    "#### <a id='toc1_5_3_5_'></a>[`matchAll()` Method](#toc0_)\n",
    "\n",
    "Works similarly to the `match()` method, but the difference is that the `match()` method returns only the first match, while the `matchAll()` method returns all matches.\n",
    "\n",
    "**⚠️ The `matchAll()` method was introduced to JavaScript in the year 2020 and does not work in Internet Explorer.**\n",
    "\n",
    "**Example**\n"
   ]
  },
  {
   "cell_type": "code",
   "execution_count": 191,
   "metadata": {
    "vscode": {
     "languageId": "javascript"
    }
   },
   "outputs": [
    {
     "name": "stdout",
     "output_type": "stream",
     "text": [
      "[\n",
      "  [\n",
      "    \u001b[32m'sunny'\u001b[39m,\n",
      "    index: \u001b[33m17\u001b[39m,\n",
      "    input: \u001b[32m'Today weather is sunny and I liked sunny days.'\u001b[39m,\n",
      "    groups: \u001b[90mundefined\u001b[39m\n",
      "  ],\n",
      "  [\n",
      "    \u001b[32m'sunny'\u001b[39m,\n",
      "    index: \u001b[33m35\u001b[39m,\n",
      "    input: \u001b[32m'Today weather is sunny and I liked sunny days.'\u001b[39m,\n",
      "    groups: \u001b[90mundefined\u001b[39m\n",
      "  ]\n",
      "]\n"
     ]
    }
   ],
   "source": [
    "%%script node\n",
    "\n",
    "const text = \"Today weather is sunny and I liked sunny days.\";\n",
    "\n",
    "const result = text.matchAll(\"sunny\");\n",
    "\n",
    "/** \n",
    " * The word \"sunny\" will be searched within the string expression, and if found, a summary information in the \n",
    " * form of an array data type will be printed to the console. All results obtained from the search process will \n",
    " * be printed to the console.\n",
    " */\n",
    "console.log(Array.from(result));\n"
   ]
  },
  {
   "cell_type": "markdown",
   "metadata": {},
   "source": [
    "#### <a id='toc1_5_3_6_'></a>[`includes()` Method](#toc0_)\n",
    "\n",
    "Sometimes, we want to know if another string expression exists within a string expression. In such cases, we use the `includes()` method. If the content we are looking for is present in the string expression, the result is `true`; otherwise, it is `false`.\n",
    "\n",
    "**⚠️ The `includes()` method is case-sensitive. It was introduced to JavaScript with ES6 and is not supported by Internet Explorer.**\n",
    "\n",
    "**Example**\n"
   ]
  },
  {
   "cell_type": "code",
   "execution_count": 192,
   "metadata": {
    "vscode": {
     "languageId": "javascript"
    }
   },
   "outputs": [
    {
     "name": "stdout",
     "output_type": "stream",
     "text": [
      "Result: true\n",
      "Result: false\n"
     ]
    }
   ],
   "source": [
    "%%script node\n",
    "\n",
    "const text = \"Will Hasan go to school today?\";\n",
    "\n",
    "// Since the string expression contains the word \"Hasan\", the result will be true.\n",
    "console.log(`Result: ${text.includes(\"Hasan\")}`);\n",
    "\n",
    "// Since the string expression does not contain the word \"Samed\", the result will be false.\n",
    "console.log(`Result: ${text.includes(\"Samed\")}`);\n"
   ]
  },
  {
   "cell_type": "markdown",
   "metadata": {},
   "source": [
    "#### <a id='toc1_5_3_7_'></a>[`endsWith()` Method](#toc0_)\n",
    "\n",
    "Sometimes, we want to know if the end of a string expression matches a specific content. In such cases, the `endsWith()` method is used. If the end of the string expression matches the specified parameter, the result is `true`; otherwise, the result is `false`.\n",
    "\n",
    "**Example**\n"
   ]
  },
  {
   "cell_type": "code",
   "execution_count": 193,
   "metadata": {
    "vscode": {
     "languageId": "javascript"
    }
   },
   "outputs": [
    {
     "name": "stdout",
     "output_type": "stream",
     "text": [
      "Result: true\n",
      "Result: false\n"
     ]
    }
   ],
   "source": [
    "%%script node\n",
    "\n",
    "const text = \"Will Hasan go to school today?\";\n",
    "\n",
    "// Since the end of the text variable is \"today?\", the result will be true.\n",
    "console.log(`Result: ${text.endsWith(\"today?\")}`);\n",
    "\n",
    "// Since the end of the text variable does not match \"Hasan\", the result will be false.\n",
    "console.log(`Result: ${text.endsWith(\"Hasan\")}`);\n",
    "\n"
   ]
  },
  {
   "cell_type": "markdown",
   "metadata": {},
   "source": [
    "#### <a id='toc1_5_3_8_'></a>[`startsWith()` Method](#toc0_)\n",
    "\n",
    "Works similarly to the `endsWith()` method. The difference is that the operation is performed starting from the beginning of the string expression.\n",
    "\n",
    "**Example**\n"
   ]
  },
  {
   "cell_type": "code",
   "execution_count": 194,
   "metadata": {
    "vscode": {
     "languageId": "javascript"
    }
   },
   "outputs": [
    {
     "name": "stdout",
     "output_type": "stream",
     "text": [
      "Result: false\n",
      "Result: true\n"
     ]
    }
   ],
   "source": [
    "%%script node\n",
    "\n",
    "const text = \"Will Hasan go to school today?\";\n",
    "\n",
    "// Since the beginning of the text variable does not match \"today?\", the result will be false.\n",
    "console.log(`Result: ${text.startsWith(\"today?\")}`);\n",
    "\n",
    "// Since the beginning of the text variable matches \"Will\", the result will be true.\n",
    "console.log(`Result: ${text.startsWith(\"Will\")}`);\n"
   ]
  },
  {
   "cell_type": "markdown",
   "metadata": {},
   "source": [
    "**⚠️ The `startsWith()` and `endsWith()` methods were introduced to JavaScript with ES6. Both methods are case-sensitive and are not supported by Internet Explorer.**\n"
   ]
  },
  {
   "cell_type": "markdown",
   "metadata": {},
   "source": [
    "## <a id='toc1_6_'></a>[Summary](#toc0_)\n",
    "\n",
    "In this section, we focused on commonly used string methods in JavaScript. Methods like `replace()` are used to replace specific expressions with another expression within a string. Such methods, when combined with regular expressions, provide flexibility and compatibility with more complex patterns.\n",
    "\n",
    "We also learned various methods for character-based operations on string expressions. While `indexOf()` is used to find the position of a specific character or substring, `substring()` is used to get a specific substring, and `charAt()` is used to retrieve the character at a specific position.\n",
    "\n",
    "For searching another string within a string, we covered methods such as `indexOf()`, `includes()`, `startsWith()`, and `endsWith()`. These methods are useful for checking specific patterns between string expressions or finding parts that match a particular expression.\n",
    "\n",
    "In conclusion, understanding the usage of the string data type, template literals, its immutable property, its relation with numerical values, and various methods in JavaScript covers a broad range of string operations. Understanding these concepts is essential for effectively utilizing text processing capabilities in JavaScript programming.\n"
   ]
  },
  {
   "cell_type": "markdown",
   "metadata": {},
   "source": [
    "[^1]: JavaScript'de ters eğik çizgi (backslash) karakteri (\\), özellikle metin (string) dizileri içerisinde özel karakterleri veya kontrol dizilerini temsil etmek için kullanılır. Ters eğik çizgi, ardışık karakterlerin veya özel anlamları olan karakterlerin kaçış (escape) dizilerini oluşturur.\n",
    "\n",
    "[^2]: JavaScript'te \"interpolation\", genellikle bir dizede değişken veya ifadelerin değerlerini içine yerleştirmek anlamına gelir. Bu, dize oluştururken bir dize içinde değişken veya ifadelerin değerlerini dinamik olarak eklemenizi sağlar. Template literals (şablon dizgileri), bu tür bir değer yerleştirme (interpolation) için ES6 ile birlikte JavaScript'e eklenmiştir. Template literals içinde, süslü parantez içindeki ifadeler veya değişkenler, dize içinde değerleriyle yer değiştirir.\n",
    "\n",
    "[^3]: Düzenli ifadeler (Regular Expressions veya Regex), metinle ilgili desenleri tanımlamak için kullanılan bir dildir. Bu desenler, metin içinde belirli karakterleri bulma, değiştirme, eşleştirme veya çıkarma gibi işlemleri gerçekleştirmek için kullanılır. Regex, metin madde analizi, veri madenciliği, metin ve dizge işleme gibi birçok uygulama alanında yaygın olarak kullanılır.\n"
   ]
  }
 ],
 "metadata": {
  "kernelspec": {
   "display_name": "Python 3",
   "language": "python",
   "name": "python3"
  },
  "language_info": {
   "codemirror_mode": {
    "name": "ipython",
    "version": 3
   },
   "file_extension": ".py",
   "mimetype": "text/x-python",
   "name": "python",
   "nbconvert_exporter": "python",
   "pygments_lexer": "ipython3",
   "version": "3.10.12"
  }
 },
 "nbformat": 4,
 "nbformat_minor": 2
}
