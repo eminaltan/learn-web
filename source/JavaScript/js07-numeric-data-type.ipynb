{
  "cells": [
    {
      "cell_type": "markdown",
      "metadata": {},
      "source": [
        "# JavaScript Number Data Type Concept<a id='toc0_'></a>\n",
        "\n",
        "In this section, we will delve into the details of the **_number_** data type in JavaScript.\n",
        "\n",
        "In this article, we'll cover:\n",
        "\n",
        "- [JavaScript Number Data Type](#toc1_1_)\n",
        "  - [Exponential Notation](#toc1_1_1_)\n",
        "  - [JavaScript Precision Concept and Types](#toc1_1_2_)\n",
        "    - [Integer Precision](#toc1_1_2_1_)\n",
        "    - [Float Precision](#toc1_1_2_2_)\n",
        "  - [JavaScript Numeric String Values](#toc1_1_3_)\n",
        "  - [JavaScript `NaN` Not a Number Term](#toc1_1_4_)\n",
        "  - [JavaScript Infinity](#toc1_1_5_)\n",
        "  - [JavaScript Hexadecimal Values](#toc1_1_6_)\n",
        "- [JavaScript Number Data Type as Object Data Type](#toc1_2_)\n",
        "- [JavaScript Number Methods](#toc1_3_)\n",
        "  - [`toString()` Method](#toc1_3_1_)\n",
        "  - [`toExponential()` Method](#toc1_3_2_)\n",
        "  - [`toFixed()` Method](#toc1_3_3_)\n",
        "  - [`toPrecision()` Method](#toc1_3_4_)\n",
        "  - [`valueOf()` Method](#toc1_3_5_)\n",
        "  - [Converting Values to Number Data Type](#toc1_3_6_)\n",
        "  - [`Number()` Method](#toc1_3_7_)\n",
        "    - [`parseInt()` Method](#toc1_3_7_1_)\n",
        "    - [`parseFloat()` Method](#toc1_3_7_2_)\n",
        "  - [Methods Usage of Number Objects](#toc1_3_8_)\n",
        "    - [`Number.isInteger()` Method](#toc1_3_8_1_)\n",
        "    - [`Number.isSafeInteger()` Method](#toc1_3_8_2_)\n",
        "    - [`Number.parseFloat()` Method](#toc1_3_8_3_)\n",
        "    - [`Number.parseInt()` Method](#toc1_3_8_4_)\n",
        "- [Summary](#toc1_4_)\n",
        "\n",
        "I hope you enjoy reading.\n",
        "\n",
        "Yazının Türkçe versiyonu için [linke](tr-js07-numeric-data-type.ipynb) tıklayabilirsiniz.\n",
        "\n",
        "<!-- vscode-jupyter-toc-config\n",
        "\tnumbering=false\n",
        "\tanchor=true\n",
        "\tflat=false\n",
        "\tminLevel=1\n",
        "\tmaxLevel=6\n",
        "\t/vscode-jupyter-toc-config -->\n",
        "<!-- THIS CELL WILL BE REPLACED ON TOC UPDATE. DO NOT WRITE YOUR TEXT IN THIS CELL -->\n"
      ]
    },
    {
      "cell_type": "markdown",
      "metadata": {},
      "source": [
        "## <a id='toc1_1_'></a>[JavaScript Number Data Type](#toc0_)\n",
        "\n",
        "JavaScript consist of two numerical data types. One data type is **_BigInt_** and another data type is **_number_**. In this section, we will be examining the **_number_** data type.\n",
        "\n",
        "The number data type is primitive and has an **_immutable_** structure, meaning it cannot be changed.\n",
        "\n",
        "Values with the number data type in JavaScript can be expressed as decimals or integers.\n",
        "\n",
        "**Example**\n"
      ]
    },
    {
      "cell_type": "code",
      "execution_count": 1,
      "metadata": {
        "vscode": {
          "languageId": "javascript"
        }
      },
      "outputs": [
        {
          "name": "stdout",
          "output_type": "stream",
          "text": [
            "Are x and y equal in both data type and value: true\n"
          ]
        }
      ],
      "source": [
        "%%script node\n",
        "\n",
        "// Both variables store the same value and have the same data type.\n",
        "let x = 20.0;\n",
        "let y = 20;\n",
        "\n",
        "// \"true\" expression will be printed to the console.\n",
        "console.log(`Are x and y equal in both data type and value: ${x === y}`);\n"
      ]
    },
    {
      "cell_type": "markdown",
      "metadata": {},
      "source": [
        "**⚠️ In many programming languages, numerical values are categorized as byte (8-bit), short (16-bit), int (32-bit), long (64-bit).**\n",
        "\n",
        "**Javascript numbers are always one type: double (64-bit floating point).**\n"
      ]
    },
    {
      "cell_type": "markdown",
      "metadata": {},
      "source": [
        "### <a id='toc1_1_1_'></a>[Exponential Notation](#toc0_)\n",
        "\n",
        "Very large numerical values can be expressed in scientific notation.\n",
        "\n",
        "**Example**\n"
      ]
    },
    {
      "cell_type": "code",
      "execution_count": 2,
      "metadata": {
        "vscode": {
          "languageId": "javascript"
        }
      },
      "outputs": [
        {
          "name": "stdout",
          "output_type": "stream",
          "text": [
            "Value of variable y: 12300000\n",
            "Value of variable z: 0.00123\n"
          ]
        }
      ],
      "source": [
        "%%script node\n",
        "\n",
        "let y = 123e5;\n",
        "\n",
        "// The value 12300000 is printed to the console.\n",
        "console.log(`Value of variable y: ${y}`);\n",
        "\n",
        "let z = 123e-5; // 0.00123\n",
        "\n",
        "// The value 0.00123 is printed to the console.\n",
        "console.log(`Value of variable z: ${z}`);\n"
      ]
    },
    {
      "cell_type": "markdown",
      "metadata": {},
      "source": [
        "**⚠️ Remember that when a numeric string value is included in a mathematical expression, the result data type will be string.**\n",
        "\n",
        "**This situation varies depending on the usage and operator type of numeric string values. For detailed information, you can visit the [JavaScript Numeric String Values](#javascript-numeric-string-values) section.**\n",
        "\n",
        "**Example**\n"
      ]
    },
    {
      "cell_type": "code",
      "execution_count": 3,
      "metadata": {
        "vscode": {
          "languageId": "javascript"
        }
      },
      "outputs": [
        {
          "name": "stdout",
          "output_type": "stream",
          "text": [
            "Result: 1020\n"
          ]
        }
      ],
      "source": [
        "%%script node\n",
        "\n",
        "let x = 10;\n",
        "let y = 20;\n",
        "let z = \"Result: \" + x + y;\n",
        "\n",
        "// The expression will be printed to the console as \"Result: 1020\".\n",
        "console.log(z);\n"
      ]
    },
    {
      "cell_type": "markdown",
      "metadata": {},
      "source": [
        "### <a id='toc1_1_2_'></a>[JavaScript Precision Concept and Types](#toc0_)\n",
        "\n",
        "In JavaScript, **_precision_** is a term used to denote the accuracy of decimal places in numbers or the number of digits used to represent fractional numbers. This term is particularly important in mathematical operations involving numbers that require precision.\n",
        "\n",
        "**In JavaScript, there are 2 types of precision:**\n",
        "\n",
        "- Integer\n",
        "\n",
        "- Floating\n",
        "\n",
        "Now, let's delve into each of them.\n"
      ]
    },
    {
      "cell_type": "markdown",
      "metadata": {},
      "source": [
        "#### <a id='toc1_1_2_1_'></a>[Integer Precision](#toc0_)\n",
        "\n",
        "Integer data type has numerical accuracy up to 15 digits unless expressed in decimal or scientific notation.\n",
        "\n",
        "**Example**\n"
      ]
    },
    {
      "cell_type": "code",
      "execution_count": 5,
      "metadata": {
        "vscode": {
          "languageId": "javascript"
        }
      },
      "outputs": [
        {
          "name": "stdout",
          "output_type": "stream",
          "text": [
            "Value of x: 999999999999999\n",
            "Length of x: 15\n",
            "Value of y: 10000000000000000\n",
            "Length of y: 17\n"
          ]
        }
      ],
      "source": [
        "%%script node\n",
        "\n",
        "let x = \"999999999999999\";\n",
        "\n",
        "console.log(`Value of x: ${x}`);\n",
        "console.log(`Length of x: ${x.toString().length}`);\n",
        "\n",
        "let y = 9999999999999999;\n",
        "\n",
        "console.log(`Value of y: ${y}`);\n",
        "console.log(`Length of y: ${y.toString().length}`);\n"
      ]
    },
    {
      "cell_type": "markdown",
      "metadata": {},
      "source": [
        "As seen above, the variable `x` correctly preserves the value it stores up to the 15th digit. However, the same is not true for the variable `y`. The `y` variable consists of 17 digits, causing its value to round up to the next digit.\n",
        "\n",
        "In decimal values, the maximum number of digits it can reach is 17.\n"
      ]
    },
    {
      "cell_type": "markdown",
      "metadata": {},
      "source": [
        "#### <a id='toc1_1_2_2_'></a>[Float Precision](#toc0_)\n",
        "\n",
        "Used for floating-point values.\n",
        "\n",
        "**❗ The result of arithmetic operations with floating-point numbers may not be 100% accurate.**\n",
        "\n",
        "**Example**\n"
      ]
    },
    {
      "cell_type": "code",
      "execution_count": 6,
      "metadata": {
        "vscode": {
          "languageId": "javascript"
        }
      },
      "outputs": [
        {
          "name": "stdout",
          "output_type": "stream",
          "text": [
            "Value of variable x: 0.30000000000000004\n",
            "Value of variable y: 0.3\n"
          ]
        }
      ],
      "source": [
        "%%script node\n",
        "\n",
        "let x = 0.2 + 0.1;\n",
        "\n",
        "// The value 0.30000000000000004 will be printed to the console.\n",
        "console.log(`Value of variable x: ${x}`);\n",
        "\n",
        "/**\n",
        " * To solve this issue, the floating-point number is converted to an integer, the arithmetic \n",
        " * operation is performed and finally, the obtained value is divided by the desired numerical \n",
        " * system.\n",
        " */\n",
        "\n",
        "// Floating-point numbers are converted to the decimal system.\n",
        "let y = (0.2 * 10 + 0.1 * 10) / 10;\n",
        "\n",
        "// The value 0.3 will be printed to the console.\n",
        "console.log(`Value of variable y: ${y}`);\n"
      ]
    },
    {
      "cell_type": "markdown",
      "metadata": {},
      "source": [
        "### <a id='toc1_1_3_'></a>[JavaScript Numeric String Values](#toc0_)\n",
        "\n",
        "Number data type can consist of string values. In such cases, these number values are referred to as **_numeric string values_**.\n",
        "\n",
        "**❗ Numeric string values can be converted to the number data type, and mathematical operations can be performed using arithmetic operators. The result will be of the number data type.**\n",
        "\n",
        "**Note that this is not applicable to the `+` operator, as the `+` operator performs concatenation for string values.**\n",
        "\n",
        "**Example**\n"
      ]
    },
    {
      "cell_type": "code",
      "execution_count": 7,
      "metadata": {
        "vscode": {
          "languageId": "javascript"
        }
      },
      "outputs": [
        {
          "name": "stdout",
          "output_type": "stream",
          "text": [
            "Result: 10 data type of the result: number\n",
            "Result: 1000 data type of the result: number\n",
            "Result: 90 data type of the result: number\n",
            "Result: 10010 data type of the result: string\n"
          ]
        }
      ],
      "source": [
        "%%script node\n",
        "\n",
        "let x = \"100\";\n",
        "let y = \"10\";\n",
        "\n",
        "// The digit 10 will be printed to the console.\n",
        "console.log(`Result: ${(x / y)} data type of the result: ${typeof (x / y)}`);\n",
        "\n",
        "// The digit 1000 will be printed to the console.\n",
        "console.log(`Result: ${(x * y)} data type of the result: ${typeof (x * y)}`);\n",
        "\n",
        "// The digit 90 will be printed to the console.\n",
        "console.log(`Result: ${(x - y)} data type of the result: ${typeof (x - y)}`);\n",
        "\n",
        "// ⚠️ The digit 10010 will be printed to the console. Note that the data type of the result is a string.\n",
        "console.log(`Result: ${(x + y)} data type of the result: ${typeof (x + y)}`);\n"
      ]
    },
    {
      "cell_type": "markdown",
      "metadata": {},
      "source": [
        "### <a id='toc1_1_4_'></a>[JavaScript `NaN` Not a Number Term](#toc0_)\n",
        "\n",
        "The `NaN` value is a reserved keyword in JavaScript and cannot be used as an identifier (for example, a variable name cannot start with `NaN`).\n",
        "\n",
        "The `NaN` value is used to indicate that the result of an arithmetic operation is not a valid number or cannot produce a numerical or numeric result.\n",
        "\n",
        "**Example**\n"
      ]
    },
    {
      "cell_type": "code",
      "execution_count": 8,
      "metadata": {
        "vscode": {
          "languageId": "javascript"
        }
      },
      "outputs": [
        {
          "name": "stdout",
          "output_type": "stream",
          "text": [
            "Result: NaN\n"
          ]
        }
      ],
      "source": [
        "%%script node\n",
        "\n",
        "/**\n",
        " * The NaN expression will be printed to the console. Because the result of the 10/Truck expression is not a \n",
        " * valid number or numeric value.\n",
        " */\n",
        "console.log(`Result: ${10 / \"Truck\"}`);\n"
      ]
    },
    {
      "cell_type": "markdown",
      "metadata": {},
      "source": [
        "**⚠️ This situation changes when the string value is numeric and the operation produces a valid result.**\n",
        "\n",
        "**Example**\n"
      ]
    },
    {
      "cell_type": "code",
      "execution_count": 9,
      "metadata": {
        "vscode": {
          "languageId": "javascript"
        }
      },
      "outputs": [
        {
          "name": "stdout",
          "output_type": "stream",
          "text": [
            "Result: 5\n"
          ]
        }
      ],
      "source": [
        "%%script node\n",
        "\n",
        "// The digit 5 will be printed to the console.\n",
        "console.log(`Result: ${100 / \"20\"}`);\n"
      ]
    },
    {
      "cell_type": "markdown",
      "metadata": {},
      "source": [
        "When performing arithmetic operations with an expression that results in `NaN`, the final result will also be `NaN`.\n",
        "\n",
        "**Example**\n"
      ]
    },
    {
      "cell_type": "code",
      "execution_count": 10,
      "metadata": {
        "vscode": {
          "languageId": "javascript"
        }
      },
      "outputs": [
        {
          "name": "stdout",
          "output_type": "stream",
          "text": [
            "Result: NaN\n"
          ]
        }
      ],
      "source": [
        "%%script node\n",
        "\n",
        "let x = NaN;\n",
        "\n",
        "let y = 10;\n",
        "\n",
        "let z = x + y;\n",
        "\n",
        "// The NaN expression will be printed to the console.\n",
        "console.log(`Result: ${z}`);\n"
      ]
    },
    {
      "cell_type": "markdown",
      "metadata": {},
      "source": [
        "The data type of the `NaN` expression is number. If we use the `typeOf()` method for `NaN`, the console will print the \"number\" expression.\n",
        "\n",
        "**Example**\n"
      ]
    },
    {
      "cell_type": "code",
      "execution_count": 11,
      "metadata": {
        "vscode": {
          "languageId": "javascript"
        }
      },
      "outputs": [
        {
          "name": "stdout",
          "output_type": "stream",
          "text": [
            "Data type of NaN: number\n"
          ]
        }
      ],
      "source": [
        "%%script node\n",
        "\n",
        "// The console will print the \"number\" expression.\n",
        "console.log(`Data type of NaN: ${typeof NaN}`);\n"
      ]
    },
    {
      "cell_type": "markdown",
      "metadata": {},
      "source": [
        "We can check to result of an expression `NaN` or not with using the `isNaN()` method.\n",
        "\n",
        "If the result of the expression has stored the `NaN` value, the `isNaN()` function returns `true`; otherwise, it returns `false`.\n",
        "\n",
        "**Example**\n"
      ]
    },
    {
      "cell_type": "code",
      "execution_count": 62,
      "metadata": {
        "vscode": {
          "languageId": "javascript"
        }
      },
      "outputs": [
        {
          "name": "stdout",
          "output_type": "stream",
          "text": [
            "Is variable z NaN?: true\n",
            "Is variable m NaN?: false\n"
          ]
        }
      ],
      "source": [
        "%%script node\n",
        "\n",
        "// The result of the operation will be NaN, and the NaN value will be stored in the z variable.\n",
        "let z = 20 / \"Pen\";\n",
        "\n",
        "/**\n",
        " * We check whether the variable z is NaN or not using the isNaN() method. Since the z variable has the NaN \n",
        " * property, the result will be printed as true to the console.\n",
        " */\n",
        "console.log(`Is variable z NaN?: ${isNaN(z)}`);\n",
        "\n",
        "let m = \"10\" / 5;\n",
        "\n",
        "// The console will print false because the result of the operation produces a value.\n",
        "console.log(`Is variable m NaN?: ${isNaN(m)}`);\n"
      ]
    },
    {
      "cell_type": "markdown",
      "metadata": {},
      "source": [
        "### <a id='toc1_1_5_'></a>[JavaScript Infinity](#toc0_)\n",
        "\n",
        "It is used to express the maximum or minimum value a variable can take.\n",
        "\n",
        "The `infinity` keyword can be especially useful in `while` loops where we cannot precisely determine the exit condition.\n",
        "\n",
        "**Example**\n"
      ]
    },
    {
      "cell_type": "code",
      "execution_count": 13,
      "metadata": {
        "vscode": {
          "languageId": "javascript"
        }
      },
      "outputs": [
        {
          "name": "stdout",
          "output_type": "stream",
          "text": [
            "Result: 4\n",
            "Result: 16\n",
            "Result: 256\n",
            "Result: 65536\n",
            "Result: 4294967296\n",
            "Result: 18446744073709552000\n",
            "Result: 3.402823669209385e+38\n",
            "Result: 1.157920892373162e+77\n",
            "Result: 1.3407807929942597e+154\n",
            "Result: Infinity\n"
          ]
        }
      ],
      "source": [
        "%%script node\n",
        "\n",
        "let myNumber = 2;\n",
        "\n",
        "// The loop runs until the result becomes Infinity. The loop ends when the result becomes Infinity.\n",
        "while (myNumber != Infinity) {\n",
        "  myNumber = myNumber * myNumber;\n",
        "  console.log(`Result: ${myNumber}`);\n",
        "};\n"
      ]
    },
    {
      "cell_type": "markdown",
      "metadata": {},
      "source": [
        "### <a id='toc1_1_6_'></a>[JavaScript Hexadecimal Values](#toc0_)\n",
        "\n",
        "**_Hexadecimal_**[^1] values a type of number in JavaScript.\n",
        "\n",
        "Hexadecimal values are automatically converted to numerical values.\n",
        "\n",
        "**Example**\n"
      ]
    },
    {
      "cell_type": "code",
      "execution_count": 14,
      "metadata": {
        "vscode": {
          "languageId": "javascript"
        }
      },
      "outputs": [
        {
          "name": "stdout",
          "output_type": "stream",
          "text": [
            "Numerical equivalent of 0xff: 255\n"
          ]
        }
      ],
      "source": [
        "%%script node\n",
        "\n",
        "// The digit 255 will be printed to the console.\n",
        "console.log(`Numerical equivalent of 0xff: ${0xff}`);\n"
      ]
    },
    {
      "cell_type": "markdown",
      "metadata": {},
      "source": [
        "**💡 Arithmetic operators can be used among hexadecimal values.**\n",
        "\n",
        "**Example**\n"
      ]
    },
    {
      "cell_type": "code",
      "execution_count": 15,
      "metadata": {
        "vscode": {
          "languageId": "javascript"
        }
      },
      "outputs": [
        {
          "name": "stdout",
          "output_type": "stream",
          "text": [
            "Numerical equivalent of variable x: 204\n",
            "Numerical equivalent of variable y: 188\n",
            "Result of x - y: 16\n",
            "Result of x + y: 392\n",
            "Result of x * y: 38352\n",
            "Result of x / y: 1.0851063829787233\n"
          ]
        }
      ],
      "source": [
        "%%script node\n",
        "\n",
        "let x = 0xcc;\n",
        "console.log(`Numerical equivalent of variable x: ${parseInt(x, 10)}`);\n",
        "\n",
        "let y = 0xbc;\n",
        "console.log(`Numerical equivalent of variable y: ${parseInt(y, 10)}`);\n",
        "\n",
        "// Subtraction operation between hexadecimal values.\n",
        "console.log(`Result of x - y: ${x - y}`);\n",
        "\n",
        "// Addition operation between hexadecimal values.\n",
        "console.log(`Result of x + y: ${x + y}`);\n",
        "\n",
        "// Multiplication operation between hexadecimal values.\n",
        "console.log(`Result of x * y: ${x * y}`);\n",
        "\n",
        "// Division operation between hexadecimal values.\n",
        "console.log(`Result of x / y: ${x / y}`);\n"
      ]
    },
    {
      "cell_type": "markdown",
      "metadata": {},
      "source": [
        "**⚠️ When using hexadecimal values, it is advisable not to use a numerical value after the `0` digit (`07`, for example). This is because some JavaScript interpreters interpret the expression not as a hexadecimal format but as an **_octal_**[^2] format.**\n",
        "\n",
        "The data types of variables with the number data type will also be number.\n",
        "\n",
        "**Example**\n"
      ]
    },
    {
      "cell_type": "code",
      "execution_count": 16,
      "metadata": {
        "vscode": {
          "languageId": "javascript"
        }
      },
      "outputs": [
        {
          "name": "stdout",
          "output_type": "stream",
          "text": [
            "Data type of x: number\n",
            "Data type of y: string\n"
          ]
        }
      ],
      "source": [
        "%%script node\n",
        "\n",
        "const x = 5;\n",
        "\n",
        "console.log(`Data type of x: ${typeof x}`);\n",
        "\n",
        "const y = \"5\";\n",
        "\n",
        "// ⚠️ Note the data type of y.\n",
        "console.log(`Data type of y: ${typeof y}`);\n"
      ]
    },
    {
      "cell_type": "markdown",
      "metadata": {},
      "source": [
        "## <a id='toc1_2_'></a>[JavaScript Number Data Type as Object Data Type](#toc0_)\n",
        "\n",
        "As we know, variables with the number data type in JavaScript are normally **_immutable_**, primitive, and depending on the number type can also consist with string data types.\n",
        "\n",
        "However, number data types in the form of objects can be created using the `new` keyword.\n",
        "\n",
        "**⚠️ The data type of a number-type variable created in the object data type is different from that of a number-type variable created using the normal method.**\n",
        "\n",
        "**Example**\n"
      ]
    },
    {
      "cell_type": "code",
      "execution_count": 20,
      "metadata": {
        "vscode": {
          "languageId": "javascript"
        }
      },
      "outputs": [
        {
          "name": "stdout",
          "output_type": "stream",
          "text": [
            "Stored value of the number variable: 20\n",
            "Data type of the number variable: object\n",
            "Stored value of the number2 variable: 20\n",
            "Data type of the number2 variable: number\n"
          ]
        }
      ],
      "source": [
        "%%script node\n",
        "\n",
        "// Data type of number variable is object.\n",
        "let number = new Number(20);\n",
        "\n",
        "console.log(`Stored value of the number variable: ${number}`);\n",
        "console.log(`Data type of the number variable: ${typeof number}`);\n",
        "\n",
        "let number2 = 20;\n",
        "\n",
        "console.log(`Stored value of the number2 variable: ${number2}`);\n",
        "console.log(`Data type of the number2 variable: ${typeof number2}`);\n"
      ]
    },
    {
      "cell_type": "markdown",
      "metadata": {},
      "source": [
        "**❗ It is not recommended to use numbers form of object data type. Especially when an expressions has a logical operators then unexpected results may occur.**\n",
        "\n",
        "**In addition, it will slow down the execution of code blocks due to complicating the code.**\n",
        "\n",
        "**When comparing two variables in the object data type, the result will always be `false`.**\n",
        "\n",
        "**Example**\n"
      ]
    },
    {
      "cell_type": "code",
      "execution_count": 22,
      "metadata": {
        "vscode": {
          "languageId": "javascript"
        }
      },
      "outputs": [
        {
          "name": "stdout",
          "output_type": "stream",
          "text": [
            "Are names and names2 equal in terms of both data type and content?: false\n"
          ]
        }
      ],
      "source": [
        "%%script node\n",
        "\n",
        "const names = new String(\"Candan\");\n",
        "const names2 = new String(\"Candan\");\n",
        "\n",
        "// Even though both variables have the same type and content, they are not equal when compared in terms of type.\n",
        "console.log(`Are names and names2 equal in terms of both data type and content?: ${names === names2}`);\n"
      ]
    },
    {
      "cell_type": "markdown",
      "metadata": {},
      "source": [
        "## <a id='toc1_3_'></a>[JavaScript Number Methods](#toc0_)\n",
        "\n",
        "Sometimes, we may want to convert a number value to a string or convert a numeric string value to the number data type. JavaScript provides predefined methods that allow us to perform such operations. In this section, we will explore some commonly used methods that facilitate operations on number values.\n"
      ]
    },
    {
      "cell_type": "markdown",
      "metadata": {},
      "source": [
        "### <a id='toc1_3_1_'></a>[`toString()` Method](#toc0_)\n",
        "\n",
        "Converts a value of the number data type to the string data type.\n",
        "\n",
        "**Example**\n"
      ]
    },
    {
      "cell_type": "code",
      "execution_count": 23,
      "metadata": {
        "vscode": {
          "languageId": "javascript"
        }
      },
      "outputs": [
        {
          "name": "stdout",
          "output_type": "stream",
          "text": [
            "Data type of the num variable: string\n"
          ]
        }
      ],
      "source": [
        "%%script node\n",
        "\n",
        "const num = 5;\n",
        "\n",
        "// The num variable will be converted to the string data type, and the data type will be printed to the console.\n",
        "console.log(`Data type of the num variable: ${typeof (num.toString())}`);\n"
      ]
    },
    {
      "cell_type": "markdown",
      "metadata": {},
      "source": [
        "### <a id='toc1_3_2_'></a>[`toExponential()` Method](#toc0_)\n",
        "\n",
        "This method is used to represent a number in exponential notation. In this case, the value is represented in scientific notation, consisting of two parts: the base and the exponent.\n",
        "\n",
        "**💡 This method is particularly useful for displaying large or small numbers in a shorter and more meaningful format. It is commonly employed in scientific and mathematical calculations to represent large or very small numbers in a more readable format.**\n",
        "\n",
        "**Example**\n"
      ]
    },
    {
      "cell_type": "code",
      "execution_count": 25,
      "metadata": {
        "vscode": {
          "languageId": "javascript"
        }
      },
      "outputs": [
        {
          "name": "stdout",
          "output_type": "stream",
          "text": [
            "Result: 1.23456e+5\n"
          ]
        }
      ],
      "source": [
        "%%script node\n",
        "\n",
        "let num = 123456;\n",
        "\n",
        "// The number in scientific notation represents 10 to the power of 5. (1.23456 x 10^5) \n",
        "let scienceNotation = num.toExponential();\n",
        "console.log(`Result: ${scienceNotation}`);\n"
      ]
    },
    {
      "cell_type": "markdown",
      "metadata": {},
      "source": [
        "`toExponential()` method can be used with a parameter. In this case, the parameter represents the number of decimal places.\n",
        "\n",
        "**Example**\n"
      ]
    },
    {
      "cell_type": "code",
      "execution_count": 26,
      "metadata": {
        "vscode": {
          "languageId": "javascript"
        }
      },
      "outputs": [
        {
          "name": "stdout",
          "output_type": "stream",
          "text": [
            "Result: 1.23e+5\n",
            "Data type of scienceNotation: string\n"
          ]
        }
      ],
      "source": [
        "%%script node\n",
        "\n",
        "let num = 123456;\n",
        "\n",
        "// Since the number of decimal places is set to 2, the resulting exponential notation will have 2 decimal places.\n",
        "let scienceNotation = num.toExponential(2);\n",
        "console.log(`Result: ${scienceNotation}`);\n",
        "\n",
        "// ⚠️ The toExponential() method returns the result in the string data type.\n",
        "console.log(`Data type of scienceNotation: ${typeof scienceNotation}`);\n"
      ]
    },
    {
      "cell_type": "markdown",
      "metadata": {},
      "source": [
        "### <a id='toc1_3_3_'></a>[`toFixed()` Method](#toc0_)\n",
        "\n",
        "It is used to round the decimal part of a numerical value.\n",
        "\n",
        "If no argument is used within the method, it returns the integer part of the decimal value. When an argument is used, it returns the specified number of digits from the decimal part.\n",
        "\n",
        "**❗ The `toFixed()` method returns a value in the string data type. Therefore, before performing mathematical operations, it should be converted to a numerical value; otherwise, it may not return the expected value in mathematical expressions.**\n",
        "\n",
        "**Example**"
      ]
    },
    {
      "cell_type": "code",
      "execution_count": 27,
      "metadata": {
        "vscode": {
          "languageId": "javascript"
        }
      },
      "outputs": [
        {
          "name": "stdout",
          "output_type": "stream",
          "text": [
            "Integer part of the num variable: 5\n",
            "Decimal part of the num variable: 5.2\n",
            "Decimal part of the num variable: 5.19\n",
            "Decimal part of the num variable: 5.193\n"
          ]
        }
      ],
      "source": [
        "%%script node\n",
        "\n",
        "const num = 5.1934;\n",
        "\n",
        "// The integer part of the variable will be returned.\n",
        "console.log(`Integer part of the num variable: ${num.toFixed(0)}`);\n",
        "\n",
        "// The decimal part of the variable is rounded to 1 digit.\n",
        "console.log(`Decimal part of the num variable: ${num.toFixed(1)}`);\n",
        "\n",
        "/** \n",
        " * The decimal part of the variable is rounded to 2 digits. ⚠️ Note that as you increase the decimal precision, \n",
        " * the precision also increases.\n",
        " */\n",
        "console.log(`Decimal part of the num variable: ${num.toFixed(2)}`);\n",
        "\n",
        "// Printing the data type of the num variable with the decimal part rounded to 3 digits.\n",
        "console.log(`Decimal part of the num variable: ${num.toFixed(3)}`);\n"
      ]
    },
    {
      "cell_type": "markdown",
      "metadata": {},
      "source": [
        "### <a id='toc1_3_4_'></a>[`toPrecision()` Method](#toc0_)\n",
        "\n",
        "The `toPrecision()` method considers the argument value provided and returns the total number of digits for a given number.\n",
        "\n",
        "The argument used in the `toPrecision()` method specifies the total number of digits, allowing control over the overall precision of the number, including both the decimal and integer parts. If the number of digits in the integer part of the number is insufficient, the decimal part may extend to more digits.\n",
        "\n",
        "When used with decimal numbers, it may round the number to reach the specified number of digits.\n",
        "\n",
        "This method is particularly useful in cases where numbers need to be expressed with a specific precision. However, caution is advised because this method can cause rounding of the number, leading to unintended results in calculations.\n",
        "\n",
        "The `toPrecision()` method returns a value in the string data type.\n",
        "\n",
        "**Example**"
      ]
    },
    {
      "cell_type": "code",
      "execution_count": 28,
      "metadata": {
        "vscode": {
          "languageId": "javascript"
        }
      },
      "outputs": [
        {
          "name": "stdout",
          "output_type": "stream",
          "text": [
            "Value of the num variable: 9.656\n",
            "First 2 digits of the num variable: 9.7\n",
            "First 4 digits of the num variable: 9.656\n",
            "First 6 digits of the num variable: 9.65600\n"
          ]
        }
      ],
      "source": [
        "%%script node\n",
        "\n",
        "const num = 9.656;\n",
        "\n",
        "// The value of the num variable is printed as it is.\n",
        "console.log(`Value of the num variable: ${num.toPrecision()}`);\n",
        "\n",
        "/** \n",
        " * The first 2 digits of the num variable are printed. ⚠️ Note that the part after the decimal point is rounded \n",
        " * to 9.7.\n",
        " */\n",
        "console.log(`First 2 digits of the num variable: ${num.toPrecision(2)}`);\n",
        "\n",
        "// The first 4 digits of the num variable are printed.\n",
        "console.log(`First 4 digits of the num variable: ${num.toPrecision(4)}`);\n",
        "\n",
        "/** \n",
        " * The first 6 digits of the num variable are printed. The num variable consists of 4 digits. To convert it to a \n",
        " * 6-digit notation, the necessary number of 0 digits is added next to the last digit.\n",
        " */  \n",
        "console.log(`First 6 digits of the num variable: ${num.toPrecision(6)}`);\n",
        "\n"
      ]
    },
    {
      "cell_type": "markdown",
      "metadata": {},
      "source": [
        "### <a id='toc1_3_5_'></a>[`valueOf()` Method](#toc0_)\n",
        "\n",
        "It is used to determine the primitive data type of an object variable.\n",
        "\n",
        "**Example**\n"
      ]
    },
    {
      "cell_type": "code",
      "execution_count": 29,
      "metadata": {
        "vscode": {
          "languageId": "javascript"
        }
      },
      "outputs": [
        {
          "name": "stdout",
          "output_type": "stream",
          "text": [
            "Primitive data type of the num variable: number\n"
          ]
        }
      ],
      "source": [
        "%%script node\n",
        "\n",
        "// Defining a number data type with an object data type.\n",
        "const num = new Number(80);\n",
        "\n",
        "// Prints the primitive data type of the num variable to the console.\n",
        "console.log(`Primitive data type of the num variable: ${typeof num.valueOf()}`);\n"
      ]
    },
    {
      "cell_type": "markdown",
      "metadata": {},
      "source": [
        "### <a id='toc1_3_6_'></a>[Converting Values to Number Data Type](#toc0_)\n",
        "\n",
        "**To convert a variable to the number data type, three methods are commonly used:**\n",
        "\n",
        "- `Number()` method\n",
        "- `parseFloat()` method\n",
        "- `parseInt()` method\n",
        "\n",
        "Let's explore these methods.\n"
      ]
    },
    {
      "cell_type": "markdown",
      "metadata": {},
      "source": [
        "### <a id='toc1_3_7_'></a>[`Number()` Method](#toc0_)\n",
        "\n",
        "The `Number()` method converts the argument provided within it to the number data type. **If the argument does not have a numerical equivalent, the method returns `NaN`.**\n",
        "\n",
        "**Example**\n"
      ]
    },
    {
      "cell_type": "code",
      "execution_count": 1,
      "metadata": {
        "vscode": {
          "languageId": "javascript"
        }
      },
      "outputs": [
        {
          "name": "stdout",
          "output_type": "stream",
          "text": [
            "Numerical equivalent of the true boolean expression: 1\n",
            "Numerical equivalent of the false boolean expression: 0\n",
            "Numerical equivalent of the \"10\" string value: 10\n",
            "Numerical equivalent of the \"10.33\" string value: 10.33\n",
            "Numerical equivalent of x: 0\n",
            "Numerical equivalent of the \"Bilal\" string value: NaN\n",
            "Numerical equivalent of the \"10 33\" string value: NaN\n"
          ]
        }
      ],
      "source": [
        "%%script node\n",
        "\n",
        "// The numerical equivalent of the true boolean value is 1.\n",
        "console.log(`Numerical equivalent of the true boolean expression: ${Number(true)}`);\n",
        "\n",
        "// The numerical equivalent of the false boolean value is 0.\n",
        "console.log(`Numerical equivalent of the false boolean expression: ${Number(false)}`);\n",
        "\n",
        "/** \n",
        " * Normally, the value \"10\" is of string data type. It is converted to the number data type using the Number() \n",
        " * method.\n",
        " * \n",
        " * Note that white space characters are removed after the conversion.\n",
        " */\n",
        "console.log(`Numerical equivalent of the \"10\" string value: ${Number(\"      10\")}`);\n",
        "\n",
        "console.log(`Numerical equivalent of the \"10.33\" string value: ${Number(\"10.33\")}`);\n",
        "\n",
        "// If a variable or value empty in this situation 0 is returned.\n",
        "const x = \"\";\n",
        "console.log(`Numerical equivalent of x: ${Number(x)}`);\n",
        "\n",
        "// Since the expression \"Bilal\" does not correspond to a numerical value, the returned value will be NaN.\n",
        "console.log(`Numerical equivalent of the \"Bilal\" string value: ${Number(\"Bilal\")}`);\n",
        "\n",
        "/** \n",
        " * Due to the white space character between the digits 10 and 33, the entire statement is interpreted as a string \n",
        " * value without numerical characteristics, and NaN is returned.\n",
        " */\n",
        "console.log(`Numerical equivalent of the \"10 33\" string value: ${Number(\"10 33\")}`);\n"
      ]
    },
    {
      "cell_type": "markdown",
      "metadata": {},
      "source": [
        "The `Number()` method also converts a date-related value to the number data type in milliseconds.\n",
        "\n",
        "**Example**\n"
      ]
    },
    {
      "cell_type": "code",
      "execution_count": 31,
      "metadata": {
        "vscode": {
          "languageId": "javascript"
        }
      },
      "outputs": [
        {
          "name": "stdout",
          "output_type": "stream",
          "text": [
            "Numeric value of the bornDate variable in milliseconds: 529632000000\n",
            "Data type of the bornDate variable after using Number(): number\n"
          ]
        }
      ],
      "source": [
        "%%script node\n",
        "\n",
        "const bornDate = new Date(\"1986-10-14\");\n",
        "\n",
        "// bornDate is converted to the number data type, and the millisecond value of the date is printed to the console.\n",
        "console.log(`Numeric value of the bornDate variable in milliseconds: ${Number(bornDate)}`);\n",
        "\n",
        "// bornDate is first converted to the number data type, and then the data type is printed to the console.\n",
        "console.log(`Data type of the bornDate variable after using Number(): ${typeof Number(bornDate)}`);\n"
      ]
    },
    {
      "cell_type": "markdown",
      "metadata": {},
      "source": [
        "**⚠️ The `Date()` method returns the result in milliseconds since January 1, 1970.**\n",
        "\n",
        "**Example**"
      ]
    },
    {
      "cell_type": "code",
      "execution_count": 32,
      "metadata": {
        "vscode": {
          "languageId": "javascript"
        }
      },
      "outputs": [
        {
          "name": "stdout",
          "output_type": "stream",
          "text": [
            "Numeric value of the bornDate variable in milliseconds: 86400000\n"
          ]
        }
      ],
      "source": [
        "%%script node\n",
        "\n",
        "const bornDate = new Date(\"1970-01-02\");\n",
        "\n",
        "console.log(`Numeric value of the bornDate variable in milliseconds: ${Number(bornDate)}`);"
      ]
    },
    {
      "cell_type": "markdown",
      "metadata": {},
      "source": [
        "#### <a id='toc1_3_7_1_'></a>[`parseInt()` Method](#toc0_)\n",
        "\n",
        "The `parseInt()` method parses the given string argument, splits it into components, and returns the **integer** part of the string. White space characters can be used within the argument.\n",
        "\n",
        "**Example**"
      ]
    },
    {
      "cell_type": "code",
      "execution_count": 33,
      "metadata": {
        "vscode": {
          "languageId": "javascript"
        }
      },
      "outputs": [
        {
          "name": "stdout",
          "output_type": "stream",
          "text": [
            "Integer part of the value 10.33: 10\n"
          ]
        }
      ],
      "source": [
        "%%script node\n",
        "\n",
        "// The integer part of the value 10.33 is printed to the console.\n",
        "console.log(`Integer part of the value 10.33: ${parseInt(10.33)}`);\n",
        "\n"
      ]
    },
    {
      "cell_type": "markdown",
      "metadata": {},
      "source": [
        "`parseInt()` method can also take a second argument, specifying the numerical base to be used. This way, the result is calculated within the specified numerical base. The result is returned in the decimal (base-10) numerical base.\n",
        "\n",
        "**Example**\n"
      ]
    },
    {
      "cell_type": "code",
      "execution_count": 34,
      "metadata": {
        "vscode": {
          "languageId": "javascript"
        }
      },
      "outputs": [
        {
          "name": "stdout",
          "output_type": "stream",
          "text": [
            "Decimal equivalent of the hexadecimal value \"0xFF\": 255\n"
          ]
        }
      ],
      "source": [
        "%%script node\n",
        "\n",
        "console.log(`Decimal equivalent of the hexadecimal value \"0xFF\": ${parseInt(\"0xFF\", 16)}`);"
      ]
    },
    {
      "cell_type": "markdown",
      "metadata": {},
      "source": [
        "**⚠️ When a non-numeric string value is passed along with a numeric string expression as an argument to the `parseInt()` method, if the first part of the string value is numeric, that value will be returned; otherwise, `NaN` will be returned.**\n",
        "\n",
        "**Example**"
      ]
    },
    {
      "cell_type": "code",
      "execution_count": 35,
      "metadata": {
        "vscode": {
          "languageId": "javascript"
        }
      },
      "outputs": [
        {
          "name": "stdout",
          "output_type": "stream",
          "text": [
            "Result: 10\n",
            "Result: NaN\n"
          ]
        }
      ],
      "source": [
        "%%script node\n",
        "\n",
        "const text = \"10 pens\";\n",
        "\n",
        "// The integer part at the beginning of the string expression is printed to the console.\n",
        "console.log(`Result: ${parseInt(text)}`);\n",
        "\n",
        "const text2 = \"Pens quantity is 10\";\n",
        "\n",
        "// NaN value is printed to the console.\n",
        "console.log(`Result: ${parseInt(text2)}`);\n",
        "\n"
      ]
    },
    {
      "cell_type": "markdown",
      "metadata": {},
      "source": [
        "#### <a id='toc1_3_7_2_'></a>[`parseFloat()` Method](#toc0_)\n",
        "\n",
        "The `parseFloat()` method is used to parse string arguments, extracting the numerical part from the string, and returning it. The `parseFloat()` method reads the numerical characters and the decimal point at the beginning of the string and stops when it encounters the first non-numerical character. White space characters can be used within the argument.\n",
        "\n",
        "If there is no numerical part in the argument, the method returns `NaN` (Not a Number).\n",
        "\n",
        "**Example**"
      ]
    },
    {
      "cell_type": "code",
      "execution_count": 63,
      "metadata": {
        "vscode": {
          "languageId": "javascript"
        }
      },
      "outputs": [
        {
          "name": "stdout",
          "output_type": "stream",
          "text": [
            "\u001b[33m123.45\u001b[39m\n",
            "\u001b[33m12.34\u001b[39m\n",
            "\u001b[33m3.14\u001b[39m\n",
            "\u001b[33mNaN\u001b[39m\n"
          ]
        }
      ],
      "source": [
        "%%script node\n",
        "\n",
        "console.log(parseFloat(\"123.45\"));\n",
        "console.log(parseFloat(\"12.34\"));\n",
        "console.log(parseFloat(\"3.14abc1\"));\n",
        "\n",
        "// Since there is no numerical value in the argument, it will return NaN.\n",
        "console.log(parseFloat(\"hello\"));\n"
      ]
    },
    {
      "cell_type": "markdown",
      "metadata": {},
      "source": [
        "### <a id='toc1_3_8_'></a>[Methods Usage of Number Objects](#toc0_)\n",
        "\n",
        "In this section, I will touch upon the usage of some methods within the number object.\n",
        "\n",
        "**⚠️ Before we begin, it's important to note that the syntax for using methods inside the number object is different from the syntax we've used for methods so far. When using methods within the Number object, we define the syntax as `Number.functionName(variable)`. Here, `Number` represents the number object class, `functionName()` is the method to be used, and `variable` represents the value to be processed.**\n",
        "\n",
        "**Recall that previously, when using a method for a variable, we used the syntax `variable.functionName()`.**\n"
      ]
    },
    {
      "cell_type": "markdown",
      "metadata": {},
      "source": [
        "#### <a id='toc1_3_8_1_'></a>[`Number.isInteger()` Method](#toc0_)\n",
        "\n",
        "This method checks whether a value is created as a number data type. If the value is of the number data type, the returned value will be `true`; otherwise, it will be `false`.\n",
        "\n",
        "**Example**"
      ]
    },
    {
      "cell_type": "code",
      "execution_count": 37,
      "metadata": {
        "vscode": {
          "languageId": "javascript"
        }
      },
      "outputs": [
        {
          "name": "stdout",
          "output_type": "stream",
          "text": [
            "Is the value 65 numeric?: true\n",
            "Is the string \"test\" numeric?: false\n"
          ]
        }
      ],
      "source": [
        "%%script node\n",
        "\n",
        "// Accessing the isInteger() method within the Number object and passing the number 65 as an argument.\n",
        "console.log(`Is the value 65 numeric?: ${Number.isInteger(65)}`);\n",
        "\n",
        "// Since the string \"test\" is not of the number data type, false will be printed to the console.\n",
        "console.log(`Is the string \"test\" numeric?: ${Number.isInteger(\"test\")}`);\n",
        "\n"
      ]
    },
    {
      "cell_type": "markdown",
      "metadata": {},
      "source": [
        "#### <a id='toc1_3_8_2_'></a>[`Number.isSafeInteger()` Method](#toc0_)\n",
        "\n",
        "This method checks whether a specified value is within the safe integer range. If the value is a safe integer, the result is `true`; otherwise, it is `false`.\n",
        "\n",
        "**💡 This method is often used to verify if large numbers are within the safe integer range, especially to prevent numerical errors or ensure that operations are within expected limits.**\n"
      ]
    },
    {
      "cell_type": "code",
      "execution_count": 38,
      "metadata": {
        "vscode": {
          "languageId": "javascript"
        }
      },
      "outputs": [
        {
          "name": "stdout",
          "output_type": "stream",
          "text": [
            "Is the number 42 within the safe integer range?: true\n",
            "Is the number 9007199254740992 within the safe integer range?: false\n",
            "Is the number -9007199254740992 within the safe integer range?: false\n"
          ]
        }
      ],
      "source": [
        "%%script node\n",
        "\n",
        "console.log(`Is the number 42 within the safe integer range?: ${Number.isSafeInteger(42)}`);\n",
        "\n",
        "console.log(`Is the number 9007199254740992 within the safe integer range?: ${Number.isSafeInteger(9007199254740992)}`);\n",
        "\n",
        "console.log(`Is the number -9007199254740992 within the safe integer range?: ${Number.isSafeInteger(-9007199254740992)}`);\n"
      ]
    },
    {
      "cell_type": "markdown",
      "metadata": {},
      "source": [
        "#### <a id='toc1_3_8_3_'></a>[`Number.parseFloat()` Method](#toc0_)\n",
        "\n",
        "This method parses a string argument and returns the **numerical part** from the string. The **numerical part can be a decimal**. White space characters can be used within the argument.\n",
        "\n",
        "If the argument cannot be converted, it returns `NaN` (Not a Number).\n",
        "\n",
        "**Example**"
      ]
    },
    {
      "cell_type": "code",
      "execution_count": 39,
      "metadata": {
        "vscode": {
          "languageId": "javascript"
        }
      },
      "outputs": [
        {
          "name": "stdout",
          "output_type": "stream",
          "text": [
            "Numerical part of the string \"10.33\": 10.33\n",
            "Numerical part of the string \"10 20 30\": 10\n",
            "Numerical part of the string \"10 years\": 10\n",
            "Numerical part of the string \"years 10\": NaN\n"
          ]
        }
      ],
      "source": [
        "%%script node\n",
        "\n",
        "// The decimal numeric value is returned as it is.\n",
        "console.log(`Numerical part of the string \"10.33\": ${Number.parseFloat(\"10.33\")}`);\n",
        "\n",
        "// Note that only the first numerical expression is returned.\n",
        "console.log(`Numerical part of the string \"10 20 30\": ${Number.parseFloat(\"10 20 30\")}`);\n",
        "\n",
        "// The string value will be parsed, and the numerical part will be returned.\n",
        "console.log(`Numerical part of the string \"10 years\": ${Number.parseFloat(\"10 years\")}`);\n",
        "\n",
        "// NaN is returned as there is no numerical part in the string.\n",
        "console.log(`Numerical part of the string \"years 10\": ${Number.parseFloat(\"years 10\")}`);\n"
      ]
    },
    {
      "cell_type": "markdown",
      "metadata": {},
      "source": [
        "#### <a id='toc1_3_8_4_'></a>[`Number.parseInt()` Method](#toc0_)\n",
        "\n",
        "This method parses a string argument and returns the **integer part from the string**. White space characters can be used within the argument.\n",
        "\n",
        "If the argument cannot be converted, it returns `NaN` (Not a Number).\n",
        "\n",
        "**Example**"
      ]
    },
    {
      "cell_type": "code",
      "execution_count": 40,
      "metadata": {
        "vscode": {
          "languageId": "javascript"
        }
      },
      "outputs": [
        {
          "name": "stdout",
          "output_type": "stream",
          "text": [
            "Integer part of the value \"3.14\": 3\n",
            "Integer part within \"360 degrees\": 360\n",
            "Integer part within \"Degrees 360\": NaN\n"
          ]
        }
      ],
      "source": [
        "%%script node\n",
        "\n",
        "// The integer part of the value is printed to the console.\n",
        "console.log(`Integer part of the value \"3.14\": ${Number.parseInt(\"3.14\")}`);\n",
        "\n",
        "// The integer part within the expression \"360 degrees\" is printed to the console.\n",
        "console.log(`Integer part within \"360 degrees\": ${Number.parseInt(\"360 degrees\")}`);\n",
        "\n",
        "// If the string cannot be converted, NaN is returned.\n",
        "console.log(`Integer part within \"Degrees 360\": ${Number.parseInt(\"Degrees 360\")}`);\n"
      ]
    },
    {
      "cell_type": "markdown",
      "metadata": {},
      "source": [
        "## <a id='toc1_4_'></a>[Summary](#toc0_)\n",
        "\n",
        "In this section, we focused on the `number` data type in JavaScript, which represents various numerical values. We also explored the concept of **_precision_**, indicating the precision of numerical values. We discussed numeric-oriented string values and the concept of `NaN` (Not a Number) representing undefined results of mathematical operations, along with the `isNaN()` method.\n",
        "\n",
        "We delved into the concept of **_Infinity_**, representing an infinite mathematical value. We explored hexadecimal values represented in the base-16 number system and their usage in arithmetic operations. We familiarized ourselves with object types representing numbers and their special methods in JavaScript. Additionally, we focused on commonly used `number` methods in JavaScript.\n",
        "\n",
        "Throughout this section, we comprehensively covered topics you may encounter while working with numerical data types in JavaScript.\n"
      ]
    },
    {
      "cell_type": "markdown",
      "metadata": {},
      "source": [
        "[^1]: Hexadecimal: A numeral system with a base of 16, often used in computing to represent binary-coded values in a more human-readable form.\n",
        "[^2]: In JavaScript, the octal numeral system is a base-8 number system that uses digits from 0 to 7. "
      ]
    }
  ],
  "metadata": {
    "kernelspec": {
      "display_name": "Python 3",
      "language": "python",
      "name": "python3"
    },
    "language_info": {
      "codemirror_mode": {
        "name": "ipython",
        "version": 3
      },
      "file_extension": ".py",
      "mimetype": "text/x-python",
      "name": "python",
      "nbconvert_exporter": "python",
      "pygments_lexer": "ipython3",
      "version": "3.10.12"
    }
  },
  "nbformat": 4,
  "nbformat_minor": 2
}
