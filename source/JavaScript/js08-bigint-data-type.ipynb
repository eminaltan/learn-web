{
  "cells": [
    {
      "cell_type": "markdown",
      "metadata": {},
      "source": [
        "# JavaScript BigInt Data Type Concept<a id='toc0_'></a>\n",
        "\n",
        "Hello friends, in this section of the series, we will examine the **_BigInt_** data type and its usage in JavaScript.\n",
        "\n",
        "In this article, we'll cover:\n",
        "\n",
        "- [JavaScript BigInt Data Type](#toc1_1_)\n",
        "- [Summary](#toc1_2_)\n",
        "\n",
        "I hope you enjoy reading.\n",
        "\n",
        "Yazının Türkçe versiyonu için [linke](tr-js08-bigint-data-type.ipynb) tıklayabilirsiniz.\n",
        "\n",
        "<!-- vscode-jupyter-toc-config\n",
        "\tnumbering=false\n",
        "\tanchor=true\n",
        "\tflat=false\n",
        "\tminLevel=1\n",
        "\tmaxLevel=6\n",
        "\t/vscode-jupyter-toc-config -->\n",
        "<!-- THIS CELL WILL BE REPLACED ON TOC UPDATE. DO NOT WRITE YOUR TEXT IN THIS CELL -->\n"
      ]
    },
    {
      "cell_type": "markdown",
      "metadata": {},
      "source": [
        "## <a id='toc1_1_'></a>[JavaScript BigInt Data Type](#toc0_)\n",
        "\n",
        "In JavaScript, there are two numerical data types: **_BigInt_** and **_number_**. In this section, we will examine the BigInt data type.\n",
        "\n",
        "The BigInt data type is primitive and has an **_immutable_** nature, meaning they cannot be changed once created.\n",
        "\n",
        "BigInt values in JavaScript cannot be expressed with decimals.\n",
        "\n",
        "Variables of type BigInt in JavaScript are used to store large integer values. The precision of integer values in JavaScript is up to 15 digits.\n",
        "\n",
        "The BigInt data type was introduced in ES2020 JavaScript. Therefore, it may not work in browsers released before 2020.\n",
        "\n",
        "To create a data of type BigInt, the `BigInt()` method is used, or an `n` is appended to the end of a value.\n",
        "\n",
        "**Example**"
      ]
    },
    {
      "cell_type": "code",
      "execution_count": 1,
      "metadata": {
        "vscode": {
          "languageId": "javascript"
        }
      },
      "outputs": [
        {
          "name": "stdout",
          "output_type": "stream",
          "text": [
            "The data type of bigint1 variable: bigint\n",
            "The data type of bigint2 variable: bigint\n"
          ]
        }
      ],
      "source": [
        "%%script node\n",
        "\n",
        "// The data type of the variable bigint1 is BigInt.\n",
        "const bigint1 = 9999999999999999n;\n",
        "console.log(`The data type of bigint1 variable: ${typeof bigint1}`);\n",
        "\n",
        "// We can define a value of BigInt data type using the BigInt() method.\n",
        "const bigint2 = BigInt(1234567890123456789012345);\n",
        "console.log(`The data type of bigint2 variable: ${typeof bigint2}`);\n"
      ]
    },
    {
      "cell_type": "markdown",
      "metadata": {},
      "source": [
        "Arithmetic operators can be used with the BigInt data type.\n",
        "\n",
        "**Example**\n"
      ]
    },
    {
      "cell_type": "code",
      "execution_count": 2,
      "metadata": {
        "vscode": {
          "languageId": "javascript"
        }
      },
      "outputs": [
        {
          "name": "stdout",
          "output_type": "stream",
          "text": [
            "Result of the operation: 81129638414606735738984533590025\n"
          ]
        }
      ],
      "source": [
        "%%script node\n",
        "\n",
        "let x = 9007199254740995n;\n",
        "let y = 9007199254740995n;\n",
        "let z = x * y;\n",
        "\n",
        "// The result of the operation is printed to the console: 81129638414606735738984533590025n\n",
        "console.log(`Result of the operation: ${z}`);"
      ]
    },
    {
      "cell_type": "markdown",
      "metadata": {},
      "source": [
        "In the example above, multiplication operation is performed for two variables with the BigInt type.\n",
        "\n",
        "**⚠️ If the `/` operator is to be used for a variable with BigInt type, the variable is converted to the number data type first, and then the operation is performed. The reason for not using the `/` operator is that the BigInt data type does not support decimal numbers.**\n",
        "\n",
        "**Example:**"
      ]
    },
    {
      "cell_type": "code",
      "execution_count": 3,
      "metadata": {
        "vscode": {
          "languageId": "javascript"
        }
      },
      "outputs": [
        {
          "name": "stdout",
          "output_type": "stream",
          "text": [
            "Result: 2.5\n",
            "Data type of variable y: number\n"
          ]
        }
      ],
      "source": [
        "%%script node\n",
        "\n",
        "let x = 5n;\n",
        "\n",
        "/**\n",
        " * The variable x with the BigInt data type is initially converted to the number data type, then the operation is \n",
        " * performed, and the result is stored in the variable y.\n",
        " * \n",
        " * ⚠️ Note that the data type of the variable y is number.\n",
        " */\n",
        "let y = Number(x) / 2;\n",
        "\n",
        "console.log(`Result: ${y}`);\n",
        "console.log(`Data type of variable y: ${typeof y}`);\n"
      ]
    },
    {
      "cell_type": "markdown",
      "metadata": {},
      "source": [
        "**⚠️ When a value of type BigInt is converted to the number data type, there may be data loss. This is because the number data type can have a maximum of 15 digits.**\n",
        "\n",
        "BigInt data types can be expressed in hexadecimal, octal, or binary notation.\n",
        "\n",
        "**Example:**"
      ]
    },
    {
      "cell_type": "code",
      "execution_count": 4,
      "metadata": {
        "vscode": {
          "languageId": "javascript"
        }
      },
      "outputs": [
        {
          "name": "stdout",
          "output_type": "stream",
          "text": [
            "Hexadecimal representation of the value: 9007199254740998\n",
            "Octal representation of the value: 9007199254740998\n",
            "Binary representation of the value: 9007199254740995\n"
          ]
        }
      ],
      "source": [
        "%%script node\n",
        "\n",
        "// Hexadecimal usage\n",
        "let hexadecimal = 0x20000000000006n;\n",
        "\n",
        "// Octal usage\n",
        "let octal = 0o400000000000000006n;\n",
        "\n",
        "// Binary usage\n",
        "let binary = 0b100000000000000000000000000000000000000000000000000011n;\n",
        "\n",
        "console.log(`Hexadecimal representation of the value: ${hexadecimal}`);\n",
        "console.log(`Octal representation of the value: ${octal}`);\n",
        "console.log(`Binary representation of the value: ${binary}`);\n"
      ]
    },
    {
      "cell_type": "markdown",
      "metadata": {},
      "source": [
        "A BigInt variable also will have the data type of bigint.\n",
        "\n",
        "**Example:**"
      ]
    },
    {
      "cell_type": "code",
      "execution_count": 5,
      "metadata": {
        "vscode": {
          "languageId": "javascript"
        }
      },
      "outputs": [
        {
          "name": "stdout",
          "output_type": "stream",
          "text": [
            "Data type of bigint1 variable: bigint\n",
            "Data type of bigint2 variable: bigint\n"
          ]
        }
      ],
      "source": [
        "%%script node\n",
        "\n",
        "let bigint1 = 9999999999999999n;\n",
        "\n",
        "let bigint2 = BigInt(1234567890123456789012345);\n",
        "\n",
        "console.log(`Data type of bigint1 variable: ${typeof bigint1}`);\n",
        "console.log(`Data type of bigint2 variable: ${typeof bigint2}`);\n"
      ]
    },
    {
      "cell_type": "markdown",
      "metadata": {},
      "source": [
        "## <a id='toc1_2_'></a>[Summary](#toc0_)\n",
        "\n",
        "In this section, we explored the `BigInt` data type in JavaScript. `BigInt` is used to work with large numbers and prevent data loss. However, caution should be exercised in decimal operations, and conversion to the number data type may be necessary.\n",
        "\n",
        "**Listing the features of the `BigInt` data type:**\n",
        "\n",
        "- **Creation:** BigInt values can be created using the `BigInt()` method or by appending an `n` to the end of a number.\n",
        "\n",
        "- **Arithmetic Operators:** Mathematical operations can be performed on BigInt using arithmetic operators, excluding the `/` operator.\n",
        "\n",
        "- **Data Type Conversion:** BigInt values can be converted to the number data type for operations. However, data loss may occur during the conversion.\n",
        "\n",
        "- **Notation Usage:** BigInt can be expressed in hexadecimal, octal, or binary notation.\n",
        "\n",
        "- **Precision and Decimal Numbers:** BigInt stores integers and does not support decimal numbers. Conversion may be required for decimal operations.\n"
      ]
    }
  ],
  "metadata": {
    "kernelspec": {
      "display_name": "Python 3",
      "language": "python",
      "name": "python3"
    },
    "language_info": {
      "codemirror_mode": {
        "name": "ipython",
        "version": 3
      },
      "file_extension": ".py",
      "mimetype": "text/x-python",
      "name": "python",
      "nbconvert_exporter": "python",
      "pygments_lexer": "ipython3",
      "version": "3.10.12"
    }
  },
  "nbformat": 4,
  "nbformat_minor": 2
}
