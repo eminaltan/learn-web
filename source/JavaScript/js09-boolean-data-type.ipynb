{
  "cells": [
    {
      "cell_type": "markdown",
      "metadata": {},
      "source": [
        "# JavaScript Boolean Data Type Concept<a id='toc0_'></a>\n",
        "\n",
        "Hello friends, in this section of the series, we will explore the **_boolean_** data type in the JavaScript.\n",
        "\n",
        "In this article, we'll cover:\n",
        "\n",
        "- [JavaScript Boolean Data Type](#toc1_)\n",
        "  - [Always Return `false` Expressions](#toc1_1_1_)\n",
        "- [JavaScript Object Boolean Data Type](#toc1_2_)\n",
        "- [Summary](#toc2_)\n",
        "\n",
        "I hope you enjoy reading.\n",
        "\n",
        "Yazının Türkçe versiyonu için [linke](tr-js09-boolean-data-type.ipynb) tıklayabilirsiniz.\n",
        "\n",
        "<!-- vscode-jupyter-toc-config\n",
        "\tnumbering=false\n",
        "\tanchor=true\n",
        "\tflat=false\n",
        "\tminLevel=1\n",
        "\tmaxLevel=6\n",
        "\t/vscode-jupyter-toc-config -->\n",
        "<!-- THIS CELL WILL BE REPLACED ON TOC UPDATE. DO NOT WRITE YOUR TEXT IN THIS CELL -->\n"
      ]
    },
    {
      "cell_type": "markdown",
      "metadata": {},
      "source": [
        "# <a id='toc1_'></a>[JavaScript Boolean Data Type](#toc0_)\n",
        "\n",
        "The Boolean data type in JavaScript is used to assess the logical truth or falsity of an expression. Boolean expressions yield a value depending on the outcome of the expression, returning `true` if the expression is true and `false` if it is false. This capability enables the manipulation of the program flow based on the evaluation of expressions.\n",
        "\n",
        "**Example**\n"
      ]
    },
    {
      "cell_type": "code",
      "execution_count": 13,
      "metadata": {
        "vscode": {
          "languageId": "javascript"
        }
      },
      "outputs": [
        {
          "name": "stdout",
          "output_type": "stream",
          "text": [
            "Boolean value of x: false\n",
            "Boolean value of y: true\n"
          ]
        }
      ],
      "source": [
        "%%script node\n",
        "\n",
        "let x = false;\n",
        "let y = true;\n",
        "\n",
        "console.log(`Boolean value of x: ${x}`);\n",
        "console.log(`Boolean value of y: ${y}`);\n"
      ]
    },
    {
      "cell_type": "markdown",
      "metadata": {},
      "source": [
        "**💡 Sometimes, we may want to check the boolean result of a statement. For this, we can make use of the `Boolean()` method.**\n",
        "\n",
        "This can be particularly useful during debugging processes or when dealing with complex conditions whose outcomes are not easily predictable.\n",
        "\n",
        "**Example**\n"
      ]
    },
    {
      "cell_type": "code",
      "execution_count": 14,
      "metadata": {
        "vscode": {
          "languageId": "javascript"
        }
      },
      "outputs": [
        {
          "name": "stdout",
          "output_type": "stream",
          "text": [
            "Is 8 > 4 true?: true\n",
            "Is 8 > 4 true?: true\n"
          ]
        }
      ],
      "source": [
        "%%script node\n",
        "\n",
        "// Prints true to the console.\n",
        "console.log(`Is 8 > 4 true?: ${Boolean(8 > 4)}`);\n",
        "\n",
        "// We can simplify it; it will still print true to the console.\n",
        "console.log(`Is 8 > 4 true?: ${8 > 4}`);\n"
      ]
    },
    {
      "cell_type": "markdown",
      "metadata": {},
      "source": [
        "### <a id='toc1_1_1_'></a>[Always Return `false` Expressions](#toc0_)\n",
        "\n",
        "The following expressions, when considered in the context of the boolean data type, always produce a `false` value:\n",
        "\n",
        "- When the value stored in a variable is the digit `0`.\n",
        "\n",
        "- When the value stored in a variable is the digit `-0`. This is because there is no distinct representation for `-0`.\n",
        "\n",
        "- When the value stored in a variable is an empty string, i.e., `\"\"` with no content.\n",
        "\n",
        "- When a variable is not assigned a value, and its default stored value is `undefined`. In this case, the boolean value of the variable is `false`.\n",
        "\n",
        "- When the value of a variable is `null`.\n",
        "\n",
        "- When the value `false` is explicitly assigned to a variable.\n",
        "\n",
        "- When the result of an arithmetic operation is `NaN`.\n",
        "\n",
        "**Example**\n"
      ]
    },
    {
      "cell_type": "code",
      "execution_count": 15,
      "metadata": {
        "vscode": {
          "languageId": "javascript"
        }
      },
      "outputs": [
        {
          "name": "stdout",
          "output_type": "stream",
          "text": [
            "The value stored in x is: false\n",
            "The value stored in x2 is: false\n",
            "The value stored in x3 is: false\n",
            "The value stored in x4 is: false\n",
            "The value stored in x5 is: false\n",
            "The value stored in x6 is: false\n",
            "The value stored in x7 is: false\n"
          ]
        }
      ],
      "source": [
        "%%script node\n",
        "\n",
        "let x = 0;\n",
        "\n",
        "console.log(`The value stored in x is: ${Boolean(x)}`); // false\n",
        "\n",
        "let x2 = -0;\n",
        "\n",
        "console.log(`The value stored in x2 is: ${Boolean(x2)}`); // false\n",
        "\n",
        "let x3 = \"\";\n",
        "\n",
        "console.log(`The value stored in x3 is: ${Boolean(x3)}`); // false\n",
        "\n",
        "let x4;\n",
        "\n",
        "console.log(`The value stored in x4 is: ${Boolean(x4)}`); // false\n",
        "\n",
        "let x5 = null;\n",
        "\n",
        "console.log(`The value stored in x5 is: ${Boolean(x5)}`); // false\n",
        "\n",
        "let x6 = false;\n",
        "\n",
        "console.log(`The value stored in x6 is: ${Boolean(x6)}`); // false\n",
        "\n",
        "let x7 = 10 / \"Pen\";\n",
        "\n",
        "console.log(`The value stored in x7 is: ${Boolean(x7)}`); // false\n"
      ]
    },
    {
      "cell_type": "markdown",
      "metadata": {},
      "source": [
        "A variable of type boolean will have a boolean data type.\n",
        "\n",
        "**Example**"
      ]
    },
    {
      "cell_type": "code",
      "execution_count": 16,
      "metadata": {
        "vscode": {
          "languageId": "javascript"
        }
      },
      "outputs": [
        {
          "name": "stdout",
          "output_type": "stream",
          "text": [
            "Data type of booleanData variable: boolean\n"
          ]
        }
      ],
      "source": [
        "%%script node\n",
        "\n",
        "let booleanData = false;\n",
        "\n",
        "console.log(`Data type of booleanData variable: ${typeof booleanData}`);"
      ]
    },
    {
      "cell_type": "markdown",
      "metadata": {},
      "source": [
        "## <a id='toc1_2_'></a>[JavaScript Object Boolean Data Type](#toc0_)\n",
        "\n",
        "Boolean-typed variables in JavaScript are typically **immutable** and belong to primitive data types such as boolean, number, and string.\n",
        "\n",
        "However, boolean-typed variables can be created in the object data type using the `new Boolean()` method.\n",
        "\n",
        "**⚠️ The data type of a boolean-typed variable created in the object data type using `new Boolean()` is different from that of a boolean-typed variable created using the normal method.**\n",
        "\n",
        "**Example**\n"
      ]
    },
    {
      "cell_type": "code",
      "execution_count": 17,
      "metadata": {
        "vscode": {
          "languageId": "javascript"
        }
      },
      "outputs": [
        {
          "name": "stdout",
          "output_type": "stream",
          "text": [
            "The value stored in booleanData is: true\n",
            "The data type of booleanData is: object\n",
            "The value stored in booleanData2 is: false\n",
            "The data type of booleanData2 is: boolean\n"
          ]
        }
      ],
      "source": [
        "%%script node\n",
        "\n",
        "// The variable booleanData is object-typed with a data type of object.\n",
        "let booleanData = new Boolean(\"true\");\n",
        "\n",
        "console.log(`The value stored in booleanData is: ${booleanData}`);\n",
        "console.log(`The data type of booleanData is: ${typeof booleanData}`);\n",
        "\n",
        "let booleanData2 = false;\n",
        "\n",
        "console.log(`The value stored in booleanData2 is: ${booleanData2}`);\n",
        "console.log(`The data type of booleanData2 is: ${typeof booleanData2}`);\n"
      ]
    },
    {
      "cell_type": "markdown",
      "metadata": {},
      "source": [
        "**❗ It is not recommended to use boolean data types in the object type. Unexpected results may occur, especially in expressions involving logical operators.**\n",
        "\n",
        "**Additionally, it can lead to slower code execution due to the increased complexity it introduces.**\n",
        "\n",
        "**When comparing two variables of the object data type, the result will always be `false`.**\n",
        "\n",
        "**Example**"
      ]
    },
    {
      "cell_type": "code",
      "execution_count": 18,
      "metadata": {
        "vscode": {
          "languageId": "javascript"
        }
      },
      "outputs": [
        {
          "name": "stdout",
          "output_type": "stream",
          "text": [
            "Is x == y a correct statement?: true\n"
          ]
        },
        {
          "name": "stdout",
          "output_type": "stream",
          "text": [
            "Is x === y a correct statement?: false\n",
            "Is m === n a correct statement?: false\n"
          ]
        }
      ],
      "source": [
        "%%script node\n",
        "\n",
        "let x = false;\n",
        "let y = new Boolean(false);\n",
        "\n",
        "// Since x and y store the same value, the returned result will be true.\n",
        "console.log(`Is x == y a correct statement?: ${x == y}`);\n",
        "\n",
        "/**\n",
        " * Although x and y store the same value, they have different data types, so the returned result \n",
        " * will be false.\n",
        " */\n",
        "console.log(`Is x === y a correct statement?: ${x === y}`);\n",
        "\n",
        "let m = new Boolean(false);\n",
        "let n = new Boolean(false);\n",
        "\n",
        "/**\n",
        " * Even though m and n both store the same type of value and have the same data type, the console\n",
        " * will print false. This is because variables of the object type have the uniqueness property.\n",
        " */\n",
        "console.log(`Is m === n a correct statement?: ${m === n}`);\n",
        "\n"
      ]
    },
    {
      "cell_type": "markdown",
      "metadata": {},
      "source": [
        "# <a id='toc2_'></a>[Summary](#toc0_)\n",
        "\n",
        "In this section, we discussed the boolean data type in JavaScript. Boolean evaluates the truthiness of an expression and returns `true` or `false`. We can use the `Boolean()` method to check the boolean value of expressions.\n",
        "\n",
        "Additionally, situations like 0, -0, an empty string (`\"\"`), an undefined variable (`undefined`), `null`, `false`, and `NaN` always result in `false`.\n",
        "\n",
        "Boolean variables can be created in the object data type, but this is generally not recommended. Comparisons involving such variables typically result in `false`. It's important to be cautious when using them to avoid increasing code complexity.\n",
        "\n",
        "**In summary, the boolean data type is crucial for controlling program flow and evaluating the accuracy of expressions.**\n"
      ]
    }
  ],
  "metadata": {
    "kernelspec": {
      "display_name": "Python 3",
      "language": "python",
      "name": "python3"
    },
    "language_info": {
      "codemirror_mode": {
        "name": "ipython",
        "version": 3
      },
      "file_extension": ".py",
      "mimetype": "text/x-python",
      "name": "python",
      "nbconvert_exporter": "python",
      "pygments_lexer": "ipython3",
      "version": "3.10.12"
    }
  },
  "nbformat": 4,
  "nbformat_minor": 2
}
