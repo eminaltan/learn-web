{
  "cells": [
    {
      "cell_type": "markdown",
      "metadata": {},
      "source": [
        "# JavaScript Undefined Data Type Concept<a id='toc0_'></a>\n",
        "\n",
        "Hello friends, in this part of the series, we will explore the **_undefined_** data type of JavaScript.\n",
        "\n",
        "In this article, we'll cover:\n",
        "\n",
        "- [JavaScript Undefined Data Type](#toc1_1_)\n",
        "- [Summary](#toc1_2_)\n",
        "\n",
        "I hope you enjoy reading.\n",
        "\n",
        "Yazının Türkçe versiyonu için [linke](tr-js10-undefined-data-type.ipynb) tıklayabilirsiniz.\n",
        "\n",
        "<!-- vscode-jupyter-toc-config\n",
        "\tnumbering=false\n",
        "\tanchor=true\n",
        "\tflat=false\n",
        "\tminLevel=1\n",
        "\tmaxLevel=6\n",
        "\t/vscode-jupyter-toc-config -->\n",
        "<!-- THIS CELL WILL BE REPLACED ON TOC UPDATE. DO NOT WRITE YOUR TEXT IN THIS CELL -->\n"
      ]
    },
    {
      "cell_type": "markdown",
      "metadata": {},
      "source": [
        "## <a id='toc1_1_'></a>[JavaScript Undefined Data Type](#toc0_)\n",
        "\n",
        "In JavaScript, the **undefined** data type signifies that a variable is not defined or that no value has been assigned to the variable.\n",
        "\n",
        "The undefined data type is primitive and has an **immutable** nature, meaning it cannot be changed.\n",
        "\n",
        "When declaring a variable in JavaScript without assigning a value to it, the default value stored is undefined.\n",
        "\n",
        "A variable with the undefined data type can also be created using the `undefined` keyword.\n",
        "\n",
        "**Example**\n"
      ]
    },
    {
      "cell_type": "code",
      "execution_count": 11,
      "metadata": {
        "vscode": {
          "languageId": "javascript"
        }
      },
      "outputs": [
        {
          "name": "stdout",
          "output_type": "stream",
          "text": [
            "Value of x variable: undefined\n",
            "Value of y variable: undefined\n"
          ]
        }
      ],
      "source": [
        "%%script node\n",
        "\n",
        "// Value x variable will be undefined.\n",
        "let x;\n",
        "\n",
        "// We can also create a variable with the undefined data type using the undefined keyword.\n",
        "let y = undefined;\n",
        "\n",
        "// The \"undefined\" value for both variables is printed to the console.\n",
        "console.log(`Value of x variable: ${x}`);\n",
        "console.log(`Value of y variable: ${y}`);\n"
      ]
    },
    {
      "cell_type": "markdown",
      "metadata": {},
      "source": [
        "**❗ It is possible to use \"undefined\" as a variable name, but doing so can lead to difficulties in understanding the code or during debugging processes.**\n",
        "\n",
        "**Example**\n"
      ]
    },
    {
      "cell_type": "code",
      "execution_count": 12,
      "metadata": {
        "vscode": {
          "languageId": "javascript"
        }
      },
      "outputs": [
        {
          "name": "stdout",
          "output_type": "stream",
          "text": [
            "foo string\n",
            "EA string\n"
          ]
        }
      ],
      "source": [
        "%%script node\n",
        "\n",
        "// Within the global scope, we have two functions.\n",
        "\n",
        "// The first function has no parameters.\n",
        "(() => {\n",
        "\n",
        "  // A variable named \"undefined\" is defined, and it is assigned the value \"foo\".\n",
        "  const undefined = \"foo\";\n",
        "\n",
        "  // The variable \"undefined\" will have the data type string, and \"foo, string\" will be printed to the console.\n",
        "  console.log(undefined, typeof undefined);\n",
        "})\n",
        "\n",
        "// Calling the first function.\n",
        "();\n",
        "\n",
        "\n",
        "// The second function has a parameter named \"undefined\".\n",
        "((undefined) => {\n",
        "\n",
        "  // Printing the value and data type of the \"undefined\" parameter to the console.\n",
        "  console.log(undefined, typeof undefined);\n",
        "})\n",
        "\n",
        "// Sending a string \"EA\" as an argument to the second function.\n",
        "(\"EA\");\n"
      ]
    },
    {
      "cell_type": "markdown",
      "metadata": {},
      "source": [
        "As seen above analyze code blocks very difficult.\n",
        "\n",
        "If a variable has the `undefined` data type, its boolean value will be `false`. For detailed information, you can visit your [Always Return `false` Expressions](js09-boolean-data-type.ipynb#always-return-false-expressions) section.\n",
        "\n",
        "**Example**\n"
      ]
    },
    {
      "cell_type": "code",
      "execution_count": 13,
      "metadata": {
        "vscode": {
          "languageId": "javascript"
        }
      },
      "outputs": [
        {
          "name": "stdout",
          "output_type": "stream",
          "text": [
            "The boolean value of the variable x: false\n"
          ]
        }
      ],
      "source": [
        "%%script node\n",
        "\n",
        "let x;\n",
        "\n",
        "/** \n",
        " * We can determine the boolean value of a variable using the Boolean() function. It will print \"false\" to the \n",
        " * console.\n",
        " */\n",
        "console.log(`The boolean value of the variable x: ${Boolean(x)}`);\n",
        "\n"
      ]
    },
    {
      "cell_type": "markdown",
      "metadata": {},
      "source": [
        "If the `return` keyword is not explicitly stated in a method (function), the method will default to returning the `undefined` expression.\n",
        "\n",
        "**Example**\n"
      ]
    },
    {
      "cell_type": "code",
      "execution_count": 14,
      "metadata": {
        "vscode": {
          "languageId": "javascript"
        }
      },
      "outputs": [
        {
          "name": "stdout",
          "output_type": "stream",
          "text": [
            "\u001b[90mundefined\u001b[39m\n",
            "swim performed\n"
          ]
        }
      ],
      "source": [
        "%%script node\n",
        "\n",
        "function drive() {\n",
        "    // The function does not return a statement.\n",
        "};\n",
        "\n",
        "// \"undefined\" will be printed to the console.\n",
        "console.log(drive());\n",
        "\n",
        "\n",
        "function swim() {\n",
        "    return \"swim performed\";\n",
        "};\n",
        "\n",
        "// \"swim performed\" will be printed to the console.\n",
        "console.log(swim());\n"
      ]
    },
    {
      "cell_type": "markdown",
      "metadata": {},
      "source": [
        "**Differences between Undefined and Null:**\n",
        "\n",
        "- For a variable with the Undefined property, the default stored value is indeed undefined. On the other hand, a variable storing the Null value has no value at all. In this regard, null and undefined are distinct from each other.\n",
        "\n",
        "- The data type of a variable with the Undefined property is undefined, whereas the data type of a variable with the Null property is object.\n",
        "\n",
        "**Example**\n"
      ]
    },
    {
      "cell_type": "code",
      "execution_count": 15,
      "metadata": {
        "vscode": {
          "languageId": "javascript"
        }
      },
      "outputs": [
        {
          "name": "stdout",
          "output_type": "stream",
          "text": [
            "The value of the variable x: undefined\n",
            "The value of the variable y: null\n",
            "The data type of the variable x: undefined\n",
            "The data type of the variable y: object\n"
          ]
        }
      ],
      "source": [
        "%%script node\n",
        "\n",
        "// The default value of x will be undefined.\n",
        "let x;\n",
        "\n",
        "// The value stored in x is undefined. \"undefined\" is printed to the console.\n",
        "console.log(`The value of the variable x: ${x}`);\n",
        "\n",
        "// The variable y has no value.\n",
        "let y = null;\n",
        "\n",
        "// There is no value stored in y. \"null\" is printed to the console to indicate this.\n",
        "console.log(`The value of the variable y: ${y}`);\n",
        "\n",
        "// \"undefined\" message is printed to the console; the data type of x is undefined.\n",
        "console.log(`The data type of the variable x: ${typeof x}`);\n",
        "\n",
        "// \"object\" message is printed to the console; the data type of a variable with the Null property is object.\n",
        "console.log(`The data type of the variable y: ${typeof y}`);\n"
      ]
    },
    {
      "cell_type": "markdown",
      "metadata": {},
      "source": [
        "**Differences between Undefined and Empty:**\n",
        "\n",
        "A variable with the Empty property has a data type of string. On the other hand, a variable with the Undefined property has a data type of object.\n",
        "\n",
        "**Example**\n"
      ]
    },
    {
      "cell_type": "code",
      "execution_count": 16,
      "metadata": {
        "vscode": {
          "languageId": "javascript"
        }
      },
      "outputs": [
        {
          "name": "stdout",
          "output_type": "stream",
          "text": [
            "The data type of variable x: undefined\n",
            "The data type of variable y: \n",
            "Is x == y a true statement?: false\n"
          ]
        }
      ],
      "source": [
        "%%script node\n",
        "\n",
        "let x;\n",
        "let y = \"\";\n",
        "\n",
        "/** \n",
        " * The x variable is of type undefined, and the y variable is of type string. \"undefined\" and \"string\" will be \n",
        " * printed to the console, respectively.\n",
        " */\n",
        "console.log(`The data type of variable x: ${x}`);\n",
        "console.log(`The data type of variable y: ${y}`);\n",
        "\n",
        "// x and y variables are different in terms of the stored value. \"false\" will be printed to the console.\n",
        "console.log(`Is x == y a true statement?: ${x == y}`);\n",
        "\n"
      ]
    },
    {
      "cell_type": "markdown",
      "metadata": {},
      "source": [
        "A variable declared as undefined will also data type of undefined.\n",
        "\n",
        "**Example**\n"
      ]
    },
    {
      "cell_type": "code",
      "execution_count": 17,
      "metadata": {
        "vscode": {
          "languageId": "javascript"
        }
      },
      "outputs": [
        {
          "name": "stdout",
          "output_type": "stream",
          "text": [
            "The data type of the variable 'value': undefined\n",
            "The data type of the variable 'value2': undefined\n"
          ]
        }
      ],
      "source": [
        "%%script node\n",
        "\n",
        "let value;\n",
        "let value2 = undefined;\n",
        "\n",
        "console.log(`The data type of the variable 'value': ${typeof value}`);\n",
        "console.log(`The data type of the variable 'value2': ${typeof value2}`);\n",
        "\n"
      ]
    },
    {
      "cell_type": "markdown",
      "metadata": {},
      "source": [
        "When a variable with the Undefined data type is used in arithmetic operations, the result of the expression will be `NaN` (Not a Number). This is because the operation result will not be a numerical or numeric value. For more information on the usage of the term **_NaN_**, you can refer to [JavaScript `NaN` Not a Number Term](js07-numeric-data-type.ipynb#javascript-nan-not-a-number-term).\n"
      ]
    },
    {
      "cell_type": "code",
      "execution_count": 18,
      "metadata": {
        "vscode": {
          "languageId": "javascript"
        }
      },
      "outputs": [
        {
          "name": "stdout",
          "output_type": "stream",
          "text": [
            "The result of the x + 1 operation: NaN\n",
            "The data type of variable y: number\n"
          ]
        }
      ],
      "source": [
        "%%script node\n",
        "\n",
        "let x;\n",
        "\n",
        "let y = x + 1;\n",
        "\n",
        "// \"NaN\" is printed to the console because there is no mathematical equivalent for x + undefined.\n",
        "console.log(`The result of the x + 1 operation: ${y}`);\n",
        "\n",
        "// Despite the result being NaN, the data type is still considered as number. \"number\" is printed to the console.\n",
        "console.log(`The data type of variable y: ${typeof y}`);\n"
      ]
    },
    {
      "cell_type": "markdown",
      "metadata": {},
      "source": [
        "## <a id='toc1_2_'></a>[Summary](#toc0_)\n",
        "\n",
        "In JavaScript, the `undefined` data type indicates that a variable is either not defined or has not been assigned a value. It is used as the default value for a variable and is a primitive property. The boolean value of an undefined variable is `false`.\n",
        "\n",
        "Differences between `undefined` and `null`: `undefined` is the default value of a variable with a data type of `undefined`, while `null` indicates that a variable has no value, and its data type is `object`.\n",
        "\n",
        "The distinction between `undefined` and `empty` is that an empty variable has a data type of string, whereas an undefined variable has a data type of `object`.\n",
        "\n",
        "It's essential to note that when using a variable with the `undefined` data type in arithmetic operations, the result will be `NaN` (Not a Number). This occurs because there is no mathematical equivalent for the operation due to the undefined nature of the variable.\n"
      ]
    }
  ],
  "metadata": {
    "kernelspec": {
      "display_name": "Python 3 (ipykernel)",
      "language": "python",
      "name": "python3"
    },
    "language_info": {
      "codemirror_mode": {
        "name": "ipython",
        "version": 3
      },
      "file_extension": ".py",
      "mimetype": "text/x-python",
      "name": "python",
      "nbconvert_exporter": "python",
      "pygments_lexer": "ipython3",
      "version": "3.10.12"
    }
  },
  "nbformat": 4,
  "nbformat_minor": 2
}
