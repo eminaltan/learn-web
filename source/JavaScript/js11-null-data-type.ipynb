{
 "cells": [
  {
   "cell_type": "markdown",
   "metadata": {},
   "source": [
    "# JavaScript Null Data Type Concept<a id='toc0_'></a>\n",
    "\n",
    "Hello friends, in this part of the series, we will explore the **_null_** data type of JavaScript.\n",
    "\n",
    "In this article, we'll cover:\n",
    "\n",
    "- [JavaScript Null Data Type](#toc1_1_)\n",
    "- [Summary](#toc1_2_)\n",
    "\n",
    "I hope you enjoy reading.\n",
    "\n",
    "Yazının Türkçe versiyonu için [linke](tr-js11-null-data-type.ipynb) tıklayabilirsiniz.\n",
    "\n",
    "<!-- vscode-jupyter-toc-config\n",
    "\tnumbering=false\n",
    "\tanchor=true\n",
    "\tflat=false\n",
    "\tminLevel=1\n",
    "\tmaxLevel=6\n",
    "\t/vscode-jupyter-toc-config -->\n",
    "<!-- THIS CELL WILL BE REPLACED ON TOC UPDATE. DO NOT WRITE YOUR TEXT IN THIS CELL -->\n"
   ]
  },
  {
   "cell_type": "markdown",
   "metadata": {},
   "source": [
    "## <a id='toc1_1_'></a>[JavaScript Null Data Type](#toc0_)\n",
    "\n",
    "In JavaScript, the **_null_** data type indicates that there is no value assigned to a variable, but a value may be assigned in the future.\n",
    "\n",
    "To declare a variable with the null data type, the `null` keyword is used.\n",
    "\n",
    "When a variable storing the `null` keyword is used within an expression, it converts the value of the variable to the number 0 in JavaScript.\n",
    "\n",
    "The `null` keyword is reserved for use in JavaScript. This means that a variable or method name cannot start with `null`.\n",
    "\n",
    "The null data type is a primitive type and is **_immutable_**, meaning it cannot be changed. **However, it has the characteristics of an object data type.**\n",
    "\n",
    "**Example**\n"
   ]
  },
  {
   "cell_type": "code",
   "execution_count": 1,
   "metadata": {
    "vscode": {
     "languageId": "javascript"
    }
   },
   "outputs": [
    {
     "name": "stdout",
     "output_type": "stream",
     "text": [
      "Data type of variable x: object\n",
      "Output of x + 1 expression: 1\n"
     ]
    }
   ],
   "source": [
    "%%script node\n",
    "\n",
    "let x = null;\n",
    "\n",
    "// The console will print the expression \"object\".\n",
    "console.log(`Data type of variable x: ${typeof (x)}`);\n",
    "\n",
    "// The value of variable x is converted to 0.\n",
    "console.log(`Output of x + 1 expression: ${x + 1}`);\n",
    "\n"
   ]
  },
  {
   "cell_type": "markdown",
   "metadata": {},
   "source": [
    "A variable with the null data type will have a boolean value of `false`. For detailed information, you can visit the [Always Return `false` Expressions](js09-boolean-data-type.ipynb#always-return-false-expressions) section.\n",
    "\n",
    "**Example**\n"
   ]
  },
  {
   "cell_type": "code",
   "execution_count": 2,
   "metadata": {
    "vscode": {
     "languageId": "javascript"
    }
   },
   "outputs": [
    {
     "name": "stdout",
     "output_type": "stream",
     "text": [
      "Boolean value of variable x: false\n"
     ]
    }
   ],
   "source": [
    "%%script node\n",
    "\n",
    "let x = null;\n",
    "\n",
    "// We can determine the boolean type of a variable using the Boolean() method.\n",
    "console.log(`Boolean value of variable x: ${Boolean(x)}`);"
   ]
  },
  {
   "cell_type": "markdown",
   "metadata": {},
   "source": [
    "**❗ A variable with the null attribute has no assigned value. If you recall, a variable with the undefined attribute had a default value of undefined. The data type of a variable with the null attribute is object, while the data type of a variable with the undefined attribute is undefined. In these respects, null and undefined data types are distinct from each other.**\n",
    "\n",
    "**Example**\n"
   ]
  },
  {
   "cell_type": "code",
   "execution_count": 3,
   "metadata": {
    "vscode": {
     "languageId": "javascript"
    }
   },
   "outputs": [
    {
     "name": "stdout",
     "output_type": "stream",
     "text": [
      "Value of variable x: undefined\n",
      "Value of variable y: null\n",
      "Data type of variable x: undefined\n",
      "Data type of variable y: object\n"
     ]
    }
   ],
   "source": [
    "%%script node\n",
    "\n",
    "// The default value of x will be undefined.\n",
    "let x;\n",
    "\n",
    "// The value stored in x is printed to the console.\n",
    "console.log(`Value of variable x: ${x}`);\n",
    "\n",
    "// Variable y has no assigned value.\n",
    "let y = null;\n",
    "\n",
    "// There is no value stored in y. To indicate this, the null expression is printed to the console.\n",
    "console.log(`Value of variable y: ${y}`);\n",
    "\n",
    "console.log(`Data type of variable x: ${typeof x}`);\n",
    "\n",
    "console.log(`Data type of variable y: ${typeof y}`);\n"
   ]
  },
  {
   "cell_type": "markdown",
   "metadata": {},
   "source": [
    "**❗ A variable with the empty attribute has a data type of string. On the other hand, a variable with the null attribute has a data type of object.**\n",
    "\n",
    "**Example**\n"
   ]
  },
  {
   "cell_type": "code",
   "execution_count": 4,
   "metadata": {
    "vscode": {
     "languageId": "javascript"
    }
   },
   "outputs": [
    {
     "name": "stdout",
     "output_type": "stream",
     "text": [
      "Are x and y equivalent in both data type and value?: false\n",
      "Data type of variable x: object\n",
      "Data type of variable y: string\n"
     ]
    }
   ],
   "source": [
    "%%script node\n",
    "\n",
    "let x = null;\n",
    "\n",
    "let y = \"1\";\n",
    "\n",
    "/**\n",
    " * The console will print the expression \"false\". This is because the data type of x is object, and the data type \n",
    " * of y is string.\n",
    " */\n",
    "console.log(`Are x and y equivalent in both data type and value?: ${x === y}`);\n",
    "\n",
    "// The expression \"object\" is printed to the console.\n",
    "console.log(`Data type of variable x: ${typeof x}`);\n",
    "\n",
    "// The expression \"string\" is printed to the console.\n",
    "console.log(`Data type of variable y: ${typeof y}`);\n"
   ]
  },
  {
   "cell_type": "markdown",
   "metadata": {},
   "source": [
    "## <a id='toc1_2_'></a>[Summary](#toc0_)\n",
    "\n",
    "In JavaScript, the **_null_** data type indicates that a variable's value has not been assigned yet and that a value may be assigned in the future. A variable is defined as null using the `null` keyword. However, one important point to note is that when a variable containing `null` is used within an expression, JavaScript converts its value to 0.\n",
    "\n",
    "The null data type is primitive and **_immutable_**, meaning it cannot be changed. However, it has the characteristics of an object data type.\n",
    "\n",
    "The boolean value of a variable with the null data type will always be `false`. This feature indicates that null represents an empty value and is evaluated as `false` in a boolean context.\n",
    "\n",
    "Additionally, there are differences between the undefined and null data types. Undefined is the default value of a variable, and its data type is undefined. Null, on the other hand, indicates that a variable's value has consciously not been assigned, and its data type is object.\n",
    "\n",
    "In conclusion, in JavaScript, the null data type signifies that a variable has not yet been assigned a value. It exhibits some noteworthy characteristics and behaves differently from other data types.\n"
   ]
  }
 ],
 "metadata": {
  "kernelspec": {
   "display_name": "Python 3",
   "language": "python",
   "name": "python3"
  },
  "language_info": {
   "codemirror_mode": {
    "name": "ipython",
    "version": 3
   },
   "file_extension": ".py",
   "mimetype": "text/x-python",
   "name": "python",
   "nbconvert_exporter": "python",
   "pygments_lexer": "ipython3",
   "version": "3.10.12"
  }
 },
 "nbformat": 4,
 "nbformat_minor": 2
}
