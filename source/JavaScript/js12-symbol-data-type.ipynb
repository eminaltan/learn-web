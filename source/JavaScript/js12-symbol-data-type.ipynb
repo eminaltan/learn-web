{
 "cells": [
  {
   "cell_type": "markdown",
   "metadata": {},
   "source": [
    "# JavaScript Symbol Data Type Concept<a id='toc0_'></a>\n",
    "\n",
    "Hello friends, in this part of the series, we will explore the **_Symbol_** data type of JavaScript.\n",
    "\n",
    "In this article, we'll cover:\n",
    "\n",
    "- [JavaScript Symbol Data Type](#toc1_1_)\n",
    "- [Usage of JavaScript Symbol Data Type Inside The Objects](#toc1_2_)\n",
    "- [Using JavaScript Symbol Data Type as a Unique Constant](#toc1_3_)\n",
    "- [Making JavaScript Symbol Data Type Global](#toc1_4_)\n",
    "- [Ensuring Data Security with JavaScript Symbol Data Type](#toc1_5_)\n",
    "- [Symbol Data Types as Object Type](#toc1_6_)\n",
    "- [Summary](#toc1_7_)\n",
    "\n",
    "I hope you enjoy reading.\n",
    "\n",
    "Yazının Türkçe versiyonu için [linke](tr-js12-symbol-data-type.ipynb) tıklayabilirsiniz.\n",
    "\n",
    "<!-- vscode-jupyter-toc-config\n",
    "\tnumbering=false\n",
    "\tanchor=true\n",
    "\tflat=false\n",
    "\tminLevel=1\n",
    "\tmaxLevel=6\n",
    "\t/vscode-jupyter-toc-config -->\n",
    "<!-- THIS CELL WILL BE REPLACED ON TOC UPDATE. DO NOT WRITE YOUR TEXT IN THIS CELL -->\n"
   ]
  },
  {
   "cell_type": "markdown",
   "metadata": {},
   "source": [
    "## <a id='toc1_1_'></a>[JavaScript Symbol Data Type](#toc0_)\n",
    "\n",
    "The Symbol data type is primitive and **_immutable_**, meaning it cannot be changed.\n",
    "\n",
    "Symbol data types have a **unique** characteristic. Therefore, they are used as a **_key_**[^1] within object-defined variables, allowing access to the values of the object.\n",
    "\n",
    "Due to their uniqueness, Symbol data types are frequently utilized to store constant values like **_API_**[^2] within a program. Variables are employed for this purpose.\n",
    "\n",
    "Symbol data types also ensure the privacy and security of data based on the encapsulation principle.\n",
    "\n",
    "The Symbol data type was introduced in ECMAScript 6 (ES6) for JavaScript.\n",
    "\n",
    "To create a variable of the Symbol data type, the `Symbol(\"Description\")` method is used. The term `Description` here generally indicates the purpose for which the Symbol data type is created. Its usage is optional.\n",
    "\n",
    "**💡 It is recommended to use the `Description` argument. This way, the purpose of creating the Symbol will be known, especially benefiting from it during bug fixes and debugging.**\n",
    "\n",
    "**Example**\n"
   ]
  },
  {
   "cell_type": "code",
   "execution_count": 1,
   "metadata": {
    "vscode": {
     "languageId": "javascript"
    }
   },
   "outputs": [
    {
     "name": "stdout",
     "output_type": "stream",
     "text": [
      "\u001b[32mSymbol(Defines the employee's name.)\u001b[39m\n",
      "\u001b[32mSymbol()\u001b[39m\n"
     ]
    }
   ],
   "source": [
    "%%script node\n",
    "\n",
    "// In the example, the definition of the symbol data type is demonstrated.\n",
    "\n",
    "const personalName = Symbol(\"Defines the employee's name.\");\n",
    "const surName = Symbol();\n",
    "\n",
    "/** \n",
    " * When the Description is defined, it will assist in determining the purpose of creating the variable during the \n",
    " * debugging process.\n",
    " */\n",
    "console.log(personalName);\n",
    "\n",
    "// The Symbol() expression is printed to the console.\n",
    "console.log(surName);\n"
   ]
  },
  {
   "cell_type": "markdown",
   "metadata": {},
   "source": [
    "When the `Description` argument is not used, the description property will be `undefined`.\n",
    "\n",
    "**Example**\n"
   ]
  },
  {
   "cell_type": "code",
   "execution_count": 1,
   "metadata": {
    "vscode": {
     "languageId": "javascript"
    }
   },
   "outputs": [
    {
     "name": "stdout",
     "output_type": "stream",
     "text": [
      "Description of personalName variable: undefined\n"
     ]
    }
   ],
   "source": [
    "%%script node\n",
    "\n",
    "const personalName = Symbol();\n",
    "\n",
    "console.log(`Description of personalName variable: ${personalName.description}`);\n"
   ]
  },
  {
   "cell_type": "markdown",
   "metadata": {},
   "source": [
    "A variable with the Symbol data type will always have a boolean value of `true`.\n",
    "\n",
    "**Example**\n"
   ]
  },
  {
   "cell_type": "code",
   "execution_count": 3,
   "metadata": {
    "vscode": {
     "languageId": "javascript"
    }
   },
   "outputs": [
    {
     "name": "stdout",
     "output_type": "stream",
     "text": [
      "Boolean value of the personalName variable: true\n"
     ]
    }
   ],
   "source": [
    "%%script node\n",
    "\n",
    "const personalName = Symbol(\"Defines the employee's name.\");\n",
    "const surName = Symbol();\n",
    "\n",
    "// Using the Boolean() method to determine the boolean value of the variable.\n",
    "console.log(`Boolean value of the personalName variable: ${Boolean(personalName)}`);\n"
   ]
  },
  {
   "cell_type": "markdown",
   "metadata": {},
   "source": [
    "The data types of variables with the Symbol data type will always be symbols.\n",
    "\n",
    "**Example**\n"
   ]
  },
  {
   "cell_type": "code",
   "execution_count": 4,
   "metadata": {
    "vscode": {
     "languageId": "javascript"
    }
   },
   "outputs": [
    {
     "name": "stdout",
     "output_type": "stream",
     "text": [
      "Data type of the sym variable: symbol\n"
     ]
    }
   ],
   "source": [
    "%%script node\n",
    "\n",
    "const sym = Symbol(\"An example of a Symbol data type.\");\n",
    "\n",
    "console.log(`Data type of the sym variable: ${typeof sym}`);"
   ]
  },
  {
   "cell_type": "markdown",
   "metadata": {},
   "source": [
    "Symbol data types are unique. Variables with the same description have different data types.\n",
    "\n",
    "The uniqueness of Symbol data types comes from each Symbol value having a different identifier. This identifier is unique within the context in which the Symbol is created and does not match any other Symbol.\n",
    "\n",
    "**Example**\n"
   ]
  },
  {
   "cell_type": "code",
   "execution_count": 5,
   "metadata": {
    "vscode": {
     "languageId": "javascript"
    }
   },
   "outputs": [
    {
     "name": "stdout",
     "output_type": "stream",
     "text": [
      "Are sym and sym2 variables equal in terms of stored value?: false\n",
      "Are sym and sym2 variables equal in terms of value and data type?: false\n"
     ]
    }
   ],
   "source": [
    "%%script node\n",
    "\n",
    "const sym = Symbol(\"Symbol value\");\n",
    "const sym2 = Symbol(\"Symbol value\");\n",
    "\n",
    "// They are different in both data type and value. The console will output false.\n",
    "console.log(`Are sym and sym2 variables equal in terms of stored value?: ${sym == sym2}`);\n",
    "console.log(`Are sym and sym2 variables equal in terms of value and data type?: ${sym === sym2}`);\n"
   ]
  },
  {
   "cell_type": "markdown",
   "metadata": {},
   "source": [
    "## <a id='toc1_2_'></a>[Usage of JavaScript Symbol Data Type Inside The Objects](#toc0_)\n",
    "\n",
    "Variables with the Symbol data type are commonly used as keys to access data stored within objects.\n",
    "\n",
    "Imagine a scenario where a code block is intended to be used in different parts of a JavaScript program or within another module. In such cases, the Symbol data type can be used as a key with the same name in different sections of the code. This approach helps prevent potential issues that may arise from duplicating code.\n",
    "\n",
    "Let's illustrate this with an example.\n",
    "\n",
    "**Example**\n"
   ]
  },
  {
   "cell_type": "code",
   "execution_count": 7,
   "metadata": {
    "vscode": {
     "languageId": "javascript"
    }
   },
   "outputs": [
    {
     "name": "stdout",
     "output_type": "stream",
     "text": [
      "Number of student: 276\n"
     ]
    }
   ],
   "source": [
    "%%script node\n",
    "\n",
    "// Below, the variable 'student' is an object, and the value 276 is stored in the 'id' key.\n",
    "let student = { firstName: \"Emin\" };\n",
    "let id = Symbol(\"Student number\");\n",
    "\n",
    "student[id] = 276;\n",
    "\n",
    "console.log(`Number of student: ${student[id]}`);\n"
   ]
  },
  {
   "cell_type": "markdown",
   "metadata": {},
   "source": [
    "Let's assume that we use the `student` object in another program. It is not possible to access the original code and add a new **_property_**[^3] or update an existing property.\n",
    "\n",
    "In this scenario, we can customize the original code for another program using symbol-typed variables. As can be understood, this provides flexibility in the code. We can use the same key name in different programs and modify the stored values. This way, we can avoid issues arising from the duplication of stored values.\n",
    "\n",
    "**Example**\n"
   ]
  },
  {
   "cell_type": "code",
   "execution_count": 8,
   "metadata": {
    "vscode": {
     "languageId": "javascript"
    }
   },
   "outputs": [
    {
     "name": "stdout",
     "output_type": "stream",
     "text": [
      "Number of student: 500\n"
     ]
    }
   ],
   "source": [
    "%%script node\n",
    "\n",
    "// student.js file\n",
    "let student = { firstName: \"Emin\" };\n",
    "let id = Symbol(\"Student number\");\n",
    "\n",
    "/** \n",
    " * Assume that we import the student.js file into the studentList.js file and try to store the value 500 in the \n",
    " * id key.\n",
    " */\n",
    "student[id] = 500;\n",
    "\n",
    "console.log(`Number of student: ${student[id]}`);\n"
   ]
  },
  {
   "cell_type": "markdown",
   "metadata": {},
   "source": [
    "When the above program is used elsewhere, the value stored in the `id` key can be overwritten. In this case, the value stored in the `id` key will change.\n",
    "\n",
    "**Example**\n"
   ]
  },
  {
   "cell_type": "code",
   "execution_count": 9,
   "metadata": {
    "vscode": {
     "languageId": "javascript"
    }
   },
   "outputs": [
    {
     "name": "stdout",
     "output_type": "stream",
     "text": [
      "Value of the student variable from the previous part/program: 500\n",
      "Value of the student variable in the new part/program: 800\n"
     ]
    }
   ],
   "source": [
    "%%script node\n",
    "\n",
    "// Another part of the program or a different program\n",
    "let student = { firstName: \"Emin\" };\n",
    "\n",
    "// The value retrieved from the previous part or program.\n",
    "student.id = 500;\n",
    "console.log(`Value of the student variable from the previous part/program: ${student.id}`);\n",
    "\n",
    "// Overwriting the value assigned to id by another part or program.\n",
    "student.id = \"800\";\n",
    "\n",
    "// The new value of the student.id property is now 800.\n",
    "console.log(`Value of the student variable in the new part/program: ${student.id}`);\n",
    "\n"
   ]
  },
  {
   "cell_type": "markdown",
   "metadata": {},
   "source": [
    "## <a id='toc1_3_'></a>[Using JavaScript Symbol Data Type as a Unique Constant](#toc0_)\n",
    "\n",
    "One advantage of the uniqueness of the Symbol data type is that we can create **unique constant values** within a program. This approach is particularly common in creating **_APIs_**.\n",
    "\n",
    "**Example**\n",
    "\n",
    "In the following example, an object is created within the `Symbol()` method, and the `const: true` property indicates that the symbol is constant.\n"
   ]
  },
  {
   "cell_type": "code",
   "execution_count": 11,
   "metadata": {
    "vscode": {
     "languageId": "javascript"
    }
   },
   "outputs": [
    {
     "name": "stdout",
     "output_type": "stream",
     "text": [
      "\u001b[32mSymbol(A constant with unique.)\u001b[39m\n"
     ]
    }
   ],
   "source": [
    "%%script node\n",
    "\n",
    "// Pay attention to the object creation within Symbol.\n",
    "const sym = Symbol(\"A constant with unique.\", { const: true });\n",
    "\n",
    "console.log(sym);"
   ]
  },
  {
   "cell_type": "markdown",
   "metadata": {},
   "source": [
    "In the following example, we demonstrate the use of the Symbol data type for representing an API.\n",
    "\n",
    "**Example**\n"
   ]
  },
  {
   "cell_type": "code",
   "execution_count": 12,
   "metadata": {
    "vscode": {
     "languageId": "javascript"
    }
   },
   "outputs": [
    {
     "name": "stdout",
     "output_type": "stream",
     "text": [
      "Fetching data...\n",
      "Saving data: New data\n"
     ]
    }
   ],
   "source": [
    "%%script node\n",
    "\n",
    "// Let's create an object representing the API\n",
    "const myAPI = {};\n",
    "\n",
    "// Create two Symbols to represent the features of the API\n",
    "const GET_DATA = Symbol('getData');\n",
    "const SAVE_DATA = Symbol('saveData');\n",
    "\n",
    "// Define the features of the API using Symbols\n",
    "myAPI[GET_DATA] = () => {\n",
    "  return \"Fetching data...\";\n",
    "};\n",
    "\n",
    "myAPI[SAVE_DATA] = (data) => {\n",
    "  return `Saving data: ${data}`;\n",
    "};\n",
    "\n",
    "// Use the API\n",
    "console.log(myAPI[GET_DATA]()); // \"Fetching data...\"\n",
    "console.log(myAPI[SAVE_DATA](\"New data\")); // \"Saving data: New data\"\n",
    "\n",
    "/**\n",
    " * Symbols are protected from other features, as they cannot be accessed externally without using myAPI[GET_DATA] \n",
    " * or myAPI[SAVE_DATA].\n",
    " */\n"
   ]
  },
  {
   "cell_type": "markdown",
   "metadata": {},
   "source": [
    "## <a id='toc1_4_'></a>[Making JavaScript Symbol Data Type Global](#toc0_)\n",
    "\n",
    "Sometimes, we may want to access and use a variable with the symbol data type from anywhere in the program. In such cases, we can use the `global:true` property.\n",
    "\n",
    "**Example**\n",
    "\n",
    "In the following example, an object is created within the `Symbol()` method, and the `global:true` property is used to indicate that the symbol is global.\n"
   ]
  },
  {
   "cell_type": "code",
   "execution_count": 14,
   "metadata": {
    "vscode": {
     "languageId": "javascript"
    }
   },
   "outputs": [
    {
     "name": "stdout",
     "output_type": "stream",
     "text": [
      "\u001b[32mSymbol(A unique property.)\u001b[39m\n"
     ]
    }
   ],
   "source": [
    "%%script node\n",
    "\n",
    "// Note that an object is being created within the Symbol.\n",
    "let sym = Symbol(\"A unique property.\", { global: true });\n",
    "\n",
    "console.log(sym);\n"
   ]
  },
  {
   "cell_type": "markdown",
   "metadata": {},
   "source": [
    "## <a id='toc1_5_'></a>[Ensuring Data Security with JavaScript Symbol Data Type](#toc0_)\n",
    "\n",
    "Sometimes, we want to create private variables or methods to prevent external access to data and ensure its security. In such cases, the symbol data type is commonly used (Principle of Encapsulation).\n",
    "\n",
    "**Example**\n"
   ]
  },
  {
   "cell_type": "code",
   "execution_count": 15,
   "metadata": {
    "vscode": {
     "languageId": "javascript"
    }
   },
   "outputs": [
    {
     "name": "stdout",
     "output_type": "stream",
     "text": [
      "firstName\n",
      "age\n"
     ]
    }
   ],
   "source": [
    "%%script node\n",
    "\n",
    "const id = Symbol(\"Employee ID\");\n",
    "\n",
    "const person = { firstName: \"Ömer\", age: 25, [id]: 14533 };\n",
    "\n",
    "// The value associated with the id key is not printed in the console output.\n",
    "for (const key in person) {\n",
    "  console.log(key);\n",
    "};\n"
   ]
  },
  {
   "cell_type": "markdown",
   "metadata": {},
   "source": [
    "## <a id='toc1_6_'></a>[Symbol Data Types as Object Type](#toc0_)\n",
    "\n",
    "As we know, in JavaScript, variables with the symbol data type are normally **_immutable_** and are primitive data types with the symbol type.\n",
    "\n",
    "**However, using the `Object()` method, symbol data types can be created within object data types.**\n",
    "\n",
    "**⚠️ It's important to note that the data type of a symbol property created in an object data type using the `Object()` method is different from a symbol property created using the regular method.**\n",
    "\n",
    "**Örnek**\n"
   ]
  },
  {
   "cell_type": "code",
   "execution_count": 16,
   "metadata": {
    "vscode": {
     "languageId": "javascript"
    }
   },
   "outputs": [
    {
     "name": "stdout",
     "output_type": "stream",
     "text": [
      "The data type of objectEmployeeId variable: object\n"
     ]
    }
   ],
   "source": [
    "%%script node\n",
    "\n",
    "const personId = Symbol(\"Employee ID\");\n",
    "\n",
    "// We used the Object() method to convert the data type of the personId variable to the object data type.\n",
    "const objectEmployeeId = Object(personId);\n",
    "\n",
    "console.log(`The data type of objectEmployeeId variable: ${typeof objectEmployeeId}`);\n"
   ]
  },
  {
   "cell_type": "markdown",
   "metadata": {},
   "source": [
    "## <a id='toc1_7_'></a>[Summary](#toc0_)\n",
    "\n",
    "The Symbol data type is a crucial feature in programming for creating unique and immutable values. This data type serves as an effective tool for preserving object properties, establishing constant values in APIs, and ensuring data security.\n",
    "\n",
    "Symbols play a significant role, especially when used as keys within objects, enabling access to data. This flexibility allows accessing data with the same name across different modules or blocks of code. Additionally, Symbols are effective for creating private data in accordance with the encapsulation principle, enhancing security.\n",
    "\n",
    "The uniqueness property of Symbols makes them useful for creating unique constant values. Symbols used in APIs enable changing data by using the same keys in different parts of the program, increasing code flexibility.\n",
    "\n",
    "The usage of Symbols in the Object data type is different from the regular Symbol data type, and it's an important consideration. The data type of a Symbol property created within an Object is different from a normal Symbol.\n",
    "\n",
    "**In conclusion,** the JavaScript Symbol data type provides a powerful tool for creating unique, immutable, and secure data in programming. Symbols are commonly used, especially for securing object properties and providing flexibility across different parts of a program.\n"
   ]
  },
  {
   "cell_type": "markdown",
   "metadata": {},
   "source": [
    "[^1]: The primary purpose of using keys (or properties) in JavaScript objects is to provide a structure for organizing, accessing, and manipulating data.\n",
    "[^2]: In JavaScript, \"API\" (Application Programming Interface) typically refers to an interface used to communicate with another software or service, exchange data, or access specific functionality.\n",
    "[^3]: The term used in JavaScript to define the properties of an object is \"property.\" Objects store their properties in key-value pairs, and these properties are referred to as \"properties.\" Each property of an object represents its characteristics and contains a value associated with a key.\n"
   ]
  }
 ],
 "metadata": {
  "kernelspec": {
   "display_name": "Python 3",
   "language": "python",
   "name": "python3"
  },
  "language_info": {
   "codemirror_mode": {
    "name": "ipython",
    "version": 3
   },
   "file_extension": ".py",
   "mimetype": "text/x-python",
   "name": "python",
   "nbconvert_exporter": "python",
   "pygments_lexer": "ipython3",
   "version": "3.10.12"
  }
 },
 "nbformat": 4,
 "nbformat_minor": 2
}
