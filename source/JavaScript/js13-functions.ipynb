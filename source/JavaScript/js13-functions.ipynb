{
 "cells": [
  {
   "cell_type": "markdown",
   "metadata": {},
   "source": [
    "# Function Concept in JavaScript<a id='toc0_'></a>\n",
    "\n",
    "Hello friends, in this part of the series, we will explore functions in JavaScript.\n",
    "\n",
    "In this article, we'll cover:\n",
    "\n",
    "- [Features of Functions in JavaScript](#toc1_1_)\n",
    "- [Parts of a JavaScript Function](#toc1_2_)\n",
    "- [Usage of JavaScript `return` Keyword and `()` Parentheses](#toc1_3_)\n",
    "- [Function Scope Concept in JavaScript](#toc1_4_)\n",
    "- [Variable Characteristics Functions in JavaScript](#toc1_5_)\n",
    "- [Summary](#toc1_6_)\n",
    "\n",
    "I hope you enjoy reading.\n",
    "\n",
    "Yazının Türkçe versiyonu için [linke](tr-js13-functions.ipynb) tıklayabilirsiniz.\n",
    "\n",
    "<!-- vscode-jupyter-toc-config\n",
    "\tnumbering=false\n",
    "\tanchor=true\n",
    "\tflat=false\n",
    "\tminLevel=1\n",
    "\tmaxLevel=6\n",
    "\t/vscode-jupyter-toc-config -->\n",
    "<!-- THIS CELL WILL BE REPLACED ON TOC UPDATE. DO NOT WRITE YOUR TEXT IN THIS CELL -->\n"
   ]
  },
  {
   "cell_type": "markdown",
   "metadata": {},
   "source": [
    "## <a id='toc1_1_'></a>[Features of Functions in JavaScript](#toc0_)\n",
    "\n",
    "Functions consist of code blocks and perform specific tasks between these code blocks.\n",
    "\n",
    "The rules used in creating variable names also apply to function names. To recall, you can visit the [Concept of JavaScript Identifiers](js02-basics-of-js.ipynb#concept-of-javascript-identifiers) section.\n",
    "\n",
    "Functions essentially provide us with the following benefits:\n",
    "\n",
    "- With functions, we can create reusable code blocks. Thus, calling the function we created to perform the same task in different parts of the program is sufficient, and we avoid rewriting the code. This principle is called **_DRY_**[^1].\n",
    "\n",
    "- By using parameters within the function, we can achieve different results.\n",
    "\n",
    "The structures of functions have object properties.\n",
    "\n",
    "**Example**\n"
   ]
  },
  {
   "cell_type": "code",
   "execution_count": 1,
   "metadata": {
    "vscode": {
     "languageId": "javascript"
    }
   },
   "outputs": [
    {
     "name": "stdout",
     "output_type": "stream",
     "text": [
      "Is myFunction() of object type?: true\n"
     ]
    }
   ],
   "source": [
    "%%script node\n",
    "\n",
    "function myFunction() {\n",
    "    return \"This is a function.\";\n",
    "}\n",
    "\n",
    "// We use the instanceof operator to understand the relationship between a variable and an object.\n",
    "console.log(`Is myFunction() of object type?: ${myFunction instanceof Object}`);\n"
   ]
  },
  {
   "cell_type": "markdown",
   "metadata": {},
   "source": [
    "## <a id='toc1_2_'></a>[Parts of a JavaScript Function](#toc0_)\n",
    "\n",
    "Let's now examine the parts of a function.\n",
    "\n",
    "![part-of-function](https://savvy.co.il/wp-content/uploads/2022/03/javascript-function.webp, \"parts of a function\")\n",
    "\n",
    "To create a function, we make use of the `function` keyword. The `function` keyword is followed by the function name, `()`, and `{}`.\n",
    "\n",
    "Variables that can be used in the function are also created between the `()` brackets. These are called parameters. Parameters are separated from each other by a `,` sign.\n",
    "\n",
    "The code to be executed is written between the `{}` brackets. This code is called a **function statement**.\n",
    "\n",
    "After the code is executed, the generated value is returned to the place where the function is called using the `return` keyword. The `return` keyword is located within the `{}` brackets.\n",
    "\n",
    "Once a function reaches the `return` keyword, it terminates its execution and does not run the subsequent code. The function returns the result to the place where it was called.\n",
    "\n",
    "**Example**\n"
   ]
  },
  {
   "cell_type": "code",
   "execution_count": 2,
   "metadata": {
    "vscode": {
     "languageId": "javascript"
    }
   },
   "outputs": [
    {
     "name": "stdout",
     "output_type": "stream",
     "text": [
      "Function result: 7\n"
     ]
    }
   ],
   "source": [
    "%%script node\n",
    "\n",
    "// The function is named myFunction(). Its parameters are parameter1 and parameter2.\n",
    "function myFunction(parameter1, parameter2) {\n",
    "\n",
    "  let result = parameter1 + parameter2;\n",
    "\n",
    "  /** \n",
    "  * When the return keyword is reached, the function will stop execution, and it will return the value associated \n",
    "  * with the result variable.\n",
    "  */\n",
    "  return result;\n",
    "\n",
    "  // The following code won't be executed.\n",
    "  let result2 = parameter1 / parameter2;\n",
    "}\n",
    "\n",
    "// parameter1=2 and parameter2=5.\n",
    "console.log(`Function result: ${myFunction(2, 5)}`);"
   ]
  },
  {
   "cell_type": "markdown",
   "metadata": {},
   "source": [
    "## <a id='toc1_3_'></a>[Usage of JavaScript `return` Keyword and `()` Parentheses](#toc0_)\n",
    "\n",
    "In the example below, a function is seen without the use of the `return` keyword. In this case, when the function is called, it returns the **_undefined_** value.\n",
    "\n",
    "**Example**\n"
   ]
  },
  {
   "cell_type": "code",
   "execution_count": 6,
   "metadata": {
    "vscode": {
     "languageId": "javascript"
    }
   },
   "outputs": [
    {
     "name": "stdout",
     "output_type": "stream",
     "text": [
      "myFunction() function result: undefined\n"
     ]
    }
   ],
   "source": [
    "%%script node\n",
    "\n",
    "function myFunction() {\n",
    "    let a, b;\n",
    "    a = 2;\n",
    "}\n",
    "\n",
    "console.log(`myFunction() function result: ${myFunction()}`);\n"
   ]
  },
  {
   "cell_type": "markdown",
   "metadata": {},
   "source": [
    "When calling a function without using `()` parentheses, the content of the function is printed to the console.\n",
    "\n",
    "**💡 Viewing the content of the written function can be especially useful for bug/debugging processes.**\n",
    "\n",
    "**Example**\n"
   ]
  },
  {
   "cell_type": "code",
   "execution_count": 9,
   "metadata": {
    "vscode": {
     "languageId": "javascript"
    }
   },
   "outputs": [
    {
     "name": "stdout",
     "output_type": "stream",
     "text": [
      "myFunction() function structure: function myFunction() {\n",
      "    let result = 10 + 20;\n",
      "    return result;\n",
      "}\n"
     ]
    }
   ],
   "source": [
    "%%script node\n",
    "\n",
    "function myFunction() {\n",
    "    let result = 10 + 20;\n",
    "    return result;\n",
    "}\n",
    "\n",
    "// Calling the function and printing its structure to the console.\n",
    "console.log(`myFunction() function structure: ${myFunction}`);\n"
   ]
  },
  {
   "cell_type": "markdown",
   "metadata": {},
   "source": [
    "## <a id='toc1_4_'></a>[Function Scope Concept in JavaScript](#toc0_)\n",
    "\n",
    "Parameters defined in a function and variables defined within a function using the `let` and `const` keywords have a **local scope**. This means that these variables cannot be accessed from outside the function.\n",
    "\n",
    "**⚠️ Normally, a variable declared using the `var` keyword has global scope characteristics. However, if a variable is declared within a function using the `var` keyword, it will have function scope characteristics, and it cannot be accessed from outside the function. For more details, you can refer to the [Function Scope](js23-scope-concept.ipynb#function-scope) section.**\n"
   ]
  },
  {
   "cell_type": "code",
   "execution_count": 10,
   "metadata": {
    "vscode": {
     "languageId": "javascript"
    }
   },
   "outputs": [
    {
     "name": "stderr",
     "output_type": "stream",
     "text": [
      "ReferenceErrorvalue is not defined\n",
      "ReferenceErrorvalue2 is not defined\n",
      "ReferenceErrorvalue3 is not defined\n"
     ]
    }
   ],
   "source": [
    "%%script node\n",
    "\n",
    "function myFunction(parameter1, parameter2) {\n",
    "    let value = 5;\n",
    "    const value2 = 10;\n",
    "    var value3 = 20;\n",
    "    return value3;\n",
    "}\n",
    "\n",
    "try {\n",
    "    console.log(`The value of the 'value' variable: ${value}`);\n",
    "} catch (error) {\n",
    "    // A variable created with let cannot be used outside its scope.\n",
    "    console.error(error.name + error.message);\n",
    "}\n",
    "\n",
    "try {\n",
    "    console.log(`The value of the 'value2' variable: ${value2}`);\n",
    "} catch (error) {\n",
    "    // A variable created with const cannot be used outside its scope.\n",
    "    console.error(error.name + error.message);\n",
    "}\n",
    "\n",
    "try {\n",
    "    console.log(`The value of the 'value3' variable: ${value3}`);\n",
    "} catch (error) {\n",
    "    // ⚠️ If a variable is created using the var keyword within function scope, it cannot be used outside its scope.\n",
    "    console.error(error.name + error.message);\n",
    "}\n"
   ]
  },
  {
   "cell_type": "markdown",
   "metadata": {},
   "source": [
    "In the above example, the variables `parameter1`, `parameter2`, `value`, and `value2` have local scope. This means that these variables cannot be accessed or used from outside the function's scope.\n",
    "\n",
    "One crucial point to note here is the variable `value3` declared using the `var` keyword. While a variable declared with `var` globally allows access from anywhere in the program, when used within a function, it exhibits **function scope** and becomes inaccessible from outside the function. In other words, it has local scope within the function.\n"
   ]
  },
  {
   "cell_type": "markdown",
   "metadata": {},
   "source": [
    "## <a id='toc1_5_'></a>[Variable Characteristics Functions in JavaScript](#toc0_)\n",
    "\n",
    "A variable can store a function as its value. When the content of such a variable is printed to the console, it actually prints the content of the function to the console.\n",
    "\n",
    "Additionally, variable characteristics function can be use in mathematical expressions.\n",
    "\n",
    "**Example**\n"
   ]
  },
  {
   "cell_type": "code",
   "execution_count": 12,
   "metadata": {
    "vscode": {
     "languageId": "javascript"
    }
   },
   "outputs": [
    {
     "name": "stdout",
     "output_type": "stream",
     "text": [
      "Result of myFunction(): 30\n",
      "The myFunction() function can be used in mathematical operations: 40\n"
     ]
    }
   ],
   "source": [
    "%%script node\n",
    "\n",
    "function myFunction() {\n",
    "    return 10 + 20;\n",
    "}\n",
    "\n",
    "// The 'result' variable has function characteristics.\n",
    "let result = myFunction();\n",
    "\n",
    "// The 'result' variable references the myFunction().\n",
    "console.log(`Result of myFunction(): ${result}`);\n",
    "\n",
    "// The myFunction() can be use to mathematical operations.\n",
    "console.log(`The myFunction() function can be used in mathematical operations: ${result + 10}`);\n"
   ]
  },
  {
   "cell_type": "markdown",
   "metadata": {},
   "source": [
    "## <a id='toc1_6_'></a>[Summary](#toc0_)\n",
    "\n",
    "In JavaScript, functions are structures that perform specific tasks in the code and provide reusability. Functions can be used to perform the same function in different parts of the program, making your code more organized and modular.\n",
    "\n",
    "Key features include:\n",
    "\n",
    "- **Parameters:** Allow you to achieve different results by using values within the function.\n",
    "- **Return Statement:** Terminates the execution of a function and returns a value to the place where it was called.\n",
    "- **Function Scope:** Determines the accessibility scope of variables defined within a function.\n",
    "- **Variable Characteristics Functions:** The content of a variable can be a function, storing an executable reference to the function.\n",
    "\n",
    "Functions help you write your code in a more concise and effective way. Following the \"Do It Yourself\" (DIY) principle, they make your code more organized and easier to maintain. JavaScript functions are a fundamental building block in programming, making your code more modular and readable.\n"
   ]
  },
  {
   "cell_type": "markdown",
   "metadata": {},
   "source": [
    "[^1]: The \"DRY\" principle in JavaScript coding is referred to as \"Don't Repeat Yourself.\" This principle encourages you to write your code by minimizing repeated or identical code fragments, promoting code reusability.\n"
   ]
  }
 ],
 "metadata": {
  "kernelspec": {
   "display_name": "Python 3",
   "language": "python",
   "name": "python3"
  },
  "language_info": {
   "codemirror_mode": {
    "name": "ipython",
    "version": 3
   },
   "file_extension": ".py",
   "mimetype": "text/x-python",
   "name": "python",
   "nbconvert_exporter": "python",
   "pygments_lexer": "ipython3",
   "version": "3.10.12"
  }
 },
 "nbformat": 4,
 "nbformat_minor": 2
}
