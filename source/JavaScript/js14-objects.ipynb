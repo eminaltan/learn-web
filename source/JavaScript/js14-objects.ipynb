{
 "cells": [
  {
   "cell_type": "markdown",
   "metadata": {},
   "source": [
    "# JavaScript Objects<a id='toc0_'></a>\n",
    "\n",
    "Hello, in this part of the series, we will explore the concept of **_objects_** in JavaScript.\n",
    "\n",
    "In this article, we'll cover:\n",
    "\n",
    "- [Understanding Objects in JavaScript](#toc1_1_)\n",
    "- [Parts of a JavaScript Object](#toc1_2_)\n",
    "- [Using Objects Inside Objects in JavaScript](#toc1_3_)\n",
    "- [JavaScript Usage of the `this` Keyword](#toc1_4_)\n",
    "  - [Refers to the Global Object](#toc1_4_1_)\n",
    "  - [Refers to the Object](#toc1_4_2_)\n",
    "  - [Function Borrowing and Binding Operations](#toc1_4_3_)\n",
    "    - [Function Borrowing](#toc1_4_3_1_)\n",
    "    - [Function Binding](#toc1_4_3_2_)\n",
    "      - [Explicit Binding](#toc1_4_3_2_1_)\n",
    "- [Summary](#toc1_5_)\n",
    "\n",
    "I hope you enjoy reading.\n",
    "\n",
    "Yazının Türkçe versiyonu için [linke](tr-js14-objects.ipynb) tıklayabilirsiniz.\n",
    "\n",
    "<!-- vscode-jupyter-toc-config\n",
    "\tnumbering=false\n",
    "\tanchor=true\n",
    "\tflat=false\n",
    "\tminLevel=1\n",
    "\tmaxLevel=6\n",
    "\t/vscode-jupyter-toc-config -->\n",
    "<!-- THIS CELL WILL BE REPLACED ON TOC UPDATE. DO NOT WRITE YOUR TEXT IN THIS CELL -->\n"
   ]
  },
  {
   "cell_type": "markdown",
   "metadata": {},
   "source": [
    "## <a id='toc1_1_'></a>[Understanding Objects in JavaScript](#toc0_)\n",
    "\n",
    "Before delving into examining objects in JavaScript, I'd like to emphasize the concept of objects in programming. This will make it easier to comprehend objects in JavaScript.\n",
    "\n",
    "In the realm of programming, we can liken objects to entities in our world. Let's take a car, for example.\n",
    "\n",
    "Naturally, a car is an object in our world. A car has properties such as its brand, model, weight, and color. In addition, there are actions associated with a car, like its operation, braking, or coming to a stop.\n",
    "\n",
    "The logic of objects in programming follows a similar pattern. An object of a certain type has properties and methods (functions) to perform various tasks.\n",
    "\n",
    "Until now, we've seen variables storing only one value. However, a variable of object type can store many properties and methods related to the object. Therefore, the object-oriented programming approach is often preferred.\n"
   ]
  },
  {
   "cell_type": "markdown",
   "metadata": {},
   "source": [
    "## <a id='toc1_2_'></a>[Parts of a JavaScript Object](#toc0_)\n",
    "\n",
    "Now let's examine the components of a variable of object type in JavaScript.\n",
    "\n",
    "![part-of-object](https://www.scaler.com/topics/images/objects-in-javascript_thumbnail.webp)\n",
    "\n",
    "The declaration of a variable of object type is the same as the declaration of a regular variable. The name of a variable of object type is expressed as **_object name_**.\n",
    "\n",
    "The content of the object resides within curly braces `{}`, and the properties inside the object are separated by commas `,`.\n",
    "\n",
    "The properties inside the object are variables used for storing values.\n",
    "\n",
    "A property consists of a **_key-value_** pair. The **_key_** is used to access the value of the property in the program, and the **_value_** is the stored value within the property.\n",
    "\n",
    "In the given example, the expression `firstName: \"John\"` represents the **_property_** term, `firstName` is the **_key_** term used to access the value in the program, and `John` is the **_value_** term representing the stored value in the property.\n",
    "\n",
    "The content of a property can consist of a method.\n",
    "\n",
    "There are two methods to access properties inside an object:\n",
    "\n",
    "- objectName.propertyName\n",
    "\n",
    "- objectName[\"propertyName\"]\n",
    "\n",
    "**❗ Note the use of the last method in an **_array_**[^1] format.**\n",
    "\n",
    "**Example**\n"
   ]
  },
  {
   "cell_type": "code",
   "execution_count": 1,
   "metadata": {
    "vscode": {
     "languageId": "javascript"
    }
   },
   "outputs": [
    {
     "name": "stdout",
     "output_type": "stream",
     "text": [
      "Value stored in carName property: Lada\n",
      "Value stored in carModel property: undefined\n",
      "Value stored in carWeight property: 900kg\n",
      "Value stored in carColor property: white\n"
     ]
    }
   ],
   "source": [
    "%%script node\n",
    "\n",
    "const car = { carName: \"Lada\", cardModel: 1300, carWeight: \"900kg\", carColor: \"white\" };\n",
    "\n",
    "// Printing the values stored in properties to the console.\n",
    "console.log(`Value stored in carName property: ${car.carName}`);\n",
    "console.log(`Value stored in carModel property: ${car.carModel}`);\n",
    "console.log(`Value stored in carWeight property: ${car.carWeight}`);\n",
    "console.log(`Value stored in carColor property: ${car.carColor}`);"
   ]
  },
  {
   "cell_type": "markdown",
   "metadata": {},
   "source": [
    "In the example below, it can be observed that a property value can also be composed of a method.\n",
    "\n",
    "**Example**\n"
   ]
  },
  {
   "cell_type": "code",
   "execution_count": 2,
   "metadata": {
    "vscode": {
     "languageId": "javascript"
    }
   },
   "outputs": [
    {
     "name": "stdout",
     "output_type": "stream",
     "text": [
      "Does car.drive property have a method?: true\n",
      "Content of the car.drive method: function driveCar() {\n",
      "        return \"The car is driven.\"; \n",
      "    }\n"
     ]
    }
   ],
   "source": [
    "%%script node\n",
    "\n",
    "// Properties can be on separate lines, as shown in the example.\n",
    "const car = {\n",
    "    carName: \"Lada\",\n",
    "    carModel: 1300,\n",
    "    carWeight: \"900kg\",\n",
    "    carColor: \"white\",\n",
    "\n",
    "    // The property value below is a method.\n",
    "    drive: function driveCar() {\n",
    "        return \"The car is driven.\"; \n",
    "    }\n",
    "};\n",
    "\n",
    "// Checking if the 'drive' property of 'car' is a method.\n",
    "console.log(`Does car.drive property have a method?: ${car.drive instanceof Function}`);\n",
    "\n",
    "// Accessing the driveCar() method in the 'car' object using the 'drive' key. A property can be a method.\n",
    "console.log(`Content of the car.drive method: ${car.drive}`);\n"
   ]
  },
  {
   "cell_type": "markdown",
   "metadata": {},
   "source": [
    "## <a id='toc1_3_'></a>[Using Objects Inside Objects in JavaScript](#toc0_)\n",
    "\n",
    "Another object can be used within an object. Typically, this is done to categorize data and make the code more understandable.\n",
    "\n",
    "**Example**\n"
   ]
  },
  {
   "cell_type": "code",
   "execution_count": 3,
   "metadata": {
    "vscode": {
     "languageId": "javascript"
    }
   },
   "outputs": [
    {
     "name": "stdout",
     "output_type": "stream",
     "text": [
      "Car brand: Lada\n",
      "Motor size: 1.5\n"
     ]
    }
   ],
   "source": [
    "%%script node\n",
    "\n",
    "const car = {\n",
    "    // Creating an object to hold general information about the car.\n",
    "    generalInfo: {\n",
    "        carName: \"Lada\",\n",
    "        model: 1300,\n",
    "        weight: \"900kg\",\n",
    "        color: \"white\",\n",
    "    },\n",
    "\n",
    "    // Creating an object to hold motor details about the car.\n",
    "    motorType: {\n",
    "        horsePower: \"80hp\",\n",
    "        motorSize: \"1.5\",\n",
    "        engineType: \"Diesel engine\"\n",
    "    }\n",
    "};\n",
    "\n",
    "// Printing the organized values to the console.\n",
    "console.log(`Car brand: ${car.generalInfo.carName}`);\n",
    "console.log(`Motor size: ${car.motorType.motorSize}`);"
   ]
  },
  {
   "cell_type": "markdown",
   "metadata": {},
   "source": [
    "## <a id='toc1_4_'></a>[JavaScript Usage of the `this` Keyword](#toc0_)\n",
    "\n",
    "The `this` keyword is used for various purposes. However, I'll stay within the scope here and cover what is necessary. Later, I plan to create and share more comprehensive content.\n",
    "\n",
    "**❗ The `this` keyword doesn't have variable properties on its own. Therefore, we cannot define variables using the `this` keyword alone.**\n",
    "\n",
    "**❗ The `this` keyword refers to the object itself or, depending on usage, a part of the object.**\n",
    "\n",
    "JavaScript has the following use cases for the `this` keyword:\n",
    "\n",
    "- It refers to the global object.\n",
    "\n",
    "- It refers to the object created by the developer.\n",
    "\n",
    "- It is used in function borrowing and function binding operations.\n",
    "\n",
    "Now let's examine these cases separately.\n"
   ]
  },
  {
   "cell_type": "markdown",
   "metadata": {},
   "source": [
    "### <a id='toc1_4_1_'></a>[Refers to the Global Object](#toc0_)\n",
    "\n",
    "Before delving into the topic, let's clarify the term **_global object_** to facilitate a better understanding of the subject.\n",
    "\n",
    "In JavaScript, the global object (or global object) refers to the object defined at the top level. In other words, all properties, keys, variables, or values we use are stored within the global object.\n",
    "\n",
    "The global object varies depending on the environment we are working in. For example, in the browser environment, the global object is **_window_**, while in the Node.js environment, it is **_global_**. All properties or values, in short, everything, is stored within this global object. These properties or values can be accessed from anywhere, meaning they are not limited by any scope.\n",
    "\n",
    "Let's provide an example using the **_window_** object used in the browser.\n",
    "\n",
    "**Example**\n"
   ]
  },
  {
   "cell_type": "code",
   "execution_count": 6,
   "metadata": {
    "vscode": {
     "languageId": "javascript"
    }
   },
   "outputs": [
    {
     "name": "stdout",
     "output_type": "stream",
     "text": [
      "Test\n",
      "Test\n"
     ]
    }
   ],
   "source": [
    "%%javascript\n",
    "\n",
    "// Logging a test expression to the console using both usage forms.\n",
    "console.log(\"Test\");\n",
    "window.console.log(\"Test\");"
   ]
  },
  {
   "cell_type": "markdown",
   "metadata": {},
   "source": [
    "In the example above, the statements `console.log(\"deneme\")` and `window.console.log(\"deneme\")` carry the same meaning. From this, we can understand that the declaration of the `console` is within the `window` object, which represents the global object in a browser environment.\n",
    "\n",
    "After these explanations, let's discuss the relationship of the `this` keyword with the global object.\n",
    "\n",
    "**❗ In JavaScript, the `this` keyword refers to the global object.**\n",
    "\n",
    "**In other words, the `this` keyword in a browser environment will reference the `window` object. These two terms are synonymous.**\n",
    "\n",
    "**Example**\n"
   ]
  },
  {
   "cell_type": "code",
   "execution_count": 7,
   "metadata": {
    "vscode": {
     "languageId": "javascript"
    }
   },
   "outputs": [
    {
     "name": "stdout",
     "output_type": "stream",
     "text": [
      "Test\n",
      "Test\n",
      "Is 'this' keyword synonymous with the window object?: true\n"
     ]
    }
   ],
   "source": [
    "%%javascript\n",
    "\n",
    "// Both expressions have the same meaning. The 'this' keyword here references the window object.\n",
    "window.console.log(\"Test\");\n",
    "this.console.log(\"Test\");\n",
    "\n",
    "// Since both terms are the same, the console prints the true statement.\n",
    "console.log(`Is 'this' keyword synonymous with the window object?: ${this === window}`);\n"
   ]
  },
  {
   "cell_type": "markdown",
   "metadata": {},
   "source": [
    "**❗ It's worth noting that when the `this` keyword is used alone inside an object-independent method, it still references the `window` object.**\n",
    "\n",
    "**Example**\n"
   ]
  },
  {
   "cell_type": "code",
   "execution_count": 8,
   "metadata": {
    "vscode": {
     "languageId": "javascript"
    }
   },
   "outputs": [
    {
     "name": "stdout",
     "output_type": "stream",
     "text": [
      "\u001b[36m<ref *1>\u001b[39m Object [global] {\n",
      "  global: \u001b[36m[Circular *1]\u001b[39m,\n",
      "  clearImmediate: \u001b[36m[Function: clearImmediate]\u001b[39m,\n",
      "  setImmediate: [Function: setImmediate] {\n",
      "    [\u001b[32mSymbol(nodejs.util.promisify.custom)\u001b[39m]: \u001b[36m[Getter]\u001b[39m\n",
      "  },\n",
      "  clearInterval: \u001b[36m[Function: clearInterval]\u001b[39m,\n",
      "  clearTimeout: \u001b[36m[Function: clearTimeout]\u001b[39m,\n",
      "  setInterval: \u001b[36m[Function: setInterval]\u001b[39m,\n",
      "  setTimeout: [Function: setTimeout] {\n",
      "    [\u001b[32mSymbol(nodejs.util.promisify.custom)\u001b[39m]: \u001b[36m[Getter]\u001b[39m\n",
      "  },\n",
      "  queueMicrotask: \u001b[36m[Function: queueMicrotask]\u001b[39m,\n",
      "  structuredClone: \u001b[36m[Function: structuredClone]\u001b[39m,\n",
      "  atob: \u001b[36m[Getter/Setter]\u001b[39m,\n",
      "  btoa: \u001b[36m[Getter/Setter]\u001b[39m,\n",
      "  performance: \u001b[36m[Getter/Setter]\u001b[39m,\n",
      "  fetch: \u001b[36m[Function: fetch]\u001b[39m,\n",
      "  crypto: \u001b[36m[Getter]\u001b[39m,\n",
      "  __filename: \u001b[32m'[stdin]'\u001b[39m,\n",
      "  module: {\n",
      "    id: \u001b[32m'[stdin]'\u001b[39m,\n",
      "    path: \u001b[32m'.'\u001b[39m,\n",
      "    exports: {},\n",
      "    filename: \u001b[32m'/home/emin/learn-web/source/JavaScript/[stdin]'\u001b[39m,\n",
      "    loaded: \u001b[33mfalse\u001b[39m,\n",
      "    children: [],\n",
      "    paths: [\n",
      "      \u001b[32m'/home/emin/learn-web/source/JavaScript/node_modules'\u001b[39m,\n",
      "      \u001b[32m'/home/emin/learn-web/source/node_modules'\u001b[39m,\n",
      "      \u001b[32m'/home/emin/learn-web/node_modules'\u001b[39m,\n",
      "      \u001b[32m'/home/emin/node_modules'\u001b[39m,\n",
      "      \u001b[32m'/home/node_modules'\u001b[39m,\n",
      "      \u001b[32m'/node_modules'\u001b[39m\n",
      "    ]\n",
      "  },\n",
      "  exports: {},\n",
      "  __dirname: \u001b[32m'.'\u001b[39m,\n",
      "  require: [Function: require] {\n",
      "    resolve: [Function: resolve] { paths: \u001b[36m[Function: paths]\u001b[39m },\n",
      "    main: \u001b[90mundefined\u001b[39m,\n",
      "    extensions: [Object: null prototype] {\n",
      "      \u001b[32m'.js'\u001b[39m: \u001b[36m[Function (anonymous)]\u001b[39m,\n",
      "      \u001b[32m'.json'\u001b[39m: \u001b[36m[Function (anonymous)]\u001b[39m,\n",
      "      \u001b[32m'.node'\u001b[39m: \u001b[36m[Function (anonymous)]\u001b[39m\n",
      "    },\n",
      "    cache: [Object: null prototype] {}\n",
      "  },\n",
      "  myFunction: \u001b[36m[Function: myFunction]\u001b[39m\n",
      "}\n"
     ]
    }
   ],
   "source": [
    "%%script node\n",
    "\n",
    "function myFunction() {\n",
    "    // The 'this' keyword here refers to the window object.\n",
    "    console.log(this);\n",
    "}\n",
    "\n",
    "// All properties will be print of window object.\n",
    "myFunction();\n"
   ]
  },
  {
   "cell_type": "markdown",
   "metadata": {},
   "source": [
    "### <a id='toc1_4_2_'></a>[Refers to the Object](#toc0_)\n",
    "\n",
    "When the `this` keyword is used **solely** within a method of an object, in this case, it will reference the object itself.\n",
    "\n",
    "**Example**\n"
   ]
  },
  {
   "cell_type": "code",
   "execution_count": 9,
   "metadata": {
    "vscode": {
     "languageId": "javascript"
    }
   },
   "outputs": [
    {
     "name": "stdout",
     "output_type": "stream",
     "text": [
      "{\n",
      "  firstName: \u001b[32m'Ömer'\u001b[39m,\n",
      "  lastName: \u001b[32m'Altan'\u001b[39m,\n",
      "  id: \u001b[33m4560\u001b[39m,\n",
      "  printStudent: \u001b[36m[Function: printStudentInfo]\u001b[39m\n",
      "}\n"
     ]
    }
   ],
   "source": [
    "%%script node\n",
    "\n",
    "const student = {\n",
    "    firstName: \"Ömer\",\n",
    "    lastName: \"Altan\",\n",
    "    id: 4560,\n",
    "    printStudent: function printStudentInfo() {\n",
    "        /**\n",
    "         * The printStudent method will reference the student object, and the content of the student object \n",
    "         * will be printed to the console.\n",
    "         */\n",
    "        console.log(this);\n",
    "    }\n",
    "};\n",
    "\n",
    "/**\n",
    " * Calling the printStudent method. The object will be printed to the console. In this case, the 'this' keyword\n",
    " * references the object itself.\n",
    " */\n",
    "student.printStudent();"
   ]
  },
  {
   "cell_type": "markdown",
   "metadata": {},
   "source": [
    "The `this` keyword, when used as the key of a property within a method of an object, provides the value of that property.\n",
    "\n",
    "**❗ Inside an object, the `this` keyword still refers to the object itself.**\n",
    "\n",
    "**Example**\n"
   ]
  },
  {
   "cell_type": "code",
   "execution_count": 10,
   "metadata": {
    "vscode": {
     "languageId": "javascript"
    }
   },
   "outputs": [
    {
     "name": "stdout",
     "output_type": "stream",
     "text": [
      "Student's first name: Ömer\n",
      "Student's last name: Altan\n",
      "Student's ID: 4560\n"
     ]
    }
   ],
   "source": [
    "%%script node\n",
    "\n",
    "const student = {\n",
    "    firstName: \"Ömer\",\n",
    "    lastName: \"Altan\",\n",
    "    id: 4560,\n",
    "    printStudent: function printStudentInfo() {\n",
    "        /** \n",
    "         * The 'this' keyword here references the student object.\n",
    "         * \n",
    "         * For example, the statement this.firstName is equivalent to student.firstName.\n",
    "         */\n",
    "        console.log(`Student's first name: ${this.firstName}`);\n",
    "        console.log(`Student's last name: ${this.lastName}`);\n",
    "        console.log(`Student's ID: ${this.id}`);\n",
    "    }\n",
    "};\n",
    "\n",
    "// Calling the printStudent method within the student object.\n",
    "student.printStudent();"
   ]
  },
  {
   "cell_type": "markdown",
   "metadata": {},
   "source": [
    "**❗ It's worth noting that when the `this` keyword is used as the key of a property outside an object, it refers to a variable belonging to the `window` object.**\n",
    "\n",
    "**Remember that the `this` keyword used outside an object refers to the globally defined object. In a browser environment, the global object is `window`.**\n",
    "\n",
    "**Example**\n"
   ]
  },
  {
   "cell_type": "code",
   "execution_count": 13,
   "metadata": {
    "vscode": {
     "languageId": "javascript"
    }
   },
   "outputs": [
    {
     "name": "stdout",
     "output_type": "stream",
     "text": [
      "Is window.student equivalent to this.student?: true\n",
      "Banu Tekin\n"
     ]
    }
   ],
   "source": [
    "%%javascript\n",
    "\n",
    "this.student = \"Banu Tekin\";\n",
    "\n",
    "// Here, 'this' represents the global object, equivalent to window.student. Therefore, the result is true.\n",
    "console.log(`Is window.student equivalent to this.student?: ${window.student === this.student}`);\n",
    "\n",
    "// Since 'this.student' is equivalent to 'window.student', \"Banu Tekin\" is printed to the console.\n",
    "console.log(student);"
   ]
  },
  {
   "cell_type": "markdown",
   "metadata": {},
   "source": [
    "**❗ When the `this` keyword is used as the key of a property within an object-independent method, it refers to a variable belonging to the `window` object.**\n",
    "\n",
    "**Because the `this` keyword outside an object refers to the globally defined object. In a browser environment, the global object is `window`.**\n",
    "\n",
    "**Example**\n"
   ]
  },
  {
   "cell_type": "code",
   "execution_count": 14,
   "metadata": {
    "vscode": {
     "languageId": "javascript"
    }
   },
   "outputs": [
    {
     "name": "stdout",
     "output_type": "stream",
     "text": [
      "Value of this.student variable: Banu Tekin\n",
      "Is this.student equivalent to window.student?: true\n",
      "Are student and this.student equivalent?: true\n",
      "Value of student variable: Banu Tekin\n"
     ]
    }
   ],
   "source": [
    "%%javascript\n",
    "\n",
    "function myFunction() {\n",
    "  // The statement below is equivalent to window.student.\n",
    "  console.log(`Value of this.student variable: ${this.student = \"Banu Tekin\"}`);\n",
    "  \n",
    "  // Since both terms are the same, the console prints the true statement.\n",
    "  console.log(`Is this.student equivalent to window.student?: ${this.student === window.student}`);\n",
    "  \n",
    "  // Since both terms are the same, the console prints the true statement.\n",
    "  console.log(`Are student and this.student equivalent?: ${student === this.student}`);\n",
    "\n",
    "  // Printing the value of the student variable, which is \"Banu Tekin\".\n",
    "  console.log(`Value of student variable: ${student}`);\n",
    "}\n",
    "\n",
    "// Calling our method.\n",
    "myFunction();"
   ]
  },
  {
   "cell_type": "markdown",
   "metadata": {},
   "source": [
    "### <a id='toc1_4_3_'></a>[Function Borrowing and Binding Operations](#toc0_)\n",
    "\n",
    "Let's explain this topic through a metaphor.\n",
    "\n",
    "Imagine we have two independent objects. Let one of these objects be named **_truck_** and the other one be named **_car_**.\n",
    "\n",
    "Sometimes, we may want to use the properties inside the car object together with the methods inside the truck object or produce a result by using the car object as an argument in a method within the truck object. In such cases, function borrowing or function binding methods come to our aid.\n",
    "\n",
    "Now, let's delve a bit into these two concepts.\n"
   ]
  },
  {
   "cell_type": "markdown",
   "metadata": {},
   "source": [
    "#### <a id='toc1_4_3_1_'></a>[Function Borrowing](#toc0_)\n",
    "\n",
    "The process of using a method from one object for another object is called **_function borrowing_**.\n",
    "\n",
    "In other words, a method of one object is borrowed to be used in another object.\n",
    "\n",
    "**Example**\n"
   ]
  },
  {
   "cell_type": "code",
   "execution_count": 15,
   "metadata": {
    "vscode": {
     "languageId": "javascript"
    }
   },
   "outputs": [
    {
     "name": "stdout",
     "output_type": "stream",
     "text": [
      "Vehicle type:Lada\n"
     ]
    }
   ],
   "source": [
    "%%script node\n",
    "\n",
    "const truck = {\n",
    "    printTruckProperties: function () {\n",
    "        return console.log(`Vehicle type:${this.model}`);\n",
    "    }\n",
    "};\n",
    "\n",
    "const car = {\n",
    "    model: \"Lada\",\n",
    "};\n",
    "\n",
    "/**\n",
    " * The printCarProperties method of the car object borrows the printTruckProperties method from the truck object. \n",
    " * This is an illustration of the borrowing process.\n",
    " */\n",
    "car.printCarProperties = truck.printTruckProperties;\n",
    "\n",
    "/**\n",
    " * Calling the car.printCarProperties() method prints the content of the model property inside the car object to \n",
    " * the console.\n",
    " */\n",
    "car.printCarProperties();\n"
   ]
  },
  {
   "cell_type": "markdown",
   "metadata": {},
   "source": [
    "In the above example, we are borrowing the `printTruckProperties()` method of the `truck` object for the `car` object, performing the borrowing process. When we invoke `car.printCarProperties()`, the `printTruckProperties()` method will be called, and within this method, the `this.model` property refers to the `car.model` property.\n",
    "\n",
    "**❗ Notice that in function borrowing, the property names of both objects must be the same. This implies that the property names of objects involved in function borrowing must match.**\n",
    "\n",
    "**⚠️ Even though the `this` keyword is used within the `printTruckProperties()` method of the `truck` object, it references the `car` object. Remember that originally, the `this` keyword within the `truck` object referred to the object itself, i.e., the `truck` object.**\n"
   ]
  },
  {
   "cell_type": "markdown",
   "metadata": {},
   "source": [
    "#### <a id='toc1_4_3_2_'></a>[Function Binding](#toc0_)\n",
    "\n",
    "Binding a method means creating a function that will be tied to a specific object or linking a function to an object. In JavaScript, the binding process is performed in two ways:\n",
    "\n",
    "- Implicit Binding\n",
    "\n",
    "- Explicit Binding\n",
    "\n",
    "So far, we have used the `this` keyword with the **_implicit binding_** method. Therefore, I will not cover implicit binding here. Instead, I will focus on the **_explicit binding_** method.\n",
    "\n",
    "##### <a id='toc1_4_3_2_1_'></a>[Explicit Binding](#toc0_)\n",
    "\n",
    "Explicit binding is achieved through the `call()`, `apply()`, or `bind()` methods.\n",
    "\n",
    "Let's take an example using the `bind()` method.\n",
    "\n",
    "**Example**\n"
   ]
  },
  {
   "cell_type": "code",
   "execution_count": 16,
   "metadata": {
    "vscode": {
     "languageId": "javascript"
    }
   },
   "outputs": [
    {
     "name": "stdout",
     "output_type": "stream",
     "text": [
      "\n",
      "        Type of vehicle:Lada\n",
      "        Engine type of vehicle :Gasoline\n",
      "        Wheel size of vehicle:18 inch\n",
      "        \n",
      "Type of printCar:function\n"
     ]
    }
   ],
   "source": [
    "%%script node\n",
    "\n",
    "const truck = {\n",
    "    model: \"IVECO\",\n",
    "    engine: \"Diesel\",\n",
    "    wheelSize: \"36 inch\",\n",
    "    \n",
    "    /** \n",
    "     * When accessed from another object using the binding method, the this.model statement within \n",
    "     * the printTruckProperties() method refers to the property of the accessing object.\n",
    "     */\n",
    "    printTruckProperties: function () {\n",
    "        return console.log(`\n",
    "        Type of vehicle:${this.model}\n",
    "        Engine type of vehicle :${this.engine}\n",
    "        Wheel size of vehicle:${this.wheelSize}\n",
    "        `);\n",
    "    }\n",
    "};\n",
    "\n",
    "const car = {\n",
    "    model: \"Lada\",\n",
    "    engine: \"Gasoline\",\n",
    "    wheelSize: \"18 inch\"\n",
    "};\n",
    "\n",
    "// Binding the printTruckProperties() method to the car object.\n",
    "const printCar = truck.printTruckProperties.bind(car);\n",
    "printCar();\n",
    "\n",
    "// Checking the type of the printCar variable, which is a function.\n",
    "console.log(`Type of printCar:${typeof printCar}`);"
   ]
  },
  {
   "cell_type": "markdown",
   "metadata": {},
   "source": [
    "In the above example, we are passing the `car` object as an argument to the `printTruckProperties()` method of the `truck` object. Subsequently, we store the result in a variable named `printCar`. In this case, the `printCar` variable gains the method property. As briefly mentioned earlier, this situation is referred to as **_function binding_**.\n",
    "\n",
    "Within the method of the object where it is used, the `this` keyword refers to the object passed as an argument. In other words, the `this` keyword within the `truck` object now references the `car` object.\n",
    "\n",
    "Therefore, the property values of the argument are printed to the console.\n",
    "\n",
    "**❗ Note that in function binding, the property names of both objects must be the same. This implies that the property names of objects involved in function binding must match.**\n",
    "\n",
    "Additionally, the `this` keyword is used in **_HTML event handlers_**[^2], but I won't go into that since it is beyond the scope of this topic. I am considering creating a separate content to cover the usage of the `this` keyword in HTML event handlers.\n"
   ]
  },
  {
   "cell_type": "markdown",
   "metadata": {},
   "source": [
    "## <a id='toc1_5_'></a>[Summary](#toc0_)\n",
    "\n",
    "In this section, we covered various concepts related to objects in JavaScript, including their fundamentals, properties, and usage. We began by using a car example to illustrate how objects in programming are similar to real-world objects. We then explored the components of objects in JavaScript, such as properties, keys, values, and nested objects.\n",
    "\n",
    "We delved into the usage of the `this` keyword in JavaScript, understanding how it can reference the global object, the object itself, and establish connections between methods. We learned about the implicit binding and explicit binding methods of using the `this` keyword.\n",
    "\n",
    "Lastly, we focused on concepts like function borrowing and function binding, demonstrating how one object's methods can be used in another object. We illustrated how function binding can be achieved using the `call()`, `apply()`, and `bind()` methods.\n",
    "\n",
    "Understanding object usage and the `this` keyword in JavaScript correctly can empower programmers to write more flexible and powerful code. I hope this article helps you gain a better understanding of objects and the `this` keyword in JavaScript. Happy coding!\n"
   ]
  },
  {
   "cell_type": "markdown",
   "metadata": {},
   "source": [
    "[^1]: In JavaScript, an array is a data type used to store multiple values inside a variable. Arrays contain sequentially indexed elements, and these elements can be accessed using index numbers.\n",
    "[^2]: HTML event handlers are JavaScript functions that handle events occurring in an HTML document. HTML events represent specific situations, such as user interactions or other events happening in the browser. Examples of HTML events include clicking a button, submitting a form, or hovering over an element.\n",
    "\n",
    "Event handlers are JavaScript functions defined to be executed when a specific event occurs. This facilitates interactions between HTML and JavaScript. Event handlers can be directly used within HTML tags or defined within JavaScript code.\n"
   ]
  }
 ],
 "metadata": {
  "kernelspec": {
   "display_name": "Python 3",
   "language": "python",
   "name": "python3"
  },
  "language_info": {
   "codemirror_mode": {
    "name": "ipython",
    "version": 3
   },
   "file_extension": ".py",
   "mimetype": "text/x-python",
   "name": "python",
   "nbconvert_exporter": "python",
   "pygments_lexer": "ipython3",
   "version": "3.10.12"
  }
 },
 "nbformat": 4,
 "nbformat_minor": 2
}
