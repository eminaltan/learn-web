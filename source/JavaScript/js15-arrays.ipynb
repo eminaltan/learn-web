{
  "cells": [
    {
      "cell_type": "markdown",
      "metadata": {},
      "source": [
        "# JavaScript Arrays<a id='toc0_'></a>  \n",
        "Hello, in this part of the series, we will explore the concept of **_arrays_** in JavaScript.\n",
        "\n",
        "In this article, we'll cover:  \n",
        "\n",
        "- [JavaScript Array Data Type](#toc1_1_)    \n",
        "- [Creating Variables of JavaScript Array Data Type](#toc1_2_)    \n",
        "  - [Array Data Types in Object Form](#toc1_2_1_)    \n",
        "- [Adding New Elements to a JavaScript Array Type Variable](#toc1_3_)    \n",
        "- [Associative Feature in JavaScript](#toc1_4_)    \n",
        "- [JavaScript Array Methods, Operators, and Properties](#toc1_5_)    \n",
        "  - [`Array.isArray` Method](#toc1_5_1_)    \n",
        "  - [`instanceof` Operator](#toc1_5_2_)    \n",
        "  - [`delete` Operator](#toc1_5_3_)    \n",
        "  - [`...` (Spread) Operatörü](#toc1_5_4_)    \n",
        "    - [Merging Variables](#toc1_5_4_1_)    \n",
        "  - [Copy Operations](#toc1_5_5_)    \n",
        "  - [Content Expansion Operations](#toc1_5_6_)    \n",
        "  - [Breaking Down the Expression](#toc1_5_7_)    \n",
        "  - [Usage as Parameters Within a Method](#toc1_5_8_)    \n",
        "  - [In Destructuring Operations](#toc1_5_9_)    \n",
        "  - [Converting NodeList to Array](#toc1_5_10_)    \n",
        "  - [`toString()` Method](#toc1_5_11_)    \n",
        "  - [`join()` Method](#toc1_5_12_)    \n",
        "  - [`pop()` Method](#toc1_5_13_)    \n",
        "  - [`push()` Method](#toc1_5_14_)    \n",
        "  - [`shift()` Method](#toc1_5_15_)    \n",
        "  - [`unshift()` Method](#toc1_5_16_)    \n",
        "  - [`concat()` Method](#toc1_5_17_)    \n",
        "  - [`splice()` Method](#toc1_5_18_)    \n",
        "  - [`slice()` Method](#toc1_5_19_)    \n",
        "  - [`sort()` Method](#toc1_5_20_)    \n",
        "  - [Using Compare Methods Inside the `sort()` Method](#toc1_5_21_)    \n",
        "  - [`reverse()` Method](#toc1_5_22_)    \n",
        "  - [`forEach()` Method](#toc1_5_23_)    \n",
        "  - [`map()` Method](#toc1_5_24_)    \n",
        "  - [`flatMap()` Method](#toc1_5_25_)    \n",
        "  - [`filter()` Method](#toc1_5_26_)    \n",
        "  - [`reduce()` Method](#toc1_5_27_)    \n",
        "  - [`every()` Method](#toc1_5_28_)    \n",
        "  - [`some()` Method](#toc1_5_29_)    \n",
        "  - [`indexOf()` Method](#toc1_5_30_)    \n",
        "  - [`lastIndexOf()` Method](#toc1_5_31_)    \n",
        "  - [`find()` Method](#toc1_5_32_)    \n",
        "  - [`findIndex()` Method](#toc1_5_33_)    \n",
        "  - [`Array.from()` Method](#toc1_5_34_)    \n",
        "  - [`keys()` Method](#toc1_5_35_)    \n",
        "  - [`entries()` Method](#toc1_5_36_)    \n",
        "  - [`includes()` Method](#toc1_5_37_)    \n",
        "  - [Usage of the `length` Property](#toc1_5_38_)    \n",
        "- [Summary](#toc1_6_)    \n",
        "\n",
        "I hope you enjoy reading.\n",
        "\n",
        "Yazının Türkçe versiyonu için [linke](tr-js15-arrays.ipynb) tıklayabilirsiniz.\n",
        "<!-- vscode-jupyter-toc-config\n",
        "\tnumbering=false\n",
        "\tanchor=true\n",
        "\tflat=false\n",
        "\tminLevel=1\n",
        "\tmaxLevel=6\n",
        "\t/vscode-jupyter-toc-config -->\n",
        "<!-- THIS CELL WILL BE REPLACED ON TOC UPDATE. DO NOT WRITE YOUR TEXT IN THIS CELL -->"
      ]
    },
    {
      "cell_type": "markdown",
      "metadata": {},
      "source": [
        "## <a id='toc1_1_'></a>[JavaScript Array Data Type](#toc0_)\n",
        "\n",
        "A variable with the data type array stores and organizes data in a collection format. It is one of the data types that allows the storage of values by grouping them, facilitating the organized use of stored values. It particularly aids in navigating through and performing operations within a data collection.\n",
        "\n",
        "To make it clearer, let's provide a positive example. Let's imagine there are several car brands defined as variables in JavaScript, and we want to save these car brands to a file. We would need to perform separate operations for each car brand. Handling this for 3 or 4 cars might not be a problem, but for 400 cars, doing the same operation would require both time and effort. In such a case, the array data type comes to our rescue. By using array data types with JavaScript loops, we can easily solve such tasks.\n",
        "\n",
        "Before delving into the topic, let's introduce some basic concepts through the example below.\n",
        "\n",
        "**Example**\n",
        "\n",
        "```javascript\n",
        "const cars = [\"Lada\", \"Opel\", \"BMW\"];\n",
        "```\n",
        "\n",
        "Generally, we use the `[]` notation to create an array. Values are stored between the `[]` brackets, and these values are called elements. Taking the example above, the value `Lada` represents an element. Elements are separated from each other by commas.\n",
        "\n",
        "**❗ Generally, the elements of the array are accessed and manipulated using index values. The index value within an array always starts from 0. For example, to access the `Lada` element within the cars variable, we need to use the syntax `cars[0]`.**\n",
        "\n",
        "**Example**\n"
      ]
    },
    {
      "cell_type": "code",
      "execution_count": 118,
      "metadata": {
        "vscode": {
          "languageId": "javascript"
        }
      },
      "outputs": [
        {
          "name": "stdout",
          "output_type": "stream",
          "text": [
            "The first element of the array: Lada\n"
          ]
        }
      ],
      "source": [
        "%%script node\n",
        "\n",
        "const cars = [\"Lada\", \"Opel\", \"BMW\"];\n",
        "\n",
        "// Accessing the element with index 0 in the cars array. Lada has an index value of 0.\n",
        "console.log(`The first element of the array: ${cars[0]}`);\n"
      ]
    },
    {
      "cell_type": "markdown",
      "metadata": {},
      "source": [
        "The array data type has a specialized nature akin to the object data type. This means that a variable with an array type can contain different data types together.\n",
        "\n",
        "**Example**\n"
      ]
    },
    {
      "cell_type": "code",
      "execution_count": 119,
      "metadata": {
        "vscode": {
          "languageId": "javascript"
        }
      },
      "outputs": [
        {
          "name": "stdout",
          "output_type": "stream",
          "text": [
            "The first element of the array: 1707392318574\n",
            "Card number: 10 Phone number: 115\n",
            "The 3rd element of the array: Mustafa\n",
            "The data type of the 'personal' variable: object\n"
          ]
        }
      ],
      "source": [
        "%%script node\n",
        "\n",
        "/** \n",
        " * As seen in the example, the 'personal' variable with an array type contains different data types such as time, \n",
        " * an object, and a string.\n",
        " */\n",
        "const personal = [Date.now(), privateInformation = { cardNumber: 10, phoneNumber:115}, \"Mustafa\"];\n",
        "\n",
        "/** \n",
        " * We called the now() function of the Date object and printed the obtained time value in milliseconds to the \n",
        " * console.\n",
        " */\n",
        "console.log(`The first element of the array: ${personal[0]}`);\n",
        "\n",
        "// Printing the content of an object named privateInformation to the console.\n",
        "console.log(`Card number: ${personal[1].cardNumber} Phone number: ${personal[1].phoneNumber}`);\n",
        "\n",
        "// Accessing the value 'Mustafa' within the array.\n",
        "console.log(`The 3rd element of the array: ${personal[2]}`);\n",
        "\n",
        "// The data type of the 'personal' variable is object.\n",
        "console.log(`The data type of the 'personal' variable: ${typeof personal}`);\n"
      ]
    },
    {
      "cell_type": "markdown",
      "metadata": {},
      "source": [
        "## <a id='toc1_2_'></a>[Creating Variables of JavaScript Array Data Type](#toc0_)\n",
        "\n",
        "**There are two methods to create a variable of the array data type:**\n",
        "\n",
        "- Using the literal method.\n",
        "- Defining an array in the object type.\n",
        "\n",
        "As we introduced the first method, which is creating a variable with the array data type using the literal method, let's now delve into creating a variable with the array data type in the form of an object.\n"
      ]
    },
    {
      "cell_type": "markdown",
      "metadata": {},
      "source": [
        "### <a id='toc1_2_1_'></a>[Array Data Types in Object Form](#toc0_)\n",
        "\n",
        "We can create a variable of the array data type in the form of an object using the `new Array()` constructor method.\n",
        "\n",
        "**⚠️ The data type of a variable created using the `new Array()` method is the same as the one created using the literal method. Both have the data type of object.**\n",
        "\n",
        "**Example**\n"
      ]
    },
    {
      "cell_type": "code",
      "execution_count": 120,
      "metadata": {
        "vscode": {
          "languageId": "javascript"
        }
      },
      "outputs": [
        {
          "name": "stdout",
          "output_type": "stream",
          "text": [
            "Elements of the 'cars' variable: Lada,Tata,Fiat\n",
            "\n",
            "Data type of the 'cars' variable: object \n",
            "Data type of the 'cars2' variable: object\n"
          ]
        }
      ],
      "source": [
        "%%script node\n",
        "\n",
        "/**\n",
        " * An array in the form of an object is created using the new Array() method. Note that the new Array() method is \n",
        " * expressed as a constructor.\n",
        " */\n",
        "const cars = new Array(\"Lada\", \"Tata\", \"Fiat\");\n",
        "const cars2 = [\"Lada\", \"Tata\", \"Fiat\"];\n",
        "\n",
        "console.log(`Elements of the 'cars' variable: ${cars}`);\n",
        "\n",
        "// The console will print the object expression. The data type of both variables is object.\n",
        "console.log(`\n",
        "Data type of the 'cars' variable: ${typeof cars} \n",
        "Data type of the 'cars2' variable: ${typeof cars2}`\n",
        ");\n"
      ]
    },
    {
      "cell_type": "markdown",
      "metadata": {},
      "source": [
        "In the example above, as we can see, the content of the variable `cars` of the array data type consists of the string values `Lada`, `Tata`, and `Fiat`.\n",
        "\n",
        "**💡 You might wonder, \"In which situation should I define a variable with the array data type in a literal form, and in which situation should I use the object form?\" If the elements of the variable consist of string values, it's advisable to use the object approach. On the other hand, if the elements of the variable are numerical values, the literal approach is suitable for defining a variable of the array data type.**\n"
      ]
    },
    {
      "cell_type": "markdown",
      "metadata": {},
      "source": [
        "## <a id='toc1_3_'></a>[Adding New Elements to a JavaScript Array Type Variable](#toc0_)\n",
        "\n",
        "**We can add a new element to a variable with the array data type using one of the three methods:**\n",
        "\n",
        "- Using the `push()` method.\n",
        "\n",
        "- Using the index value.\n",
        "\n",
        "- Using the `length` property.\n",
        "\n",
        "**Example**\n"
      ]
    },
    {
      "cell_type": "code",
      "execution_count": 121,
      "metadata": {
        "vscode": {
          "languageId": "javascript"
        }
      },
      "outputs": [
        {
          "name": "stdout",
          "output_type": "stream",
          "text": [
            "The 4th element of the array: Apple juice\n",
            "The content of the array: Tea,Coffee,Orange juice,Apple juice\n"
          ]
        }
      ],
      "source": [
        "%%script node\n",
        "\n",
        "const drinks = [\"Tea\", \"Coffee\", \"Orange juice\"];\n",
        "\n",
        "/** \n",
        " * We add a new element to the 'drinks' array variable. The element is placed at the end of the array. \n",
        " * In this case, 'Apple juice' will come after 'Orange juice'.\n",
        " */ \n",
        "drinks.push(\"Apple juice\");\n",
        "\n",
        "// The index value 3 corresponds to the 4th element, which is 'Apple juice'.\n",
        "console.log(`The 4th element of the array: ${drinks[3]}`);\n",
        "\n",
        "// ⚠️ Note that the last element of the array is 'Apple juice'.\n",
        "console.log(`The content of the array: ${drinks}`);\n"
      ]
    },
    {
      "cell_type": "markdown",
      "metadata": {},
      "source": [
        "Below, we add an element to a variable with the array data type using the index number.\n",
        "\n",
        "A variable with the array data type can be initially defined as empty, as shown below. This method is generally used when the content is intended to be filled later.\n",
        "\n",
        "**Example**\n"
      ]
    },
    {
      "cell_type": "code",
      "execution_count": 122,
      "metadata": {
        "vscode": {
          "languageId": "javascript"
        }
      },
      "outputs": [
        {
          "name": "stdout",
          "output_type": "stream",
          "text": [
            "The first element of the array: Lada\n"
          ]
        }
      ],
      "source": [
        "%%script node\n",
        "\n",
        "// The elements of the array-type variable may not exist initially.\n",
        "const cars = [];\n",
        "\n",
        "// We access the 1st element with index 0 in the 'cars' variable and store the string value 'Lada'.\n",
        "cars[0] = \"Lada\";\n",
        "\n",
        "// The console will print the expression 'Lada'.\n",
        "console.log(`The first element of the array: ${cars[0]}`);\n"
      ]
    },
    {
      "cell_type": "markdown",
      "metadata": {},
      "source": [
        "**❗ When storing a new value, providing an index value without considering the number of elements will result in gaps within the array. Therefore, it is recommended to determine the index value based on the number of stored elements in the variable when storing a new value.**\n",
        "\n",
        "**Example**\n"
      ]
    },
    {
      "cell_type": "code",
      "execution_count": 123,
      "metadata": {
        "vscode": {
          "languageId": "javascript"
        }
      },
      "outputs": [
        {
          "name": "stdout",
          "output_type": "stream",
          "text": [
            "[ \u001b[32m'BMW'\u001b[39m, \u001b[32m'Saab'\u001b[39m, \u001b[32m'Fiat'\u001b[39m, \u001b[90m<7 empty items>\u001b[39m, \u001b[32m'Ford'\u001b[39m ]\n"
          ]
        }
      ],
      "source": [
        "%%script node\n",
        "\n",
        "const cars = [\"BMW\", \"Saab\", \"Fiat\"];\n",
        "\n",
        "// Accessing index 10 of the 'cars' reference and storing the value 'Ford'.\n",
        "cars[10] = \"Ford\";\n",
        "\n",
        "// This creates 6 empty indexes and elements in between.\n",
        "console.log(cars);\n"
      ]
    },
    {
      "cell_type": "markdown",
      "metadata": {},
      "source": [
        "Below, we add a new element to a variable with the array data type using the `length` property.\n",
        "\n",
        "**Example**\n"
      ]
    },
    {
      "cell_type": "code",
      "execution_count": 124,
      "metadata": {
        "vscode": {
          "languageId": "javascript"
        }
      },
      "outputs": [
        {
          "name": "stdout",
          "output_type": "stream",
          "text": [
            "The 4th element of the array: Mercedes\n",
            "The content of the array: Lada,Tata,BMW,Mercedes\n"
          ]
        }
      ],
      "source": [
        "%%script node\n",
        "\n",
        "const cars = [\"Lada\", \"Tata\", \"BMW\"];\n",
        "\n",
        "// Adding a new element to the end of the array-type variable using the length property.\n",
        "cars[cars.length] = \"Mercedes\";\n",
        "\n",
        "// The index value 3 corresponds to the 4th element within the array.\n",
        "console.log(`The 4th element of the array: ${cars[3]}`);\n",
        "\n",
        "console.log(`The content of the array: ${cars}`);\n"
      ]
    },
    {
      "cell_type": "markdown",
      "metadata": {},
      "source": [
        "## <a id='toc1_4_'></a>[Associative Feature in JavaScript](#toc0_)\n",
        "\n",
        "Normally, JavaScript does not have an associative feature. This means that under normal circumstances, we cannot use a string expression instead of an index number to access a value stored within a variable with an array data type. We access the values stored in a variable with an array data type using an **index** number.\n",
        "\n",
        "However, we can use the associative feature in a variable defined in the object type.\n",
        "\n",
        "**Example**\n"
      ]
    },
    {
      "cell_type": "code",
      "execution_count": 125,
      "metadata": {
        "vscode": {
          "languageId": "javascript"
        }
      },
      "outputs": [
        {
          "name": "stdout",
          "output_type": "stream",
          "text": [
            "The content of the 'person' variable: John\n"
          ]
        }
      ],
      "source": [
        "%%script node\n",
        "\n",
        "const person = new Array();\n",
        "\n",
        "// Associative index example. 'firstName' is expressed as a named index.\n",
        "person[\"firstName\"] = \"John\";\n",
        "\n",
        "console.log(`The content of the 'person' variable: ${person[\"firstName\"]}`);\n"
      ]
    },
    {
      "cell_type": "markdown",
      "metadata": {},
      "source": [
        "**❗ If we use a string expression instead of an index number, JavaScript interprets this variable as an object-type array variable.**\n",
        "\n",
        "**Example**\n"
      ]
    },
    {
      "cell_type": "code",
      "execution_count": 126,
      "metadata": {
        "vscode": {
          "languageId": "javascript"
        }
      },
      "outputs": [
        {
          "name": "stdout",
          "output_type": "stream",
          "text": [
            "The content of the 'person' variable: John\n"
          ]
        }
      ],
      "source": [
        "%%script node\n",
        "\n",
        "// We define an empty variable of array type.\n",
        "const person = [];\n",
        "\n",
        "/**\n",
        " * In this case, the 'person' variable becomes an object-type array variable. 'firstName' is expressed as a named \n",
        " * index.\n",
        " */\n",
        "person[\"firstName\"] = \"John\";\n",
        "\n",
        "console.log(`The content of the 'person' variable: ${person[\"firstName\"]}`);\n"
      ]
    },
    {
      "cell_type": "markdown",
      "metadata": {},
      "source": [
        "**❗ It is worth noting that using the `new Array()` constructor method to create object-type array variables is not recommended because it may lead to slow execution of code blocks. For simplicity, readability, and faster execution of code blocks, it is recommended to use array variables created using the literal method.**\n",
        "\n",
        "**Additionally, array variables created using the `new Array()` method can cause some issues.**\n",
        "\n",
        "**Example**\n"
      ]
    },
    {
      "cell_type": "code",
      "execution_count": 127,
      "metadata": {
        "vscode": {
          "languageId": "javascript"
        }
      },
      "outputs": [
        {
          "name": "stdout",
          "output_type": "stream",
          "text": [
            "The content of the 'numbers' variable: 40\n",
            "\n",
            "The content of the 'numbers2' variable: ,,,,,,,,,,,,,,,,,,,,,,,,,,,,,,,,,,,,,,,\n",
            "The number of elements in the 'numbers2' variable: 40\n",
            "\n"
          ]
        }
      ],
      "source": [
        "%%script node\n",
        "\n",
        "const numbers = [40];\n",
        "const numbers2 = new Array(40);\n",
        "\n",
        "console.log(`The content of the 'numbers' variable: ${numbers}`);\n",
        "\n",
        "/** \n",
        " * While 'numbers' holds the value 40, the 'numbers2' variable created with the new Array() method will generate \n",
        " * 40 ',' characters.\n",
        "*/\n",
        "console.log(`\n",
        "The content of the 'numbers2' variable: ${numbers2}\n",
        "The number of elements in the 'numbers2' variable: ${numbers2.length}\n",
        "`);\n"
      ]
    },
    {
      "cell_type": "markdown",
      "metadata": {},
      "source": [
        "In the example below, we create an empty variable named `person` and fill its content. When we attempt to print the number of elements in the array using the `length()` method, the value we will obtain will be 0.\n",
        "\n",
        "**Example**\n"
      ]
    },
    {
      "cell_type": "code",
      "execution_count": 128,
      "metadata": {
        "vscode": {
          "languageId": "javascript"
        }
      },
      "outputs": [
        {
          "name": "stdout",
          "output_type": "stream",
          "text": [
            "The number of elements in the 'person' variable: 0\n",
            "The first element of the 'person' variable: undefined\n"
          ]
        }
      ],
      "source": [
        "%%script node\n",
        "\n",
        "const person = [];\n",
        "person[\"firstName\"] = \"Hasan\";\n",
        "person[\"lastName\"] = \"Bakıcı\";\n",
        "person[\"age\"] = 39;\n",
        "\n",
        "// Let's print the number of elements in the 'person' variable to the console.\n",
        "console.log(`The number of elements in the 'person' variable: ${person.length}`);\n",
        "\n",
        "/** \n",
        " * Let's print the element corresponding to index 0 of the 'person' variable to the console. The returned value \n",
        " * will be undefined.\n",
        " */\n",
        "console.log(`The first element of the 'person' variable: ${person[0]}`);\n"
      ]
    },
    {
      "cell_type": "markdown",
      "metadata": {},
      "source": [
        "Let's perform the above example using the literal method.\n",
        "\n",
        "**Example**\n"
      ]
    },
    {
      "cell_type": "code",
      "execution_count": 129,
      "metadata": {
        "vscode": {
          "languageId": "javascript"
        }
      },
      "outputs": [
        {
          "name": "stdout",
          "output_type": "stream",
          "text": [
            "The number of elements in the 'person' variable: 3\n",
            "The first element of the 'person' variable: Hasan\n"
          ]
        }
      ],
      "source": [
        "%%script node\n",
        "\n",
        "const person = [];\n",
        "person[0] = \"Hasan\";\n",
        "person[1] = \"Bakıcı\";\n",
        "person[2] = 39;\n",
        "\n",
        "// Let's print the number of elements in the 'person' variable to the console.\n",
        "console.log(`The number of elements in the 'person' variable: ${person.length}`);\n",
        "\n",
        "/** \n",
        " * Let's print the element corresponding to index 0 of the 'person' variable to the console. The returned value \n",
        " * will be \"Hasan\".\n",
        " */\n",
        "console.log(`The first element of the 'person' variable: ${person[0]}`);\n"
      ]
    },
    {
      "cell_type": "markdown",
      "metadata": {},
      "source": [
        "As seen above, when using the literal method to create an array-type variable, we can list the values ​​of the elements and use methods.\n",
        "\n",
        "**⚠️ As observed, while accessing elements by index numbers in arrays created using the literal method, accessing elements in object-type arrays is done with a named index. This usage method creates the biggest difference between the two types.**\n",
        "\n",
        "**❗ In an object-type array, we can access the value corresponding to a key by using the key as the index.**\n",
        "\n",
        "**Example**\n"
      ]
    },
    {
      "cell_type": "code",
      "execution_count": 130,
      "metadata": {
        "vscode": {
          "languageId": "javascript"
        }
      },
      "outputs": [
        {
          "name": "stdout",
          "output_type": "stream",
          "text": [
            "The value corresponding to the 'firstName' key: Emin\n"
          ]
        }
      ],
      "source": [
        "%%script node\n",
        "\n",
        "const person = { firstName: \"Emin\", lastName: \"Altan\" };\n",
        "\n",
        "/** \n",
        " * By using the named index value 'firstName' in the array, we accessed the value corresponding to the firstName \n",
        " * key in the 'person' object.\n",
        " */ \n",
        "console.log(`The value corresponding to the 'firstName' key: ${person[\"firstName\"]}`);\n"
      ]
    },
    {
      "cell_type": "markdown",
      "metadata": {},
      "source": [
        "**⚠️ Here, a question may arise: \"We can use named indexes both in variables with array data type and variables with object data type. In this case, how can we determine whether a variable is an array or an object?\"**\n",
        "\n",
        "**The most effective way to test whether a variable using named indexes is an array or an object is to use the `Array.isArray()` method. In addition, the `instanceof` operator can also be used.**\n"
      ]
    },
    {
      "cell_type": "markdown",
      "metadata": {},
      "source": [
        "## <a id='toc1_5_'></a>[JavaScript Array Methods, Operators, and Properties](#toc0_)\n"
      ]
    },
    {
      "cell_type": "markdown",
      "metadata": {},
      "source": [
        "### <a id='toc1_5_1_'></a>[`Array.isArray` Method](#toc0_)\n",
        "\n",
        "This method is used to determine whether a variable is of array data type or not. If the variable is of array data type, it returns `true`; otherwise, it returns `false`.\n",
        "\n",
        "The `Array.isArray()` method was introduced to JavaScript with ECMAScript 5 (JavaScript 2009).\n",
        "\n",
        "**Example**\n"
      ]
    },
    {
      "cell_type": "code",
      "execution_count": 131,
      "metadata": {
        "vscode": {
          "languageId": "javascript"
        }
      },
      "outputs": [
        {
          "name": "stdout",
          "output_type": "stream",
          "text": [
            "\n",
            "The content of 'student[\"firstName\"]': Murat\n",
            "The content of 'person[\"firstName\"]': Emin\n",
            "\n",
            "\n",
            "Is 'student' an array-type variable?: true\n",
            "Is 'person' an array-type variable?: false\n",
            "\n"
          ]
        }
      ],
      "source": [
        "%%script node\n",
        "\n",
        "const student = [];\n",
        "const person = { firstName: \"Emin\", lastName: \"Altan\" };\n",
        "\n",
        "/** \n",
        " * Due to the use of a named index (firstName), the 'student' variable will have the characteristics of an \n",
        " * object-type array.\n",
        " */\n",
        "student[\"firstName\"] = \"Murat\";\n",
        "\n",
        "/** \n",
        " * As seen, we use named indexes in both the 'student' and 'person' variables. \n",
        " * \n",
        " * Let's assume we are working in a busy code base and want to identify the data type of the 'student' and \n",
        " * 'person' variables.\n",
        " * \n",
        " * In this case, when we use the Array.isArray() method, we can identify the variable with array data type.\n",
        " */\n",
        "console.log(`\n",
        "The content of 'student[\"firstName\"]': ${student[\"firstName\"]}\n",
        "The content of 'person[\"firstName\"]': ${person[\"firstName\"]}\n",
        "`);\n",
        "\n",
        "/** \n",
        " * As seen, the returned value from the 'student' variable is true, indicating that the 'student' variable has \n",
        " * the characteristics of an array data type.\n",
        " * \n",
        " * Since the returned value from the 'person' variable is false, we can understand that this variable is not of \n",
        " * array data type and is an object-type variable.\n",
        " */\n",
        "console.log(`\n",
        "Is 'student' an array-type variable?: ${Array.isArray(student)}\n",
        "Is 'person' an array-type variable?: ${Array.isArray(person)}\n",
        "`);\n"
      ]
    },
    {
      "cell_type": "markdown",
      "metadata": {},
      "source": [
        "### <a id='toc1_5_2_'></a>[`instanceof` Operator](#toc0_)\n",
        "\n",
        "While there are multiple usage methods in object data types, the `instanceof` operator is used to determine the type of a variable, understand the relationship of a property with an object, or perform participation monitoring operations.\n",
        "\n",
        "**💡 It can be particularly useful for debugging operations, especially in variables with object properties.**\n"
      ]
    },
    {
      "cell_type": "code",
      "execution_count": 132,
      "metadata": {
        "vscode": {
          "languageId": "javascript"
        }
      },
      "outputs": [
        {
          "name": "stdout",
          "output_type": "stream",
          "text": [
            "Is 'fruits' an array-type variable?: true\n",
            "Is 'cars' an array-type variable?: false\n"
          ]
        }
      ],
      "source": [
        "%%script node\n",
        "\n",
        "const fruits = [\"Banana\", \"Orange\", \"Apple\"];\n",
        "\n",
        "const cars = { carName: \"Honda\", carModel: \"Jazz\", productDate: \"2005-01-02\" };\n",
        "\n",
        "// It will return true because 'fruits' is an array-type variable.\n",
        "console.log(`Is 'fruits' an array-type variable?: ${fruits instanceof Array}`);\n",
        "\n",
        "// It will return false because 'cars' is an object-type variable.\n",
        "console.log(`Is 'cars' an array-type variable?: ${cars instanceof Array}`);\n"
      ]
    },
    {
      "cell_type": "markdown",
      "metadata": {},
      "source": [
        "### <a id='toc1_5_3_'></a>[`delete` Operator](#toc0_)\n",
        "\n",
        "Elements within an array can also be removed using the `delete` operator. When an element is deleted from the array, it returns `true` if the deletion was successful, and `false` otherwise.\n",
        "\n",
        "**⚠️ This method is not recommended because it creates `undefined` gaps between elements in the array.**\n",
        "\n",
        "**Instead, it's recommended to use the `pop()` or `shift()` methods.**\n",
        "\n",
        "**Example**\n"
      ]
    },
    {
      "cell_type": "code",
      "execution_count": 133,
      "metadata": {
        "vscode": {
          "languageId": "javascript"
        }
      },
      "outputs": [
        {
          "name": "stdout",
          "output_type": "stream",
          "text": [
            "Was the first element of the array successfully deleted?: true\n",
            "The current status of the first element of the array: undefined\n",
            "The content of the 'cars' variable: ,Tata,BMW\n",
            "The number of elements in the 'cars' variable: 3\n"
          ]
        }
      ],
      "source": [
        "%%script node\n",
        "\n",
        "const cars = [\"Lada\", \"Tata\", \"BMW\"];\n",
        "\n",
        "// The Lada element will be removed from the array. Since the removal is successful, it returns true.\n",
        "console.log(`Was the first element of the array successfully deleted?: ${delete cars[0]}`);\n",
        "\n",
        "// undefined will be printed to the console.\n",
        "console.log(`The current status of the first element of the array: ${cars[0]}`);\n",
        "\n",
        "// Even though the Lada element at index 0 is removed, there is still a value held at index 0 in the array. \n",
        "console.log(`The content of the 'cars' variable: ${cars}`);\n",
        "\n",
        "// The current number of elements in the 'cars' variable is still 3 despite removing an element.\n",
        "console.log(`The number of elements in the 'cars' variable: ${cars.length}`);\n"
      ]
    },
    {
      "cell_type": "markdown",
      "metadata": {},
      "source": [
        "### <a id='toc1_5_4_'></a>[`...` (Spread) Operatörü](#toc0_)\n",
        "\n",
        "The `...` (Spread) operator has various functions, commonly used in operations that produce **iterable** object data types such as arrays or objects.\n",
        "\n",
        "**If we list the usage methods of the Spread operator:**\n",
        "\n",
        "- Merging variables.\n",
        "\n",
        "- Copy operations.\n",
        "\n",
        "- Content expansion operations.\n",
        "\n",
        "- Breaking down an expression into its components.\n",
        "\n",
        "- Usage as parameters within a method.\n",
        "\n",
        "- In destructuring operations.\n",
        "\n",
        "- Converting Node-List to array.\n",
        "\n",
        "Let's explore each of these methods individually.\n"
      ]
    },
    {
      "cell_type": "markdown",
      "metadata": {},
      "source": [
        "#### <a id='toc1_5_4_1_'></a>[Merging Variables](#toc0_)\n",
        "\n",
        "If we remember, when we merge two or more values, we used the `concat()` method. We can also perform the merging operation with the `...` (Spread) operator.\n",
        "\n",
        "**⚠️ Using the `...` (Spread) operator for merging data in large datasets will slow down the execution of code blocks. It is recommended to use the `concat()` method instead.**\n",
        "\n",
        "**Example**\n"
      ]
    },
    {
      "cell_type": "code",
      "execution_count": 134,
      "metadata": {
        "vscode": {
          "languageId": "javascript"
        }
      },
      "outputs": [
        {
          "name": "stdout",
          "output_type": "stream",
          "text": [
            "Content of mergedArrays variable: Lada,Tata,BMW,$2000,$4000,$6000\n",
            "{ studentName: \u001b[32m'Emin'\u001b[39m, studentLastName: \u001b[32m'Altan'\u001b[39m, ID: \u001b[33m1\u001b[39m }\n"
          ]
        }
      ],
      "source": [
        "%%script node\n",
        "\n",
        "const prices = [\"$2000\", \"$4000\", \"$6000\"];\n",
        "\n",
        "const cars = [\"Lada\", \"Tata\", \"BMW\"];\n",
        "\n",
        "// Merging variables of two array types and storing them in the mergedArrays variable.\n",
        "const mergedArrays = [...cars, ...prices];\n",
        "\n",
        "console.log(`Content of mergedArrays variable: ${mergedArrays}`);\n",
        "\n",
        "const student = {\n",
        "    studentName: \"Emin\",\n",
        "    studentLastName: \"Altan\",\n",
        "};\n",
        "\n",
        "const id = { \n",
        "    ID:1\n",
        "};\n",
        "\n",
        "// Merging variables of two object types.\n",
        "console.log({ ...student, ...id });\n"
      ]
    },
    {
      "cell_type": "markdown",
      "metadata": {},
      "source": [
        "### <a id='toc1_5_5_'></a>[Copy Operations](#toc0_)\n",
        "\n",
        "If we remember, when we created a new variable by using a variable with array or object properties as a reference and added elements to the new variable, the content of the original variable was also changed. This is because the array or object data type is stored in memory as a reference.\n",
        "\n",
        "With the `...` (Spread) operator, we can add elements to a new variable without changing the content of the original variable.\n",
        "\n",
        "**Example**\n"
      ]
    },
    {
      "cell_type": "code",
      "execution_count": 135,
      "metadata": {
        "vscode": {
          "languageId": "javascript"
        }
      },
      "outputs": [
        {
          "name": "stdout",
          "output_type": "stream",
          "text": [
            "Content of the cars variable: Lada,Tata,BMW\n",
            "Content of the newCars variable: Lada,Tata,BMW,Audi\n",
            "{ studentName: \u001b[32m'Emin'\u001b[39m, studentLasName: \u001b[32m'Altan'\u001b[39m }\n",
            "{ studentName: \u001b[32m'Emin'\u001b[39m, studentLasName: \u001b[32m'Altan'\u001b[39m, salary: \u001b[32m'3000USD'\u001b[39m }\n"
          ]
        }
      ],
      "source": [
        "%%script node\n",
        "\n",
        "const cars = [\"Lada\", \"Tata\", \"BMW\"];\n",
        "\n",
        "/** \n",
        " * Changes made using the spread operator do not affect the content of the cars variable. \n",
        " * The content of the cars variable is copied to newCars, and a new address is allocated in memory for the \n",
        " * variable.\n",
        " */\n",
        "const newCars = [...cars];\n",
        "\n",
        "newCars.push(\"Audi\");\n",
        "\n",
        "// The content of the original variable is preserved.\n",
        "console.log(`Content of the cars variable: ${cars}`);\n",
        "\n",
        "// A new element is added to the content of the newCars variable.\n",
        "console.log(`Content of the newCars variable: ${newCars}`);\n",
        "\n",
        "const student = {\n",
        "    studentName: \"Emin\",\n",
        "    studentLasName: \"Altan\"\n",
        "};\n",
        "\n",
        "// The content of the student variable is copied to create the person variable.\n",
        "const person = { ...student };\n",
        "\n",
        "// A new property is added to the person variable.\n",
        "person.salary = \"3000USD\";\n",
        "\n",
        "// As seen, the original content is preserved.\n",
        "console.log(student);\n",
        "\n",
        "// The properties of the person variable are printed to the console.\n",
        "console.log(person);\n"
      ]
    },
    {
      "cell_type": "markdown",
      "metadata": {},
      "source": [
        "### <a id='toc1_5_6_'></a>[Content Expansion Operations](#toc0_)\n",
        "\n",
        "Sometimes we may want to use the content of a variable as it is within another array. In this case, we can benefit from the `...` (Spread) operator.\n",
        "\n",
        "**Example**\n"
      ]
    },
    {
      "cell_type": "code",
      "execution_count": 136,
      "metadata": {
        "vscode": {
          "languageId": "javascript"
        }
      },
      "outputs": [
        {
          "name": "stdout",
          "output_type": "stream",
          "text": [
            "The value of the locations variable: Lada,Tata,BMW,İzmir,Bursa,Ankara\n",
            "{\n",
            "  jobsName: \u001b[32m'Operator'\u001b[39m,\n",
            "  jobsHour: \u001b[32m'12H'\u001b[39m,\n",
            "  personName: \u001b[32m'Murat'\u001b[39m,\n",
            "  personLastName: \u001b[32m'Bakıcı'\u001b[39m\n",
            "}\n"
          ]
        }
      ],
      "source": [
        "%%script node\n",
        "\n",
        "const cars = [\"Lada\", \"Tata\", \"BMW\"];\n",
        "\n",
        "// The elements within the cars variable are included in the locations variable.\n",
        "const locations = [...cars, \"İzmir\", \"Bursa\", \"Ankara\"];\n",
        "\n",
        "console.log(`The value of the locations variable: ${locations}`);\n",
        "\n",
        "const person = {\n",
        "    personName: \"Murat\",\n",
        "    personLastName: \"Bakıcı\",\n",
        "};\n",
        "\n",
        "const jobs = {\n",
        "    jobsName: \"Operator\",\n",
        "    jobsHour: \"12H\",\n",
        "\n",
        "    // All properties within the person object are included in the jobs object.\n",
        "    ...person\n",
        "};\n",
        "\n",
        "console.log(jobs);\n"
      ]
    },
    {
      "cell_type": "markdown",
      "metadata": {},
      "source": [
        "### <a id='toc1_5_7_'></a>[Breaking Down the Expression](#toc0_)\n",
        "\n",
        "We can break down an expression into parts using the `...` (Spread) operator and obtain a result in array format.\n",
        "\n",
        "**Example**\n"
      ]
    },
    {
      "cell_type": "code",
      "execution_count": 137,
      "metadata": {
        "vscode": {
          "languageId": "javascript"
        }
      },
      "outputs": [
        {
          "name": "stdout",
          "output_type": "stream",
          "text": [
            "[\n",
            "  \u001b[32m'M'\u001b[39m, \u001b[32m'e'\u001b[39m, \u001b[32m'h'\u001b[39m, \u001b[32m'm'\u001b[39m,\n",
            "  \u001b[32m'e'\u001b[39m, \u001b[32m't'\u001b[39m, \u001b[32m' '\u001b[39m, \u001b[32m'K'\u001b[39m,\n",
            "  \u001b[32m'o'\u001b[39m, \u001b[32m'ç'\u001b[39m\n",
            "]\n",
            "{\n",
            "  \u001b[32m'0'\u001b[39m: \u001b[32m'M'\u001b[39m,\n",
            "  \u001b[32m'1'\u001b[39m: \u001b[32m'e'\u001b[39m,\n",
            "  \u001b[32m'2'\u001b[39m: \u001b[32m'h'\u001b[39m,\n",
            "  \u001b[32m'3'\u001b[39m: \u001b[32m'm'\u001b[39m,\n",
            "  \u001b[32m'4'\u001b[39m: \u001b[32m'e'\u001b[39m,\n",
            "  \u001b[32m'5'\u001b[39m: \u001b[32m't'\u001b[39m,\n",
            "  \u001b[32m'6'\u001b[39m: \u001b[32m' '\u001b[39m,\n",
            "  \u001b[32m'7'\u001b[39m: \u001b[32m'K'\u001b[39m,\n",
            "  \u001b[32m'8'\u001b[39m: \u001b[32m'o'\u001b[39m,\n",
            "  \u001b[32m'9'\u001b[39m: \u001b[32m'ç'\u001b[39m\n",
            "}\n"
          ]
        }
      ],
      "source": [
        "%%script node\n",
        "\n",
        "const personName = \"Mehmet Koç\";\n",
        "\n",
        "console.log([...personName]);\n",
        "\n",
        "console.log({ ...personName });"
      ]
    },
    {
      "cell_type": "markdown",
      "metadata": {},
      "source": [
        "### <a id='toc1_5_8_'></a>[Usage as Parameters Within a Method](#toc0_)\n",
        "\n",
        "Using the `...` (Spread) operator as a parameter in a method for sending or receiving data sets makes our work much easier.\n",
        "\n",
        "**Example**\n"
      ]
    },
    {
      "cell_type": "code",
      "execution_count": 138,
      "metadata": {
        "vscode": {
          "languageId": "javascript"
        }
      },
      "outputs": [
        {
          "name": "stdout",
          "output_type": "stream",
          "text": [
            "[\n",
            "  \u001b[32m'Result: 2'\u001b[39m,\n",
            "  \u001b[32m'Result: 3'\u001b[39m,\n",
            "  \u001b[32m'Result: 4'\u001b[39m,\n",
            "  \u001b[32m'Result: 5'\u001b[39m,\n",
            "  \u001b[32m'Result: 6'\u001b[39m,\n",
            "  \u001b[32m'Result: 7'\u001b[39m\n",
            "]\n"
          ]
        }
      ],
      "source": [
        "%%script node\n",
        "\n",
        "/** \n",
        " * The map() method is called for each element coming as a set, and the value is returned by adding +1 to the \n",
        " * element. Since the map() method is called for each element, it has the callback function property.\n",
        " */\n",
        "const additions = (...values) => values.map(num => `Result: ${num + 1}`);\n",
        "\n",
        "// We sent values as a set to the additions() method. Note that the set we sent is iterable.\n",
        "console.log(additions(1, 2, 3, 4, 5, 6));\n"
      ]
    },
    {
      "cell_type": "markdown",
      "metadata": {},
      "source": [
        "### <a id='toc1_5_9_'></a>[In Destructuring Operations](#toc0_)\n",
        "\n",
        "With ES6 version, the Destructuring operation can be used together with the `...` (Spread) operator.\n",
        "\n",
        "**Example**\n"
      ]
    },
    {
      "cell_type": "code",
      "execution_count": 139,
      "metadata": {
        "vscode": {
          "languageId": "javascript"
        }
      },
      "outputs": [
        {
          "name": "stdout",
          "output_type": "stream",
          "text": [
            "{ personAge: \u001b[33m30\u001b[39m, personID: \u001b[33m25\u001b[39m, personAccount: \u001b[32m'lin.wayne'\u001b[39m }\n"
          ]
        }
      ],
      "source": [
        "%%script node\n",
        "\n",
        "const person = {\n",
        "    personName: \"Lin\",\n",
        "    personSurName: \"Wayne\",\n",
        "    personAge: 30,\n",
        "    personID: 25,\n",
        "    personAccount: \"lin.wayne\",\n",
        "};\n",
        "\n",
        "/** \n",
        " * With the destructuring operation, properties other than personName and personSurname are stored in the others \n",
        " * variable.\n",
        " */\n",
        "const { personName, personSurName, ...others } = person;\n",
        "\n",
        "// Printing the content of the others variable to the console.\n",
        "console.log(others);\n",
        "\n"
      ]
    },
    {
      "cell_type": "markdown",
      "metadata": {},
      "source": [
        "### <a id='toc1_5_10_'></a>[Converting NodeList to Array](#toc0_)\n",
        "\n",
        "We may want to store and use all the node list elements we specify within the HTML DOM in array format using the `querySelectorAll()` method. In this case, we utilize the `...` (Spread) operator.\n",
        "\n",
        "**Example**\n",
        "\n",
        "```html\n",
        "<!DOCTYPE html>\n",
        "<html lang=\"en\">\n",
        "  <head>\n",
        "    <meta charset=\"UTF-8\" />\n",
        "    <meta\n",
        "      name=\"viewport\"\n",
        "      content=\"width=device-width, initial-scale=1.0\"\n",
        "    />\n",
        "    <title>Document</title>\n",
        "  </head>\n",
        "  <body>\n",
        "    <p>1st paragraph</p>\n",
        "    <p>2nd paragraph</p>\n",
        "    <p>3rd paragraph</p>\n",
        "\n",
        "    <script>\n",
        "      const nodeList = document.querySelectorAll(\"p\");\n",
        "\n",
        "      // Storing all <p> elements in the HTML DOM tree into the array variable.\n",
        "      const array = [...nodeList];\n",
        "\n",
        "      /**\n",
        "       * Reading the content of each <p> element and printing it to the console.\n",
        "       *\n",
        "       * Result: (3) ['1st paragraph', '2nd paragraph', '3rd paragraph']\n",
        "       */\n",
        "      console.log(array.map((element) => element.innerHTML));\n",
        "    </script>\n",
        "  </body>\n",
        "</html>\n",
        "```\n"
      ]
    },
    {
      "cell_type": "markdown",
      "metadata": {},
      "source": [
        "### <a id='toc1_5_11_'></a>[`toString()` Method](#toc0_)\n",
        "\n",
        "The `toString()` method converts the data stored in an array-type variable to a string data type and representation. The values stored in the variable are separated from each other by a comma.\n",
        "\n",
        "By the way, the `toString()` method is a common method in all JavaScript objects.\n",
        "\n",
        "**Example**\n"
      ]
    },
    {
      "cell_type": "code",
      "execution_count": 140,
      "metadata": {
        "vscode": {
          "languageId": "javascript"
        }
      },
      "outputs": [
        {
          "name": "stdout",
          "output_type": "stream",
          "text": [
            "Content of the stringNumbers variable: 1,2,3,4,5\n",
            "Data type of the stringNumbers variable: string\n"
          ]
        }
      ],
      "source": [
        "%%script node\n",
        "\n",
        "const numbers = [1, 2, 3, 4, 5];\n",
        "\n",
        "const stringNumbers = numbers.toString();\n",
        "\n",
        "/** \n",
        " * The stringNumbers variable will be converted to a string data type and representation. The stored values are \n",
        " * separated from each other by a comma.\n",
        " */\n",
        "console.log(`Content of the stringNumbers variable: ${stringNumbers}`);\n",
        "\n",
        "console.log(`Data type of the stringNumbers variable: ${typeof stringNumbers}`);\n"
      ]
    },
    {
      "cell_type": "markdown",
      "metadata": {},
      "source": [
        "**⚠️ JavaScript automatically converts primitive data types to string data type when encountered within an array.**\n",
        "\n",
        "**Example**\n",
        "\n",
        "The result obtained using the `toString()` method in the following example is the same as the result obtained without using it.\n"
      ]
    },
    {
      "cell_type": "code",
      "execution_count": 141,
      "metadata": {
        "vscode": {
          "languageId": "javascript"
        }
      },
      "outputs": [
        {
          "name": "stdout",
          "output_type": "stream",
          "text": [
            "Content of the numbers variable: 1,2,3,4,5\n",
            "Content created using the toString() method: 1,2,3,4,5\n"
          ]
        }
      ],
      "source": [
        "%%script node\n",
        "\n",
        "const numbers = [1, 2, 3, 4, 5];\n",
        "\n",
        "console.log(`Content of the numbers variable: ${numbers}`);\n",
        "\n",
        "console.log(`Content created using the toString() method: ${numbers.toString()}`);"
      ]
    },
    {
      "cell_type": "markdown",
      "metadata": {},
      "source": [
        "### <a id='toc1_5_12_'></a>[`join()` Method](#toc0_)\n",
        "\n",
        "The `join()` method works similar to the `toString()` method, but the difference is that with the `join()` method, we can specify the separator to use between string values. In the `toString()` method, the stored values were separated by a comma.\n",
        "\n",
        "**Example**\n"
      ]
    },
    {
      "cell_type": "code",
      "execution_count": 142,
      "metadata": {
        "vscode": {
          "languageId": "javascript"
        }
      },
      "outputs": [
        {
          "name": "stdout",
          "output_type": "stream",
          "text": [
            "Content of the convertedNumbers variable: 1*2*3*4*5\n",
            "Data type of the convertedNumbers variable: string\n"
          ]
        }
      ],
      "source": [
        "%%script node\n",
        "\n",
        "const numbers = [1, 2, 3, 4, 5];\n",
        "\n",
        "const convertedNumbers = numbers.join(\"*\");\n",
        "\n",
        "/** \n",
        " * The convertedNumbers variable will be converted to a string data type and representation. The stored values \n",
        " * are separated from each other by the \"*\" symbol.\n",
        " */\n",
        "console.log(`Content of the convertedNumbers variable: ${convertedNumbers}`);\n",
        "\n",
        "console.log(`Data type of the convertedNumbers variable: ${typeof convertedNumbers}`);\n"
      ]
    },
    {
      "cell_type": "markdown",
      "metadata": {},
      "source": [
        "### <a id='toc1_5_13_'></a>[`pop()` Method](#toc0_)\n",
        "\n",
        "The `pop()` method removes the last element of an array-type variable.\n",
        "\n",
        "**Example**\n"
      ]
    },
    {
      "cell_type": "code",
      "execution_count": 143,
      "metadata": {
        "vscode": {
          "languageId": "javascript"
        }
      },
      "outputs": [
        {
          "name": "stdout",
          "output_type": "stream",
          "text": [
            "Removed element from the array: BMW\n",
            "Number of elements in the cars variable: 2\n",
            "Elements of the cars variable: Lada,Tata\n"
          ]
        }
      ],
      "source": [
        "%%script node\n",
        "\n",
        "const cars = [\"Lada\", \"Tata\", \"BMW\"];\n",
        "\n",
        "// The BMW element will be removed from the array.\n",
        "console.log(`Removed element from the array: ${cars.pop()}`);\n",
        "\n",
        "// The current number of elements in the cars variable decreases to 2.\n",
        "console.log(`Number of elements in the cars variable: ${cars.length}`);\n",
        "\n",
        "// The elements owned by the cars variable will be printed to the console.\n",
        "console.log(`Elements of the cars variable: ${cars}`);\n"
      ]
    },
    {
      "cell_type": "markdown",
      "metadata": {},
      "source": [
        "### <a id='toc1_5_14_'></a>[`push()` Method](#toc0_)\n",
        "\n",
        "The `push()` method adds a new element to the end of an array-type variable.\n",
        "\n",
        "**Example**\n"
      ]
    },
    {
      "cell_type": "code",
      "execution_count": 144,
      "metadata": {
        "vscode": {
          "languageId": "javascript"
        }
      },
      "outputs": [
        {
          "name": "stdout",
          "output_type": "stream",
          "text": [
            "The 4th element of the array: Mercedes\n",
            "Number of elements in the cars variable: 4\n",
            "Elements of the cars variable: Lada,Tata,BMW,Mercedes\n"
          ]
        }
      ],
      "source": [
        "%%script node\n",
        "\n",
        "const cars = [\"Lada\", \"Tata\", \"BMW\"];\n",
        "\n",
        "// We add the Mercedes element to the end of the array.\n",
        "cars.push(\"Mercedes\");\n",
        "\n",
        "// The 4th element of the cars variable corresponds to the value Mercedes.\n",
        "console.log(`The 4th element of the array: ${cars[3]}`);\n",
        "\n",
        "// The current number of elements in the cars variable increases to 4.\n",
        "console.log(`Number of elements in the cars variable: ${cars.length}`);\n",
        "\n",
        "// The elements owned by the cars variable will be printed to the console.\n",
        "console.log(`Elements of the cars variable: ${cars}`);\n"
      ]
    },
    {
      "cell_type": "markdown",
      "metadata": {},
      "source": [
        "### <a id='toc1_5_15_'></a>[`shift()` Method](#toc0_)\n",
        "\n",
        "The `shift()` method works similar to the `pop()` method, but the difference is that the `shift()` method removes the first element of the array-type variable. In this case, all index values decrease by one.\n",
        "\n",
        "**Example**\n"
      ]
    },
    {
      "cell_type": "code",
      "execution_count": 145,
      "metadata": {
        "vscode": {
          "languageId": "javascript"
        }
      },
      "outputs": [
        {
          "name": "stdout",
          "output_type": "stream",
          "text": [
            "Removed element from the array: Lada\n",
            "Number of elements in the cars variable: 2\n",
            "Elements of the cars variable: Tata,BMW\n",
            "The first element of the array: Tata\n"
          ]
        }
      ],
      "source": [
        "%%script node\n",
        "\n",
        "const cars = [\"Lada\", \"Tata\", \"BMW\"];\n",
        "\n",
        "// The Lada element will be removed from the array.\n",
        "console.log(`Removed element from the array: ${cars.shift()}`);\n",
        "\n",
        "// The current number of elements in the cars variable decreases to 2.\n",
        "console.log(`Number of elements in the cars variable: ${cars.length}`);\n",
        "\n",
        "// The elements owned by the cars variable will be printed to the console.\n",
        "console.log(`Elements of the cars variable: ${cars}`);\n",
        "\n",
        "/** \n",
        " * The 0th index value of the cars variable no longer corresponds to the Lada element. It corresponds to the Tata \n",
        " * element.\n",
        " */\n",
        "console.log(`The first element of the array: ${cars[0]}`);\n",
        "\n"
      ]
    },
    {
      "cell_type": "markdown",
      "metadata": {},
      "source": [
        "### <a id='toc1_5_16_'></a>[`unshift()` Method](#toc0_)\n",
        "\n",
        "The `unshift()` method works similar to the `push()` method, but the difference is that the `unshift()` method adds an element to the beginning of the array-type variable. In this case, all index values increase by one.\n",
        "\n",
        "**Example**\n"
      ]
    },
    {
      "cell_type": "code",
      "execution_count": 146,
      "metadata": {
        "vscode": {
          "languageId": "javascript"
        }
      },
      "outputs": [
        {
          "name": "stdout",
          "output_type": "stream",
          "text": [
            "The first element of the cars variable: Mercedes\n",
            "Number of elements in the cars variable: 4\n",
            "Content of the cars variable: Mercedes,Lada,Tata,BMW\n"
          ]
        }
      ],
      "source": [
        "%%script node\n",
        "\n",
        "const cars = [\"Lada\", \"Tata\", \"BMW\"];\n",
        "\n",
        "// We add the Mercedes element to the beginning of the array.\n",
        "cars.unshift(\"Mercedes\");\n",
        "\n",
        "// The 0th index of the cars variable is now the Mercedes element instead of Lada.\n",
        "console.log(`The first element of the cars variable: ${cars[0]}`);\n",
        "\n",
        "// The current number of elements in the cars variable increases to 4.\n",
        "console.log(`Number of elements in the cars variable: ${cars.length}`);\n",
        "\n",
        "// The elements owned by the cars variable will be printed to the console.\n",
        "console.log(`Content of the cars variable: ${cars}`);\n"
      ]
    },
    {
      "cell_type": "markdown",
      "metadata": {},
      "source": [
        "### <a id='toc1_5_17_'></a>[`concat()` Method](#toc0_)\n",
        "\n",
        "The `concat()` method is used to concatenate multiple array-type variables.\n",
        "\n",
        "**⚠️ The contents of existing arrays remain unchanged. The result of the concatenation is returned as a new array.**\n",
        "\n",
        "**Example**\n"
      ]
    },
    {
      "cell_type": "code",
      "execution_count": 147,
      "metadata": {
        "vscode": {
          "languageId": "javascript"
        }
      },
      "outputs": [
        {
          "name": "stdout",
          "output_type": "stream",
          "text": [
            "Content of the newArray variable: Ahmet,Mahmut,Hüseyin,Bilal,Sevim,Ayşe\n",
            "Content of the array1 variable: Ahmet,Mahmut,Hüseyin\n",
            "Content of the array2 variable: Bilal,Sevim,Ayşe\n"
          ]
        }
      ],
      "source": [
        "%%script node\n",
        "\n",
        "const array1 = [\"Ahmet\", \"Mahmut\", \"Hüseyin\"];\n",
        "\n",
        "const array2 = [\"Bilal\", \"Sevim\", \"Ayşe\"];\n",
        "\n",
        "// We concatenate the array1 and array2 variables and store the result in the newArray variable.\n",
        "const newArray = array1.concat(array2);\n",
        "\n",
        "// Let's print the content of the newArray variable to the console.\n",
        "console.log(`Content of the newArray variable: ${newArray}`);\n",
        "\n",
        "// There has been no change in the elements of array1 and array2.\n",
        "console.log(`Content of the array1 variable: ${array1}`);\n",
        "console.log(`Content of the array2 variable: ${array2}`);\n"
      ]
    },
    {
      "cell_type": "markdown",
      "metadata": {},
      "source": [
        "The `concat()` method can concatenate multiple array-type variables. In this case, a comma is placed between the variables.\n",
        "\n",
        "**Example**\n"
      ]
    },
    {
      "cell_type": "code",
      "execution_count": 148,
      "metadata": {
        "vscode": {
          "languageId": "javascript"
        }
      },
      "outputs": [
        {
          "name": "stdout",
          "output_type": "stream",
          "text": [
            "Content of the newArray variable: Ahmet,Mahmut,Hüseyin,Bilal,Sevim,Ayşe,Mine,Betül,Taner\n"
          ]
        }
      ],
      "source": [
        "%%script node\n",
        "\n",
        "const array1 = [\"Ahmet\", \"Mahmut\", \"Hüseyin\"];\n",
        "\n",
        "const array2 = [\"Bilal\", \"Sevim\", \"Ayşe\"];\n",
        "\n",
        "const array3 = [\"Mine\", \"Betül\", \"Taner\"]; \n",
        "\n",
        "// We concatenate the array1, array2, and array3 variables and store the result in the newArray variable.\n",
        "const newArray = array1.concat(array2, array3);\n",
        "\n",
        "// Let's print the content of the newArray variable to the console.\n",
        "console.log(`Content of the newArray variable: ${newArray}`);\n"
      ]
    },
    {
      "cell_type": "markdown",
      "metadata": {},
      "source": [
        "The `concat()` method can also take string values as parameters.\n",
        "\n",
        "**Example**\n"
      ]
    },
    {
      "cell_type": "code",
      "execution_count": 149,
      "metadata": {
        "vscode": {
          "languageId": "javascript"
        }
      },
      "outputs": [
        {
          "name": "stdout",
          "output_type": "stream",
          "text": [
            "Content of the newArray variable: Ahmet,Mahmut,Hüseyin,Netice\n"
          ]
        }
      ],
      "source": [
        "%%script node\n",
        "\n",
        "const array1 = [\"Ahmet\", \"Mahmut\", \"Hüseyin\"];\n",
        "\n",
        "// We concatenated the array1 variable with the value \"Netice\". We stored the result in the newArray variable.\n",
        "const newArray = array1.concat(\"Netice\");\n",
        "\n",
        "console.log(`Content of the newArray variable: ${newArray}`);\n"
      ]
    },
    {
      "cell_type": "markdown",
      "metadata": {},
      "source": [
        "### <a id='toc1_5_18_'></a>[`splice()` Method](#toc0_)\n",
        "\n",
        "The `splice()` method is used to change, remove, or add new elements within a specified range in an array.\n",
        "\n",
        "It has two arguments. The first argument is the index value, which indicates from which element the operation will start. The second argument indicates how many elements the operation will be performed for.\n",
        "\n",
        "**⚠️ Remember, when we used the `delete` operator, it resulted in empty spaces within the array. We do not encounter such an issue when deleting elements using the `splice()` method.**\n",
        "\n",
        "**⚠️ The `splice()` method modifies the structure of the array-type variable. This means that no new array is created for the changes made; the existing array content is updated.**\n",
        "\n",
        "**Example**\n",
        "\n",
        "In the example below, we swap desired elements with other elements starting from the specified position.\n"
      ]
    },
    {
      "cell_type": "code",
      "execution_count": 150,
      "metadata": {
        "vscode": {
          "languageId": "javascript"
        }
      },
      "outputs": [
        {
          "name": "stdout",
          "output_type": "stream",
          "text": [
            "Updated elements: Tata,BMW\n",
            "Updated content of the cars variable: Lada,OPEL,TOYOTA,Mercedes,Lexus\n"
          ]
        }
      ],
      "source": [
        "%%script node\n",
        "\n",
        "const cars = [\"Lada\", \"Tata\", \"BMW\", \"Mercedes\", \"Lexus\"];\n",
        "\n",
        "/**\n",
        " * The content of the first 2 elements after the 1st index value will be replaced with OPEL and TOYOTA. \n",
        " * (including the 1st index value)\n",
        " */\n",
        "console.log(`Updated elements: ${cars.splice(1, 2, \"OPEL\", \"TOYOTA\")}`);\n",
        "\n",
        "// Let's print the updated array content to the console.\n",
        "console.log(`Updated content of the cars variable: ${cars}`);\n"
      ]
    },
    {
      "cell_type": "markdown",
      "metadata": {},
      "source": [
        "**Example**\n",
        "\n",
        "In the example below, we delete the desired number of elements from the array starting from the specified position.\n"
      ]
    },
    {
      "cell_type": "code",
      "execution_count": 151,
      "metadata": {
        "vscode": {
          "languageId": "javascript"
        }
      },
      "outputs": [
        {
          "name": "stdout",
          "output_type": "stream",
          "text": [
            "Deleted elements from the array: Tata,BMW\n",
            "Updated content of the cars variable: Lada,Mercedes,Lexus\n"
          ]
        }
      ],
      "source": [
        "%%script node\n",
        "\n",
        "const cars = [\"Lada\", \"Tata\", \"BMW\", \"Mercedes\", \"Lexus\"];\n",
        "\n",
        "/** \n",
        " * It deletes the first 2 elements from the array starting from the 1st index value. (including the 1st index \n",
        " * value)\n",
        " */\n",
        "console.log(`Deleted elements from the array: ${cars.splice(1, 2)}`);\n",
        "\n",
        "// Let's print the updated array content to the console.\n",
        "console.log(`Updated content of the cars variable: ${cars}`);\n"
      ]
    },
    {
      "cell_type": "markdown",
      "metadata": {},
      "source": [
        "**Example**\n",
        "\n",
        "In the example below, we add the desired number of elements to the array starting from the specified position.\n"
      ]
    },
    {
      "cell_type": "code",
      "execution_count": 152,
      "metadata": {
        "vscode": {
          "languageId": "javascript"
        }
      },
      "outputs": [
        {
          "name": "stdout",
          "output_type": "stream",
          "text": [
            "Updated content of the cars variable: Lada,Tata,OPEL,TOYOTA,BMW,Mercedes,Lexus\n"
          ]
        }
      ],
      "source": [
        "%%script node\n",
        "\n",
        "const cars = [\"Lada\", \"Tata\", \"BMW\", \"Mercedes\", \"Lexus\"];\n",
        "\n",
        "/** \n",
        " * The OPEL brand is added as the 2nd index value and the TOYOTA brand is added as the 3rd index value to the \n",
        " * cars variable.\n",
        " */\n",
        "cars.splice(2, 0, \"OPEL\", \"TOYOTA\");\n",
        "\n",
        "// Let's print the updated array content to the console.\n",
        "console.log(`Updated content of the cars variable: ${cars}`);\n"
      ]
    },
    {
      "cell_type": "markdown",
      "metadata": {},
      "source": [
        "### <a id='toc1_5_19_'></a>[`slice()` Method](#toc0_)\n",
        "\n",
        "Sometimes we may want to cut elements from a specified range in an array and use them in some operations. In this case, the `slice()` method comes to our aid.\n",
        "\n",
        "It has two arguments. The first argument is the index value, which indicates from which element the operation will start. The second argument indicates at which element the operation will end. The element at the second argument index is not included in the operation.\n",
        "\n",
        "**⚠️ The `slice()` method does not modify the existing array structure. The result obtained creates a new array.**\n",
        "\n",
        "**Example**\n"
      ]
    },
    {
      "cell_type": "code",
      "execution_count": 153,
      "metadata": {
        "vscode": {
          "languageId": "javascript"
        }
      },
      "outputs": [
        {
          "name": "stdout",
          "output_type": "stream",
          "text": [
            "Content of the slicedCars variable: Tata,BMW\n",
            "Content of the cars variable: Lada,Tata,BMW,Mercedes,Lexus\n"
          ]
        }
      ],
      "source": [
        "%%script node\n",
        "\n",
        "const cars = [\"Lada\", \"Tata\", \"BMW\", \"Mercedes\", \"Lexus\"];\n",
        "\n",
        "/** \n",
        " * The elements between the element corresponding to the 1st index value and the element corresponding to \n",
        " * the 3rd index value are stored in the slicedCars variable as an array data type.\n",
        " *\n",
        " * In the slicing operation, the element corresponding to the 1st index value is included, while the element \n",
        " * corresponding to the 3rd index value is not included.\n",
        " */\n",
        "const slicedCars = cars.slice(1, 3);\n",
        "\n",
        "// The elements stored in the slicedCars variable are printed.\n",
        "console.log(`Content of the slicedCars variable: ${slicedCars}`);\n",
        "\n",
        "// As seen, the structure of the cars variable remains unchanged.\n",
        "console.log(`Content of the cars variable: ${cars}`);\n"
      ]
    },
    {
      "cell_type": "markdown",
      "metadata": {},
      "source": [
        "### <a id='toc1_5_20_'></a>[`sort()` Method](#toc0_)\n",
        "\n",
        "With the `sort()` method, we can sort the contents of an array alphabetically. The sorting pattern is from A to Z.\n",
        "\n",
        "**⚠️ The `sort()` method changes the positions of the elements in the original array content.**\n",
        "\n",
        "**Example**\n"
      ]
    },
    {
      "cell_type": "code",
      "execution_count": 154,
      "metadata": {
        "vscode": {
          "languageId": "javascript"
        }
      },
      "outputs": [
        {
          "name": "stdout",
          "output_type": "stream",
          "text": [
            "Sorted version of the cars variable in A-Z format: BMW,Lada,Lexus,Mercedes,Tata\n",
            "Elements of the cars variable: BMW,Lada,Lexus,Mercedes,Tata\n"
          ]
        }
      ],
      "source": [
        "%%script node\n",
        "\n",
        "const cars = [\"Lada\", \"Tata\", \"BMW\", \"Mercedes\", \"Lexus\"];\n",
        "\n",
        "// The contents of the cars variable are listed in alphabetical order from A to Z.\n",
        "console.log(`Sorted version of the cars variable in A-Z format: ${cars.sort()}`);\n",
        "\n",
        "// The sorting of the elements in the original array content has also changed.\n",
        "console.log(`Elements of the cars variable: ${cars}`);\n"
      ]
    },
    {
      "cell_type": "markdown",
      "metadata": {},
      "source": [
        "### <a id='toc1_5_21_'></a>[Using Compare Methods Inside the `sort()` Method](#toc0_)\n",
        "\n",
        "We can create an alternative sorting method using compare methods. The compare method returns one of three values: negative, zero, or positive.\n",
        "\n",
        "A compare method is created as follows: `function (a, b) {return a-b}`.\n",
        "\n",
        "When the `sort()` method compares two values, it sends these values to the compare method. Based on the result generated by the compare method, we can understand whether `a` is greater than, less than, or equal to `b`.\n",
        "\n",
        "**According to the formula:**\n",
        "\n",
        "- If the result is returned as negative, then `a` is less than `b`. (60-100 = -40 In this case, `a<b`. The `a` value comes before the `b` value.)\n",
        "\n",
        "- If the result is returned as positive, then `a` is greater than `b`. (100-60 = 40 In this case, `a>b`. The `b` value comes before the `a` value.)\n",
        "\n",
        "- If the result is returned as 0, then `a` is equal to `b`. (100-100 =0 In this case, `a=b`. No changes are made.)\n",
        "\n",
        "**⚠️ By default, the `sort()` method is used to list string values. It returns incorrect results when listing numerical values. To overcome this issue, _compare_ methods are created and used within the `sort()` method.**\n",
        "\n",
        "**Example**\n"
      ]
    },
    {
      "cell_type": "code",
      "execution_count": 155,
      "metadata": {
        "vscode": {
          "languageId": "javascript"
        }
      },
      "outputs": [
        {
          "name": "stdout",
          "output_type": "stream",
          "text": [
            "⚠️ Sort method alone will return incorrect results: 1,10,100,25,40,5\n",
            "Sorting in ascending order: 1,5,10,25,40,100\n",
            "Sorting in descending order: 100,40,25,10,5,1\n"
          ]
        }
      ],
      "source": [
        "%%script node\n",
        "\n",
        "const numbers = [40, 100, 1, 5, 25, 10];\n",
        "\n",
        "// Sort method alone will return incorrect results for numerical values\n",
        "console.log(`⚠️ Sort method alone will return incorrect results: ${numbers.sort()}`);\n",
        "\n",
        "// Sorting in ascending order using compare method function(a, b) { return a - b }\n",
        "console.log(`Sorting in ascending order: ${numbers.sort(function (a, b) { return a - b })}`);\n",
        "\n",
        "// Sorting in descending order using compare method function(a, b) { return b - a }\n",
        "console.log(`Sorting in descending order: ${numbers.sort(function (a, b) { return b - a })}`);\n"
      ]
    },
    {
      "cell_type": "markdown",
      "metadata": {},
      "source": [
        "Compare methods are especially used in variables where the content of the array is created in object form.\n",
        "\n",
        "**Example**\n"
      ]
    },
    {
      "cell_type": "code",
      "execution_count": 156,
      "metadata": {
        "vscode": {
          "languageId": "javascript"
        }
      },
      "outputs": [
        {
          "name": "stdout",
          "output_type": "stream",
          "text": [
            "[\n",
            "  { type: \u001b[32m'Volvo'\u001b[39m, year: \u001b[33m2016\u001b[39m },\n",
            "  { type: \u001b[32m'Saab'\u001b[39m, year: \u001b[33m2001\u001b[39m },\n",
            "  { type: \u001b[32m'BMW'\u001b[39m, year: \u001b[33m2010\u001b[39m }\n",
            "]\n",
            "[\n",
            "  { type: \u001b[32m'Saab'\u001b[39m, year: \u001b[33m2001\u001b[39m },\n",
            "  { type: \u001b[32m'BMW'\u001b[39m, year: \u001b[33m2010\u001b[39m },\n",
            "  { type: \u001b[32m'Volvo'\u001b[39m, year: \u001b[33m2016\u001b[39m }\n",
            "]\n",
            "[\n",
            "  { type: \u001b[32m'Saab'\u001b[39m, year: \u001b[33m2001\u001b[39m },\n",
            "  { type: \u001b[32m'BMW'\u001b[39m, year: \u001b[33m2010\u001b[39m },\n",
            "  { type: \u001b[32m'Volvo'\u001b[39m, year: \u001b[33m2016\u001b[39m }\n",
            "]\n"
          ]
        }
      ],
      "source": [
        "%%script node\n",
        "\n",
        "const cars = [\n",
        "  { type: \"Volvo\", year: 2016 },\n",
        "  { type: \"Saab\", year: 2001 },\n",
        "  { type: \"BMW\", year: 2010 }\n",
        "];\n",
        "\n",
        "// The content of the cars variable will be returned as it is.\n",
        "console.log(cars.sort());\n",
        "\n",
        "// If we use a compare method, we can sort its content as we want. Here, we used an arrow function.\n",
        "console.log(cars.sort((a, b) => a.year - b.year));\n",
        "\n",
        "// The original array content has changed.\n",
        "console.log(cars);\n"
      ]
    },
    {
      "cell_type": "markdown",
      "metadata": {},
      "source": [
        "### <a id='toc1_5_22_'></a>[`reverse()` Method](#toc0_)\n",
        "\n",
        "Sometimes we may want to reverse the content of an array. In such cases, we use the `reverse()` method.\n",
        "\n",
        "**⚠️ The `reverse()` method changes the positions of elements in the original array.**\n",
        "\n",
        "**Example**\n"
      ]
    },
    {
      "cell_type": "code",
      "execution_count": 157,
      "metadata": {
        "vscode": {
          "languageId": "javascript"
        }
      },
      "outputs": [
        {
          "name": "stdout",
          "output_type": "stream",
          "text": [
            "The content of the array after the reverse method: Lexus,Mercedes,BMW,Tata,Lada\n"
          ]
        }
      ],
      "source": [
        "%%script node\n",
        "\n",
        "const cars = [\"Lada\", \"Tata\", \"BMW\", \"Mercedes\", \"Lexus\"];\n",
        "\n",
        "// The content of the cars variable is reversed.\n",
        "cars.reverse();\n",
        "\n",
        "// The order of elements in the original array has changed.\n",
        "console.log(`The content of the array after the reverse method: ${cars}`);\n",
        "\n"
      ]
    },
    {
      "cell_type": "markdown",
      "metadata": {},
      "source": [
        "### <a id='toc1_5_23_'></a>[`forEach()` Method](#toc0_)\n",
        "\n",
        "`forEach()` method allows us to automatically execute a specified operation for each element in an array. This way, we avoid performing the operation manually for each element, saving time.\n",
        "\n",
        "A method created within the `forEach()` method is called repeatedly for each array element, which is why it is referred to as a **callback function**.\n",
        "\n",
        "**Example**\n"
      ]
    },
    {
      "cell_type": "code",
      "execution_count": 158,
      "metadata": {
        "vscode": {
          "languageId": "javascript"
        }
      },
      "outputs": [
        {
          "name": "stdout",
          "output_type": "stream",
          "text": [
            "New value: 4\n",
            "New value: 5\n",
            "New value: 6\n",
            "New value: 7\n"
          ]
        }
      ],
      "source": [
        "%%script node\n",
        "\n",
        "const numbers = [3, 4, 5, 6];\n",
        "\n",
        "/** \n",
        " * Arrow method carries the callback function feature and transforms each element in the numbers variable\n",
        " * into an odd number by adding +1, and returns the result.\n",
        " */\n",
        "numbers.forEach((value) => console.log(`New value: ${value + 1}`));\n",
        "\n"
      ]
    },
    {
      "cell_type": "markdown",
      "metadata": {},
      "source": [
        "### <a id='toc1_5_24_'></a>[`map()` Method](#toc0_)\n",
        "\n",
        "The `map()` method works similar to `forEach()`. The difference is that `map()` creates a new array for the result, while `forEach()` does not create a new array for the result.\n",
        "\n",
        "Based on this fundamental difference, the type of method to be used can be determined. If only an operation needs to be performed on each element within a loop, the `forEach()` method can be used. If a new array needs to be created and an operation needs to be performed on each element, the `map()` method can be used.\n",
        "\n",
        "**Example**\n"
      ]
    },
    {
      "cell_type": "code",
      "execution_count": 159,
      "metadata": {
        "vscode": {
          "languageId": "javascript"
        }
      },
      "outputs": [
        {
          "name": "stdout",
          "output_type": "stream",
          "text": [
            "Content of numbers2 variable: 90,8,18,32,50\n"
          ]
        }
      ],
      "source": [
        "%%script node\n",
        "\n",
        "const numbers = [45, 4, 9, 16, 25];\n",
        "\n",
        "/** \n",
        " * Each element of the numbers variable will be multiplied by 2, and the resulting values will be stored \n",
        " * in a new variable called numbers2.\n",
        " */\n",
        "const numbers2 = numbers.map(value => value * 2);\n",
        "\n",
        "console.log(`Content of numbers2 variable: ${numbers2}`);\n"
      ]
    },
    {
      "cell_type": "markdown",
      "metadata": {},
      "source": [
        "### <a id='toc1_5_25_'></a>[`flatMap()` Method](#toc0_)\n",
        "\n",
        "`flatMap()` works similarly to the `map()` method, but the key difference is that while the `map()` method produces nested arrays, `flatMap()` flattens the results to produce a single-level array.\n",
        "\n",
        "**⚠️ `flatMap()` method was introduced to JavaScript with ES2019. Modern browsers have been supporting the `flatMap()` method since 2020.**\n",
        "\n",
        "**Example**\n"
      ]
    },
    {
      "cell_type": "code",
      "execution_count": 160,
      "metadata": {
        "vscode": {
          "languageId": "javascript"
        }
      },
      "outputs": [
        {
          "name": "stdout",
          "output_type": "stream",
          "text": [
            "[ [ \u001b[33m4\u001b[39m ], [ \u001b[33m8\u001b[39m ], [ \u001b[33m12\u001b[39m ], [ \u001b[33m16\u001b[39m ] ]\n",
            "[ \u001b[33m4\u001b[39m, \u001b[33m8\u001b[39m, \u001b[33m12\u001b[39m, \u001b[33m16\u001b[39m ]\n"
          ]
        }
      ],
      "source": [
        "%%script node\n",
        "\n",
        "const numbers = [2, 4, 6, 8];\n",
        "\n",
        "const numbers2 = numbers.map(value => [value * 2]);\n",
        "\n",
        "const numbers3 = numbers.flatMap(value => [value * 2]);\n",
        "\n",
        "// map() method produced nested arrays.\n",
        "console.log(numbers2);\n",
        "\n",
        "// flatMap() method produced a single array.\n",
        "console.log(numbers3);\n"
      ]
    },
    {
      "cell_type": "markdown",
      "metadata": {},
      "source": [
        "### <a id='toc1_5_26_'></a>[`filter()` Method](#toc0_)\n",
        "\n",
        "Sometimes, we may want to filter the data in an array based on certain criteria and return it. In such cases, we use the `filter()` method.\n",
        "\n",
        "The `filter()` method creates a new array as a result.\n",
        "\n",
        "**Example**\n"
      ]
    },
    {
      "cell_type": "code",
      "execution_count": 161,
      "metadata": {
        "vscode": {
          "languageId": "javascript"
        }
      },
      "outputs": [
        {
          "name": "stdout",
          "output_type": "stream",
          "text": [
            "Contents of numbers2 variable: 45,25\n"
          ]
        }
      ],
      "source": [
        "%%script node\n",
        "\n",
        "const numbers = [45, 4, 9, 16, 25];\n",
        "\n",
        "// In this example, values greater than 18 will be filtered and stored in the numbers2 variable as a new array.\n",
        "const numbers2 = numbers.filter(value => value > 18);\n",
        "\n",
        "console.log(`Contents of numbers2 variable: ${numbers2}`);\n",
        "\n"
      ]
    },
    {
      "cell_type": "markdown",
      "metadata": {},
      "source": [
        "### <a id='toc1_5_27_'></a>[`reduce()` Method](#toc0_)\n",
        "\n",
        "The `reduce()` method executes a callback function for each element in the array, resulting in a single value representing the array's content.\n",
        "\n",
        "Using the `reduce()` method is typically a suitable option for combining or accumulating the result of an operation over an array. However, when used following functional programming principles, we can generally achieve more readable and maintainable code.\n",
        "\n",
        "**💡 The `reduce()` method operates from left to right. If we want to perform an operation from right to left, we can use the `reduceRight()` method.**\n",
        "\n",
        "The `reduce()` method does not mutate the original array structure.\n",
        "\n",
        "**The `reduce()` method has 4 parameters:**\n",
        "\n",
        "- The initial value or the value obtained from the previous element.\n",
        "\n",
        "- The value of the element.\n",
        "\n",
        "- The index of the element.\n",
        "\n",
        "- The array itself.\n",
        "\n",
        "**Example**\n"
      ]
    },
    {
      "cell_type": "code",
      "execution_count": 162,
      "metadata": {
        "vscode": {
          "languageId": "javascript"
        }
      },
      "outputs": [
        {
          "name": "stdout",
          "output_type": "stream",
          "text": [
            "The value of numbers2 variable: 99\n"
          ]
        }
      ],
      "source": [
        "%%script node\n",
        "\n",
        "const numbers = [45, 4, 9, 16, 25];\n",
        "\n",
        "/** \n",
        " * For each element in the numbers variable, the callback function inside the reduce() method will be executed,\n",
        " * and a single value will be produced as a result of all operations.\n",
        " */\n",
        "const numbers2 = numbers.reduce((total, value) => total + value);\n",
        "\n",
        "console.log(`The value of numbers2 variable: ${numbers2}`);\n",
        "\n"
      ]
    },
    {
      "cell_type": "markdown",
      "metadata": {},
      "source": [
        "The `reduce()` method can have an initial value as a parameter.\n",
        "\n",
        "**Example**\n"
      ]
    },
    {
      "cell_type": "code",
      "execution_count": 163,
      "metadata": {
        "vscode": {
          "languageId": "javascript"
        }
      },
      "outputs": [
        {
          "name": "stdout",
          "output_type": "stream",
          "text": [
            "The value of numbers2 variable: 121\n"
          ]
        }
      ],
      "source": [
        "%%script node\n",
        "\n",
        "const numbers = [2, 4, 7, 8];\n",
        "\n",
        "// 100 is the initial value.\n",
        "const numbers2 = numbers.reduce(myFunction, 100);\n",
        "\n",
        "function myFunction(total, value) {\n",
        "    return total + value;\n",
        "};\n",
        "\n",
        "console.log(`The value of numbers2 variable: ${numbers2}`);\n",
        "\n"
      ]
    },
    {
      "cell_type": "markdown",
      "metadata": {},
      "source": [
        "The usage of the `reduce()` method is common with object data types. This allows us to return the array content as a single result.\n",
        "\n",
        "**Example**\n"
      ]
    },
    {
      "cell_type": "code",
      "execution_count": 164,
      "metadata": {
        "vscode": {
          "languageId": "javascript"
        }
      },
      "outputs": [
        {
          "name": "stdout",
          "output_type": "stream",
          "text": [
            "{ name: \u001b[32m'John'\u001b[39m, age: \u001b[33m30\u001b[39m, city: \u001b[32m'New York'\u001b[39m }\n"
          ]
        }
      ],
      "source": [
        "%%script node\n",
        "\n",
        "const student = [\n",
        "  { key: 'name', value: 'John' },\n",
        "  { key: 'age', value: 30 },\n",
        "  { key: 'city', value: 'New York' }\n",
        "];\n",
        "\n",
        "const obj = student.reduce((accumulator, item) => {\n",
        "  accumulator[item.key] = item.value;\n",
        "  return accumulator;\n",
        "}, {});\n",
        "\n",
        "console.log(obj);\n"
      ]
    },
    {
      "cell_type": "markdown",
      "metadata": {},
      "source": [
        "### <a id='toc1_5_28_'></a>[`every()` Method](#toc0_)\n",
        "\n",
        "Sometimes, we may want to check whether a specified criterion matches **all elements** of an array. In this case, we use the `every()` method. If all elements in the array match the specified condition, `true` is returned; otherwise, if any element does not match the specified condition, `false` is returned.\n",
        "\n",
        "**The `every()` method has 3 parameters:**\n",
        "\n",
        "- The value of the element.\n",
        "\n",
        "- The index of the element.\n",
        "\n",
        "- The array itself.\n",
        "\n",
        "**Example**\n"
      ]
    },
    {
      "cell_type": "code",
      "execution_count": 165,
      "metadata": {
        "vscode": {
          "languageId": "javascript"
        }
      },
      "outputs": [
        {
          "name": "stdout",
          "output_type": "stream",
          "text": [
            "Contents of numbers2 variable: false\n"
          ]
        }
      ],
      "source": [
        "%%script node\n",
        "\n",
        "const numbers = [2, 4, 6, 8];\n",
        "\n",
        "/** \n",
        " * If all elements in the array are greater than 4, the result will be true.\n",
        " * \n",
        " * The `every()` method carries the callback function feature as it invokes the method for each element\n",
        " * (here, it's an arrow function).\n",
        " */\n",
        "const numbers2 = numbers.every(value => value > 4);\n",
        "\n",
        "console.log(`Contents of numbers2 variable: ${numbers2}`);\n"
      ]
    },
    {
      "cell_type": "markdown",
      "metadata": {},
      "source": [
        "### <a id='toc1_5_29_'></a>[`some()` Method](#toc0_)\n",
        "\n",
        "Sometimes, we may want to check whether a specified criterion matches **any element** of an array. In this case, we use the `some()` method. If any element in the array matches the specified condition, `true` is returned; otherwise, if none of the elements match the specified condition, `false` is returned.\n",
        "\n",
        "**The `some()` method has 3 parameters:**\n",
        "\n",
        "- The value of the element.\n",
        "\n",
        "- The index of the element.\n",
        "\n",
        "- The array itself.\n",
        "\n",
        "**Example**\n"
      ]
    },
    {
      "cell_type": "code",
      "execution_count": 166,
      "metadata": {
        "vscode": {
          "languageId": "javascript"
        }
      },
      "outputs": [
        {
          "name": "stdout",
          "output_type": "stream",
          "text": [
            "Contents of numbers2 variable: true\n"
          ]
        }
      ],
      "source": [
        "%%script node\n",
        "\n",
        "const numbers = [2, 4, 6, 8, 10];\n",
        "\n",
        "/** \n",
        " * If any element in the array is greater than 4, the result will be true.\n",
        " * \n",
        " * The `some()` method carries the callback function feature as it invokes the method for each element\n",
        " * (here, it's an arrow function).\n",
        " */\n",
        "let numbers2 = numbers.some(value => value > 4);\n",
        "\n",
        "console.log(`Contents of numbers2 variable: ${numbers2}`);\n"
      ]
    },
    {
      "cell_type": "markdown",
      "metadata": {},
      "source": [
        "### <a id='toc1_5_30_'></a>[`indexOf()` Method](#toc0_)\n",
        "\n",
        "The `indexOf()` method returns the position of the value used within the array.\n",
        "\n",
        "**Example**\n"
      ]
    },
    {
      "cell_type": "code",
      "execution_count": 167,
      "metadata": {
        "vscode": {
          "languageId": "javascript"
        }
      },
      "outputs": [
        {
          "name": "stdout",
          "output_type": "stream",
          "text": [
            "Index of the \"BMW\" element: 2\n"
          ]
        }
      ],
      "source": [
        "%%script node \n",
        "\n",
        "const cars = [\"Lada\", \"Tata\", \"BMW\", \"Mercedes\", \"Lexus\"];\n",
        "\n",
        "// Prints the index value of the \"BMW\" element to the console.\n",
        "console.log(`Index of the \"BMW\" element: ${cars.indexOf(\"BMW\")}`);\n",
        "\n"
      ]
    },
    {
      "cell_type": "markdown",
      "metadata": {},
      "source": [
        "If the searched element is not found within the array, the method returns -1, indicating that the searched value was not found in the array.\n",
        "\n",
        "**Example**\n"
      ]
    },
    {
      "cell_type": "code",
      "execution_count": 168,
      "metadata": {
        "vscode": {
          "languageId": "javascript"
        }
      },
      "outputs": [
        {
          "name": "stdout",
          "output_type": "stream",
          "text": [
            "Index of the \"Audi\" element in the array: -1\n"
          ]
        }
      ],
      "source": [
        "%%script node \n",
        "\n",
        "const cars = [\"Lada\", \"BMW\", \"Mercedes\", \"Lexus\"];\n",
        "\n",
        "/** \n",
        " * Prints the index value of the \"Audi\" element in the array. Since \"Audi\" is not found in the array, it prints \n",
        " * -1.\n",
        " */\n",
        "console.log(`Index of the \"Audi\" element in the array: ${cars.indexOf(\"Audi\")}`);\n",
        "\n"
      ]
    },
    {
      "cell_type": "markdown",
      "metadata": {},
      "source": [
        "If the searched element is used multiple times within the array, the method returns the position of the first occurrence of the element.\n",
        "\n",
        "**💡 If all indices of the element in the array are needed, using methods like `reduce()` or `map()` may be more appropriate than `indexOf()`.**\n",
        "\n",
        "**Example**\n"
      ]
    },
    {
      "cell_type": "code",
      "execution_count": 169,
      "metadata": {
        "vscode": {
          "languageId": "javascript"
        }
      },
      "outputs": [
        {
          "name": "stdout",
          "output_type": "stream",
          "text": [
            "Index of the first \"Lada\" element in the array: 0\n"
          ]
        }
      ],
      "source": [
        "%%script node \n",
        "\n",
        "const cars = [\"Lada\", \"Lada\", \"BMW\", \"Mercedes\", \"Lexus\"];\n",
        "\n",
        "// Prints the index value of the first occurrence of \"Lada\" element in the array.\n",
        "console.log(`Index of the first \"Lada\" element in the array: ${cars.indexOf(\"Lada\")}`);\n"
      ]
    },
    {
      "cell_type": "markdown",
      "metadata": {},
      "source": [
        "### <a id='toc1_5_31_'></a>[`lastIndexOf()` Method](#toc0_)\n",
        "\n",
        "The `lastIndexOf()` method works similarly to the `indexOf()` method, but the difference is that if there are multiple occurrences of the same element within the array, the index value of the last occurrence is returned.\n",
        "\n",
        "**Example**\n"
      ]
    },
    {
      "cell_type": "code",
      "execution_count": 170,
      "metadata": {
        "vscode": {
          "languageId": "javascript"
        }
      },
      "outputs": [
        {
          "name": "stdout",
          "output_type": "stream",
          "text": [
            "Index of the last \"Lada\" element in the array: 4\n"
          ]
        }
      ],
      "source": [
        "%%script node \n",
        "\n",
        "const cars = [\"Lada\", \"BMW\", \"Mercedes\", \"Lexus\", \"Lada\"];\n",
        "\n",
        "// Prints the index value of the last \"Lada\" element in the array.\n",
        "console.log(`Index of the last \"Lada\" element in the array: ${cars.lastIndexOf(\"Lada\")}`);"
      ]
    },
    {
      "cell_type": "markdown",
      "metadata": {},
      "source": [
        "### <a id='toc1_5_32_'></a>[`find()` Method](#toc0_)\n",
        "\n",
        "We may want to perform an operation on the first element in the array that matches a specified criterion. In this case, we use the `find()` method.\n",
        "\n",
        "**Example**\n"
      ]
    },
    {
      "cell_type": "code",
      "execution_count": 171,
      "metadata": {
        "vscode": {
          "languageId": "javascript"
        }
      },
      "outputs": [
        {
          "name": "stdout",
          "output_type": "stream",
          "text": [
            "Result: 25\n"
          ]
        }
      ],
      "source": [
        "%%script node\n",
        "\n",
        "const numbers = [4, 9, 16, 25, 29];\n",
        "\n",
        "// The value stored in the `first` variable will be the first array element that matches the criterion.\n",
        "let first = numbers.find(value => value > 18);\n",
        "\n",
        "console.log(`Result: ${first}`);"
      ]
    },
    {
      "cell_type": "markdown",
      "metadata": {},
      "source": [
        "### <a id='toc1_5_33_'></a>[`findIndex()` Method](#toc0_)\n",
        "\n",
        "Sometimes, we may want to find the index value of the first element that matches a specified criterion. In this case, we use the `findIndex()` method.\n",
        "\n",
        "**Example**\n"
      ]
    },
    {
      "cell_type": "code",
      "execution_count": 172,
      "metadata": {
        "vscode": {
          "languageId": "javascript"
        }
      },
      "outputs": [
        {
          "name": "stdout",
          "output_type": "stream",
          "text": [
            "Result: 3\n"
          ]
        }
      ],
      "source": [
        "%%script node\n",
        "\n",
        "const numbers = [4, 9, 16, 25, 29];\n",
        "\n",
        "/**\n",
        " * The value stored in the `first` variable will be the index of the first array element that matches the \n",
        " * criterion.\n",
        " */\n",
        "let first = numbers.findIndex(value => value > 18);\n",
        "\n",
        "console.log(`Result: ${first}`);\n"
      ]
    },
    {
      "cell_type": "markdown",
      "metadata": {},
      "source": [
        "### <a id='toc1_5_34_'></a>[`Array.from()` Method](#toc0_)\n",
        "\n",
        "It is used to create a new array based on the length and content of the parameter used.\n",
        "\n",
        "**💡 Especially when we want to use each character of a string as an element in an array, we can benefit from the `from()` method.**\n",
        "\n",
        "**The same operation can also be performed using the spread operator `...`.**\n",
        "\n",
        "**Example**\n"
      ]
    },
    {
      "cell_type": "code",
      "execution_count": 173,
      "metadata": {
        "vscode": {
          "languageId": "javascript"
        }
      },
      "outputs": [
        {
          "name": "stdout",
          "output_type": "stream",
          "text": [
            "[\n",
            "  \u001b[32m'L'\u001b[39m, \u001b[32m'i'\u001b[39m, \u001b[32m'n'\u001b[39m,\n",
            "  \u001b[32m' '\u001b[39m, \u001b[32m'W'\u001b[39m, \u001b[32m'a'\u001b[39m,\n",
            "  \u001b[32m'y'\u001b[39m, \u001b[32m'n'\u001b[39m, \u001b[32m'e'\u001b[39m\n",
            "]\n"
          ]
        }
      ],
      "source": [
        "%%script node\n",
        "\n",
        "console.log(Array.from(\"Lin Wayne\"));"
      ]
    },
    {
      "cell_type": "markdown",
      "metadata": {},
      "source": [
        "### <a id='toc1_5_35_'></a>[`keys()` Method](#toc0_)\n",
        "\n",
        "Sometimes, we may want to store the index values of the elements in an array in a new array. In this case, we can use the `keys()` method.\n",
        "\n",
        "**Example**\n"
      ]
    },
    {
      "cell_type": "code",
      "execution_count": 174,
      "metadata": {
        "vscode": {
          "languageId": "javascript"
        }
      },
      "outputs": [
        {
          "name": "stdout",
          "output_type": "stream",
          "text": [
            "[ \u001b[33m0\u001b[39m, \u001b[33m1\u001b[39m, \u001b[33m2\u001b[39m, \u001b[33m3\u001b[39m, \u001b[33m4\u001b[39m ]\n"
          ]
        }
      ],
      "source": [
        "%%script node\n",
        "\n",
        "const cars = [\"Lada\", \"Tata\", \"BMW\", \"Mercedes\", \"Lexus\"];\n",
        "\n",
        "// Creates an array of index values from the `cars` array and prints it to the console.\n",
        "console.log(Array.from(cars.keys()));\n"
      ]
    },
    {
      "cell_type": "markdown",
      "metadata": {},
      "source": [
        "### <a id='toc1_5_36_'></a>[`entries()` Method](#toc0_)\n",
        "\n",
        "The `entries()` method returns an array object where each element of the array is itself an array containing a pair of value and index (key). This method allows each element of an array to be used with both its value and index (key).\n",
        "\n",
        "**Example**\n"
      ]
    },
    {
      "cell_type": "code",
      "execution_count": 175,
      "metadata": {
        "vscode": {
          "languageId": "javascript"
        }
      },
      "outputs": [
        {
          "name": "stdout",
          "output_type": "stream",
          "text": [
            "[ \u001b[33m0\u001b[39m, \u001b[32m'Lada'\u001b[39m ]\n",
            "[ \u001b[33m1\u001b[39m, \u001b[32m'Tata'\u001b[39m ]\n",
            "[ \u001b[33m2\u001b[39m, \u001b[32m'BMW'\u001b[39m ]\n",
            "[ \u001b[33m3\u001b[39m, \u001b[32m'Mercedes'\u001b[39m ]\n",
            "[ \u001b[33m4\u001b[39m, \u001b[32m'Lexus'\u001b[39m ]\n"
          ]
        }
      ],
      "source": [
        "%%script node\n",
        "\n",
        "const cars = [\"Lada\", \"Tata\", \"BMW\", \"Mercedes\", \"Lexus\"];\n",
        "\n",
        "const entries = cars.entries();\n",
        "\n",
        "/** \n",
        " * Using a loop to iterate over the elements of the cars array along with their index, and print them to the \n",
        " * console.\n",
        " */\n",
        "for (const entry of entries) {\n",
        "  console.log(entry);\n",
        "}"
      ]
    },
    {
      "cell_type": "markdown",
      "metadata": {},
      "source": [
        "### <a id='toc1_5_37_'></a>[`includes()` Method](#toc0_)\n",
        "\n",
        "Sometimes, we may want to check whether a value **exactly matches** an element in an array. In this case, we use the `includes()` method. If there is an exact match between the parameter used in the method and an element in the array, the result is `true`; otherwise, it is `false`.\n",
        "\n",
        "Unlike the `indexOf()` method, the `includes()` method also checks for `NaN` values.\n",
        "\n",
        "**Example**\n"
      ]
    },
    {
      "cell_type": "code",
      "execution_count": 176,
      "metadata": {
        "vscode": {
          "languageId": "javascript"
        }
      },
      "outputs": [
        {
          "name": "stdout",
          "output_type": "stream",
          "text": [
            "Is \"Ahmet\" included in personalNames array?: true\n",
            "Is \"Meh\" included in personalNames array?: false\n"
          ]
        }
      ],
      "source": [
        "%%script node\n",
        "\n",
        "const personalNames = [\"Ahmet\", \"Mehmet\", \"Can\"];\n",
        "\n",
        "// Checks if the value \"Ahmet\" exists in the personalNames array\n",
        "console.log(`Is \"Ahmet\" included in personalNames array?: ${personalNames.includes(\"Ahmet\")}`);\n",
        "\n",
        "// Checks if the value \"Meh\" exists in the personalNames array\n",
        "console.log(`Is \"Meh\" included in personalNames array?: ${personalNames.includes(\"Meh\")}`);\n"
      ]
    },
    {
      "cell_type": "markdown",
      "metadata": {},
      "source": [
        "### <a id='toc1_5_38_'></a>[Usage of the `length` Property](#toc0_)\n",
        "\n",
        "The `length` property returns the numerical length of an array-like variable.\n",
        "\n",
        "As we recall, we have previously used this property to add elements to an array-like variable.\n",
        "\n",
        "**Example**\n"
      ]
    },
    {
      "cell_type": "code",
      "execution_count": 177,
      "metadata": {
        "vscode": {
          "languageId": "javascript"
        }
      },
      "outputs": [
        {
          "name": "stdout",
          "output_type": "stream",
          "text": [
            "Length of the cars variable: 3\n",
            "Updated content of the cars variable: Lada,Tata,BMW,Mercedes\n"
          ]
        }
      ],
      "source": [
        "%%script node\n",
        "\n",
        "const cars = [\"Lada\", \"Tata\", \"BMW\"];\n",
        "\n",
        "// Prints the length of the cars variable to the console.\n",
        "console.log(`Length of the cars variable: ${cars.length}`);\n",
        "\n",
        "// Adds the element \"Mercedes\" to the cars variable. The added element will be placed at the end of the variable.\n",
        "cars[cars.length] = \"Mercedes\";\n",
        "\n",
        "// Prints the updated contents of the cars variable to the console after adding the new value.\n",
        "console.log(`Updated content of the cars variable: ${cars}`);"
      ]
    },
    {
      "cell_type": "markdown",
      "metadata": {},
      "source": [
        "## <a id='toc1_6_'></a>[Summary](#toc0_)\n",
        "\n",
        "The array data type in JavaScript is used to group data into collections. This data type is particularly ideal for organizing and performing operations on multiple elements.\n",
        "\n",
        "There are two basic methods to create an array: the **literal method** and the **object method**. The literal method contains elements within square brackets, for example, `let cars = [\"Lada\", \"Toyota\", \"Ford\"];`. The object method creates an array using the `new Array()` constructor.\n",
        "\n",
        "**Index numbers** are used to access elements within an array. For example, `cars[0]` accesses the \"Lada\" element.\n",
        "\n",
        "To add new elements to an array, the `push()` method, insertion with an index value, or using the `length` property can be employed.\n",
        "\n",
        "The **associative property is not directly supported** in arrays, hence elements are accessed using index numbers.\n",
        "\n",
        "The array data type includes many **methods**. Methods like `pop()`, `shift()`, `concat()`, `slice()`, `forEach()`, `map()`, `filter()`, `reduce()` are commonly used on arrays.\n",
        "\n",
        "The **Spread operator** (`...`) is used to copy, merge, or expand iterable objects.\n",
        "\n",
        "These features provide **flexibility** in data processing and manipulation with arrays in JavaScript.\n"
      ]
    }
  ],
  "metadata": {
    "kernelspec": {
      "display_name": "Python 3 (ipykernel)",
      "language": "python",
      "name": "python3"
    },
    "language_info": {
      "codemirror_mode": {
        "name": "ipython",
        "version": 3
      },
      "file_extension": ".py",
      "mimetype": "text/x-python",
      "name": "python",
      "nbconvert_exporter": "python",
      "pygments_lexer": "ipython3",
      "version": "3.10.12"
    }
  },
  "nbformat": 4,
  "nbformat_minor": 2
}
