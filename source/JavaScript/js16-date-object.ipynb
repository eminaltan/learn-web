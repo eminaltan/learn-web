{
 "cells": [
  {
   "cell_type": "markdown",
   "metadata": {},
   "source": [
    "# JavaScript Date Object<a id='toc0_'></a>\n",
    "\n",
    "Hello, in this part of the series, we will explore the concept of **_date object_** in JavaScript.\n",
    "\n",
    "In this article, we'll cover:\n",
    "\n",
    "- [Creating a Date Object in JavaScript](#toc1_1_)\n",
    "- [Creating a Date with the `new Date()` Method](#toc1_1_1_)\n",
    "- [Creating a Date with the `new Date(dateString)` Method](#toc1_1_2_)\n",
    "- [Creating a Date with the `new Date(year, month, day, hour, minute, second, millisecond)` Method](#toc1_1_3_)\n",
    "  - [Single or Double Notation Usage](#toc1_1_3_1_)\n",
    "- [Creating a Date with the `new Date(milliseconds)` Method](#toc1_1_4_)\n",
    "- [Date Standards](#toc1_2_)\n",
    "  - [ISO Date Standard](#toc1_2_1_)\n",
    "  - [Short Date Standard](#toc1_2_2_)\n",
    "  - [Long Date Standard](#toc1_2_3_)\n",
    "- [Date Methods](#toc1_3_)\n",
    "  - [`toDateString()` Method](#toc1_3_1_)\n",
    "  - [`toUTCString()` Method](#toc1_3_2_)\n",
    "  - [`toISOString()` Method](#toc1_3_3_)\n",
    "  - [`getFullYear()` Method](#toc1_3_4_)\n",
    "  - [`getMonth()` Method](#toc1_3_5_)\n",
    "  - [`getDate()` Method](#toc1_3_6_)\n",
    "  - [`getHours()` Method](#toc1_3_7_)\n",
    "  - [`getMinutes()` Method](#toc1_3_8_)\n",
    "  - [`getSeconds()` Method](#toc1_3_9_)\n",
    "  - [`getMilliseconds()` Method](#toc1_3_10_)\n",
    "  - [`getDay()` Method](#toc1_3_11_)\n",
    "  - [`getTime()` Method](#toc1_3_12_)\n",
    "  - [`setFullYear()` Method](#toc1_3_13_)\n",
    "  - [`setMonth()` Method](#toc1_3_14_)\n",
    "  - [`setDate()` Method](#toc1_3_15_)\n",
    "  - [`setHours()` Method](#toc1_3_16_)\n",
    "  - [`setMinutes()` Method](#toc1_3_17_)\n",
    "  - [`setSeconds()` Method](#toc1_3_18_)\n",
    "- [Comparing Dates in JavaScript](#toc1_4_)\n",
    "- [Summary](#toc1_5_)\n",
    "\n",
    "I hope you enjoy reading.\n",
    "\n",
    "Yazının Türkçe versiyonu için [linke](tr-js16-date-object.ipynb) tıklayabilirsiniz.\n",
    "\n",
    "<!-- vscode-jupyter-toc-config\n",
    "\tnumbering=false\n",
    "\tanchor=true\n",
    "\tflat=false\n",
    "\tminLevel=1\n",
    "\tmaxLevel=6\n",
    "\t/vscode-jupyter-toc-config -->\n",
    "<!-- THIS CELL WILL BE REPLACED ON TOC UPDATE. DO NOT WRITE YOUR TEXT IN THIS CELL -->\n"
   ]
  },
  {
   "cell_type": "markdown",
   "metadata": {},
   "source": [
    "## <a id='toc1_1_'></a>[Creating a Date Object in JavaScript](#toc0_)\n",
    "\n",
    "In JavaScript, we can create objects of type Date. We use the `new Date()` constructor method to create a date object.\n",
    "\n",
    "By default, the date object will use the time zone information of the browser and display the result as a string value.\n",
    "\n",
    "**Example**\n"
   ]
  },
  {
   "cell_type": "code",
   "execution_count": 63,
   "metadata": {
    "vscode": {
     "languageId": "javascript"
    }
   },
   "outputs": [
    {
     "name": "stdout",
     "output_type": "stream",
     "text": [
      "\u001b[35m2024-02-11T23:45:35.357Z\u001b[39m\n"
     ]
    }
   ],
   "source": [
    "%%script node\n",
    "\n",
    "const whatIsTheDate = new Date();\n",
    "\n",
    "// We created a date object using the browser's time zone information by default.\n",
    "console.log(whatIsTheDate);"
   ]
  },
  {
   "cell_type": "markdown",
   "metadata": {},
   "source": [
    "**We can create a date object using one of four methods:**\n",
    "\n",
    "- `new Date()`\n",
    "\n",
    "- `new Date(dateString)`\n",
    "\n",
    "- `new Date(year, month, day, hour, minute, second, millisecond)`\n",
    "\n",
    "- `new Date(milliseconds)`\n",
    "\n",
    "Now let's discuss these methods.\n"
   ]
  },
  {
   "cell_type": "markdown",
   "metadata": {},
   "source": [
    "### <a id='toc1_1_1_'></a>[Creating a Date with the `new Date()` Method](#toc0_)\n",
    "\n",
    "When we use the `new Date()` constructor method without parameters, it creates a date object for the current date and time.\n",
    "\n",
    "The date information is created using the year, month, day, hour, minute, second, and millisecond details.\n",
    "\n",
    "**Example**\n"
   ]
  },
  {
   "cell_type": "code",
   "execution_count": 2,
   "metadata": {
    "vscode": {
     "languageId": "javascript"
    }
   },
   "outputs": [
    {
     "name": "stdout",
     "output_type": "stream",
     "text": [
      "Mon Feb 12 2024 01:29:21 GMT+0300 (GMT+03:00)\n"
     ]
    }
   ],
   "source": [
    "%%script node\n",
    "\n",
    "const whatIsTheDate = new Date();\n",
    "\n",
    "// Printing the current date and time to the console.\n",
    "console.log(whatIsTheDate.toString());\n"
   ]
  },
  {
   "cell_type": "markdown",
   "metadata": {},
   "source": [
    "### <a id='toc1_1_2_'></a>[Creating a Date with the `new Date(dateString)` Method](#toc0_)\n",
    "\n",
    "We can create the desired date by passing a string representation of the date as a parameter to the `new Date()` constructor method.\n",
    "\n",
    "**Example**\n"
   ]
  },
  {
   "cell_type": "code",
   "execution_count": 3,
   "metadata": {
    "vscode": {
     "languageId": "javascript"
    }
   },
   "outputs": [
    {
     "name": "stdout",
     "output_type": "stream",
     "text": [
      "Mon Oct 13 2014 11:13:00 GMT+0300 (GMT+03:00)\n"
     ]
    }
   ],
   "source": [
    "%%script node\n",
    "\n",
    "const stringDate = new Date(\"October 13, 2014 11:13:00\");\n",
    "\n",
    "// Printing the specified date to the console.\n",
    "console.log(stringDate.toString());"
   ]
  },
  {
   "cell_type": "markdown",
   "metadata": {},
   "source": [
    "### <a id='toc1_1_3_'></a>[Creating a Date with the `new Date(year, month, day, hour, minute, second, millisecond)` Method](#toc0_)\n",
    "\n",
    "We can create a specific date and time using the parameters we specify. In this case, we can use the appropriate subset of the 7 parameters in the `new Date()` constructor method.\n",
    "\n",
    "**Example**\n"
   ]
  },
  {
   "cell_type": "code",
   "execution_count": 4,
   "metadata": {
    "vscode": {
     "languageId": "javascript"
    }
   },
   "outputs": [
    {
     "name": "stdout",
     "output_type": "stream",
     "text": [
      "Tue May 01 2018 00:00:00 GMT+0300 (GMT+03:00)\n",
      "Mon Jan 06 2020 03:20:58 GMT+0300 (GMT+03:00)\n"
     ]
    }
   ],
   "source": [
    "%%script node\n",
    "\n",
    "// Creating a date object with year and month parameters.\n",
    "const date = new Date(2018, 4);\n",
    "\n",
    "// Creating a date object with year, month, day, hour, minute, and second parameters.\n",
    "const date2 = new Date(2020, 0, 6, 3, 20, 58);\n",
    "\n",
    "console.log(date.toString());\n",
    "\n",
    "console.log(date2.toString());"
   ]
  },
  {
   "cell_type": "markdown",
   "metadata": {},
   "source": [
    "**⚠️ JavaScript interprets the month range as numbers between 0 and 11. The number 0 corresponds to January, while the number 11 corresponds to December.**\n",
    "\n",
    "**Example**\n"
   ]
  },
  {
   "cell_type": "code",
   "execution_count": 5,
   "metadata": {
    "vscode": {
     "languageId": "javascript"
    }
   },
   "outputs": [
    {
     "name": "stdout",
     "output_type": "stream",
     "text": [
      "Mon Jan 01 2018\n",
      "Sat Dec 01 2018\n"
     ]
    }
   ],
   "source": [
    "%%script node\n",
    "\n",
    "const date = new Date(2018, 0);\n",
    "const date2 = new Date(2018, 11);\n",
    "\n",
    "// Note that the month is set to January.\n",
    "console.log(date.toDateString());\n",
    "\n",
    "// Note that the month is set to December.\n",
    "console.log(date2.toDateString());"
   ]
  },
  {
   "cell_type": "markdown",
   "metadata": {},
   "source": [
    "**⚠️ If the month value is greater than 11, JavaScript does not return any error message, but the excess over 11 is rolled over to the year value and evaluated.**\n",
    "\n",
    "**This also applies to days. If the day value is greater than 31, the excess is rolled over to the month value and evaluated.**\n",
    "\n",
    "**Example**\n"
   ]
  },
  {
   "cell_type": "code",
   "execution_count": 6,
   "metadata": {
    "vscode": {
     "languageId": "javascript"
    }
   },
   "outputs": [
    {
     "name": "stdout",
     "output_type": "stream",
     "text": [
      "Tue Jan 01 2019\n",
      "Sun Dec 02 2018\n"
     ]
    }
   ],
   "source": [
    "%%script node\n",
    "\n",
    "const date = new Date(2018, 12);\n",
    "const date2 = new Date(2018, 10, 32);\n",
    "\n",
    "// Note that the year part is set to 2019.\n",
    "console.log(date.toDateString());\n",
    "\n",
    "/** \n",
    " * Note that the month part is set to December. We would have expected it to be evaluated as \n",
    " * October.\n",
    " */\n",
    "console.log(date2.toDateString());\n"
   ]
  },
  {
   "cell_type": "markdown",
   "metadata": {},
   "source": [
    "**⚠️ JavaScript interprets the time elapsed since January 1, 1970, as milliseconds. One day consists of 86,400,000 milliseconds.**\n",
    "\n",
    "**If a date object consists only of the year parameter, JavaScript also interprets this value as milliseconds.**\n",
    "\n",
    "**Example**\n"
   ]
  },
  {
   "cell_type": "code",
   "execution_count": 41,
   "metadata": {
    "vscode": {
     "languageId": "javascript"
    }
   },
   "outputs": [
    {
     "name": "stdout",
     "output_type": "stream",
     "text": [
      "Thu Jan 01 1970 02:00:02 GMT+0200 (GMT+03:00)\n"
     ]
    }
   ],
   "source": [
    "%%script node\n",
    "\n",
    "const date = new Date(2020);\n",
    "\n",
    "console.log(date.toString());"
   ]
  },
  {
   "cell_type": "markdown",
   "metadata": {},
   "source": [
    "#### <a id='toc1_1_3_1_'></a>[Single or Double Notation Usage](#toc0_)\n",
    "\n",
    "When the year parameter is expressed in single or double notation, JavaScript interprets the year value in the **_19xx_** format.\n",
    "\n",
    "**Example**\n"
   ]
  },
  {
   "cell_type": "code",
   "execution_count": 8,
   "metadata": {
    "vscode": {
     "languageId": "javascript"
    }
   },
   "outputs": [
    {
     "name": "stdout",
     "output_type": "stream",
     "text": [
      "\u001b[33m1998\u001b[39m\n",
      "\u001b[33m1908\u001b[39m\n"
     ]
    }
   ],
   "source": [
    "%%script node\n",
    "\n",
    "const date = new Date(98, 11, 5);\n",
    "const date2 = new Date(8, 11, 5);\n",
    "\n",
    "// The year part is created as 1998.\n",
    "console.log(date.getFullYear());\n",
    "\n",
    "// The year part is created as 1908.\n",
    "console.log(date2.getFullYear());"
   ]
  },
  {
   "cell_type": "markdown",
   "metadata": {},
   "source": [
    "**⚠️ When creating a date object using short date or ISO standard format, it is recommended to use double notation for the month and day parts. If not used, some browsers may misinterpret the date object and produce incorrect results.**\n",
    "\n",
    "**Example**\n",
    "\n",
    "```javascript\n",
    "/**\n",
    " * Note that we used single notation for the month. The date object created according to the ISO standard\n",
    " * will result in incorrect results in some browsers.\n",
    " */\n",
    "const date = new Date(\"2015-3-25\");\n",
    "```\n"
   ]
  },
  {
   "cell_type": "markdown",
   "metadata": {},
   "source": [
    "### <a id='toc1_1_4_'></a>[Creating a Date with the `new Date(milliseconds)` Method](#toc0_)\n",
    "\n",
    "When we use a number data type as a parameter in the `new Date()` constructor method, JavaScript interprets this value as milliseconds and converts it to a date.\n",
    "\n",
    "**⚠️ When using milliseconds as a value, JavaScript uses January 01, 1970 00:00:00 UTC as the reference start date.**\n",
    "\n",
    "**Example**\n"
   ]
  },
  {
   "cell_type": "code",
   "execution_count": 9,
   "metadata": {
    "vscode": {
     "languageId": "javascript"
    }
   },
   "outputs": [
    {
     "name": "stdout",
     "output_type": "stream",
     "text": [
      "Mon May 03 1976\n",
      "Sat Aug 31 1963\n"
     ]
    }
   ],
   "source": [
    "%%script node\n",
    "\n",
    "// The value of type number will be converted to a date.\n",
    "const date = new Date(200000000000);\n",
    "\n",
    "// We can use negative milliseconds values.\n",
    "const date2 = new Date(-200000000000);\n",
    "\n",
    "console.log(date.toDateString());\n",
    "console.log(date2.toDateString());"
   ]
  },
  {
   "cell_type": "markdown",
   "metadata": {},
   "source": [
    "## <a id='toc1_2_'></a>[Date Standards](#toc0_)\n",
    "\n",
    "**There are 3 types of date standards in JavaScript:**\n",
    "\n",
    "- ISO date standard\n",
    "\n",
    "- Short date standard\n",
    "\n",
    "- Long date standard\n",
    "\n",
    "Now let's discuss each of these.\n"
   ]
  },
  {
   "cell_type": "markdown",
   "metadata": {},
   "source": [
    "### <a id='toc1_2_1_'></a>[ISO Date Standard](#toc0_)\n",
    "\n",
    "This standard used by default in JavaScript.\n",
    "\n",
    "**⚠️ Since the ISO standard is interpreted the same way by all browsers, a date object is created and displayed in the same way across all browsers. Other standards may be interpreted differently by browsers and may create and display date objects differently. Therefore, it is recommended to create date objects adhering to the ISO date standard.**\n",
    "\n",
    "Date and time values are separated by the letter **_T_** in ISO standard. The letter **_Z_** represents the UTC value.\n",
    "\n",
    "The concept of **_UTC (Universal Time Coordinated)_** is equivalent to **_GMT (Greenwich Mean Time)_**. They both mean the same thing.\n",
    "\n",
    "In the ISO standard, a date object is created using the **_YYYY-MM-DD_** pattern by default.\n",
    "\n",
    "**Example**\n"
   ]
  },
  {
   "cell_type": "code",
   "execution_count": 10,
   "metadata": {
    "vscode": {
     "languageId": "javascript"
    }
   },
   "outputs": [
    {
     "name": "stdout",
     "output_type": "stream",
     "text": [
      "\u001b[35m2015-03-20T00:00:00.000Z\u001b[39m\n",
      "\u001b[35m2015-04-19T21:00:00.000Z\u001b[39m\n"
     ]
    }
   ],
   "source": [
    "%%script node\n",
    "\n",
    "// The date object is created according to the YYYY-MM-DD pattern.\n",
    "const date = new Date(\"2015-03-20\");\n",
    "const date2 = new Date(2015, 3, 20);\n",
    "\n",
    "console.log(date);\n",
    "console.log(date2);"
   ]
  },
  {
   "cell_type": "markdown",
   "metadata": {},
   "source": [
    "Optional different pattern types can be used. In the example below, a date object is created with the **_YYYY-MM_** pattern.\n",
    "\n",
    "**Example**\n"
   ]
  },
  {
   "cell_type": "code",
   "execution_count": 11,
   "metadata": {
    "vscode": {
     "languageId": "javascript"
    }
   },
   "outputs": [
    {
     "name": "stdout",
     "output_type": "stream",
     "text": [
      "Sun Mar 01 2015\n"
     ]
    }
   ],
   "source": [
    "%%script node\n",
    "\n",
    "// The date object is created according to the YYYY-MM pattern.\n",
    "const date = new Date(\"2015-03\");\n",
    "\n",
    "console.log(date.toDateString());"
   ]
  },
  {
   "cell_type": "markdown",
   "metadata": {},
   "source": [
    "### <a id='toc1_2_2_'></a>[Short Date Standard](#toc0_)\n",
    "\n",
    "If a date object is determined using the **_MM/DD/YYYY_** pattern, it is created according to the short date standard.\n",
    "\n",
    "**Example**\n"
   ]
  },
  {
   "cell_type": "code",
   "execution_count": 12,
   "metadata": {
    "vscode": {
     "languageId": "javascript"
    }
   },
   "outputs": [
    {
     "name": "stdout",
     "output_type": "stream",
     "text": [
      "Wed Mar 25 2015 00:00:00 GMT+0200 (GMT+03:00)\n"
     ]
    }
   ],
   "source": [
    "%%script node\n",
    "\n",
    "// We created the date object according to the short date standard.\n",
    "const date = new Date(\"03/25/2015\");\n",
    "\n",
    "console.log(date.toString());"
   ]
  },
  {
   "cell_type": "markdown",
   "metadata": {},
   "source": [
    "### <a id='toc1_2_3_'></a>[Long Date Standard](#toc0_)\n",
    "\n",
    "If a date object is determined using the **_MMM DD YYYY_** pattern, it is created according to the long date standard.\n",
    "\n",
    "**Example**\n"
   ]
  },
  {
   "cell_type": "code",
   "execution_count": 13,
   "metadata": {
    "vscode": {
     "languageId": "javascript"
    }
   },
   "outputs": [
    {
     "name": "stdout",
     "output_type": "stream",
     "text": [
      "Wed Mar 25 2015 00:00:00 GMT+0200 (GMT+03:00)\n"
     ]
    }
   ],
   "source": [
    "%%script node\n",
    "\n",
    "// We created the date object according to the long date standard.\n",
    "const date = new Date(\"Mar 25 2015\");\n",
    "\n",
    "console.log(date.toString());"
   ]
  },
  {
   "cell_type": "markdown",
   "metadata": {},
   "source": [
    "**💡 Depending on the needs, usage scenarios may vary. For example, in a calendar application, a short date format may be preferred to allow users to quickly read dates, while a long date format may be preferred in a reporting tool to display more detailed dates.**\n"
   ]
  },
  {
   "cell_type": "markdown",
   "metadata": {},
   "source": [
    "## <a id='toc1_3_'></a>[Date Methods](#toc0_)\n",
    "\n",
    "After creating a date object, we can use date methods. Now let's discuss some date methods.\n"
   ]
  },
  {
   "cell_type": "markdown",
   "metadata": {},
   "source": [
    "### <a id='toc1_3_1_'></a>[`toDateString()` Method](#toc0_)\n",
    "\n",
    "When we create a date object by default in JavaScript, it converts the object to a string format using the `toString()` method. In this case, the default date object includes the GMT information along with the hour, minute, second, and millisecond values.\n",
    "\n",
    "To make the date object more readable and understandable, the `toDateString()` method is used. The `toDateString()` method returns the value in the format of year, month, and day.\n",
    "\n",
    "**Example**\n"
   ]
  },
  {
   "cell_type": "code",
   "execution_count": 14,
   "metadata": {
    "vscode": {
     "languageId": "javascript"
    }
   },
   "outputs": [
    {
     "name": "stdout",
     "output_type": "stream",
     "text": [
      "Sat Dec 05 1998 00:00:00 GMT+0200 (GMT+03:00)\n",
      "Sat Dec 05 1998\n"
     ]
    }
   ],
   "source": [
    "%%script node\n",
    "\n",
    "// We create a date object using double notation.\n",
    "const date = new Date(98, 11, 5);\n",
    "\n",
    "console.log(date.toString());\n",
    "\n",
    "// We make the date variable more readable with the toDateString() method.\n",
    "console.log(date.toDateString());"
   ]
  },
  {
   "cell_type": "markdown",
   "metadata": {},
   "source": [
    "### <a id='toc1_3_2_'></a>[`toUTCString()` Method](#toc0_)\n",
    "\n",
    "Formats the date object according to the UTC standard. In this type of date object, along with the year, month, day, hour, minute, and second information, UTC standard is also included.\n",
    "\n",
    "**Example**\n"
   ]
  },
  {
   "cell_type": "code",
   "execution_count": 15,
   "metadata": {
    "vscode": {
     "languageId": "javascript"
    }
   },
   "outputs": [
    {
     "name": "stdout",
     "output_type": "stream",
     "text": [
      "Sun, 11 Feb 2024 22:29:22 GMT\n"
     ]
    }
   ],
   "source": [
    "%%script node\n",
    "\n",
    "const date = new Date();\n",
    "\n",
    "// We include the UTC standard in the date variable with the toUTCString() method.\n",
    "console.log(date.toUTCString());"
   ]
  },
  {
   "cell_type": "markdown",
   "metadata": {},
   "source": [
    "### <a id='toc1_3_3_'></a>[`toISOString()` Method](#toc0_)\n",
    "\n",
    "Converts the date object to the ISO standard.\n",
    "\n",
    "**Example**\n"
   ]
  },
  {
   "cell_type": "code",
   "execution_count": 16,
   "metadata": {
    "vscode": {
     "languageId": "javascript"
    }
   },
   "outputs": [
    {
     "name": "stdout",
     "output_type": "stream",
     "text": [
      "2024-02-11T22:29:23.133Z\n"
     ]
    }
   ],
   "source": [
    "%%script node\n",
    "\n",
    "const date = new Date();\n",
    "\n",
    "// The date variable is converted to the ISO standard with the toISOString() method.\n",
    "console.log(date.toISOString());"
   ]
  },
  {
   "cell_type": "markdown",
   "metadata": {},
   "source": [
    "### <a id='toc1_3_4_'></a>[`getFullYear()` Method](#toc0_)\n",
    "\n",
    "Returns the current year part of a date object.\n",
    "\n",
    "**Example**\n"
   ]
  },
  {
   "cell_type": "code",
   "execution_count": 61,
   "metadata": {
    "vscode": {
     "languageId": "javascript"
    }
   },
   "outputs": [
    {
     "name": "stdout",
     "output_type": "stream",
     "text": [
      "\u001b[33m2024\u001b[39m\n"
     ]
    }
   ],
   "source": [
    "%%script node\n",
    "\n",
    "// We are using the current date and time value.\n",
    "const date = new Date();\n",
    "\n",
    "// We return the year part of the date object as a result.\n",
    "console.log(date.getFullYear());\n"
   ]
  },
  {
   "cell_type": "markdown",
   "metadata": {},
   "source": [
    "**❗ The same result can be obtained with the `getYear()` method. However, it is not recommended to use the `getYear()` method. Because `getYear()` method is deprecated.**\n"
   ]
  },
  {
   "cell_type": "markdown",
   "metadata": {},
   "source": [
    "### <a id='toc1_3_5_'></a>[`getMonth()` Method](#toc0_)\n",
    "\n",
    "Returns the month part of a date object as a result. The returned value will be between 0 and 11. The number 0 represents January, while the number 11 represents December.\n",
    "\n",
    "**Example**\n"
   ]
  },
  {
   "cell_type": "code",
   "execution_count": 18,
   "metadata": {
    "vscode": {
     "languageId": "javascript"
    }
   },
   "outputs": [
    {
     "name": "stdout",
     "output_type": "stream",
     "text": [
      "\u001b[33m1\u001b[39m\n"
     ]
    }
   ],
   "source": [
    "%%script node\n",
    "\n",
    "// We are using the current date and time value.\n",
    "const date = new Date();\n",
    "\n",
    "// Returns the month part of the date object as a result. The number 1 corresponds to February.\n",
    "console.log(date.getMonth());\n"
   ]
  },
  {
   "cell_type": "markdown",
   "metadata": {},
   "source": [
    "**💡 We can define and use month values within an array.**\n",
    "\n",
    "**Example**\n"
   ]
  },
  {
   "cell_type": "code",
   "execution_count": 19,
   "metadata": {
    "vscode": {
     "languageId": "javascript"
    }
   },
   "outputs": [
    {
     "name": "stdout",
     "output_type": "stream",
     "text": [
      "Mon Feb 12 2024\n"
     ]
    }
   ],
   "source": [
    "%%script node\n",
    "\n",
    "const months = [\"January\", \"February\", \"March\", \"April\", \"May\", \"June\", \"July\", \"August\", \"September\", \"October\", \"November\", \"December\"];\n",
    "\n",
    "const date = new Date();\n",
    "let month = months[date.getMonth()];\n",
    "\n",
    "console.log(date.toDateString());"
   ]
  },
  {
   "cell_type": "markdown",
   "metadata": {},
   "source": [
    "### <a id='toc1_3_6_'></a>[`getDate()` Method](#toc0_)\n",
    "\n",
    "Returns the current day of the month in a date object as a result. The returned value will be between 1 and 31.\n",
    "\n",
    "**Example**\n"
   ]
  },
  {
   "cell_type": "code",
   "execution_count": 20,
   "metadata": {
    "vscode": {
     "languageId": "javascript"
    }
   },
   "outputs": [
    {
     "name": "stdout",
     "output_type": "stream",
     "text": [
      "\u001b[33m12\u001b[39m\n"
     ]
    }
   ],
   "source": [
    "%%script node\n",
    "\n",
    "// We are using the current date and time value.\n",
    "const date = new Date();\n",
    "\n",
    "// We output today's date numerically to the console.\n",
    "console.log(date.getDate());"
   ]
  },
  {
   "cell_type": "markdown",
   "metadata": {},
   "source": [
    "### <a id='toc1_3_7_'></a>[`getHours()` Method](#toc0_)\n",
    "\n",
    "Returns the current hour part of a date object as a result. The returned value will be between 0 and 23.\n",
    "\n",
    "**Example**\n"
   ]
  },
  {
   "cell_type": "code",
   "execution_count": 21,
   "metadata": {
    "vscode": {
     "languageId": "javascript"
    }
   },
   "outputs": [
    {
     "name": "stdout",
     "output_type": "stream",
     "text": [
      "\u001b[33m1\u001b[39m\n"
     ]
    }
   ],
   "source": [
    "%%script node\n",
    "\n",
    "// We are using the current date and time value.\n",
    "const date = new Date();\n",
    "\n",
    "// We output the current hour information numerically to the console.\n",
    "console.log(date.getHours());"
   ]
  },
  {
   "cell_type": "markdown",
   "metadata": {},
   "source": [
    "### <a id='toc1_3_8_'></a>[`getMinutes()` Method](#toc0_)\n",
    "\n",
    "Returns the current minute part of a date object as a result. The returned value will be between 0 and 59.\n",
    "\n",
    "**Example**\n"
   ]
  },
  {
   "cell_type": "code",
   "execution_count": 42,
   "metadata": {
    "vscode": {
     "languageId": "javascript"
    }
   },
   "outputs": [
    {
     "name": "stdout",
     "output_type": "stream",
     "text": [
      "\u001b[33m8\u001b[39m\n"
     ]
    }
   ],
   "source": [
    "%%script node\n",
    "\n",
    "// We are using the current date and time value.\n",
    "const date = new Date();\n",
    "\n",
    "// We output the current minute information numerically to the console.\n",
    "console.log(date.getMinutes());"
   ]
  },
  {
   "cell_type": "markdown",
   "metadata": {},
   "source": [
    "### <a id='toc1_3_9_'></a>[`getSeconds()` Method](#toc0_)\n",
    "\n",
    "Returns the current second part of a date object as a result. The returned value will be between 0 and 59.\n",
    "\n",
    "**Example**\n"
   ]
  },
  {
   "cell_type": "code",
   "execution_count": 43,
   "metadata": {
    "vscode": {
     "languageId": "javascript"
    }
   },
   "outputs": [
    {
     "name": "stdout",
     "output_type": "stream",
     "text": [
      "\u001b[33m35\u001b[39m\n"
     ]
    }
   ],
   "source": [
    "%%script node\n",
    "\n",
    "// We are using the current date and time value.\n",
    "const date = new Date();\n",
    "\n",
    "// We output the current second information numerically to the console.\n",
    "console.log(date.getSeconds());"
   ]
  },
  {
   "cell_type": "markdown",
   "metadata": {},
   "source": [
    "### <a id='toc1_3_10_'></a>[`getMilliseconds()` Method](#toc0_)\n",
    "\n",
    "Returns the current millisecond part of a date object as a result. The returned value will be between 0 and 999.\n",
    "\n",
    "**Example**\n"
   ]
  },
  {
   "cell_type": "code",
   "execution_count": 44,
   "metadata": {
    "vscode": {
     "languageId": "javascript"
    }
   },
   "outputs": [
    {
     "name": "stdout",
     "output_type": "stream",
     "text": [
      "\u001b[33m791\u001b[39m\n"
     ]
    }
   ],
   "source": [
    "%%script node\n",
    "\n",
    "// We are using the current date and time value.\n",
    "const date = new Date();\n",
    "\n",
    "// We output the current millisecond information numerically to the console.\n",
    "console.log(date.getMilliseconds());"
   ]
  },
  {
   "cell_type": "markdown",
   "metadata": {},
   "source": [
    "### <a id='toc1_3_11_'></a>[`getDay()` Method](#toc0_)\n",
    "\n",
    "Returns the current day of the week in a date object as a result. The returned value will be between 0 and 6.\n",
    "\n",
    "**❗ By default, in JavaScript, the work week starts from 0, which corresponds to Sunday.**\n",
    "\n",
    "**Example**\n"
   ]
  },
  {
   "cell_type": "code",
   "execution_count": 45,
   "metadata": {
    "vscode": {
     "languageId": "javascript"
    }
   },
   "outputs": [
    {
     "name": "stdout",
     "output_type": "stream",
     "text": [
      "\u001b[33m0\u001b[39m\n"
     ]
    }
   ],
   "source": [
    "%%script node\n",
    "\n",
    "const date = new Date();\n",
    "\n",
    "/** \n",
    " * Since today is Sunday, it will output the value 0 to the console. By default, Sunday is \n",
    " * considered the first working day of the week in JavaScript.\n",
    " */\n",
    "console.log(date.getDay());"
   ]
  },
  {
   "cell_type": "markdown",
   "metadata": {},
   "source": [
    "**💡 We can create the days of the week in array form. In this case, we can return the numerical value of the working day in string form with the `getDay()` method.**\n",
    "\n",
    "**Example**\n"
   ]
  },
  {
   "cell_type": "code",
   "execution_count": 2,
   "metadata": {
    "vscode": {
     "languageId": "javascript"
    }
   },
   "outputs": [
    {
     "name": "stdout",
     "output_type": "stream",
     "text": [
      "Monday\n"
     ]
    }
   ],
   "source": [
    "%%script node\n",
    "\n",
    "// We create an array consisting of working days.\n",
    "const workOfTheDays = [\"Saturday\",\"Monday\",\"Tuesday\",\"Wednesday\",\"Thursday\",\"Friday\",\"Sunday\"];\n",
    "\n",
    "const date = new Date();\n",
    "\n",
    "/** \n",
    " * The numerical value corresponding to the current working day is searched for within the \n",
    " * workOfTheDays variable, and the found string value is output to the console.\n",
    " */\n",
    "console.log(workOfTheDays[date.getDay()]);"
   ]
  },
  {
   "cell_type": "markdown",
   "metadata": {},
   "source": [
    "### <a id='toc1_3_12_'></a>[`getTime()` Method](#toc0_)\n",
    "\n",
    "If parameters are used within the `newDate()` constructor method, it returns the elapsed time since January 1, 1970, in milliseconds.\n",
    "\n",
    "**Example**\n"
   ]
  },
  {
   "cell_type": "code",
   "execution_count": 27,
   "metadata": {
    "vscode": {
     "languageId": "javascript"
    }
   },
   "outputs": [
    {
     "name": "stdout",
     "output_type": "stream",
     "text": [
      "\u001b[33m592444800000\u001b[39m\n"
     ]
    }
   ],
   "source": [
    "%%script node\n",
    "\n",
    "const date = new Date(\"1988-10-10\");\n",
    "\n",
    "// The getTime() method will return the date variable in milliseconds.\n",
    "console.log(date.getTime());\n"
   ]
  },
  {
   "cell_type": "markdown",
   "metadata": {},
   "source": [
    "### <a id='toc1_3_13_'></a>[`setFullYear()` Method](#toc0_)\n",
    "\n",
    "After creating an empty date object, the `setFullYear()` method can be used to set the year value of the date object.\n",
    "\n",
    "**Example**\n"
   ]
  },
  {
   "cell_type": "code",
   "execution_count": 28,
   "metadata": {
    "vscode": {
     "languageId": "javascript"
    }
   },
   "outputs": [
    {
     "name": "stdout",
     "output_type": "stream",
     "text": [
      "\u001b[33m2020\u001b[39m\n"
     ]
    }
   ],
   "source": [
    "%%script node\n",
    "\n",
    "const date = new Date();\n",
    "\n",
    "// We define the year within the date variable using the setFullYear() method.\n",
    "date.setFullYear(2020);\n",
    "\n",
    "console.log(date.getFullYear());\n"
   ]
  },
  {
   "cell_type": "markdown",
   "metadata": {},
   "source": [
    "**💡 Optional month and day information can be used in the `setFullYear()` method.**\n",
    "\n",
    "**Example**\n"
   ]
  },
  {
   "cell_type": "code",
   "execution_count": 29,
   "metadata": {
    "vscode": {
     "languageId": "javascript"
    }
   },
   "outputs": [
    {
     "name": "stdout",
     "output_type": "stream",
     "text": [
      "Thu Dec 03 2020\n"
     ]
    }
   ],
   "source": [
    "%%script node\n",
    "\n",
    "const date = new Date();\n",
    "\n",
    "// We also included month and day values in the setFullYear() method.\n",
    "date.setFullYear(2020,11,3);\n",
    "\n",
    "console.log(date.toDateString());\n"
   ]
  },
  {
   "cell_type": "markdown",
   "metadata": {},
   "source": [
    "### <a id='toc1_3_14_'></a>[`setMonth()` Method](#toc0_)\n",
    "\n",
    "After creating an empty date object, the `setMonth()` method can be used to set the month value of the date object. The value should be a number between 0 and 11.\n",
    "\n",
    "**Example**\n"
   ]
  },
  {
   "cell_type": "code",
   "execution_count": 30,
   "metadata": {
    "vscode": {
     "languageId": "javascript"
    }
   },
   "outputs": [
    {
     "name": "stdout",
     "output_type": "stream",
     "text": [
      "\u001b[33m10\u001b[39m\n"
     ]
    }
   ],
   "source": [
    "%%script node\n",
    "\n",
    "const date = new Date();\n",
    "\n",
    "// We define the month within the date variable using the setMonth() method.\n",
    "date.setMonth(10);\n",
    "\n",
    "console.log(date.getMonth());\n"
   ]
  },
  {
   "cell_type": "markdown",
   "metadata": {},
   "source": [
    "### <a id='toc1_3_15_'></a>[`setDate()` Method](#toc0_)\n",
    "\n",
    "After creating an empty date object, the `setDate()` method can be used to set the day value of the date object. The value should be a number between 1 and 31.\n",
    "\n",
    "**Example**\n"
   ]
  },
  {
   "cell_type": "code",
   "execution_count": 54,
   "metadata": {
    "vscode": {
     "languageId": "javascript"
    }
   },
   "outputs": [
    {
     "name": "stdout",
     "output_type": "stream",
     "text": [
      "\u001b[33m10\u001b[39m\n"
     ]
    }
   ],
   "source": [
    "%%script node\n",
    "\n",
    "const date = new Date();\n",
    "\n",
    "// We define the day within the date variable using the setDate() method.\n",
    "date.setDate(10);\n",
    "\n",
    "console.log(date.getDate());\n"
   ]
  },
  {
   "cell_type": "markdown",
   "metadata": {},
   "source": [
    "**💡 We can change the date by adding days to a date object using the `setDate()` method.**\n",
    "\n",
    "**Example**\n"
   ]
  },
  {
   "cell_type": "code",
   "execution_count": 55,
   "metadata": {
    "vscode": {
     "languageId": "javascript"
    }
   },
   "outputs": [
    {
     "name": "stdout",
     "output_type": "stream",
     "text": [
      "Sat Feb 03 2024\n"
     ]
    }
   ],
   "source": [
    "%%script node\n",
    "\n",
    "const date = new Date(\"2023-11-5\");\n",
    "\n",
    "/** \n",
    " * We take the date from the date variable and add 90 days to it. We can think of this as adding \n",
    " * 3 months to the existing date.\n",
    " */\n",
    "date.setDate(date.getDate() + 90);\n",
    "\n",
    "console.log(date.toDateString());\n"
   ]
  },
  {
   "cell_type": "markdown",
   "metadata": {},
   "source": [
    "### <a id='toc1_3_16_'></a>[`setHours()` Method](#toc0_)\n",
    "\n",
    "After creating an empty date object, the `setHours()` method can be used to set the hour value of the date object. The value should be a number between 0 and 23.\n",
    "\n",
    "**Example**\n"
   ]
  },
  {
   "cell_type": "code",
   "execution_count": 33,
   "metadata": {
    "vscode": {
     "languageId": "javascript"
    }
   },
   "outputs": [
    {
     "name": "stdout",
     "output_type": "stream",
     "text": [
      "\u001b[33m5\u001b[39m\n"
     ]
    }
   ],
   "source": [
    "%%script node\n",
    "\n",
    "const date = new Date();\n",
    "\n",
    "// We define the hour within the date variable using the setHours() method.\n",
    "date.setHours(5);\n",
    "\n",
    "console.log(date.getHours());\n"
   ]
  },
  {
   "cell_type": "markdown",
   "metadata": {},
   "source": [
    "### <a id='toc1_3_17_'></a>[`setMinutes()` Method](#toc0_)\n",
    "\n",
    "After creating an empty date object, the `setMinutes()` method can be used to set the minute value of the date object. The value should be a number between 0 and 59.\n",
    "\n",
    "**Example**\n"
   ]
  },
  {
   "cell_type": "code",
   "execution_count": 34,
   "metadata": {
    "vscode": {
     "languageId": "javascript"
    }
   },
   "outputs": [
    {
     "name": "stdout",
     "output_type": "stream",
     "text": [
      "\u001b[33m58\u001b[39m\n"
     ]
    }
   ],
   "source": [
    "%%script node\n",
    "\n",
    "const date = new Date();\n",
    "\n",
    "// We define the minute within the date variable using the setMinutes() method.\n",
    "date.setMinutes(58);\n",
    "\n",
    "console.log(date.getMinutes());\n"
   ]
  },
  {
   "cell_type": "markdown",
   "metadata": {},
   "source": [
    "### <a id='toc1_3_18_'></a>[`setSeconds()` Method](#toc0_)\n",
    "\n",
    "After creating an empty date object, the `setSeconds()` method can be used to set the second value of the date object. The value should be a number between 0 and 59.\n",
    "\n",
    "**Example**\n"
   ]
  },
  {
   "cell_type": "code",
   "execution_count": 35,
   "metadata": {
    "vscode": {
     "languageId": "javascript"
    }
   },
   "outputs": [
    {
     "name": "stdout",
     "output_type": "stream",
     "text": [
      "\u001b[33m30\u001b[39m\n"
     ]
    }
   ],
   "source": [
    "%%script node\n",
    "\n",
    "const date = new Date();\n",
    "\n",
    "// We define the second within the date variable using the setSeconds() method.\n",
    "date.setSeconds(30);\n",
    "\n",
    "console.log(date.getSeconds());\n"
   ]
  },
  {
   "cell_type": "markdown",
   "metadata": {},
   "source": [
    "## <a id='toc1_4_'></a>[Comparing Dates in JavaScript](#toc0_)\n",
    "\n",
    "Date objects can be compared with each other in JavaScript.\n",
    "\n",
    "**Example**\n"
   ]
  },
  {
   "cell_type": "code",
   "execution_count": 3,
   "metadata": {
    "vscode": {
     "languageId": "javascript"
    }
   },
   "outputs": [
    {
     "name": "stdout",
     "output_type": "stream",
     "text": [
      "future is greater.\n"
     ]
    }
   ],
   "source": [
    "%%script node\n",
    "\n",
    "const now = new Date();\n",
    "const future = new Date();\n",
    "\n",
    "// We assign a new value to the future date variable in the format year, month, and day.\n",
    "future.setFullYear(2025, 11, 10);\n",
    "\n",
    "/** \n",
    " * The ternary (?) operator signifies if...else. If the future date object is greater than the now date object, \n",
    " * the first expression executes; otherwise, the expression after the colon (:) executes.\n",
    " */\n",
    "console.log(`${future > now ? \"future is greater.\" : \"future is smaller.\"}`);\n"
   ]
  },
  {
   "cell_type": "markdown",
   "metadata": {},
   "source": [
    "## <a id='toc1_5_'></a>[Summary](#toc0_)\n",
    "\n",
    "Handling dates in JavaScript is highly flexible and diverse. We can create date objects using different methods and parameters. After creating these objects, we can access and modify specific properties of dates using various date methods.\n",
    "\n",
    "Additionally, we can compare dates and perform date arithmetic. This allows us to calculate the difference between dates or add a certain time interval to a specific date.\n",
    "\n",
    "In JavaScript, there are also special methods for displaying dates according to a certain standard or format. These methods can be used to make dates more readable or meet specific formatting requirements.\n",
    "\n",
    "In conclusion, JavaScript provides a wide range of tools for working with dates, allowing us to perform various operations related to dates with ease.\n"
   ]
  }
 ],
 "metadata": {
  "kernelspec": {
   "display_name": "Python 3",
   "language": "python",
   "name": "python3"
  },
  "language_info": {
   "codemirror_mode": {
    "name": "ipython",
    "version": 3
   },
   "file_extension": ".py",
   "mimetype": "text/x-python",
   "name": "python",
   "nbconvert_exporter": "python",
   "pygments_lexer": "ipython3",
   "version": "3.10.12"
  }
 },
 "nbformat": 4,
 "nbformat_minor": 2
}
