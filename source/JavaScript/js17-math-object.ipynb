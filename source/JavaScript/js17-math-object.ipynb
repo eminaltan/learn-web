{
 "cells": [
  {
   "cell_type": "markdown",
   "metadata": {},
   "source": [
    "# JavaScript Math Object<a id='toc0_'></a>    \n",
    "\n",
    "Hello, in this part of the series, we will explore the concept of **_math object_** in JavaScript.\n",
    "\n",
    "In this article, we'll cover:\n",
    "\n",
    "- [Introduction to JavaScript Math Object](#toc1_1_)    \n",
    "- [Methods of the Math Object](#toc1_2_)    \n",
    "  - [`Math.round()` Method](#toc1_2_1_)    \n",
    "  - [`Math.ceil()` Method](#toc1_2_2_)    \n",
    "  - [`Math.floor()` Method](#toc1_2_3_)    \n",
    "  - [`Math.trunc()` Method](#toc1_2_4_)    \n",
    "  - [`Math.sign()` Method](#toc1_2_5_)    \n",
    "  - [`Math.pow()` Method](#toc1_2_6_)    \n",
    "  - [`Math.sqrt()` Method](#toc1_2_7_)    \n",
    "  - [`Math.abs()` Method](#toc1_2_8_)    \n",
    "  - [`Math.min()` and `Math.max()` Methods](#toc1_2_9_)    \n",
    "  - [`Math.random()` Method](#toc1_2_10_)    \n",
    "- [Summary](#toc1_3_)   \n",
    "\n",
    "I hope you enjoy reading.\n",
    "\n",
    "Yazının Türkçe versiyonu için [linke](tr-js17-math-object.ipynb) tıklayabilirsiniz.\n",
    "\n",
    "<!-- vscode-jupyter-toc-config\n",
    "\tnumbering=false\n",
    "\tanchor=true\n",
    "\tflat=false\n",
    "\tminLevel=1\n",
    "\tmaxLevel=6\n",
    "\t/vscode-jupyter-toc-config -->\n",
    "<!-- THIS CELL WILL BE REPLACED ON TOC UPDATE. DO NOT WRITE YOUR TEXT IN THIS CELL -->"
   ]
  },
  {
   "cell_type": "markdown",
   "metadata": {},
   "source": [
    "## <a id='toc1_1_'></a>[Introduction to JavaScript Math Object](#toc0_)\n",
    "\n",
    "The Math object in JavaScript is a built-in object that provides a set of properties and methods for performing mathematical operations.\n",
    "\n",
    "**⚠️ The Math object is a built-in object in JavaScript, and its properties or methods cannot be modified or extended by developers. In other words, developers cannot add new properties or methods to the Math object.**\n",
    "\n",
    "To use properties or methods of the Math object, there is no need to define a constructor (or constructor function) as with other objects. We can directly call and use the desired property or method from the Math object.\n",
    "\n",
    "To use a property from the Math object, we use the `Math.propertyName` pattern, where `propertyName` represents the name of the property we want to use. If we need to use a method, we use the `Math.methodName()` pattern, where `methodName()` represents the name of the method we want to use.\n",
    "\n",
    "**Example**\n"
   ]
  },
  {
   "cell_type": "code",
   "execution_count": 1,
   "metadata": {
    "vscode": {
     "languageId": "javascript"
    }
   },
   "outputs": [
    {
     "name": "stdout",
     "output_type": "stream",
     "text": [
      "The value of the Math.PI property: 3.141592653589793\n",
      "The maximum value among the numbers: 90\n"
     ]
    }
   ],
   "source": [
    "%%script node\n",
    "\n",
    "// Accessing the value of the Math.PI property.\n",
    "console.log(`The value of the Math.PI property: ${Math.PI}`);\n",
    "\n",
    "// Calling and using the Math.max() method.\n",
    "console.log(`The maximum value among the numbers: ${Math.max(3, 4, 5, 67, 90)}`);\n"
   ]
  },
  {
   "cell_type": "markdown",
   "metadata": {},
   "source": [
    "After making the necessary definitions, let's explore the properties and methods already present in the Math object.\n"
   ]
  },
  {
   "cell_type": "markdown",
   "metadata": {},
   "source": [
    "## <a id='toc1_2_'></a>[Methods of the Math Object](#toc0_)\n",
    "\n",
    "For now, I'll cover some of the most commonly used methods. As I update the document, I will include all methods of the Math object.\n"
   ]
  },
  {
   "cell_type": "markdown",
   "metadata": {},
   "source": [
    "### <a id='toc1_2_1_'></a>[`Math.round()` Method](#toc0_)\n",
    "\n",
    "It is used to round a decimal value to the nearest integer.\n",
    "\n",
    "**Example**\n"
   ]
  },
  {
   "cell_type": "code",
   "execution_count": 4,
   "metadata": {
    "vscode": {
     "languageId": "javascript"
    }
   },
   "outputs": [
    {
     "name": "stdout",
     "output_type": "stream",
     "text": [
      "\u001b[33m5\u001b[39m\n",
      "\u001b[33m5\u001b[39m\n",
      "\u001b[33m4\u001b[39m\n"
     ]
    }
   ],
   "source": [
    "%%script node\n",
    "\n",
    "// The following values will be rounded to 5.\n",
    "console.log(Math.round(4.9));\n",
    "console.log(Math.round(4.5));\n",
    "\n",
    "// The following value will be rounded to 4.\n",
    "console.log(Math.round(4.4));\n"
   ]
  },
  {
   "cell_type": "markdown",
   "metadata": {},
   "source": [
    "### <a id='toc1_2_2_'></a>[`Math.ceil()` Method](#toc0_)\n",
    "\n",
    "It is used to round a decimal value up to the **nearest integer**.\n",
    "\n",
    "**Example**\n"
   ]
  },
  {
   "cell_type": "code",
   "execution_count": 5,
   "metadata": {
    "vscode": {
     "languageId": "javascript"
    }
   },
   "outputs": [
    {
     "name": "stdout",
     "output_type": "stream",
     "text": [
      "\u001b[33m5\u001b[39m\n",
      "\u001b[33m5\u001b[39m\n",
      "\u001b[33m5\u001b[39m\n",
      "\u001b[33m-4\u001b[39m\n"
     ]
    }
   ],
   "source": [
    "%%script node\n",
    "\n",
    "// The following values will be rounded to 5.\n",
    "console.log(Math.ceil(4.9));\n",
    "console.log(Math.ceil(4.5));\n",
    "console.log(Math.ceil(4.4));\n",
    "\n",
    "// Usage of Math.ceil() with negative values.\n",
    "console.log(Math.ceil(-4.9));\n"
   ]
  },
  {
   "cell_type": "markdown",
   "metadata": {},
   "source": [
    "### <a id='toc1_2_3_'></a>[`Math.floor()` Method](#toc0_)\n",
    "\n",
    "It is used to round a decimal value down to the **nearest integer**.\n",
    "\n",
    "**Example**\n"
   ]
  },
  {
   "cell_type": "code",
   "execution_count": 13,
   "metadata": {
    "vscode": {
     "languageId": "javascript"
    }
   },
   "outputs": [
    {
     "name": "stdout",
     "output_type": "stream",
     "text": [
      "\u001b[33m4\u001b[39m\n",
      "\u001b[33m4\u001b[39m\n",
      "\u001b[33m4\u001b[39m\n",
      "\u001b[33m-5\u001b[39m\n"
     ]
    }
   ],
   "source": [
    "%%script node\n",
    "\n",
    "// The following values will be rounded to 4.\n",
    "console.log(Math.floor(4.9));\n",
    "console.log(Math.floor(4.5));\n",
    "console.log(Math.floor(4.4));\n",
    "\n",
    "// Usage of Math.floor() with negative values.\n",
    "console.log(Math.floor(-4.9));\n"
   ]
  },
  {
   "cell_type": "markdown",
   "metadata": {},
   "source": [
    "### <a id='toc1_2_4_'></a>[`Math.trunc()` Method](#toc0_)\n",
    "\n",
    "It returns the integer part of a decimal value.\n",
    "\n",
    "**Example**\n"
   ]
  },
  {
   "cell_type": "code",
   "execution_count": 7,
   "metadata": {
    "vscode": {
     "languageId": "javascript"
    }
   },
   "outputs": [
    {
     "name": "stdout",
     "output_type": "stream",
     "text": [
      "\u001b[33m4\u001b[39m\n",
      "\u001b[33m4\u001b[39m\n",
      "\u001b[33m4\u001b[39m\n"
     ]
    }
   ],
   "source": [
    "%%script node\n",
    "\n",
    "// The following values will be rounded to 4.\n",
    "console.log(Math.trunc(4.9));\n",
    "console.log(Math.trunc(4.5));\n",
    "console.log(Math.trunc(4.4));\n"
   ]
  },
  {
   "cell_type": "markdown",
   "metadata": {},
   "source": [
    "### <a id='toc1_2_5_'></a>[`Math.sign()` Method](#toc0_)\n",
    "\n",
    "Sometimes, we want to determine whether a value is negative, neutral, or positive. One way to do this is by using the `Math.sign()` method.\n",
    "\n",
    "The `Math.sign()` method returns -1 if the numerical value within it is negative, 0 if it is neutral, and 1 if the value is positive.\n",
    "\n",
    "If the method returns `NaN` (Not a Number), it indicates that the parameter does not have a numerical property.\n",
    "\n",
    "**Example**\n"
   ]
  },
  {
   "cell_type": "code",
   "execution_count": 15,
   "metadata": {
    "vscode": {
     "languageId": "javascript"
    }
   },
   "outputs": [
    {
     "name": "stdout",
     "output_type": "stream",
     "text": [
      "\u001b[33m1\u001b[39m\n",
      "\u001b[33m0\u001b[39m\n",
      "\u001b[33m-1\u001b[39m\n",
      "\u001b[33mNaN\u001b[39m\n"
     ]
    }
   ],
   "source": [
    "%%script node\n",
    "\n",
    "// The returned value is 1 because the value is positive.\n",
    "console.log(Math.sign(4.9));\n",
    "\n",
    "// The returned value is 0 because the value is neutral.\n",
    "console.log(Math.sign(0));\n",
    "\n",
    "// The returned value is -1 because the value is negative.\n",
    "console.log(Math.sign(-4.9));\n",
    "\n",
    "// Since the value does not have a numerical property, NaN is returned.\n",
    "console.log(Math.sign(\"test\"));"
   ]
  },
  {
   "cell_type": "markdown",
   "metadata": {},
   "source": [
    "### <a id='toc1_2_6_'></a>[`Math.pow()` Method](#toc0_)\n",
    "\n",
    "It is used to get the power of a value. It has two parameters. The first parameter represents the value to be raised to a power, while the second parameter represents the power level.\n",
    "\n",
    "**Example**\n"
   ]
  },
  {
   "cell_type": "code",
   "execution_count": 8,
   "metadata": {
    "vscode": {
     "languageId": "javascript"
    }
   },
   "outputs": [
    {
     "name": "stdout",
     "output_type": "stream",
     "text": [
      "8 raised to the power of 2: 64\n",
      "5 raised to the power of 3: 125\n"
     ]
    }
   ],
   "source": [
    "%%script node\n",
    "\n",
    "console.log(`8 raised to the power of 2: ${Math.pow(8, 2)}`);\n",
    "\n",
    "console.log(`5 raised to the power of 3: ${Math.pow(5, 3)}`);"
   ]
  },
  {
   "cell_type": "markdown",
   "metadata": {},
   "source": [
    "### <a id='toc1_2_7_'></a>[`Math.sqrt()` Method](#toc0_)\n",
    "\n",
    "It is used to calculate the square root of a value.\n",
    "\n",
    "**Example**\n"
   ]
  },
  {
   "cell_type": "code",
   "execution_count": 9,
   "metadata": {
    "vscode": {
     "languageId": "javascript"
    }
   },
   "outputs": [
    {
     "name": "stdout",
     "output_type": "stream",
     "text": [
      "Square root of 64: 8\n",
      "Square root of 625: 25\n"
     ]
    }
   ],
   "source": [
    "%%script node\n",
    "\n",
    "console.log(`Square root of 64: ${Math.sqrt(64)}`);\n",
    "\n",
    "console.log(`Square root of 625: ${Math.sqrt(625)}`);\n"
   ]
  },
  {
   "cell_type": "markdown",
   "metadata": {},
   "source": [
    "### <a id='toc1_2_8_'></a>[`Math.abs()` Method](#toc0_)\n",
    "\n",
    "It is used to obtain the absolute value of a number.\n",
    "\n",
    "**Example**\n"
   ]
  },
  {
   "cell_type": "code",
   "execution_count": 10,
   "metadata": {
    "vscode": {
     "languageId": "javascript"
    }
   },
   "outputs": [
    {
     "name": "stdout",
     "output_type": "stream",
     "text": [
      "Absolute value of -4.9: 4.9\n"
     ]
    }
   ],
   "source": [
    "%%script node\n",
    "\n",
    "console.log(`Absolute value of -4.9: ${Math.abs(-4.9)}`);"
   ]
  },
  {
   "cell_type": "markdown",
   "metadata": {},
   "source": [
    "### <a id='toc1_2_9_'></a>[`Math.min()` and `Math.max()` Methods](#toc0_)\n",
    "\n",
    "The `Math.min()` method returns the smallest of zero or more numbers.\n",
    "\n",
    "The `Math.max()` method returns the largest of zero or more numbers.\n",
    "\n",
    "Values are separated by **_,_**.\n",
    "\n",
    "**Example**\n"
   ]
  },
  {
   "cell_type": "code",
   "execution_count": 11,
   "metadata": {
    "vscode": {
     "languageId": "javascript"
    }
   },
   "outputs": [
    {
     "name": "stdout",
     "output_type": "stream",
     "text": [
      "The smallest value among the parameters: -10\n",
      "The largest value among the parameters: 8\n"
     ]
    }
   ],
   "source": [
    "%%script node\n",
    "\n",
    "console.log(`The smallest value among the parameters: ${Math.min(2, 4, 6, 8, -10)}`);\n",
    "\n",
    "console.log(`The largest value among the parameters: ${Math.max(2, 4, 6, 8, -10)}`);"
   ]
  },
  {
   "cell_type": "markdown",
   "metadata": {},
   "source": [
    "### <a id='toc1_2_10_'></a>[`Math.random()` Method](#toc0_)\n",
    "\n",
    "It is used to generate a random decimal number between 0 and 1.\n",
    "\n",
    "The generated value cannot exceed 1.\n",
    "\n",
    "**Example**\n"
   ]
  },
  {
   "cell_type": "code",
   "execution_count": 12,
   "metadata": {
    "vscode": {
     "languageId": "javascript"
    }
   },
   "outputs": [
    {
     "name": "stdout",
     "output_type": "stream",
     "text": [
      "The currently generated random numerical value: 0.910126985432427\n"
     ]
    }
   ],
   "source": [
    "%%script node\n",
    "\n",
    "console.log(`The currently generated random numerical value: ${Math.random()}`);"
   ]
  },
  {
   "cell_type": "markdown",
   "metadata": {},
   "source": [
    "The `Math.random()` method can be used in conjunction with the `Math.floor()` method to generate random integers.\n",
    "\n",
    "**Example**\n"
   ]
  },
  {
   "cell_type": "code",
   "execution_count": 13,
   "metadata": {
    "vscode": {
     "languageId": "javascript"
    }
   },
   "outputs": [
    {
     "name": "stdout",
     "output_type": "stream",
     "text": [
      "Randomly generated integer: 7\n"
     ]
    }
   ],
   "source": [
    " %%script node\n",
    "\n",
    "/**\n",
    " * In the example, the number generated with the Math.random() method will be multiplied by 10, the resulting \n",
    " * value will be rounded down to the nearest integer using the Math.floor() method, and the integer part of the \n",
    " * value will be printed to the console.\n",
    " * \n",
    " * Example will generate a random number between 0 and 9.\n",
    " */\n",
    "console.log(`Randomly generated integer: ${Math.floor(Math.random() * 10)}`);\n"
   ]
  },
  {
   "cell_type": "markdown",
   "metadata": {},
   "source": [
    "## <a id='toc1_3_'></a>[Summary](#toc0_)\n",
    "\n",
    "In JavaScript, the Math object provides a toolkit for mathematical operations. This object includes mathematical constants, functions, and methods. Math properties are used to access mathematical constants such as Pi. For example, we can access the value of pi by using the `Math.PI` constant.\n",
    "\n",
    "Math Methods are used to perform mathematical operations such as rounding, exponentiation, square root, and absolute value. For example, the `Math.round()` method rounds a number to the nearest integer.\n",
    "\n",
    "Random Number Generation: The `Math.random()` method generates a random decimal number between 0 and 1. This number can be used to generate random numbers within a specific range.\n",
    "\n",
    "The Math object is a commonly used tool for performing mathematical operations in JavaScript and provides a strong foundation for mathematical calculations in the language.\n"
   ]
  }
 ],
 "metadata": {
  "kernelspec": {
   "display_name": "Python 3",
   "language": "python",
   "name": "python3"
  },
  "language_info": {
   "codemirror_mode": {
    "name": "ipython",
    "version": 3
   },
   "file_extension": ".py",
   "mimetype": "text/x-python",
   "name": "python",
   "nbconvert_exporter": "python",
   "pygments_lexer": "ipython3",
   "version": "3.10.12"
  }
 },
 "nbformat": 4,
 "nbformat_minor": 2
}
