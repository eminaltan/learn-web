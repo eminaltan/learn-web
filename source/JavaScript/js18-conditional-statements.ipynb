{
 "cells": [
  {
   "cell_type": "markdown",
   "metadata": {},
   "source": [
    "# JavaScript Conditional Statements<a id='toc0_'></a>\n",
    "\n",
    "Hello, in this part of the series, we will explore the concept of **_conditional statements_** in JavaScript.\n",
    "\n",
    "In this article, we'll cover:\n",
    "\n",
    "- [Conditional Statements in JavaScript](#toc1_1_)\n",
    "  - [`if` Statement](#toc1_1_1_)\n",
    "  - [`else` Statement](#toc1_1_2_)\n",
    "  - [`else if` Statement](#toc1_1_3_)\n",
    "  - [`switch` Condition](#toc1_1_4_)\n",
    "- [Summary](#toc1_2_)\n",
    "\n",
    "I hope you enjoy reading.\n",
    "\n",
    "Yazının Türkçe versiyonu için [linke](tr-js18-conditional-statements.ipynb) tıklayabilirsiniz.\n",
    "\n",
    "<!-- vscode-jupyter-toc-config\n",
    "\tnumbering=false\n",
    "\tanchor=true\n",
    "\tflat=false\n",
    "\tminLevel=1\n",
    "\tmaxLevel=6\n",
    "\t/vscode-jupyter-toc-config -->\n",
    "<!-- THIS CELL WILL BE REPLACED ON TOC UPDATE. DO NOT WRITE YOUR TEXT IN THIS CELL -->\n"
   ]
  },
  {
   "cell_type": "markdown",
   "metadata": {},
   "source": [
    "## <a id='toc1_1_'></a>[Conditional Statements in JavaScript](#toc0_)\n",
    "\n",
    "Sometimes we may want to change the flow of a program and perform different actions based on a condition or the result of a mathematical expression. In such cases, we use conditional statements.\n",
    "\n",
    "**Example**\n"
   ]
  },
  {
   "cell_type": "code",
   "execution_count": 17,
   "metadata": {
    "vscode": {
     "languageId": "javascript"
    }
   },
   "outputs": [
    {
     "name": "stdout",
     "output_type": "stream",
     "text": [
      "Can alcohol be sold?: Yes, alcohol sales are permitted.\n"
     ]
    }
   ],
   "source": [
    "%%script node\n",
    "\n",
    "const age = 18;\n",
    "\n",
    "/** \n",
    " * In the example, it can be seen that alcohol sales are allowed if the age is equal to or greater than 18. \n",
    " * \n",
    " * You can observe the results by changing the content of the age variable.\n",
    " * \n",
    " * 💡 ? (We used the Ternary operator.)\n",
    " */\n",
    "console.log(`Can alcohol be sold?: ${18 <= age ? \"Yes, alcohol sales are permitted.\" : \"No, alcohol sales are not permitted.\"}`);\n"
   ]
  },
  {
   "cell_type": "markdown",
   "metadata": {},
   "source": [
    "Above, we see a code block example indicating that alcohol sales can be made if the `age` variable is equal to or greater than 18.\n"
   ]
  },
  {
   "cell_type": "markdown",
   "metadata": {},
   "source": [
    "**In JavaScript, we can use the following conditional statements to change the flow of the program:**\n",
    "\n",
    "- `if`\n",
    "\n",
    "- `else`\n",
    "\n",
    "- `else if`\n",
    "\n",
    "- `switch`\n",
    "\n",
    "Now let's examine each of them.\n"
   ]
  },
  {
   "cell_type": "markdown",
   "metadata": {},
   "source": [
    "### <a id='toc1_1_1_'></a>[`if` Statement](#toc0_)\n",
    "\n",
    "If the condition specified within the `if` statement is met, the code inside the `if` block will execute.\n",
    "\n",
    "**Prototype:**\n",
    "\n",
    "```javascript\n",
    "if (condition1) {\n",
    "  // Code block inside the if statement executes if condition1 is true.\n",
    "}\n",
    "```\n",
    "\n",
    "Let's create the previous example using the `if` statement.\n",
    "\n",
    "**Example**\n"
   ]
  },
  {
   "cell_type": "code",
   "execution_count": 18,
   "metadata": {
    "vscode": {
     "languageId": "javascript"
    }
   },
   "outputs": [
    {
     "name": "stdout",
     "output_type": "stream",
     "text": [
      "Yes, alcohol sales are permitted.\n"
     ]
    }
   ],
   "source": [
    "%%script node\n",
    "\n",
    "const age = 18;\n",
    "\n",
    "/** \n",
    " * Since the age value is equal to 18, the condition inside the if statement will be satisfied, and the code \n",
    " * within the if block will be executed.\n",
    " */\n",
    "if (18 <= age) {\n",
    "    console.log(\"Yes, alcohol sales are permitted.\");\n",
    "}\n"
   ]
  },
  {
   "cell_type": "markdown",
   "metadata": {},
   "source": [
    "Let's set the value of the `age` variable to 14, and add the statement `console.log(\"No, alcohol sales are not permitted.\")` at the end.\n",
    "\n",
    "**Example**\n"
   ]
  },
  {
   "cell_type": "code",
   "execution_count": 19,
   "metadata": {
    "vscode": {
     "languageId": "javascript"
    }
   },
   "outputs": [
    {
     "name": "stdout",
     "output_type": "stream",
     "text": [
      "No, alcohol sales are not permitted.\n"
     ]
    }
   ],
   "source": [
    "%%script node\n",
    "\n",
    "const age = 14;\n",
    "\n",
    "// Since the condition inside the if statement is not met, the code within the if block will not execute.\n",
    "if (18 <= age) {\n",
    "    console.log(\"Yes, alcohol sales are permitted.\");\n",
    "}\n",
    "\n",
    "console.log(\"No, alcohol sales are not permitted.\");"
   ]
  },
  {
   "cell_type": "markdown",
   "metadata": {},
   "source": [
    "As seen, since the `age` variable is less than 18, the condition inside the `if` statement is not satisfied. Therefore, the code within the `if` block will not execute. JavaScript will continue to run, and the statement \"No, alcohol sales are not permitted.\" will be logged to the console.\n",
    "\n",
    "**❗ If the condition had been met, the statement `console.log(\"No, alcohol sales are not permitted.\")` after the `if` statement would still have been executed. The reason is that the execution of that line is not dependent on the if block and does not require checking the condition.**\n",
    "\n",
    "**Example**\n"
   ]
  },
  {
   "cell_type": "code",
   "execution_count": 20,
   "metadata": {
    "vscode": {
     "languageId": "javascript"
    }
   },
   "outputs": [
    {
     "name": "stdout",
     "output_type": "stream",
     "text": [
      "Yes, alcohol sales are permitted.\n",
      "No, alcohol sales are not permitted.\n"
     ]
    }
   ],
   "source": [
    "%%script node\n",
    "\n",
    "const age = 18;\n",
    "\n",
    "if (18 <= age) {\n",
    "    console.log(\"Yes, alcohol sales are permitted.\");\n",
    "}\n",
    "\n",
    "console.log(\"No, alcohol sales are not permitted.\");"
   ]
  },
  {
   "cell_type": "markdown",
   "metadata": {},
   "source": [
    "In situations requiring multiple conditions, we utilize `else`, `else if`, or `switch` statements. We will discuss each of them in the following sections of the text.\n"
   ]
  },
  {
   "cell_type": "markdown",
   "metadata": {},
   "source": [
    "### <a id='toc1_1_2_'></a>[`else` Statement](#toc0_)\n",
    "\n",
    "If the condition specified within the `if` statement is **not met**, the code inside the `else` block will execute.\n",
    "\n",
    "**Prototype:**\n",
    "\n",
    "```javascript\n",
    "if (condition1) {\n",
    "  // Code block inside this if statement executes if condition1 is true.\n",
    "} else {\n",
    "  // Code block inside this else statement executes if condition1 is false.\n",
    "}\n",
    "```\n",
    "\n",
    "Continuing from our alcohol example, let's create the `else` statement. When we change the `age` value to 14, our condition will not match with the `if` statement, so the code inside the `if` block will not execute. JavaScript will execute the code inside the `else` block instead.\n",
    "\n",
    "**Example**\n"
   ]
  },
  {
   "cell_type": "code",
   "execution_count": 21,
   "metadata": {
    "vscode": {
     "languageId": "javascript"
    }
   },
   "outputs": [
    {
     "name": "stdout",
     "output_type": "stream",
     "text": [
      "No, alcohol sales are not permitted.\n"
     ]
    }
   ],
   "source": [
    "%%script node\n",
    "\n",
    "// You can observe the results by changing the value of the age variable.\n",
    "const age = 14;\n",
    "\n",
    "// Since the result of 18 <= 14 is false, the code inside the if block will not execute.\n",
    "if (18 <= age) {\n",
    "    console.log(\"Yes, alcohol sales are permitted.\");\n",
    "}\n",
    "\n",
    "// Since the result of the if statement is false, the code inside the else block will execute.\n",
    "else {\n",
    "    console.log(\"No, alcohol sales are not permitted.\");\n",
    "}"
   ]
  },
  {
   "cell_type": "markdown",
   "metadata": {},
   "source": [
    "**💡 If our condition consists of only one line, we can use the `?` (Ternary) operator. The `?` operator is commonly used for assigning values to variables in one-line conditions. This simplifies our code.**\n",
    "\n",
    "Let's refactor the previous example using the `?` operator.\n",
    "\n",
    "**Example**\n"
   ]
  },
  {
   "cell_type": "code",
   "execution_count": 22,
   "metadata": {
    "vscode": {
     "languageId": "javascript"
    }
   },
   "outputs": [
    {
     "name": "stdout",
     "output_type": "stream",
     "text": [
      "Can alcohol be sold?: No, alcohol sales are not permitted.\n"
     ]
    }
   ],
   "source": [
    "%%script node\n",
    "\n",
    "const age = 14;\n",
    "\n",
    "// We simplify our code using the Ternary operator along with the backtick character.\n",
    "console.log(\n",
    "  `Can alcohol be sold?: ${\n",
    "    18 <= age\n",
    "      ? \"Yes, alcohol sales are permitted.\"\n",
    "      : \"No, alcohol sales are not permitted.\"\n",
    "  }`\n",
    ");\n"
   ]
  },
  {
   "cell_type": "markdown",
   "metadata": {},
   "source": [
    "Sometimes we may have more than two conditions. In such cases, `else if` or `switch` statements are used.\n"
   ]
  },
  {
   "cell_type": "markdown",
   "metadata": {},
   "source": [
    "### <a id='toc1_1_3_'></a>[`else if` Statement](#toc0_)\n",
    "\n",
    "When we have more than two conditions, we use the `else if` statement. If the condition specified within the `if` statement is not met, the `else if` statement is checked. If the condition specified within the `else if` statement is met, the code block associated with that statement executes. If none of the conditions match, the code block inside the `else` statement executes.\n",
    "\n",
    "**Prototype:**\n",
    "\n",
    "```javascript\n",
    "if (condition1) {\n",
    "  // Code block inside this if statement executes if condition1 is true.\n",
    "} else if (condition2) {\n",
    "  // Code block inside this else if statement executes if condition1 is false but condition2 is true.\n",
    "} else {\n",
    "  // Code block inside this else statement executes if none of the conditions match.\n",
    "}\n",
    "```\n",
    "\n",
    "**Example**\n"
   ]
  },
  {
   "cell_type": "code",
   "execution_count": 23,
   "metadata": {
    "vscode": {
     "languageId": "javascript"
    }
   },
   "outputs": [
    {
     "name": "stdout",
     "output_type": "stream",
     "text": [
      "Car brand: Lada\n"
     ]
    }
   ],
   "source": [
    "%%script node\n",
    "\n",
    "const car = \"Lada\";\n",
    "\n",
    "if (car == \"Mercedes\") {\n",
    "    console.log(`Car brand: ${car}`);\n",
    "}\n",
    "\n",
    "else if (car == \"Audi\") {\n",
    "    console.log(`Car brand: ${car}`);\n",
    "}\n",
    "\n",
    "else if (car == \"BMW\") {\n",
    "    console.log(`Car brand: ${car}`);\n",
    "}\n",
    "    \n",
    "/** \n",
    " * The code block associated with the else if statement will execute because the condition \n",
    " * matches the value of the car variable.\n",
    " */\n",
    "else if (car == \"Lada\") {\n",
    "    console.log(`Car brand: ${car}`);\n",
    "}\n",
    "\n",
    "else {\n",
    "    console.log(`The car brand does not match any of the specified conditions.`);\n",
    "}"
   ]
  },
  {
   "cell_type": "markdown",
   "metadata": {},
   "source": [
    "In the example above, since the condition inside the `if` statement evaluates to `false`, the code block inside the `if` statement will not execute.\n",
    "\n",
    "JavaScript will move to the next line and check the `else if` statement. However, since the condition still evaluates to `false`, the code block will not execute. This process will repeat for all `else if` statements until a matching condition is found.\n",
    "\n",
    "When a matching `else if` statement is found, the corresponding code block will execute, and the result inside that code block will be returned.\n",
    "\n",
    "If none of the conditions match, the code block inside the `else` statement will execute. In the example below, you can see the `else` statement in action.\n",
    "\n",
    "**Example**\n"
   ]
  },
  {
   "cell_type": "code",
   "execution_count": 24,
   "metadata": {
    "vscode": {
     "languageId": "javascript"
    }
   },
   "outputs": [
    {
     "name": "stdout",
     "output_type": "stream",
     "text": [
      "The car brand does not match any of the specified conditions.\n"
     ]
    }
   ],
   "source": [
    "%%script node\n",
    "\n",
    "const car = \"Lada\";\n",
    "\n",
    "if (car == \"Mercedes\") {\n",
    "    console.log(`Car brand: ${car}`);\n",
    "}\n",
    "\n",
    "else if (car == \"Audi\") {\n",
    "    console.log(`Car brand: ${car}`);\n",
    "}\n",
    "\n",
    "else if (car == \"BMW\") {\n",
    "    console.log(`Car brand: ${car}`);\n",
    "}\n",
    "\n",
    "else if (car == \"Fiat\") {\n",
    "    console.log(`Car brand: ${car}`);\n",
    "}\n",
    "    \n",
    "/** \n",
    " * Since none of the conditions match the value of the car variable, the else code block will \n",
    " * execute.\n",
    " */\n",
    "else {\n",
    "    console.log(`The car brand does not match any of the specified conditions.`);\n",
    "}"
   ]
  },
  {
   "cell_type": "markdown",
   "metadata": {},
   "source": [
    "### <a id='toc1_1_4_'></a>[`switch` Condition](#toc0_)\n",
    "\n",
    "**Prototype:**\n",
    "\n",
    "If we have more than two conditions, we can use the `switch` statement as an alternative to the `else if` method.\n",
    "\n",
    "```javascript\n",
    "switch (expression) {\n",
    "  case x:\n",
    "    // Execute this code block if expression matches the value of x.\n",
    "    break;\n",
    "  case y:\n",
    "    // Execute this code block if expression matches the value of y.\n",
    "    break;\n",
    "  default:\n",
    "  // Execute this code block by default if expression does not match any value.\n",
    "}\n",
    "```\n",
    "\n",
    "When we examine the functioning logic of the `switch` statement, first the expression is evaluated. The result is compared with each condition. When a condition matching the result is found, the corresponding code block is executed. If no matching code block is found, the code block associated with the `default` keyword is executed by default.\n",
    "\n",
    "Let's create our car example using the `switch` statement.\n",
    "\n",
    "**Example**\n"
   ]
  },
  {
   "cell_type": "code",
   "execution_count": 25,
   "metadata": {
    "vscode": {
     "languageId": "javascript"
    }
   },
   "outputs": [
    {
     "name": "stdout",
     "output_type": "stream",
     "text": [
      "The car's brand is Lada\n"
     ]
    }
   ],
   "source": [
    "%%script node\n",
    "\n",
    "const car = \"Lada\";\n",
    "\n",
    "switch (car) {\n",
    "    case \"Mercedes\":\n",
    "        console.log(`The car's brand is ${car}`);\n",
    "        break;\n",
    "    \n",
    "    case \"Audi\":\n",
    "        console.log(`The car's brand is ${car}`);\n",
    "        break;\n",
    "    \n",
    "    case \"BMW\":\n",
    "        console.log(`The car's brand is ${car}`);\n",
    "        break;\n",
    "    \n",
    "    /** \n",
    "     * This code block will be executed because the expression result, i.e., the car variable, matches the \n",
    "     * condition.\n",
    "     */\n",
    "    case \"Lada\":\n",
    "        console.log(`The car's brand is ${car}`);\n",
    "        break;\n",
    "    \n",
    "    default:\n",
    "        console.log(`The car brand does not match any specified conditions.`);\n",
    "}\n"
   ]
  },
  {
   "cell_type": "markdown",
   "metadata": {},
   "source": [
    "In the example above, the expression within the `switch` will be compared with each condition, and the code block corresponding to the matching condition will be executed to return the result.\n",
    "\n",
    "If the expression does not match any condition, the code block associated with the `default` keyword will be executed, and the result will be returned.\n",
    "\n",
    "**Example**\n"
   ]
  },
  {
   "cell_type": "code",
   "execution_count": 26,
   "metadata": {
    "vscode": {
     "languageId": "javascript"
    }
   },
   "outputs": [
    {
     "name": "stdout",
     "output_type": "stream",
     "text": [
      "The car brand does not match any specified conditions.\n"
     ]
    }
   ],
   "source": [
    "%%script node\n",
    "\n",
    "const car = \"Lada\";\n",
    "\n",
    "switch (car) {\n",
    "    case \"Mercedes\":\n",
    "        console.log(`The car's brand is ${car}`);\n",
    "        break;\n",
    "    \n",
    "    case \"Audi\":\n",
    "        console.log(`The car's brand is ${car}`);\n",
    "        break;\n",
    "    \n",
    "    case \"BMW\":\n",
    "        console.log(`The car's brand is ${car}`);\n",
    "        break;\n",
    "    \n",
    "    case \"Fiat\":\n",
    "        console.log(`The car's brand is ${car}`);\n",
    "        break;\n",
    "        \n",
    "    /** \n",
    "     * Since the expression result, i.e., the car variable, does not match any condition, the default code block \n",
    "     * will be executed.\n",
    "     */\n",
    "    default:\n",
    "        console.log(`The car brand does not match any specified conditions.`);\n",
    "}\n"
   ]
  },
  {
   "cell_type": "markdown",
   "metadata": {},
   "source": [
    "The `default` keyword can be used anywhere inside a `switch` statement.\n",
    "\n",
    "**⚠️ If the `default` keyword is used anywhere within the `switch` statement, the `break` keyword must also be defined within the `default` code block.**\n",
    "\n",
    "**Example**\n"
   ]
  },
  {
   "cell_type": "code",
   "execution_count": 27,
   "metadata": {
    "vscode": {
     "languageId": "javascript"
    }
   },
   "outputs": [
    {
     "name": "stdout",
     "output_type": "stream",
     "text": [
      "The car brand does not match any specified conditions.\n"
     ]
    }
   ],
   "source": [
    "%%script node\n",
    "\n",
    "const car = \"Lada\";\n",
    "\n",
    "switch (car) {\n",
    "    // The default keyword is used at the beginning.\n",
    "    default:\n",
    "        console.log(`The car brand does not match any specified conditions.`);\n",
    "        break;\n",
    "\n",
    "    case \"Mercedes\":\n",
    "        console.log(`The car's brand is ${car}`);\n",
    "        break;\n",
    "    \n",
    "    case \"Audi\":\n",
    "        console.log(`The car's brand is ${car}`);\n",
    "        break;\n",
    "    \n",
    "    case \"BMW\":\n",
    "        console.log(`The car's brand is ${car}`);\n",
    "        break;\n",
    "    \n",
    "    case \"Fiat\":\n",
    "        console.log(`The car's brand is ${car}`);\n",
    "}\n"
   ]
  },
  {
   "cell_type": "markdown",
   "metadata": {},
   "source": [
    "Notice that we used the `break` keyword inside each `case` block. The `break` keyword is used to terminate the respective `case` block that matches the condition.\n",
    "\n",
    "In a `switch` structure, we don't need to define the `break` keyword for the last `case`. When JavaScript reaches the last `case`, it will automatically terminate the `switch` statement.\n",
    "\n",
    "**❗ If we don't use the `break` keyword, the `case` block matching the condition will execute, and then the execution will continue with the next `case` block. This will continue until JavaScript encounters the `break` keyword. Therefore, it's necessary to use the `break` keyword in each `case` block.**\n",
    "\n",
    "**Example**\n"
   ]
  },
  {
   "cell_type": "code",
   "execution_count": 28,
   "metadata": {
    "vscode": {
     "languageId": "javascript"
    }
   },
   "outputs": [
    {
     "name": "stdout",
     "output_type": "stream",
     "text": [
      "The car's brand is Lada\n",
      "The car's brand is Lada\n",
      "The car's brand is Lada\n",
      "The car's brand is Lada\n"
     ]
    }
   ],
   "source": [
    "%%script node\n",
    "\n",
    "const car = \"Lada\";\n",
    "\n",
    "switch (car) {\n",
    "    case \"Lada\":\n",
    "        console.log(`The car's brand is ${car}`);\n",
    "    \n",
    "    case \"Mercedes\":\n",
    "        console.log(`The car's brand is ${car}`);\n",
    "    \n",
    "    case \"BMW\":\n",
    "        console.log(`The car's brand is ${car}`);\n",
    "       \n",
    "    // JavaScript continues execution until it reaches the break keyword.\n",
    "    case \"Audi\":\n",
    "        console.log(`The car's brand is ${car}`);\n",
    "        break;\n",
    "    \n",
    "    default:\n",
    "        console.log(`The car brand does not match any specified conditions.`);\n",
    "}\n"
   ]
  },
  {
   "cell_type": "markdown",
   "metadata": {},
   "source": [
    "**💡 Multiple conditions can be combined and used collectively within a `switch` statement.**\n",
    "\n",
    "**Example**\n"
   ]
  },
  {
   "cell_type": "code",
   "execution_count": 29,
   "metadata": {
    "vscode": {
     "languageId": "javascript"
    }
   },
   "outputs": [
    {
     "name": "stdout",
     "output_type": "stream",
     "text": [
      "The car is of Japanese make. The brand of the car is: Toyota\n"
     ]
    }
   ],
   "source": [
    "%%script node\n",
    "\n",
    "const car = \"Toyota\";\n",
    "\n",
    "switch (car) {\n",
    "    case \"Toyota\":\n",
    "    case \"Honda\":\n",
    "        console.log(`The car is of Japanese make. The brand of the car is: ${car}`);\n",
    "        break;\n",
    "       \n",
    "    case \"BMW\":\n",
    "    case \"Audi\":\n",
    "        console.log(`The car is of German make. The brand of the car is: ${car}`);\n",
    "        break;\n",
    "    \n",
    "    default:\n",
    "        console.log(`The type of car does not match any specified conditions.`);\n",
    "}\n",
    "\n"
   ]
  },
  {
   "cell_type": "markdown",
   "metadata": {},
   "source": [
    "The `switch` statement is strict. This means that the expression inside the `switch` must exactly match the `case` for a match to occur. Otherwise, the match will not be successful.\n",
    "\n",
    "**Example**\n"
   ]
  },
  {
   "cell_type": "code",
   "execution_count": 30,
   "metadata": {
    "vscode": {
     "languageId": "javascript"
    }
   },
   "outputs": [
    {
     "name": "stdout",
     "output_type": "stream",
     "text": [
      "The type of car does not match any specified conditions.\n"
     ]
    }
   ],
   "source": [
    "%%script node\n",
    "\n",
    "const car = \"Toy\";\n",
    "\n",
    "switch (car) {\n",
    "    case \"Toyota\":\n",
    "    case \"Honda\":\n",
    "        console.log(`The car is of Japanese make. The brand of the car is: ${car}`);\n",
    "        break;\n",
    "       \n",
    "    case \"BMW\":\n",
    "    case \"Audi\":\n",
    "        console.log(`The car is of German make. The brand of the car is: ${car}`);\n",
    "        break;\n",
    "    \n",
    "    default:\n",
    "        console.log(`The type of car does not match any specified conditions.`);\n",
    "}\n"
   ]
  },
  {
   "cell_type": "markdown",
   "metadata": {},
   "source": [
    "As seen above, even though the characters in the 'car' variable partially match the characters in the \"Toyota\" string, the code block associated with the relevant `case` does not execute. It is necessary for the `case` blocks to have an exact match for them to execute.\n"
   ]
  },
  {
   "cell_type": "markdown",
   "metadata": {},
   "source": [
    "**Differences between `switch`, `else if`, and `if else` structures:**\n",
    "\n",
    "- While all data types can be used in `else if` or `if else` structures, only `number` or `string` data types can be used in the `switch` statement.\n",
    "\n",
    "- In `else if` or `if else` structures, depending on the condition, either the `if` or `else` block of code is executed, whereas in a `switch` structure, all cases are executed until reaching a `break` keyword, or if no condition matches, the code within the `default` keyword is executed.\n",
    "\n",
    "- Updating, removing, or creating a new condition is easier in a `switch` structure compared to `else if` or `if else` structures.\n",
    "\n",
    "- If there are more than two conditions, the execution speed of conditions created with `else if` or `if else` will be slower than the structures created with `switch`.\n"
   ]
  },
  {
   "cell_type": "markdown",
   "metadata": {},
   "source": [
    "## <a id='toc1_2_'></a>[Summary](#toc0_)\n",
    "\n",
    "In JavaScript, conditional statements are used to change the flow of a program and perform different actions. These conditional statements include `if`, `else`, `else if`, and `switch` statements.\n",
    "\n",
    "- The `if` statement executes a specified code block if a certain condition is true.\n",
    "\n",
    "- The `else` statement defines the code block to be executed if the condition of the `if` statement is false.\n",
    "\n",
    "- The `else if` statement checks for multiple conditions and executes the code block of the first condition that is true.\n",
    "\n",
    "- The `switch` statement evaluates an expression and executes different code blocks based on multiple possible scenarios.\n",
    "\n",
    "**Differences between these structures:**\n",
    "\n",
    "- `switch` can only be used with specific data types, while `if-else` structures can evaluate any kind of condition.\n",
    "\n",
    "- `switch` transitions between cases, while `if-else` structures evaluate each condition individually.\n",
    "\n",
    "- `switch` provides a cleaner and more readable structure for handling multiple cases, while `if-else` structures are more flexible and comprehensive.\n",
    "\n",
    "These structures allow programs to exhibit different behaviors based on specific conditions.\n"
   ]
  }
 ],
 "metadata": {
  "kernelspec": {
   "display_name": "Python 3",
   "language": "python",
   "name": "python3"
  },
  "language_info": {
   "codemirror_mode": {
    "name": "ipython",
    "version": 3
   },
   "file_extension": ".py",
   "mimetype": "text/x-python",
   "name": "python",
   "nbconvert_exporter": "python",
   "pygments_lexer": "ipython3",
   "version": "3.10.12"
  }
 },
 "nbformat": 4,
 "nbformat_minor": 2
}
