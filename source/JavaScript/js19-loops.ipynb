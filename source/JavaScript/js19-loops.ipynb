{
 "cells": [
  {
   "cell_type": "markdown",
   "metadata": {},
   "source": [
    "# Loops in JavaScript<a id='toc0_'></a>\n",
    "\n",
    "Hello friends, in this episode of the series, we will examine the concept of loops and their types in JavaScript.\n",
    "\n",
    "- [Concept of Loops and Types](#toc1_1_)\n",
    "  - [`for` Loop](#toc1_1_1_)\n",
    "    - [`for` Usage of Scopes in the for Loop](#toc1_1_1_1_)\n",
    "  - [`for...in` Loop](#toc1_1_2_)\n",
    "  - [`for...of` Loop](#toc1_1_3_)\n",
    "  - [`while` Loop](#toc1_1_4_)\n",
    "  - [`do...while` Loop](#toc1_1_5_)\n",
    "  - [Usage of `break` and `continue` Statements in a Loop:](#toc1_1_6_)\n",
    "  - [Using Labels in JavaScript](#toc1_2_)\n",
    "\n",
    "I will touch upon.\n",
    "\n",
    "I wish you a good read.\n",
    "\n",
    "Yazının Türkçe versiyonu için [linke](tr-js19-loops.ipynb) tıklayabilirsiniz.\n",
    "\n",
    "<!-- vscode-jupyter-toc-config\n",
    "\tnumbering=false\n",
    "\tanchor=true\n",
    "\tflat=false\n",
    "\tminLevel=1\n",
    "\tmaxLevel=6\n",
    "\t/vscode-jupyter-toc-config -->\n",
    "<!-- THIS CELL WILL BE REPLACED ON TOC UPDATE. DO NOT WRITE YOUR TEXT IN THIS CELL -->\n"
   ]
  },
  {
   "cell_type": "markdown",
   "metadata": {},
   "source": [
    "## <a id='toc1_1_'></a>[Concept of Loops and Types](#toc0_)\n",
    "\n",
    "Sometimes, we may want to process and store our data in a computer environment. Performing this task manually for a few pieces of data will be easy. However, if we consider having a list consisting of hundreds of data, this process will not only be difficult but also lead to labor and time loss.\n",
    "\n",
    "In such situations, the concept of loops in programming comes to our rescue and makes our work easier by automating **repetitive** tasks.\n",
    "\n",
    "Loops are especially common in array data types.\n",
    "\n",
    "Listing the commonly used loop types in JavaScript:\n",
    "\n",
    "- `for`\n",
    "\n",
    "- `for...in`\n",
    "\n",
    "- `for...of`\n",
    "\n",
    "- `while`\n",
    "\n",
    "- `do...while`\n",
    "\n",
    "Now, let's delve into these loop types.\n"
   ]
  },
  {
   "cell_type": "markdown",
   "metadata": {},
   "source": [
    "### <a id='toc1_1_1_'></a>[`for` Loop](#toc0_)\n",
    "\n",
    "We may want to perform certain tasks automatically based on a condition we specify. In such cases, we can use the `for` loop.\n",
    "\n",
    "**Prototype:**\n",
    "\n",
    "```javascript\n",
    "for (exp1; exp2; exp3) {\n",
    "  // Code block for the for loop. The code to be executed is written here.\n",
    "}\n",
    "```\n",
    "\n",
    "Above, we see the structure of the `for` loop. Three expressions are used in the `for` loop, and the expressions are separated by the `;` sign.\n",
    "\n",
    "Let's discuss the expressions:\n",
    "\n",
    "- `exp1`: Usually, variables and values to be used in the loop are defined in this part. This section is executed once before the code block of the `for` loop is executed.\n",
    "\n",
    "- `exp2`: The loop condition is created in this part. The code block of the `for` loop is executed as long as the result of the loop condition is `true`. The loop terminates when the condition is `false`.\n",
    "\n",
    "- `exp3`: This part is used to iterate the loop. This part will be executed if the loop condition is `true`.\n",
    "\n",
    "**Example**\n"
   ]
  },
  {
   "cell_type": "code",
   "execution_count": 23,
   "metadata": {
    "vscode": {
     "languageId": "javascript"
    }
   },
   "outputs": [
    {
     "name": "stdout",
     "output_type": "stream",
     "text": [
      "Value of i: 0\n",
      "Value of i: 1\n",
      "Value of i: 2\n",
      "Value of i: 3\n",
      "Value of i: 4\n"
     ]
    }
   ],
   "source": [
    "%%script node\n",
    "for (let i = 0; i < 5; i++) {\n",
    "    console.log(`Value of i: ${i}`);\n",
    "}"
   ]
  },
  {
   "cell_type": "markdown",
   "metadata": {},
   "source": [
    "If we explain the above `for` loop:\n",
    "\n",
    "1. In the loop, the `exp1` expression corresponds to the `i = 0` part. We assigned the value 0 to the variable `i`. This expression will run once when the loop starts.\n",
    "\n",
    "2. In the loop, the `exp2` expression corresponds to the `i < 5` part. Here, we set the loop condition. The loop will continue to run as long as the variable `i` is less than 5, returning a `true` result. It will keep running as long as it is `true`, and it will terminate when it becomes `false`.\n",
    "\n",
    "3. In the loop, the `exp3` expression corresponds to the `i++` part. As long as the loop condition returns `true`, the value of the variable `i` will be incremented by +1, ensuring the repetition of the loop.\n",
    "\n",
    "**Example**\n"
   ]
  },
  {
   "cell_type": "code",
   "execution_count": 24,
   "metadata": {
    "vscode": {
     "languageId": "javascript"
    }
   },
   "outputs": [
    {
     "name": "stdout",
     "output_type": "stream",
     "text": [
      "Car brand: Lada \n",
      "Car brand: Lada Tata \n",
      "Car brand: Lada Tata BMW \n",
      "Car brand: Lada Tata BMW Audi \n",
      "Car brand: Lada Tata BMW Audi Mercedes \n"
     ]
    }
   ],
   "source": [
    "%%script node\n",
    "const cars = [\"Lada\", \"Tata\", \"BMW\", \"Audi\", \"Mercedes\"];\n",
    "\n",
    "// We can define multiple variables simultaneously in the exp1 part.\n",
    "for (let i = 0, len = cars.length, text = \"\"; i < len; i++) {\n",
    "    text += cars[i] + \" \";\n",
    "\n",
    "    console.log(`Car brand: ${text}`);\n",
    "};"
   ]
  },
  {
   "cell_type": "markdown",
   "metadata": {},
   "source": [
    "As seen in the example above, we defined multiple variables for the `exp1` part. We separated the variables using the `,` sign.\n",
    "\n",
    "Using the `exp1` part inside the `for` loop is optional. You can define the `exp1` part outside the loop, eliminating the need for the `exp1` part within the for loop.\n",
    "\n",
    "**Example**\n"
   ]
  },
  {
   "cell_type": "code",
   "execution_count": 25,
   "metadata": {
    "vscode": {
     "languageId": "javascript"
    }
   },
   "outputs": [
    {
     "name": "stdout",
     "output_type": "stream",
     "text": [
      "Value of i: 0\n",
      "Value of i: 1\n",
      "Value of i: 2\n",
      "Value of i: 3\n",
      "Value of i: 4\n"
     ]
    }
   ],
   "source": [
    "%%script node\n",
    "// We defined the i variable corresponding to the exp1 part outside the for statement.\n",
    "let i = 0;\n",
    "\n",
    "for (/* We skipped the exp1 part. */; i < 5; i++) {\n",
    "    console.log(`Value of i: ${i}`);\n",
    "}\n"
   ]
  },
  {
   "cell_type": "markdown",
   "metadata": {},
   "source": [
    "The use of the `exp2` part (loop condition) within the for loop is optional.\n",
    "\n",
    "**⚠️ If the loop condition is not determined, the break statement should be included in the loop. Otherwise, the program will crash because the loop will not terminate.**\n",
    "\n",
    "**Example**\n"
   ]
  },
  {
   "cell_type": "code",
   "execution_count": 26,
   "metadata": {
    "vscode": {
     "languageId": "javascript"
    }
   },
   "outputs": [
    {
     "name": "stdout",
     "output_type": "stream",
     "text": [
      "Value of i: 0\n",
      "Value of i: 1\n",
      "Value of i: 2\n",
      "Value of i: 3\n",
      "Value of i: 4\n",
      "Value of i: 5\n"
     ]
    }
   ],
   "source": [
    "%%script node\n",
    "for (let i = 0; /* We skipped the exp2 part. */; i++) {\n",
    "    console.log(`Value of i: ${i}`);\n",
    "    \n",
    "    // The loop will terminate when the value of i is 5.\n",
    "    if (i == 5) { break; }\n",
    "};\n"
   ]
  },
  {
   "cell_type": "markdown",
   "metadata": {},
   "source": [
    "The usage of the `break` statement is visible above. If we had not used the `break` statement, the code would have entered an infinite loop and causing the program to crash.\n",
    "\n",
    "**💡 In situations where we have not yet determined the termination condition `for` loop but expect it to emerge during the coding process, we can benefit from the `break` statement.**\n"
   ]
  },
  {
   "cell_type": "markdown",
   "metadata": {},
   "source": [
    "The use of the `exp3` part (iterate value) within the for loop is optional. In this case, the `exp3` part is defined within the for loop.\n",
    "\n",
    "**Example**\n"
   ]
  },
  {
   "cell_type": "code",
   "execution_count": 27,
   "metadata": {
    "vscode": {
     "languageId": "javascript"
    }
   },
   "outputs": [
    {
     "name": "stdout",
     "output_type": "stream",
     "text": [
      "Value of i: 0\n",
      "Value of i: 1\n",
      "Value of i: 2\n",
      "Value of i: 3\n",
      "Value of i: 4\n"
     ]
    }
   ],
   "source": [
    "%%script node\n",
    "for (let i = 0; i < 5; /* We skipped the exp3 part */) {\n",
    "    console.log(`Value of i: ${i}`);\n",
    "\n",
    "    // We defined the exp3 part inside the loop.\n",
    "    i++;\n",
    "}\n"
   ]
  },
  {
   "cell_type": "markdown",
   "metadata": {},
   "source": [
    "As seen in the example above, we did not use the `exp3` part among the components that make up the for loop. Instead, we used the iterate value within the code block.\n"
   ]
  },
  {
   "cell_type": "markdown",
   "metadata": {},
   "source": [
    "#### <a id='toc1_1_1_1_'></a>[`for` Usage of Scopes in the for Loop](#toc0_)\n",
    "\n",
    "Unless a variable is declared using the `var` keyword, if the value of a variable is changed within a for loop, the new value of the variable will only be valid within the scope where it is found. The value of the variable in the higher scope remains unchanged.\n",
    "\n",
    "**Example**\n"
   ]
  },
  {
   "cell_type": "code",
   "execution_count": 28,
   "metadata": {
    "vscode": {
     "languageId": "javascript"
    }
   },
   "outputs": [
    {
     "name": "stdout",
     "output_type": "stream",
     "text": [
      "Value of i within the for scope: 0\n",
      "Value of i within the for scope: 1\n",
      "Value of i within the for scope: 2\n",
      "Value of i within the for scope: 3\n",
      "Value of i within the for scope: 4\n",
      "Value of i within the for scope: 5\n",
      "Value of i within the for scope: 6\n",
      "Value of i within the for scope: 7\n",
      "Value of i within the for scope: 8\n",
      "Value of i within the for scope: 9\n",
      "Value of i outside the loop: 5. The value of the i variable remains the same.\n"
     ]
    }
   ],
   "source": [
    "%%script node\n",
    "let i = 5;\n",
    "\n",
    "for (let i = 0; i < 10; i++) {\n",
    "    console.log(`Value of i within the for scope: ${i}`);\n",
    "}\n",
    "\n",
    "console.log(`Value of i outside the loop: ${i}. The value of the i variable remains the same.`);\n"
   ]
  },
  {
   "cell_type": "markdown",
   "metadata": {},
   "source": [
    "The reason for this is that the `let` keyword has block scope characteristics. If we had used the `var` keyword in the same example, the value stored in the variable `i` would have been updated. This is because the `var` keyword has a global scope feature. To better understand the topic, you can refer to the [Block Scope Concept](js03-variables.ipynb#block-scope-kavramı) section.\n",
    "\n",
    "**Example**\n"
   ]
  },
  {
   "cell_type": "code",
   "execution_count": 29,
   "metadata": {
    "vscode": {
     "languageId": "javascript"
    }
   },
   "outputs": [
    {
     "name": "stdout",
     "output_type": "stream",
     "text": [
      "Value of i within the for scope: 0\n",
      "Value of i within the for scope: 1\n",
      "Value of i within the for scope: 2\n",
      "Value of i within the for scope: 3\n",
      "Value of i within the for scope: 4\n",
      "Value of i within the for scope: 5\n",
      "Value of i within the for scope: 6\n",
      "Value of i within the for scope: 7\n",
      "Value of i within the for scope: 8\n",
      "Value of i within the for scope: 9\n",
      "Value of i outside the loop: 10. The value of the i variable has been updated.\n"
     ]
    }
   ],
   "source": [
    "%%script node\n",
    "// The value of the i variable will be 10 after the loop.\n",
    "var i = 5;\n",
    "\n",
    "for (var i = 0; i < 10; i++) {\n",
    "    console.log(`Value of i within the for scope: ${i}`);\n",
    "}\n",
    "\n",
    "console.log(`Value of i outside the loop: ${i}. The value of the i variable has been updated.`);\n"
   ]
  },
  {
   "cell_type": "markdown",
   "metadata": {},
   "source": [
    "### <a id='toc1_1_2_'></a>[`for...in` Loop](#toc0_)\n",
    "\n",
    "It is generally used to access the property values of an object-variable.\n",
    "\n",
    "**Prototype:**\n",
    "\n",
    "```javascript\n",
    "for (let keys in object) {\n",
    "  // Code block for the for...in loop. The code to be executed is written here.\n",
    "}\n",
    "```\n",
    "\n",
    "In the above code, we see the structure of the `for...in` loop. The `for...in` loop consists of two variables: `keys` and `object`.\n",
    "\n",
    "Regarding these variables:\n",
    "\n",
    "- `object`: Represents the object to be used in the `for...in` loop.\n",
    "\n",
    "- `keys`: Represents the `key` part of the property in the object.\n",
    "\n",
    "**Example**\n"
   ]
  },
  {
   "cell_type": "code",
   "execution_count": 30,
   "metadata": {
    "vscode": {
     "languageId": "javascript"
    }
   },
   "outputs": [
    {
     "name": "stdout",
     "output_type": "stream",
     "text": [
      "Car Brand: Lada\n",
      "Car Model: 1200\n",
      "Car Color: white\n"
     ]
    }
   ],
   "source": [
    "%%script node\n",
    "const cars = { carName: \"Lada\", carModel: 1200, carColor: \"white\" };\n",
    "\n",
    "var stringHolder;\n",
    "\n",
    "// Copy the keys of properties in the cars variable to the keys variable.\n",
    "for (let keys in cars) {\n",
    "\n",
    "    /** \n",
    "     * Using a switch condition, we determine the value of the stringHolder variable \n",
    "     * based on the current key value.\n",
    "     */\n",
    "    switch (keys) {\n",
    "        case \"carName\":\n",
    "            stringHolder = \"Car Brand\";\n",
    "            break;\n",
    "        case \"carModel\":\n",
    "            stringHolder = \"Car Model\";\n",
    "            break;\n",
    "        default:\n",
    "            stringHolder = \"Car Color\";\n",
    "    }\n",
    "\n",
    "    console.log(`${stringHolder}: ${cars[keys]}`);\n",
    "}\n"
   ]
  },
  {
   "cell_type": "markdown",
   "metadata": {},
   "source": [
    "Explanation of the above `for...in` loop:\n",
    "\n",
    "1. The `for...in` loop will iterate over each property in the cars object. (Example: `carName: Lada`)\n",
    "\n",
    "2. In each iteration, the keys part of the property is copied to the `keys` variable within the loop.\n",
    "\n",
    "3. Based on the current value of the `keys` variable, the `switch` statement determines the value of the `stringHolder` variable. Later, we will use this variable when printing the property values.\n",
    "\n",
    "4. Using the current value of the `keys` variable in the loop, we access the values in the `cars` property (i.e., `Lada`, `1200`, and `white`). Access is achieved using the syntax `cars[key]`. The values inside the properties are printed to the console along with the `stringHolder` variable.\n",
    "\n",
    "The `for...in` loop can also be used to access elements in an array variable.\n",
    "\n",
    "**Example**\n"
   ]
  },
  {
   "cell_type": "code",
   "execution_count": 31,
   "metadata": {
    "vscode": {
     "languageId": "javascript"
    }
   },
   "outputs": [
    {
     "name": "stdout",
     "output_type": "stream",
     "text": [
      "Car brand: Lada\n",
      "Car brand: Audi\n",
      "Car brand: BMW\n",
      "Car brand: Tata\n"
     ]
    }
   ],
   "source": [
    "%%script node\n",
    "const cars = [\"Lada\", \"Audi\", \"BMW\", \"Tata\"];\n",
    "\n",
    "for (let car of cars) {\n",
    "    console.log(`Car brand: ${car}`);\n",
    "}"
   ]
  },
  {
   "cell_type": "markdown",
   "metadata": {},
   "source": [
    "**❗ Using the `for...in` loop is not recommended for arrays data type. This is because it can cause issues related to index when we want to use array methods within the loop. Instead of `for...in`, you can use `for`, `for...of` loops, or `Array.forEach()` method.**\n",
    "\n",
    "**Example**\n"
   ]
  },
  {
   "cell_type": "code",
   "execution_count": 32,
   "metadata": {
    "vscode": {
     "languageId": "javascript"
    }
   },
   "outputs": [
    {
     "name": "stdout",
     "output_type": "stream",
     "text": [
      "Car brand: Lada\n",
      "Car brand: Audi\n",
      "Car brand: BMW\n",
      "Car brand: Tata\n"
     ]
    }
   ],
   "source": [
    "%%script node\n",
    "const cars = [\"Lada\", \"Audi\", \"BMW\", \"Tata\"];\n",
    "\n",
    "// We used an arrow function as the callback method.\n",
    "cars.forEach(car => console.log(`Car brand: ${car}`));\n"
   ]
  },
  {
   "cell_type": "markdown",
   "metadata": {},
   "source": [
    "In the example above, we utilized the `Array.forEach()` method. The `Array.forEach()` method will iterate over each element in the `cars` array variable, and for each element, the `forEach()` method will execute. The value of the element will be transferred to the variable `i`, and the console will print the value of the current element.\n"
   ]
  },
  {
   "cell_type": "markdown",
   "metadata": {},
   "source": [
    "### <a id='toc1_1_3_'></a>[`for...of` Loop](#toc0_)\n",
    "\n",
    "It is used for variables whose values are iterable. The data types of such variables can be any of Array, String, Maps, NodeList, etc.\n",
    "\n",
    "**Prototype:**\n",
    "\n",
    "```javascript\n",
    "for (iterator of object) {\n",
    "  // Code block for the for...of loop. The code to be executed is written here.\n",
    "}\n",
    "```\n",
    "\n",
    "Above, we see the structure of the `for...of` loop. The `for...of` loop consists of two variables: `iterator` and `object`.\n",
    "\n",
    "Regarding these variables:\n",
    "\n",
    "- `iterator`: In each iteration of the loop, the value or content of the `object` variable is copied to the `iterator` variable.\n",
    "\n",
    "- `object`: Represents a value with iterable properties. The data type of this value can be one of array, string, maps, NodeList, etc.\n",
    "\n",
    "**Example**\n"
   ]
  },
  {
   "cell_type": "code",
   "execution_count": 33,
   "metadata": {
    "vscode": {
     "languageId": "javascript"
    }
   },
   "outputs": [
    {
     "name": "stdout",
     "output_type": "stream",
     "text": [
      "Car brand: Lada\n",
      "Car brand: Audi\n",
      "Car brand: BMW\n",
      "Car brand: Tata\n"
     ]
    }
   ],
   "source": [
    "%%script node\n",
    "const cars = [\"Lada\", \"Audi\", \"BMW\", \"Tata\"];\n",
    "\n",
    "/** \n",
    " * The elements of the cars variable will be copied to the iterator variable, and the loop \n",
    " * will iterate for each element.\n",
    " */\n",
    "for (const iterator of cars) {\n",
    "    console.log(`Car brand: ${iterator}`);\n",
    "}\n"
   ]
  },
  {
   "cell_type": "markdown",
   "metadata": {},
   "source": [
    "The working logic of the `for...of loop` is similar to the `for...in` loop.\n",
    "\n",
    "In the case of the `cars` variable, each element is copied to the `iterator` variable, and as long as the loop condition is `true`, the value of the `iterator` variable will be printed to the console.\n",
    "\n",
    "Let's create a `for...of` loop for a variable with the string data type.\n",
    "\n",
    "**Example**\n"
   ]
  },
  {
   "cell_type": "code",
   "execution_count": 34,
   "metadata": {
    "vscode": {
     "languageId": "javascript"
    }
   },
   "outputs": [
    {
     "name": "stdout",
     "output_type": "stream",
     "text": [
      "H \n",
      "e \n",
      "l \n",
      "l \n",
      "o \n"
     ]
    }
   ],
   "source": [
    "%%script node\n",
    "const message = \"Hello\";\n",
    "\n",
    "/**\n",
    " * Each character of the message variable will be copied to the iterator variable,\n",
    " * and this value will be printed to the console.\n",
    " */\n",
    "for (const iterator of message) {\n",
    "    console.log(iterator + \" \");\n",
    "}\n"
   ]
  },
  {
   "cell_type": "markdown",
   "metadata": {},
   "source": [
    "In the example above, each character of the `message` variable will be copied to the `iterator` variable in each iteration, and the current value of the `iterator` variable will be printed to the console.\n"
   ]
  },
  {
   "cell_type": "markdown",
   "metadata": {},
   "source": [
    "### <a id='toc1_1_4_'></a>[`while` Loop](#toc0_)\n",
    "\n",
    "It is similar to the `for` loop. The `while` loop will execute the code block associated with it as long as the specified condition is `true`. The loop will terminate when the condition evaluates to `false`.\n",
    "\n",
    "**Prototype:**\n",
    "\n",
    "```javascript\n",
    "while (condition) {\n",
    "  /**\n",
    "   * Code block for the while loop. The code here will be executed as long as\n",
    "   * the condition is true.\n",
    "   */\n",
    "}\n",
    "```\n",
    "\n",
    "**Example**\n"
   ]
  },
  {
   "cell_type": "code",
   "execution_count": 35,
   "metadata": {
    "vscode": {
     "languageId": "javascript"
    }
   },
   "outputs": [
    {
     "name": "stdout",
     "output_type": "stream",
     "text": [
      "Current value of the i variable: 0\n",
      "Current value of the i variable: 1\n",
      "Current value of the i variable: 2\n",
      "Current value of the i variable: 3\n",
      "Current value of the i variable: 4\n"
     ]
    }
   ],
   "source": [
    "%%script node\n",
    "let i = 0;\n",
    "\n",
    "while (i < 5) {\n",
    "    \n",
    "    /** \n",
    "     * The loop will run as long as the value of the i variable is less than 5, and \n",
    "     * the current value of the i variable will be printed to the console.\n",
    "     */\n",
    "    console.log(`Current value of the i variable: ${i}`);\n",
    "\n",
    "  /** \n",
    "   * In each iteration, we increment the value of the i variable by +1 so that we \n",
    "   * can repeat the loop and test the condition inside the while loop.  \n",
    "   */\n",
    "  i++;\n",
    "}\n"
   ]
  },
  {
   "cell_type": "markdown",
   "metadata": {},
   "source": [
    "**⚠️ To retest the condition within the `while` loop and to enter the loop (this is called iteration), we are incrementing the value of the `i` variable by +1 using the `i++` syntax. This way, the condition checks the value stored in the `i` variable each time. If we didn't increment the value of the `i` variable, the `while` loop would become an infinite loop, causing our JavaScript program to crash.**\n"
   ]
  },
  {
   "cell_type": "markdown",
   "metadata": {},
   "source": [
    "If we had done the above example with a `for` loop\n",
    "\n",
    "**Example**\n"
   ]
  },
  {
   "cell_type": "code",
   "execution_count": 36,
   "metadata": {
    "vscode": {
     "languageId": "javascript"
    }
   },
   "outputs": [
    {
     "name": "stdout",
     "output_type": "stream",
     "text": [
      "Current value of the i variable: 0\n",
      "Current value of the i variable: 1\n",
      "Current value of the i variable: 2\n",
      "Current value of the i variable: 3\n",
      "Current value of the i variable: 4\n"
     ]
    }
   ],
   "source": [
    "%%script node\n",
    "for (let i = 0; i < 5; i++){\n",
    "    console.log(`Current value of the i variable: ${i}`);\n",
    "}\n"
   ]
  },
  {
   "cell_type": "markdown",
   "metadata": {},
   "source": [
    "### <a id='toc1_1_5_'></a>[`do...while` Loop](#toc0_)\n",
    "\n",
    "It works similarly to the `while loop`. The difference is that the w`hile` loop checks the condition first and then executes the code, while the `do...while` loop executes the code first and then checks the condition. Therefore, the `do...while` loop will be executed at least once, even if the condition evaluates to `false`.\n",
    "\n",
    "**Prototype:**\n",
    "\n",
    "```javascript\n",
    "do {\n",
    "  /**\n",
    "   * Code block for the do...while loop. This code will be executed at least once\n",
    "   * even if the condition is false.\n",
    "   */\n",
    "  /**\n",
    "   * Later, the condition is checked. If the condition evaluates to true, the loop\n",
    "   * starts running again. Otherwise, the loop terminates.\n",
    "   */\n",
    "} while (condition);\n",
    "```\n",
    "\n",
    "**Example**\n"
   ]
  },
  {
   "cell_type": "code",
   "execution_count": 37,
   "metadata": {
    "vscode": {
     "languageId": "javascript"
    }
   },
   "outputs": [
    {
     "name": "stdout",
     "output_type": "stream",
     "text": [
      "Current value of the i variable: 0\n",
      "Current value of the i variable: 1\n",
      "Current value of the i variable: 2\n",
      "Current value of the i variable: 3\n",
      "Current value of the i variable: 4\n"
     ]
    }
   ],
   "source": [
    "%%script node\n",
    "let i = 0;\n",
    "\n",
    "// The loop will be executed at least once.\n",
    "do {\n",
    "    console.log(`Current value of the i variable: ${i}`);\n",
    "    i++;\n",
    "}\n",
    "// Then the loop condition will be checked.\n",
    "while (i < 5);\n"
   ]
  },
  {
   "cell_type": "markdown",
   "metadata": {},
   "source": [
    "**⚠️ To retest the condition within the `do...while` loop and to enter the loop (this is called iteration), we are incrementing the value of the `i` variable by +1 using the `i++` syntax. This way, the condition checks the value stored in the `i` variable each time. If we didn't increment the value of the `i` variable, the `do...while` loop would become an infinite loop, causing our JavaScript program to crash.**\n"
   ]
  },
  {
   "cell_type": "markdown",
   "metadata": {},
   "source": [
    "### <a id='toc1_1_6_'></a>[Usage of `break` and `continue` Statements in a Loop:](#toc0_)\n",
    "\n",
    "Sometimes, we may want a loop to terminate when a specific condition is met or for a loop to skip its execution just once. In such situations, we use the `break` and `continue` statements.\n",
    "\n",
    "If we use the `break` statement, the loop will terminate when the specified condition is met.\n",
    "\n",
    "If we use the `continue` statement, the loop will not execute once when the specified condition is met, and it will not produce a result.\n",
    "\n",
    "**Example**\n"
   ]
  },
  {
   "cell_type": "code",
   "execution_count": 38,
   "metadata": {
    "vscode": {
     "languageId": "javascript"
    }
   },
   "outputs": [
    {
     "name": "stdout",
     "output_type": "stream",
     "text": [
      "Student's name: Emin\n",
      "Student's name: Murat\n"
     ]
    }
   ],
   "source": [
    "%%script node\n",
    "const studentNames = [\"Emin\", \"Murat\", \"Ömer\", \"Hasan\"];\n",
    "\n",
    "for (const iterator of studentNames) {\n",
    "    \n",
    "    // If the content of the iterator variable is \"Ömer,\" the loop will terminate.\n",
    "    if (iterator === \"Ömer\") {\n",
    "        break;\n",
    "    }\n",
    "\n",
    "    console.log(`Student's name: ${iterator}`);\n",
    "}\n"
   ]
  },
  {
   "cell_type": "markdown",
   "metadata": {},
   "source": [
    "1. In the example above, the elements of the variable named `studentNames`, which is of type array, are copied to the `iterator` variable.\n",
    "\n",
    "2. In each iteration of the loop, the condition specified in the `if` statement is tested. If the condition is met, the `break` statement in the `if` block will be executed, and the loop will be terminated.\n",
    "\n",
    "3. The copied value is printed to the console.\n"
   ]
  },
  {
   "cell_type": "markdown",
   "metadata": {},
   "source": [
    "If the example above had been done using the `continue` statement, when the condition is met, the loop would be paused temporarily, and then it would continue to run. In other words, the value \"Ömer\" would not be printed to the console.\n",
    "\n",
    "**Example**\n"
   ]
  },
  {
   "cell_type": "code",
   "execution_count": 39,
   "metadata": {
    "vscode": {
     "languageId": "javascript"
    }
   },
   "outputs": [
    {
     "name": "stdout",
     "output_type": "stream",
     "text": [
      "Student's name: Emin\n",
      "Student's name: Murat\n",
      "Student's name: Hasan\n"
     ]
    }
   ],
   "source": [
    "%%script node\n",
    "const studentNames = [\"Emin\", \"Murat\", \"Ömer\", \"Hasan\"];\n",
    "\n",
    "for (const iterator of studentNames) {\n",
    "    \n",
    "    // If the content of the iterator variable is \"Ömer,\" the current iteration is skipped.\n",
    "    if (iterator === \"Ömer\") {\n",
    "        continue;\n",
    "    }\n",
    "    \n",
    "    console.log(`Student's name: ${iterator}`);\n",
    "}"
   ]
  },
  {
   "cell_type": "markdown",
   "metadata": {},
   "source": [
    "**⚠️ `break` and `continue` statements are the only types of statements in JavaScript that can exit a block.**\n"
   ]
  },
  {
   "cell_type": "markdown",
   "metadata": {},
   "source": [
    "## <a id='toc1_2_'></a>[Using Labels in JavaScript](#toc0_)\n",
    "\n",
    "Sometimes, in a loop, we may want the program to exit the loop and continue execution from a specific point when a certain condition (e.g., an `if` statement) is met. To achieve this, we use labels in conjunction with the `break` and `continue` statements. This way, when the specified condition is met, we can exit the code block of the loop and continue the program flow from a designated point.\n",
    "\n",
    "Labels are particularly useful in nested loops.\n",
    "\n",
    "**Example**\n"
   ]
  },
  {
   "cell_type": "code",
   "execution_count": 40,
   "metadata": {
    "vscode": {
     "languageId": "javascript"
    }
   },
   "outputs": [
    {
     "name": "stdout",
     "output_type": "stream",
     "text": [
      "Summation operation could not be completed. There are array elements not included in the sum.\n"
     ]
    }
   ],
   "source": [
    "%%script node\n",
    "// We define a variable named scores with an array data type.\n",
    "let scores = [];\n",
    "\n",
    "// We assign values to the elements of the scores variable.\n",
    "scores[0] = 5;\n",
    "scores[1] = 10;\n",
    "scores[2] = 15;\n",
    "scores[3] = 20;\n",
    "/** scores[4] = 25;\n",
    " *\n",
    " * Let's comment out the 3rd element of the array. This way, an empty element with an undefined data type will be \n",
    " * created.\n",
    " */\n",
    "scores[5] = 30;\n",
    "\n",
    "/**\n",
    " * The total variable will hold the total sum of array elements. We will use the result variable\n",
    " * to indicate if the loop is continuing.\n",
    " */\n",
    "let total = 0, result = false;\n",
    "\n",
    "// We have a label named example. This label corresponds to the if block.\n",
    "example: if (scores.length > 0) {\n",
    "  // We use a for loop to access all elements in the scores variable.\n",
    "  for (let i = 0; i < scores.length; i++) {\n",
    "    /**\n",
    "     * The isNaN() method checks whether each element in the scores variable has a numeric value or not.\n",
    "     *\n",
    "     * If the value is not numeric, the loop/condition will end, and we will continue the program from the\n",
    "     * location corresponding to the example label.\n",
    "     */\n",
    "    if (isNaN(scores[i])) {\n",
    "      break example;\n",
    "    } else {\n",
    "      total = total + scores[i];\n",
    "    }\n",
    "  }\n",
    "\n",
    "  // If the loop ends successfully, we set the value of the result variable to true.\n",
    "  result = true;\n",
    "}\n",
    "\n",
    "result\n",
    "  ? console.log(`The result of the summation: ${total}`)\n",
    "  : console.log(\n",
    "      \"Summation operation could not be completed. There are array elements not included in the sum.\"\n",
    "    );\n"
   ]
  },
  {
   "cell_type": "markdown",
   "metadata": {},
   "source": [
    "In the example above, we used the `example` label in conjunction with the `break` statement. If the result of the condition `if (isNaN(scores[i]))` is `true`, the loop will terminate, and the program will return to the starting point labeled as `example`, continuing execution from the next line.\n",
    "\n",
    "Let's create an example for the `continue` statement.\n",
    "\n",
    "**Example**\n"
   ]
  },
  {
   "cell_type": "code",
   "execution_count": 41,
   "metadata": {
    "vscode": {
     "languageId": "javascript"
    }
   },
   "outputs": [
    {
     "name": "stdout",
     "output_type": "stream",
     "text": [
      "Current value of the element: Emin\n",
      "Current value of the element: Murat\n",
      "Current value of the element: Hasan\n"
     ]
    }
   ],
   "source": [
    "%%script node\n",
    "const studentNames = [\"Emin\", \"Murat\", \"Ömer\", \"Hasan\"];\n",
    "\n",
    "example: for (let i = 0; i < studentNames.length; i++) {\n",
    "    \n",
    "    // If the current element is \"Ömer,\" the loop will be skipped for this iteration.\n",
    "    if (studentNames[i] == \"Ömer\") {\n",
    "        continue example;\n",
    "    } else {\n",
    "        console.log(`Current value of the element: ${studentNames[i]}`);\n",
    "    }\n",
    "}\n"
   ]
  }
 ],
 "metadata": {
  "kernelspec": {
   "display_name": "Python 3",
   "language": "python",
   "name": "python3"
  },
  "language_info": {
   "codemirror_mode": {
    "name": "ipython",
    "version": 3
   },
   "file_extension": ".py",
   "mimetype": "text/x-python",
   "name": "python",
   "nbconvert_exporter": "python",
   "pygments_lexer": "ipython3",
   "version": "3.10.12"
  }
 },
 "nbformat": 4,
 "nbformat_minor": 2
}
