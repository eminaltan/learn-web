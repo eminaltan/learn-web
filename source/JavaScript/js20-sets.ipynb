{
 "cells": [
  {
   "cell_type": "markdown",
   "metadata": {},
   "source": [
    "# Sets in JavaScript<a id='toc0_'></a>\n",
    "\n",
    "Hello, friends! In this section of the series, we will explore the concept of **_Set_** in JavaScript.\n",
    "\n",
    "In this article, we'll cover:\n",
    "\n",
    "- [Concept of Set in JavaScript](#toc1_1_)\n",
    "- [Commonly Used Methods in the Set Data Type](#toc1_2_)\n",
    "  - [`add()` Method](#toc1_2_1_)\n",
    "  - [`delete()` Method](#toc1_2_2_)\n",
    "  - [`has()` Method](#toc1_2_3_)\n",
    "  - [`forEach()` Method](#toc1_2_4_)\n",
    "  - [`values()` Method](#toc1_2_5_)\n",
    "- [Usage of the `size` Property](#toc1_3_)\n",
    "\n",
    "I hope you enjoy reading.\n",
    "\n",
    "Yazının Türkçe versiyonu için [linke](tr-js20-sets.ipynb) tıklayabilirsiniz.\n",
    "\n",
    "<!-- vscode-jupyter-toc-config\n",
    "\tnumbering=false\n",
    "\tanchor=true\n",
    "\tflat=false\n",
    "\tminLevel=1\n",
    "\tmaxLevel=6\n",
    "\t/vscode-jupyter-toc-config -->\n",
    "<!-- THIS CELL WILL BE REPLACED ON TOC UPDATE. DO NOT WRITE YOUR TEXT IN THIS CELL -->\n"
   ]
  },
  {
   "cell_type": "markdown",
   "metadata": {},
   "source": [
    "## <a id='toc1_1_'></a>[Concept of Set in JavaScript](#toc0_)\n",
    "\n",
    "In JavaScript, we can liken the concept of **_Set_** to the array data type. Unlike arrays:\n",
    "\n",
    "- Sets have the property of containing **unique** elements. This means the same element cannot be repeated within a set. Therefore, Sets are used to store unique values.\n",
    "\n",
    "- Methods are used to access elements in Sets. As you may recall, in arrays, we used index to access elements.\n",
    "\n",
    "To create a Set, the `new Set()` constructor method is used.\n",
    "\n",
    "**Example**\n"
   ]
  },
  {
   "cell_type": "code",
   "execution_count": 1,
   "metadata": {
    "vscode": {
     "languageId": "javascript"
    }
   },
   "outputs": [
    {
     "name": "stdout",
     "output_type": "stream",
     "text": [
      "Elements of the arry variable: 2,2,4,5,6,6\n",
      "Elements of the set1 variable: 2,4,5,6\n",
      "Size of the arry variable: 6\n",
      "Size of the set1 variable: 4\n"
     ]
    }
   ],
   "source": [
    "%%script node\n",
    "\n",
    "const arry = [2, 2, 4, 5, 6, 6];\n",
    "\n",
    "const set1 = new Set([2, 2, 4, 5, 6, 6]);\n",
    "\n",
    "console.log(`Elements of the arry variable: ${arry}`);\n",
    "console.log(`Elements of the set1 variable: ${[...set1]}`);\n",
    "\n",
    "console.log(`Size of the arry variable: ${arry.length}`);\n",
    "console.log(`Size of the set1 variable: ${set1.size}`);\n"
   ]
  },
  {
   "cell_type": "markdown",
   "metadata": {},
   "source": [
    "In the example above, we created a new Set using the `new Set()` method.\n",
    "\n",
    "As seen, both the `arry` and `set1` variables contain two occurrences of the elements `2` and `6`. When we print the contents of both variables to the console, we observe that the elements `2` and `6` within `set1` are only printed once.\n",
    "\n",
    "**⚠️ When attempting to store multiple identical variables or values in a Set, the operation is based on the reference to the variable or value at the beginning of the data list.**\n",
    "\n",
    "Looking at the size of the `arry` and `set1` variables, even though they are numerically the same, we notice that the size of the `set1` variable is actually 4. This is because a Set only keeps unique elements, and therefore, the size of the Set is equal to the number of unique elements it contains.\n"
   ]
  },
  {
   "cell_type": "markdown",
   "metadata": {},
   "source": [
    "In addition to storing data, Sets can also be used to create a unique list by combining, intersecting, or taking the difference of the contents of two variables.\n",
    "\n",
    "**Example**\n"
   ]
  },
  {
   "cell_type": "code",
   "execution_count": 2,
   "metadata": {
    "vscode": {
     "languageId": "javascript"
    }
   },
   "outputs": [
    {
     "name": "stdout",
     "output_type": "stream",
     "text": [
      "Result of the union operation: 1,2,3,4\n",
      "Result of the intersection operation: 2,3\n",
      "Result of the difference operation: 1\n"
     ]
    }
   ],
   "source": [
    "%%script node\n",
    "\n",
    "let set1 = new Set([1, 2, 3]);\n",
    "let set2 = new Set([2, 3, 4]);\n",
    "\n",
    "/** \n",
    " * The content of the union variable will be the result of the combination of two sets. Duplicate values will be \n",
    " * used only once when creating the content.\n",
    " */\n",
    "let union = new Set([...set1, ...set2]);\n",
    "\n",
    "// Finding common elements in set1 and set2 variables.\n",
    "let intersection = new Set([...set1].filter(x => set2.has(x))); \n",
    "\n",
    "// Finding non-common elements in set1 and set2 variables.\n",
    "let difference = new Set([...set1].filter(x => !set2.has(x))); \n",
    "\n",
    "console.log(`Result of the union operation: ${[...union]}`);\n",
    "\n",
    "console.log(`Result of the intersection operation: ${[...intersection]}`);\n",
    "\n",
    "console.log(`Result of the difference operation: ${[...difference]}`);\n"
   ]
  },
  {
   "cell_type": "markdown",
   "metadata": {},
   "source": [
    "**💡 Sometimes, we may want the content of a variable with array-like properties to consist of a unique list of data. In this case, we can use the `new Set()` method by placing the array-like variable inside it to create a Set consisting of unique elements.**\n",
    "\n",
    "**Example**\n"
   ]
  },
  {
   "cell_type": "code",
   "execution_count": 3,
   "metadata": {
    "vscode": {
     "languageId": "javascript"
    }
   },
   "outputs": [
    {
     "name": "stdout",
     "output_type": "stream",
     "text": [
      "Elements of the set1 variable: 2,3,4,5,6,7\n"
     ]
    }
   ],
   "source": [
    "%%script node\n",
    "\n",
    "const arry = [2, 2, 2, 2, 2, 3, 4, 5, 6, 7, 7];\n",
    "\n",
    "const set1 = new Set(arry);\n",
    "\n",
    "console.log(`Elements of the set1 variable: ${[...set1]}`);\n"
   ]
  },
  {
   "cell_type": "markdown",
   "metadata": {},
   "source": [
    "## <a id='toc1_2_'></a>[Commonly Used Methods in the Set Data Type](#toc0_)\n",
    "\n",
    "So far, we have covered the concept of Sets and their properties. Now, let's take a look at some of the methods commonly used with Sets.\n"
   ]
  },
  {
   "cell_type": "markdown",
   "metadata": {},
   "source": [
    "### <a id='toc1_2_1_'></a>[`add()` Method](#toc0_)\n",
    "\n",
    "Used to add a new element to a Set.\n",
    "\n",
    "**Example**\n"
   ]
  },
  {
   "cell_type": "code",
   "execution_count": 4,
   "metadata": {
    "vscode": {
     "languageId": "javascript"
    }
   },
   "outputs": [
    {
     "name": "stdout",
     "output_type": "stream",
     "text": [
      "Elements of the set1 variable: Emin,Hasan,Murat\n"
     ]
    }
   ],
   "source": [
    "%%script node\n",
    "\n",
    "// Creating an empty Set.\n",
    "const set1 = new Set();\n",
    "\n",
    "set1.add(\"Emin\");\n",
    "set1.add(\"Hasan\");\n",
    "set1.add(\"Murat\");\n",
    "\n",
    "console.log(`Elements of the set1 variable: ${[...set1]}`);"
   ]
  },
  {
   "cell_type": "markdown",
   "metadata": {},
   "source": [
    "In the example above, the `add()` method is used with the desired value as an argument to add elements to the Set.\n"
   ]
  },
  {
   "cell_type": "markdown",
   "metadata": {},
   "source": [
    "### <a id='toc1_2_2_'></a>[`delete()` Method](#toc0_)\n",
    "\n",
    "Used to delete a specified element from a Set.\n",
    "\n",
    "**Example**\n"
   ]
  },
  {
   "cell_type": "code",
   "execution_count": 5,
   "metadata": {
    "vscode": {
     "languageId": "javascript"
    }
   },
   "outputs": [
    {
     "name": "stdout",
     "output_type": "stream",
     "text": [
      "Elements of the set1 variable: Emin,Murat\n"
     ]
    }
   ],
   "source": [
    "%%script node\n",
    "\n",
    "const names = [\"Emin\", \"Hasan\", \"Murat\"];\n",
    "\n",
    "const set1 = new Set(names);\n",
    "\n",
    "set1.delete(\"Hasan\");\n",
    "\n",
    "console.log(`Elements of the set1 variable: ${[...set1]}`);\n"
   ]
  },
  {
   "cell_type": "markdown",
   "metadata": {},
   "source": [
    "In the example above, the `delete()` method is used with the desired value as an argument to remove the specified element from the Set.\n"
   ]
  },
  {
   "cell_type": "markdown",
   "metadata": {},
   "source": [
    "### <a id='toc1_2_3_'></a>[`has()` Method](#toc0_)\n",
    "\n",
    "We may want to check whether a value or variable exists in a Set or not. In such cases, we can use the `has()` method.\n",
    "\n",
    "The `has()` method returns a boolean result. If the element is present in the Set, the result is `true`; otherwise, it is `false`.\n",
    "\n",
    "**Example**\n"
   ]
  },
  {
   "cell_type": "code",
   "execution_count": 6,
   "metadata": {
    "vscode": {
     "languageId": "javascript"
    }
   },
   "outputs": [
    {
     "name": "stdout",
     "output_type": "stream",
     "text": [
      "Result: The searched element is present in the Set.\n",
      "Result: The searched element is not present in the Set.\n"
     ]
    }
   ],
   "source": [
    "%%script node\n",
    "\n",
    "const names = [\"Emin\", \"Hasan\", \"Murat\"];\n",
    "\n",
    "const set1 = new Set(names);\n",
    "\n",
    "console.log(`Result: ${set1.has(\"Hasan\") ? \"The searched element is present in the Set.\" : \"The searched element is not present in the Set.\"}`);\n",
    "\n",
    "console.log(`Result: ${set1.has(\"Derya\") ? \"The searched element is present in the Set.\" : \"The searched element is not present in the Set.\"}`);\n"
   ]
  },
  {
   "cell_type": "markdown",
   "metadata": {},
   "source": [
    "In the example above, we specified the element we want to check in the Set as an argument. If the result is `true`, it indicates that the element is present in the Set, and if the result is `false`, it indicates that the element is not present in the Set.\n"
   ]
  },
  {
   "cell_type": "markdown",
   "metadata": {},
   "source": [
    "### <a id='toc1_2_4_'></a>[`forEach()` Method](#toc0_)\n",
    "\n",
    "Sometimes, we may want to perform a specific operation for each element in a Set. In such cases, we can use the `forEach()` method.\n",
    "\n",
    "**Example**\n"
   ]
  },
  {
   "cell_type": "code",
   "execution_count": 7,
   "metadata": {
    "vscode": {
     "languageId": "javascript"
    }
   },
   "outputs": [
    {
     "name": "stdout",
     "output_type": "stream",
     "text": [
      "Elements of the arry variable: 2,3,4,5,6,7\n"
     ]
    }
   ],
   "source": [
    "%%script node\n",
    "\n",
    "const set1 = new Set([1, 2, 3, 4, 5, 6]);\n",
    "\n",
    "let arry = [];\n",
    "\n",
    "set1.forEach(val => arry.push(val + 1));\n",
    "\n",
    "console.log(`Elements of the arry variable: ${arry}`);"
   ]
  },
  {
   "cell_type": "markdown",
   "metadata": {},
   "source": [
    "In the example above, using the `forEach()` method, we increment each element value in the `set1` variable by 1. The result is then stored in the `arry` variable.\n"
   ]
  },
  {
   "cell_type": "markdown",
   "metadata": {},
   "source": [
    "### <a id='toc1_2_5_'></a>[`values()` Method](#toc0_)\n",
    "\n",
    "We may want to use the elements in a Set similar to properties of an object. In such cases, we can use the `values()` method. The `values()` method creates an iterable variable for the elements in the Set, allowing access to the elements and facilitating navigation through them.\n",
    "\n",
    "**Example**\n",
    "\n",
    "```javascript\n",
    "let set1 = new Set([1, 2, 3, 4, 5, 6]);\n",
    "\n",
    "// Getting an iterable with the values() method.\n",
    "let values = set1.values();\n",
    "\n",
    "// Accessing Set elements using forEach on the iterable.\n",
    "values.forEach((element) => console.log(element));\n",
    "```\n"
   ]
  },
  {
   "cell_type": "markdown",
   "metadata": {},
   "source": [
    "## <a id='toc1_3_'></a>[Usage of the `size` Property](#toc0_)\n",
    "\n",
    "Sets don't normally have properties. In fact, `size` is not a property but a method attribute. The `size` property provides the number of unique elements in the Set.\n",
    "\n",
    "Let's revisit the initial example and examine the `size` property.\n",
    "\n",
    "**Example**\n"
   ]
  },
  {
   "cell_type": "code",
   "execution_count": 8,
   "metadata": {
    "vscode": {
     "languageId": "javascript"
    }
   },
   "outputs": [
    {
     "name": "stdout",
     "output_type": "stream",
     "text": [
      "Size of the set1 variable: 4\n"
     ]
    }
   ],
   "source": [
    "%%script node\n",
    "\n",
    "const set1 = new Set([2, 2, 4, 5, 6, 6]);\n",
    "\n",
    "console.log(`Size of the set1 variable: ${set1.size}`);"
   ]
  },
  {
   "cell_type": "markdown",
   "metadata": {},
   "source": [
    "As seen above, the `size` property provides the size or number of unique elements in the `set1` variable.\n"
   ]
  }
 ],
 "metadata": {
  "kernelspec": {
   "display_name": "Python 3",
   "language": "python",
   "name": "python3"
  },
  "language_info": {
   "codemirror_mode": {
    "name": "ipython",
    "version": 3
   },
   "file_extension": ".py",
   "mimetype": "text/x-python",
   "name": "python",
   "nbconvert_exporter": "python",
   "pygments_lexer": "ipython3",
   "version": "3.10.12"
  }
 },
 "nbformat": 4,
 "nbformat_minor": 2
}
