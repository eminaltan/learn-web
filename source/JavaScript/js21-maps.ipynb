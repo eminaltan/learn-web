{
 "cells": [
  {
   "cell_type": "markdown",
   "metadata": {},
   "source": [
    "# Maps in JavaScript<a id='toc0_'></a>\n",
    "\n",
    "Hello friends, in this part of the series, we will explore the concept of **_Map_** in JavaScript.\n",
    "\n",
    "In this article, we'll cover:\n",
    "\n",
    "- [Map Concept in JavaScript](#toc1_1_)\n",
    "  - [Map Elements Iterated Directly](#toc1_1_1_)\n",
    "  - [Has the `size` Property](#toc1_1_2_)\n",
    "  - [Part of Key Can Be of Any Data Type](#toc1_1_3_)\n",
    "  - [Map Elements Sorted According to Insertion Order](#toc1_1_4_)\n",
    "  - [Map Objects Based on Value Equality](#toc1_1_5_)\n",
    "- [Commonly Used Methods in the Map Data Type](#toc1_2_)\n",
    "  - [`set()` Metodu](#toc1_2_1_)\n",
    "  - [`get()` Metodu](#toc1_2_2_)\n",
    "  - [`delete()` Metodu](#toc1_2_3_)\n",
    "  - [`has()` Method](#toc1_2_4_)\n",
    "  - [`forEach()` Method](#toc1_2_5_)\n",
    "  - [`entries()` Method](#toc1_2_6_)\n",
    "- [Summary](#toc1_3_)\n",
    "\n",
    "I hope you enjoy reading.\n",
    "\n",
    "Yazının Türkçe versiyonu için [linke](tr-js21-maps.ipynb) tıklayabilirsiniz.\n",
    "\n",
    "<!-- vscode-jupyter-toc-config\n",
    "\tnumbering=false\n",
    "\tanchor=true\n",
    "\tflat=false\n",
    "\tminLevel=1\n",
    "\tmaxLevel=6\n",
    "\t/vscode-jupyter-toc-config -->\n",
    "<!-- THIS CELL WILL BE REPLACED ON TOC UPDATE. DO NOT WRITE YOUR TEXT IN THIS CELL -->\n"
   ]
  },
  {
   "cell_type": "markdown",
   "metadata": {},
   "source": [
    "## <a id='toc1_1_'></a>[Map Concept in JavaScript](#toc0_)\n",
    "\n",
    "In JavaScript, we can liken the **_Map_** concept to the object data type. A Map consists of **_key-value_** pairs, similar to elements in objects.\n",
    "\n",
    "To create a Map, we use the `new Map()` constructor method.\n",
    "\n",
    "**Example**\n"
   ]
  },
  {
   "cell_type": "code",
   "execution_count": 14,
   "metadata": {
    "vscode": {
     "languageId": "javascript"
    }
   },
   "outputs": [
    {
     "name": "stdout",
     "output_type": "stream",
     "text": [
      "Content of the 'maps' variable: 625,Murat,276,Emin,198,Hasan\n",
      "Name of the student with the number 276: Emin\n"
     ]
    }
   ],
   "source": [
    "%%script node\n",
    "\n",
    "const maps = new Map([\n",
    "    [625, \"Murat\"],\n",
    "    [276, \"Emin\"],\n",
    "    [198, \"Hasan\"]\n",
    "]);\n",
    "\n",
    "// Logging the contents of the 'maps' variable\n",
    "console.log(`Content of the 'maps' variable: ${[...maps]}`);\n",
    "\n",
    "// Retrieving the name associated with the key '276'\n",
    "console.log(`Name of the student with the number 276: ${maps.get(276)}`);\n"
   ]
  },
  {
   "cell_type": "markdown",
   "metadata": {},
   "source": [
    "In the example above, we created a variable named `maps` in JavaScript and used the `new Map()` constructor method to store the values we wanted in the form of an array within the `maps` variable. We then used the `get()` method to print the name of a student whose number we knew to the console."
   ]
  },
  {
   "cell_type": "markdown",
   "metadata": {},
   "source": [
    "**Differences Between Maps and Objects:**\n",
    "\n",
    "- While object properties cannot be iterated directly, Map elements can be iterated directly.\n",
    "\n",
    "- Unlike objects, Maps have a `size` property.\n",
    "\n",
    "- In an object, the key part of a property is either a string or a symbol, whereas there is no such restriction for the key part of Map elements. The key part can be of any data type.\n",
    "\n",
    "- The order of object properties may vary, whereas in Map objects, elements are sorted based on the order of insertion, and this order is preserved.\n",
    "\n",
    "- Objects rely on reference equality, whereas Maps rely on value equality.\n",
    "\n",
    "Now, let's take a closer look at each difference.\n"
   ]
  },
  {
   "cell_type": "markdown",
   "metadata": {},
   "source": [
    "### <a id='toc1_1_1_'></a>[Map Elements Iterated Directly](#toc0_)\n",
    "\n",
    "Unlike objects, we can access the elements of a Map variable directly using iterable functions such as `for...of` loop or `forEach`.\n",
    "\n",
    "**Example**\n"
   ]
  },
  {
   "cell_type": "code",
   "execution_count": 15,
   "metadata": {
    "vscode": {
     "languageId": "javascript"
    }
   },
   "outputs": [
    {
     "name": "stderr",
     "output_type": "stream",
     "text": [
      "Error message: student is not iterable\n"
     ]
    }
   ],
   "source": [
    "%%script node\n",
    "\n",
    "const student = {\n",
    "  studentName: \"Sibel\",\n",
    "  studentLastName: \"Özel\",\n",
    "  studentNumber: 219\n",
    "};\n",
    "\n",
    "// The \"for...of\" loop does not work on objects; it will throw an error.\n",
    "try {\n",
    "  for (const [key, value] of student) {\n",
    "    console.log(`${key}: ${value}`);\n",
    "  }\n",
    "} catch (error) {\n",
    "  console.error(`Error message: ${error.message}`); \n",
    "}"
   ]
  },
  {
   "cell_type": "markdown",
   "metadata": {},
   "source": [
    "In the example above if we directly use the `for...of` loop for the `student` object, we will receive an error message. This is because object properties do not inherently have iterable characteristics.\n",
    "\n",
    "Let's demonstrate the same example by creating a variable with Map feature.\n",
    "\n",
    "**Example**\n"
   ]
  },
  {
   "cell_type": "code",
   "execution_count": 16,
   "metadata": {
    "vscode": {
     "languageId": "javascript"
    }
   },
   "outputs": [
    {
     "name": "stdout",
     "output_type": "stream",
     "text": [
      "key part of student variable: studentName | value part of student variable: Sibel\n",
      "key part of student variable: studentLastName | value part of student variable: Özel\n",
      "key part of student variable: studentNumber | value part of student variable: 219\n"
     ]
    }
   ],
   "source": [
    "%%script node\n",
    "\n",
    "const student = new Map([\n",
    "    [\"studentName\", \"Sibel\"],\n",
    "    [\"studentLastName\", \"Özel\"],\n",
    "    [\"studentNumber\", 219]\n",
    "]);\n",
    "\n",
    "// Accessing elements of student Map with for...of loop\n",
    "for (const [key, value] of student) {\n",
    "    console.log(`key part of student variable: ${key} | value part of student variable: ${value}`);\n",
    "}"
   ]
  },
  {
   "cell_type": "markdown",
   "metadata": {},
   "source": [
    "As can be seen, we accessed the keys and values within the `student` directly using a `for...of` loop.\n"
   ]
  },
  {
   "cell_type": "markdown",
   "metadata": {},
   "source": [
    "### <a id='toc1_1_2_'></a>[Has the `size` Property](#toc0_)\n",
    "\n",
    "Unlike objects, to determine the size of a Map, we use the `size` property.\n",
    "\n",
    "**Example**\n"
   ]
  },
  {
   "cell_type": "code",
   "execution_count": 17,
   "metadata": {
    "vscode": {
     "languageId": "javascript"
    }
   },
   "outputs": [
    {
     "name": "stdout",
     "output_type": "stream",
     "text": [
      "Size of the 'student' variable: 3\n",
      "Size of the 'student2' variable: 3\n"
     ]
    }
   ],
   "source": [
    "%%script node\n",
    "\n",
    "const student = new Map([\n",
    "    [\"studentName\", \"Sibel\"],\n",
    "    [\"studentLastName\", \"Özel\"],\n",
    "    [\"studentNumber\", 219]\n",
    "]);\n",
    "\n",
    "const student2 = {\n",
    "    studentName: \"Batuhan\",\n",
    "    studentLastName: \"Akar\",\n",
    "    studentNumber: 50\n",
    "};\n",
    "\n",
    "const student2Size = Object.entries(student2).length;\n",
    "\n",
    "console.log(`Size of the 'student' variable: ${student.size}`);\n",
    "console.log(`Size of the 'student2' variable: ${student2Size}`);\n"
   ]
  },
  {
   "cell_type": "markdown",
   "metadata": {},
   "source": [
    "Above, we determine the size of the `student` variable using the `size` property.\n",
    "\n",
    "**To determine the size of the variable `student2`, which is an object:**\n",
    "\n",
    "1. As shown in the example, we use the `entries()` method of the `Object` object to create an array-type content from the key-value pairs in `student2`.\n",
    "\n",
    "2. We determine the size of the created content using the `length` property.\n",
    "\n",
    "3. We store the result of the size in a variable named `student2Size`.\n",
    "\n",
    "As seen, it is easier to determine the size of the Map-like variable `student` compared to the object-like variable `student2`.\n"
   ]
  },
  {
   "cell_type": "markdown",
   "metadata": {},
   "source": [
    "### <a id='toc1_1_3_'></a>[Part of Key Can Be of Any Data Type](#toc0_)\n",
    "\n",
    "Recall that the key part of an object had to be of type string or symbol. In the case of a Map-like variable, there is no such limitation; the key part can be of any data type.\n",
    "\n",
    "For example, suppose we want to create a list of personnel IDs and names based on the ID from a database. In such a case, we can benefit from the Map data type.\n",
    "\n",
    "**Example**"
   ]
  },
  {
   "cell_type": "code",
   "execution_count": 18,
   "metadata": {
    "vscode": {
     "languageId": "javascript"
    }
   },
   "outputs": [
    {
     "name": "stdout",
     "output_type": "stream",
     "text": [
      "Personel ID's: 1 | Name of Personel: Emin\n",
      "Personel ID's: 2 | Name of Personel: Murat\n",
      "Personel ID's: 3 | Name of Personel: Hasan\n",
      "Personel ID's: 4 | Name of Personel: Barçın\n"
     ]
    }
   ],
   "source": [
    "%%script node \n",
    "\n",
    "const personal = new Map([\n",
    "    [1, \"Emin\"],\n",
    "    [2, \"Murat\"],\n",
    "    [3, \"Hasan\"],\n",
    "    [4, \"Barçın\"]\n",
    "]);\n",
    "\n",
    "for (const [key, value] of personal) {\n",
    "    console.log(`Personel ID's: ${key} | Name of Personel: ${value}`);\n",
    "}"
   ]
  },
  {
   "cell_type": "markdown",
   "metadata": {},
   "source": [
    "In the example above, as can be seen, the key part of the `personal` variable consists of the number data type. Using a `for...of` loop, we printed the ID and name information of the personnel to the console.\n"
   ]
  },
  {
   "cell_type": "markdown",
   "metadata": {},
   "source": [
    "### <a id='toc1_1_4_'></a>[Map Elements Sorted According to Insertion Order](#toc0_)\n",
    "\n",
    "In JavaScript objects, properties generally do not have a specific order. Object properties are not sorted based on the order in which they are added. In JavaScript, object properties are in the form of key-value pairs, and the order of these pairs does not follow a specific sequence.\n",
    "\n",
    "However, this is not the case with Maps. In Maps, an element added to the Map is stored at the end.\n",
    "\n",
    "**💡 In situations where order matters, we can benefit from Map or array data types.**\n",
    "\n",
    "**Example**"
   ]
  },
  {
   "cell_type": "code",
   "execution_count": 19,
   "metadata": {
    "vscode": {
     "languageId": "javascript"
    }
   },
   "outputs": [
    {
     "name": "stdout",
     "output_type": "stream",
     "text": [
      "Personel ID's: 1 | Name of Personel: Emin\n",
      "Personel ID's: 2 | Name of Personel: Murat\n",
      "Personel ID's: 3 | Name of Personel: Hasan\n",
      "Personel ID's: 4 | Name of Personel: Barçın\n",
      "Personel ID's: 5 | Name of Personel: Burak\n"
     ]
    }
   ],
   "source": [
    "%%script node    \n",
    "\n",
    "const personal = new Map([\n",
    "    [1, \"Emin\"],\n",
    "    [2, \"Murat\"],\n",
    "    [3, \"Hasan\"],\n",
    "    [4, \"Barçın\"]\n",
    "]);\n",
    "\n",
    "// We're add \"Burak\" value in personal variable.\n",
    "personal.set(5,\"Burak\");\n",
    "\n",
    "for (const [key, value] of personal) {\n",
    "    console.log(`Personel ID's: ${key} | Name of Personel: ${value}`);\n",
    "}"
   ]
  },
  {
   "cell_type": "markdown",
   "metadata": {},
   "source": [
    "As seen in the example above, we added a new employee named \"Burak\" to the `personal` variable using the `set()` method. When we iterate over the list, \"Burak\" is placed at the end of the list."
   ]
  },
  {
   "cell_type": "markdown",
   "metadata": {},
   "source": [
    "### <a id='toc1_1_5_'></a>[Map Objects Based on Value Equality](#toc0_)\n",
    "\n",
    "In objects, two different variables with object properties are considered different if they do not have the same reference, even if their contents are the same.\n",
    "\n",
    "This is not the case with Maps. If two Maps have the same key-value pairs, these Maps are considered equal.\n",
    "\n",
    "**Example**"
   ]
  },
  {
   "cell_type": "code",
   "execution_count": 20,
   "metadata": {
    "vscode": {
     "languageId": "javascript"
    }
   },
   "outputs": [
    {
     "name": "stdout",
     "output_type": "stream",
     "text": [
      "Are obj1 and obj2 equal?: false\n",
      "Are map1 and map2 equal?: true\n"
     ]
    }
   ],
   "source": [
    "%%script node  \n",
    "\n",
    "const obj1 = { firstName: \"Hasan\" };\n",
    "const obj2 = { firstName: \"Hasan\" };\n",
    "\n",
    "const map1 = new Map([\n",
    "    [\"Emin\", \"Altan\"],\n",
    "    [\"Hasan\", \"Taş\"]\n",
    "]);\n",
    "\n",
    "const map2 = new Map([\n",
    "    [\"Emin\", \"Altan\"],\n",
    "    [\"Hasan\", \"Taş\"]]\n",
    ");\n",
    "\n",
    "console.log(`Are obj1 and obj2 equal?: ${obj1 === obj2}`);\n",
    "console.log(`Are map1 and map2 equal?: ${[...map1.keys()][0] === [...map2.keys()][0]}`);\n"
   ]
  },
  {
   "cell_type": "markdown",
   "metadata": {},
   "source": [
    "In the example above, even though the key-value pairs of `obj1` and `obj2` are the same, they are considered different variables. This is because object data types are reference-based. **Unless there is reference equality, separate memory addresses are used for both variables. Therefore, the comparison of `obj1` and `obj2` is based on the memory address, not on the data type or the stored data. If these variables shared the same memory address, i.e., if a reference-based variable was used for comparison, the result would be `true`.**\n",
    "\n",
    "For Map-like variables, comparing them involves checking if the key-value pairs and their corresponding values match, and this is sufficient for the result to be `true`.\n"
   ]
  },
  {
   "cell_type": "markdown",
   "metadata": {},
   "source": [
    "## <a id='toc1_2_'></a>[Commonly Used Methods in the Map Data Type](#toc0_)\n",
    "\n",
    "So far, we've covered the concept and features of the Map. Now, let's delve into some of the commonly used methods in Map.\n"
   ]
  },
  {
   "cell_type": "markdown",
   "metadata": {},
   "source": [
    "### <a id='toc1_2_1_'></a>[`set()` Metodu](#toc0_)\n",
    "\n",
    "Used to add a new element to a Map.\n",
    "\n",
    "**Example**\n"
   ]
  },
  {
   "cell_type": "code",
   "execution_count": 21,
   "metadata": {
    "vscode": {
     "languageId": "javascript"
    }
   },
   "outputs": [
    {
     "name": "stdout",
     "output_type": "stream",
     "text": [
      "Elements of the 'student' variable: 1 Emin\n",
      "Elements of the 'student' variable: 2 Murat\n",
      "Elements of the 'student' variable: 3 Can\n"
     ]
    }
   ],
   "source": [
    "%%script node\n",
    "\n",
    "const student = new Map();\n",
    "\n",
    "// Using the set() method to store key-value pairs in the 'student' variable.\n",
    "student.set(1, \"Emin\");\n",
    "student.set(2, \"Murat\");\n",
    "student.set(3, \"Can\");\n",
    "\n",
    "for ([key, value] of student) {\n",
    "    console.log(`Elements of the 'student' variable: ${key} ${value}`);\n",
    "}\n"
   ]
  },
  {
   "cell_type": "markdown",
   "metadata": {},
   "source": [
    "Above, we create an empty Map named `student` using the `new Map()` constructor method and use the `set()` method to store elements in the variable.\n",
    "\n",
    "We use a `for...of` loop to print the stored elements to the console.\n"
   ]
  },
  {
   "cell_type": "markdown",
   "metadata": {},
   "source": [
    "### <a id='toc1_2_2_'></a>[`get()` Metodu](#toc0_)\n",
    "\n",
    "Returns the value associated with a key in the Map.\n",
    "\n",
    "**Example**\n"
   ]
  },
  {
   "cell_type": "code",
   "execution_count": 22,
   "metadata": {
    "vscode": {
     "languageId": "javascript"
    }
   },
   "outputs": [
    {
     "name": "stdout",
     "output_type": "stream",
     "text": [
      "Emin\n"
     ]
    }
   ],
   "source": [
    "%%script node\n",
    "\n",
    "const student = new Map();\n",
    "\n",
    "student.set(1, \"Emin\");\n",
    "student.set(2, \"Murat\");\n",
    "student.set(3, \"Can\");\n",
    "\n",
    "// Accessing the value associated with the key '1' in the Map.\n",
    "console.log(student.get(1));\n"
   ]
  },
  {
   "cell_type": "markdown",
   "metadata": {},
   "source": [
    "In the example above, the `get()` method will retrieve the value associated with the key specified as the argument.\n",
    "\n",
    "Let's go back to the previous example and use the `get()` method to access the values of the Map element with a key value of `1`.\n",
    "\n",
    "**Example**"
   ]
  },
  {
   "cell_type": "code",
   "execution_count": 23,
   "metadata": {
    "vscode": {
     "languageId": "javascript"
    }
   },
   "outputs": [
    {
     "name": "stdout",
     "output_type": "stream",
     "text": [
      "Elements of the 'student' variable: 1 Emin\n",
      "Elements of the 'student' variable: 2 Murat\n",
      "Elements of the 'student' variable: 3 Can\n"
     ]
    }
   ],
   "source": [
    "%%script node\n",
    "\n",
    "const student = new Map();\n",
    "\n",
    "student.set(1, \"Emin\");\n",
    "student.set(2, \"Murat\");\n",
    "student.set(3, \"Can\");\n",
    "\n",
    "for ([key, value] of student) {\n",
    "    \n",
    "    // Passing the key variable as an argument to the get() method to access the key parts in the Map.\n",
    "    console.log(`Elements of the 'student' variable: ${key} ${student.get(key)}`);\n",
    "}\n",
    "\n"
   ]
  },
  {
   "cell_type": "markdown",
   "metadata": {},
   "source": [
    "### <a id='toc1_2_3_'></a>[`delete()` Metodu](#toc0_)\n",
    "\n",
    "Used to delete an element from a Map.\n",
    "\n",
    "**Örnek**\n"
   ]
  },
  {
   "cell_type": "code",
   "execution_count": 28,
   "metadata": {
    "vscode": {
     "languageId": "javascript"
    }
   },
   "outputs": [
    {
     "name": "stdout",
     "output_type": "stream",
     "text": [
      "Elements of the 'student' variable: 1 Emin\n",
      "Elements of the 'student' variable: 3 Can\n"
     ]
    }
   ],
   "source": [
    "%%script node\n",
    "\n",
    "const student = new Map();\n",
    "\n",
    "student.set(1, \"Emin\");\n",
    "student.set(2, \"Murat\");\n",
    "student.set(3, \"Can\");\n",
    "\n",
    "// Deleting the element with the key value '2' from the Map.\n",
    "student.delete(2);\n",
    "\n",
    "for ([key, value] of student) {\n",
    "    console.log(`Elements of the 'student' variable: ${key} ${student.get(key)}`);\n",
    "}\n"
   ]
  },
  {
   "cell_type": "markdown",
   "metadata": {},
   "source": [
    "As seen above, the `delete()` method will find the key corresponding to the argument provided and delete it from the Map."
   ]
  },
  {
   "cell_type": "markdown",
   "metadata": {},
   "source": [
    "### <a id='toc1_2_4_'></a>[`has()` Method](#toc0_)\n",
    "\n",
    "We might want to check whether an element exists in a Map or not. In such cases, we use the `has()` method.\n",
    "\n",
    "The `has()` method returns a boolean result. If the element is present in the Map, the result is `true`; otherwise, it is `false.\n",
    "\n",
    "**Example**"
   ]
  },
  {
   "cell_type": "code",
   "execution_count": 29,
   "metadata": {
    "vscode": {
     "languageId": "javascript"
    }
   },
   "outputs": [
    {
     "name": "stdout",
     "output_type": "stream",
     "text": [
      "Result: The element with id '2' is present in the Map. Student's name: Murat\n",
      "Result: The element with id '4' is not present in the Map.\n"
     ]
    }
   ],
   "source": [
    "%%script node\n",
    "\n",
    "const student = new Map();\n",
    "\n",
    "student.set(1, \"Emin\");\n",
    "student.set(2, \"Murat\");\n",
    "student.set(3, \"Can\");\n",
    "\n",
    "// Checking the presence of the element with id '2' in the 'student' variable.\n",
    "console.log(`Result: ${student.has(2) ? `The element with id '2' is present in the Map. Student's name: ${student.get(2)}` : `The element with id '2' is not present in the Map.`}`);\n",
    "\n",
    "// Checking the presence of the element with id '4' in the 'student' variable.\n",
    "console.log(`Result: ${student.has(4) ? `The element with id '4' is present in the Map. Student's name: ${student.get(4)}` : `The element with id '4' is not present in the Map.`}`);\n"
   ]
  },
  {
   "cell_type": "markdown",
   "metadata": {},
   "source": [
    "### <a id='toc1_2_5_'></a>[`forEach()` Method](#toc0_)\n",
    "\n",
    "With the `forEach()` method, we can automatically perform a specified operation for each element in a Map. This way, we avoid manually processing each element one by one, saving time.\n",
    "\n",
    "In the `forEach()` method, a method is created, and this method is called and used repeatedly for each Map element. This is referred to as a **callback function**.\n",
    "\n",
    "**Example**\n"
   ]
  },
  {
   "cell_type": "code",
   "execution_count": 30,
   "metadata": {
    "vscode": {
     "languageId": "javascript"
    }
   },
   "outputs": [
    {
     "name": "stdout",
     "output_type": "stream",
     "text": [
      "Personnel ID: 1 | Personnel Name: Emin | Personnel's New Salary: 6000$\n",
      "Personnel ID: 2 | Personnel Name: Murat | Personnel's New Salary: 7000$\n",
      "Personnel ID: 3 | Personnel Name: Sinan | Personnel's New Salary: 8000$\n",
      "Personnel ID: 4 | Personnel Name: Barçın | Personnel's New Salary: 9000$\n"
     ]
    }
   ],
   "source": [
    "%%script node\n",
    "\n",
    "const personal = new Map([\n",
    "  [1, { name: \"Emin\", lastName: \"Altan\", salary: 5000 }],\n",
    "  [2, { name: \"Murat\", lastName: \"Taş\", salary: 6000 }],\n",
    "  [3, { name: \"Sinan\", lastName: \"Can\", salary: 7000 }],\n",
    "  [4, { name: \"Barçın\", lastName: \"Aktaş\", salary: 8000 }]\n",
    "]);\n",
    "\n",
    "personal.forEach((value, key) => {\n",
    "  console.log(`Personnel ID: ${key} | Personnel Name: ${value.name} | Personnel's New Salary: ${value.salary + 1000}$`);\n",
    "});\n",
    "\n"
   ]
  },
  {
   "cell_type": "markdown",
   "metadata": {},
   "source": [
    "In the example above, we created a Map named `personal`. We created the values of the Map elements in the form of objects. Using the `forEach()` method, we access the `salary` key of each employee and print the new salary, increased by 1000, along with the personnel details to the console."
   ]
  },
  {
   "cell_type": "markdown",
   "metadata": {},
   "source": [
    "### <a id='toc1_2_6_'></a>[`entries()` Method](#toc0_)\n",
    "\n",
    "Creates an iterable variable for the elements in a Map. Typically used to iterate through elements with constructs like `for...of`.\n",
    "\n",
    "**Example**"
   ]
  },
  {
   "cell_type": "code",
   "execution_count": 31,
   "metadata": {
    "vscode": {
     "languageId": "javascript"
    }
   },
   "outputs": [
    {
     "name": "stdout",
     "output_type": "stream",
     "text": [
      "Personel ID's: 1\n",
      "Name of Personel: Emin\n",
      "Personel ID's: 2\n",
      "Name of Personel: Murat\n",
      "Personel ID's: 3\n",
      "Name of Personel: Hasan\n",
      "Personel ID's: 4\n",
      "Name of Personel: Barçın\n"
     ]
    }
   ],
   "source": [
    "%%script node\n",
    "\n",
    "const personal = new Map([\n",
    "    [1, \"Emin\"],\n",
    "    [2, \"Murat\"],\n",
    "    [3, \"Hasan\"],\n",
    "    [4, \"Barçın\"]\n",
    "]);\n",
    "\n",
    "for (const iterator of personal.entries()) {\n",
    "    console.log(`Personel ID's: ${iterator[0]}`);\n",
    "    console.log(`Name of Personel: ${iterator[1]}`);\n",
    "}\n"
   ]
  },
  {
   "cell_type": "markdown",
   "metadata": {},
   "source": [
    "In the example above, using the `entries()` method, we copied the elements in the `personal` variable to the `iterator` variable.\n",
    "\n",
    "1. With the expression `iterator[0]`, we accessed the key part in the key-value pair stored in the `iterator` variable and printed the current stored value to the console.\n",
    "\n",
    "2. With the expression `iterator[1]`, we accessed the value part in the key-value pair stored in the `iterator` variable and printed the current stored value to the console.\n"
   ]
  },
  {
   "cell_type": "markdown",
   "metadata": {},
   "source": [
    "## <a id='toc1_3_'></a>[Summary](#toc0_)\n",
    "\n",
    "The concept of Map in JavaScript is a powerful data structure that allows us to store key-value pairs. This feature provides a more flexible way of storing and processing data, offering advantages distinct from objects.\n",
    "\n",
    "Maps differ from objects with features such as the ordering of elements, iterability, and being based on value equality. These characteristics contribute to more effective and reliable data management in specific situations.\n",
    "\n",
    "Map methods include functionality like adding and deleting elements, checking for their presence, and automatically applying a specific operation for each element. These methods contribute to cleaner, more readable, and performance-oriented code.\n",
    "\n",
    "The usage of Map in JavaScript is particularly beneficial when dealing with scenarios where multiple values need to be stored, and easy access to these values is necessary. Using Maps for data structures such as student lists or employee information can make our code more organized and efficient.\n",
    "\n",
    "In conclusion, the Map concept in JavaScript provides a powerful and flexible data structure, simplifying data management in more complex applications and offering advantages to developers.\n"
   ]
  }
 ],
 "metadata": {
  "kernelspec": {
   "display_name": "Python 3",
   "language": "python",
   "name": "python3"
  },
  "language_info": {
   "codemirror_mode": {
    "name": "ipython",
    "version": 3
   },
   "file_extension": ".py",
   "mimetype": "text/x-python",
   "name": "python",
   "nbconvert_exporter": "python",
   "pygments_lexer": "ipython3",
   "version": "3.10.12"
  }
 },
 "nbformat": 4,
 "nbformat_minor": 2
}
