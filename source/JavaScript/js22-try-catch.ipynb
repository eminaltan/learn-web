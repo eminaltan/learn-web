{
 "cells": [
  {
   "cell_type": "markdown",
   "metadata": {},
   "source": [
    "# JavaScript Error Handling<a id='toc0_'></a>\n",
    "\n",
    "In this part of the series, we will explore the **Error Handling** concept in JavaScript, focusing on the `try`, `catch`, `throw`, and `finally` keywords.\n",
    "\n",
    "In this article, we'll cover:\n",
    "\n",
    "- [Concept of JavaScript Error Handling](#toc1_1_)\n",
    "- [`try` and `catch` Keywords](#toc1_2_)\n",
    "  - [JavaScript `Error` Object and Properties](#toc1_2_1_)\n",
    "    - [`RangeError`](#toc1_2_1_1_)\n",
    "    - [`ReferenceError`](#toc1_2_1_2_)\n",
    "    - [`SyntaxError`](#toc1_2_1_3_)\n",
    "    - [`TypeError`](#toc1_2_1_4_)\n",
    "    - [`URIError`](#toc1_2_1_5_)\n",
    "- [`throw` Keyword](#toc1_3_)\n",
    "- [`finally` Keyword](#toc1_4_)\n",
    "- [Summary](#toc1_5_)\n",
    "\n",
    "I hope you enjoy reading.\n",
    "\n",
    "Yazının Türkçe versiyonu için [linke](tr-js22-try-catch.ipynb) tıklayabilirsiniz.\n",
    "\n",
    "<!-- vscode-jupyter-toc-config\n",
    "\tnumbering=false\n",
    "\tanchor=true\n",
    "\tflat=false\n",
    "\tminLevel=1\n",
    "\tmaxLevel=6\n",
    "\t/vscode-jupyter-toc-config -->\n",
    "<!-- THIS CELL WILL BE REPLACED ON TOC UPDATE. DO NOT WRITE YOUR TEXT IN THIS CELL -->\n"
   ]
  },
  {
   "cell_type": "markdown",
   "metadata": {},
   "source": [
    "## <a id='toc1_1_'></a>[Concept of JavaScript Error Handling](#toc0_)\n",
    "\n",
    "The term \"error handling\" in JavaScript refers to the process of identifying, handling, and managing errors that occur during the execution of a program. Errors arise when an application encounters unexpected situations, including user input errors, network connection issues, or file not found scenarios.\n",
    "\n",
    "Error handling enables meaningful error messages to be displayed to users, aiding them in better understanding the encountered issues.\n",
    "\n",
    "In JavaScript, error handling is typically implemented using the `try`, `catch`, `finally`, and `throw` keywords.\n",
    "\n",
    "Now, let's delve into these keywords.\n"
   ]
  },
  {
   "cell_type": "markdown",
   "metadata": {},
   "source": [
    "## <a id='toc1_2_'></a>[`try` and `catch` Keywords](#toc0_)\n",
    "\n",
    "The `try` and `catch` keywords are used together friends. If we want to execute or control to code we write the code in `try` block. As long as the program doesn't encounter any issues, the code within the `try` block will run.\n",
    "\n",
    "The `catch` block, on the other hand, contains the code to be executed in case of an error. Typically, the content of this block provides information to the user about the error message.\n",
    "\n",
    "**Example**\n"
   ]
  },
  {
   "cell_type": "code",
   "execution_count": 20,
   "metadata": {
    "vscode": {
     "languageId": "javascript"
    }
   },
   "outputs": [
    {
     "name": "stdout",
     "output_type": "stream",
     "text": [
      "Result: 1\n"
     ]
    }
   ],
   "source": [
    "%%script node\n",
    "\n",
    "try {\n",
    "    let num = 0;\n",
    "    num = num + 1;\n",
    "    console.log(`Result: ${num}`);\n",
    "}\n",
    "\n",
    "catch (error) {\n",
    "    console.log(error);\n",
    "}\n"
   ]
  },
  {
   "cell_type": "markdown",
   "metadata": {},
   "source": [
    "Above, we see an example of a `try-catch` block. If there is no error, the code inside the `try` block will be executed.\n",
    "\n",
    "If an error occurs within the code in the `try` block, the execution of the `try` block will be halted, and the code inside the `catch` block will be initiated. At the end of the process, an error message will be presented to the user.\n",
    "\n",
    "**Örnek**\n",
    "\n",
    "```javascript\n",
    "try {\n",
    "  let num = 0;\n",
    "\n",
    "  // Since we didn't define the x variable, we will receive the \"ReferenceError: x is not defined\" error message.\n",
    "  num = num + x;\n",
    "  console.log(`Result: ${num}`);\n",
    "}\n",
    "\n",
    "catch (error) {\n",
    "  console.log(error);\n",
    "}\n",
    "```\n",
    "\n",
    "As seen above, the variable `x` was **not defined** in the program, yet we still used the `x` variable within the `num = num + x` expression. In this case, JavaScript will terminate the execution of the code inside the `try` block, initiate the code inside the `catch` block, and log the \"ReferenceError: x is not defined\" message to the console."
   ]
  },
  {
   "cell_type": "markdown",
   "metadata": {},
   "source": [
    "### <a id='toc1_2_1_'></a>[JavaScript `Error` Object and Properties](#toc0_)\n",
    "\n",
    "In JavaScript, predefined error messages are defined within the `Error` object. In the previous example, the predefined error message `ReferenceError` was used to create an error. Alongside `ReferenceError`, JavaScript has 6 more predefined error values.\n",
    "\n",
    "Let's list them:\n",
    "\n",
    "| **Error Name**   | **Description**                                                 |\n",
    "| ---------------- | --------------------------------------------------------------- |\n",
    "| `EvalError`      | Represents an error regarding a function.                       |\n",
    "| `RangeError`     | Indicates that a numeric value is outside the valid range.      |\n",
    "| `ReferenceError` | Represents an error when a non-existent variable is referenced. |\n",
    "| `SyntaxError`    | Indicates a syntax error in the code.                           |\n",
    "| `TypeError`      | Represents an error when a value is not of the expected type.   |\n",
    "| `URIError`       | Used to indicate that a URI is malformed.                       |\n",
    "\n",
    "**❗ `EvalError` is deprecated and not commonly used in modern JavaScript. Therefore, I'm skipping the explanation of `EvalError`.**\n"
   ]
  },
  {
   "cell_type": "markdown",
   "metadata": {},
   "source": [
    "#### <a id='toc1_2_1_1_'></a>[`RangeError`](#toc0_)\n",
    "\n",
    "`RangeError` indicates that a numeric value is outside the valid range.\n",
    "\n",
    "**Example**"
   ]
  },
  {
   "cell_type": "code",
   "execution_count": 21,
   "metadata": {
    "vscode": {
     "languageId": "javascript"
    }
   },
   "outputs": [
    {
     "name": "stdout",
     "output_type": "stream",
     "text": [
      "RangeError\n"
     ]
    }
   ],
   "source": [
    "%%script node\n",
    "\n",
    "let num = 1;\n",
    "\n",
    "try {\n",
    "  // Attempting to format the num variable with a precision of 500 digits will result in a RangeError.\n",
    "  num.toPrecision(500);\n",
    "}\n",
    "\n",
    "catch (error) {\n",
    "  console.log(error.name);\n",
    "}"
   ]
  },
  {
   "cell_type": "markdown",
   "metadata": {},
   "source": [
    "#### <a id='toc1_2_1_2_'></a>[`ReferenceError`](#toc0_)\n",
    "\n",
    "`ReferenceError` indicates situations where a variable reference is not valid.\n",
    "\n",
    "**Example**"
   ]
  },
  {
   "cell_type": "code",
   "execution_count": 22,
   "metadata": {
    "vscode": {
     "languageId": "javascript"
    }
   },
   "outputs": [
    {
     "name": "stdout",
     "output_type": "stream",
     "text": [
      "ReferenceError\n"
     ]
    }
   ],
   "source": [
    "%%script node\n",
    "\n",
    "try {\n",
    "  let num = 0;\n",
    "\n",
    "  // Since we didn't define the x variable, we will receive the ReferenceError message.\n",
    "  num = num + x;\n",
    "  console.log(`Result: ${num}`);\n",
    "}\n",
    "\n",
    "catch (error) {\n",
    "  console.log(error.name);\n",
    "}\n"
   ]
  },
  {
   "cell_type": "markdown",
   "metadata": {},
   "source": [
    "#### <a id='toc1_2_1_3_'></a>[`SyntaxError`](#toc0_)\n",
    "\n",
    "`SyntaxError` occurs when there is a syntax error in the code.\n",
    "\n",
    "**Example**"
   ]
  },
  {
   "cell_type": "code",
   "execution_count": 23,
   "metadata": {
    "vscode": {
     "languageId": "javascript"
    }
   },
   "outputs": [
    {
     "name": "stdout",
     "output_type": "stream",
     "text": [
      "SyntaxError\n"
     ]
    }
   ],
   "source": [
    "%%script node\n",
    "\n",
    "try {\n",
    "  // Using an invalid argument inside the eval method will result in a SyntaxError.\n",
    "  let invalidCode = eval(\"2 +\");\n",
    "}\n",
    "\n",
    "catch (error) {\n",
    "  console.log(error.name);\n",
    "}"
   ]
  },
  {
   "cell_type": "markdown",
   "metadata": {},
   "source": [
    "#### <a id='toc1_2_1_4_'></a>[`TypeError`](#toc0_)\n",
    "\n",
    "`TypeError` occurs when an expression used for a variable is not of the expected type.\n",
    "\n",
    "**Example**"
   ]
  },
  {
   "cell_type": "code",
   "execution_count": 24,
   "metadata": {
    "vscode": {
     "languageId": "javascript"
    }
   },
   "outputs": [
    {
     "name": "stdout",
     "output_type": "stream",
     "text": [
      "TypeError\n"
     ]
    }
   ],
   "source": [
    "%%script node\n",
    "\n",
    "let num = 1;\n",
    "\n",
    "try {\n",
    "  // Using the toUpperCase() method on the num variable will result in a TypeError.\n",
    "  num.toUpperCase();\n",
    "}\n",
    "\n",
    "catch (error) {\n",
    "  console.log(error.name);\n",
    "}\n"
   ]
  },
  {
   "cell_type": "markdown",
   "metadata": {},
   "source": [
    "#### <a id='toc1_2_1_5_'></a>[`URIError`](#toc0_)\n",
    "\n",
    "`URIError` occurs when there are illegal characters in a URL.\n",
    "\n",
    "**Example**\n"
   ]
  },
  {
   "cell_type": "code",
   "execution_count": 25,
   "metadata": {
    "vscode": {
     "languageId": "javascript"
    }
   },
   "outputs": [
    {
     "name": "stdout",
     "output_type": "stream",
     "text": [
      "URIError\n"
     ]
    }
   ],
   "source": [
    "%%script node\n",
    "\n",
    "try {\n",
    "    // Using invalid characters in the URL will result in a URIError.\n",
    "    decodeURI(\"%%%\");\n",
    "}\n",
    "\n",
    "catch (error) {\n",
    "    console.log(error.name);\n",
    "}"
   ]
  },
  {
   "cell_type": "markdown",
   "metadata": {},
   "source": [
    "Above the `Error` object, there are some properties determined by Mozilla and Microsoft.\n",
    "\n",
    "**These are:**\n",
    "\n",
    "- `fileName` (Mozilla)\n",
    "\n",
    "- `lineNumber` (Mozilla)\n",
    "\n",
    "- `columnNumber` (Mozilla)\n",
    "\n",
    "- `stack` (Mozilla)\n",
    "\n",
    "- `description` (Microsoft)\n",
    "\n",
    "- `number` (Microsoft)\n",
    "\n",
    "**❗ It is not recommended to use these properties because they lack cross-browser support and may not work in every browser.**\n"
   ]
  },
  {
   "cell_type": "markdown",
   "metadata": {},
   "source": [
    "## <a id='toc1_3_'></a>[`throw` Keyword](#toc0_)\n",
    "\n",
    "So far, we have examined the properties of the predefined `Error` object in JavaScript. To make error messages more meaningful, developers may want to create custom error messages using the `throw` keyword.\n",
    "\n",
    "**Example**"
   ]
  },
  {
   "cell_type": "code",
   "execution_count": 26,
   "metadata": {
    "vscode": {
     "languageId": "javascript"
    }
   },
   "outputs": [
    {
     "name": "stdout",
     "output_type": "stream",
     "text": [
      "The value of x is not defined.\n"
     ]
    }
   ],
   "source": [
    "%%script node\n",
    "\n",
    "let x;\n",
    "\n",
    "try {\n",
    "    // Using the throw keyword to create a developer-defined error message.\n",
    "   if(x === undefined) throw \"The value of x is not defined.\";\n",
    "}\n",
    "\n",
    "catch (error) {\n",
    "    console.log(error);\n",
    "}\n"
   ]
  },
  {
   "cell_type": "markdown",
   "metadata": {},
   "source": [
    "In the above example, we defined a variable `x` with the data type `undefined` using the `let x` statement. In the `try` block, we used an `if` statement to check the data type of the `x` variable. If the data type of the `x` variable is `undefined`, we used the `throw` keyword to create a developer-defined error message. We passed the created error message to the `catch` block's `error` parameter and printed the result to the console.\n",
    "\n",
    "Technically, this process is called **throwing an error** or **throwing an exception**.\n"
   ]
  },
  {
   "cell_type": "markdown",
   "metadata": {},
   "source": [
    "## <a id='toc1_4_'></a>[`finally` Keyword](#toc0_)\n",
    "\n",
    "The `finally` keyword allows our program to return an additional result independent of the `try-catch` block. Typically, operations like releasing or cleaning up resources are performed in this block.\n",
    "\n",
    "For example, using the `try-catch` block, we can provide the user with an error message if a form is incorrectly filled out. The `finally` keyword can then be used to clean up and make the content of the relevant form element ready for reuse.\n",
    "\n",
    "**Example**\n",
    "\n",
    "```html\n",
    "<!DOCTYPE html>\n",
    "<html lang=\"en\">\n",
    "  <head>\n",
    "    <meta charset=\"UTF-8\" />\n",
    "    <meta\n",
    "      name=\"viewport\"\n",
    "      content=\"width=device-width, initial-scale=1.0\"\n",
    "    />\n",
    "    <link\n",
    "      rel=\"stylesheet\"\n",
    "      href=\"test.css\"\n",
    "    />\n",
    "    <title>try-catch-finally keywords of JavaScript Kitchen</title>\n",
    "\n",
    "    <style>\n",
    "      body {\n",
    "        font-family: Arial, sans-serif;\n",
    "      }\n",
    "\n",
    "      form {\n",
    "        width: 300px;\n",
    "        margin: 20px;\n",
    "      }\n",
    "\n",
    "      label {\n",
    "        display: block;\n",
    "        margin-bottom: 5px;\n",
    "      }\n",
    "\n",
    "      input {\n",
    "        width: 100%;\n",
    "        padding: 5px;\n",
    "        margin-bottom: 10px;\n",
    "      }\n",
    "\n",
    "      button {\n",
    "        padding: 8px;\n",
    "        background-color: #4caf50;\n",
    "        color: #fff;\n",
    "        border: none;\n",
    "        cursor: pointer;\n",
    "      }\n",
    "    </style>\n",
    "  </head>\n",
    "  <body>\n",
    "    <label for=\"inputField\">Enter Your Text:</label>\n",
    "    <input\n",
    "      type=\"text\"\n",
    "      id=\"js-inputField\"\n",
    "      name=\"js-inputField\"\n",
    "      required\n",
    "    />\n",
    "\n",
    "    <button id=\"js-button\">Send</button>\n",
    "\n",
    "    <p id=\"js-message\"></p>\n",
    "    <script>\n",
    "      const jsInputField = document.getElementById(\"js-inputField\");\n",
    "      const jsButton = document.getElementById(\"js-button\");\n",
    "      const jsMessage = document.getElementById(\"js-message\");\n",
    "\n",
    "      jsButton.addEventListener(\"click\", () => {\n",
    "        try {\n",
    "          if (jsInputField.value.includes(\"pen\")) {\n",
    "            jsMessage.innerHTML = \"'pen' string found in entered text.\";\n",
    "          } else {\n",
    "            throw \"Can't find a 'pen' string in the entered text.\";\n",
    "          }\n",
    "        } catch (error) {\n",
    "          jsMessage.innerHTML = error;\n",
    "        } finally {\n",
    "          // Delete the finally block and observe the state of the text field in the form.\n",
    "          jsInputField.value = \"\";\n",
    "        }\n",
    "      });\n",
    "    </script>\n",
    "  </body>\n",
    "</html>\n",
    "```\n",
    "\n",
    "Copy the above code into an empty HTML page. Fill out the form separately for text containing and not containing the \"pen\" expression, then click the \"Send\" button to observe the form content.\n",
    "\n",
    "Perform the same action by removing the `finally` block and observe the difference.\n",
    "\n",
    "**🖱️ You can access the working example by clicking [here](https://codepen.io/eminaltan/pen/vYPKWjQ).**\n"
   ]
  },
  {
   "cell_type": "markdown",
   "metadata": {},
   "source": [
    "## <a id='toc1_5_'></a>[Summary](#toc0_)\n",
    "\n",
    "In JavaScript, **error handling** is an important concept for controlling and providing meaningful feedback to users about possible errors that may occur during the program's execution. The process involves using the `try`, `catch`, `finally`, and `throw` keywords.\n",
    "\n",
    "- Code within the `try` block runs normally regardless of whether an error occurs.\n",
    "\n",
    "- The `catch` block executes when an error occurs within the `try` block, handling the error. Operations are performed here to display a meaningful error message to the user.\n",
    "\n",
    "- The `finally` block runs independently of the `try-catch` block in all situations. Typically, operations like releasing or cleaning up resources occur in this block.\n",
    "\n",
    "Developers also have the ability to create their custom error messages using the `throw` keyword. This is useful, especially for controlling the flow of the program and customizing error messages under specific conditions.\n",
    "\n",
    "Commonly encountered error types in JavaScript include `RangeError`, `ReferenceError`, `SyntaxError`, `TypeError`, and `URIError`. Each represents different situations and provides developers with the ability to perform specific actions based on the type of error.\n",
    "\n",
    "**In conclusion**, error handling is a crucial practice to enhance the reliability of a JavaScript application and improve the user experience. A robust error handling strategy minimizes the impact of errors and provides users with meaningful feedback.\n"
   ]
  }
 ],
 "metadata": {
  "kernelspec": {
   "display_name": "Python 3",
   "language": "python",
   "name": "python3"
  },
  "language_info": {
   "codemirror_mode": {
    "name": "ipython",
    "version": 3
   },
   "file_extension": ".py",
   "mimetype": "text/x-python",
   "name": "python",
   "nbconvert_exporter": "python",
   "pygments_lexer": "ipython3",
   "version": "3.10.12"
  }
 },
 "nbformat": 4,
 "nbformat_minor": 2
}
