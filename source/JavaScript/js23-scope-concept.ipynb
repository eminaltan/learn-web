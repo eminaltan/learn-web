{
 "cells": [
  {
   "cell_type": "markdown",
   "metadata": {},
   "source": [
    "# JavaScript Scope<a id='toc0_'></a>\n",
    "\n",
    "Hello friends, in this part of the series, we will explore the concept of **_scope_** in JavaScript.\n",
    "\n",
    "In this article, we'll cover:\n",
    "\n",
    "- [JavaScript Scope Concept](#toc1_1_)\n",
    "  - [Block Scope](#toc1_1_1_)\n",
    "  - [Function Scope](#toc1_1_2_)\n",
    "  - [Global Scope](#toc1_1_3_)\n",
    "- [Local Scope](#toc1_2_)\n",
    "- [Summary](#toc1_3_)\n",
    "\n",
    "I hope you enjoy reading.\n",
    "\n",
    "Yazının Türkçe versiyonu için [linke](tr-js23-scope-concept.ipynb) tıklayabilirsiniz.\n",
    "\n",
    "<!-- vscode-jupyter-toc-config\n",
    "\tnumbering=false\n",
    "\tanchor=true\n",
    "\tflat=false\n",
    "\tminLevel=1\n",
    "\tmaxLevel=6\n",
    "\t/vscode-jupyter-toc-config -->\n",
    "<!-- THIS CELL WILL BE REPLACED ON TOC UPDATE. DO NOT WRITE YOUR TEXT IN THIS CELL -->\n"
   ]
  },
  {
   "cell_type": "markdown",
   "metadata": {},
   "source": [
    "## <a id='toc1_1_'></a>[JavaScript Scope Concept](#toc0_)\n",
    "\n",
    "In JavaScript, the **_scope_** concept refers to the area where a variable is defined and can be accessed. This area can consist of a loop, condition, or method.\n",
    "\n",
    "A scope is created within `{}` curly braces.\n",
    "\n",
    "**Example**\n",
    "\n",
    "```javascript\n",
    "const x = 5;\n",
    "\n",
    "if (x == 5) {\n",
    "  // This area represents the scope in the if condition.\n",
    "}\n",
    "\n",
    "for (let i = 0; i < x; i++) {\n",
    "  // This area represents the scope in the for loop.\n",
    "}\n",
    "\n",
    "function myFunction() {\n",
    "  // This area represents the scope in the myFunction() function.\n",
    "  console.log(x);\n",
    "}\n",
    "```\n",
    "\n",
    "**In JavaScript, there are 3 types of scopes:**\n",
    "\n",
    "- Block scope\n",
    "\n",
    "- Function scope\n",
    "\n",
    "- Global Scope\n",
    "\n",
    "Now, let's examine these scope types.\n"
   ]
  },
  {
   "cell_type": "markdown",
   "metadata": {},
   "source": [
    "### <a id='toc1_1_1_'></a>[Block Scope](#toc0_)\n",
    "\n",
    "Before 2015 (ES6), JavaScript had two types of scope concepts: **_global scope_** and **_function scope_**. With ES6, the `let` and `const` keywords were integrated into JavaScript. **A variable created using these keywords cannot be accessed or used outside of its scope.** This statement creates the concept of **_block scope_**.\n",
    "\n",
    "**❗Block scopes are also characterized as local scopes. This means that when JavaScript starts executing code within a block scope, variables within that block scope are defined in memory, and when JavaScript concludes the execution within the block scope, the variables within that block scope are removed from memory.**\n",
    "\n",
    "**Example**"
   ]
  },
  {
   "cell_type": "code",
   "execution_count": 1,
   "metadata": {
    "vscode": {
     "languageId": "javascript"
    }
   },
   "outputs": [
    {
     "name": "stdout",
     "output_type": "stream",
     "text": [
      "The value of the studentName variable: Betül\n"
     ]
    }
   ],
   "source": [
    "%%script node\n",
    "\n",
    "{\n",
    "    /** \n",
    "     * Enclosed within curly braces {}, this represents a block scope in JavaScript. Any variable declared with \n",
    "     * const or let within this scope will have block scope characteristics.\n",
    "     */\n",
    "    const studentName = \"Betül\";\n",
    "\n",
    "    console.log(`The value of the studentName variable: ${studentName}`);\n",
    "}\n"
   ]
  },
  {
   "cell_type": "markdown",
   "metadata": {},
   "source": [
    "In the example above, `studentName` possesses block scope characteristics. This variable can be accessed and used within its scope. In the example, we print the value stored in the `studentName` variable within the local scope.\n",
    "\n",
    "If we attempt to access the variable from outside its scope, we encounter an error.\n",
    "\n",
    "**Example**\n"
   ]
  },
  {
   "cell_type": "code",
   "execution_count": 3,
   "metadata": {
    "vscode": {
     "languageId": "javascript"
    }
   },
   "outputs": [
    {
     "name": "stdout",
     "output_type": "stream",
     "text": [
      "ReferenceError: studentName is not defined\n"
     ]
    }
   ],
   "source": [
    "%%script node\n",
    "\n",
    "{\n",
    "    const studentName = \"Betül\";\n",
    "}\n",
    "\n",
    "try {\n",
    "    /** \n",
    "     * We are trying to access and use the studentName variable from outside block scope. Since we cannot access \n",
    "     * it, the catch mechanism will be triggered, and an error message will be printed to the console.\n",
    "     */\n",
    "    console.log(`The value of the studentName variable: ${studentName}`);\n",
    "} catch (error) {\n",
    "    console.log(error.name + \": \" + error.message);\n",
    "}\n"
   ]
  },
  {
   "cell_type": "markdown",
   "metadata": {},
   "source": [
    "In the example above, we attempted to access and use the `studentName` variable from outside its scope. In this case, JavaScript will assume that the `studentName` variable is not defined and will return the \"ReferenceError: studentName is not defined\" error message.\n",
    "\n",
    "**💡 Block scopes allow us to store different types of data under the same variable name within different scopes.**\n",
    "\n",
    "**Example**"
   ]
  },
  {
   "cell_type": "code",
   "execution_count": 5,
   "metadata": {
    "vscode": {
     "languageId": "javascript"
    }
   },
   "outputs": [
    {
     "name": "stdout",
     "output_type": "stream",
     "text": [
      "Value of x variable: Şenay\n",
      "Value of x variable: 279\n"
     ]
    }
   ],
   "source": [
    "%%script node\n",
    "\n",
    "{\n",
    "    // 1st.scope\n",
    "    const x = \"Şenay\";\n",
    "    console.log(`Value of x variable: ${x}`);\n",
    "}\n",
    "\n",
    "{\n",
    "    // 2nd.scope\n",
    "    const x = \"279\";\n",
    "    console.log(`Value of x variable: ${x}`);\n",
    "}\n"
   ]
  },
  {
   "cell_type": "markdown",
   "metadata": {},
   "source": [
    "As seen above, the content of the `x` variable in 1st is different from the content of the `x` variable in 2nd. scope.\n"
   ]
  },
  {
   "cell_type": "markdown",
   "metadata": {},
   "source": [
    "### <a id='toc1_1_2_'></a>[Function Scope](#toc0_)\n",
    "\n",
    "In JavaScript, we can define a variable within a function. In this case, the variable is only valid within the function where it is defined, meaning we cannot access it from outside the function.\n",
    "\n",
    "**❗ Function scopes are also characterized as local scopes. This means that when JavaScript starts executing code within a function scope, variables within that function scope are defined in memory, and when JavaScript concludes the execution within the function scope, the variables within that function scope are removed from memory.**\n",
    "\n",
    "**⚠️ Normally, a variable declared using the `var` keyword has global scope characteristics. However, if a variable is declared within a function using the `var` keyword, it will have function scope characteristics, and it cannot be accessed from outside the function.**\n",
    "\n",
    "**Example**"
   ]
  },
  {
   "cell_type": "code",
   "execution_count": 6,
   "metadata": {
    "vscode": {
     "languageId": "javascript"
    }
   },
   "outputs": [
    {
     "name": "stdout",
     "output_type": "stream",
     "text": [
      "The value of the studentName variable: Şenay\n"
     ]
    }
   ],
   "source": [
    "%%script node\n",
    "\n",
    "function myFunction() {\n",
    "    var studentName = \"Şenay\";\n",
    "    \n",
    "    console.log(`The value of the studentName variable: ${studentName}`);\n",
    "}\n",
    "\n",
    "myFunction();\n"
   ]
  },
  {
   "cell_type": "markdown",
   "metadata": {},
   "source": [
    "In the example above, despite being declared using the `var` keyword, `studentName` possesses function scope characteristics. This means that attempting to access the `studentName` variable from outside the `myFunction()` will result in an error.\n",
    "\n",
    "**Example**"
   ]
  },
  {
   "cell_type": "code",
   "execution_count": 7,
   "metadata": {
    "vscode": {
     "languageId": "javascript"
    }
   },
   "outputs": [
    {
     "name": "stdout",
     "output_type": "stream",
     "text": [
      "ReferenceError: studentName is not defined\n"
     ]
    }
   ],
   "source": [
    "%%script node\n",
    "\n",
    "function myFunction() {\n",
    "    var studentName = \"Şenay\";\n",
    "}\n",
    "\n",
    "try {\n",
    "    // Trying to access the 'studentName' variable outside the function will result in an error.\n",
    "    console.log(`The value of the studentName variable: ${studentName}`);\n",
    "} catch (error) {\n",
    "    console.log(error.name + \": \" + error.message);\n",
    "}\n"
   ]
  },
  {
   "cell_type": "markdown",
   "metadata": {},
   "source": [
    "As seen above, when attempting to access the `studentName` variable from outside the `myFunction()`, we received the error message \"ReferenceError: studentName is not defined.\"\n",
    "\n",
    "The distinction between function scope and block scope is related to the usage of the `var` keyword. In function scope, a variable declared with the `var` keyword cannot be accessed from outside its scope, while in block scope, a variable declared with the `var` keyword can be accessed from outside its scope.\n",
    "\n",
    "**Example**\n",
    "\n",
    "```javascript\n",
    "{\n",
    "  // Block scope\n",
    "  var carName = \"Volvo\";\n",
    "}\n",
    "\n",
    "function myFunction() {\n",
    "  // Function scope\n",
    "  var carModel = \"S70\";\n",
    "}\n",
    "\n",
    "// ✔️ Since carName has block scope characteristics, it can be accessed from outside its scope.\n",
    "console.log(`Car brand: ${carName}`);\n",
    "\n",
    "// ❌ Since carModel has function scope characteristics, it cannot be accessed from outside its scope.\n",
    "console.log(`Car model: ${carModel}`);\n",
    "```\n",
    "\n",
    "In the example above, variables are declared using the `var` keyword. `carName` can be accessed from outside its scope, while `carModel` cannot.\n",
    "\n",
    "**⚠️ If a variable is declared within a function scope using the `var`, `let`, or `const` keywords, it becomes inaccessible from outside its scope.**\n",
    "\n",
    "**Example**\n",
    "\n",
    "```javascript\n",
    "function myFunction() {\n",
    "  var carName = \"Volvo\"; // Function Scope\n",
    "}\n",
    "\n",
    "function myFunction() {\n",
    "  let carName = \"Volvo\"; // Function Scope\n",
    "}\n",
    "\n",
    "function myFunction() {\n",
    "  const carName = \"Volvo\"; // Function Scope\n",
    "}\n",
    "```\n",
    "\n",
    "**⚠️ The parameters of a function have function scope.**\n",
    "\n",
    "**Example**\n",
    "\n",
    "```javascript\n",
    "// The variables param1 and param2 defined within myFunction() have function scope.\n",
    "function myFunction(param1, param2) {\n",
    "  console.log(`Value of param1 = ${param1}`);\n",
    "  console.log(`Value of param2 = ${param2}`);\n",
    "}\n",
    "```\n"
   ]
  },
  {
   "cell_type": "markdown",
   "metadata": {},
   "source": [
    "### <a id='toc1_1_3_'></a>[Global Scope](#toc0_)\n",
    "\n",
    "When a variable is defined outside of a function, it gains the property of being a global variable. The scope where the variable is located is referred to as the global scope. We can access a variable of this type from anywhere within the program.\n",
    "\n",
    "**A variable, when defined using the `var` keyword outside of a function scope**, gains the property of being a global variable.\n",
    "\n",
    "**Example**\n"
   ]
  },
  {
   "cell_type": "code",
   "execution_count": 8,
   "metadata": {
    "vscode": {
     "languageId": "javascript"
    }
   },
   "outputs": [
    {
     "name": "stdout",
     "output_type": "stream",
     "text": [
      "The value of the studentName variable: Şenay\n"
     ]
    }
   ],
   "source": [
    "%%script node\n",
    "\n",
    "{\n",
    "   var studentName = \"Şenay\";\n",
    "}\n",
    "\n",
    "console.log(`The value of the studentName variable: ${studentName}`);\n"
   ]
  },
  {
   "cell_type": "markdown",
   "metadata": {},
   "source": [
    "In the example above, `studentName` possesses global variable characteristics due to being declared using the `var` keyword. The scope where this variable is located is considered the global scope. **If we had declared the same variable within a function, it would have demonstrated function scope characteristics, making it a local scope variable.**\n",
    "\n",
    "When a variable is defined using `let` or `const` keywords with the encapsulation method, it exhibits global variable characteristics within its scope.\n",
    "\n",
    "**Example**\n"
   ]
  },
  {
   "cell_type": "code",
   "execution_count": 9,
   "metadata": {
    "vscode": {
     "languageId": "javascript"
    }
   },
   "outputs": [
    {
     "name": "stdout",
     "output_type": "stream",
     "text": [
      "The value of the studentName variable: Şenay\n"
     ]
    }
   ],
   "source": [
    "%%script node\n",
    "\n",
    "{\n",
    "    // Main scope\n",
    "    const studentName = \"Şenay\";\n",
    "    \n",
    "    {\n",
    "        // Sub-scope\n",
    "        console.log(`The value of the studentName variable: ${studentName}`);\n",
    "    }\n",
    "}\n",
    "\n",
    "/**\n",
    " * We cannot access the studentName variable from here. We would encounter a ReferenceError: studentName is not \n",
    " * defined. Uncomment the console.log part and observe the result.\n",
    " */\n",
    "// console.log(`The value of the studentName variable: ${studentName}`);\n"
   ]
  },
  {
   "cell_type": "markdown",
   "metadata": {},
   "source": [
    "As observed above, the `studentName` variable is declared in the main scope. In this case, the `studentName` variable will gain global variable characteristics for the nested scope(s), making it accessible from within those scopes. However, when attempting to access the same variable from an outer scope, an error message will be encountered.\n",
    "\n",
    "**💡 A variable created using the `var` keyword will be associated with the window object in HTML. Nevertheless, a globally-scoped variable created using the encapsulation method with `let` or `const` keywords will not be associated with the window object. This is because the use of `let` and `const` keywords is not defined in the window object.**\n",
    "\n",
    "**Example**\n",
    "\n",
    "```javascript\n",
    "var carName = \"Volvo\";\n",
    "\n",
    "// To access the carName variable, the syntax window.carName can be used.\n",
    "document.getElementById(\"demo\").innerHTML = \"I can display \" + window.carName;\n",
    "```\n",
    "\n",
    "If the `carName` variable had been defined using either the `let` or `const` keywords, attempting to access it would result in an `undefined` error.\n",
    "\n",
    "**Example**\n",
    "\n",
    "```javascript\n",
    "let carName = \"Volvo\";\n",
    "\n",
    "/**\n",
    " * We cannot use the window.carName syntax to access the carName variable. This is because the let keyword is not\n",
    " * defined in the window object.\n",
    " */\n",
    "document.getElementById(\"demo\").innerHTML =\n",
    "  \"I can not display \" + window.carName;\n",
    "```\n"
   ]
  },
  {
   "cell_type": "markdown",
   "metadata": {},
   "source": [
    "In addition, if a variable is assigned a value without being declared using the `var`, `let`, or `const` keywords (i.e., creating an undefined variable), that variable also gains global variable characteristics.\n",
    "\n",
    "**Example**\n"
   ]
  },
  {
   "cell_type": "code",
   "execution_count": 10,
   "metadata": {
    "vscode": {
     "languageId": "javascript"
    }
   },
   "outputs": [
    {
     "name": "stdout",
     "output_type": "stream",
     "text": [
      "The content of the carName variable: Volvo\n"
     ]
    }
   ],
   "source": [
    "%%script node\n",
    "\n",
    "function myFunction() {\n",
    "  carName = \"Volvo\";\n",
    "}\n",
    "\n",
    "myFunction();\n",
    "\n",
    "console.log(`The content of the carName variable: ${carName}`);\n"
   ]
  },
  {
   "cell_type": "markdown",
   "metadata": {},
   "source": [
    "In the example above, the variable `carName` is assigned a value without being explicitly declared. In this case, the `carName` variable gains the characteristics of an undeclared variable, and to access its content, the relevant function is called, followed by accessing the `carName` variable.\n",
    "\n",
    "**⚠️ As an exception, in JavaScript strict mode, undeclared variables do not automatically become global variables.**\n",
    "\n",
    "It is not recommended to use a variable by assigning a value to it without prior declaration because the scope of the variable may be uncertain, leading to unexpected errors. Whenever possible, it is better to define variables appropriately using `var`, `let`, or `const` to specify their scopes.\n"
   ]
  },
  {
   "cell_type": "markdown",
   "metadata": {},
   "source": [
    "## <a id='toc1_2_'></a>[Local Scope](#toc0_)\n",
    "\n",
    "The term **_local scope_** refers to the condition where a variable cannot be used outside of its scope. In this context, both block scope and function scope exhibit the characteristics of local scope. This is because it is not possible to access a variable defined within these scope types from the outside.\n",
    "\n",
    "**Reasons for using local scope:**\n",
    "\n",
    "- Sometimes, variables or data need to be protected for security reasons and should not be accessed from other places. In other words, the variable or value must be private. In such cases, we use local scopes.\n",
    "\n",
    "- We ensure the isolation of variables in this way, contributing to the error-free operation of our program.\n",
    "\n",
    "- Local scopes allow the use of the same variable names, reducing the likelihood of conflicts between variables with the same name.\n",
    "\n",
    "- In error situations, local scopes help isolate errors within the scope, making debugging and correction processes easier.\n",
    "\n",
    "- For a variable defined within a local scope, a memory address is created, and the variable can be used throughout the lifespan of that scope. When the JavaScript program exits the local scope, the variable's runtime is completed, and its memory address is cleared. This ensures that variables whose function has ended do not unnecessarily occupy memory space, contributing to the faster execution of our JavaScript program.\n"
   ]
  },
  {
   "cell_type": "markdown",
   "metadata": {},
   "source": [
    "## <a id='toc1_3_'></a>[Summary](#toc0_)\n",
    "\n",
    "In this section, we explored the concept of **_scope_** in JavaScript. In JavaScript, **_scope_** specifies the area where a variable is defined and accessible. There are three main types of scope: Block Scope, Function Scope, and Global Scope.\n",
    "\n",
    "- **Block Scope:** Variables declared with `let` and `const` are only valid within the block they are defined. This provides a local and isolated scope.\n",
    "\n",
    "- **Function Scope:** When a variable is declared within a function, it is only valid within that function and cannot be accessed from the outside. Function scope provides a local scope.\n",
    "\n",
    "- **Global Scope:** When a variable is defined outside a function, it becomes a global variable and can be accessed from anywhere in the program. However, if an undefined variable is created without using the `var` keyword and has not been previously declared, in this case, the variable is automatically treated as a global variable. That is, when an undefined variable is created without using `var`, JavaScript adds this variable to the global scope.\n",
    "\n",
    "These scope types ensure the organized use of variables for security, isolation, and error management. Scopes enhance code readability and prevent unexpected errors.\n"
   ]
  }
 ],
 "metadata": {
  "kernelspec": {
   "display_name": "Python 3",
   "language": "python",
   "name": "python3"
  },
  "language_info": {
   "codemirror_mode": {
    "name": "ipython",
    "version": 3
   },
   "file_extension": ".py",
   "mimetype": "text/x-python",
   "name": "python",
   "nbconvert_exporter": "python",
   "pygments_lexer": "ipython3",
   "version": "3.10.12"
  }
 },
 "nbformat": 4,
 "nbformat_minor": 2
}
