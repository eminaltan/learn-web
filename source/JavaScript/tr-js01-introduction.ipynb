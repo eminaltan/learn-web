{
 "cells": [
  {
   "cell_type": "markdown",
   "metadata": {},
   "source": [
    "# JavaScript'e Giriş<a id='toc0_'></a>\n",
    "\n",
    "Bu kılavuz JavaScript öğrenmek isteyen arkadaşlar için hazırlanmıştır. JavaScript'in ne zaman veya hangi amaçla ortaya çıktığı gibi bilgileri es geçiyorum. Muhtemelen bunları araştırmışsınızdır. Bana kalırsa işin felsefesini öğrenmekte fayda var benzer bilgilere kılavuzda yer vermeyeceğim.\n",
    "\n",
    "Kılavuz temel HTML bilgisi gerektirir.\n",
    "\n",
    "Yazının bu bölümünde JavaScript'e giriş yapacağız ve JavaScript'in yapısını inceleyeceğiz.\n",
    "\n",
    "- [`<script>` Elementi](#toc1_1_)\n",
    "- [JavaScript Kullanım Şekilleri](#toc1_2_)\n",
    "- [JavaScript Çıktıları](#toc1_3_)\n",
    "  - [`innerHTML` Property](#toc1_3_1_)\n",
    "  - [`document.write()` Metodunun Kullanımı](#toc1_3_2_)\n",
    "  - [`window.alert()` Metodu](#toc1_3_3_)\n",
    "  - [`console.log()` Metodu](#toc1_3_4_)\n",
    "  - [JavaScript'te Print Özelliği](#toc1_3_5_)\n",
    "\n",
    "Değineceğim.\n",
    "\n",
    "İyi okumalar dilerim.\n",
    "\n",
    "If you want to read English version of article please [visit](js01-introduction.ipynb) this link.\n",
    "\n",
    "<!-- vscode-jupyter-toc-config\n",
    "\tnumbering=false\n",
    "\tanchor=true\n",
    "\tflat=false\n",
    "\tminLevel=1\n",
    "\tmaxLevel=6\n",
    "\t/vscode-jupyter-toc-config -->\n",
    "<!-- THIS CELL WILL BE REPLACED ON TOC UPDATE. DO NOT WRITE YOUR TEXT IN THIS CELL -->\n"
   ]
  },
  {
   "cell_type": "markdown",
   "metadata": {},
   "source": [
    "## <a id='toc1_1_'></a>[`<script>` Elementi](#toc0_)\n",
    "\n",
    "JavaScript kodları `<script></script>` elementleri arasına yerleştirilir.\n",
    "\n",
    "**💡 Eski tarayıcıların JavaScript kodlarını yorumlaması için `type` attribute'un tanımlı olması gerekir. Bu bağlamda `<script type=\"text/javascript\">` gibi bir ifade ile karşılaştığınızda web sayfasının eski tarayıcılar için hazırlandığını anlayabilirsiniz. Modern tarayıcılarda `type` attribute'un tanımlı olmasına gerek yoktur.**\n",
    "\n",
    "JavaScript kodları `<head></head>` veya `<body></body>` elementleri arasına yerleştirilir.\n",
    "\n",
    "**Örnek**\n",
    "\n",
    "```html\n",
    "<!DOCTYPE html>\n",
    "<html>\n",
    "  <head>\n",
    "    <script>\n",
    "      /* Örnekte JavaScript kodları <head></head> elementleri arasına yerleştirilmiş */\n",
    "      console.log(\"test\");\n",
    "    </script>\n",
    "  </head>\n",
    "  <body>\n",
    "    <h2>JavaScript Örneği</h2>\n",
    "  </body>\n",
    "</html>\n",
    "\n",
    "<!DOCTYPE html>\n",
    "<html>\n",
    "  <head>\n",
    "    <body>\n",
    "      <script>\n",
    "        /* Örnekte JavaScript kodları <body></body> elementleri arasına yerleştirilmiş */\n",
    "        console.log(\"test\");\n",
    "      </script>\n",
    "      <h2>JavaScript Örneği</h2>\n",
    "    </body>\n",
    "  </head>\n",
    "</html>\n",
    "```\n",
    "\n",
    "**💡 JavaScript kodlarının `</body>` tag'ına yakın olması kodların daha hızlı yorumlanması ve çalışmasını sağlar.**\n",
    "\n",
    "**Örnek**\n",
    "\n",
    "```html\n",
    "<!DOCTYPE html>\n",
    "<html>\n",
    "  <head>\n",
    "    <body>\n",
    "      <h2>JavaScript Örneği</h2>\n",
    "      <script>\n",
    "        /* JavaScript kodları </body> tag'ına yakın olması sebebi ile daha hızlı çalışacaktır. */\n",
    "        console.log(\"test\");\n",
    "      </script>\n",
    "    </body>\n",
    "  </head>\n",
    "</html>\n",
    "```\n"
   ]
  },
  {
   "cell_type": "markdown",
   "metadata": {},
   "source": [
    "## <a id='toc1_2_'></a>[JavaScript Kullanım Şekilleri](#toc0_)\n",
    "\n",
    "JavaScript kodlarını `<script></script>` elementleri arasında kullanabileceğimiz gibi harici bir dosyadaki JavaScript kodlarını da kullanabiliriz.\n",
    "\n",
    "Harici JavaScript kodlarını kullanmak bize bir takım avantajlar sağlar:\n",
    "\n",
    "- HTML ve JavaScript kodları birbirinden ayrılacağı için dokümanın okunması, anlaşılması ve yönetilmesi kolaylaşır.\n",
    "\n",
    "- Aynı kodları başka sayfalarda da kullanabiliriz. Böylece aynı kodları tekrar tekrar yazmamış oluruz. Buna **_DRY_**[^1] prensibi adı verilir.\n",
    "\n",
    "- JavaScript kodları cache'leneceği için sayfanın hızlı şekilde yüklenilmesi sağlanır.\n",
    "\n",
    "Aşağıdaki örnekte harici JavaScript dosyalarının web sayfasına yüklenilmesi görülüyor.\n",
    "\n",
    "**Örnek**\n",
    "\n",
    "```javascript\n",
    "<script src=\"script1.js\"></script>\n",
    "<script src=\"script2.js\"></script>\n",
    "```\n"
   ]
  },
  {
   "cell_type": "markdown",
   "metadata": {},
   "source": [
    "## <a id='toc1_3_'></a>[JavaScript Çıktıları](#toc0_)\n",
    "\n",
    "JavaScript'te çıktı almak için 4 yöntem kullanılır:\n",
    "\n",
    "- HTML elementinin içerisine çıktı almak için `innerHTML` property.\n",
    "\n",
    "- HTML dokümanı içerisinde çıktı almak için `document.write()` metodu.\n",
    "\n",
    "- Mesaj çıktısı alabilmek için `window.alert()` metodu.\n",
    "\n",
    "- Konsolda kullanabilmek için `console.log()` metodu.\n",
    "\n",
    "Bunlara yüzeysel bakalım, süreç içerisinde detaylara yer vereceğim.\n"
   ]
  },
  {
   "cell_type": "markdown",
   "metadata": {},
   "source": [
    "### <a id='toc1_3_1_'></a>[`innerHTML` Property](#toc0_)\n",
    "\n",
    "Bazen yaptığımız bir işlemin sonucunu HTML elementinin içerisinde çıktı olarak kullanmak isteyebiliriz. Böyle durumlarda genel olarak `innerHTML` property'sini kullanırız.\n",
    "\n",
    "**Örnek**\n",
    "\n",
    "```html\n",
    "<!DOCTYPE html>\n",
    "<html>\n",
    "  <body>\n",
    "    <p id=\"content\"></p>\n",
    "    <script>\n",
    "      /* Örnekte #content id'sini barındıran HTML elementi bulunacak ve içerisine \"test\" ifadesi yazdırılacaktır. */\n",
    "      document.getElementById(\"content\").innerHTML = \"test\";\n",
    "    </script>\n",
    "  </body>\n",
    "</html>\n",
    "```\n"
   ]
  },
  {
   "cell_type": "markdown",
   "metadata": {},
   "source": [
    "### <a id='toc1_3_2_'></a>[`document.write()` Metodunun Kullanımı](#toc0_)\n",
    "\n",
    "`document.write()` metodu genelde test amaçlı kullanılır.\n",
    "\n",
    "**❗ HTML sayfasının yüklenilmesinin ardından `document.write()` metodunun başka bir metot ile çağrılması durumunda sayfa içeriği silinir.**\n",
    "\n",
    "Aşağıdaki örnekte HTML sayfasının içeriği **silinir ve \"Test\" string'i doküman içerisinde kullanılır.**\n",
    "\n",
    "**Örnek**\n",
    "\n",
    "```html\n",
    "<!DOCTYPE html>\n",
    "<html>\n",
    "  <body>\n",
    "    <p>onClick HTML event handler ile document.write() metodu çağrılıyor.</p>\n",
    "\n",
    "    <!-- Buton tıklanıldığında document.write() metodu çalışacaktır.   -->\n",
    "    <button\n",
    "      type=\"button\"\n",
    "      onclick=\"document.write(`Test`)\"\n",
    "    >\n",
    "      Tıkla\n",
    "    </button>\n",
    "  </body>\n",
    "</html>\n",
    "```\n",
    "\n",
    "Aşağıdaki örnekte HTML sayfasının içeriği silinmez.\n",
    "\n",
    "**Örnek**\n",
    "\n",
    "```html\n",
    "<!DOCTYPE html>\n",
    "<html>\n",
    "  <body>\n",
    "    <p>\n",
    "      Doküman içeriği silinmeyecektir çünkü document.write() metodu çağrılmıyor.\n",
    "    </p>\n",
    "    <script>\n",
    "      document.write(\"Test\");\n",
    "    </script>\n",
    "  </body>\n",
    "</html>\n",
    "```\n"
   ]
  },
  {
   "cell_type": "markdown",
   "metadata": {},
   "source": [
    "### <a id='toc1_3_3_'></a>[`window.alert()` Metodu](#toc0_)\n",
    "\n",
    "Bazen Windows'daki gibi mesaj kutuları oluşturmak isteyebiliriz. Bu durumda `window.alert()` metodundan faydalanılır.\n",
    "\n",
    "**⚠️ JavaScript'te `window` keyword'u _global_ scope nesnesini ifade eder. Bunun anlamı JavaScript'te tanımlanan tüm variable'lar, property'ler ve metotlar varsayılan olarak `window` nesnesidir. `window` keyword'u opsiyondur. Yani kullanımda es geçilebilir.**\n",
    "\n",
    "**Örnek**\n",
    "\n",
    "```javascript\n",
    "/* Her iki statement da aynı anlama gelir. */\n",
    "window.alert(\"Test\");\n",
    "\n",
    "alert(\"Test\");\n",
    "```\n"
   ]
  },
  {
   "cell_type": "markdown",
   "metadata": {},
   "source": [
    "### <a id='toc1_3_4_'></a>[`console.log()` Metodu](#toc0_)\n",
    "\n",
    "`console.log()` metodu genelde debug işlemlerinde kullanılır. JavaScript konsolunda çıktı almak için bu metodu kullanılırız. Konsola erişmek için tarayıcının inspector'unu kullanabiliriz.\n",
    "\n",
    "![Console](https://wd.imgix.net/image/admin/ET1JJFtUIXvaoPCGQ94C.png?auto=format, \"Şeklide tarayıcı konsolu görünüyor.\")\n",
    "\n",
    "**Örnek**\n"
   ]
  },
  {
   "cell_type": "code",
   "execution_count": 1,
   "metadata": {
    "vscode": {
     "languageId": "javascript"
    }
   },
   "outputs": [
    {
     "name": "stdout",
     "output_type": "stream",
     "text": [
      "Test\n"
     ]
    }
   ],
   "source": [
    "%%script node\n",
    "\n",
    "/* Kod, konsola Test string'ini yazdıracaktır. */\n",
    "console.log(\"Test\");"
   ]
  },
  {
   "cell_type": "markdown",
   "metadata": {},
   "source": [
    "### <a id='toc1_3_5_'></a>[JavaScript'te Print Özelliği](#toc0_)\n",
    "\n",
    "JavaScript'te sadece `window.print()` metodu bulunmaktadır. Bu sayede tarayıcı ekranındaki içerik hard copy veya soft copy olarak çıktı alınır.\n",
    "\n",
    "**Örnek**\n",
    "\n",
    "```html\n",
    "<!DOCTYPE html>\n",
    "<html>\n",
    "  <body>\n",
    "    <!-- Tarayıcıdan içeriğini çıktı olarak almamıza yardımcı olur.-->\n",
    "    <button onclick=\"window.print()\">Ekranı yazdır</button>\n",
    "  </body>\n",
    "</html>\n",
    "```\n"
   ]
  },
  {
   "cell_type": "markdown",
   "metadata": {},
   "source": [
    "[^1]: DRY Don't Repeat Yourself'in kısaltması olup aynı kodları tekrar tekrar yazmamayı amaçlayan bir yaklaşımdır.\n"
   ]
  }
 ],
 "metadata": {
  "kernelspec": {
   "display_name": "Python 3",
   "language": "python",
   "name": "python3"
  },
  "language_info": {
   "codemirror_mode": {
    "name": "ipython",
    "version": 3
   },
   "file_extension": ".py",
   "mimetype": "text/x-python",
   "name": "python",
   "nbconvert_exporter": "python",
   "pygments_lexer": "ipython3",
   "version": "3.10.12"
  }
 },
 "nbformat": 4,
 "nbformat_minor": 2
}
