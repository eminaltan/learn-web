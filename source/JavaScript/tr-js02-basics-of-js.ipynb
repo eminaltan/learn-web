{
 "cells": [
  {
   "cell_type": "markdown",
   "metadata": {},
   "source": [
    "# JavaScript'in Temelleri<a id='toc0_'></a>\n",
    "\n",
    "Merhaba arkadaşlar serinin bu bölümünde JavaScript'in temellerine bakış atacağız.\n",
    "\n",
    "Yazıda:\n",
    "\n",
    "- [JavaScript Statement Kavramı](#toc1_1_)\n",
    "- [JavaScript White Space Kullanımı](#toc1_2_)\n",
    "- [JavaScript Kod Blokları](#toc1_3_)\n",
    "- [JavaScript Keyword Kullanımı](#toc1_4_)\n",
    "- [JavaScript Syntax Kavramı](#toc1_5_)\n",
    "- [JavaScript Immutable ve Mutable Kavramları](#toc1_6_)\n",
    "- [JavaScript'te Veri Türleri ve Veri Tipleri](#toc1_7_)\n",
    "- [JavaScript Değişkenler](#toc1_8_)\n",
    "  - [JavaScript'te Değişkenler Dinamik Özelliklidir](#toc1_8_1_)\n",
    "- [JavaScript Operatörleri](#toc1_9_)\n",
    "- [JavaScript Expression Kavramı](#toc1_10_)\n",
    "- [JavaScript Identifiers Kavramı](#toc1_11_)\n",
    "- [JavaScript Büyük Harf/Küçük Harf Ayrımı](#toc1_12_)\n",
    "- [Özet](#toc1_13_)\n",
    "\n",
    "Kısaca değineceğim. ilerleyen süreç içerisinde başlıkları detaylandıracağım.\n",
    "\n",
    "İyi okumalar dilerim.\n",
    "\n",
    "If you want to read English version of this article please visit [this link](js02-basics-of-js.ipynb).\n",
    "\n",
    "<!-- vscode-jupyter-toc-config\n",
    "\tnumbering=false\n",
    "\tanchor=true\n",
    "\tflat=false\n",
    "\tminLevel=1\n",
    "\tmaxLevel=6\n",
    "\t/vscode-jupyter-toc-config -->\n",
    "<!-- THIS CELL WILL BE REPLACED ON TOC UPDATE. DO NOT WRITE YOUR TEXT IN THIS CELL -->\n"
   ]
  },
  {
   "cell_type": "markdown",
   "metadata": {},
   "source": [
    "## <a id='toc1_1_'></a>[JavaScript Statement Kavramı](#toc0_)\n",
    "\n",
    "Bir bilgisayar programı, bilgisayar tarafından çalıştırılacak ifadeleri oluşturur. Programlama dilinde ifadelere **_statement_** adı verilir. Bir JavaScript uygulaması statement listesinden oluşmaktadır.\n",
    "\n",
    "JavaScript'te statement'lar; değişkenlerden, değerlerden,operatörlerden, expression'lardan, keyword'lerden ve comment'lerden oluşabilir.\n",
    "\n",
    "**Örnek**\n",
    "\n",
    "```javascript\n",
    "/* Aşağıdaki satır statement özelliği taşır. */\n",
    "var x;\n",
    "```\n"
   ]
  },
  {
   "cell_type": "markdown",
   "metadata": {},
   "source": [
    "Javascript statement'ları yazılış sırasına göre çalışırlar.\n",
    "\n",
    "**Örnek**\n"
   ]
  },
  {
   "cell_type": "code",
   "execution_count": 1,
   "metadata": {
    "vscode": {
     "languageId": "javascript"
    }
   },
   "outputs": [
    {
     "name": "stdout",
     "output_type": "stream",
     "text": [
      "İlk burası çalışacak.\n",
      "Sonra burası çalışacak.\n",
      "En son burası çalışacak.\n"
     ]
    }
   ],
   "source": [
    "%%script node\n",
    "\n",
    "console.log(\"İlk burası çalışacak.\");\n",
    "console.log(\"Sonra burası çalışacak.\");\n",
    "console.log(\"En son burası çalışacak.\");"
   ]
  },
  {
   "cell_type": "markdown",
   "metadata": {},
   "source": [
    "Statement'ları birbirinden ayırmak için `;` işaretinden faydalanılır. Tek satır birden fazla statement'ı içerebilir.\n",
    "\n",
    "**Örnek**\n"
   ]
  },
  {
   "cell_type": "code",
   "execution_count": 2,
   "metadata": {
    "vscode": {
     "languageId": "javascript"
    }
   },
   "outputs": [
    {
     "name": "stdout",
     "output_type": "stream",
     "text": [
      "1.Statement\n",
      "2.Statement\n",
      "3.Statement\n"
     ]
    }
   ],
   "source": [
    "%%script node\n",
    "\n",
    "/* Aşağıda 3 statement'in tek bir satırda oluşturulduğu görülüyor.*/\n",
    "console.log(\"1.Statement\"); console.log(\"2.Statement\"); console.log(\"3.Statement\");"
   ]
  },
  {
   "cell_type": "markdown",
   "metadata": {},
   "source": [
    "## <a id='toc1_2_'></a>[JavaScript White Space Kullanımı](#toc0_)\n",
    "\n",
    "JavaScript white space karakterleri yok sayar. Yani tek bir satırda yazılan statement'lar ile birden fazla satırda oluşturulan statement'lar aynı anlamı taşır.\n",
    "\n",
    "**💡 Kodların okunabilir olmasını sağlamak için her statement'in ayrı satırda yazılması tavsiye edilir. Her satırın ortalama 80 karakter olması okunabilirliği artıracaktır.**\n",
    "\n",
    "**Örnek**\n",
    "\n",
    "```javascript\n",
    "let x = 3, y = 4;\n",
    "\n",
    "/* Yukarıdaki ifade aşağıdaki gibi de yazılabilir. */\n",
    "let x = 3;\n",
    "let y = 4;\n",
    "```\n"
   ]
  },
  {
   "cell_type": "markdown",
   "metadata": {},
   "source": [
    "## <a id='toc1_3_'></a>[JavaScript Kod Blokları](#toc0_)\n",
    "\n",
    "JavaScript'te kodları gruplandırmak için `{}` işaretinden faydalanılır. Gruplandırılan kod blokları **_metot_** veya **_fonksiyon_** olarak ifade edilirler.\n",
    "\n",
    "**Örnek**\n"
   ]
  },
  {
   "cell_type": "code",
   "execution_count": 3,
   "metadata": {
    "vscode": {
     "languageId": "javascript"
    }
   },
   "outputs": [
    {
     "name": "stdout",
     "output_type": "stream",
     "text": [
      "Sürelim George\n"
     ]
    }
   ],
   "source": [
    "%%script node\n",
    "\n",
    "function drive() {\n",
    "  console.log(\"Sürelim George\");\n",
    "};\n",
    "\n",
    "// Konsola Sürelim George ifadesi yazdırılır.\n",
    "drive();"
   ]
  },
  {
   "cell_type": "markdown",
   "metadata": {},
   "source": [
    "## <a id='toc1_4_'></a>[JavaScript Keyword Kullanımı](#toc0_)\n",
    "\n",
    "JavaScript ifadeleri sıklıkla bir keyword ile başlar.\n",
    "\n",
    "**❗ Keyword isimleri değişken veya metot ismi tanımlanmasında kullanılamaz. Çünkü bu keyword'ler JavaScript'te rezerve edilmişlerdir.**\n",
    "\n",
    "**Örnek**\n",
    "\n",
    "```javascript\n",
    "/* ❌ Aşağıdaki değişken tanımlaması yanlıştır. */\n",
    "let var = 5;\n",
    "\n",
    "// \"SyntaxError: Unexpected token 'var'\" ifadesi konsola yazdırılacaktır.\n",
    "console.log(var);\n",
    "```\n"
   ]
  },
  {
   "cell_type": "markdown",
   "metadata": {},
   "source": [
    "Sık kullanılan keyword'ler aşağıda listelenmiştir.\n",
    "\n",
    "| **Keyword** | **Açıklama**                            |\n",
    "| ----------- | --------------------------------------- |\n",
    "| `var`       | Değişken oluşturur.                     |\n",
    "| `let`       | Block türünde değişken oluşturur.       |\n",
    "| `const`     | Block türünde sabit değişken oluşturur. |\n",
    "\n",
    "Yeri geldikçe `var`, `const` ve `let` terimlerine, kullanım amaçlarına ve farklılıklarına süreç içerisinde değineceğim.\n"
   ]
  },
  {
   "cell_type": "markdown",
   "metadata": {},
   "source": [
    "## <a id='toc1_5_'></a>[JavaScript Syntax Kavramı](#toc0_)\n",
    "\n",
    "Syntax'lar JavaScript'te kodların söz dizimini belirler. Bu kuralları bir dilin yazım kılavuzu yani grameri olarak düşünebiliriz.\n",
    "\n",
    "**⚠️ Yanlış söz dizimleri olması halinde program veya kod blokları çalışmayacaktır.**\n",
    "\n",
    "**Örnek**\n",
    "\n",
    "```javascript\n",
    "//  Örnekte değişken oluşturmak için kullanılacak söz dizimini görüyoruz.\n",
    "var x;\n",
    "var y;\n",
    "\n",
    "\"Osman\" = let z;\n",
    "\n",
    "/**\n",
    " * ❌ z değişkeninin söz dizimi yanlıştır. Konsola SyntaxError: Invalid left-hand side\n",
    " * in assignment ifadesi yazdırılır.\n",
    " */\n",
    "console.log (z);\n",
    "```\n"
   ]
  },
  {
   "cell_type": "markdown",
   "metadata": {},
   "source": [
    "## <a id='toc1_6_'></a>[JavaScript Immutable ve Mutable Kavramları](#toc0_)\n",
    "\n",
    "**JavaScript'te değişkenler veri türlerine göre göre iki gruba ayrılırlar:**\n",
    "\n",
    "- Immutable (Sabit değerler)\n",
    "\n",
    "- Mutable (Değişken değerler)\n",
    "\n",
    "Sabit değerler aynı zamanda **_Literals_** olarak isimlendirilirler. Atanan her değer bellekte (RAM'de) yeni bir adrese sahip olur ve atanan değerin bellekteki adresi değiştirilemez.\n",
    "\n",
    "**💡 Sabit değerleri genelde orijinal verinin korunmasını istediğimiz yerlerde kullanırız. Örneğin orijinal veri birden fazla yerde kullanıyor olabilir. Değeri korunmayan veriler program içerisinde istenmeyen sonuçlara neden olabilir.**\n",
    "\n",
    "**⚠️ Sabit değerli bir değişkene her yeni değer atanması durumunda bellekte verinin depolanması için yeni bir yer ayrılır. Bu da bellek ile ilgili sorunlara neden olacaktır. Bu sebeple performans öncelliğimiz ise sabitleri daha az kullanmalıyız.**\n",
    "\n",
    "Değişken değerler aynı zamanda **_variables_** olarak isimlendirilirler. Atanan değer bellekte **aynı adrese** sahip olur ve atanan verinin içeriği değiştirilebilir. **Bu sebeple referans olma özelliğine sahiptirler. Değişken değerli bir değişkene her veri atamasında bellekte yeni bir alan kullanılmaz. O verinin depolandığı ilgili referans adres bulunur ve eski veri overwrite edilerek yeni veri referans adrese kayıt edilir.**\n",
    "\n",
    "**💡 Değişken özellikli değerler veriler için referans adresleri kullanmaları sebebi ile bellekte sabitler gibi yer kaplamazlar. Dolayısıyla performans önceliğimiz ise bu veri türünü kullanabiliriz.**\n",
    "\n",
    "**Örnek**\n",
    "\n",
    "Aşağıda immutable özelliği görülüyor.\n"
   ]
  },
  {
   "cell_type": "code",
   "execution_count": 4,
   "metadata": {
    "vscode": {
     "languageId": "javascript"
    }
   },
   "outputs": [
    {
     "name": "stdout",
     "output_type": "stream",
     "text": [
      "studentName değişkenin içeriği: Emin\n",
      "Buraya dikkat edelim. personName değişkenin depoladığı değer: Emin\n",
      "studentName değişkenin içeriği: Hasan\n"
     ]
    }
   ],
   "source": [
    "%%script node\n",
    "\n",
    "// studentName değişkeninin değeri immutable özelliğine sahiptir.\n",
    "let studentName = \"Emin\";\n",
    "\n",
    "console.log(`studentName değişkenin içeriği: ${studentName}`);\n",
    "\n",
    "// personName değişkenimizin içeriğine studentName değişkeninin içeriğini depoluyoruz.\n",
    "let personName = studentName;\n",
    "\n",
    "/**\n",
    " * studentName değişkenimizin içeriğine yeni bir değer depoluyoruz. Bu durumda Hasan için RAM'de yeni bir adres \n",
    " * açılacaktır.\n",
    " */\n",
    "studentName = \"Hasan\";\n",
    "\n",
    "console.log(`Buraya dikkat edelim. personName değişkenin depoladığı değer: ${personName}`);\n",
    "console.log(`studentName değişkenin içeriği: ${studentName}`);"
   ]
  },
  {
   "cell_type": "markdown",
   "metadata": {},
   "source": [
    "Aşağıda mutable özelliği görülüyor.\n",
    "\n",
    "**Örnek**\n"
   ]
  },
  {
   "cell_type": "code",
   "execution_count": 5,
   "metadata": {
    "vscode": {
     "languageId": "javascript"
    }
   },
   "outputs": [
    {
     "name": "stdout",
     "output_type": "stream",
     "text": [
      "car ifadesi konsola yazdırılır.\n",
      "Konsola long bus ifadesi yazdırılır.\n",
      "long bus ifadesi konsola yazdırılır.\n"
     ]
    }
   ],
   "source": [
    "%%script node\n",
    "\n",
    "// vehicle değişkenimizin değeri mutable özelliklidir.\n",
    "let vehicle = { type: \"car\", color: \"orange\" };\n",
    "\n",
    "console.log(`${vehicle[\"type\"]} ifadesi konsola yazdırılır.`);\n",
    "\n",
    "/** \n",
    " * bus adında bir değişken oluşturuyoruz ve depoladığı değeri vehicle değişkeni referans gösterecek şekilde \n",
    " * belirliyoruz.\n",
    " */\n",
    "let bus = vehicle;\n",
    "\n",
    "// bus değişkenin type key'ine ulaşıp yeni bir veri depoluyoruz.\n",
    "bus[\"type\"] = \"long bus\";\n",
    "\n",
    "console.log(`Konsola ${bus[\"type\"]} ifadesi yazdırılır.`);\n",
    "\n",
    "/** \n",
    " * ⚠️ Buraya dikkat edelim. vehicle[type]'ın  depoladığı değer long bus ile overwrite edilecek ve konsola long \n",
    " * bus ifadesi yazdırılacaktır.\n",
    " * \n",
    " * Çünkü bus değişkeninin içeriğini değiştirdiğimizde aynı zamanda bellekte veriyi tutan referans adresindeki \n",
    " * içeriği de değiştirdik. \n",
    " */\n",
    "console.log(`${vehicle[\"type\"]} ifadesi konsola yazdırılır.`);\n"
   ]
  },
  {
   "cell_type": "markdown",
   "metadata": {},
   "source": [
    "## <a id='toc1_7_'></a>[JavaScript'te Veri Türleri ve Veri Tipleri](#toc0_)\n",
    "\n",
    "**JavaScript'te iki veri türü vardır:**\n",
    "\n",
    "- Primitive (İlkel veri türleri)\n",
    "\n",
    "- Object (Referans veri türleri)\n",
    "\n",
    "Primitive veri türleri **_number, string, boolean, undefined, null, symbol_** ve **_bigint_** veri türlerinden oluşur. **null** veri türü hariç Bunlar aynı zamanda **immutable** özelliğine sahiptirler.\n",
    "\n",
    "Object veri türleri **_object, array, date_** ve **_function_** veri türlerinden oluşur. Bunlar aynı zamanda **mutable** özelliğe sahiptirler.\n"
   ]
  },
  {
   "cell_type": "markdown",
   "metadata": {},
   "source": [
    "## <a id='toc1_8_'></a>[JavaScript Değişkenler](#toc0_)\n",
    "\n",
    "Programlama dilinde değişkenler veri depolamak için kullanılırlar. JavaScript'te değişken tanımlanması `var`, `const` veya `let` keyword'leri ile gerçekleşir.\n",
    "\n",
    "**Örnek**\n"
   ]
  },
  {
   "cell_type": "code",
   "execution_count": 3,
   "metadata": {
    "vscode": {
     "languageId": "javascript"
    }
   },
   "outputs": [
    {
     "name": "stdout",
     "output_type": "stream",
     "text": [
      "x'in değeri: 4\n",
      "y'nin değeri: Hasan\n",
      "pi'nin değeri: 3.14\n"
     ]
    }
   ],
   "source": [
    "%%script node\n",
    "\n",
    "// x değişkenine 4 rakamını depoladık.\n",
    "var x = 4;\n",
    "\n",
    "// y değişkenine Hasan ifadesini depoladık.\n",
    "let y = \"Hasan\";\n",
    "\n",
    "// pi değişkenine 3.14 rakamını depoladık.\n",
    "const pi = 3.14;\n",
    "\n",
    "console.log(`x'in değeri: ${x}`);\n",
    "console.log(`y'nin değeri: ${y}`);\n",
    "console.log(`pi'nin değeri: ${pi}`);"
   ]
  },
  {
   "cell_type": "markdown",
   "metadata": {},
   "source": [
    "### <a id='toc1_8_1_'></a>[JavaScript'te Değişkenler Dinamik Özelliklidir](#toc0_)\n",
    "\n",
    "JavaScript'te değişkenler dinamik özelliğe sahiptir. Bunun anlamı bir değişken farklı veri tiplerini tutmak için kullanılabilir.\n",
    "\n",
    "**Örnek**\n"
   ]
  },
  {
   "cell_type": "code",
   "execution_count": 4,
   "metadata": {
    "vscode": {
     "languageId": "javascript"
    }
   },
   "outputs": [
    {
     "name": "stdout",
     "output_type": "stream",
     "text": [
      "x değişkeninin şu anki değeri: Sebile\n"
     ]
    }
   ],
   "source": [
    "%%script node\n",
    "\n",
    "// x değişkeninin  veri tipi undefined'dir.\n",
    "let x;\n",
    "\n",
    "// x değişkeninin veri tipi number'dir.\n",
    "x = 5;\n",
    "\n",
    "// x değişkeninin veri tipi string'dir.\n",
    "x = \"Sebile\";\n",
    "\n",
    "console.log(`x değişkeninin şu anki değeri: ${x}`);"
   ]
  },
  {
   "cell_type": "markdown",
   "metadata": {},
   "source": [
    "## <a id='toc1_9_'></a>[JavaScript Operatörleri](#toc0_)\n",
    "\n",
    "Temelde gündelik hayatta kullandığımız matematiksel ifadeleri JavaScript içerisinde kullanabiliriz. Bunlar `( + - * / )` ifadeleridir ve **_aritmetiksel operatörler_** olarak ifade edilirler.\n",
    "\n",
    "**⚠️ JavaScript'te `=` işareti atama operatörü olarak görev yapar yani matematiksel anlamda eşittir anlamına gelmez. Eşitlik ifadeleri için `==` veya `===` operatörleri kullanılır.**\n",
    "\n",
    "**Örnek**\n"
   ]
  },
  {
   "cell_type": "code",
   "execution_count": 6,
   "metadata": {
    "vscode": {
     "languageId": "javascript"
    }
   },
   "outputs": [
    {
     "name": "stdout",
     "output_type": "stream",
     "text": [
      "x değişkeninin değeri: 4\n"
     ]
    }
   ],
   "source": [
    "%%script node\n",
    "\n",
    "// x değişkeni 4 değerini atadık. x referansı 4 değerini depolamış bulunuyor.\n",
    "let x = 4;\n",
    "\n",
    "console.log(`x değişkeninin değeri: ${x}`);"
   ]
  },
  {
   "cell_type": "markdown",
   "metadata": {},
   "source": [
    "JavaScript'te bir çok operatör vardır. Yeri geldikçe değineceğim.\n"
   ]
  },
  {
   "cell_type": "markdown",
   "metadata": {},
   "source": [
    "## <a id='toc1_10_'></a>[JavaScript Expression Kavramı](#toc0_)\n",
    "\n",
    "JavaScript'te bir satırdaki işlemin hesaplanmasına **_expression_** adı verilir. Bir expression değişkenlerden, değerlerden ve operatörlerden oluşur.\n",
    "\n",
    "**Örnek**\n",
    "\n",
    "```javascript\n",
    "var x = 4;\n",
    "var y = 3;\n",
    "\n",
    "// Expression\n",
    "var z = 4 * 3;\n",
    "```\n"
   ]
  },
  {
   "cell_type": "markdown",
   "metadata": {},
   "source": [
    "## <a id='toc1_11_'></a>[JavaScript Identifiers Kavramı](#toc0_)\n",
    "\n",
    "Identifiers'lar bir değişkene veya fonksiyona isim vermede kullanılırlar.\n",
    "\n",
    "**JavaScript'te değişkene isim vermede aşağıdaki maddelere dikkat etmemiz gerekir.**\n",
    "\n",
    "- JavaScript'te identifier büyük veya küçük harf; `$` veya `_` işaretleri ile başlayabilir.\n",
    "\n",
    "- JavaScript identifier'ları **unique** özelliğe sahiptirler. Yani aynı isim başka bir değişken veya metot için kullanılamaz.\n",
    "\n",
    "- JavaScript case-sensitive özelliğe sahiptir. Yani `x` ile `X` farklı değişkenleri ifade eder.\n",
    "\n",
    "- Identifier tanımlanırken sayısal değerler ilk karakteri oluşturamaz fakat Identifier'ın başka bölümlerinde kullanılabilirler.\n",
    "\n",
    "- JavaScript'te rezerve edilmiş keyword'ler identifier olarak kullanılamazlar.\n",
    "\n",
    "**Örnek**\n",
    "\n",
    "```javascript\n",
    "/**\n",
    " * ✔️ Doğru isim tanımlamaları, ⚠️ ilk iki satırdaki değişken isimleri aynı  olmasına\n",
    " * rağmen farklı değişkenleri tanımlar.\n",
    " */\n",
    "var deneme;\n",
    "var Deneme;\n",
    "var DENEME01;\n",
    "var $deneme;\n",
    "var _deneme;\n",
    "\n",
    "// ❌ Yanlış isim tanımlamaları\n",
    "var 1deneme;\n",
    "\n",
    "// let keyword'u değişken ismi olarak kullanılamaz.\n",
    "var let;\n",
    "```\n"
   ]
  },
  {
   "cell_type": "markdown",
   "metadata": {},
   "source": [
    "## <a id='toc1_12_'></a>[JavaScript Büyük Harf/Küçük Harf Ayrımı](#toc0_)\n",
    "\n",
    "JavaScript case-sensitive özelliğe sahiptir. Yani büyük harf küçük harf ayrımı yapar. `firstname` ile `firstName` aynı anlama gelmez.\n",
    "\n",
    "**⚠️ `-` karakteri JavaScript'te rezerve olması sebebi ile kullanılamaz.**\n"
   ]
  },
  {
   "cell_type": "markdown",
   "metadata": {},
   "source": [
    "## <a id='toc1_13_'></a>[Özet](#toc0_)\n",
    "\n",
    "Bu bölümde, JavaScript'in temellerini ele aldık. JavaScript ifadeleri, boşluk kullanımı, kod blokları, anahtar kelime kullanımı, sözdizimi, değişmez (immutable) ve değişken (mutable) kavramları, veri tipleri ve değişkenler gibi konuları inceledik. Ayrıca, JavaScript operatörleri, ifadeler, tanımlayıcılar ve büyük/küçük harf ayrımı konularına da değindik.\n",
    "\n",
    "Gelecek bölümlerde her konuyu daha ayrıntılı bir şekilde ele alarak daha fazla açıklama ve örnek sunacağım. "
   ]
  }
 ],
 "metadata": {
  "kernelspec": {
   "display_name": "Python 3",
   "language": "python",
   "name": "python3"
  },
  "language_info": {
   "codemirror_mode": {
    "name": "ipython",
    "version": 3
   },
   "file_extension": ".py",
   "mimetype": "text/x-python",
   "name": "python",
   "nbconvert_exporter": "python",
   "pygments_lexer": "ipython3",
   "version": "3.10.12"
  }
 },
 "nbformat": 4,
 "nbformat_minor": 2
}
