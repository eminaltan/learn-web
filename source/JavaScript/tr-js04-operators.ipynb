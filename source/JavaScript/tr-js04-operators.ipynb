{
  "cells": [
    {
      "cell_type": "markdown",
      "metadata": {},
      "source": [
        "# JavaScript Operatörleri<a id='toc0_'></a>\n",
        "\n",
        "Merhaba arkadaşlar bu yazıda JavaScript'te operatörlere ve en çok kullanılan operatör türlerine değineceğiz.\n",
        "\n",
        "Yazıda:\n",
        "\n",
        "- [Operator ve Operand Kavramları](#toc1_1_)\n",
        "- [JavaScript Operatörleri](#toc1_2_)\n",
        "- [JavaScript Aritmetik Operatörleri](#toc1_3_)\n",
        "  - [`**` Üs Alma Operatörü](#toc1_3_1_)\n",
        "  - [`%` Modul Operatörü](#toc1_3_2_)\n",
        "  - [`++` Operatörü](#toc1_3_3_)\n",
        "  - [`--` Operatörü](#toc1_3_4_)\n",
        "  - [Operatör Öncelliği](#toc1_3_5_)\n",
        "- [JavaScript Atama Operatörleri](#toc1_4_)\n",
        "- [JavaScript Kıyaslama Operatörleri](#toc1_5_)\n",
        "  - [`==` Operatörü](#toc1_5_1_)\n",
        "  - [`===` Operatörü](#toc1_5_2_)\n",
        "  - [`!=` Operatörü](#toc1_5_3_)\n",
        "  - [`!==` Operatörü](#toc1_5_4_)\n",
        "  - [`?` Operatörü](#toc1_5_5_)\n",
        "- [JavaScript String Operatörleri](#toc1_6_)\n",
        "  - [`+` Ekleme Operatörü](#toc1_6_1_)\n",
        "  - [`+=` Ekleme ve Atama Operatörü](#toc1_6_2_)\n",
        "- [JavaScript Mantıksal Operatörler](#toc1_7_)\n",
        "  - [`??` Nullish Coalescing Operatörü](#toc1_7_1_)\n",
        "  - [`?.` Mantıksal Optional Chaining Operatörü](#toc1_7_2_)\n",
        "  - [`&&` Mantıksal AND Operatörü](#toc1_7_3_)\n",
        "  - [`||` Mantıksal OR Operatörü](#toc1_7_4_)\n",
        "  - [`!` Mantıksal NOT Operatörü](#toc1_7_5_)\n",
        "  - [`&&=` Mantıksal AND Atama Operatörü](#toc1_7_6_)\n",
        "  - [`||=` Mantıksal OR Atama Operatörü](#toc1_7_7_)\n",
        "  - [`??=` Nullish Coalescing Assignment Operatörü](#toc1_7_8_)\n",
        "- [JavaScript Bitwise Operatörler](#toc1_8_)\n",
        "  - [`&` Bitwise AND Operatörü](#toc1_8_1_)\n",
        "  - [`|` Bitwise OR Operatörü](#toc1_8_2_)\n",
        "  - [`~` Bitwise NOT Operatörü](#toc1_8_3_)\n",
        "  - [`^` Bitwise XOR Operatörü](#toc1_8_4_)\n",
        "- [JavaScript Type Operatörleri](#toc1_9_)\n",
        "  - [`typeOf` Operatörü/Metodu](#toc1_9_1_)\n",
        "  - [`instanceof` Operatörü/Metodu](#toc1_9_2_)\n",
        "\n",
        "Değineceğim.\n",
        "\n",
        "İyi okumalar dilerim.\n",
        "\n",
        "If you want to read English version of article please [visit](js04-operators.ipynb) this link.\n",
        "\n",
        "<!-- vscode-jupyter-toc-config\n",
        "\tnumbering=false\n",
        "\tanchor=true\n",
        "\tflat=false\n",
        "\tminLevel=1\n",
        "\tmaxLevel=6\n",
        "\t/vscode-jupyter-toc-config -->\n",
        "<!-- THIS CELL WILL BE REPLACED ON TOC UPDATE. DO NOT WRITE YOUR TEXT IN THIS CELL -->\n"
      ]
    },
    {
      "cell_type": "markdown",
      "metadata": {},
      "source": [
        "## <a id='toc1_1_'></a>[Operator ve Operand Kavramları](#toc0_)\n",
        "\n",
        "Bir JavaScript expression'da değerlere **_operand_** ve operand'lar arasında işlemler yapmamızı sağlayan işaretlere **_operator_** adı verilir.\n",
        "\n",
        "![Operand ve operatör örneği](https://www.oreilly.com/api/v2/epubs/0596101104/files/httpatomoreillycomsourceoreillyimages108816.png \"Operand ve operatörler\")\n"
      ]
    },
    {
      "cell_type": "markdown",
      "metadata": {},
      "source": [
        "## <a id='toc1_2_'></a>[JavaScript Operatörleri](#toc0_)\n",
        "\n",
        "Operatörleri matematiksel işlemlerden bir script'in çalışma akışını değiştirmeye kadar çeşitli işlemlerde kullanırız. Diğer programlama dillerinde olduğu gibi JavaScript içerisinde bir çok operatör vardır.\n",
        "\n",
        "JavaScript'te operatörler aşağıdaki gibi listelenebilir:\n",
        "\n",
        "- Aritmetik (Arithmetic) operatörleri\n",
        "\n",
        "- Atama (Assignment) operatörleri\n",
        "\n",
        "- Kıyaslama (Comparison) operatörleri\n",
        "\n",
        "- String operatörler\n",
        "\n",
        "- Mantıksal (Logical) operatörler\n",
        "\n",
        "- Bit türündeki (Bitwise) operatörler\n",
        "\n",
        "- Type operatörler\n",
        "\n",
        "Şimdi bunları tek tek inceleyelim arkadaşlar.\n"
      ]
    },
    {
      "cell_type": "markdown",
      "metadata": {},
      "source": [
        "## <a id='toc1_3_'></a>[JavaScript Aritmetik Operatörleri](#toc0_)\n",
        "\n",
        "Gündelik hayatta matematiksel işlemler için kullandığımız operatörleri JavaScript'te de kullanabiliriz.\n",
        "\n",
        "Operatörlere ait işaretler ve anlamları aşağıdaki tablodaki gibidir:\n",
        "\n",
        "| **Operator** | **Açıklama**                                                             |\n",
        "| ------------ | ------------------------------------------------------------------------ |\n",
        "| `+`          | Toplama işlemi yapmak için kullanılır.                                   |\n",
        "| `-`          | Çıkarma işlemi için kullanılır.                                          |\n",
        "| `* `         | Çarpma işlemi için kullanılır.                                           |\n",
        "| `**`         | Üs alma operatörüdür. Üs alma işlemi için kullanılır.                    |\n",
        "| `/ `         | Bölme işlemi için kullanılır.                                            |\n",
        "| `%`          | Modul operatörü bölme işleminde kalanı almak için kullanılır.            |\n",
        "| `++`         | Artırma işlemi için kullanılır. Bir değişkeni +1 olacak şekilde artırır. |\n",
        "| `--`         | Çıkarma işlemi için kullanılır. Bir değişkeni -1 olacak şekilde azaltır. |\n",
        "\n",
        "Aritmetiksel operatörlerde literal türündeki değerler de kullanılabilir.\n",
        "\n",
        "**Örnek**\n"
      ]
    },
    {
      "cell_type": "code",
      "execution_count": 131,
      "metadata": {
        "vscode": {
          "languageId": "javascript"
        }
      },
      "outputs": [
        {
          "name": "stdout",
          "output_type": "stream",
          "text": [
            "Toplam sonuç: 225\n"
          ]
        }
      ],
      "source": [
        "%%script node\n",
        "\n",
        "// x değişkeni  sabit türündeki değerlerin toplamını depoluyor.\n",
        "let x = 200 + 25;\n",
        "\n",
        "console.log(`Toplam sonuç: ${x}`);\n"
      ]
    },
    {
      "cell_type": "markdown",
      "metadata": {},
      "source": [
        "Şimdi de bazı aritmetiksel operatörlere değinelim. Örneklerde sıkça görebileceğiniz için toplama ve çıkarma gibi operatörleri es geçiyorum.\n"
      ]
    },
    {
      "cell_type": "markdown",
      "metadata": {},
      "source": [
        "### <a id='toc1_3_1_'></a>[`**` Üs Alma Operatörü](#toc0_)\n",
        "\n",
        "Bir sayının üssünü almak için kullanılır.\n",
        "\n",
        "**Örnek**\n"
      ]
    },
    {
      "cell_type": "code",
      "execution_count": 132,
      "metadata": {
        "vscode": {
          "languageId": "javascript"
        }
      },
      "outputs": [
        {
          "name": "stdout",
          "output_type": "stream",
          "text": [
            "x değişkeninin karesi: 25\n",
            "x değişkeninin küpü: 125\n"
          ]
        }
      ],
      "source": [
        "%%script node\n",
        "\n",
        "const x = 5;\n",
        "\n",
        "// 5 rakamının karesini alacaktır.\n",
        "let result = x ** 2;\n",
        "\n",
        "console.log(`x değişkeninin karesi: ${result}`);\n",
        "\n",
        "// 5 rakamının küpünü alacaktır.\n",
        "let result2 = x ** 3;\n",
        "\n",
        "console.log(`x değişkeninin küpü: ${result2}`);\n"
      ]
    },
    {
      "cell_type": "markdown",
      "metadata": {},
      "source": [
        "### <a id='toc1_3_2_'></a>[`%` Modul Operatörü](#toc0_)\n",
        "\n",
        "Bazen bir bölme işleminin sonucunda kalan değeri tam sayı olarak almak isteyebiliriz bu durumda modul operatörü kullanılır.\n",
        "\n",
        "**Örnek**\n"
      ]
    },
    {
      "cell_type": "code",
      "execution_count": 133,
      "metadata": {
        "vscode": {
          "languageId": "javascript"
        }
      },
      "outputs": [
        {
          "name": "stdout",
          "output_type": "stream",
          "text": [
            "9'un 4'e bölümünden kalan değer: 1\n"
          ]
        }
      ],
      "source": [
        "%%script node\n",
        "\n",
        "console.log(`9'un 4'e bölümünden kalan değer: ${9 % 4}`);\n"
      ]
    },
    {
      "cell_type": "markdown",
      "metadata": {},
      "source": [
        "### <a id='toc1_3_3_'></a>[`++` Operatörü](#toc0_)\n",
        "\n",
        "JavaScript' de bir değişkenin değerini +1 olarak artırmak için `++` operatörünü alternatif olarak kullanabiliriz.\n",
        "\n",
        "Kullanım şekli ikiye ayrılır:\n",
        "\n",
        "- Ön artırım operatörü olarak kullanım\n",
        "\n",
        "- Son artırım operatörü olarak kullanım\n",
        "\n",
        "Bu yöntemleri birer örnek ile inceleyelim arkadaşlar.\n"
      ]
    },
    {
      "cell_type": "markdown",
      "metadata": {},
      "source": [
        "Aşağıdaki örnekte ön artırım yöntemi görülüyor. `x` değişkeni önce +1 değer artırılacak ve sonrasında matematiksel işlemelere dahil edilecektir.\n",
        "\n",
        "**Örnek**\n"
      ]
    },
    {
      "cell_type": "code",
      "execution_count": 134,
      "metadata": {
        "vscode": {
          "languageId": "javascript"
        }
      },
      "outputs": [
        {
          "name": "stdout",
          "output_type": "stream",
          "text": [
            "İşlemin sonucu: 13\n"
          ]
        }
      ],
      "source": [
        "%%script node\n",
        "\n",
        "let x = 5;\n",
        "\n",
        "/** \n",
        " * x değeri önce +1 artırılacak ve sonrasında matematiksel işleme dahil edilecektir. Bu durumdaki x'in değeri \n",
        " * 6'dır.\n",
        " */\n",
        "console.log(`İşlemin sonucu: ${7 + ++x}`);"
      ]
    },
    {
      "cell_type": "markdown",
      "metadata": {},
      "source": [
        "Aşağıdaki örnekte ise son artırım yöntemi görülüyor. `x` değişkeni önce **kullanılacak** sonrasında değeri +1 olacak şekilde artırılacaktır.\n",
        "\n",
        "Dikkat ederseniz `x` değişkeni son artırım işlemi yapıldıktan sonra ta ki bir sonraki satırda kullanılana kadar aynı kalıyor.\n",
        "\n",
        "**Örnek**\n"
      ]
    },
    {
      "cell_type": "code",
      "execution_count": 135,
      "metadata": {
        "vscode": {
          "languageId": "javascript"
        }
      },
      "outputs": [
        {
          "name": "stdout",
          "output_type": "stream",
          "text": [
            "İşlemin sonucu: 12\n",
            "x'in tekrar çağrıldığında değeri: 6 olacaktır.\n"
          ]
        }
      ],
      "source": [
        "%%script node\n",
        "\n",
        "let x = 5;\n",
        "\n",
        "/** \n",
        " * x değeri önce kullanılacak ve sonrasında değeri +1 şeklinde artırılacaktır. Aşağıdaki satırda x'in değeri \n",
        " * 5'dir.\n",
        " */\n",
        "console.log(`İşlemin sonucu: ${7 + x++}`);\n",
        "\n",
        "console.log(`x'in tekrar çağrıldığında değeri: ${x} olacaktır.`);"
      ]
    },
    {
      "cell_type": "markdown",
      "metadata": {},
      "source": [
        "### <a id='toc1_3_4_'></a>[`--` Operatörü](#toc0_)\n",
        "\n",
        "JavaScript' de bir değişkenin değerini -1 olarak azaltmak için `--` operatörünü alternatif olarak kullanabiliriz.\n",
        "\n",
        "Kullanım şekli ikiye ayrılır:\n",
        "\n",
        "- Ön azaltma operatörü olarak kullanım\n",
        "\n",
        "- Son azaltma operatörü olarak kullanım\n",
        "\n",
        "Bu yöntemleri birer örnek ile inceleyelim arkadaşlar.\n"
      ]
    },
    {
      "cell_type": "markdown",
      "metadata": {},
      "source": [
        "Aşağıdaki örnekte ön azaltım yöntemi görülüyor. `x` değişkeni önce -1 değer azaltılacak ve sonrasında matematiksel işlemelere dahil edilecektir.\n",
        "\n",
        "**Örnek**\n"
      ]
    },
    {
      "cell_type": "code",
      "execution_count": 99,
      "metadata": {
        "vscode": {
          "languageId": "javascript"
        }
      },
      "outputs": [
        {
          "name": "stdout",
          "output_type": "stream",
          "text": [
            "İşlemin sonucu: 11\n"
          ]
        }
      ],
      "source": [
        "%%script node\n",
        "\n",
        "let x = 5;\n",
        "\n",
        "/** \n",
        " * x değeri önce -1 azaltılacak ve sonrasında matematiksel işleme dahil edilecektir. Bu durumdaki x'in değeri \n",
        " * 4'dür.\n",
        " */\n",
        "console.log(`İşlemin sonucu: ${7 + --x}`);"
      ]
    },
    {
      "cell_type": "markdown",
      "metadata": {},
      "source": [
        "Aşağıdaki örnekte ise son azaltım yöntemi görülüyor. `x` değişkeni önce **kullanılacak** sonrasında değeri -1 olacak şekilde azaltılacaktır.\n",
        "\n",
        "Dikkat ederseniz `x` değişkeni son azaltım işlemi yapıldıktan sonra ta ki bir sonraki satırda kullanılana kadar aynı kalıyor.\n",
        "\n",
        "**Örnek**\n"
      ]
    },
    {
      "cell_type": "code",
      "execution_count": 100,
      "metadata": {
        "vscode": {
          "languageId": "javascript"
        }
      },
      "outputs": [
        {
          "name": "stdout",
          "output_type": "stream",
          "text": [
            "İşlemin sonucu: 12\n",
            "x'in tekrar çağrıldığında değeri: 4 olacaktır.\n"
          ]
        }
      ],
      "source": [
        "%%script node\n",
        "\n",
        "let x = 5;\n",
        "\n",
        "/** \n",
        " * x değeri önce kullanılacak ve sonrasında değeri -1 şeklinde azaltılacaktır. Aşağıdaki satırda x'in değeri \n",
        " * 5'dir.\n",
        " */\n",
        "console.log(`İşlemin sonucu: ${7 + x--}`);\n",
        "\n",
        "console.log(`x'in tekrar çağrıldığında değeri: ${x} olacaktır.`);"
      ]
    },
    {
      "cell_type": "markdown",
      "metadata": {},
      "source": [
        "### <a id='toc1_3_5_'></a>[Operatör Öncelliği](#toc0_)\n",
        "\n",
        "JavaScript'te işlem öncelliği matematikte olduğu gibidir. **Bazen işlem önceliğini kendimiz ayarlamak isteriz bu durumda öncelik vermek istediğimiz expression'ları parantez içerisine alırız.**\n",
        "\n",
        "**Örnek**\n"
      ]
    },
    {
      "cell_type": "code",
      "execution_count": 101,
      "metadata": {
        "vscode": {
          "languageId": "javascript"
        }
      },
      "outputs": [
        {
          "name": "stdout",
          "output_type": "stream",
          "text": [
            "20 + 30 * 2 işleminin sonucu: 80\n",
            "(20 + 30) * 2 işleminin sonucu: 100\n"
          ]
        }
      ],
      "source": [
        "%%script node\n",
        "\n",
        "console.log(`20 + 30 * 2 işleminin sonucu: ${20 + 30 * 2}`);\n",
        "\n",
        "/**\n",
        " * Bu durumda işlemin sonucu 100 olacaktır. Çünkü 20 ve 30 değerlerini parantez içinde tanımladık. İşlem \n",
        " * öncelliği buraya verilecektir.\n",
        " */\n",
        "console.log(`(20 + 30) * 2 işleminin sonucu: ${(20 + 30) * 2}`);\n"
      ]
    },
    {
      "cell_type": "markdown",
      "metadata": {},
      "source": [
        "**⚠️ Bir expression'da aynı seviyeden operatörler bulunması halinde işlem önceliği soldan sağa şeklinde olacak ve sonuç bu pattern'e göre oluşturulacaktır. Aynı zamanda bu JavaScript'in varsayılan davranışıdır.**\n",
        "\n",
        "**Örnek**\n"
      ]
    },
    {
      "cell_type": "code",
      "execution_count": 102,
      "metadata": {
        "vscode": {
          "languageId": "javascript"
        }
      },
      "outputs": [
        {
          "name": "stdout",
          "output_type": "stream",
          "text": [
            "İşlemin sonucu: 19\n"
          ]
        }
      ],
      "source": [
        "%%script node\n",
        "\n",
        "let x = 20 - 3 + 2;\n",
        "\n",
        "console.log(`İşlemin sonucu: ${x}`);\n"
      ]
    },
    {
      "cell_type": "markdown",
      "metadata": {},
      "source": [
        "## <a id='toc1_4_'></a>[JavaScript Atama Operatörleri](#toc0_)\n",
        "\n",
        "Atama operatörleri bir değişkene veri atamak için kullanılır.\n",
        "\n",
        "**⚠️ JavaScript'te temelde atama operatörü olarak `=` işareti kullanılır. Eşittir işareti olarak `==` veya `===` ifadelerinden faydalanırız. Bu ifadelerde [Javascript Kıyaslama Operatörleri](#javascript-kıyaslama-operatörleri) başlığı altında değineceğim çünkü bu operatörler kıyaslama işlemleri için kullanılırlar.**\n",
        "\n",
        "JavaScript'teki atama operatörlerini listeleyecek olursak:\n",
        "\n",
        "| **Operator** | **Örnek** | **Matematiksel Karşılığı** |\n",
        "| ------------ | --------- | -------------------------- |\n",
        "| `=`          | x = y     | x = y                      |\n",
        "| `+=`         | x += y    | x = x + y                  |\n",
        "| `-= `        | x -= y    | x = x - y                  |\n",
        "| `*=`         | x \\*= y   | x = x \\* y                 |\n",
        "| `/= `        | x /= y    | x = x / y                  |\n",
        "| `%=`         | x %= y    | x = x % y                  |\n",
        "| `**=`        | x \\*\\*= y | x = x \\*\\* y               |\n",
        "\n",
        "Bir örnekle nasıl kullanıldığını görelim. Diğer operatörler de benzer mantıkla çalışır.\n",
        "\n",
        "**Örnek**\n"
      ]
    },
    {
      "cell_type": "code",
      "execution_count": 103,
      "metadata": {
        "vscode": {
          "languageId": "javascript"
        }
      },
      "outputs": [
        {
          "name": "stdout",
          "output_type": "stream",
          "text": [
            "x = x+8 ifadesinin karşılığı: 18\n",
            "y = y**3 ifadesinin karşılığı: 125\n",
            "z değişkeninin içeriği: Selam Dostum\n"
          ]
        }
      ],
      "source": [
        "%%script node\n",
        "\n",
        "let x = 10;\n",
        "\n",
        "let y = 5;\n",
        "\n",
        "// x = 10+8 ifadesinin matematiksel karşılığıdır.\n",
        "console.log(`x = x+8 ifadesinin karşılığı: ${x += 8}`);\n",
        "\n",
        "// y = 5x5x5 ifadesinin karşılığıdır.\n",
        "console.log(`y = y**3 ifadesinin karşılığı: ${y **= 3}`);\n",
        "\n",
        "let z;\n",
        "z = \"Selam\" + \" \" + \"Dostum\";\n",
        "\n",
        "console.log(`z değişkeninin içeriği: ${z}`);\n"
      ]
    },
    {
      "cell_type": "markdown",
      "metadata": {},
      "source": [
        "## <a id='toc1_5_'></a>[JavaScript Kıyaslama Operatörleri](#toc0_)\n",
        "\n",
        "Kıyaslama operatörleri iki veya daha fazla değişkeni kıyaslamak için kullanılır. Özellikle conditional statement'ler ile birlikte iki veya daha fazla değişkenin birbiriyle durumunu sorgulayarak ve program akışını değiştirmek için kullanılır.\n",
        "\n",
        "**⚠️ Kıyaslama operatörleri bir kıyaslama işleminin sonucu doğru ise `true`, yanlış ise `false` değerini döndürür.**\n",
        "\n",
        "Kıyaslama operatörlerini listelersek:\n",
        "\n",
        "| **Operator** | **Açıklama**                                 |\n",
        "| ------------ | -------------------------------------------- |\n",
        "| `==`         | Eşittir.                                     |\n",
        "| `===`        | Değişken veri tipi ve içeriği eşittir.       |\n",
        "| `!=`         | Eşit değildir.                               |\n",
        "| `!==`        | Değişken veri tipi ve içeriği eşit değildir. |\n",
        "| `>`          | Büyüktür.                                    |\n",
        "| `<`          | Küçüktür.                                    |\n",
        "| `>=`         | Büyük eşittir.                               |\n",
        "| `<==`        | Küçük eşittir.                               |\n",
        "| `?`          | Ternary operatör.                            |\n",
        "\n",
        "Burada önemli olduğunu düşündüğüm operatörlere değineceğim. Diğer operatörleri örnekleri gördükçe ne işe yaradığını hemen anlayabilirsiniz.\n"
      ]
    },
    {
      "cell_type": "markdown",
      "metadata": {},
      "source": [
        "**❗ Nasıl armut ile elmayı kıyaslayamıyorsak JavaScript'te de kıyaslanacak değişkenlerin aynı türde olması gerekir. Aksi taktirde kıyaslama sonucunda anlam veremediğimiz sorunlar ile karşılaşabiliriz. değişkenleri birbirine dönüştürmek için JavaScript bir takım metotları içerisinde barındırır fakat konu kapsamında olmadığından ötürü bu metotlara değinmiyorum.**\n",
        "\n",
        "**İstisna olarak sayısal özellikli veri tipi string olan bir değişken ile number veri tipine sahip bir değişken kıyaslandığında JavaScript otomatik olarak string veri tipine sahip değişkeni sayısal değere çevirir ve kıyaslama işlemini gerçekleştirir.**\n",
        "\n",
        "**Örnek**\n"
      ]
    },
    {
      "cell_type": "code",
      "execution_count": 104,
      "metadata": {
        "vscode": {
          "languageId": "javascript"
        }
      },
      "outputs": [
        {
          "name": "stdout",
          "output_type": "stream",
          "text": [
            "x ile y kıyaslanabilir mi?: Evet kıyaslanabilir.\n"
          ]
        }
      ],
      "source": [
        "%%script node\n",
        "\n",
        "const x = 5;\n",
        "const y = \"5\";\n",
        "\n",
        "// Konsola Evet kıyaslanabilir. ifadesi yazdırılacaktır.\n",
        "console.log(`x ile y kıyaslanabilir mi?: ${x == y ? \"Evet kıyaslanabilir.\" : \"Hayır kıyaslanamaz.\"}`);\n"
      ]
    },
    {
      "cell_type": "markdown",
      "metadata": {},
      "source": [
        "**⚠️ String değerler alfabetik olarak kıyaslanır. İki sayısal string kıyaslandığında bazen sonuç istediğimiz gibi üretilmez. Örnek üzerinden açıklayalım.**\n",
        "\n",
        "**Örnek**\n"
      ]
    },
    {
      "cell_type": "code",
      "execution_count": 105,
      "metadata": {
        "vscode": {
          "languageId": "javascript"
        }
      },
      "outputs": [
        {
          "name": "stdout",
          "output_type": "stream",
          "text": [
            "Kıyaslamanın sonucu: false\n"
          ]
        }
      ],
      "source": [
        "%%script node\n",
        "\n",
        "/**\n",
        " * Konsola false ifadesi yazdırılacaktır.\n",
        " *\n",
        " * JavaScript string türde sayısal değer içeren iki değişkeni kıyaslarken 32 rakamının ilk rakamına bakarak \n",
        " * alfabetik şekilde değerlendirme yapacaktır. 3 rakamı 4 rakamından küçük olduğu için sonuç false olacaktır.\n",
        " * \n",
        " * Konsola false ifadesi yazdırılır.\n",
        " */\n",
        "console.log(`Kıyaslamanın sonucu: ${\"4\" < \"32\"}`);\n"
      ]
    },
    {
      "cell_type": "markdown",
      "metadata": {},
      "source": [
        "### <a id='toc1_5_1_'></a>[`==` Operatörü](#toc0_)\n",
        "\n",
        "iki veya daha fazla değişkenin depoladığı verileri **içeriği** bakımından kıyaslar. **Kıyaslama sonucu doğru ise `true`, değilse `false` olacak şekilde değer döndürür.**\n",
        "\n",
        "**Örnek**\n"
      ]
    },
    {
      "cell_type": "code",
      "execution_count": 106,
      "metadata": {
        "vscode": {
          "languageId": "javascript"
        }
      },
      "outputs": [
        {
          "name": "stdout",
          "output_type": "stream",
          "text": [
            "x ile y kıyaslanabilir mi?: Evet kıyaslanabilir.\n",
            "m ile n kıyaslanabilir mi?: Hayır kıyaslanamaz.\n"
          ]
        }
      ],
      "source": [
        "%%script node\n",
        "\n",
        "const x = 5;\n",
        "const y = 5;\n",
        "\n",
        "/**\n",
        " * x ile y değişkeni kıyaslanacak aynı veriyi depoladığı için konsola Evet kıyaslanabilir. ifadesi \n",
        " * yazdırılacaktır.\n",
        " */\n",
        "console.log(`x ile y kıyaslanabilir mi?: ${x == y ? \"Evet kıyaslanabilir.\" : \"Hayır kıyaslanamaz.\"}`);\n",
        "\n",
        "const m = 8;\n",
        "const n = 7;\n",
        "\n",
        "/** \n",
        " * m ile n değişkeni kıyaslanacak aynı veriyi depolamadığı için konsola Hayır kıyaslanamaz. ifadesi \n",
        " * yazdırılacaktır.\n",
        " */\n",
        "console.log(`m ile n kıyaslanabilir mi?: ${m == n ? \"Evet kıyaslanabilir.\" : \"Hayır kıyaslanamaz.\"}`);\n"
      ]
    },
    {
      "cell_type": "markdown",
      "metadata": {},
      "source": [
        "### <a id='toc1_5_2_'></a>[`===` Operatörü](#toc0_)\n",
        "\n",
        "iki veya daha fazla değişkenin depoladığı verileri **içeriği ve veri tipi** bakımından kıyaslar. **Kıyaslama sonucu doğru ise `true`, değilse `false` olacak şekilde değer döndürür.**\n",
        "\n",
        "**Örnek**\n"
      ]
    },
    {
      "cell_type": "code",
      "execution_count": 107,
      "metadata": {
        "vscode": {
          "languageId": "javascript"
        }
      },
      "outputs": [
        {
          "name": "stdout",
          "output_type": "stream",
          "text": [
            "x ile y kıyaslanabilir mi?: Evet kıyaslanabilir.\n",
            "m ile n kıyaslanabilir mi?: Hayır kıyaslanamaz.\n"
          ]
        }
      ],
      "source": [
        "%%script node\n",
        "\n",
        "const x = 5;\n",
        "const y = 5;\n",
        "\n",
        "/** \n",
        " * x ile y değişkeni kıyaslanacak aynı veriyi ve veri tipini depoladığı için konsola Evet kıyaslanabilir. \n",
        " * ifadesi yazdırılacaktır.\n",
        " */\n",
        "console.log(`x ile y kıyaslanabilir mi?: ${x === y ? \"Evet kıyaslanabilir.\" : \"Hayır kıyaslanamaz.\"}`);\n",
        "\n",
        "const m = 8;\n",
        "\n",
        "// ⚠️ n değişkeni string 8 değerini depoluyor.\n",
        "const n = \"8\";\n",
        "\n",
        "/**\n",
        " * m ile n değişkeni kıyaslanacak aynı veriyi depolamasına rağmen farklı veri tipine sahip oldukları için konsola \n",
        " * Hayır kıyaslanamaz. ifadesi yazdırılacaktır.\n",
        " */\n",
        "console.log(`m ile n kıyaslanabilir mi?: ${m === n ? \"Evet kıyaslanabilir.\" : \"Hayır kıyaslanamaz.\"}`);\n"
      ]
    },
    {
      "cell_type": "markdown",
      "metadata": {},
      "source": [
        "### <a id='toc1_5_3_'></a>[`!=` Operatörü](#toc0_)\n",
        "\n",
        "iki veya daha fazla değişkenin depoladığı verileri **içeriği** bakımından kıyaslar. **Kıyaslama sonucu doğru ise `false`, değilse `true` olacak şekilde değer döndürür.**\n",
        "\n",
        "**💡 Bunu şu şekilde aklınızda tutabilirsiniz. Sonucu `true` olan bir expression'ı `false`, sonucu `false` olsan bir expression'ı `true` olarak değerlendirir.**\n",
        "\n",
        "**Örnek**\n"
      ]
    },
    {
      "cell_type": "code",
      "execution_count": 108,
      "metadata": {
        "vscode": {
          "languageId": "javascript"
        }
      },
      "outputs": [
        {
          "name": "stdout",
          "output_type": "stream",
          "text": [
            "x ile y kıyaslanabilir mi?: Hayır kıyaslanamaz.\n",
            "m ile n kıyaslanabilir mi?: Evet kıyaslanabilir.\n"
          ]
        }
      ],
      "source": [
        "%%script node\n",
        "\n",
        "const x = 5;\n",
        "const y = 5;\n",
        "\n",
        "/** \n",
        " * x ile y değişkenleri kıyaslanacak aynı veriyi depoladığı için konsola Hayır kıyaslanamaz. ifadesi \n",
        " * yazdırılacaktır.\n",
        " */\n",
        "console.log(`x ile y kıyaslanabilir mi?: ${x != y ? \"Evet kıyaslanabilir.\" : \"Hayır kıyaslanamaz.\"}`);\n",
        "\n",
        "const m = 8;\n",
        "const n = 7;\n",
        "\n",
        "/** \n",
        " * m ile n değişkenleri kıyaslanacak aynı veriyi depolamadığı için konsola Evet kıyaslanabilir. ifadesi \n",
        " * yazdırılacaktır.\n",
        " */\n",
        "console.log(`m ile n kıyaslanabilir mi?: ${m != n ? \"Evet kıyaslanabilir.\" : \"Hayır kıyaslanamaz.\"}`);\n"
      ]
    },
    {
      "cell_type": "markdown",
      "metadata": {},
      "source": [
        "### <a id='toc1_5_4_'></a>[`!==` Operatörü](#toc0_)\n",
        "\n",
        "iki veya daha fazla değişkenin depoladığı verileri **içeriği ve veri tipi** bakımından kıyaslar. **Kıyaslama sonucu doğru ise `false`, değilse `true` olacak şekilde değer döndürür.**\n",
        "\n",
        "**💡 Bunu şu şekilde aklınızda tutabilirsiniz. Sonucu `true` olan bir expression'ı `false`, sonucu `false` olan bir expression'ı `true` olarak değerlendirir. `!=` operatörü ile arasındaki fark expression'ı içerik ve veri tipi olacak şekilde değerlendirir.**\n",
        "\n",
        "**Örnek**\n"
      ]
    },
    {
      "cell_type": "code",
      "execution_count": 109,
      "metadata": {
        "vscode": {
          "languageId": "javascript"
        }
      },
      "outputs": [
        {
          "name": "stdout",
          "output_type": "stream",
          "text": [
            "x ile y kıyaslanabilir mi?: Hayır kıyaslanamaz.\n",
            "m ile n kıyaslanabilir mi?: Evet kıyaslanabilir.\n"
          ]
        }
      ],
      "source": [
        "%%script node\n",
        "\n",
        "const x = 5;\n",
        "const y = 5;\n",
        "\n",
        "/** \n",
        " * x ile y değişkenleri kıyaslanacak aynı veriyi ve veri tipine depoladığı için konsola Hayır kıyaslanamaz. \n",
        " * ifadesi yazdırılacaktır.\n",
        " */\n",
        "console.log(`x ile y kıyaslanabilir mi?: ${x !== y ? \"Evet kıyaslanabilir.\" : \"Hayır kıyaslanamaz.\"}`);\n",
        "\n",
        "const m = 8;\n",
        "\n",
        "// ⚠️ n değişkeni string 8 değerini depoluyor.\n",
        "const n = \"8\";\n",
        "\n",
        "/**\n",
        " * m ile n değişkenleri kıyaslanacak aynı veriyi depolamasına rağmen farklı veri tipini depoladığı için\n",
        " * konsola Evet kıyaslanabilir. ifadesi yazdırılacaktır. \n",
        " */\n",
        "console.log(`m ile n kıyaslanabilir mi?: ${m !== n ? \"Evet kıyaslanabilir.\" : \"Hayır kıyaslanamaz.\"}`);\n"
      ]
    },
    {
      "cell_type": "markdown",
      "metadata": {},
      "source": [
        "### <a id='toc1_5_5_'></a>[`?` Operatörü](#toc0_)\n",
        "\n",
        "JavaScript'te `?` işareti **_ternary_** operatör olarak isimlendirilir.\n",
        "\n",
        "Ternary operatörü bir conditional operatördür. Yani bir condition'a göre işlemleri gerçekleştirir ve programın akışını değiştirir.\n",
        "\n",
        "Sıklıkla bir koşula bağlı olarak bir değeri değişkene atamak için kullanılır.\n",
        "\n",
        "**💡 Ternary operatörü kıyaslama işlemini basit hale getirmek için oluşturulmuştur. Ternary ile oluşturulan kıyaslama işlemleri genelde tek satırdan oluşur ve iki değişkeni kıyaslamak için kullanılır. İkiden fazla durumunun kıyaslama yapılması halinde `if` keyword'u ile yapılan kıyaslama işlemleri tercih edilir. Bu sayede kodun daha kolay okunup yönetilmesi amaçlanır.**\n",
        "\n",
        "**Örnek**\n"
      ]
    },
    {
      "cell_type": "code",
      "execution_count": 110,
      "metadata": {
        "vscode": {
          "languageId": "javascript"
        }
      },
      "outputs": [
        {
          "name": "stdout",
          "output_type": "stream",
          "text": [
            "Evet iki değişkenin depoladığı veri birbirine eşittir.\n"
          ]
        }
      ],
      "source": [
        "%%script node\n",
        "\n",
        "const a = 4;\n",
        "const b = 4;\n",
        "\n",
        "// a ile b değişkenlerinin değerlerini kıyaslıyoruz ve sonucu result değişkenine depoluyoruz.\n",
        "const result = a == b;\n",
        "\n",
        "/**\n",
        " * Eğer result'ın depoladığı kıyaslama sonucu true ise Evet... ile başlayan metin değilse Hayır.. ile başlayan \n",
        " * metin konsola yazdırılacaktır. Değerleri değiştirin ve sonucu gözlemleyin.\n",
        " */\n",
        "console.log(`${result ? \"Evet iki değişkenin depoladığı veri birbirine eşittir.\" : \"Hayır iki değişkenin depoladığı veri birbirine eşit değildir.\"}`);\n",
        "\n"
      ]
    },
    {
      "cell_type": "markdown",
      "metadata": {},
      "source": [
        "## <a id='toc1_6_'></a>[JavaScript String Operatörleri](#toc0_)\n",
        "\n",
        "JavaScript'te temelde 2 adet string operatör vardır bunlar:\n",
        "\n",
        "| **Operator** | **Açıklama**                                                                                                       |\n",
        "| ------------ | ------------------------------------------------------------------------------------------------------------------ |\n",
        "| `+ `         | Ekleme operatörü. Bir string ifadeyi başka bir string ifadeye ekler.                                               |\n",
        "| `+= `        | Ekleme ve atama operatörü. Bir string ifadeyi başka bir string ifadeye ekler ve sonucu bir değişken içine depolar. |\n",
        "\n",
        "Şimdi bunları inceleyelim arkadaşlar.\n"
      ]
    },
    {
      "cell_type": "markdown",
      "metadata": {},
      "source": [
        "### <a id='toc1_6_1_'></a>[`+` Ekleme Operatörü](#toc0_)\n",
        "\n",
        "String değişkenlerde `+` operatörü **ekleme operatörü olarak ifade edilir.** Yani iki sting değişken toplanmaz, birbirine eklenir.\n",
        "\n",
        "**Örnek**\n"
      ]
    },
    {
      "cell_type": "code",
      "execution_count": 111,
      "metadata": {
        "vscode": {
          "languageId": "javascript"
        }
      },
      "outputs": [
        {
          "name": "stdout",
          "output_type": "stream",
          "text": [
            "Ekleme sonucu: 515. Ekleme sonucunun veri tipi: string\n"
          ]
        }
      ],
      "source": [
        "%%script node\n",
        "\n",
        "// String veri tipindeki 5 değerini value1 isimi değişkene depoluyoruz.\n",
        "const value1 = \"5\";\n",
        "\n",
        "// String veri tipindeki 15 değerini value2 isimi değişkene depoluyoruz.\n",
        "const value2 = \"15\";\n",
        "\n",
        "//❗ Konsola 515 ifadesi yazdırıldığına dikkat edin.\n",
        "console.log(`Ekleme sonucu: ${value1 + value2}. Ekleme sonucunun veri tipi: ${typeof (value1 + value2)}`);\n"
      ]
    },
    {
      "cell_type": "markdown",
      "metadata": {},
      "source": [
        "### <a id='toc1_6_2_'></a>[`+=` Ekleme ve Atama Operatörü](#toc0_)\n",
        "\n",
        "Bir string ifadeye başka bir string ifadeyi ekledikten sonra elde edilen sonucu değişken içerisinde depolayabiliriz.\n"
      ]
    },
    {
      "cell_type": "code",
      "execution_count": 112,
      "metadata": {
        "vscode": {
          "languageId": "javascript"
        }
      },
      "outputs": [
        {
          "name": "stdout",
          "output_type": "stream",
          "text": [
            "Sonuç: KemalAtatürk\n"
          ]
        }
      ],
      "source": [
        "%%script node\n",
        "\n",
        "let value1 = \"Kemal\";\n",
        "let value2 = \"Atatürk\";\n",
        "\n",
        "// Ekleme ve atama operatörü, örnekte value1=value1+value2 ifadesini denktir.\n",
        "value1 += value2;\n",
        "\n",
        "// Konsola \"KemalAtatürk \"yazdırılacaktır.\n",
        "console.log(`Sonuç: ${value1}`);\n"
      ]
    },
    {
      "cell_type": "markdown",
      "metadata": {},
      "source": [
        "**⚠️ Numerik özellikli string değerler dışındaki diğer string değerleri matematiksel işlemlerde sonuca katkıda bulunmazlar. Şayet bir string matematiksel ifade içerisinde kullanılırsa işlem sonucunun veri tipi string olacaktır. Bu durum string'in bulunduğu yere göre sonucu etkiler. Numerik özellikli string değerler için durum biraz daha farklıdır. Daha detaylı bilgi almak için [JavaScript Numerik Özellikli String Değerler](js07-numeric-data-type.ipynb#javascript-numerik-özellikli-string-değerler) başlığına bakabilirsiniz.**\n",
        "\n",
        "<!-- [#1](https://github.com/eminaltan/learn-web/issues/1) -->\n",
        "\n",
        "**JavaScript'te expression'lar (ifadeler) soldan sağa şekilde değerlendirilir. Yani Javascript ifadenin nerede string olacağını bu pattern'e göre belirler.**\n",
        "\n",
        "**Örnek**\n"
      ]
    },
    {
      "cell_type": "code",
      "execution_count": 113,
      "metadata": {
        "vscode": {
          "languageId": "javascript"
        }
      },
      "outputs": [
        {
          "name": "stdout",
          "output_type": "stream",
          "text": [
            "4 + 3 + \"1\" işleminin sonucu: 71\n",
            "\"1\" + 4 + 3 işleminin sonucu: 143\n"
          ]
        }
      ],
      "source": [
        "%%script node\n",
        "\n",
        "var x = 4 + 3 + \"1\";\n",
        "\n",
        "console.log(`4 + 3 + \"1\" işleminin sonucu: ${x}`);\n",
        "\n",
        "var y = \"1\" + 4 + 3;\n",
        "\n",
        "console.log(`\"1\" + 4 + 3 işleminin sonucu: ${y}`);\n"
      ]
    },
    {
      "cell_type": "markdown",
      "metadata": {},
      "source": [
        "## <a id='toc1_7_'></a>[JavaScript Mantıksal Operatörler](#toc0_)\n",
        "\n",
        "Mantıksal operatörler JavaScript'te özellikle kıyaslama işlemlerinde sıklıkla kullanılan operatör grubudur. Bu bakımdan anlaşılması önem taşır.\n",
        "\n",
        "Mantıksal operatörleri listeleyecek olursak:\n",
        "\n",
        "| **Operator** | **Açıklama**                |\n",
        "| ------------ | --------------------------- |\n",
        "| `??`         | Nullish Coalescing Operator |\n",
        "| `?.`         | Optional Chaining Operator  |\n",
        "| `&&`         | Mantıksal AND               |\n",
        "| `\\|\\|`       | Mantıksal OR                |\n",
        "| `!`          | Mantıksal NOT               |\n"
      ]
    },
    {
      "cell_type": "markdown",
      "metadata": {},
      "source": [
        "### <a id='toc1_7_1_'></a>[`??` Nullish Coalescing Operatörü](#toc0_)\n",
        "\n",
        "Expression'da kullanılan ifadelerin içeriklerini **`null` veya `undefined`** olması durumuna göre kıyaslar.\n",
        "\n",
        "Expression'daki ifadelerden herhangi biri **`null` veya `undefined`** değerine sahipse diğer ifadenin değeri sonuç olarak döndürülür.\n",
        "\n",
        "**💡 `??` operatörünün temelde kullanım amacı `null` veya `undefined` veri tiplerine dayanır. Diğer operatörler kullanarak da aynı sonuca erişilebilir fakat `??` operatörü bu işlemi sadeleştirmek için oluşturulmuştur.**\n",
        "\n",
        "**`??` operatörü sayesinde yapılacak işlemi ortaklayabiliriz. Örneğin bir değişkenin `null` veya `undefined` değerlerinden herhangi birine sahip olması halinde belirli bir işlemi gerçekleştirebiliriz. Bu anlamda `??` operatörü işimizi kolaylaştırır.**\n",
        "\n",
        "**Örnek**\n"
      ]
    },
    {
      "cell_type": "code",
      "execution_count": 114,
      "metadata": {
        "vscode": {
          "languageId": "javascript"
        }
      },
      "outputs": [
        {
          "name": "stdout",
          "output_type": "stream",
          "text": [
            "Kıyaslama işleminin sonucu: 10\n"
          ]
        }
      ],
      "source": [
        "%%script node\n",
        "\n",
        "const a = null;\n",
        "const b = 10;\n",
        "\n",
        "// a değişkeninin değeri null olması sebebi ile b değişkeninin değeri sonuç olarak döndürülecektir.\n",
        "console.log(`Kıyaslama işleminin sonucu: ${b ?? a}`);"
      ]
    },
    {
      "cell_type": "markdown",
      "metadata": {},
      "source": [
        "### <a id='toc1_7_2_'></a>[`?.` Mantıksal Optional Chaining Operatörü](#toc0_)\n",
        "\n",
        "`?.` operatörü nesne veri türünde oluşturulmuş bir değişkendeki nested property'lere ulaşmamıza ve `null` veya `undefined` değerleri için property değerlerini sınamamızı sağlar. Nested property değeri `null` veya `undefined` değerlerinden herhangi birine sahip ise JavaScript çalışmayı durdurur ve `undefined` olarak sonuç döndürür.\n",
        "\n",
        "**Örnek**\n"
      ]
    },
    {
      "cell_type": "code",
      "execution_count": 115,
      "metadata": {
        "vscode": {
          "languageId": "javascript"
        }
      },
      "outputs": [
        {
          "name": "stdout",
          "output_type": "stream",
          "text": [
            "Sonuç: white\n",
            "Sonuç: undefined\n"
          ]
        }
      ],
      "source": [
        "%%script node\n",
        "\n",
        "const car = {\n",
        "    id: 1,\n",
        "    type: \"station wagon\",\n",
        "    carProperties: {\n",
        "        color: \"white\",\n",
        "        engine: 1.4,\n",
        "    }\n",
        "};\n",
        "\n",
        "// white nested property'sine erişiyoruz ve konsola sonucu yazdırıyoruz.\n",
        "console.log(`Sonuç: ${car?.carProperties?.color}`);\n",
        "\n",
        "// wheelSize adında nested property'si olmadığı için dönecek olan sonuç undefined olacaktır.\n",
        "console.log(`Sonuç: ${car?.carProperties?.wheelSize}`);\n"
      ]
    },
    {
      "cell_type": "markdown",
      "metadata": {},
      "source": [
        "### <a id='toc1_7_3_'></a>[`&&` Mantıksal AND Operatörü](#toc0_)\n",
        "\n",
        "Expression içerisindeki ifadeleri kıyaslar **her ifadenin doğru olması durumunda tüm sonuç `true` olacaktır.**\n",
        "\n",
        "**Herhangi bir ifadenin sonucunun `false` olması durumunda tüm sonuç `false` olacaktır.**\n"
      ]
    },
    {
      "cell_type": "code",
      "execution_count": 116,
      "metadata": {
        "vscode": {
          "languageId": "javascript"
        }
      },
      "outputs": [
        {
          "name": "stdout",
          "output_type": "stream",
          "text": [
            "3 < y && x < 20 ifadesinin sonucu: true\n",
            "3 < y && x < 20 ifadesinin sonucu: false\n"
          ]
        }
      ],
      "source": [
        "%%script node\n",
        "\n",
        "let x = 10;\n",
        "let y = 5;\n",
        "\n",
        "// y 'nin 3'den büyük olması ve x'in 20'den küçük olduğunu biliyoruz. Bu durumda ifadenin sonucu true olur.\n",
        "const result = 3 < y && x < 20;\n",
        "\n",
        "// Konsola true ifadesi yazılacaktır.\n",
        "console.log(`3 < y && x < 20 ifadesinin sonucu: ${result}`);\n",
        "\n",
        "// x'e yeni değer depolayalım.\n",
        "x = 30;\n",
        "\n",
        "// Expression'un sonucunu result2 adında değişkene depolayalım.\n",
        "const result2 = 3 < y && x < 20;\n",
        "\n",
        "/**\n",
        " * Konsola false ifadesi yazılacaktır. Çünkü 30<20 ifadesi doğru değildir ve false değer döndürür bu da tüm \n",
        " * sonucu false yapar.\n",
        " */\n",
        "console.log(`3 < y && x < 20 ifadesinin sonucu: ${result2}`);\n"
      ]
    },
    {
      "cell_type": "markdown",
      "metadata": {},
      "source": [
        "### <a id='toc1_7_4_'></a>[`||` Mantıksal OR Operatörü](#toc0_)\n",
        "\n",
        "Expression içerisindeki ifadeleri kıyaslar **herhangi bir ifadenin doğru olması durumunda tüm sonuç `true` olacaktır.**\n",
        "\n",
        "**Şayet tüm ifadelerin sonucu `false` olursa tüm sonuç `false` olacaktır.**\n",
        "\n",
        "**Örnek**\n"
      ]
    },
    {
      "cell_type": "code",
      "execution_count": 117,
      "metadata": {
        "vscode": {
          "languageId": "javascript"
        }
      },
      "outputs": [
        {
          "name": "stdout",
          "output_type": "stream",
          "text": [
            "3 < y || x < 20 || z == 0 ifadesinin sonucu: true\n",
            "10 < y || x < 20 || z == 0 ifadesinin sonucu: false\n"
          ]
        }
      ],
      "source": [
        "%%script node\n",
        "\n",
        "// Tek satırda aynı tür değişkenleri tanımlayabildiğimizi hatırlayalım bu arada.\n",
        "let x = 30, y = 5, z = 2;\n",
        "\n",
        "/**\n",
        " * Son iki ifadenin sonucu false'dır.Fakat ilk ifadenin sonucu true olması sebebi ile tüm sonuç true olarak \n",
        " * değerlendirilir.\n",
        " */\n",
        "const result = 3 < y || x < 20 || z == 0;\n",
        "\n",
        "// Konsola true ifadesi yazdırılacaktır.\n",
        "console.log(`3 < y || x < 20 || z == 0 ifadesinin sonucu: ${result}`);\n",
        "\n",
        "// Tüm ifadelerin sonucu false olması sebebi ile tüm sonuç false olarak değerlendirilir.\n",
        "result2 = 10 < y || x < 20 || z == 0;\n",
        "\n",
        "// Konsola false ifade yazılır.\n",
        "console.log(`10 < y || x < 20 || z == 0 ifadesinin sonucu: ${result2}`);\n"
      ]
    },
    {
      "cell_type": "markdown",
      "metadata": {},
      "source": [
        "### <a id='toc1_7_5_'></a>[`!` Mantıksal NOT Operatörü](#toc0_)\n",
        "\n",
        "Bir expression sonucunun tersini alır. Yani ifade `true` ise `false`, `false` ise `true` sonuçlanır.\n",
        "\n",
        "**Örnek**"
      ]
    },
    {
      "cell_type": "code",
      "execution_count": 118,
      "metadata": {
        "vscode": {
          "languageId": "javascript"
        }
      },
      "outputs": [
        {
          "name": "stdout",
          "output_type": "stream",
          "text": [
            "!(x < 50) ifadesinin sonucu: false\n",
            "y değişkenini boolean değeri: false\n",
            "!y ifadesinin sonucu: true\n"
          ]
        }
      ],
      "source": [
        "%%script node\n",
        "\n",
        "// x'e bir değer depolandığı için mantıksal olarak true özelliği taşır.\n",
        "let x = 20;\n",
        "\n",
        "/**\n",
        " * Normalde konsola true ifadesi yazılırdı. Fakat burada NOT operatörü kullanıldığı için true olan sonucun tersi \n",
        " * alınacaktır. Yani sonuç false olacak ve konsola false yazdırılacaktır.\n",
        " */\n",
        "console.log(`!(x < 50) ifadesinin sonucu: ${!(x < 50)}`);\n",
        "\n",
        "// y değişkeni undefined veri tipine sahiptir. Mantıksal olarak false değerine sahiptir.\n",
        "let y;\n",
        "\n",
        "// Konsola false ifadesi yazdırılacak. Boolean() metodu ile değişkenin boolean türünden değerini öğrenebiliriz.\n",
        "console.log(`y değişkenini boolean değeri: ${Boolean(y)}`);\n",
        "\n",
        "// y değişkenin depoladığı değerin tersini aldı. Yani false değerini true yaptı. Konsola true ifadesi yazılır.\n",
        "console.log(`!y ifadesinin sonucu: ${!y}`);"
      ]
    },
    {
      "cell_type": "markdown",
      "metadata": {},
      "source": [
        "**❗ Mantıksal atama operatörlerinin, mantıksal operatörler ile ilişkisi olmakla birlikte aynı anlama gelmemektedir. Mantıksal atama operatörleri ES (2020) ile JavaScript'e dahil olmuştur. Bu bakımdan 2020 yılından önce release edilen tarayıcılarda çalışmayabilir.**\n",
        "\n",
        "Mantıksal atama operatörlerini listelersek:\n",
        "\n",
        "| **Operator** | **Örnek** | **Karşılığı**      |\n",
        "| ------------ | --------- | ------------------ |\n",
        "| `&&= `       | x &&= y   | x = x && (x = y)   |\n",
        "| `\\|\\|=`      | x \\|\\|= y | x = x \\|\\| (x = y) |\n",
        "| `??=`        | x ??= y   | x = x ?? (x = y)   |\n",
        "\n",
        "Şimdi bu operatörleri tek tek inceleyelim.\n"
      ]
    },
    {
      "cell_type": "markdown",
      "metadata": {},
      "source": [
        "### <a id='toc1_7_6_'></a>[`&&=` Mantıksal AND Atama Operatörü](#toc0_)\n",
        "\n",
        "Bir expression veya statement'ın sonucunun `true` olması durumunda ikinci değer değişkene atanır.\n",
        "\n",
        "**Örnek**\n"
      ]
    },
    {
      "cell_type": "code",
      "execution_count": 119,
      "metadata": {
        "vscode": {
          "languageId": "javascript"
        }
      },
      "outputs": [
        {
          "name": "stdout",
          "output_type": "stream",
          "text": [
            "x'in değeri: 8\n",
            "y'nin değeri: undefined\n"
          ]
        }
      ],
      "source": [
        "%%script node\n",
        "\n",
        "let x = 35;\n",
        "\n",
        "/**\n",
        " * x değişkeni kullanıcı tanımlı değer depoladığı için true mantıksal değerine sahiptir. Bu durumda x \n",
        " * değişkenine yeni bir değer (8) rakamı depolanır.\n",
        " */\n",
        "x &&= 8;\n",
        "\n",
        "// 8 rakamı konsola yazdırılacaktır.\n",
        "console.log(`x'in değeri: ${x}`);\n",
        "\n",
        "/**\n",
        " * y değişkeni kullanıcı tanımı bir depolamıyor. Varsayılan olarak değeri undefined'dir. Bu da mantıksal \n",
        " * anlamda false ifadesine denk gelir.\n",
        " */\n",
        "let y;\n",
        "\n",
        "// y değişkeni kullanıcı tanımlı bir değer depolamadığı için yeni değere sahip olmayacaktır.\n",
        "y &&= 20;\n",
        "\n",
        "// Konsola undefined mesajı yazılır.\n",
        "console.log(`y'nin değeri: ${y}`);"
      ]
    },
    {
      "cell_type": "markdown",
      "metadata": {},
      "source": [
        "### <a id='toc1_7_7_'></a>[`||=` Mantıksal OR Atama Operatörü](#toc0_)\n",
        "\n",
        "Bir expression veya statement'ın sonucunun `false` olması durumunda ikinci değer değişkene atanır.\n",
        "\n",
        "**💡 `||=` operatörü ile `&&=` operatörü birbirine zıttır. Bu bağlamda birinin mantığını kavrarsanız diğerininkini de kavrayabilirsiniz.**\n",
        "\n",
        "**Örnek**\n"
      ]
    },
    {
      "cell_type": "code",
      "execution_count": 120,
      "metadata": {
        "vscode": {
          "languageId": "javascript"
        }
      },
      "outputs": [
        {
          "name": "stdout",
          "output_type": "stream",
          "text": [
            "y'nin değeri: 20\n",
            "x'in değeri: 35\n"
          ]
        }
      ],
      "source": [
        "%%script node\n",
        "\n",
        "/**\n",
        " * y değişkeni kullanıcı tanımı bir değer depolamıyor. Varsayılan olarak değeri undefined'dir. Bu da mantıksal \n",
        " * anlamda false ifadesine denk gelir.\n",
        " */\n",
        "let y;\n",
        "\n",
        "// y değişkeni kullanıcı tanımlı bir değer depolamadığı için yeni değeri 20 olarak tanımlanacaktır.\n",
        "y ||= 20;\n",
        "\n",
        "// Konsola 20 rakamı yazılır.\n",
        "console.log(`y'nin değeri: ${y}`);\n",
        "\n",
        "let x = 35;\n",
        "\n",
        "/**\n",
        " * x değişkeni kullanıcı tanımlı değer depoladığı için true mantıksal değerine sahiptir. Bu durumda x \n",
        " * değişkenine yeni bir değer depolanmayacaktır.\n",
        " */\n",
        "x ||= 8;\n",
        "\n",
        "// 35 rakamı konsola yazdırılacaktır.\n",
        "console.log(`x'in değeri: ${x}`);\n"
      ]
    },
    {
      "cell_type": "markdown",
      "metadata": {},
      "source": [
        "### <a id='toc1_7_8_'></a>[`??=` Nullish Coalescing Assignment Operatörü](#toc0_)\n",
        "\n",
        "Bir değişkenin depoladığı verinin _undefined_ veya _null_ olması durumunda ikinci değer değişkene atanır.\n",
        "\n",
        "**Örnek**\n"
      ]
    },
    {
      "cell_type": "code",
      "execution_count": 121,
      "metadata": {
        "vscode": {
          "languageId": "javascript"
        }
      },
      "outputs": [
        {
          "name": "stdout",
          "output_type": "stream",
          "text": [
            "x'in değeri: 80\n"
          ]
        }
      ],
      "source": [
        "%%script node\n",
        "\n",
        "// x değişkeninin default değeri undefined'dir.\n",
        "let x;\n",
        "\n",
        "// x değişkeninin default değer undefined olması sebebi ile x'e 80 rakamı depolanacaktır.\n",
        "x ??= \"80\";\n",
        "\n",
        "// 80 rakamı konsola yazdırılır.\n",
        "console.log(`x'in değeri: ${x}`);\n"
      ]
    },
    {
      "cell_type": "markdown",
      "metadata": {},
      "source": [
        "Aynı örneği `x` değişkenine `null` değerini depolayarak yapalım.\n",
        "\n",
        "**Örnek**\n"
      ]
    },
    {
      "cell_type": "code",
      "execution_count": 122,
      "metadata": {
        "vscode": {
          "languageId": "javascript"
        }
      },
      "outputs": [
        {
          "name": "stdout",
          "output_type": "stream",
          "text": [
            "x'in değeri: 80\n"
          ]
        }
      ],
      "source": [
        "%%script node\n",
        "\n",
        "// x değişkeninin değeri null'dur.\n",
        "let x = null;\n",
        "\n",
        "// x değişkeninin değeri null olması sebebi ile x'e 80 rakamı depolanacaktır.\n",
        "x ??= \"80\";\n",
        "\n",
        "// 80 rakamı konsola yazdırılır.\n",
        "console.log(`x'in değeri: ${x}`);\n"
      ]
    },
    {
      "cell_type": "markdown",
      "metadata": {},
      "source": [
        "Aynı örneği `x` değişkenine `undefined` veya `null` dışında bir değer vererek yapmış olsaydık atama işlemi gerçekleşmeyecekti.\n",
        "\n",
        "**Örnek**\n"
      ]
    },
    {
      "cell_type": "code",
      "execution_count": 123,
      "metadata": {
        "vscode": {
          "languageId": "javascript"
        }
      },
      "outputs": [
        {
          "name": "stdout",
          "output_type": "stream",
          "text": [
            "x'in değeri: 5\n"
          ]
        }
      ],
      "source": [
        "%%script node\n",
        "\n",
        "// x değişkeninin default değeri 5'dir.\n",
        "let x = 5;\n",
        "\n",
        "// x değişkeninin default değer 5 olması sebebi ile x'e yeni bir değer depolanmayacaktır.\n",
        "x ??= \"80\";\n",
        "\n",
        "// 5 rakamı konsola yazdırılır.\n",
        "console.log(`x'in değeri: ${x}`);\n"
      ]
    },
    {
      "cell_type": "markdown",
      "metadata": {},
      "source": [
        "## <a id='toc1_8_'></a>[JavaScript Bitwise Operatörler](#toc0_)\n",
        "\n",
        "**_Bit_**[^1] seviyesinde kıyaslama işlemleri için kullanılır. işlemler **_binary_**[^2] sayısal düzeninde gerçekleşir ve sonuç **_decimal_**[^3] olarak depolanır.\n",
        "\n",
        "Önemli bir takım bitwise operatörleri listelersek:\n",
        "\n",
        "| **Operator** | **Açıklama**                |\n",
        "| ------------ | --------------------------- |\n",
        "| `&`          | Bit düzeyinde mantıksal AND |\n",
        "| `\\|`         | Bit düzeyinde mantıksal OR  |\n",
        "| `~`          | Bit düzeyinde mantıksal NOT |\n",
        "| `^`          | Bit düzeyinde mantıksal XOR |\n",
        "\n",
        "Şimdi bunları inceleyelim arkadaşlar.\n"
      ]
    },
    {
      "cell_type": "markdown",
      "metadata": {},
      "source": [
        "### <a id='toc1_8_1_'></a>[`&` Bitwise AND Operatörü](#toc0_)\n",
        "\n",
        "Bit düzeyinde mantıksal **_AND_** işlemi gerçekleştirmek için kullanılır. Decimal değeri binary sayısal düzenine çevirir sonrasında bit'leri kıyaslar ve elde edilen sonucu tekrar decimal sayı sistemine çevirir.\n",
        "\n",
        "İşlem aşağıdaki tablo mantığına göre gerçekleşir:\n",
        "\n",
        "| **x'in Bit Değeri** | **y'nin Bit Değeri** | **x & y Sonucu** |\n",
        "| ------------------- | -------------------- | ---------------- |\n",
        "| 0                   | 0                    | 0                |\n",
        "| 0                   | 1                    | 0                |\n",
        "| 1                   | 0                    | 0                |\n",
        "| 1                   | 1                    | 1                |\n",
        "\n",
        "**Örnek**\n"
      ]
    },
    {
      "cell_type": "code",
      "execution_count": 124,
      "metadata": {
        "vscode": {
          "languageId": "javascript"
        }
      },
      "outputs": [
        {
          "name": "stdout",
          "output_type": "stream",
          "text": [
            "Bitwise AND sonucu: 1\n"
          ]
        }
      ],
      "source": [
        "%%script node\n",
        "\n",
        "// x değişkenin binary değeri 101'dir.\n",
        "let x = 5;\n",
        "\n",
        "// x değişkenin binary değeri 011'dir.\n",
        "let y = 3;\n",
        "\n",
        "/**\n",
        " *  x = x & y ifadesinin dengidir. Bit seviyesinde AND işlemi gerçekleştiriliyor. Sonuç 001 olacak ve değer x \n",
        " * değişkenine aktarılacaktır.\n",
        " */\n",
        "x &= y;\n",
        "\n",
        "// 001 decimal  karşılığı 1'dir ve konsola 1 rakamı yazdırılacaktır.\n",
        "console.log(`Bitwise AND sonucu: ${x}`);\n"
      ]
    },
    {
      "cell_type": "markdown",
      "metadata": {},
      "source": [
        "### <a id='toc1_8_2_'></a>[`|` Bitwise OR Operatörü](#toc0_)\n",
        "\n",
        "Bit düzeyinde mantıksal **_OR_** işlemi gerçekleştirmek için kullanılır. Decimal değeri binary sayısal düzenine çevirir sonrasında bit'leri kıyaslar ve elde edilen sonucu tekrar decimal sayı sistemine çevirir.\n",
        "\n",
        "**İşlem her bit için ayrı ayrı gerçekleştirilir.**\n",
        "\n",
        "İşlem aşağıdaki tablo mantığına göre gerçekleşir:\n",
        "\n",
        "| **x'in Bit Değeri** | **\\|x Sonucu** |\n",
        "| ------------------- | -------------- |\n",
        "| 0                   | 0              |\n",
        "| 0                   | 1              |\n",
        "| 1                   | 1              |\n",
        "| 1                   | 1              |\n",
        "\n",
        "**Örnek**\n"
      ]
    },
    {
      "cell_type": "code",
      "execution_count": 125,
      "metadata": {
        "vscode": {
          "languageId": "javascript"
        }
      },
      "outputs": [
        {
          "name": "stdout",
          "output_type": "stream",
          "text": [
            "Bitwise OR sonucu: 47\n"
          ]
        }
      ],
      "source": [
        "%%script node\n",
        "\n",
        "// 38 rakamının karşılığı 100110'dir.\n",
        "let x = 38;\n",
        "\n",
        "// 45 rakamının karşılığı 101101'dir.\n",
        "let y = 45;\n",
        "\n",
        "// 101111 decimal karşılığı 47'dir ve konsola 47 rakamı yazdırılacaktır.\n",
        "x |= y;\n",
        "console.log(`Bitwise OR sonucu: ${x}`);"
      ]
    },
    {
      "cell_type": "markdown",
      "metadata": {},
      "source": [
        "### <a id='toc1_8_3_'></a>[`~` Bitwise NOT Operatörü](#toc0_)\n",
        "\n",
        "Bit düzeyinde mantıksal **_NOT_** işlemi gerçekleştirmek için kullanılır. Decimal değeri binary sayısal düzenine çevirir sonrasında bit'leri kıyaslar ve elde edilen sonucu tekrar decimal sayı sistemine çevirir.\n",
        "\n",
        "**İşlem her bit için ayrı ayrı gerçekleştirilir.**\n",
        "\n",
        "İşlem aşağıdaki tablo mantığına göre gerçekleşir:\n",
        "\n",
        "| **x'in Bit Değeri** | **~x Sonucu** |\n",
        "| ------------------- | ------------- |\n",
        "| 0                   | 1             |\n",
        "| 1                   | 0             |\n",
        "\n",
        "Kısaca bit değerlerini ters çevirir.\n",
        "\n",
        "**Örnek**\n"
      ]
    },
    {
      "cell_type": "code",
      "execution_count": 1,
      "metadata": {
        "vscode": {
          "languageId": "javascript"
        }
      },
      "outputs": [
        {
          "name": "stdout",
          "output_type": "stream",
          "text": [
            "Bitwise NOT sonucu: 10\n"
          ]
        }
      ],
      "source": [
        "%%script node\n",
        "\n",
        "// 5 rakamının karşılığı 0101'dir.\n",
        "let x = 5;\n",
        "\n",
        "// 1010'un decimal karşılığı 10'dur ve konsola 10 rakamı yazdırılacaktır.\n",
        "console.log(`Bitwise NOT sonucu: ${~x}`);"
      ]
    },
    {
      "cell_type": "markdown",
      "metadata": {},
      "source": [
        "### <a id='toc1_8_4_'></a>[`^` Bitwise XOR Operatörü](#toc0_)\n",
        "\n",
        "Bit düzeyinde mantıksal **_XOR_** işlemi gerçekleştirmek için kullanılır. Decimal değeri binary sayısal düzenine çevirir sonrasında bit'leri kıyaslar ve elde edilen sonucu tekrar decimal sayı sistemine çevirir.\n",
        "\n",
        "İşlem aşağıdaki tablo mantığına göre gerçekleşir:\n",
        "\n",
        "| **x'in Bit Değeri** | **y'nin Bit Değeri** | **x ^ y Sonucu** |\n",
        "| ------------------- | -------------------- | ---------------- |\n",
        "| 0                   | 0                    | 0                |\n",
        "| 0                   | 1                    | 1                |\n",
        "| 1                   | 0                    | 1                |\n",
        "| 1                   | 1                    | 0                |\n",
        "\n",
        "**Örnek**\n"
      ]
    },
    {
      "cell_type": "code",
      "execution_count": 127,
      "metadata": {
        "vscode": {
          "languageId": "javascript"
        }
      },
      "outputs": [
        {
          "name": "stdout",
          "output_type": "stream",
          "text": [
            "Bitwise XOR sonucu: 8\n"
          ]
        }
      ],
      "source": [
        "%%script node\n",
        "\n",
        "// 20 rakamının binary karşılığı 10100'dır.\n",
        "let x = 20;\n",
        "\n",
        "// 28 rakamının binary karşılığı 11100'dır.\n",
        "let y = 28;\n",
        "\n",
        "// x=x^y ifadesine denktir.\n",
        "x ^= y;\n",
        "\n",
        "// 1000 binary değerinin decimal karşılığı 8'dir.\n",
        "console.log(`Bitwise XOR sonucu: ${x}`);\n"
      ]
    },
    {
      "cell_type": "markdown",
      "metadata": {},
      "source": [
        "## <a id='toc1_9_'></a>[JavaScript Type Operatörleri](#toc0_)\n",
        "\n",
        "JavaScript'te bir çok type operatörü vardır. Type operatörleri bir değişkeni başka bir değişkene dönüştürmek için veya değişkenin türünü ve veri tipini öğrenme gibi işlemler için kullanılır.\n",
        "\n",
        "En çok kullanılan type operatörlerini listelersek:\n",
        "\n",
        "- `typeof()`\n",
        "\n",
        "- `instanceof `\n",
        "\n",
        "Diğer type operatörlerine ayrı bir başlık altında değineceğim. Çünkü asıl konumuz operatörleridir. Type operatörleri aynı zamanda metot (fonksiyon) olma özelliği taşır.\n"
      ]
    },
    {
      "cell_type": "markdown",
      "metadata": {},
      "source": [
        "### <a id='toc1_9_1_'></a>[`typeOf` Operatörü/Metodu](#toc0_)\n",
        "\n",
        "Bir değişkenin depoladığı değere göre veri türünü öğrenmemizi sağlar.\n",
        "\n",
        "**Örnek**\n"
      ]
    },
    {
      "cell_type": "code",
      "execution_count": 128,
      "metadata": {
        "vscode": {
          "languageId": "javascript"
        }
      },
      "outputs": [
        {
          "name": "stdout",
          "output_type": "stream",
          "text": [
            "x'in veri tipi: number\n",
            "y'nin veri tipi: string\n",
            "z'nin veri tipi: boolean\n"
          ]
        }
      ],
      "source": [
        "%%script node\n",
        "\n",
        "const x = 4;\n",
        "\n",
        "// number ifadesi konsola yazılır. x değişkeninin veri tipi sayısal özelliklidir.\n",
        "console.log(`x'in veri tipi: ${typeof x}`);\n",
        "\n",
        "const y = \"deneme\";\n",
        "\n",
        "// string ifadesi konsola yazılır. y değişkeninin veri tipi string özelliklidir.\n",
        "console.log(`y'nin veri tipi: ${typeof y}`);\n",
        "\n",
        "const z = false;\n",
        "// boolean ifadesini konsola yazdırır. z değişkenin veri tipi boolean özelliklidir.\n",
        "console.log(`z'nin veri tipi: ${typeof z}`);\n"
      ]
    },
    {
      "cell_type": "markdown",
      "metadata": {},
      "source": [
        "### <a id='toc1_9_2_'></a>[`instanceof` Operatörü/Metodu](#toc0_)\n",
        "\n",
        "Object veri türü özelliğine sahip değişkenlerde birden fazla kullanım yöntemi olmakla birlikte değişkenin veri türünü belirlemede, bir özelliğin nesne ile ilişkisini anlamada veya katılım izleme işlemlerini gerçekleştirmek için kullanılır.\n",
        "\n",
        "**💡 Özellikle object veri türü özellikli değişkenlerde debug işlemleri için kullanışlı olabilir.**\n",
        "\n",
        "**Örnek**\n"
      ]
    },
    {
      "cell_type": "code",
      "execution_count": 129,
      "metadata": {
        "vscode": {
          "languageId": "javascript"
        }
      },
      "outputs": [
        {
          "name": "stdout",
          "output_type": "stream",
          "text": [
            "Sonuç: Evet student nesne özellikli bir değişkendir.\n",
            "student değişkeninin veri tipi: object\n"
          ]
        }
      ],
      "source": [
        "%%script node\n",
        "\n",
        "const student = { name: \"Betül\", surname: \"Şavluk\" };\n",
        "\n",
        "/** \n",
        " * student değişkeni nesne özellikli olup/olmadığı ternary operatör ile sınanıyor sonuç result değişkenine \n",
        " * aktarılıyor.\n",
        " */\n",
        "\n",
        "const result =\n",
        "  student instanceof Object\n",
        "    ? \"Evet student nesne özellikli bir değişkendir.\"\n",
        "    : \"Hayır student nesne özellikli bir değişken değişkendir.\";\n",
        "\n",
        "// Konsola Evet... ile başlayan mesaj yazdırılacaktır.\n",
        "console.log(`Sonuç: ${result}`);\n",
        "\n",
        "// Konsola student değişkeninin veri tipi yazdırılıyor.\n",
        "console.log(`student değişkeninin veri tipi: ${typeof student}`);\n"
      ]
    },
    {
      "cell_type": "markdown",
      "metadata": {},
      "source": [
        "Aşağıdaki örnekte `student` değişkeni için object özellikleri sorgulanıyor.\n",
        "\n",
        "**Örnek**"
      ]
    },
    {
      "cell_type": "code",
      "execution_count": 130,
      "metadata": {
        "vscode": {
          "languageId": "javascript"
        }
      },
      "outputs": [
        {
          "name": "stdout",
          "output_type": "stream",
          "text": [
            "student instanceof Student: true\n",
            "student instanceof Object: true\n",
            "student instanceof Array: false\n"
          ]
        }
      ],
      "source": [
        "%%script node\n",
        "\n",
        "function Student(studentName) {\n",
        "  this.name = studentName;\n",
        "}\n",
        "\n",
        "const student = new Student();\n",
        "\n",
        "// true değeri döndürür. Çünkü student değişkeni Student constructor'un örneğidir.\n",
        "console.log(`student instanceof Student: ${student instanceof Student}`);\n",
        "\n",
        "// true değeri döndürür. Çünkü student değişkeni aynı zamanda Object örneğidir.\n",
        "console.log(`student instanceof Object: ${student instanceof Object}`);\n",
        "\n",
        "// false değeri döndürür. Çünkü student değişkeni Array örneği değildir.\n",
        "console.log(`student instanceof Array: ${student instanceof Array}`);\n"
      ]
    },
    {
      "cell_type": "markdown",
      "metadata": {},
      "source": [
        "[^1]: \"Bit,\" kısaltılmış haliyle \"binary digit\" kelimesinin baş harflerinden oluşan bir terimdir ve bilgisayar bilimlerinde temel bir kavramdır. Bit, en küçük veri birimi olarak bilinir ve yalnızca iki değere sahip olabilen bir elektronik veya dijital bilgi parçasını temsil eder. Bu iki değer 0 ve 1'dir.\n",
        "[^2]: \"Binary\" terimi, bilgisayar bilimlerinde ve elektronikte oldukça yaygın olarak kullanılan bir terimdir ve ikili (2 temel değer) sayı sistemini ifade eder. İkili sistem, yalnızca iki sembol veya değer içeren bir sayı sistemidir. Bu iki sembol genellikle \"0\" ve \"1\" olarak temsil edilir.\n",
        "[^3]: \"Decimal,\" yaygın olarak ondalık sayı sistemini ifade eden bir terimdir. Ondalık sayı sistemi, 10 rakamdan oluşur ve her bir rakamın temsil ettiği değer 0 ila 9 arasında değişir. Ondalık sistemi kullanarak herhangi bir sayıyı ifade edebilirsiniz. Bu sistemde her haneli bir sayı, 10'un üssüne dayalı bir değer temsil eder.\n"
      ]
    }
  ],
  "metadata": {
    "kernelspec": {
      "display_name": "Python 3",
      "language": "python",
      "name": "python3"
    },
    "language_info": {
      "codemirror_mode": {
        "name": "ipython",
        "version": 3
      },
      "file_extension": ".py",
      "mimetype": "text/x-python",
      "name": "python",
      "nbconvert_exporter": "python",
      "pygments_lexer": "ipython3",
      "version": "3.10.12"
    }
  },
  "nbformat": 4,
  "nbformat_minor": 2
}
