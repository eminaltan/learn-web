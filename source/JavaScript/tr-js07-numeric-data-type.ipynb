{
  "cells": [
    {
      "cell_type": "markdown",
      "metadata": {},
      "source": [
        "# JavaScript Number Veri Türü ve Veri Tipi<a id='toc0_'></a>\n",
        "\n",
        "Merhaba arkadaşlar serinin bu bölümünde JavaScript'de **_number_** veri türlerini ve veri tiplerini inceleyeceğiz.\n",
        "\n",
        "Yazıda:\n",
        "\n",
        "- [JavaScript Number Veri Türü](#toc1_1_)\n",
        "  - [Exponential Notation](#toc1_1_1_)\n",
        "  - [JavaScript Precision Kavramı ve Türleri](#toc1_1_2_)\n",
        "    - [Integer Precision](#toc1_1_2_1_)\n",
        "    - [Float Precision](#toc1_1_2_2_)\n",
        "  - [JavaScript Numerik Özellikli String Değerler](#toc1_1_3_)\n",
        "  - [JavaScript `NaN` Not a Number Terimi](#toc1_1_4_)\n",
        "  - [JavaScript Infinity](#toc1_1_5_)\n",
        "  - [JavaScript Hexadecimal Değerler](#toc1_1_6_)\n",
        "- [JavaScript Object Veri Tipinde Number Veri Türleri](#toc1_2_)\n",
        "- [JavaScript Number Metotları](#toc1_3_)\n",
        "  - [`toString()` Metodu](#toc1_3_1_)\n",
        "  - [`toExponential()` Metodu](#toc1_3_2_)\n",
        "  - [`toFixed()` Metodu](#toc1_3_3_)\n",
        "  - [`toPrecision()` Metodu](#toc1_3_4_)\n",
        "  - [`valueOf()` Metodu](#toc1_3_5_)\n",
        "  - [Değerlerin Number Veri türüne Dönüştürülmesi](#toc1_3_6_)\n",
        "    - [`Number()` Metodu](#toc1_3_6_1_)\n",
        "    - [`parseInt()` Metodu](#toc1_3_6_2_)\n",
        "    - [`parseFloat()` Metodu](#toc1_3_6_3_)\n",
        "  - [Number Nesnesi İçerisindeki Metotların Kullanımı](#toc1_3_7_)\n",
        "    - [`Number.isInteger()` Metodu](#toc1_3_7_1_)\n",
        "    - [`Number.isSafeInteger()` Metodu](#toc1_3_7_2_)\n",
        "    - [`Number.parseFloat()` Metodu](#toc1_3_7_3_)\n",
        "    - [`Number.parseInt()` Metodu](#toc1_3_7_4_)\n",
        "- [Özet](#toc1_4_)\n",
        "\n",
        "Değineceğim.\n",
        "\n",
        "İyi okumalar dilerim.\n",
        "\n",
        "If you want to read English version of this article please visit [this link](js07-numeric-data-type.ipynb)\n",
        "\n",
        "<!-- vscode-jupyter-toc-config\n",
        "\tnumbering=false\n",
        "\tanchor=true\n",
        "\tflat=false\n",
        "\tminLevel=1\n",
        "\tmaxLevel=6\n",
        "\t/vscode-jupyter-toc-config -->\n",
        "<!-- THIS CELL WILL BE REPLACED ON TOC UPDATE. DO NOT WRITE YOUR TEXT IN THIS CELL -->\n"
      ]
    },
    {
      "cell_type": "markdown",
      "metadata": {},
      "source": [
        "## <a id='toc1_1_'></a>[JavaScript Number Veri Türü](#toc0_)\n",
        "\n",
        "JavaScript'de iki sayısal veri türü vardır. Bunlardan biri **_BigInt_** diğeri ise **_number_** veri türüdür. Bu kısımda number veri türünü inceleyeceğiz.\n",
        "\n",
        "Number veri türü primitive özelliklidir ve **_immutable_** yapıdadırlar yani değiştirilemezler.\n",
        "\n",
        "JavaScript'de number veri tipine sahip değerler ondalıklı veya tam sayı olarak ifade edilebilirler.\n",
        "\n",
        "**Örnek**\n"
      ]
    },
    {
      "cell_type": "code",
      "execution_count": 87,
      "metadata": {
        "vscode": {
          "languageId": "javascript"
        }
      },
      "outputs": [
        {
          "name": "stdout",
          "output_type": "stream",
          "text": [
            "x ile y değişkenleri birbirlerine hem veri tipi hem de değer olarak eşit mi: true\n"
          ]
        }
      ],
      "source": [
        "%%script node\n",
        "\n",
        "// Her iki değişkenin depoladığı değer ve veri tipi bakımından aynıdır.\n",
        "let x = 20.0;\n",
        "let y = 20;\n",
        "\n",
        "// Konsola true ifadesi yazdırılacaktır.\n",
        "console.log(`x ile y değişkenleri birbirlerine hem veri tipi hem de değer olarak eşit mi: ${x === y}`);\n"
      ]
    },
    {
      "cell_type": "markdown",
      "metadata": {},
      "source": [
        "**⚠️ Bir çok programlama dilinde sayısal değerler byte (8-bit), short (16-bit), int (32-bit), long (64-bit) olarak kategorize edilir.**\n",
        "\n",
        "**JavaScript'de sayısal değerler daima double (64-bit floating point) özelliktedirler.**\n"
      ]
    },
    {
      "cell_type": "markdown",
      "metadata": {},
      "source": [
        "### <a id='toc1_1_1_'></a>[Exponential Notation](#toc0_)\n",
        "\n",
        "Çok büyük sayısal değerler bilimsel olarak ifade edilebilir.\n",
        "\n",
        "**Örnek**\n"
      ]
    },
    {
      "cell_type": "code",
      "execution_count": 88,
      "metadata": {
        "vscode": {
          "languageId": "javascript"
        }
      },
      "outputs": [
        {
          "name": "stdout",
          "output_type": "stream",
          "text": [
            "y değişkeninin değeri: 12300000\n",
            "z değişkeninin değeri: 0.00123\n"
          ]
        }
      ],
      "source": [
        "%%script node\n",
        "\n",
        "let y = 123e5;\n",
        "\n",
        "// 12300000 değeri konsola yazdırılır.\n",
        "console.log(`y değişkeninin değeri: ${y}`);\n",
        "\n",
        "let z = 123e-5; // 0.00123\n",
        "\n",
        "// 0.00123 değeri konsola yazdırılır.\n",
        "console.log(`z değişkeninin değeri: ${z}`);\n"
      ]
    },
    {
      "cell_type": "markdown",
      "metadata": {},
      "source": [
        "**⚠️ Matematiksel bir expression'a (ifadeye) numerik özellikli string değer dahil olduğunda sonuç veri tipinin string türünde oluşacağını unutmayın.**\n",
        "\n",
        "**Bu durum sayısal string değerlerin kullanım yerlerine ve operatör türüne göre değişiklik gösterir. Detaylı bilgi almak için [JavaScript Numerik Özellikli String Değerler](#javascript-numerik-özellikli-string-değerler) başlığını ziyaret edebilirsiniz.**\n",
        "\n",
        "**Örnek**\n"
      ]
    },
    {
      "cell_type": "code",
      "execution_count": 89,
      "metadata": {
        "vscode": {
          "languageId": "javascript"
        }
      },
      "outputs": [
        {
          "name": "stdout",
          "output_type": "stream",
          "text": [
            "Sonuç: 1020\n"
          ]
        }
      ],
      "source": [
        "%%script node\n",
        "\n",
        "let x = 10;\n",
        "let y = 20;\n",
        "let z = \"Sonuç: \" + x + y;\n",
        "\n",
        "// Sonuç 1020 şeklinde ifade konsola yazdırılacaktır.\n",
        "console.log(z);\n"
      ]
    },
    {
      "cell_type": "markdown",
      "metadata": {},
      "source": [
        "### <a id='toc1_1_2_'></a>[JavaScript Precision Kavramı ve Türleri](#toc0_)\n",
        "\n",
        "JavaScript'de **_precision_**, sayıların ondalık basamaklarındaki hassasiyeti veya kesirli sayıların kaç basamakla temsil edildiğini belirtmek için kullanılan bir terimdir. Bu terim, özellikle hassasiyet gerektiren sayılarla yapılan matematiksel işlemlerde önemlidir.\n",
        "\n",
        "**JavaScript'de 2 tür precision vardır:**\n",
        "\n",
        "- Integer\n",
        "\n",
        "- Floating\n",
        "\n",
        "Şimdi bunları inceleyelim.\n"
      ]
    },
    {
      "cell_type": "markdown",
      "metadata": {},
      "source": [
        "#### <a id='toc1_1_2_1_'></a>[Integer Precision](#toc0_)\n",
        "\n",
        "Integer veri türleri ondalıklı veya bilimsel değer ile ifade edilmedikleri sürece 15 haneye kadar sayısal doğruluğa sahiptirler.\n",
        "\n",
        "**Örnek**\n"
      ]
    },
    {
      "cell_type": "code",
      "execution_count": 90,
      "metadata": {
        "vscode": {
          "languageId": "javascript"
        }
      },
      "outputs": [
        {
          "name": "stdout",
          "output_type": "stream",
          "text": [
            "x'in değeri: 999999999999999\n",
            "x değerinin hane sayısı: 15\n",
            "y'nin değeri: 10000000000000000\n",
            "y değerinin hane sayısı: 17\n"
          ]
        }
      ],
      "source": [
        "%%script node\n",
        "\n",
        "let x = \"999999999999999\";\n",
        "\n",
        "console.log(`x'in değeri: ${x}`);\n",
        "console.log(`x değerinin hane sayısı: ${x.toString().length}`);\n",
        "\n",
        "let y = 9999999999999999;\n",
        "\n",
        "console.log(`y'nin değeri: ${y}`);\n",
        "console.log(`y değerinin hane sayısı: ${y.toString().length}`);\n"
      ]
    },
    {
      "cell_type": "markdown",
      "metadata": {},
      "source": [
        "Yukarıda görüleceği üzere `x` değişkeni 15.karaktere kadar depoladığı değeri doğru bir şekilde korumaktadır. Ancak `y` değeri için aynı durum söz konusu değildir. `y` değişkeni 17 haneden oluşmaktadır bundan ötürü `y` değişkeninin değeri bir üst rakama yuvarlanır."
      ]
    },
    {
      "cell_type": "markdown",
      "metadata": {},
      "source": [
        "Decimal değerlerinde maksimum ulaşabileceği hane sayısı 17'dir.\n"
      ]
    },
    {
      "cell_type": "markdown",
      "metadata": {},
      "source": [
        "#### <a id='toc1_1_2_2_'></a>[Float Precision](#toc0_)\n",
        "\n",
        "Ondalıklı değerler için kullanılır.\n",
        "\n",
        "**❗ Ondalık sayılarla yapılan aritmetiksel işlemlerin sonucu %100 doğru olmayabilir.**\n",
        "\n",
        "**Örnek**\n"
      ]
    },
    {
      "cell_type": "code",
      "execution_count": 91,
      "metadata": {
        "vscode": {
          "languageId": "javascript"
        }
      },
      "outputs": [
        {
          "name": "stdout",
          "output_type": "stream",
          "text": [
            "x değişkeninin değeri: 0.30000000000000004\n",
            "y değişkeninin değeri: 0.3\n"
          ]
        }
      ],
      "source": [
        "%%script node\n",
        "\n",
        "let x = 0.2 + 0.1;\n",
        "\n",
        "// 0.30000000000000004 değer konsola yazdırılacaktır.\n",
        "console.log(`x değişkeninin değeri: ${x}`);\n",
        "\n",
        "/**\n",
        " * Bu sorunu çözmek için ondalıklı sayı tam sayıya çevrilir aritmetiksel işlem gerçekleştirilir ve son olarak \n",
        " * elde edilen değer hangi sayısal sistemde kullanılacaksa o sayıya bölünür.\n",
        " */\n",
        "\n",
        "// Ondalık sayılar 10'luk sisteme çevriliyor.\n",
        "let y = (0.2 * 10 + 0.1 * 10) / 10;\n",
        "\n",
        "// 0.3 değeri konsola yazdırılacaktır.\n",
        "console.log(`y değişkeninin değeri: ${y}`);\n"
      ]
    },
    {
      "cell_type": "markdown",
      "metadata": {},
      "source": [
        "### <a id='toc1_1_3_'></a>[JavaScript Numerik Özellikli String Değerler](#toc0_)\n",
        "\n",
        "String veri türleri rakamlardan oluşabilir. Bu durumdaki string değerler **_numerik özellikli string_** olarak ifade edilir.\n",
        "\n",
        "**❗ Numerik özellikli string değerler number veri tipine dönüştürülür ve aritmetiksel operatörler kullanılarak matematiksel işlemler gerçekleştirilebilir. Sonucun veri tipi number olacaktır.**\n",
        "\n",
        "**Bu durum `+` operatörü için geçerli değildir. `+` operatörünün string değerler için ekleme fonksiyonunu gerçekleştirdiğini hatırlayınız.**\n",
        "\n",
        "**Örnek**\n"
      ]
    },
    {
      "cell_type": "code",
      "execution_count": 92,
      "metadata": {
        "vscode": {
          "languageId": "javascript"
        }
      },
      "outputs": [
        {
          "name": "stdout",
          "output_type": "stream",
          "text": [
            "Sonuç: 10 işlem sonucunun veri tipi: number\n",
            "Sonuç: 1000 işlem sonucunun veri tipi: number\n",
            "Sonuç: 90 işlem sonucunun veri tipi: number\n",
            "Sonuç: 10010 işlem sonucunun veri tipi: string\n"
          ]
        }
      ],
      "source": [
        "%%script node\n",
        "\n",
        "let x = \"100\";\n",
        "let y = \"10\";\n",
        "\n",
        "// 10 rakamı konsola yazdırılacaktır.\n",
        "console.log(`Sonuç: ${(x / y)} işlem sonucunun veri tipi: ${typeof (x / y)}`);\n",
        "\n",
        "// 1000 rakamı konsola yazdırılacaktır.\n",
        "console.log(`Sonuç: ${(x * y)} işlem sonucunun veri tipi: ${typeof (x * y)}`);\n",
        "\n",
        "// 90 rakamı konsola yazdırılacaktır.\n",
        "console.log(`Sonuç: ${(x - y)} işlem sonucunun veri tipi: ${typeof (x - y)}`);\n",
        "\n",
        "// ⚠️ 10010 rakamı konsola yazdırılacaktır. İşlem sonucunun veri tipinin string olduğuna dikkat edelim.\n",
        "console.log(`Sonuç: ${(x + y)} işlem sonucunun veri tipi: ${typeof (x + y)}`);\n"
      ]
    },
    {
      "cell_type": "markdown",
      "metadata": {},
      "source": [
        "### <a id='toc1_1_4_'></a>[JavaScript `NaN` Not a Number Terimi](#toc0_)\n",
        "\n",
        "`NaN` değeri JavaScript'de rezerv edilmiş bir keyword olup author tanımı işlemlerde kullanılamaz. (Örneğin bir değişken ismi `NaN` ile başlayamaz.)\n",
        "\n",
        "`NaN` değeri aritmetiksel işlem sonucunun sayısal veya rakamsal bir sonuç üretmediğini ifade etmek için kullanılır.\n",
        "\n",
        "**Örnek**\n"
      ]
    },
    {
      "cell_type": "code",
      "execution_count": 93,
      "metadata": {
        "vscode": {
          "languageId": "javascript"
        }
      },
      "outputs": [
        {
          "name": "stdout",
          "output_type": "stream",
          "text": [
            "Sonuç: NaN\n"
          ]
        }
      ],
      "source": [
        "%%script node\n",
        "\n",
        "/**\n",
        " * NaN ifadesi konsola yazdırılacaktır. Çünkü 10/Kamyon expression'un sonucu sayısal veya rakamsal bir değer \n",
        " * değildir.\n",
        " */\n",
        "console.log(`Sonuç: ${10 / \"Kamyon\"}`);\n"
      ]
    },
    {
      "cell_type": "markdown",
      "metadata": {},
      "source": [
        "**⚠️ Bu durum string değerin numerik özellikli olması durumunda değişir ve işlem sonuç verir.**\n",
        "\n",
        "**Örnek**\n"
      ]
    },
    {
      "cell_type": "code",
      "execution_count": 94,
      "metadata": {
        "vscode": {
          "languageId": "javascript"
        }
      },
      "outputs": [
        {
          "name": "stdout",
          "output_type": "stream",
          "text": [
            "Sonuç: 5\n"
          ]
        }
      ],
      "source": [
        "%%script node\n",
        "\n",
        "// 5 rakamı konsola yazdırılır.\n",
        "console.log(`Sonuç: ${100 / \"20\"}`);\n"
      ]
    },
    {
      "cell_type": "markdown",
      "metadata": {},
      "source": [
        "Sonucu `NaN` olan bir ifade ile aritmetiksel işlem yaptığımızda sonuç yine `NaN` olacaktır.\n",
        "\n",
        "**Örnek**\n"
      ]
    },
    {
      "cell_type": "code",
      "execution_count": 95,
      "metadata": {
        "vscode": {
          "languageId": "javascript"
        }
      },
      "outputs": [
        {
          "name": "stdout",
          "output_type": "stream",
          "text": [
            "Sonuç: NaN\n"
          ]
        }
      ],
      "source": [
        "%%script node\n",
        "\n",
        "let x = NaN;\n",
        "\n",
        "let y = 10;\n",
        "\n",
        "let z = x + y;\n",
        "\n",
        "// Konsola NaN ifadesi yazdırılacaktır.\n",
        "console.log(`Sonuç: ${z}`);\n"
      ]
    },
    {
      "cell_type": "markdown",
      "metadata": {},
      "source": [
        "`NaN` ifadesinin veri tipi number'dır. Eğer `typeOf()` metodunu `NaN` için kullanırsak konsola \"number\" ifadesi yazılır.\n",
        "\n",
        "**Örnek**\n"
      ]
    },
    {
      "cell_type": "code",
      "execution_count": 96,
      "metadata": {
        "vscode": {
          "languageId": "javascript"
        }
      },
      "outputs": [
        {
          "name": "stdout",
          "output_type": "stream",
          "text": [
            "NaN ifadesinin veri tipi: number\n"
          ]
        }
      ],
      "source": [
        "%%script node\n",
        "\n",
        "// Konsola number ifadesi yazdırılacaktır.\n",
        "console.log(`NaN ifadesinin veri tipi: ${typeof NaN}`);\n"
      ]
    },
    {
      "cell_type": "markdown",
      "metadata": {},
      "source": [
        "Bir expression'un sonucunun `NaN` olup/olmadığını `isNaN()` metodu ile sorgulayabiliriz.\n",
        "\n",
        "Expression sonucu `NaN` değerini depolamışsa `isNaN()` fonksiyonu `true` aksi durumda `false` değerini geri dönderir.\n",
        "\n",
        "**Örnek**\n"
      ]
    },
    {
      "cell_type": "code",
      "execution_count": 97,
      "metadata": {
        "vscode": {
          "languageId": "javascript"
        }
      },
      "outputs": [
        {
          "name": "stdout",
          "output_type": "stream",
          "text": [
            "z değişkenin NaN özellikli mi?: true\n",
            "m değişkenin NaN özellikli mi?: false\n"
          ]
        }
      ],
      "source": [
        "%%script node\n",
        "\n",
        "// İşlemin sonucu NaN olarak sonuçlanacak ve NaN değer z değişkeninin içerisine depolanacaktır.\n",
        "let z = 20 / \"Kalem\";\n",
        "\n",
        "/**\n",
        " * z değişkeninin NaN özellikli olup/olmadığını isNaN() metodu ile sorgularız. z değişkeni NaN özellik olması \n",
        " * sebebi ile sonuç true olarak konsola yazdırılacaktır.\n",
        " */\n",
        "console.log(`z değişkenin NaN özellikli mi?: ${isNaN(z)}`);\n",
        "\n",
        "let m = \"10\" / 5;\n",
        "\n",
        "// Konsola false ifadesi yazdırılacaktır. Çünkü işlemin sonucu bir değer üretiyor.\n",
        "console.log(`m değişkenin NaN özellikli mi?: ${isNaN(m)}`);\n"
      ]
    },
    {
      "cell_type": "markdown",
      "metadata": {},
      "source": [
        "### <a id='toc1_1_5_'></a>[JavaScript Infinity](#toc0_)\n",
        "\n",
        "Bir değerin maksimum veya minimum alabileceği değeri ifade etmek için kullanılır.\n",
        "\n",
        "`infinity` keyword'u özellikle çıkış koşulunu tam olarak belirleyemediğimiz `while` döngülerinde faydalı olabilir.\n",
        "\n",
        "**Örnek**\n"
      ]
    },
    {
      "cell_type": "code",
      "execution_count": 98,
      "metadata": {
        "vscode": {
          "languageId": "javascript"
        }
      },
      "outputs": [
        {
          "name": "stdout",
          "output_type": "stream",
          "text": [
            "Sonuç: 4\n",
            "Sonuç: 16\n",
            "Sonuç: 256\n",
            "Sonuç: 65536\n",
            "Sonuç: 4294967296\n",
            "Sonuç: 18446744073709552000\n",
            "Sonuç: 3.402823669209385e+38\n",
            "Sonuç: 1.157920892373162e+77\n",
            "Sonuç: 1.3407807929942597e+154\n",
            "Sonuç: Infinity\n"
          ]
        }
      ],
      "source": [
        "%%script node\n",
        "\n",
        "let myNumber = 2;\n",
        "\n",
        "// Sonuç infinity yani sonsuz değer olana kadar döngü çalışır. Sonuç infinity olduğunda döngü sonlanır.\n",
        "while (myNumber != Infinity) {\n",
        "  myNumber = myNumber * myNumber;\n",
        "  console.log(`Sonuç: ${myNumber}`);\n",
        "};\n"
      ]
    },
    {
      "cell_type": "markdown",
      "metadata": {},
      "source": [
        "### <a id='toc1_1_6_'></a>[JavaScript Hexadecimal Değerler](#toc0_)\n",
        "\n",
        "**_Hexadecimal_**[^1] değerler JavaScript'de number özellikli veri türlerindendir.\n",
        "\n",
        "Hexadecimal değer otomatik olarak sayısal değere dönüştürülmeye çalışılır.\n",
        "\n",
        "**Örnek**\n"
      ]
    },
    {
      "cell_type": "code",
      "execution_count": 99,
      "metadata": {
        "vscode": {
          "languageId": "javascript"
        }
      },
      "outputs": [
        {
          "name": "stdout",
          "output_type": "stream",
          "text": [
            "0xff değerinin sayısal karşılığı: 255\n"
          ]
        }
      ],
      "source": [
        "%%script node\n",
        "\n",
        "// 255 rakamı konsola yazdırılır.\n",
        "console.log(`0xff değerinin sayısal karşılığı: ${0xff}`);\n"
      ]
    },
    {
      "cell_type": "markdown",
      "metadata": {},
      "source": [
        "**💡 Hexadecimal değerler arasında aritmetik operatörler kullanılabilir.**\n",
        "\n",
        "**Örnek**\n"
      ]
    },
    {
      "cell_type": "code",
      "execution_count": 100,
      "metadata": {
        "vscode": {
          "languageId": "javascript"
        }
      },
      "outputs": [
        {
          "name": "stdout",
          "output_type": "stream",
          "text": [
            "x değişkeninin sayısal karşılığı: 204\n",
            "y değişkeninin sayısal karşılığı: 188\n",
            "x - y'nin sonucu: 16\n",
            "x + y'nin sonucu: 392\n",
            "x * y'nin sonucu: 38352\n",
            "x / y'nin sonucu: 1.0851063829787233\n"
          ]
        }
      ],
      "source": [
        "%%script node\n",
        "\n",
        "let x = 0xcc;\n",
        "console.log(`x değişkeninin sayısal karşılığı: ${parseInt(x, 10)}`);\n",
        "\n",
        "let y = 0xbc;\n",
        "console.log(`y değişkeninin sayısal karşılığı: ${parseInt(y, 10)}`);\n",
        "\n",
        "// Hexadecimal değerler arasında çıkarma işlemi yapılıyor.\n",
        "console.log(`x - y'nin sonucu: ${x - y}`);\n",
        "\n",
        "// Hexadecimal değerler arasında toplama işlemi yapılıyor.\n",
        "console.log(`x + y'nin sonucu: ${x + y}`);\n",
        "\n",
        "// Hexadecimal değerler arasında çarpma işlemi yapılıyor.\n",
        "console.log(`x * y'nin sonucu: ${x * y}`);\n",
        "\n",
        "// Hexadecimal değerler arasında bölme işlemi yapılıyor.\n",
        "console.log(`x / y'nin sonucu: ${x / y}`);\n"
      ]
    },
    {
      "cell_type": "markdown",
      "metadata": {},
      "source": [
        "**⚠️ Hexadecimal değerleri kullanırken `0` rakamından sonra sayısal bir değer kullanılmaması tavsiye edilir. (`07` gibi) Çünkü bazı JavaScript yorumlayıcıları bu durumda ifadeyi hexadecimal format olarak değil de **_octal_**[^2] format olarak yorumlar.**\n",
        "\n",
        "Number veri türü özellikli değişkenlerin veri tipleri de number olacaktır.\n",
        "\n",
        "**Örnek**\n"
      ]
    },
    {
      "cell_type": "code",
      "execution_count": 101,
      "metadata": {
        "vscode": {
          "languageId": "javascript"
        }
      },
      "outputs": [
        {
          "name": "stdout",
          "output_type": "stream",
          "text": [
            "x'in veri tipi: number\n",
            "y'nin veri tipi: string\n"
          ]
        }
      ],
      "source": [
        "%%script node\n",
        "\n",
        "const x = 5;\n",
        "\n",
        "console.log(`x'in veri tipi: ${typeof (x)}`);\n",
        "\n",
        "const y = \"5\";\n",
        "\n",
        "// ⚠️ y'nin veri tipine dikkat edelim.\n",
        "console.log(`y'nin veri tipi: ${typeof (y)}`);"
      ]
    },
    {
      "cell_type": "markdown",
      "metadata": {},
      "source": [
        "## <a id='toc1_2_'></a>[JavaScript Object Veri Tipinde Number Veri Türleri](#toc0_)\n",
        "\n",
        "Bildiğimiz üzere JavaScript'de number özellikli değişkenler normalde **_immutable_**, ilkel ve number duruma göre string veri tipine sahip veri türleridir.\n",
        "\n",
        "Ancak `new` keyword'u kullanılarak object veri tipinde number veri türleri oluşturulabilir.\n",
        "\n",
        "**⚠️ Object veri tipinde oluşturulan number özellikli bir değişken ile normal yöntem kullanılarak oluşturulan number özellikli değişkenin veri tipi birbirinden farklıdır.**\n",
        "\n",
        "**Örnek**\n"
      ]
    },
    {
      "cell_type": "code",
      "execution_count": 102,
      "metadata": {
        "vscode": {
          "languageId": "javascript"
        }
      },
      "outputs": [
        {
          "name": "stdout",
          "output_type": "stream",
          "text": [
            "number değişkeninin depoladığı değer: 20\n",
            "number değişkeninin veri tipi: object\n",
            "number2 değişkeninin depoladığı değer: 20\n",
            "number2 değişkeninin veri tipi: number\n"
          ]
        }
      ],
      "source": [
        "%%script node\n",
        "\n",
        "// number değişkeni nesne özellikli olup veri tipi object'dir.\n",
        "let number = new Number(20);\n",
        "\n",
        "console.log(`number değişkeninin depoladığı değer: ${number}`);\n",
        "console.log(`number değişkeninin veri tipi: ${typeof (number)}`);\n",
        "\n",
        "let number2 = 20;\n",
        "\n",
        "console.log(`number2 değişkeninin depoladığı değer: ${number2}`);\n",
        "console.log(`number2 değişkeninin veri tipi: ${typeof (number2)}`);\n"
      ]
    },
    {
      "cell_type": "markdown",
      "metadata": {},
      "source": [
        "**❗ Object veri tipinde number kullanılması tavsiye edilmez. Özellikle mantıksal operatörlerin kullanıldığı expression'larda beklenmedik sonuçlar ile karşılaşabiliriz.**\n",
        "\n",
        "**Ek olarak kodları komplike hale getireceği için kod bloklarının yavaş çalışmasına neden olacaktır.**\n",
        "\n",
        "**Object veri tipindeki iki değişkenin kıyaslanması durumunda sonuç daima `false` olarak geri döner.**\n",
        "\n",
        "**Örnek**\n"
      ]
    },
    {
      "cell_type": "code",
      "execution_count": 103,
      "metadata": {
        "vscode": {
          "languageId": "javascript"
        }
      },
      "outputs": [
        {
          "name": "stdout",
          "output_type": "stream",
          "text": [
            "number ile number2 değerleri birbirine hem veri türü hem de içerik bakımından eşit midir?: false\n"
          ]
        }
      ],
      "source": [
        "%%script node\n",
        "\n",
        "const number = new String(\"Candan\");\n",
        "const number2 = new String(\"Murat\");\n",
        "\n",
        "// Her iki değişkenin türü ve içeriği aynı olsa da tür bakımından kıyaslandıklarında birbirine eşit değildirler.\n",
        "console.log(`number ile number2 değerleri birbirine hem veri türü hem de içerik bakımından eşit midir?: ${number === number2}`);\n"
      ]
    },
    {
      "cell_type": "markdown",
      "metadata": {},
      "source": [
        "## <a id='toc1_3_'></a>[JavaScript Number Metotları](#toc0_)\n",
        "\n",
        "Bazen bir number değeri string ifadeye dönüştürmek veya sayısal özellikli bir string değeri number veri türüne dönüştürmek isteyebiliriz. JavaScript bize benzeri işlemleri yapmamızı sağlayan ön tanımlı metotlar sunar. Bu bölümde number değerler üzerinde işlemlerimizi kolaylaştıran sıkça kullanılan bir takım metotlara değineceğiz\n"
      ]
    },
    {
      "cell_type": "markdown",
      "metadata": {},
      "source": [
        "### <a id='toc1_3_1_'></a>[`toString()` Metodu](#toc0_)\n",
        "\n",
        "Number veri türündeki bir değeri string veri türüne çevirir.\n",
        "\n",
        "**Örnek**\n"
      ]
    },
    {
      "cell_type": "code",
      "execution_count": 104,
      "metadata": {
        "vscode": {
          "languageId": "javascript"
        }
      },
      "outputs": [
        {
          "name": "stdout",
          "output_type": "stream",
          "text": [
            "num değişkeninin veri tipi: string\n"
          ]
        }
      ],
      "source": [
        "%%script node\n",
        "\n",
        "const num = 5;\n",
        "\n",
        "// num değişkeni string veri türüne çevrilecek ve veri tipi konsola yazdırılacaktır.\n",
        "console.log(`num değişkeninin veri tipi: ${typeof (num.toString())}`);"
      ]
    },
    {
      "cell_type": "markdown",
      "metadata": {},
      "source": [
        "### <a id='toc1_3_2_'></a>[`toExponential()` Metodu](#toc0_)\n",
        "\n",
        "Bir sayıyı üstel göstermek için kullanılır. Bu durumdaki değer bilimsel notasyonda temsil edilir. Sayı taban ve üst olmak üzere iki kısımdan oluşur.\n",
        "\n",
        "**💡 Bu metot, özellikle büyük veya küçük sayıları daha kısa ve anlamlı bir formatta göstermek için kullanılır. Özellikle bilimsel ve matematiksel hesaplamalarda, büyük sayıları veya çok küçük sayıları daha okunabilir bir formatta temsil etmek amacıyla sıklıkla kullanılabilir.**\n",
        "\n",
        "**Örnek**\n"
      ]
    },
    {
      "cell_type": "code",
      "execution_count": 105,
      "metadata": {
        "vscode": {
          "languageId": "javascript"
        }
      },
      "outputs": [
        {
          "name": "stdout",
          "output_type": "stream",
          "text": [
            "1.23456e+5\n"
          ]
        }
      ],
      "source": [
        "%%script node\n",
        "\n",
        "let num = 123456;\n",
        "\n",
        "// Bilimsel notasyonda sayı 10 üzeri 5'i temsil eder. (1.23456 x 10^5) \n",
        "let scienceNotation = num.toExponential();\n",
        "console.log(scienceNotation);"
      ]
    },
    {
      "cell_type": "markdown",
      "metadata": {},
      "source": [
        "`toExponential()` metodu bir parametre ile birlikte kullanılabilir. Bu durumda parametre ondalık basamak sayısını ifade edecektir.\n",
        "\n",
        "**Örnek**\n"
      ]
    },
    {
      "cell_type": "code",
      "execution_count": 106,
      "metadata": {
        "vscode": {
          "languageId": "javascript"
        }
      },
      "outputs": [
        {
          "name": "stdout",
          "output_type": "stream",
          "text": [
            "1.23e+5\n",
            "string\n"
          ]
        }
      ],
      "source": [
        "%%script node\n",
        "\n",
        "let num = 123456;\n",
        "\n",
        "// Ondalık basamak sayısı 2 olduğu için, sonuçtaki ondalık basamak sayısı 2 olacaktır.\n",
        "let scienceNotation = num.toExponential(2);\n",
        "console.log(scienceNotation);\n",
        "\n",
        "// ⚠️ toExponential() metodu string veri tipinde sonuç döndürür.\n",
        "console.log(typeof scienceNotation);"
      ]
    },
    {
      "cell_type": "markdown",
      "metadata": {},
      "source": [
        "### <a id='toc1_3_3_'></a>[`toFixed()` Metodu](#toc0_)\n",
        "\n",
        "Ondalıklı sayısal değerin ondalık kısmını yuvarlamak için kullanılır.\n",
        "\n",
        "Metot içerisinde bir argüman kullanılmazsa ondalıklı değerin tam sayı kısmı geri döndürülür. Kullanılması halinde belirlenen değer kadar hane ondalık kısımdan gei döndürülür.\n",
        "\n",
        "**❗ `toFixed()` metodu string veri tipinde değer döndüreceği için matematiksel işlemler yapmadan önce sayısal bir değere dönüştürülmesi gerekir aksi takdirde matematiksel ifade beklediğimiz değeri döndürmeyebilir.**\n",
        "\n",
        "**Örnek**\n"
      ]
    },
    {
      "cell_type": "code",
      "execution_count": 107,
      "metadata": {
        "vscode": {
          "languageId": "javascript"
        }
      },
      "outputs": [
        {
          "name": "stdout",
          "output_type": "stream",
          "text": [
            "num değişkeninin tam sayı kısmı: 5\n",
            "num değişkeninin ondalıklı kısmı: 5.2\n",
            "num değişkeninin ondalıklı kısmı: 5.19\n",
            "num değişkeninin ondalıklı kısmı: 5.193\n"
          ]
        }
      ],
      "source": [
        "%%script node\n",
        "\n",
        "const num = 5.1934;\n",
        "\n",
        "// Değişkenin tam sayı kısmı döndürülecektir.\n",
        "console.log(`num değişkeninin tam sayı kısmı: ${num.toFixed(0)}`);\n",
        "\n",
        "// Değişkenin ondalık bölümü 1 hane olacak şekilde yuvarlanır.\n",
        "console.log(`num değişkeninin ondalıklı kısmı: ${num.toFixed(1)}`);\n",
        "\n",
        "/** \n",
        " * Değişkenin ondalık bölümü 2 hane olacak şekilde yuvarlanır. ⚠️ Dikkat ettiyseniz ondalık değer kullanımı \n",
        " * artırdıkça hassasiyette artıyor.\n",
        " */\n",
        "console.log(`num değişkeninin ondalıklı kısmı: ${num.toFixed(2)}`);\n",
        "\n",
        "// Ondalık kısmı 3 haneye yuvarlanan num değişkeninin veri tipini konsola yazdırıyoruz.\n",
        "console.log(`num değişkeninin ondalıklı kısmı: ${num.toFixed(3)}`);"
      ]
    },
    {
      "cell_type": "markdown",
      "metadata": {},
      "source": [
        "### <a id='toc1_3_4_'></a>[`toPrecision()` Metodu](#toc0_)\n",
        "\n",
        "`toPrecision()` metodunda kullanılan argüman değeri referans alınarak bir sayının toplam basamak sayısını geri döndürür.\n",
        "\n",
        "`toPrecision()` metodunun aldığı argüman, toplam basamak sayısını belirtir. Bu sayede, hem ondalık hem de tam kısım dahil olmak üzere sayının genel hassasiyetini kontrol edebiliriz. Eğer sayının tam kısmındaki basamak sayısı yetersizse, ondalık kısım daha fazla basamağa yayılabilir.\n",
        "\n",
        "Şayet ondalıklı sayılarda kullanılırsa basamak sayısına ulaşmak için gerekirse sayıyı yuvarlar.\n",
        "\n",
        "Bu metot, özellikle sayıların bir belirli bir hassasiyetle ifade edilmesi gereken durumlarda kullanışlıdır. Ancak, yine de dikkatli olmalıyız çünkü bu metot, sayının yuvarlanmasına neden olabilir ve bu durum, hesaplamalarda istenmeyen sonuçlara yol açabilir.\n",
        "\n",
        "`toPrecision()` metodu string veri tipinde sonuç döndürür.\n",
        "\n",
        "**Örnek**\n"
      ]
    },
    {
      "cell_type": "code",
      "execution_count": 108,
      "metadata": {
        "vscode": {
          "languageId": "javascript"
        }
      },
      "outputs": [
        {
          "name": "stdout",
          "output_type": "stream",
          "text": [
            "num değişkeninin değeri: 9.656\n",
            "num değişkenin ilk 2 hanesi: 9.7\n",
            "num değişkenin ilk 4 hanesi: 9.656\n",
            "num değişkenin ilk 6 hanesi: 9.65600\n"
          ]
        }
      ],
      "source": [
        "%%script node\n",
        "\n",
        "const num = 9.656;\n",
        "\n",
        "// num değişkeni olduğu gibi konsola yazılır.\n",
        "console.log(`num değişkeninin değeri: ${num.toPrecision()}`);\n",
        "\n",
        "/** \n",
        " * num değişkeninin ilk 2 hanesi konsola yazılır. ⚠️ Dikkat ederseniz virgülden sonraki kısım 9.7 olarak \n",
        " * yuvarlandı.\n",
        " */\n",
        "console.log(`num değişkenin ilk 2 hanesi: ${num.toPrecision(2)}`);\n",
        "\n",
        "// num değişkeninin ilk 4 hanesi konsola yazılır.\n",
        "console.log(`num değişkenin ilk 4 hanesi: ${num.toPrecision(4)}`);\n",
        "\n",
        "/** \n",
        " * num değişkeninin ilk 6 hanesi konsola yazılır. num değişkeni 4 haneden oluşuyor. 6 basamaklı notasyona \n",
        " * dönüştürülmek için son hanenin yanına gerekli sayısa 0 rakamı konur.\n",
        " */  \n",
        "console.log(`num değişkenin ilk 6 hanesi: ${num.toPrecision(6)}`);\n"
      ]
    },
    {
      "cell_type": "markdown",
      "metadata": {},
      "source": [
        "### <a id='toc1_3_5_'></a>[`valueOf()` Metodu](#toc0_)\n",
        "\n",
        "Veri tipi nesne olan bir değişkenin primitive veri tipini öğrenmek için kullanılır.\n",
        "\n",
        "**Örnek**\n"
      ]
    },
    {
      "cell_type": "code",
      "execution_count": 109,
      "metadata": {
        "vscode": {
          "languageId": "javascript"
        }
      },
      "outputs": [
        {
          "name": "stdout",
          "output_type": "stream",
          "text": [
            "num değişkeninin primitive veri türü: number\n"
          ]
        }
      ],
      "source": [
        "%%script node\n",
        "\n",
        "// Object veri tipinde number veri türü tanımlıyoruz.\n",
        "const num = new Number(80);\n",
        "\n",
        "// num değişkenin primitive veri türünü konsola yazdırır.\n",
        "console.log(`num değişkeninin primitive veri türü: ${typeof num.valueOf()}`);"
      ]
    },
    {
      "cell_type": "markdown",
      "metadata": {},
      "source": [
        "### <a id='toc1_3_6_'></a>[Değerlerin Number Veri türüne Dönüştürülmesi](#toc0_)\n",
        "\n",
        "**Bir değişkeni number veri türüne çevirmek için 3 method kullanılır:**\n",
        "\n",
        "- `Number()` metodu\n",
        "\n",
        "- `parseFloat()` metodu\n",
        "\n",
        "- `parseInt()` metodu\n",
        "\n",
        "Bu metotları inceleyelim.\n"
      ]
    },
    {
      "cell_type": "markdown",
      "metadata": {},
      "source": [
        "#### <a id='toc1_3_6_1_'></a>[`Number()` Metodu](#toc0_)\n",
        "\n",
        "`Number()` metodu içerisinde kullanılan argüman number veri türüne dönüştürülür. **Kullanılan argümanın sayısal karşılığı olmaması durumunda `NaN` değeri geri döndürülür.**\n",
        "\n",
        "**Örnek**\n"
      ]
    },
    {
      "cell_type": "code",
      "execution_count": 110,
      "metadata": {
        "vscode": {
          "languageId": "javascript"
        }
      },
      "outputs": [
        {
          "name": "stdout",
          "output_type": "stream",
          "text": [
            "Boolean olan true ifadesinin sayısal karşılığı: 1\n",
            "Boolean olan false ifadesinin sayısal karşılığı: 0\n",
            "\"10\" string değerinin sayısal karşılığı: 10\n",
            "\"10.33\" string değerinin sayısal karşılığı: 10.33\n",
            "\"Bilal\" string değerinin sayısal karşılığı: NaN\n",
            "\"10 33\" string değerinin sayısal karşılığı: NaN\n"
          ]
        }
      ],
      "source": [
        "%%script node\n",
        "\n",
        "// true boolean değerinin number veri türünde karşılığı 1'dir.\n",
        "console.log(`Boolean olan true ifadesinin sayısal karşılığı: ${Number(true)}`);\n",
        "\n",
        "// true boolean değerinin number veri türünde karşılığı 0'dır.\n",
        "console.log(`Boolean olan false ifadesinin sayısal karşılığı: ${Number(false)}`);\n",
        "\n",
        "/** \n",
        " * Normalde \"10\" değeri string veri tipindedir. Number() metodu ile number veri tipine çevriliyor. \n",
        " * \n",
        " * Convert işlemi sonrasında white space karakterlerin kaldırıldığına dikkat edelim.\n",
        " */\n",
        "console.log(`\"10\" string değerinin sayısal karşılığı: ${Number(\"      10\")}`);\n",
        "\n",
        "console.log(`\"10.33\" string değerinin sayısal karşılığı: ${Number(\"10.33\")}`);\n",
        "\n",
        "// Bilal ifadesi sayısal bir değere denk gelmediğinden dönen değer NaN olacaktır.\n",
        "console.log(`\"Bilal\" string değerinin sayısal karşılığı: ${Number(\"Bilal\")}`);\n",
        "\n",
        "/** \n",
        " * 10 rakamı ile 33 rakamı arasında white space karakter olması nedeniyle statement'ın tümü sayısal özelliği \n",
        " * olmayan string değer olarak yorumlanır ve NaN değeri geri döndürülür.\n",
        " */\n",
        "console.log(`\"10 33\" string değerinin sayısal karşılığı: ${Number(\"10 33\")}`);\n"
      ]
    },
    {
      "cell_type": "markdown",
      "metadata": {},
      "source": [
        "`Number()` metodu aynı zamanda tarih özellikli bir veriyi mili saniye cinsinden number türüne ve veri tipine dönüştürür.\n",
        "\n",
        "**Örnek**\n"
      ]
    },
    {
      "cell_type": "code",
      "execution_count": 111,
      "metadata": {
        "vscode": {
          "languageId": "javascript"
        }
      },
      "outputs": [
        {
          "name": "stdout",
          "output_type": "stream",
          "text": [
            "bornDate değişkeninin ms cinsinden değeri: 529632000000\n",
            "Number özellikli bornDate değişkeninin veri tipi: number\n"
          ]
        }
      ],
      "source": [
        "%%script node\n",
        "\n",
        "const bornDate = new Date(\"1986-10-14\");\n",
        "\n",
        "// bornDate number veri türüne çevrilir ve tarih değerinin mili saniye karşılığı konsola yazdırılır.\n",
        "console.log(`bornDate değişkeninin ms cinsinden değeri: ${Number(bornDate)}`);\n",
        "\n",
        "// bornDate ilk baş number veri türüne dönüştürülür sonrasında veri tipi konsola yazdırılır.\n",
        "console.log(`Number özellikli bornDate değişkeninin veri tipi: ${typeof Number(bornDate)}`);"
      ]
    },
    {
      "cell_type": "markdown",
      "metadata": {},
      "source": [
        "**⚠️ `Date()` metodu 1.1.1970 tarihinden beri mili saniye olarak sonuç döndürür.**\n",
        "\n",
        "**Örnek**\n"
      ]
    },
    {
      "cell_type": "code",
      "execution_count": 112,
      "metadata": {
        "vscode": {
          "languageId": "javascript"
        }
      },
      "outputs": [
        {
          "name": "stdout",
          "output_type": "stream",
          "text": [
            "bornDate değişkeninin ms cinsinden değeri: 86400000\n"
          ]
        }
      ],
      "source": [
        "%%script node\n",
        "\n",
        "const bornDate = new Date(\"1970-01-02\");\n",
        "\n",
        "console.log(`bornDate değişkeninin ms cinsinden değeri: ${Number(bornDate)}`);"
      ]
    },
    {
      "cell_type": "markdown",
      "metadata": {},
      "source": [
        "#### <a id='toc1_3_6_2_'></a>[`parseInt()` Metodu](#toc0_)\n",
        "\n",
        "`parseInt()` metodu verilen string argümanı parçalarına ayırır ve string içerisindeki **tam sayı** kısmı geri döndürür. Argüman içerisinde white space karakterler kullanılabilir.\n",
        "\n",
        "**Örnek**\n"
      ]
    },
    {
      "cell_type": "code",
      "execution_count": 113,
      "metadata": {
        "vscode": {
          "languageId": "javascript"
        }
      },
      "outputs": [
        {
          "name": "stdout",
          "output_type": "stream",
          "text": [
            "10.33 değerinin tam sayı kısmı: 10\n"
          ]
        }
      ],
      "source": [
        "%%script node\n",
        "\n",
        "// 10.33 değerinin tam sayı kısmı konsola yazdırılır.\n",
        "console.log(`10.33 değerinin tam sayı kısmı: ${parseInt(10.33)}`);\n",
        "\n"
      ]
    },
    {
      "cell_type": "markdown",
      "metadata": {},
      "source": [
        "`parseInt()` metodu aynı zamanda ikinci bir argüman alabilir. Bu argüman, kullanılacak olan sayısal tabanı belirtir. Böylece elde edilen sonuç belirtilen sayısal taban dahlinde hesaplanır. Sonuç 10'luk düzende geri döndürülür.\n",
        "\n",
        "**Örnek**"
      ]
    },
    {
      "cell_type": "code",
      "execution_count": 114,
      "metadata": {
        "vscode": {
          "languageId": "javascript"
        }
      },
      "outputs": [
        {
          "name": "stdout",
          "output_type": "stream",
          "text": [
            "0xFF değerinin 10'luk düzendeki karşılığı: 255\n"
          ]
        }
      ],
      "source": [
        "%%script node\n",
        "\n",
        "console.log(`0xFF değerinin 10'luk düzendeki karşılığı: ${parseInt(\"0xFF\", 16)}`);\n"
      ]
    },
    {
      "cell_type": "markdown",
      "metadata": {},
      "source": [
        "**⚠️ Sayısal olmayan string değer ile birlikte numerik özellikli string bir ifade `parseInt()` metoduna parametre olarak geçirildiğinde şayet string değerin ilk bölümü numerik özellik ise bu değer geri döndürülür aksi durumda `NaN` ifadesi geri döndürülecektir.**\n",
        "\n",
        "**Örnek**\n"
      ]
    },
    {
      "cell_type": "code",
      "execution_count": 115,
      "metadata": {
        "vscode": {
          "languageId": "javascript"
        }
      },
      "outputs": [
        {
          "name": "stdout",
          "output_type": "stream",
          "text": [
            "Sonuç: 10\n",
            "Sonuç: NaN\n"
          ]
        }
      ],
      "source": [
        "%%script node\n",
        "\n",
        "const text = \"10 adet kalem\";\n",
        "\n",
        "// string ifadenin başındaki tam sayı kısım konsola yazdırılır.\n",
        "console.log(`Sonuç: ${parseInt(text)}`);\n",
        "\n",
        "const text2 = \"Kalem sayısı 10 adet\";\n",
        "\n",
        "// NaN değeri konsola yazdırılır.\n",
        "console.log(`Sonuç: ${parseInt(text2)}`);\n"
      ]
    },
    {
      "cell_type": "markdown",
      "metadata": {},
      "source": [
        "#### <a id='toc1_3_6_3_'></a>[`parseFloat()` Metodu](#toc0_)\n",
        "\n",
        "`parseFloat()` metodunda kullanılan string argümanı parçalarına ayırır ve string içerisindeki **sayı** kısmını geri döndürür. `parseFloat()` metodu stringin başındaki sayısal karakterleri ve noktayı okur ve ilk sayısal olmayan karakterle karşılaştığında durur. Argüman içerisinde white space karakterler kullanılabilir.\n",
        "\n",
        "Argüman içerisinde sayısal kısım bulunmaz ise `NaN` değeri geri döndürülür.\n",
        "\n",
        "**Örnek**\n"
      ]
    },
    {
      "cell_type": "code",
      "execution_count": 116,
      "metadata": {
        "vscode": {
          "languageId": "javascript"
        }
      },
      "outputs": [
        {
          "name": "stdout",
          "output_type": "stream",
          "text": [
            "\u001b[33m123.45\u001b[39m\n",
            "\u001b[33m12.34\u001b[39m\n",
            "\u001b[33m3.14\u001b[39m\n",
            "\u001b[33mNaN\u001b[39m\n"
          ]
        }
      ],
      "source": [
        "%%script node\n",
        "\n",
        "console.log(parseFloat(\"123.45\"));\n",
        "console.log(parseFloat(\"12.34\"));\n",
        "console.log(parseFloat(\"3.14abc\"));\n",
        "// Argüman içerisinde sayısal bir değer bulunmadığı için NaN değeri geri döndürülecektir.\n",
        "console.log(parseFloat(\"hello\"));"
      ]
    },
    {
      "cell_type": "markdown",
      "metadata": {},
      "source": [
        "### <a id='toc1_3_7_'></a>[Number Nesnesi İçerisindeki Metotların Kullanımı](#toc0_)\n",
        "\n",
        "Bu kısımda number nesnesi içerisindeki bir takım metotların kullanımına değineceğim.\n",
        "\n",
        "**⚠️ Başlamadan önce number nesnesi içerisinde kullanılan metotların syntax dizilimi şu ana kadar kullandığımız metotların syntax diziliminden farklı olduğunu belirtmeliyim. Number nesnesi içerisindeki metotları kullanmak istediğimizde `Number.functionName(variable)` şeklinde syntax tanımlarız. Buradaki `Number` number nesne sınıfını, `functionName()` kullanılacak metodu ve `variable` işleme sokulacak değeri ifade eder.**\n",
        "\n",
        "**Hatırlarsak daha önce bir değişken için metot kullanılırken `variable.functionName()` şeklinde bir syntax kullanıyorduk.**\n"
      ]
    },
    {
      "cell_type": "markdown",
      "metadata": {},
      "source": [
        "#### <a id='toc1_3_7_1_'></a>[`Number.isInteger()` Metodu](#toc0_)\n",
        "\n",
        "Bir değerin number veri türünde oluşturulup/oluşturulmadığını sınar. Şayet değer number veri türü özellikli ise dönen değer `true` aksi halde `false` olacaktır.\n",
        "\n",
        "**Örnek**\n"
      ]
    },
    {
      "cell_type": "code",
      "execution_count": 117,
      "metadata": {
        "vscode": {
          "languageId": "javascript"
        }
      },
      "outputs": [
        {
          "name": "stdout",
          "output_type": "stream",
          "text": [
            "65 değeri sayısal özellikli midir?: true\n",
            "\"deneme\" ifadesi sayısal özellikli midir?: false\n"
          ]
        }
      ],
      "source": [
        "%%script node\n",
        "\n",
        "// Number nesnesi içerisindeki isInteger() metoduna ulaşıp 65 rakamını argüman olarak geçiriyoruz.\n",
        "console.log(`65 değeri sayısal özellikli midir?: ${Number.isInteger(65)}`);\n",
        "\n",
        "// deneme ifadesi number veri türünde olmadığı için false sonucu konsola yazdırılır.\n",
        "console.log(`\"deneme\" ifadesi sayısal özellikli midir?: ${Number.isInteger(\"deneme\")}`);\n"
      ]
    },
    {
      "cell_type": "markdown",
      "metadata": {},
      "source": [
        "#### <a id='toc1_3_7_2_'></a>[`Number.isSafeInteger()` Metodu](#toc0_)\n",
        "\n",
        "Bu metot, belirtilen değerin güvenli tam sayı aralığında olup olmadığını kontrol eder. Eğer değer güvenli tam sayı aralığında bir tam sayıysa sonuç `true`, değilse `false` olarak döner.\n",
        "\n",
        "**💡 Bu metot, genellikle büyük sayıların güvenli tam sayı aralığında olup olmadığını kontrol etmek için kullanılır, özellikle sayısal hataların önlenmesi veya işlemlerin beklenen sınırlar içinde olup olmadığının kontrol edilmesi amacıyla kullanılır.**\n"
      ]
    },
    {
      "cell_type": "code",
      "execution_count": 118,
      "metadata": {
        "vscode": {
          "languageId": "javascript"
        }
      },
      "outputs": [
        {
          "name": "stdout",
          "output_type": "stream",
          "text": [
            "42 rakamı number limitleri içerisinde midir?: true\n",
            "9007199254740992 rakamı number limitleri içerisinde midir?: false\n",
            "-9007199254740992 rakamı number limitleri içerisinde midir?: false\n"
          ]
        }
      ],
      "source": [
        "%%script node\n",
        "\n",
        "console.log(`42 rakamı number limitleri içerisinde midir?: ${Number.isSafeInteger(42)}`);\n",
        "\n",
        "console.log(`9007199254740992 rakamı number limitleri içerisinde midir?: ${Number.isSafeInteger(9007199254740992)}`);\n",
        "\n",
        "console.log(`-9007199254740992 rakamı number limitleri içerisinde midir?: ${Number.isSafeInteger(-9007199254740992)}`);"
      ]
    },
    {
      "cell_type": "markdown",
      "metadata": {},
      "source": [
        "#### <a id='toc1_3_7_3_'></a>[`Number.parseFloat()` Metodu](#toc0_)\n",
        "\n",
        "Verilen string bir argümanı parçalarına ayırır ve string içerisindeki **sayı** kısmını geri döndürür. Sayı kısmı **ondalık olabilir.** Argüman içerisinde white space karakterler kullanılabilir.\n",
        "\n",
        "Argüman convert edilmez ise `NaN` değeri geri döndürülür.\n",
        "\n",
        "**Örnek**\n"
      ]
    },
    {
      "cell_type": "code",
      "execution_count": 119,
      "metadata": {
        "vscode": {
          "languageId": "javascript"
        }
      },
      "outputs": [
        {
          "name": "stdout",
          "output_type": "stream",
          "text": [
            "\"10.33\" string değerinin sayısal kısmı: 10.33\n",
            "\"10 20 30\" string değerinin sayısal kısmı: 10\n",
            "\"10 years\" string değerinin sayısal kısmı: 10\n",
            "\"years 10\" string değerinin sayısal kısmı: NaN\n"
          ]
        }
      ],
      "source": [
        "%%script node\n",
        "\n",
        "// Ondalık sayısal değer olduğu gibi deri döndürülür.\n",
        "console.log(`\"10.33\" string değerinin sayısal kısmı: ${Number.parseFloat(\"10.33\")}`);\n",
        "\n",
        "// ilk sayısal ifadenin geri döndürüldüğüne dikkat edelim. \n",
        "console.log(`\"10 20 30\" string değerinin sayısal kısmı: ${Number.parseFloat(\"10 20 30\")}`);\n",
        "\n",
        "// String değer ayıklanacak ve sayısal kısım geri döndürülecektir.\n",
        "console.log(`\"10 years\" string değerinin sayısal kısmı: ${Number.parseFloat(\"10 years\")}`);\n",
        "\n",
        "// NaN değeri geri döndürülür.\n",
        "console.log(`\"years 10\" string değerinin sayısal kısmı: ${Number.parseFloat(\"years 10\")}`);"
      ]
    },
    {
      "cell_type": "markdown",
      "metadata": {},
      "source": [
        "#### <a id='toc1_3_7_4_'></a>[`Number.parseInt()` Metodu](#toc0_)\n",
        "\n",
        "Verilen string bir argümanı parçalarına ayırır ve string içerisindeki **tam sayı** kısmı geri döndürür. Argüman içerisinde white space karakterler kullanılabilir.\n",
        "\n",
        "Argüman convert edilmez ise `NaN` değeri geri döndürülür.\n"
      ]
    },
    {
      "cell_type": "code",
      "execution_count": 120,
      "metadata": {
        "vscode": {
          "languageId": "javascript"
        }
      },
      "outputs": [
        {
          "name": "stdout",
          "output_type": "stream",
          "text": [
            "\"3.14\" değerinin tam sayı kısmı: 3\n",
            "\"360 derece\" içerisindeki tam sayı kısım: 360\n",
            "Derece 360 içerisindeki tam sayı kısım: NaN\n"
          ]
        }
      ],
      "source": [
        "%%script node\n",
        "\n",
        "// Değerin tam sayı kısmı konsola yazdırılır.\n",
        "console.log(`\"3.14\" değerinin tam sayı kısmı: ${Number.parseInt(\"3.14\")}`);\n",
        "\n",
        "// İfade de ki tam sayı kısım konsola yazdırılır.\n",
        "console.log(`\"360 derece\" içerisindeki tam sayı kısım: ${Number.parseInt(\"360 derece\")}`);\n",
        "\n",
        "// String convert edilmez ise NaN değeri geri döndürülür.\n",
        "console.log(`Derece 360 içerisindeki tam sayı kısım: ${Number.parseInt(\"Derece 360\")}`);"
      ]
    },
    {
      "cell_type": "markdown",
      "metadata": {},
      "source": [
        "## <a id='toc1_4_'></a>[Özet](#toc0_)\n",
        "\n",
        "Bu bölümde, JavaScript'te çeşitli sayısal değerleri temsil eden `number` veri türüne odaklandık. Ayrıca, sayısal değerlerin hassasiyetini ifade eden **_precision_** kavramını inceledik. Sayısal özellikli string değerleri ve matematiksel operasyonların tanımlanamayan sonuçlarını ifade eden `NaN` kavramı ile `isNaN()` metodunu ele aldık. Sınırsız matematiksel değeri temsil eden **_Infinity_** kavramını inceledik.\n",
        "\n",
        "16'lık sayı sistemiyle temsil edilen hexadecimal değerlerin ve bu değerlerin aritmetiksel işlemlerdeki kullanımlarının inceledik. Sayıları temsil eden nesne türündeki veri tiplerini ve bu tiplerin özel metotlarını tanıdık. Ayrıca, JavaScript'te sıkça kullanılan `number` metotlarına odaklandık.\n",
        "\n",
        "Bu bölümde, JavaScript'te sayısal veri tipleriyle çalışırken karşılaşabileceğiniz konuları kapsamlı bir şekilde ele aldık.\n"
      ]
    },
    {
      "cell_type": "markdown",
      "metadata": {},
      "source": [
        "[^1]: 16'lık sayı sistemine verilen isimdir.\n",
        "[^2]: 8'lik sayı sistemine verilen isimdir.\n"
      ]
    }
  ],
  "metadata": {
    "kernelspec": {
      "display_name": "Python 3",
      "language": "python",
      "name": "python3"
    },
    "language_info": {
      "codemirror_mode": {
        "name": "ipython",
        "version": 3
      },
      "file_extension": ".py",
      "mimetype": "text/x-python",
      "name": "python",
      "nbconvert_exporter": "python",
      "pygments_lexer": "ipython3",
      "version": "3.10.12"
    }
  },
  "nbformat": 4,
  "nbformat_minor": 2
}
