{
  "cells": [
    {
      "cell_type": "markdown",
      "metadata": {},
      "source": [
        "# JavaScript BıgInt Veri Türü ve Veri Tipi<a id='toc0_'></a>  \n",
        "\n",
        "Merhaba arkadaşlar serinin bu bölümünde JavaScript'te **_BıgInt_** veri türünü ve veri tipini inceleyeceğiz.\n",
        "\n",
        "Yazıda:\n",
        "- [JavaScript BigInt Veri Türü](#toc1_1_)    \n",
        "- [Özet](#toc1_2_)    \n",
        "\n",
        "Değineceğim.\n",
        "\n",
        "İyi okumalar dilerim.\n",
        "\n",
        "If you want to read English version of this article please visit [this link](js08-bigint-data-type.ipynb)\n",
        "<!-- vscode-jupyter-toc-config\n",
        "\tnumbering=false\n",
        "\tanchor=true\n",
        "\tflat=false\n",
        "\tminLevel=1\n",
        "\tmaxLevel=6\n",
        "\t/vscode-jupyter-toc-config -->\n",
        "<!-- THIS CELL WILL BE REPLACED ON TOC UPDATE. DO NOT WRITE YOUR TEXT IN THIS CELL -->"
      ]
    },
    {
      "cell_type": "markdown",
      "metadata": {},
      "source": [
        "## <a id='toc1_1_'></a>[JavaScript BigInt Veri Türü](#toc0_)\n",
        "\n",
        "JavaScript'te iki sayısal veri türü vardır. Bunlardan biri **_BigInt_** diğeri ise **_number_** veri türüdür. Bu kısımda BigInt veri türünü inceleyeceğiz.\n",
        "\n",
        "BıgInt veri türü primitive özelliklidir ve **_immutable_** yapıdadırlar yani değiştirilemezler.\n",
        "\n",
        "JavaScript'te BıgInt değerler ondalıklı olarak ifade **edilemezler.**\n",
        "\n",
        "JavaScript BigInt türündeki değişkenler büyük tam sayı türündeki değerleri depolamaya yarar. JavaScript'te tam sayı değerlerin hassasiyeti 15 haneye kadardır.\n",
        "\n",
        "BigInt veri tipi ES2020 JavaScript'e dahil olmuştur. Bu sebeple 2020 öncesi release edilen tarayıcılarda çalışmayabilir.\n",
        "\n",
        "BigInt türünde bir veri oluşturmak için `BigInt()` metodu veya bir değerin sonuna `n` ifadesi yerleştirilir.\n",
        "\n",
        "**Örnek**\n"
      ]
    },
    {
      "cell_type": "code",
      "execution_count": 27,
      "metadata": {
        "vscode": {
          "languageId": "javascript"
        }
      },
      "outputs": [
        {
          "name": "stdout",
          "output_type": "stream",
          "text": [
            "bigint1 değişkeninin veri tipi: bigint\n",
            "bigint2 değişkeninin veri tipi: bigint\n"
          ]
        }
      ],
      "source": [
        "%%script node\n",
        "\n",
        "// bigint1 değişkeninin veri türü BigInt'dir.\n",
        "const bigint1 = 9999999999999999n;\n",
        "console.log(`bigint1 değişkeninin veri tipi: ${typeof bigint1}`);\n",
        "\n",
        "\n",
        "// BigInt() metodunu kullanarak da BigInt veri türünde değer tanımlayabiliriz.\n",
        "const bigint2 = BigInt(1234567890123456789012345);\n",
        "console.log(`bigint2 değişkeninin veri tipi: ${typeof bigint2}`);"
      ]
    },
    {
      "cell_type": "markdown",
      "metadata": {},
      "source": [
        "BigInt veri türünde aritmetiksel operatörler kullanılabilir.\n",
        "\n",
        "**Örnek**\n"
      ]
    },
    {
      "cell_type": "code",
      "execution_count": 28,
      "metadata": {
        "vscode": {
          "languageId": "javascript"
        }
      },
      "outputs": [
        {
          "name": "stdout",
          "output_type": "stream",
          "text": [
            "İşlemin sonucu:81129638414606735738984533590025\n"
          ]
        }
      ],
      "source": [
        "%%script node\n",
        "\n",
        "let x = 9007199254740995n;\n",
        "let y = 9007199254740995n;\n",
        "let z = x * y;\n",
        "\n",
        "// 81129638414606735738984533590025n ifadesi konsola yazılır.\n",
        "console.log(`İşlemin sonucu:${z}`);\n"
      ]
    },
    {
      "cell_type": "markdown",
      "metadata": {},
      "source": [
        "Yukarıdaki örnekte iki BigInt özellikli değişken için çarpma işlemi yapılıyor.\n",
        "\n",
        "**⚠️ Şayet BigInt özellikli bir değişken için `/` operatörü kullanılacaksa değişken number veri tipine dönüştürülür sonra işlem yapılır. `/` operatörünün kullanılmamasının nedeni BigInt veri türünün ondalıklı sayıları desteklememesidir.**\n",
        "\n",
        "**Örnek**\n"
      ]
    },
    {
      "cell_type": "code",
      "execution_count": 29,
      "metadata": {
        "vscode": {
          "languageId": "javascript"
        }
      },
      "outputs": [
        {
          "name": "stdout",
          "output_type": "stream",
          "text": [
            "Sonuç:2.5\n",
            "y değişkeninin veri tipi:number\n"
          ]
        }
      ],
      "source": [
        "%%script node\n",
        "\n",
        "let x = 5n;\n",
        "\n",
        "/**\n",
        " * BigInt veri tipine sahip x değişkeni ilk baş number veri türüne dönüştürülüyor sonra işlem yapılıyor ve elde \n",
        " * edilen sonuç y değişkenine depolanıyor.\n",
        " * \n",
        " * ⚠️ y değişkenin veri tipi number olduğuna dikkat edelim.\n",
        " */\n",
        "let y = Number(x) / 2;\n",
        "\n",
        "console.log(`Sonuç:${y}`);\n",
        "console.log(`y değişkeninin veri tipi:${typeof y}`);"
      ]
    },
    {
      "cell_type": "markdown",
      "metadata": {},
      "source": [
        "**⚠️ BigInt türündeki bir değer number veri türüne convert edildiğinde (dönüştürüldüğünde) veri kayıpları söz konusu olabilir. Bunun sebebi number veri türünün en fazla 15 haneden oluşmasıdır.**\n",
        "\n",
        "BigInt veri türleri hexadecimal, octal veya binary notasyonu ile ifade edilebilirler.\n",
        "\n",
        "**Örnek**\n"
      ]
    },
    {
      "cell_type": "code",
      "execution_count": 30,
      "metadata": {
        "vscode": {
          "languageId": "javascript"
        }
      },
      "outputs": [
        {
          "name": "stdout",
          "output_type": "stream",
          "text": [
            "Değerin hexadecimal karşılığı: 9007199254740998\n",
            "Değerin octal karşılığı: 9007199254740998\n",
            "Değerin binary karşılığı: 9007199254740995\n"
          ]
        }
      ],
      "source": [
        "%%script node\n",
        "\n",
        "// Hexadecimal kullanımı\n",
        "let hexadecimal = 0x20000000000006n;\n",
        "\n",
        "// Octal kullanımı\n",
        "let octal = 0o400000000000000006n;\n",
        "\n",
        "// Binary kullanımı\n",
        "let binary = 0b100000000000000000000000000000000000000000000000000011n;\n",
        "\n",
        "console.log(`Değerin hexadecimal karşılığı: ${hexadecimal}`);\n",
        "console.log(`Değerin octal karşılığı: ${octal}`);\n",
        "console.log(`Değerin binary karşılığı: ${binary}`);"
      ]
    },
    {
      "cell_type": "markdown",
      "metadata": {},
      "source": [
        "BıgInt veri türü özellikli değişkenlerin veri tipleri de bigint olacaktır.\n",
        "\n",
        "**Örnek**\n"
      ]
    },
    {
      "cell_type": "code",
      "execution_count": 31,
      "metadata": {
        "vscode": {
          "languageId": "javascript"
        }
      },
      "outputs": [
        {
          "name": "stdout",
          "output_type": "stream",
          "text": [
            "bigint1 değişkeninin veri tipi: bigint\n",
            "bigint2 değişkeninin veri tipi: bigint\n"
          ]
        }
      ],
      "source": [
        "%%script node\n",
        "\n",
        "let bigint1 = 9999999999999999n;\n",
        "\n",
        "let bigint2 = BigInt(1234567890123456789012345);\n",
        "\n",
        "console.log(`bigint1 değişkeninin veri tipi: ${typeof bigint1}`);\n",
        "console.log(`bigint2 değişkeninin veri tipi: ${typeof bigint2}`);"
      ]
    },
    {
      "cell_type": "markdown",
      "metadata": {},
      "source": [
        "## <a id='toc1_2_'></a>[Özet](#toc0_)\n",
        "\n",
        "Bu bölümde JavaScript'te `BigInt` veri tipini inceledik. `BigInt`, büyük sayılarla çalışmak ve veri kaybını önlemek için kullanılır. Ancak, ondalık işlemlerde dikkatli olunmalı ve gerekirse number veri türüne dönüşüm yapılmalıdır.\n",
        "\n",
        "**`BigInt` veri tipinin özelliklerini listelersek:**\n",
        "\n",
        "- **Oluşturma:** `BigInt()` metodu veya sayının sonuna eklenen `n` ifadesi ile BigInt değerleri oluşturulabilir.\n",
        "\n",
        "- **Aritmetik Operatörler:** `/` operatörü dışında matematiksel operatörler kullanılarak BigInt üzerinde işlemler gerçekleştirilebilir.\n",
        "\n",
        "- **Veri Tipi Dönüşümü:** BigInt değerleri, number veri türüne dönüştürülerek işlemler yapılabilir. Ancak, dönüşüm sırasında veri kaybı yaşanabilir.\n",
        "\n",
        "- **Notasyon Kullanımı:** BigInt, hexadecimal, octal veya binary notasyonları ile ifade edilebilir.\n",
        "\n",
        "- **Hassasiyet ve Ondalık Sayılar:** BigInt, tam sayıları depolar ve ondalık sayıları desteklemez. Ondalık işlemler için dönüşüm yapılması gerekebilir.\n"
      ]
    }
  ],
  "metadata": {
    "kernelspec": {
      "display_name": "Python 3",
      "language": "python",
      "name": "python3"
    },
    "language_info": {
      "codemirror_mode": {
        "name": "ipython",
        "version": 3
      },
      "file_extension": ".py",
      "mimetype": "text/x-python",
      "name": "python",
      "nbconvert_exporter": "python",
      "pygments_lexer": "ipython3",
      "version": "3.10.12"
    }
  },
  "nbformat": 4,
  "nbformat_minor": 2
}
