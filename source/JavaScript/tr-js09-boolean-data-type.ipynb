{
  "cells": [
    {
      "cell_type": "markdown",
      "metadata": {},
      "source": [
        "# JavaScript Boolean Veri Türü ve Tipi<a id='toc0_'></a>\n",
        "\n",
        "Merhaba arkadaşlar serinin bu bölümünde JavaScript'de **_boolean_** veri türünü ve veri tipini inceleyeceğiz.\n",
        "\n",
        "- [JavaScript Boolean Veri Türü](#toc1_1_)\n",
        "  - [Sonucu Daima `false` Olan İfadeler](#toc1_1_1_)\n",
        "- [JavaScript Object Veri Tipinde Boolean Veri Türü](#toc1_2_)\n",
        "- [Özet](#toc2_)\n",
        "\n",
        "Değineceğim.\n",
        "\n",
        "İyi okumalar dilerim.\n",
        "\n",
        "If you want to read English version of this article please visit [this link](js09-boolean-data-type.ipynb)\n",
        "\n",
        "<!-- vscode-jupyter-toc-config\n",
        "\tnumbering=false\n",
        "\tanchor=true\n",
        "\tflat=false\n",
        "\tminLevel=1\n",
        "\tmaxLevel=6\n",
        "\t/vscode-jupyter-toc-config -->\n",
        "<!-- THIS CELL WILL BE REPLACED ON TOC UPDATE. DO NOT WRITE YOUR TEXT IN THIS CELL -->\n"
      ]
    },
    {
      "cell_type": "markdown",
      "metadata": {},
      "source": [
        "## <a id='toc1_1_'></a>[JavaScript Boolean Veri Türü](#toc0_)\n",
        "\n",
        "Bir expression'nun mantıksal olarak doğru olup/olmadığını sınar. Boolean ifadeler expression'un sonucuna göre değer döndürür. Expression sonucu doğruysa döndürülecek değer `true` yanlışsa `false` olacaktır. Bu sayede expression sonucuna göre programın akışını yönlendirilebilir.\n",
        "\n",
        "**Örnek**\n"
      ]
    },
    {
      "cell_type": "code",
      "execution_count": 8,
      "metadata": {
        "vscode": {
          "languageId": "javascript"
        }
      },
      "outputs": [
        {
          "name": "stdout",
          "output_type": "stream",
          "text": [
            "x'in boolean değeri: false\n",
            "y'nin boolean değeri: true\n"
          ]
        }
      ],
      "source": [
        "%%script node\n",
        "\n",
        "let x = false;\n",
        "let y = true;\n",
        "\n",
        "console.log(`x'in boolean değeri: ${x}`);\n",
        "console.log(`y'nin boolean değeri: ${y}`);\n"
      ]
    },
    {
      "cell_type": "markdown",
      "metadata": {},
      "source": [
        "**💡 Bazen bir statement'in boolean sonucunu merak edebiliriz. Bunun için `Boolean()` metodundan faydalanabiliriz.**\n",
        "\n",
        "Bu özellikle debug işlemlerinde veya sonucunu tahmin edemediğimiz kompleks condition'lar yazarken faydalı olur.\n",
        "\n",
        "**Örnek**\n"
      ]
    },
    {
      "cell_type": "code",
      "execution_count": 9,
      "metadata": {
        "vscode": {
          "languageId": "javascript"
        }
      },
      "outputs": [
        {
          "name": "stdout",
          "output_type": "stream",
          "text": [
            "8 > 4 ifadesi doğru mudur?: true\n",
            "8 > 4 ifadesi doğru mudur?: true\n"
          ]
        }
      ],
      "source": [
        "%%script node\n",
        "\n",
        "// Konsola true ifade yazdırılır.\n",
        "console.log(`8 > 4 ifadesi doğru mudur?: ${Boolean(8 > 4)}`);\n",
        "\n",
        "// Sadeleştirebiliriz yine konsola true ifadesi yazdırılacaktır.\n",
        "console.log(`8 > 4 ifadesi doğru mudur?: ${8 > 4}`);\n"
      ]
    },
    {
      "cell_type": "markdown",
      "metadata": {},
      "source": [
        "### <a id='toc1_1_1_'></a>[Sonucu Daima `false` Olan İfadeler](#toc0_)\n",
        "\n",
        "Aşağıdaki ifadelerin hepsi boolean veri tipi göz önüne alınarak düşünüldüğünde `false` değerini üretir:\n",
        "\n",
        "- Değişkenin depoladığı değer `0` rakamı olduğunda.\n",
        "\n",
        "- Değişkenin depoladığı değer `-0` rakamı olduğunda. Çünkü `-0`'ın karşılığı yoktur.\n",
        "\n",
        "- Değişkenin depoladığı değer empty string olduğunda. Yani `\"\"` arasında bir değere yer verilmediğinde.\n",
        "\n",
        "- Değişkene değer atanmadığında varsayılan olarak depolayacağı değer `undefined` olacaktır. Bu durumdaki değişkenin boolean değeri `false` olur.\n",
        "\n",
        "- Değişkenin değeri `null` olduğunda.\n",
        "\n",
        "- Değişkene `false` değeri depolandığında.\n",
        "\n",
        "- Aritmetiksel bir işlemin sonucu `NaN` olduğunda.\n",
        "\n",
        "**Örnek**\n"
      ]
    },
    {
      "cell_type": "code",
      "execution_count": 10,
      "metadata": {
        "vscode": {
          "languageId": "javascript"
        }
      },
      "outputs": [
        {
          "name": "stdout",
          "output_type": "stream",
          "text": [
            "x değerinin depoladığı değer: false'dır.\n",
            "x2 değerinin depoladığı değer: false'dır.\n",
            "x3 değerinin depoladığı değer: false'dır.\n",
            "x4 değerinin depoladığı değer: false'dır.\n",
            "x5 değerinin depoladığı değer: false'dır.\n",
            "x6 değerinin depoladığı değer: false'dır.\n",
            "x7 değerinin depoladığı değer: false'dır.\n"
          ]
        }
      ],
      "source": [
        "%%script node\n",
        "\n",
        "let x = 0;\n",
        "\n",
        "console.log(`x değerinin depoladığı değer: ${Boolean(x)}'dır.`);\n",
        "\n",
        "let x2 = -0;\n",
        "\n",
        "console.log(`x2 değerinin depoladığı değer: ${Boolean(x2)}'dır.`);\n",
        "\n",
        "let x3 = \"\";\n",
        "\n",
        "console.log(`x3 değerinin depoladığı değer: ${Boolean(x3)}'dır.`);\n",
        "\n",
        "let x4;\n",
        "\n",
        "console.log(`x4 değerinin depoladığı değer: ${Boolean(x4)}'dır.`);\n",
        "\n",
        "let x5 = null;\n",
        "\n",
        "console.log(`x5 değerinin depoladığı değer: ${Boolean(x5)}'dır.`);\n",
        "\n",
        "let x6 = false;\n",
        "\n",
        "console.log(`x6 değerinin depoladığı değer: ${Boolean(x6)}'dır.`);\n",
        "\n",
        "let x7 = 10 / \"Kalem\";\n",
        "\n",
        "console.log(`x7 değerinin depoladığı değer: ${Boolean(x7)}'dır.`);"
      ]
    },
    {
      "cell_type": "markdown",
      "metadata": {},
      "source": [
        "Boolean veri türü özellikli bir değişkenin veri tipi de boolean olacaktır.\n",
        "\n",
        "**Örnek**\n"
      ]
    },
    {
      "cell_type": "code",
      "execution_count": 11,
      "metadata": {
        "vscode": {
          "languageId": "javascript"
        }
      },
      "outputs": [
        {
          "name": "stdout",
          "output_type": "stream",
          "text": [
            "booleanData değişkenin veri tipi boolean'dir.\n"
          ]
        }
      ],
      "source": [
        "%%script node\n",
        "\n",
        "let booleanData = false;\n",
        "\n",
        "console.log(`booleanData değişkenin veri tipi ${typeof booleanData}'dir.`);"
      ]
    },
    {
      "cell_type": "markdown",
      "metadata": {},
      "source": [
        "## <a id='toc1_2_'></a>[JavaScript Object Veri Tipinde Boolean Veri Türü](#toc0_)\n",
        "\n",
        "JavaScript'de boolean özellikli değişkenler normalde **_immutable_**, ilkel ve string veri tipine sahip veri türleridir.\n",
        "\n",
        "Ancak `new Boolean()` metodu kullanılarak object veri tipinde boolean veri türleri oluşturulabilir.\n",
        "\n",
        "**⚠️ Object veri tipinde oluşturulan boolean özellikli bir değişken ile normal yöntem kullanılarak oluşturulan boolean özellikli değişkenin veri tipi birbirinden farklıdır.**\n",
        "\n",
        "**Örnek**\n"
      ]
    },
    {
      "cell_type": "code",
      "execution_count": 12,
      "metadata": {
        "vscode": {
          "languageId": "javascript"
        }
      },
      "outputs": [
        {
          "name": "stdout",
          "output_type": "stream",
          "text": [
            "booleanData değişkenin depoladığı değer: true'dur.\n",
            "booleanData değişkeninin veri tipi: object'dir.\n",
            "booleanData2 değişkenin depoladığı değer: false'dur.\n",
            "booleanData2 değişkeninin veri tipi: boolean'dir.\n"
          ]
        }
      ],
      "source": [
        "%%script node\n",
        "\n",
        "// booleanData değişkeni nesne özellikli olup veri tipi object'dir.\n",
        "let booleanData = new Boolean(\"true\");\n",
        "\n",
        "console.log(`booleanData değişkenin depoladığı değer: ${booleanData}'dur.`);\n",
        "console.log(`booleanData değişkeninin veri tipi: ${typeof booleanData}'dir.`);\n",
        "\n",
        "let booleanData2 = false;\n",
        "\n",
        "console.log(`booleanData2 değişkenin depoladığı değer: ${booleanData2}'dur.`);\n",
        "console.log(`booleanData2 değişkeninin veri tipi: ${typeof booleanData2}'dir.`);"
      ]
    },
    {
      "cell_type": "markdown",
      "metadata": {},
      "source": [
        "**❗ Object tipinde boolean veri tiplerinin kullanılması tavsiye edilmez. Özellikle mantıksal operatörlerin kullanıldığı expression'larda beklenmedik sonuçlar ile karşılaşabiliriz.**\n",
        "\n",
        "**Ek olarak kodları komplike hale getireceği için kod bloklarının yavaş çalışmasına neden olacaktır.**\n",
        "\n",
        "**Object veri tipindeki iki değişkenin kıyaslanması durumunda sonuç daima `false` olarak geri döner.**\n",
        "\n",
        "**Örnek**\n"
      ]
    },
    {
      "cell_type": "code",
      "execution_count": 13,
      "metadata": {
        "vscode": {
          "languageId": "javascript"
        }
      },
      "outputs": [
        {
          "name": "stdout",
          "output_type": "stream",
          "text": [
            "x == y doğru bir ifade midir?:true\n",
            "x === y doğru bir ifade midir?: false\n",
            "m === n doğru bir ifade midir?: false\n"
          ]
        }
      ],
      "source": [
        "%%script node\n",
        "\n",
        "let x = false;\n",
        "let y = new Boolean(false);\n",
        "\n",
        "// x ve y değişkeni aynı veriyi depolamaları sebebi ile geri dönen değer true olacaktır.\n",
        "console.log(`x == y doğru bir ifade midir?:${x == y}`);\n",
        "\n",
        "/**\n",
        " * x ve y değişkeni aynı veriyi depolamalarına  rağmen farklı veri tipine sahip olduklarından geri dönen değer \n",
        " * false olacaktır.\n",
        " */\n",
        "console.log(`x === y doğru bir ifade midir?: ${x === y}`);\n",
        "\n",
        "let m = new Boolean(false);\n",
        "let n = new Boolean(false);\n",
        "\n",
        "/**\n",
        " * m ve n her ikisi de aynı türde değeri ve aynı veri tipini tutmasına rağmen konsola false değeri \n",
        " * yazdırılacaktır. Çünkü object tipindeki değişkenler unique olma özelliği taşır.\n",
        " */\n",
        "console.log(`m === n doğru bir ifade midir?: ${m === n}`);\n"
      ]
    },
    {
      "cell_type": "markdown",
      "metadata": {},
      "source": [
        "# <a id='toc2_'></a>[Özet](#toc0_)\n",
        "\n",
        "Bu bölümde JavaScript'te boolean veri tipini ele aldık. Boolean, bir ifadenin doğruluğunu değerlendirerek `true` veya `false` döndürür. `Boolean()` metodunu kullanarak ifadelerin boolean değerini kontrol edebiliriz.\n",
        "\n",
        "Ayrıca, 0, -0, boş string (`\"\"`), atanmamış değişken (`undefined`), `null`, `false` ve `NaN` gibi durumlar sonucu daima `false` olan ifadeleri tanımlar.\n",
        "\n",
        "Object veri tipinde boolean değişkenler oluşturulabilir, ancak bu genellikle önerilmez. Bu tür değişkenlerle yapılan kıyaslama işlemleri genellikle `false` döner. Kullanırken dikkatli olmalı ve kodun karmaşıklığını artırmamalıyız.\n",
        "\n",
        "**Özetle, boolean veri türü, program akışını kontrol etmek ve ifadelerin doğruluğunu değerlendirmek için önemlidir.**\n"
      ]
    }
  ],
  "metadata": {
    "kernelspec": {
      "display_name": "Python 3",
      "language": "python",
      "name": "python3"
    },
    "language_info": {
      "codemirror_mode": {
        "name": "ipython",
        "version": 3
      },
      "file_extension": ".py",
      "mimetype": "text/x-python",
      "name": "python",
      "nbconvert_exporter": "python",
      "pygments_lexer": "ipython3",
      "version": "3.10.12"
    }
  },
  "nbformat": 4,
  "nbformat_minor": 2
}
