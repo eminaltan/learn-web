{
  "cells": [
    {
      "cell_type": "markdown",
      "metadata": {},
      "source": [
        "# JavaScript Undefined Veri Türü ve Veri Tipi<a id='toc0_'></a>\n",
        "\n",
        "Merhaba arkadaşlar serinin bu bölümünde JavaScript'te **_undefined_** veri türünü ve veri tipini inceleyeceğiz.\n",
        "\n",
        "Yazıda:\n",
        "\n",
        "- [JavaScript Undefined Veri Türü](#toc1_1_)\n",
        "- [Özet](#toc1_2_)\n",
        "\n",
        "Değineceğim.\n",
        "\n",
        "İyi okumalar dilerim.\n",
        "\n",
        "If you want to read English version of this article please visit [this link](js10-undefined-data-type.ipynb)\n",
        "\n",
        "<!-- vscode-jupyter-toc-config\n",
        "\tnumbering=false\n",
        "\tanchor=true\n",
        "\tflat=false\n",
        "\tminLevel=1\n",
        "\tmaxLevel=6\n",
        "\t/vscode-jupyter-toc-config -->\n",
        "<!-- THIS CELL WILL BE REPLACED ON TOC UPDATE. DO NOT WRITE YOUR TEXT IN THIS CELL -->\n"
      ]
    },
    {
      "cell_type": "markdown",
      "metadata": {},
      "source": [
        "## <a id='toc1_1_'></a>[JavaScript Undefined Veri Türü](#toc0_)\n",
        "\n",
        "JavaScript'te **_undefined_** veri türü bir değişkenin tanımlanmamış olduğunu veya değişkene bir değerin atanmamış olduğunu ifade eder.\n",
        "\n",
        "Undefined veri türü primitive özelliklidir ve **_immutable_** yapıdadırlar yani değiştirilemezler.\n",
        "\n",
        "JavaScript'te bir değişken deklarasyonu yapılırken içeriğine değer depolanmamış ise varsayılan olarak undefined değeri depolanacaktır.\n",
        "\n",
        "`undefined` keyword'u kullanılarak da undefined veri tipine sahip bir değişken oluşturulabilir.\n",
        "\n",
        "**Örnek**\n"
      ]
    },
    {
      "cell_type": "code",
      "execution_count": 19,
      "metadata": {
        "vscode": {
          "languageId": "javascript"
        }
      },
      "outputs": [
        {
          "name": "stdout",
          "output_type": "stream",
          "text": [
            "x değişkeninin depoladığı değer:undefined\n",
            "y değişkeninin depoladığı değer:undefined\n"
          ]
        }
      ],
      "source": [
        "%%script node\n",
        "\n",
        "// x değişkeni varsayılan olarak undefined değerine sahip olacaktır.\n",
        "let x;\n",
        "\n",
        "// Aynı zamanda undefined keyword'u kullanarak da undefined veri türüne sahip değişken  oluşturabiliriz.\n",
        "let y = undefined;\n",
        "\n",
        "// Her iki değişken için de \"undefined\" ifadesi konsola yazdırılır.\n",
        "console.log(`x değişkeninin depoladığı değer:${x}`);\n",
        "console.log(`y değişkeninin depoladığı değer:${y}`);"
      ]
    },
    {
      "cell_type": "markdown",
      "metadata": {},
      "source": [
        "**❗ Undefined identifier (değişken ismi) olarak kullanılabilir fakat bu durumda kodları anlamak veya debug işlemlerinde zorluklar ortaya çıkar.**\n",
        "\n",
        "**Örnek**\n"
      ]
    },
    {
      "cell_type": "code",
      "execution_count": 20,
      "metadata": {
        "vscode": {
          "languageId": "javascript"
        }
      },
      "outputs": [
        {
          "name": "stdout",
          "output_type": "stream",
          "text": [
            "foo string\n",
            "EA string\n"
          ]
        }
      ],
      "source": [
        "%%script node\n",
        "\n",
        "// Global scope içerisinde iki tane fonksiyonumuz var.\n",
        "\n",
        "// İlk fonksiyonumuzun parametresi yok.\n",
        "(() => {\n",
        "\n",
        "  // undefined isminde bir değişken tanımlanıyor ve içeriğine \"foo\" string'i depolanıyor.\n",
        "  const undefined = \"foo\";\n",
        "\n",
        "  // undefined değişkeninin depoladığı veri tipi string olacak ve konsola \"foo, string\" ifadesi yazdırılacaktır.\n",
        "  console.log(undefined, typeof undefined); \n",
        "})\n",
        "\n",
        "// İlk fonksiyonumuz çağrılıyor.\n",
        "();\n",
        "\n",
        "\n",
        "// İkinci fonksiyonumuzun undefined isminde bir parametresi var.\n",
        "((undefined) => {\n",
        "\n",
        "  // Konsola undefined parametresinin depoladığı veri ve veri tipi yazdırılacaktır.\n",
        "  console.log(undefined, typeof undefined); \n",
        "})\n",
        "\n",
        "// İkinci fonksiyona \"EA\" adında bir string gönderdik.\n",
        "(\"EA\");\n"
      ]
    },
    {
      "cell_type": "markdown",
      "metadata": {},
      "source": [
        "Yukarıda görüldüğü gibi kodları analiz etmek zorlaştı.\n",
        "\n",
        "Undefined veri türüne sahip bir değişkenin boolean değeri `false` olacaktır. Detaylı bilgi almak için [Sonucu Daima false Olan İfadeler](tr-js09-boolean-data-type.ipynb#sonucu-daima-false-olan-i̇fadeler) başlığınız ziyaret edebilirsiniz.\n",
        "\n",
        "**Örnek**\n"
      ]
    },
    {
      "cell_type": "code",
      "execution_count": 21,
      "metadata": {
        "vscode": {
          "languageId": "javascript"
        }
      },
      "outputs": [
        {
          "name": "stdout",
          "output_type": "stream",
          "text": [
            "x değişkeninin boolean türünden değeri:false\n"
          ]
        }
      ],
      "source": [
        "%%script node\n",
        "\n",
        "let x;\n",
        "\n",
        "/** \n",
        " * Boolean() fonksiyonu kullanarak bir değişkenin boolean olarak tuttuğu değeri öğrenebiliriz.\n",
        " * Konsola \"false\" yazdırılacaktır.\n",
        " */\n",
        "console.log(`x değişkeninin boolean türünden değeri:${Boolean(x)}`);\n",
        "\n"
      ]
    },
    {
      "cell_type": "markdown",
      "metadata": {},
      "source": [
        "Bir metotta (fonksiyonda) `return` keyword'u açıkça ifade edilmemişse metot varsayılan olarak undefined ifadesini geri döndürür.\n"
      ]
    },
    {
      "cell_type": "code",
      "execution_count": 22,
      "metadata": {
        "vscode": {
          "languageId": "javascript"
        }
      },
      "outputs": [
        {
          "name": "stdout",
          "output_type": "stream",
          "text": [
            "\u001b[90mundefined\u001b[39m\n",
            "swim performed\n"
          ]
        }
      ],
      "source": [
        "%%script node\n",
        "\n",
        "function drive(){\n",
        "    // Metot bir statement döndürmüyor.\n",
        "}\n",
        "\n",
        "// Konsola \"undefined\" yazdırılacaktır.\n",
        "console.log(drive())\n",
        "\n",
        "\n",
        "function swim(){\n",
        "    return \"swim performed\"\n",
        "}\n",
        "// Konsola \"swim performed\" yazdırılacaktır.\n",
        "console.log(swim())\n"
      ]
    },
    {
      "cell_type": "markdown",
      "metadata": {},
      "source": [
        "**Undefined ile Null arasındaki farklara değinecek olursak:**\n",
        "\n",
        "- Undefined özellikli değişkenin varsayılan olarak depoladığı değer yine undefined'dır. Null değeri depolayan değişken herhangi bir değere sahip değildir. Bu bakımdan null ile undefined birbirlerinden ayrılırlar.\n",
        "\n",
        "- Undefined özelliğine sahip değişkenin veri tipi undefined'dır, null özellikli bir değişkenin veri tipi object'dir.\n",
        "\n",
        "**Örnek**\n"
      ]
    },
    {
      "cell_type": "code",
      "execution_count": 23,
      "metadata": {
        "vscode": {
          "languageId": "javascript"
        }
      },
      "outputs": [
        {
          "name": "stdout",
          "output_type": "stream",
          "text": [
            "x değişkeninin değeri:undefined\n",
            "y değişkeninin değeri:null\n",
            "x değişkeninin veri tipi:undefined\n",
            "y değişkeninin veri tipi:object\n"
          ]
        }
      ],
      "source": [
        "%%script node\n",
        "\n",
        "// x'in varsayılan değeri undefined olacaktır.\n",
        "let x;\n",
        "\n",
        "// x' in depoladığı değer undefined'dır. Konsola \"undefined\" yazdırılır.\n",
        "console.log(`x değişkeninin değeri:${x}`);\n",
        "\n",
        "// y değişkeni herhangi bir değere sahip değildir.\n",
        "let y = null;\n",
        "\n",
        "// y 'nin depoladığı herhangi bir değer yoktur. Bunu belirtmek için konsola \"null\" ifadesi yazdırılır.\n",
        "console.log(`y değişkeninin değeri:${y}`);\n",
        "\n",
        "// \"undefined\" iletisi konsola yazdırılır, x'in veri tipi undefined'dır.\n",
        "console.log(`x değişkeninin veri tipi:${typeof x}`);\n",
        "\n",
        "// \"object\" iletisi konsola yazdırılır, null özellikli variable'ın veri tipi object'dir.\n",
        "console.log(`y değişkeninin veri tipi:${typeof y}`);\n"
      ]
    },
    {
      "cell_type": "markdown",
      "metadata": {},
      "source": [
        "**Undefined ile Empty arasındaki farka değinecek olursak:**\n",
        "\n",
        "Empty özellikli bir değişkenin veri tipi string'dir. undefined özellikli bir değişkenin veri tipi ise object'dir.\n",
        "\n",
        "**Örnek**\n"
      ]
    },
    {
      "cell_type": "code",
      "execution_count": 24,
      "metadata": {
        "vscode": {
          "languageId": "javascript"
        }
      },
      "outputs": [
        {
          "name": "stdout",
          "output_type": "stream",
          "text": [
            "x değişkeninin veri tipi:undefined\n",
            "y değişkeninin veri tipi:\n",
            "x == y ifadesi doğru bir önerme midir?: false\n"
          ]
        }
      ],
      "source": [
        "%%script node\n",
        "\n",
        "let x;\n",
        "\n",
        "let y=\"\";\n",
        "\n",
        "/** \n",
        " * x değişkeni undefined, y değişkeni ise string veri tipine sahiptir. Konsola sırasıyla \"undefined\" ve \"string\" \n",
        " * ifadesi yazdırılacaktır.\n",
        " */\n",
        "console.log(`x değişkeninin veri tipi:${x}`);\n",
        "console.log(`y değişkeninin veri tipi:${y}`);\n",
        "\n",
        "// x ve y değişkenleri depoladığı değer bakımından da farklıdır. Konsola \"false\" ifadesi yazdırılır.\n",
        "console.log(`x == y ifadesi doğru bir önerme midir?: ${x == y}`);\n"
      ]
    },
    {
      "cell_type": "markdown",
      "metadata": {},
      "source": [
        "Undefined veri türü özellikli bir değişkenin veri tipi de undefined olacaktır.\n",
        "\n",
        "**Örnek**\n"
      ]
    },
    {
      "cell_type": "code",
      "execution_count": 25,
      "metadata": {
        "vscode": {
          "languageId": "javascript"
        }
      },
      "outputs": [
        {
          "name": "stdout",
          "output_type": "stream",
          "text": [
            "value değişkeninin veri türü:undefined\n",
            "value2 değişkeninin veri türü:undefined\n"
          ]
        }
      ],
      "source": [
        "%%script node\n",
        "\n",
        "let value;\n",
        "\n",
        "let value2 = undefined;\n",
        "\n",
        "console.log(`value değişkeninin veri türü:${value}`);\n",
        "console.log(`value2 değişkeninin veri türü:${value2}`);\n"
      ]
    },
    {
      "cell_type": "markdown",
      "metadata": {},
      "source": [
        "Undefined veri tipine sahip bir değişken aritmetiksel işlemlerde kullanıldığında expression'un sonucu `NaN`(Not a Number) olacaktır. Çünkü işlem sonucu sayısal veya rakamsal bir değerden oluşmayacaktır. **_NaN_** teriminin kullanımı için [JavaScript `NaN` Not a Number Terimi](tr-js07-numeric-data-type.ipynb#javascript-nan-not-a-number-terimi) başlığına bakabilirsiniz.\n"
      ]
    },
    {
      "cell_type": "code",
      "execution_count": 26,
      "metadata": {
        "vscode": {
          "languageId": "javascript"
        }
      },
      "outputs": [
        {
          "name": "stdout",
          "output_type": "stream",
          "text": [
            "x+1 işleminin sonucu:NaN\n",
            "y değişkeninin veri tipi:number\n"
          ]
        }
      ],
      "source": [
        "%%script node\n",
        "\n",
        "let x;\n",
        "\n",
        "let y = x + 1;\n",
        "\n",
        "// Konsola \"NaN\" ifadesi yazdırılır. Çünkü x+undefined'ın matematiksel bir karşılığı yoktur.\n",
        "console.log(`x+1 işleminin sonucu:${y}`);\n",
        "\n",
        "// Buna rağmen sonucun veri tipi number'dır. Konsola \"number\" yazdırılır.\n",
        "console.log(`y değişkeninin veri tipi:${typeof y}`);"
      ]
    },
    {
      "cell_type": "markdown",
      "metadata": {},
      "source": [
        "## <a id='toc1_2_'></a>[Özet](#toc0_)\n",
        "\n",
        "JavaScript'te `undefined` veri türü, bir değişkenin tanımlanmamış veya değeri atanmamış olduğunu ifade eder. Bu, bir değişkenin varsayılan değeri olarak kullanılır ve primitive özelliklidir. Undefined bir değişkenin boolean değeri `false`'dır.\n",
        "\n",
        "Undefined ile `null` arasındaki farklar şunlardır: Undefined, bir değişkenin varsayılan değeridir ve veri tipi `undefined`'dır; null ise bir değişkenin hiçbir değere sahip olmadığını ifade eder ve veri tipi `object`'dir.\n",
        "\n",
        "Undefined ile `empty` arasındaki fark ise empty özellikli bir değişkenin veri tipi string'dir, undefined özellikli bir değişkenin veri tipi ise `object`'dir.\n",
        "\n",
        "Ayrıca, undefined veri tipine sahip bir değişkenin aritmetiksel işlemlerde kullanılması durumunda sonucun `NaN` (Not a Number) olacağını unutmamak önemlidir. Bu durum, değişkenin matematiksel bir karşılığının olmamasından kaynaklanır.\n"
      ]
    }
  ],
  "metadata": {
    "kernelspec": {
      "display_name": "Python 3 (ipykernel)",
      "language": "python",
      "name": "python3"
    },
    "language_info": {
      "codemirror_mode": {
        "name": "ipython",
        "version": 3
      },
      "file_extension": ".py",
      "mimetype": "text/x-python",
      "name": "python",
      "nbconvert_exporter": "python",
      "pygments_lexer": "ipython3",
      "version": "3.10.12"
    }
  },
  "nbformat": 4,
  "nbformat_minor": 2
}
