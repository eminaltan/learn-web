{
 "cells": [
  {
   "cell_type": "markdown",
   "metadata": {},
   "source": [
    "# JavaScript Null Veri Türü ve Veri Tipi<a id='toc0_'></a>\n",
    "\n",
    "Merhaba arkadaşlar serinin bu bölümünde JavaScript'te **_null_** veri türünü ve veri tipini inceleyeceğiz.\n",
    "\n",
    "Yazıda:\n",
    "\n",
    "- [JavaScript Null Veri Türü](#toc1_1_)\n",
    "- [Özet](#toc1_2_)\n",
    "\n",
    "Değineceğim.\n",
    "\n",
    "İyi okumalar dilerim.\n",
    "\n",
    "If you want to read English version of this article please visit [this link](js11-null-data-type.ipynb)\n",
    "\n",
    "<!-- vscode-jupyter-toc-config\n",
    "\tnumbering=false\n",
    "\tanchor=true\n",
    "\tflat=false\n",
    "\tminLevel=1\n",
    "\tmaxLevel=6\n",
    "\t/vscode-jupyter-toc-config -->\n",
    "<!-- THIS CELL WILL BE REPLACED ON TOC UPDATE. DO NOT WRITE YOUR TEXT IN THIS CELL -->\n"
   ]
  },
  {
   "cell_type": "markdown",
   "metadata": {},
   "source": [
    "## <a id='toc1_1_'></a>[JavaScript Null Veri Türü](#toc0_)\n",
    "\n",
    "JavaScript'te **_null_** veri türü değişkende değer olmadığını ancak gelecekte bir değer atanabileceğini gösterir.\n",
    "\n",
    "null veri türüne sahip bir değişken tanımlamak için `null` keyword'ü kullanılır.\n",
    "\n",
    "`null` keyword'ünü depolayan bir değişken, expression içerisinde kullanıldığında JavaScript değişkenin değerini 0 rakamına dönüştürür.\n",
    "\n",
    "`null` keyword'ü JavaScript'in kullanımı için rezerv edilmiştir. Yani bir değişken veya metot ismi `null` ile başlayamaz.\n",
    "\n",
    "Null veri türü primitive özelliklidir ve **_immutable_** yapıdadırlar yani değiştirilemezler. **Buna rağmen veri tipi object özelliğine sahiptir.**\n",
    "\n",
    "**Örnek**\n"
   ]
  },
  {
   "cell_type": "code",
   "execution_count": 4,
   "metadata": {
    "vscode": {
     "languageId": "javascript"
    }
   },
   "outputs": [
    {
     "name": "stdout",
     "output_type": "stream",
     "text": [
      "x değişkeninin veri tipi: object\n",
      "x + 1 expression'nun çıktısı:1 \n"
     ]
    }
   ],
   "source": [
    "%%script node\n",
    "\n",
    "let x = null;\n",
    "\n",
    "// Konsola \"object\" ifadesi yazdırılacaktır.\n",
    "console.log(`x değişkeninin veri tipi: ${typeof (x)}`);\n",
    "\n",
    "// x değişkenin değeri 0'a dönüştürülür.\n",
    "console.log(`x + 1 expression'nun çıktısı:${x + 1} `);\n"
   ]
  },
  {
   "cell_type": "markdown",
   "metadata": {},
   "source": [
    "Null veri türüne sahip bir değişkenin boolean değeri `false` olacaktır. Detaylı bilgi almak için [Sonucu Daima false Olan İfadeler](tr-js09-boolean-data-type.ipynb#sonucu-daima-false-olan-i̇fadeler) başlığını ziyaret edebilirsiniz.\n",
    "\n",
    "**Örnek**\n"
   ]
  },
  {
   "cell_type": "code",
   "execution_count": 6,
   "metadata": {
    "vscode": {
     "languageId": "javascript"
    }
   },
   "outputs": [
    {
     "name": "stdout",
     "output_type": "stream",
     "text": [
      "x değişkenin boolean değeri: false\n"
     ]
    }
   ],
   "source": [
    "%%script node\n",
    "\n",
    "let x = null;\n",
    "\n",
    "// Boolean() metodu ile bir değişkenin boolean olarak türünü öğrenebiliriz.\n",
    "console.log(`x değişkenin boolean değeri: ${Boolean(x)}`);\n"
   ]
  },
  {
   "cell_type": "markdown",
   "metadata": {},
   "source": [
    "\n",
    "\n",
    "**❗ Null özellikli değişken herhangi bir değere sahip değildir. Hatırlarsanız undefined özellikli değişkenin varsayılan olarak taşıdığı değer yine undefined'di. Null özellikli bir değişkenin veri tipi object'dır, undefined özelliğine sahip değişkenin veri tipi undefined'dır. Bu bakımlardan null ile undefined veri tipleri birbirlerinden ayrılırlar.**\n",
    "\n",
    "**Örnek**\n"
   ]
  },
  {
   "cell_type": "code",
   "execution_count": 7,
   "metadata": {
    "vscode": {
     "languageId": "javascript"
    }
   },
   "outputs": [
    {
     "name": "stdout",
     "output_type": "stream",
     "text": [
      "x değişkenin değeri: undefined\n",
      "y değişkenin değeri: null\n",
      "x değişkeninin veri tipi: undefined\n",
      "y değişkeninin veri tipi: object\n"
     ]
    }
   ],
   "source": [
    "%%script node\n",
    "\n",
    "// x'in varsayılan değeri undefined olacaktır.\n",
    "let x;\n",
    "\n",
    "// x' in depoladığı değer konsola yazdırlır.\n",
    "console.log(`x değişkenin değeri: ${x}`);\n",
    "\n",
    "// y değişkeni herhangi bir değere sahip değildir.\n",
    "let y = null;\n",
    "\n",
    "// y 'nin depoladığı herhangi bir değer yoktur. Bunu belirtmek için konsola null ifadesi yazdırılır.\n",
    "console.log(`y değişkenin değeri: ${y}`);\n",
    "\n",
    "console.log(`x değişkeninin veri tipi: ${typeof x}`);\n",
    "\n",
    "console.log(`y değişkeninin veri tipi: ${typeof y}`);\n"
   ]
  },
  {
   "cell_type": "markdown",
   "metadata": {},
   "source": [
    "**❗ Empty özellikli bir değişkenin veri tipi string özelliklidir. null özellikli bir değişkenin veri tipi ise object özelliklidir.**\n"
   ]
  },
  {
   "cell_type": "code",
   "execution_count": 10,
   "metadata": {
    "vscode": {
     "languageId": "javascript"
    }
   },
   "outputs": [
    {
     "name": "stdout",
     "output_type": "stream",
     "text": [
      "x ile y hem veri tipi hem de değer olarak birbirine denk midir?: false\n",
      "x değişkeninin veri tipi:object\n",
      "y değişkeninin veri tipi:string\n"
     ]
    }
   ],
   "source": [
    "%%script node\n",
    "\n",
    "let x = null;\n",
    "\n",
    "let y =\"1\";\n",
    "\n",
    "// Konsola \"false\" ifadesi yazdırılacaktır. Çünkü x'in veri tipi object, y'nin veri tipi ise string'dir.\n",
    "console.log(`x ile y hem veri tipi hem de değer olarak birbirine denk midir?: ${x === y}`);\n",
    "\n",
    "// \"object\" ifadesi konsola yazdırılır.\n",
    "console.log(`x değişkeninin veri tipi:${typeof x}`);\n",
    "\n",
    "// \"string\" ifadesi konsola yazdırılır.\n",
    "console.log(`y değişkeninin veri tipi:${typeof y}`);"
   ]
  },
  {
   "cell_type": "markdown",
   "metadata": {},
   "source": [
    "## <a id='toc1_2_'></a>[Özet](#toc0_)\n",
    "\n",
    "JavaScript'te **_null_** veri türü, bir değişkenin değerinin henüz atanmamış olduğunu ve gelecekte bir değer atanabileceğini gösterir. `null` keyword'ü kullanılarak bir değişken null olarak tanımlanır. Ancak, dikkat edilmesi gereken önemli noktalardan biri, `null`'u içeren bir değişkenin değeri bir ifade içinde kullanıldığında JavaScript'in bu değeri 0'a dönüştürmesidir.\n",
    "\n",
    "Null veri türü, primitive özelliklidir ve **_immutable_ yapıdadırlar, yani değiştirilemezler. Buna rağmen, veri tipi object özelliğine sahiptir.**\n",
    "\n",
    "Null veri türüne sahip bir değişkenin boolean değeri her zaman `false` olacaktır. Bu özellik, null'un boş bir değeri temsil ettiğini ve bu durumun boolean bağlamında `false` olarak değerlendirildiğini gösterir.\n",
    "\n",
    "Ayrıca, undefined ve null veri tipleri arasında farklılıklar vardır. undefined bir değişkenin varsayılan değeridir ve veri tipi undefined'dir. Null ise bir değişkenin değerinin bilinçli olarak atanmamış olduğunu belirtir ve veri tipi object'tir.\n",
    "\n",
    "Sonuç olarak, JavaScript'te null veri türü, değişkenlere henüz bir değer atanmamış olduğunu belirtirken, bazı dikkate değer özelliklere sahiptir ve diğer veri tiplerinden farklı davranışlar sergiler.\n"
   ]
  }
 ],
 "metadata": {
  "kernelspec": {
   "display_name": "Python 3",
   "language": "python",
   "name": "python3"
  },
  "language_info": {
   "codemirror_mode": {
    "name": "ipython",
    "version": 3
   },
   "file_extension": ".py",
   "mimetype": "text/x-python",
   "name": "python",
   "nbconvert_exporter": "python",
   "pygments_lexer": "ipython3",
   "version": "3.10.12"
  }
 },
 "nbformat": 4,
 "nbformat_minor": 2
}
