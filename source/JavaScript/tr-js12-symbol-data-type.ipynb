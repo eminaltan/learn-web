{
 "cells": [
  {
   "cell_type": "markdown",
   "metadata": {},
   "source": [
    "# JavaScript Symbol Veri Türü ve Veri Tipi<a id='toc0_'></a>\n",
    "\n",
    "Merhaba arkadaşlar serinin bu bölümünde JavaScript'te **_Symbol_** veri türünü ve veri tipini inceleyeceğiz.\n",
    "\n",
    "Yazıda:\n",
    "\n",
    "- [JavaScript Symbol Veri Türü](#toc1_1_)\n",
    "- [JavaScript Symbol Veri Türünün Nesne içerisinde Kullanımı](#toc1_2_)\n",
    "- [JavaScript Symbol Veri Türünün Benzersiz Sabit Olarak Kullanılması](#toc1_3_)\n",
    "- [JavaScript Symbol Veri Türünün Global Hale Getirilmesi](#toc1_4_)\n",
    "- [JavaScript Symbol Veri Türü ile Verinin Güvenliğinin Sağlanması](#toc1_5_)\n",
    "- [JavaScript Object Veri Tipinde Symbol Veri Türleri](#toc1_6_)\n",
    "- [Özet](#toc1_7_)\n",
    "\n",
    "Değineceğim.\n",
    "\n",
    "İyi okumalar dilerim.\n",
    "\n",
    "If you want to read English version of this article please visit [this link](js12-symbol-data-type.ipynb)\n",
    "\n",
    "<!-- vscode-jupyter-toc-config\n",
    "\tnumbering=false\n",
    "\tanchor=true\n",
    "\tflat=false\n",
    "\tminLevel=1\n",
    "\tmaxLevel=6\n",
    "\t/vscode-jupyter-toc-config -->\n",
    "<!-- THIS CELL WILL BE REPLACED ON TOC UPDATE. DO NOT WRITE YOUR TEXT IN THIS CELL -->\n"
   ]
  },
  {
   "cell_type": "markdown",
   "metadata": {},
   "source": [
    "## <a id='toc1_1_'></a>[JavaScript Symbol Veri Türü](#toc0_)\n",
    "\n",
    "Symbol veri türü primitive özelliklidir ve **_immutable_** yapıdadırlar yani değiştirilemezler.\n",
    "\n",
    "Symbol veri türleri **unique** özelliğe sahiptirler. Bu sebeple nesne tanımlı değişken içerisinde **_key_**[^1] olarak kullanılırlar ve bu yöntemle nesnenin değerlerine erişim sağlanır.\n",
    "\n",
    "Unique olması sebebi ile program içerisinde **_API_**[^2] gibi sabit değerleri depolamak için sıklıkla symbol veri türlerinden faydalanılır. Bunun için değişkenlerden faydalanılır.\n",
    "\n",
    "Symbol veri türleri aynı zamanda bir verinin encapsulation ilkesine göre gizliliğini ve güvenliğini sağlar.\n",
    "\n",
    "Symbol veri türü ES6 ile JavaScript'de dahil olmuştur.\n",
    "\n",
    "Symbol veri türünde bir değişken oluşturmak için `Symbol(\"Description\")` metodundan faydalanılır. Buradaki `Description` terimi genelde symbol veri türünün hangi amaçla oluşturulduğunu ifade eder. Kullanılması isteğe bağlı opsiyoneldir.\n",
    "\n",
    "**💡`Description` argümanının kullanılması tavsiye edilir. Böylece symbol'un ne amaçla oluşturulduğu bilinecektir. Kullanılması özellikle bug ve debug işlemlerinde faydalı olacaktır.**\n",
    "\n",
    "**Örnek**\n"
   ]
  },
  {
   "cell_type": "code",
   "execution_count": 1,
   "metadata": {
    "vscode": {
     "languageId": "javascript"
    }
   },
   "outputs": [
    {
     "name": "stdout",
     "output_type": "stream",
     "text": [
      "\u001b[32mSymbol(Personel ismini tanımlar.)\u001b[39m\n",
      "\u001b[32mSymbol()\u001b[39m\n"
     ]
    }
   ],
   "source": [
    "%%script node\n",
    "\n",
    "// Örnekte symbol veri türünün tanımlanması görülmektedir.\n",
    "\n",
    "const personalName = Symbol(\"Personel ismini tanımlar.\");\n",
    "const surName = Symbol();\n",
    "\n",
    "/** \n",
    " * Description tanımlanmış olması debug işleminde değişkenin hangi amaçla oluşturulduğunu belirlemede \n",
    " * yardımcı olacaktır.\n",
    " */\n",
    "console.log(personalName);\n",
    "\n",
    "// Symbol() ifadesi konsola yazdırılır.\n",
    "console.log(surName);"
   ]
  },
  {
   "cell_type": "markdown",
   "metadata": {},
   "source": [
    "`Description` argümanı kullanılmadığında description özelliği `undefined` olacaktır.\n",
    "\n",
    "**Örnek**"
   ]
  },
  {
   "cell_type": "code",
   "execution_count": 16,
   "metadata": {
    "vscode": {
     "languageId": "javascript"
    }
   },
   "outputs": [
    {
     "name": "stdout",
     "output_type": "stream",
     "text": [
      "personalName değişkeninin description değeri:undefined\n"
     ]
    }
   ],
   "source": [
    "%%script node\n",
    "\n",
    "const personalName = Symbol();\n",
    "\n",
    "console.log(`personalName değişkeninin description değeri:${personalName.description}`);\n"
   ]
  },
  {
   "cell_type": "markdown",
   "metadata": {},
   "source": [
    "Symbol veri türü özellikli bir değişkenin boolean değeri daima `true` olacaktır.\n",
    "\n",
    "**Örnek**"
   ]
  },
  {
   "cell_type": "code",
   "execution_count": 2,
   "metadata": {
    "vscode": {
     "languageId": "javascript"
    }
   },
   "outputs": [
    {
     "name": "stdout",
     "output_type": "stream",
     "text": [
      "personalName değişkeninin boolean değeri:true\n"
     ]
    }
   ],
   "source": [
    "%%script node\n",
    "\n",
    "const personalName = Symbol(\"Personel ismini tanımlar.\");\n",
    "const surName = Symbol();\n",
    "\n",
    "// Boolean() metodu ile değişkenin boolean olarak tuttuğu veri türünü öğreniyoruz.\n",
    "console.log(`personalName değişkeninin boolean değeri:${Boolean(personalName)}`);\n"
   ]
  },
  {
   "cell_type": "markdown",
   "metadata": {},
   "source": [
    "Symbol veri türü özellikli değişkenlerin veri tipleri de symbol olacaktır.\n",
    "\n",
    "**Örnek**\n"
   ]
  },
  {
   "cell_type": "code",
   "execution_count": 3,
   "metadata": {
    "vscode": {
     "languageId": "javascript"
    }
   },
   "outputs": [
    {
     "name": "stdout",
     "output_type": "stream",
     "text": [
      "sym değişkeninin veri tipi:symbol\n"
     ]
    }
   ],
   "source": [
    "%%script node\n",
    "\n",
    "const sym = Symbol(\"Bir symbol veri türü örneği.\");\n",
    "\n",
    "console.log(`sym değişkeninin veri tipi:${typeof sym}`);"
   ]
  },
  {
   "cell_type": "markdown",
   "metadata": {},
   "source": [
    "Symbol veri türleri unique özelliklidir. Aynı description'a sahip değişkenlerin türü ve veri tipi birbirinden farklıdır.\n",
    "\n",
    "Symbol veri türlerinin unique olma özelliği, her Symbol değerinin farklı bir kimlik(identifier) taşımasından kaynaklanır. Bu kimlik, Symbol'ün oluşturulduğu bağlam içinde benzersizdir ve diğer hiçbir Symbol ile eşleşmez.\n",
    "\n",
    "**Örnek**\n"
   ]
  },
  {
   "cell_type": "code",
   "execution_count": 5,
   "metadata": {
    "vscode": {
     "languageId": "javascript"
    }
   },
   "outputs": [
    {
     "name": "stdout",
     "output_type": "stream",
     "text": [
      "sym ve sym2 değişkenleri depoladığı değer bakımından birbirine eşit midir?:false\n",
      "sym ve sym2 değişkenleri depoladığı değer ve veri türü bakımından birbirine eşit midir?:false\n"
     ]
    }
   ],
   "source": [
    "%%script node\n",
    "\n",
    "const sym = Symbol(\"Symbol değeri\")\n",
    "const sym2 = Symbol(\"Symbol değeri\");\n",
    "\n",
    "// Hem veri türü hem de veri tipi olarak birbirinden farklıdırlar. Konsola false ifadesi yazılacaktır.\n",
    "console.log(`sym ve sym2 değişkenleri depoladığı değer bakımından birbirine eşit midir?:${sym == sym2}`);\n",
    "console.log(`sym ve sym2 değişkenleri depoladığı değer ve veri türü bakımından birbirine eşit midir?:${sym === sym2}`);"
   ]
  },
  {
   "cell_type": "markdown",
   "metadata": {},
   "source": [
    "## <a id='toc1_2_'></a>[JavaScript Symbol Veri Türünün Nesne içerisinde Kullanımı](#toc0_)\n",
    "\n",
    "Symbol veri türüne sahip olan değişkenler sıklıkla nesne içerisinde depolanan veriye ulaşmak için key olarak kullanılırlar.\n",
    "\n",
    "Diyelim ki bir kod bloğu JavaScript programımızın farklı yerlerinde veya başka bir modul içerisinde kullanılsın. Bu durumda symbol veri türü ile aynı key ismi kodun farklı bölümlerinde kullanabilir bu sayede kodun duplicate edilmesiyle oluşabilecek sorunların önüne geçebiliriz.\n",
    "\n",
    "Bunu bir örnek ile açıklayalım.\n",
    "\n",
    "**Örnek**\n"
   ]
  },
  {
   "cell_type": "code",
   "execution_count": 6,
   "metadata": {
    "vscode": {
     "languageId": "javascript"
    }
   },
   "outputs": [
    {
     "name": "stdout",
     "output_type": "stream",
     "text": [
      "Öğrencinin numarası:276\n"
     ]
    }
   ],
   "source": [
    "%%script node\n",
    "\n",
    "// Aşağıda student değişkeni nesne özelliklidir ve id key'ine 276 değeri depolanmıştır.\n",
    "let student = { firstName: \"Emin\" };\n",
    "let id = Symbol(\"Öğrenci numarası\");\n",
    "\n",
    "student[id] = 276;\n",
    "\n",
    "console.log(`Öğrencinin numarası:${student[id]}`);\n"
   ]
  },
  {
   "cell_type": "markdown",
   "metadata": {},
   "source": [
    "`student` nesnesini başka bir programda kullandığımızı düşünelim. Program içerisinden orijinal kodlara erişip yeni bir **_property_**[^3] eklemek veya var olan property'i güncellemek mümkün değildir.\n",
    "\n",
    "Bu durumda symbol özellikli veri türlerini kullanılarak orijinal kodları başka bir program için özelleştirebiliriz. Anlaşılacağı üzere bu bize kodlar üzerinde esneklik kazandırır. Farklı programlarda aynı key ismini kullanabilir ve depolanan değerleri değiştirebiliriz. Böylece depolanan değerin duplicate edilmesinden kaynaklanabilecek sorunların önüne geçebiliriz.\n",
    "\n",
    "**Örnek**\n",
    "\n",
    "Örnekte id key'in tuttuğu değer başka bir program için özelleştirilmiş.\n"
   ]
  },
  {
   "cell_type": "code",
   "execution_count": 7,
   "metadata": {
    "vscode": {
     "languageId": "javascript"
    }
   },
   "outputs": [
    {
     "name": "stdout",
     "output_type": "stream",
     "text": [
      "Öğrencinin numarası:500\n"
     ]
    }
   ],
   "source": [
    "%%script node\n",
    "\n",
    "// student.js dosyası\n",
    "let student = { firstName: \"Emin\" };\n",
    "let id = Symbol(\"Öğrenci numarası\");\n",
    "\n",
    "/** studentList.js dosyası içerisine student.js dosyasını import ettiğimizi ve id key'ine ulaşıp 500 değerini \n",
    " * depolamaya çalıştığımızı düşünelim.\n",
    " */ \n",
    "student[id] = 500;\n",
    "\n",
    "console.log(`Öğrencinin numarası:${student[id]}`);"
   ]
  },
  {
   "cell_type": "markdown",
   "metadata": {},
   "source": [
    "Yukarıdaki program başka bir yerde kullanıldığında `id` key'in depoladığı değer overwrite edilebilir. Bu durumda `id` key'in depoladığı değer değişecektir.\n",
    "\n",
    "**Örnek**\n"
   ]
  },
  {
   "cell_type": "code",
   "execution_count": 8,
   "metadata": {
    "vscode": {
     "languageId": "javascript"
    }
   },
   "outputs": [
    {
     "name": "stdout",
     "output_type": "stream",
     "text": [
      "Bir önceki programda student değişkeninin değeri:500\n",
      "Yeni programda student değişkeninin değeri:800\n"
     ]
    }
   ],
   "source": [
    "%%script node\n",
    "\n",
    "let student = { firstName: \"Emin\" };\n",
    "\n",
    "// Bir önceki programdan alınan değer.\n",
    "student.id = 500;\n",
    "console.log(`Bir önceki programda student değişkeninin değeri:${student.id}`);\n",
    "\n",
    "// Başka bir program tarafından id'ye verilen değer overwrite ediliyor.\n",
    "student.id = \"800\";\n",
    "\n",
    "// student.id property'sinin yeni değeri 800 olacaktır.\n",
    "console.log(`Yeni programda student değişkeninin değeri:${student.id}`);\n"
   ]
  },
  {
   "cell_type": "markdown",
   "metadata": {},
   "source": [
    "## <a id='toc1_3_'></a>[JavaScript Symbol Veri Türünün Benzersiz Sabit Olarak Kullanılması](#toc0_)\n",
    "\n",
    "Symbol veri türünün unique olmasının getirdiği bir avantaj olarak program içerisinde **benzersiz sabit değerler** oluşturabiliriz. Özellikle bu yöntem **_API_** oluşturmada sıklıkla kullanılır.\n",
    "\n",
    "**Örnek**\n",
    "\n",
    "Aşağıdaki `Symbol()` metodu içerisinde nesne oluşturuluyor ve `const:true` property'si ile symbol'un constant olduğu ifade ediliyor.\n"
   ]
  },
  {
   "cell_type": "code",
   "execution_count": 26,
   "metadata": {
    "vscode": {
     "languageId": "javascript"
    }
   },
   "outputs": [
    {
     "name": "stdout",
     "output_type": "stream",
     "text": [
      "\u001b[32mSymbol(Unique özellikli bir sabit.)\u001b[39m\n"
     ]
    }
   ],
   "source": [
    "%%script node\n",
    "\n",
    "// Symbol içerisinde nesne oluşturulduğuna dikkat edelim.\n",
    "const sym = Symbol(\"Unique özellikli bir sabit.\", { const: true });\n",
    "\n",
    "console.log(sym);"
   ]
  },
  {
   "cell_type": "markdown",
   "metadata": {},
   "source": [
    "Aşağıdaki örnekte Symbol veri türünün API için kullanılmasını görüyoruz.\n",
    "\n",
    "**Örnek**\n"
   ]
  },
  {
   "cell_type": "code",
   "execution_count": 29,
   "metadata": {
    "vscode": {
     "languageId": "javascript"
    }
   },
   "outputs": [
    {
     "name": "stdout",
     "output_type": "stream",
     "text": [
      "Veri alınıyor...\n",
      "Veri kaydediliyor: Yeni veri\n"
     ]
    }
   ],
   "source": [
    "%%script node\n",
    "\n",
    "// API'yi temsil eden bir nesne oluşturalım\n",
    "const myAPI = {};\n",
    "\n",
    "// API'nin özelliklerini temsil etmek için iki adet Symbol oluşturalım\n",
    "const GET_DATA = Symbol('getData');\n",
    "const SAVE_DATA = Symbol('saveData');\n",
    "\n",
    "// API'nin özelliklerini Symbol'ler aracılığıyla tanımlayalım\n",
    "myAPI[GET_DATA] = () => {\n",
    "  return \"Veri alınıyor...\";\n",
    "};\n",
    "\n",
    "myAPI[SAVE_DATA] = (data) => {\n",
    "  return `Veri kaydediliyor: ${data}`;\n",
    "};\n",
    "\n",
    "// API'yi kullanalım\n",
    "console.log(myAPI[GET_DATA]()); // \"Veri alınıyor...\"\n",
    "console.log(myAPI[SAVE_DATA](\"Yeni veri\")); // \"Veri kaydediliyor: Yeni veri\"\n",
    "\n",
    "// Symbol'lerin diğer özelliklerinden korunuyoruz, çünkü myAPI[GET_DATA] veya myAPI[SAVE_DATA] şeklinde kullanılmadıkça dışarıdan erişilemezler.\n",
    "\n"
   ]
  },
  {
   "cell_type": "markdown",
   "metadata": {},
   "source": [
    "## <a id='toc1_4_'></a>[JavaScript Symbol Veri Türünün Global Hale Getirilmesi](#toc0_)\n",
    "\n",
    "Bazen bir symbol veri türü özellikli değişkeni programın her yerinden ulaşıp kullanmak isteriz. Bu durumda `global:true` property'sini kullanırız.\n",
    "\n",
    "**Örnek**\n",
    "\n",
    "Aşağıdaki `Symbol()` metodu içerisinde nesne oluşturuluyor ve `global:true` property'si ile symbol'un global olduğu ifade ediliyor.\n"
   ]
  },
  {
   "cell_type": "code",
   "execution_count": 12,
   "metadata": {
    "vscode": {
     "languageId": "javascript"
    }
   },
   "outputs": [
    {
     "name": "stdout",
     "output_type": "stream",
     "text": [
      "\u001b[32mSymbol(Unique özellikli bir sabit.)\u001b[39m\n"
     ]
    }
   ],
   "source": [
    "%%script node\n",
    "\n",
    "// Symbol içerisinde nesne oluşturulduğuna dikkat edelim.\n",
    "let sym = Symbol(\"Unique özellikli bir sabit.\", { global: true });\n",
    "\n",
    "console.log(sym);"
   ]
  },
  {
   "cell_type": "markdown",
   "metadata": {},
   "source": [
    "## <a id='toc1_5_'></a>[JavaScript Symbol Veri Türü ile Verinin Güvenliğinin Sağlanması](#toc0_)\n",
    "\n",
    "Bazen private değişkenler veya metotlar oluşturmak isteriz. Böylece verilerin dışarıdan erişilmesini engeller ve güvenliğini sağlarız. Böyle bir durumda symbol veri türü oldukça sık kullanılır. (Encapsulation İlkesi)\n",
    "\n",
    "**Örnek**\n"
   ]
  },
  {
   "cell_type": "code",
   "execution_count": 13,
   "metadata": {
    "vscode": {
     "languageId": "javascript"
    }
   },
   "outputs": [
    {
     "name": "stdout",
     "output_type": "stream",
     "text": [
      "firstName\n",
      "age\n"
     ]
    }
   ],
   "source": [
    "%%script node\n",
    "\n",
    "const id = Symbol(\"Personel id'si\");\n",
    "\n",
    "const person = { firstName: \"Ömer\", age: 25, [id]: 14533 };\n",
    "\n",
    "// Konsol çıktısında id key'ine ait değer yazdırılmaz.\n",
    "for (const key in person) {\n",
    "  console.log(key);\n",
    "};"
   ]
  },
  {
   "cell_type": "markdown",
   "metadata": {},
   "source": [
    "## <a id='toc1_6_'></a>[JavaScript Object Veri Tipinde Symbol Veri Türleri](#toc0_)\n",
    "\n",
    "Bildiğimiz üzere JavaScript'de symbol özellikli değişkenler normalde **_immutable_**, ilkel ve symbol veri tipine sahip veri türleridir.\n",
    "\n",
    "**Ancak `Object()` metodu kullanılarak object veri tipinde symbol veri türleri oluşturulabilir.**\n",
    "\n",
    "**⚠️ Object veri tipinde oluşturulan symbol özellikli bir değişken ile normal yöntem kullanılarak oluşturulan symbol özellikli değişkenin veri tipi birbirinden farklıdır.**\n",
    "\n",
    "**Örnek**\n"
   ]
  },
  {
   "cell_type": "code",
   "execution_count": 14,
   "metadata": {
    "vscode": {
     "languageId": "javascript"
    }
   },
   "outputs": [
    {
     "name": "stdout",
     "output_type": "stream",
     "text": [
      "objectPersonalId değişkeninin veri tipi:object\n"
     ]
    }
   ],
   "source": [
    "%%script node\n",
    "\n",
    "const personId = Symbol(\"Personel ID\");\n",
    "\n",
    "// personId değişkeninin veri tipini object veri tipine çevirmek için Object() metodundan faydalandık.\n",
    "const objectPersonalId = Object(personId);\n",
    "\n",
    "\n",
    "console.log(`objectPersonalId değişkeninin veri tipi:${typeof (objectPersonalId)}`);\n"
   ]
  },
  {
   "cell_type": "markdown",
   "metadata": {},
   "source": [
    "## <a id='toc1_7_'></a>[Özet](#toc0_)\n",
    "\n",
    "Symbol veri türü, programlamada benzersiz ve değiştirilemez değerler oluşturmak için kullanılan önemli bir özelliktir. Bu veri türü, nesnelerin özelliklerini korumak, API'lerde sabit değerler oluşturmak ve verinin güvenliğini sağlamak için etkili bir araçtır.\n",
    "\n",
    "Symbol'ler, özellikle nesne içerisinde key olarak kullanılarak verilere erişim sağlama konusunda önemli bir rol oynar. Bu, programın farklı modüllerinde veya bloklarında aynı isme sahip key'leri kullanarak veriye ulaşma esnekliği sağlar. Ayrıca, encapsulation ilkesine uygun olarak private verilerin oluşturulmasında ve güvenliğin sağlanmasında da etkilidir.\n",
    "\n",
    "Symbol'lerin unique olma özelliği, benzersiz sabit değerler oluşturmak için kullanılabilir. API'lerde kullanılan Symbol'ler, programın farklı bölgelerinde aynı key'leri kullanarak veri değiştirmeyi mümkün kılar, bu da kodun esnekliğini artırır.\n",
    "\n",
    "Object veri tipinde Symbol kullanımı, normal Symbol veri türünden farklıdır ve dikkat edilmesi gereken bir noktadır. Object veri tipinde oluşturulan Symbol özellikli değişkenin veri tipi, normal bir Symbol'den farklıdır.\n",
    "\n",
    "**Sonuç olarak,** JavaScript Symbol veri türü, programlamada benzersiz, değiştirilemez ve güvenli veri oluşturmak için güçlü bir araç sağlar. Symbol'ler, özellikle nesne özelliklerini güvence altına almak ve programın farklı bölgelerinde esneklik sağlamak amacıyla yaygın olarak kullanılır.\n"
   ]
  },
  {
   "cell_type": "markdown",
   "metadata": {},
   "source": [
    "Footnotes\n",
    "\n",
    "[^1]:JavaScript nesnelerinde key (anahtar) kullanılmasının temel amacı, verileri organize etmek, erişmek ve işlemek için bir yapı sağlamaktır. \n",
    "[^2]:JavaScript'te \"API\" (Application Programming Interface), genellikle başka bir yazılım veya hizmet ile iletişim kurmak, veri alışverişi yapmak veya belirli işlevselliğe erişmek için kullanılan bir arayüzü ifade eder. \n",
    "[^3]:JavaScript'te bir nesnenin özelliklerini tanımlamak için kullanılan terim \"property\"dir. Nesneler, key-value çiftleri şeklinde özellikleri saklarlar ve bu özellikler \"property\" olarak adlandırılır. Bir nesnenin her bir property'si, nesnenin özelliklerini temsil eder ve bir key (anahtar) ile ilişkilendirilmiş bir değeri içerir.\n"
   ]
  }
 ],
 "metadata": {
  "kernelspec": {
   "display_name": "Python 3",
   "language": "python",
   "name": "python3"
  },
  "language_info": {
   "codemirror_mode": {
    "name": "ipython",
    "version": 3
   },
   "file_extension": ".py",
   "mimetype": "text/x-python",
   "name": "python",
   "nbconvert_exporter": "python",
   "pygments_lexer": "ipython3",
   "version": "3.10.12"
  }
 },
 "nbformat": 4,
 "nbformat_minor": 2
}
