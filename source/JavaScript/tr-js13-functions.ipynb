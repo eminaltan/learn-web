{
 "cells": [
  {
   "cell_type": "markdown",
   "metadata": {},
   "source": [
    "# JavaScript Fonksiyonlar<a id='toc0_'></a>    \n",
    "\n",
    "Merhaba arkadaşlar serinin bu bölümünde JavaScript'te fonksiyonları inceleyeceğiz.\n",
    "\n",
    "Yazıda:\n",
    "\n",
    "- [JavaScript'de Fonksiyonun Özellikleri](#toc1_1_)    \n",
    "- [JavaScript Fonksiyonun Bölümleri](#toc1_2_)    \n",
    "- [JavaScript `return` Keyword'ü ve `()` İşaretlerinin Kullanımı](#toc1_3_)    \n",
    "- [Function Scope Kavramı](#toc1_4_)    \n",
    "- [JavaScript Değişken Özellikli Fonksiyonlar](#toc1_5_)    \n",
    "- [Özet](#toc1_6_)    \n",
    "\n",
    "Değineceğim.\n",
    "\n",
    "İyi okumalar dilerim.\n",
    "\n",
    "If you want to read English version of this article please visit [this link](js13-functions.ipynb)\n",
    "<!-- vscode-jupyter-toc-config\n",
    "\tnumbering=false\n",
    "\tanchor=true\n",
    "\tflat=false\n",
    "\tminLevel=1\n",
    "\tmaxLevel=6\n",
    "\t/vscode-jupyter-toc-config -->\n",
    "<!-- THIS CELL WILL BE REPLACED ON TOC UPDATE. DO NOT WRITE YOUR TEXT IN THIS CELL -->"
   ]
  },
  {
   "cell_type": "markdown",
   "metadata": {},
   "source": [
    "## <a id='toc1_1_'></a>[JavaScript'de Fonksiyonun Özellikleri](#toc0_)\n",
    "\n",
    "Fonksiyonlar kod bloklarından oluşurlar ve bu kod blokları arasındaki belirli görevleri yerine getirirler.\n",
    "\n",
    "Değişken isimi oluşturmada kullanılan kurallar fonksiyon isimleri için de geçerlidir. Hatırlamak için [JavaScript Identifiers Kavramı](tr-js02-basics-of-js.ipynb#javascript-identifiers-kavramı) başlığını ziyaret edebilirsiniz.\n",
    "\n",
    "Fonksiyonlar temelde bize aşağıdaki faydaları sağlar.\n",
    "\n",
    "- Fonksiyonlar sayesinde tekrar kullanılabilir kod blokları oluşturabiliriz. Böylece programın farklı bölümlerinde aynı işlevi gerçekleştirmek için oluşturmuş olduğumuz fonksiyonu çağırmak yeterli olur ve kodları yeniden yazmamış oluruz. Bu ilkeye **_DRY_**[^1] adı verilir.\n",
    "\n",
    "- Fonksiyon içerisindeki parametreleri kullanarak farklı sonuçlar elde edebiliriz.\n",
    "\n",
    "Fonksiyonların yapıları nesne özelliğine sahiptirler.\n",
    "\n",
    "**Örnek**\n"
   ]
  },
  {
   "cell_type": "code",
   "execution_count": 9,
   "metadata": {
    "vscode": {
     "languageId": "javascript"
    }
   },
   "outputs": [
    {
     "name": "stdout",
     "output_type": "stream",
     "text": [
      "myFunction() nesne türünde bir fonksiyon mudur?:true\n"
     ]
    }
   ],
   "source": [
    "%%script node\n",
    "\n",
    "function myFunction() {\n",
    "    return \"Bu bir fonksiyondur.\";\n",
    "}\n",
    "\n",
    "// instanceof operatörünü bir değişken ile object arasındaki ilişkiyi anlamada kullanıyoruz. \n",
    "console.log(`myFunction() nesne türünde bir fonksiyon mudur?:${myFunction instanceof Object}`);\n"
   ]
  },
  {
   "cell_type": "markdown",
   "metadata": {},
   "source": [
    "## <a id='toc1_2_'></a>[JavaScript Fonksiyonun Bölümleri](#toc0_)\n",
    "\n",
    "Şimdi de bir fonksiyonun bölümlerini inceleyelim.\n",
    "\n",
    "![part-of-function](https://savvy.co.il/wp-content/uploads/2022/03/javascript-function.webp, \"fonksiyonun kısımları\")\n",
    "\n",
    "Bir fonksiyon oluşturmak için `function` keyword'ünden faydalanırız. `function` keyword'ünü sırasıyla fonksiyon ismi, `()` ve `{}` işareti takip eder.\n",
    "\n",
    "Fonksiyonda kullanılabilecek değişkenler`()` işaretleri arasında da oluşturulabilir. Buna parametre adı verilir. Parametreler birbirlerinden `,` işareti ile ayrılırlar.\n",
    "\n",
    "`{}` işaretleri arasına çalıştırılacak kodlar yazılır. Bu kodlara **_function statement_** adı verilir.\n",
    "\n",
    "Kodlar çalıştıktan sonra üretilen değer `return` keyword'ü ile geri **fonksiyonun çağrıldığı yere geri döndürülür.** `return` keyword'ünün yeri `{}` işaretleri arasındadır.\n",
    "\n",
    "Bir fonksiyon `return` keyword'üne ulaştıktan sonra çalışmayı sonlandırır ve sonrasındaki kodları çalıştırılmaz. Fonksiyon çağrıldığı yere sonuç döndürülür.\n",
    "\n",
    "**Örnek**\n"
   ]
  },
  {
   "cell_type": "code",
   "execution_count": 10,
   "metadata": {
    "vscode": {
     "languageId": "javascript"
    }
   },
   "outputs": [
    {
     "name": "stdout",
     "output_type": "stream",
     "text": [
      "Fonksiyonun sonucu: 7\n"
     ]
    }
   ],
   "source": [
    "%%script node\n",
    "\n",
    "// Fonksiyon ismi myFunction()'dur. Fonksiyonun parametreleri ise parameter1 ve parameter2'dir.\n",
    "function myFunction (parameter1,parameter2){\n",
    "\n",
    "  let result = parameter1 + parameter2;\n",
    "  \n",
    "  /** \n",
    "  * return keyword'una ulaşıldığında fonksiyon çalışmayı durduracak ve aşağıdaki result değişkenine ait değeri \n",
    "  * geri döndürecektir.\n",
    "  */\n",
    "  return result;\n",
    "\n",
    "// Yani aşağıdaki kod parçası çalışmayacaktır.\n",
    "  let result2 = parameter1 / parameter2;\n",
    "}\n",
    "\n",
    "// parameter1=2 ve parameter2=5 olacaktır.\n",
    "console.log(`Fonksiyonun sonucu: ${myFunction(2, 5)}`);"
   ]
  },
  {
   "cell_type": "markdown",
   "metadata": {},
   "source": [
    "## <a id='toc1_3_'></a>[JavaScript `return` Keyword'ü ve `()` İşaretlerinin Kullanımı](#toc0_)\n",
    "\n",
    "Aşağıdaki örnekte `return` keyword'ü kullanılmamış bir fonksiyon görülüyor. Bu durumdaki fonksiyon çağrıldığında **_undefined_** değerini geri döndürür.\n",
    "\n",
    "**Örnek**\n"
   ]
  },
  {
   "cell_type": "code",
   "execution_count": 11,
   "metadata": {
    "vscode": {
     "languageId": "javascript"
    }
   },
   "outputs": [
    {
     "name": "stdout",
     "output_type": "stream",
     "text": [
      "myFunction() fonksiyonunun sonucu: undefined\n"
     ]
    }
   ],
   "source": [
    "%%script node\n",
    "\n",
    "function myFunction() {\n",
    "    let a, b = 2;\n",
    "    a + b;\n",
    "}\n",
    "\n",
    "console.log(`myFunction() fonksiyonunun sonucu: ${myFunction()}`);"
   ]
  },
  {
   "cell_type": "markdown",
   "metadata": {},
   "source": [
    "Fonksiyonu çağırırken `()` işaretleri kullanmazsak fonksiyonun içeriği ekrana yazdırılır.\n",
    "\n",
    "**💡 Yazılan fonksiyonun içeriğini görüntülemek özellikle bug/debug işlemleri için faydalı olabilir.**\n",
    "\n",
    "**Örnek**\n"
   ]
  },
  {
   "cell_type": "code",
   "execution_count": 12,
   "metadata": {
    "vscode": {
     "languageId": "javascript"
    }
   },
   "outputs": [
    {
     "name": "stdout",
     "output_type": "stream",
     "text": [
      "myFunction() fonksiyonunun yapısı:function myFunction(){\n",
      "    let result = 10 + 20;\n",
      "    return result;\n",
      "}\n"
     ]
    }
   ],
   "source": [
    "%%script node\n",
    "\n",
    "function myFunction(){\n",
    "    let result = 10 + 20;\n",
    "    return result;\n",
    "}\n",
    "\n",
    "// Konsola function myFunction(){let result = 10+20; return result;} ifadesi yazdırılır.\n",
    "console.log(`myFunction() fonksiyonunun yapısı:${myFunction}`);"
   ]
  },
  {
   "cell_type": "markdown",
   "metadata": {},
   "source": [
    "## <a id='toc1_4_'></a>[Function Scope Kavramı](#toc0_)\n",
    "\n",
    "Bir fonksiyonda tanımlanan parametreler ve fonksiyonun içerisinde `let` ve `const` keyword'leri kullanılarak tanımlanan değişkenler **local scope** özelliğine sahiptirler yani bu değişkenlere fonksiyon dışarısından ulaşılamaz.\n",
    "\n",
    "**⚠️ Normalde `var` keyword'ü kullanarak tanımlanan bir değişken global scope özelliğine sahiptir. Ancak bir metot içerisinde `var` keyword'ü kullanılarak tanımlanan değişken function scope özelliği taşır. Böyle bir değişkene tanımladığı metot dışarısından ulaşılamaz. Detaylı bilgi için [Function Scope](tr-js23-scope-concept.ipynb#function-scope) başlığına göz atabilirsiniz.**"
   ]
  },
  {
   "cell_type": "code",
   "execution_count": 13,
   "metadata": {
    "vscode": {
     "languageId": "javascript"
    }
   },
   "outputs": [
    {
     "name": "stderr",
     "output_type": "stream",
     "text": [
      "ReferenceErrorvalue is not defined\n",
      "ReferenceErrorvalue2 is not defined\n",
      "ReferenceErrorvalue3 is not defined\n"
     ]
    }
   ],
   "source": [
    "%%script node\n",
    "\n",
    "function myFunction(parameter1, parameter2) {\n",
    "    let value = 5;\n",
    "    const value2 = 10;\n",
    "    var value3 = 20;\n",
    "    return value3;\n",
    "}\n",
    "\n",
    "try {\n",
    "    console.log(`value değişkeninin değeri:${value}`);\n",
    "} catch (error) {\n",
    "    // let ile oluşturulan bir değişken bulunduğu scope'un dışında kullanılamaz.\n",
    "    console.error(error.name + error.message);\n",
    "}\n",
    "\n",
    "try {\n",
    "    console.log(`value2 değişkeninin değeri:${value2}`);\n",
    "} catch (error) {\n",
    "    // const ile oluşturulan bir değişken bulunduğu scope'un dışında kullanılamaz.\n",
    "    console.error(error.name + error.message);\n",
    "}\n",
    "\n",
    "try {\n",
    "    console.log(`value3 değişkeninin değeri:${value3}`);\n",
    "} catch (error) {\n",
    "    /** \n",
    "     * ⚠️ var keyword'ü kullanılarak oluşturulan bir değişken function scope özellikli ise \n",
    "     * bulunduğu scope'un dışında kullanılamaz.\n",
    "     */\n",
    "    console.error(error.name + error.message);\n",
    "}\n"
   ]
  },
  {
   "cell_type": "markdown",
   "metadata": {},
   "source": [
    "Yukarıdaki  örnekte `parameter1`, `parameter2`, `value` ve `value2` değişkenleri local scope özelliğine sahiptirler. Yani bu değişkenlere fonksiyonun scope'u dışarısından erişmek ve kullanmak mümkün değildir.\n",
    "\n",
    "Burada dikkat edilmesi gereken nokta `var` keyword'ü kullanılarak tanımlanmış olan `value3` değişkenidir. Normalde `var` keyword'ü kullanılarak tanımlanan bir değişken global özellikli olup programın her yerinden ulaşılabilirken bir fonksiyon içerisinde kullanılması halinde **_function scope_** özelliği gösterir ve fonksiyon dışından erişilemez hale gelir. Özetle local scope özelliğine sahip olur."
   ]
  },
  {
   "cell_type": "markdown",
   "metadata": {},
   "source": [
    "## <a id='toc1_5_'></a>[JavaScript Değişken Özellikli Fonksiyonlar](#toc0_)\n",
    "\n",
    "Bir değişkenin depoladığı değer fonksiyon olabilir. Bu durumdaki değişkenin içeriği konsola yazdırıldığına aslında konsola fonksiyona ait içerik yazdırılır.\n",
    "\n",
    "Ek olarak değişken özellikli fonksiyonlar matematiksel işlemlere sokulabilir.\n",
    "\n",
    "**Örnek**\n"
   ]
  },
  {
   "cell_type": "code",
   "execution_count": 14,
   "metadata": {
    "vscode": {
     "languageId": "javascript"
    }
   },
   "outputs": [
    {
     "name": "stdout",
     "output_type": "stream",
     "text": [
      "myFunction() fonksiyonun sonucu:30\n",
      "myFunction() fonksiyonu matematiksel işlemlere sokulabilir:40\n"
     ]
    }
   ],
   "source": [
    "%%script node\n",
    "\n",
    "function myFunction() {\n",
    "    return 10 + 20;\n",
    "}\n",
    "\n",
    "// result değişkeni değişken özellikli bir fonksiyondur.\n",
    "let result = myFunction();\n",
    "\n",
    "// result değişkeni myFunction() referans gösteriyor.\n",
    "console.log(`myFunction() fonksiyonun sonucu:${result}`);\n",
    "\n",
    "console.log(`myFunction() fonksiyonu matematiksel işlemlere sokulabilir:${(result + 10)}`);"
   ]
  },
  {
   "cell_type": "markdown",
   "metadata": {},
   "source": [
    "## <a id='toc1_6_'></a>[Özet](#toc0_)\n",
    "\n",
    "JavaScript'te fonksiyonlar, kodun belirli görevleri yerine getiren ve tekrar kullanılabilirliği sağlayan yapılardır. Fonksiyonlar, programın farklı bölümlerinde aynı işlevi gerçekleştirmek için kullanılabilir, bu da kodunuzu daha düzenli ve modüler hale getirir.\n",
    "\n",
    "Temel özellikler şunlardır:\n",
    "\n",
    "- **Parametreler:** Fonksiyon içinde kullanılarak farklı sonuçlar elde etmenizi sağlar.\n",
    "- **Return statement:** Bir fonksiyonun çalışmasını sonlandırır ve çağrıldığı yere bir değer döndürür.\n",
    "- **Function Scope:** Fonksiyon içinde tanımlanan değişkenlerin erişim kapsamını belirler.\n",
    "- **Değişken Özellikli Fonksiyonlar:** Bir değişkenin içeriği bir fonksiyon olabilir, bu durumda değişken fonksiyonun çalıştırılabilir bir referansını depolar.\n",
    "\n",
    "Fonksiyonlar, kodunuzu daha sade ve etkili bir şekilde yazmanıza yardımcı olur. \"DIY\" prensibine uygun olarak kodunuzu daha düzenli hale getirir ve bakımını kolaylaştırır. JavaScript fonksiyonları, programlamada temel bir yapı taşıdır ve kodunuzu daha modüler ve okunabilir hale getirir.\n"
   ]
  },
  {
   "cell_type": "markdown",
   "metadata": {},
   "source": [
    "[^1]: \"DRY\" JavaScript kod yazma prensibi, \"Kendini Tekrarlama Yapma\" olarak adlandırılır. Bu prensip, kodunuzu tekrarlanan veya aynı işlevi yerine getiren kod parçalarını minimize ederek ve kodun yeniden kullanılabilirliğini teşvik ederek yazmanızı teşvik eder.\n"
   ]
  }
 ],
 "metadata": {
  "kernelspec": {
   "display_name": "Python 3",
   "language": "python",
   "name": "python3"
  },
  "language_info": {
   "codemirror_mode": {
    "name": "ipython",
    "version": 3
   },
   "file_extension": ".py",
   "mimetype": "text/x-python",
   "name": "python",
   "nbconvert_exporter": "python",
   "pygments_lexer": "ipython3",
   "version": "3.10.12"
  }
 },
 "nbformat": 4,
 "nbformat_minor": 2
}
