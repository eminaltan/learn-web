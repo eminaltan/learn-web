{
 "cells": [
  {
   "cell_type": "markdown",
   "metadata": {},
   "source": [
    "# JavaScript'te Nesneler<a id='toc0_'></a>\n",
    "\n",
    "Merhaba arkadaşlar serinin bu bölümünde JavaScript'te **_nesneleri (object)_** kavramını inceleyeceğiz.\n",
    "\n",
    "Yazıda:\n",
    "\n",
    "- [JavaScript'te Nesne Anlayışı](#toc1_1_)\n",
    "- [JavaScript Nesnenin Bölümleri](#toc1_2_)\n",
    "- [JavaScript Nesne İçinde Nesne Kullanımı](#toc1_3_)\n",
    "- [JavaScript `this` Keyword Kullanımı](#toc1_4_)\n",
    "  - [Global Nesneyi Referans Olarak Verir](#toc1_4_1_)\n",
    "  - [Nesneyi Referans Olarak Verir.](#toc1_4_2_)\n",
    "  - [Function Borrowing ve Binding İşlemleri](#toc1_4_3_)\n",
    "    - [Function Borrowing](#toc1_4_3_1_)\n",
    "    - [Function Binding](#toc1_4_3_2_)\n",
    "      - [Explicit Binding](#toc1_4_3_2_1_)\n",
    "- [Özet](#toc1_5_)\n",
    "\n",
    "Değineceğim.\n",
    "\n",
    "İyi okumalar dilerim.\n",
    "\n",
    "If you want to read English version of this article please visit [this link](js14-objects.ipynb)\n",
    "\n",
    "<!-- vscode-jupyter-toc-config\n",
    "\tnumbering=false\n",
    "\tanchor=true\n",
    "\tflat=false\n",
    "\tminLevel=1\n",
    "\tmaxLevel=6\n",
    "\t/vscode-jupyter-toc-config -->\n",
    "<!-- THIS CELL WILL BE REPLACED ON TOC UPDATE. DO NOT WRITE YOUR TEXT IN THIS CELL -->\n"
   ]
  },
  {
   "cell_type": "markdown",
   "metadata": {},
   "source": [
    "## <a id='toc1_1_'></a>[JavaScript'te Nesne Anlayışı](#toc0_)\n",
    "\n",
    "JavaScript'te nesneleri incelemeden önce programlamada nesne kavramının üzerinde durmak isterim. Böylece JavaScript'te nesneleri anlamak kolaylaşacaktır.\n",
    "\n",
    "Programlamadaki nesneleri dünyamızdaki nesnelere benzetebiliriz. Mesela bir otomobili ele alalım.\n",
    "\n",
    "Otomobil dünyamızda doğal olarak bir nesnedir. Bir otomobilin markası, modeli, ağırlığı ve rengi gibi özellikleri vardır. Ek olarak otomobilin çalışmasını, fren yapmasını veya durmasını sağlayan bir takım eylemleri de vardır.\n",
    "\n",
    "Programlamadaki nesne mantığı da aynı şekildedir. Nesne türündeki bir değişkenin özellikleri ve bir takım görevleri çalıştırması için metotları (fonksiyonları) vardır.\n",
    "\n",
    "Bu zamana kadar bir değişkenin sadece bir değeri depoladığını gördük. Bir değişken aynı zamanda nesneye ait bir çok özellik ve metodu içerisinde depolayabilir. Bu sebeple nesne yaklaşımlı programlama anlayışı sıklıkla tercih edilir.\n"
   ]
  },
  {
   "cell_type": "markdown",
   "metadata": {},
   "source": [
    "## <a id='toc1_2_'></a>[JavaScript Nesnenin Bölümleri](#toc0_)\n",
    "\n",
    "Şimdi de JavaScript'te nesne türündeki bir değişkenin kısımlarını inceleyelim.\n",
    "\n",
    "![part-of-object](https://www.scaler.com/topics/images/objects-in-javascript_thumbnail.webp)\n",
    "\n",
    "Nesne türündeki değişkenin deklarasyonu normal bir değişkenin deklarasyonu ile aynıdır. Nesne türündeki değişkenin ismi **_object name_** olarak ifade edilir.\n",
    "\n",
    "Nesne içeriği `{}` işaretleri arasında yer alır ve nesne içerisindeki property'ler (özellikler) birbirlerinden `,` işareti ile ayrılırlar.\n",
    "\n",
    "Nesne içerisindeki property'ler değişken depolamak için kullanılan değişkenlerdir.\n",
    "\n",
    "Bir property **_key-value_** eşleşmesinden meydana gelir. **_key_** program içerisinde property'nin değerine erişmeye yararken **_value_** kısmı property içerisindeki depolanan değerden oluşur.\n",
    "\n",
    "Yani örneğe göre `firstName: \"John\"` ifadesi **_property_** termini, `fistName` **_key_** termini, ve `John` ifadesi ise **_value_** termini ifade eder.\n",
    "\n",
    "Bir property'nin içeriği metottan oluşabilir.\n",
    "\n",
    "Nesne içerisindeki property'lere ulaşmak için iki yöntem kullanılır:\n",
    "\n",
    "- nesneIsmi.propertyName\n",
    "\n",
    "- nesneIsmi[\"propertyName\"]\n",
    "\n",
    "**❗ Son yöntemin **_array_**[^1] şeklinde kullanıldığına dikkat edelim.**\n",
    "\n",
    "**Örnek**\n"
   ]
  },
  {
   "cell_type": "code",
   "execution_count": 9,
   "metadata": {
    "vscode": {
     "languageId": "javascript"
    }
   },
   "outputs": [
    {
     "name": "stdout",
     "output_type": "stream",
     "text": [
      "carName property'sinin depoladığı değer:Lada\n",
      "carModel property'sinin depoladığı değer:undefined\n",
      "carWeight property'sinin depoladığı değer:900kg\n",
      "carColor property'sinin depoladığı değer:white\n"
     ]
    }
   ],
   "source": [
    "%%script node\n",
    "\n",
    "const car = { carName: \"Lada\", cardModel: 1300, carWeight: \"900kg\", carColor: \"white\" };\n",
    "\n",
    "// Property değerlerini konsola yazdırıyoruz.\n",
    "console.log(`carName property'sinin depoladığı değer:${car.carName}`);\n",
    "console.log(`carModel property'sinin depoladığı değer:${car.carModel}`);\n",
    "console.log(`carWeight property'sinin depoladığı değer:${car.carWeight}`);\n",
    "console.log(`carColor property'sinin depoladığı değer:${car.carColor}`);"
   ]
  },
  {
   "cell_type": "markdown",
   "metadata": {},
   "source": [
    "Aşağıdaki örnekte bir property değerinin metottan da oluşabileceği görülüyor.\n",
    "\n",
    "**Örnek**\n"
   ]
  },
  {
   "cell_type": "code",
   "execution_count": 1,
   "metadata": {
    "vscode": {
     "languageId": "javascript"
    }
   },
   "outputs": [
    {
     "name": "stdout",
     "output_type": "stream",
     "text": [
      "car.drive property'si metot özelliği taşıyor mu?: true\n",
      "car.drive metodunun içeriği: function driveCar() {\n",
      "        return \"Araba sürülüyor.\";\n",
      "    }\n"
     ]
    }
   ],
   "source": [
    "%%script node\n",
    "\n",
    "// Property'ler örnekte görüldüğü gibi ayrı satırlardan oluşabilir.\n",
    "const car = {\n",
    "    carName: \"Lada\",\n",
    "    carModel: 1300,\n",
    "    carWeight: \"900kg\",\n",
    "    carColor: \"white\",\n",
    "\n",
    "    // Aşağıda property değeri bir metottan oluşuyor.\n",
    "    drive: function driveCar() {\n",
    "        return \"Araba sürülüyor.\";\n",
    "    }\n",
    "};\n",
    "\n",
    "// car.drive property'sinin metot olup/olmadığını sorguluyoruz. \n",
    "console.log(`car.drive property'si metot özelliği taşıyor mu?: ${car.drive instanceof Function}`);\n",
    "\n",
    "// car nesnesindeki driveCar() metoduna drive key'i ile ulaştık. Bir property metottan da oluşabilir.\n",
    "console.log(`car.drive metodunun içeriği: ${car.drive}`);"
   ]
  },
  {
   "cell_type": "markdown",
   "metadata": {},
   "source": [
    "## <a id='toc1_3_'></a>[JavaScript Nesne İçinde Nesne Kullanımı](#toc0_)\n",
    "\n",
    "Bir nesne içerisinde başka bir nesne kullanılabilir. Genelde bunu verileri kategorize etmek ve kodları daha anlaşılabilir hale getirmek için kullanırız.\n",
    "\n",
    "**Örnek**\n"
   ]
  },
  {
   "cell_type": "code",
   "execution_count": 15,
   "metadata": {
    "vscode": {
     "languageId": "javascript"
    }
   },
   "outputs": [
    {
     "name": "stdout",
     "output_type": "stream",
     "text": [
      "Arabanın markası: Lada\n",
      "Motorun hacmi 1.5\n"
     ]
    }
   ],
   "source": [
    "%%script node\n",
    "\n",
    "const car = {\n",
    "    // Arabanın genel bilgilerini tutan bir nesne oluşturuyoruz.\n",
    "    generalInfo: {\n",
    "        carName: \"Lada\",\n",
    "        model: 1300,\n",
    "        weight: \"900kg\",\n",
    "        color: \"white\",\n",
    "    },\n",
    "\n",
    "    // Arabanın motor bilgilerini tutan bir nesne oluşturuyoruz.\n",
    "    motorType: {\n",
    "        horsePower: \" 80hp\",\n",
    "        motorSize: \"1.5\",\n",
    "        engineType: \"Diesel engine\"\n",
    "    }\n",
    "\n",
    "};\n",
    "\n",
    "// Organize edilmiş değerler konsola yazdırılır.\n",
    "console.log(`Arabanın markası: ${car.generalInfo.carName}`);\n",
    "console.log(`Motorun hacmi ${car.motorType.motorSize}`);"
   ]
  },
  {
   "cell_type": "markdown",
   "metadata": {},
   "source": [
    "## <a id='toc1_4_'></a>[JavaScript `this` Keyword Kullanımı](#toc0_)\n",
    "\n",
    "`this` keyword'ü farklı amaçlar için kullanılır. Fakat burada kapsam içerisinde kalacağım ve ihtiyacımız kadarına değineceğim. Sonrasında daha kapsamlı içerik oluşturup paylaşmayı düşünüyorum.\n",
    "\n",
    "**❗ Tek başına `this` keyword'ü değişken özelliği taşımaz. Bu sebeple `this` keyword'ünü tek başına kullanarak değişken tanımlayamayız.**\n",
    "\n",
    "**❗ `this` keyword'ü nesnenin kendisini veya kullanıma bağlı olarak nesnenin bir bölümünü referans olarak verir.**\n",
    "\n",
    "JavaScript'te `this` keyword'ünün kullanım türlerini listeleyecek olursak:\n",
    "\n",
    "- Global nesneyi referans verir.\n",
    "\n",
    "- Developer tarafından oluşturulan nesnenin kendisini referans verir.\n",
    "\n",
    "- Function borrowing ve function binding işlemlerinde kullanılır.\n",
    "\n",
    "Şimdi bu durumları ayrı ayrı inceleyelim.\n"
   ]
  },
  {
   "cell_type": "markdown",
   "metadata": {},
   "source": [
    "### <a id='toc1_4_1_'></a>[Global Nesneyi Referans Olarak Verir](#toc0_)\n",
    "\n",
    "Konuya giriş yapmandan önce **_global nesne_** terimine biraz açıklık getirelim. Böylece konunun kolay anlaşılmasını sağlayabiliriz.\n",
    "\n",
    "JavaScript'te global nesne (veya global obje) en üst seviyede tanımlanan nesneyi ifade eder. Yani kullandığımız tüm property'ler, key'ler, değişkenler veya değerler global nesne içerisinde depolanır.\n",
    "\n",
    "Global nesne çalıştığımız ortama göre değişiklik gösterir. Örneğin browser ortamında global nesne **_window_** iken NodeJS ortamında global nesne **_global_**'dir. Bütün property'ler veya değerlerin hepsi yani kısacası ne varsa bu global nesne içerisinde depolanır. Bu property veya değerlere her yerden ulaşılabilir. Yani bir scope içeriği tarafından sınırlandırılmaz.\n",
    "\n",
    "Browser için kullanılan **_window_** nesnesi üzerinden bir örnek verelim.\n",
    "\n",
    "**Örnek**\n"
   ]
  },
  {
   "cell_type": "code",
   "execution_count": 1,
   "metadata": {
    "vscode": {
     "languageId": "javascript"
    }
   },
   "outputs": [
    {
     "name": "stdout",
     "output_type": "stream",
     "text": [
      "Test\n",
      "Test\n"
     ]
    }
   ],
   "source": [
    "%%script node\n",
    "\n",
    "// Her iki kullanım şekliyle de konsola deneme ifadesi yazılır.\n",
    "console.log(\"Test\");\n",
    "window.console.log(\"Test\");"
   ]
  },
  {
   "cell_type": "markdown",
   "metadata": {},
   "source": [
    "Yukarıdaki örnekte `console.log(\"deneme)` ile `window.console.log (\"deneme)` statement'ı aynı anlamı taşır. Buradan `console` deklarasyonunun `window` nesnesi (yani browser ortamındaki global nesne) içerisinde yapıldığını anlayabiliriz.\n",
    "\n",
    "Açıklamaları yaptıktan sonra `this` keyword'nün global nesne ile ilişkisine değinelim.\n",
    "\n",
    "**❗ JavaScript'te `this` keyword'ü global nesneyi referans verir.**\n",
    "\n",
    "**Yani `this` keyword'ü browser ortamında `window` nesnesini referans verecektir. Bu iki terim biriyle aynı anlama gelir.**\n",
    "\n",
    "**Örnek**\n"
   ]
  },
  {
   "cell_type": "code",
   "execution_count": 2,
   "metadata": {
    "vscode": {
     "languageId": "javascript"
    }
   },
   "outputs": [
    {
     "name": "stdout",
     "output_type": "stream",
     "text": [
      "Test\n"
     ]
    },
    {
     "name": "stdout",
     "output_type": "stream",
     "text": [
      "Test\n",
      "this keyword'ü ile window nesnesi aynı anlama mı geliyor?: true\n"
     ]
    }
   ],
   "source": [
    "%%javascript\n",
    "\n",
    "//Her iki ifade de aynı anlama gelir. this keyword'ü burada window nesnesini referans verir.\n",
    "window.console.log(\"Test\");\n",
    "this.console.log(\"Test\");\n",
    "\n",
    "// Her iki terim aynı olması sebebiyle konsola true ifadesi yazdırılır.\n",
    "console.log(`this keyword'ü ile window nesnesi aynı anlama mı geliyor?: ${this === window}`);"
   ]
  },
  {
   "cell_type": "markdown",
   "metadata": {},
   "source": [
    "**❗ Yeri gelmişken `this` keyword'ü nesneden bağımsız bir metot içerisinde tek kullanılırsa yine `window` nesnesini referans verir.**\n",
    "\n",
    "**Örnek**\n"
   ]
  },
  {
   "cell_type": "code",
   "execution_count": 25,
   "metadata": {
    "vscode": {
     "languageId": "javascript"
    }
   },
   "outputs": [
    {
     "name": "stdout",
     "output_type": "stream",
     "text": [
      "\u001b[36m<ref *1>\u001b[39m Object [global] {\n",
      "  global: \u001b[36m[Circular *1]\u001b[39m,\n",
      "  clearImmediate: \u001b[36m[Function: clearImmediate]\u001b[39m,\n",
      "  setImmediate: [Function: setImmediate] {\n",
      "    [\u001b[32mSymbol(nodejs.util.promisify.custom)\u001b[39m]: \u001b[36m[Getter]\u001b[39m\n",
      "  },\n",
      "  clearInterval: \u001b[36m[Function: clearInterval]\u001b[39m,\n",
      "  clearTimeout: \u001b[36m[Function: clearTimeout]\u001b[39m,\n",
      "  setInterval: \u001b[36m[Function: setInterval]\u001b[39m,\n",
      "  setTimeout: [Function: setTimeout] {\n",
      "    [\u001b[32mSymbol(nodejs.util.promisify.custom)\u001b[39m]: \u001b[36m[Getter]\u001b[39m\n",
      "  },\n",
      "  queueMicrotask: \u001b[36m[Function: queueMicrotask]\u001b[39m,\n",
      "  structuredClone: \u001b[36m[Function: structuredClone]\u001b[39m,\n",
      "  atob: \u001b[36m[Getter/Setter]\u001b[39m,\n",
      "  btoa: \u001b[36m[Getter/Setter]\u001b[39m,\n",
      "  performance: \u001b[36m[Getter/Setter]\u001b[39m,\n",
      "  fetch: \u001b[36m[Function: fetch]\u001b[39m,\n",
      "  crypto: \u001b[36m[Getter]\u001b[39m,\n",
      "  __filename: \u001b[32m'[stdin]'\u001b[39m,\n",
      "  module: {\n",
      "    id: \u001b[32m'[stdin]'\u001b[39m,\n",
      "    path: \u001b[32m'.'\u001b[39m,\n",
      "    exports: {},\n",
      "    filename: \u001b[32m'/home/emin/learn-web/source/JavaScript/[stdin]'\u001b[39m,\n",
      "    loaded: \u001b[33mfalse\u001b[39m,\n",
      "    children: [],\n",
      "    paths: [\n",
      "      \u001b[32m'/home/emin/learn-web/source/JavaScript/node_modules'\u001b[39m,\n",
      "      \u001b[32m'/home/emin/learn-web/source/node_modules'\u001b[39m,\n",
      "      \u001b[32m'/home/emin/learn-web/node_modules'\u001b[39m,\n",
      "      \u001b[32m'/home/emin/node_modules'\u001b[39m,\n",
      "      \u001b[32m'/home/node_modules'\u001b[39m,\n",
      "      \u001b[32m'/node_modules'\u001b[39m\n",
      "    ]\n",
      "  },\n",
      "  exports: {},\n",
      "  __dirname: \u001b[32m'.'\u001b[39m,\n",
      "  require: [Function: require] {\n",
      "    resolve: [Function: resolve] { paths: \u001b[36m[Function: paths]\u001b[39m },\n",
      "    main: \u001b[90mundefined\u001b[39m,\n",
      "    extensions: [Object: null prototype] {\n",
      "      \u001b[32m'.js'\u001b[39m: \u001b[36m[Function (anonymous)]\u001b[39m,\n",
      "      \u001b[32m'.json'\u001b[39m: \u001b[36m[Function (anonymous)]\u001b[39m,\n",
      "      \u001b[32m'.node'\u001b[39m: \u001b[36m[Function (anonymous)]\u001b[39m\n",
      "    },\n",
      "    cache: [Object: null prototype] {}\n",
      "  },\n",
      "  myFunction: \u001b[36m[Function: myFunction]\u001b[39m\n",
      "}\n"
     ]
    }
   ],
   "source": [
    "%%script node\n",
    "\n",
    "function myFunction() {\n",
    "    // this keyword'ü burada window nesnesini referans verir.\n",
    "    console.log(this);\n",
    "};\n",
    "\n",
    "// Konsola window nesnesine ait tüm property'ler yazdırılacaktır.\n",
    "myFunction();\n"
   ]
  },
  {
   "cell_type": "markdown",
   "metadata": {},
   "source": [
    "### <a id='toc1_4_2_'></a>[Nesneyi Referans Olarak Verir.](#toc0_)\n",
    "\n",
    "`this` keyword'ü **yalın olarak** bir nesnenin metodunda kullanılmışsa bu durumda nesenin kendisini referans verecektir.\n",
    "\n",
    "**Örnek**\n"
   ]
  },
  {
   "cell_type": "code",
   "execution_count": 55,
   "metadata": {
    "vscode": {
     "languageId": "javascript"
    }
   },
   "outputs": [
    {
     "name": "stdout",
     "output_type": "stream",
     "text": [
      "{\n",
      "  firstName: \u001b[32m'Ömer'\u001b[39m,\n",
      "  lastName: \u001b[32m'Altan'\u001b[39m,\n",
      "  id: \u001b[33m4560\u001b[39m,\n",
      "  printStudent: \u001b[36m[Function: printStudentInfo]\u001b[39m\n",
      "}\n"
     ]
    }
   ],
   "source": [
    "%%script node\n",
    "\n",
    "const student = {\n",
    "    firstName: \"Ömer\",\n",
    "    lastName: \"Altan\",\n",
    "    id: 4560,\n",
    "    printStudent: function printStudentInfo() {\n",
    "    \n",
    "        /**\n",
    "         * printStudent metodu student nesnesini referans verecektir, student nesnesinin içeriği konsola \n",
    "         * yazdırılacaktır.\n",
    "         */\n",
    "        console.log(this);\n",
    "    }\n",
    "};\n",
    "\n",
    "/** \n",
    " * printStudent metodunu çağırıyoruz. Konsola nesne yazdırılacaktır. Bu durumda this keyword'ü nesnenin kendisini \n",
    " * referans verdi.\n",
    " */ \n",
    "student.printStudent();\n"
   ]
  },
  {
   "cell_type": "markdown",
   "metadata": {},
   "source": [
    "`this` keyword'ü nesneye ait metot içesinde bir property'nin key'i olarak kullanıldığında ilgili property'nin değerini verir.\n",
    "\n",
    "**❗ Nesne içerisinde `this` keyword'ü yine nesnenin kendisini referans verir.**\n",
    "\n",
    "**Örnek**\n"
   ]
  },
  {
   "cell_type": "code",
   "execution_count": 28,
   "metadata": {
    "vscode": {
     "languageId": "javascript"
    }
   },
   "outputs": [
    {
     "name": "stdout",
     "output_type": "stream",
     "text": [
      "Öğrencinin adı: Ömer\n",
      "Öğrencinin soyadı: Altan\n",
      "Öğrencinin numarası: 4560\n"
     ]
    }
   ],
   "source": [
    "%%script node\n",
    "\n",
    "const student = {\n",
    "    firstName: \"Ömer\",\n",
    "    lastName: \"Altan\",\n",
    "    id: 4560,\n",
    "    printStudent: function printStudentInfo() {\n",
    "\n",
    "        /** \n",
    "         * this keyword'ü burada student nesnesini referans veriyor.\n",
    "         * \n",
    "         * Mesela this.firstName statement'ı, student.firstName statement'ı ile aynı anlama gelir.\n",
    "         */\n",
    "      \n",
    "        console.log(`Öğrencinin adı: ${this.firstName}`);\n",
    "        console.log(`Öğrencinin soyadı: ${this.lastName}`);\n",
    "        console.log(`Öğrencinin numarası: ${this.id}`);\n",
    "    }\n",
    "}\n",
    "\n",
    "// student nesnesi içerisindeki printStudent metodunu çağırıyoruz. \n",
    "student.printStudent();\n"
   ]
  },
  {
   "cell_type": "markdown",
   "metadata": {},
   "source": [
    "**❗ Yeri gelmişken `this` keyword'ü nesne dışında bir property'nin key'i olarak kullanıldığında `window` nesnesine ait değişkeni referans verir.**\n",
    "\n",
    "**Unutmayınız ki nesne dışında kullanılan `this` keyword'ü global tanımlı nesneyi ifade eder. Browser ortamında global nesne `window`'dur.**\n",
    "\n",
    "**Örnek**\n"
   ]
  },
  {
   "cell_type": "code",
   "execution_count": 31,
   "metadata": {
    "vscode": {
     "languageId": "javascript"
    }
   },
   "outputs": [
    {
     "name": "stdout",
     "output_type": "stream",
     "text": [
      "window.ogrenci === this.ogrenci aynı anlama geliyor mu?: true\n",
      "Banu Tekin\n"
     ]
    }
   ],
   "source": [
    "%%javascript\n",
    "\n",
    "this.ogrenci = \"Banu Tekin\";\n",
    "\n",
    "/** \n",
    " * Buradaki this, global nesneyi ifade eder. Yani window.ogrenci ile aynı anlama gelir.Dolayısıyla sonuç true \n",
    " * olarak geri döndürülür.\n",
    " */\n",
    "console.log(`window.ogrenci === this.ogrenci aynı anlama geliyor mu?: ${window.ogrenci === this.ogrenci}`);\n",
    "\n",
    "// this.ogrenci ile aynı anlama geldiğinden ötürü Banu Tekin ifadesi konsola yazdırılır.\n",
    "console.log(window.ogrenci);"
   ]
  },
  {
   "cell_type": "markdown",
   "metadata": {},
   "source": [
    "**❗ `this` keyword'ü nesneden bağımsız metot içerisinde bir property'nin key'i olarak kullanıldığında `window` nesnesine ait değişkeni referans verir.**\n",
    "\n",
    "**Çünkü nesne dışındaki `this` keyword'ü global nesneyi ifade eder. Browser ortamında global nesne `window`'dur.**\n",
    "\n",
    "**Örnek**\n"
   ]
  },
  {
   "cell_type": "code",
   "execution_count": 8,
   "metadata": {
    "vscode": {
     "languageId": "javascript"
    }
   },
   "outputs": [
    {
     "name": "stdout",
     "output_type": "stream",
     "text": [
      "this.ogrenci değişkeninin değeri: Banu Tekin\n",
      "window.ogrenci === this.ogrenci aynı anlama geliyor mu?: true\n",
      "ogrenci ile this.ogrenci aynı anlama geliyor mu?: true\n",
      "ogrenci değişkeninin değeri:Banu Tekin\n"
     ]
    }
   ],
   "source": [
    "%%javascript\n",
    "\n",
    "function myFunction() {\n",
    "  // Aşağıdaki statement window.ogrenci ile aynı anlama gelir.\n",
    "  console.log(`this.ogrenci değişkeninin değeri: ${this.ogrenci = \"Banu Tekin\"}`);\n",
    "  \n",
    "  // Her iki terim aynı olması sebebiyle konsola true ifadesi yazdırılır.\n",
    "  console.log(`this.ogrenci === window.ogrenci aynı anlama geliyor mu?: ${this.ogrenci === window.ogrenci}`);\n",
    "  \n",
    "  // Her iki terim aynı olması sebebiyle konsola true ifadesi yazdırılır.\n",
    "  console.log(`ogrenci ile this.ogrenci aynı anlama geliyor mu?: ${ogrenci === this.ogrenci}`);\n",
    "\n",
    "  // Banu Tekin ifadesi konsola yazdırılır.\n",
    "  console.log(`ogrenci değişkeninin değeri:${ogrenci}`);\n",
    "};\n",
    "\n",
    "// Metodumuzu çağırıyoruz.\n",
    "myFunction();\n"
   ]
  },
  {
   "cell_type": "markdown",
   "metadata": {},
   "source": [
    "### <a id='toc1_4_3_'></a>[Function Borrowing ve Binding İşlemleri](#toc0_)\n",
    "\n",
    "Bu konuyu bir metafor aracılığı ile açıklayalım.\n",
    "\n",
    "Elimizde iki adet birbirinden bağımsız nesne olduğunu düşünelim. Bu nesnelerden bir tanesinin adı **_truck_** olsun diğer nesnenin adı **_car_** olsun.\n",
    "\n",
    "Bazen car nesnesi içerisindeki property'ler ile truck nesnesi içerisindeki metotları birlikte kullanmak veya truck içindeki metotta car nesnesini arguman olarak kullanarak sonuç üretmek isteyebiliriz. Bu durumda yardımımıza function borrowing veya function binding yöntemleri yetişir.\n",
    "\n",
    "Şimdi de bu iki kavramı biraz açalım.\n"
   ]
  },
  {
   "cell_type": "markdown",
   "metadata": {},
   "source": [
    "#### <a id='toc1_4_3_1_'></a>[Function Borrowing](#toc0_)\n",
    "\n",
    "Bir nesne içerisindeki metodun başka bir nesne için kullanılmasına **_function borrowing_** yöntemi adı verilir.\n",
    "\n",
    "Yani bir nesnenin metodu başka bir nesnede kullanılmak için ödünç alınır.\n",
    "\n",
    "**Örnek**"
   ]
  },
  {
   "cell_type": "code",
   "execution_count": 3,
   "metadata": {
    "vscode": {
     "languageId": "javascript"
    }
   },
   "outputs": [
    {
     "name": "stdout",
     "output_type": "stream",
     "text": [
      "Aracın türü:Lada\n"
     ]
    }
   ],
   "source": [
    "%%script node\n",
    "\n",
    "const truck = {\n",
    "    printTruckProperties: function () {\n",
    "        return console.log(`Aracın türü:${this.model}`);\n",
    "    }\n",
    "};\n",
    "\n",
    "const car = {\n",
    "    model: \"Lada\",\n",
    "};\n",
    "\n",
    "\n",
    "/**\n",
    " * car nesnesinin printCarProperties metodu truck nesnesinin printTruckProperties metodunu ödünç alıyor. Yani \n",
    " * borrow işlemi yapıyoruz.\n",
    " */\n",
    "car.printCarProperties = truck.printTruckProperties;\n",
    "\n",
    "/**\n",
    " * car.printCarProperties() metodunu çağırarak car nesnesi içerisindeki model property'sine ait değişke içeriğini \n",
    " * konsola yazdırıyoruz.\n",
    " */\n",
    "car.printCarProperties();\n"
   ]
  },
  {
   "cell_type": "markdown",
   "metadata": {},
   "source": [
    "Yukarıdaki örnekte truck nesnesinin `printTruckProperties()` metodunu car nesnesi için ödünç alıyoruz yani borrowing işlemini gerçekleştiriyoruz. `car.printCarProperties()` metodunu çağırdığımızda `printTruckProperties()` metodu çağrılacak ve bu metot içerisindeki `this.model` property'si `car.model` property'sini referans verecektir.\n",
    "\n",
    "**❗Dikkat ettiyseniz function borrowing işleminde her iki nesnenin property isimleri aynıdır. Buradan da anlaşılacağı üzere function borrowing işleminde nesnelerin property isimleri aynı olmak zorundadır.**\n",
    "\n",
    "**⚠️ `this` keyword'ü truck nesnesi içerisinde kullanılmasına rağmen car nesnesi referans verdi. Hatırlarsak normalde truck içerisindeki `this` keyword'ü yine nesenin kendisini referans veriyordu yani truck nesnesini.**\n"
   ]
  },
  {
   "cell_type": "markdown",
   "metadata": {},
   "source": [
    "#### <a id='toc1_4_3_2_'></a>[Function Binding](#toc0_)\n",
    "\n",
    "Bir metodu belirli bir nesneye bağlamak veya bir nesne içinde çalışacak bir fonksiyon oluşturmak anlamına gelir. JavaScript'te bind etme yöntemi iki şekilde gerçekleştirilir:\n",
    "\n",
    "- Implicit Binding (Örtük Bağlama)\n",
    "\n",
    "- Explicit Binding (Açık Bağlama)\n",
    "\n",
    "Esasen buraya kadar olan kısma kadar `this` keyword'ünü **_implicit binding_** yöntemi ile kullandık. Bu sebeple örtük bağlama yöntemini anlatmayacağım. **_explicit binding_** yöntemine değineceğim.\n",
    "\n",
    "##### <a id='toc1_4_3_2_1_'></a>[Explicit Binding](#toc0_)\n",
    "\n",
    "Explicit binding `call()`, `apply()` veya `bind()` metotları ile gerçekleştirilir.\n",
    "\n",
    "`bind()` metottu için bir örnek verirsek.\n",
    "\n",
    "**Örnek**\n"
   ]
  },
  {
   "cell_type": "code",
   "execution_count": 6,
   "metadata": {
    "vscode": {
     "languageId": "javascript"
    }
   },
   "outputs": [
    {
     "name": "stdout",
     "output_type": "stream",
     "text": [
      "\n",
      "        Aracın türü:Lada\n",
      "        Aracın motor tipi :Benzinli\n",
      "        Aracın teker boyutu:18 inç\n",
      "        \n",
      "printCar değişkeninin türü:function\n"
     ]
    }
   ],
   "source": [
    "%%script node\n",
    "\n",
    "const truck = {\n",
    "    model: \"IVECO\",\n",
    "    engine: \"Dizel\",\n",
    "    wheelSize: \"36 inç\",\n",
    "    \n",
    "    /** \n",
    "     * printTruckProperties() metoduna başka bir nesne içerinden binding yöntemi ile erişildiğinde this.model \n",
    "     * statement'ı erişen nesnenin property'sini referans verir.\n",
    "     */\n",
    "    printTruckProperties: function () {\n",
    "        return console.log(`\n",
    "        Aracın türü:${this.model}\n",
    "        Aracın motor tipi :${this.engine}\n",
    "        Aracın teker boyutu:${this.wheelSize}\n",
    "        `);\n",
    "\n",
    "    }\n",
    "};\n",
    "\n",
    "const car = {\n",
    "    model: \"Lada\",\n",
    "    engine: \"Benzinli\",\n",
    "    wheelSize: \"18 inç\"\n",
    "};\n",
    "\n",
    "// printTruckProperties() metoduna car nesnesini argüman olarak gönderdik.\n",
    "const printCar = truck.printTruckProperties.bind(car);\n",
    "printCar();\n",
    "\n",
    "//  printCar değişkeninin tipi fonksiyondur.\n",
    "console.log(`printCar değişkeninin türü:${typeof printCar}`);\n",
    "\n"
   ]
  },
  {
   "cell_type": "markdown",
   "metadata": {},
   "source": [
    "Yukarıdaki örnekte truck nesnesinin `printTruckProperties()` metoduna car nesnesini argüman olarak gönderiyoruz. Sonrasında dönen sonucu `printCar` adında bir değişkene depoluyoruz. Bu durumda `printCar` değişkenimiz metot özelliği kazanıyor. Yukarıda kısaca bahsettiğimiz gibi bu durumda **_function binding_** adı verilir.\n",
    "\n",
    "Metodunu kullandığımız nesne içerisindeki `this` keyword'ü argüman olarak gönderdiğimiz nesneyi referans verecektir. Yani `truck` nesnesi içerisindeki `this` keyword'ü artık `car` nesnesi referans verir.\n",
    "\n",
    "Dolayısıyla argümana ait property değerleri konsola yazdırılır.\n",
    "\n",
    "**❗Dikkat ettiyseniz function binding işleminde her iki nesnenin property isimleri aynıdır. Buradan da anlaşılacağı üzere function binding işleminde nesnelerin property isimleri aynı olmak zorundadır.**\n",
    "\n",
    "Bunun dışında `this` keyword'ü **_HTML event handler_**[^2] işlemlerinde kullanılır fakat konu kapsamında olmadığı için buna değinmiyorum. `this` keyword'ü için ayrı bir içerik oluşturup değinmeyi düşünüyorum.\n"
   ]
  },
  {
   "cell_type": "markdown",
   "metadata": {},
   "source": [
    "## <a id='toc1_5_'></a>[Özet](#toc0_)\n",
    "\n",
    "Bu bölümde JavaScript'te nesnelerin temel kavramlarına, özelliklerine ve kullanımına dair birçok konuyu ele aldık. Nesnelerin programlamadaki nesnelere benzerliğini anlamak için bir otomobil örneği kullanarak başladık. Ardından JavaScript'teki nesnelerin bileşenlerini; property, key, value terimlerini ve iç içe nesneleri inceledik.\n",
    "\n",
    "JavaScript'te `this` keyword'ünü global nesneyi referans verme, bir nesnenin kendisini referans verme ve metotlar arasında bağlantı kurma süreçlerinde nasıl kullanabileceğimizi detaylı bir şekilde ele aldık. `this` keyword'ünün implicit binding ve explicit binding yöntemlerini öğrendik.\n",
    "\n",
    "Son olarak, function borrowing ve function binding kavramlarına odaklanarak bir nesnenin metotlarını başka bir nesnede kullanabilme yeteneğini inceledik. `call()`, `apply()` ve `bind()` metotları ile function binding'in nasıl gerçekleştirilebileceğini örneklerle gösterdik.\n",
    "\n",
    "JavaScript'te nesne kullanımının ve `this` keyword'ünün doğru anlaşılması, programcılara daha esnek ve güçlü bir kod yazma yeteneği kazandırabilir. Umarım bu makale, JavaScript'te nesneler ve `this` keyword'ü hakkında daha iyi bir anlayış kazanmanıza yardımcı olur. İyi kodlamalar!\n"
   ]
  },
  {
   "cell_type": "markdown",
   "metadata": {},
   "source": [
    "[^1]: JavaScript'te bir dizi (array), bir değişkenin içinde birden çok değeri depolamak için kullanılan bir veri türüdür. Diziler, sıralı bir şekilde indekslenmiş elemanlar içerir ve bu elemanlara erişmek için indeks numaraları kullanılır.\n",
    "[^2]: HTML event handler, HTML belgesinde gerçekleşen olayları (events) işleyen JavaScript fonksiyonlarıdır. HTML olayları, kullanıcı etkileşimleri veya tarayıcıda gerçekleşen diğer olaylar gibi belirli durumları temsil eder. Örneğin, bir düğmeye tıklanma, bir form gönderme veya bir fare üzerine gelme gibi olaylar HTML olaylarına örnektir.\n",
    "\n",
    "Event handler'lar, belirli bir olay gerçekleştiğinde çalıştırılmak üzere tanımlanan JavaScript fonksiyonlarıdır. Bu, HTML ve JavaScript arasındaki etkileşimleri sağlar. Event handler'lar, HTML etiketleri içinde doğrudan kullanılabileceği gibi, JavaScript kodu içinde de tanımlanabilir.\n"
   ]
  }
 ],
 "metadata": {
  "kernelspec": {
   "display_name": "Python 3",
   "language": "python",
   "name": "python3"
  },
  "language_info": {
   "codemirror_mode": {
    "name": "ipython",
    "version": 3
   },
   "file_extension": ".py",
   "mimetype": "text/x-python",
   "name": "python",
   "nbconvert_exporter": "python",
   "pygments_lexer": "ipython3",
   "version": "3.10.12"
  }
 },
 "nbformat": 4,
 "nbformat_minor": 2
}
