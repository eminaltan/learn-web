{
  "cells": [
    {
      "cell_type": "markdown",
      "metadata": {},
      "source": [
        "# JavaScript'te Diziler\n",
        "\n",
        "Merhaba arkadaşlar serinin bu bölümünde JavaScript'te **_dizi (array)_** veri türünü inceleyeceğiz.\n",
        "\n",
        "Yazıda:\n",
        "\n",
        "- JavaScript'te array veri türünün tanımına ve kullanımına.\n",
        "- **_element_**, **_index_**, **_associative array_** ve **_isimlendirilmiş index_** kavramlarına.\n",
        "- Array türünde literal ve nesne türünde değişken oluşturma yöntemlerine ve arasındaki farklara.\n",
        "- Array türündeki bir değişkene element ekleme yöntemlerine.\n",
        "- Sıkça kullanılan array metotlarına ve operatörlerine.\n",
        "\n",
        "Değineceğim.\n",
        "\n",
        "İyi okumalar dilerim.\n"
      ]
    },
    {
      "cell_type": "markdown",
      "metadata": {},
      "source": [
        "## JavaScript Dizi Veri Türü\n",
        "\n",
        "Veri türü dizi olan bir değişken koleksiyon şeklinde verileri gruplandırarak depolar. Bu bağlamda depolanan değerlerin organize edilerek kullanılmasını sağlayan veri türlerinden biridir. Özellikle veri koleksiyonu içerisinde gezinmemizi ve işlemler yapmamızı kolaylaştırır.\n",
        "\n",
        "Aklımıza oturması için muspet bir örnek verelim. JavaScript'te değişken olarak tanımlanmış bir kaç tane araba markası olduğunu ve bu araba markalarını bir dosyaya kayıt etmek istediğimiz düşünelim. Her bir araba markası için ayrı ayrı işlem yapmak durumundayız. 3 veya 4 tane araba için bu durum belki sorun olmaz. Fakat 400 tane araba için aynı işlemi yapmak hem zaman hem de emek ister. Bu durumda dizi veri türü yardımımıza yetişir. Dizi veri türlerini JavaScript döngüleri ile birlikte kullanarak bu tarz işlemleri kolaylıkla çözebiliriz.\n",
        "\n",
        "Konuyu detaylandırmadan önce aşağıdaki örnek üzerinden bir takım temel kavramlara yer verelim.\n",
        "\n",
        "**Örnek**\n",
        "\n",
        "```javascript\n",
        "const cars = [\"Lada\", \"Opel\", \"BMW\"];\n",
        "```\n",
        "\n",
        "Bir dizi oluşturmak için genelde `[]` işaretini kullanırız. Değerler `[]` işaretleri arasına depolanır. Bu değerlere **_element_** adı verilir. Yukarıdaki örnek üzerinden gidersek `Lada` değeri bir element özelliği taşır. Elementler birbirlerinden `,` işareti ile ayrılırlar.\n",
        "\n",
        "**❗ Dizinin elementlerine genelde index değeri ile ulaşır ve işlem yaparız. Bir dizi içerisinde index değeri daima 0'dan başlar. Örneğin `cars` değişkeni içerisindeki `Lada` elementine ulaşmak istiyorsak `cars[0]` şeklinde syntax kullanmamız gerekir.**\n",
        "\n",
        "**Örnek**\n"
      ]
    },
    {
      "cell_type": "code",
      "execution_count": 1,
      "metadata": {
        "vscode": {
          "languageId": "javascript"
        }
      },
      "outputs": [
        {
          "name": "stdout",
          "output_type": "stream",
          "text": [
            "Dizinin ilk elementi: Lada\n"
          ]
        }
      ],
      "source": [
        "%%script node\n",
        "\n",
        "const cars = [\"Lada\", \"Opel\", \"BMW\"];\n",
        "\n",
        "/** \n",
        " * cars dizisi içerisindeki 0 numaralı index değerine sahip elemente ulaşıyoruz. Lada 0 numaralı index değerine \n",
        " * sahiptir.\n",
        " */\n",
        "console.log(`Dizinin ilk elementi: ${cars[0]}`);\n"
      ]
    },
    {
      "cell_type": "markdown",
      "metadata": {},
      "source": [
        "Dizi veri türü özel nitelikli object veri tipine sahiptir. Bunun anlamı dizi özellikli bir değişken farklı veri türlerini bir arada barındırabilir.\n",
        "\n",
        "**Örnek**\n"
      ]
    },
    {
      "cell_type": "code",
      "execution_count": 5,
      "metadata": {
        "vscode": {
          "languageId": "javascript"
        }
      },
      "outputs": [
        {
          "name": "stdout",
          "output_type": "stream",
          "text": [
            "Dizinin ilk elementi:1706753159382\n",
            "Kart numarası:10 Telefon numarası: 115\n",
            "Dizinin 3.elementi: Mustafa\n",
            "personal değişkenin veri tipi:object\n"
          ]
        }
      ],
      "source": [
        "%%script node\n",
        "\n",
        "/** \n",
        " * Örnekte gördüğümüz gibi dizi özellikli personal değişkeni zaman, nesne ve bir string şeklinde farklı veri \n",
        " * türlerini barındırır.\n",
        " */\n",
        "const personal = [Date.now(), privateInformation = { cardNumber: 10, phoneNumber:115}, \"Mustafa\"];\n",
        "\n",
        "/** \n",
        " * Date nesnesinin now() fonksiyonu çağırdık ve elde ettiğimiz zaman değerini mili saniye olarak konsola \n",
        " * yazdırdık.\n",
        " */\n",
        "console.log(`Dizinin ilk elementi:${personal[0]}`);\n",
        "\n",
        "// privateInformation adında bir nesnenin içeriğini konsola yazdırıyoruz.\n",
        "console.log(`Kart numarası:${personal[1].cardNumber} Telefon numarası: ${personal[1].phoneNumber}`);\n",
        "\n",
        "// Dizi içerisindeki Mustafa değerine ulaşıyoruz.\n",
        "console.log(`Dizinin 3.elementi: ${personal[2]}`);\n",
        "\n",
        "// personal değişkeninin veri türü object'dir.\n",
        "console.log(`personal değişkenin veri tipi:${typeof personal}`);\n"
      ]
    },
    {
      "cell_type": "markdown",
      "metadata": {},
      "source": [
        "## JavaScript Dizi Veri Türünde Değişken Oluşturma Yöntemleri\n",
        "\n",
        "Dizi veri türünde bir değişken oluşturmak için 2 yöntemden biri kullanılır:\n",
        "\n",
        "- Literal yöntemi kullanılarak.\n",
        "\n",
        "- Nesne türünde dizi tanımlayarak.\n",
        "\n",
        "Konuya giriş yaparken ilk yönteme yani literal yöntemiyle dizi özellikli bir değişken oluşturmaya değinmiş olduk Şimdi de nesne şeklinde dizi veri türü özellikli bir değişken oluşturmaya değinelim.\n"
      ]
    },
    {
      "cell_type": "markdown",
      "metadata": {},
      "source": [
        "### Nesne Türündeki Dizi Veri Türleri\n",
        "\n",
        "`new Array()` constructor metodunu kullanılarak nesne şeklinde dizi veri türünde bir değişken oluşturabiliriz.\n",
        "\n",
        "**⚠️ `new Array()` metodu kullanılarak oluşturulan değişken ile literal yöntem kullanılarak oluşturulan değişkeninin veri tipi aynıdır. İkisi de object veri tipine sahiptir.**\n",
        "\n",
        "**Örnek**\n"
      ]
    },
    {
      "cell_type": "code",
      "execution_count": 6,
      "metadata": {
        "vscode": {
          "languageId": "javascript"
        }
      },
      "outputs": [
        {
          "name": "stdout",
          "output_type": "stream",
          "text": [
            "cars değişkeninin elementleri:Lada,Tata,Fiat\n",
            "\n",
            "cars değişkeninin veri tipi:object \n",
            "cars2 değişkeninin veri tipi:object\n"
          ]
        }
      ],
      "source": [
        "%%script node\n",
        "\n",
        "/**\n",
        " * new Array() metodu kullanılarak nesne türünde dizi oluşturulur. Bu arada new Array() metodu constructor \n",
        " * olarak ifade edilir.\n",
        " */\n",
        "const cars = new Array(\"Lada\", \"Tata\", \"Fiat\");\n",
        "const cars2 = [\"Lada\", \"Tata\", \"Fiat\"];\n",
        "\n",
        "console.log(`cars değişkeninin elementleri:${cars}`);\n",
        "\n",
        "// Konsola object ifadesi yazdırılacaktır. Her iki değişkenin veri tipi de object'dir.\n",
        "console.log(`\n",
        "cars değişkeninin veri tipi:${typeof cars} \n",
        "cars2 değişkeninin veri tipi:${typeof cars2}`\n",
        ");\n",
        "\n"
      ]
    },
    {
      "cell_type": "markdown",
      "metadata": {},
      "source": [
        "Yukarıdaki örnekte göreceğimiz gibi `cars` dizi veri türündeki değişkenin içeriği `Lada`, `Tata` ve `Fiat` string değerlerinden oluşuyor.\n",
        "\n",
        "**💡 Aklınıza \"Hangi durumda literal hangi durumda nesne şeklinde dizi veri türü özellikli bir değişken tanımlamalıyım?\" şeklinde bir soru gelebilir. Bu durumda değişkene ait elementler string değerlerden oluşuyorsa nesne türündeki yaklaşımı, şayet değişkenin elementleri sayısal değerlerden oluşuyorsa literal yaklaşımını kullanarak dizi veri türünde değişken tanımlayabiliriz.**\n"
      ]
    },
    {
      "cell_type": "markdown",
      "metadata": {},
      "source": [
        "## JavaScript Dizi Türündeki Değişkene Yeni Elementler Eklenmesi\n",
        "\n",
        "Dizi özellikli bir değişkene 3 yöntemden birini kullanarak yeni bir element ekleyebiliriz:\n",
        "\n",
        "- `push()` metodunu kullanarak.\n",
        "\n",
        "- Index değerini kullanarak.\n",
        "\n",
        "- `length` property'sini kullanarak.\n",
        "\n",
        "**Örnek**\n"
      ]
    },
    {
      "cell_type": "code",
      "execution_count": 7,
      "metadata": {
        "vscode": {
          "languageId": "javascript"
        }
      },
      "outputs": [
        {
          "name": "stdout",
          "output_type": "stream",
          "text": [
            "Dizinin 4.elementi: Elma suyu\n",
            "Dizinin içeriği:Çay,Kahve,Portakal suyu,Elma suyu\n"
          ]
        }
      ],
      "source": [
        "%%script node\n",
        "\n",
        "const drinks = [\"Çay\", \"Kahve\", \"Portakal suyu\"];\n",
        "\n",
        "/** \n",
        " * drinks dizi özellikli değişkenine yeni bir element ekliyoruz. Element, dizi içerisinde en sona yerleştirilir. \n",
        " * Bu durumda Portakal suyundan sonra Elma suyu gelecektir.\n",
        " */ \n",
        "drinks.push(\"Elma suyu\");\n",
        "\n",
        "// 3.index değeri 4.elemente yani Elma suyuna denk gelir.\n",
        "console.log(`Dizinin 4.elementi: ${drinks[3]}`);\n",
        "\n",
        "// ⚠️ Dizinin son elementinin Elma suyu olduğuna dikkat edelim.\n",
        "console.log(`Dizinin içeriği:${drinks}`);"
      ]
    },
    {
      "cell_type": "markdown",
      "metadata": {},
      "source": [
        "Aşağıda ise index numarasını kullanarak dizi özellikli değişkenin içerisine element ekliyoruz.\n",
        "\n",
        "Dizi veri türüne sahip bir değişken aşağıdaki gibi boş tanımlanabilir. Genelde bu yöntem sonradan içeriği doldurulması düşünülen durumlarda kullanılır.\n",
        "\n",
        "**Örnek**\n"
      ]
    },
    {
      "cell_type": "code",
      "execution_count": 8,
      "metadata": {
        "vscode": {
          "languageId": "javascript"
        }
      },
      "outputs": [
        {
          "name": "stdout",
          "output_type": "stream",
          "text": [
            "Dizinin ilk elementi:Lada\n"
          ]
        }
      ],
      "source": [
        "%%script node\n",
        "\n",
        "// Dizi özellikli değişkenin elementleri olmayabilir.\n",
        "const cars = [];\n",
        "\n",
        "// cars değişkeni içerisine 0.indeks numarası ile 1.elementine ulaşıp Lada string değerini depoluyoruz.\n",
        "cars[0] = \"Lada\";\n",
        "\n",
        "// Konsola Lada ifadesi yazdırılacaktır.\n",
        "console.log(`Dizinin ilk elementi:${cars[0]}`);\n"
      ]
    },
    {
      "cell_type": "markdown",
      "metadata": {},
      "source": [
        "**❗ Yeni bir değer depolama işleminde element sayısı göz önünde bulundurulmadan verilen index değeri dizi içerisinde boşluklara neden olacaktır. Bu sebeple yeni değer depolanırken değişken içerisindeki depolanmış element sayısına göre index değeri belirlenmesi tavsiye edilir.**\n",
        "\n",
        "**Örnek**\n"
      ]
    },
    {
      "cell_type": "code",
      "execution_count": 174,
      "metadata": {
        "vscode": {
          "languageId": "javascript"
        }
      },
      "outputs": [
        {
          "name": "stdout",
          "output_type": "stream",
          "text": [
            "[ \u001b[32m'BMW'\u001b[39m, \u001b[32m'Saab'\u001b[39m, \u001b[32m'Fiat'\u001b[39m, \u001b[90m<7 empty items>\u001b[39m, \u001b[32m'Ford'\u001b[39m ]\n"
          ]
        }
      ],
      "source": [
        "%%script node\n",
        "\n",
        "const cars = [\"BMW\", \"Saab\", \"Fiat\"];\n",
        "\n",
        "// cars referansının 10.indeksine ulaşıyor ve Ford değerini depoluyoruz.\n",
        "cars[10] = \"Ford\";\n",
        "\n",
        "// Yani arada 6 tane boş index ve element oluşturmuş olduk.\n",
        "console.log(cars);\n"
      ]
    },
    {
      "cell_type": "markdown",
      "metadata": {},
      "source": [
        "Aşağıda `length` property'sini kullanarak dizi veri türündeki bir değişkene yeni bir element ekliyoruz.\n",
        "\n",
        "**Örnek**\n"
      ]
    },
    {
      "cell_type": "code",
      "execution_count": 9,
      "metadata": {
        "vscode": {
          "languageId": "javascript"
        }
      },
      "outputs": [
        {
          "name": "stdout",
          "output_type": "stream",
          "text": [
            "Dizinin 4.elementi:Mercedes\n",
            "Dizinin içeriği:Lada,Tata,BMW,Mercedes\n"
          ]
        }
      ],
      "source": [
        "%%script node\n",
        "\n",
        "const cars = [\"Lada\", \"Tata\", \"BMW\"];\n",
        "\n",
        "// length property'sini kullanarak dizi türündeki değişkenin sonuna yeni bir element ekliyoruz.\n",
        "cars[cars.length] = \"Mercedes\";\n",
        "\n",
        "// Değişkenin 3.index değeri dizi içerisinde 4.elemente denk gelecektir.\n",
        "console.log(`Dizinin 4.elementi:${cars[3]}`);\n",
        "\n",
        "console.log(`Dizinin içeriği:${cars}`);"
      ]
    },
    {
      "cell_type": "markdown",
      "metadata": {},
      "source": [
        "## JavaScript'te Associative Özelliği\n",
        "\n",
        "Normalde JavaScript'te associative özelliği bulunmaz. Bunun anlamı normal şartlarda dizi özellikli değişken içerisinde depolanan bir değere ulaşmak için index numarası yerine string bir ifade kullanamayız. Dizi özellikli bir değişkenin depoladığı değerlere **index** numarası ile ulaşırız.\n",
        "\n",
        "Ancak nesne türünde tanımlanmış bir değişkende associative özelliğini kullanabilir.\n",
        "\n",
        "**Örnek**\n"
      ]
    },
    {
      "cell_type": "code",
      "execution_count": 10,
      "metadata": {
        "vscode": {
          "languageId": "javascript"
        }
      },
      "outputs": [
        {
          "name": "stdout",
          "output_type": "stream",
          "text": [
            "person değişkenin içeriği:John\n"
          ]
        }
      ],
      "source": [
        "%%script node\n",
        "\n",
        "const person = new Array();\n",
        "\n",
        "// Associative index örneği. firstName, isimlendirilmiş index olarak ifade edilir.\n",
        "person[\"firstName\"] = \"John\";\n",
        "\n",
        "console.log(`person değişkenin içeriği:${person[\"firstName\"]}`);"
      ]
    },
    {
      "cell_type": "markdown",
      "metadata": {},
      "source": [
        "**❗Şayet index numarası yerine bir string ifade kullanırsak JavaScript bu değişkeni nesne türünde dizi özellikli bir değişken olarak yorumlar.**\n"
      ]
    },
    {
      "cell_type": "code",
      "execution_count": 11,
      "metadata": {
        "vscode": {
          "languageId": "javascript"
        }
      },
      "outputs": [
        {
          "name": "stdout",
          "output_type": "stream",
          "text": [
            "person değişkenin içeriği:John\n"
          ]
        }
      ],
      "source": [
        "%%script node\n",
        "\n",
        "// Dizi türünde boş bir değişken tanımlıyoruz.\n",
        "const person = [];\n",
        "\n",
        "/**\n",
        " * Bu durumda person değişkeni nesne özellikli dizi veri türü halini alır. firstName, isimlendirilmiş index \n",
        " * olarak ifade edilir.\n",
        "*/\n",
        "person[\"firstName\"] = \"John\";\n",
        "\n",
        "console.log(`person değişkenin içeriği:${person[\"firstName\"]}`);"
      ]
    },
    {
      "cell_type": "markdown",
      "metadata": {},
      "source": [
        "**❗ Yeri gelmişken `new Array()` constructor metodunu kullanarak oluşturduğumuz nesne türündeki dizi özellikli değişkenler kod bloklarının yavaş çalışmasına neden olacağı için kullanılması tavsiye edilmez. Basitlik, okunabilirlik ve kod bloklarının hızlı çalışması için literal yöntemle oluşturulan dizi özellikli değişkenlerin kullanılması tavsiye edilir.**\n",
        "\n",
        "**Ayrıca `new Array()` metodu kullanılarak oluşturulan nesne türündeki dizi özellikli değişkenler bir takım sorunlara neden olabilir.**\n",
        "\n",
        "**Örnek**\n"
      ]
    },
    {
      "cell_type": "code",
      "execution_count": 18,
      "metadata": {
        "vscode": {
          "languageId": "javascript"
        }
      },
      "outputs": [
        {
          "name": "stdout",
          "output_type": "stream",
          "text": [
            "numbers değişkeninin içeriği:40\n",
            "\n",
            "numbers2 değişkeninin içeriği:,,,,,,,,,,,,,,,,,,,,,,,,,,,,,,,,,,,,,,, \n",
            "numbers2 değişkeninin element sayısı:40\n",
            "\n"
          ]
        }
      ],
      "source": [
        "%%script node\n",
        "\n",
        "const numbers = [40];\n",
        "const numbers2 = new Array(40);\n",
        "\n",
        "console.log(`numbers değişkeninin içeriği:${numbers}`);\n",
        "\n",
        "/** \n",
        " * numbers 40 değerini tutarken new Array() metodu ile oluşturduğumuz numbers2 değişkeni 40 tane \",\" işareti \n",
        " * üretecektir.\n",
        "*/\n",
        "console.log(`\n",
        "numbers2 değişkeninin içeriği:${numbers2} \n",
        "numbers2 değişkeninin element sayısı:${numbers2.length}\n",
        "`);\n"
      ]
    },
    {
      "cell_type": "markdown",
      "metadata": {},
      "source": [
        "Aşağıdaki örnekte `person` adında boş dizi veri türü özellikli bir değişken oluşturup içeriğini dolduruyoruz. `length()` metodu ile dizi içeriğin kaç tane elementten oluştuğunu konsola yazdırmak istediğimizde elde edeceğimiz değer 0 olacaktır.\n",
        "\n",
        "**Örnek**\n"
      ]
    },
    {
      "cell_type": "code",
      "execution_count": 15,
      "metadata": {
        "vscode": {
          "languageId": "javascript"
        }
      },
      "outputs": [
        {
          "name": "stdout",
          "output_type": "stream",
          "text": [
            "person değişkenin element sayısı:0\n",
            "person değişkeninin ilk elementi:undefined\n"
          ]
        }
      ],
      "source": [
        "%%script node\n",
        "\n",
        "const person = [];\n",
        "person[\"firstName\"] = \"Hasan\";\n",
        "person[\"lastName\"] = \"Bakıcı\";\n",
        "person[\"age\"] = 39;\n",
        "\n",
        "// person değişkenin kaç tane elementten oluştuğunu konsola yazdıralım.\n",
        "console.log(`person değişkenin element sayısı:${person.length}`);\n",
        "\n",
        "// person değişkeninin 0.index değerine denk gelen elementi konsola yazdıralım. Dönen değer undefined olacaktır.\n",
        "console.log(`person değişkeninin ilk elementi:${person[0]}`);\n"
      ]
    },
    {
      "cell_type": "markdown",
      "metadata": {},
      "source": [
        "Yukarıdaki örneği literal yöntemini kullanarak gerçekleştirelim.\n",
        "\n",
        "**Örnek**\n"
      ]
    },
    {
      "cell_type": "code",
      "execution_count": 19,
      "metadata": {
        "vscode": {
          "languageId": "javascript"
        }
      },
      "outputs": [
        {
          "name": "stdout",
          "output_type": "stream",
          "text": [
            "person değişkenin element sayısı:3\n",
            "person değişkeninin ilk elementi:Hasan\n"
          ]
        }
      ],
      "source": [
        "%%script node\n",
        "\n",
        "const person = [];\n",
        "person[0] = \"Hasan\";\n",
        "person[1] = \"Bakıcı\";\n",
        "person[2] = 39;\n",
        "\n",
        "// person değişkenin kaç tane elementten oluştuğunu konsola yazdıralım.\n",
        "console.log(`person değişkenin element sayısı:${person.length}`);\n",
        "\n",
        "// person değişkeninin 0.index değerine denk gelen elementi konsola yazdıralım. Dönen değer \"Hasan\" olacaktır.\n",
        "console.log(`person değişkeninin ilk elementi:${person[0]}`);\n",
        "\n",
        "/* TODO: Buradan devam et. */"
      ]
    },
    {
      "cell_type": "markdown",
      "metadata": {},
      "source": [
        "Yukarıda görüleceği üzere literal yöntemi ile oluşturulan array özellikli bir değişkene ait elementlerin değerlerini listeleyebiliyor ve metotları kullanabiliyoruz.\n",
        "\n",
        "**➖ Görüleceği üzere literal yöntemle oluşturulan array değişkenlerde elementlere erişim index numaraları ile yapılırken nesne özellikli array değişkenlerinde isimlendirilmiş bir indeks ile sağlanmaktadır. Bu kullanım yöntemi iki tür arasındaki en büyük farkı oluşturur.**\n",
        "\n",
        "**❗Nesne özellikli bir değişkende isimlendirmiş index yöntemini key olarak kullanıp key'e denk gelen değere ulaşabiliriz.**\n",
        "\n",
        "**Örnek**\n"
      ]
    },
    {
      "cell_type": "code",
      "execution_count": 181,
      "metadata": {
        "vscode": {
          "languageId": "javascript"
        }
      },
      "outputs": [
        {
          "name": "stdout",
          "output_type": "stream",
          "text": [
            "Emin\n"
          ]
        }
      ],
      "source": [
        "%%script node\n",
        "\n",
        "const person = { firstName: \"Emin\", lastName: \"Altan\" };\n",
        "\n",
        "/** \n",
        " * Array içerisinde firstName isimlendirilmiş index'i kullanarak person nesnesindeki \n",
        " * firstName key'ine ait değere ulaşmış olduk.\n",
        " */ \n",
        "console.log(person[\"firstName\"]);"
      ]
    },
    {
      "cell_type": "markdown",
      "metadata": {},
      "source": [
        "**⚠️ Burada şöyle bir soru aklımıza gelebilir. \"İsimlendirilmiş index'i hem array veri türüne sahip değişkenlerde hem de nesne veri türüne sahip değişkenlerde birlikte kullanabiliyoruz. Bu durumda bir değişkenin array mı yoksa nesne mi olup/olmadığını nasıl anlayacağız?\"**\n",
        "\n",
        "**İsimlendirilmiş index kullanan bir değişkenin array veya nesne olup/olmadığını sınamanın en etkin yolu `Array.isArray()` metodudur arkadaşlar. Buna ek olarak `Instanceof` operatörü de kullanılabilir.**\n"
      ]
    },
    {
      "cell_type": "markdown",
      "metadata": {},
      "source": [
        "## JavaScript Array Metotları, Operatörleri ve Property'leri\n"
      ]
    },
    {
      "cell_type": "markdown",
      "metadata": {},
      "source": [
        "### `Array.isArray` Metodu\n",
        "\n",
        "Bir değişkenin array veri türünde olup/olmadığını öğrenmek için kullanılan metottur. Eğer değişken array veri türünde ise sonuç olarak `true`, değilse `false` değerini geri döndürür.\n",
        "\n",
        "`Array.isArray()` metodu ECMAScript 5 (JavaScript 2009) ile JavaScript'e dahil edilmiştir.\n",
        "\n",
        "**Örnek**\n"
      ]
    },
    {
      "cell_type": "code",
      "execution_count": 182,
      "metadata": {
        "vscode": {
          "languageId": "javascript"
        }
      },
      "outputs": [
        {
          "name": "stdout",
          "output_type": "stream",
          "text": [
            "Murat\n",
            "Emin\n",
            "\u001b[33mtrue\u001b[39m\n",
            "\u001b[33mfalse\u001b[39m\n"
          ]
        }
      ],
      "source": [
        "%%script node\n",
        "\n",
        "const student = [];\n",
        "const person = { firstName: \"Emin\", lastName: \"Altan\" };\n",
        "\n",
        "/** \n",
        " * İsimlendirilmiş index (firstName) kullanmamız sebebiyle student değişkeni nesne \n",
        " * türünde array özelliğine sahip olacaktır.\n",
        " */\n",
        "student[\"firstName\"] = \"Murat\";\n",
        "\n",
        "/** \n",
        " * Görüldüğü üzere array özellikli student değişkeninde ve person değişkeninde \n",
        " * isimlendirilmiş index kullanıyoruz. \n",
        " * Düşünelim ki yoğun bir code base içerisinde çalışıyoruz student ve person \n",
        " * değişkenlerinin veri türünü öğrenmek istiyoruz.\n",
        " * Bu durumda Array.isArray() metodunu kullandığımızda array veri türüne sahip \n",
        " * değişkeni tespit edebiliriz.\n",
        " */\n",
        "console.log(student[\"firstName\"]);\n",
        "console.log(person[\"firstName\"]);\n",
        "\n",
        "/** \n",
        " * Görüleceği üzere student değişkeninden dönen değer true olduğu için student \n",
        " * değişkeni array veri türü özelliği taşır.\n",
        " * \n",
        " * person değişkeninden dönen değer false olduğu için bu değişkenin \n",
        " * array veri türü özellikli olmadığını ve nesne türünden bir değişken olduğunu \n",
        " * anlayabiliriz. \n",
        " */\n",
        "console.log(Array.isArray(student));\n",
        "console.log(Array.isArray(person));"
      ]
    },
    {
      "cell_type": "markdown",
      "metadata": {},
      "source": [
        "### `Instanceof` Operatörü\n",
        "\n",
        "Object veri tiplerinde birden fazla kullanım yöntemi olmakla birlikte değişkenin türünü belirlemede, bir özelliğin object ile ilişkisini anlamada veya katılım izleme işlemlerini gerçekleştirmek için kullanılır.\n",
        "\n",
        "**💡 Özellikle object özellikli değişkenlerde debug işlemleri için kullanışlı olabilir.**\n"
      ]
    },
    {
      "cell_type": "code",
      "execution_count": 183,
      "metadata": {
        "vscode": {
          "languageId": "javascript"
        }
      },
      "outputs": [
        {
          "name": "stdout",
          "output_type": "stream",
          "text": [
            "\u001b[33mtrue\u001b[39m\n",
            "\u001b[33mfalse\u001b[39m\n"
          ]
        }
      ],
      "source": [
        "%%script node\n",
        "\n",
        "const fruits = [\"Banana\", \"Orange\", \"Apple\"];\n",
        "\n",
        "const cars = { carName: \"Honda\", carModel: \"Jazz\", productDate: \"2005-01-02\" };\n",
        "\n",
        "/** \n",
        " * true değerini geri döndürecektir. Çünkü fruits array veri türüne sahip bir \n",
        " * değişkendir.\n",
        " */\n",
        "console.log(fruits instanceof Array);\n",
        "\n",
        "/** \n",
        " * false değerini geri döndürecektir. Çünkü cars nesne veri türünde bir \n",
        " * değişkendir.\n",
        " */\n",
        "console.log(cars instanceof Array);\n"
      ]
    },
    {
      "cell_type": "markdown",
      "metadata": {},
      "source": [
        "### `delete` Operatörü\n",
        "\n",
        "Array içerisindeki elementler `delete` operatörü ile de kaldırılabilir. Element array içerisinden silinirse `true` silinemezse `false` değeri döndürür.\n",
        "\n",
        "**⚠️ Ancak bu yöntem array içerindeki elementler arasında `undefined` tanımlı boşluklar oluşturacağı için kullanılması tavsiye edilmez.**\n",
        "\n",
        "**Bunun yerine `pop()` veya `shift()` metotlarının kullanılması tavsiye edilir.**\n",
        "\n",
        "**Örnek**\n"
      ]
    },
    {
      "cell_type": "code",
      "execution_count": 184,
      "metadata": {
        "vscode": {
          "languageId": "javascript"
        }
      },
      "outputs": [
        {
          "name": "stdout",
          "output_type": "stream",
          "text": [
            "\u001b[33mtrue\u001b[39m\n",
            "\u001b[90mundefined\u001b[39m\n",
            "\u001b[33m3\u001b[39m\n",
            "[ \u001b[90m<1 empty item>\u001b[39m, \u001b[32m'Tata'\u001b[39m, \u001b[32m'BMW'\u001b[39m ]\n"
          ]
        }
      ],
      "source": [
        "%%script node\n",
        "\n",
        "const cars = [\"Lada\", \"Tata\", \"BMW\"];\n",
        "\n",
        "/** \n",
        " * Array içerisinden Lada elementi kaldırılacaktır. Kaldırılma işlemi başarılı yapıldığı \n",
        " * için true sonucunu döndürülür.\n",
        " */\n",
        "console.log(delete cars[0]);\n",
        "\n",
        "// undefined ifadesi konsola yazdırılır. \n",
        "console.log(cars[0]);\n",
        "\n",
        "// cars değişkenin mevcut element sayısı element kaldırılmasına rağmen halen 3'dür.\n",
        "console.log(cars.length);\n",
        "\n",
        "/** \n",
        " * 0.index'e sahip Lada elementi kaldırılmasına rağmen array içerisinde hala 0.index'e \n",
        " * ait bir değer tutuluyor. \n",
        " */\n",
        "console.log(cars);"
      ]
    },
    {
      "cell_type": "markdown",
      "metadata": {},
      "source": [
        "### `...` (Spread) Operatörü\n",
        "\n",
        "`...` (Spread) operatörünün bir çok işlevi bulunmaktadır. **Iterable** olan object veri tipi özellikli değişkenler başta olmak üzere array veya object türünde sonuç üreten işlemlerde sıklıkla kullanılır.\n",
        "\n",
        "Bunlara tek tek göz atalım:\n"
      ]
    },
    {
      "cell_type": "markdown",
      "metadata": {},
      "source": [
        "#### Değişkenlerin Birleştirilmesinde\n",
        "\n",
        "Hatırlarsak iki veya daha fazla değeri birleştirirken `concat()` metodundan faydalanıyorduk. Birleştirme işlemini aynı zamanda `...` (Spread) operatörü ile de yapabiliriz.\n",
        "\n",
        "**⚠️ Büyük veri yığınlarında verilerin birleştirilmesi için `...` (Spread) operatörünün kullanılması kod bloklarının yavaş çalışmasına neden olacaktır. Bunun yerine `concat()` metodunun kullanılması tavsiye edilir.**\n",
        "\n",
        "**Örnek**\n"
      ]
    },
    {
      "cell_type": "code",
      "execution_count": 185,
      "metadata": {
        "vscode": {
          "languageId": "javascript"
        }
      },
      "outputs": [
        {
          "name": "stdout",
          "output_type": "stream",
          "text": [
            "[ \u001b[32m'Lada'\u001b[39m, \u001b[32m'Tata'\u001b[39m, \u001b[32m'BMW'\u001b[39m, \u001b[32m'$2000'\u001b[39m, \u001b[32m'$4000'\u001b[39m, \u001b[32m'$6000'\u001b[39m ]\n",
            "{ studentName: \u001b[32m'Emin'\u001b[39m, studentLastName: \u001b[32m'Altan'\u001b[39m, ID: \u001b[33m1\u001b[39m }\n"
          ]
        }
      ],
      "source": [
        "%%script node\n",
        "\n",
        "const prices = [\"$2000\", \"$4000\", \"$6000\"];\n",
        "\n",
        "const cars = [\"Lada\", \"Tata\", \"BMW\"];\n",
        "\n",
        "/**\n",
        " * İki array türündeki değişken birleştiriliyor ve mergedArrays değişkeni içerisine \n",
        " * depolanıyor.\n",
        " */\n",
        "const mergedArrays = [...cars, ...prices];\n",
        "\n",
        "\n",
        "console.log(mergedArrays);\n",
        "\n",
        "const student = {\n",
        "    studentName: \"Emin\",\n",
        "    studentLastName: \"Altan\",\n",
        "};\n",
        "\n",
        "const id = { \n",
        "    ID:1\n",
        " };\n",
        "\n",
        "\n",
        " // İki nesne türündeki değişken birleştiriliyor.\n",
        "console.log({ ...student, ...id });"
      ]
    },
    {
      "cell_type": "markdown",
      "metadata": {},
      "source": [
        "### Kopyalama İşlemlerinde\n",
        "\n",
        "Hatırlarsak array veya object özellikli bir değişkeni referans şeklinde kullanarak oluşturduğumuz yeni bir değişken içeriğine element eklediğimizde orijinal değişkenin içeriği de değişiyordu. Bunun sebebi array veya object veri türünün bellekte referans şeklinde depolanmasaydı.\n",
        "\n",
        "`...` (Spread) operatörü ile orijinal değişkenin içeriği değiştirilmeden yeni değişkene elementler ekleyebiliriz.\n",
        "\n",
        "**Örnek**\n"
      ]
    },
    {
      "cell_type": "code",
      "execution_count": 186,
      "metadata": {
        "vscode": {
          "languageId": "javascript"
        }
      },
      "outputs": [
        {
          "name": "stdout",
          "output_type": "stream",
          "text": [
            "[ \u001b[32m'Lada'\u001b[39m, \u001b[32m'Tata'\u001b[39m, \u001b[32m'BMW'\u001b[39m ]\n",
            "[ \u001b[32m'Lada'\u001b[39m, \u001b[32m'Tata'\u001b[39m, \u001b[32m'BMW'\u001b[39m, \u001b[32m'Audi'\u001b[39m ]\n",
            "{ studentName: \u001b[32m'Emin'\u001b[39m, studentLasName: \u001b[32m'Altan'\u001b[39m }\n",
            "{ studentName: \u001b[32m'Emin'\u001b[39m, studentLasName: \u001b[32m'Altan'\u001b[39m, salary: \u001b[32m'3000USD'\u001b[39m }\n"
          ]
        }
      ],
      "source": [
        "%%script node\n",
        "\n",
        "const cars = [\"Lada\", \"Tata\", \"BMW\"];\n",
        "\n",
        "/** \n",
        " * ... operatörü sayesinde yapacağımız değişiklikler cars değişkeninin içeriğini \n",
        " * etkilemez. cars değişkeninin içeriği newCars'a kopyalanıyor ve değişken için \n",
        " * hafızada yeni bir adres ayrılıyor.\n",
        " */\n",
        "const newCars = [...cars];\n",
        "\n",
        "newCars.push(\"Audi\");\n",
        "\n",
        "// Orijinal değişkenin içeriği korunuyor.\n",
        "console.log(cars);\n",
        "\n",
        "// newCars değişkeninin içeriğe yeni bir element eklendi.\n",
        "console.log(newCars);\n",
        "\n",
        "const student = {\n",
        "    studentName: \"Emin\",\n",
        "    studentLasName: \"Altan\"\n",
        "};\n",
        "\n",
        "/** \n",
        " * person adındaki değişkenin içeriği student değişkeninin içeriği kopyalanarak \n",
        " * oluşturuluyor.\n",
        " */\n",
        "const person = { ...student };\n",
        "\n",
        "// person değişkenine yeni bir property ekleniyor.\n",
        "person.salary = \"3000USD\";\n",
        "\n",
        "// Görüleceği üzere orijinal içerik korunuyor.\n",
        "console.log(student);\n",
        "\n",
        "// person değişkenin property'leri konsola yazdırılır.\n",
        "console.log(person);"
      ]
    },
    {
      "cell_type": "markdown",
      "metadata": {},
      "source": [
        "### İçeriği Genişletme İşlemlerinde\n",
        "\n",
        "Bazen bir değişkeninin içeriğini olduğu gibi başka bir array içerisinde kullanmak isteyebiliriz. Bu durumda `...` (Spread) operatöründen faydalanırız.\n",
        "\n",
        "**Örnek**\n"
      ]
    },
    {
      "cell_type": "code",
      "execution_count": 187,
      "metadata": {
        "vscode": {
          "languageId": "javascript"
        }
      },
      "outputs": [
        {
          "name": "stdout",
          "output_type": "stream",
          "text": [
            "[ \u001b[32m'Lada'\u001b[39m, \u001b[32m'Tata'\u001b[39m, \u001b[32m'BMW'\u001b[39m, \u001b[32m'İzmir'\u001b[39m, \u001b[32m'Bursa'\u001b[39m, \u001b[32m'Ankara'\u001b[39m ]\n",
            "{\n",
            "  jobsName: \u001b[32m'Operator'\u001b[39m,\n",
            "  jobsHour: \u001b[32m'12H'\u001b[39m,\n",
            "  personName: \u001b[32m'Murat'\u001b[39m,\n",
            "  personLastName: \u001b[32m'Bakıcı'\u001b[39m\n",
            "}\n"
          ]
        }
      ],
      "source": [
        "%%script node\n",
        "\n",
        "const cars = [\"Lada\", \"Tata\", \"BMW\"];\n",
        "\n",
        "/** \n",
        " * cars değişkeni içerisindeki elementler location değişkeni içerisine dahil \n",
        " * ediliyor.\n",
        " */\n",
        "const locations = [...cars, \"İzmir\", \"Bursa\", \"Ankara\"];\n",
        "\n",
        "console.log(locations);\n",
        "\n",
        "const person = {\n",
        "    personName: \"Murat\",\n",
        "    personLastName: \"Bakıcı\",\n",
        "};\n",
        "\n",
        "const jobs = {\n",
        "    jobsName: \"Operator\",\n",
        "    jobsHour: \"12H\",\n",
        "\n",
        "    // person nesnesi içerisindeki tüm property'ler jobs nesnesine dahil ediliyor.\n",
        "    ...person\n",
        "};\n",
        "\n",
        "console.log(jobs);"
      ]
    },
    {
      "cell_type": "markdown",
      "metadata": {},
      "source": [
        "### Ifadeyi Parçalara Ayırmada\n",
        "\n",
        "Bir ifadeyi `...` (Spread) operatörü sayesinde parçalara ayırabilir ve array şeklinde bir sonuç elde edebiliriz.\n",
        "\n",
        "**Örnek**\n"
      ]
    },
    {
      "cell_type": "code",
      "execution_count": 188,
      "metadata": {
        "vscode": {
          "languageId": "javascript"
        }
      },
      "outputs": [
        {
          "name": "stdout",
          "output_type": "stream",
          "text": [
            "[\n",
            "  \u001b[32m'M'\u001b[39m, \u001b[32m'e'\u001b[39m, \u001b[32m'h'\u001b[39m, \u001b[32m'm'\u001b[39m,\n",
            "  \u001b[32m'e'\u001b[39m, \u001b[32m't'\u001b[39m, \u001b[32m' '\u001b[39m, \u001b[32m'A'\u001b[39m,\n",
            "  \u001b[32m'k'\u001b[39m, \u001b[32m'k'\u001b[39m, \u001b[32m'o'\u001b[39m, \u001b[32m'ç'\u001b[39m\n",
            "]\n",
            "{\n",
            "  \u001b[32m'0'\u001b[39m: \u001b[32m'M'\u001b[39m,\n",
            "  \u001b[32m'1'\u001b[39m: \u001b[32m'e'\u001b[39m,\n",
            "  \u001b[32m'2'\u001b[39m: \u001b[32m'h'\u001b[39m,\n",
            "  \u001b[32m'3'\u001b[39m: \u001b[32m'm'\u001b[39m,\n",
            "  \u001b[32m'4'\u001b[39m: \u001b[32m'e'\u001b[39m,\n",
            "  \u001b[32m'5'\u001b[39m: \u001b[32m't'\u001b[39m,\n",
            "  \u001b[32m'6'\u001b[39m: \u001b[32m' '\u001b[39m,\n",
            "  \u001b[32m'7'\u001b[39m: \u001b[32m'A'\u001b[39m,\n",
            "  \u001b[32m'8'\u001b[39m: \u001b[32m'k'\u001b[39m,\n",
            "  \u001b[32m'9'\u001b[39m: \u001b[32m'k'\u001b[39m,\n",
            "  \u001b[32m'10'\u001b[39m: \u001b[32m'o'\u001b[39m,\n",
            "  \u001b[32m'11'\u001b[39m: \u001b[32m'ç'\u001b[39m\n",
            "}\n"
          ]
        }
      ],
      "source": [
        "%%script node\n",
        "\n",
        "const personName = \"Mehmet Akkoç\";\n",
        "\n",
        "console.log([...personName]);\n",
        "\n",
        "console.log({ ...personName });"
      ]
    },
    {
      "cell_type": "markdown",
      "metadata": {},
      "source": [
        "### Metot İçinde Kullanma\n",
        "\n",
        "Bir metoda veri seti şeklinde parametre gönderme veya alma işleminde `...` (Spread) operatörünün kullanımı işlerimizi oldukça kolaylaştırır.\n",
        "\n",
        "**Örnek**\n"
      ]
    },
    {
      "cell_type": "code",
      "execution_count": 189,
      "metadata": {
        "vscode": {
          "languageId": "javascript"
        }
      },
      "outputs": [
        {
          "name": "stdout",
          "output_type": "stream",
          "text": [
            "[ \u001b[33m2\u001b[39m, \u001b[33m3\u001b[39m, \u001b[33m4\u001b[39m, \u001b[33m5\u001b[39m, \u001b[33m6\u001b[39m, \u001b[33m7\u001b[39m ]\n"
          ]
        }
      ],
      "source": [
        "%%script node\n",
        "\n",
        "/** \n",
        " * Set olarak gelen elementlerin her biri için map() metodu içeriği çağrılır ve elemente \n",
        " * +1 değeri eklenerek sonuç geri döndürülür. Her bir element için map() metodu içeriği\n",
        " * çağrıldığı için callback function özelliği taşır.\n",
        " */\n",
        "const additions = (...values) => values.map(num => num + 1);\n",
        "\n",
        "/** \n",
        " * additions metoduna set olarak değer gönderdik. Gönderdiğimiz setin iterable olduğuna \n",
        " * dikkat edelim.\n",
        " */\n",
        "console.log(additions(1, 2, 3, 4, 5, 6));"
      ]
    },
    {
      "cell_type": "markdown",
      "metadata": {},
      "source": [
        "### Destructuring İşlemlerinde\n",
        "\n",
        "ES6 versiyonu ile birlikte Destructuring işlemi `...` (Spread) operatörü birlikte kullanılabilir hale gelmiştir.\n",
        "\n",
        "**Örnek**\n"
      ]
    },
    {
      "cell_type": "code",
      "execution_count": 190,
      "metadata": {
        "vscode": {
          "languageId": "javascript"
        }
      },
      "outputs": [
        {
          "name": "stdout",
          "output_type": "stream",
          "text": [
            "{ personAge: \u001b[33m30\u001b[39m, personID: \u001b[33m25\u001b[39m, personAccount: \u001b[32m'lin.wayne'\u001b[39m }\n"
          ]
        }
      ],
      "source": [
        "%%script node\n",
        "\n",
        "const person = {\n",
        "    personName: \"Lin\",\n",
        "    personSurName: \"Wayne\",\n",
        "    personAge: 30,\n",
        "    personID: 25,\n",
        "    personAccount: \"lin.wayne\",\n",
        "};\n",
        "\n",
        "/** \n",
        " * Destructuring işlemi ile personName ve personSurname dışındaki property'ler others \n",
        " * içerisine depolanıyor.\n",
        " */\n",
        "const { personName, personSurName, ...others } = person;\n",
        "\n",
        "/** \n",
        " * personName ve personSurName dışındaki tüm property'ler others içerisine \n",
        " * depolanacaktır.\n",
        " */\n",
        "console.log(others);\n"
      ]
    },
    {
      "cell_type": "markdown",
      "metadata": {},
      "source": [
        "### NodeList Array'a Dönüştürme\n",
        "\n",
        "`querySelectorAll()` metodu ile HTML DOM içerisindeki belirlediğimiz node list elementlerinin tümünü array şeklinde depolayıp kullanmak isteyebiliriz. Bu durumda `...` (Spread) operatöründen faydalanırız.\n",
        "\n",
        "**Örnek**\n",
        "\n",
        "```html\n",
        "<!DOCTYPE html>\n",
        "<html lang=\"en\">\n",
        "  <head>\n",
        "    <meta charset=\"UTF-8\" />\n",
        "    <meta\n",
        "      name=\"viewport\"\n",
        "      content=\"width=device-width, initial-scale=1.0\"\n",
        "    />\n",
        "    <title>Document</title>\n",
        "  </head>\n",
        "  <body>\n",
        "    <p>1.paragraf</p>\n",
        "    <p>2.paragraf</p>\n",
        "    <p>3.paragraf</p>\n",
        "\n",
        "    <script>\n",
        "      const nodeList = document.querySelectorAll(\"p\");\n",
        "\n",
        "      // HTML DOM tree'deki tüm <p> elementleri array içerisine depolanıyor.\n",
        "      const array = [...nodeList];\n",
        "\n",
        "      /**\n",
        "       * Her bir <p> elementinin içeriği okunup konsola yazdırılıyor.\n",
        "       *\n",
        "       * Sonuç: (3) ['1.paragraf', '2.paragraf', '3.paragraf']\n",
        "       */\n",
        "      console.log(array.map((element) => element.innerHTML));\n",
        "    </script>\n",
        "  </body>\n",
        "</html>\n",
        "```\n"
      ]
    },
    {
      "cell_type": "markdown",
      "metadata": {},
      "source": [
        "### `toString()` Metodu\n",
        "\n",
        "Array özellikli bir değişkenin depoladığı verileri string veri türüne ve tipine dönüştürür. Değişkende depolanan değerler \",\" işareti ile birbirlerinden ayrılırlar.\n",
        "\n",
        "Yeri gelmişken `toString()` metodu tüm JavaScript nesnelerinde ortak bir metottur.\n",
        "\n",
        "**Örnek**\n"
      ]
    },
    {
      "cell_type": "code",
      "execution_count": 191,
      "metadata": {
        "vscode": {
          "languageId": "javascript"
        }
      },
      "outputs": [
        {
          "name": "stdout",
          "output_type": "stream",
          "text": [
            "Lada,Tata,BMW\n",
            "string\n"
          ]
        }
      ],
      "source": [
        "%%script node\n",
        "\n",
        "const cars = [\"Lada\", \"Tata\", \"BMW\"];\n",
        "\n",
        "const convertedCars = cars.toString();\n",
        "\n",
        "/** \n",
        " * convertedCars değişkeni string veri türü ve tipine çevrilecektir.\n",
        " * Depolanan değerler \",\" işareti ile birbirlerinden ayrılırlar.\n",
        " */\n",
        "console.log(convertedCars);\n",
        "\n",
        "console.log(typeof convertedCars);"
      ]
    },
    {
      "cell_type": "markdown",
      "metadata": {},
      "source": [
        "JavaScript, array içerisinde primitive veri türü ile karşılaştığında bunu otomatik olarak string veri türüne çevirir.\n",
        "\n",
        "**Örnek**\n",
        "\n",
        "Aşağıdaki örnekte `toString()` metodu kullanarak elde ettiğimiz sonuç ile kullanmadan elde ettiğimiz sonuç aynıdır.\n"
      ]
    },
    {
      "cell_type": "code",
      "execution_count": 192,
      "metadata": {
        "vscode": {
          "languageId": "javascript"
        }
      },
      "outputs": [
        {
          "name": "stdout",
          "output_type": "stream",
          "text": [
            "[ \u001b[32m'Lada'\u001b[39m, \u001b[32m'Tata'\u001b[39m, \u001b[32m'BMW'\u001b[39m ]\n",
            "Lada,Tata,BMW\n"
          ]
        }
      ],
      "source": [
        "%%script node\n",
        "\n",
        "const cars = [\"Lada\", \"Tata\", \"BMW\"];\n",
        "\n",
        "console.log(cars);\n",
        "\n",
        "console.log(cars.toString());"
      ]
    },
    {
      "cell_type": "markdown",
      "metadata": {},
      "source": [
        "### `join()` Metodu\n",
        "\n",
        "`toString()` metodu gibi çalışır aradaki fark string değerleri ayırmak için kullanılan işareti belirleyebiliriz. `toString()` metodunda depolanan veriler \",\" işareti ile ayrılıyordu.\n",
        "\n",
        "**Örnek**\n"
      ]
    },
    {
      "cell_type": "code",
      "execution_count": 193,
      "metadata": {
        "vscode": {
          "languageId": "javascript"
        }
      },
      "outputs": [
        {
          "name": "stdout",
          "output_type": "stream",
          "text": [
            "Lada*Tata*BMW\n",
            "string\n"
          ]
        }
      ],
      "source": [
        "%%script node\n",
        "\n",
        "const cars = [\"Lada\", \"Tata\", \"BMW\"];\n",
        "\n",
        "const convertedCars = cars.join(\"*\");\n",
        "\n",
        "/** \n",
        " * convertedCars değişkeni string veri türü ve tipine çevrilecektir.\n",
        " * Depolanan değerler \"*\" işareti ile birbirlerinden ayrılırlar.\n",
        " */\n",
        "console.log(convertedCars);\n",
        "\n",
        "console.log(typeof convertedCars);"
      ]
    },
    {
      "cell_type": "markdown",
      "metadata": {},
      "source": [
        "### `pop()` Metodu\n",
        "\n",
        "Array özellikli bir değişkenin en sonundaki elementi kaldırır.\n",
        "\n",
        "**Örnek**\n"
      ]
    },
    {
      "cell_type": "code",
      "execution_count": 194,
      "metadata": {
        "vscode": {
          "languageId": "javascript"
        }
      },
      "outputs": [
        {
          "name": "stdout",
          "output_type": "stream",
          "text": [
            "BMW\n",
            "\u001b[33m2\u001b[39m\n",
            "[ \u001b[32m'Lada'\u001b[39m, \u001b[32m'Tata'\u001b[39m ]\n"
          ]
        }
      ],
      "source": [
        "%%script node\n",
        "\n",
        "const cars = [\"Lada\", \"Tata\", \"BMW\"];\n",
        "\n",
        "// Array içerisinden BMW elementi kaldırılacaktır.\n",
        "console.log(cars.pop());\n",
        "\n",
        "// cars değişkenin mevcut element sayısı 2'ye düşer.\n",
        "console.log(cars.length);\n",
        "\n",
        "// cars değişkeninin sahip olduğu elementler konsola yazdırılacak.\n",
        "console.log(cars);"
      ]
    },
    {
      "cell_type": "markdown",
      "metadata": {},
      "source": [
        "### `push()` Metodu\n",
        "\n",
        "Array özellikli bir değişkenin en sonuna yeni bir element ekler.\n",
        "\n",
        "**Örnek**\n"
      ]
    },
    {
      "cell_type": "code",
      "execution_count": 195,
      "metadata": {
        "vscode": {
          "languageId": "javascript"
        }
      },
      "outputs": [
        {
          "name": "stdout",
          "output_type": "stream",
          "text": [
            "Mercedes\n",
            "\u001b[33m4\u001b[39m\n",
            "[ \u001b[32m'Lada'\u001b[39m, \u001b[32m'Tata'\u001b[39m, \u001b[32m'BMW'\u001b[39m, \u001b[32m'Mercedes'\u001b[39m ]\n"
          ]
        }
      ],
      "source": [
        "%%script node\n",
        "\n",
        "const cars = [\"Lada\", \"Tata\", \"BMW\"];\n",
        "\n",
        "// Array içerisinin sonuna Mercedes elementini ekliyoruz.\n",
        "cars.push(\"Mercedes\");\n",
        "\n",
        "// cars değişkenin 3.index'i Mercedes elementine denk gelir.\n",
        "console.log(cars[3]);\n",
        "\n",
        "// cars değişkenin mevcut element sayısı 4'ye yükselir.\n",
        "console.log(cars.length);\n",
        "\n",
        "// cars değişkeninin sahip olduğu elementler konsola yazdırılacak.\n",
        "console.log(cars);"
      ]
    },
    {
      "cell_type": "markdown",
      "metadata": {},
      "source": [
        "### `shift()` Metodu\n",
        "\n",
        "`pop()` Metodu gibi çalışır aralarındaki fark `shift()` metodu değişkenin başından elementi kaldırır. Bu durumda tüm index değerleri bir rakam azalır.\n",
        "\n",
        "**Örnek**\n"
      ]
    },
    {
      "cell_type": "code",
      "execution_count": 196,
      "metadata": {
        "vscode": {
          "languageId": "javascript"
        }
      },
      "outputs": [
        {
          "name": "stdout",
          "output_type": "stream",
          "text": [
            "Lada\n",
            "\u001b[33m2\u001b[39m\n",
            "[ \u001b[32m'Tata'\u001b[39m, \u001b[32m'BMW'\u001b[39m ]\n",
            "Tata\n"
          ]
        }
      ],
      "source": [
        "%%script node\n",
        "\n",
        "const cars = [\"Lada\", \"Tata\", \"BMW\"];\n",
        "\n",
        "// Array içerisinden Lada elementi kaldırılacaktır.\n",
        "console.log(cars.shift());\n",
        "\n",
        "// cars değişkenin mevcut element sayısı 2'ye düşer.\n",
        "console.log(cars.length);\n",
        "\n",
        "// cars değişkeninin sahip olduğu elementler konsola yazdırılacak.\n",
        "console.log(cars);\n",
        "\n",
        "/** \n",
        " * cars değişkeninin 0.index değeri artık Lada elementine denk gelmiyor.\n",
        " * Tata elementine denk geliyor.\n",
        " */\n",
        "console.log(cars[0]);\n"
      ]
    },
    {
      "cell_type": "markdown",
      "metadata": {},
      "source": [
        "### `unshift()` Metodu\n",
        "\n",
        "`push()` Metodu gibi çalışır aralarındaki fark `unshift()` metodu değişkenin başına elementi ekler. Bu durumda tüm index değerleri bir rakam artar.\n",
        "\n",
        "**Örnek**\n"
      ]
    },
    {
      "cell_type": "code",
      "execution_count": 197,
      "metadata": {
        "vscode": {
          "languageId": "javascript"
        }
      },
      "outputs": [
        {
          "name": "stdout",
          "output_type": "stream",
          "text": [
            "Mercedes\n",
            "\u001b[33m4\u001b[39m\n",
            "[ \u001b[32m'Mercedes'\u001b[39m, \u001b[32m'Lada'\u001b[39m, \u001b[32m'Tata'\u001b[39m, \u001b[32m'BMW'\u001b[39m ]\n"
          ]
        }
      ],
      "source": [
        "%%script node\n",
        "\n",
        "const cars = [\"Lada\", \"Tata\", \"BMW\"];\n",
        "\n",
        "// Array içerisinin başına Mercedes elementini ekliyoruz.\n",
        "cars.unshift(\"Mercedes\");\n",
        "\n",
        "// cars değişkenin 0.index'i artık Lada değil, Mercedes elementi olacaktır.\n",
        "console.log(cars[0]);\n",
        "\n",
        "// cars değişkenin mevcut element sayısı 4'ye yükselir.\n",
        "console.log(cars.length);\n",
        "\n",
        "// cars değişkeninin sahip olduğu elementler konsola yazdırılacak.\n",
        "console.log(cars);"
      ]
    },
    {
      "cell_type": "markdown",
      "metadata": {},
      "source": [
        "### `concat()` Metodu\n",
        "\n",
        "Array değişkenleri birleştirerek tek bir array oluşturmamızı sağlar.\n",
        "\n",
        "**⚠️ Var olan array içerikleri değişmez. Birleşme sonucu yeni bir array olarak geri döndürülür.**\n",
        "\n",
        "**Örnek**\n"
      ]
    },
    {
      "cell_type": "code",
      "execution_count": 198,
      "metadata": {
        "vscode": {
          "languageId": "javascript"
        }
      },
      "outputs": [
        {
          "name": "stdout",
          "output_type": "stream",
          "text": [
            "[ \u001b[32m'Ahmet'\u001b[39m, \u001b[32m'Mahmut'\u001b[39m, \u001b[32m'Hüseyin'\u001b[39m, \u001b[32m'Bilal'\u001b[39m, \u001b[32m'Sevim'\u001b[39m, \u001b[32m'Ayşe'\u001b[39m ]\n",
            "[ \u001b[32m'Ahmet'\u001b[39m, \u001b[32m'Mahmut'\u001b[39m, \u001b[32m'Hüseyin'\u001b[39m ]\n",
            "[ \u001b[32m'Bilal'\u001b[39m, \u001b[32m'Sevim'\u001b[39m, \u001b[32m'Ayşe'\u001b[39m ]\n"
          ]
        }
      ],
      "source": [
        "%%script node\n",
        "\n",
        "const array1 = [\"Ahmet\", \"Mahmut\", \"Hüseyin\"];\n",
        "\n",
        "const array2 = [\"Bilal\", \"Sevim\", \"Ayşe\"];\n",
        "\n",
        "/** \n",
        " * array1 ile array2 değişkenlerini birleştiriyor \n",
        " * sonucu newArray değişkeni içerisine depoluyoruz.\n",
        " */\n",
        "const newArray = array1.concat(array2);\n",
        "\n",
        "// newArray değişkenin içeriğini konsola yazdıralım.\n",
        "console.log(newArray);\n",
        "\n",
        "// array1 ve array2'ni elementlerinde bir değişim olmadı.\n",
        "console.log(array1);\n",
        "console.log(array2);"
      ]
    },
    {
      "cell_type": "markdown",
      "metadata": {},
      "source": [
        "`concat()` metoduyla birden fazla array özellikli değişkeni birleştirebiliriz. Bu durumda değişkenlerin arasına \",\" işareti konulur.\n",
        "\n",
        "**Örnek**\n"
      ]
    },
    {
      "cell_type": "code",
      "execution_count": 199,
      "metadata": {
        "vscode": {
          "languageId": "javascript"
        }
      },
      "outputs": [
        {
          "name": "stdout",
          "output_type": "stream",
          "text": [
            "[\n",
            "  \u001b[32m'Ahmet'\u001b[39m,   \u001b[32m'Mahmut'\u001b[39m,\n",
            "  \u001b[32m'Hüseyin'\u001b[39m, \u001b[32m'Bilal'\u001b[39m,\n",
            "  \u001b[32m'Sevim'\u001b[39m,   \u001b[32m'Ayşe'\u001b[39m,\n",
            "  \u001b[32m'Mine'\u001b[39m,    \u001b[32m'Betül'\u001b[39m,\n",
            "  \u001b[32m'Taner'\u001b[39m\n",
            "]\n"
          ]
        }
      ],
      "source": [
        "%%script node\n",
        "\n",
        "const array1 = [\"Ahmet\", \"Mahmut\", \"Hüseyin\"];\n",
        "\n",
        "const array2 = [\"Bilal\", \"Sevim\", \"Ayşe\"];\n",
        "\n",
        "const array3 = [\"Mine\", \"Betül\", \"Taner\"]; \n",
        "\n",
        "/** \n",
        " * array1, array2 ve array3 değişkenlerini birleştiriyor \n",
        " * sonucu newArray değişkeni içerisine depoluyoruz.\n",
        " */\n",
        "const newArray = array1.concat(array2, array3);\n",
        "\n",
        "// newArray değişkenin içeriğini konsola yazdıralım.\n",
        "console.log(newArray);"
      ]
    },
    {
      "cell_type": "markdown",
      "metadata": {},
      "source": [
        "`concat()` metodu parametre olarak aynı zamanda string değer alır.\n",
        "\n",
        "**Örnek**\n"
      ]
    },
    {
      "cell_type": "code",
      "execution_count": 200,
      "metadata": {
        "vscode": {
          "languageId": "javascript"
        }
      },
      "outputs": [
        {
          "name": "stdout",
          "output_type": "stream",
          "text": [
            "[ \u001b[32m'Ahmet'\u001b[39m, \u001b[32m'Mahmut'\u001b[39m, \u001b[32m'Hüseyin'\u001b[39m, \u001b[32m'Netice'\u001b[39m ]\n"
          ]
        }
      ],
      "source": [
        "%%script node\n",
        "\n",
        "const array1 = [\"Ahmet\", \"Mahmut\", \"Hüseyin\"];\n",
        "\n",
        "/** \n",
        " * array1 değişkenini Netice değeri ile birleştirdik. Elde ettiğimiz sonucu newArray \n",
        " * içerisine depoladık.\n",
        " */\n",
        "const newArray = array1.concat(\"Netice\");\n",
        "\n",
        "console.log(newArray);"
      ]
    },
    {
      "cell_type": "markdown",
      "metadata": {},
      "source": [
        "### `splice()` Metodu\n",
        "\n",
        "Array içerisindeki belirleyeceğimiz aralık dahilinde elementleri değiştirmeye, silmeye veya yeni elementler eklemeye yarar.\n",
        "\n",
        "İki parametresi vardır. İlk parametre index değeridir işlemin hangi elementten itibaren başlanacağını ifade eder. İkinci parametre ise kaç tane element için işlemin yapılacağını ifade eder.\n",
        "\n",
        "**⚠️ Hatırlarsak `delete` operatörü kullandığımızda array içerisinde boşluklar meydana geliyordu. `splice()` metodu ile element sildiğimizde bu tarz bir sorunla karşılaşmayız.**\n",
        "\n",
        "**⚠️ `splice()` metodu array özellikli değişkenin yapısını değiştirir. Bunun anlamı yapılan değişiklik için yeni bir array oluşturulmaz, var olan array içeriğinde güncelleme yapılır.**\n",
        "\n",
        "**Örnek**\n",
        "\n",
        "Aşağıdaki örnekte belirlediğimiz kısımdan başlayarak istediğimiz elementleri başka elementler ile yer değiştiriyoruz.\n"
      ]
    },
    {
      "cell_type": "code",
      "execution_count": 201,
      "metadata": {
        "vscode": {
          "languageId": "javascript"
        }
      },
      "outputs": [
        {
          "name": "stdout",
          "output_type": "stream",
          "text": [
            "[ \u001b[32m'Tata'\u001b[39m, \u001b[32m'BMW'\u001b[39m ]\n",
            "[ \u001b[32m'Lada'\u001b[39m, \u001b[32m'OPEL'\u001b[39m, \u001b[32m'TOYOTA'\u001b[39m, \u001b[32m'Mercedes'\u001b[39m, \u001b[32m'Lexus'\u001b[39m ]\n"
          ]
        }
      ],
      "source": [
        "%%script node\n",
        "\n",
        "const cars = [\"Lada\", \"Tata\", \"BMW\", \"Mercedes\",\"Lexus\"];\n",
        "\n",
        "/**\n",
        " * 1.index değerinden sonra gelen ilk 2 elementin içeriği ile \n",
        " * OPEL ve TOYOTA ile yer değiştirecektir. \n",
        " * (1.index değeri dahil)\n",
        " */\n",
        "console.log(cars.splice(1, 2, \"OPEL\", \"TOYOTA\"));\n",
        "\n",
        "// Güncel array içeriğini konsola yazdırıyoruz.\n",
        "console.log(cars);"
      ]
    },
    {
      "cell_type": "markdown",
      "metadata": {},
      "source": [
        "**Örnek**\n",
        "\n",
        "Aşağıdaki örnekte belirlediğimiz kısımdan başlayarak istediğimiz değer kadar elementi array içerisinden siliyoruz.\n"
      ]
    },
    {
      "cell_type": "code",
      "execution_count": 202,
      "metadata": {
        "vscode": {
          "languageId": "javascript"
        }
      },
      "outputs": [
        {
          "name": "stdout",
          "output_type": "stream",
          "text": [
            "[ \u001b[32m'Tata'\u001b[39m, \u001b[32m'BMW'\u001b[39m ]\n",
            "[ \u001b[32m'Lada'\u001b[39m, \u001b[32m'Mercedes'\u001b[39m, \u001b[32m'Lexus'\u001b[39m ]\n"
          ]
        }
      ],
      "source": [
        "%%script node\n",
        "\n",
        "const cars = [\"Lada\", \"Tata\", \"BMW\", \"Mercedes\",\"Lexus\"];\n",
        "\n",
        "/** \n",
        " * 1.index değerinden başlayarak ilk 2 elementi array içerisinden siler. \n",
        " * (1.index değeri dahil)\n",
        " */\n",
        "console.log(cars.splice(1, 2));\n",
        "\n",
        "// Güncel array içeriğini konsola yazdırıyoruz.\n",
        "console.log(cars);"
      ]
    },
    {
      "cell_type": "markdown",
      "metadata": {},
      "source": [
        "**Örnek**\n",
        "\n",
        "Aşağıdaki örnekte belirlediğimiz kısımdan başlayarak istediğimiz değer kadar elementi array içerisine ekliyoruz.\n"
      ]
    },
    {
      "cell_type": "code",
      "execution_count": 203,
      "metadata": {
        "vscode": {
          "languageId": "javascript"
        }
      },
      "outputs": [
        {
          "name": "stdout",
          "output_type": "stream",
          "text": [
            "[\n",
            "  \u001b[32m'Lada'\u001b[39m,  \u001b[32m'Tata'\u001b[39m,\n",
            "  \u001b[32m'OPEL'\u001b[39m,  \u001b[32m'TOYOTA'\u001b[39m,\n",
            "  \u001b[32m'BMW'\u001b[39m,   \u001b[32m'Mercedes'\u001b[39m,\n",
            "  \u001b[32m'Lexus'\u001b[39m\n",
            "]\n"
          ]
        }
      ],
      "source": [
        "%%script node\n",
        "\n",
        "const cars = [\"Lada\", \"Tata\", \"BMW\", \"Mercedes\",\"Lexus\"];\n",
        "\n",
        "/** \n",
        " * 2.index değeri olarak OPEL ve 3.index değeri olarak \n",
        " * TOYOTA markası cars değişkenine ekleniyor.\n",
        " */\n",
        "cars.splice(2, 0, \"OPEL\", \"TOYOTA\");\n",
        "\n",
        "// Güncel array içeriğini konsola yazdırıyoruz.\n",
        "console.log(cars);"
      ]
    },
    {
      "cell_type": "markdown",
      "metadata": {},
      "source": [
        "### `slice()` Metodu\n",
        "\n",
        "Bazen array içerisinden belirlediğimiz aralıktaki elementleri kesmek ve bir takım işlemlerde kullanmak isteyebiliriz. Bu durumda `slice()` Metodu yardımımıza yetişir.\n",
        "\n",
        "İki parametresi vardır. İlk parametre index değeridir işlemin hangi elementten itibaren başlanacağını ifade eder. İkinci parametre işlemin hangi elementte son bulacağını ifade eder. İşleme ilk parametre dahil edilirken ikinci parametre dahil edilmez.\n",
        "\n",
        "**⚠️ `slice()` metodu var olan array değişkenin yapısını değiştirmez. Elde edilen sonuç yeni array olarak oluşturulur.**\n",
        "\n",
        "**Örnek**\n"
      ]
    },
    {
      "cell_type": "code",
      "execution_count": 204,
      "metadata": {
        "vscode": {
          "languageId": "javascript"
        }
      },
      "outputs": [
        {
          "name": "stdout",
          "output_type": "stream",
          "text": [
            "[ \u001b[32m'Tata'\u001b[39m, \u001b[32m'BMW'\u001b[39m ]\n",
            "[ \u001b[32m'Lada'\u001b[39m, \u001b[32m'Tata'\u001b[39m, \u001b[32m'BMW'\u001b[39m, \u001b[32m'Mercedes'\u001b[39m, \u001b[32m'Lexus'\u001b[39m ]\n"
          ]
        }
      ],
      "source": [
        "%%script node\n",
        "\n",
        "const cars = [\"Lada\", \"Tata\", \"BMW\", \"Mercedes\", \"Lexus\"];\n",
        "\n",
        "/** \n",
        " * 1.index değerine dank gelen element ile 3.index değerine denk gelen element \n",
        " * arasındaki elementler slicedCars değişkenine array veri türü şeklinde depolanıyor.\n",
        " *\n",
        " * Kesme işlemine 1.index değerine denk gelen element dahil edilirken 3.index değerine\n",
        " * denk gelen element dahil edilmez.\n",
        " */\n",
        "const slicedCars = cars.slice(1, 3);\n",
        "\n",
        "// slicedCars değişkeninin depoladığı elementler yazdırılır.\n",
        "console.log(slicedCars);\n",
        "\n",
        "// Görüleceği üzere cars array veri türü özellikli değişkenin yapısı değişmedi.\n",
        "console.log(cars)"
      ]
    },
    {
      "cell_type": "markdown",
      "metadata": {},
      "source": [
        "### `sort()` Metodu\n",
        "\n",
        "`sort()` metodu ile bir array içeriğini alfabetik olacak şekilde sıralayabiliriz. Sıralama pattern'i A-Z şeklinde gerçekleşir.\n",
        "\n",
        "**⚠️ `sort()` metodu orijinal array içeriğindeki elementlerin yerlerini değiştirir.**\n",
        "\n",
        "**Örnek**\n"
      ]
    },
    {
      "cell_type": "code",
      "execution_count": 205,
      "metadata": {
        "vscode": {
          "languageId": "javascript"
        }
      },
      "outputs": [
        {
          "name": "stdout",
          "output_type": "stream",
          "text": [
            "[ \u001b[32m'BMW'\u001b[39m, \u001b[32m'Lada'\u001b[39m, \u001b[32m'Lexus'\u001b[39m, \u001b[32m'Mercedes'\u001b[39m, \u001b[32m'Tata'\u001b[39m ]\n",
            "[ \u001b[32m'BMW'\u001b[39m, \u001b[32m'Lada'\u001b[39m, \u001b[32m'Lexus'\u001b[39m, \u001b[32m'Mercedes'\u001b[39m, \u001b[32m'Tata'\u001b[39m ]\n"
          ]
        }
      ],
      "source": [
        "%%script node\n",
        "\n",
        "const cars = [\"Lada\", \"Tata\", \"BMW\", \"Mercedes\", \"Lexus\"];\n",
        "\n",
        "/** cars değişkenin içeriği A'dan Z'ye olarak listelenir. */\n",
        "console.log(cars.sort());\n",
        "\n",
        "// Orijinal array içerisindeki elementlerin sıralaması da değişti.\n",
        "console.log(cars)"
      ]
    },
    {
      "cell_type": "markdown",
      "metadata": {},
      "source": [
        "### `sort()` Metodu İçinde Compare Metotlarının Kullanılması\n",
        "\n",
        "Compare metotlar ile alternatif bir sıralama yöntemi oluşturabiliriz. Compare metodu üç değerden birini döndürür.Bunlar negatif, sıfır veya pozitif değerlerdir.\n",
        "\n",
        "Bir compare metodu `function (a, b) {return a-b}` şeklinde oluşturulur.\n",
        "\n",
        "`sort()` metodu iki değeri kıyaslarken bu değerleri compare metoduna gönderir compare metodunda üretilen sonuca göre `a` değerinin `b` değerinden büyük, küçük veya eşit olma durumu anlaşılır.\n",
        "\n",
        "Formüle göre:\n",
        "\n",
        "1. Eğer sonuç negatif olarak döndürülürse `a` değeri `b` değerinden küçük olacaktır. (60-100 = -40 Bu durumda `a<b` olur. `a` değeri `b` değerinden önce gelir.)\n",
        "\n",
        "2. Eğer sonuç pozitif olarak döndürülürse `a` değeri `b` değerinden büyük olacaktır. (100-60 = 40 Bu durumda `a>b` olur. `b` değeri `a` değerinden önce gelir.)\n",
        "\n",
        "3. Eğer sonuç 0 olarak döndürülürse `a` değeri `b` değerine eşit olacaktır. (100-100 =0 Bu durumda `a=b` olur. Herhangi bir değişiklik yapılmaz.)\n",
        "\n",
        "**⚠️ Varsayılan olarak `sort()` metodu string değerleri listelemek için kullanılır. Sayısal değerlerin listelenmesi işleminde hatalı sonuçlar döndürür. Bu sorunun önüne geçmek için `sort()` metodu içerisinde _compare_ metotları oluşturulur ve kullanılır.**\n",
        "\n",
        "**Örnek**\n"
      ]
    },
    {
      "cell_type": "code",
      "execution_count": 206,
      "metadata": {
        "vscode": {
          "languageId": "javascript"
        }
      },
      "outputs": [
        {
          "name": "stdout",
          "output_type": "stream",
          "text": [
            "[ \u001b[33m1\u001b[39m, \u001b[33m10\u001b[39m, \u001b[33m100\u001b[39m, \u001b[33m25\u001b[39m, \u001b[33m40\u001b[39m, \u001b[33m5\u001b[39m ]\n",
            "[ \u001b[33m1\u001b[39m, \u001b[33m5\u001b[39m, \u001b[33m10\u001b[39m, \u001b[33m25\u001b[39m, \u001b[33m40\u001b[39m, \u001b[33m100\u001b[39m ]\n",
            "[ \u001b[33m100\u001b[39m, \u001b[33m40\u001b[39m, \u001b[33m25\u001b[39m, \u001b[33m10\u001b[39m, \u001b[33m5\u001b[39m, \u001b[33m1\u001b[39m ]\n"
          ]
        }
      ],
      "source": [
        "%%script node\n",
        "\n",
        "const numbers = [40, 100, 1, 5, 25, 10];\n",
        "\n",
        "// Sayısal değerler için sort() metodu yanlış sonuç döndürecektir.\n",
        "console.log(numbers.sort());\n",
        "\n",
        "/** \n",
        " * function(a,b) compare method olarak isimlendirilir. \n",
        " * Sıralamada küçükten büyüğe doğru olacaktır.\n",
        " */\n",
        "console.log(numbers.sort(function (a, b) { return a - b }));\n",
        "\n",
        "// Şayet büyükten küçüğe sıralama yapmak istersek b-a formülünü kullanırız.\n",
        "console.log(numbers.sort(function (a, b) { return b - a }));\n"
      ]
    },
    {
      "cell_type": "markdown",
      "metadata": {},
      "source": [
        "Compare metotlar özellikle array içeriği nesne şeklinde oluşturulmuş değişkenlerde kullanılır.\n",
        "\n",
        "**Örnek**\n"
      ]
    },
    {
      "cell_type": "code",
      "execution_count": 1,
      "metadata": {
        "vscode": {
          "languageId": "javascript"
        }
      },
      "outputs": [
        {
          "name": "stdout",
          "output_type": "stream",
          "text": [
            "[\n",
            "  { type: \u001b[32m'Volvo'\u001b[39m, year: \u001b[33m2016\u001b[39m },\n",
            "  { type: \u001b[32m'Saab'\u001b[39m, year: \u001b[33m2001\u001b[39m },\n",
            "  { type: \u001b[32m'BMW'\u001b[39m, year: \u001b[33m2010\u001b[39m }\n",
            "]\n",
            "[\n",
            "  { type: \u001b[32m'Saab'\u001b[39m, year: \u001b[33m2001\u001b[39m },\n",
            "  { type: \u001b[32m'BMW'\u001b[39m, year: \u001b[33m2010\u001b[39m },\n",
            "  { type: \u001b[32m'Volvo'\u001b[39m, year: \u001b[33m2016\u001b[39m }\n",
            "]\n",
            "[\n",
            "  { type: \u001b[32m'Saab'\u001b[39m, year: \u001b[33m2001\u001b[39m },\n",
            "  { type: \u001b[32m'BMW'\u001b[39m, year: \u001b[33m2010\u001b[39m },\n",
            "  { type: \u001b[32m'Volvo'\u001b[39m, year: \u001b[33m2016\u001b[39m }\n",
            "]\n"
          ]
        }
      ],
      "source": [
        "%%script node\n",
        "\n",
        "const cars = [\n",
        "  { type: \"Volvo\", year: 2016 },\n",
        "  { type: \"Saab\", year: 2001 },\n",
        "  { type: \"BMW\", year: 2010 }\n",
        "];\n",
        "\n",
        "// cars array içeriği olduğu gibi geri döndürülecektir.\n",
        "console.log(cars.sort());\n",
        "\n",
        "/** \n",
        " * Şayet compare metot kullanırsak içeriğini istediğimiz gibi sıralayabiliriz.\n",
        " * Burada arrow function kullandık.\n",
        " */\n",
        "console.log(cars.sort((a, b) => a.year - b.year));\n",
        "\n",
        "// orijinal array içeriği değişti.\n",
        "console.log(cars);"
      ]
    },
    {
      "cell_type": "markdown",
      "metadata": {},
      "source": [
        "### `reverse()` Metodu\n",
        "\n",
        "Bazen array içeriğini tersten sıralamak isteyebiliriz. Bu durumda `reverse()` metodunu kullanırız.\n",
        "\n",
        "**⚠️ `reverse()` metodu orijinal array içeriğindeki elementlerin yerlerini değiştirir.**\n",
        "\n",
        "**Örnek**\n"
      ]
    },
    {
      "cell_type": "code",
      "execution_count": 2,
      "metadata": {
        "vscode": {
          "languageId": "javascript"
        }
      },
      "outputs": [
        {
          "name": "stdout",
          "output_type": "stream",
          "text": [
            "[ \u001b[32m'Lexus'\u001b[39m, \u001b[32m'Mercedes'\u001b[39m, \u001b[32m'BMW'\u001b[39m, \u001b[32m'Tata'\u001b[39m, \u001b[32m'Lada'\u001b[39m ]\n"
          ]
        }
      ],
      "source": [
        "%%script node\n",
        "\n",
        "const cars = [\"Lada\", \"Tata\", \"BMW\", \"Mercedes\", \"Lexus\"];\n",
        "\n",
        "// cars değişkenin içeriği tersten listelenir.\n",
        "cars.reverse();\n",
        "\n",
        "// Orijinal array içerisindeki elementlerin sıralaması değişti.\n",
        "console.log(cars);\n"
      ]
    },
    {
      "cell_type": "markdown",
      "metadata": {},
      "source": [
        "### `forEach()` Metodu\n",
        "\n",
        "`forEach()` metodu ile array içerisindeki her bir element için belirlediğimiz bir işlemi otomatik olarak çalıştırabiliriz. Böylece her element için tek tek işlem yapmamış olur ve zamandan kazanırız.\n",
        "\n",
        "`forEach()` metodu içerisinde bir metot oluşturulması haline bu metot her array elementi için tekrar tekrar çağrılıp kullanılacağı için buna **_callback function_** adı verilir.\n",
        "\n",
        "**⚠️ `forEach()` metodu orijinal array içeriğini değiştirebilir.**\n",
        "\n",
        "**Örnek**\n"
      ]
    },
    {
      "cell_type": "code",
      "execution_count": 4,
      "metadata": {
        "vscode": {
          "languageId": "javascript"
        }
      },
      "outputs": [
        {
          "name": "stdout",
          "output_type": "stream",
          "text": [
            "\u001b[33m4\u001b[39m\n",
            "\u001b[33m5\u001b[39m\n",
            "\u001b[33m6\u001b[39m\n",
            "\u001b[33m7\u001b[39m\n"
          ]
        }
      ],
      "source": [
        "%%script node\n",
        "\n",
        "const numbers = [3, 4, 5, 6];\n",
        "\n",
        "/** \n",
        " * Arrow metodu callback function özelliği taşır ve number değişkeni içerisindeki \n",
        " * elementlere +1 değeri eklenerek tek sayı haline dönüştürülür \n",
        " * ve sonuç geri döndürülür.\n",
        " */\n",
        "numbers.forEach((value) => console.log(value + 1));\n"
      ]
    },
    {
      "cell_type": "markdown",
      "metadata": {},
      "source": [
        "### `map()` Metodu\n",
        "\n",
        "`map()` metodu `forEach()` gibi çalışır ancak `map()` metodu sonucu yeni bir array olarak döndürürken `forEach()` metodu bu anlamda yeni bir değer döndürmez. Buna ek olarak `map()` metodu orijinal array içeriğini değiştirmez fakat `forEach()` metodu orijinal array içeriğini değiştirir.\n",
        "\n",
        "Bu temel farklar göz önüne alındığında, hangi fonksiyonun kullanılacağı genellikle amaç ve gereksinimlere bağlıdır. Eğer sadece bir döngü içinde her eleman üzerinde bir işlem yapılması gerekiyorsa `forEach()` metodu, yeni bir dizi oluşturmak ve her eleman üzerinde bir işlem yapmak isteniyorsa `map()` metodu kullanılabilir.\n",
        "\n",
        "**Örnek**\n"
      ]
    },
    {
      "cell_type": "code",
      "execution_count": 5,
      "metadata": {
        "vscode": {
          "languageId": "javascript"
        }
      },
      "outputs": [
        {
          "name": "stdout",
          "output_type": "stream",
          "text": [
            "[ \u001b[33m90\u001b[39m, \u001b[33m8\u001b[39m, \u001b[33m18\u001b[39m, \u001b[33m32\u001b[39m, \u001b[33m50\u001b[39m ]\n"
          ]
        }
      ],
      "source": [
        "%%script node\n",
        "\n",
        "const numbers = [45, 4, 9, 16, 25];\n",
        "const numbers2 = numbers.map(value => value * 2);\n",
        "\n",
        "/** \n",
        " * numbers1 değişkeninin içeriği 2 ile çarpılacak ve elde edilen sonuç \n",
        " * numbers2 değişkenine yeni array oluşturularak depolanacaktır.\n",
        "*/\n",
        "console.log(numbers2);\n",
        "\n"
      ]
    },
    {
      "cell_type": "markdown",
      "metadata": {},
      "source": [
        "### `flatMap()` Metodu\n",
        "\n",
        "`map()` metoduna benzer şekilde çalışır aradaki fark `map()` metodu yerine iç içe geçmiş array'lar üretirken `flatMap()` metodu sonuçları düzleştirerek değer üretir.\n",
        "\n",
        "**⚠️ `flatMap()` metodu ES2019 ile JavaScript'e dahil edilmiştir. Modern tarayıcılar 2020 yılından beri `flatMap()` metodunu desteklemektedirler.**\n",
        "\n",
        "**Örnek**\n"
      ]
    },
    {
      "cell_type": "code",
      "execution_count": 6,
      "metadata": {
        "vscode": {
          "languageId": "javascript"
        }
      },
      "outputs": [
        {
          "name": "stdout",
          "output_type": "stream",
          "text": [
            "[ [ \u001b[33m4\u001b[39m ], [ \u001b[33m8\u001b[39m ], [ \u001b[33m12\u001b[39m ], [ \u001b[33m16\u001b[39m ] ]\n",
            "[ \u001b[33m4\u001b[39m, \u001b[33m8\u001b[39m, \u001b[33m12\u001b[39m, \u001b[33m16\u001b[39m ]\n"
          ]
        }
      ],
      "source": [
        "%%script node\n",
        "\n",
        "const numbers = [2, 4, 6, 8];\n",
        "\n",
        "const numbers2 = numbers.map(value => [value * 2]);\n",
        "\n",
        "const numbers3 = numbers.flatMap(value => [value * 2]);\n",
        "\n",
        "// map() metodu iç içe geçmiş array'lar üretti.\n",
        "console.log(numbers2);\n",
        "\n",
        "// flatMap() metodu tek bir array içeriği üretti.\n",
        "console.log(numbers3);\n"
      ]
    },
    {
      "cell_type": "markdown",
      "metadata": {},
      "source": [
        "### `filter()` Metodu\n",
        "\n",
        "Bazen bir array içerisindeki verilerin belirlediğimiz kriterlere göre filtre edilmesini ve geri döndürülmesini isteyebiliriz bu durumda `filter()` metodu kullanılır.\n",
        "\n",
        "`filter()` metodu yeni array oluşturur.\n"
      ]
    },
    {
      "cell_type": "code",
      "execution_count": 7,
      "metadata": {
        "vscode": {
          "languageId": "javascript"
        }
      },
      "outputs": [
        {
          "name": "stdout",
          "output_type": "stream",
          "text": [
            "[ \u001b[33m45\u001b[39m, \u001b[33m25\u001b[39m ]\n"
          ]
        }
      ],
      "source": [
        "%%script node\n",
        "\n",
        "const numbers = [45, 4, 9, 16, 25];\n",
        "\n",
        "/** \n",
        " * Örnekte 18'den büyük değerler filtre edilerek numbers2 değişkenine\n",
        " * yeni bir array şeklinde depolanacaktır.\n",
        " */\n",
        "const numbers2 = numbers.filter(value=> value > 18);\n",
        "\n",
        "console.log(numbers2);\n"
      ]
    },
    {
      "cell_type": "markdown",
      "metadata": {},
      "source": [
        "### `reduce()` Metodu\n",
        "\n",
        "`reduce()` metodu array içerisindeki her bir element için bir callback function çalıştırır ve array içeriği tek bir değer haline getirilir.\n",
        "\n",
        "`reduce()` metodunu kullanmak, genellikle bir dizi üzerinde bir operasyonun sonucunu birleştirmek veya toplamak istediğimiz durumlar için uygun bir seçenektir. Ancak, fonksiyonel programlama prensiplerine uygun olarak kullanıldığında, genel olarak daha okunabilir ve sürdürülebilir bir kod elde edebiliriz.\n",
        "\n",
        "**💡 `reduce()` metodu soldan sağa yönünde çalışmaktadır. Şayet sağdan solda doğru şeklinde bir işlem yaptırmak istersek `reduceRight()` metodunu kullanabiliriz.**\n",
        "\n",
        "`reduce()` metodu orijinal array yapısını değiştirmez.\n",
        "\n",
        "`reduce()` metodunun 4 tane parametresi vardır:\n",
        "\n",
        "- Başlangıç değeri veya bir önceki elementten elde edilen sonucun değeri.\n",
        "\n",
        "- Elementin değeri\n",
        "\n",
        "- Elementin index değeri\n",
        "\n",
        "- Array kendisi\n",
        "\n",
        "**Örnek**\n"
      ]
    },
    {
      "cell_type": "code",
      "execution_count": 213,
      "metadata": {
        "vscode": {
          "languageId": "javascript"
        }
      },
      "outputs": [
        {
          "name": "stdout",
          "output_type": "stream",
          "text": [
            "\u001b[33m99\u001b[39m\n"
          ]
        }
      ],
      "source": [
        "%%script node\n",
        "\n",
        "const numbers = [45, 4, 9, 16, 25];\n",
        "\n",
        "/** \n",
        " * numbers değişkeni içindeki her element için reduce() metodu içerisindeki callback \n",
        " * fonksiyonu çalışacak ve sonunda tek bir değer üretecektir.\n",
        " */\n",
        "const numbers2 = numbers.reduce((total, value) => total + value);\n",
        "\n",
        "console.log(numbers2);\n"
      ]
    },
    {
      "cell_type": "markdown",
      "metadata": {},
      "source": [
        "`reduce()` metodu parametre olarak bir başlangıç değerine sahip olabilir.\n",
        "\n",
        "**Örnek**\n"
      ]
    },
    {
      "cell_type": "code",
      "execution_count": 214,
      "metadata": {
        "vscode": {
          "languageId": "javascript"
        }
      },
      "outputs": [
        {
          "name": "stdout",
          "output_type": "stream",
          "text": [
            "\u001b[33m121\u001b[39m\n"
          ]
        }
      ],
      "source": [
        "%%script node\n",
        "\n",
        "const numbers = [2, 4, 7, 8];\n",
        "\n",
        "// 100 değer başlangıç değeridir.\n",
        "const numbers2 = numbers.reduce(myFunction, 100);\n",
        "\n",
        "function myFunction(total, value) {\n",
        "    return total + value;\n",
        "};\n",
        "\n",
        "console.log(numbers2);\n"
      ]
    },
    {
      "cell_type": "markdown",
      "metadata": {},
      "source": [
        "`reduce()` metodunun nesne veri türlerinde kullanımı yaygındır. Bu sayede array içeriğini tek bir sonuç olarak döndürebiliriz.\n",
        "\n",
        "**Örnek**\n"
      ]
    },
    {
      "cell_type": "code",
      "execution_count": 215,
      "metadata": {
        "vscode": {
          "languageId": "javascript"
        }
      },
      "outputs": [
        {
          "name": "stdout",
          "output_type": "stream",
          "text": [
            "{ name: \u001b[32m'John'\u001b[39m, age: \u001b[33m30\u001b[39m, city: \u001b[32m'New York'\u001b[39m }\n"
          ]
        }
      ],
      "source": [
        "%%script node\n",
        "\n",
        "const student = [\n",
        "  { key: 'name', value: 'John' },\n",
        "  { key: 'age', value: 30 },\n",
        "  { key: 'city', value: 'New York' }\n",
        "];\n",
        "\n",
        "const obj = student.reduce((accumulator, item) => {\n",
        "  accumulator[item.key] = item.value;\n",
        "  return accumulator;\n",
        "}, {});\n",
        "\n",
        "console.log (obj)"
      ]
    },
    {
      "cell_type": "markdown",
      "metadata": {},
      "source": [
        "### `every()` Metodu\n",
        "\n",
        "Bazen belirleyeceğimiz bir kriterin **tüm array elementleri** ile uyumlu olup/olmadığını kontrol etmek isteyebiliriz. Bu durumda `every()` metodunu kullanırız. Şayet array içerisindeki tüm elementler belirlediğimiz koşul ile uyuşursa `true` herhangi bir elementin belirlediğimiz koşul ile uyuşmaması durumunda `false` değeri geri döndürülür.\n",
        "\n",
        "`every()` metodunun 3 parametresi vardır:\n",
        "\n",
        "- Elementin değeri\n",
        "\n",
        "- Elementin index değeri\n",
        "\n",
        "- Array'ın kendisi\n",
        "\n",
        "**Örnek**\n"
      ]
    },
    {
      "cell_type": "code",
      "execution_count": 216,
      "metadata": {
        "vscode": {
          "languageId": "javascript"
        }
      },
      "outputs": [
        {
          "name": "stdout",
          "output_type": "stream",
          "text": [
            "\u001b[33mfalse\u001b[39m\n"
          ]
        }
      ],
      "source": [
        "%%script node\n",
        "\n",
        "const numbers = [2, 4, 6, 8];\n",
        "\n",
        "/** \n",
        " * Array içerisindeki tüm elementlerin 4'den büyük olması durumunda sonuç \n",
        " * true olarak döndürülecektir.\n",
        " * \n",
        " * every() metodu her bir element için metot çağırması (burada arrow metodu oluyor.) \n",
        " * sebebi ile callback function özelliği taşır.\n",
        " */\n",
        "const numbers2 = numbers.every(value => value > 4);\n",
        "\n",
        "console.log(numbers2);"
      ]
    },
    {
      "cell_type": "markdown",
      "metadata": {},
      "source": [
        "### `some()` Metodu\n",
        "\n",
        "Bazen belirleyeceğimiz bir kriterin **herhangi bir array elementi** ile uyumlu olup/olmadığını kontrol etmek isteyebiliriz. Bu durumda `some()` metodunu kullanırız. Şayet array içerisindeki herhangi bir element belirlediğimiz koşul ile uyuşursa sonuç `true` elementlerin tümü koşul ile uyuşmaması durumunda sonuç `false` değeri geri döndürülür.\n",
        "\n",
        "`some()` metodunun 3 parametresi vardır:\n",
        "\n",
        "- Elementin değeri\n",
        "\n",
        "- Elementin index değeri\n",
        "\n",
        "- Array'ın kendisi\n",
        "\n",
        "**Örnek**\n"
      ]
    },
    {
      "cell_type": "code",
      "execution_count": 8,
      "metadata": {
        "vscode": {
          "languageId": "javascript"
        }
      },
      "outputs": [
        {
          "name": "stdout",
          "output_type": "stream",
          "text": [
            "\u001b[33mtrue\u001b[39m\n"
          ]
        }
      ],
      "source": [
        "%%script node\n",
        "\n",
        "const numbers = [2, 4, 6, 8, 10];\n",
        "\n",
        "/** \n",
        " * Array içerisindeki herhangi bir elementin 4'den büyük olması durumunda sonuç \n",
        " * true olarak döndürülecektir.\n",
        " * \n",
        " * some() metodu her bir element için metot çağırması (burada arrow metodu oluyor.) \n",
        " * sebebi ile callback function özelliği taşır.\n",
        " */\n",
        "let numbers2 = numbers.some(value => value > 4);\n",
        "\n",
        "console.log(numbers2);"
      ]
    },
    {
      "cell_type": "markdown",
      "metadata": {},
      "source": [
        "### `indexOf()` Metodu\n",
        "\n",
        "Metot içerisinde kullanılan değerin array içerisindeki pozisyonunu geri dönderir.\n",
        "\n",
        "**Örnek**\n"
      ]
    },
    {
      "cell_type": "code",
      "execution_count": 218,
      "metadata": {
        "vscode": {
          "languageId": "javascript"
        }
      },
      "outputs": [
        {
          "name": "stdout",
          "output_type": "stream",
          "text": [
            "\u001b[33m2\u001b[39m\n"
          ]
        }
      ],
      "source": [
        "%%script node \n",
        "\n",
        "const cars = [\"Lada\", \"Tata\", \"BMW\", \"Mercedes\", \"Lexus\"];\n",
        "\n",
        "// BMW elementinin index değeri konsola yazdırılır.\n",
        "console.log(cars.indexOf(\"BMW\"));\n"
      ]
    },
    {
      "cell_type": "markdown",
      "metadata": {},
      "source": [
        "Şayet aranan değer array içerisinde bulunmazsa -1 değerini geri dönderir. Bu array içerisinde aranan değerini bulunamadığını ifade eder.\n",
        "\n",
        "**Örnek**\n"
      ]
    },
    {
      "cell_type": "code",
      "execution_count": 219,
      "metadata": {
        "vscode": {
          "languageId": "javascript"
        }
      },
      "outputs": [
        {
          "name": "stdout",
          "output_type": "stream",
          "text": [
            "\u001b[33m-1\u001b[39m\n"
          ]
        }
      ],
      "source": [
        "%%script node \n",
        "\n",
        "const cars = [\"Lada\", \"BMW\", \"Mercedes\", \"Lexus\"];\n",
        "\n",
        "// Array içerisinde Audi bulunmadığı için -1 değeri konsola yazdırılır.\n",
        "console.log(cars.indexOf(\"Audi\"));\n"
      ]
    },
    {
      "cell_type": "markdown",
      "metadata": {},
      "source": [
        "Aranan değer array içerisinden birden fazla yerde kullanılmışsa ilk değerin pozisyonu geri döndürülür.\n",
        "\n",
        "**💡 Eğer elementin array içerisinde tüm index'leri gerekiyorsa, `indexOf()` yerine `reduce()` veya `map()` gibi diğer metotları kullanmak daha uygun olabilir.**\n",
        "\n",
        "**Örnek**\n"
      ]
    },
    {
      "cell_type": "code",
      "execution_count": 220,
      "metadata": {
        "vscode": {
          "languageId": "javascript"
        }
      },
      "outputs": [
        {
          "name": "stdout",
          "output_type": "stream",
          "text": [
            "\u001b[33m0\u001b[39m\n"
          ]
        }
      ],
      "source": [
        "%%script node \n",
        "\n",
        "const cars = [\"Lada\", \"Lada\", \"BMW\", \"Mercedes\", \"Lexus\"];\n",
        "\n",
        "// Array içerisindeki ilk \"Lada\" değerinin pozisyonu konsola yazdırılır.\n",
        "console.log(cars.indexOf(\"Lada\"));\n"
      ]
    },
    {
      "cell_type": "markdown",
      "metadata": {},
      "source": [
        "### `lastIndexOf()` Metodu\n",
        "\n",
        "`indexOf()` metodu gibi çalışır aralarındaki fark şayet array içerisinde aynı elementten birden fazla varsa son elementin index değeri geri döndürülür.\n",
        "\n",
        "**Örnek**\n"
      ]
    },
    {
      "cell_type": "code",
      "execution_count": 221,
      "metadata": {
        "vscode": {
          "languageId": "javascript"
        }
      },
      "outputs": [
        {
          "name": "stdout",
          "output_type": "stream",
          "text": [
            "\u001b[33m4\u001b[39m\n"
          ]
        }
      ],
      "source": [
        "%%script node \n",
        "\n",
        "const cars = [\"Lada\", \"BMW\", \"Mercedes\", \"Lexus\",\"Lada\"];\n",
        "\n",
        "// Array içerisindeki son \"Lada\" değerinin pozisyonu konsola yazdırılır.\n",
        "console.log(cars.lastIndexOf(\"Lada\"));\n"
      ]
    },
    {
      "cell_type": "markdown",
      "metadata": {},
      "source": [
        "### `find()` Metodu\n",
        "\n",
        "Belirlediğimiz bir kritere göre array içerisindeki elementlerden kritere ilk uyan element üzerinde işlem yapmak isteyebiliriz bu durumda `find()` metodundan faydalanırız.\n",
        "\n",
        "**Örnek**\n"
      ]
    },
    {
      "cell_type": "code",
      "execution_count": 9,
      "metadata": {
        "vscode": {
          "languageId": "javascript"
        }
      },
      "outputs": [
        {
          "name": "stdout",
          "output_type": "stream",
          "text": [
            "\u001b[33m25\u001b[39m\n"
          ]
        }
      ],
      "source": [
        "%%script node\n",
        "\n",
        "const numbers = [4, 9, 16, 25, 29];\n",
        "\n",
        "// first değişkenin depolayacağı değer kriter ile uyuşan ilk array elementi olacaktır.\n",
        "let first = numbers.find(value => value > 18);\n",
        "\n",
        "console.log(first);"
      ]
    },
    {
      "cell_type": "markdown",
      "metadata": {},
      "source": [
        "### `findIndex()` Metodu\n",
        "\n",
        "Bazen belirlediğimiz kritere göre uyuşan ilk elementin index değerine ulaşmak isteyebiliriz. Bu durumda `findIndex()` metodunu kullanırız.\n",
        "\n",
        "**Örnek**\n"
      ]
    },
    {
      "cell_type": "code",
      "execution_count": 10,
      "metadata": {
        "vscode": {
          "languageId": "javascript"
        }
      },
      "outputs": [
        {
          "name": "stdout",
          "output_type": "stream",
          "text": [
            "\u001b[33m3\u001b[39m\n"
          ]
        }
      ],
      "source": [
        "%%script node\n",
        "\n",
        "const numbers = [4, 9, 16, 25, 29];\n",
        "\n",
        "/** \n",
        " * first değişkenin depolayacağı değer kriter ile uyuşan ilk array elementinin index \n",
        " * değeri olacaktır.\n",
        " */\n",
        "let first = numbers.findIndex(value => value > 18);\n",
        "\n",
        "console.log(first);"
      ]
    },
    {
      "cell_type": "markdown",
      "metadata": {},
      "source": [
        "### `Array.from()` Metodu\n",
        "\n",
        "Kullanılan parametrenin uzunluğuna ve içeriğine göre yeni bir array oluşturmak için kullanılır.\n",
        "\n",
        "**💡 Özellikle bir string değerin her karakterini array olarak kullanmak istediğimizde `from()` metodundan faydalanabiliriz.**\n",
        "\n",
        "**Aynı işlemi `...` (Spread) operatörü ile de gerçekleştirebiliriz.**\n",
        "\n",
        "**Örnek**\n"
      ]
    },
    {
      "cell_type": "code",
      "execution_count": 224,
      "metadata": {
        "vscode": {
          "languageId": "javascript"
        }
      },
      "outputs": [
        {
          "name": "stdout",
          "output_type": "stream",
          "text": [
            "[\n",
            "  \u001b[32m'L'\u001b[39m, \u001b[32m'i'\u001b[39m, \u001b[32m'n'\u001b[39m,\n",
            "  \u001b[32m' '\u001b[39m, \u001b[32m'W'\u001b[39m, \u001b[32m'a'\u001b[39m,\n",
            "  \u001b[32m'y'\u001b[39m, \u001b[32m'n'\u001b[39m, \u001b[32m'e'\u001b[39m\n",
            "]\n"
          ]
        }
      ],
      "source": [
        "%%script node\n",
        "\n",
        "console.log(Array.from(\"Lin Wayne\"));"
      ]
    },
    {
      "cell_type": "markdown",
      "metadata": {},
      "source": [
        "### `keys()` Metodu\n",
        "\n",
        "Bazen array içerisindeki index değerlerini yeni array içerisinde depolayarak kullanmak isteriz bu durumda `keys()` metodundan faydalanırız.\n",
        "\n",
        "**Örnek**\n"
      ]
    },
    {
      "cell_type": "code",
      "execution_count": 225,
      "metadata": {
        "vscode": {
          "languageId": "javascript"
        }
      },
      "outputs": [
        {
          "name": "stdout",
          "output_type": "stream",
          "text": [
            "[ \u001b[33m0\u001b[39m, \u001b[33m1\u001b[39m, \u001b[33m2\u001b[39m, \u001b[33m3\u001b[39m, \u001b[33m4\u001b[39m ]\n"
          ]
        }
      ],
      "source": [
        "%%script node\n",
        "\n",
        "const cars = [\"Lada\", \"Tata\", \"BMW\", \"Mercedes\", \"Lexus\"];\n",
        "\n",
        "/** \n",
        " * cars değişkenin içerisindeki elementlerin index değerleri array şeklinde oluşturulup \n",
        " * konsola yazdırılır.\n",
        " */\n",
        "console.log(Array.from(cars.keys()));\n"
      ]
    },
    {
      "cell_type": "markdown",
      "metadata": {},
      "source": [
        "### `entries()` Metodu\n",
        "\n",
        "`entries()` metodu, bir array içindeki her elementin (değer ve index çiftinin) bir dizi içinde bulunduğu bir array nesnesi döndürür. Bu yöntem, bir array içindeki her bir elementin hem değeri hem de index'i (anahtarı) ile birlikte kullanılmasını sağlar.\n",
        "\n",
        "**Örnek**\n"
      ]
    },
    {
      "cell_type": "code",
      "execution_count": 226,
      "metadata": {
        "vscode": {
          "languageId": "javascript"
        }
      },
      "outputs": [
        {
          "name": "stdout",
          "output_type": "stream",
          "text": [
            "[ \u001b[33m0\u001b[39m, \u001b[32m'Lada'\u001b[39m ]\n",
            "[ \u001b[33m1\u001b[39m, \u001b[32m'Tata'\u001b[39m ]\n",
            "[ \u001b[33m2\u001b[39m, \u001b[32m'BMW'\u001b[39m ]\n",
            "[ \u001b[33m3\u001b[39m, \u001b[32m'Mercedes'\u001b[39m ]\n",
            "[ \u001b[33m4\u001b[39m, \u001b[32m'Lexus'\u001b[39m ]\n"
          ]
        }
      ],
      "source": [
        "%%script node\n",
        "\n",
        "const cars = [\"Lada\", \"Tata\", \"BMW\", \"Mercedes\", \"Lexus\"];\n",
        "\n",
        "const entries = cars.entries();\n",
        "\n",
        "/** \n",
        " * Döngü yardımıyla cars değişkenin elementlerini ve index değerlerini konsola \n",
        " * yazdırıyoruz.\n",
        " */\n",
        "for (const entry of entries) {\n",
        "  console.log(entry);\n",
        "}"
      ]
    },
    {
      "cell_type": "markdown",
      "metadata": {},
      "source": [
        "### `includes()` Metodu\n",
        "\n",
        "Bazen bir değerin array içerisinde **tam olarak uyuşup/uyuşmadığını** merak edebiliriz. Bu durumda `includes()` metodunu kullanırız. Şayet metot içerisinde kullandığımız parametre ile array elementleri arasında tam bir uyuşma varsa sonuç `true` yoksa `false` olarak geri döndürülür.\n",
        "\n",
        "`indexOf()` metodunun aksine `includes()` metodu `NaN` değerleri de kontrol eder.\n",
        "\n",
        "**Örnek**\n"
      ]
    },
    {
      "cell_type": "code",
      "execution_count": 11,
      "metadata": {
        "vscode": {
          "languageId": "javascript"
        }
      },
      "outputs": [
        {
          "name": "stdout",
          "output_type": "stream",
          "text": [
            "\u001b[33mtrue\u001b[39m\n",
            "\u001b[33mfalse\u001b[39m\n"
          ]
        }
      ],
      "source": [
        "%%script node\n",
        "\n",
        "const personalNames = [\"Ahmet\", \"Mehmet\", \"Can\"];\n",
        "\n",
        "/** \n",
        " * \"Ahmet\" değeri array elementleri arasında olduğu için sonuç true olarak geri \n",
        " * döndürülür.\n",
        " */ \n",
        "console.log(personalNames.includes(\"Ahmet\"));\n",
        "\n",
        "/** \n",
        " * \"Meh\" değeri array elementleri arasında olduğu için sonuç false olarak geri \n",
        " * döndürülür.\n",
        " */\n",
        "console.log(personalNames.includes(\"Meh\"))"
      ]
    },
    {
      "cell_type": "markdown",
      "metadata": {},
      "source": [
        "### `length` Property Kullanımı\n",
        "\n",
        "`length` property'si array özellikli bir değişkenin uzunluğunu sayısal olarak geri döndürür.\n",
        "\n",
        "Hatırlarsa bu property daha önce array özellikli bir değişkene element eklemek için kullanmıştık.\n",
        "\n",
        "**Örnek**\n"
      ]
    },
    {
      "cell_type": "code",
      "execution_count": 228,
      "metadata": {
        "vscode": {
          "languageId": "javascript"
        }
      },
      "outputs": [
        {
          "name": "stdout",
          "output_type": "stream",
          "text": [
            "\u001b[33m3\u001b[39m\n",
            "[ \u001b[32m'Lada'\u001b[39m, \u001b[32m'Tata'\u001b[39m, \u001b[32m'BMW'\u001b[39m, \u001b[32m'Mercedes'\u001b[39m ]\n"
          ]
        }
      ],
      "source": [
        "%%script node\n",
        "\n",
        "const cars = [\"Lada\", \"Tata\", \"BMW\"];\n",
        "\n",
        "// Array özellikli cars değişkeninin uzunluğunu konsola yazdırır.\n",
        "console.log(cars.length);\n",
        "\n",
        "/** \n",
        " * cars değişkenine Mercedes elementini ekliyoruz.\n",
        " * Eklenen element değişken içerisinde en sona yerleştirilecektir.\n",
        " */\n",
        "cars[cars.length] = \"Mercedes\";\n",
        "\n",
        "/** \n",
        " * Yeni değer ekledikten sonra cars değişkeninin depoladığı \n",
        " * elementleri konsola yazdırıyoruz.\n",
        " */\n",
        "console.log(cars);"
      ]
    }
  ],
  "metadata": {
    "kernelspec": {
      "display_name": "Python 3 (ipykernel)",
      "language": "python",
      "name": "python3"
    },
    "language_info": {
      "codemirror_mode": {
        "name": "ipython",
        "version": 3
      },
      "file_extension": ".py",
      "mimetype": "text/x-python",
      "name": "python",
      "nbconvert_exporter": "python",
      "pygments_lexer": "ipython3",
      "version": "3.10.12"
    }
  },
  "nbformat": 4,
  "nbformat_minor": 2
}
