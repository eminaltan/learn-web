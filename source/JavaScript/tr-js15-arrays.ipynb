{
  "cells": [
    {
      "cell_type": "markdown",
      "metadata": {},
      "source": [
        "# JavaScript'te Diziler<a id='toc0_'></a>\n",
        "\n",
        "Merhaba arkadaşlar serinin bu bölümünde JavaScript'te **_dizileri (arrays)_** kavramını inceleyeceğiz.\n",
        "\n",
        "Yazıda:\n",
        "\n",
        "- [JavaScript Dizi Veri Türü](#toc1_1_)\n",
        "- [JavaScript Dizi Veri Türünde Değişken Oluşturma Yöntemleri](#toc1_2_)\n",
        "  - [Nesne Türündeki Dizi Veri Türleri](#toc1_2_1_)\n",
        "- [JavaScript Dizi Türündeki Değişkene Yeni Elementler Eklenmesi](#toc1_3_)\n",
        "- [JavaScript'te Associative Özelliği](#toc1_4_)\n",
        "- [JavaScript Dizi Metotları, Operatörleri ve Property'leri](#toc1_5_)\n",
        "  - [`Array.isArray` Metodu](#toc1_5_1_)\n",
        "  - [`Instanceof` Operatörü](#toc1_5_2_)\n",
        "  - [`delete` Operatörü](#toc1_5_3_)\n",
        "  - [`...` (Spread) Operatörü](#toc1_5_4_)\n",
        "    - [Değişkenlerin Birleştirilmesinde](#toc1_5_4_1_)\n",
        "  - [Kopyalama İşlemlerinde](#toc1_5_5_)\n",
        "  - [İçeriği Genişletme İşlemlerinde](#toc1_5_6_)\n",
        "  - [İfadeyi Parçalara Ayırmada](#toc1_5_7_)\n",
        "  - [Metot İçerisinde Parametre Olarak Kullanılması](#toc1_5_8_)\n",
        "  - [Destructuring İşlemlerinde](#toc1_5_9_)\n",
        "  - [NodeList İçeriğini Dizi Haline Dönüştürmede](#toc1_5_10_)\n",
        "  - [`toString()` Metodu](#toc1_5_11_)\n",
        "  - [`join()` Metodu](#toc1_5_12_)\n",
        "  - [`pop()` Metodu](#toc1_5_13_)\n",
        "  - [`push()` Metodu](#toc1_5_14_)\n",
        "  - [`shift()` Metodu](#toc1_5_15_)\n",
        "  - [`unshift()` Metodu](#toc1_5_16_)\n",
        "  - [`concat()` Metodu](#toc1_5_17_)\n",
        "  - [`splice()` Metodu](#toc1_5_18_)\n",
        "  - [`slice()` Metodu](#toc1_5_19_)\n",
        "  - [`sort()` Metodu](#toc1_5_20_)\n",
        "  - [`sort()` Metodu İçinde Compare Metotlarının Kullanılması](#toc1_5_21_)\n",
        "  - [`reverse()` Metodu](#toc1_5_22_)\n",
        "  - [`forEach()` Metodu](#toc1_5_23_)\n",
        "  - [`map()` Metodu](#toc1_5_24_)\n",
        "  - [`flatMap()` Metodu](#toc1_5_25_)\n",
        "  - [`filter()` Metodu](#toc1_5_26_)\n",
        "  - [`reduce()` Metodu](#toc1_5_27_)\n",
        "  - [`every()` Metodu](#toc1_5_28_)\n",
        "  - [`some()` Metodu](#toc1_5_29_)\n",
        "  - [`indexOf()` Metodu](#toc1_5_30_)\n",
        "  - [`lastIndexOf()` Metodu](#toc1_5_31_)\n",
        "  - [`find()` Metodu](#toc1_5_32_)\n",
        "  - [`findIndex()` Metodu](#toc1_5_33_)\n",
        "  - [`Array.from()` Metodu](#toc1_5_34_)\n",
        "  - [`keys()` Metodu](#toc1_5_35_)\n",
        "  - [`entries()` Metodu](#toc1_5_36_)\n",
        "  - [`includes()` Metodu](#toc1_5_37_)\n",
        "  - [`length` Property Kullanımı](#toc1_5_38_)\n",
        "- [Özet](#toc1_6_)\n",
        "\n",
        "Değineceğim.\n",
        "\n",
        "İyi okumalar dilerim.\n",
        "\n",
        "If you want to read English version of this article please visit [this link](js15-arrays.ipynb)\n",
        "\n",
        "<!-- vscode-jupyter-toc-config\n",
        "\tnumbering=false\n",
        "\tanchor=true\n",
        "\tflat=false\n",
        "\tminLevel=1\n",
        "\tmaxLevel=6\n",
        "\t/vscode-jupyter-toc-config -->\n",
        "<!-- THIS CELL WILL BE REPLACED ON TOC UPDATE. DO NOT WRITE YOUR TEXT IN THIS CELL -->\n"
      ]
    },
    {
      "cell_type": "markdown",
      "metadata": {},
      "source": [
        "## <a id='toc1_1_'></a>[JavaScript Dizi Veri Türü](#toc0_)\n",
        "\n",
        "Veri türü dizi olan bir değişken koleksiyon şeklinde verileri gruplandırarak depolar. Bu bağlamda depolanan değerlerin organize edilerek kullanılmasını sağlayan veri türlerinden biridir. Özellikle veri koleksiyonu içerisinde gezinmemizi ve işlemler yapmamızı kolaylaştırır.\n",
        "\n",
        "Aklımıza oturması için muspet bir örnek verelim. JavaScript'te değişken olarak tanımlanmış bir kaç tane araba markası olduğunu ve bu araba markalarını bir dosyaya kayıt etmek istediğimiz düşünelim. Her bir araba markası için ayrı ayrı işlem yapmak durumundayız. 3 veya 4 tane araba için bu durum belki sorun teşkil etmez. Fakat 400 tane araba için aynı işlemi yapmak hem zaman hem de emek ister. Bu durumda dizi veri türü yardımımıza yetişir. Dizi veri türlerini JavaScript döngüleri ile birlikte kullanarak bu tarz işlemleri kolaylıkla çözebiliriz.\n",
        "\n",
        "Konuyu detaylandırmadan önce aşağıdaki örnek üzerinden bir takım temel kavramlara yer verelim.\n",
        "\n",
        "**Örnek**\n",
        "\n",
        "```javascript\n",
        "const cars = [\"Lada\", \"Opel\", \"BMW\"];\n",
        "```\n",
        "\n",
        "Bir dizi oluşturmak için genelde `[]` işaretini kullanırız. Değerler `[]` işaretleri arasına depolanır. Bu değerlere **_element_** adı verilir. Yukarıdaki örnek üzerinden gidersek `Lada` değeri bir element özelliği taşır. Elementler birbirlerinden `,` işareti ile ayrılırlar.\n",
        "\n",
        "**❗ Dizinin elementlerine genelde index değeri ile ulaşır ve işlem yapılır. Bir dizi içerisinde index değeri daima 0'dan başlar. Örneğin `cars` değişkeni içerisindeki `Lada` elementine ulaşmak istiyorsak `cars[0]` şeklinde syntax kullanmamız gerekir.**\n",
        "\n",
        "**Örnek**\n"
      ]
    },
    {
      "cell_type": "code",
      "execution_count": 61,
      "metadata": {
        "vscode": {
          "languageId": "javascript"
        }
      },
      "outputs": [
        {
          "name": "stdout",
          "output_type": "stream",
          "text": [
            "Dizinin ilk elementi: Lada\n"
          ]
        }
      ],
      "source": [
        "%%script node\n",
        "\n",
        "const cars = [\"Lada\", \"Opel\", \"BMW\"];\n",
        "\n",
        "/** \n",
        " * cars dizisi içerisindeki 0 numaralı index değerine sahip elemente ulaşıyoruz. Lada, 0 numaralı index değerine \n",
        " * sahiptir.\n",
        " */\n",
        "console.log(`Dizinin ilk elementi: ${cars[0]}`);\n"
      ]
    },
    {
      "cell_type": "markdown",
      "metadata": {},
      "source": [
        "Dizi veri türü özel nitelikli object veri tipine sahiptir. Bunun anlamı dizi özellikli bir değişken farklı veri türlerini bir arada barındırabilir.\n",
        "\n",
        "**Örnek**\n"
      ]
    },
    {
      "cell_type": "code",
      "execution_count": 62,
      "metadata": {
        "vscode": {
          "languageId": "javascript"
        }
      },
      "outputs": [
        {
          "name": "stdout",
          "output_type": "stream",
          "text": [
            "Dizinin ilk elementi: 1707159258238\n",
            "Kart numarası: 10 Telefon numarası: 115\n",
            "Dizinin 3.elementi: Mustafa\n",
            "personal değişkenin veri tipi: object\n"
          ]
        }
      ],
      "source": [
        "%%script node\n",
        "\n",
        "/** \n",
        " * Örnekte gördüğümüz gibi dizi özellikli personal değişkeni zaman, nesne ve bir string şeklinde farklı veri \n",
        " * türlerini barındırır.\n",
        " */\n",
        "const personal = [Date.now(), privateInformation = { cardNumber: 10, phoneNumber:115}, \"Mustafa\"];\n",
        "\n",
        "/** \n",
        " * Date nesnesinin now() fonksiyonu çağırdık ve elde ettiğimiz zaman değerini mili saniye olarak konsola \n",
        " * yazdırdık.\n",
        " */\n",
        "console.log(`Dizinin ilk elementi: ${personal[0]}`);\n",
        "\n",
        "// privateInformation adında bir nesnenin içeriğini konsola yazdırıyoruz.\n",
        "console.log(`Kart numarası: ${personal[1].cardNumber} Telefon numarası: ${personal[1].phoneNumber}`);\n",
        "\n",
        "// Dizi içerisindeki Mustafa değerine ulaşıyoruz.\n",
        "console.log(`Dizinin 3.elementi: ${personal[2]}`);\n",
        "\n",
        "// personal değişkeninin veri türü object'dir.\n",
        "console.log(`personal değişkenin veri tipi: ${typeof personal}`);\n"
      ]
    },
    {
      "cell_type": "markdown",
      "metadata": {},
      "source": [
        "## <a id='toc1_2_'></a>[JavaScript Dizi Veri Türünde Değişken Oluşturma Yöntemleri](#toc0_)\n",
        "\n",
        "**Dizi veri türünde bir değişken oluşturmak için 2 yöntemden biri kullanılır:**\n",
        "\n",
        "- Literal yöntemi ile.\n",
        "\n",
        "- Nesne türünde dizi tanımlayarak.\n",
        "\n",
        "Konuya giriş yaparken ilk yönteme yani literal yöntemiyle dizi özellikli bir değişken oluşturmaya değinmiş olduk Şimdi de nesne şeklinde dizi veri türü özellikli bir değişken oluşturmaya değinelim.\n"
      ]
    },
    {
      "cell_type": "markdown",
      "metadata": {},
      "source": [
        "### <a id='toc1_2_1_'></a>[Nesne Türündeki Dizi Veri Türleri](#toc0_)\n",
        "\n",
        "`new Array()` constructor metodunu kullanılarak nesne şeklinde dizi veri türünde bir değişken oluşturabiliriz.\n",
        "\n",
        "**⚠️ `new Array()` metodu kullanılarak oluşturulan değişken ile literal yöntem kullanılarak oluşturulan değişkeninin veri tipi aynıdır. İkisi de object veri tipine sahiptir.**\n",
        "\n",
        "**Örnek**\n"
      ]
    },
    {
      "cell_type": "code",
      "execution_count": 63,
      "metadata": {
        "vscode": {
          "languageId": "javascript"
        }
      },
      "outputs": [
        {
          "name": "stdout",
          "output_type": "stream",
          "text": [
            "cars değişkeninin elementleri: Lada,Tata,Fiat\n",
            "\n",
            "cars değişkeninin veri tipi: object \n",
            "cars2 değişkeninin veri tipi: object\n"
          ]
        }
      ],
      "source": [
        "%%script node\n",
        "\n",
        "/**\n",
        " * new Array() metodu kullanılarak nesne türünde dizi oluşturulur. Bu arada new Array() metodu constructor \n",
        " * olarak ifade edilir.\n",
        " */\n",
        "const cars = new Array(\"Lada\", \"Tata\", \"Fiat\");\n",
        "const cars2 = [\"Lada\", \"Tata\", \"Fiat\"];\n",
        "\n",
        "console.log(`cars değişkeninin elementleri: ${cars}`);\n",
        "\n",
        "// Konsola object ifadesi yazdırılacaktır. Her iki değişkenin veri tipi de object'dir.\n",
        "console.log(`\n",
        "cars değişkeninin veri tipi: ${typeof cars} \n",
        "cars2 değişkeninin veri tipi: ${typeof cars2}`\n",
        ");\n",
        "\n"
      ]
    },
    {
      "cell_type": "markdown",
      "metadata": {},
      "source": [
        "Yukarıdaki örnekte göreceğimiz gibi `cars` dizi veri türündeki değişkenin içeriği `Lada`, `Tata` ve `Fiat` string değerlerinden oluşuyor.\n",
        "\n",
        "**💡 Aklınıza \"Hangi durumda literal hangi durumda nesne şeklinde dizi veri türü özellikli bir değişken tanımlamalıyım?\" şeklinde bir soru gelebilir. Bu durumda değişkene ait elementler string değerlerden oluşuyorsa nesne türündeki yaklaşımı, şayet değişkenin elementleri sayısal değerlerden oluşuyorsa literal yaklaşımını kullanarak dizi veri türünde değişken tanımlayabiliriz.**\n"
      ]
    },
    {
      "cell_type": "markdown",
      "metadata": {},
      "source": [
        "## <a id='toc1_3_'></a>[JavaScript Dizi Türündeki Değişkene Yeni Elementler Eklenmesi](#toc0_)\n",
        "\n",
        "**Dizi özellikli bir değişkene 3 yöntemden birini kullanarak yeni bir element ekleyebiliriz:**\n",
        "\n",
        "- `push()` metodunu kullanarak.\n",
        "\n",
        "- Index değerini kullanarak.\n",
        "\n",
        "- `length` property'sini kullanarak.\n",
        "\n",
        "**Örnek**\n"
      ]
    },
    {
      "cell_type": "code",
      "execution_count": 64,
      "metadata": {
        "vscode": {
          "languageId": "javascript"
        }
      },
      "outputs": [
        {
          "name": "stdout",
          "output_type": "stream",
          "text": [
            "Dizinin 4.elementi: Elma suyu\n",
            "Dizinin içeriği: Çay,Kahve,Portakal suyu,Elma suyu\n"
          ]
        }
      ],
      "source": [
        "%%script node\n",
        "\n",
        "const drinks = [\"Çay\", \"Kahve\", \"Portakal suyu\"];\n",
        "\n",
        "/** \n",
        " * drinks dizi özellikli değişkenine yeni bir element ekliyoruz. Element, dizi içerisinde en sona yerleştirilir. \n",
        " * Bu durumda Portakal suyundan sonra Elma suyu gelecektir.\n",
        " */ \n",
        "drinks.push(\"Elma suyu\");\n",
        "\n",
        "// 3.index değeri 4.elemente yani Elma suyuna denk gelir.\n",
        "console.log(`Dizinin 4.elementi: ${drinks[3]}`);\n",
        "\n",
        "// ⚠️ Dizinin son elementinin Elma suyu olduğuna dikkat edelim.\n",
        "console.log(`Dizinin içeriği: ${drinks}`);"
      ]
    },
    {
      "cell_type": "markdown",
      "metadata": {},
      "source": [
        "Aşağıda ise index numarasını kullanarak dizi özellikli değişkenin içerisine element ekliyoruz.\n",
        "\n",
        "Dizi veri türüne sahip bir değişken aşağıdaki gibi boş tanımlanabilir. Genelde bu yöntem sonradan içeriği doldurulması düşünülen durumlarda kullanılır.\n",
        "\n",
        "**Örnek**\n"
      ]
    },
    {
      "cell_type": "code",
      "execution_count": 65,
      "metadata": {
        "vscode": {
          "languageId": "javascript"
        }
      },
      "outputs": [
        {
          "name": "stdout",
          "output_type": "stream",
          "text": [
            "Dizinin ilk elementi: Lada\n"
          ]
        }
      ],
      "source": [
        "%%script node\n",
        "\n",
        "// Dizi özellikli değişkenin elementleri olmayabilir.\n",
        "const cars = [];\n",
        "\n",
        "// cars değişkeni içerisine 0.indeks numarası ile 1.elementine ulaşıp Lada string değerini depoluyoruz.\n",
        "cars[0] = \"Lada\";\n",
        "\n",
        "// Konsola Lada ifadesi yazdırılacaktır.\n",
        "console.log(`Dizinin ilk elementi: ${cars[0]}`);\n"
      ]
    },
    {
      "cell_type": "markdown",
      "metadata": {},
      "source": [
        "**❗ Yeni bir değer depolama işleminde element sayısı göz önünde bulundurulmadan verilen index değeri dizi içerisinde boşluklara neden olacaktır. Bu sebeple yeni değer depolanırken değişken içerisindeki depolanmış element sayısına göre index değeri belirlenmesi tavsiye edilir.**\n",
        "\n",
        "**Örnek**\n"
      ]
    },
    {
      "cell_type": "code",
      "execution_count": 66,
      "metadata": {
        "vscode": {
          "languageId": "javascript"
        }
      },
      "outputs": [
        {
          "name": "stdout",
          "output_type": "stream",
          "text": [
            "[ \u001b[32m'BMW'\u001b[39m, \u001b[32m'Saab'\u001b[39m, \u001b[32m'Fiat'\u001b[39m, \u001b[90m<7 empty items>\u001b[39m, \u001b[32m'Ford'\u001b[39m ]\n"
          ]
        }
      ],
      "source": [
        "%%script node\n",
        "\n",
        "const cars = [\"BMW\", \"Saab\", \"Fiat\"];\n",
        "\n",
        "// cars referansının 10.indeksine ulaşıyor ve Ford değerini depoluyoruz.\n",
        "cars[10] = \"Ford\";\n",
        "\n",
        "// Yani arada 6 tane boş index ve element oluşturmuş olduk.\n",
        "console.log(cars);\n"
      ]
    },
    {
      "cell_type": "markdown",
      "metadata": {},
      "source": [
        "Aşağıda `length` property'sini kullanarak dizi veri türündeki bir değişkene yeni bir element ekliyoruz.\n",
        "\n",
        "**Örnek**\n"
      ]
    },
    {
      "cell_type": "code",
      "execution_count": 67,
      "metadata": {
        "vscode": {
          "languageId": "javascript"
        }
      },
      "outputs": [
        {
          "name": "stdout",
          "output_type": "stream",
          "text": [
            "Dizinin 4.elementi: Mercedes\n",
            "Dizinin içeriği: Lada,Tata,BMW,Mercedes\n"
          ]
        }
      ],
      "source": [
        "%%script node\n",
        "\n",
        "const cars = [\"Lada\", \"Tata\", \"BMW\"];\n",
        "\n",
        "// length property'sini kullanarak dizi türündeki değişkenin sonuna yeni bir element ekliyoruz.\n",
        "cars[cars.length] = \"Mercedes\";\n",
        "\n",
        "// Değişkenin 3.index değeri dizi içerisinde 4.elemente denk gelecektir.\n",
        "console.log(`Dizinin 4.elementi: ${cars[3]}`);\n",
        "\n",
        "console.log(`Dizinin içeriği: ${cars}`);"
      ]
    },
    {
      "cell_type": "markdown",
      "metadata": {},
      "source": [
        "## <a id='toc1_4_'></a>[JavaScript'te Associative Özelliği](#toc0_)\n",
        "\n",
        "Normalde JavaScript'te associative özelliği bulunmaz. Bunun anlamı normal şartlarda dizi özellikli değişken içerisinde depolanan bir değere ulaşmak için index numarası yerine string bir ifade kullanamayız. Dizi özellikli bir değişkenin depoladığı değerlere **index** numarası ile ulaşırız.\n",
        "\n",
        "Ancak nesne türünde tanımlanmış bir değişkende associative özelliğini kullanabilir.\n",
        "\n",
        "**Örnek**\n"
      ]
    },
    {
      "cell_type": "code",
      "execution_count": 68,
      "metadata": {
        "vscode": {
          "languageId": "javascript"
        }
      },
      "outputs": [
        {
          "name": "stdout",
          "output_type": "stream",
          "text": [
            "person değişkenin içeriği: John\n"
          ]
        }
      ],
      "source": [
        "%%script node\n",
        "\n",
        "const person = new Array();\n",
        "\n",
        "// Associative index örneği. firstName, isimlendirilmiş index olarak ifade edilir.\n",
        "person[\"firstName\"] = \"John\";\n",
        "\n",
        "console.log(`person değişkenin içeriği: ${person[\"firstName\"]}`);"
      ]
    },
    {
      "cell_type": "markdown",
      "metadata": {},
      "source": [
        "**❗Şayet index numarası yerine bir string ifade kullanırsak JavaScript bu değişkeni nesne türünde dizi özellikli bir değişken olarak yorumlar.**\n",
        "\n",
        "**Örnek**\n"
      ]
    },
    {
      "cell_type": "code",
      "execution_count": 69,
      "metadata": {
        "vscode": {
          "languageId": "javascript"
        }
      },
      "outputs": [
        {
          "name": "stdout",
          "output_type": "stream",
          "text": [
            "person değişkenin içeriği: John\n"
          ]
        }
      ],
      "source": [
        "%%script node\n",
        "\n",
        "// Dizi türünde boş bir değişken tanımlıyoruz.\n",
        "const person = [];\n",
        "\n",
        "/**\n",
        " * Bu durumda person değişkeni nesne özellikli dizi veri türü halini alır. firstName, isimlendirilmiş index \n",
        " * olarak ifade edilir.\n",
        "*/\n",
        "person[\"firstName\"] = \"John\";\n",
        "\n",
        "console.log(`person değişkenin içeriği: ${person[\"firstName\"]}`);\n"
      ]
    },
    {
      "cell_type": "markdown",
      "metadata": {},
      "source": [
        "**❗ Yeri gelmişken `new Array()` constructor metodunu kullanarak oluşturduğumuz nesne türündeki dizi özellikli değişkenler kod bloklarının yavaş çalışmasına neden olacağı için kullanılması tavsiye edilmez. Basitlik, okunabilirlik ve kod bloklarının hızlı çalışması için literal yöntemle oluşturulan dizi özellikli değişkenlerin kullanılması tavsiye edilir.**\n",
        "\n",
        "**Ayrıca `new Array()` metodu kullanılarak oluşturulan nesne türündeki dizi özellikli değişkenler bir takım sorunlara neden olabilir.**\n",
        "\n",
        "**Örnek**\n"
      ]
    },
    {
      "cell_type": "code",
      "execution_count": 70,
      "metadata": {
        "vscode": {
          "languageId": "javascript"
        }
      },
      "outputs": [
        {
          "name": "stdout",
          "output_type": "stream",
          "text": [
            "numbers değişkeninin içeriği: 40\n",
            "\n",
            "numbers2 değişkeninin içeriği: ,,,,,,,,,,,,,,,,,,,,,,,,,,,,,,,,,,,,,,, \n",
            "numbers2 değişkeninin element sayısı: 40\n",
            "\n"
          ]
        }
      ],
      "source": [
        "%%script node\n",
        "\n",
        "const numbers = [40];\n",
        "const numbers2 = new Array(40);\n",
        "\n",
        "console.log(`numbers değişkeninin içeriği: ${numbers}`);\n",
        "\n",
        "/** \n",
        " * numbers 40 değerini tutarken new Array() metodu ile oluşturduğumuz numbers2 değişkeni 40 tane \",\" işareti \n",
        " * üretecektir.\n",
        "*/\n",
        "console.log(`\n",
        "numbers2 değişkeninin içeriği: ${numbers2} \n",
        "numbers2 değişkeninin element sayısı: ${numbers2.length}\n",
        "`);\n"
      ]
    },
    {
      "cell_type": "markdown",
      "metadata": {},
      "source": [
        "Aşağıdaki örnekte `person` adında boş bir değişken oluşturup içeriğini dolduruyoruz. `length()` metodu ile dizi içeriğin kaç tane elementten oluştuğunu konsola yazdırmak istediğimizde elde edeceğimiz değer 0 olacaktır.\n",
        "\n",
        "**Örnek**\n"
      ]
    },
    {
      "cell_type": "code",
      "execution_count": 71,
      "metadata": {
        "vscode": {
          "languageId": "javascript"
        }
      },
      "outputs": [
        {
          "name": "stdout",
          "output_type": "stream",
          "text": [
            "person değişkenin element sayısı: 0\n",
            "person değişkeninin ilk elementi: undefined\n"
          ]
        }
      ],
      "source": [
        "%%script node\n",
        "\n",
        "const person = [];\n",
        "person[\"firstName\"] = \"Hasan\";\n",
        "person[\"lastName\"] = \"Bakıcı\";\n",
        "person[\"age\"] = 39;\n",
        "\n",
        "// person değişkenin kaç tane elementten oluştuğunu konsola yazdıralım.\n",
        "console.log(`person değişkenin element sayısı: ${person.length}`);\n",
        "\n",
        "// person değişkeninin 0.index değerine denk gelen elementi konsola yazdıralım. Dönen değer undefined olacaktır.\n",
        "console.log(`person değişkeninin ilk elementi: ${person[0]}`);\n"
      ]
    },
    {
      "cell_type": "markdown",
      "metadata": {},
      "source": [
        "Yukarıdaki örneği literal yöntemini kullanarak gerçekleştirelim.\n",
        "\n",
        "**Örnek**\n"
      ]
    },
    {
      "cell_type": "code",
      "execution_count": 72,
      "metadata": {
        "vscode": {
          "languageId": "javascript"
        }
      },
      "outputs": [
        {
          "name": "stdout",
          "output_type": "stream",
          "text": [
            "person değişkenin element sayısı: 3\n",
            "person değişkeninin ilk elementi: Hasan\n"
          ]
        }
      ],
      "source": [
        "%%script node\n",
        "\n",
        "const person = [];\n",
        "person[0] = \"Hasan\";\n",
        "person[1] = \"Bakıcı\";\n",
        "person[2] = 39;\n",
        "\n",
        "// person değişkenin kaç tane elementten oluştuğunu konsola yazdıralım.\n",
        "console.log(`person değişkenin element sayısı: ${person.length}`);\n",
        "\n",
        "// person değişkeninin 0.index değerine denk gelen elementi konsola yazdıralım. Dönen değer \"Hasan\" olacaktır.\n",
        "console.log(`person değişkeninin ilk elementi: ${person[0]}`);\n"
      ]
    },
    {
      "cell_type": "markdown",
      "metadata": {},
      "source": [
        "Yukarıda görüleceği üzere literal yöntemi ile oluşturulan dizi özellikli bir değişkene ait elementlerin değerlerini listeleyebiliyor ve metotları kullanabiliyoruz.\n",
        "\n",
        "**⚠️ Görüleceği üzere literal yöntemle oluşturulan dizilerde elementlere erişim index numaraları ile yapılırken nesne özellikli dizilerde elementlere erişim isimlendirilmiş bir index ile sağlanmaktadır. Bu kullanım yöntemi iki tür arasındaki en büyük farkı oluşturur.**\n",
        "\n",
        "**❗Nesne özellikli bir dizide isimlendirmiş index yöntemini key olarak kullanıp key'e denk gelen değere ulaşabiliriz.**\n",
        "\n",
        "**Örnek**\n"
      ]
    },
    {
      "cell_type": "code",
      "execution_count": 73,
      "metadata": {
        "vscode": {
          "languageId": "javascript"
        }
      },
      "outputs": [
        {
          "name": "stdout",
          "output_type": "stream",
          "text": [
            "firstName key'ine denk gelen değer: Emin\n"
          ]
        }
      ],
      "source": [
        "%%script node\n",
        "\n",
        "const person = { firstName: \"Emin\", lastName: \"Altan\" };\n",
        "\n",
        "/** \n",
        " * Dizi içerisinde firstName isimlendirilmiş index değerini kullanarak person nesnesindeki firstName key'ine ait \n",
        " * değere ulaşmış olduk.\n",
        " */ \n",
        "console.log(`firstName key'ine denk gelen değer: ${person[\"firstName\"]}`);"
      ]
    },
    {
      "cell_type": "markdown",
      "metadata": {},
      "source": [
        "**⚠️ Burada şöyle bir soru aklımıza gelebilir. \"İsimlendirilmiş index'i hem dizi veri türüne sahip değişkenlerde hem de nesne veri türüne sahip değişkenlerde birlikte kullanabiliyoruz. Bu durumda bir değişkenin dizi mi yoksa nesne mi olup/olmadığını nasıl anlayacağız?\"**\n",
        "\n",
        "**İsimlendirilmiş index kullanan bir değişkenin dizi veya nesne olup/olmadığını sınamanın en etkin yolu `Array.isArray()` metodunu kullanmaktır. Buna ek olarak `Instanceof` operatörü de kullanılabilir.**\n"
      ]
    },
    {
      "cell_type": "markdown",
      "metadata": {},
      "source": [
        "## <a id='toc1_5_'></a>[JavaScript Dizi Metotları, Operatörleri ve Property'leri](#toc0_)\n"
      ]
    },
    {
      "cell_type": "markdown",
      "metadata": {},
      "source": [
        "### <a id='toc1_5_1_'></a>[`Array.isArray` Metodu](#toc0_)\n",
        "\n",
        "Bir değişkenin dizi veri türünde olup/olmadığını öğrenmek için kullanılan metottur. Eğer değişken dizi veri türünde ise sonuç olarak `true`, değilse `false` değerini geri döndürür.\n",
        "\n",
        "`Array.isArray()` metodu ECMAScript 5 (JavaScript 2009) ile JavaScript'e dahil edilmiştir.\n",
        "\n",
        "**Örnek**\n"
      ]
    },
    {
      "cell_type": "code",
      "execution_count": 74,
      "metadata": {
        "vscode": {
          "languageId": "javascript"
        }
      },
      "outputs": [
        {
          "name": "stdout",
          "output_type": "stream",
          "text": [
            "\n",
            "student[\"firstName\"] ifadesinin içeriği: Murat\n",
            "person[\"firstName\"] ifadesinin içeriği: Emin\n",
            "\n",
            "\n",
            "student dizi özellikli bir değişken midir?: true\n",
            "person dizi özellikli bir değişken midir?: false\n",
            "\n"
          ]
        }
      ],
      "source": [
        "%%script node\n",
        "\n",
        "const student = [];\n",
        "const person = { firstName: \"Emin\", lastName: \"Altan\" };\n",
        "\n",
        "/** \n",
        " * İsimlendirilmiş index (firstName) kullanmamız sebebiyle student değişkeni nesne türünde dizi özelliğine sahip \n",
        " * olacaktır.\n",
        " */\n",
        "student[\"firstName\"] = \"Murat\";\n",
        "\n",
        "/** \n",
        " * Görüleceği üzere dizi özellikli student değişkeninde ve person değişkeninde isimlendirilmiş index \n",
        " * kullanıyoruz. \n",
        " * \n",
        " * Düşünelim ki yoğun bir code base içerisinde çalışıyoruz student ve person değişkenlerinin veri türünü öğrenmek \n",
        " * istiyoruz.\n",
        " * \n",
        " * Bu durumda Array.isArray() metodunu kullandığımızda dizi veri türüne sahip değişkeni tespit edebiliriz.\n",
        " */\n",
        "console.log(`\n",
        "student[\"firstName\"] ifadesinin içeriği: ${student[\"firstName\"]}\n",
        "person[\"firstName\"] ifadesinin içeriği: ${person[\"firstName\"]}\n",
        "`);\n",
        "\n",
        "\n",
        "/** \n",
        " * Görüleceği üzere student değişkeninden dönen değer true olduğu için student değişkeni dizi veri türü özelliği \n",
        " * taşır.\n",
        " * \n",
        " * person değişkeninden dönen değer false olduğu için bu değişkenin dizi veri türü özellikli olmadığını ve nesne \n",
        " * türünden bir değişken olduğunu anlayabiliriz. \n",
        " */\n",
        "console.log(`\n",
        "student dizi özellikli bir değişken midir?: ${Array.isArray(student)}\n",
        "person dizi özellikli bir değişken midir?: ${Array.isArray(person)}\n",
        "`);\n"
      ]
    },
    {
      "cell_type": "markdown",
      "metadata": {},
      "source": [
        "### <a id='toc1_5_2_'></a>[`Instanceof` Operatörü](#toc0_)\n",
        "\n",
        "Object veri tiplerinde birden fazla kullanım yöntemi olmakla birlikte değişkenin türünü belirlemede, bir özelliğin object ile ilişkisini anlamada veya katılım izleme işlemlerini gerçekleştirmek için kullanılır.\n",
        "\n",
        "**💡 Özellikle object özellikli değişkenlerde debug işlemleri için kullanışlı olabilir.**\n"
      ]
    },
    {
      "cell_type": "code",
      "execution_count": 75,
      "metadata": {
        "vscode": {
          "languageId": "javascript"
        }
      },
      "outputs": [
        {
          "name": "stdout",
          "output_type": "stream",
          "text": [
            "fruits dizi özellikli bir değişken midir?: true\n",
            "cars dizi özellikli bir değişken midir?: false\n"
          ]
        }
      ],
      "source": [
        "%%script node\n",
        "\n",
        "const fruits = [\"Banana\", \"Orange\", \"Apple\"];\n",
        "\n",
        "const cars = { carName: \"Honda\", carModel: \"Jazz\", productDate: \"2005-01-02\" };\n",
        "\n",
        "// true değerini geri döndürecektir. Çünkü fruits dizi özellikli bir değişkendir.\n",
        "console.log(`fruits dizi özellikli bir değişken midir?: ${fruits instanceof Array}`);\n",
        "\n",
        "// false değerini geri döndürecektir. Çünkü cars nesne özellikli bir değişkendir.\n",
        "console.log(`cars dizi özellikli bir değişken midir?: ${cars instanceof Array}`);\n"
      ]
    },
    {
      "cell_type": "markdown",
      "metadata": {},
      "source": [
        "### <a id='toc1_5_3_'></a>[`delete` Operatörü](#toc0_)\n",
        "\n",
        "Dizi içerisindeki elementler `delete` operatörü ile de kaldırılabilir. Element dizi içerisinden silindiğinde `true` silinemediğine `false` değeri döndürür.\n",
        "\n",
        "**⚠️ Bu yöntem dizi içerindeki elementler arasında `undefined` tanımlı boşluklar oluşturacağı için kullanılması tavsiye edilmez.**\n",
        "\n",
        "**Bunun yerine `pop()` veya `shift()` metotlarının kullanılması tavsiye edilir.**\n",
        "\n",
        "**Örnek**\n"
      ]
    },
    {
      "cell_type": "code",
      "execution_count": 76,
      "metadata": {
        "vscode": {
          "languageId": "javascript"
        }
      },
      "outputs": [
        {
          "name": "stdout",
          "output_type": "stream",
          "text": [
            "Dizinin ilk elementi başarı ile silindi mi?: true\n",
            "Güncel durumda dizinin ilk elementi: undefined\n",
            "cars değişkeninin içeriği: ,Tata,BMW\n",
            "cars değişkeninin element sayısı: 3\n"
          ]
        }
      ],
      "source": [
        "%%script node\n",
        "\n",
        "const cars = [\"Lada\", \"Tata\", \"BMW\"];\n",
        "\n",
        "/** \n",
        " * Dizi içerisinden Lada elementi kaldırılacaktır. Kaldırılma işlemi başarılı yapıldığı için true sonucunu \n",
        " * döndürülür.\n",
        " */\n",
        "console.log(`Dizinin ilk elementi başarı ile silindi mi?: ${delete cars[0]}`);\n",
        "\n",
        "// undefined ifadesi konsola yazdırılır. \n",
        "console.log(`Güncel durumda dizinin ilk elementi: ${cars[0]}`);\n",
        "\n",
        "/** \n",
        " * 0.index'e sahip Lada elementi kaldırılmasına rağmen dizi içerisinde hala 0.index'e \n",
        " * ait bir değer tutuluyor. \n",
        " */\n",
        "console.log(`cars değişkeninin içeriği: ${cars}`);\n",
        "\n",
        "// cars değişkenin mevcut element sayısı element kaldırılmasına rağmen halen 3'dür.\n",
        "console.log(`cars değişkeninin element sayısı: ${cars.length}`);"
      ]
    },
    {
      "cell_type": "markdown",
      "metadata": {},
      "source": [
        "### <a id='toc1_5_4_'></a>[`...` (Spread) Operatörü](#toc0_)\n",
        "\n",
        "`...` (Spread) operatörünün bir çok işlevi bulunmaktadır. **Iterable** olan object veri tipi özellikli değişkenler başta olmak üzere dizi veya object türünde sonuç üreten işlemlerde sıklıkla kullanılır.\n",
        "\n",
        "**Spread operatörünün kullanım yöntemlerini listelersek:**\n",
        "\n",
        "- Değişkenlerin birleştirilmesinde.\n",
        "\n",
        "- Kopyalama işlemlerinde.\n",
        "\n",
        "- Değişkeninin içeriğini genişletmede.\n",
        "\n",
        "- İfadeyi parçalarına ayırmada.\n",
        "\n",
        "- Metot içerisinde parametre olarak kullanılması.\n",
        "\n",
        "- Destructuring işlemlerinde.\n",
        "\n",
        "- NodeList içeriğini dizi haline dönüştürmede.\n",
        "\n",
        "Bunlara tek tek göz atalım.\n"
      ]
    },
    {
      "cell_type": "markdown",
      "metadata": {},
      "source": [
        "#### <a id='toc1_5_4_1_'></a>[Değişkenlerin Birleştirilmesinde](#toc0_)\n",
        "\n",
        "Hatırlarsak iki veya daha fazla değeri birleştirirken `concat()` metodundan faydalanıyorduk. Birleştirme işlemini aynı zamanda `...` (Spread) operatörü ile de yapabiliriz.\n",
        "\n",
        "**⚠️ Büyük veri yığınlarında verilerin birleştirilmesi için `...` (Spread) operatörünün kullanılması kod bloklarının yavaş çalışmasına neden olacaktır. Bunun yerine `concat()` metodunun kullanılması tavsiye edilir.**\n",
        "\n",
        "**Örnek**\n"
      ]
    },
    {
      "cell_type": "code",
      "execution_count": 77,
      "metadata": {
        "vscode": {
          "languageId": "javascript"
        }
      },
      "outputs": [
        {
          "name": "stdout",
          "output_type": "stream",
          "text": [
            "mergedArrays değişkeninin içeriği: Lada,Tata,BMW,$2000,$4000,$6000\n",
            "{ studentName: \u001b[32m'Emin'\u001b[39m, studentLastName: \u001b[32m'Altan'\u001b[39m, ID: \u001b[33m1\u001b[39m }\n"
          ]
        }
      ],
      "source": [
        "%%script node\n",
        "\n",
        "const prices = [\"$2000\", \"$4000\", \"$6000\"];\n",
        "\n",
        "const cars = [\"Lada\", \"Tata\", \"BMW\"];\n",
        "\n",
        "// İki dizi türündeki değişken birleştiriliyor ve mergedArrays değişkeni içerisine depolanıyor.\n",
        "const mergedArrays = [...cars, ...prices];\n",
        "\n",
        "console.log(`mergedArrays değişkeninin içeriği: ${mergedArrays}`);\n",
        "\n",
        "const student = {\n",
        "    studentName: \"Emin\",\n",
        "    studentLastName: \"Altan\",\n",
        "};\n",
        "\n",
        "const id = { \n",
        "    ID:1\n",
        " };\n",
        "\n",
        "\n",
        " // İki nesne türündeki değişken birleştiriliyor.\n",
        "console.log({ ...student, ...id });"
      ]
    },
    {
      "cell_type": "markdown",
      "metadata": {},
      "source": [
        "### <a id='toc1_5_5_'></a>[Kopyalama İşlemlerinde](#toc0_)\n",
        "\n",
        "Hatırlarsak dizi veya nesne özellikli bir değişkeni referans şeklinde kullanarak oluşturduğumuz yeni bir değişken içeriğine element eklediğimizde orijinal değişkenin içeriği de değişiyordu. Bunun sebebi dizi veya nesne veri türünün bellekte referans şeklinde depolanmasaydı.\n",
        "\n",
        "`...` (Spread) operatörü ile orijinal değişkenin içeriği değiştirilmeden yeni değişkene elementler ekleyebiliriz.\n",
        "\n",
        "**Örnek**\n"
      ]
    },
    {
      "cell_type": "code",
      "execution_count": 78,
      "metadata": {
        "vscode": {
          "languageId": "javascript"
        }
      },
      "outputs": [
        {
          "name": "stdout",
          "output_type": "stream",
          "text": [
            "cars değişkeninin içeriği: Lada,Tata,BMW\n",
            "newCars değişkeninin içeriği: Lada,Tata,BMW,Audi\n",
            "{ studentName: \u001b[32m'Emin'\u001b[39m, studentLasName: \u001b[32m'Altan'\u001b[39m }\n",
            "{ studentName: \u001b[32m'Emin'\u001b[39m, studentLasName: \u001b[32m'Altan'\u001b[39m, salary: \u001b[32m'3000USD'\u001b[39m }\n"
          ]
        }
      ],
      "source": [
        "%%script node\n",
        "\n",
        "const cars = [\"Lada\", \"Tata\", \"BMW\"];\n",
        "\n",
        "/** \n",
        " * ... operatörü sayesinde yapacağımız değişiklikler cars değişkeninin içeriğini etkilemez. cars değişkeninin \n",
        " * içeriği newCars'a kopyalanıyor ve değişken için hafızada yeni bir adres ayrılıyor.\n",
        " */\n",
        "const newCars = [...cars];\n",
        "\n",
        "newCars.push(\"Audi\");\n",
        "\n",
        "// Orijinal değişkenin içeriği korunuyor.\n",
        "console.log(`cars değişkeninin içeriği: ${cars}`);\n",
        "\n",
        "// newCars değişkeninin içeriğe yeni bir element eklendi.\n",
        "console.log(`newCars değişkeninin içeriği: ${newCars}`);\n",
        "\n",
        "const student = {\n",
        "    studentName: \"Emin\",\n",
        "    studentLasName: \"Altan\"\n",
        "};\n",
        "\n",
        "// person adındaki değişkenin içeriği student değişkeninin içeriği kopyalanarak oluşturuluyor.\n",
        "const person = { ...student };\n",
        "\n",
        "// person değişkenine yeni bir property ekleniyor.\n",
        "person.salary = \"3000USD\";\n",
        "\n",
        "// Görüleceği üzere orijinal içerik korunuyor.\n",
        "console.log(student);\n",
        "\n",
        "// person değişkenin property'leri konsola yazdırılır.\n",
        "console.log(person);"
      ]
    },
    {
      "cell_type": "markdown",
      "metadata": {},
      "source": [
        "### <a id='toc1_5_6_'></a>[İçeriği Genişletme İşlemlerinde](#toc0_)\n",
        "\n",
        "Bazen bir değişkeninin içeriğini olduğu gibi başka bir dizi içerisinde kullanmak isteyebiliriz. Bu durumda `...` (Spread) operatöründen faydalanırız.\n",
        "\n",
        "**Örnek**\n"
      ]
    },
    {
      "cell_type": "code",
      "execution_count": 79,
      "metadata": {
        "vscode": {
          "languageId": "javascript"
        }
      },
      "outputs": [
        {
          "name": "stdout",
          "output_type": "stream",
          "text": [
            "locations değişkeninin değeri: Lada,Tata,BMW,İzmir,Bursa,Ankara\n",
            "{\n",
            "  jobsName: \u001b[32m'Operator'\u001b[39m,\n",
            "  jobsHour: \u001b[32m'12H'\u001b[39m,\n",
            "  personName: \u001b[32m'Murat'\u001b[39m,\n",
            "  personLastName: \u001b[32m'Bakıcı'\u001b[39m\n",
            "}\n"
          ]
        }
      ],
      "source": [
        "%%script node\n",
        "\n",
        "const cars = [\"Lada\", \"Tata\", \"BMW\"];\n",
        "\n",
        "// cars değişkeni içerisindeki elementler location değişkeni içerisine dahil ediliyor.\n",
        "const locations = [...cars, \"İzmir\", \"Bursa\", \"Ankara\"];\n",
        "\n",
        "console.log(`locations değişkeninin değeri: ${locations}`);\n",
        "\n",
        "const person = {\n",
        "    personName: \"Murat\",\n",
        "    personLastName: \"Bakıcı\",\n",
        "};\n",
        "\n",
        "const jobs = {\n",
        "    jobsName: \"Operator\",\n",
        "    jobsHour: \"12H\",\n",
        "\n",
        "    // person nesnesi içerisindeki tüm property'ler jobs nesnesine dahil ediliyor.\n",
        "    ...person\n",
        "};\n",
        "\n",
        "console.log(jobs);"
      ]
    },
    {
      "cell_type": "markdown",
      "metadata": {},
      "source": [
        "### <a id='toc1_5_7_'></a>[İfadeyi Parçalara Ayırmada](#toc0_)\n",
        "\n",
        "Bir ifadeyi `...` (Spread) operatörü sayesinde parçalara ayırabilir ve dizi şeklinde bir sonuç elde edebiliriz.\n",
        "\n",
        "**Örnek**\n"
      ]
    },
    {
      "cell_type": "code",
      "execution_count": 80,
      "metadata": {
        "vscode": {
          "languageId": "javascript"
        }
      },
      "outputs": [
        {
          "name": "stdout",
          "output_type": "stream",
          "text": [
            "[\n",
            "  \u001b[32m'M'\u001b[39m, \u001b[32m'e'\u001b[39m, \u001b[32m'h'\u001b[39m, \u001b[32m'm'\u001b[39m,\n",
            "  \u001b[32m'e'\u001b[39m, \u001b[32m't'\u001b[39m, \u001b[32m' '\u001b[39m, \u001b[32m'K'\u001b[39m,\n",
            "  \u001b[32m'o'\u001b[39m, \u001b[32m'ç'\u001b[39m\n",
            "]\n",
            "{\n",
            "  \u001b[32m'0'\u001b[39m: \u001b[32m'M'\u001b[39m,\n",
            "  \u001b[32m'1'\u001b[39m: \u001b[32m'e'\u001b[39m,\n",
            "  \u001b[32m'2'\u001b[39m: \u001b[32m'h'\u001b[39m,\n",
            "  \u001b[32m'3'\u001b[39m: \u001b[32m'm'\u001b[39m,\n",
            "  \u001b[32m'4'\u001b[39m: \u001b[32m'e'\u001b[39m,\n",
            "  \u001b[32m'5'\u001b[39m: \u001b[32m't'\u001b[39m,\n",
            "  \u001b[32m'6'\u001b[39m: \u001b[32m' '\u001b[39m,\n",
            "  \u001b[32m'7'\u001b[39m: \u001b[32m'K'\u001b[39m,\n",
            "  \u001b[32m'8'\u001b[39m: \u001b[32m'o'\u001b[39m,\n",
            "  \u001b[32m'9'\u001b[39m: \u001b[32m'ç'\u001b[39m\n",
            "}\n"
          ]
        }
      ],
      "source": [
        "%%script node\n",
        "\n",
        "const personName = \"Mehmet Koç\";\n",
        "\n",
        "console.log([...personName]);\n",
        "\n",
        "console.log({ ...personName });"
      ]
    },
    {
      "cell_type": "markdown",
      "metadata": {},
      "source": [
        "### <a id='toc1_5_8_'></a>[Metot İçerisinde Parametre Olarak Kullanılması](#toc0_)\n",
        "\n",
        "Bir metoda veri seti şeklinde parametre gönderme veya alma işleminde `...` (Spread) operatörünün kullanımı işlerimizi oldukça kolaylaştırır.\n",
        "\n",
        "**Örnek**\n"
      ]
    },
    {
      "cell_type": "code",
      "execution_count": 81,
      "metadata": {
        "vscode": {
          "languageId": "javascript"
        }
      },
      "outputs": [
        {
          "name": "stdout",
          "output_type": "stream",
          "text": [
            "[\n",
            "  \u001b[32m'Sonuç: 2'\u001b[39m,\n",
            "  \u001b[32m'Sonuç: 3'\u001b[39m,\n",
            "  \u001b[32m'Sonuç: 4'\u001b[39m,\n",
            "  \u001b[32m'Sonuç: 5'\u001b[39m,\n",
            "  \u001b[32m'Sonuç: 6'\u001b[39m,\n",
            "  \u001b[32m'Sonuç: 7'\u001b[39m\n",
            "]\n"
          ]
        }
      ],
      "source": [
        "%%script node\n",
        "\n",
        "/** \n",
        " * Set olarak gelen elementlerin her biri için map() metodu içeriği çağrılır ve elemente +1 değeri eklenerek \n",
        " * sonuç geri döndürülür. Her bir element için map() metodu içeriği çağrıldığı için callback function özelliği \n",
        " * taşır.\n",
        " */\n",
        "const additions = (...values) => values.map(num => `Sonuç: ${num + 1}`);\n",
        "\n",
        "// additions() metoduna set olarak değer gönderdik. Gönderdiğimiz setin iterable olduğuna dikkat edelim.\n",
        "console.log(additions(1, 2, 3, 4, 5, 6));"
      ]
    },
    {
      "cell_type": "markdown",
      "metadata": {},
      "source": [
        "### <a id='toc1_5_9_'></a>[Destructuring İşlemlerinde](#toc0_)\n",
        "\n",
        "ES6 versiyonu ile birlikte Destructuring işlemi `...` (Spread) operatörü birlikte kullanılabilir hale gelmiştir.\n",
        "\n",
        "**Örnek**\n"
      ]
    },
    {
      "cell_type": "code",
      "execution_count": 82,
      "metadata": {
        "vscode": {
          "languageId": "javascript"
        }
      },
      "outputs": [
        {
          "name": "stdout",
          "output_type": "stream",
          "text": [
            "{ personAge: \u001b[33m30\u001b[39m, personID: \u001b[33m25\u001b[39m, personAccount: \u001b[32m'lin.wayne'\u001b[39m }\n"
          ]
        }
      ],
      "source": [
        "%%script node\n",
        "\n",
        "const person = {\n",
        "    personName: \"Lin\",\n",
        "    personSurName: \"Wayne\",\n",
        "    personAge: 30,\n",
        "    personID: 25,\n",
        "    personAccount: \"lin.wayne\",\n",
        "};\n",
        "\n",
        "/** \n",
        " * Destructuring işlemi ile personName ve personSurname dışındaki property'ler others değişkeni içerisine\n",
        " * depolanıyor.\n",
        " */\n",
        "const { personName, personSurName, ...others } = person;\n",
        "\n",
        "// others değişkeninin içeriğini konsola yazdırıyoruz.\n",
        "console.log(others);\n"
      ]
    },
    {
      "cell_type": "markdown",
      "metadata": {},
      "source": [
        "### <a id='toc1_5_10_'></a>[NodeList İçeriğini Dizi Haline Dönüştürmede](#toc0_)\n",
        "\n",
        "`querySelectorAll()` metodu ile HTML DOM içerisindeki belirlediğimiz node list elementlerinin tümünü dizi şeklinde depolayıp kullanmak isteyebiliriz. Bu durumda `...` (Spread) operatöründen faydalanırız.\n",
        "\n",
        "**Örnek**\n",
        "\n",
        "```html\n",
        "<!DOCTYPE html>\n",
        "<html lang=\"en\">\n",
        "  <head>\n",
        "    <meta charset=\"UTF-8\" />\n",
        "    <meta\n",
        "      name=\"viewport\"\n",
        "      content=\"width=device-width, initial-scale=1.0\"\n",
        "    />\n",
        "    <title>Document</title>\n",
        "  </head>\n",
        "  <body>\n",
        "    <p>1.paragraf</p>\n",
        "    <p>2.paragraf</p>\n",
        "    <p>3.paragraf</p>\n",
        "\n",
        "    <script>\n",
        "      const nodeList = document.querySelectorAll(\"p\");\n",
        "\n",
        "      // HTML DOM tree'deki tüm <p> elementleri array değişkeni içerisine depolanıyor.\n",
        "      const array = [...nodeList];\n",
        "\n",
        "      /**\n",
        "       * Her bir <p> elementinin içeriği okunup konsola yazdırılıyor.\n",
        "       *\n",
        "       * Sonuç: (3) ['1.paragraf', '2.paragraf', '3.paragraf']\n",
        "       */\n",
        "      console.log(array.map((element) => element.innerHTML));\n",
        "    </script>\n",
        "  </body>\n",
        "</html>\n",
        "```\n"
      ]
    },
    {
      "cell_type": "markdown",
      "metadata": {},
      "source": [
        "### <a id='toc1_5_11_'></a>[`toString()` Metodu](#toc0_)\n",
        "\n",
        "Dizi özellikli bir değişkenin depoladığı verileri string veri türüne ve tipine dönüştürür. Değişkende depolanan değerler \",\" işareti ile birbirlerinden ayrılırlar.\n",
        "\n",
        "Yeri gelmişken `toString()` metodu tüm JavaScript nesnelerinde ortak bir metottur.\n",
        "\n",
        "**Örnek**\n"
      ]
    },
    {
      "cell_type": "code",
      "execution_count": 83,
      "metadata": {
        "vscode": {
          "languageId": "javascript"
        }
      },
      "outputs": [
        {
          "name": "stdout",
          "output_type": "stream",
          "text": [
            "stringNumbers değişkeninin içeriği: 1,2,3,4,5\n",
            "stringNumbers değişkeninin veri tipi: string\n"
          ]
        }
      ],
      "source": [
        "%%script node\n",
        "\n",
        "const numbers = [1, 2, 3, 4, 5];\n",
        "\n",
        "const stringNumbers = numbers.toString();\n",
        "\n",
        "/** \n",
        " * stringNumbers değişkeni string veri türü ve tipine çevrilecektir. Depolanan değerler \",\" işareti ile \n",
        " * birbirlerinden ayrılırlar.\n",
        " */\n",
        "console.log(`stringNumbers değişkeninin içeriği: ${stringNumbers}`);\n",
        "\n",
        "console.log(`stringNumbers değişkeninin veri tipi: ${typeof stringNumbers}`);"
      ]
    },
    {
      "cell_type": "markdown",
      "metadata": {},
      "source": [
        "**⚠️ JavaScript, dizi içerisinde primitive veri türü ile karşılaştığında bunu otomatik olarak string veri türüne çevirir.**\n",
        "\n",
        "**Örnek**\n",
        "\n",
        "Aşağıdaki örnekte `toString()` metodu kullanarak elde ettiğimiz sonuç ile kullanmadan elde ettiğimiz sonuç aynıdır.\n"
      ]
    },
    {
      "cell_type": "code",
      "execution_count": 84,
      "metadata": {
        "vscode": {
          "languageId": "javascript"
        }
      },
      "outputs": [
        {
          "name": "stdout",
          "output_type": "stream",
          "text": [
            "numbers değişkeninin içeriği: 1,2,3,4,5\n",
            "toString() metodu kullanılarak oluşturulmuş içerik: 1,2,3,4,5\n"
          ]
        }
      ],
      "source": [
        "%%script node\n",
        "\n",
        "const numbers = [1, 2, 3, 4, 5];\n",
        "\n",
        "console.log(`numbers değişkeninin içeriği: ${numbers}`);\n",
        "\n",
        "console.log(`toString() metodu kullanılarak oluşturulmuş içerik: ${numbers.toString()}`);"
      ]
    },
    {
      "cell_type": "markdown",
      "metadata": {},
      "source": [
        "### <a id='toc1_5_12_'></a>[`join()` Metodu](#toc0_)\n",
        "\n",
        "`toString()` metodu gibi çalışır aradaki fark `join()` metodu ile string değerleri ayırmak için kullanacağımız işareti belirleyebiliriz. `toString()` metodunda depolanan veriler \",\" işareti ile ayrılıyordu.\n",
        "\n",
        "**Örnek**\n"
      ]
    },
    {
      "cell_type": "code",
      "execution_count": 85,
      "metadata": {
        "vscode": {
          "languageId": "javascript"
        }
      },
      "outputs": [
        {
          "name": "stdout",
          "output_type": "stream",
          "text": [
            "convertedNumbers değişkeninin içeriği: 1*2*3*4*5\n",
            "convertedNumbers değişkeninin veri tipi: string\n"
          ]
        }
      ],
      "source": [
        "%%script node\n",
        "\n",
        "const numbers = [1, 2, 3, 4, 5];\n",
        "\n",
        "const convertedNumbers = numbers.join(\"*\");\n",
        "\n",
        "/** \n",
        " * convertedNumbers değişkeni string veri türü ve tipine çevrilecektir. Depolanan değerler \"*\" işareti ile \n",
        " * birbirlerinden ayrılırlar.\n",
        " */\n",
        "console.log(`convertedNumbers değişkeninin içeriği: ${convertedNumbers}`);\n",
        "\n",
        "console.log(`convertedNumbers değişkeninin veri tipi: ${typeof convertedNumbers}`);"
      ]
    },
    {
      "cell_type": "markdown",
      "metadata": {},
      "source": [
        "### <a id='toc1_5_13_'></a>[`pop()` Metodu](#toc0_)\n",
        "\n",
        "Dizi özellikli bir değişkenin en sonundaki elementi kaldırır.\n",
        "\n",
        "**Örnek**\n"
      ]
    },
    {
      "cell_type": "code",
      "execution_count": 86,
      "metadata": {
        "vscode": {
          "languageId": "javascript"
        }
      },
      "outputs": [
        {
          "name": "stdout",
          "output_type": "stream",
          "text": [
            "Diziden kaldırılan element: BMW\n",
            "cars değişkeninin element sayısı: 2\n",
            "cars değişkeninin elementleri :Lada,Tata\n"
          ]
        }
      ],
      "source": [
        "%%script node\n",
        "\n",
        "const cars = [\"Lada\", \"Tata\", \"BMW\"];\n",
        "\n",
        "// Dizi içerisinden BMW elementi kaldırılacaktır.\n",
        "console.log(`Diziden kaldırılan element: ${cars.pop()}`);\n",
        "\n",
        "// cars değişkenin mevcut element sayısı 2'ye düşer.\n",
        "console.log(`cars değişkeninin element sayısı: ${cars.length}`);\n",
        "\n",
        "// cars değişkeninin sahip olduğu elementler konsola yazdırılacak.\n",
        "console.log(`cars değişkeninin elementleri :${cars}`);"
      ]
    },
    {
      "cell_type": "markdown",
      "metadata": {},
      "source": [
        "### <a id='toc1_5_14_'></a>[`push()` Metodu](#toc0_)\n",
        "\n",
        "Dizi özellikli bir değişkenin en sonuna yeni bir element ekler.\n",
        "\n",
        "**Örnek**\n"
      ]
    },
    {
      "cell_type": "code",
      "execution_count": 87,
      "metadata": {
        "vscode": {
          "languageId": "javascript"
        }
      },
      "outputs": [
        {
          "name": "stdout",
          "output_type": "stream",
          "text": [
            "Dizinin 4.elementi: Mercedes\n",
            "cars değişkeninin element sayısı: 4\n",
            "cars değişkeninin elementleri: Lada,Tata,BMW,Mercedes\n"
          ]
        }
      ],
      "source": [
        "%%script node\n",
        "\n",
        "const cars = [\"Lada\", \"Tata\", \"BMW\"];\n",
        "\n",
        "// Dizi içerisinin sonuna Mercedes elementini ekliyoruz.\n",
        "cars.push(\"Mercedes\");\n",
        "\n",
        "// cars değişkenin 4.elementi Mercedes değerine denk gelir.\n",
        "console.log(`Dizinin 4.elementi: ${cars[3]}`);\n",
        "\n",
        "// cars değişkenin mevcut element sayısı 4'ye yükselir.\n",
        "console.log(`cars değişkeninin element sayısı: ${cars.length}`);\n",
        "\n",
        "// cars değişkeninin sahip olduğu elementler konsola yazdırılacak.\n",
        "console.log(`cars değişkeninin elementleri: ${cars}`);"
      ]
    },
    {
      "cell_type": "markdown",
      "metadata": {},
      "source": [
        "### <a id='toc1_5_15_'></a>[`shift()` Metodu](#toc0_)\n",
        "\n",
        "`pop()` Metodu gibi çalışır aralarındaki fark `shift()` metodu değişkenin başından elementi kaldırır. Bu durumda tüm index değerleri bir rakam azalır.\n",
        "\n",
        "**Örnek**\n"
      ]
    },
    {
      "cell_type": "code",
      "execution_count": 88,
      "metadata": {
        "vscode": {
          "languageId": "javascript"
        }
      },
      "outputs": [
        {
          "name": "stdout",
          "output_type": "stream",
          "text": [
            "Diziden kaldırılan element: Lada\n",
            "cars değişkeninin element sayısı: 2\n",
            "cars değişkeninin elementleri: Tata,BMW\n",
            "Dizinin ilk elementi: Tata\n"
          ]
        }
      ],
      "source": [
        "%%script node\n",
        "\n",
        "const cars = [\"Lada\", \"Tata\", \"BMW\"];\n",
        "\n",
        "// Dizi içerisinden Lada elementi kaldırılacaktır.\n",
        "console.log(`Diziden kaldırılan element: ${cars.shift()}`);\n",
        "\n",
        "// cars değişkenin mevcut element sayısı 2'ye düşer.\n",
        "console.log(`cars değişkeninin element sayısı: ${cars.length}`);\n",
        "\n",
        "// cars değişkeninin sahip olduğu elementler konsola yazdırılacak.\n",
        "console.log(`cars değişkeninin elementleri: ${cars}`);\n",
        "\n",
        "// cars değişkeninin 0.index değeri artık Lada elementine denk gelmiyor. Tata elementine denk geliyor.\n",
        "console.log(`Dizinin ilk elementi: ${cars[0]}`);\n"
      ]
    },
    {
      "cell_type": "markdown",
      "metadata": {},
      "source": [
        "### <a id='toc1_5_16_'></a>[`unshift()` Metodu](#toc0_)\n",
        "\n",
        "`push()` Metodu gibi çalışır aralarındaki fark `unshift()` metodu değişkenin başına elementi ekler. Bu durumda tüm index değerleri bir rakam artar.\n",
        "\n",
        "**Örnek**\n"
      ]
    },
    {
      "cell_type": "code",
      "execution_count": 89,
      "metadata": {
        "vscode": {
          "languageId": "javascript"
        }
      },
      "outputs": [
        {
          "name": "stdout",
          "output_type": "stream",
          "text": [
            "cars değişkeninin ilk elementi: Mercedes\n",
            "cars değişkeninin element sayısı: 4\n",
            "cars değişkeninin içeriği: Mercedes,Lada,Tata,BMW\n"
          ]
        }
      ],
      "source": [
        "%%script node\n",
        "\n",
        "const cars = [\"Lada\", \"Tata\", \"BMW\"];\n",
        "\n",
        "// Dizinin başına Mercedes elementini ekliyoruz.\n",
        "cars.unshift(\"Mercedes\");\n",
        "\n",
        "// cars değişkenin 0.index'i artık Lada değil, Mercedes elementi olacaktır.\n",
        "console.log(`cars değişkeninin ilk elementi: ${cars[0]}`);\n",
        "\n",
        "// cars değişkenin mevcut element sayısı 4'e yükselir.\n",
        "console.log(`cars değişkeninin element sayısı: ${cars.length}`);\n",
        "\n",
        "// cars değişkeninin sahip olduğu elementler konsola yazdırılacak.\n",
        "console.log(`cars değişkeninin içeriği: ${cars}`);"
      ]
    },
    {
      "cell_type": "markdown",
      "metadata": {},
      "source": [
        "### <a id='toc1_5_17_'></a>[`concat()` Metodu](#toc0_)\n",
        "\n",
        "Birden fazla dizi özellikli değişkeninin birleştirilmesinde kullanılır.\n",
        "\n",
        "**⚠️ Var olan dizilerin içerikleri değişmez. Birleşme sonucu yeni bir dizi olarak geri döndürülür.**\n",
        "\n",
        "**Örnek**\n"
      ]
    },
    {
      "cell_type": "code",
      "execution_count": 90,
      "metadata": {
        "vscode": {
          "languageId": "javascript"
        }
      },
      "outputs": [
        {
          "name": "stdout",
          "output_type": "stream",
          "text": [
            "newArray değişkeninin içeriği: Ahmet,Mahmut,Hüseyin,Bilal,Sevim,Ayşe\n",
            "array1 değişkeninin içeriği: Ahmet,Mahmut,Hüseyin\n",
            "array2 değişkeninin içeriği: Bilal,Sevim,Ayşe\n"
          ]
        }
      ],
      "source": [
        "%%script node\n",
        "\n",
        "const array1 = [\"Ahmet\", \"Mahmut\", \"Hüseyin\"];\n",
        "\n",
        "const array2 = [\"Bilal\", \"Sevim\", \"Ayşe\"];\n",
        "\n",
        "// array1 ile array2 değişkenlerini birleştiriyor sonucu newArray değişkeni içerisine depoluyoruz.\n",
        "const newArray = array1.concat(array2);\n",
        "\n",
        "// newArray değişkenin içeriğini konsola yazdıralım.\n",
        "console.log(`newArray değişkeninin içeriği: ${newArray}`);\n",
        "\n",
        "// array1 ve array2'ni elementlerinde bir değişim olmadı.\n",
        "console.log(`array1 değişkeninin içeriği: ${array1}`);\n",
        "console.log(`array2 değişkeninin içeriği: ${array2}`);"
      ]
    },
    {
      "cell_type": "markdown",
      "metadata": {},
      "source": [
        "`concat()` metoduyla birden fazla dizi türünde değişkeni birleştirebiliriz. Bu durumda değişkenlerin arasına \",\" işareti konulur.\n",
        "\n",
        "**Örnek**\n"
      ]
    },
    {
      "cell_type": "code",
      "execution_count": 91,
      "metadata": {
        "vscode": {
          "languageId": "javascript"
        }
      },
      "outputs": [
        {
          "name": "stdout",
          "output_type": "stream",
          "text": [
            "newArray değişkeninin içeriği: Ahmet,Mahmut,Hüseyin,Bilal,Sevim,Ayşe,Mine,Betül,Taner\n"
          ]
        }
      ],
      "source": [
        "%%script node\n",
        "\n",
        "const array1 = [\"Ahmet\", \"Mahmut\", \"Hüseyin\"];\n",
        "\n",
        "const array2 = [\"Bilal\", \"Sevim\", \"Ayşe\"];\n",
        "\n",
        "const array3 = [\"Mine\", \"Betül\", \"Taner\"]; \n",
        "\n",
        "// array1, array2 ve array3 değişkenlerini birleştiriyor sonucu newArray değişkeni içerisine depoluyoruz.\n",
        "const newArray = array1.concat(array2, array3);\n",
        "\n",
        "// newArray değişkenin içeriğini konsola yazdıralım.\n",
        "console.log(`newArray değişkeninin içeriği: ${newArray}`);"
      ]
    },
    {
      "cell_type": "markdown",
      "metadata": {},
      "source": [
        "`concat()` metodu parametre olarak aynı zamanda string değer alır.\n",
        "\n",
        "**Örnek**\n"
      ]
    },
    {
      "cell_type": "code",
      "execution_count": 92,
      "metadata": {
        "vscode": {
          "languageId": "javascript"
        }
      },
      "outputs": [
        {
          "name": "stdout",
          "output_type": "stream",
          "text": [
            "newArray değişkeninin içeriği: Ahmet,Mahmut,Hüseyin,Netice\n"
          ]
        }
      ],
      "source": [
        "%%script node\n",
        "\n",
        "const array1 = [\"Ahmet\", \"Mahmut\", \"Hüseyin\"];\n",
        "\n",
        "// array1 değişkeni Netice değeri ile birleştirdik. Elde ettiğimiz sonucu newArray içerisine depoladık.\n",
        "const newArray = array1.concat(\"Netice\");\n",
        "\n",
        "console.log(`newArray değişkeninin içeriği: ${newArray}`);"
      ]
    },
    {
      "cell_type": "markdown",
      "metadata": {},
      "source": [
        "### <a id='toc1_5_18_'></a>[`splice()` Metodu](#toc0_)\n",
        "\n",
        "Dizi içerisindeki belirleyeceğimiz aralık dahilinde elementleri değiştirmeye, silmeye veya yeni elementler eklemeye yarar.\n",
        "\n",
        "İki argümanı vardır. İlk argüman index değeridir işlemin hangi elementten itibaren başlanacağını ifade eder. İkinci argüman ise kaç tane element için işlemin yapılacağını ifade eder.\n",
        "\n",
        "**⚠️ Hatırlarsak `delete` operatörü kullandığımızda dizi içerisinde boşluklar meydana geliyordu. `splice()` metodu ile element sildiğimizde bu tarz bir sorunla karşılaşmayız.**\n",
        "\n",
        "**⚠️ `splice()` metodu dizi özellikli değişkenin yapısını değiştirir. Bunun anlamı yapılan değişiklik için yeni bir dizi oluşturulmaz, var olan dizi içeriğinde güncelleme yapılır.**\n",
        "\n",
        "**Örnek**\n",
        "\n",
        "Aşağıdaki örnekte belirlediğimiz kısımdan başlayarak istediğimiz elementleri başka elementler ile yer değiştiriyoruz.\n"
      ]
    },
    {
      "cell_type": "code",
      "execution_count": 93,
      "metadata": {
        "vscode": {
          "languageId": "javascript"
        }
      },
      "outputs": [
        {
          "name": "stdout",
          "output_type": "stream",
          "text": [
            "Güncellenen elementler: Tata,BMW\n",
            "cars değişkeninin güncel içeriği: Lada,OPEL,TOYOTA,Mercedes,Lexus\n"
          ]
        }
      ],
      "source": [
        "%%script node\n",
        "\n",
        "const cars = [\"Lada\", \"Tata\", \"BMW\", \"Mercedes\",\"Lexus\"];\n",
        "\n",
        "/**\n",
        " * 1.index değerinden sonra gelen ilk 2 elementin içeriği ile  OPEL ve TOYOTA ile yer değiştirecektir. \n",
        " * (1.index değeri dahil)\n",
        " */\n",
        "console.log(`Güncellenen elementler: ${cars.splice(1, 2, \"OPEL\", \"TOYOTA\")}`);\n",
        "\n",
        "// Güncel dizi içeriğini konsola yazdırıyoruz.\n",
        "console.log(`cars değişkeninin güncel içeriği: ${cars}`);"
      ]
    },
    {
      "cell_type": "markdown",
      "metadata": {},
      "source": [
        "**Örnek**\n",
        "\n",
        "Aşağıdaki örnekte belirlediğimiz kısımdan başlayarak istediğimiz kadar elementi dizi içerisinden siliyoruz.\n"
      ]
    },
    {
      "cell_type": "code",
      "execution_count": 94,
      "metadata": {
        "vscode": {
          "languageId": "javascript"
        }
      },
      "outputs": [
        {
          "name": "stdout",
          "output_type": "stream",
          "text": [
            "Diziden silinen elementler: Tata,BMW\n",
            "cars değişkeninin güncel içeriği: Lada,Mercedes,Lexus\n"
          ]
        }
      ],
      "source": [
        "%%script node\n",
        "\n",
        "const cars = [\"Lada\", \"Tata\", \"BMW\", \"Mercedes\",\"Lexus\"];\n",
        "\n",
        "// 1.index değerinden başlayarak ilk 2 elementi dizi içerisinden siler. (1.index değeri dahil)\n",
        "console.log(`Diziden silinen elementler: ${cars.splice(1, 2)}`);\n",
        "\n",
        "// Güncel dizi içeriğini konsola yazdırıyoruz.\n",
        "console.log(`cars değişkeninin güncel içeriği: ${cars}`);"
      ]
    },
    {
      "cell_type": "markdown",
      "metadata": {},
      "source": [
        "**Örnek**\n",
        "\n",
        "Aşağıdaki örnekte belirlediğimiz kısımdan başlayarak istediğimiz değer kadar elementi dizi içerisine ekliyoruz.\n"
      ]
    },
    {
      "cell_type": "code",
      "execution_count": 95,
      "metadata": {
        "vscode": {
          "languageId": "javascript"
        }
      },
      "outputs": [
        {
          "name": "stdout",
          "output_type": "stream",
          "text": [
            "cars değişkeninin güncel içeriği: Lada,Tata,OPEL,TOYOTA,BMW,Mercedes,Lexus\n"
          ]
        }
      ],
      "source": [
        "%%script node\n",
        "\n",
        "const cars = [\"Lada\", \"Tata\", \"BMW\", \"Mercedes\",\"Lexus\"];\n",
        "\n",
        "// 2.index değeri olarak OPEL ve 3.index değeri olarak TOYOTA markası cars değişkenine ekleniyor.\n",
        "cars.splice(2, 0, \"OPEL\", \"TOYOTA\");\n",
        "\n",
        "// Güncel dizi içeriğini konsola yazdırıyoruz.\n",
        "console.log(`cars değişkeninin güncel içeriği: ${cars}`);"
      ]
    },
    {
      "cell_type": "markdown",
      "metadata": {},
      "source": [
        "### <a id='toc1_5_19_'></a>[`slice()` Metodu](#toc0_)\n",
        "\n",
        "Bazen dizi içerisinden belirlediğimiz aralıktaki elementleri kesmek ve bir takım işlemlerde kullanmak isteyebiliriz. Bu durumda `slice()` Metodu yardımımıza yetişir.\n",
        "\n",
        "İki argümanı vardır. İlk argüman index değeridir işlemin hangi elementten itibaren başlanacağını ifade eder. İkinci argüman işlemin hangi elementte son bulacağını ifade eder. İşleme ilk argüman dahil edilirken ikinci argüman dahil edilmez.\n",
        "\n",
        "**⚠️ `slice()` metodu var olan dizi yapısını değiştirmez. Elde edilen sonuç yeni bir dizi olarak oluşturulur.**\n",
        "\n",
        "**Örnek**\n"
      ]
    },
    {
      "cell_type": "code",
      "execution_count": 96,
      "metadata": {
        "vscode": {
          "languageId": "javascript"
        }
      },
      "outputs": [
        {
          "name": "stdout",
          "output_type": "stream",
          "text": [
            "slicedCars değişkeninin içeriği: Tata,BMW\n",
            "cars değişkeninin içeriği: Lada,Tata,BMW,Mercedes,Lexus\n"
          ]
        }
      ],
      "source": [
        "%%script node\n",
        "\n",
        "const cars = [\"Lada\", \"Tata\", \"BMW\", \"Mercedes\", \"Lexus\"];\n",
        "\n",
        "/** \n",
        " * 1.index değerine denk gelen element ile 3.index değerine denk gelen element arasındaki elementler slicedCars \n",
        " * değişkenine dizi veri türü şeklinde depolanıyor.\n",
        " *\n",
        " * Kesme işlemine 1.index değerine denk gelen element dahil edilirken 3.index değerine denk gelen element dahil \n",
        " * edilmez.\n",
        " */\n",
        "const slicedCars = cars.slice(1, 3);\n",
        "\n",
        "// slicedCars değişkeninin depoladığı elementler yazdırılır.\n",
        "console.log(`slicedCars değişkeninin içeriği: ${slicedCars}`);\n",
        "\n",
        "// Görüleceği üzere cars değişkenin yapısı değişmedi.\n",
        "console.log(`cars değişkeninin içeriği: ${cars}`);"
      ]
    },
    {
      "cell_type": "markdown",
      "metadata": {},
      "source": [
        "### <a id='toc1_5_20_'></a>[`sort()` Metodu](#toc0_)\n",
        "\n",
        "`sort()` metodu ile bir dizi içeriğini alfabetik olacak şekilde sıralayabiliriz. Sıralama pattern'i A-Z şeklinde gerçekleşir.\n",
        "\n",
        "**⚠️ `sort()` metodu orijinal dizi içeriğindeki elementlerin yerlerini değiştirir.**\n",
        "\n",
        "**Örnek**\n"
      ]
    },
    {
      "cell_type": "code",
      "execution_count": 97,
      "metadata": {
        "vscode": {
          "languageId": "javascript"
        }
      },
      "outputs": [
        {
          "name": "stdout",
          "output_type": "stream",
          "text": [
            "cars değişkeninin A-Z formatına göre sıralı hali: BMW,Lada,Lexus,Mercedes,Tata\n",
            "cars değişkeninin elementleri: BMW,Lada,Lexus,Mercedes,Tata\n"
          ]
        }
      ],
      "source": [
        "%%script node\n",
        "\n",
        "const cars = [\"Lada\", \"Tata\", \"BMW\", \"Mercedes\", \"Lexus\"];\n",
        "\n",
        "// cars değişkenin içeriği A'dan Z'ye olarak listelenir.\n",
        "console.log(`cars değişkeninin A-Z formatına göre sıralı hali: ${cars.sort()}`);\n",
        "\n",
        "// Orijinal dizi içerisindeki elementlerin sıralaması da değişti.\n",
        "console.log(`cars değişkeninin elementleri: ${cars}`);"
      ]
    },
    {
      "cell_type": "markdown",
      "metadata": {},
      "source": [
        "### <a id='toc1_5_21_'></a>[`sort()` Metodu İçinde Compare Metotlarının Kullanılması](#toc0_)\n",
        "\n",
        "Compare metotlar ile alternatif bir sıralama yöntemi oluşturabiliriz. Compare metodu üç değerden birini döndürür.Bunlar negatif, sıfır veya pozitif değerlerdir.\n",
        "\n",
        "Bir compare metodu `function (a, b) {return a-b}` şeklinde oluşturulur.\n",
        "\n",
        "`sort()` metodu iki değeri kıyaslarken bu değerleri compare metoduna gönderir compare metodunda üretilen sonuca göre `a` değerinin `b` değerinden büyük, küçük veya eşit olma durumu anlaşılır.\n",
        "\n",
        "**Formüle göre:**\n",
        "\n",
        "- Eğer sonuç negatif olarak döndürülürse `a` değeri `b` değerinden küçük olacaktır. (60-100 = -40 Bu durumda `a<b` olur. `a` değeri `b` değerinden önce gelir.)\n",
        "\n",
        "- Eğer sonuç pozitif olarak döndürülürse `a` değeri `b` değerinden büyük olacaktır. (100-60 = 40 Bu durumda `a>b` olur. `b` değeri `a` değerinden önce gelir.)\n",
        "\n",
        "- Eğer sonuç 0 olarak döndürülürse `a` değeri `b` değerine eşit olacaktır. (100-100 =0 Bu durumda `a=b` olur. Herhangi bir değişiklik yapılmaz.)\n",
        "\n",
        "**⚠️ Varsayılan olarak `sort()` metodu string değerleri listelemek için kullanılır. Sayısal değerlerin listeleme işleminde hatalı sonuçlar döndürür. Bu sorunun önüne geçmek için `sort()` metodu içerisinde _compare_ metotları oluşturulur ve kullanılır.**\n",
        "\n",
        "**Örnek**\n"
      ]
    },
    {
      "cell_type": "code",
      "execution_count": 98,
      "metadata": {
        "vscode": {
          "languageId": "javascript"
        }
      },
      "outputs": [
        {
          "name": "stdout",
          "output_type": "stream",
          "text": [
            "⚠️ Tek başına sort() metodu hatalı sonuç döndürür: 1,10,100,25,40,5\n",
            "Küçükten büyüğe şeklinde sıralama: 1,5,10,25,40,100\n",
            "Büyükten küçüğe olacak şekilde sıralama: 100,40,25,10,5,1\n"
          ]
        }
      ],
      "source": [
        "%%script node\n",
        "\n",
        "const numbers = [40, 100, 1, 5, 25, 10];\n",
        "\n",
        "// Sayısal değerler için sort() metodu yanlış sonuç döndürecektir.\n",
        "console.log(`⚠️ Tek başına sort() metodu hatalı sonuç döndürür: ${numbers.sort()}`);\n",
        "\n",
        "//function(a,b) compare metot olarak isimlendirilir. Sıralamada küçükten büyüğe doğru olacaktır.\n",
        "console.log(`Küçükten büyüğe şeklinde sıralama: ${numbers.sort(function (a, b) { return a - b })}`);\n",
        "\n",
        "// Şayet büyükten küçüğe sıralama yapmak istersek b-a formülünü kullanırız.\n",
        "console.log(`Büyükten küçüğe olacak şekilde sıralama: ${numbers.sort(function (a, b) { return b - a })}`);\n"
      ]
    },
    {
      "cell_type": "markdown",
      "metadata": {},
      "source": [
        "Compare metotlar özellikle dizi içeriği nesne şeklinde oluşturulmuş değişkenlerde kullanılır.\n",
        "\n",
        "**Örnek**\n"
      ]
    },
    {
      "cell_type": "code",
      "execution_count": 99,
      "metadata": {
        "vscode": {
          "languageId": "javascript"
        }
      },
      "outputs": [
        {
          "name": "stdout",
          "output_type": "stream",
          "text": [
            "[\n",
            "  { type: \u001b[32m'Volvo'\u001b[39m, year: \u001b[33m2016\u001b[39m },\n",
            "  { type: \u001b[32m'Saab'\u001b[39m, year: \u001b[33m2001\u001b[39m },\n",
            "  { type: \u001b[32m'BMW'\u001b[39m, year: \u001b[33m2010\u001b[39m }\n",
            "]\n",
            "[\n",
            "  { type: \u001b[32m'Saab'\u001b[39m, year: \u001b[33m2001\u001b[39m },\n",
            "  { type: \u001b[32m'BMW'\u001b[39m, year: \u001b[33m2010\u001b[39m },\n",
            "  { type: \u001b[32m'Volvo'\u001b[39m, year: \u001b[33m2016\u001b[39m }\n",
            "]\n",
            "[\n",
            "  { type: \u001b[32m'Saab'\u001b[39m, year: \u001b[33m2001\u001b[39m },\n",
            "  { type: \u001b[32m'BMW'\u001b[39m, year: \u001b[33m2010\u001b[39m },\n",
            "  { type: \u001b[32m'Volvo'\u001b[39m, year: \u001b[33m2016\u001b[39m }\n",
            "]\n"
          ]
        }
      ],
      "source": [
        "%%script node\n",
        "\n",
        "const cars = [\n",
        "  { type: \"Volvo\", year: 2016 },\n",
        "  { type: \"Saab\", year: 2001 },\n",
        "  { type: \"BMW\", year: 2010 }\n",
        "];\n",
        "\n",
        "// cars değişkeninin içeriği olduğu gibi geri döndürülecektir.\n",
        "console.log(cars.sort());\n",
        "\n",
        "// Şayet compare metot kullanırsak içeriğini istediğimiz gibi sıralayabiliriz. Burada arrow function kullandık.\n",
        "console.log(cars.sort((a, b) => a.year - b.year));\n",
        "\n",
        "// Orijinal dizi içeriği değişti.\n",
        "console.log(cars);"
      ]
    },
    {
      "cell_type": "markdown",
      "metadata": {},
      "source": [
        "### <a id='toc1_5_22_'></a>[`reverse()` Metodu](#toc0_)\n",
        "\n",
        "Bazen dizi içeriğini tersten sıralamak isteyebiliriz. Bu durumda `reverse()` metodunu kullanırız.\n",
        "\n",
        "**⚠️ `reverse()` metodu orijinal dizi içeriğindeki elementlerin yerlerini değiştirir.**\n",
        "\n",
        "**Örnek**\n"
      ]
    },
    {
      "cell_type": "code",
      "execution_count": 100,
      "metadata": {
        "vscode": {
          "languageId": "javascript"
        }
      },
      "outputs": [
        {
          "name": "stdout",
          "output_type": "stream",
          "text": [
            "reverse metodu sonucunda dizi içeriği: Lexus,Mercedes,BMW,Tata,Lada\n"
          ]
        }
      ],
      "source": [
        "%%script node\n",
        "\n",
        "const cars = [\"Lada\", \"Tata\", \"BMW\", \"Mercedes\", \"Lexus\"];\n",
        "\n",
        "// cars değişkenin içeriği tersten listelenir.\n",
        "cars.reverse();\n",
        "\n",
        "// Orijinal dizi içerisindeki elementlerin sıralaması değişti.\n",
        "console.log(`reverse metodu sonucunda dizi içeriği: ${cars}`);\n"
      ]
    },
    {
      "cell_type": "markdown",
      "metadata": {},
      "source": [
        "### <a id='toc1_5_23_'></a>[`forEach()` Metodu](#toc0_)\n",
        "\n",
        "`forEach()` metodu ile dizi içerisindeki her bir element için belirlediğimiz bir işlemi otomatik olarak çalıştırabiliriz. Böylece her element için tek tek işlem yapmamış olur ve zamandan kazanırız.\n",
        "\n",
        "`forEach()` metodu içerisinde bir metot oluşturulması haline bu metot her dizi elementi için tekrar tekrar çağrılıp kullanılacağı için buna **_callback function_** adı verilir.\n",
        "\n",
        "**Örnek**\n"
      ]
    },
    {
      "cell_type": "code",
      "execution_count": 101,
      "metadata": {
        "vscode": {
          "languageId": "javascript"
        }
      },
      "outputs": [
        {
          "name": "stdout",
          "output_type": "stream",
          "text": [
            "Yeni değer: 4\n",
            "Yeni değer: 5\n",
            "Yeni değer: 6\n",
            "Yeni değer: 7\n"
          ]
        }
      ],
      "source": [
        "%%script node\n",
        "\n",
        "const numbers = [3, 4, 5, 6];\n",
        "\n",
        "/** \n",
        " * Arrow metodu callback function özelliği taşır ve numbers değişkeni içerisindeki elementlere \n",
        " * +1 değeri eklenerek tek sayı haline dönüştürülür ve sonuç geri döndürülür.\n",
        " */\n",
        "numbers.forEach((value) => console.log(`Yeni değer: ${value + 1}`));\n"
      ]
    },
    {
      "cell_type": "markdown",
      "metadata": {},
      "source": [
        "### <a id='toc1_5_24_'></a>[`map()` Metodu](#toc0_)\n",
        "\n",
        "`map()` metodu `forEach()` gibi çalışır. Aradaki fark `map()` metodu sonuç için yeni dizi oluştururken `forEach()` metodu sonuç için yeni bir dizi oluşturmaz.\n",
        "\n",
        "Bu temel farka göre kullanılacak metodun türü belirlenebilir. Eğer sadece bir döngü içinde her element üzerinde bir işlem yapılması gerekiyorsa `forEach()` metodu, yeni bir dizi oluşturmak ve her element üzerinde bir işlem yapılmak isteniyorsa `map()` metodu kullanılabilir.\n",
        "\n",
        "**Örnek**\n"
      ]
    },
    {
      "cell_type": "code",
      "execution_count": 102,
      "metadata": {
        "vscode": {
          "languageId": "javascript"
        }
      },
      "outputs": [
        {
          "name": "stdout",
          "output_type": "stream",
          "text": [
            "numbers2 değişkeninin içeriği: 90,8,18,32,50\n"
          ]
        }
      ],
      "source": [
        "%%script node\n",
        "\n",
        "const numbers = [45, 4, 9, 16, 25];\n",
        "\n",
        "/** \n",
        " * numbers değişkeninin elementleri 2 ile çarpılacak ve elde edilen sonuçlar numbers2 adında \n",
        " * yeni bir değişken içerisinde depolanacaktır.\n",
        " */\n",
        "const numbers2 = numbers.map(value => value * 2);\n",
        "\n",
        "console.log(`numbers2 değişkeninin içeriği: ${numbers2}`);\n",
        "\n"
      ]
    },
    {
      "cell_type": "markdown",
      "metadata": {},
      "source": [
        "### <a id='toc1_5_25_'></a>[`flatMap()` Metodu](#toc0_)\n",
        "\n",
        "`map()` metoduna benzer şekilde çalışır aradaki fark `map()` metodu iç içe geçmiş diziler üretirken `flatMap()` metodu sonuçları düzleştirerek değer üretir.\n",
        "\n",
        "**⚠️ `flatMap()` metodu ES2019 ile JavaScript'e dahil edilmiştir. Modern tarayıcılar 2020 yılından beri `flatMap()` metodunu desteklemektedirler.**\n",
        "\n",
        "**Örnek**\n"
      ]
    },
    {
      "cell_type": "code",
      "execution_count": 103,
      "metadata": {
        "vscode": {
          "languageId": "javascript"
        }
      },
      "outputs": [
        {
          "name": "stdout",
          "output_type": "stream",
          "text": [
            "[ [ \u001b[33m4\u001b[39m ], [ \u001b[33m8\u001b[39m ], [ \u001b[33m12\u001b[39m ], [ \u001b[33m16\u001b[39m ] ]\n",
            "[ \u001b[33m4\u001b[39m, \u001b[33m8\u001b[39m, \u001b[33m12\u001b[39m, \u001b[33m16\u001b[39m ]\n"
          ]
        }
      ],
      "source": [
        "%%script node\n",
        "\n",
        "const numbers = [2, 4, 6, 8];\n",
        "\n",
        "const numbers2 = numbers.map(value => [value * 2]);\n",
        "\n",
        "const numbers3 = numbers.flatMap(value => [value * 2]);\n",
        "\n",
        "// map() metodu iç içe geçmiş dizi üretti.\n",
        "console.log(numbers2);\n",
        "\n",
        "// flatMap() metodu tek bir dizi içeriği üretti.\n",
        "console.log(numbers3);\n"
      ]
    },
    {
      "cell_type": "markdown",
      "metadata": {},
      "source": [
        "### <a id='toc1_5_26_'></a>[`filter()` Metodu](#toc0_)\n",
        "\n",
        "Bazen bir dizi içerisindeki verilerin belirlediğimiz kriterlere göre filtre edilmesini ve geri döndürülmesini isteyebiliriz bu durumda `filter()` metodunu kullanırız.\n",
        "\n",
        "`filter()` metodu sonucunda yeni bir dizi oluşturulur.\n",
        "\n",
        "**Örnek**"
      ]
    },
    {
      "cell_type": "code",
      "execution_count": 104,
      "metadata": {
        "vscode": {
          "languageId": "javascript"
        }
      },
      "outputs": [
        {
          "name": "stdout",
          "output_type": "stream",
          "text": [
            "numbers2 değişkeninin içeriği: 45,25\n"
          ]
        }
      ],
      "source": [
        "%%script node\n",
        "\n",
        "const numbers = [45, 4, 9, 16, 25];\n",
        "\n",
        "/** \n",
        " * Örnekte 18'den büyük değerler filtre edilerek numbers2 değişkenine yeni bir dizi şeklinde \n",
        " * depolanacaktır.\n",
        " */\n",
        "const numbers2 = numbers.filter(value => value > 18);\n",
        "\n",
        "console.log(`numbers2 değişkeninin içeriği: ${numbers2}`);\n"
      ]
    },
    {
      "cell_type": "markdown",
      "metadata": {},
      "source": [
        "### <a id='toc1_5_27_'></a>[`reduce()` Metodu](#toc0_)\n",
        "\n",
        "`reduce()` metodu dizi içerisindeki her bir element için bir callback function çalıştırır ve dizi içeriğini tek bir değer haline getirir.\n",
        "\n",
        "`reduce()` metodunu kullanmak, genellikle bir dizi üzerinde bir operasyonun sonucunu birleştirmek veya toplamak istediğimiz durumlar için uygun bir seçenektir. Ancak, fonksiyonel programlama prensiplerine uygun olarak kullanıldığında, genel olarak daha okunabilir ve sürdürülebilir bir kod elde edebiliriz.\n",
        "\n",
        "**💡 `reduce()` metodu soldan sağa yönünde çalışmaktadır. Şayet sağdan solda doğru şeklinde bir işlem yaptırmak istersek `reduceRight()` metodunu kullanabiliriz.**\n",
        "\n",
        "`reduce()` metodu orijinal dizi yapısını değiştirmez.\n",
        "\n",
        "**`reduce()` metodunun 4 tane parametresi vardır:**\n",
        "\n",
        "- Başlangıç değeri veya bir önceki elementten elde edilen sonucun değeri.\n",
        "\n",
        "- Elementin değeri\n",
        "\n",
        "- Elementin index değeri\n",
        "\n",
        "- Dizinin kendisi\n",
        "\n",
        "**Örnek**\n"
      ]
    },
    {
      "cell_type": "code",
      "execution_count": 105,
      "metadata": {
        "vscode": {
          "languageId": "javascript"
        }
      },
      "outputs": [
        {
          "name": "stdout",
          "output_type": "stream",
          "text": [
            "numbers2 değişkenin değeri: 99\n"
          ]
        }
      ],
      "source": [
        "%%script node\n",
        "\n",
        "const numbers = [45, 4, 9, 16, 25];\n",
        "\n",
        "/** \n",
        " * numbers değişkeni içindeki her element için reduce() metodu içerisindeki callback fonksiyonu çalışacak ve tüm \n",
        " * işlem sonucunda tek bir değer üretilecektir.\n",
        " */\n",
        "const numbers2 = numbers.reduce((total, value) => total + value);\n",
        "\n",
        "console.log(`numbers2 değişkenin değeri: ${numbers2}`);\n"
      ]
    },
    {
      "cell_type": "markdown",
      "metadata": {},
      "source": [
        "`reduce()` metodu parametre olarak bir başlangıç değerine sahip olabilir.\n",
        "\n",
        "**Örnek**\n"
      ]
    },
    {
      "cell_type": "code",
      "execution_count": 106,
      "metadata": {
        "vscode": {
          "languageId": "javascript"
        }
      },
      "outputs": [
        {
          "name": "stdout",
          "output_type": "stream",
          "text": [
            "numbers2 değişkenin değeri: 121\n"
          ]
        }
      ],
      "source": [
        "%%script node\n",
        "\n",
        "const numbers = [2, 4, 7, 8];\n",
        "\n",
        "// 100 başlangıç değeridir.\n",
        "const numbers2 = numbers.reduce(myFunction, 100);\n",
        "\n",
        "function myFunction(total, value) {\n",
        "    return total + value;\n",
        "};\n",
        "\n",
        "console.log(`numbers2 değişkenin değeri: ${numbers2}`);\n"
      ]
    },
    {
      "cell_type": "markdown",
      "metadata": {},
      "source": [
        "`reduce()` metodunun nesne veri türlerinde kullanımı yaygındır. Bu sayede dizi içeriğini tek bir sonuç olarak döndürebiliriz.\n",
        "\n",
        "**Örnek**\n"
      ]
    },
    {
      "cell_type": "code",
      "execution_count": 107,
      "metadata": {
        "vscode": {
          "languageId": "javascript"
        }
      },
      "outputs": [
        {
          "name": "stdout",
          "output_type": "stream",
          "text": [
            "{ name: \u001b[32m'John'\u001b[39m, age: \u001b[33m30\u001b[39m, city: \u001b[32m'New York'\u001b[39m }\n"
          ]
        }
      ],
      "source": [
        "%%script node\n",
        "\n",
        "const student = [\n",
        "  { key: 'name', value: 'John' },\n",
        "  { key: 'age', value: 30 },\n",
        "  { key: 'city', value: 'New York' }\n",
        "];\n",
        "\n",
        "const obj = student.reduce((accumulator, item) => {\n",
        "  accumulator[item.key] = item.value;\n",
        "  return accumulator;\n",
        "}, {});\n",
        "\n",
        "console.log(obj);"
      ]
    },
    {
      "cell_type": "markdown",
      "metadata": {},
      "source": [
        "### <a id='toc1_5_28_'></a>[`every()` Metodu](#toc0_)\n",
        "\n",
        "Bazen belirleyeceğimiz bir kriterin **tüm dizi elementleri** ile uyumlu olup/olmadığını kontrol etmek isteyebiliriz. Bu durumda `every()` metodunu kullanırız. Şayet dizi içerisindeki tüm elementler belirlediğimiz koşul ile uyuşursa `true` herhangi bir elementin belirlediğimiz koşul ile uyuşmaması durumunda `false` değeri geri döndürülür.\n",
        "\n",
        "**`every()` metodunun 3 parametresi vardır:**\n",
        "\n",
        "- Elementin değeri\n",
        "\n",
        "- Elementin index değeri\n",
        "\n",
        "- Dizinin kendisi\n",
        "\n",
        "**Örnek**\n"
      ]
    },
    {
      "cell_type": "code",
      "execution_count": 108,
      "metadata": {
        "vscode": {
          "languageId": "javascript"
        }
      },
      "outputs": [
        {
          "name": "stdout",
          "output_type": "stream",
          "text": [
            "numbers2 değişkeninin içeriği: false\n"
          ]
        }
      ],
      "source": [
        "%%script node\n",
        "\n",
        "const numbers = [2, 4, 6, 8];\n",
        "\n",
        "/** \n",
        " * Dizi içerisindeki tüm elementlerin 4'den büyük olması durumunda sonuç true olarak döndürülecektir.\n",
        " * \n",
        " * every() metodu her bir element için metot çağırması (burada arrow metodu oluyor.) sebebi ile callback function \n",
        " * özelliği taşır.\n",
        " */\n",
        "const numbers2 = numbers.every(value => value > 4);\n",
        "\n",
        "console.log(`numbers2 değişkeninin içeriği: ${numbers2}`);"
      ]
    },
    {
      "cell_type": "markdown",
      "metadata": {},
      "source": [
        "### <a id='toc1_5_29_'></a>[`some()` Metodu](#toc0_)\n",
        "\n",
        "Bazen belirleyeceğimiz bir kriterin **herhangi bir dizi elementi** ile uyumlu olup/olmadığını kontrol etmek isteyebiliriz. Bu durumda `some()` metodunu kullanırız. Şayet dizi içerisindeki herhangi bir element belirlediğimiz koşul ile uyuşursa sonuç `true` elementlerin tümü koşul ile uyuşmaması durumunda sonuç `false` değeri geri döndürülür.\n",
        "\n",
        "**`some()` metodunun 3 parametresi vardır:**\n",
        "\n",
        "- Elementin değeri\n",
        "\n",
        "- Elementin index değeri\n",
        "\n",
        "- Dizinin kendisi\n",
        "\n",
        "**Örnek**\n"
      ]
    },
    {
      "cell_type": "code",
      "execution_count": 109,
      "metadata": {
        "vscode": {
          "languageId": "javascript"
        }
      },
      "outputs": [
        {
          "name": "stdout",
          "output_type": "stream",
          "text": [
            "numbers2 değişkeninin içeriği: true\n"
          ]
        }
      ],
      "source": [
        "%%script node\n",
        "\n",
        "const numbers = [2, 4, 6, 8, 10];\n",
        "\n",
        "/** \n",
        " * Dizi içerisindeki herhangi bir elementin 4'den büyük olması durumunda sonuç true olarak döndürülecektir.\n",
        " * \n",
        " * some() metodu her bir element için metot çağırması (burada arrow metodu oluyor.) sebebi ile callback function \n",
        " * özelliği taşır.\n",
        " */\n",
        "let numbers2 = numbers.some(value => value > 4);\n",
        "\n",
        "console.log(`numbers2 değişkeninin içeriği: ${numbers2}`);"
      ]
    },
    {
      "cell_type": "markdown",
      "metadata": {},
      "source": [
        "### <a id='toc1_5_30_'></a>[`indexOf()` Metodu](#toc0_)\n",
        "\n",
        "Metot içerisinde kullanılan değerin dizi içerisindeki pozisyonunu geri döndürür.\n",
        "\n",
        "**Örnek**\n"
      ]
    },
    {
      "cell_type": "code",
      "execution_count": 110,
      "metadata": {
        "vscode": {
          "languageId": "javascript"
        }
      },
      "outputs": [
        {
          "name": "stdout",
          "output_type": "stream",
          "text": [
            "BMW elementinin index değeri: 2\n"
          ]
        }
      ],
      "source": [
        "%%script node \n",
        "\n",
        "const cars = [\"Lada\", \"Tata\", \"BMW\", \"Mercedes\", \"Lexus\"];\n",
        "\n",
        "// BMW elementinin index değeri konsola yazdırılır.\n",
        "console.log(`BMW elementinin index değeri: ${cars.indexOf(\"BMW\")}`);\n"
      ]
    },
    {
      "cell_type": "markdown",
      "metadata": {},
      "source": [
        "Şayet aranan element dizi içerisinde bulunmazsa -1 değerini geri döndürülür. Bu durum dizi içerisinde aranan değerin bulunamadığını ifade eder.\n",
        "\n",
        "**Örnek**\n"
      ]
    },
    {
      "cell_type": "code",
      "execution_count": 111,
      "metadata": {
        "vscode": {
          "languageId": "javascript"
        }
      },
      "outputs": [
        {
          "name": "stdout",
          "output_type": "stream",
          "text": [
            "Audi elementinin dizi içerisindeki index değeri: -1\n"
          ]
        }
      ],
      "source": [
        "%%script node \n",
        "\n",
        "const cars = [\"Lada\", \"BMW\", \"Mercedes\", \"Lexus\"];\n",
        "\n",
        "// Dizi içerisinde Audi bulunmadığı için -1 değeri konsola yazdırılır.\n",
        "console.log(`Audi elementinin dizi içerisindeki index değeri: ${cars.indexOf(\"Audi\")}`);\n"
      ]
    },
    {
      "cell_type": "markdown",
      "metadata": {},
      "source": [
        "Aranan element dizi içerisinden birden fazla yerde kullanılmışsa ilk değerin pozisyonu geri döndürülür.\n",
        "\n",
        "**💡 Eğer elementin dizi içerisinde tüm index'leri gerekiyorsa, `indexOf()` yerine `reduce()` veya `map()` gibi diğer metotları kullanmak daha uygun olabilir.**\n",
        "\n",
        "**Örnek**\n"
      ]
    },
    {
      "cell_type": "code",
      "execution_count": 112,
      "metadata": {
        "vscode": {
          "languageId": "javascript"
        }
      },
      "outputs": [
        {
          "name": "stdout",
          "output_type": "stream",
          "text": [
            "Dizi içerisindeki ilk Lada elementinin index değeri: 0\n"
          ]
        }
      ],
      "source": [
        "%%script node \n",
        "\n",
        "const cars = [\"Lada\", \"Lada\", \"BMW\", \"Mercedes\", \"Lexus\"];\n",
        "\n",
        "// Dizi içerisindeki ilk \"Lada\" elementinin pozisyonu konsola yazdırılır.\n",
        "console.log(`Dizi içerisindeki ilk Lada elementinin index değeri: ${cars.indexOf(\"Lada\")}`);\n"
      ]
    },
    {
      "cell_type": "markdown",
      "metadata": {},
      "source": [
        "### <a id='toc1_5_31_'></a>[`lastIndexOf()` Metodu](#toc0_)\n",
        "\n",
        "`indexOf()` metodu gibi çalışır aralarındaki fark şayet dizi içerisinde aynı elementten birden fazla varsa son elementin index değeri geri döndürülür.\n",
        "\n",
        "**Örnek**\n"
      ]
    },
    {
      "cell_type": "code",
      "execution_count": 113,
      "metadata": {
        "vscode": {
          "languageId": "javascript"
        }
      },
      "outputs": [
        {
          "name": "stdout",
          "output_type": "stream",
          "text": [
            "Dizi içerisindeki son Lada elementinin index değeri: 4\n"
          ]
        }
      ],
      "source": [
        "%%script node \n",
        "\n",
        "const cars = [\"Lada\", \"BMW\", \"Mercedes\", \"Lexus\",\"Lada\"];\n",
        "\n",
        "// Dizi içerisindeki son \"Lada\" elementinin pozisyonu konsola yazdırılır.\n",
        "console.log(`Dizi içerisindeki son Lada elementinin index değeri: ${cars.lastIndexOf(\"Lada\")}`);\n"
      ]
    },
    {
      "cell_type": "markdown",
      "metadata": {},
      "source": [
        "### <a id='toc1_5_32_'></a>[`find()` Metodu](#toc0_)\n",
        "\n",
        "Belirlediğimiz bir kritere göre dizi içerisinde kritere ilk uyan element üzerinde işlem yapmak isteyebiliriz bu durumda `find()` metodundan faydalanırız.\n",
        "\n",
        "**Örnek**\n"
      ]
    },
    {
      "cell_type": "code",
      "execution_count": 114,
      "metadata": {
        "vscode": {
          "languageId": "javascript"
        }
      },
      "outputs": [
        {
          "name": "stdout",
          "output_type": "stream",
          "text": [
            "Sonuç: 25\n"
          ]
        }
      ],
      "source": [
        "%%script node\n",
        "\n",
        "const numbers = [4, 9, 16, 25, 29];\n",
        "\n",
        "// first değişkenin depolayacağı değer, kriter ile uyuşan ilk dizi elementi olacaktır.\n",
        "let first = numbers.find(value => value > 18);\n",
        "\n",
        "console.log(`Sonuç: ${first}`);"
      ]
    },
    {
      "cell_type": "markdown",
      "metadata": {},
      "source": [
        "### <a id='toc1_5_33_'></a>[`findIndex()` Metodu](#toc0_)\n",
        "\n",
        "Bazen belirlediğimiz kriterle uyuşan ilk elementin index değerine ulaşmak isteyebiliriz. Bu durumda `findIndex()` metodunu kullanırız.\n",
        "\n",
        "**Örnek**\n"
      ]
    },
    {
      "cell_type": "code",
      "execution_count": 115,
      "metadata": {
        "vscode": {
          "languageId": "javascript"
        }
      },
      "outputs": [
        {
          "name": "stdout",
          "output_type": "stream",
          "text": [
            "Sonuç: 3\n"
          ]
        }
      ],
      "source": [
        "%%script node\n",
        "\n",
        "const numbers = [4, 9, 16, 25, 29];\n",
        "\n",
        "// first değişkenin depolayacağı değer kriter ile uyuşan ilk dizi elementinin index değeri olacaktır.\n",
        "let first = numbers.findIndex(value => value > 18);\n",
        "\n",
        "console.log(`Sonuç: ${first}`);"
      ]
    },
    {
      "cell_type": "markdown",
      "metadata": {},
      "source": [
        "### <a id='toc1_5_34_'></a>[`Array.from()` Metodu](#toc0_)\n",
        "\n",
        "Kullanılan parametrenin uzunluğuna ve içeriğine göre yeni bir dizi oluşturmak için kullanılır.\n",
        "\n",
        "**💡 Özellikle bir string değerin her karakterini dizi olarak kullanmak istediğimizde `from()` metodundan faydalanabiliriz.**\n",
        "\n",
        "**Aynı işlemi `...` (Spread) operatörü ile de gerçekleştirebiliriz.**\n",
        "\n",
        "**Örnek**\n"
      ]
    },
    {
      "cell_type": "code",
      "execution_count": 116,
      "metadata": {
        "vscode": {
          "languageId": "javascript"
        }
      },
      "outputs": [
        {
          "name": "stdout",
          "output_type": "stream",
          "text": [
            "[\n",
            "  \u001b[32m'L'\u001b[39m, \u001b[32m'i'\u001b[39m, \u001b[32m'n'\u001b[39m,\n",
            "  \u001b[32m' '\u001b[39m, \u001b[32m'W'\u001b[39m, \u001b[32m'a'\u001b[39m,\n",
            "  \u001b[32m'y'\u001b[39m, \u001b[32m'n'\u001b[39m, \u001b[32m'e'\u001b[39m\n",
            "]\n"
          ]
        }
      ],
      "source": [
        "%%script node\n",
        "\n",
        "console.log(Array.from(\"Lin Wayne\"));"
      ]
    },
    {
      "cell_type": "markdown",
      "metadata": {},
      "source": [
        "### <a id='toc1_5_35_'></a>[`keys()` Metodu](#toc0_)\n",
        "\n",
        "Bazen dizi içerisindeki index değerlerini yeni dizi içerisinde depolayarak kullanmak isteriz bu durumda `keys()` metodundan faydalanırız.\n",
        "\n",
        "**Örnek**\n"
      ]
    },
    {
      "cell_type": "code",
      "execution_count": 117,
      "metadata": {
        "vscode": {
          "languageId": "javascript"
        }
      },
      "outputs": [
        {
          "name": "stdout",
          "output_type": "stream",
          "text": [
            "[ \u001b[33m0\u001b[39m, \u001b[33m1\u001b[39m, \u001b[33m2\u001b[39m, \u001b[33m3\u001b[39m, \u001b[33m4\u001b[39m ]\n"
          ]
        }
      ],
      "source": [
        "%%script node\n",
        "\n",
        "const cars = [\"Lada\", \"Tata\", \"BMW\", \"Mercedes\", \"Lexus\"];\n",
        "\n",
        "// cars değişkenin içerisindeki elementlerin index değerleri dizi şeklinde oluşturulup konsola yazdırılır.\n",
        "console.log(Array.from(cars.keys()));\n"
      ]
    },
    {
      "cell_type": "markdown",
      "metadata": {},
      "source": [
        "### <a id='toc1_5_36_'></a>[`entries()` Metodu](#toc0_)\n",
        "\n",
        "`entries()` metodu, bir dizi içindeki her elementin (değer ve index çiftinin) bir dizi içinde bulunduğu bir dizi nesnesi döndürür. Bu yöntem, bir dizi içindeki her bir elementin hem değeri hem de index'i (anahtarı) ile birlikte kullanılmasını sağlar.\n",
        "\n",
        "**Örnek**\n"
      ]
    },
    {
      "cell_type": "code",
      "execution_count": 118,
      "metadata": {
        "vscode": {
          "languageId": "javascript"
        }
      },
      "outputs": [
        {
          "name": "stdout",
          "output_type": "stream",
          "text": [
            "[ \u001b[33m0\u001b[39m, \u001b[32m'Lada'\u001b[39m ]\n",
            "[ \u001b[33m1\u001b[39m, \u001b[32m'Tata'\u001b[39m ]\n",
            "[ \u001b[33m2\u001b[39m, \u001b[32m'BMW'\u001b[39m ]\n",
            "[ \u001b[33m3\u001b[39m, \u001b[32m'Mercedes'\u001b[39m ]\n",
            "[ \u001b[33m4\u001b[39m, \u001b[32m'Lexus'\u001b[39m ]\n"
          ]
        }
      ],
      "source": [
        "%%script node\n",
        "\n",
        "const cars = [\"Lada\", \"Tata\", \"BMW\", \"Mercedes\", \"Lexus\"];\n",
        "\n",
        "const entries = cars.entries();\n",
        "\n",
        "// Döngü yardımıyla cars değişkenin elementlerini ve index değerlerini konsola yazdırıyoruz.\n",
        "for (const entry of entries) {\n",
        "  console.log(entry);\n",
        "}"
      ]
    },
    {
      "cell_type": "markdown",
      "metadata": {},
      "source": [
        "### <a id='toc1_5_37_'></a>[`includes()` Metodu](#toc0_)\n",
        "\n",
        "Bazen bir değerin dizi içerisinde **tam olarak uyuşup/uyuşmadığını** merak edebiliriz. Bu durumda `includes()` metodunu kullanırız. Şayet metot içerisinde kullandığımız parametre ile dizi elementleri arasında tam bir uyuşma varsa sonuç `true` yoksa `false` olarak geri döndürülür.\n",
        "\n",
        "`indexOf()` metodunun aksine `includes()` metodu `NaN` değerleri de kontrol eder.\n",
        "\n",
        "**Örnek**\n"
      ]
    },
    {
      "cell_type": "code",
      "execution_count": 119,
      "metadata": {
        "vscode": {
          "languageId": "javascript"
        }
      },
      "outputs": [
        {
          "name": "stdout",
          "output_type": "stream",
          "text": [
            "Ahmet string'i personalNames değişkeni elementleri arsında yer alıyor mu?: true\n",
            "Meh string'i personalNames değişkeni elementleri arsında yer alıyor mu?: false\n"
          ]
        }
      ],
      "source": [
        "%%script node\n",
        "\n",
        "const personalNames = [\"Ahmet\", \"Mehmet\", \"Can\"];\n",
        "\n",
        "// \"Ahmet\" değeri dizi elementleri arasında olduğu için sonuç true olarak geri döndürülür.\n",
        "console.log(`Ahmet string'i personalNames değişkeni elementleri arsında yer alıyor mu?: ${personalNames.includes(\"Ahmet\")}`);\n",
        "\n",
        "// \"Meh\" değeri dizi elementleri arasında olmadığı için sonuç false olarak geri döndürülür.\n",
        "console.log(`Meh string'i personalNames değişkeni elementleri arsında yer alıyor mu?: ${personalNames.includes(\"Meh\")}`);"
      ]
    },
    {
      "cell_type": "markdown",
      "metadata": {},
      "source": [
        "### <a id='toc1_5_38_'></a>[`length` Property Kullanımı](#toc0_)\n",
        "\n",
        "`length` property'si dizi özellikli bir değişkenin uzunluğunu sayısal olarak geri döndürür.\n",
        "\n",
        "Hatırlarsak daha önce bu property'i dizi özellikli bir değişkene element eklemek için kullanmıştık.\n",
        "\n",
        "**Örnek**\n"
      ]
    },
    {
      "cell_type": "code",
      "execution_count": 120,
      "metadata": {
        "vscode": {
          "languageId": "javascript"
        }
      },
      "outputs": [
        {
          "name": "stdout",
          "output_type": "stream",
          "text": [
            "cars değişkeninin uzunluğu: 3\n",
            "cars değişkenin güncel içeriği: Lada,Tata,BMW,Mercedes\n"
          ]
        }
      ],
      "source": [
        "%%script node\n",
        "\n",
        "const cars = [\"Lada\", \"Tata\", \"BMW\"];\n",
        "\n",
        "// Dizi özellikli cars değişkeninin uzunluğunu konsola yazdırır.\n",
        "console.log(`cars değişkeninin uzunluğu: ${cars.length}`);\n",
        "\n",
        "// cars değişkenine Mercedes elementini ekliyoruz. Eklenen element değişken içerisinde en sona yerleştirilecektir.\n",
        "cars[cars.length] = \"Mercedes\";\n",
        "\n",
        "// Yeni değer ekledikten sonra cars değişkeninin depoladığı elementleri konsola yazdırıyoruz.\n",
        "console.log(`cars değişkenin güncel içeriği: ${cars}`);"
      ]
    },
    {
      "cell_type": "markdown",
      "metadata": {},
      "source": [
        "## <a id='toc1_6_'></a>[Özet](#toc0_)\n",
        "\n",
        "JavaScript'te dizi veri türü, verileri koleksiyon halinde gruplandırmak için kullanılır. Bu veri türü, özellikle birçok elementi organize etmek ve üzerinde işlemler yapmak için idealdir.\n",
        "\n",
        "Dizi oluşturmak için iki temel yöntem vardır: **literal yöntemi** ve **nesne yöntemi**. Literal yöntemi, köşeli parantez içinde elemanları içerir, örneğin `let cars = [\"Lada\", \"Toyota\", \"Ford\"];`. Nesne yöntemi ise `new Array()` constructor'ını kullanarak bir dizi oluşturur.\n",
        "\n",
        "Dizi içindeki elementlere erişmek için **index numaraları** kullanılır. Örneğin, `cars[0]` ifadesi ile \"Lada\" elementine ulaşır.\n",
        "\n",
        "Diziye yeni element eklemek için `push()` metodu, index değeri ile ekleme veya `length` property'sini kullanma yöntemleri kullanılabilir.\n",
        "\n",
        "Dizilerde **associative özelliği doğrudan desteklenmez**, bu nedenle elementlere index numaralarıyla erişilir.\n",
        "\n",
        "Dizi veri türü birçok **metot** içerir. `pop()`, `shift()`, `concat()`, `slice()`, `forEach()`, `map()`, `filter()`, `reduce()` gibi metotlar, diziler üzerinde yaygın olarak kullanılır.\n",
        "\n",
        "**Spread operatörü** (`...`), iterable nesneleri kopyalamak, birleştirmek veya genişletmek için kullanılır.\n",
        "\n",
        "Bu özellikler, JavaScript'te dizilerle veri işleme ve düzenleme konusunda **esneklik sağlar**.\n"
      ]
    }
  ],
  "metadata": {
    "kernelspec": {
      "display_name": "Python 3 (ipykernel)",
      "language": "python",
      "name": "python3"
    },
    "language_info": {
      "codemirror_mode": {
        "name": "ipython",
        "version": 3
      },
      "file_extension": ".py",
      "mimetype": "text/x-python",
      "name": "python",
      "nbconvert_exporter": "python",
      "pygments_lexer": "ipython3",
      "version": "3.10.12"
    }
  },
  "nbformat": 4,
  "nbformat_minor": 2
}
