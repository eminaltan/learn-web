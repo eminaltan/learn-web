{
 "cells": [
  {
   "cell_type": "markdown",
   "metadata": {},
   "source": [
    "# JavaScript'te Tarih Nesnesi<a id='toc0_'></a>\n",
    "\n",
    "Merhaba arkadaşlar serinin bu bölümünde JavaScript'te **_tarih nesnesini (date)_** kavramını inceleyeceğiz.\n",
    "\n",
    "Yazıda:\n",
    "\n",
    "- [JavaScript Tarih Nesnesi Oluşturma](#toc1_1_)\n",
    "- [`new Date()` Yöntemi ile Tarih Oluşturma](#toc1_1_1_)\n",
    "- [`new Date(tarih string)` Yöntemi ile Tarih Oluşturma](#toc1_1_2_)\n",
    "- [`new Date(yıl, ay, gün, saat, dakika, saniye, mili saniye)` Yöntemi ile Tarih Oluşturma](#toc1_1_3_)\n",
    "  - [Tek veya İkili Notasyon Kullanımı](#toc1_1_3_1_)\n",
    "- [`new Date(mili saniye)` Yöntemi ile Tarih Oluşturma](#toc1_1_4_)\n",
    "- [Tarih Standartları](#toc1_2_)\n",
    "  - [ISO Tarih Standardı](#toc1_2_1_)\n",
    "  - [Kısa Tarih Standardı](#toc1_2_2_)\n",
    "  - [Uzun Tarih Standardı](#toc1_2_3_)\n",
    "- [Tarih Metotları](#toc1_3_)\n",
    "  - [`toDateString()` Metodu](#toc1_3_1_)\n",
    "  - [`toUTCString()` Metodu](#toc1_3_2_)\n",
    "  - [`toISOString()`](#toc1_3_3_)\n",
    "  - [`getFullYear()` Metodu](#toc1_3_4_)\n",
    "  - [`getMoth()` Metodu](#toc1_3_5_)\n",
    "  - [`getDate()` Metodu](#toc1_3_6_)\n",
    "  - [`getHours()` Metodu](#toc1_3_7_)\n",
    "  - [`getMinutes()` Metodu](#toc1_3_8_)\n",
    "  - [`getSeconds()` Metodu](#toc1_3_9_)\n",
    "  - [`getMilliseconds()` Metodu](#toc1_3_10_)\n",
    "  - [`getDay()` Metodu](#toc1_3_11_)\n",
    "  - [`getTime()` Metodu](#toc1_3_12_)\n",
    "  - [`setFullYear()` Metodu](#toc1_3_13_)\n",
    "  - [`setMonth()` Metodu](#toc1_3_14_)\n",
    "  - [`setDate()` Metodu](#toc1_3_15_)\n",
    "  - [`setHours()` Metodu](#toc1_3_16_)\n",
    "  - [`setMinutes()` Metodu](#toc1_3_17_)\n",
    "  - [`setSeconds()` Metodu](#toc1_3_18_)\n",
    "- [JavaScript'te Tarihlerin Kıyaslanması](#toc1_4_)\n",
    "- [Özet](#toc1_5_)\n",
    "\n",
    "Değineceğim.\n",
    "\n",
    "İyi okumalar dilerim.\n",
    "\n",
    "If you want to read English version of this article please visit [this link](js16-date-object.ipynb)\n",
    "\n",
    "<!-- vscode-jupyter-toc-config\n",
    "\tnumbering=false\n",
    "\tanchor=true\n",
    "\tflat=false\n",
    "\tminLevel=1\n",
    "\tmaxLevel=6\n",
    "\t/vscode-jupyter-toc-config -->\n",
    "<!-- THIS CELL WILL BE REPLACED ON TOC UPDATE. DO NOT WRITE YOUR TEXT IN THIS CELL -->\n"
   ]
  },
  {
   "cell_type": "markdown",
   "metadata": {},
   "source": [
    "## <a id='toc1_1_'></a>[JavaScript Tarih Nesnesi Oluşturma](#toc0_)\n",
    "\n",
    "JavaScript'te tarih türünde nesneler oluşturabiliriz. Tarih türünde bir nesne oluşturmak için `new Date()` constructor metodunu kullanırız.\n",
    "\n",
    "Varsayılan olarak tarih nesnesi browser'ın time zone bilgisini kullanacak ve string bir değer şeklinde sonucu gösterecektir.\n",
    "\n",
    "**Örnek**\n"
   ]
  },
  {
   "cell_type": "code",
   "execution_count": 63,
   "metadata": {
    "vscode": {
     "languageId": "javascript"
    }
   },
   "outputs": [
    {
     "name": "stdout",
     "output_type": "stream",
     "text": [
      "\u001b[35m2024-02-11T23:45:35.357Z\u001b[39m\n"
     ]
    }
   ],
   "source": [
    "%%script node\n",
    "\n",
    "const whatIsTheDate = new Date();\n",
    "\n",
    "// Varsayılan olarak browser'ın time zone bilgisini kullanarak bir tarih nesnesi oluşturmuş olduk.\n",
    "console.log(whatIsTheDate);"
   ]
  },
  {
   "cell_type": "markdown",
   "metadata": {},
   "source": [
    "**Tarih nesnesini 4 yöntemden biriyle oluşturabiliriz:**\n",
    "\n",
    "- `new Date()`\n",
    "\n",
    "- `new Date(tarih string)`\n",
    "\n",
    "- `new Date(yıl, ay, gün, saat, dakika, saniye, mili saniye)`\n",
    "\n",
    "- `new Date(mili saniye)`\n",
    "\n",
    "Şimdi bu yöntemlere değinelim.\n"
   ]
  },
  {
   "cell_type": "markdown",
   "metadata": {},
   "source": [
    "### <a id='toc1_1_1_'></a>[`new Date()` Yöntemi ile Tarih Oluşturma](#toc0_)\n",
    "\n",
    "Parametre olmadan `new Date()` constructor metodunu kullandığımızda bulunduğumuz tarih ve zaman için tarih türünde nesne oluşturulur.\n",
    "\n",
    "Tarih bilgisi yıl, ay, gün, saat, dakika, saniye ve mili saniye bilgileri kullanarak oluşturulur.\n",
    "\n",
    "**Örnek**\n"
   ]
  },
  {
   "cell_type": "code",
   "execution_count": 2,
   "metadata": {
    "vscode": {
     "languageId": "javascript"
    }
   },
   "outputs": [
    {
     "name": "stdout",
     "output_type": "stream",
     "text": [
      "Mon Feb 12 2024 01:29:21 GMT+0300 (GMT+03:00)\n"
     ]
    }
   ],
   "source": [
    "%%script node\n",
    "\n",
    "const whatIsTheDate = new Date();\n",
    "\n",
    "// Şu anki tarihi ve zamanı konsola yazdırıyoruz.\n",
    "console.log(whatIsTheDate.toString());\n"
   ]
  },
  {
   "cell_type": "markdown",
   "metadata": {},
   "source": [
    "### <a id='toc1_1_2_'></a>[`new Date(tarih string)` Yöntemi ile Tarih Oluşturma](#toc0_)\n",
    "\n",
    "Oluşturmak istediğimiz tarihi string şekilde `new Date()` constructor metodu içerisinde parametre şeklinde kullanabiliriz.\n",
    "\n",
    "**Örnek**\n"
   ]
  },
  {
   "cell_type": "code",
   "execution_count": 3,
   "metadata": {
    "vscode": {
     "languageId": "javascript"
    }
   },
   "outputs": [
    {
     "name": "stdout",
     "output_type": "stream",
     "text": [
      "Mon Oct 13 2014 11:13:00 GMT+0300 (GMT+03:00)\n"
     ]
    }
   ],
   "source": [
    "%%script node\n",
    "\n",
    "const stringDate = new Date(\"October 13, 2014 11:13:00\");\n",
    "\n",
    "// Belirlediğimiz tarihi konsola yazdırıyoruz.\n",
    "console.log(stringDate.toString());"
   ]
  },
  {
   "cell_type": "markdown",
   "metadata": {},
   "source": [
    "### <a id='toc1_1_3_'></a>[`new Date(yıl, ay, gün, saat, dakika, saniye, mili saniye)` Yöntemi ile Tarih Oluşturma](#toc0_)\n",
    "\n",
    "Bir tarihi ve zamanı belirlediğimiz parametrelere göre oluşturabiliriz. Bu durumda `new Date()` constructor metodunda 7 parametreden ihtiyacımıza uygun olanı kullanabiliriz.\n",
    "\n",
    "**Örnek**\n"
   ]
  },
  {
   "cell_type": "code",
   "execution_count": 4,
   "metadata": {
    "vscode": {
     "languageId": "javascript"
    }
   },
   "outputs": [
    {
     "name": "stdout",
     "output_type": "stream",
     "text": [
      "Tue May 01 2018 00:00:00 GMT+0300 (GMT+03:00)\n",
      "Mon Jan 06 2020 03:20:58 GMT+0300 (GMT+03:00)\n"
     ]
    }
   ],
   "source": [
    "%%script node\n",
    "\n",
    "// Yıl ve ay parametreleri ile tarih türünden bir nesne oluşturuluyor.\n",
    "const date = new Date(2018, 4);\n",
    "\n",
    "// Yıl, ay, gün, saat, dakika ve saniye parametreleri ile tarih türünden bir nesne oluşturuluyor.\n",
    "const date2 = new Date(2020, 0, 6, 3, 20, 58);\n",
    "\n",
    "console.log(date.toString());\n",
    "\n",
    "console.log(date2.toString());"
   ]
  },
  {
   "cell_type": "markdown",
   "metadata": {},
   "source": [
    "**⚠️ JavaScript ay aralığını 0 ile 11 rakamları arasında değerlendirir. 0 rakamı Ocak ayına denk gelirken 11 rakamı Aralık ayına denk gelir.**\n",
    "\n",
    "**Örnek**\n"
   ]
  },
  {
   "cell_type": "code",
   "execution_count": 5,
   "metadata": {
    "vscode": {
     "languageId": "javascript"
    }
   },
   "outputs": [
    {
     "name": "stdout",
     "output_type": "stream",
     "text": [
      "Mon Jan 01 2018\n",
      "Sat Dec 01 2018\n"
     ]
    }
   ],
   "source": [
    "%%script node\n",
    "\n",
    "const date = new Date(2018, 0);\n",
    "const date2 = new Date(2018, 11);\n",
    "\n",
    "// Dikkat ederseniz ay kısmı Ocak olarak belirlendi.\n",
    "console.log(date.toDateString());\n",
    "\n",
    "// Dikkat ederseniz ay kısmı Aralık olarak belirlendi.\n",
    "console.log(date2.toDateString());"
   ]
  },
  {
   "cell_type": "markdown",
   "metadata": {},
   "source": [
    "**⚠️ Ay değerinin 11'den fazla olması durumunda JavaScript herhangi bir hata mesajı döndürmez fakat 11'den fazla olan kısım yıl değerine devredilir ve değerlendirilir.**\n",
    "\n",
    "**Bu durum gün için de geçerlidir. Şayet gün değeri 31'den fazla ise artan kısım ay değerine değerine devredilir ve değerlendirilir.**\n",
    "\n",
    "**Örnek**\n"
   ]
  },
  {
   "cell_type": "code",
   "execution_count": 6,
   "metadata": {
    "vscode": {
     "languageId": "javascript"
    }
   },
   "outputs": [
    {
     "name": "stdout",
     "output_type": "stream",
     "text": [
      "Tue Jan 01 2019\n",
      "Sun Dec 02 2018\n"
     ]
    }
   ],
   "source": [
    "%%script node\n",
    "\n",
    "const date = new Date(2018, 12);\n",
    "const date2 = new Date(2018, 10,32);\n",
    "\n",
    "// Dikkat ederseniz yıl kısmı 2019 olarak belirlendi.\n",
    "console.log(date.toDateString());\n",
    "\n",
    "// Dikkat ederseniz ay kısmı Aralık olarak belirlendi. Halbuki Ekim olarak değerlendirilmesini beklerdik.\n",
    "console.log(date2.toDateString());\n"
   ]
  },
  {
   "cell_type": "markdown",
   "metadata": {},
   "source": [
    "**⚠️ JavaScript Ocak 1 1970 tarihinden bu yana geçen zamanı mili saniye olarak değerlendirir. Bir gün 86 400 000 mili saniyeden oluşur.**\n",
    "\n",
    "**Bir tarih nesnesi sadece yıl parametresinden oluşuyorsa bu durumda JavaScript bu değeri de mili saniye olarak değerlendirir.**\n",
    "\n",
    "**Örnek**\n"
   ]
  },
  {
   "cell_type": "code",
   "execution_count": 41,
   "metadata": {
    "vscode": {
     "languageId": "javascript"
    }
   },
   "outputs": [
    {
     "name": "stdout",
     "output_type": "stream",
     "text": [
      "Thu Jan 01 1970 02:00:02 GMT+0200 (GMT+03:00)\n"
     ]
    }
   ],
   "source": [
    "%%script node\n",
    "\n",
    "const date = new Date(2020);\n",
    "\n",
    "console.log(date.toString());"
   ]
  },
  {
   "cell_type": "markdown",
   "metadata": {},
   "source": [
    "#### <a id='toc1_1_3_1_'></a>[Tek veya İkili Notasyon Kullanımı](#toc0_)\n",
    "\n",
    "Yıl parametresi tek veya ikili notasyon olarak ifade edildiğinde JavaScript yıl değerini **_19xx_** formatında değerlendirir.\n",
    "\n",
    "**Örnek**\n"
   ]
  },
  {
   "cell_type": "code",
   "execution_count": 8,
   "metadata": {
    "vscode": {
     "languageId": "javascript"
    }
   },
   "outputs": [
    {
     "name": "stdout",
     "output_type": "stream",
     "text": [
      "\u001b[33m1998\u001b[39m\n",
      "\u001b[33m1908\u001b[39m\n"
     ]
    }
   ],
   "source": [
    "%%script node\n",
    "\n",
    "const date = new Date(98, 11, 5);\n",
    "const date2 = new Date(8, 11, 5);\n",
    "\n",
    "// Yıl bölümü 1998 şeklinde oluşturuldu.\n",
    "console.log(date.getFullYear());\n",
    "\n",
    "// Yıl bölümü 1908 şeklinde oluşturuldu.\n",
    "console.log(date2.getFullYear());"
   ]
  },
  {
   "cell_type": "markdown",
   "metadata": {},
   "source": [
    "**⚠️ Kısa tarih veya ISO standart formatı kullanılarak tarih nesnesi oluşturulacaksa ay ve gün kısımları için ikili notasyon kullanılması tavsiye edilir. Şayet kullanılmazsa bazı tarayıcılar tarih nesnesini doğru yorumlayamaz ve hatalı sonuç üretir.**\n",
    "\n",
    "**Örnek**\n",
    "\n",
    "```javascript\n",
    "/**\n",
    " * Dikkat ederseniz ay için tekli notasyon kullandık. ISO standardına bağlı kalarak oluşturulmuş date nesnesi\n",
    " * bazı browser'larda hatalı sonuç döndürülmesine neden olacaktır.\n",
    " */\n",
    "const date = new Date(\"2015-3-25\");\n",
    "```\n"
   ]
  },
  {
   "cell_type": "markdown",
   "metadata": {},
   "source": [
    "### <a id='toc1_1_4_'></a>[`new Date(mili saniye)` Yöntemi ile Tarih Oluşturma](#toc0_)\n",
    "\n",
    "`new Date()` constructor metodunda parametre olarak number veri türü özellikli bir değer kullandığımızda JavaScript bu değeri mili saniye olarak yorumlar ve mili saniye değerini tarihe çevirir.\n",
    "\n",
    "**⚠️ Mili saniye olarak değer kullandığımızda JavaScript başlangıç tarihi olarak Ocak 01, 1970 00:00:00 UTC değerini referans alır.**\n",
    "\n",
    "**Örnek**\n"
   ]
  },
  {
   "cell_type": "code",
   "execution_count": 9,
   "metadata": {
    "vscode": {
     "languageId": "javascript"
    }
   },
   "outputs": [
    {
     "name": "stdout",
     "output_type": "stream",
     "text": [
      "Mon May 03 1976\n",
      "Sat Aug 31 1963\n"
     ]
    }
   ],
   "source": [
    "%%script node\n",
    "\n",
    "// Number veri türü özellikli değer tarih değerine çevrilecek.\n",
    "const date = new Date(200000000000);\n",
    "\n",
    "// Negatif mili saniye değerleri kullanabiliriz.\n",
    "const date2 = new Date(-200000000000);\n",
    "\n",
    "console.log(date.toDateString());\n",
    "console.log(date2.toDateString());"
   ]
  },
  {
   "cell_type": "markdown",
   "metadata": {},
   "source": [
    "## <a id='toc1_2_'></a>[Tarih Standartları](#toc0_)\n",
    "\n",
    "**JavaScript'te 3 tür tarih standardı vardır:**\n",
    "\n",
    "- ISO tarih standardı\n",
    "\n",
    "- Kısa tarih standardı\n",
    "\n",
    "- Uzun tarih standardı\n",
    "\n",
    "Şimdi bunlara değinelim.\n"
   ]
  },
  {
   "cell_type": "markdown",
   "metadata": {},
   "source": [
    "### <a id='toc1_2_1_'></a>[ISO Tarih Standardı](#toc0_)\n",
    "\n",
    "JavaScript'in varsayılan olarak kullandığı tarih standardıdır.\n",
    "\n",
    "**⚠️ ISO standardı tüm tarayıcılar tarafından aynı şekilde yorumlandığından bir tarih nesnesi tüm tarayıcılara aynı şekilde oluşturulur ve görüntülenir. Diğer standartlar tarayıcılar tarafından farklı şekillerde yorumlanabilir ve tarih nesnesini farklı şekillerde oluşturup gösterebilir. Bu bakımdan ISO tarih standardına bağlı kalınarak tarih nesnesi oluşturulması tavsiye edilir.**\n",
    "\n",
    "Tarih ve zaman değerleri **_T_** harfi ile birbirlerinden ayrılırlar. **_Z_** harfi ise UTC değerini ifade eder.\n",
    "\n",
    "**_UTC (Universal Time Coordinated)_** kavramı ile **_GMT (Greenwich Mean Time)_** kavramı eş değerdir. Her ikisi de aynı anlama gelir.\n",
    "\n",
    "ISO standardında bir tarih nesnesi varsayılan olarak **_YYYY-MM-DD_** pattern'i kullanarak oluşturulur.\n",
    "\n",
    "**Örnek**\n"
   ]
  },
  {
   "cell_type": "code",
   "execution_count": 10,
   "metadata": {
    "vscode": {
     "languageId": "javascript"
    }
   },
   "outputs": [
    {
     "name": "stdout",
     "output_type": "stream",
     "text": [
      "\u001b[35m2015-03-20T00:00:00.000Z\u001b[39m\n",
      "\u001b[35m2015-04-19T21:00:00.000Z\u001b[39m\n"
     ]
    }
   ],
   "source": [
    "%%script node\n",
    "\n",
    "// date tarih nesnesi YYYY-MM-DD pattern'ine göre oluşturuluyor.\n",
    "const date = new Date(\"2015-03-20\");\n",
    "const date2 = new Date(2015, 3, 20);\n",
    "\n",
    "console.log(date);\n",
    "console.log(date2);\n"
   ]
  },
  {
   "cell_type": "markdown",
   "metadata": {},
   "source": [
    "İsteğe bağlı olarak farklı pattern türleri kullanılabilir. Aşağıdaki örnekte **_YYYY-MM_** pattern'i ile bir tarih nesnesi oluşturulmuş.\n",
    "\n",
    "**Örnek**\n"
   ]
  },
  {
   "cell_type": "code",
   "execution_count": 11,
   "metadata": {
    "vscode": {
     "languageId": "javascript"
    }
   },
   "outputs": [
    {
     "name": "stdout",
     "output_type": "stream",
     "text": [
      "Sun Mar 01 2015\n"
     ]
    }
   ],
   "source": [
    "%%script node\n",
    "\n",
    "// date tarih nesnesi YYYY-MM pattern'ine göre oluşturuluyor.\n",
    "const date = new Date(\"2015-03\");\n",
    "\n",
    "console.log(date.toDateString());"
   ]
  },
  {
   "cell_type": "markdown",
   "metadata": {},
   "source": [
    "### <a id='toc1_2_2_'></a>[Kısa Tarih Standardı](#toc0_)\n",
    "\n",
    "Bir tarih nesnesi **_MM/DD/YYYY_** pattern'i kullanılarak belirlenmişse kısa tarih standardına uygun olarak oluşturulmuştur.\n",
    "\n",
    "**Örnek**\n"
   ]
  },
  {
   "cell_type": "code",
   "execution_count": 12,
   "metadata": {
    "vscode": {
     "languageId": "javascript"
    }
   },
   "outputs": [
    {
     "name": "stdout",
     "output_type": "stream",
     "text": [
      "Wed Mar 25 2015 00:00:00 GMT+0200 (GMT+03:00)\n"
     ]
    }
   ],
   "source": [
    "%%script node\n",
    "\n",
    "// date nesnesini kısa tarih standardına göre oluşturduk.\n",
    "const date = new Date(\"03/25/2015\");\n",
    "\n",
    "console.log(date.toString());"
   ]
  },
  {
   "cell_type": "markdown",
   "metadata": {},
   "source": [
    "### <a id='toc1_2_3_'></a>[Uzun Tarih Standardı](#toc0_)\n",
    "\n",
    "Bir tarih nesnesi **_MMM DD YYYY_** pattern'i kullanılarak belirlenmişse uzun tarih standardına uygun olarak oluşturulmuştur.\n",
    "\n",
    "**Örnek**\n"
   ]
  },
  {
   "cell_type": "code",
   "execution_count": 13,
   "metadata": {
    "vscode": {
     "languageId": "javascript"
    }
   },
   "outputs": [
    {
     "name": "stdout",
     "output_type": "stream",
     "text": [
      "Wed Mar 25 2015 00:00:00 GMT+0200 (GMT+03:00)\n"
     ]
    }
   ],
   "source": [
    "%%script node\n",
    "\n",
    "// date nesnesini uzun tarih standardına göre oluşturduk.\n",
    "const date = new Date(\"Mar 25 2015\");\n",
    "\n",
    "console.log(date.toString());"
   ]
  },
  {
   "cell_type": "markdown",
   "metadata": {},
   "source": [
    "**💡 İhtiyaçlara bağlı olarak kullanım senaryoları farklılıklar gösterebilir. Örneğin, bir takvim uygulamasında kullanıcıların tarihleri hızlı bir şekilde okuyabilmesi için kısa tarih formatı tercih edilebilirken, bir raporlama aracında daha ayrıntılı tarihler göstermek için uzun tarih formatı tercih edilebilir.**"
   ]
  },
  {
   "cell_type": "markdown",
   "metadata": {},
   "source": [
    "## <a id='toc1_3_'></a>[Tarih Metotları](#toc0_)\n",
    "\n",
    "Tarih özellikli nesne oluşturduktan sonra tarih metotlarını kullanabiliriz. Şimdi de bazı tarih metotlarına değinelim.\n"
   ]
  },
  {
   "cell_type": "markdown",
   "metadata": {},
   "source": [
    "### <a id='toc1_3_1_'></a>[`toDateString()` Metodu](#toc0_)\n",
    "\n",
    "Varsayılan olarak tarih türünde bir nesne oluşturduğumuzda JavaScript `toString()` metodunu kullanarak nesneyi string formata dönüştürür. Bu durumdaki tarih özellikli nesnede varsayılan olarak saat, dakika, saniye GMT bilgisi ve mili saniye değerleri yer alır.\n",
    "\n",
    "Tarih nesnesini daha okunabilir ve anlaşılabilir hale getirmek için `toDateString()` metodu kullanılır. `toDateString()` metodu yıl, ay ve gün şeklinde değer döndürür.\n",
    "\n",
    "**Örnek**\n"
   ]
  },
  {
   "cell_type": "code",
   "execution_count": 14,
   "metadata": {
    "vscode": {
     "languageId": "javascript"
    }
   },
   "outputs": [
    {
     "name": "stdout",
     "output_type": "stream",
     "text": [
      "Sat Dec 05 1998 00:00:00 GMT+0200 (GMT+03:00)\n",
      "Sat Dec 05 1998\n"
     ]
    }
   ],
   "source": [
    "%%script node\n",
    "\n",
    "// İkili notasyon kullanarak tarih nesnesi oluşturuyoruz.\n",
    "const date = new Date(98, 11, 5);\n",
    "\n",
    "console.log(date.toString());\n",
    "\n",
    "// toDateString() metodu ile date değişkenini daha okunabilir hale getirdik. \n",
    "console.log(date.toDateString());"
   ]
  },
  {
   "cell_type": "markdown",
   "metadata": {},
   "source": [
    "### <a id='toc1_3_2_'></a>[`toUTCString()` Metodu](#toc0_)\n",
    "\n",
    "Tarih nesnesini UTC standardına göre biçimlendirir. Bu türdeki bir tarih nesnesinde Yıl, ay, gün,saat, dakika, saniye bilgileri ile birlikte UTC standardına da yer verilir.\n",
    "\n",
    "**Örnek**\n"
   ]
  },
  {
   "cell_type": "code",
   "execution_count": 15,
   "metadata": {
    "vscode": {
     "languageId": "javascript"
    }
   },
   "outputs": [
    {
     "name": "stdout",
     "output_type": "stream",
     "text": [
      "Sun, 11 Feb 2024 22:29:22 GMT\n"
     ]
    }
   ],
   "source": [
    "%%script node\n",
    "\n",
    "const date = new Date();\n",
    "\n",
    "// toUTCString() metodu ile date değişkeninde UTC standardına de yer verdik.\n",
    "console.log(date.toUTCString());"
   ]
  },
  {
   "cell_type": "markdown",
   "metadata": {},
   "source": [
    "### <a id='toc1_3_3_'></a>[`toISOString()`](#toc0_)\n",
    "\n",
    "Tarih nesnesini ISO standardına dönüştürür.\n",
    "\n",
    "**Örnek**\n"
   ]
  },
  {
   "cell_type": "code",
   "execution_count": 16,
   "metadata": {
    "vscode": {
     "languageId": "javascript"
    }
   },
   "outputs": [
    {
     "name": "stdout",
     "output_type": "stream",
     "text": [
      "2024-02-11T22:29:23.133Z\n"
     ]
    }
   ],
   "source": [
    "%%script node\n",
    "\n",
    "const date = new Date();\n",
    "\n",
    "// toISOString() metodu ile date değişkeni ISO standardına dönüşür.\n",
    "console.log(date.toISOString());"
   ]
  },
  {
   "cell_type": "markdown",
   "metadata": {},
   "source": [
    "### <a id='toc1_3_4_'></a>[`getFullYear()` Metodu](#toc0_)\n",
    "\n",
    "Bir tarih nesnesinin bulunduğumuz yıl kısmını sonuç olarak döndürür.\n",
    "\n",
    "**Örnek**\n"
   ]
  },
  {
   "cell_type": "code",
   "execution_count": 61,
   "metadata": {
    "vscode": {
     "languageId": "javascript"
    }
   },
   "outputs": [
    {
     "name": "stdout",
     "output_type": "stream",
     "text": [
      "\u001b[33m2024\u001b[39m\n"
     ]
    }
   ],
   "source": [
    "%%script node\n",
    "\n",
    "// Şu andaki tarih ve zaman değerini kullanıyoruz.\n",
    "const date = new Date();\n",
    "\n",
    "// date nesnesinin yıl kısmını sonuç olarak döndürüyoruz.\n",
    "console.log(date.getFullYear());\n"
   ]
  },
  {
   "cell_type": "markdown",
   "metadata": {},
   "source": [
    "**❗ `getYear()` Metodu ile de aynı sonuç elde edilebilir. Fakat `getYear()` metodunun deprecated olması sebebi ile kullanılmaması tavsiye edilir.**\n"
   ]
  },
  {
   "cell_type": "markdown",
   "metadata": {},
   "source": [
    "### <a id='toc1_3_5_'></a>[`getMoth()` Metodu](#toc0_)\n",
    "\n",
    "Bir tarih nesnesinin ay kısmını sonuç olarak döndürür. Döndürülen değer 0 ile 11 rakamları arasında olacaktır. 0 rakamı Ocak ayını ifade ederken 11 rakamı Aralık ayını ifade eder.\n",
    "\n",
    "**Örnek**\n"
   ]
  },
  {
   "cell_type": "code",
   "execution_count": 18,
   "metadata": {
    "vscode": {
     "languageId": "javascript"
    }
   },
   "outputs": [
    {
     "name": "stdout",
     "output_type": "stream",
     "text": [
      "\u001b[33m1\u001b[39m\n"
     ]
    }
   ],
   "source": [
    "%%script node\n",
    "\n",
    "// Şu andaki tarih ve zaman değerini kullanıyoruz.\n",
    "const date = new Date();\n",
    "\n",
    "// date nesnesinin ay kısmını sonuç olarak döndürür. 1 rakamı Şubat ayına denk gelir.\n",
    "console.log(date.getMonth());\n"
   ]
  },
  {
   "cell_type": "markdown",
   "metadata": {},
   "source": [
    "**💡 Ay değerlerini dizi içerisinde tanımlayabilir ve kullanabiliriz.**\n",
    "\n",
    "**Örnek**\n"
   ]
  },
  {
   "cell_type": "code",
   "execution_count": 19,
   "metadata": {
    "vscode": {
     "languageId": "javascript"
    }
   },
   "outputs": [
    {
     "name": "stdout",
     "output_type": "stream",
     "text": [
      "Mon Feb 12 2024\n"
     ]
    }
   ],
   "source": [
    "%%script node\n",
    "\n",
    "const months = [\"January\", \"February\", \"March\", \"April\", \"May\", \"June\", \"July\", \"August\", \"September\", \"October\", \"November\", \"December\"];\n",
    "\n",
    "const date = new Date();\n",
    "let month = months[date.getMonth()];\n",
    "\n",
    "console.log(date.toDateString());"
   ]
  },
  {
   "cell_type": "markdown",
   "metadata": {},
   "source": [
    "### <a id='toc1_3_6_'></a>[`getDate()` Metodu](#toc0_)\n",
    "\n",
    "Bir tarih nesnesindeki şu anda bulunduğumuz günü sonuç olarak döndürür. Döndürülen değer 1 ile 31 rakamları arasında olacaktır.\n",
    "\n",
    "**Örnek**\n"
   ]
  },
  {
   "cell_type": "code",
   "execution_count": 20,
   "metadata": {
    "vscode": {
     "languageId": "javascript"
    }
   },
   "outputs": [
    {
     "name": "stdout",
     "output_type": "stream",
     "text": [
      "\u001b[33m12\u001b[39m\n"
     ]
    }
   ],
   "source": [
    "%%script node\n",
    "\n",
    "// Şu andaki tarih ve zaman değerini kullanıyoruz.\n",
    "const date = new Date();\n",
    "\n",
    "// Bugünü sayısal olarak konsola yazdırdık.\n",
    "console.log(date.getDate());"
   ]
  },
  {
   "cell_type": "markdown",
   "metadata": {},
   "source": [
    "### <a id='toc1_3_7_'></a>[`getHours()` Metodu](#toc0_)\n",
    "\n",
    "Bir tarih nesnesindeki şu andaki saat kısmını sonuç olarak döndürür. Döndürülen değer 0 ile 23 rakamları arasında olacaktır.\n",
    "\n",
    "**Örnek**\n"
   ]
  },
  {
   "cell_type": "code",
   "execution_count": 21,
   "metadata": {
    "vscode": {
     "languageId": "javascript"
    }
   },
   "outputs": [
    {
     "name": "stdout",
     "output_type": "stream",
     "text": [
      "\u001b[33m1\u001b[39m\n"
     ]
    }
   ],
   "source": [
    "%%script node\n",
    "\n",
    "// Şu andaki tarih ve zaman değerini kullanıyoruz.\n",
    "const date = new Date();\n",
    "\n",
    "// Şu anki saat bilgisini sayısal olarak konsola yazdırdık.\n",
    "console.log(date.getHours());"
   ]
  },
  {
   "cell_type": "markdown",
   "metadata": {},
   "source": [
    "### <a id='toc1_3_8_'></a>[`getMinutes()` Metodu](#toc0_)\n",
    "\n",
    "Bir tarih nesnesindeki şu andaki dakika kısmını sonuç olarak döndürür. Döndürülen değer 0 ile 59 rakamları arasında olacaktır.\n",
    "\n",
    "**Örnek**\n"
   ]
  },
  {
   "cell_type": "code",
   "execution_count": 42,
   "metadata": {
    "vscode": {
     "languageId": "javascript"
    }
   },
   "outputs": [
    {
     "name": "stdout",
     "output_type": "stream",
     "text": [
      "\u001b[33m8\u001b[39m\n"
     ]
    }
   ],
   "source": [
    "%%script node\n",
    "\n",
    "// Şu andaki tarih ve zaman değerini kullanıyoruz.\n",
    "const date = new Date();\n",
    "\n",
    "// Şu andaki dakika bilgisini sayısal olarak konsola yazdırdık.\n",
    "console.log(date.getMinutes());"
   ]
  },
  {
   "cell_type": "markdown",
   "metadata": {},
   "source": [
    "### <a id='toc1_3_9_'></a>[`getSeconds()` Metodu](#toc0_)\n",
    "\n",
    "Bir tarih nesnesindeki şu andaki saniye kısmını sonuç olarak döndürür. Döndürülen değer 0 ile 59 rakamları arasında olacaktır.\n",
    "\n",
    "**Örnek**\n"
   ]
  },
  {
   "cell_type": "code",
   "execution_count": 43,
   "metadata": {
    "vscode": {
     "languageId": "javascript"
    }
   },
   "outputs": [
    {
     "name": "stdout",
     "output_type": "stream",
     "text": [
      "\u001b[33m35\u001b[39m\n"
     ]
    }
   ],
   "source": [
    "%%script node\n",
    "\n",
    "// Şu andaki tarih ve zaman değerini kullanıyoruz.\n",
    "const date = new Date();\n",
    "\n",
    "// Şu andaki saniye değerini sayısal olarak konsola yazdırdık.\n",
    "console.log(date.getSeconds());"
   ]
  },
  {
   "cell_type": "markdown",
   "metadata": {},
   "source": [
    "### <a id='toc1_3_10_'></a>[`getMilliseconds()` Metodu](#toc0_)\n",
    "\n",
    "Bir tarih nesnesindeki şu andaki salise kısmını sonuç olarak döndürür. Döndürülen değer 0 ile 999 rakamları arasında olacaktır.\n",
    "\n",
    "**Örnek**\n"
   ]
  },
  {
   "cell_type": "code",
   "execution_count": 44,
   "metadata": {
    "vscode": {
     "languageId": "javascript"
    }
   },
   "outputs": [
    {
     "name": "stdout",
     "output_type": "stream",
     "text": [
      "\u001b[33m791\u001b[39m\n"
     ]
    }
   ],
   "source": [
    "%%script node\n",
    "\n",
    "// Şu andaki tarih ve zaman değerini kullanıyoruz.\n",
    "const date = new Date();\n",
    "\n",
    "// Şu andaki salise değerini sayısal olarak konsola yazdırdık.\n",
    "console.log(date.getMilliseconds());"
   ]
  },
  {
   "cell_type": "markdown",
   "metadata": {},
   "source": [
    "### <a id='toc1_3_11_'></a>[`getDay()` Metodu](#toc0_)\n",
    "\n",
    "Bir tarih nesnesindeki haftanın çalışma gününü sonuç olarak döndürür. Döndürülen değer 0 ile 6 rakamları arasında olacaktır.\n",
    "\n",
    "**❗ JavaScript'te varsayılan olarak çalışma günü 0'dan başlar bu da Pazar gününe denk gelir.**\n",
    "\n",
    "**Örnek**\n"
   ]
  },
  {
   "cell_type": "code",
   "execution_count": 45,
   "metadata": {
    "vscode": {
     "languageId": "javascript"
    }
   },
   "outputs": [
    {
     "name": "stdout",
     "output_type": "stream",
     "text": [
      "\u001b[33m0\u001b[39m\n"
     ]
    }
   ],
   "source": [
    "%%script node\n",
    "\n",
    "const date = new Date();\n",
    "\n",
    "/** \n",
    " * Bugün Pazar olması sebebi ile 0 değeri konsola yazdıracaktır. JavaScript'te Pazar günü varsayılan olarak \n",
    " * haftanın ilk çalışma günüdür.\n",
    " */\n",
    "console.log(date.getDay());"
   ]
  },
  {
   "cell_type": "markdown",
   "metadata": {},
   "source": [
    "**💡 Haftanın günlerini dizi şeklinde oluşturabiliriz. Bu durumda `getDay()` metodu ile çalışma gününe ait sayısal değeri string şeklinde geri döndürebiliriz.**\n",
    "\n",
    "**Örnek**\n"
   ]
  },
  {
   "cell_type": "code",
   "execution_count": 50,
   "metadata": {
    "vscode": {
     "languageId": "javascript"
    }
   },
   "outputs": [
    {
     "name": "stdout",
     "output_type": "stream",
     "text": [
      "Pazartesi\n"
     ]
    }
   ],
   "source": [
    "%%script node\n",
    "\n",
    "// Çalışma günlerinden oluşan bir dizi oluşturuyoruz.\n",
    "const workOfTheDays = [\"Cumartesi\",\"Pazartesi\",\"Salı\",\"Çarşamba\",\"Perşembe\",\"Cuma\",\"Pazar\"];\n",
    "\n",
    "const date = new Date();\n",
    "\n",
    "/** \n",
    " * workOfTheDays değişkeni içerisinde şu andaki çalışma gününe ait sayısal değerin karşılığı aranır ve bulunan \n",
    " * string değer konsola yazdırılır.\n",
    " */\n",
    "console.log(workOfTheDays[date.getDay()]);"
   ]
  },
  {
   "cell_type": "markdown",
   "metadata": {},
   "source": [
    "### <a id='toc1_3_12_'></a>[`getTime()` Metodu](#toc0_)\n",
    "\n",
    "`newDate()` constructor metodu içerisinde parametre kullanılmışsa Ocak 1 1970 tarihinden bu yana geçen zamanı mili saniye olarak döndürür.\n",
    "\n",
    "**Örnek**\n"
   ]
  },
  {
   "cell_type": "code",
   "execution_count": 27,
   "metadata": {
    "vscode": {
     "languageId": "javascript"
    }
   },
   "outputs": [
    {
     "name": "stdout",
     "output_type": "stream",
     "text": [
      "\u001b[33m592444800000\u001b[39m\n"
     ]
    }
   ],
   "source": [
    "%%script node\n",
    "\n",
    "const date = new Date(\"1988-10-10\");\n",
    "\n",
    "// getTime() metodu ile date değişkeni mili saniye olarak geri döndürülecektir.\n",
    "console.log(date.getTime());\n"
   ]
  },
  {
   "cell_type": "markdown",
   "metadata": {},
   "source": [
    "### <a id='toc1_3_13_'></a>[`setFullYear()` Metodu](#toc0_)\n",
    "\n",
    "Boş bir tarih nesnesi oluşturulduktan sonra `setFullYear()` metodu ile tarih nesnesine ait yıl değeri ayarlanabilir.\n",
    "\n",
    "**Örnek**\n"
   ]
  },
  {
   "cell_type": "code",
   "execution_count": 28,
   "metadata": {
    "vscode": {
     "languageId": "javascript"
    }
   },
   "outputs": [
    {
     "name": "stdout",
     "output_type": "stream",
     "text": [
      "\u001b[33m2020\u001b[39m\n"
     ]
    }
   ],
   "source": [
    "%%script node\n",
    "\n",
    "const date = new Date();\n",
    "\n",
    "// setFullYear() metodu ile date değişkeni içerisinde yıl tanımlıyoruz.\n",
    "date.setFullYear(2020);\n",
    "\n",
    "console.log(date.getFullYear());\n"
   ]
  },
  {
   "cell_type": "markdown",
   "metadata": {},
   "source": [
    "**💡 `setFullYear()` metodunda opsiyonel olarak ay ve gün bilgileri kullanılabilir.**\n",
    "\n",
    "**Örnek**\n"
   ]
  },
  {
   "cell_type": "code",
   "execution_count": 29,
   "metadata": {
    "vscode": {
     "languageId": "javascript"
    }
   },
   "outputs": [
    {
     "name": "stdout",
     "output_type": "stream",
     "text": [
      "Thu Dec 03 2020\n"
     ]
    }
   ],
   "source": [
    "%%script node\n",
    "\n",
    "const date = new Date();\n",
    "\n",
    "// setFullYear() metodu içerisinde ay ve gün değerlerine de yer verdik.\n",
    "date.setFullYear(2020,11,3);\n",
    "\n",
    "console.log(date.toDateString());\n"
   ]
  },
  {
   "cell_type": "markdown",
   "metadata": {},
   "source": [
    "### <a id='toc1_3_14_'></a>[`setMonth()` Metodu](#toc0_)\n",
    "\n",
    "Boş bir tarih nesnesi oluşturulduktan sonra `setMonth()` metodu ile tarih nesnesine ait ay değeri ayarlanabilir. Değer 0 ile 11 arasında bir rakam olmalıdır.\n",
    "\n",
    "**Örnek**\n"
   ]
  },
  {
   "cell_type": "code",
   "execution_count": 30,
   "metadata": {
    "vscode": {
     "languageId": "javascript"
    }
   },
   "outputs": [
    {
     "name": "stdout",
     "output_type": "stream",
     "text": [
      "\u001b[33m10\u001b[39m\n"
     ]
    }
   ],
   "source": [
    "%%script node\n",
    "\n",
    "const date = new Date();\n",
    "\n",
    "// setMonth() metodu ile date değişkeni içerisinde ay tanımlıyoruz.\n",
    "date.setMonth(10);\n",
    "\n",
    "console.log(date.getMonth());\n"
   ]
  },
  {
   "cell_type": "markdown",
   "metadata": {},
   "source": [
    "### <a id='toc1_3_15_'></a>[`setDate()` Metodu](#toc0_)\n",
    "\n",
    "Boş bir tarih nesnesi oluşturulduktan sonra `setDate()` metodu ile tarih nesnesine ait gün değeri ayarlanabilir. Değer 0 ile 31 arasında bir rakam olmalıdır.\n",
    "\n",
    "**Örnek**\n"
   ]
  },
  {
   "cell_type": "code",
   "execution_count": 54,
   "metadata": {
    "vscode": {
     "languageId": "javascript"
    }
   },
   "outputs": [
    {
     "name": "stdout",
     "output_type": "stream",
     "text": [
      "\u001b[33m10\u001b[39m\n"
     ]
    }
   ],
   "source": [
    "%%script node\n",
    "\n",
    "const date = new Date();\n",
    "\n",
    "// setDate() metodu ile date değişkeni içerisinde gün tanımlıyoruz.\n",
    "date.setDate(10);\n",
    "\n",
    "console.log(date.getDate());\n"
   ]
  },
  {
   "cell_type": "markdown",
   "metadata": {},
   "source": [
    "**💡 `setDate()` metodu ile bir tarih nesnesine gün ekleyerek tarihi değiştirebiliriz.**\n",
    "\n",
    "**Örnek**\n"
   ]
  },
  {
   "cell_type": "code",
   "execution_count": 55,
   "metadata": {
    "vscode": {
     "languageId": "javascript"
    }
   },
   "outputs": [
    {
     "name": "stdout",
     "output_type": "stream",
     "text": [
      "Sat Feb 03 2024\n"
     ]
    }
   ],
   "source": [
    "%%script node\n",
    "\n",
    "const date = new Date(\"2023-11-5\");\n",
    "\n",
    "/** \n",
    " * date değişkeni içerisinden tarihi alıyor ve 90 gün ekliyoruz. Bunu var olan tarihe 3 ay eklemek şeklinde \n",
    " * düşünebiliriz.\n",
    " */\n",
    "date.setDate(date.getDate() + 90);\n",
    "\n",
    "console.log(date.toDateString());\n"
   ]
  },
  {
   "cell_type": "markdown",
   "metadata": {},
   "source": [
    "### <a id='toc1_3_16_'></a>[`setHours()` Metodu](#toc0_)\n",
    "\n",
    "Boş bir tarih nesnesi oluşturulduktan sonra `setHours()` metodu ile tarih nesnesine ait saat değeri ayarlanabilir. Değer 0 ile 23 arasında bir rakam olmalıdır.\n",
    "\n",
    "**Örnek**\n"
   ]
  },
  {
   "cell_type": "code",
   "execution_count": 33,
   "metadata": {
    "vscode": {
     "languageId": "javascript"
    }
   },
   "outputs": [
    {
     "name": "stdout",
     "output_type": "stream",
     "text": [
      "\u001b[33m5\u001b[39m\n"
     ]
    }
   ],
   "source": [
    "%%script node\n",
    "\n",
    "const date = new Date();\n",
    "\n",
    "// setHours() metodu ile date değişkeni içerisinde saat tanımlıyoruz.\n",
    "date.setHours(5);\n",
    "\n",
    "console.log(date.getHours());\n"
   ]
  },
  {
   "cell_type": "markdown",
   "metadata": {},
   "source": [
    "### <a id='toc1_3_17_'></a>[`setMinutes()` Metodu](#toc0_)\n",
    "\n",
    "Boş bir tarih nesnesi oluşturulduktan sonra `setMinutes()` metodu ile tarih nesnesine ait dakika değeri ayarlanabilir. Değer 0 ile 59 arasında bir rakam olmalıdır.\n",
    "\n",
    "**Örnek**\n"
   ]
  },
  {
   "cell_type": "code",
   "execution_count": 34,
   "metadata": {
    "vscode": {
     "languageId": "javascript"
    }
   },
   "outputs": [
    {
     "name": "stdout",
     "output_type": "stream",
     "text": [
      "\u001b[33m58\u001b[39m\n"
     ]
    }
   ],
   "source": [
    "%%script node\n",
    "\n",
    "const date = new Date();\n",
    "\n",
    "// setMinutes() metodu ile date değişkeni içerisinde dakika tanımlıyoruz.\n",
    "date.setMinutes(58);\n",
    "\n",
    "console.log(date.getMinutes());\n"
   ]
  },
  {
   "cell_type": "markdown",
   "metadata": {},
   "source": [
    "### <a id='toc1_3_18_'></a>[`setSeconds()` Metodu](#toc0_)\n",
    "\n",
    "Boş bir tarih nesnesi oluşturulduktan sonra `setSeconds()` metodu ile tarih nesnesine ait saniye değeri ayarlanabilir. Değer 0 ile 59 arasında bir rakam olmalıdır.\n",
    "\n",
    "**Örnek**\n"
   ]
  },
  {
   "cell_type": "code",
   "execution_count": 35,
   "metadata": {
    "vscode": {
     "languageId": "javascript"
    }
   },
   "outputs": [
    {
     "name": "stdout",
     "output_type": "stream",
     "text": [
      "\u001b[33m30\u001b[39m\n"
     ]
    }
   ],
   "source": [
    "%%script node\n",
    "\n",
    "const date = new Date();\n",
    "\n",
    "// setMinutes() metodu ile date değişkeni içerisinde dakika tanımlıyoruz.\n",
    "date.setSeconds(30);\n",
    "\n",
    "console.log(date.getSeconds());\n"
   ]
  },
  {
   "cell_type": "markdown",
   "metadata": {},
   "source": [
    "## <a id='toc1_4_'></a>[JavaScript'te Tarihlerin Kıyaslanması](#toc0_)\n",
    "\n",
    "Tarih özellikli iki nesne birbirleri ile kıyaslanabilir.\n",
    "\n",
    "**Örnek**\n"
   ]
  },
  {
   "cell_type": "code",
   "execution_count": 59,
   "metadata": {
    "vscode": {
     "languageId": "javascript"
    }
   },
   "outputs": [
    {
     "name": "stdout",
     "output_type": "stream",
     "text": [
      "future değişkeni büyüktür.\n"
     ]
    }
   ],
   "source": [
    "%%script node\n",
    "\n",
    "const now = new Date();\n",
    "const future = new Date();\n",
    "\n",
    "// future tarih değişkenine yıl, ay ve gün şeklinde yeni değer atıyoruz.\n",
    "future.setFullYear(2025, 11, 10);\n",
    "\n",
    "/** \n",
    " * Ternary (?) operatörü if...else anlamına gelir. Eğer future tarih nesnesi now tarih nesnesinden büyük olursa \n",
    " * ilk ifade tersi durumda : işaretinden sonraki ifade çalışır.\n",
    " */\n",
    "console.log(`${future > now ? \"future değişkeni büyüktür.\" : \"future değişkeni küçüktür.\"}`);\n"
   ]
  },
  {
   "cell_type": "markdown",
   "metadata": {},
   "source": [
    "## <a id='toc1_5_'></a>[Özet](#toc0_)\n",
    "\n",
    "JavaScript'te tarihlerle ilgili işlemler yapmak oldukça esnek ve çeşitlidir. Tarih nesnelerini oluşturmak için farklı yöntemler ve parametreler kullanabiliriz. Bu nesneleri oluşturduktan sonra, çeşitli tarih metotlarıyla tarihlerin belirli özelliklerine erişebilir ve değiştirebiliriz.\n",
    "\n",
    "Ayrıca, tarihler arasında karşılaştırma yapabilir ve tarih aritmetiği yapabiliriz. Bu sayede, tarihler arasındaki farkı hesaplayabilir veya belirli bir tarihe belirli bir zaman aralığı ekleyebiliriz.\n",
    "\n",
    "JavaScript'te tarihlerle çalışırken, tarihleri belirli bir standarta uygun olarak göstermek veya belirli bir formata dönüştürmek için de özel metotlar bulunmaktadır. Bu metotlar, tarihleri daha okunabilir veya belirli bir format gerektiren durumlarda kullanılabilir.\n",
    "\n",
    "Sonuç olarak, JavaScript'te tarihlerle çalışmak için geniş bir araç seti bulunmaktadır ve bu araçlar sayesinde tarihlerle ilgili çeşitli işlemleri kolaylıkla gerçekleştirebiliriz.\n"
   ]
  }
 ],
 "metadata": {
  "kernelspec": {
   "display_name": "Python 3",
   "language": "python",
   "name": "python3"
  },
  "language_info": {
   "codemirror_mode": {
    "name": "ipython",
    "version": 3
   },
   "file_extension": ".py",
   "mimetype": "text/x-python",
   "name": "python",
   "nbconvert_exporter": "python",
   "pygments_lexer": "ipython3",
   "version": "3.10.12"
  }
 },
 "nbformat": 4,
 "nbformat_minor": 2
}
