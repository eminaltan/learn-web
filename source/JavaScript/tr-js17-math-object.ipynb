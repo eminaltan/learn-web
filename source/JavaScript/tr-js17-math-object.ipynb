{
 "cells": [
  {
   "cell_type": "markdown",
   "metadata": {},
   "source": [
    "# JavScript Math Nesnesi<a id='toc0_'></a>\n",
    "\n",
    "Merhaba arkadaşlar serinin bu bölümünde JavaScript'te **_math_** nesnesini inceleyeceğiz.\n",
    "\n",
    "Yazıda:\n",
    "\n",
    "- [JavaScript Math Nesnesine Giriş](#toc1_1_)\n",
    "- [Math Nesnesinin Metotları](#toc1_2_)\n",
    "  - [`Math.round()` Metodu](#toc1_2_1_)\n",
    "  - [`Math.ceil()` Metodu](#toc1_2_2_)\n",
    "  - [`Math.floor()` Metodu](#toc1_2_3_)\n",
    "  - [`Math.trunc()` Metodu](#toc1_2_4_)\n",
    "  - [`Math.sign()` Metodu](#toc1_2_5_)\n",
    "  - [`Math.pow()` Metodu](#toc1_2_6_)\n",
    "  - [`Math.sqrt()` Metodu](#toc1_2_7_)\n",
    "  - [`Math.abs()` Metodu](#toc1_2_8_)\n",
    "  - [`Math.min()` ve `Math.max()` Metotları](#toc1_2_9_)\n",
    "  - [`Math.random()` Metodu](#toc1_2_10_)\n",
    "- [Özet](#toc1_3_)\n",
    "\n",
    "Değineceğim.\n",
    "\n",
    "İyi okumalar dilerim.\n",
    "\n",
    "If you want to read English version of this article please visit [this link](js17-math-object.ipynb)\n",
    "\n",
    "<!-- vscode-jupyter-toc-config\n",
    "\tnumbering=false\n",
    "\tanchor=true\n",
    "\tflat=false\n",
    "\tminLevel=1\n",
    "\tmaxLevel=6\n",
    "\t/vscode-jupyter-toc-config -->\n",
    "<!-- THIS CELL WILL BE REPLACED ON TOC UPDATE. DO NOT WRITE YOUR TEXT IN THIS CELL -->\n"
   ]
  },
  {
   "cell_type": "markdown",
   "metadata": {},
   "source": [
    "## <a id='toc1_1_'></a>[JavaScript Math Nesnesine Giriş](#toc0_)\n",
    "\n",
    "Math nesnesi JavaScript içerisinde hali hazırda bulunan ve bir takım matematiksel işlemleri yapmamızı sağlayan property ve metotlardan oluşan bir nesne türüdür.\n",
    "\n",
    "**⚠️  Math nesnesi, JavaScript'in yerleşik bir nesnesidir ve bu nesnenin özellikleri veya metodları geliştirici tarafından değiştirilemez veya genişletilemez. Yani, Math nesnesine geliştirici tanımlı yeni bir özellik veya metod eklenemez.**\n",
    "\n",
    "Math nesnesindeki property'leri veya metotları kullanmak için diğer nesnelerde olduğu gibi bir constructor (veya constructor function) tanımlamamıza gerek yoktur. İhtiyaç duyduğumuz property veya metodu Math nesnesi içerisinden direkt çağırıp kullanabiliriz.\n",
    "\n",
    "Math nesnesi içerisinde ihtiyaç duyduğumuz bir property'i kullanmak için `Math.propertyName` pattern'ini kullanırız. Buradaki `propertyName` kullanmak istediğimiz property'nin ismini ifade eder. Şayet ihtiyaç duyduğumuz bir metot ise `Math.methodName()` pattern'ini kullanırız. Buradaki `methodName()` kullanmak istediğimiz metodun ismini ifade eder.\n",
    "\n",
    "**Örnek**\n"
   ]
  },
  {
   "cell_type": "code",
   "execution_count": 10,
   "metadata": {
    "vscode": {
     "languageId": "javascript"
    }
   },
   "outputs": [
    {
     "name": "stdout",
     "output_type": "stream",
     "text": [
      "Math nesnesi içerisindeki Math.PI property'sinin değeri: 3.141592653589793\n",
      "Değerler arasındaki en büyük rakam: 90\n"
     ]
    }
   ],
   "source": [
    "%%script node\n",
    "\n",
    "// Math.PI property'sini çağıyoruz.\n",
    "console.log(`Math nesnesi içerisindeki Math.PI property'sinin değeri: ${Math.PI}`);\n",
    "\n",
    "// Math.max() metodunu çağırıp kullanıyoruz.\n",
    "console.log(`Değerler arasındaki en büyük rakam: ${Math.max(3, 4, 5, 67, 90)}`);\n"
   ]
  },
  {
   "cell_type": "markdown",
   "metadata": {},
   "source": [
    "Gerekli tanımlamaları yaptıktan sonra Math nesnesi içerisinde hali hazırda bulunan property'lere ve metotlara değinelim.\n"
   ]
  },
  {
   "cell_type": "markdown",
   "metadata": {},
   "source": [
    "## <a id='toc1_2_'></a>[Math Nesnesinin Metotları](#toc0_)\n",
    "\n",
    "Şimdilik en çok kullanılan bir takım metotlara değineceğim. Dokümanın içeriğini güncelledikçe tüm Math nesnesi metotlarına yer vermiş olacağız.\n"
   ]
  },
  {
   "cell_type": "markdown",
   "metadata": {},
   "source": [
    "### <a id='toc1_2_1_'></a>[`Math.round()` Metodu](#toc0_)\n",
    "\n",
    "Ondalıklı bir değeri kendisine yakın bir tam sayıya yuvarlamak için kullanılır.\n",
    "\n",
    "**Örnek**\n"
   ]
  },
  {
   "cell_type": "code",
   "execution_count": 11,
   "metadata": {
    "vscode": {
     "languageId": "javascript"
    }
   },
   "outputs": [
    {
     "name": "stdout",
     "output_type": "stream",
     "text": [
      "\u001b[33m5\u001b[39m\n",
      "\u001b[33m5\u001b[39m\n",
      "\u001b[33m4\u001b[39m\n"
     ]
    }
   ],
   "source": [
    "%%script node\n",
    "\n",
    "// Aşağıdaki değerler 5 tam sayısına yuvarlanacaktır.\n",
    "console.log(Math.round(4.9));\n",
    "console.log(Math.round(4.5));\n",
    "\n",
    "// Aşağıdaki değer 4 tam sayısına yuvarlanacaktır.\n",
    "console.log(Math.round(4.4));"
   ]
  },
  {
   "cell_type": "markdown",
   "metadata": {},
   "source": [
    "### <a id='toc1_2_2_'></a>[`Math.ceil()` Metodu](#toc0_)\n",
    "\n",
    "Ondalıklı bir değeri kendisinden **bir üst değere** tam sayı olarak yuvarlamak için kullanılır.\n",
    "\n",
    "**Örnek**\n"
   ]
  },
  {
   "cell_type": "code",
   "execution_count": 12,
   "metadata": {
    "vscode": {
     "languageId": "javascript"
    }
   },
   "outputs": [
    {
     "name": "stdout",
     "output_type": "stream",
     "text": [
      "\u001b[33m5\u001b[39m\n",
      "\u001b[33m5\u001b[39m\n",
      "\u001b[33m5\u001b[39m\n",
      "\u001b[33m-4\u001b[39m\n"
     ]
    }
   ],
   "source": [
    "%%script node\n",
    "\n",
    "// Aşağıdaki değerler 5 tam sayısına yuvarlanacaktır.\n",
    "console.log(Math.ceil(4.9));\n",
    "console.log(Math.ceil(4.5));\n",
    "console.log(Math.ceil(4.4));\n",
    "\n",
    "// Negatif değerlerde Math.ceil() metodu kullanımı.\n",
    "console.log(Math.ceil(-4.9));\n"
   ]
  },
  {
   "cell_type": "markdown",
   "metadata": {},
   "source": [
    "### <a id='toc1_2_3_'></a>[`Math.floor()` Metodu](#toc0_)\n",
    "\n",
    "Ondalıklı bir değeri kendisinden **bir alt değere** tam sayı olarak yuvarlamak için kullanılır.\n",
    "\n",
    "**Örnek**\n"
   ]
  },
  {
   "cell_type": "code",
   "execution_count": 13,
   "metadata": {
    "vscode": {
     "languageId": "javascript"
    }
   },
   "outputs": [
    {
     "name": "stdout",
     "output_type": "stream",
     "text": [
      "\u001b[33m4\u001b[39m\n",
      "\u001b[33m4\u001b[39m\n",
      "\u001b[33m4\u001b[39m\n",
      "\u001b[33m-5\u001b[39m\n"
     ]
    }
   ],
   "source": [
    "%%script node\n",
    "\n",
    "// Aşağıdaki değerler 4 tam sayısına yuvarlanacaktır.\n",
    "console.log(Math.floor(4.9));\n",
    "console.log(Math.floor(4.5));\n",
    "console.log(Math.floor(4.4));\n",
    "\n",
    "// Negatif değerlerde Math.floor() metodu kullanımı.\n",
    "console.log(Math.floor(-4.9));\n"
   ]
  },
  {
   "cell_type": "markdown",
   "metadata": {},
   "source": [
    "### <a id='toc1_2_4_'></a>[`Math.trunc()` Metodu](#toc0_)\n",
    "\n",
    "Ondalıklı bir değerin tam sayı kısmını geri döndürür.\n",
    "\n",
    "**Örnek**\n"
   ]
  },
  {
   "cell_type": "code",
   "execution_count": 14,
   "metadata": {
    "vscode": {
     "languageId": "javascript"
    }
   },
   "outputs": [
    {
     "name": "stdout",
     "output_type": "stream",
     "text": [
      "\u001b[33m4\u001b[39m\n",
      "\u001b[33m4\u001b[39m\n",
      "\u001b[33m4\u001b[39m\n"
     ]
    }
   ],
   "source": [
    "%%script node\n",
    "\n",
    "// Aşağıdaki değerler 4 tam sayısına yuvarlanacaktır.\n",
    "console.log(Math.trunc(4.9));\n",
    "console.log(Math.trunc(4.5));\n",
    "console.log(Math.trunc(4.4));\n"
   ]
  },
  {
   "cell_type": "markdown",
   "metadata": {},
   "source": [
    "### <a id='toc1_2_5_'></a>[`Math.sign()` Metodu](#toc0_)\n",
    "\n",
    "Bazen bir değerin negatif, nötr veya pozitif olup/olmadığını öğrenmek isteriz. Bu işlemi farklı yöntemler ile gerçekleştirebiliriz. Bunlardan biri de `Math.sign()` metodudur.\n",
    "\n",
    "`Math.sign()` metodu içerisinde kullanılan sayısal değer negatif ise -1, nötr ise 0 şayet değer pozitif ise 1 değeri döndürülür.\n",
    "\n",
    "Metodun `NaN` (Not a Number) değer döndürdüğü durumda ise parametrenin sayısal bir özelliğe sahip olmadığını anlayabiliriz.\n",
    "\n",
    "**Örnek**\n"
   ]
  },
  {
   "cell_type": "code",
   "execution_count": 15,
   "metadata": {
    "vscode": {
     "languageId": "javascript"
    }
   },
   "outputs": [
    {
     "name": "stdout",
     "output_type": "stream",
     "text": [
      "\u001b[33m1\u001b[39m\n",
      "\u001b[33m0\u001b[39m\n",
      "\u001b[33m-1\u001b[39m\n",
      "\u001b[33mNaN\u001b[39m\n"
     ]
    }
   ],
   "source": [
    "%%script node\n",
    "\n",
    "// Değerin pozitif olması sebebi ile dönecek olan değer 1'dir.\n",
    "console.log(Math.sign(4.9));\n",
    "\n",
    "// Değerin nötr olması sebebi ile dönecek olan değer 0'dır.\n",
    "console.log(Math.sign(0));\n",
    "\n",
    "// Değerin negatif olması sebebi ile dönecek olan değer -1'dir.\n",
    "console.log(Math.sign(-4.9));\n",
    "\n",
    "// Değer sayısal bir özelliğe sahip olmadığından NaN ifadesi geri döndürülür.\n",
    "console.log(Math.sign(\"test\"));"
   ]
  },
  {
   "cell_type": "markdown",
   "metadata": {},
   "source": [
    "### <a id='toc1_2_6_'></a>[`Math.pow()` Metodu](#toc0_)\n",
    "\n",
    "Bir değerin kuvvetini almak için kullanılır. İki parametresi vardır. İlk parametre kuvveti alınacak değeri ifade ederken ikinci parametre kuvvet düzeyini ifade eder.\n",
    "\n",
    "**Örnek**\n"
   ]
  },
  {
   "cell_type": "code",
   "execution_count": 16,
   "metadata": {
    "vscode": {
     "languageId": "javascript"
    }
   },
   "outputs": [
    {
     "name": "stdout",
     "output_type": "stream",
     "text": [
      "8'in 2.kuvveti: 64\n",
      "5'in 3.kuvveti: 125\n"
     ]
    }
   ],
   "source": [
    "%%script node\n",
    "\n",
    "console.log(`8'in 2.kuvveti: ${Math.pow(8, 2)}`);\n",
    "\n",
    "console.log(`5'in 3.kuvveti: ${Math.pow(5, 3)}`);"
   ]
  },
  {
   "cell_type": "markdown",
   "metadata": {},
   "source": [
    "### <a id='toc1_2_7_'></a>[`Math.sqrt()` Metodu](#toc0_)\n",
    "\n",
    "Bir değerin karekökünü almak için kullanılır.\n",
    "\n",
    "**Örnek**\n"
   ]
  },
  {
   "cell_type": "code",
   "execution_count": 17,
   "metadata": {
    "vscode": {
     "languageId": "javascript"
    }
   },
   "outputs": [
    {
     "name": "stdout",
     "output_type": "stream",
     "text": [
      "64'ün karekökü: 8\n",
      "625'in karekökü: 25\n"
     ]
    }
   ],
   "source": [
    "%%script node\n",
    "\n",
    "console.log(`64'ün karekökü: ${Math.sqrt(64)}`);\n",
    "\n",
    "console.log(`625'in karekökü: ${Math.sqrt(625)}`);\n"
   ]
  },
  {
   "cell_type": "markdown",
   "metadata": {},
   "source": [
    "### <a id='toc1_2_8_'></a>[`Math.abs()` Metodu](#toc0_)\n",
    "\n",
    "Bir değerin mutlak değerini almak için kullanılır.\n",
    "\n",
    "**Örnek**\n"
   ]
  },
  {
   "cell_type": "code",
   "execution_count": 18,
   "metadata": {
    "vscode": {
     "languageId": "javascript"
    }
   },
   "outputs": [
    {
     "name": "stdout",
     "output_type": "stream",
     "text": [
      "-4.9'un mutlak değeri: 4.9\n"
     ]
    }
   ],
   "source": [
    "%%script node\n",
    "\n",
    "console.log(`-4.9'un mutlak değeri: ${Math.abs(-4.9)}`);"
   ]
  },
  {
   "cell_type": "markdown",
   "metadata": {},
   "source": [
    "### <a id='toc1_2_9_'></a>[`Math.min()` ve `Math.max()` Metotları](#toc0_)\n",
    "\n",
    "`Math.min()` metodu içerisinde kullanılan sayısal değerler arasındaki en küçük değeri geri döndürür.\n",
    "\n",
    "`Math.max()` metodu içerisinde kullanılan sayısal değerler arasındaki en büyük değeri geri döndürür.\n",
    "\n",
    "Değerler birbirlerinden **_,_** işareti ile ayrılırlar.\n",
    "\n",
    "**Örnek**\n"
   ]
  },
  {
   "cell_type": "code",
   "execution_count": 19,
   "metadata": {
    "vscode": {
     "languageId": "javascript"
    }
   },
   "outputs": [
    {
     "name": "stdout",
     "output_type": "stream",
     "text": [
      "Parametreler içerisindeki en küçük değer: -10\n",
      "Parametreler içerisindeki en büyük değer: 8\n"
     ]
    }
   ],
   "source": [
    "%%script node\n",
    "\n",
    "console.log(`Parametreler içerisindeki en küçük değer: ${Math.min(2, 4, 6, 8, -10)}`);\n",
    "\n",
    "console.log(`Parametreler içerisindeki en büyük değer: ${Math.max(2, 4, 6, 8, -10)}`);"
   ]
  },
  {
   "cell_type": "markdown",
   "metadata": {},
   "source": [
    "### <a id='toc1_2_10_'></a>[`Math.random()` Metodu](#toc0_)\n",
    "\n",
    "0 ile 1 arasında rastgele ondalıklı sayı üretmek için kullanılır.\n",
    "\n",
    "Üretilen değer 1 rakamından büyük olamaz.\n",
    "\n",
    "**Örnek**\n"
   ]
  },
  {
   "cell_type": "code",
   "execution_count": 20,
   "metadata": {
    "vscode": {
     "languageId": "javascript"
    }
   },
   "outputs": [
    {
     "name": "stdout",
     "output_type": "stream",
     "text": [
      "Şu an rastgele üretilen sayısal değer: 0.6096985331966953\n"
     ]
    }
   ],
   "source": [
    "%%script node\n",
    "\n",
    "console.log(`Şu an rastgele üretilen sayısal değer: ${Math.random()}`);"
   ]
  },
  {
   "cell_type": "markdown",
   "metadata": {},
   "source": [
    "`Math.random()` metodu `Math.floor()` metodu ile birlikte kullanılarak random tam sayılar üretilebilir.\n",
    "\n",
    "**Örnek**\n"
   ]
  },
  {
   "cell_type": "code",
   "execution_count": 21,
   "metadata": {
    "vscode": {
     "languageId": "javascript"
    }
   },
   "outputs": [
    {
     "name": "stdout",
     "output_type": "stream",
     "text": [
      "Random üretilen tam sayı: 9\n"
     ]
    }
   ],
   "source": [
    " %%script node\n",
    "\n",
    "/** \n",
    " * Örnekte Math.random() metoduyla üretilen sayı 10 ile çarpılacak, bulunan değer Math.floor() metoduyla \n",
    " * kendinden bir küçük tam sayıya yuvarlanacak ve değerin tam sayı kısmı alınarak konsola yazdırılacaktır. \n",
    " * \n",
    " * Örnek 0 ile 9 rakamı arasında random sayı üretecektir.\n",
    " */\n",
    "console.log(`Random üretilen tam sayı: ${Math.floor(Math.random() * 10)}`);"
   ]
  },
  {
   "cell_type": "markdown",
   "metadata": {},
   "source": [
    "## <a id='toc1_3_'></a>[Özet](#toc0_)\n",
    "\n",
    "JavaScript'te Math nesnesi, matematiksel işlemler yapmak için kullanılan bir araç seti sunar. Bu nesne, matematiksel sabitler, fonksiyonlar ve metotlar içerir. Math Property'leri, Pi sayısı gibi matematiksel sabitlere erişmek için kullanılır. Örneğin, `Math.PI` sabitine erişerek pi sayısına erişebiliriz.\n",
    "\n",
    "Math Metotları, Yuvarlama, üs alma, karekök alma, mutlak değer alma gibi matematiksel işlemleri gerçekleştirmek için kullanılır. Örneğin, `Math.round()` metodu bir sayıyı en yakın tam sayıya yuvarlar.\n",
    "\n",
    "Rastgele Sayı Üretme, `Math.random()` metodu, 0 ile 1 arasında rastgele bir ondalıklı sayı üretir. Bu sayı, belirli bir aralığa rastgele sayı üretmek için kullanılabilir.\n",
    "\n",
    "Math nesnesi, matematiksel işlemler yaparken yaygın olarak kullanılan bir araçtır ve JavaScript'teki matematiksel hesaplamalar için güçlü bir temel sağlar.\n"
   ]
  }
 ],
 "metadata": {
  "kernelspec": {
   "display_name": "Python 3",
   "language": "python",
   "name": "python3"
  },
  "language_info": {
   "codemirror_mode": {
    "name": "ipython",
    "version": 3
   },
   "file_extension": ".py",
   "mimetype": "text/x-python",
   "name": "python",
   "nbconvert_exporter": "python",
   "pygments_lexer": "ipython3",
   "version": "3.10.12"
  }
 },
 "nbformat": 4,
 "nbformat_minor": 2
}
