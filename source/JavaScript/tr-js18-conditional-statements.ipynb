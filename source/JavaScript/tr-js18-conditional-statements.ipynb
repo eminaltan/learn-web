{
 "cells": [
  {
   "cell_type": "markdown",
   "metadata": {},
   "source": [
    "# JavaScript'de Conditional Statement'lar\n",
    "\n",
    "Merhaba arkadaşlar serinin bu bölümünde JavaScript'de **_conditional statement'ları_** inceleyeceğiz.\n",
    "\n",
    "Yazıda:\n",
    "\n",
    "- Conditional statement kavramına ve kullanım amacına\n",
    "\n",
    "- Conditional statement türlerine\n",
    "\n",
    "- Aralarındaki farklara\n",
    "\n",
    "- `?` (Ternary) operatörünün kullanımına\n",
    "\n",
    "- Bazı yararlı ip uçlarına\n",
    "\n",
    "Değineceğim.\n",
    "\n",
    "İyi okumalar dilerim.\n"
   ]
  },
  {
   "cell_type": "markdown",
   "metadata": {},
   "source": [
    "## JavaScript'de Conditional Statement Kavramı\n",
    "\n",
    "Bazen belirlediğimiz bir koşulun veya matematiksel ifadenin sonucuna göre program içerisinde akışı değiştirmek ve farklı işlemler yapmak isteyebiliriz. Bu gibi durumlarda conditional statement'ları kullanırız.\n",
    "\n",
    "**Örnek**\n"
   ]
  },
  {
   "cell_type": "code",
   "execution_count": 1,
   "metadata": {
    "vscode": {
     "languageId": "javascript"
    }
   },
   "outputs": [
    {
     "name": "stdout",
     "output_type": "stream",
     "text": [
      "Alkol satışı yapılabilir mi?: Evet alkol satışı yapılabilir.\n"
     ]
    }
   ],
   "source": [
    "%%script node\n",
    "\n",
    "const age = 18;\n",
    "\n",
    "/** \n",
    " * Örnekte yaşın 18 rakamına eşit veya büyük olması durumunda alkol satışına izin verildiği \n",
    " * görülüyor. \n",
    " * \n",
    " * age değişkeninin içeriğini değiştirerek sonuçları gözlemleyebilirsiniz.\n",
    " * \n",
    " * 💡 ? (Ternary operatörünü kullandık.)\n",
    " */\n",
    "console.log(`Alkol satışı yapılabilir mi?: ${18 <= age ? \"Evet alkol satışı yapılabilir.\" : \"Hayır alkol satışı yapılamaz.\"}`);"
   ]
  },
  {
   "cell_type": "markdown",
   "metadata": {},
   "source": [
    "Yukarıda `age` değişkeninin 18 rakamına eşit veya büyük olması halinde alkol satışı yapılabileceğini gösteren kod bloğu örneğini görüyoruz.\n"
   ]
  },
  {
   "cell_type": "markdown",
   "metadata": {},
   "source": [
    "JavaScript'de aşağıdaki conditional statement'ları kullanabilir ve program akışını değiştirebiliriz:\n",
    "\n",
    "- `if`\n",
    "\n",
    "- `else`\n",
    "\n",
    "- `else if`\n",
    "\n",
    "- `switch`\n",
    "\n",
    "Şimdi bunları inceleyelim.\n"
   ]
  },
  {
   "cell_type": "markdown",
   "metadata": {},
   "source": [
    "### `if` Statement\n",
    "\n",
    "`if` statement'ı içerisinde oluşturduğumuz koşulun gerçekleşmesi halinde `if` bloğuna ait kodlar çalışacaktır.\n",
    "\n",
    "**Prototype:**\n",
    "\n",
    "```javascript\n",
    "if (condition1) {\n",
    "  // If statement'ı condition1 ile uyumlu ise buradaki kod bloğu çalışır.\n",
    "}\n",
    "```\n",
    "\n",
    "Bir önceki örneği `if` statement'ı ile oluşturalım.\n",
    "\n",
    "**Örnek**\n"
   ]
  },
  {
   "cell_type": "code",
   "execution_count": 2,
   "metadata": {
    "vscode": {
     "languageId": "javascript"
    }
   },
   "outputs": [
    {
     "name": "stdout",
     "output_type": "stream",
     "text": [
      "Evet alkol satışı yapılabilir.\n"
     ]
    }
   ],
   "source": [
    "%%script node\n",
    "\n",
    "const age = 18;\n",
    "\n",
    "/** \n",
    " * age değeri 18 rakamına eşit olduğundan if statement'ı içerisindeki koşul gerçekleşmiş olacak ve if bloğuna ait \n",
    " * kodlar çalıştırılacaktır.\n",
    " */\n",
    "if (18 <= age) {\n",
    "    console.log(\"Evet alkol satışı yapılabilir.\");\n",
    "}\n"
   ]
  },
  {
   "cell_type": "markdown",
   "metadata": {},
   "source": [
    "`age` değişkeninin değerini 14 yapalım ve sona `console.log(\"Hayır alkol satışı yapılamaz.\")` statement'ını ekleyelim.\n",
    "\n",
    "**Örnek**\n"
   ]
  },
  {
   "cell_type": "code",
   "execution_count": 3,
   "metadata": {
    "vscode": {
     "languageId": "javascript"
    }
   },
   "outputs": [
    {
     "name": "stdout",
     "output_type": "stream",
     "text": [
      "Hayır alkol satışı yapılamaz.\n"
     ]
    }
   ],
   "source": [
    "%%script node\n",
    "\n",
    "const age = 14;\n",
    "\n",
    "// if statement'ı içerisindeki koşul gerçekleşmediği için if bloğuna ait kodlar çalışmayacaktır.\n",
    "if (18 <= age) {\n",
    "    console.log(\"Evet alkol satışı yapılabilir.\");\n",
    "}\n",
    "\n",
    "console.log(\"Hayır alkol satışı yapılamaz.\");"
   ]
  },
  {
   "cell_type": "markdown",
   "metadata": {},
   "source": [
    "Görüleceği üzere `age` değişkeni 18'den küçük olduğu için `if` statement'ı içerisindeki koşulu sağlamıyor. Bu sebeple `if` bloğuna ait kodlar çalışmayacaktır. JavaScript çalışmaya devam edecek ve \"Hayır alkol satışı yapılamaz.\" ifadesi konsola yazdırılacaktır.\n",
    "\n",
    "**❗ Şayet koşul sağlansaydı `if` statement'dan sonra gelen kodlar yine çalıştırılacaktı.**\n",
    "\n",
    "**Örnek**\n"
   ]
  },
  {
   "cell_type": "code",
   "execution_count": 4,
   "metadata": {
    "vscode": {
     "languageId": "javascript"
    }
   },
   "outputs": [
    {
     "name": "stdout",
     "output_type": "stream",
     "text": [
      "Evet alkol satışı yapılabilir.\n",
      "Hayır alkol satışı yapılamaz.\n"
     ]
    }
   ],
   "source": [
    "%%script node\n",
    "\n",
    "const age = 18;\n",
    "\n",
    "if (18 <= age) {\n",
    "    console.log(\"Evet alkol satışı yapılabilir.\");\n",
    "}\n",
    "\n",
    "console.log(\"Hayır alkol satışı yapılamaz.\");"
   ]
  },
  {
   "cell_type": "markdown",
   "metadata": {},
   "source": [
    "Birden fazla koşul gerektiren durumlarda `else, else if` veya `switch` statement'larından faydalanırız. Yazının ilerleyen bölümlerinde her birine değineceğiz.\n"
   ]
  },
  {
   "cell_type": "markdown",
   "metadata": {},
   "source": [
    "### `else` Statement\n",
    "\n",
    "`if` statement'ı içerisinde oluşturduğumuz koşulun **gerçekleşmemesi** halinde `else` bloğunun içerisindeki kodlar çalışacaktır.\n",
    "\n",
    "**Prototype:**\n",
    "\n",
    "```javascript\n",
    "if (condition1) {\n",
    "  // If statement'ı condition1 ile uyumlu ise buradaki kod bloğu çalışır.\n",
    "} else {\n",
    "  // If statement'ı condition1 ile uyumlu değilse buradaki kod bloğu çalışır.\n",
    "}\n",
    "```\n",
    "\n",
    "Alkol örneğimizden devam ederek `else` statement'ı oluşturalım. `age` değerini 14 olarak değiştirdiğimizde koşulumuz `if` statement'ı ile uyuşmayacak dolayısıyla `if` bloğuna ait kodlar çalışmayacaktır. JavaScript `else` bloğuna ait kodları çalıştıracaktır.\n",
    "\n",
    "**Örnek**\n"
   ]
  },
  {
   "cell_type": "code",
   "execution_count": 5,
   "metadata": {
    "vscode": {
     "languageId": "javascript"
    }
   },
   "outputs": [
    {
     "name": "stdout",
     "output_type": "stream",
     "text": [
      "Hayır alkol satışı yapılamaz.\n"
     ]
    }
   ],
   "source": [
    "%%script node\n",
    "\n",
    "// age değişkenin değerini değiştirerek sonuçları gözlemleyebilirsiniz.\n",
    "const age = 14;\n",
    "\n",
    "// 18 <= 14 ifadesi false olduğundan if bloğuna ait kodlar çalışmayacaktır.\n",
    "if (18 <= age) {\n",
    "    console.log(\"Evet alkol satışı yapılabilir.\");\n",
    "}\n",
    "\n",
    "// if statement'ının boolean olarak değeri false olduğu için else bloğuna ait kodlar çalışacaktır.\n",
    "else {\n",
    "    console.log(\"Hayır alkol satışı yapılamaz.\");\n",
    "}\n"
   ]
  },
  {
   "cell_type": "markdown",
   "metadata": {},
   "source": [
    "**💡 Koşulumuz bir satırdan oluşuyorsa `?` (Ternary) operatörünü kullanabiliriz. `?` operatörü genelde bir satıdan oluşan koşullar için değişkene değer atamada kullanılır. Bu sayede kodlarımızı sadeleştirmiş oluruz.**\n",
    "\n",
    "Bir önceki örneği `?` operatörü ile birlikte yapalım.\n",
    "\n",
    "**Örnek**\n"
   ]
  },
  {
   "cell_type": "code",
   "execution_count": 6,
   "metadata": {
    "vscode": {
     "languageId": "javascript"
    }
   },
   "outputs": [
    {
     "name": "stdout",
     "output_type": "stream",
     "text": [
      "Alkol satışı yapılabilir mi?: Hayır alkol satışı yapılamaz.\n"
     ]
    }
   ],
   "source": [
    "%%script node\n",
    "\n",
    "const age = 14;\n",
    "\n",
    "// Ternary operatör ile birlikte backtick karakterini kullanarak kodlarımızı sadeleştiriyoruz.\n",
    "console.log(\n",
    "  `Alkol satışı yapılabilir mi?: ${\n",
    "    18 <= age\n",
    "      ? \"Evet alkol satışı yapılabilir.\"\n",
    "      : \"Hayır alkol satışı yapılamaz.\"\n",
    "  }`\n",
    ");\n"
   ]
  },
  {
   "cell_type": "markdown",
   "metadata": {},
   "source": [
    "Bazen ikiden fazla koşula sahip olabiliriz bu gibi durumlarda `else if` veya `switch` statement'ları kullanılır.\n"
   ]
  },
  {
   "cell_type": "markdown",
   "metadata": {},
   "source": [
    "### `else if` Statement\n",
    "\n",
    "İkiden fazla koşula sahipsek `else if` statement'ını kullanırız. `if` statement'ı içerişindeki koşulun gerçekleşmemesi halinde `else if` statement'ı kontrol edilir. Koşulun gerçekleşmesi halinde ilgili statement'a ait kod bloğu çalışır, uyuşmuyorsa bir sonraki `else if` statement'ı için aynı işlem gerçekleştirilir. Şayet hiçbir statement koşul ile uyuşmuyorsa `else` kod bloğu çalışır.\n",
    "\n",
    "**Prototype:**\n",
    "\n",
    "```javascript\n",
    "if (condition1) {\n",
    "  // If statement'ı condition1 ile uyumlu ise buradaki kod bloğu çalışır.\n",
    "} else if (condition2) {\n",
    "  // If statement'ı condition1 ile uyumlu değilse fakat condition2 ile uyumluysa buradaki kod bloğu çalışır.\n",
    "} else {\n",
    "  // Statement'ların hiçbiri koşul ile uyuşmaz ise else statement'ı içerisindeki kod bloğu çalışır.\n",
    "}\n",
    "```\n",
    "\n",
    "**Örnek**\n"
   ]
  },
  {
   "cell_type": "code",
   "execution_count": 7,
   "metadata": {
    "vscode": {
     "languageId": "javascript"
    }
   },
   "outputs": [
    {
     "name": "stdout",
     "output_type": "stream",
     "text": [
      "Arabanın markası: Lada\n"
     ]
    }
   ],
   "source": [
    "%%script node\n",
    "\n",
    "const car = \"Lada\";\n",
    "\n",
    "if (car == \"Mercedes\") {\n",
    "    console.log(`Arabanın markası: ${car}`);\n",
    "}\n",
    "\n",
    "else if (car == \"Audi\") {\n",
    "    console.log(`Arabanın markası: ${car}`);\n",
    "}\n",
    "\n",
    "else if (car == \"BMW\") {\n",
    "    console.log(`Arabanın markası: ${car}`);\n",
    "}\n",
    "\n",
    "// car değişkeni koşul ile uyuştuğundan buradaki else if bloğuna ait kodlar çalışacaktır. \n",
    "else if (car == \"Lada\") {\n",
    "    console.log(`Arabanın markası: ${car}`);\n",
    "}\n",
    "\n",
    "else {\n",
    "    console.log(`Araba markası belirlenen koşullar ile uyuşmuyor.`);\n",
    "}"
   ]
  },
  {
   "cell_type": "markdown",
   "metadata": {},
   "source": [
    "Yukarıdaki örnekte `if` statement'ı içerisindeki koşul `false` olduğu için `if` bloğuna ait kodlar çalışmayacaktır.\n",
    "\n",
    "JavaScript bu durumda bir sonraki satıra geçecek ve `else if` statement'ını kontrol edecektir. Fakat koşul yine `false` olduğu için kod bloğu çalışmayacaktır. Bu işlem tüm statement'lar için tekrarlanacaktır. Ta ki belirlediğimiz koşula uygun `else if` statement'ı bulunana kadar.\n",
    "\n",
    "Koşula uygun bir `else if` statement'ı bulunduğunda ilgili kod bloğu çalıştırılacak ve bu kod bloğu içerisindeki sonuç geri döndürülecektir.\n",
    "\n",
    "Şayet koşul hiçbir statement ile uyuşmaz ise `else` kod bloğu çalıştırılacaktır.\n",
    "\n",
    "**Örnek**\n"
   ]
  },
  {
   "cell_type": "code",
   "execution_count": 8,
   "metadata": {
    "vscode": {
     "languageId": "javascript"
    }
   },
   "outputs": [
    {
     "name": "stdout",
     "output_type": "stream",
     "text": [
      "Araba markası belirlenen koşullar ile uyuşmuyor.\n"
     ]
    }
   ],
   "source": [
    "%%script node\n",
    "\n",
    "const car = \"Lada\";\n",
    "\n",
    "if (car == \"Mercedes\") {\n",
    "    console.log(`Arabanın markası: ${car}`);\n",
    "}\n",
    "\n",
    "else if (car == \"Audi\") {\n",
    "    console.log(`Arabanın markası: ${car}`);\n",
    "}\n",
    "\n",
    "else if (car == \"BMW\") {\n",
    "    console.log(`Arabanın markası: ${car}`);\n",
    "}\n",
    "\n",
    "else if (car == \"Fiat\") {\n",
    "    console.log(`Arabanın markası: ${car}`);\n",
    "}\n",
    "\n",
    "// Hiçbir koşul car değişkeni ile uyuşmadığından else kod bloğu çalışacaktır.\n",
    "else {\n",
    "    console.log(`Araba markası belirlenen koşullar ile uyuşmuyor.`);\n",
    "}"
   ]
  },
  {
   "cell_type": "markdown",
   "metadata": {},
   "source": [
    "### `switch` Statement\n",
    "\n",
    "**Prototype:**\n",
    "\n",
    "İkiden fazla koşula sahipsek `else if` yöntemine alternatif olarak `switch` statement'ını kullanabiliriz.\n",
    "\n",
    "```javascript\n",
    "switch (expression) {\n",
    "  case x:\n",
    "    // expression, x değeri ile uyuşursa buradaki kod bloğu çalıştırılır.\n",
    "    break;\n",
    "  case y:\n",
    "    // expression, y değeri ile uyuşursa buradaki kod bloğu çalıştırılır.\n",
    "    break;\n",
    "  default:\n",
    "  // expression hiçbir değer ile uyuşmuyorsa varsayılan olarak buradaki kod bloğu çalıştırılır.\n",
    "}\n",
    "```\n",
    "\n",
    "`switch` statement'ının çalışma mantığına incelediğimizde ilk önce expression sonucu hesaplanır. Elde edilen sonuç her bir koşul ile kıyaslanır. Sonuç ile uyuşan koşul bulunduğunda koşula ait kod bloğu çalıştırılır. Şayet sonuç ile uyuşan kod bloğu bulunamaz ise varsayılan olarak `default` keyword'una ait kod bloğu çalıştırılır.\n",
    "\n",
    "Araba örneğimizi `switch` statement'ı ile oluşturalım.\n",
    "\n",
    "**Örnek**\n"
   ]
  },
  {
   "cell_type": "code",
   "execution_count": 9,
   "metadata": {
    "vscode": {
     "languageId": "javascript"
    }
   },
   "outputs": [
    {
     "name": "stdout",
     "output_type": "stream",
     "text": [
      "Aracın: markası Lada\n"
     ]
    }
   ],
   "source": [
    "%%script node\n",
    "\n",
    "const car = \"Lada\";\n",
    "\n",
    "switch (car) {\n",
    "    case \"Mercedes\":\n",
    "        console.log(`Aracın: markası ${car}`);\n",
    "        break;\n",
    "    \n",
    "    case \"Audi\":\n",
    "    console.log(`Aracın: markası ${car}`);\n",
    "        break;\n",
    "    \n",
    "    case \"BMW\":\n",
    "    console.log(`Aracın: markası ${car}`);\n",
    "        break;\n",
    "    \n",
    "    // expression sonucu yani car değişkeni koşul ile uyuşmasından ötürü buradaki kod bloğu çalıştırılacaktır.\n",
    "    case \"Lada\":\n",
    "    console.log(`Aracın: markası ${car}`);\n",
    "        break;\n",
    "    \n",
    "    default:\n",
    "        console.log(`Araba markası belirlenen koşullar ile uyuşmuyor.`);\n",
    "}\n"
   ]
  },
  {
   "cell_type": "markdown",
   "metadata": {},
   "source": [
    "Yukarıdaki örnekte `switch` içerisindeki expression her bir koşul ile kıyaslanacak ve uyuşan koşula ait kod bloğu çalıştırılarak sonuç döndürülecektir.\n",
    "\n",
    "Şayet expression hiçbir koşul ile uyuşmazsa `default` keyword'una ait kod bloğu çalıştırılacak ve sonuç döndürülecekti.\n",
    "\n",
    "**Örnek**\n"
   ]
  },
  {
   "cell_type": "code",
   "execution_count": 10,
   "metadata": {
    "vscode": {
     "languageId": "javascript"
    }
   },
   "outputs": [
    {
     "name": "stdout",
     "output_type": "stream",
     "text": [
      "Araba markası belirlenen koşullar ile uyuşmuyor.\n"
     ]
    }
   ],
   "source": [
    "%%script node\n",
    "\n",
    "const car = \"Lada\";\n",
    "\n",
    "switch (car) {\n",
    "    case \"Mercedes\":\n",
    "        console.log(`Aracın: markası ${car}`);\n",
    "        break;\n",
    "    \n",
    "    case \"Audi\":\n",
    "    console.log(`Aracın: markası ${car}`);\n",
    "        break;\n",
    "    \n",
    "    case \"BMW\":\n",
    "    console.log(`Aracın: markası ${car}`);\n",
    "    break;\n",
    "    \n",
    "    case \"Fiat\":\n",
    "        console.log(`Aracın: markası ${car}`);\n",
    "        break;\n",
    "        \n",
    "    /** \n",
    "     * expression sonucu yani car değişkeni hiçbir koşul ile uyuşmamasından ötürü default kod bloğu \n",
    "     * çalıştırılacaktır.\n",
    "     */\n",
    "    default:\n",
    "        console.log(`Araba markası belirlenen koşullar ile uyuşmuyor.`);\n",
    "}\n"
   ]
  },
  {
   "cell_type": "markdown",
   "metadata": {},
   "source": [
    "`default` keyword'u `switch` statement'ı içerisinde herhangi bir yerde kullanılabilir.\n",
    "\n",
    "**⚠️ Şayet `default` keyword'u `switch` statement'ının herhangi bir yerinde kullanılacaksa kod bloğu içerisinde `break` keyword'unun de tanımlı olması gerekir.**\n",
    "\n",
    "**Örnek**\n"
   ]
  },
  {
   "cell_type": "code",
   "execution_count": 11,
   "metadata": {
    "vscode": {
     "languageId": "javascript"
    }
   },
   "outputs": [
    {
     "name": "stdout",
     "output_type": "stream",
     "text": [
      "Araba markası belirlenen koşullar ile uyuşmuyor.\n"
     ]
    }
   ],
   "source": [
    "%%script node\n",
    "\n",
    "const car = \"Lada\";\n",
    "\n",
    "switch (car) {\n",
    "    // default keyword'u başta kullanılmış.\n",
    "    default:\n",
    "        console.log(`Araba markası belirlenen koşullar ile uyuşmuyor.`);\n",
    "        break;\n",
    "\n",
    "    case \"Mercedes\":\n",
    "        console.log(`Aracın: markası ${car}`);\n",
    "        break;\n",
    "    \n",
    "    case \"Audi\":\n",
    "    console.log(`Aracın: markası ${car}`);\n",
    "        break;\n",
    "    \n",
    "    case \"BMW\":\n",
    "    console.log(`Aracın: markası ${car}`);\n",
    "    break;\n",
    "    \n",
    "    case \"Fiat\":\n",
    "        console.log(`Aracın: markası ${car}`);\n",
    "}"
   ]
  },
  {
   "cell_type": "markdown",
   "metadata": {},
   "source": [
    "Dikkat ettiyseniz her `case` bloğu içerisinde `break` keyword'unu kullandık. `break` keyword'u ilgili koşula uygun `case` bloğunu sonlandırmak için kullanılır.\n",
    "\n",
    "`switch` yapısında son `case` için `break` keyword'u tanımlamamıza gerek yoktur. JavaScript son `case`'e ulaştığında otomatik olarak `switch` statement'ı sonlandıracaktır.\n",
    "\n",
    "**❗ `break` keyword'unu kullanmazsak koşul ile uyuşan `case` bloğu çalışacak ve ardından bir sonraki `case` bloğu çalşmaya devam edecektir. JavaScript `break` keyword'une ulaşana kadar bu durum devam edecektir. Bu bakımdan her `case` bloğunda `break` keyword'unun kullanılması gerekir.**\n",
    "\n",
    "**Örnek**\n"
   ]
  },
  {
   "cell_type": "code",
   "execution_count": 12,
   "metadata": {
    "vscode": {
     "languageId": "javascript"
    }
   },
   "outputs": [
    {
     "name": "stdout",
     "output_type": "stream",
     "text": [
      "Aracın: markası Lada\n",
      "Aracın: markası Lada\n",
      "Aracın: markası Lada\n",
      "Aracın: markası Lada\n"
     ]
    }
   ],
   "source": [
    "%%script node\n",
    "\n",
    "const car = \"Lada\";\n",
    "\n",
    "switch (car) {\n",
    "    case \"Lada\":\n",
    "        console.log(`Aracın: markası ${car}`);\n",
    "    \n",
    "    \n",
    "    case \"Mercedes\":\n",
    "    console.log(`Aracın: markası ${car}`);\n",
    "       \n",
    "    \n",
    "    case \"BMW\":\n",
    "    console.log(`Aracın: markası ${car}`);\n",
    "       \n",
    "    \n",
    "    // JavaScript break keyword'una ulaşana kadar çalışmayı sürdürür.\n",
    "    case \"Audi\":\n",
    "    console.log(`Aracın: markası ${car}`);\n",
    "        break;\n",
    "    \n",
    "    default:\n",
    "        console.log(`Araba markası belirlenen koşullar ile uyuşmuyor.`);\n",
    "}\n"
   ]
  },
  {
   "cell_type": "markdown",
   "metadata": {},
   "source": [
    "**💡 Yapılacak işlem birden fazla koşul için ortaklanarak `switch` statement'ı içerisinde kullanılabilir.**\n",
    "\n",
    "**Örnek**\n"
   ]
  },
  {
   "cell_type": "code",
   "execution_count": 13,
   "metadata": {
    "vscode": {
     "languageId": "javascript"
    }
   },
   "outputs": [
    {
     "name": "stdout",
     "output_type": "stream",
     "text": [
      "Araba Japon üretimi. Arabanının markası: Toyota\n"
     ]
    }
   ],
   "source": [
    "%%script node\n",
    "\n",
    "const car = \"Toyota\";\n",
    "\n",
    "switch (car) {\n",
    "    case \"Toyota\":\n",
    "    case \"Honda\":\n",
    "        console.log(`Araba Japon üretimi. Arabanının markası: ${car}`);\n",
    "        break;\n",
    "       \n",
    "    case \"BMW\":\n",
    "    case \"Audi\":\n",
    "    console.log(`Araba Alman üretimi. Arabanının markası: ${car}`);\n",
    "        break;\n",
    "    \n",
    "    default:\n",
    "        console.log(`Araba türü belirlenen koşullar ile uyuşmuyor.`);\n",
    "}\n"
   ]
  },
  {
   "cell_type": "markdown",
   "metadata": {},
   "source": [
    "`switch` statement'ı strict özelliklidir. Yani expression içerisindeki ifade `case` ile tam uyuşmalıdır. Aksi durumda uyuşma sağlanmaz.\n",
    "\n",
    "**Örnek**\n"
   ]
  },
  {
   "cell_type": "code",
   "execution_count": 14,
   "metadata": {
    "vscode": {
     "languageId": "javascript"
    }
   },
   "outputs": [
    {
     "name": "stdout",
     "output_type": "stream",
     "text": [
      "Araba türü belirlenen koşullar ile uyuşmuyor.\n"
     ]
    }
   ],
   "source": [
    "%%script node\n",
    "\n",
    "const car = \"Toy\";\n",
    "\n",
    "switch (car) {\n",
    "    case \"Toyota\":\n",
    "    case \"Honda\":\n",
    "        console.log(`Araba Japon üretimi. Arabanının markası: ${car}`);\n",
    "        break;\n",
    "       \n",
    "    case \"BMW\":\n",
    "    case \"Audi\":\n",
    "    console.log(`Araba Alman üretimi. Arabanının markası: ${car}`);\n",
    "        break;\n",
    "    \n",
    "    default:\n",
    "        console.log(`Araba türü belirlenen koşullar ile uyuşmuyor.`);\n",
    "}\n"
   ]
  },
  {
   "cell_type": "markdown",
   "metadata": {},
   "source": [
    "Yukarıda görüleceği üzere car değişkeni içerisindeki karakterler \"Toyota\" string'indeki karakterler ile kısmen uyuşmasına rağmen ilgili `case`'a ait kod bloğu çalışmamaktadır. `case` bloklarının çalışması için tam eşleşme sağlanması şarttır.\n"
   ]
  },
  {
   "cell_type": "markdown",
   "metadata": {},
   "source": [
    "**➖ `switch`, `else if` veya `if else` Yapıları Arasındaki Farklar**\n",
    "\n",
    "- `else if` veya `if else` yapılarında bütün veri tipleri kullanılabilirken `switch` statement'ında yalnızca `number` veya `string` özellikli veri tipleri kullanılır.\n",
    "\n",
    "- `else if` veya `if else` yapılarında koşula göre ya `if` ya da `else` bloğuna ait kodlar çalıştırılırken `switch` yapısında `break` keyword'una ulaşana kadar tüm case'ler çalıştırılır veya hiçbir koşul uyuşmazsa `default` keyword'u içerisindeki kodlar çalıştırılır.\n",
    "\n",
    "- `switch` yapısında koşulu güncellemek, silmek veya yeni bir koşul oluşturmak kolay iken `else if` veya `if else` yapılarında zordur.\n",
    "\n",
    "- Eğer ikiden fazla koşula sahipsek `else if` veya `if else` ile oluşturduğumuz koşulların çalışma hızı `switch` ile oluşturduğumuz yapıların hızından daha yavaş olacaktır.\n"
   ]
  }
 ],
 "metadata": {
  "kernelspec": {
   "display_name": "Python 3",
   "language": "python",
   "name": "python3"
  },
  "language_info": {
   "codemirror_mode": {
    "name": "ipython",
    "version": 3
   },
   "file_extension": ".py",
   "mimetype": "text/x-python",
   "name": "python",
   "nbconvert_exporter": "python",
   "pygments_lexer": "ipython3",
   "version": "3.10.12"
  }
 },
 "nbformat": 4,
 "nbformat_minor": 2
}
