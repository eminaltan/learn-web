{
 "cells": [
  {
   "cell_type": "markdown",
   "metadata": {},
   "source": [
    "# JavaScript Koşullu İfadeler<a id='toc0_'></a>\n",
    "\n",
    "Merhaba arkadaşlar serinin bu bölümünde JavaScript'te **_koşullu ifade_** kavramını inceleyeceğiz.\n",
    "\n",
    "Yazıda:\n",
    "\n",
    "- [JavaScript Koşullu İfade Kavramı](#toc1_1_)\n",
    "  - [`if` Koşulu](#toc1_1_1_)\n",
    "  - [`else` Koşulu](#toc1_1_2_)\n",
    "  - [`else if` Koşulu](#toc1_1_3_)\n",
    "  - [`switch` Koşulu](#toc1_1_4_)\n",
    "- [Özet](#toc1_2_)\n",
    "\n",
    "Değineceğim.\n",
    "\n",
    "İyi okumalar dilerim.\n",
    "\n",
    "If you want to read English version of this article please visit [this link](js18-conditional-statements.ipynb)\n",
    "\n",
    "<!-- vscode-jupyter-toc-config\n",
    "\tnumbering=false\n",
    "\tanchor=true\n",
    "\tflat=false\n",
    "\tminLevel=1\n",
    "\tmaxLevel=6\n",
    "\t/vscode-jupyter-toc-config -->\n",
    "<!-- THIS CELL WILL BE REPLACED ON TOC UPDATE. DO NOT WRITE YOUR TEXT IN THIS CELL -->\n"
   ]
  },
  {
   "cell_type": "markdown",
   "metadata": {},
   "source": [
    "## <a id='toc1_1_'></a>[JavaScript Koşullu İfade Kavramı](#toc0_)\n",
    "\n",
    "Bazen belirlediğimiz bir koşulun veya matematiksel ifadenin sonucuna göre program içerisinde akışı değiştirmek ve farklı işlemler yapmak isteyebiliriz. Bu gibi durumlarda koşullu ifadeleri kullanırız.\n",
    "\n",
    "**Örnek**\n"
   ]
  },
  {
   "cell_type": "code",
   "execution_count": 1,
   "metadata": {
    "vscode": {
     "languageId": "javascript"
    }
   },
   "outputs": [
    {
     "name": "stdout",
     "output_type": "stream",
     "text": [
      "Alkol satışı yapılabilir mi?: Evet alkol satışı yapılabilir.\n"
     ]
    }
   ],
   "source": [
    "%%script node\n",
    "\n",
    "const age = 18;\n",
    "\n",
    "/** \n",
    " * Örnekte yaşın 18 rakamına eşit veya büyük olması durumunda alkol satışına izin verildiği görülüyor. \n",
    " * \n",
    " * age değişkeninin içeriğini değiştirerek sonuçları gözlemleyebilirsiniz.\n",
    " * \n",
    " * 💡 ? (Ternary operatörünü kullandık.)\n",
    " */\n",
    "console.log(`Alkol satışı yapılabilir mi?: ${18 <= age ? \"Evet alkol satışı yapılabilir.\" : \"Hayır alkol satışı yapılamaz.\"}`);"
   ]
  },
  {
   "cell_type": "markdown",
   "metadata": {},
   "source": [
    "Yukarıda `age` değişkeninin 18 rakamına eşit veya büyük olması halinde alkol satışı yapılabileceğini gösteren kod bloğu örneğini görüyoruz.\n"
   ]
  },
  {
   "cell_type": "markdown",
   "metadata": {},
   "source": [
    "**JavaScript'te aşağıdaki koşullu ifadeleri kullanabilir ve programın akışını değiştirebiliriz:**\n",
    "\n",
    "- `if`\n",
    "\n",
    "- `else`\n",
    "\n",
    "- `else if`\n",
    "\n",
    "- `switch`\n",
    "\n",
    "Şimdi bunları inceleyelim.\n"
   ]
  },
  {
   "cell_type": "markdown",
   "metadata": {},
   "source": [
    "### <a id='toc1_1_1_'></a>[`if` Koşulu](#toc0_)\n",
    "\n",
    "`if` ifadesinin içerisinde oluşturduğumuz koşulun gerçekleşmesi halinde `if` bloğuna ait kodlar çalışacaktır.\n",
    "\n",
    "**Prototype:**\n",
    "\n",
    "```javascript\n",
    "if (condition1) {\n",
    "  // If ifadesi condition1 ile uyumlu ise buradaki kod bloğu çalışır.\n",
    "}\n",
    "```\n",
    "\n",
    "Bir önceki örneği `if` ifadesi ile oluşturalım.\n",
    "\n",
    "**Örnek**\n"
   ]
  },
  {
   "cell_type": "code",
   "execution_count": 2,
   "metadata": {
    "vscode": {
     "languageId": "javascript"
    }
   },
   "outputs": [
    {
     "name": "stdout",
     "output_type": "stream",
     "text": [
      "Evet alkol satışı yapılabilir.\n"
     ]
    }
   ],
   "source": [
    "%%script node\n",
    "\n",
    "const age = 18;\n",
    "\n",
    "/** \n",
    " * age değeri 18 rakamına eşit olduğundan if ifadesi içerisindeki koşul gerçekleşmiş olacak ve if bloğuna ait \n",
    " * kodlar çalıştırılacaktır.\n",
    " */\n",
    "if (18 <= age) {\n",
    "    console.log(\"Evet alkol satışı yapılabilir.\");\n",
    "}\n"
   ]
  },
  {
   "cell_type": "markdown",
   "metadata": {},
   "source": [
    "`age` değişkeninin değerini 14 yapalım ve sona `console.log(\"Hayır alkol satışı yapılamaz.\")` ifadesini ekleyelim.\n",
    "\n",
    "**Örnek**\n"
   ]
  },
  {
   "cell_type": "code",
   "execution_count": 3,
   "metadata": {
    "vscode": {
     "languageId": "javascript"
    }
   },
   "outputs": [
    {
     "name": "stdout",
     "output_type": "stream",
     "text": [
      "Hayır alkol satışı yapılamaz.\n"
     ]
    }
   ],
   "source": [
    "%%script node\n",
    "\n",
    "const age = 14;\n",
    "\n",
    "// if ifadesi içerisindeki koşul gerçekleşmediği için if bloğuna ait kodlar çalışmayacaktır.\n",
    "if (18 <= age) {\n",
    "    console.log(\"Evet alkol satışı yapılabilir.\");\n",
    "}\n",
    "\n",
    "console.log(\"Hayır alkol satışı yapılamaz.\");"
   ]
  },
  {
   "cell_type": "markdown",
   "metadata": {},
   "source": [
    "Görüleceği üzere `age` değişkeni 18'den küçük olduğu için `if` ifadesi içerisindeki koşulu sağlamıyor. Bu sebeple `if` bloğuna ait kodlar çalışmayacaktır. JavaScript çalışmaya devam edecek ve \"Hayır alkol satışı yapılamaz.\" ifadesi konsola yazdırılacaktır.\n",
    "\n",
    "**❗ Şayet koşul sağlansaydı `if` ifadesinden sonra gelen `console.log(\"Hayır alkol satışı yapılamaz.\")` ifadesi yine çalıştırılacaktı. Bunun nedeni ilgili satırın çalışması if bloğuna bağlı olmaması ve çalışması için koşula bakılmamasıdır.**\n",
    "\n",
    "**Örnek**\n"
   ]
  },
  {
   "cell_type": "code",
   "execution_count": 4,
   "metadata": {
    "vscode": {
     "languageId": "javascript"
    }
   },
   "outputs": [
    {
     "name": "stdout",
     "output_type": "stream",
     "text": [
      "Evet alkol satışı yapılabilir.\n",
      "Hayır alkol satışı yapılamaz.\n"
     ]
    }
   ],
   "source": [
    "%%script node\n",
    "\n",
    "const age = 18;\n",
    "\n",
    "if (18 <= age) {\n",
    "    console.log(\"Evet alkol satışı yapılabilir.\");\n",
    "}\n",
    "\n",
    "console.log(\"Hayır alkol satışı yapılamaz.\");"
   ]
  },
  {
   "cell_type": "markdown",
   "metadata": {},
   "source": [
    "Birden fazla koşul gerektiren durumlarda `else, else if` veya `switch` ifadelerinden faydalanırız. Yazının ilerleyen bölümlerinde her birine değineceğiz.\n"
   ]
  },
  {
   "cell_type": "markdown",
   "metadata": {},
   "source": [
    "### <a id='toc1_1_2_'></a>[`else` Koşulu](#toc0_)\n",
    "\n",
    "`if` ifadesi içerisinde oluşturduğumuz koşulun **gerçekleşmemesi** halinde `else` bloğunun içerisindeki kodlar çalışacaktır.\n",
    "\n",
    "**Prototype:**\n",
    "\n",
    "```javascript\n",
    "if (condition1) {\n",
    "  // If ifadesi condition1 ile uyumlu ise buradaki kod bloğu çalışır.\n",
    "} else {\n",
    "  // If ifadesi condition1 ile uyumlu değilse buradaki kod bloğu çalışır.\n",
    "}\n",
    "```\n",
    "\n",
    "Alkol örneğimizden devam ederek `else` ifadesini oluşturalım. `age` değerini 14 olarak değiştirdiğimizde koşulumuz `if` ifadesi ile uyuşmayacak dolayısıyla `if` bloğuna ait kodlar çalışmayacaktır. JavaScript `else` bloğuna ait kodları çalıştıracaktır.\n",
    "\n",
    "**Örnek**\n"
   ]
  },
  {
   "cell_type": "code",
   "execution_count": 5,
   "metadata": {
    "vscode": {
     "languageId": "javascript"
    }
   },
   "outputs": [
    {
     "name": "stdout",
     "output_type": "stream",
     "text": [
      "Hayır alkol satışı yapılamaz.\n"
     ]
    }
   ],
   "source": [
    "%%script node\n",
    "\n",
    "// age değişkenin değerini değiştirerek sonuçları gözlemleyebilirsiniz.\n",
    "const age = 14;\n",
    "\n",
    "// 18 <= 14 ifadesinin sonucu false olduğundan if bloğuna ait kodlar çalışmayacaktır.\n",
    "if (18 <= age) {\n",
    "    console.log(\"Evet alkol satışı yapılabilir.\");\n",
    "}\n",
    "\n",
    "// if ifadesinin sonucu boolean olarak false olduğu için else bloğuna ait kodlar çalışacaktır.\n",
    "else {\n",
    "    console.log(\"Hayır alkol satışı yapılamaz.\");\n",
    "}\n"
   ]
  },
  {
   "cell_type": "markdown",
   "metadata": {},
   "source": [
    "**💡 Koşulumuz bir satırdan oluşuyorsa `?` (Ternary) operatörünü kullanabiliriz. `?` operatörü genelde bir satıdan oluşan koşullar için değişkene değer atamada kullanılır. Bu sayede kodlarımızı sadeleştirmiş oluruz.**\n",
    "\n",
    "Bir önceki örneği `?` operatörü ile birlikte yapalım.\n",
    "\n",
    "**Örnek**\n"
   ]
  },
  {
   "cell_type": "code",
   "execution_count": 6,
   "metadata": {
    "vscode": {
     "languageId": "javascript"
    }
   },
   "outputs": [
    {
     "name": "stdout",
     "output_type": "stream",
     "text": [
      "Alkol satışı yapılabilir mi?: Hayır alkol satışı yapılamaz.\n"
     ]
    }
   ],
   "source": [
    "%%script node\n",
    "\n",
    "const age = 14;\n",
    "\n",
    "// Ternary operatör ile birlikte back-tick karakterini kullanarak kodlarımızı sadeleştiriyoruz.\n",
    "console.log(\n",
    "  `Alkol satışı yapılabilir mi?: ${\n",
    "    18 <= age\n",
    "      ? \"Evet alkol satışı yapılabilir.\"\n",
    "      : \"Hayır alkol satışı yapılamaz.\"\n",
    "  }`\n",
    ");\n"
   ]
  },
  {
   "cell_type": "markdown",
   "metadata": {},
   "source": [
    "Bazen ikiden fazla koşula sahip olabiliriz bu gibi durumlarda `else if` veya `switch` ifadeleri kullanılır.\n"
   ]
  },
  {
   "cell_type": "markdown",
   "metadata": {},
   "source": [
    "### <a id='toc1_1_3_'></a>[`else if` Koşulu](#toc0_)\n",
    "\n",
    "İkiden fazla koşula sahipsek `else if` ifadesini kullanırız. `if` ifadesi içerişindeki koşulun gerçekleşmemesi halinde `else if` ifadesi kontrol edilir ve koşulun gerçekleşmesi halinde ilgili ifadeye ait kod bloğu çalışır, uyuşmuyorsa bir sonraki `else if` ifadesi için aynı işlem gerçekleştirilir. Şayet hiçbir ifade koşul ile uyuşmuyorsa `else` kod bloğu çalışır.\n",
    "\n",
    "**Prototype:**\n",
    "\n",
    "```javascript\n",
    "if (condition1) {\n",
    "  // If ifadesi condition1 ile uyumlu ise buradaki kod bloğu çalışır.\n",
    "} else if (condition2) {\n",
    "  // If ifadesi condition1 ile uyumlu değilse fakat condition2 ile uyumluysa buradaki kod bloğu çalışır.\n",
    "} else {\n",
    "  // İfadeler herhangi bir koşul ile uyuşmaz ise else ifadesi içerisindeki kod bloğu çalışır.\n",
    "}\n",
    "```\n",
    "\n",
    "**Örnek**\n"
   ]
  },
  {
   "cell_type": "code",
   "execution_count": 7,
   "metadata": {
    "vscode": {
     "languageId": "javascript"
    }
   },
   "outputs": [
    {
     "name": "stdout",
     "output_type": "stream",
     "text": [
      "Arabanın markası: Lada\n"
     ]
    }
   ],
   "source": [
    "%%script node\n",
    "\n",
    "const car = \"Lada\";\n",
    "\n",
    "if (car == \"Mercedes\") {\n",
    "    console.log(`Arabanın markası: ${car}`);\n",
    "}\n",
    "\n",
    "else if (car == \"Audi\") {\n",
    "    console.log(`Arabanın markası: ${car}`);\n",
    "}\n",
    "\n",
    "else if (car == \"BMW\") {\n",
    "    console.log(`Arabanın markası: ${car}`);\n",
    "}\n",
    "\n",
    "// car değişkeni koşul ile uyuştuğundan buradaki else if bloğuna ait kodlar çalışacaktır. \n",
    "else if (car == \"Lada\") {\n",
    "    console.log(`Arabanın markası: ${car}`);\n",
    "}\n",
    "\n",
    "else {\n",
    "    console.log(`Araba markası belirlenen koşullar ile uyuşmuyor.`);\n",
    "}"
   ]
  },
  {
   "cell_type": "markdown",
   "metadata": {},
   "source": [
    "Yukarıdaki örnekte `if` ifadesi içerisindeki koşulun sonucu `false` olduğu için `if` bloğuna ait kodlar çalışmayacaktır.\n",
    "\n",
    "JavaScript bu durumda bir sonraki satıra geçecek ve `else if` ifadesini kontrol edecektir. Fakat koşulun sonucu yine `false` olduğu için kod bloğu çalışmayacaktır. Bu işlem tüm ifadeler için tekrarlanacaktır. Ta ki belirlediğimiz koşula uygun `else if` ifadesi bulunana kadar.\n",
    "\n",
    "Koşula uygun bir `else if` ifadesi bulunduğunda ilgili kod bloğu çalıştırılacak ve bu kod bloğu içerisindeki sonuç geri döndürülecektir.\n",
    "\n",
    "Şayet koşul hiçbir ifade ile uyuşmaz ise `else` kod bloğu çalıştırılacaktır. Aşağıdaki örnekte `else` ifadesinin çalışması görülüyor.\n",
    "\n",
    "**Örnek**\n"
   ]
  },
  {
   "cell_type": "code",
   "execution_count": 8,
   "metadata": {
    "vscode": {
     "languageId": "javascript"
    }
   },
   "outputs": [
    {
     "name": "stdout",
     "output_type": "stream",
     "text": [
      "Araba markası belirlenen koşullar ile uyuşmuyor.\n"
     ]
    }
   ],
   "source": [
    "%%script node\n",
    "\n",
    "const car = \"Lada\";\n",
    "\n",
    "if (car == \"Mercedes\") {\n",
    "    console.log(`Arabanın markası: ${car}`);\n",
    "}\n",
    "\n",
    "else if (car == \"Audi\") {\n",
    "    console.log(`Arabanın markası: ${car}`);\n",
    "}\n",
    "\n",
    "else if (car == \"BMW\") {\n",
    "    console.log(`Arabanın markası: ${car}`);\n",
    "}\n",
    "\n",
    "else if (car == \"Fiat\") {\n",
    "    console.log(`Arabanın markası: ${car}`);\n",
    "}\n",
    "\n",
    "// Hiçbir koşul car değişkeni ile uyuşmadığından else kod bloğu çalışacaktır.\n",
    "else {\n",
    "    console.log(`Araba markası belirlenen koşullar ile uyuşmuyor.`);\n",
    "}"
   ]
  },
  {
   "cell_type": "markdown",
   "metadata": {},
   "source": [
    "### <a id='toc1_1_4_'></a>[`switch` Koşulu](#toc0_)\n",
    "\n",
    "**Prototype:**\n",
    "\n",
    "İkiden fazla koşula sahipsek `else if` yöntemine alternatif olarak `switch` ifadesini kullanabiliriz.\n",
    "\n",
    "```javascript\n",
    "switch (expression) {\n",
    "  case x:\n",
    "    // expression, x değeri ile uyuşursa buradaki kod bloğu çalıştırılır.\n",
    "    break;\n",
    "  case y:\n",
    "    // expression, y değeri ile uyuşursa buradaki kod bloğu çalıştırılır.\n",
    "    break;\n",
    "  default:\n",
    "  // expression hiçbir değer ile uyuşmuyorsa varsayılan olarak buradaki kod bloğu çalıştırılır.\n",
    "}\n",
    "```\n",
    "\n",
    "`switch` ifadesinin çalışma mantığına incelediğimizde ilk önce expression sonucu hesaplanır. Elde edilen sonuç her bir koşul ile kıyaslanır. Sonuç ile uyuşan koşul bulunduğunda koşula ait kod bloğu çalıştırılır. Şayet sonuç ile uyuşan kod bloğu bulunamaz ise varsayılan olarak `default` keyword'una ait kod bloğu çalıştırılır.\n",
    "\n",
    "Araba örneğimizi `switch` ifadesi ile oluşturalım.\n",
    "\n",
    "**Örnek**\n"
   ]
  },
  {
   "cell_type": "code",
   "execution_count": 9,
   "metadata": {
    "vscode": {
     "languageId": "javascript"
    }
   },
   "outputs": [
    {
     "name": "stdout",
     "output_type": "stream",
     "text": [
      "Aracın: markası Lada\n"
     ]
    }
   ],
   "source": [
    "%%script node\n",
    "\n",
    "const car = \"Lada\";\n",
    "\n",
    "switch (car) {\n",
    "    case \"Mercedes\":\n",
    "        console.log(`Aracın: markası ${car}`);\n",
    "        break;\n",
    "    \n",
    "    case \"Audi\":\n",
    "    console.log(`Aracın: markası ${car}`);\n",
    "        break;\n",
    "    \n",
    "    case \"BMW\":\n",
    "    console.log(`Aracın: markası ${car}`);\n",
    "        break;\n",
    "    \n",
    "    // expression sonucu yani car değişkeni koşul ile uyuşmasından ötürü buradaki kod bloğu çalıştırılacaktır.\n",
    "    case \"Lada\":\n",
    "    console.log(`Aracın: markası ${car}`);\n",
    "        break;\n",
    "    \n",
    "    default:\n",
    "        console.log(`Araba markası belirlenen koşullar ile uyuşmuyor.`);\n",
    "}\n"
   ]
  },
  {
   "cell_type": "markdown",
   "metadata": {},
   "source": [
    "Yukarıdaki örnekte `switch` içerisindeki expression her bir koşul ile kıyaslanacak ve uyuşan koşula ait kod bloğu çalıştırılarak sonuç döndürülecektir.\n",
    "\n",
    "Şayet expression hiçbir koşul ile uyuşmazsa `default` keyword'una ait kod bloğu çalıştırılacak ve sonuç döndürülecekti.\n",
    "\n",
    "**Örnek**\n"
   ]
  },
  {
   "cell_type": "code",
   "execution_count": 10,
   "metadata": {
    "vscode": {
     "languageId": "javascript"
    }
   },
   "outputs": [
    {
     "name": "stdout",
     "output_type": "stream",
     "text": [
      "Araba markası belirlenen koşullar ile uyuşmuyor.\n"
     ]
    }
   ],
   "source": [
    "%%script node\n",
    "\n",
    "const car = \"Lada\";\n",
    "\n",
    "switch (car) {\n",
    "    case \"Mercedes\":\n",
    "        console.log(`Aracın: markası ${car}`);\n",
    "        break;\n",
    "    \n",
    "    case \"Audi\":\n",
    "    console.log(`Aracın: markası ${car}`);\n",
    "        break;\n",
    "    \n",
    "    case \"BMW\":\n",
    "    console.log(`Aracın: markası ${car}`);\n",
    "    break;\n",
    "    \n",
    "    case \"Fiat\":\n",
    "        console.log(`Aracın: markası ${car}`);\n",
    "        break;\n",
    "        \n",
    "    /** \n",
    "     * expression sonucu yani car değişkeni hiçbir koşul ile uyuşmamasından ötürü default kod bloğu \n",
    "     * çalıştırılacaktır.\n",
    "     */\n",
    "    default:\n",
    "        console.log(`Araba markası belirlenen koşullar ile uyuşmuyor.`);\n",
    "}\n"
   ]
  },
  {
   "cell_type": "markdown",
   "metadata": {},
   "source": [
    "`default` keyword'u `switch` ifadesi içerisinde herhangi bir yerde kullanılabilir.\n",
    "\n",
    "**⚠️ Şayet `default` keyword'u `switch` ifadesinin herhangi bir yerinde kullanılacaksa `default` kod bloğu içerisinde `break` keyword'unun de tanımlı olması gerekir.**\n",
    "\n",
    "**Örnek**\n"
   ]
  },
  {
   "cell_type": "code",
   "execution_count": 11,
   "metadata": {
    "vscode": {
     "languageId": "javascript"
    }
   },
   "outputs": [
    {
     "name": "stdout",
     "output_type": "stream",
     "text": [
      "Araba markası belirlenen koşullar ile uyuşmuyor.\n"
     ]
    }
   ],
   "source": [
    "%%script node\n",
    "\n",
    "const car = \"Lada\";\n",
    "\n",
    "switch (car) {\n",
    "    // default keyword'u başta kullanılmış.\n",
    "    default:\n",
    "        console.log(`Araba markası belirlenen koşullar ile uyuşmuyor.`);\n",
    "        break;\n",
    "\n",
    "    case \"Mercedes\":\n",
    "        console.log(`Aracın: markası ${car}`);\n",
    "        break;\n",
    "    \n",
    "    case \"Audi\":\n",
    "    console.log(`Aracın: markası ${car}`);\n",
    "        break;\n",
    "    \n",
    "    case \"BMW\":\n",
    "    console.log(`Aracın: markası ${car}`);\n",
    "    break;\n",
    "    \n",
    "    case \"Fiat\":\n",
    "        console.log(`Aracın: markası ${car}`);\n",
    "}"
   ]
  },
  {
   "cell_type": "markdown",
   "metadata": {},
   "source": [
    "Dikkat ettiyseniz her `case` bloğu içerisinde `break` keyword'unu kullandık. `break` keyword'u ilgili koşula uygun `case` bloğunu sonlandırmak için kullanılır.\n",
    "\n",
    "`switch` yapısında son `case` için `break` keyword'u tanımlamamıza gerek yoktur. JavaScript son `case`'e ulaştığında otomatik olarak `switch` ifadesini sonlandıracaktır.\n",
    "\n",
    "**❗ `break` keyword'unu kullanmazsak koşul ile uyuşan `case` bloğu çalışacak ve ardından bir sonraki `case` bloğu çalşmaya devam edecektir. JavaScript `break` keyword'une ulaşana kadar bu durum devam edecektir. Bu bakımdan her `case` bloğunda `break` keyword'unun kullanılması gerekir.**\n",
    "\n",
    "**Örnek**\n"
   ]
  },
  {
   "cell_type": "code",
   "execution_count": 12,
   "metadata": {
    "vscode": {
     "languageId": "javascript"
    }
   },
   "outputs": [
    {
     "name": "stdout",
     "output_type": "stream",
     "text": [
      "Aracın: markası Lada\n",
      "Aracın: markası Lada\n",
      "Aracın: markası Lada\n",
      "Aracın: markası Lada\n"
     ]
    }
   ],
   "source": [
    "%%script node\n",
    "\n",
    "const car = \"Lada\";\n",
    "\n",
    "switch (car) {\n",
    "    case \"Lada\":\n",
    "        console.log(`Aracın: markası ${car}`);\n",
    "    \n",
    "    case \"Mercedes\":\n",
    "    console.log(`Aracın: markası ${car}`);\n",
    "    \n",
    "    case \"BMW\":\n",
    "    console.log(`Aracın: markası ${car}`);\n",
    "       \n",
    "    // JavaScript break keyword'una ulaşana kadar çalışmayı sürdürür.\n",
    "    case \"Audi\":\n",
    "        console.log(`Aracın: markası ${car}`);\n",
    "        break;\n",
    "    \n",
    "    default:\n",
    "        console.log(`Araba markası belirlenen koşullar ile uyuşmuyor.`);\n",
    "}\n"
   ]
  },
  {
   "cell_type": "markdown",
   "metadata": {},
   "source": [
    "**💡 Yapılacak işlem birden fazla koşul için ortaklanarak `switch` ifadesi içerisinde kullanılabilir.**\n",
    "\n",
    "**Örnek**\n"
   ]
  },
  {
   "cell_type": "code",
   "execution_count": 13,
   "metadata": {
    "vscode": {
     "languageId": "javascript"
    }
   },
   "outputs": [
    {
     "name": "stdout",
     "output_type": "stream",
     "text": [
      "Araba Japon üretimi. Arabanının markası: Toyota\n"
     ]
    }
   ],
   "source": [
    "%%script node\n",
    "\n",
    "const car = \"Toyota\";\n",
    "\n",
    "switch (car) {\n",
    "    case \"Toyota\":\n",
    "    case \"Honda\":\n",
    "        console.log(`Araba Japon üretimi. Arabanının markası: ${car}`);\n",
    "        break;\n",
    "       \n",
    "    case \"BMW\":\n",
    "    case \"Audi\":\n",
    "    console.log(`Araba Alman üretimi. Arabanının markası: ${car}`);\n",
    "        break;\n",
    "    \n",
    "    default:\n",
    "        console.log(`Araba türü belirlenen koşullar ile uyuşmuyor.`);\n",
    "}\n"
   ]
  },
  {
   "cell_type": "markdown",
   "metadata": {},
   "source": [
    "`switch` ifadesi strict özelliklidir. Yani expression içerisindeki ifade `case` ile tam uyuşmalıdır. Aksi durumda uyuşma sağlanmaz.\n",
    "\n",
    "**Örnek**\n"
   ]
  },
  {
   "cell_type": "code",
   "execution_count": 14,
   "metadata": {
    "vscode": {
     "languageId": "javascript"
    }
   },
   "outputs": [
    {
     "name": "stdout",
     "output_type": "stream",
     "text": [
      "Araba türü belirlenen koşullar ile uyuşmuyor.\n"
     ]
    }
   ],
   "source": [
    "%%script node\n",
    "\n",
    "const car = \"Toy\";\n",
    "\n",
    "switch (car) {\n",
    "    case \"Toyota\":\n",
    "    case \"Honda\":\n",
    "        console.log(`Araba Japon üretimi. Arabanının markası: ${car}`);\n",
    "        break;\n",
    "       \n",
    "    case \"BMW\":\n",
    "    case \"Audi\":\n",
    "    console.log(`Araba Alman üretimi. Arabanının markası: ${car}`);\n",
    "        break;\n",
    "    \n",
    "    default:\n",
    "        console.log(`Araba türü belirlenen koşullar ile uyuşmuyor.`);\n",
    "}\n"
   ]
  },
  {
   "cell_type": "markdown",
   "metadata": {},
   "source": [
    "Yukarıda görüleceği üzere car değişkeni içerisindeki karakterler \"Toyota\" string'indeki karakterler ile kısmen uyuşmasına rağmen ilgili `case`'a ait kod bloğu çalışmamaktadır. `case` bloklarının çalışması için tam eşleşme sağlanması şarttır.\n"
   ]
  },
  {
   "cell_type": "markdown",
   "metadata": {},
   "source": [
    "**`switch`, `else if` veya `if else` yapıları arasındaki farklar:**\n",
    "\n",
    "- `else if` veya `if else` yapılarında bütün veri tipleri kullanılabilirken `switch` ifadesinde yalnızca `number` veya `string` özellikli veri tipleri kullanılır.\n",
    "\n",
    "- `else if` veya `if else` yapılarında koşula göre ya `if` ya da `else` bloğuna ait kodlar çalıştırılırken `switch` yapısında `break` keyword'una ulaşana kadar tüm case'ler çalıştırılır veya hiçbir koşul uyuşmazsa `default` keyword'u içerisindeki kodlar çalıştırılır.\n",
    "\n",
    "- `switch` yapısında koşulu güncellemek, silmek veya yeni bir koşul oluşturmak kolay iken `else if` veya `if else` yapılarında zordur.\n",
    "\n",
    "- Eğer ikiden fazla koşula sahipsek `else if` veya `if else` ile oluşturduğumuz koşulların çalışma hızı `switch` ile oluşturduğumuz yapıların hızından daha yavaş olacaktır.\n"
   ]
  },
  {
   "cell_type": "markdown",
   "metadata": {},
   "source": [
    "## <a id='toc1_2_'></a>[Özet](#toc0_)\n",
    "\n",
    "JavaScript'te, program akışını değiştirmek ve farklı işlemler yapmak için koşullu ifadeler kullanılır. Bu koşullu ifadeler arasında `if`, `else`, `else if` ve `switch` ifadeleri bulunur.\n",
    "\n",
    "- `if` ifadesi belirli bir koşulun doğru olduğunda ilgili kod bloğunu çalıştırır.\n",
    "\n",
    "- `else` ifadesi `if` bloğunun koşulunun yanlış olduğu durumda çalışacak kod bloğunu tanımlar.\n",
    "\n",
    "- `else if` ifadesi birden fazla koşulu kontrol eder ve koşulların sağlandığı ilk bloğun kodunu çalıştırır.\n",
    "\n",
    "- `switch` ifadesi bir ifadeyi değerlendirir ve birden fazla olası senaryoya göre farklı kod bloklarını çalıştırır.\n",
    "\n",
    "**Bu yapılar arasındaki farklar:**\n",
    "\n",
    "- `switch` sadece belirli veri tipleriyle kullanılabilirken, `if-else` yapıları her türlü koşulu değerlendirebilir.\n",
    "\n",
    "- `switch` durumlar arasında geçiş yaparken, `if-else` yapıları her bir koşulu tek tek kontrol eder.\n",
    "\n",
    "- `switch` durumlar için daha temiz ve okunabilir bir yapı sunarken, `if-else` yapıları daha esnek ve geniş kapsamlıdır.\n",
    "\n",
    "Bu yapılar kullanılarak, programların belirli koşullara göre farklı davranışlar sergilemesi sağlanır.\n"
   ]
  }
 ],
 "metadata": {
  "kernelspec": {
   "display_name": "Python 3",
   "language": "python",
   "name": "python3"
  },
  "language_info": {
   "codemirror_mode": {
    "name": "ipython",
    "version": 3
   },
   "file_extension": ".py",
   "mimetype": "text/x-python",
   "name": "python",
   "nbconvert_exporter": "python",
   "pygments_lexer": "ipython3",
   "version": "3.10.12"
  }
 },
 "nbformat": 4,
 "nbformat_minor": 2
}
