{
 "cells": [
  {
   "cell_type": "markdown",
   "metadata": {},
   "source": [
    "# JavaScript'de Döngüler <a id='toc0_'></a>\n",
    "\n",
    "Merhaba arkadaşlar serinin bu bölümünde JavaScript'de döngü kavramını ve türlerini inceleyeceğiz.\n",
    "\n",
    "- [Döngü Kavramı ve Türleri](#toc1_1_)\n",
    "  - [`for` Döngüsü](#toc1_1_1_)\n",
    "    - [`for` Döngüsünde Scope'ların Kullanımı](#toc1_1_1_1_)\n",
    "  - [`for...in` Döngüsü](#toc1_1_2_)\n",
    "  - [`for...of` Döngüsü](#toc1_1_3_)\n",
    "  - [`while` Döngüsü](#toc1_1_4_)\n",
    "  - [`do...while` Döngüsü](#toc1_1_5_)\n",
    "  - [ Döngüde `break` ve `continue` Statement'ların Kullanımı](#toc1_1_6_)\n",
    "- [JavaScript'de Etiketlerin Kullanımı](#toc1_2_)\n",
    "\n",
    "Değineceğim.\n",
    "\n",
    "İyi okumalar dilerim.\n",
    "\n",
    "If you want to read English version of article please [visit](js19-loops.ipynb) this link.\n",
    "\n",
    "<!-- vscode-jupyter-toc-config\n",
    "\tnumbering=false\n",
    "\tanchor=true\n",
    "\tflat=false\n",
    "\tminLevel=1\n",
    "\tmaxLevel=6\n",
    "\t/vscode-jupyter-toc-config -->\n",
    "<!-- THIS CELL WILL BE REPLACED ON TOC UPDATE. DO NOT WRITE YOUR TEXT IN THIS CELL -->\n"
   ]
  },
  {
   "cell_type": "markdown",
   "metadata": {},
   "source": [
    "## <a id='toc1_1_'></a>[Döngü Kavramı ve Türleri](#toc0_)\n",
    "\n",
    "Bazen verilerimizi bilgisayar ortamında işlemek ve saklamak isteyebiliriz. Sayılı bir kaç tane veri için bu işlemi elle gerçekleştirmek kolay olacaktır. Fakat elimizde yüzlerce veriden oluşan bir liste olduğunu düşünürsek bu işlem zor olacağı gibi emek ve zaman kaybına da neden olacaktır.\n",
    "\n",
    "Bu gibi durumlarda programlamada döngü kavramı yardımımıza yetişir ve **tekrarlı** işlemleri otomatik hale getirerek işimizi kolaylaştırır.\n",
    "\n",
    "Döngüler özellikle array veri türlerinde oldukça sık kullanılırlar.\n",
    "\n",
    "**JavaScript'de sık kullanılan döngü türlerini listelerek:**\n",
    "\n",
    "- `for`\n",
    "\n",
    "- `for...in`\n",
    "\n",
    "- `for...of`\n",
    "\n",
    "- `while`\n",
    "\n",
    "- `do...while`\n",
    "\n",
    "Şimdi de bu döngü türlerine değinelim.\n"
   ]
  },
  {
   "cell_type": "markdown",
   "metadata": {},
   "source": [
    "### <a id='toc1_1_1_'></a>[`for` Döngüsü](#toc0_)\n",
    "\n",
    "Belirleyeceğimiz bir koşula göre bir takım işlemleri otomatik olarak yapmak isteyebiliriz bu durumda `for` döngüsünü kullanabiliriz.\n",
    "\n",
    "**Prototype:**\n",
    "\n",
    "```javascript\n",
    "for (exp1; exp2; exp3) {\n",
    "  // for döngüsü kod bloğu. Çalıştırılacak kodlar buraya yazılır.\n",
    "}\n",
    "```\n",
    "\n",
    "Yukarıda `for` döngüsünün yapısını görüyoruz. `for` döngüsünde 3 tane expression kullanılır. Expression'lar `;` işareti ile birbirlerinden ayrılırlar.\n",
    "\n",
    "**Expression'lara değinecek olursak:**\n",
    "\n",
    "- `exp1`: Genelde döngüde kullanılacak değişkenler ve değerler bu bölümde tanımlanır. `for` döngüsüne ait kod bloğu çalıştırılmadan önce 1 kereye mahsus çalıştırılır.\n",
    "\n",
    "- `exp2`: Döngü koşulu bu bölümde oluşturulur. Döngü koşulunun sonucu `true` olduğu sürece `for` döngüsüne ait kod bloğu çalıştırılır. Koşulun `false` olduğu durumda döngü sonlanır.\n",
    "\n",
    "- `exp3`: Döngüyü iterate etmek için bu bölüm kullanılır. Döngü koşulunun `true` olması halinde bu kısım çalışacaktır.\n",
    "\n",
    "**Örnek**\n"
   ]
  },
  {
   "cell_type": "code",
   "execution_count": 43,
   "metadata": {
    "vscode": {
     "languageId": "javascript"
    }
   },
   "outputs": [
    {
     "name": "stdout",
     "output_type": "stream",
     "text": [
      "i'nin değeri: 0\n",
      "i'nin değeri: 1\n",
      "i'nin değeri: 2\n",
      "i'nin değeri: 3\n",
      "i'nin değeri: 4\n"
     ]
    }
   ],
   "source": [
    "%%script node\n",
    "\n",
    "for (i = 0; i < 5; i++){\n",
    "    console.log(`i'nin değeri: ${i}`);\n",
    "}"
   ]
  },
  {
   "cell_type": "markdown",
   "metadata": {},
   "source": [
    "**Yukarıdaki `for` döngüsünü açıklayacak olursak:**\n",
    "\n",
    "1. Döngüde `exp1` ifadesi `i = 0` bölümüne denk gelmektedir. `i` değişkenine 0 değerini atadık. Döngü çalışmaya başladığında 1 kereye mahsus bu expression çalışacaktır.\n",
    "\n",
    "2. Döngüde `exp2` ifadesi `i < 5` bölümüne denk gelmektedir. Burada döngü koşulumuzu belirledik. `i` değişkeni 5 rakamından küçük olduğu sürece döngü `true` sonucunu döndürecek ve çalışmaya devam edecektir. `false` olduğu durumda döngü sonlanacaktır.\n",
    "\n",
    "3. Döngüde `exp3` ifadesi `i++` bölüme denk gelmektedir. Döngü koşulu `true` sonucunu döndürdüğü sürece `i` değişkeninin değeri +1 artırılacak ve döngünün tekrarlanmasını sağlayacaktır.\n",
    "\n",
    "**Örnek**\n"
   ]
  },
  {
   "cell_type": "code",
   "execution_count": 44,
   "metadata": {
    "vscode": {
     "languageId": "javascript"
    }
   },
   "outputs": [
    {
     "name": "stdout",
     "output_type": "stream",
     "text": [
      "Arabanın markası: Lada \n",
      "Arabanın markası: Lada Tata \n",
      "Arabanın markası: Lada Tata BMW \n",
      "Arabanın markası: Lada Tata BMW Audi \n",
      "Arabanın markası: Lada Tata BMW Audi Mercedes \n"
     ]
    }
   ],
   "source": [
    "%%script node\n",
    "\n",
    "const cars = [\"Lada\", \"Tata\", \"BMW\", \"Audi\", \"Mercedes\"];\n",
    "\n",
    "// exp1 kısmında birden fazla değişkeni aynı anda tanımlayabiliriz.\n",
    "for (let i = 0, len = cars.length, text = \"\"; i < len; i++){\n",
    "    text += cars[i]+\" \";\n",
    "\n",
    "    console.log(`Arabanın markası: ${text}`);\n",
    "};"
   ]
  },
  {
   "cell_type": "markdown",
   "metadata": {},
   "source": [
    "Yukarıda örnekte görüleceği üzere `exp1` kısmı için birden fazla değişlen tanımladık. Değişkenleri `,` işareti yardımıyla birbirlerinden ayırdık.\n",
    "\n",
    "`exp1` kısmının `for` döngüsü içerisinde kullanılması opiyoneldir. Döngü dışında `exp1` kısmını tanımlayabilir böylece `for` içerisinde `exp1` kısmına yer vermeyebiliriz.\n",
    "\n",
    "**Örnek**\n"
   ]
  },
  {
   "cell_type": "code",
   "execution_count": 45,
   "metadata": {
    "vscode": {
     "languageId": "javascript"
    }
   },
   "outputs": [
    {
     "name": "stdout",
     "output_type": "stream",
     "text": [
      "i'nin değeri: 0\n",
      "i'nin değeri: 1\n",
      "i'nin değeri: 2\n",
      "i'nin değeri: 3\n",
      "i'nin değeri: 4\n"
     ]
    }
   ],
   "source": [
    "%%script node\n",
    "\n",
    "// exp1 kısmına denk gelen i değişkenini for stament'ı dışında tanımladık.\n",
    "let i = 0;\n",
    "\n",
    "for (/* exp1 kısmını es geçtik. */; i < 5; i++){\n",
    "    console.log(`i'nin değeri: ${i}`);\n",
    "}"
   ]
  },
  {
   "cell_type": "markdown",
   "metadata": {},
   "source": [
    "`exp2` kısmının (döngü koşulunun) `for` döngüsü içerisinde kullanılması opiyoneldir.\n",
    "\n",
    "**⚠️ Döngü koşulu belirlenmeyecekse döngü içerisinde `break` statement'ına yer verilmelidir. Aksi durumda döngü sonlanmayacağı için program çökecektir.**\n",
    "\n",
    "**Örnek**\n"
   ]
  },
  {
   "cell_type": "code",
   "execution_count": 46,
   "metadata": {
    "vscode": {
     "languageId": "javascript"
    }
   },
   "outputs": [
    {
     "name": "stdout",
     "output_type": "stream",
     "text": [
      "i'nin değeri: 0\n",
      "i'nin değeri: 1\n",
      "i'nin değeri: 2\n",
      "i'nin değeri: 3\n",
      "i'nin değeri: 4\n",
      "i'nin değeri: 5\n"
     ]
    }
   ],
   "source": [
    "%%script node\n",
    "\n",
    "for (i = 0; /* exp2 kısmını es geçtik. */; i++){\n",
    "    console.log(`i'nin değeri: ${i}`);\n",
    "    \n",
    "    // i değerinin 5 olması halinde döngü sonlanacaktır.\n",
    "    if (i == 5) { break; }\n",
    "};"
   ]
  },
  {
   "cell_type": "markdown",
   "metadata": {},
   "source": [
    "Yukarıda `break` statement'ının kullanımı görülüyor. Şayet `break` statement'ını kullanmasaydık kodlar sonsuz döngüye girecek ve program çökecekti.\n",
    "\n",
    "**💡 Döngünün sona erme koşulunu henüz belirleyemediğimiz ancak kodlama süreci içerisinde döngünün sonlanması gereken koşulun ortaya çıkacağı durumlarda `break` statement'ından faydalanabiliriz.**\n"
   ]
  },
  {
   "cell_type": "markdown",
   "metadata": {},
   "source": [
    "`exp3` kısmının (iterate değerinin) `for` döngüsü içerisinde kullanılması opiyoneldir. Bu durumda `exp3` kısmı `for` döngüsü içerisinde tanımlanır.\n",
    "\n",
    "**Örnek**\n"
   ]
  },
  {
   "cell_type": "code",
   "execution_count": 47,
   "metadata": {
    "vscode": {
     "languageId": "javascript"
    }
   },
   "outputs": [
    {
     "name": "stdout",
     "output_type": "stream",
     "text": [
      "i'nin değeri: 0\n",
      "i'nin değeri: 1\n",
      "i'nin değeri: 2\n",
      "i'nin değeri: 3\n",
      "i'nin değeri: 4\n"
     ]
    }
   ],
   "source": [
    "%%script node\n",
    "\n",
    "for (i = 0; i < 5; /* exp3 kısmını es geçtik. */){\n",
    "    console.log(`i'nin değeri: ${i}`);\n",
    "\n",
    "    // exp3 kısmını döngü içerisinde tanımladık.\n",
    "    i++;    \n",
    "}"
   ]
  },
  {
   "cell_type": "markdown",
   "metadata": {},
   "source": [
    "Yukarıda örnekte görüldüğü gibi `for` döngüsünü oluşturan bölümlerden `exp3` kısmını kullanmadık. Bunun yerine iterate değerini kod bloğu içerisinde kullandık.\n"
   ]
  },
  {
   "cell_type": "markdown",
   "metadata": {},
   "source": [
    "#### <a id='toc1_1_1_1_'></a>[`for` Döngüsünde Scope'ların Kullanımı](#toc0_)\n",
    "\n",
    "Bir değişken `var` keyword'u kullanarak **tanımlanmadığı** sürece `for` döngüsü içerisinde değişkenin değeri değiştirilirse bu durumda değişkenin değeri bulunduğu scope içerisinde geçerli olur. Bir üst scope'da ki değişkenin değeri aynı kalır.\n",
    "\n",
    "**Örnek**\n"
   ]
  },
  {
   "cell_type": "code",
   "execution_count": 48,
   "metadata": {
    "vscode": {
     "languageId": "javascript"
    }
   },
   "outputs": [
    {
     "name": "stdout",
     "output_type": "stream",
     "text": [
      "i'nin for scope içerisindeki değeri: 0\n",
      "i'nin for scope içerisindeki değeri: 1\n",
      "i'nin for scope içerisindeki değeri: 2\n",
      "i'nin for scope içerisindeki değeri: 3\n",
      "i'nin for scope içerisindeki değeri: 4\n",
      "i'nin for scope içerisindeki değeri: 5\n",
      "i'nin for scope içerisindeki değeri: 6\n",
      "i'nin for scope içerisindeki değeri: 7\n",
      "i'nin for scope içerisindeki değeri: 8\n",
      "i'nin for scope içerisindeki değeri: 9\n",
      "i'nin döngü dışındaki değeri: 5'dir. i değişkeninin değeri aynı kaldı.\n"
     ]
    }
   ],
   "source": [
    "%%script node\n",
    "\n",
    "let i = 5;\n",
    "\n",
    "for (let i = 0; i < 10; i++) {\n",
    "    console.log(`i'nin for scope içerisindeki değeri: ${i}`);\n",
    "}\n",
    "\n",
    "console.log(`i'nin döngü dışındaki değeri: ${i}'dir. i değişkeninin değeri aynı kaldı.`);"
   ]
  },
  {
   "cell_type": "markdown",
   "metadata": {},
   "source": [
    "Bunun nedeni `let` keyword'unun block scope özelliğine sahip olmasıdır. Aynı örneği `var` keyword'u ile yapsaydık `i` değişkenin depoladığı değer güncellenecekti. Çünkü `var` keyword'u global scope özelliğine sahiptir. <!-- Konuyu daha iyi anlamak için [Block Scope Kavramı](js03-variables.ipynb#block-scope-kavramı) başlığına bakabilirsiniz. -->\n",
    "\n",
    "**Örnek**\n"
   ]
  },
  {
   "cell_type": "code",
   "execution_count": 49,
   "metadata": {
    "vscode": {
     "languageId": "javascript"
    }
   },
   "outputs": [
    {
     "name": "stdout",
     "output_type": "stream",
     "text": [
      "i'nin for scope içerisindeki değeri: 0\n",
      "i'nin for scope içerisindeki değeri: 1\n",
      "i'nin for scope içerisindeki değeri: 2\n",
      "i'nin for scope içerisindeki değeri: 3\n",
      "i'nin for scope içerisindeki değeri: 4\n",
      "i'nin for scope içerisindeki değeri: 5\n",
      "i'nin for scope içerisindeki değeri: 6\n",
      "i'nin for scope içerisindeki değeri: 7\n",
      "i'nin for scope içerisindeki değeri: 8\n",
      "i'nin for scope içerisindeki değeri: 9\n",
      "i'nin döngü dışındaki değeri: 10'dur. i değişkeninin değeri güncellendi.\n"
     ]
    }
   ],
   "source": [
    "%%script node\n",
    "\n",
    "// i değişkenin değeri döngü sonrası 10 olacak.\n",
    "var i = 5;\n",
    "\n",
    "for (var i = 0; i < 10; i++) {\n",
    "    console.log(`i'nin for scope içerisindeki değeri: ${i}`);\n",
    "}\n",
    "\n",
    "console.log(`i'nin döngü dışındaki değeri: ${i}'dur. i değişkeninin değeri güncellendi.`);"
   ]
  },
  {
   "cell_type": "markdown",
   "metadata": {},
   "source": [
    "### <a id='toc1_1_2_'></a>[`for...in` Döngüsü](#toc0_)\n",
    "\n",
    "Genelde nesne özellikli bir değişkenin property değerlerine ulaşmak için kullanılır.\n",
    "\n",
    "**Prototype:**\n",
    "\n",
    "```javascript\n",
    "for (keys in object) {\n",
    "  // for...in döngüsü kod bloğu. Çalıştırılacak kodlar buraya yazılır.\n",
    "}\n",
    "```\n",
    "\n",
    "Yukarıda `for...in` döngüsünün yapısını görüyoruz. `for...in` döngüsü 2 değişkenden oluşur. Bunlar `keys` ve `object` değişkenlerdir.\n",
    "\n",
    "**Bu değişkenlere değinecek olursak:**\n",
    "\n",
    "- `object`: `for...in` döngüsünde kullanılacak nesneyi temsil eder.\n",
    "\n",
    "- `keys`: Nesnenin property'sindeki key kısmını ifade eder.\n",
    "\n",
    "**Örnek**\n"
   ]
  },
  {
   "cell_type": "code",
   "execution_count": 50,
   "metadata": {
    "vscode": {
     "languageId": "javascript"
    }
   },
   "outputs": [
    {
     "name": "stdout",
     "output_type": "stream",
     "text": [
      "Arabanın markası: Lada\n",
      "Arabanın modeli: 1200\n",
      "Arabanın rengi: white\n"
     ]
    }
   ],
   "source": [
    "%%script node\n",
    "\n",
    "const cars = { carName: \"Lada\", carModel: 1200, carColor: \"white\" };\n",
    "\n",
    "\n",
    "var stringHolder;\n",
    "\n",
    "// cars değişkenindeki property'lerin key kısmı keys değişkenine kopyalanır.\n",
    "for (keys in cars) {\n",
    "\n",
    "/** \n",
    " * switch condtion'u ile o anki key değerine göre stringHolder değişkeninin değerini \n",
    " * belirliyoruz.\n",
    " */\n",
    "switch (keys) {\n",
    "    case \"carName\":\n",
    "        stringHolder = \"Arabanın markası\";\n",
    "        break;\n",
    "    case \"carModel\":\n",
    "        stringHolder = \"Arabanın modeli\";\n",
    "        break;\n",
    "\n",
    "    default:\n",
    "        stringHolder = \"Arabanın rengi\";\n",
    "}\n",
    "\n",
    "    console.log(`${stringHolder}: ${cars[keys]}`);\n",
    "}\n"
   ]
  },
  {
   "cell_type": "markdown",
   "metadata": {},
   "source": [
    "**Yukarıdaki `for...in` döngüsünü açıklayacak olursak:**\n",
    "\n",
    "1. `for...in` döngüsü `cars` nesnesindeki her property için tekrarlanacaktır. (Ör.: `carName: Lada`)\n",
    "\n",
    "2. Her tekrarda property içerisindeki key kısmı döngüde bulunan `keys` değişkenine kopyalanacaktır.\n",
    "\n",
    "3. O anki `keys` değişkeninin değerine göre `switch` condition'u içerisinde `stringHolder` değişkeninin değerini belirliyoruz. Sonrasında bu değişkeni property değerlerini yazdırırken kullanacağız.\n",
    "\n",
    "4. Döngüde o anda bulunan `keys` değişkeni içerisindeki değer kullanılarak `cars` property'si içerisindeki değerlere (yani `Lada, 1200` ve `white`) değerlerine ulaşım sağlanacaktır. Ulaşım `cars[keys]` syntax'ı ile yapılır. Property içerisindeki değerler `stringHolder` değişkeni ile birlikte kullanılarak konsola yazdırılır.\n",
    "\n",
    "`for...in` döngüsü array veri türüne sahip değişkenin elementlerine erişmek için de kullanılabilir.\n",
    "\n",
    "**Örnek**\n"
   ]
  },
  {
   "cell_type": "code",
   "execution_count": 51,
   "metadata": {
    "vscode": {
     "languageId": "javascript"
    }
   },
   "outputs": [
    {
     "name": "stdout",
     "output_type": "stream",
     "text": [
      "Aracın markası: Lada\n",
      "Aracın markası: Audi\n",
      "Aracın markası: BMW\n",
      "Aracın markası: Tata\n"
     ]
    }
   ],
   "source": [
    "%%script node\n",
    "\n",
    "const cars = [\"Lada\", \"Audi\", \"BMW\", \"Tata\"]; \n",
    "\n",
    "for (keys in cars) {\n",
    "    console.log(`Aracın markası: ${cars[keys]}`);\n",
    "}\n"
   ]
  },
  {
   "cell_type": "markdown",
   "metadata": {},
   "source": [
    "**❗ `for...in` döngüsü array özellikli değişkenlerde kullanılması tavsiye edilen bir döngü türü değildir. Bunun nedeni döngü içerisinde array metotlarını kullanmak istediğimizde index kaynaklı bir takım sorunlara neden olmasıdır. `for...in` yerine `for`, `for...of` döngüsünden veya `Array.forEach()` metodundan faydalanılabilir.**\n",
    "\n",
    "**Örnek**\n"
   ]
  },
  {
   "cell_type": "code",
   "execution_count": 52,
   "metadata": {
    "vscode": {
     "languageId": "javascript"
    }
   },
   "outputs": [
    {
     "name": "stdout",
     "output_type": "stream",
     "text": [
      "Arabanın markası: Lada\n",
      "Arabanın markası: Audi\n",
      "Arabanın markası: BMW\n",
      "Arabanın markası: Tata\n"
     ]
    }
   ],
   "source": [
    "%%script node\n",
    "\n",
    "const cars = [\"Lada\", \"Audi\", \"BMW\", \"Tata\"];\n",
    "\n",
    "// Call back metodu olarak arrow function kullandık.\n",
    "cars.forEach(i => console.log(`Arabanın markası: ${i}`));"
   ]
  },
  {
   "cell_type": "markdown",
   "metadata": {},
   "source": [
    "Yukarıdaki örnekte `Array.forEach()` metodundan faydalandık. `cars` array değişkeni içerisindeki her bir element için `forEach()` metodu çalışacak ve elementin değeri `i` değişkenine aktarılarak konsola o anki elementin değeri yazdırılacaktır.\n"
   ]
  },
  {
   "cell_type": "markdown",
   "metadata": {},
   "source": [
    "### <a id='toc1_1_3_'></a>[`for...of` Döngüsü](#toc0_)\n",
    "\n",
    "Değeri iterable olan değişkenlerde kullanılır. Bu tür değişkenlerin veri türü Array, String, Maps, NodeList vb. veri türlerinden her hangi biri olabilir.\n",
    "\n",
    "**Prototype:**\n",
    "\n",
    "```javascript\n",
    "for (iterator of object) {\n",
    "  // for...of döngüsü kod bloğu. Çalıştırılacak kodlar buraya yazılır.\n",
    "}\n",
    "```\n",
    "\n",
    "Yukarıda `for...of` döngüsünün yapısını görüyoruz. `for...of` döngüsü 2 değişkenden oluşur. Bunlar `iterator` ve `object` değişkenleridir.\n",
    "\n",
    "**Bu değişkenlere değinecek olursak:**\n",
    "\n",
    "- `iterator`: Döngünün her tekrarlanmasında `object` değişkeninin değeri veya içeriği `iterator` değişkenine kopyalanır.\n",
    "\n",
    "- `object`: Iterable özellikli bir değeri ifade eder. Bu değerin veri türü array, string, maps, NodeList gibi değerlerden biri olabilir.\n",
    "\n",
    "**Örnek**\n"
   ]
  },
  {
   "cell_type": "code",
   "execution_count": 53,
   "metadata": {
    "vscode": {
     "languageId": "javascript"
    }
   },
   "outputs": [
    {
     "name": "stdout",
     "output_type": "stream",
     "text": [
      "Arabanın markası: Lada\n",
      "Arabanın markası: Audi\n",
      "Arabanın markası: BMW\n",
      "Arabanın markası: Tata\n"
     ]
    }
   ],
   "source": [
    "%%script node\n",
    "\n",
    "const cars = [\"Lada\", \"Audi\", \"BMW\", \"Tata\"];\n",
    "\n",
    "/** \n",
    " * cars değişkeninin elementleri iterator değişkeni içerisine kopyalanacak ve her bir \n",
    " * element için döngü çalışacaktır.\n",
    " */\n",
    "for (const iterator of cars) {\n",
    "    console.log(`Arabanın markası: ${iterator}`);\n",
    "}"
   ]
  },
  {
   "cell_type": "markdown",
   "metadata": {},
   "source": [
    "`for...of` döngüsünün çalışma mantığı `for...in` döngüsüne benzer.\n",
    "\n",
    "`cars` değişkeninin her bir elementi `iterator` değişkenine kopyalanacak ve döngü `true` olduğu sürece `iterator` değişkeninin değeri konsola yazdırılacaktır.\n",
    "\n",
    "String veri tipine sahip bir değişken için `for...of` döngüsünü oluşturalım.\n",
    "\n",
    "**Örnek**\n"
   ]
  },
  {
   "cell_type": "code",
   "execution_count": 54,
   "metadata": {
    "vscode": {
     "languageId": "javascript"
    }
   },
   "outputs": [
    {
     "name": "stdout",
     "output_type": "stream",
     "text": [
      "S \n",
      "e \n",
      "l \n",
      "a \n",
      "m \n"
     ]
    }
   ],
   "source": [
    "%%script node\n",
    "\n",
    "const message = \"Selam\";\n",
    "\n",
    "/**\n",
    " * message değişkeninin her bir karakteri iterator değişkenine kopyalanacak ve bu değer \n",
    " * konsola yazdırılacaktır.\n",
    " */\n",
    "for (const iterator of message) {\n",
    "    console.log(iterator + \" \");\n",
    "}\n"
   ]
  },
  {
   "cell_type": "markdown",
   "metadata": {},
   "source": [
    "Yukarıdaki örnekte `message` değişkenin her bir karakteri `iterator` değişkenine kopyalanacak ve o anki `iterator` değişkeninin değeri konsola yazdırılacaktır.\n"
   ]
  },
  {
   "cell_type": "markdown",
   "metadata": {},
   "source": [
    "### <a id='toc1_1_4_'></a>[`while` Döngüsü](#toc0_)\n",
    "\n",
    "`for` döngüsüne benzerdir. `while` döngüsü içerisinde kullanılan koşul sağlandığı sürece döngüye ait kod bloğu çalışacaktır. Koşulun `false` değer döndürmesi durumunda döngü sonlanacaktır.\n",
    "\n",
    "**Prototype:**\n",
    "\n",
    "```javascript\n",
    "while (condition) {\n",
    "  /**\n",
    "   * while döngüsüne ait kod bloğu. Koşul sağlandığı sürece buradaki kodlar\n",
    "   * çalıştırılacaktır.\n",
    "   */\n",
    "}\n",
    "```\n",
    "\n",
    "**Örnek**\n"
   ]
  },
  {
   "cell_type": "code",
   "execution_count": 55,
   "metadata": {
    "vscode": {
     "languageId": "javascript"
    }
   },
   "outputs": [
    {
     "name": "stdout",
     "output_type": "stream",
     "text": [
      "i değişkeninin şu anki değeri: 0\n",
      "i değişkeninin şu anki değeri: 1\n",
      "i değişkeninin şu anki değeri: 2\n",
      "i değişkeninin şu anki değeri: 3\n",
      "i değişkeninin şu anki değeri: 4\n"
     ]
    }
   ],
   "source": [
    "%%script node\n",
    "\n",
    "let i = 0;\n",
    "\n",
    "while (i < 5) {\n",
    "    \n",
    "    /** \n",
    "     * i değişkenin değeri 5'den küçük olduğu sürece döngü çalışacak ve konsola i \n",
    "     * değişkeninin değeri yazdırılacaktır.\n",
    "     */\n",
    "    console.log(`i değişkeninin şu anki değeri: ${i}`);\n",
    "\n",
    "  /** \n",
    "   * Her döngüde i değişkeninin değeri +1 artırıyoruz ki döngüyü tekrar edip while \n",
    "   * içerisindeki koşulun sınanmasını sağlayabilelim.  \n",
    "   */\n",
    "  i++;\n",
    "}"
   ]
  },
  {
   "cell_type": "markdown",
   "metadata": {},
   "source": [
    "**⚠️ `while` döngüsü içerisinde koşulu tekrar sınamak için ve döngüye girmek için (iterate denir.) `i` değişkenin değerini `i++` syntax'ı ile +1 olarak artırıyoruz. Böylece koşul her seferinde `i` değişkenin depoladığı değeri kontrol ediliyor. Şayet `i` değişkeninin değerini artırmasaydık `while` döngüsü kısır döngüye girecek ve JavaScript programımızın çökmesine neden olacaktı.**\n"
   ]
  },
  {
   "cell_type": "markdown",
   "metadata": {},
   "source": [
    "Yukarıdaki örneği `for` döngüsü ile yapmış olsaydık:\n",
    "\n",
    "**Örnek**\n"
   ]
  },
  {
   "cell_type": "code",
   "execution_count": 56,
   "metadata": {
    "vscode": {
     "languageId": "javascript"
    }
   },
   "outputs": [
    {
     "name": "stdout",
     "output_type": "stream",
     "text": [
      "i değişkeninin şu anki değeri: 0\n",
      "i değişkeninin şu anki değeri: 1\n",
      "i değişkeninin şu anki değeri: 2\n",
      "i değişkeninin şu anki değeri: 3\n",
      "i değişkeninin şu anki değeri: 4\n"
     ]
    }
   ],
   "source": [
    "%%script node\n",
    "\n",
    "for (i = 0; i < 5; i++){\n",
    "    console.log(`i değişkeninin şu anki değeri: ${i}`);\n",
    "}"
   ]
  },
  {
   "cell_type": "markdown",
   "metadata": {},
   "source": [
    "### <a id='toc1_1_5_'></a>[`do...while` Döngüsü](#toc0_)\n",
    "\n",
    "`while` döngüsüne benzer şekilde çalışır. Aralarındaki fark `while` döngüsü koşulu önce sınar sonrasında çalıştırırken `do...while` döngüsü önce çalışır sonra koşulu sınar. Bu sebeple `do...while` için oluşturulan koşulun sonucu `false` olsa bile döngü 1 kere çalıştırılacaktır.\n",
    "\n",
    "**Prototype:**\n",
    "\n",
    "```javascript\n",
    "do {\n",
    "  /**\n",
    "   * do...while döngüsüne ait kod bloğu. Koşul false olsa bile 1 kereye mahsus buradaki\n",
    "   * kodlar çalıştırılır.\n",
    "   */\n",
    "  /**\n",
    "   *  Daha sonda condition sınanır. condition sonucu true ise döngü tekrar çalışmaya\n",
    "   * başlar. Aksi durumda döngü sonlanır.\n",
    "   */\n",
    "} while (condition);\n",
    "```\n",
    "\n",
    "**Örnek**\n"
   ]
  },
  {
   "cell_type": "code",
   "execution_count": 57,
   "metadata": {
    "vscode": {
     "languageId": "javascript"
    }
   },
   "outputs": [
    {
     "name": "stdout",
     "output_type": "stream",
     "text": [
      "i değişkeninin şu anki değeri: 0\n",
      "i değişkeninin şu anki değeri: 1\n",
      "i değişkeninin şu anki değeri: 2\n",
      "i değişkeninin şu anki değeri: 3\n",
      "i değişkeninin şu anki değeri: 4\n"
     ]
    }
   ],
   "source": [
    "%%script node\n",
    "\n",
    "let i = 0;\n",
    "\n",
    "// Döngü ilk baş çalıştırılacaktır.\n",
    "do {\n",
    "    console.log(`i değişkeninin şu anki değeri: ${i}`);\n",
    "    i++;\n",
    "}\n",
    "\n",
    "// Sonrasında döngü koşulu sınanacaktır.\n",
    "while (i < 5);"
   ]
  },
  {
   "cell_type": "markdown",
   "metadata": {},
   "source": [
    "**⚠️ `do...while` döngüsü içerisinde koşulu tekrar sınamak için ve döngüye girmek için (iterate denir.) `i` değişkenin syntax'ı ile `i++` ifadesi ile +1 olarak artırıyoruz. Böylece koşul her seferinde `i` değişkenin depoladığı değeri kontrol ediliyor. Şayet `i` değişkeninin değerini artırmasaydık `do...while` döngüsü kısır döngüye girecek ve JavaScript programımızın çökmesine neden olacaktı.**\n"
   ]
  },
  {
   "cell_type": "markdown",
   "metadata": {},
   "source": [
    "### <a id='toc1_1_6_'></a>[Döngüde `break` ve `continue` Statement'ların Kullanımı](#toc0_)\n",
    "\n",
    "Bazen bir döngünün belirli bir koşulu sağlaması durumunda sonlanmasını veya bir kereliğine mahsus döngünün çalışmamasını isteyebiliriz. Bu gibi durumlarda `break` ve `continue` statement'ları kullanılır.\n",
    "\n",
    "`break` statement'ını kullanırsak belirlenen koşul sağlandığında döngü sonlanacaktır.\n",
    "\n",
    "`continue` statement'ını kullanırsak belirlenen koşulun sağlanması halinde döngü bir kereye mahsus çalışmayacak ve sonuç döndürmeyecektir.\n",
    "\n",
    "**Örnek**\n"
   ]
  },
  {
   "cell_type": "code",
   "execution_count": 58,
   "metadata": {
    "vscode": {
     "languageId": "javascript"
    }
   },
   "outputs": [
    {
     "name": "stdout",
     "output_type": "stream",
     "text": [
      "Öğrencinin ismi: Emin\n",
      "Öğrencinin ismi: Murat\n"
     ]
    }
   ],
   "source": [
    "%%script node\n",
    "const studentNames = [\"Emin\", \"Murat\", \"Ömer\", \"Hasan\"];\n",
    "\n",
    "for (const iterator of studentNames) {\n",
    "    \n",
    "    // iterator değişkeninin içeriği Ömer olması durumunda döngü sonlanacaktır.\n",
    "    if (iterator === \"Ömer\") {\n",
    "        break;\n",
    "    }\n",
    "\n",
    "     console.log(`Öğrencinin ismi: ${iterator}`);\n",
    "}\n"
   ]
  },
  {
   "cell_type": "markdown",
   "metadata": {},
   "source": [
    "**Yapılacak işlemleri açıklayacak olursak:**\n",
    "\n",
    "1. Yukarıdaki örnekte `studentNames` isimli array türündeki değişkenin elementleri `iterator` değişkenine kopyalanıyor.\n",
    "\n",
    "2. Döngünün her çalışmasında `if` condition içerisinde belirtilen koşul test ediliyor. Eğer koşul sağlanırsa `if` bloğundaki `break` statement'ı çalışacak ve döngü sonlanacaktır.\n",
    "\n",
    "3. Kopyalanan değer konsola yazdırılıyor.\n"
   ]
  },
  {
   "cell_type": "markdown",
   "metadata": {},
   "source": [
    "Yukarıdaki örneği `continue` statement'ı ile yapmış olsaydık koşulun sağlanması halinde döngü bir kereliğine durdurulacak ve sonra tekrar çalışmaya devam edecekti. Yani \"Ömer\" değeri konsola yazdırılmayacaktı.\n",
    "\n",
    "**Örnek**\n"
   ]
  },
  {
   "cell_type": "code",
   "execution_count": 59,
   "metadata": {
    "vscode": {
     "languageId": "javascript"
    }
   },
   "outputs": [
    {
     "name": "stdout",
     "output_type": "stream",
     "text": [
      "Öğrencinin ismi: Emin\n",
      "Öğrencinin ismi: Murat\n",
      "Öğrencinin ismi: Hasan\n"
     ]
    }
   ],
   "source": [
    "%%script node\n",
    "\n",
    "const studentNames = [\"Emin\", \"Murat\", \"Ömer\", \"Hasan\"];\n",
    "\n",
    "for (const iterator of studentNames) {\n",
    "    \n",
    "    // iterator değişkeninin içeriği Ömer olması durumunda döngü sonlanacaktır.\n",
    "    if (iterator === \"Ömer\") {\n",
    "        continue;\n",
    "    }\n",
    "    \n",
    "    console.log(`Öğrencinin ismi: ${iterator}`);\n",
    "}"
   ]
  },
  {
   "cell_type": "markdown",
   "metadata": {},
   "source": [
    "**⚠️ `break` ve `continue` statement'ları JavaScript'de blok dışına çıkabilen tek statement türüdür.**\n"
   ]
  },
  {
   "cell_type": "markdown",
   "metadata": {},
   "source": [
    "## <a id='toc1_2_'></a>[JavaScript'de Etiketlerin Kullanımı](#toc0_)\n",
    "\n",
    "Bazen döngü içerisinde belirlediğimiz koşulun (`if` gibi) sağlanması halinde döngünün sonlanmasını ve programın belirlediğimiz bir yerinden çalışmaya devam etmesini isteyebiliriz. Bunu yapabilmek için `break` ve `continue` statement'ları ile birlikte etiketleri kullanılırız. Böylece belirleyeceğimiz koşulun sağlanması halinde döngüye ait kod bloğunun dışına çıkabilir programın akışını istediğimiz yerden devam ettirebiliriz.\n",
    "\n",
    "Etiketler özellike iç içe döngülerde kullanılır.\n",
    "\n",
    "**Örnek**\n"
   ]
  },
  {
   "cell_type": "code",
   "execution_count": 60,
   "metadata": {
    "vscode": {
     "languageId": "javascript"
    }
   },
   "outputs": [
    {
     "name": "stdout",
     "output_type": "stream",
     "text": [
      "Toplama işlemi tamamlanamadı. Toplamaya dahil edilmeyen array elementleri var.\n"
     ]
    }
   ],
   "source": [
    "%%script node\n",
    "\n",
    "// scores adında array veri türü özellikli bir değişken tanımlıyoruz.\n",
    "let scores = [];\n",
    "\n",
    "// scores değişkeni içerisine elementleri tanımlıyoruz.\n",
    "scores[0] = 5;\n",
    "scores[1] = 10;\n",
    "scores[2] = 15;\n",
    "scores[3] = 20;\n",
    "/** scores[4] = 25; \n",
    " * \n",
    " * Array içerisindeki 3. elementi comment'e dönüştürelim. Böylece array içerisinde undefined veri tipine sahip \n",
    " * bir empty element oluşacaktır.\n",
    " */\n",
    "scores[5] = 30;\n",
    "\n",
    "/** \n",
    " * total değişkeni array elementlerinin toplam sonucunu tutacak. result değişkenini \n",
    " * döngünün devam ettiğini anlamak için kullanacağız.\n",
    " */\n",
    "let total = 0, result = false;\n",
    "\n",
    "// example adında bir label'ımımız var. Bu label if bloğuna denk geliyor.\n",
    "example: if (scores.length > 0) {\n",
    "\n",
    "  // score değişkeni içerisindeki tüm elementlere ulaşmak için for döngüsünden faydalanıyoruz.\n",
    "  for (let i = 0; i < scores.length; i++) {\n",
    "    \n",
    "    /**\n",
    "     * isNaN() metodu ile scores değişkeni içerisindeki her bir elementin sayısal bir değere sahip olup/olmadığı\n",
    "     * kontrol ediliyor.\n",
    "     * \n",
    "     * Eğer değer sayısal özellikli değilse döngü/koşul sonlanacak ve programı example etiketine denk gelen \n",
    "     * yerden çalışmaya devam ettireceğiz.\n",
    "     */\n",
    "    if (isNaN(scores[i])) {\n",
    "      break example;\n",
    "      \n",
    "    }\n",
    "\n",
    "    else {\n",
    "      total = total + scores[i];\n",
    "    }\n",
    "    \n",
    "  }\n",
    "\n",
    "  // Döngünün sorunsuz şekilde sonlanması halinde result değişkeninin değerini true olarak belirliyoruz.\n",
    "  result = true;\n",
    "}\n",
    "\n",
    "result ? console.log(`Toplama işleminin sonucu: ${total}`) : console.log(\"Toplama işlemi tamamlanamadı. Toplamaya dahil edilmeyen array elementleri var.\");\n"
   ]
  },
  {
   "cell_type": "markdown",
   "metadata": {},
   "source": [
    "Yukarıda `example` label'ı ile `break` statement'ını birlikte kullandık. `if (isNaN(scores[i]))` koşunun sonucu `true` olması halinde döngü sonlanacak ve program başlangıç noktası olarak `example` label'ına geri döndürülerek **çalışmaya bir sonraki satırdan** devam edecektir.\n",
    "\n",
    "Bir örnekte `continue` statement'ı için yapalım.\n",
    "\n",
    "**Örnek**\n"
   ]
  },
  {
   "cell_type": "code",
   "execution_count": 61,
   "metadata": {
    "vscode": {
     "languageId": "javascript"
    }
   },
   "outputs": [
    {
     "name": "stdout",
     "output_type": "stream",
     "text": [
      "Elementin şu anki değeri: Emin\n",
      "Elementin şu anki değeri: Murat\n",
      "Elementin şu anki değeri: Hasan\n"
     ]
    }
   ],
   "source": [
    "%%script node\n",
    "\n",
    "const studentNames = [\"Emin\", \"Murat\", \"Ömer\", \"Hasan\"];\n",
    "\n",
    "example: for (let i = 0; i < studentNames.length; i++) {\n",
    "    \n",
    "    // studentNames element değerlerinden biri Ömer olması halinde döngü 1 kereye mahsus atlanacaktır.\n",
    "   if (studentNames[i]==\"Ömer\") {\n",
    "       continue example;\n",
    "   } else {\n",
    "       console.log(`Elementin şu anki değeri: ${studentNames[i]}`);\n",
    "   }\n",
    "\n",
    "    \n",
    "}"
   ]
  },
  {
   "cell_type": "markdown",
   "metadata": {},
   "source": [
    "## Özet\n",
    "\n",
    "JavaScript'teki döngü yapıları, belirli görevleri tekrarlamak ve veri üzerinde gezinmek için kullanılır. Bu döngüler, farklı ihtiyaçlara ve senaryolara uygun bir dizi seçenek sunar.\n",
    "\n",
    "- **`for` Döngüsü:** Sayısal değerler üzerinde belirli bir koşula göre tekrarlamak için kullanılır. Genellikle belirli bir aralıktaki sayılar üzerinde dolaşmak için kullanılır.\n",
    "\n",
    "- **`for...in` Döngüsü:** Nesne özelliklerine erişmek için kullanılır. Bir nesnenin key'leri üzerinde dolaşmak için kullanışlıdır.\n",
    "\n",
    "- **`for...of` Döngüsü:** Iterable nesneler üzerinde dolaşmak için kullanılır. Array, String gibi veri türlerinde kullanılabilir.\n",
    "\n",
    "- **`while` Döngüsü:** Belirli bir koşul sağlandığı sürece bir kod bloğunu tekrarlamak için kullanılır. Koşul baştan sağlanmazsa hiçbir kez çalışmayabilir.\n",
    "\n",
    "- **`do...while` Döngüsü:** Koşul kontrolü döngü bloğunun sonunda yapılır. Bu nedenle en az bir kere döngü bloğu çalışır.\n",
    "\n",
    "Döngüler, programlamada önemli bir araçtır ve tekrarlı işlemleri daha etkili ve düzenli bir şekilde gerçekleştirmemizi sağlar. Ancak, döngülerin sonsuz döngülere veya istenmeyen durumlara neden olabileceği unutulmamalıdır. Bu nedenle, döngüler kullanılırken dikkatli olunmalı ve uygun koşul kontrolü sağlanmalıdır.\n"
   ]
  }
 ],
 "metadata": {
  "kernelspec": {
   "display_name": "Python 3",
   "language": "python",
   "name": "python3"
  },
  "language_info": {
   "codemirror_mode": {
    "name": "ipython",
    "version": 3
   },
   "file_extension": ".py",
   "mimetype": "text/x-python",
   "name": "python",
   "nbconvert_exporter": "python",
   "pygments_lexer": "ipython3",
   "version": "3.10.12"
  }
 },
 "nbformat": 4,
 "nbformat_minor": 2
}
