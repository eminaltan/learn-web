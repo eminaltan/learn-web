{
 "cells": [
  {
   "cell_type": "markdown",
   "metadata": {},
   "source": [
    "# JavaScript'te Set'ler <a id='toc0_'></a>\n",
    "\n",
    "Merhaba arkadaşlar serinin bu bölümünde JavaScript'te **_Set_** kavramını inceleyeceğiz.\n",
    "\n",
    "Yazıda:\n",
    "\n",
    "- [JavaScript'te Set Kavramı](#toc1_1_)\n",
    "- [Set Veri Türünde Sık Kullanılan Metotlar](#toc1_2_)\n",
    "  - [`add()` Metodu](#toc1_2_1_)\n",
    "  - [`delete()` Metodu](#toc1_2_2_)\n",
    "  - [`has()` Metodu](#toc1_2_3_)\n",
    "  - [`forEach()` Metodu](#toc1_2_4_)\n",
    "  - [`values()` Metodu](#toc1_2_5_)\n",
    "- [`size` Property'sinin Kullanımı](#toc1_3_)\n",
    "- [Özet](#toc1_4_)\n",
    "\n",
    "Değineceğim.\n",
    "\n",
    "İyi okumalar dilerim.\n",
    "\n",
    "If you want to read English version of this article please visit [this link](js20-sets.ipynb).\n",
    "\n",
    "<!-- vscode-jupyter-toc-config\n",
    "\tnumbering=false\n",
    "\tanchor=true\n",
    "\tflat=false\n",
    "\tminLevel=1\n",
    "\tmaxLevel=6\n",
    "\t/vscode-jupyter-toc-config -->\n",
    "<!-- THIS CELL WILL BE REPLACED ON TOC UPDATE. DO NOT WRITE YOUR TEXT IN THIS CELL -->\n"
   ]
  },
  {
   "cell_type": "markdown",
   "metadata": {},
   "source": [
    "## <a id='toc1_1_'></a>[JavaScript'te Set Kavramı](#toc0_)\n",
    "\n",
    "**JavaScript **_Set_** kavramını array veri türüne benzetebiliriz. Arraylar'dan farklı olarak:**\n",
    "\n",
    "- Set'ler içerisindeki elementler **unique** olma özelliği taşır. Yani aynı element bir Set içerisinde tekrar edilemez. Bundan ötürü Set'ler benzersiz değerleri depolamak için kullanılırlar.\n",
    "\n",
    "- Set elementine erişmek için metotlar kullanılır. Hatırlayacağınız üzere array'da elementlere erişim için index'leri kullanıyorduk.\n",
    "\n",
    "Bir Set oluşturmak için `new Set()` constructor metodu kullanılır.\n",
    "\n",
    "**Örnek**\n"
   ]
  },
  {
   "cell_type": "code",
   "execution_count": 1,
   "metadata": {
    "vscode": {
     "languageId": "javascript"
    }
   },
   "outputs": [
    {
     "name": "stdout",
     "output_type": "stream",
     "text": [
      "arry değişkenin elementleri: 2,2,4,5,6,6\n",
      "set1 değişkenin elementleri: 2,4,5,6\n",
      "arry değişkeninin boyutu: 6\n",
      "set1 değişkeninin boyutu: 4\n"
     ]
    }
   ],
   "source": [
    "%%script node\n",
    "\n",
    "const arry = [2, 2, 4, 5, 6, 6];\n",
    "\n",
    "const set1 = new Set([2, 2, 4, 5, 6, 6]);\n",
    "\n",
    "console.log(`arry değişkenin elementleri: ${arry}`);\n",
    "console.log(`set1 değişkenin elementleri: ${[...set1]}`);\n",
    "\n",
    "console.log(`arry değişkeninin boyutu: ${arry.length}`);\n",
    "console.log(`set1 değişkeninin boyutu: ${set1.size}`);"
   ]
  },
  {
   "cell_type": "markdown",
   "metadata": {},
   "source": [
    "Yukarıdaki örnekte `new Set()` metodunu kullanarak yeni bir Set oluşturmuş olduk.\n",
    "\n",
    "Görüleceği üzere `arry` ve `set1` değişkenleri içerisinde `2` ve `6` elementlerinden 2 tane bulunmakta, her iki değişken içeriğini konsola yazdırdığımızda `set1` içerisindeki `2` ve `6` elementlerinin konsola sadece 1 kere yazdırıldığını görüyoruz.\n",
    "\n",
    "**⚠️ Bir Set içerisine birden fazla aynı değişken veya değer depolanmak istendiğinde veri listesinin ilk başındaki değişken veya değer referans alınarak işlem gerçekleştirilir.**\n",
    "\n",
    "`arry` ve `set1` değişkenlerinin boyutuna baktığımızda sayısal olarak aynı olmasına rağmen `set1` değişkeninin boyutunun aslında 4 olduğunu görürüz. Bunun sebebi bir Set, benzersiz elementleri içinde sadece bir kez tutar. Bu nedenle, Set'in boyutu, içindeki benzersiz eleman sayısına eşittir.\n"
   ]
  },
  {
   "cell_type": "markdown",
   "metadata": {},
   "source": [
    "Verilerin depolanmasının yanında Set'ler; iki değişken içeriğinin birleştirerek, kesiştirerek veya farkının alınması yöntemiyle benzersiz bir liste oluşturmak için de kullanılabilir.\n",
    "\n",
    "**Örnek**\n"
   ]
  },
  {
   "cell_type": "code",
   "execution_count": 2,
   "metadata": {
    "vscode": {
     "languageId": "javascript"
    }
   },
   "outputs": [
    {
     "name": "stdout",
     "output_type": "stream",
     "text": [
      "Birleştirme işleminin sonucu: 1,2,3,4\n",
      "Kesiştirme işleminin sonucu: 2,3\n",
      "Fark alma işleminin sonucu: 1\n"
     ]
    }
   ],
   "source": [
    "%%script node\n",
    "\n",
    "let set1 = new Set([1, 2, 3]);\n",
    "let set2 = new Set([2, 3, 4]);\n",
    "\n",
    "/** \n",
    " * union değişkeninin içeriği iki setin birleşmesinden oluşacaktır. İçerik oluşturulurken tekrarlı değerler 1 \n",
    " * kez kullanılacaktır.\n",
    " */\n",
    "let union = new Set([...set1, ...set2]);\n",
    "\n",
    "// set1 ve set2 değişkenleri içerisindeki ortak elementleri buluyoruz.\n",
    "let intersection = new Set([...set1].filter(x => set2.has(x))); \n",
    "\n",
    "// set1 ve set2 değişkenleri içerisindeki ortak olmayan! elementleri buluyoruz.\n",
    "let difference = new Set([...set1].filter(x => !set2.has(x))); \n",
    "\n",
    "console.log(`Birleştirme işleminin sonucu: ${[...union]}`);\n",
    "\n",
    "console.log(`Kesiştirme işleminin sonucu: ${[...intersection]}`);\n",
    "\n",
    "console.log(`Fark alma işleminin sonucu: ${[...difference]}`);\n"
   ]
  },
  {
   "cell_type": "markdown",
   "metadata": {},
   "source": [
    "Yukarıdaki örnekte iki set için birleştirme, kesiştirme ve fark alma işlemleri yapılıyor.\n",
    "\n",
    "Set özellikli yeni değişken tanımlanarak işlemlerin gerçekleştirildiğine dikkat edelim.\n",
    "\n",
    "**💡 Bazen array özellikli bir değişkenin benzersiz veri listesinden oluşmasını isteyebiliriz. Bu durumda array özellikli değişkeni `new Set()` metodu içerisine yerleştirilerek benzersiz elementlerden oluşan bir Set haline getirebiliriz.**\n",
    "\n",
    "**Örnek**\n"
   ]
  },
  {
   "cell_type": "code",
   "execution_count": 3,
   "metadata": {
    "vscode": {
     "languageId": "javascript"
    }
   },
   "outputs": [
    {
     "name": "stdout",
     "output_type": "stream",
     "text": [
      "set1 değişkeninin elementleri: 2,3,4,5,6,7\n"
     ]
    }
   ],
   "source": [
    "%%script node\n",
    "\n",
    "const arry = [2, 2, 2, 2, 2, 3, 4, 5, 6, 7, 7];\n",
    "\n",
    "// arry değişkeni içerisinde tekrarlı veriler kaldırılacaktır.\n",
    "const set1 = new Set(arry);\n",
    "\n",
    "console.log(`set1 değişkeninin elementleri: ${[...set1]}`);"
   ]
  },
  {
   "cell_type": "markdown",
   "metadata": {},
   "source": [
    "## <a id='toc1_2_'></a>[Set Veri Türünde Sık Kullanılan Metotlar](#toc0_)\n",
    "\n",
    "Buraya kadar Set kavramını ve özelliklerini gördük şimdide sık kullanılan Set metotlarına değinelim.\n"
   ]
  },
  {
   "cell_type": "markdown",
   "metadata": {},
   "source": [
    "### <a id='toc1_2_1_'></a>[`add()` Metodu](#toc0_)\n",
    "\n",
    "Bir Set'e yeni bir element eklemek için kullanılır.\n",
    "\n",
    "**Örnek**\n"
   ]
  },
  {
   "cell_type": "code",
   "execution_count": 4,
   "metadata": {
    "vscode": {
     "languageId": "javascript"
    }
   },
   "outputs": [
    {
     "name": "stdout",
     "output_type": "stream",
     "text": [
      "set1 değişkeninin elementleri: Emin,Hasan,Murat\n"
     ]
    }
   ],
   "source": [
    "%%script node\n",
    "\n",
    "// İçeriği boş Set oluşturuyoruz.\n",
    "const set1 = new Set();\n",
    "\n",
    "// add() metodu kullanımı\n",
    "set1.add(\"Emin\");\n",
    "set1.add(\"Hasan\");\n",
    "set1.add(\"Murat\");\n",
    "\n",
    "console.log(`set1 değişkeninin elementleri: ${[...set1]}`);"
   ]
  },
  {
   "cell_type": "markdown",
   "metadata": {},
   "source": [
    "Yukarıdaki örnekte görüleceği gibi eklemek istediğimiz değeri argüman olarak `add()` metodu içerisine yazıyoruz.\n"
   ]
  },
  {
   "cell_type": "markdown",
   "metadata": {},
   "source": [
    "### <a id='toc1_2_2_'></a>[`delete()` Metodu](#toc0_)\n",
    "\n",
    "Bir Set içerisinden belirlediğimiz elementi siler.\n",
    "\n",
    "**Örnek**\n"
   ]
  },
  {
   "cell_type": "code",
   "execution_count": 2,
   "metadata": {
    "vscode": {
     "languageId": "javascript"
    }
   },
   "outputs": [
    {
     "name": "stdout",
     "output_type": "stream",
     "text": [
      "set1 değişkeninin elementleri: Emin,Murat\n",
      "names değişkeninin elementleri: Emin,Hasan,Murat\n"
     ]
    }
   ],
   "source": [
    "%%script node\n",
    "\n",
    "const names = [\"Emin\", \"Hasan\", \"Murat\"];\n",
    "\n",
    "const set1 = new Set(names);\n",
    "\n",
    "// set1 içerisinden Hasan elementi kaldırılacaktır.\n",
    "set1.delete(\"Hasan\");\n",
    "\n",
    "console.log(`set1 değişkeninin elementleri: ${[...set1]}`);\n",
    "\n",
    "// Orijinal Set içeriği bozulmadı.\n",
    "console.log(`names değişkeninin elementleri: ${[...names]}`);"
   ]
  },
  {
   "cell_type": "markdown",
   "metadata": {},
   "source": [
    "Yukarıdaki örnekte görüleceği gibi silmek istediğimiz değeri argüman olarak `delete()` metodu içerisine yazıyoruz.\n",
    "\n",
    "Dikkat ederseniz iççerik bakımından `set1` ve `names` değişkenleri birbirine eşit olmasına rağmen `set1` içerisinden silinen değer `names` değişkeninin içeriğini bozmadı.\n",
    "\n",
    "Silme işleminde index değerlerini de kullanabiliriz.\n",
    "\n",
    "**Örnek**\n"
   ]
  },
  {
   "cell_type": "code",
   "execution_count": 6,
   "metadata": {
    "vscode": {
     "languageId": "javascript"
    }
   },
   "outputs": [
    {
     "name": "stdout",
     "output_type": "stream",
     "text": [
      "set1 değişkeninin elementleri: Emin,Murat\n"
     ]
    }
   ],
   "source": [
    "%%script node\n",
    "\n",
    "const names = [\"Emin\", \"Hasan\", \"Murat\"];\n",
    "\n",
    "const set1 = new Set(names);\n",
    "\n",
    "// set1 içerisindeki 2.elemente erişilecek ve bu değer silinecek.\n",
    "set1.delete(names[1]);\n",
    "\n",
    "console.log(`set1 değişkeninin elementleri: ${[...set1]}`);"
   ]
  },
  {
   "cell_type": "markdown",
   "metadata": {},
   "source": [
    "Yukarıdaki örnekte Set içerisinde 2 numaralı elemente erişiyor ve siliyoruz. `delete(names[1])` ifadesi `set1` değişkeni içerisindeki 2 numaralı elemente erişilmesini ve bu elementin silinmesini sağlar.\n"
   ]
  },
  {
   "cell_type": "markdown",
   "metadata": {},
   "source": [
    "### <a id='toc1_2_3_'></a>[`has()` Metodu](#toc0_)\n",
    "\n",
    "Bir değerin veya değişkenin Set içerisinde olup/olmadığını kontrol etmek isteyebiliriz. Bu durumda `has()` metodundan faydalanırız.\n",
    "\n",
    "`has()` metodu boolean veri tipinde sonuç dönderir. Set içerisinde element var ise sonuç `₺rue` aksi durumda sonuç `false` olacaktır.\n",
    "\n",
    "**Örnek**\n"
   ]
  },
  {
   "cell_type": "code",
   "execution_count": 7,
   "metadata": {
    "vscode": {
     "languageId": "javascript"
    }
   },
   "outputs": [
    {
     "name": "stdout",
     "output_type": "stream",
     "text": [
      "Sonuç: Aranan element Set içerisinde bulunuyor.\n",
      "Sonuç: Aranan element Set içerisinde bulunmuyor.\n"
     ]
    }
   ],
   "source": [
    "%%script node\n",
    "\n",
    "const names = [\"Emin\", \"Hasan\", \"Murat\"];\n",
    "\n",
    "const set1 = new Set(names);\n",
    "\n",
    "// Hasan elementini set1 içerisinde varlığını kontrol edecektir.\n",
    "console.log(`Sonuç: ${set1.has(\"Hasan\") ? \"Aranan element Set içerisinde bulunuyor.\" : \"Aranan element Set içerisinde bulunmuyor.\"}`);\n",
    "\n",
    "// Derya elementini set1 içerisinde varlığını kontrol edecektir.\n",
    "console.log(`Sonuç: ${set1.has(\"Derya\") ? \"Aranan element Set içerisinde bulunuyor.\" : \"Aranan element Set içerisinde bulunmuyor.\"}`);\n"
   ]
  },
  {
   "cell_type": "markdown",
   "metadata": {},
   "source": [
    "Yukarıdaki örnekte `has()` metodu içerisine varlığını kontrol etmek istediğimiz elementi argüman olarak yazdık. `true` değer dönmesi halinde elementin Set içerisinde bulunduğunu `false` olarak dönmesi halinde elementin Set içerisinde bulunmadığını anlarız.\n"
   ]
  },
  {
   "cell_type": "markdown",
   "metadata": {},
   "source": [
    "### <a id='toc1_2_4_'></a>[`forEach()` Metodu](#toc0_)\n",
    "\n",
    "Bazen Set içerisinde her bir element için belli bir işlemi yaptırmak isteyebiliriz. Böyle bir durumda `forEach()` metodundan faydalanırız.\n",
    "\n",
    "**Örnek**\n"
   ]
  },
  {
   "cell_type": "code",
   "execution_count": 8,
   "metadata": {
    "vscode": {
     "languageId": "javascript"
    }
   },
   "outputs": [
    {
     "name": "stdout",
     "output_type": "stream",
     "text": [
      "arry değişkeninin elementleri: 2,3,4,5,6,7\n"
     ]
    }
   ],
   "source": [
    "%%script node\n",
    "\n",
    "const set1 = new Set([1, 2, 3, 4, 5, 6]);\n",
    "\n",
    "let arry = [];\n",
    "\n",
    "// Her bir elementin değeri +1 artırılacaktır.\n",
    "set1.forEach(val => arry.push(val + 1));\n",
    "\n",
    "console.log(`arry değişkeninin elementleri: ${arry}`);\n"
   ]
  },
  {
   "cell_type": "markdown",
   "metadata": {},
   "source": [
    "Yukarıdaki örnekte `forEach()` metodu yardımıyla `set1` değişkeni içerisindeki her bir elemente ulaşıyor ve element değerini +1 artırıyoruz ve elde ettiğimiz sonucu `arry` değişkeninin içerisine depoluyoruz."
   ]
  },
  {
   "cell_type": "markdown",
   "metadata": {},
   "source": [
    "### <a id='toc1_2_5_'></a>[`values()` Metodu](#toc0_)\n",
    "\n",
    "Set içerisindeki elementleri bir nesnenin property'si gibi kullanmak isteyebiliriz. Bu durumda `values()` metodundan faydalanırız. `values()` metodu Set içerisindeki elementler için bir iterable türünde değişken oluşturmaya yarar. Böylece Set içerisindeki elementlere erişim sağlanır ve Set içerisindeki elementler arasında gezinmek mümkün hale gelir.\n",
    "\n",
    "**Örnek**\n",
    "\n",
    "```javascript\n",
    "let set1 = new Set([1, 2, 3, 4, 5, 6]);\n",
    "\n",
    "// values() metoduyla bir iterable oluşturulur.\n",
    "let setValues = set1.values();\n",
    "\n",
    "// Iterable üzerinde forEach kullanarak Set elemanlarına erişilir.\n",
    "setValues.forEach(element => console.log(element));\n",
    "```\n"
   ]
  },
  {
   "cell_type": "markdown",
   "metadata": {},
   "source": [
    "## <a id='toc1_3_'></a>[`size` Property'sinin Kullanımı](#toc0_)\n",
    "\n",
    "Set'lerde normalde property bulunmaz. Aslında `size` bir property değil, bir metodun özelliğidir. `size` property'si Set'in içindeki benzersiz eleman sayısını verir.\n",
    "\n",
    "Konuya ilk girişteki örneğe geri dönelim ve `size` property'sini inceleyelim.\n",
    "\n",
    "**Örnek**\n"
   ]
  },
  {
   "cell_type": "code",
   "execution_count": 9,
   "metadata": {
    "vscode": {
     "languageId": "javascript"
    }
   },
   "outputs": [
    {
     "name": "stdout",
     "output_type": "stream",
     "text": [
      "set1 değişkeninin boyutu: 4\n"
     ]
    }
   ],
   "source": [
    "%%script node\n",
    "\n",
    "const set1 = new Set([2, 2, 4, 5, 6, 6]);\n",
    "\n",
    "console.log(`set1 değişkeninin boyutu: ${set1.size}`);"
   ]
  },
  {
   "cell_type": "markdown",
   "metadata": {},
   "source": [
    "Yukarıda görüldüğü üzere `size` property'si `set1` değişkeninin boyutunu verdi.\n"
   ]
  },
  {
   "cell_type": "markdown",
   "metadata": {},
   "source": [
    "## <a id='toc1_4_'></a>[Özet](#toc0_)\n",
    "\n",
    "JavaScript'te Set kavramı, benzersiz değerleri depolamak için kullanılan bir veri türüdür. Array'lerden farklı olarak, Set'lerde her bir element sadece bir kez bulunabilir. Set oluşturmak için `new Set()` constructor'ını kullanabiliriz.\n",
    "\n",
    "Set'ler, benzersiz veri listeleri oluşturmak ve eleman ekleme, silme, kontrol etme gibi işlemler için kullanışlıdır. Özellikle benzersiz değerlerle çalışmak istendiğinde Set'leri tercih edebiliriz."
   ]
  }
 ],
 "metadata": {
  "kernelspec": {
   "display_name": "Python 3",
   "language": "python",
   "name": "python3"
  },
  "language_info": {
   "codemirror_mode": {
    "name": "ipython",
    "version": 3
   },
   "file_extension": ".py",
   "mimetype": "text/x-python",
   "name": "python",
   "nbconvert_exporter": "python",
   "pygments_lexer": "ipython3",
   "version": "3.10.12"
  }
 },
 "nbformat": 4,
 "nbformat_minor": 2
}
