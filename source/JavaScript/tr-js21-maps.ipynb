{
 "cells": [
  {
   "cell_type": "markdown",
   "metadata": {},
   "source": [
    "# JavaScript'te Map'ler<a id='toc0_'></a>\n",
    "\n",
    "Merhaba arkadaşlar serinin bu bölümünde JavaScript'te **_Map_** kavramını inceleyeceğiz.\n",
    "\n",
    "Yazıda:\n",
    "\n",
    "- [JavaScript'te Map Kavramı](#toc1_1_)\n",
    "  - [Map Elementleri Doğrudan Iterable Edilebilir](#toc1_1_1_)\n",
    "  - [`size` Property'sine Sahiptir](#toc1_1_2_)\n",
    "  - [Key Kısmı Herhangi Bir Veri Tipinden Oluşabilir](#toc1_1_3_)\n",
    "  - [Map Objelerinde Elementler Eklenme Sırasına Göre Sıralanır](#toc1_1_4_)\n",
    "  - [Map Objeleri Değer Eşitliğine Dayanır](#toc1_1_5_)\n",
    "- [Map Veri Türünde Sık Kullanılan Metotlar](#toc1_2_)\n",
    "  - [`set()` Metodu](#toc1_2_1_)\n",
    "  - [`get()` Metodu](#toc1_2_2_)\n",
    "  - [`delete()` Metodu](#toc1_2_3_)\n",
    "  - [`has()` Metodu](#toc1_2_4_)\n",
    "  - [`forEach()` Metodu](#toc1_2_5_)\n",
    "  - [`entries()` Metodu](#toc1_2_6_)\n",
    "- [Özet](#toc1_3_)\n",
    "\n",
    "Değineceğim.\n",
    "\n",
    "İyi okumalar dilerim.\n",
    "\n",
    "If you want to read English version of article please [visit](js21-map.ipynb) this link.\n",
    "\n",
    "<!-- vscode-jupyter-toc-config\n",
    "\tnumbering=false\n",
    "\tanchor=true\n",
    "\tflat=false\n",
    "\tminLevel=1\n",
    "\tmaxLevel=6\n",
    "\t/vscode-jupyter-toc-config -->\n",
    "<!-- THIS CELL WILL BE REPLACED ON TOC UPDATE. DO NOT WRITE YOUR TEXT IN THIS CELL -->\n"
   ]
  },
  {
   "cell_type": "markdown",
   "metadata": {},
   "source": [
    "## <a id='toc1_1_'></a>[JavaScript'te Map Kavramı](#toc0_)\n",
    "\n",
    "JavaScript **_Map_** kavramını nesne veri türüne benzetebiliriz. Map özellikli bir değişkenin elementleri nesnelerde olduğu gibi **_key-value_** eşleşmesinden oluşur.\n",
    "\n",
    "Bir Map oluşturmak için `new Map()` constructor metodunu kullanırız.\n",
    "\n",
    "**Örnek**\n"
   ]
  },
  {
   "cell_type": "code",
   "execution_count": 70,
   "metadata": {
    "vscode": {
     "languageId": "javascript"
    }
   },
   "outputs": [
    {
     "name": "stdout",
     "output_type": "stream",
     "text": [
      "maps değişkeninin içeriği: 625,Murat,276,Emin,198,Hasan\n",
      "276 numaralı öğrencinin ismi: Emin\n"
     ]
    }
   ],
   "source": [
    "%%script node\n",
    "\n",
    "const maps = new Map([\n",
    "    [625, \"Murat\"],\n",
    "    [276, \"Emin\"],\n",
    "    [198, \"Hasan\"]\n",
    "]);\n",
    "\n",
    "console.log(`maps değişkeninin içeriği: ${[...maps]}`);\n",
    "\n",
    "console.log(`276 numaralı öğrencinin ismi: ${maps.get(276)}`);\n"
   ]
  },
  {
   "cell_type": "markdown",
   "metadata": {},
   "source": [
    "Yukarıdaki örnekte `maps` adında bir değişken oluşturduk ve `new Map()` constructor metodu ile depolamak istediğimiz değerleri array şeklinde `maps` değişkeni içerisine yerleştirdik `get()` metodunu kullanarak numarasını bildiğimiz bir öğrencinin adını konsola yazdırdık.\n"
   ]
  },
  {
   "cell_type": "markdown",
   "metadata": {},
   "source": [
    "**Map'ler Nesnelerden farklı olarak:**\n",
    "\n",
    "- Nesne property'leri doğrudan iterate edilemezken, Map elementleri doğrudan iterate edilebilir.\n",
    "\n",
    "- Nesnede `size` property'si bulunmazken, Map içerisinde `size` property'si bulunmaktadır.\n",
    "\n",
    "- Bir nesnede property'nin key bölümü string veya symbol veri tipinden oluşurken, Map elementlerindeki key bölümü için böyle bir sınırlama yoktur. key kısmı herhangi bir veri tipinden oluşabilir.\n",
    "\n",
    "- Nesne property'leri arasındaki sıralama farklılık gösterebilir. Map objelerinde elementler eklenme sırasına göre sıralanır ve bu sıra korunur.\n",
    "\n",
    "- Nesneler referans eşitliğine dayanır, Map'ler değer eşitliğine dayanır.\n",
    "\n",
    "Şimdide her bir farka göz atalım.\n"
   ]
  },
  {
   "cell_type": "markdown",
   "metadata": {},
   "source": [
    "### <a id='toc1_1_1_'></a>[Map Elementleri Doğrudan Iterable Edilebilir](#toc0_)\n",
    "\n",
    "Nesnelerden farklı olarak `for...of` döngüsü veya `forEach` gibi iterable fonksiyonlar kullanarak Map özellikli değişkenin elementlerine doğrudan erişim sağlayabiliriz.\n",
    "\n",
    "**Örnek**\n"
   ]
  },
  {
   "cell_type": "code",
   "execution_count": 71,
   "metadata": {
    "vscode": {
     "languageId": "javascript"
    }
   },
   "outputs": [
    {
     "name": "stderr",
     "output_type": "stream",
     "text": [
      "Hata mesajı: student is not iterable\n"
     ]
    }
   ],
   "source": [
    "%%script node\n",
    "\n",
    "const student = {\n",
    "  studentName: \"Sibel\",\n",
    "  studentLastName: \"Özel\",\n",
    "  studentNumber: 219\n",
    "};\n",
    "\n",
    "// for...of döngüsü nesne üzerinde çalışmaz, hata verir.\n",
    "try {\n",
    "  for (const [key, value] of student) {\n",
    "    console.log(`${key}: ${value}`);\n",
    "  }\n",
    "} catch (error) {\n",
    "  console.error(`Hata mesajı: ${error.message}`); \n",
    "}"
   ]
  },
  {
   "cell_type": "markdown",
   "metadata": {},
   "source": [
    "Yukarıdaki örnekte `student` nesnesi için `for...of` döngüsünü doğrudan kullandığımızda hata mesajı alırız. Çünkü nesne property'leri doğrudan iterable özelliğe sahip değildirler.\n",
    "\n",
    "Aynı örneği Map özellikli bir değişken oluşturarak gerçekleştirelim.\n",
    "\n",
    "**Örnek**\n"
   ]
  },
  {
   "cell_type": "code",
   "execution_count": 72,
   "metadata": {
    "vscode": {
     "languageId": "javascript"
    }
   },
   "outputs": [
    {
     "name": "stdout",
     "output_type": "stream",
     "text": [
      "student değişkeninin key kısmı: studentName | value kısmı: Sibel\n",
      "student değişkeninin key kısmı: studentLastName | value kısmı: Özel\n",
      "student değişkeninin key kısmı: studentNumber | value kısmı: 219\n"
     ]
    }
   ],
   "source": [
    "%%script node\n",
    "\n",
    "const student = new Map([\n",
    "    [\"studentName\", \"Sibel\"],\n",
    "    [\"studentLastName\", \"Özel\"],\n",
    "    [\"studentNumber\", 219]\n",
    "]);\n",
    "\n",
    "// for...of döngüsü kullanarak Map elementlerine erişim\n",
    "for (const [key, value] of student) {\n",
    "    console.log(`student değişkeninin key kısmı: ${key} | value kısmı: ${value}`);\n",
    "}"
   ]
  },
  {
   "cell_type": "markdown",
   "metadata": {},
   "source": [
    "Görüleceği üzere `student` içerisindeki anahtar ve değerlere doğrudan erişim sağlayarak `for...of` döngüsünü kullandık.\n"
   ]
  },
  {
   "cell_type": "markdown",
   "metadata": {},
   "source": [
    "### <a id='toc1_1_2_'></a>[`size` Property'sine Sahiptir](#toc0_)\n",
    "\n",
    "Nesnelerden farklı olarak Map özellikli bir değişkenin boyutunu öğrenmek için `size` property'sinden faydalanırız.\n",
    "\n",
    "**Örnek**\n"
   ]
  },
  {
   "cell_type": "code",
   "execution_count": 73,
   "metadata": {
    "vscode": {
     "languageId": "javascript"
    }
   },
   "outputs": [
    {
     "name": "stdout",
     "output_type": "stream",
     "text": [
      "student değişkeninin boyutu: 3\n",
      "student2 değişkeninin boyutu: 3\n"
     ]
    }
   ],
   "source": [
    "%%script node\n",
    "\n",
    "const student = new Map([\n",
    "    [\"studentName\", \"Sibel\"],\n",
    "    [\"studentLastName\", \"Özel\"],\n",
    "    [\"studentNumber\", 219]\n",
    "]);\n",
    "\n",
    "const student2 = {\n",
    "    studentName: \"Batuhan\",\n",
    "    studentLastName: \"Akar\",\n",
    "    studentNumber: 50\n",
    "};\n",
    "\n",
    "const student2Size = Object.entries(student2).length;\n",
    "\n",
    "console.log(`student değişkeninin boyutu: ${student.size}`);\n",
    "console.log(`student2 değişkeninin boyutu: ${student2Size}`);"
   ]
  },
  {
   "cell_type": "markdown",
   "metadata": {},
   "source": [
    "Yukarıda `size` property'sini kullanarak `student` değişkeninin boyutunu öğreniyoruz.\n",
    "\n",
    "**`student2` nesne özellikli değişkeninin boyutunu öğrenebilmek için:**\n",
    "\n",
    "1. Örnekte görüleceği gibi `Object` nesnesi içerisindeki `entries()` metodu ile `student2` içerisindeki `key-value` eşleşmesinden oluşan array türünde bir içerik oluşturuyoruz.\n",
    "\n",
    "2. Oluşturduğumuz içeriğin boyutunu `length` property'si ile öğreniyoruz.\n",
    "\n",
    "3. Boyutun sonucunu `student2Size` adında bir değişkene aktarıyoruz.\n",
    "\n",
    "Görüleceği üzere Map özellikli `student` değişkeninin boyutunu öğrenmek daha kolay oldu."
   ]
  },
  {
   "cell_type": "markdown",
   "metadata": {},
   "source": [
    "### <a id='toc1_1_3_'></a>[Key Kısmı Herhangi Bir Veri Tipinden Oluşabilir](#toc0_)\n",
    "\n",
    "Hatırlarsak bir nesnenin key kısmı string veya symbol veri tipinden oluşmak zorundaydı. Map özellikli bir değişkenin key kısmı için böyle bir sınırlama yoktur key kısmı herhangi bir veri tipinden oluşabilir.\n",
    "\n",
    "Mesela bir veri tabanından ID kısmını referans alarak personel id ve isimlerinden oluşan bir liste oluşturmak istiyoruz. Böyle bir durumda Map veri türünden faydalanılabilir.\n",
    "\n",
    "**Örnek**\n"
   ]
  },
  {
   "cell_type": "code",
   "execution_count": 74,
   "metadata": {
    "vscode": {
     "languageId": "javascript"
    }
   },
   "outputs": [
    {
     "name": "stdout",
     "output_type": "stream",
     "text": [
      "Personelin ID'si: 1 | Personelin Adı: Emin\n",
      "Personelin ID'si: 2 | Personelin Adı: Murat\n",
      "Personelin ID'si: 3 | Personelin Adı: Hasan\n",
      "Personelin ID'si: 4 | Personelin Adı: Barçın\n"
     ]
    }
   ],
   "source": [
    "%%script node \n",
    "\n",
    "const personal = new Map([\n",
    "    [1, \"Emin\"],\n",
    "    [2, \"Murat\"],\n",
    "    [3, \"Hasan\"],\n",
    "    [4, \"Barçın\"]\n",
    "]);\n",
    "\n",
    "for (const [key, value] of personal) {\n",
    "    console.log(`Personelin ID'si: ${key} | Personelin Adı: ${value}`);\n",
    "}"
   ]
  },
  {
   "cell_type": "markdown",
   "metadata": {},
   "source": [
    "Yukarıdaki örnekte görüleceği üzere `personal` değişkeninin key kısımı number veri tipinden oluşmuştur.`for...of` döngüsünü kullanarak Personellerin ID ve isim bilgilerini konsola yazdırdık."
   ]
  },
  {
   "cell_type": "markdown",
   "metadata": {},
   "source": [
    "### <a id='toc1_1_4_'></a>[Map Objelerinde Elementler Eklenme Sırasına Göre Sıralanır](#toc0_)\n",
    "\n",
    "JavaScript'teki nesnelerde, property'ler genellikle belirli bir sıralamaya sahip değildir. Nesne property'leri, eklendikleri sıraya göre sıralanmazlar. JavaScript'te nesne özellikleri key-value çiftleri şeklinde bulunur ve bu çiftlerin sıralanması spesifik bir düzeni takip etmez.\n",
    "\n",
    "Ancak Map'lerde bu durum söz konusu değildir. Map içerisine eklenen bir element en sona depolanır.\n",
    "\n",
    "**💡 Sıralamanın önemli olduğu durumlarda Map veya array veri türünden faydalanabiliriz.**\n",
    "\n",
    "**Örnek**\n"
   ]
  },
  {
   "cell_type": "code",
   "execution_count": 75,
   "metadata": {
    "vscode": {
     "languageId": "javascript"
    }
   },
   "outputs": [
    {
     "name": "stdout",
     "output_type": "stream",
     "text": [
      "Personelin ID'si: 1 | Personelin Adı: Emin\n",
      "Personelin ID'si: 2 | Personelin Adı: Murat\n",
      "Personelin ID'si: 3 | Personelin Adı: Hasan\n",
      "Personelin ID'si: 4 | Personelin Adı: Barçın\n",
      "Personelin ID'si: 5 | Personelin Adı: Burak\n"
     ]
    }
   ],
   "source": [
    "%%script node    \n",
    "\n",
    "const personal = new Map([\n",
    "    [1, \"Emin\"],\n",
    "    [2, \"Murat\"],\n",
    "    [3, \"Hasan\"],\n",
    "    [4, \"Barçın\"]\n",
    "]);\n",
    "\n",
    "// personal değişkeni içerisine Burak adında bir çalışan ekliyoruz.\n",
    "personal.set(5,\"Burak\");\n",
    "\n",
    "for (const [key, value] of personal) {\n",
    "    console.log(`Personelin ID'si: ${key} | Personelin Adı: ${value}`);\n",
    "}"
   ]
  },
  {
   "cell_type": "markdown",
   "metadata": {},
   "source": [
    "Yukarıdaki örnekte görüldüğü gibi `set()` metodu ile `personal` değişkeni içerisine \"Burak\" adında yeni bir çalışan ekledik. Listeyi sıraladığımızda \"Burak\" listenin sonuna yerleştirildi.\n"
   ]
  },
  {
   "cell_type": "markdown",
   "metadata": {},
   "source": [
    "### <a id='toc1_1_5_'></a>[Map Objeleri Değer Eşitliğine Dayanır](#toc0_)\n",
    "\n",
    "Nesne özellikli iki farklı değişkenin içeriği birbirleriyle aynı olsa bile, aynı referansa sahip değillerse birbirinden farklı kabul edilirler.\n",
    "\n",
    "Map'lerde bu durum söz konusu değildir. İki Map aynı key-value çiftlerine sahipse, bu Map'ler birbirine eşit kabul edilir.\n",
    "\n",
    "**Örnek**\n"
   ]
  },
  {
   "cell_type": "code",
   "execution_count": 7,
   "metadata": {
    "vscode": {
     "languageId": "javascript"
    }
   },
   "outputs": [
    {
     "name": "stdout",
     "output_type": "stream",
     "text": [
      "obj1 ile obj2 birbirine eşit midir?: false\n",
      "map1 ve map2 birbirine eşit midir?: true\n"
     ]
    }
   ],
   "source": [
    "%%script node  \n",
    "\n",
    "const obj1 = { firstName: \"Hasan\" };\n",
    "const obj2 = { firstName: \"Hasan\" };\n",
    "\n",
    "const map1 = new Map([\n",
    "    [\"Emin\", \"Altan\"],\n",
    "    [\"Hasan\", \"Taş\"]\n",
    "]);\n",
    "\n",
    "const map2 = new Map([\n",
    "    [\"Emin\", \"Altan\"],\n",
    "    [\"Hasan\", \"Taş\"]]\n",
    ");\n",
    "\n",
    "console.log(`obj1 ile obj2 birbirine eşit midir?: ${obj1 === obj2}`);\n",
    "console.log(`map1 ve map2 birbirine eşit midir?: ${[...map1.keys()][0] === [...map2.keys()][0]}`);"
   ]
  },
  {
   "cell_type": "markdown",
   "metadata": {},
   "source": [
    "Yukarıdaki örnekte `obj1` ve `obj2` key-value eşleşmesi aynı olsa bile farklı bir değişken olarak kabul edilir. Çünkü nesne veri tipleri referans özelliklidir. **Referans eşitliği olmadığı sürece her iki değişken için bellekte ayrı iki adres kullanılır. Dolayısıyla `obj1` ve `obj2` değişkenlerinin kıyaslanması veri türüne ve depoladığı veriye değil bellekteki tutulduğu adrese göre yapılır. Şayet bu değişkenler aynı bellek adresini paylaşıyor olsaydı yani referans özellikli bir değişken kullanılarak kıyaslama yapılsaydı sonuç `true` olarak dönerdi.**\n",
    "\n",
    "Map özellikli değişkenlerin kıyaslanmasında değişkenlerin key-value eşleşmesi ve bu eşleşmeye ait değerlerin aynı olması sonucun `true` olarak dönmesi için yeterlidir.\n"
   ]
  },
  {
   "cell_type": "markdown",
   "metadata": {},
   "source": [
    "## <a id='toc1_2_'></a>[Map Veri Türünde Sık Kullanılan Metotlar](#toc0_)\n",
    "\n",
    "Buraya kadar Map kavramını ve özelliklerini gördük şimdide biraz Map metotlarına değinelim.\n"
   ]
  },
  {
   "cell_type": "markdown",
   "metadata": {},
   "source": [
    "### <a id='toc1_2_1_'></a>[`set()` Metodu](#toc0_)\n",
    "\n",
    "Bir Map içerisine yeni element eklemeye yarar.\n",
    "\n",
    "**Örnek**\n"
   ]
  },
  {
   "cell_type": "code",
   "execution_count": 77,
   "metadata": {
    "vscode": {
     "languageId": "javascript"
    }
   },
   "outputs": [
    {
     "name": "stdout",
     "output_type": "stream",
     "text": [
      "student değişkeninin elementleri: 1 Emin\n",
      "student değişkeninin elementleri: 2 Murat\n",
      "student değişkeninin elementleri: 3 Can\n"
     ]
    }
   ],
   "source": [
    "%%script node\n",
    "\n",
    "const student = new Map();\n",
    "\n",
    "// set() metodu ile key-value'dan oluşan elementleri student içerisine depoluyoruz.\n",
    "student.set(1, \"Emin\");\n",
    "student.set(2, \"Murat\");\n",
    "student.set(3, \"Can\");\n",
    "\n",
    "\n",
    "for ([key, value] of student) {\n",
    "    console.log(`student değişkeninin elementleri: ${key} ${value}`);\n",
    "}\n"
   ]
  },
  {
   "cell_type": "markdown",
   "metadata": {},
   "source": [
    "Yukarıda `new Map()` constructor metodu ile `student` adında içeriği boş bir Map oluşturuyoruz ve `set()` metoduyla oluşturduğumuz değişkenin içerisine elementler depoluyoruz.\n",
    "\n",
    "`for...of` döngüsü ile depoladığımız elementleri konsola yazdırıyoruz.\n"
   ]
  },
  {
   "cell_type": "markdown",
   "metadata": {},
   "source": [
    "### <a id='toc1_2_2_'></a>[`get()` Metodu](#toc0_)\n",
    "\n",
    "Map içerisindeki bir element için key kısmına denk gelen value kısmını geri döndürür.\n",
    "\n",
    "**Örnek**\n"
   ]
  },
  {
   "cell_type": "code",
   "execution_count": 78,
   "metadata": {
    "vscode": {
     "languageId": "javascript"
    }
   },
   "outputs": [
    {
     "name": "stdout",
     "output_type": "stream",
     "text": [
      "Emin\n"
     ]
    }
   ],
   "source": [
    "%%script node\n",
    "\n",
    "const student = new Map();\n",
    "\n",
    "student.set(1, \"Emin\");\n",
    "student.set(2, \"Murat\");\n",
    "student.set(3, \"Can\");\n",
    "\n",
    "// Map içerisinde 1 numaralı key'e denk gelen değere ulaşıyoruz.\n",
    "console.log(student.get(1));"
   ]
  },
  {
   "cell_type": "markdown",
   "metadata": {},
   "source": [
    "Yukarıdaki örnekte `get()` metodu içerisinde kullandığımız argümana denk gelen key, Map içerisinde bulunacak ve key'e ait değer geri döndürülecektir.\n",
    "\n",
    "Bir önceki örneğe geri dönelim ve `get()` metodu ile key değeri `1` olan Map içerisindeki elementin değerlerine ulaşalım.\n",
    "\n",
    "**Örnek**\n"
   ]
  },
  {
   "cell_type": "code",
   "execution_count": 79,
   "metadata": {
    "vscode": {
     "languageId": "javascript"
    }
   },
   "outputs": [
    {
     "name": "stdout",
     "output_type": "stream",
     "text": [
      "student değişkeninin elementleri: 1 Emin\n",
      "student değişkeninin elementleri: 2 Murat\n",
      "student değişkeninin elementleri: 3 Can\n"
     ]
    }
   ],
   "source": [
    "%%script node\n",
    "\n",
    "const student = new Map();\n",
    "\n",
    "student.set(1, \"Emin\");\n",
    "student.set(2, \"Murat\");\n",
    "student.set(3, \"Can\");\n",
    "\n",
    "\n",
    "for ([key, value] of student) {\n",
    "    \n",
    "    // get() metoduna key değişkenini argüman olarak geçirdik ve Map içerisindeki key kısımlarına ulaştık.\n",
    "    console.log(`student değişkeninin elementleri: ${key} ${student.get(key)}`);\n",
    "}\n"
   ]
  },
  {
   "cell_type": "markdown",
   "metadata": {},
   "source": [
    "### <a id='toc1_2_3_'></a>[`delete()` Metodu](#toc0_)\n",
    "\n",
    "Map içerisinden element silmeye yarar.\n",
    "\n",
    "**Örnek**\n"
   ]
  },
  {
   "cell_type": "code",
   "execution_count": 80,
   "metadata": {
    "vscode": {
     "languageId": "javascript"
    }
   },
   "outputs": [
    {
     "name": "stdout",
     "output_type": "stream",
     "text": [
      "student değişkeninin elementleri: 1 Emin\n",
      "student değişkeninin elementleri: 3 Can\n"
     ]
    }
   ],
   "source": [
    "%%script node\n",
    "\n",
    "const student = new Map();\n",
    "\n",
    "student.set(1, \"Emin\");\n",
    "student.set(2, \"Murat\");\n",
    "student.set(3, \"Can\");\n",
    "\n",
    "\n",
    "// key değeri 2 olan elementi Map içerisinden siliyoruz.\n",
    "student.delete(2);\n",
    "\n",
    "for ([key, value] of student) {\n",
    "    console.log(`student değişkeninin elementleri: ${key} ${student.get(key)}`);\n",
    "}\n"
   ]
  },
  {
   "cell_type": "markdown",
   "metadata": {},
   "source": [
    "Yukarıda görüldüğü üzere `delete()` metoduna verilen argümana denk gelen key Map içerisinde bulunacak ve silinecektir.\n"
   ]
  },
  {
   "cell_type": "markdown",
   "metadata": {},
   "source": [
    "### <a id='toc1_2_4_'></a>[`has()` Metodu](#toc0_)\n",
    "\n",
    "Bir elementin Map içerisinde olup/olmadığını kontrol etmek isteyebiliriz. Bu durumda `has()` metodundan faydalanırız.\n",
    "\n",
    "`has()` metodu boolean veri tipinde sonuç döndürür. Map içerisinde element var ise sonuç `₺rue` aksi durumda sonuç `false` olacaktır.\n",
    "\n",
    "**Örnek**\n"
   ]
  },
  {
   "cell_type": "code",
   "execution_count": 12,
   "metadata": {
    "vscode": {
     "languageId": "javascript"
    }
   },
   "outputs": [
    {
     "name": "stdout",
     "output_type": "stream",
     "text": [
      "Sonuç: id'si 2 olan element Map içerisinde bulunuyor. Öğrencinin ismi: Murat\n",
      "Sonuç: id'si 4 olan element Map içerisinde bulunmuyor.\n"
     ]
    }
   ],
   "source": [
    "%%script node\n",
    "\n",
    "const student = new Map();\n",
    "\n",
    "student.set(1, \"Emin\");\n",
    "student.set(2, \"Murat\");\n",
    "student.set(3, \"Can\");\n",
    "\n",
    "// id'si 2 olan elementin varlığı student değişkeni içerisinde kontrol edilecektir.\n",
    "console.log(`Sonuç: ${student.has(2) ? `id'si 2 olan element Map içerisinde bulunuyor. Öğrencinin ismi: ${student.get(2)}` : `id'si 2 olan element Map içerisinde bulunmuyor.`}`);\n",
    "\n",
    "// id'si 4 olan elementin varlığı student değişkeni içerisinde kontrol edilecektir.\n",
    "console.log(`Sonuç: ${student.has(4) ? `id'si 4 olan element Map içerisinde bulunuyor. Öğrencinin ismi: ${student.get(4)}` : `id'si 4 olan element Map içerisinde bulunmuyor.`}`);\n"
   ]
  },
  {
   "cell_type": "markdown",
   "metadata": {},
   "source": [
    "### <a id='toc1_2_5_'></a>[`forEach()` Metodu](#toc0_)\n",
    "\n",
    "`forEach()` metodu ile Map içerisindeki her bir element için belirlediğimiz bir işlemi otomatik olarak çalıştırabiliriz. Böylece her element için tek tek işlem yapmamış olur ve zamandan kazanırız.\n",
    "\n",
    "`forEach()` metodu içerisinde bir metot oluşturulması haline bu metot her Map elementi için tekrar tekrar çağrılıp kullanılacağı için buna **_callback function_** adı verilir.\n",
    "\n",
    "**Örnek**\n"
   ]
  },
  {
   "cell_type": "code",
   "execution_count": 82,
   "metadata": {
    "vscode": {
     "languageId": "javascript"
    }
   },
   "outputs": [
    {
     "name": "stdout",
     "output_type": "stream",
     "text": [
      "Personelin ID'si: 1 | Personelin Adı: Emin | Personelin Yeni Maaşı: 6000$\n",
      "Personelin ID'si: 2 | Personelin Adı: Murat | Personelin Yeni Maaşı: 7000$\n",
      "Personelin ID'si: 3 | Personelin Adı: Sinan | Personelin Yeni Maaşı: 8000$\n",
      "Personelin ID'si: 4 | Personelin Adı: Barçın | Personelin Yeni Maaşı: 9000$\n"
     ]
    }
   ],
   "source": [
    "%%script node\n",
    "\n",
    "const personal = new Map([\n",
    "  [1, { name: \"Emin\", lastName: \"Altan\", salary: 5000 }],\n",
    "  [2, { name: \"Murat\", lastName: \"Taş\", salary: 6000 }],\n",
    "  [3, { name: \"Sinan\", lastName: \"Can\", salary: 7000 }],\n",
    "  [4, { name: \"Barçın\", lastName: \"Aktaş\", salary: 8000 }]\n",
    "]);\n",
    "\n",
    "personal.forEach((value,key)=> {\n",
    "  console.log(`Personelin ID'si: ${key} | Personelin Adı: ${value.name} | Personelin Yeni Maaşı: ${value.salary+1000}$`);\n",
    "})\n",
    "\n"
   ]
  },
  {
   "cell_type": "markdown",
   "metadata": {},
   "source": [
    "Yukarıdaki örnekte `personal` adında bir Map oluşturduk. Map içerisindeki elementlerin value kısmını nesne türünden oluşturduk. `forEach()` metodu ile her personelin `salary` key'ine ulaşıyor ve key'e denk gelen değeri 1000 artırıp yeni maaşı personel ile birlikte konsola yazdırıyoruz.\n"
   ]
  },
  {
   "cell_type": "markdown",
   "metadata": {},
   "source": [
    "### <a id='toc1_2_6_'></a>[`entries()` Metodu](#toc0_)\n",
    "\n",
    "Map içerisindeki elementler için bir iterable değişken oluşturur. Genelde `for...of` gibi döngülerde elementler arasında gezinmemizi sağlar.\n",
    "\n",
    "**Örnek**\n"
   ]
  },
  {
   "cell_type": "code",
   "execution_count": 15,
   "metadata": {
    "vscode": {
     "languageId": "javascript"
    }
   },
   "outputs": [
    {
     "name": "stdout",
     "output_type": "stream",
     "text": [
      "Personel ID'si: 1\n",
      "Personel Adı: Emin\n",
      "Personel ID'si: 2\n",
      "Personel Adı: Murat\n",
      "Personel ID'si: 3\n",
      "Personel Adı: Hasan\n",
      "Personel ID'si: 4\n",
      "Personel Adı: Barçın\n"
     ]
    }
   ],
   "source": [
    "%%script node\n",
    "\n",
    "const personal = new Map([\n",
    "    [1, \"Emin\"],\n",
    "    [2, \"Murat\"],\n",
    "    [3, \"Hasan\"],\n",
    "    [4, \"Barçın\"]\n",
    "]);\n",
    "\n",
    "for (const iterator of personal.entries()) {\n",
    "    console.log(`Personel ID'si: ${iterator[0]}`);\n",
    "    console.log(`Personel Adı: ${iterator[1]}`);\n",
    "}\n"
   ]
  },
  {
   "cell_type": "markdown",
   "metadata": {},
   "source": [
    "Yukarıdaki örnekte `entries()` metodunu kullanarak `personal` değişkeni içerisindeki elementleri `iterator` değişkenine kopyaladık.\n",
    "\n",
    "1. `iterator[0]` ifadesi ile iterator değişkeni içerisinde tutulan key-value eşleşmesinde key kısmına ulaştık ve o anki depolanan değeri konsola yazdırdık.\n",
    "\n",
    "2. `iterator[1]` ifadesi ile iterator değişkeni içerisinde tutulan key-value eşleşmesinde value kısmına ulaştık ve o anki depolanan değeri konsola yazdırdık.\n"
   ]
  },
  {
   "cell_type": "markdown",
   "metadata": {},
   "source": [
    "## <a id='toc1_3_'></a>[Özet](#toc0_)\n",
    "\n",
    "JavaScript'te Map kavramı, key-value eşleşmelerini depolamamıza olanak tanıyan güçlü bir veri yapısıdır. Bu özellik, nesnelerden farklı avantajlar sunarak programcılara daha esnek bir veri depolama ve işleme yöntemi sunar.\n",
    "\n",
    "Map'ler, elementlerin sıralanması, iterable olmaları ve değer eşitliğine dayanmaları gibi özellikleriyle nesnelerden ayrılır. Bu özellikler, belirli durumlarda daha etkili ve güvenilir bir veri yönetimi sağlar.\n",
    "\n",
    "Map metotları, element ekleme, silme, kontrol etme ve her bir element için belirli bir işlemi otomatik olarak uygulama gibi işlevselliği içerir. Bu metotlar, kodun daha temiz, okunabilir ve performanslı olmasına katkıda bulunur.\n",
    "\n",
    "JavaScript'te Map kullanımı, özellikle birden çok değeri depolamamız ve bu değerlere daha rahat erişim sağlamamız gereken durumlarda oldukça yararlıdır. Öğrenci listeleri, personel bilgileri veya benzeri veri yapıları için Map'leri kullanarak kodumuzu daha düzenli ve etkili hale getirebiliriz.\n",
    "\n",
    "Sonuç olarak, Map kavramı, JavaScript programlamada güçlü ve esnek bir veri yapısı sağlayarak, daha karmaşık uygulamalarda veri yönetimini kolaylaştırır ve geliştiricilere avantajlar sunar.\n"
   ]
  }
 ],
 "metadata": {
  "kernelspec": {
   "display_name": "Python 3",
   "language": "python",
   "name": "python3"
  },
  "language_info": {
   "codemirror_mode": {
    "name": "ipython",
    "version": 3
   },
   "file_extension": ".py",
   "mimetype": "text/x-python",
   "name": "python",
   "nbconvert_exporter": "python",
   "pygments_lexer": "ipython3",
   "version": "3.10.12"
  }
 },
 "nbformat": 4,
 "nbformat_minor": 2
}
