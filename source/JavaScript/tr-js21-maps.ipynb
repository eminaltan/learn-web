{
 "cells": [
  {
   "cell_type": "markdown",
   "metadata": {},
   "source": [
    "#\n",
    "\n",
    "Merhaba arkadaşlar serinin bu bölümünde JavaScript'te **_Map_** kavramını inceleyeceğiz.\n",
    "\n",
    "Yazıda:\n",
    "\n",
    "Değineceğim.\n",
    "\n",
    "İyi okumalar dilerim.\n",
    "\n",
    "If you want to read English version of article please [visit](js21-map.ipynb) this link.\n",
    "\n",
    "<!-- vscode-jupyter-toc-config\n",
    "\tnumbering=false\n",
    "\tanchor=true\n",
    "\tflat=false\n",
    "\tminLevel=1\n",
    "\tmaxLevel=6\n",
    "\t/vscode-jupyter-toc-config -->\n",
    "<!-- THIS CELL WILL BE REPLACED ON TOC UPDATE. DO NOT WRITE YOUR TEXT IN THIS CELL -->\n"
   ]
  },
  {
   "cell_type": "markdown",
   "metadata": {},
   "source": [
    "## JavaScript'te Map Kavramı\n",
    "\n",
    "JavaScript **_Map_** kavramını nesne veri türüne benzetebiliriz. Map özellikli bir değişkenin elementleri nesnelerde olduğu gibi **_key-value_** eşleşmesinden oluşur.\n",
    "\n",
    "Bir Map oluşturmak için `new Map()` constructor metodu kullanılır.\n",
    "\n",
    "**Örnek**\n"
   ]
  },
  {
   "cell_type": "code",
   "execution_count": 89,
   "metadata": {
    "vscode": {
     "languageId": "javascript"
    }
   },
   "outputs": [
    {
     "name": "stdout",
     "output_type": "stream",
     "text": [
      "maps değişkeninin içeriği: 625,Murat,276,Emin,198,Hasan\n",
      "276 numaralı öğrencinin ismi: Emin\n"
     ]
    }
   ],
   "source": [
    "%%script node\n",
    "\n",
    "const maps = new Map([[625, \"Murat\"], [276, \"Emin\"], [198, \"Hasan\"]]);\n",
    "\n",
    "console.log(`maps değişkeninin içeriği: ${[...maps]}`);\n",
    "\n",
    "console.log(`276 numaralı öğrencinin ismi: ${maps.get(276)}`);\n"
   ]
  },
  {
   "cell_type": "markdown",
   "metadata": {},
   "source": [
    "Yukarıdaki örnekte `new Map()` constructor metodu ile `maps` adında Map özellikli bir değişken oluşturup depolamak istediğimiz değerleri array şeklinde `maps` değişkeni içerisine yerleştirdik `get()` metodunu kullanarak numarasını bildiğimiz bir öğrencinin adını konsola yazdırdık."
   ]
  },
  {
   "cell_type": "markdown",
   "metadata": {},
   "source": [
    "Nesnelerden farklı olarak:\n",
    "\n",
    "- Nesne elementleri doğrudan iterable edilemezken, bir Map'ın elementleri doğrudan iterable edilebilir.\n",
    "\n",
    "- Nesnede `size` property'si bulunmazken, Map içerisinde `size` property'si bulunmaktadır.\n",
    "\n",
    "- Bir nesnede property'nin key bölümü string veya symbol veri tipinden oluşurken, Map elementlerindeki key bölümü için böyle bir sınırlama yoktur. key kısmı herhangi bir veri tipinden oluşabilir.\n",
    "\n",
    "- Nesne property'leri arasındaki sıralama farklılık gösterebilir. Map objelerinde elementler eklenme sırasına göre sıralanır ve bu sıra korunur.\n",
    "\n",
    "- Nesneler referans eşitliğine dayanır, Map'ler değer eşitliğine dayanır.\n",
    "\n",
    "Her bir farka tek tek göz atalım.\n"
   ]
  },
  {
   "cell_type": "markdown",
   "metadata": {},
   "source": [
    "### Map Elementleri Doğrudan Iterable Edilebilir\n",
    "\n",
    "Nesnelerden farklı olarak `for...of` döngüsü veya `forEach` gibi iterable fonksiyonlar kullanarak Map objesindeki elementlere erişebiliriz.\n",
    "\n",
    "**Örnek**\n"
   ]
  },
  {
   "cell_type": "code",
   "execution_count": 90,
   "metadata": {
    "vscode": {
     "languageId": "javascript"
    }
   },
   "outputs": [
    {
     "name": "stderr",
     "output_type": "stream",
     "text": [
      "Hata mesajı: student is not iterable\n"
     ]
    }
   ],
   "source": [
    "%%script node\n",
    "\n",
    "const student = {\n",
    "  studentName: \"Sibel\",\n",
    "  studentLastName: \"Özel\",\n",
    "  studentNumber: 219\n",
    "};\n",
    "\n",
    "// for...of döngüsü nesne üzerinde çalışmaz, hata verir.\n",
    "try {\n",
    "  for (const [key, value] of student) {\n",
    "    console.log(`${key}: ${value}`);\n",
    "  }\n",
    "} catch (error) {\n",
    "  console.error(`Hata mesajı: ${error.message}`); \n",
    "}"
   ]
  },
  {
   "cell_type": "markdown",
   "metadata": {},
   "source": [
    "Yukarıdaki örnekte `student` nesnesi için `for...of` döngüsünü doğrudan kullandığımızda hata mesajı alırız. Çünkü nesne elementleri doğrudan iterable özelliğe sahip değildirler.\n",
    "\n",
    "Aynı örneği Map özellikli bir değişken oluşturup durumu gözlemleyelim.\n",
    "\n",
    "**Örnek**\n"
   ]
  },
  {
   "cell_type": "code",
   "execution_count": 91,
   "metadata": {
    "vscode": {
     "languageId": "javascript"
    }
   },
   "outputs": [
    {
     "name": "stdout",
     "output_type": "stream",
     "text": [
      "student değişkeni içerisinde key-value eşleşmesi: studentName:Sibel\n",
      "student değişkeni içerisinde key-value eşleşmesi: studentLastName:Özel\n",
      "student değişkeni içerisinde key-value eşleşmesi: studentNumber:219\n"
     ]
    }
   ],
   "source": [
    "%%script node\n",
    "\n",
    "const student = new Map([[\"studentName\", \"Sibel\"], [\"studentLastName\", \"Özel\"], [\"studentNumber\", 219]]);\n",
    "\n",
    "// for...of döngüsü kullanarak Map elementlerine erişim\n",
    "for (const [key, value] of student) {\n",
    "    console.log(`student değişkeni içerisinde key-value eşleşmesi: ${key}:${value}`);\n",
    "}"
   ]
  },
  {
   "cell_type": "markdown",
   "metadata": {},
   "source": [
    "Görüleceği üzere `student` içerisindeki anahtar ve değerlere doğrudan erişim sağlayarak `for...of` döngüsünü kullandık.\n"
   ]
  },
  {
   "cell_type": "markdown",
   "metadata": {},
   "source": [
    "### `size` Property'ye Sahiptir.\n",
    "\n",
    "Nesnelerden farklı olarak Map özellikli bir değişkenini boyutunu öğrenmek için `size` property'sinden faydalanırız.\n",
    "\n",
    "**Örnek**\n"
   ]
  },
  {
   "cell_type": "code",
   "execution_count": 92,
   "metadata": {
    "vscode": {
     "languageId": "javascript"
    }
   },
   "outputs": [
    {
     "name": "stdout",
     "output_type": "stream",
     "text": [
      "student değişkeninin boyutu: 3\n",
      "student2 değişkeninin boyutu: 3\n"
     ]
    }
   ],
   "source": [
    "%%script node\n",
    "\n",
    "const student = new Map([[\"studentName\", \"Sibel\"], [\"studentLastName\", \"Özel\"], [\"studentNumber\", 219]]);\n",
    "\n",
    "const student2 = {\n",
    "    studentName: \"Batuhan\",\n",
    "    studentLastName: \"Akar\",\n",
    "    studentNumber: 50\n",
    "};\n",
    "\n",
    "const student2Size = Object.values(student2).length;\n",
    "\n",
    "console.log(`student değişkeninin boyutu: ${student.size}`);\n",
    "console.log(`student2 değişkeninin boyutu: ${student2Size}`);"
   ]
  },
  {
   "cell_type": "markdown",
   "metadata": {},
   "source": [
    "Yukarıda `size` property'sini kullanarak `student` değişkeninin boyutunu öğreniyoruz.\n",
    "\n",
    "`student2` nesne özellikli değişkeninin boyutunu öğrenebilmek için:\n",
    "\n",
    "1. örnekte görüleceği gibi `Object` nesnesi içerisindeki `entries()` metodu ile `student2` içerisindeki `key-value` eşleşmesinden oluşan array türünde bir içerik oluşturuyoruz.\n",
    "\n",
    "2. Oluşturduğumuz içeriğin boyutunu `length` property'si ile öğreniyoruz.\n",
    "\n",
    "3. Boyutun sonucunu `student2Size` adında bir değişkene aktarıyoruz.\n"
   ]
  },
  {
   "cell_type": "markdown",
   "metadata": {},
   "source": [
    "### Key'ler Herhangi Bir Veri Tipinden Oluşabilir.\n",
    "\n",
    "Hatırlarsak bir nesnenin key kısmı string veya symbol veri tipinden oluşuyordu. Map özellikli bir değişkenin key kısmı için böyle bir sınırlama yoktur key kısmı herhangi bir veri tipinden oluşabilir.\n",
    "\n",
    "Düşünelim ki bir veri tabanından ID kısmını referans alarak personel isimlerinden oluşan bir liste oluşturmak istiyoruz. Böyle bir durumda Map özellikli bir değişken kullanılabilir.\n",
    "\n",
    "**Örnek**\n"
   ]
  },
  {
   "cell_type": "code",
   "execution_count": 93,
   "metadata": {
    "vscode": {
     "languageId": "javascript"
    }
   },
   "outputs": [
    {
     "name": "stdout",
     "output_type": "stream",
     "text": [
      "Personelin ID'si: 1 | Personelin Adı: Emin\n",
      "Personelin ID'si: 2 | Personelin Adı: Murat\n",
      "Personelin ID'si: 3 | Personelin Adı: Hasan\n",
      "Personelin ID'si: 4 | Personelin Adı: Barçın\n"
     ]
    }
   ],
   "source": [
    "%%script node \n",
    "\n",
    "const personal = new Map([[1, \"Emin\"], [2, \"Murat\"], [3, \"Hasan\"], [4, \"Barçın\"]]);\n",
    "\n",
    "for (const [key, value] of personal) {\n",
    "    console.log(`Personelin ID'si: ${key} | Personelin Adı: ${value}`);\n",
    "}"
   ]
  },
  {
   "cell_type": "markdown",
   "metadata": {},
   "source": [
    "Yukarıdaki örnekte görüleceği üzere `personal` değişkeninin key kısımı number veri tipinden oluşmuştur.\n",
    "\n",
    "Personellerin ID ve isim bilgilerini konsola yazdırıyoruz.\n"
   ]
  },
  {
   "cell_type": "markdown",
   "metadata": {},
   "source": [
    "### Map Objelerinde Elementler Eklenme Sırasına Göre Sıralanır\n",
    "\n",
    "JavaScript'teki nesnelerde, özellikler (properties) genellikle belirli bir sıralamaya sahip değildir. Nesne özellikleri, eklendikleri sıraya göre sıralanmazlar. JavaScript'te nesne özellikleri key-value çiftleri şeklinde bulunur ve bu çiftlerin sıralanması spesifik bir düzeni takip etmez.\n",
    "\n",
    "Ancak Map'lerde bu durum söz konusu değildir. Map içerisine eklenen bir element en sona depolanır.\n",
    "\n",
    "**💡 Sıralamanın önemli olduğu durumlarda Map veya array veri türünden faydalanabiliriz.**\n",
    "\n",
    "**Örnek**\n"
   ]
  },
  {
   "cell_type": "code",
   "execution_count": 94,
   "metadata": {
    "vscode": {
     "languageId": "javascript"
    }
   },
   "outputs": [
    {
     "name": "stdout",
     "output_type": "stream",
     "text": [
      "Personelin ID'si: 1 | Personelin Adı: Emin\n",
      "Personelin ID'si: 2 | Personelin Adı: Murat\n",
      "Personelin ID'si: 3 | Personelin Adı: Hasan\n",
      "Personelin ID'si: 4 | Personelin Adı: Barçın\n",
      "Personelin ID'si: 5 | Personelin Adı: Burak\n"
     ]
    }
   ],
   "source": [
    "%%script node    \n",
    "\n",
    "const personal = new Map([[1, \"Emin\"], [2, \"Murat\"], [3, \"Hasan\"], [4, \"Barçın\"]]);\n",
    "\n",
    "// personal değişkeni içerisine Burak adında bir çalışan ekliyoruz.\n",
    "personal.set(5,\"Burak\");\n",
    "\n",
    "for (const [key, value] of personal) {\n",
    "    console.log(`Personelin ID'si: ${key} | Personelin Adı: ${value}`);\n",
    "}"
   ]
  },
  {
   "cell_type": "markdown",
   "metadata": {},
   "source": [
    "Yukarıdaki örnekte görüldüğü gibi `set()` metodu ile `personal` değişkeni içerisine \"Burak\" adında yeni bir çalışan ekledik. Listeyi sıraladığımızda \"Burak\" listenin sonuna yerleştirildi.\n"
   ]
  },
  {
   "cell_type": "markdown",
   "metadata": {},
   "source": [
    "### Map Objeleri Değer Eşitliğine Dayanır\n",
    "\n",
    "Nesne özellikli iki farklı değişkenin içeriği birbirleriyle aynı olsa bile, aynı referansa sahip değillerse birbirinden farklı kabul edilirler.\n",
    "\n",
    "Map'lerde bu durum söz konusu değildir. İki Map aynı anahtar-değer çiftlerine sahipse, bu haritalar birbirinden eşit kabul edilir.\n",
    "\n",
    "**Örnek**\n"
   ]
  },
  {
   "cell_type": "code",
   "execution_count": 95,
   "metadata": {
    "vscode": {
     "languageId": "javascript"
    }
   },
   "outputs": [
    {
     "name": "stdout",
     "output_type": "stream",
     "text": [
      "obj1 ile obj2 birbirine eşit midir?: false\n",
      "map1 ve map2 birbirine eşit midir?: true\n"
     ]
    }
   ],
   "source": [
    "%%script node  \n",
    "\n",
    "const obj1 = { firstName: \"Emin\" };\n",
    "const obj2 = { firstName: \"Hasan\" };\n",
    "\n",
    "const map1 = new Map([[\"Emin\", \"Altan\"], [\"Hasan\", \"Taş\"]]);\n",
    "const map2 = new Map([[\"Emin\", \"Altan\"], [\"Hasan\", \"Taş\"]]);\n",
    "\n",
    "console.log(`obj1 ile obj2 birbirine eşit midir?: ${obj1.firstName === obj2.firstName}`);\n",
    "console.log(`map1 ve map2 birbirine eşit midir?: ${[...map1.keys()][0] === [...map2.keys()][0]}`);"
   ]
  },
  {
   "cell_type": "markdown",
   "metadata": {},
   "source": [
    "Yukarıdaki örnekte `obj1` ve `obj2` key-value eşleşmesi aynı olsa bile farklı bir değişken olarak kabul edilir. Çünkü nesne veri tipleri referans özelliklidir. **Referans belirtilmediği sürece her iki değişken için bellekte ayrı iki adres kullanılır. Dolayısıyla `obj1` ve `obj2` değişkenlerinin kıyaslanması veri türüne ve depoladığı veriye değil bellekteki tutulduğu adrese göre yapılır. Şayet bu değişkenler aynı bellek adresini paylaşıyor olsaydı yani referans özellikli bir değişken kullanılarak kıyaslama yapılsaydı sonuç `true` olarak dönerdi.**\n",
    "\n",
    "Buna rağmen Map özellikli değişkenlerin kıyaslanmasında değişkenlerin key-value eşleşmesi ve bu eşleşmeye ait değerlerin aynı olması sonucun `true` olarak dönmesi için yeterlidir.\n"
   ]
  },
  {
   "cell_type": "markdown",
   "metadata": {},
   "source": [
    "## Map Veri Türünde Sık Kullanılan Metotlar\n",
    "\n",
    "Buraya kadar Map kavramını ve özelliklerini gördük şimdide biraz Map metotlarına değinelim.\n"
   ]
  }
 ],
 "metadata": {
  "kernelspec": {
   "display_name": "Python 3",
   "language": "python",
   "name": "python3"
  },
  "language_info": {
   "codemirror_mode": {
    "name": "ipython",
    "version": 3
   },
   "file_extension": ".py",
   "mimetype": "text/x-python",
   "name": "python",
   "nbconvert_exporter": "python",
   "pygments_lexer": "ipython3",
   "version": "3.10.12"
  }
 },
 "nbformat": 4,
 "nbformat_minor": 2
}
