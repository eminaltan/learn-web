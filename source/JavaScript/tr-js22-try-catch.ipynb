{
 "cells": [
  {
   "cell_type": "markdown",
   "metadata": {},
   "source": [
    "# Javascript Error Handling<a id='toc0_'></a>\n",
    "\n",
    "Merhaba arkadaşlar serinin bu bölümünde JavaScript'te **_Error Handling_** kavramına; `try`, `catch`, `throw` ve `finally` keyword'lerini inceleyeceğiz.\n",
    "\n",
    "Yazıda:\n",
    "\n",
    "- [JavaScript Error Handling Kavramı](#toc1_1_)\n",
    "- [`try` ve `catch` Keywords](#toc1_2_)\n",
    "  - [JavaScript `Error` Nesnesi ve Property'leri](#toc1_2_1_)\n",
    "    - [`RangeError`](#toc1_2_1_1_)\n",
    "    - [`ReferenceError`](#toc1_2_1_2_)\n",
    "    - [`SyntaxError`](#toc1_2_1_3_)\n",
    "    - [`TypeError`](#toc1_2_1_4_)\n",
    "    - [`URIError`](#toc1_2_1_5_)\n",
    "- [`throw` Keyword](#toc1_3_)\n",
    "- [finally Keyword](#toc1_4_)\n",
    "- [Özet](#toc1_5_)\n",
    "\n",
    "Değineceğim.\n",
    "\n",
    "İyi okumalar dilerim.\n",
    "\n",
    "If you want to read English version of article please [visit](js22-try-catch.ipynb) this link.\n",
    "\n",
    "<!-- vscode-jupyter-toc-config\n",
    "\tnumbering=false\n",
    "\tanchor=true\n",
    "\tflat=false\n",
    "\tminLevel=1\n",
    "\tmaxLevel=6\n",
    "\t/vscode-jupyter-toc-config -->\n",
    "<!-- THIS CELL WILL BE REPLACED ON TOC UPDATE. DO NOT WRITE YOUR TEXT IN THIS CELL -->\n"
   ]
  },
  {
   "cell_type": "markdown",
   "metadata": {},
   "source": [
    "## <a id='toc1_1_'></a>[JavaScript Error Handling Kavramı](#toc0_)\n",
    "\n",
    "JavaScript'de \"error handling\" (hata işleme) terimi, bir programın çalışma sırasında oluşan hataları tanımlama, ele alma ve yönetme sürecini ifade eder. Hatalar, bir uygulamanın beklenmeyen durumlarla karşılaştığı zaman ortaya çıkar. Bu hatalar, kullanıcı giriş hataları, ağ bağlantı sorunları, dosya bulunamama gibi durumları içerebilir.\n",
    "\n",
    "Error handling sayesinde kullanıcıya anlamlı hata mesajları gösterilir ve hataları daha iyi anlamaları sağlanabilir.\n",
    "\n",
    "JavaScript'te error handling genellikle `try`, `catch`, `finally`, ve `throw` anahtar kelimelerini içeren bir yapı ile gerçekleştirilir.\n",
    "\n",
    "Şimdide bu keyword'lere değinelim.\n"
   ]
  },
  {
   "cell_type": "markdown",
   "metadata": {},
   "source": [
    "## <a id='toc1_2_'></a>[`try` ve `catch` Keywords](#toc0_)\n",
    "\n",
    "`try` ve `catch` keyword'leri birlikte kullanılır arkadaşlar. `try` bloğuna çalışmasını veya\n",
    "kontrol edilmesini istediğimiz kodları yazarız. Program herhangi bir sorunla karşılaşmadığı sürece `try` bloğu içerisindeki kodlar çalışacaktır.\n",
    "\n",
    "`catch` bloğuna ise bir hata oluşması durumunda çalıştırılacak kodlar yazılır. Genelde bloğun içeriği hata mesajı hakkında kullanıcıya bilgi verir.\n",
    "\n",
    "**Örnek**\n"
   ]
  },
  {
   "cell_type": "code",
   "execution_count": 1,
   "metadata": {
    "vscode": {
     "languageId": "javascript"
    }
   },
   "outputs": [
    {
     "name": "stdout",
     "output_type": "stream",
     "text": [
      "Sonuç:1\n"
     ]
    }
   ],
   "source": [
    "%%script node\n",
    "\n",
    "try {\n",
    "    let num = 0;\n",
    "    num = num + 1;\n",
    "    console.log(`Sonuç:${num}`);\n",
    "}\n",
    "\n",
    "catch (error) {\n",
    "    console.log(error);\n",
    "}\n"
   ]
  },
  {
   "cell_type": "markdown",
   "metadata": {},
   "source": [
    "Yukarıda bir `try-catch` bloğu örneği görüyoruz. Hata olmadığı sürece `try` bloğu içerisindeki kodlar çalıştırılır.\n",
    "\n",
    "`try` bloğu içerisindeki kodlarımızda bir hata oluşması durumunda `try` bloğunun çalışması duracaktır ve `catch` bloğu içerisindeki kodlar çalıştırılmaya başlanacaktır. İşlemin sonunda kullanıcıya bir hata mesajı döndürülecektir.\n",
    "\n",
    "**Örnek**\n",
    "\n",
    "```javascript\n",
    "try {\n",
    "  let num = 0;\n",
    "\n",
    "  // x değişkenini tanımlamadığımız için \"ReferenceError: x is not defined\" hata mesajını alırız.\n",
    "  num = num + x;\n",
    "  console.log(`Sonuç:${num}`);\n",
    "} catch (error) {\n",
    "  console.log(error);\n",
    "}\n",
    "```\n",
    "\n",
    "Yukarıda görüleceği üzere `x` değişkenini program içerisinde **tanımlamadık** fakat buna rağmen `num =  num + x` expression içerisinde `x` değişkenini kullandık. Bu durumda JavaScript `try` bloğu içerisindeki kodların çalışmasını sonlandıracak , `catch` bloğu içerisindeki kodları çalıştırılacak ve \"ReferenceError: x is not defined\" mesajını konsola yazdıracaktır.\n"
   ]
  },
  {
   "cell_type": "markdown",
   "metadata": {},
   "source": [
    "### <a id='toc1_2_1_'></a>[JavaScript `Error` Nesnesi ve Property'leri](#toc0_)\n",
    "\n",
    "JavaScript'te ön tanımlı hata mesajları `Error` nesnesi içerinde tanımlanmıştır. Bir önceki örnekte hata mesajını oluşturmak için JavaScript içerisindeki ön tanımlı hata mesajlarından `ReferenceError` kullanıldı. `ReferenceError` değeri ile birlikte JavaScript içerisinde 6 tane daha değer bulunur.\n",
    "\n",
    "Bunları listelersek:\n",
    "\n",
    "| **Error Name**   | **Description**                                               |\n",
    "| ---------------- | ------------------------------------------------------------- |\n",
    "| `EvalError`      | Fonksiyonundan kaynaklanan bir hata olduğunu ifade eder.      |\n",
    "| `RangeError`     | Sayısal bir değerin limit dışında kaldığını belirtir.         |\n",
    "| `ReferenceError` | Bir değer için referansın geçerli olmadığı anlamına gelir.    |\n",
    "| `SyntaxError`    | Syntax hatası oluştuğu anlamına gelir.                        |\n",
    "| `TypeError`      | Bir değerin beklenen türde olmadığı durumu temsil eder        |\n",
    "| `URIError`       | URL adresinin geçerli olmadığını ifade etmek için kullanılır. |\n",
    "\n",
    "Şimdi de bu değerlere değinelim.\n",
    "\n",
    "**❗ `EvalError` deprecated olmuştur. Modern JavaScript dilinde pek kullanılmaz. Bu nedenden ötürü `EvalError` değerini es geçiyorum.**\n"
   ]
  },
  {
   "cell_type": "markdown",
   "metadata": {},
   "source": [
    "#### <a id='toc1_2_1_1_'></a>[`RangeError`](#toc0_)\n",
    "\n",
    "`RangeError` sayısal bir değerin belirli bir aralık dışında olduğunu ifade eder.\n",
    "\n",
    "**Örnek**\n"
   ]
  },
  {
   "cell_type": "code",
   "execution_count": 2,
   "metadata": {
    "vscode": {
     "languageId": "javascript"
    }
   },
   "outputs": [
    {
     "name": "stdout",
     "output_type": "stream",
     "text": [
      "RangeError\n"
     ]
    }
   ],
   "source": [
    "%%script node\n",
    "\n",
    "let num = 1;\n",
    "\n",
    "try {\n",
    "  /**\n",
    "   * num değişkeni 500 hane hassasiyetinde biçimlendirilmeye çalışılıyor, fakat bu mümkün olmadığı için catch\n",
    "   * bloğu çalışacaktır. error.name property'si ile hata mesajının türünü konsola yazdırıyoruz.\n",
    "   */\n",
    "  num.toPrecision(500);\n",
    "} \n",
    "\n",
    "catch (error) {\n",
    "  console.log(error.name);\n",
    "}"
   ]
  },
  {
   "cell_type": "markdown",
   "metadata": {},
   "source": [
    "#### <a id='toc1_2_1_2_'></a>[`ReferenceError`](#toc0_)\n",
    "\n",
    "`ReferenceError` bir değişken referansının geçerli olmadığı durumları ifade eder.\n",
    "\n",
    "**Örnek**\n"
   ]
  },
  {
   "cell_type": "code",
   "execution_count": 3,
   "metadata": {
    "vscode": {
     "languageId": "javascript"
    }
   },
   "outputs": [
    {
     "name": "stdout",
     "output_type": "stream",
     "text": [
      "ReferenceError\n"
     ]
    }
   ],
   "source": [
    "%%script node\n",
    "\n",
    "try {\n",
    "  let num = 0;\n",
    "  // x değişkenini tanımlamadığımız için ReferenceError mesajını alırız.\n",
    "  num = num + x;\n",
    "  console.log(`Sonuç:${num}`);\n",
    "} \n",
    "\n",
    "catch (error) {\n",
    "  console.log(error.name);\n",
    "}\n"
   ]
  },
  {
   "cell_type": "markdown",
   "metadata": {},
   "source": [
    "#### <a id='toc1_2_1_3_'></a>[`SyntaxError`](#toc0_)\n",
    "\n",
    "Bir ifadenin söz dizimi eksik veya yanlış olduğu durumlarda `SyntaxError` hata mesajı ile karşılaşırız.\n",
    "\n",
    "**Örnek**\n"
   ]
  },
  {
   "cell_type": "code",
   "execution_count": 4,
   "metadata": {
    "vscode": {
     "languageId": "javascript"
    }
   },
   "outputs": [
    {
     "name": "stdout",
     "output_type": "stream",
     "text": [
      "SyntaxError\n"
     ]
    }
   ],
   "source": [
    "%%script node\n",
    "\n",
    "try {\n",
    "  // eval metodu içerisinde argümanın hatalı olması sebebi ile \"SyntaxError\" hata mesajı ile karşılaşırız.\n",
    "  let invalidCode = eval(\"2 +\");\n",
    "} \n",
    "\n",
    "catch (error) {\n",
    "  console.log(error.name);\n",
    "}"
   ]
  },
  {
   "cell_type": "markdown",
   "metadata": {},
   "source": [
    "#### <a id='toc1_2_1_4_'></a>[`TypeError`](#toc0_)\n",
    "\n",
    "Bir değişken için kullandığımız expression'un uygun olmaması durumunda `TypeError` hata mesajı ile karşılaşırız.\n",
    "\n",
    "**Örnek**\n"
   ]
  },
  {
   "cell_type": "code",
   "execution_count": 5,
   "metadata": {
    "vscode": {
     "languageId": "javascript"
    }
   },
   "outputs": [
    {
     "name": "stdout",
     "output_type": "stream",
     "text": [
      "TypeError\n"
     ]
    }
   ],
   "source": [
    "%%script node\n",
    "\n",
    "let num = 1;\n",
    "\n",
    "try {\n",
    "  // num değişkeni için toUpperCase() metodu kullanılamayacağı için TypeError hata mesajı alırız.\n",
    "  num.toUpperCase();\n",
    "} \n",
    "\n",
    "catch (error) {\n",
    "  console.log(error.name);\n",
    "}"
   ]
  },
  {
   "cell_type": "markdown",
   "metadata": {},
   "source": [
    "#### <a id='toc1_2_1_5_'></a>[`URIError`](#toc0_)\n",
    "\n",
    "Bir URL adresi içerisinde ilegal karakterler bulunması durumunda `URIError` hata mesajı ile karşılaşırız.\n"
   ]
  },
  {
   "cell_type": "code",
   "execution_count": 6,
   "metadata": {
    "vscode": {
     "languageId": "javascript"
    }
   },
   "outputs": [
    {
     "name": "stdout",
     "output_type": "stream",
     "text": [
      "URIError\n"
     ]
    }
   ],
   "source": [
    "%%script node\n",
    "\n",
    "try {\n",
    "    // %%% karakterleri URL geçersiz olduğu için \"URIError\" hata mesajı ile karşılaşırız.\n",
    "    decodeURI(\"%%%\");   \n",
    "}\n",
    "\n",
    "catch(error) {\n",
    "    console.log(error.name);\n",
    "}\n"
   ]
  },
  {
   "cell_type": "markdown",
   "metadata": {},
   "source": [
    "Yukarıda belirtilen `Error` nesnesine ait property'lerin dışında Mozilla ve Microsoft'un belirlediği bir takım property'ler vardır.\n",
    "\n",
    "**Bunlar:**\n",
    "\n",
    "- fileName (Mozilla)\n",
    "\n",
    "- lineNumber (Mozilla)\n",
    "\n",
    "- columnNumber (Mozilla)\n",
    "\n",
    "- stack (Mozilla)\n",
    "\n",
    "- description (Microsoft)\n",
    "\n",
    "- number (Microsoft)\n",
    "\n",
    "**❗Yukarıdaki property'lerin kullanılması önerilmez. Çünkü bu property'lerın cross-browser desteği bulunmaz bu sebeple her tarayıcıda çalışmaz.**\n"
   ]
  },
  {
   "cell_type": "markdown",
   "metadata": {},
   "source": [
    "## <a id='toc1_3_'></a>[`throw` Keyword](#toc0_)\n",
    "\n",
    "Şimdiye kadar JavaScript içerisinde ön tanımlı `Error` nesnesine ait property'leri inceledik. Hata mesajlarını daha anlamlı hale getirmek için bazen geliştirici temelli hata mesajları oluşturmak isteyebiliriz bu durumda `throw` keyword'unu kullanırız.\n",
    "\n",
    "**Örnek**\n"
   ]
  },
  {
   "cell_type": "code",
   "execution_count": 7,
   "metadata": {
    "vscode": {
     "languageId": "javascript"
    }
   },
   "outputs": [
    {
     "name": "stdout",
     "output_type": "stream",
     "text": [
      "x değeri tanımlı değil.\n"
     ]
    }
   ],
   "source": [
    "%%script node\n",
    "\n",
    "let x;\n",
    "\n",
    "try {\n",
    "    // throw keyword'u ile geliştirici tanımlı bir hata mesajı oluşturduk.\n",
    "   if(x===undefined) throw \"x değeri tanımlı değil.\"\n",
    "}\n",
    "catch (error) {\n",
    "    console.log(error);\n",
    "}\n"
   ]
  },
  {
   "cell_type": "markdown",
   "metadata": {},
   "source": [
    "Yukarıdaki örnekte `let x` statement'ı ile `undefined` veri tipine sahip `x` değişkeni tanımladık. `try` bloğunda `if` statement'ı yardımıyla `x` değişkenini veri tipini kontrol ettik ve `x` değişkenini veri tipi `undefined` olması durumunda `throw` keyword'unu kullanarak geliştirici tanımlı bir hata mesajı oluşturduk. Oluşturulan hata mesajını `catch` bloğundaki `error` parametresine geçirdik ve sonucu konsola yazdırdık.\n",
    "\n",
    "Teknik anlamda bu işleme **_throw error_** veya **_throw exception_** adı verilir.\n"
   ]
  },
  {
   "cell_type": "markdown",
   "metadata": {},
   "source": [
    "## <a id='toc1_4_'></a>[finally Keyword](#toc0_)\n",
    "\n",
    "`finally` keyword'u ile `try-catch` bloğundan bağımsız olarak programımızın ek bir sonuç döndürmesini sağlayabiliriz. Genellikle, kaynakların serbest bırakılması veya temizlenmesi gibi işlemler bu blokta gerçekleştirilir.\n",
    "\n",
    "Örneğin `try-catch` bloğu yardımıyla bir formun yanlış doldurulduğu durumda kullanıcıya hata mesajı verilmesini sağlayabilir ve `finally` keyword'u ile ilgili form elementinin içeriği tekrar kullanıma hazır hale getirmek için temizleyebiliriz.\n",
    "\n",
    "**Örnek**\n",
    "\n",
    "```html\n",
    "<!DOCTYPE html>\n",
    "<html lang=\"en\">\n",
    "  <head>\n",
    "    <meta charset=\"UTF-8\" />\n",
    "    <meta\n",
    "      name=\"viewport\"\n",
    "      content=\"width=device-width, initial-scale=1.0\"\n",
    "    />\n",
    "    <link\n",
    "      rel=\"stylesheet\"\n",
    "      href=\"test.css\"\n",
    "    />\n",
    "    <title>try-catch-finally keywords of JavaScript Kitchen</title>\n",
    "\n",
    "    <style>\n",
    "      body {\n",
    "        font-family: Arial, sans-serif;\n",
    "      }\n",
    "\n",
    "      form {\n",
    "        width: 300px;\n",
    "        margin: 20px;\n",
    "      }\n",
    "\n",
    "      label {\n",
    "        display: block;\n",
    "        margin-bottom: 5px;\n",
    "      }\n",
    "\n",
    "      input {\n",
    "        width: 100%;\n",
    "        padding: 5px;\n",
    "        margin-bottom: 10px;\n",
    "      }\n",
    "\n",
    "      button {\n",
    "        padding: 8px;\n",
    "        background-color: #4caf50;\n",
    "        color: #fff;\n",
    "        border: none;\n",
    "        cursor: pointer;\n",
    "      }\n",
    "    </style>\n",
    "  </head>\n",
    "  <body>\n",
    "    <label for=\"inputField\">Enter Your Text:</label>\n",
    "    <input\n",
    "      type=\"text\"\n",
    "      id=\"js-inputField\"\n",
    "      name=\"js-inputField\"\n",
    "      required\n",
    "    />\n",
    "\n",
    "    <button id=\"js-button\">Send</button>\n",
    "\n",
    "    <p id=\"js-message\"></p>\n",
    "    <script>\n",
    "      const jsInputField = document.getElementById(\"js-inputField\");\n",
    "      const jsButton = document.getElementById(\"js-button\");\n",
    "      const jsMessage = document.getElementById(\"js-message\");\n",
    "\n",
    "      jsButton.addEventListener(\"click\", () => {\n",
    "        try {\n",
    "          if (jsInputField.value.includes(\"pen\")) {\n",
    "            jsMessage.innerHTML = \"'pen' string found in entered text.\";\n",
    "          } else {\n",
    "            throw \"Can't find a 'pen' string in a entered text.\";\n",
    "          }\n",
    "        } catch (error) {\n",
    "          jsMessage.innerHTML = error;\n",
    "        } finally {\n",
    "          // finally bloğunu silin ve formdaki text alanındaki durumu gözlemleyin.\n",
    "          jsInputField.value = \"\";\n",
    "        }\n",
    "      });\n",
    "    </script>\n",
    "  </body>\n",
    "</html>\n",
    "```\n",
    "\n",
    "Yukarıdaki kodları boş bir HTML sayfasına kopyalayın. İçeriğinde \"pen\" ifadesi geçen ve geçmeyen metinler için ayrı ayrı formu doldurun ve \"Send\" butonuna basarak form içeriğini gözlemleyin.\n",
    "\n",
    "Aynı işemi `finally` bloğunu silerek gerçekleştirin ve farkı gözlemleyin.\n",
    "\n",
    "**🖱️ Çalışan örneğe [linke](https://codepen.io/eminaltan/pen/vYPKWjQ) tıkayarak ulaşabilirsiniz.**\n"
   ]
  },
  {
   "cell_type": "markdown",
   "metadata": {},
   "source": [
    "## <a id='toc1_5_'></a>[Özet](#toc0_)\n",
    "\n",
    "JavaScript'te **error handling**, programın çalışma sırasında ortaya çıkabilecek hataları kontrol altına almak ve kullanıcıya anlamlı geri bildirimler sunmak için önemli bir konsepttir. `try`, `catch`, `finally`, ve `throw` anahtar kelimeleri bu süreçte kullanılır.\n",
    "\n",
    "- `try` bloğu içindeki kodlar, hata olup olmadığına bakılmaksızın normal bir şekilde çalışır.\n",
    "- `catch` bloğu, `try` bloğu içinde bir hata oluştuğunda çalışır ve hatayı ele alır. Kullanıcıya anlamlı bir hata mesajı göstermek için burada işlemler yapılır.\n",
    "- `finally` bloğu, `try-catch` bloğundan bağımsız olarak her durumda çalışır. Genellikle, kaynakların serbest bırakılması veya temizlenmesi gibi işlemler bu blokta gerçekleştirilir.\n",
    "\n",
    "Ayrıca, geliştiricilerin kendi özel hata mesajlarını oluşturmak için `throw` keyword'ünü kullanma yeteneği vardır. Bu, özellikle belirli koşullar altında programın akışını kontrol etmek ve hata mesajlarını özelleştirmek için kullanışlıdır.\n",
    "\n",
    "JavaScript'te yaygın olarak karşılaşılan hata türleri arasında `RangeError`, `ReferenceError`, `SyntaxError`, `TypeError`, ve `URIError` bulunur. Her biri farklı durumları temsil eder ve programcılara hatanın türüne göre özel işlemler yapma olanağı sağlar.\n",
    "\n",
    "**Sonuç olarak**, error handling, bir JavaScript uygulamasının güvenilirliğini artırmak ve kullanıcı deneyimini iyileştirmek adına önemli bir pratiktir. İyi bir error handling stratejisi, hataların etkilerini en aza indirir ve kullanıcılara anlamlı geri bildirimler sunar.\n"
   ]
  }
 ],
 "metadata": {
  "kernelspec": {
   "display_name": "Python 3",
   "language": "python",
   "name": "python3"
  },
  "language_info": {
   "codemirror_mode": {
    "name": "ipython",
    "version": 3
   },
   "file_extension": ".py",
   "mimetype": "text/x-python",
   "name": "python",
   "nbconvert_exporter": "python",
   "pygments_lexer": "ipython3",
   "version": "3.10.12"
  }
 },
 "nbformat": 4,
 "nbformat_minor": 2
}
