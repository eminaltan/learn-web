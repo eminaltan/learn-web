{
 "cells": [
  {
   "cell_type": "markdown",
   "metadata": {},
   "source": [
    "# JavaScript Scope<a id='toc0_'></a>\n",
    "\n",
    "Merhaba arkadaşlar serinin bu bölümünde JavaScript'te **_scope_** kavramını inceleyeceğiz.\n",
    "\n",
    "Yazıda:\n",
    "\n",
    "- [JavaScript Scope Kavramı](#toc1_1_)\n",
    "  - [Block Scope](#toc1_1_1_)\n",
    "  - [Function Scope](#toc1_1_2_)\n",
    "  - [Global Scope](#toc1_1_3_)\n",
    "- [Local Scope](#toc1_2_)\n",
    "- [Özet](#toc1_3_)\n",
    "\n",
    "Değineceğim.\n",
    "\n",
    "İyi okumalar dilerim.\n",
    "\n",
    "If you want to read English version of article please [visit](js23-scope-concept.ipynb) this link.\n",
    "\n",
    "<!-- vscode-jupyter-toc-config\n",
    "\tnumbering=false\n",
    "\tanchor=true\n",
    "\tflat=false\n",
    "\tminLevel=1\n",
    "\tmaxLevel=6\n",
    "\t/vscode-jupyter-toc-config -->\n",
    "<!-- THIS CELL WILL BE REPLACED ON TOC UPDATE. DO NOT WRITE YOUR TEXT IN THIS CELL -->\n"
   ]
  },
  {
   "cell_type": "markdown",
   "metadata": {},
   "source": [
    "## <a id='toc1_1_'></a>[JavaScript Scope Kavramı](#toc0_)\n",
    "\n",
    "JavaScript'te **_scope_** kavramı bir değişkenin tanımladığı ve erişilebildiği alanı ifade eder. Bu alan bir döngü, koşul veya metottan oluşabilir. \n",
    "\n",
    "Bir scope `{}` işaretleri arasında oluşturulur.\n",
    "\n",
    "**Örnek**\n",
    "\n",
    "```javascript\n",
    "const x = 5;\n",
    "\n",
    "if (x == 5) {\n",
    "  // If koşulunda scope bu alanı ifade eder.\n",
    "}\n",
    "\n",
    "for (let i = 0; i < x; i++) {\n",
    "  // for döngüsü için scope bu alanı ifade eder.\n",
    "}\n",
    "\n",
    "function myFunction() {\n",
    "  // myFunction() fonksiyonu için scope bu alanı ifade eder.\n",
    "  console.log(x);\n",
    "}\n",
    "```\n",
    "\n",
    "**JavaScript'te 3 türde scope bulunur:**\n",
    "\n",
    "- Block scope\n",
    "\n",
    "- Function scope\n",
    "\n",
    "- Global Scope\n",
    "\n",
    "Şimdi de bu scope türlerini inceleyelim.\n"
   ]
  },
  {
   "cell_type": "markdown",
   "metadata": {},
   "source": [
    "### <a id='toc1_1_1_'></a>[Block Scope](#toc0_)\n",
    "\n",
    "2015'den (ES6) önce JavaScript'te 2 tür scope kavramı bulunmaktaydı bunlar **_global scope_** ve **_function scope_** kavramları idi. ES6 ile `let` ve `const` keyword'leri JavaScript'e entegre olmuştur. **Bu keyword'ler kullanılarak oluşturulan bir değişken bulunduğu scope dışından erişilemez ve kullanılamaz.** Bu ifade **_block scope_** kavramını oluşturur.\n",
    "\n",
    "**❗Block scope'lar aynı zamanda local scope özelliklidir. Yani JavaScript, block scope içerisindeki kodları çalıştırmaya başladığında block scope içerisinde değişkenler bellekte tanımlanmaya başlanır ve JavaScript block scope içerisindeki çalışmayı sonlandırdığında block scope içerisindeki değişkenler bellekten silinir.**\n",
    "\n",
    "**Örnek**\n"
   ]
  },
  {
   "cell_type": "code",
   "execution_count": 9,
   "metadata": {
    "vscode": {
     "languageId": "javascript"
    }
   },
   "outputs": [
    {
     "name": "stdout",
     "output_type": "stream",
     "text": [
      "studentName değişkeninin değeri:Betül\n"
     ]
    }
   ],
   "source": [
    "%%script node\n",
    "\n",
    "{\n",
    "    /** \n",
    "     * {} işaretleri arası scope olarak ifade edilir. const veya let ile tanımlanan her değişken block scope \n",
    "     * özelliğine sahiptir.\n",
    "     */\n",
    "    const studentName = \"Betül\";\n",
    "\n",
    "    console.log(`studentName değişkeninin değeri:${studentName}`);\n",
    "}\n"
   ]
  },
  {
   "cell_type": "markdown",
   "metadata": {},
   "source": [
    "Yukarıdaki örnekte `studentName` block scope değişken özelliği taşır. Bu değişkene bulunduğu scope içerisinden erişilebilir ve kullanılabilir. Örnekte local scope içerisinde `studentName` değişkenin depoladığı değeri yazdırıyoruz.\n",
    "\n",
    "Şayet değişkene bulunduğu scope dışarısından ulaşmak istersek hata mesajı ile karşılaşırız.\n",
    "\n",
    "**Örnek**"
   ]
  },
  {
   "cell_type": "code",
   "execution_count": 10,
   "metadata": {
    "vscode": {
     "languageId": "javascript"
    }
   },
   "outputs": [
    {
     "name": "stdout",
     "output_type": "stream",
     "text": [
      "ReferenceError:studentName is not defined\n"
     ]
    }
   ],
   "source": [
    "%%script node\n",
    "\n",
    "{\n",
    "    const studentName = \"Betül\";\n",
    "}\n",
    "\n",
    "try{\n",
    "    /** \n",
    "     * studentName değişkenine bulunduğu scope'un dışından erişip kullanmaya çalışıyoruz. Erişemediğimiz için \n",
    "     * catch mekanizması çalışacak ve hata mesajı konsola yazdırılacaktır.\n",
    "     */\n",
    "    console.log(`studentName değişkeninin değeri:${studentName}`);\n",
    "}\n",
    "catch (error) {\n",
    "    console.log(error.name + \":\" + error.message);\n",
    "}\n",
    "\n"
   ]
  },
  {
   "cell_type": "markdown",
   "metadata": {},
   "source": [
    "Yukarıdaki örnekte `studentName` değişkenine bulunduğu scope dışarısından erişmeye ve kullanmaya çalıştık. Bu durumda JavaScript `studentName` değişkeninin tanımlanmadığını varsayacak ve \"ReferenceError:studentName is not defined\" hata mesajını geri döndürecektir.\n",
    "\n",
    "**💡 Block scope'lar aynı isimdeki değişkene farklı türde veriler depolamamıza imkan tanır.**\n",
    "\n",
    "**Örnek**"
   ]
  },
  {
   "cell_type": "code",
   "execution_count": 11,
   "metadata": {
    "vscode": {
     "languageId": "javascript"
    }
   },
   "outputs": [
    {
     "name": "stdout",
     "output_type": "stream",
     "text": [
      "x değişkeninin içeriği:Şenay\n",
      "x değişkeninin içeriği:279\n"
     ]
    }
   ],
   "source": [
    "%%script node\n",
    "\n",
    "{\n",
    "    // 1.Scope\n",
    "    const x = \"Şenay\";\n",
    "    console.log(`x değişkeninin içeriği:${x}`);\n",
    "}\n",
    "\n",
    "{\n",
    "    // 2.Scope\n",
    "    const x = \"279\";\n",
    "    console.log(`x değişkeninin içeriği:${x}`);\n",
    "}\n",
    "\n"
   ]
  },
  {
   "cell_type": "markdown",
   "metadata": {},
   "source": [
    "Yukarıda görüleceği üzere 1.Scope içerisindeki `x` değişkeni ile 2.Scope içerisindeki `x` değişkeninin içeriği farklıdır."
   ]
  },
  {
   "cell_type": "markdown",
   "metadata": {},
   "source": [
    "### <a id='toc1_1_2_'></a>[Function Scope](#toc0_)\n",
    "\n",
    "JavaScript'de bir değişkeni metot içerisinde tanımlayabiliriz. Bu durumdaki değişken sadece tanımlı olduğu metot içerisinde geçerli olur yani değişkene tanımlı olduğu metot dışarısından erişemeyiz.\n",
    "\n",
    "**❗Function scope'lar aynı zamanda local scope özelliklidir. Yani JavaScript, function scope içerisindeki kodları çalıştırmaya başladığında function scope içerisinde değişkenler bellekte tanımlanmaya başlanır ve JavaScript function scope içerisindeki çalışmayı sonlandırdığında function scope içerisindeki değişkenler bellekten silinir.**\n",
    "\n",
    "**⚠️ Normalde `var` keyword'ü kullanarak tanımlanan bir değişken global scope özelliğine sahiptir. Ancak bir metot içerisinde `var` keyword'ü kullanılarak tanımlanan değişken function scope özelliği taşır. Böyle bir değişkene tanımladığı metot dışarısından ulaşılamaz.**\n",
    "\n",
    "**Örnek**\n"
   ]
  },
  {
   "cell_type": "code",
   "execution_count": 12,
   "metadata": {
    "vscode": {
     "languageId": "javascript"
    }
   },
   "outputs": [
    {
     "name": "stdout",
     "output_type": "stream",
     "text": [
      "studentName değişkeninin değeri:Şenay\n"
     ]
    }
   ],
   "source": [
    "%%script node\n",
    "\n",
    "function myFunction() {\n",
    "    var studentName = \"Şenay\";\n",
    "    \n",
    "    console.log(`studentName değişkeninin değeri:${studentName}`);\n",
    "}\n",
    "\n",
    "myFunction();"
   ]
  },
  {
   "cell_type": "markdown",
   "metadata": {},
   "source": [
    "Yukarıdaki örnekte `studentName`, `var` keyword'ü kullanarak tanımlanmasına rağmen local scope özelliği taşır. Yani `studentName` değişkenine `myFunction()` dışarısından erişmeye çalıştığımızda hata mesajı alırız.\n",
    "\n",
    "**Örnek**\n"
   ]
  },
  {
   "cell_type": "code",
   "execution_count": 13,
   "metadata": {
    "vscode": {
     "languageId": "javascript"
    }
   },
   "outputs": [
    {
     "name": "stdout",
     "output_type": "stream",
     "text": [
      "ReferenceError:studentName is not defined\n"
     ]
    }
   ],
   "source": [
    "%%script node\n",
    "\n",
    "function myFunction() {\n",
    "    var studentName = \"Şenay\";\n",
    "}\n",
    "\n",
    "try {\n",
    "    // studentName değişkenine ulaşmaya çalışıyoruz.\n",
    "    console.log(`studentName değişkeninin değeri:${studentName}`);\n",
    "}\n",
    "\n",
    "catch (error) {\n",
    "    console.log(error.name + \":\" + error.message);\n",
    "}"
   ]
  },
  {
   "cell_type": "markdown",
   "metadata": {},
   "source": [
    "Yukarıda görüleceği üzere `studentName` değişkenine `myFunction()` dışından erişmeye çalıştığımızda \"ReferenceError:studentName is not defined\" hata mesajını aldık.\n",
    "\n",
    "Function scope ile block scope arasındaki ayrım `var` keyword'ünun kullanım şeklidir. Function scope içerisinde `var` keyword'ü ile tanımlanan bir değişkene scope dışarısından erişilemez iken block scope içerisinde `var` keyword'ü ile tanımlanan değişkene scope dışarısından erişilebilir.\n",
    "\n",
    "**Örnek**\n",
    "\n",
    "```javascript\n",
    "{\n",
    "  // Block scope\n",
    "  var carName = \"Volvo\";\n",
    "}\n",
    "\n",
    "function myFunction() {\n",
    "  // Function scope\n",
    "  var carModel = \"S70\";\n",
    "}\n",
    "\n",
    "// ✔️ carName block scope özellikli olması sebebi ile bulunduğu scope dışarısından erişilebilir.\n",
    "console.log(`Aracın markası: ${carName}`);\n",
    "\n",
    "// ❌ carModel function scope özellikli olması sebebi ile bulunduğu scope dışarısından erişilemez.\n",
    "console.log(`Aracın modeli: ${carModel}`);\n",
    "```\n",
    "\n",
    "Yukarıdaki örnekte değişkenler `var` keyword'ü kullanılarak tanımlanmıştır. `carName` değişkenine scope dışarısından erişebilirken `carModel` değişkenine scope dışarısından erişilemez.\n",
    "\n",
    "**⚠️ Bir değişken function scope içerisinde `var`, `let` veya `const` keyword'leri kullanılarak tanımlanması halinde bulunduğu scope içerisinden erişilemez hale gelir.**\n",
    "\n",
    "**Örnek**\n",
    "\n",
    "```javascript\n",
    "function myFunction() {\n",
    "  var carName = \"Volvo\"; // Function Scope\n",
    "}\n",
    "\n",
    "function myFunction() {\n",
    "  let carName = \"Volvo\"; // Function Scope\n",
    "}\n",
    "\n",
    "function myFunction() {\n",
    "  const carName = \"Volvo\"; // Function Scope\n",
    "}\n",
    "```\n",
    "\n",
    "3 metot dışarısından da `carName` değişkenine ulaşılamaz.\n",
    "\n",
    "**⚠️ Bir metodun parametreleri function scope özelliğine sahiptir.**\n",
    "\n",
    "**Örnek**\n",
    "\n",
    "```javascript\n",
    "// myFunction() içerisinde tanımlanan param1 ve param2 değişkenleri function scope özelliklidir.\n",
    "function myFunction(param1, param2) {\n",
    "  console.log(`param1'in değeri = ${param1}`);\n",
    "  console.log(`param2'nin değeri = ${param2}`);\n",
    "}\n",
    "```\n"
   ]
  },
  {
   "cell_type": "markdown",
   "metadata": {},
   "source": [
    "### <a id='toc1_1_3_'></a>[Global Scope](#toc0_)\n",
    "\n",
    "Bir değişken metodun dışında tanımlanması halinde global değişken özelliği kazanır. Değişkenin bulunduğu scope global scope olarak ifade edilir. Bu türdeki değişkene program içerisinde her yerden ulaşabiliriz. \n",
    "\n",
    "**Bir değişken function scope haricinde** `var` keyword'ü kullanılarak tanımlandığında global değişken özelliği kazanır.\n",
    "\n",
    "**Örnek**"
   ]
  },
  {
   "cell_type": "code",
   "execution_count": 14,
   "metadata": {
    "vscode": {
     "languageId": "javascript"
    }
   },
   "outputs": [
    {
     "name": "stdout",
     "output_type": "stream",
     "text": [
      "studentName değişkeninin değeri: Şenay\n"
     ]
    }
   ],
   "source": [
    "%%script node\n",
    "\n",
    "{\n",
    "   var studentName = \"Şenay\";\n",
    "}\n",
    "\n",
    "console.log(`studentName değişkeninin değeri: ${studentName}`);"
   ]
  },
  {
   "cell_type": "markdown",
   "metadata": {},
   "source": [
    "Yukarıdaki örnekte `studentName`, `var` keyword'ü kullanılarak tanımlanmasından ötürü global değişken özelliği taşımaktadır. Bu değişkenin bulunduğu scope global scope olarak ifade edilir. **Aynı değişkeni bir metot içerisinde tanımlamış olsaydık function scope özelliği gösterecekti. Bu durumdaki değişken ise local scope özelliğine sahip olacaktı.**\n",
    "\n",
    "Encapsulation yöntemiyle `let` veya `const` keyword'lerinden biri kullanılarak tanımlanan bir değişken bulunduğu scope içerisinde global değişken özelliği sergiler.\n",
    "\n",
    "**Örnek**\n"
   ]
  },
  {
   "cell_type": "code",
   "execution_count": 15,
   "metadata": {
    "vscode": {
     "languageId": "javascript"
    }
   },
   "outputs": [
    {
     "name": "stdout",
     "output_type": "stream",
     "text": [
      "studentName değişkeninin değeri: Şenay\n"
     ]
    }
   ],
   "source": [
    "%%script node\n",
    "\n",
    "{\n",
    "    // Ana scope\n",
    "    const studentName = \"Şenay\";\n",
    "    \n",
    "    {\n",
    "        // Alt scope\n",
    "        console.log(`studentName değişkeninin değeri: ${studentName}`);\n",
    "    }\n",
    "}\n",
    "\n",
    "/**\n",
    " * studentName değişkenine buradan erişim sağlayamayız. ReferenceError: studentName is not defined hatası ile \n",
    " * karşılaşırız. console.log kısmını comment out yapın ve sonucu gözlemleyin.\n",
    " */\n",
    "// console.log(`studentName değişkeninin değeri: ${studentName}`); \n"
   ]
  },
  {
   "cell_type": "markdown",
   "metadata": {},
   "source": [
    "Yukarıda görüleceği üzere `studentName` ana scope içerisinde tanımlanmıştır. Bu durumda alt scope(lar) için `studentName` değişkeni global değişken özelliği kazanacak ve alt scope'lar içerisinden ulaşılabilir hale gelecektir. Ancak aynı değişkene üst scope'dan ulaşmak istediğimizde hata mesajı ile karşılaşırız.\n",
    "\n",
    "**💡 `var` keyword'ü kullanılarak oluşturulan bir değişken HTML'de window nesnesine ait olacaktır. Buna rağmen encapsulation yöntemi ile `let` veya `const` keyword'ü kullanılarak oluşturulan global özellikli bir değişken window nesnesine ait olmaz. Çünkü window nesnesinde `let` ve `const` keyword'lerinin kullanımı tanımlanmamıştır.**\n",
    "\n",
    "**Örnek**\n",
    "\n",
    "```javascript\n",
    "var carName = \"Volvo\";\n",
    "\n",
    "// carName değişkenine ulaşmak için window.carName söz dizimi kullanılabilir.\n",
    "document.getElementById(\"demo\").innerHTML = \"I can display \" + window.carName;\n",
    "```\n",
    "\n",
    "Yukarıdaki `carName` değişkeninin tanımlanmasını `let` veya `const` keyword'lerinden biri ile yapmış olsaydık `undefined` hata mesajını alırdık.\n",
    "\n",
    "**Örnek**\n",
    "\n",
    "```javascript\n",
    "let carName = \"Volvo\";\n",
    "\n",
    "/**\n",
    " * carName değişkenine ulaşmak için window.carName söz dizimi kullanamayız. Çünkü let keyword'ü window nesnesinde \n",
    " * tanımlı değildir.\n",
    " */\n",
    "document.getElementById(\"demo\").innerHTML =\n",
    "  \"I can not display \" + window.carName;\n",
    "```\n"
   ]
  },
  {
   "cell_type": "markdown",
   "metadata": {},
   "source": [
    "Bunlara ek olarak bir değişken `var`, `let` veya `const` keyword'leri ile tanımlanmadan değer atanırsa (yani tanımsız bir değişken oluşturulursa) bu değişken de global değişken özelliği kazanır.\n",
    "\n",
    "**Örnek**"
   ]
  },
  {
   "cell_type": "code",
   "execution_count": 16,
   "metadata": {
    "vscode": {
     "languageId": "javascript"
    }
   },
   "outputs": [
    {
     "name": "stdout",
     "output_type": "stream",
     "text": [
      "carName değişkeninin içeriği:Volvo\n"
     ]
    }
   ],
   "source": [
    "%%script node\n",
    "\n",
    "function myFunction() {\n",
    "  carName = \"Volvo\";\n",
    "}\n",
    "\n",
    "myFunction();\n",
    "\n",
    "console.log(`carName değişkeninin içeriği:${carName}`);"
   ]
  },
  {
   "cell_type": "markdown",
   "metadata": {},
   "source": [
    "Yukarıdaki örnekte `carName` değişkenine tanımlanmadan değer atanmıştır. Bu durumda `carName` değişkeni tanımsız değişken özelliği kazanır ve değişken içeriğine erişmek için ilgili metodu çağırıp sonrasında `carName` değişkenine erişebiliriz.\n",
    "\n",
    "**⚠️ İstisna olarak JavaScript strict modda tanımsız (undeclared) değişkenler otomatik olarak global değişken olarak işlem görmez.**\n",
    "\n",
    "Bir değişken tanımlanmadan değer atanarak kullanılması önerilmez, çünkü değişkenin kapsamı belirsiz olabilir ve bu, beklenmedik hatalara neden olabilir. Mümkünse, değişkenleri uygun bir şekilde `var`, `let` veya `const` ile tanımlayarak kapsamlarını belirtmek daha iyi bir uygulamadır.\n"
   ]
  },
  {
   "cell_type": "markdown",
   "metadata": {},
   "source": [
    "## <a id='toc1_2_'></a>[Local Scope](#toc0_)\n",
    "\n",
    "Bir değişken bulunduğu scope dışarısında kullanılamaması ifadesi local scope terimini ifade eder. Bu bağlamda block scope ve function scope local scope özelliği taşır. Çünkü bu scope türleri içerisinde tanımlanan bir değişkene dışarıdan erişmek mümkün değildir.\n",
    "\n",
    "**Local scope kullanmamızın nedenleri:** \n",
    "\n",
    "- Bazen değişkenlerin veya verilerin güvenlik açısından korunması ve başka yerlerden ulaşılmaması gerekir. Yani değişken veya değer private olmak zorundadır. Bu durumda local scope'ları kullanırız.\n",
    "\n",
    "- Bu şekilde değişkenlerin izolasyonunu sağlarız. Böylece programımızın hatasız çalışmasına katkı sağlarız.\n",
    "\n",
    "- Local scope'lar aynı değişken isimlerinin kullanılmasına izin verir. Böylece aynı isime sahip değişkenlerin çakışma olasılığı azalır.\n",
    "\n",
    "- Hata durumlarında, local scope'lar hataların kapsam içinde izole edilmesine yardımcı olur, böylece hata ayıklama ve düzeltme süreçleri kolaylaşır.\n",
    "\n",
    "- Bir local scope içinde tanımlanan bir değişken için bellekte bir adres oluşturulur ve bu değişken, o scope'un yaşam süresi boyunca kullanılabilir. JavaScript programı local scope dışına çıktığında değişkenin çalışma süresi tamamlanır ve bellekteki adresi silinir. Böylece işlevi sona eren değişken bellekte boşuna adres kaplamaz ve JavaScript programımızın daha hızlı çalışmasını sağlar."
   ]
  },
  {
   "cell_type": "markdown",
   "metadata": {},
   "source": [
    "## <a id='toc1_3_'></a>[Özet](#toc0_)\n",
    "\n",
    "Bu bölümde JavaScript'te **_scope_** kavramını inceledik. JavaScript'te **_scope_**, bir değişkenin tanımlandığı ve erişilebildiği alanı belirtir. Üç temel scope türü bulunur: Block Scope, Function Scope ve Global Scope.\n",
    "\n",
    "- **Block Scope:** `let` ve `const` ile tanımlanan değişkenler, sadece bulundukları blok içinde geçerlidir. Bu, local ve izole bir kapsam sağlar.\n",
    "\n",
    "- **Function Scope:** Bir değişken, bir fonksiyon içinde tanımlandığında, sadece bu fonksiyon içinde geçerli olur ve dışarıdan erişilemez. Function scope da local bir kapsam sunar.\n",
    "\n",
    "- **Global Scope:** Bir değişken metodun dışında tanımlandığında global değişken özelliği kazanır ve program içinde her yerden erişilebilir. Ancak, `var` keyword'ü kullanılmadan tanımsız bir değişken oluşturulduğunda ve bu değişken daha önce tanımlanmamışsa, bu durumda bu değişken otomatik olarak global değişken olarak işlem görür. Yani, `var` kullanılmadan tanımsız bir değişken oluşturulduğunda, JavaScript bu değişkeni global scope'a ekler.\n",
    "\n",
    "Bu scope türleri, değişkenlerin güvenlik, izolasyon ve hata yönetimi açısından düzenli kullanılmasını sağlar. Scope'lar, kodun anlaşılırlığını artırır ve beklenmedik hataları önler.\n"
   ]
  }
 ],
 "metadata": {
  "kernelspec": {
   "display_name": "Python 3",
   "language": "python",
   "name": "python3"
  },
  "language_info": {
   "codemirror_mode": {
    "name": "ipython",
    "version": 3
   },
   "file_extension": ".py",
   "mimetype": "text/x-python",
   "name": "python",
   "nbconvert_exporter": "python",
   "pygments_lexer": "ipython3",
   "version": "3.10.12"
  }
 },
 "nbformat": 4,
 "nbformat_minor": 2
}
