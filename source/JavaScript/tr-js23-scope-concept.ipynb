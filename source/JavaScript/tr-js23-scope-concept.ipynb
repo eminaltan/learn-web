{
 "cells": [
  {
   "cell_type": "markdown",
   "metadata": {},
   "source": [
    "## JavaScript Scope Kavramı\n",
    "\n",
    "JavaScript'te **_scope_** kavramı bir değişkenin tanımladığı ve erişilebildiği alanı ifade eder. Bu alan bir döngü, koşul veya metottan oluşabilir. \n",
    "\n",
    "Bir scope `{}` işaretleri arasında oluşturulur.\n",
    "\n",
    "**Örnek**\n",
    "\n",
    "```javascript\n",
    "const x = 5;\n",
    "\n",
    "if (x == 5) {\n",
    "  // If koşulunda scope bu alanı tanımlar.\n",
    "}\n",
    "\n",
    "for (let i = 0; i < x; i++) {\n",
    "  // for döngüsü için scope bu alanı tanımlar.\n",
    "}\n",
    "\n",
    "function myFunction() {\n",
    "  // myFunction() fonksiyonu için scope bu alanı tanımlar.\n",
    "  console.log(x);\n",
    "}\n",
    "```\n",
    "\n",
    "**JavaScript'te 3 türde scope bulunur:**\n",
    "\n",
    "- Block scope\n",
    "\n",
    "- Function scope\n",
    "\n",
    "- Global Scope\n",
    "\n",
    "Şimdi de bu scope türlerini inceleyelim.\n"
   ]
  },
  {
   "cell_type": "markdown",
   "metadata": {},
   "source": [
    "### Block Scope\n",
    "\n",
    "2015'den (ES6) önce JavaScript'te 2 tür scope kavramı bulunmaktaydı bunlar **_global scope_** ve **_function scope_** kavramları idi. ES6 ile `let` ve `const` keyword'leri JavaScript'e entegre olmuştur. **Bu keyword'ler kullanılarak oluşturulan bir değişken bulunduğu scope dışından erişilemez ve kullanılamaz.** Bu ifade **_block scope_** kavramını oluşturur.\n",
    "\n",
    "**❗Block scope'lar aynı zamanda local scope özelliklidir. Local scope kavramına yazının ilerleyen bölümlerinde yer vereceğim.**\n",
    "\n",
    "**Örnek**\n"
   ]
  },
  {
   "cell_type": "code",
   "execution_count": 12,
   "metadata": {
    "vscode": {
     "languageId": "javascript"
    }
   },
   "outputs": [
    {
     "name": "stdout",
     "output_type": "stream",
     "text": [
      "studentName değişkeninin değeri:Betül\n"
     ]
    }
   ],
   "source": [
    "%%script node\n",
    "\n",
    "{\n",
    "    // const veya let ile tanımlanan her değişken block scope özelliğine sahiptir.\n",
    "    const studentName = \"Betül\";\n",
    "    console.log(`studentName değişkeninin değeri:${studentName}`);\n",
    "}\n"
   ]
  },
  {
   "cell_type": "markdown",
   "metadata": {},
   "source": [
    "Yukarıdaki örnekte `studentName` değişkeni block scope özelliği taşır. Bu değişkene bulunduğu scope içerisinden erişilebilir ve kullanılabilir. \n",
    "\n",
    "Şayet değişkene bulunduğu scope dışarısından ulaşmak istersek hata mesajı ile karşılaşırız.\n",
    "\n",
    "**Örnek**"
   ]
  },
  {
   "cell_type": "code",
   "execution_count": 18,
   "metadata": {
    "vscode": {
     "languageId": "javascript"
    }
   },
   "outputs": [
    {
     "name": "stdout",
     "output_type": "stream",
     "text": [
      "ReferenceError:studentName is not defined\n"
     ]
    }
   ],
   "source": [
    "%%script node\n",
    "\n",
    "{\n",
    "    const studentName = \"Betül\";\n",
    "}\n",
    "\n",
    "try{\n",
    "    /** \n",
    "     * studentName değişkenine bulunduğu scope'un dışından erişip kullanmaya çalışıyoruz. Erişemediğimiz için \n",
    "     * catch mekanizması çalışacak ve hata mesajı konsola yazdırılacaktır.\n",
    "     */\n",
    "    console.log(`studentName değişkeninin değeri:${studentName}`);\n",
    "}\n",
    "catch (error) {\n",
    "    console.log(error.name + \":\" + error.message);\n",
    "}\n",
    "\n"
   ]
  },
  {
   "cell_type": "markdown",
   "metadata": {},
   "source": [
    "Yukarıdaki örnekte `studentName` değişkenine bulunduğu scope dışarısından erişmeye ve kullanmaya çalıştık. JavaScript `studentName` değişkeninin tanımlanmadığını varsayacak ve \"ReferenceError:studentName is not defined\" hata mesajını geri döndürecektir.\n",
    "\n",
    "**💡 Block scope'lar aynı isimdeki değişkene farklı türde veriler depolamamıza imkan tanır.**\n",
    "\n",
    "**Örnek**"
   ]
  },
  {
   "cell_type": "code",
   "execution_count": 19,
   "metadata": {
    "vscode": {
     "languageId": "javascript"
    }
   },
   "outputs": [
    {
     "name": "stdout",
     "output_type": "stream",
     "text": [
      "x değişkeninin içeriği:Şenay\n",
      "x değişkeninin içeriği:279\n"
     ]
    }
   ],
   "source": [
    "%%script node\n",
    "\n",
    "{\n",
    "    // 1.Scope\n",
    "    const x = \"Şenay\";\n",
    "    console.log(`x değişkeninin içeriği:${x}`);\n",
    "}\n",
    "\n",
    "{\n",
    "    // 2.Scope\n",
    "    const x = \"279\";\n",
    "    console.log(`x değişkeninin içeriği:${x}`);\n",
    "}\n",
    "\n"
   ]
  },
  {
   "cell_type": "markdown",
   "metadata": {},
   "source": [
    "Yukarıda görüleceği üzere 1.Scope içerisindeki `x` değişkeni ile 2.Scope içerisindeki `x` değişkeninin içeriği farklı."
   ]
  },
  {
   "cell_type": "markdown",
   "metadata": {},
   "source": [
    "### Function Scope\n",
    "\n",
    "JavaScript'de bir değişkeni metot içerinde tanımlayabiliriz. Bu durumdaki değişken sadece tanımlı olduğu metot içerisinde geçerli olur yani değişkene tanımlı olduğu metot dışarısından erişemeyiz.\n",
    "\n",
    "**❗Function scope'lar aynı zamanda local scope özelliklidir. Local scope kavramına yazının ilerleyen bölümlerinde yer vereceğim.**\n",
    "\n",
    "**⚠️ Normalde `var` keyword'u kullanarak tanımlanan bir değişken global scope özelliğine sahiptir. Ancak bir metot içerisinde `var` keyword'u kullanılarak tanımlanan değişken function scope özelliği taşır. Böyle bir değişkene tanımladığı metot dışarısından ulaşılamaz.**\n",
    "\n",
    "**Örnek**\n"
   ]
  },
  {
   "cell_type": "code",
   "execution_count": 24,
   "metadata": {
    "vscode": {
     "languageId": "javascript"
    }
   },
   "outputs": [
    {
     "name": "stdout",
     "output_type": "stream",
     "text": [
      "studentName değişkeninin değeri:Şenay\n"
     ]
    }
   ],
   "source": [
    "%%script node\n",
    "\n",
    "function myFunction() {\n",
    "    var studentName = \"Şenay\";\n",
    "    \n",
    "    console.log(`studentName değişkeninin değeri:${studentName}`);\n",
    "}\n",
    "\n",
    "myFunction();"
   ]
  },
  {
   "cell_type": "markdown",
   "metadata": {},
   "source": [
    "Yukarıdaki örnekte `studentName`, `var` keyword'u kullanarak tanımlanmasına rağmen local scope özelliği taşır. Yani `studentName` değişkenine `myFunction()` dışarısından erişmeye çalıştığımızda hata mesajı alırız.\n",
    "\n",
    "**Örnek**\n"
   ]
  },
  {
   "cell_type": "code",
   "execution_count": 25,
   "metadata": {
    "vscode": {
     "languageId": "javascript"
    }
   },
   "outputs": [
    {
     "name": "stdout",
     "output_type": "stream",
     "text": [
      "ReferenceError:studentName is not defined\n"
     ]
    }
   ],
   "source": [
    "%%script node\n",
    "\n",
    "function myFunction() {\n",
    "    var studentName = \"Şenay\";\n",
    "}\n",
    "\n",
    "try {\n",
    "    // studentName değişkenine ulaşmaya çalışıyoruz.\n",
    "    console.log(`studentName değişkeninin değeri:${studentName}`);\n",
    "}\n",
    "\n",
    "catch (error) {\n",
    "    console.log(error.name + \":\" + error.message);\n",
    "}"
   ]
  },
  {
   "cell_type": "markdown",
   "metadata": {},
   "source": [
    "Yukarıda görüleceği üzere `studentName` değişkenine `myFunction()` dışından erişmeye çalıştığımızda \"ReferenceError:studentName is not defined\" hata mesajını aldık.\n",
    "\n",
    "Bu durumda bir değişken function scope içerisinde `var` `let` veya `const` keyword'lerinden biri kullanılarak tanımlanması halinde local scope özelliği gösterir.\n",
    "\n",
    "Function scope ile block scope arasındaki ayrım `var` keyword'unun kullanım şeklidir. `var` keyword'ü ile tanımlanan değişkenler function scope özelliği gösterir.\n",
    "\n",
    "**Örnek**\n",
    "\n",
    "```javascript\n",
    "function myFunction() {\n",
    "  var carName = \"Volvo\"; // Function Scope\n",
    "}\n",
    "\n",
    "function myFunction() {\n",
    "  let carName = \"Volvo\"; // Function Scope\n",
    "}\n",
    "\n",
    "function myFunction() {\n",
    "  const carName = \"Volvo\"; // Function Scope\n",
    "}\n",
    "```\n",
    "\n",
    "3 metot dışarısından da `carName` değişkenine ulaşılamaz.\n"
   ]
  },
  {
   "cell_type": "markdown",
   "metadata": {},
   "source": [
    "### Global Scope\n",
    "\n",
    "Bir değişken metodun dışında tanımlanması halinde global scope özelliği taşır. Bu türdeki değişkene program içerisinde her yerden ulaşabiliriz. \n",
    "\n",
    "**Bir değişken function scope dışında** `var` keyword'ü kullanılarak tanımlandığında global scope özelliğini kazanır.\n",
    "\n",
    "**Örnek**"
   ]
  },
  {
   "cell_type": "code",
   "execution_count": 28,
   "metadata": {
    "vscode": {
     "languageId": "javascript"
    }
   },
   "outputs": [
    {
     "name": "stdout",
     "output_type": "stream",
     "text": [
      "studentName değişkeninin değeri: Şenay\n"
     ]
    }
   ],
   "source": [
    "%%script node\n",
    "\n",
    "{\n",
    "   var studentName = \"Şenay\";\n",
    "}\n",
    "\n",
    "console.log(`studentName değişkeninin değeri: ${studentName}`);"
   ]
  },
  {
   "cell_type": "markdown",
   "metadata": {},
   "source": [
    "Encapsulation yöntemiyle `let` veya `const` keyword'lerinden biri kullanılarak tanımlanan bir değişken bulunduğu scope içerisinde global değişken özelliği sergiler.\n",
    "\n",
    "**Örnek**\n"
   ]
  },
  {
   "cell_type": "code",
   "execution_count": 34,
   "metadata": {
    "vscode": {
     "languageId": "javascript"
    }
   },
   "outputs": [
    {
     "name": "stdout",
     "output_type": "stream",
     "text": [
      "studentName değişkeninin değeri: Şenay\n"
     ]
    }
   ],
   "source": [
    "%%script node\n",
    "{\n",
    "    // Ana scope\n",
    "    const studentName = \"Şenay\";\n",
    "    \n",
    "    {\n",
    "        // Alt scope\n",
    "        console.log(`studentName değişkeninin değeri: ${studentName}`);\n",
    "    }\n",
    "}\n",
    "\n",
    "/**\n",
    " * studentName değişkenine buradan erişim sağlayamayız. ReferenceError: studentName is not defined hatası ile \n",
    " * karşılaşırız.\n",
    " */\n",
    "// console.log(`studentName değişkeninin değeri: ${studentName}`); \n"
   ]
  },
  {
   "cell_type": "markdown",
   "metadata": {},
   "source": [
    "Yukarıda görüleceği üzere `studentName` ana scope içerisinde tanımlanmıştır. Bu durumda alt scope(lar) içerisinde `studentName` değişkeni global değişken özelliği kazanacak ve alt scope'lar içerisinden ulaşılabilir hale gelecektir.\n",
    "\n",
    "Bunlara ek olarak bir değişken `var`, `let` veya `const` keyword'leri kullanılarak tanımlanmadan değer atanırsa bu değişken de global değişken özelliği kazanır.\n",
    "\n",
    "**Örnek**\n"
   ]
  },
  {
   "cell_type": "code",
   "execution_count": 47,
   "metadata": {
    "vscode": {
     "languageId": "javascript"
    }
   },
   "outputs": [
    {
     "name": "stdout",
     "output_type": "stream",
     "text": [
      "carName değişkeninin içeriği:Volvo\n"
     ]
    }
   ],
   "source": [
    "%%script node\n",
    "\n",
    "function myFunction() {\n",
    "  carName = \"Volvo\";\n",
    "}\n",
    "\n",
    "myFunction();\n",
    "\n",
    "console.log(`carName değişkeninin içeriği:${carName}`);"
   ]
  },
  {
   "cell_type": "markdown",
   "metadata": {},
   "source": [
    "Yukarıdaki örnekte `carName` değişkeni içeriğine tanımlanmadan değer atanmıştır. Bu durumda bu değişken içeriğine erişmek için ilgili metodu çağırıp sonrasında `carName` değişkenine erişebiliriz.\n",
    "\n",
    "Bir değişken tanımlanmadan değer atanarak kullanılması önerilmez, çünkü değişkenin kapsamı belirsiz olabilir ve bu, beklenmedik hatalara neden olabilir. Mümkünse, değişkenleri uygun bir şekilde `var`, `let` veya `const` ile tanımlayarak kapsamlarını belirtmek daha iyi bir uygulamadır."
   ]
  }
 ],
 "metadata": {
  "kernelspec": {
   "display_name": "Python 3",
   "language": "python",
   "name": "python3"
  },
  "language_info": {
   "codemirror_mode": {
    "name": "ipython",
    "version": 3
   },
   "file_extension": ".py",
   "mimetype": "text/x-python",
   "name": "python",
   "nbconvert_exporter": "python",
   "pygments_lexer": "ipython3",
   "version": "3.10.12"
  }
 },
 "nbformat": 4,
 "nbformat_minor": 2
}
